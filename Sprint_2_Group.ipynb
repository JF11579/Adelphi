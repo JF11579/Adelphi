{
  "nbformat": 4,
  "nbformat_minor": 0,
  "metadata": {
    "colab": {
      "name": "Sprint_2_Group.ipynb",
      "provenance": [],
      "collapsed_sections": [],
      "toc_visible": true,
      "include_colab_link": true
    },
    "kernelspec": {
      "name": "python3",
      "display_name": "Python 3"
    },
    "language_info": {
      "name": "python"
    }
  },
  "cells": [
    {
      "cell_type": "markdown",
      "metadata": {
        "id": "view-in-github",
        "colab_type": "text"
      },
      "source": [
        "<a href=\"https://colab.research.google.com/github/JF11579/Adelphi/blob/main/Sprint_2_Group.ipynb\" target=\"_parent\"><img src=\"https://colab.research.google.com/assets/colab-badge.svg\" alt=\"Open In Colab\"/></a>"
      ]
    },
    {
      "cell_type": "markdown",
      "metadata": {
        "id": "iRGVIyTeJZ5n"
      },
      "source": [
        "Gentlemen:\n",
        "Let us use this for our finished code.\n",
        "Work indivicually and then wehen someone gets a peice to work , e.g., Plotly plot, copy the code to hear."
      ]
    },
    {
      "cell_type": "code",
      "metadata": {
        "id": "4xiBswZdaWT4"
      },
      "source": [
        "# %matplotlib inline"
      ],
      "execution_count": null,
      "outputs": []
    },
    {
      "cell_type": "markdown",
      "metadata": {
        "id": "LJFeWQIyaAKJ"
      },
      "source": [
        "# Libraries"
      ]
    },
    {
      "cell_type": "code",
      "metadata": {
        "id": "C0hnqOdgJUwt"
      },
      "source": [
        "import pandas as pd\n",
        "import numpy\n",
        "import numpy as np\n",
        "import seaborn as sns\n",
        "%matplotlib inline\n",
        "import matplotlib.pyplot as plt\n",
        "import seaborn\n",
        "import calendar\n",
        "from sklearn.linear_model import LinearRegression\n",
        "from sklearn.model_selection import train_test_split #Split data in testing and training\n",
        "from sklearn import metrics"
      ],
      "execution_count": 5,
      "outputs": []
    },
    {
      "cell_type": "markdown",
      "metadata": {
        "id": "Qo49AEQmaSOB"
      },
      "source": [
        "# Options"
      ]
    },
    {
      "cell_type": "code",
      "metadata": {
        "id": "Sz9hDWfIZDwP"
      },
      "source": [
        "# Get rid of scinetific notation\n",
        "#pd.set_option('display.float_format', lambda x: '%.8f' % x)\n",
        "\n",
        "# to revert\n",
        "#pd.reset_option('display.float_format')"
      ],
      "execution_count": null,
      "outputs": []
    },
    {
      "cell_type": "markdown",
      "metadata": {
        "id": "uCze-7LZaMgm"
      },
      "source": [
        "# Data"
      ]
    },
    {
      "cell_type": "code",
      "metadata": {
        "id": "V9R34WRraN4r"
      },
      "source": [
        "Porc_Op = pd.read_csv('/content/Porcelana_OP_adelphi_2021_SCALED.csv')\n",
        "#Porc_Op = pd.read_csv('/content/Porcelana_OP_adelphi_2021_SCALED.csv')\n",
        "Porc_Op.head(2) \n"
      ],
      "execution_count": null,
      "outputs": []
    },
    {
      "cell_type": "code",
      "metadata": {
        "id": "JHgOb51lbY87"
      },
      "source": [
        "Porc_Op.tail(5)"
      ],
      "execution_count": null,
      "outputs": []
    },
    {
      "cell_type": "code",
      "metadata": {
        "colab": {
          "base_uri": "https://localhost:8080/"
        },
        "id": "mta-4CKobcoP",
        "outputId": "17df3335-cb73-4f08-f9b7-baea22b01bdc"
      },
      "source": [
        "Porc_Op.shape"
      ],
      "execution_count": null,
      "outputs": [
        {
          "output_type": "execute_result",
          "data": {
            "text/plain": [
              "(54, 943)"
            ]
          },
          "metadata": {},
          "execution_count": 8
        }
      ]
    },
    {
      "cell_type": "code",
      "metadata": {
        "colab": {
          "base_uri": "https://localhost:8080/"
        },
        "id": "7nVnigTzbfGO",
        "outputId": "d6ca1c7c-5378-46aa-91d0-e042a6773b10"
      },
      "source": [
        "Porc_Op.dtypes"
      ],
      "execution_count": null,
      "outputs": [
        {
          "output_type": "execute_result",
          "data": {
            "text/plain": [
              "date                     object\n",
              "Quantity                float64\n",
              "Seasonal                float64\n",
              "Consumer_loans          float64\n",
              "Construction_lic_unt    float64\n",
              "                         ...   \n",
              "Treasury_loanlag_12     float64\n",
              "Housing_loanlag_12      float64\n",
              "holiday                   int64\n",
              "sunday                    int64\n",
              "working_day               int64\n",
              "Length: 943, dtype: object"
            ]
          },
          "metadata": {},
          "execution_count": 12
        }
      ]
    },
    {
      "cell_type": "code",
      "metadata": {
        "id": "XpOHByrJbjG-"
      },
      "source": [
        "#Which col is the index?  \n",
        "# JDS thought a different col was the index \n",
        "#and they said that caused athem a lot of work.\n",
        "\n",
        "Porc_Op.index()"
      ],
      "execution_count": null,
      "outputs": []
    },
    {
      "cell_type": "markdown",
      "metadata": {
        "id": "iyBz16ixXy5n"
      },
      "source": [
        "#Now subset Quantity and the Credit Features"
      ]
    },
    {
      "cell_type": "markdown",
      "metadata": {
        "id": "aivkHaeFW2n4"
      },
      "source": [
        "(Joe) I have this idea that I thik we nee dot do a series of pair plots we could use the sepaerate datasets as a natural way of deciding what goes in each of the seperate plots.\n",
        "\n",
        "I looked up what Features were in one of the csv files then fromteh the merged data set Juan's code led me to make I subsetted Quantity and all of th features fromthat csv."
      ]
    },
    {
      "cell_type": "code",
      "metadata": {
        "id": "M72mkb8Ub1hD"
      },
      "source": [
        "credit_subset =Porc_Op[['Quantity','Consumer_credit','Consumer_microcredit', 'Ordinary_credit',\n",
        "                         'Preferencial_credit','loan_overdrafts','Credit_card', 'Treasury_loan',\n",
        "                         'Housing_loan']]"
      ],
      "execution_count": null,
      "outputs": []
    },
    {
      "cell_type": "code",
      "metadata": {
        "colab": {
          "base_uri": "https://localhost:8080/",
          "height": 162
        },
        "id": "Q53EGzGJW1FQ",
        "outputId": "5450f85e-a66d-4e52-82f2-2c62535388f4"
      },
      "source": [
        "credit_subset.head(3)"
      ],
      "execution_count": null,
      "outputs": [
        {
          "output_type": "execute_result",
          "data": {
            "text/html": [
              "<div>\n",
              "<style scoped>\n",
              "    .dataframe tbody tr th:only-of-type {\n",
              "        vertical-align: middle;\n",
              "    }\n",
              "\n",
              "    .dataframe tbody tr th {\n",
              "        vertical-align: top;\n",
              "    }\n",
              "\n",
              "    .dataframe thead th {\n",
              "        text-align: right;\n",
              "    }\n",
              "</style>\n",
              "<table border=\"1\" class=\"dataframe\">\n",
              "  <thead>\n",
              "    <tr style=\"text-align: right;\">\n",
              "      <th></th>\n",
              "      <th>Quantity</th>\n",
              "      <th>Consumer_credit</th>\n",
              "      <th>Consumer_microcredit</th>\n",
              "      <th>Ordinary_credit</th>\n",
              "      <th>Preferencial_credit</th>\n",
              "      <th>loan_overdrafts</th>\n",
              "      <th>Credit_card</th>\n",
              "      <th>Treasury_loan</th>\n",
              "      <th>Housing_loan</th>\n",
              "    </tr>\n",
              "  </thead>\n",
              "  <tbody>\n",
              "    <tr>\n",
              "      <th>0</th>\n",
              "      <td>1.503548</td>\n",
              "      <td>3092166.066</td>\n",
              "      <td>331812.3476</td>\n",
              "      <td>4498496.510</td>\n",
              "      <td>3728949.886</td>\n",
              "      <td>5515276.146</td>\n",
              "      <td>3370234.662</td>\n",
              "      <td>225521.4428</td>\n",
              "      <td>9.077151e+05</td>\n",
              "    </tr>\n",
              "    <tr>\n",
              "      <th>1</th>\n",
              "      <td>0.076213</td>\n",
              "      <td>4515186.342</td>\n",
              "      <td>451305.4187</td>\n",
              "      <td>7087850.705</td>\n",
              "      <td>4505899.231</td>\n",
              "      <td>6331676.215</td>\n",
              "      <td>3469317.755</td>\n",
              "      <td>349373.5640</td>\n",
              "      <td>1.609027e+06</td>\n",
              "    </tr>\n",
              "    <tr>\n",
              "      <th>2</th>\n",
              "      <td>-1.346258</td>\n",
              "      <td>6326616.526</td>\n",
              "      <td>570278.7259</td>\n",
              "      <td>7736718.499</td>\n",
              "      <td>5031263.817</td>\n",
              "      <td>8189116.436</td>\n",
              "      <td>4411360.214</td>\n",
              "      <td>486325.0495</td>\n",
              "      <td>2.087283e+06</td>\n",
              "    </tr>\n",
              "  </tbody>\n",
              "</table>\n",
              "</div>"
            ],
            "text/plain": [
              "   Quantity  Consumer_credit  ...  Treasury_loan  Housing_loan\n",
              "0  1.503548      3092166.066  ...    225521.4428  9.077151e+05\n",
              "1  0.076213      4515186.342  ...    349373.5640  1.609027e+06\n",
              "2 -1.346258      6326616.526  ...    486325.0495  2.087283e+06\n",
              "\n",
              "[3 rows x 9 columns]"
            ]
          },
          "metadata": {},
          "execution_count": 5
        }
      ]
    },
    {
      "cell_type": "code",
      "metadata": {
        "colab": {
          "base_uri": "https://localhost:8080/",
          "height": 162
        },
        "id": "6Jkghm6OY6m1",
        "outputId": "4f102fef-df9e-47d1-aee5-724f716f71d3"
      },
      "source": [
        "#Note in options at the very top I surpressed scientific notation\n",
        "#change it back if you prefer.\n",
        "credit_subset.tail(3)"
      ],
      "execution_count": null,
      "outputs": [
        {
          "output_type": "execute_result",
          "data": {
            "text/html": [
              "<div>\n",
              "<style scoped>\n",
              "    .dataframe tbody tr th:only-of-type {\n",
              "        vertical-align: middle;\n",
              "    }\n",
              "\n",
              "    .dataframe tbody tr th {\n",
              "        vertical-align: top;\n",
              "    }\n",
              "\n",
              "    .dataframe thead th {\n",
              "        text-align: right;\n",
              "    }\n",
              "</style>\n",
              "<table border=\"1\" class=\"dataframe\">\n",
              "  <thead>\n",
              "    <tr style=\"text-align: right;\">\n",
              "      <th></th>\n",
              "      <th>Quantity</th>\n",
              "      <th>Consumer_credit</th>\n",
              "      <th>Consumer_microcredit</th>\n",
              "      <th>Ordinary_credit</th>\n",
              "      <th>Preferencial_credit</th>\n",
              "      <th>loan_overdrafts</th>\n",
              "      <th>Credit_card</th>\n",
              "      <th>Treasury_loan</th>\n",
              "      <th>Housing_loan</th>\n",
              "    </tr>\n",
              "  </thead>\n",
              "  <tbody>\n",
              "    <tr>\n",
              "      <th>51</th>\n",
              "      <td>0.79841006</td>\n",
              "      <td>8129448.34989000</td>\n",
              "      <td>501240.18192000</td>\n",
              "      <td>5784924.39931000</td>\n",
              "      <td>6729714.52454000</td>\n",
              "      <td>4087633.14495000</td>\n",
              "      <td>5271367.53313000</td>\n",
              "      <td>660828.32190000</td>\n",
              "      <td>2315315.88528000</td>\n",
              "    </tr>\n",
              "    <tr>\n",
              "      <th>52</th>\n",
              "      <td>-0.50289396</td>\n",
              "      <td>6333574.49347000</td>\n",
              "      <td>362509.13949000</td>\n",
              "      <td>5056129.25555000</td>\n",
              "      <td>7401186.19605000</td>\n",
              "      <td>4188024.32403000</td>\n",
              "      <td>5439582.48854000</td>\n",
              "      <td>548910.34558000</td>\n",
              "      <td>1989436.79243000</td>\n",
              "    </tr>\n",
              "    <tr>\n",
              "      <th>53</th>\n",
              "      <td>1.41610737</td>\n",
              "      <td>9191651.08896000</td>\n",
              "      <td>548634.36762000</td>\n",
              "      <td>6861119.52819000</td>\n",
              "      <td>8936970.38716000</td>\n",
              "      <td>4797926.25759000</td>\n",
              "      <td>7896086.74324000</td>\n",
              "      <td>672284.37876000</td>\n",
              "      <td>2923877.97589000</td>\n",
              "    </tr>\n",
              "  </tbody>\n",
              "</table>\n",
              "</div>"
            ],
            "text/plain": [
              "      Quantity  Consumer_credit  ...   Treasury_loan     Housing_loan\n",
              "51  0.79841006 8129448.34989000  ... 660828.32190000 2315315.88528000\n",
              "52 -0.50289396 6333574.49347000  ... 548910.34558000 1989436.79243000\n",
              "53  1.41610737 9191651.08896000  ... 672284.37876000 2923877.97589000\n",
              "\n",
              "[3 rows x 9 columns]"
            ]
          },
          "metadata": {},
          "execution_count": 8
        }
      ]
    },
    {
      "cell_type": "code",
      "metadata": {
        "colab": {
          "base_uri": "https://localhost:8080/",
          "height": 495
        },
        "id": "jrS7ROckZScS",
        "outputId": "40fc80f9-e6fb-4bbf-99c9-971f39a8610a"
      },
      "source": [
        "plt.figure(figsize=(8,6))\n",
        "mask = np.triu(np.ones_like(credit_subset.corr(), dtype=np.bool))\n",
        "sns.heatmap(data = credit_subset.corr(), annot= True, linewidths=.5, cmap='Blues', mask=mask,  annot_kws={\"fontsize\":12})"
      ],
      "execution_count": null,
      "outputs": [
        {
          "output_type": "execute_result",
          "data": {
            "text/plain": [
              "<matplotlib.axes._subplots.AxesSubplot at 0x7fcd4a6b96d0>"
            ]
          },
          "metadata": {},
          "execution_count": 12
        },
        {
          "output_type": "display_data",
          "data": {
            "image/png": "[encoded data removed]",
            "text/plain": [
              "<Figure size 576x432 with 2 Axes>"
            ]
          },
          "metadata": {
            "needs_background": "light"
          }
        }
      ]
    },
    {
      "cell_type": "markdown",
      "metadata": {
        "id": "sd_mfhbolv--"
      },
      "source": [
        "### Multi Linear Regression: Dear Juan, Having Neg Quatities precludes some feature selection methods.  Perhaps you could mess mess withthe data some other way, ^3, then square root , then multiply it and divdie it , so that it is annoymized and then we could scale the data from 0:1 ? \n",
        "\n"
      ]
    },
    {
      "cell_type": "code",
      "metadata": {
        "id": "AXdqWHXVl6un"
      },
      "source": [
        "Porc_Op = pd.read_csv('/content/Porcelana_OP_adelphi_2021_SCALED.csv')\n",
        "Porc_Op.head(3) "
      ],
      "execution_count": null,
      "outputs": []
    },
    {
      "cell_type": "code",
      "metadata": {
        "id": "6-M85T42aCG4"
      },
      "source": [
        "corr_data = Porc_Op"
      ],
      "execution_count": 63,
      "outputs": []
    },
    {
      "cell_type": "code",
      "metadata": {
        "id": "fg0N3wDVXMnH"
      },
      "source": [
        "corr_data['Date_2'] = corr_data.date"
      ],
      "execution_count": 64,
      "outputs": []
    },
    {
      "cell_type": "code",
      "metadata": {
        "id": "emGP5_QwXMjg"
      },
      "source": [
        "# Move the date column back to being the index\n",
        "corr_data.set_index('date', inplace= True)"
      ],
      "execution_count": 65,
      "outputs": []
    },
    {
      "cell_type": "code",
      "metadata": {
        "id": "TEgcubjHXMgH"
      },
      "source": [
        "corr_data.head(5)"
      ],
      "execution_count": null,
      "outputs": []
    },
    {
      "cell_type": "code",
      "metadata": {
        "id": "Tavhuvs4XMcW"
      },
      "source": [
        "corr_data.tail(5)"
      ],
      "execution_count": null,
      "outputs": []
    },
    {
      "cell_type": "markdown",
      "metadata": {
        "id": "s48N2pXlb3aw"
      },
      "source": [
        "# Data Split"
      ]
    },
    {
      "cell_type": "code",
      "metadata": {
        "id": "5Th5-f7Nl6ru"
      },
      "source": [
        "corr_data_select = corr_data[['Quantity', 'Gray_cement_dispatch_comercial', 'Gray_cement_dispatch_other','Gray_cement_dispatch','Gray_cement_prod','Housing_total_sales_SI',\n",
        "               'holiday','Construction_lic_untlag_4' ,'Imports_quantitylag_4','Construction_lic_arealag_4','Construction_lic_area_NO_SIlag_4']]"
      ],
      "execution_count": 68,
      "outputs": []
    },
    {
      "cell_type": "code",
      "metadata": {
        "id": "WM9E6h51l6ow"
      },
      "source": [
        "corr_data_select.head(3)"
      ],
      "execution_count": null,
      "outputs": []
    },
    {
      "cell_type": "code",
      "metadata": {
        "id": "iyQdtSKlcDbS"
      },
      "source": [
        "feature_cols =  corr_data[['Gray_cement_dispatch_comercial', 'Gray_cement_dispatch_other','Gray_cement_dispatch','Gray_cement_prod','Housing_total_sales_SI',\n",
        "               'Construction_lic_untlag_4' ,'Imports_quantitylag_4','Construction_lic_arealag_4','Construction_lic_area_NO_SIlag_4','holiday']]\n"
      ],
      "execution_count": 71,
      "outputs": []
    },
    {
      "cell_type": "code",
      "metadata": {
        "colab": {
          "base_uri": "https://localhost:8080/",
          "height": 194
        },
        "id": "Tmpe0Wu-cDTx",
        "outputId": "1ece838f-b445-46ee-8a16-b89d0cb99fdb"
      },
      "source": [
        "feature_cols =  corr_data[['Gray_cement_dispatch_comercial', 'Gray_cement_dispatch_other','Gray_cement_dispatch','Gray_cement_prod','Housing_total_sales_SI',\n",
        "               'Construction_lic_untlag_4' ,'Imports_quantitylag_4','Construction_lic_arealag_4','Construction_lic_area_NO_SIlag_4','holiday']]\n",
        "feature_cols.head(2)"
      ],
      "execution_count": 74,
      "outputs": [
        {
          "output_type": "execute_result",
          "data": {
            "text/html": [
              "<div>\n",
              "<style scoped>\n",
              "    .dataframe tbody tr th:only-of-type {\n",
              "        vertical-align: middle;\n",
              "    }\n",
              "\n",
              "    .dataframe tbody tr th {\n",
              "        vertical-align: top;\n",
              "    }\n",
              "\n",
              "    .dataframe thead th {\n",
              "        text-align: right;\n",
              "    }\n",
              "</style>\n",
              "<table border=\"1\" class=\"dataframe\">\n",
              "  <thead>\n",
              "    <tr style=\"text-align: right;\">\n",
              "      <th></th>\n",
              "      <th>Gray_cement_dispatch_comercial</th>\n",
              "      <th>Gray_cement_dispatch_other</th>\n",
              "      <th>Gray_cement_dispatch</th>\n",
              "      <th>Gray_cement_prod</th>\n",
              "      <th>Housing_total_sales_SI</th>\n",
              "      <th>Construction_lic_untlag_4</th>\n",
              "      <th>Imports_quantitylag_4</th>\n",
              "      <th>Construction_lic_arealag_4</th>\n",
              "      <th>Construction_lic_area_NO_SIlag_4</th>\n",
              "      <th>holiday</th>\n",
              "    </tr>\n",
              "    <tr>\n",
              "      <th>date</th>\n",
              "      <th></th>\n",
              "      <th></th>\n",
              "      <th></th>\n",
              "      <th></th>\n",
              "      <th></th>\n",
              "      <th></th>\n",
              "      <th></th>\n",
              "      <th></th>\n",
              "      <th></th>\n",
              "      <th></th>\n",
              "    </tr>\n",
              "  </thead>\n",
              "  <tbody>\n",
              "    <tr>\n",
              "      <th>2017-01-01</th>\n",
              "      <td>502084.8330</td>\n",
              "      <td>45269.5875</td>\n",
              "      <td>913190.407</td>\n",
              "      <td>897063.518</td>\n",
              "      <td>9603.0</td>\n",
              "      <td>18579.0</td>\n",
              "      <td>51394.0</td>\n",
              "      <td>1736453.0</td>\n",
              "      <td>1207364.0</td>\n",
              "      <td>1</td>\n",
              "    </tr>\n",
              "    <tr>\n",
              "      <th>2017-02-01</th>\n",
              "      <td>530826.1625</td>\n",
              "      <td>49050.6025</td>\n",
              "      <td>1007968.299</td>\n",
              "      <td>1025704.960</td>\n",
              "      <td>9034.0</td>\n",
              "      <td>14453.0</td>\n",
              "      <td>71761.0</td>\n",
              "      <td>1533718.0</td>\n",
              "      <td>1262351.0</td>\n",
              "      <td>0</td>\n",
              "    </tr>\n",
              "  </tbody>\n",
              "</table>\n",
              "</div>"
            ],
            "text/plain": [
              "            Gray_cement_dispatch_comercial  ...  holiday\n",
              "date                                        ...         \n",
              "2017-01-01                     502084.8330  ...        1\n",
              "2017-02-01                     530826.1625  ...        0\n",
              "\n",
              "[2 rows x 10 columns]"
            ]
          },
          "metadata": {},
          "execution_count": 74
        }
      ]
    },
    {
      "cell_type": "code",
      "metadata": {
        "colab": {
          "base_uri": "https://localhost:8080/"
        },
        "id": "E1KD4NAbcDQL",
        "outputId": "eafe1369-e43f-4a20-a26c-34d778dd43ca"
      },
      "source": [
        "X = feature_cols\n",
        "len(X)"
      ],
      "execution_count": 79,
      "outputs": [
        {
          "output_type": "execute_result",
          "data": {
            "text/plain": [
              "54"
            ]
          },
          "metadata": {},
          "execution_count": 79
        }
      ]
    },
    {
      "cell_type": "code",
      "metadata": {
        "colab": {
          "base_uri": "https://localhost:8080/"
        },
        "id": "0Cl3o6XddPHd",
        "outputId": "c5ea65dd-e0a8-4319-f431-d8dd0e751429"
      },
      "source": [
        "y = corr_data_select['Quantity']\n",
        "len(y)"
      ],
      "execution_count": 80,
      "outputs": [
        {
          "output_type": "execute_result",
          "data": {
            "text/plain": [
              "54"
            ]
          },
          "metadata": {},
          "execution_count": 80
        }
      ]
    },
    {
      "cell_type": "markdown",
      "metadata": {
        "id": "SOY1WMxNdZ_-"
      },
      "source": [
        "### Now we have the independent, the X featureas and the y , dependent feature, now weirdly , we feed python 2 dataframes simultaneoulsy, X & y and tell it to place 80% of x in one bin , 20% in test bin, place 80% of y in one bin...."
      ]
    },
    {
      "cell_type": "code",
      "metadata": {
        "id": "30Epxjr18XOz"
      },
      "source": [
        "X_train, X_test, y_train, y_test = train_test_split(X, y, test_size=0.2, random_state=5)"
      ],
      "execution_count": 81,
      "outputs": []
    },
    {
      "cell_type": "code",
      "metadata": {
        "colab": {
          "base_uri": "https://localhost:8080/"
        },
        "id": "-uAS6fSycDMZ",
        "outputId": "fbbeb6d4-13b0-495f-88ac-8c6b31a82df2"
      },
      "source": [
        "LinearReg = LinearRegression()  \n",
        "LinearReg.fit(X_train, y_train)"
      ],
      "execution_count": 82,
      "outputs": [
        {
          "output_type": "execute_result",
          "data": {
            "text/plain": [
              "LinearRegression(copy_X=True, fit_intercept=True, n_jobs=None, normalize=False)"
            ]
          },
          "metadata": {},
          "execution_count": 82
        }
      ]
    },
    {
      "cell_type": "code",
      "metadata": {
        "id": "jaCct45scDIy"
      },
      "source": [
        "y_pred_Train = LinearReg.predict(X_train) #Predictions on training model\n",
        "y_pred_Test  = LinearReg.predict(X_test)  #Predictions on testing model"
      ],
      "execution_count": 83,
      "outputs": []
    },
    {
      "cell_type": "code",
      "metadata": {
        "colab": {
          "base_uri": "https://localhost:8080/"
        },
        "id": "lcagq6XGcDEr",
        "outputId": "37302231-2854-4582-bf00-59e7d1049cae"
      },
      "source": [
        "print('Intercept:',LinearReg.intercept_)\n",
        "print('Coefficients:', LinearReg.coef_)"
      ],
      "execution_count": 84,
      "outputs": [
        {
          "output_type": "stream",
          "name": "stdout",
          "text": [
            "Intercept: -5.128641121054631\n",
            "Coefficients: [ 9.24599694e-07  2.92693248e-05  3.86489693e-06 -2.06659778e-06\n",
            "  8.37626098e-05 -9.13152347e-05 -5.99704007e-06  2.56642934e-06\n",
            " -1.29322556e-06 -6.91645279e-02]\n"
          ]
        }
      ]
    },
    {
      "cell_type": "code",
      "metadata": {
        "colab": {
          "base_uri": "https://localhost:8080/",
          "height": 355
        },
        "id": "jCCXdLaWhKht",
        "outputId": "fe8e4891-d013-4554-d49c-10454f7045c3"
      },
      "source": [
        "pd.DataFrame({\"Feature\":X_train.columns.tolist(),\"Coefficients\": LinearReg.coef_[0]})"
      ],
      "execution_count": 87,
      "outputs": [
        {
          "output_type": "execute_result",
          "data": {
            "text/html": [
              "<div>\n",
              "<style scoped>\n",
              "    .dataframe tbody tr th:only-of-type {\n",
              "        vertical-align: middle;\n",
              "    }\n",
              "\n",
              "    .dataframe tbody tr th {\n",
              "        vertical-align: top;\n",
              "    }\n",
              "\n",
              "    .dataframe thead th {\n",
              "        text-align: right;\n",
              "    }\n",
              "</style>\n",
              "<table border=\"1\" class=\"dataframe\">\n",
              "  <thead>\n",
              "    <tr style=\"text-align: right;\">\n",
              "      <th></th>\n",
              "      <th>Feature</th>\n",
              "      <th>Coefficients</th>\n",
              "    </tr>\n",
              "  </thead>\n",
              "  <tbody>\n",
              "    <tr>\n",
              "      <th>0</th>\n",
              "      <td>Gray_cement_dispatch_comercial</td>\n",
              "      <td>9.245997e-07</td>\n",
              "    </tr>\n",
              "    <tr>\n",
              "      <th>1</th>\n",
              "      <td>Gray_cement_dispatch_other</td>\n",
              "      <td>9.245997e-07</td>\n",
              "    </tr>\n",
              "    <tr>\n",
              "      <th>2</th>\n",
              "      <td>Gray_cement_dispatch</td>\n",
              "      <td>9.245997e-07</td>\n",
              "    </tr>\n",
              "    <tr>\n",
              "      <th>3</th>\n",
              "      <td>Gray_cement_prod</td>\n",
              "      <td>9.245997e-07</td>\n",
              "    </tr>\n",
              "    <tr>\n",
              "      <th>4</th>\n",
              "      <td>Housing_total_sales_SI</td>\n",
              "      <td>9.245997e-07</td>\n",
              "    </tr>\n",
              "    <tr>\n",
              "      <th>5</th>\n",
              "      <td>Construction_lic_untlag_4</td>\n",
              "      <td>9.245997e-07</td>\n",
              "    </tr>\n",
              "    <tr>\n",
              "      <th>6</th>\n",
              "      <td>Imports_quantitylag_4</td>\n",
              "      <td>9.245997e-07</td>\n",
              "    </tr>\n",
              "    <tr>\n",
              "      <th>7</th>\n",
              "      <td>Construction_lic_arealag_4</td>\n",
              "      <td>9.245997e-07</td>\n",
              "    </tr>\n",
              "    <tr>\n",
              "      <th>8</th>\n",
              "      <td>Construction_lic_area_NO_SIlag_4</td>\n",
              "      <td>9.245997e-07</td>\n",
              "    </tr>\n",
              "    <tr>\n",
              "      <th>9</th>\n",
              "      <td>holiday</td>\n",
              "      <td>9.245997e-07</td>\n",
              "    </tr>\n",
              "  </tbody>\n",
              "</table>\n",
              "</div>"
            ],
            "text/plain": [
              "                            Feature  Coefficients\n",
              "0    Gray_cement_dispatch_comercial  9.245997e-07\n",
              "1        Gray_cement_dispatch_other  9.245997e-07\n",
              "2              Gray_cement_dispatch  9.245997e-07\n",
              "3                  Gray_cement_prod  9.245997e-07\n",
              "4            Housing_total_sales_SI  9.245997e-07\n",
              "5         Construction_lic_untlag_4  9.245997e-07\n",
              "6             Imports_quantitylag_4  9.245997e-07\n",
              "7        Construction_lic_arealag_4  9.245997e-07\n",
              "8  Construction_lic_area_NO_SIlag_4  9.245997e-07\n",
              "9                           holiday  9.245997e-07"
            ]
          },
          "metadata": {},
          "execution_count": 87
        }
      ]
    },
    {
      "cell_type": "code",
      "metadata": {
        "colab": {
          "base_uri": "https://localhost:8080/",
          "height": 294
        },
        "id": "FQdcjFF9euXl",
        "outputId": "0ce01567-4544-41b9-8c72-8fe3efeef712"
      },
      "source": [
        "#Two plots togheter\n",
        "\n",
        "fig, ax = plt.subplots(ncols=2, figsize=(10,4))\n",
        "\n",
        "ax[0].scatter(y_train, y_pred_Train)\n",
        "ax[0].set_ylim(0,2)\n",
        "ax[0].set_xlim(0,2)\n",
        "ax[0].grid()\n",
        "ax[0].set_xlabel('y')\n",
        "ax[0].set_ylabel('yhat')\n",
        "ax[0].set_title('Training Set')\n",
        "\n",
        "\n",
        "ax[1].scatter(y_test, y_pred_Test)\n",
        "ax[1].set_ylim(0,2)\n",
        "ax[1].set_xlim(0,2)\n",
        "ax[1].grid()\n",
        "ax[1].set_xlabel('y')\n",
        "ax[1].set_ylabel('yhat')\n",
        "ax[1].set_title('Testing Set')\n",
        "plt.show()"
      ],
      "execution_count": 85,
      "outputs": [
        {
          "output_type": "display_data",
          "data": {
            "image/png": "[encoded data removed]",
            "text/plain": [
              "<Figure size 720x288 with 2 Axes>"
            ]
          },
          "metadata": {
            "needs_background": "light"
          }
        }
      ]
    },
    {
      "cell_type": "markdown",
      "metadata": {
        "id": "tO5mBbWRfEXr"
      },
      "source": [
        "So our scatters are not inspiring but maybbe that is just he way the real world looks?  Earlier I confusedly posted a supre scatter plot.  I thought that was ours but switching btween 3 windows I mstakenly called a variable from a sklearn tutorial.\n",
        "\n",
        "So our test data R score is 0.48.  No good.  Ideas ,gentlemen?\n",
        "\n",
        "I am going to look in sklearn auto feature selection and see what is out there"
      ]
    },
    {
      "cell_type": "code",
      "metadata": {
        "colab": {
          "base_uri": "https://localhost:8080/"
        },
        "id": "JYij1Z8HeuTD",
        "outputId": "becd079e-1d06-4004-a913-ec93c5c3c9cd"
      },
      "source": [
        "print('Training Metrics:')\n",
        "print('R squared:', metrics.r2_score(y_train, y_pred_Train))\n",
        "print('Mean Absolute Error:', metrics.mean_absolute_error(y_train, y_pred_Train))  \n",
        "print('Mean Squared Error:', metrics.mean_squared_error(y_train, y_pred_Train))  \n",
        "print('Root Mean Squared Error:', np.sqrt(metrics.mean_squared_error(y_train, y_pred_Train)))\n",
        "\n",
        "print('\\nTesting Metrics:')\n",
        "print('R squared:', metrics.r2_score(y_test, y_pred_Test))\n",
        "print('Mean Absolute Error:', metrics.mean_absolute_error(y_test, y_pred_Test))  \n",
        "print('Mean Squared Error:', metrics.mean_squared_error(y_test, y_pred_Test))  \n",
        "print('Root Mean Squared Error:', np.sqrt(metrics.mean_squared_error(y_test, y_pred_Test)))"
      ],
      "execution_count": 86,
      "outputs": [
        {
          "output_type": "stream",
          "name": "stdout",
          "text": [
            "Training Metrics:\n",
            "R squared: 0.6897254404182074\n",
            "Mean Absolute Error: 0.41698903043131946\n",
            "Mean Squared Error: 0.32131769817897904\n",
            "Root Mean Squared Error: 0.5668489200651079\n",
            "\n",
            "Testing Metrics:\n",
            "R squared: 0.48929934546542353\n",
            "Mean Absolute Error: 0.4702417533600729\n",
            "Mean Squared Error: 0.42895092680143015\n",
            "Root Mean Squared Error: 0.6549434531327343\n"
          ]
        }
      ]
    },
    {
      "cell_type": "code",
      "metadata": {
        "id": "9sON3leGeuPi"
      },
      "source": [
        ""
      ],
      "execution_count": null,
      "outputs": []
    },
    {
      "cell_type": "code",
      "metadata": {
        "id": "IXB3dN1AeuLK"
      },
      "source": [
        ""
      ],
      "execution_count": null,
      "outputs": []
    },
    {
      "cell_type": "code",
      "metadata": {
        "id": "3xfW5xjueuHU"
      },
      "source": [
        ""
      ],
      "execution_count": null,
      "outputs": []
    },
    {
      "cell_type": "markdown",
      "metadata": {
        "id": "dEMegfT_Ej8D"
      },
      "source": [
        "# Simple Line Charts of Quantity v Date"
      ]
    },
    {
      "cell_type": "code",
      "metadata": {
        "id": "LS1dlWo_EpvW"
      },
      "source": [
        "Porc_Op = pd.read_csv('/content/Porcelana_OP_adelphi_2021_SCALED.csv')\n",
        "LineGraph_data = Porc_Op\n",
        "#Duplicate the date column\n",
        "# It gets appended as the last collumn\n",
        "LineGraph_data['Date_2'] = LineGraph_data.date\n",
        "# Move the date column back to being the index\n",
        "LineGraph_data.set_index('date', inplace= True)\n",
        "# Next convert Date 2 to Date time to strip out Year & Month\n",
        "LineGraph_data['Date_2'] = pd.to_datetime(LineGraph_data['Date_2'])\n",
        "#Now add Year and Month columns\n",
        "LineGraph_data['Year'] = LineGraph_data['Date_2'].dt.year\n",
        "LineGraph_data['Month'] = LineGraph_data['Date_2'].dt.month"
      ],
      "execution_count": 7,
      "outputs": []
    },
    {
      "cell_type": "code",
      "metadata": {
        "colab": {
          "base_uri": "https://localhost:8080/",
          "height": 531
        },
        "id": "GZrfiVT1F2wp",
        "outputId": "943a2cdf-ba55-490a-83a4-2456b01b7b76"
      },
      "source": [
        "plt.figure(figsize = (15,8))\n",
        "sns.lineplot(x='Year', y='Quantity', data= LineGraph_data).set_title(\"Porcelana Quantity: Year Over Year\")"
      ],
      "execution_count": 10,
      "outputs": [
        {
          "output_type": "execute_result",
          "data": {
            "text/plain": [
              "Text(0.5, 1.0, 'Porcelana Quantity: Year Over Year')"
            ]
          },
          "metadata": {},
          "execution_count": 10
        },
        {
          "output_type": "display_data",
          "data": {
            "image/png": "[encoded data removed]",
            "text/plain": [
              "<Figure size 1080x576 with 1 Axes>"
            ]
          },
          "metadata": {
            "needs_background": "light"
          }
        }
      ]
    },
    {
      "cell_type": "code",
      "metadata": {
        "colab": {
          "base_uri": "https://localhost:8080/",
          "height": 532
        },
        "id": "Pc8eytSwF2sZ",
        "outputId": "2c7a3bac-085d-4f66-e7cb-351c315d3e03"
      },
      "source": [
        "plt.figure(figsize = (15,8))\n",
        "sns.lineplot(x='Date_2', y='Quantity', data= LineGraph_data).set_title(\"Porcelana Quantity: Year Over Year\")"
      ],
      "execution_count": 11,
      "outputs": [
        {
          "output_type": "execute_result",
          "data": {
            "text/plain": [
              "Text(0.5, 1.0, 'Porcelana Quantity: Year Over Year')"
            ]
          },
          "metadata": {},
          "execution_count": 11
        },
        {
          "output_type": "display_data",
          "data": {
            "image/png": "[encoded data removed]",
            "text/plain": [
              "<Figure size 1080x576 with 1 Axes>"
            ]
          },
          "metadata": {
            "needs_background": "light"
          }
        }
      ]
    },
    {
      "cell_type": "code",
      "metadata": {
        "colab": {
          "base_uri": "https://localhost:8080/",
          "height": 531
        },
        "id": "f29DGXVCGdvV",
        "outputId": "de294cb0-0276-442e-e8ff-ae41db8ecc34"
      },
      "source": [
        "plt.figure(figsize = (15,8))\n",
        "sns.lineplot(x='Month', y='Quantity', data= LineGraph_data).set_title(\"Porcelana Quantity: Monthly: Year Over Year\")"
      ],
      "execution_count": 13,
      "outputs": [
        {
          "output_type": "execute_result",
          "data": {
            "text/plain": [
              "Text(0.5, 1.0, 'Porcelana Quantity: Year Over Year')"
            ]
          },
          "metadata": {},
          "execution_count": 13
        },
        {
          "output_type": "display_data",
          "data": {
            "image/png": "[encoded data removed]",
            "text/plain": [
              "<Figure size 1080x576 with 1 Axes>"
            ]
          },
          "metadata": {
            "needs_background": "light"
          }
        }
      ]
    },
    {
      "cell_type": "code",
      "metadata": {
        "id": "PNK8xfLWGdik"
      },
      "source": [
        ""
      ],
      "execution_count": null,
      "outputs": []
    },
    {
      "cell_type": "markdown",
      "metadata": {
        "id": "DOYtWm-yIwu3"
      },
      "source": [
        "# Box Plots"
      ]
    },
    {
      "cell_type": "markdown",
      "metadata": {
        "id": "jG-FMQKW-OJU"
      },
      "source": [
        "Boxplots\n",
        "Put the year over year sbunch together in teh same window for cpmparison. ame for Month over month"
      ]
    },
    {
      "cell_type": "markdown",
      "metadata": {
        "id": "fH57DgEX-RN6"
      },
      "source": [
        "Create new column that is date.  \n",
        "\n",
        "1. convert the index to a column\n",
        "\n",
        "2. copy the column (now we have 2 of the same)\n",
        "\n",
        "3. move one of them back to being the index again.  ( now sure why we need the index to be dates but donet wat to find out either)"
      ]
    },
    {
      "cell_type": "code",
      "metadata": {
        "id": "nrIWOd8ttRpN"
      },
      "source": [
        "Porc_Op = pd.read_csv('/content/Porcelana_OP_adelphi_2021_SCALED.csv')\n",
        "Porc_Op.head(3) "
      ],
      "execution_count": null,
      "outputs": []
    },
    {
      "cell_type": "code",
      "metadata": {
        "id": "bEq2Ar_ttRlo"
      },
      "source": [
        "Boxplot_data = Porc_Op"
      ],
      "execution_count": 5,
      "outputs": []
    },
    {
      "cell_type": "code",
      "metadata": {
        "id": "7uycCtXPtRic"
      },
      "source": [
        "Boxplot_data.head(3)"
      ],
      "execution_count": null,
      "outputs": []
    },
    {
      "cell_type": "code",
      "metadata": {
        "id": "p4sy7w57tRfW"
      },
      "source": [
        "#Duplicate the date column\n",
        "# It gets appended as the last collumn\n",
        "\n",
        "Boxplot_data['Date_2'] = Boxplot_data.date"
      ],
      "execution_count": 7,
      "outputs": []
    },
    {
      "cell_type": "code",
      "metadata": {
        "colab": {
          "base_uri": "https://localhost:8080/",
          "height": 255
        },
        "id": "z4j_XRn9tRcd",
        "outputId": "25703e16-e981-4220-9801-bc3a564c41ab"
      },
      "source": [
        "Boxplot_data.head(3)"
      ],
      "execution_count": 8,
      "outputs": [
        {
          "output_type": "execute_result",
          "data": {
            "text/html": [
              "<div>\n",
              "<style scoped>\n",
              "    .dataframe tbody tr th:only-of-type {\n",
              "        vertical-align: middle;\n",
              "    }\n",
              "\n",
              "    .dataframe tbody tr th {\n",
              "        vertical-align: top;\n",
              "    }\n",
              "\n",
              "    .dataframe thead th {\n",
              "        text-align: right;\n",
              "    }\n",
              "</style>\n",
              "<table border=\"1\" class=\"dataframe\">\n",
              "  <thead>\n",
              "    <tr style=\"text-align: right;\">\n",
              "      <th></th>\n",
              "      <th>date</th>\n",
              "      <th>Quantity</th>\n",
              "      <th>Seasonal</th>\n",
              "      <th>Consumer_loans</th>\n",
              "      <th>Construction_lic_unt</th>\n",
              "      <th>Construction_lic_area</th>\n",
              "      <th>Construction_lic_unt_SI</th>\n",
              "      <th>Construction_lic_unt_NO_SI</th>\n",
              "      <th>Construction_lic_area_SI</th>\n",
              "      <th>Construction_lic_area_NO_SI</th>\n",
              "      <th>Gray_cement_prod</th>\n",
              "      <th>Gray_cement_dispatch</th>\n",
              "      <th>Gray_cement_dispatch_Factory</th>\n",
              "      <th>Gray_cement_dispatch_comercial</th>\n",
              "      <th>Gray_cement_dispatch_contractor</th>\n",
              "      <th>Gray_cement_dispatch_other</th>\n",
              "      <th>DTF(interest_rate)</th>\n",
              "      <th>GDP_Constr</th>\n",
              "      <th>GDP_Total</th>\n",
              "      <th>Inflation</th>\n",
              "      <th>USD_exchange</th>\n",
              "      <th>Oil-brent</th>\n",
              "      <th>Oil_WTI</th>\n",
              "      <th>ISE</th>\n",
              "      <th>ICC</th>\n",
              "      <th>IEC</th>\n",
              "      <th>ICE</th>\n",
              "      <th>Unemployment%</th>\n",
              "      <th>RADAR_Constr</th>\n",
              "      <th>RADAR_Rev</th>\n",
              "      <th>RADAR_Toilets</th>\n",
              "      <th>RADAR_HomeAppliance</th>\n",
              "      <th>RADAR_Paint</th>\n",
              "      <th>RADAR_Furniture</th>\n",
              "      <th>RADAR_Tools</th>\n",
              "      <th>RADAR_Elect</th>\n",
              "      <th>RADAR_Plumbing</th>\n",
              "      <th>RADAR_Wood</th>\n",
              "      <th>RADAR_Supply</th>\n",
              "      <th>RADAR_Remodel</th>\n",
              "      <th>...</th>\n",
              "      <th>loan_overdraftslag_8</th>\n",
              "      <th>Credit_cardlag_8</th>\n",
              "      <th>Treasury_loanlag_8</th>\n",
              "      <th>Housing_loanlag_8</th>\n",
              "      <th>Consumer_creditlag_9</th>\n",
              "      <th>Consumer_microcreditlag_9</th>\n",
              "      <th>Ordinary_creditlag_9</th>\n",
              "      <th>Preferencial_creditlag_9</th>\n",
              "      <th>loan_overdraftslag_9</th>\n",
              "      <th>Credit_cardlag_9</th>\n",
              "      <th>Treasury_loanlag_9</th>\n",
              "      <th>Housing_loanlag_9</th>\n",
              "      <th>Consumer_creditlag_10</th>\n",
              "      <th>Consumer_microcreditlag_10</th>\n",
              "      <th>Ordinary_creditlag_10</th>\n",
              "      <th>Preferencial_creditlag_10</th>\n",
              "      <th>loan_overdraftslag_10</th>\n",
              "      <th>Credit_cardlag_10</th>\n",
              "      <th>Treasury_loanlag_10</th>\n",
              "      <th>Housing_loanlag_10</th>\n",
              "      <th>Consumer_creditlag_11</th>\n",
              "      <th>Consumer_microcreditlag_11</th>\n",
              "      <th>Ordinary_creditlag_11</th>\n",
              "      <th>Preferencial_creditlag_11</th>\n",
              "      <th>loan_overdraftslag_11</th>\n",
              "      <th>Credit_cardlag_11</th>\n",
              "      <th>Treasury_loanlag_11</th>\n",
              "      <th>Housing_loanlag_11</th>\n",
              "      <th>Consumer_creditlag_12</th>\n",
              "      <th>Consumer_microcreditlag_12</th>\n",
              "      <th>Ordinary_creditlag_12</th>\n",
              "      <th>Preferencial_creditlag_12</th>\n",
              "      <th>loan_overdraftslag_12</th>\n",
              "      <th>Credit_cardlag_12</th>\n",
              "      <th>Treasury_loanlag_12</th>\n",
              "      <th>Housing_loanlag_12</th>\n",
              "      <th>holiday</th>\n",
              "      <th>sunday</th>\n",
              "      <th>working_day</th>\n",
              "      <th>Date_2</th>\n",
              "    </tr>\n",
              "  </thead>\n",
              "  <tbody>\n",
              "    <tr>\n",
              "      <th>0</th>\n",
              "      <td>2017-01-01</td>\n",
              "      <td>1.503548</td>\n",
              "      <td>0.699923</td>\n",
              "      <td>112579.4297</td>\n",
              "      <td>11303.0</td>\n",
              "      <td>1185131.0</td>\n",
              "      <td>3587.0</td>\n",
              "      <td>7716.0</td>\n",
              "      <td>229478.0</td>\n",
              "      <td>955653.0</td>\n",
              "      <td>897063.518</td>\n",
              "      <td>913190.407</td>\n",
              "      <td>194276.0200</td>\n",
              "      <td>502084.8330</td>\n",
              "      <td>171559.9665</td>\n",
              "      <td>45269.5875</td>\n",
              "      <td>0.0694</td>\n",
              "      <td>14753.34784</td>\n",
              "      <td>206242.568</td>\n",
              "      <td>5.47</td>\n",
              "      <td>2944.65</td>\n",
              "      <td>52.19</td>\n",
              "      <td>52.81</td>\n",
              "      <td>102.548972</td>\n",
              "      <td>-30.2</td>\n",
              "      <td>-28.3</td>\n",
              "      <td>-33.1</td>\n",
              "      <td>11.733267</td>\n",
              "      <td>1.044525e+11</td>\n",
              "      <td>1.323489e+11</td>\n",
              "      <td>1.727682e+11</td>\n",
              "      <td>1.050914e+11</td>\n",
              "      <td>8.847567e+10</td>\n",
              "      <td>8.354725e+10</td>\n",
              "      <td>5.008444e+10</td>\n",
              "      <td>9.372000e+10</td>\n",
              "      <td>3.037115e+10</td>\n",
              "      <td>3.136015e+10</td>\n",
              "      <td>1.585430e+11</td>\n",
              "      <td>1.050763e+12</td>\n",
              "      <td>...</td>\n",
              "      <td>6402426.269</td>\n",
              "      <td>3390803.016</td>\n",
              "      <td>550883.0739</td>\n",
              "      <td>1302564.560</td>\n",
              "      <td>4680431.000</td>\n",
              "      <td>460632.0000</td>\n",
              "      <td>5702443.000</td>\n",
              "      <td>4657354.000</td>\n",
              "      <td>7012296.000</td>\n",
              "      <td>3283417.000</td>\n",
              "      <td>549789.0000</td>\n",
              "      <td>1454672.000</td>\n",
              "      <td>4941981.754</td>\n",
              "      <td>531850.1926</td>\n",
              "      <td>7315235.649</td>\n",
              "      <td>6120086.089</td>\n",
              "      <td>8140200.383</td>\n",
              "      <td>3814229.013</td>\n",
              "      <td>632387.5921</td>\n",
              "      <td>1627959.289</td>\n",
              "      <td>4068020.900</td>\n",
              "      <td>438682.2679</td>\n",
              "      <td>6513619.182</td>\n",
              "      <td>6137144.374</td>\n",
              "      <td>6675101.294</td>\n",
              "      <td>2989980.729</td>\n",
              "      <td>483448.3473</td>\n",
              "      <td>1298811.962</td>\n",
              "      <td>3106784.500</td>\n",
              "      <td>386289.5525</td>\n",
              "      <td>4875376.339</td>\n",
              "      <td>4791146.877</td>\n",
              "      <td>5996088.922</td>\n",
              "      <td>3013612.505</td>\n",
              "      <td>470541.3290</td>\n",
              "      <td>1093819.181</td>\n",
              "      <td>1</td>\n",
              "      <td>5</td>\n",
              "      <td>25</td>\n",
              "      <td>2017-01-01</td>\n",
              "    </tr>\n",
              "    <tr>\n",
              "      <th>1</th>\n",
              "      <td>2017-02-01</td>\n",
              "      <td>0.076213</td>\n",
              "      <td>0.316156</td>\n",
              "      <td>113438.0949</td>\n",
              "      <td>16187.0</td>\n",
              "      <td>1590979.0</td>\n",
              "      <td>4659.0</td>\n",
              "      <td>11528.0</td>\n",
              "      <td>272961.0</td>\n",
              "      <td>1318018.0</td>\n",
              "      <td>1025704.960</td>\n",
              "      <td>1007968.299</td>\n",
              "      <td>228359.8390</td>\n",
              "      <td>530826.1625</td>\n",
              "      <td>199731.6950</td>\n",
              "      <td>49050.6025</td>\n",
              "      <td>0.0678</td>\n",
              "      <td>14753.34784</td>\n",
              "      <td>206242.568</td>\n",
              "      <td>5.18</td>\n",
              "      <td>2881.68</td>\n",
              "      <td>53.40</td>\n",
              "      <td>54.01</td>\n",
              "      <td>102.919033</td>\n",
              "      <td>-24.3</td>\n",
              "      <td>-19.9</td>\n",
              "      <td>-31.0</td>\n",
              "      <td>10.504292</td>\n",
              "      <td>1.574855e+11</td>\n",
              "      <td>8.351517e+10</td>\n",
              "      <td>1.096908e+11</td>\n",
              "      <td>8.252536e+10</td>\n",
              "      <td>8.582517e+10</td>\n",
              "      <td>1.522091e+11</td>\n",
              "      <td>5.056706e+10</td>\n",
              "      <td>6.034851e+10</td>\n",
              "      <td>2.138243e+10</td>\n",
              "      <td>2.216364e+10</td>\n",
              "      <td>2.104634e+11</td>\n",
              "      <td>1.036176e+12</td>\n",
              "      <td>...</td>\n",
              "      <td>7930536.312</td>\n",
              "      <td>4347164.930</td>\n",
              "      <td>677598.1836</td>\n",
              "      <td>1864166.572</td>\n",
              "      <td>4353892.017</td>\n",
              "      <td>433679.7772</td>\n",
              "      <td>5854575.608</td>\n",
              "      <td>4445890.861</td>\n",
              "      <td>6402426.269</td>\n",
              "      <td>3390803.016</td>\n",
              "      <td>550883.0739</td>\n",
              "      <td>1302564.560</td>\n",
              "      <td>4680431.000</td>\n",
              "      <td>460632.0000</td>\n",
              "      <td>5702443.000</td>\n",
              "      <td>4657354.000</td>\n",
              "      <td>7012296.000</td>\n",
              "      <td>3283417.000</td>\n",
              "      <td>549789.0000</td>\n",
              "      <td>1454672.000</td>\n",
              "      <td>4941981.754</td>\n",
              "      <td>531850.1926</td>\n",
              "      <td>7315235.649</td>\n",
              "      <td>6120086.089</td>\n",
              "      <td>8140200.383</td>\n",
              "      <td>3814229.013</td>\n",
              "      <td>632387.5921</td>\n",
              "      <td>1627959.289</td>\n",
              "      <td>4068020.900</td>\n",
              "      <td>438682.2679</td>\n",
              "      <td>6513619.182</td>\n",
              "      <td>6137144.374</td>\n",
              "      <td>6675101.294</td>\n",
              "      <td>2989980.729</td>\n",
              "      <td>483448.3473</td>\n",
              "      <td>1298811.962</td>\n",
              "      <td>0</td>\n",
              "      <td>4</td>\n",
              "      <td>24</td>\n",
              "      <td>2017-02-01</td>\n",
              "    </tr>\n",
              "    <tr>\n",
              "      <th>2</th>\n",
              "      <td>2017-03-01</td>\n",
              "      <td>-1.346258</td>\n",
              "      <td>-0.267695</td>\n",
              "      <td>114667.2587</td>\n",
              "      <td>15231.0</td>\n",
              "      <td>1438528.0</td>\n",
              "      <td>5687.0</td>\n",
              "      <td>9544.0</td>\n",
              "      <td>354904.0</td>\n",
              "      <td>1083624.0</td>\n",
              "      <td>1099919.669</td>\n",
              "      <td>1083268.231</td>\n",
              "      <td>241130.4555</td>\n",
              "      <td>568447.4880</td>\n",
              "      <td>218640.3600</td>\n",
              "      <td>55049.9274</td>\n",
              "      <td>0.0665</td>\n",
              "      <td>14753.34784</td>\n",
              "      <td>206242.568</td>\n",
              "      <td>4.69</td>\n",
              "      <td>2943.49</td>\n",
              "      <td>50.43</td>\n",
              "      <td>50.60</td>\n",
              "      <td>102.162670</td>\n",
              "      <td>-21.1</td>\n",
              "      <td>-18.3</td>\n",
              "      <td>-25.4</td>\n",
              "      <td>9.704610</td>\n",
              "      <td>1.215372e+11</td>\n",
              "      <td>9.821204e+10</td>\n",
              "      <td>1.191497e+11</td>\n",
              "      <td>9.035507e+10</td>\n",
              "      <td>9.516119e+10</td>\n",
              "      <td>1.388751e+11</td>\n",
              "      <td>5.266968e+10</td>\n",
              "      <td>1.137228e+11</td>\n",
              "      <td>2.872364e+10</td>\n",
              "      <td>2.258877e+10</td>\n",
              "      <td>1.192185e+11</td>\n",
              "      <td>1.000214e+12</td>\n",
              "      <td>...</td>\n",
              "      <td>6258157.459</td>\n",
              "      <td>3447128.397</td>\n",
              "      <td>478975.7922</td>\n",
              "      <td>1302860.802</td>\n",
              "      <td>5430241.566</td>\n",
              "      <td>555441.9044</td>\n",
              "      <td>7916686.911</td>\n",
              "      <td>6566090.070</td>\n",
              "      <td>7930536.312</td>\n",
              "      <td>4347164.930</td>\n",
              "      <td>677598.1836</td>\n",
              "      <td>1864166.572</td>\n",
              "      <td>4353892.017</td>\n",
              "      <td>433679.7772</td>\n",
              "      <td>5854575.608</td>\n",
              "      <td>4445890.861</td>\n",
              "      <td>6402426.269</td>\n",
              "      <td>3390803.016</td>\n",
              "      <td>550883.0739</td>\n",
              "      <td>1302564.560</td>\n",
              "      <td>4680431.000</td>\n",
              "      <td>460632.0000</td>\n",
              "      <td>5702443.000</td>\n",
              "      <td>4657354.000</td>\n",
              "      <td>7012296.000</td>\n",
              "      <td>3283417.000</td>\n",
              "      <td>549789.0000</td>\n",
              "      <td>1454672.000</td>\n",
              "      <td>4941981.754</td>\n",
              "      <td>531850.1926</td>\n",
              "      <td>7315235.649</td>\n",
              "      <td>6120086.089</td>\n",
              "      <td>8140200.383</td>\n",
              "      <td>3814229.013</td>\n",
              "      <td>632387.5921</td>\n",
              "      <td>1627959.289</td>\n",
              "      <td>1</td>\n",
              "      <td>4</td>\n",
              "      <td>26</td>\n",
              "      <td>2017-03-01</td>\n",
              "    </tr>\n",
              "  </tbody>\n",
              "</table>\n",
              "<p>3 rows × 944 columns</p>\n",
              "</div>"
            ],
            "text/plain": [
              "         date  Quantity  Seasonal  ...  sunday  working_day      Date_2\n",
              "0  2017-01-01  1.503548  0.699923  ...       5           25  2017-01-01\n",
              "1  2017-02-01  0.076213  0.316156  ...       4           24  2017-02-01\n",
              "2  2017-03-01 -1.346258 -0.267695  ...       4           26  2017-03-01\n",
              "\n",
              "[3 rows x 944 columns]"
            ]
          },
          "metadata": {},
          "execution_count": 8
        }
      ]
    },
    {
      "cell_type": "code",
      "metadata": {
        "id": "5jx5L63stRZr"
      },
      "source": [
        "# Move the date column back to being the index\n",
        "Boxplot_data.set_index('date', inplace= True)"
      ],
      "execution_count": 9,
      "outputs": []
    },
    {
      "cell_type": "code",
      "metadata": {
        "colab": {
          "base_uri": "https://localhost:8080/",
          "height": 286
        },
        "id": "GRG4xHSVtRWR",
        "outputId": "3cd081d1-5404-42f5-9a8b-9785bf79973e"
      },
      "source": [
        "Boxplot_data.head(3)"
      ],
      "execution_count": 10,
      "outputs": [
        {
          "output_type": "execute_result",
          "data": {
            "text/html": [
              "<div>\n",
              "<style scoped>\n",
              "    .dataframe tbody tr th:only-of-type {\n",
              "        vertical-align: middle;\n",
              "    }\n",
              "\n",
              "    .dataframe tbody tr th {\n",
              "        vertical-align: top;\n",
              "    }\n",
              "\n",
              "    .dataframe thead th {\n",
              "        text-align: right;\n",
              "    }\n",
              "</style>\n",
              "<table border=\"1\" class=\"dataframe\">\n",
              "  <thead>\n",
              "    <tr style=\"text-align: right;\">\n",
              "      <th></th>\n",
              "      <th>Quantity</th>\n",
              "      <th>Seasonal</th>\n",
              "      <th>Consumer_loans</th>\n",
              "      <th>Construction_lic_unt</th>\n",
              "      <th>Construction_lic_area</th>\n",
              "      <th>Construction_lic_unt_SI</th>\n",
              "      <th>Construction_lic_unt_NO_SI</th>\n",
              "      <th>Construction_lic_area_SI</th>\n",
              "      <th>Construction_lic_area_NO_SI</th>\n",
              "      <th>Gray_cement_prod</th>\n",
              "      <th>Gray_cement_dispatch</th>\n",
              "      <th>Gray_cement_dispatch_Factory</th>\n",
              "      <th>Gray_cement_dispatch_comercial</th>\n",
              "      <th>Gray_cement_dispatch_contractor</th>\n",
              "      <th>Gray_cement_dispatch_other</th>\n",
              "      <th>DTF(interest_rate)</th>\n",
              "      <th>GDP_Constr</th>\n",
              "      <th>GDP_Total</th>\n",
              "      <th>Inflation</th>\n",
              "      <th>USD_exchange</th>\n",
              "      <th>Oil-brent</th>\n",
              "      <th>Oil_WTI</th>\n",
              "      <th>ISE</th>\n",
              "      <th>ICC</th>\n",
              "      <th>IEC</th>\n",
              "      <th>ICE</th>\n",
              "      <th>Unemployment%</th>\n",
              "      <th>RADAR_Constr</th>\n",
              "      <th>RADAR_Rev</th>\n",
              "      <th>RADAR_Toilets</th>\n",
              "      <th>RADAR_HomeAppliance</th>\n",
              "      <th>RADAR_Paint</th>\n",
              "      <th>RADAR_Furniture</th>\n",
              "      <th>RADAR_Tools</th>\n",
              "      <th>RADAR_Elect</th>\n",
              "      <th>RADAR_Plumbing</th>\n",
              "      <th>RADAR_Wood</th>\n",
              "      <th>RADAR_Supply</th>\n",
              "      <th>RADAR_Remodel</th>\n",
              "      <th>Construction_lic_area/unt</th>\n",
              "      <th>...</th>\n",
              "      <th>loan_overdraftslag_8</th>\n",
              "      <th>Credit_cardlag_8</th>\n",
              "      <th>Treasury_loanlag_8</th>\n",
              "      <th>Housing_loanlag_8</th>\n",
              "      <th>Consumer_creditlag_9</th>\n",
              "      <th>Consumer_microcreditlag_9</th>\n",
              "      <th>Ordinary_creditlag_9</th>\n",
              "      <th>Preferencial_creditlag_9</th>\n",
              "      <th>loan_overdraftslag_9</th>\n",
              "      <th>Credit_cardlag_9</th>\n",
              "      <th>Treasury_loanlag_9</th>\n",
              "      <th>Housing_loanlag_9</th>\n",
              "      <th>Consumer_creditlag_10</th>\n",
              "      <th>Consumer_microcreditlag_10</th>\n",
              "      <th>Ordinary_creditlag_10</th>\n",
              "      <th>Preferencial_creditlag_10</th>\n",
              "      <th>loan_overdraftslag_10</th>\n",
              "      <th>Credit_cardlag_10</th>\n",
              "      <th>Treasury_loanlag_10</th>\n",
              "      <th>Housing_loanlag_10</th>\n",
              "      <th>Consumer_creditlag_11</th>\n",
              "      <th>Consumer_microcreditlag_11</th>\n",
              "      <th>Ordinary_creditlag_11</th>\n",
              "      <th>Preferencial_creditlag_11</th>\n",
              "      <th>loan_overdraftslag_11</th>\n",
              "      <th>Credit_cardlag_11</th>\n",
              "      <th>Treasury_loanlag_11</th>\n",
              "      <th>Housing_loanlag_11</th>\n",
              "      <th>Consumer_creditlag_12</th>\n",
              "      <th>Consumer_microcreditlag_12</th>\n",
              "      <th>Ordinary_creditlag_12</th>\n",
              "      <th>Preferencial_creditlag_12</th>\n",
              "      <th>loan_overdraftslag_12</th>\n",
              "      <th>Credit_cardlag_12</th>\n",
              "      <th>Treasury_loanlag_12</th>\n",
              "      <th>Housing_loanlag_12</th>\n",
              "      <th>holiday</th>\n",
              "      <th>sunday</th>\n",
              "      <th>working_day</th>\n",
              "      <th>Date_2</th>\n",
              "    </tr>\n",
              "    <tr>\n",
              "      <th>date</th>\n",
              "      <th></th>\n",
              "      <th></th>\n",
              "      <th></th>\n",
              "      <th></th>\n",
              "      <th></th>\n",
              "      <th></th>\n",
              "      <th></th>\n",
              "      <th></th>\n",
              "      <th></th>\n",
              "      <th></th>\n",
              "      <th></th>\n",
              "      <th></th>\n",
              "      <th></th>\n",
              "      <th></th>\n",
              "      <th></th>\n",
              "      <th></th>\n",
              "      <th></th>\n",
              "      <th></th>\n",
              "      <th></th>\n",
              "      <th></th>\n",
              "      <th></th>\n",
              "      <th></th>\n",
              "      <th></th>\n",
              "      <th></th>\n",
              "      <th></th>\n",
              "      <th></th>\n",
              "      <th></th>\n",
              "      <th></th>\n",
              "      <th></th>\n",
              "      <th></th>\n",
              "      <th></th>\n",
              "      <th></th>\n",
              "      <th></th>\n",
              "      <th></th>\n",
              "      <th></th>\n",
              "      <th></th>\n",
              "      <th></th>\n",
              "      <th></th>\n",
              "      <th></th>\n",
              "      <th></th>\n",
              "      <th></th>\n",
              "      <th></th>\n",
              "      <th></th>\n",
              "      <th></th>\n",
              "      <th></th>\n",
              "      <th></th>\n",
              "      <th></th>\n",
              "      <th></th>\n",
              "      <th></th>\n",
              "      <th></th>\n",
              "      <th></th>\n",
              "      <th></th>\n",
              "      <th></th>\n",
              "      <th></th>\n",
              "      <th></th>\n",
              "      <th></th>\n",
              "      <th></th>\n",
              "      <th></th>\n",
              "      <th></th>\n",
              "      <th></th>\n",
              "      <th></th>\n",
              "      <th></th>\n",
              "      <th></th>\n",
              "      <th></th>\n",
              "      <th></th>\n",
              "      <th></th>\n",
              "      <th></th>\n",
              "      <th></th>\n",
              "      <th></th>\n",
              "      <th></th>\n",
              "      <th></th>\n",
              "      <th></th>\n",
              "      <th></th>\n",
              "      <th></th>\n",
              "      <th></th>\n",
              "      <th></th>\n",
              "      <th></th>\n",
              "      <th></th>\n",
              "      <th></th>\n",
              "      <th></th>\n",
              "      <th></th>\n",
              "    </tr>\n",
              "  </thead>\n",
              "  <tbody>\n",
              "    <tr>\n",
              "      <th>2017-01-01</th>\n",
              "      <td>1.503548</td>\n",
              "      <td>0.699923</td>\n",
              "      <td>112579.4297</td>\n",
              "      <td>11303.0</td>\n",
              "      <td>1185131.0</td>\n",
              "      <td>3587.0</td>\n",
              "      <td>7716.0</td>\n",
              "      <td>229478.0</td>\n",
              "      <td>955653.0</td>\n",
              "      <td>897063.518</td>\n",
              "      <td>913190.407</td>\n",
              "      <td>194276.0200</td>\n",
              "      <td>502084.8330</td>\n",
              "      <td>171559.9665</td>\n",
              "      <td>45269.5875</td>\n",
              "      <td>0.0694</td>\n",
              "      <td>14753.34784</td>\n",
              "      <td>206242.568</td>\n",
              "      <td>5.47</td>\n",
              "      <td>2944.65</td>\n",
              "      <td>52.19</td>\n",
              "      <td>52.81</td>\n",
              "      <td>102.548972</td>\n",
              "      <td>-30.2</td>\n",
              "      <td>-28.3</td>\n",
              "      <td>-33.1</td>\n",
              "      <td>11.733267</td>\n",
              "      <td>1.044525e+11</td>\n",
              "      <td>1.323489e+11</td>\n",
              "      <td>1.727682e+11</td>\n",
              "      <td>1.050914e+11</td>\n",
              "      <td>8.847567e+10</td>\n",
              "      <td>8.354725e+10</td>\n",
              "      <td>5.008444e+10</td>\n",
              "      <td>9.372000e+10</td>\n",
              "      <td>3.037115e+10</td>\n",
              "      <td>3.136015e+10</td>\n",
              "      <td>1.585430e+11</td>\n",
              "      <td>1.050763e+12</td>\n",
              "      <td>104.851013</td>\n",
              "      <td>...</td>\n",
              "      <td>6402426.269</td>\n",
              "      <td>3390803.016</td>\n",
              "      <td>550883.0739</td>\n",
              "      <td>1302564.560</td>\n",
              "      <td>4680431.000</td>\n",
              "      <td>460632.0000</td>\n",
              "      <td>5702443.000</td>\n",
              "      <td>4657354.000</td>\n",
              "      <td>7012296.000</td>\n",
              "      <td>3283417.000</td>\n",
              "      <td>549789.0000</td>\n",
              "      <td>1454672.000</td>\n",
              "      <td>4941981.754</td>\n",
              "      <td>531850.1926</td>\n",
              "      <td>7315235.649</td>\n",
              "      <td>6120086.089</td>\n",
              "      <td>8140200.383</td>\n",
              "      <td>3814229.013</td>\n",
              "      <td>632387.5921</td>\n",
              "      <td>1627959.289</td>\n",
              "      <td>4068020.900</td>\n",
              "      <td>438682.2679</td>\n",
              "      <td>6513619.182</td>\n",
              "      <td>6137144.374</td>\n",
              "      <td>6675101.294</td>\n",
              "      <td>2989980.729</td>\n",
              "      <td>483448.3473</td>\n",
              "      <td>1298811.962</td>\n",
              "      <td>3106784.500</td>\n",
              "      <td>386289.5525</td>\n",
              "      <td>4875376.339</td>\n",
              "      <td>4791146.877</td>\n",
              "      <td>5996088.922</td>\n",
              "      <td>3013612.505</td>\n",
              "      <td>470541.3290</td>\n",
              "      <td>1093819.181</td>\n",
              "      <td>1</td>\n",
              "      <td>5</td>\n",
              "      <td>25</td>\n",
              "      <td>2017-01-01</td>\n",
              "    </tr>\n",
              "    <tr>\n",
              "      <th>2017-02-01</th>\n",
              "      <td>0.076213</td>\n",
              "      <td>0.316156</td>\n",
              "      <td>113438.0949</td>\n",
              "      <td>16187.0</td>\n",
              "      <td>1590979.0</td>\n",
              "      <td>4659.0</td>\n",
              "      <td>11528.0</td>\n",
              "      <td>272961.0</td>\n",
              "      <td>1318018.0</td>\n",
              "      <td>1025704.960</td>\n",
              "      <td>1007968.299</td>\n",
              "      <td>228359.8390</td>\n",
              "      <td>530826.1625</td>\n",
              "      <td>199731.6950</td>\n",
              "      <td>49050.6025</td>\n",
              "      <td>0.0678</td>\n",
              "      <td>14753.34784</td>\n",
              "      <td>206242.568</td>\n",
              "      <td>5.18</td>\n",
              "      <td>2881.68</td>\n",
              "      <td>53.40</td>\n",
              "      <td>54.01</td>\n",
              "      <td>102.919033</td>\n",
              "      <td>-24.3</td>\n",
              "      <td>-19.9</td>\n",
              "      <td>-31.0</td>\n",
              "      <td>10.504292</td>\n",
              "      <td>1.574855e+11</td>\n",
              "      <td>8.351517e+10</td>\n",
              "      <td>1.096908e+11</td>\n",
              "      <td>8.252536e+10</td>\n",
              "      <td>8.582517e+10</td>\n",
              "      <td>1.522091e+11</td>\n",
              "      <td>5.056706e+10</td>\n",
              "      <td>6.034851e+10</td>\n",
              "      <td>2.138243e+10</td>\n",
              "      <td>2.216364e+10</td>\n",
              "      <td>2.104634e+11</td>\n",
              "      <td>1.036176e+12</td>\n",
              "      <td>98.287453</td>\n",
              "      <td>...</td>\n",
              "      <td>7930536.312</td>\n",
              "      <td>4347164.930</td>\n",
              "      <td>677598.1836</td>\n",
              "      <td>1864166.572</td>\n",
              "      <td>4353892.017</td>\n",
              "      <td>433679.7772</td>\n",
              "      <td>5854575.608</td>\n",
              "      <td>4445890.861</td>\n",
              "      <td>6402426.269</td>\n",
              "      <td>3390803.016</td>\n",
              "      <td>550883.0739</td>\n",
              "      <td>1302564.560</td>\n",
              "      <td>4680431.000</td>\n",
              "      <td>460632.0000</td>\n",
              "      <td>5702443.000</td>\n",
              "      <td>4657354.000</td>\n",
              "      <td>7012296.000</td>\n",
              "      <td>3283417.000</td>\n",
              "      <td>549789.0000</td>\n",
              "      <td>1454672.000</td>\n",
              "      <td>4941981.754</td>\n",
              "      <td>531850.1926</td>\n",
              "      <td>7315235.649</td>\n",
              "      <td>6120086.089</td>\n",
              "      <td>8140200.383</td>\n",
              "      <td>3814229.013</td>\n",
              "      <td>632387.5921</td>\n",
              "      <td>1627959.289</td>\n",
              "      <td>4068020.900</td>\n",
              "      <td>438682.2679</td>\n",
              "      <td>6513619.182</td>\n",
              "      <td>6137144.374</td>\n",
              "      <td>6675101.294</td>\n",
              "      <td>2989980.729</td>\n",
              "      <td>483448.3473</td>\n",
              "      <td>1298811.962</td>\n",
              "      <td>0</td>\n",
              "      <td>4</td>\n",
              "      <td>24</td>\n",
              "      <td>2017-02-01</td>\n",
              "    </tr>\n",
              "    <tr>\n",
              "      <th>2017-03-01</th>\n",
              "      <td>-1.346258</td>\n",
              "      <td>-0.267695</td>\n",
              "      <td>114667.2587</td>\n",
              "      <td>15231.0</td>\n",
              "      <td>1438528.0</td>\n",
              "      <td>5687.0</td>\n",
              "      <td>9544.0</td>\n",
              "      <td>354904.0</td>\n",
              "      <td>1083624.0</td>\n",
              "      <td>1099919.669</td>\n",
              "      <td>1083268.231</td>\n",
              "      <td>241130.4555</td>\n",
              "      <td>568447.4880</td>\n",
              "      <td>218640.3600</td>\n",
              "      <td>55049.9274</td>\n",
              "      <td>0.0665</td>\n",
              "      <td>14753.34784</td>\n",
              "      <td>206242.568</td>\n",
              "      <td>4.69</td>\n",
              "      <td>2943.49</td>\n",
              "      <td>50.43</td>\n",
              "      <td>50.60</td>\n",
              "      <td>102.162670</td>\n",
              "      <td>-21.1</td>\n",
              "      <td>-18.3</td>\n",
              "      <td>-25.4</td>\n",
              "      <td>9.704610</td>\n",
              "      <td>1.215372e+11</td>\n",
              "      <td>9.821204e+10</td>\n",
              "      <td>1.191497e+11</td>\n",
              "      <td>9.035507e+10</td>\n",
              "      <td>9.516119e+10</td>\n",
              "      <td>1.388751e+11</td>\n",
              "      <td>5.266968e+10</td>\n",
              "      <td>1.137228e+11</td>\n",
              "      <td>2.872364e+10</td>\n",
              "      <td>2.258877e+10</td>\n",
              "      <td>1.192185e+11</td>\n",
              "      <td>1.000214e+12</td>\n",
              "      <td>94.447377</td>\n",
              "      <td>...</td>\n",
              "      <td>6258157.459</td>\n",
              "      <td>3447128.397</td>\n",
              "      <td>478975.7922</td>\n",
              "      <td>1302860.802</td>\n",
              "      <td>5430241.566</td>\n",
              "      <td>555441.9044</td>\n",
              "      <td>7916686.911</td>\n",
              "      <td>6566090.070</td>\n",
              "      <td>7930536.312</td>\n",
              "      <td>4347164.930</td>\n",
              "      <td>677598.1836</td>\n",
              "      <td>1864166.572</td>\n",
              "      <td>4353892.017</td>\n",
              "      <td>433679.7772</td>\n",
              "      <td>5854575.608</td>\n",
              "      <td>4445890.861</td>\n",
              "      <td>6402426.269</td>\n",
              "      <td>3390803.016</td>\n",
              "      <td>550883.0739</td>\n",
              "      <td>1302564.560</td>\n",
              "      <td>4680431.000</td>\n",
              "      <td>460632.0000</td>\n",
              "      <td>5702443.000</td>\n",
              "      <td>4657354.000</td>\n",
              "      <td>7012296.000</td>\n",
              "      <td>3283417.000</td>\n",
              "      <td>549789.0000</td>\n",
              "      <td>1454672.000</td>\n",
              "      <td>4941981.754</td>\n",
              "      <td>531850.1926</td>\n",
              "      <td>7315235.649</td>\n",
              "      <td>6120086.089</td>\n",
              "      <td>8140200.383</td>\n",
              "      <td>3814229.013</td>\n",
              "      <td>632387.5921</td>\n",
              "      <td>1627959.289</td>\n",
              "      <td>1</td>\n",
              "      <td>4</td>\n",
              "      <td>26</td>\n",
              "      <td>2017-03-01</td>\n",
              "    </tr>\n",
              "  </tbody>\n",
              "</table>\n",
              "<p>3 rows × 943 columns</p>\n",
              "</div>"
            ],
            "text/plain": [
              "            Quantity  Seasonal  Consumer_loans  ...  sunday  working_day      Date_2\n",
              "date                                            ...                                 \n",
              "2017-01-01  1.503548  0.699923     112579.4297  ...       5           25  2017-01-01\n",
              "2017-02-01  0.076213  0.316156     113438.0949  ...       4           24  2017-02-01\n",
              "2017-03-01 -1.346258 -0.267695     114667.2587  ...       4           26  2017-03-01\n",
              "\n",
              "[3 rows x 943 columns]"
            ]
          },
          "metadata": {},
          "execution_count": 10
        }
      ]
    },
    {
      "cell_type": "markdown",
      "metadata": {
        "id": "CUvke-fb_C9f"
      },
      "source": [
        "# Boxplot Quantity"
      ]
    },
    {
      "cell_type": "code",
      "metadata": {
        "colab": {
          "base_uri": "https://localhost:8080/",
          "height": 252
        },
        "id": "BxUuSOG0_AMV",
        "outputId": "70ae5275-2586-4bb7-b6f1-ef4c0f0c5a86"
      },
      "source": [
        "# box plot\n",
        "ax = sns.boxplot( y=\"Quantity\",\n",
        "                 data= Boxplot_data, palette=\"Set3\")"
      ],
      "execution_count": 24,
      "outputs": [
        {
          "output_type": "display_data",
          "data": {
            "image/png": "[encoded data removed]",
            "text/plain": [
              "<Figure size 432x288 with 1 Axes>"
            ]
          },
          "metadata": {
            "needs_background": "light"
          }
        }
      ]
    },
    {
      "cell_type": "markdown",
      "metadata": {
        "id": "NF0kqQhB_IPf"
      },
      "source": [
        "## Now lets extract the date to create new year and month columns to create year over year, month over month plots,etc"
      ]
    },
    {
      "cell_type": "code",
      "metadata": {
        "id": "xJo0scj-_AHA"
      },
      "source": [
        "# create new column called Date2\n",
        "Boxplot_data['Date_2'] = pd.to_datetime(Boxplot_data['Date_2'])\n"
      ],
      "execution_count": 25,
      "outputs": []
    },
    {
      "cell_type": "code",
      "metadata": {
        "colab": {
          "base_uri": "https://localhost:8080/"
        },
        "id": "SC7KLN2B_ADy",
        "outputId": "35f0b7f7-5255-4f9e-f787-bf04ecb9ca81"
      },
      "source": [
        "\n",
        "Boxplot_data['Date_2'].dtypes #<<<--- Stackoverlow assures us this is the same as data type \"date\"\n"
      ],
      "execution_count": 26,
      "outputs": [
        {
          "output_type": "execute_result",
          "data": {
            "text/plain": [
              "dtype('<M8[ns]')"
            ]
          },
          "metadata": {},
          "execution_count": 26
        }
      ]
    },
    {
      "cell_type": "code",
      "metadata": {
        "id": "oN1Uti-o_AAa"
      },
      "source": [
        "# Boxplot_data['Date_2']"
      ],
      "execution_count": null,
      "outputs": []
    },
    {
      "cell_type": "code",
      "metadata": {
        "id": "TglKCKb6-_8c"
      },
      "source": [
        "# convert the Purchase Date to datetime\n",
        "#df['Purchase Date'] = pd.to_datetime(df['Purchase Date'])\n",
        "# add a column for Year\n",
        "#df['Year'] = df['Purchase Date'].dt.year\n",
        "# convert the Purchase Date to datetime\n",
        "##################\n",
        "Boxplot_data['Date_2'] = pd.to_datetime(Boxplot_data['Date_2'])\n",
        "# add a column for Year\n",
        "Boxplot_data['Year'] = Boxplot_data['Date_2'].dt.year"
      ],
      "execution_count": 27,
      "outputs": []
    },
    {
      "cell_type": "code",
      "metadata": {
        "colab": {
          "base_uri": "https://localhost:8080/",
          "height": 286
        },
        "id": "hWEiRXwh-_5L",
        "outputId": "67d11f23-f935-49b3-9e7f-926ccd2c1335"
      },
      "source": [
        "Boxplot_data.head(3)"
      ],
      "execution_count": 28,
      "outputs": [
        {
          "output_type": "execute_result",
          "data": {
            "text/html": [
              "<div>\n",
              "<style scoped>\n",
              "    .dataframe tbody tr th:only-of-type {\n",
              "        vertical-align: middle;\n",
              "    }\n",
              "\n",
              "    .dataframe tbody tr th {\n",
              "        vertical-align: top;\n",
              "    }\n",
              "\n",
              "    .dataframe thead th {\n",
              "        text-align: right;\n",
              "    }\n",
              "</style>\n",
              "<table border=\"1\" class=\"dataframe\">\n",
              "  <thead>\n",
              "    <tr style=\"text-align: right;\">\n",
              "      <th></th>\n",
              "      <th>Quantity</th>\n",
              "      <th>Seasonal</th>\n",
              "      <th>Consumer_loans</th>\n",
              "      <th>Construction_lic_unt</th>\n",
              "      <th>Construction_lic_area</th>\n",
              "      <th>Construction_lic_unt_SI</th>\n",
              "      <th>Construction_lic_unt_NO_SI</th>\n",
              "      <th>Construction_lic_area_SI</th>\n",
              "      <th>Construction_lic_area_NO_SI</th>\n",
              "      <th>Gray_cement_prod</th>\n",
              "      <th>Gray_cement_dispatch</th>\n",
              "      <th>Gray_cement_dispatch_Factory</th>\n",
              "      <th>Gray_cement_dispatch_comercial</th>\n",
              "      <th>Gray_cement_dispatch_contractor</th>\n",
              "      <th>Gray_cement_dispatch_other</th>\n",
              "      <th>DTF(interest_rate)</th>\n",
              "      <th>GDP_Constr</th>\n",
              "      <th>GDP_Total</th>\n",
              "      <th>Inflation</th>\n",
              "      <th>USD_exchange</th>\n",
              "      <th>Oil-brent</th>\n",
              "      <th>Oil_WTI</th>\n",
              "      <th>ISE</th>\n",
              "      <th>ICC</th>\n",
              "      <th>IEC</th>\n",
              "      <th>ICE</th>\n",
              "      <th>Unemployment%</th>\n",
              "      <th>RADAR_Constr</th>\n",
              "      <th>RADAR_Rev</th>\n",
              "      <th>RADAR_Toilets</th>\n",
              "      <th>RADAR_HomeAppliance</th>\n",
              "      <th>RADAR_Paint</th>\n",
              "      <th>RADAR_Furniture</th>\n",
              "      <th>RADAR_Tools</th>\n",
              "      <th>RADAR_Elect</th>\n",
              "      <th>RADAR_Plumbing</th>\n",
              "      <th>RADAR_Wood</th>\n",
              "      <th>RADAR_Supply</th>\n",
              "      <th>RADAR_Remodel</th>\n",
              "      <th>Construction_lic_area/unt</th>\n",
              "      <th>...</th>\n",
              "      <th>Treasury_loanlag_8</th>\n",
              "      <th>Housing_loanlag_8</th>\n",
              "      <th>Consumer_creditlag_9</th>\n",
              "      <th>Consumer_microcreditlag_9</th>\n",
              "      <th>Ordinary_creditlag_9</th>\n",
              "      <th>Preferencial_creditlag_9</th>\n",
              "      <th>loan_overdraftslag_9</th>\n",
              "      <th>Credit_cardlag_9</th>\n",
              "      <th>Treasury_loanlag_9</th>\n",
              "      <th>Housing_loanlag_9</th>\n",
              "      <th>Consumer_creditlag_10</th>\n",
              "      <th>Consumer_microcreditlag_10</th>\n",
              "      <th>Ordinary_creditlag_10</th>\n",
              "      <th>Preferencial_creditlag_10</th>\n",
              "      <th>loan_overdraftslag_10</th>\n",
              "      <th>Credit_cardlag_10</th>\n",
              "      <th>Treasury_loanlag_10</th>\n",
              "      <th>Housing_loanlag_10</th>\n",
              "      <th>Consumer_creditlag_11</th>\n",
              "      <th>Consumer_microcreditlag_11</th>\n",
              "      <th>Ordinary_creditlag_11</th>\n",
              "      <th>Preferencial_creditlag_11</th>\n",
              "      <th>loan_overdraftslag_11</th>\n",
              "      <th>Credit_cardlag_11</th>\n",
              "      <th>Treasury_loanlag_11</th>\n",
              "      <th>Housing_loanlag_11</th>\n",
              "      <th>Consumer_creditlag_12</th>\n",
              "      <th>Consumer_microcreditlag_12</th>\n",
              "      <th>Ordinary_creditlag_12</th>\n",
              "      <th>Preferencial_creditlag_12</th>\n",
              "      <th>loan_overdraftslag_12</th>\n",
              "      <th>Credit_cardlag_12</th>\n",
              "      <th>Treasury_loanlag_12</th>\n",
              "      <th>Housing_loanlag_12</th>\n",
              "      <th>holiday</th>\n",
              "      <th>sunday</th>\n",
              "      <th>working_day</th>\n",
              "      <th>Date_2</th>\n",
              "      <th>Year</th>\n",
              "      <th>Month</th>\n",
              "    </tr>\n",
              "    <tr>\n",
              "      <th>date</th>\n",
              "      <th></th>\n",
              "      <th></th>\n",
              "      <th></th>\n",
              "      <th></th>\n",
              "      <th></th>\n",
              "      <th></th>\n",
              "      <th></th>\n",
              "      <th></th>\n",
              "      <th></th>\n",
              "      <th></th>\n",
              "      <th></th>\n",
              "      <th></th>\n",
              "      <th></th>\n",
              "      <th></th>\n",
              "      <th></th>\n",
              "      <th></th>\n",
              "      <th></th>\n",
              "      <th></th>\n",
              "      <th></th>\n",
              "      <th></th>\n",
              "      <th></th>\n",
              "      <th></th>\n",
              "      <th></th>\n",
              "      <th></th>\n",
              "      <th></th>\n",
              "      <th></th>\n",
              "      <th></th>\n",
              "      <th></th>\n",
              "      <th></th>\n",
              "      <th></th>\n",
              "      <th></th>\n",
              "      <th></th>\n",
              "      <th></th>\n",
              "      <th></th>\n",
              "      <th></th>\n",
              "      <th></th>\n",
              "      <th></th>\n",
              "      <th></th>\n",
              "      <th></th>\n",
              "      <th></th>\n",
              "      <th></th>\n",
              "      <th></th>\n",
              "      <th></th>\n",
              "      <th></th>\n",
              "      <th></th>\n",
              "      <th></th>\n",
              "      <th></th>\n",
              "      <th></th>\n",
              "      <th></th>\n",
              "      <th></th>\n",
              "      <th></th>\n",
              "      <th></th>\n",
              "      <th></th>\n",
              "      <th></th>\n",
              "      <th></th>\n",
              "      <th></th>\n",
              "      <th></th>\n",
              "      <th></th>\n",
              "      <th></th>\n",
              "      <th></th>\n",
              "      <th></th>\n",
              "      <th></th>\n",
              "      <th></th>\n",
              "      <th></th>\n",
              "      <th></th>\n",
              "      <th></th>\n",
              "      <th></th>\n",
              "      <th></th>\n",
              "      <th></th>\n",
              "      <th></th>\n",
              "      <th></th>\n",
              "      <th></th>\n",
              "      <th></th>\n",
              "      <th></th>\n",
              "      <th></th>\n",
              "      <th></th>\n",
              "      <th></th>\n",
              "      <th></th>\n",
              "      <th></th>\n",
              "      <th></th>\n",
              "      <th></th>\n",
              "    </tr>\n",
              "  </thead>\n",
              "  <tbody>\n",
              "    <tr>\n",
              "      <th>2017-01-01</th>\n",
              "      <td>1.503548</td>\n",
              "      <td>0.699923</td>\n",
              "      <td>112579.4297</td>\n",
              "      <td>11303.0</td>\n",
              "      <td>1185131.0</td>\n",
              "      <td>3587.0</td>\n",
              "      <td>7716.0</td>\n",
              "      <td>229478.0</td>\n",
              "      <td>955653.0</td>\n",
              "      <td>897063.518</td>\n",
              "      <td>913190.407</td>\n",
              "      <td>194276.0200</td>\n",
              "      <td>502084.8330</td>\n",
              "      <td>171559.9665</td>\n",
              "      <td>45269.5875</td>\n",
              "      <td>0.0694</td>\n",
              "      <td>14753.34784</td>\n",
              "      <td>206242.568</td>\n",
              "      <td>5.47</td>\n",
              "      <td>2944.65</td>\n",
              "      <td>52.19</td>\n",
              "      <td>52.81</td>\n",
              "      <td>102.548972</td>\n",
              "      <td>-30.2</td>\n",
              "      <td>-28.3</td>\n",
              "      <td>-33.1</td>\n",
              "      <td>11.733267</td>\n",
              "      <td>1.044525e+11</td>\n",
              "      <td>1.323489e+11</td>\n",
              "      <td>1.727682e+11</td>\n",
              "      <td>1.050914e+11</td>\n",
              "      <td>8.847567e+10</td>\n",
              "      <td>8.354725e+10</td>\n",
              "      <td>5.008444e+10</td>\n",
              "      <td>9.372000e+10</td>\n",
              "      <td>3.037115e+10</td>\n",
              "      <td>3.136015e+10</td>\n",
              "      <td>1.585430e+11</td>\n",
              "      <td>1.050763e+12</td>\n",
              "      <td>104.851013</td>\n",
              "      <td>...</td>\n",
              "      <td>550883.0739</td>\n",
              "      <td>1302564.560</td>\n",
              "      <td>4680431.000</td>\n",
              "      <td>460632.0000</td>\n",
              "      <td>5702443.000</td>\n",
              "      <td>4657354.000</td>\n",
              "      <td>7012296.000</td>\n",
              "      <td>3283417.000</td>\n",
              "      <td>549789.0000</td>\n",
              "      <td>1454672.000</td>\n",
              "      <td>4941981.754</td>\n",
              "      <td>531850.1926</td>\n",
              "      <td>7315235.649</td>\n",
              "      <td>6120086.089</td>\n",
              "      <td>8140200.383</td>\n",
              "      <td>3814229.013</td>\n",
              "      <td>632387.5921</td>\n",
              "      <td>1627959.289</td>\n",
              "      <td>4068020.900</td>\n",
              "      <td>438682.2679</td>\n",
              "      <td>6513619.182</td>\n",
              "      <td>6137144.374</td>\n",
              "      <td>6675101.294</td>\n",
              "      <td>2989980.729</td>\n",
              "      <td>483448.3473</td>\n",
              "      <td>1298811.962</td>\n",
              "      <td>3106784.500</td>\n",
              "      <td>386289.5525</td>\n",
              "      <td>4875376.339</td>\n",
              "      <td>4791146.877</td>\n",
              "      <td>5996088.922</td>\n",
              "      <td>3013612.505</td>\n",
              "      <td>470541.3290</td>\n",
              "      <td>1093819.181</td>\n",
              "      <td>1</td>\n",
              "      <td>5</td>\n",
              "      <td>25</td>\n",
              "      <td>2017-01-01</td>\n",
              "      <td>2017</td>\n",
              "      <td>Jan</td>\n",
              "    </tr>\n",
              "    <tr>\n",
              "      <th>2017-02-01</th>\n",
              "      <td>0.076213</td>\n",
              "      <td>0.316156</td>\n",
              "      <td>113438.0949</td>\n",
              "      <td>16187.0</td>\n",
              "      <td>1590979.0</td>\n",
              "      <td>4659.0</td>\n",
              "      <td>11528.0</td>\n",
              "      <td>272961.0</td>\n",
              "      <td>1318018.0</td>\n",
              "      <td>1025704.960</td>\n",
              "      <td>1007968.299</td>\n",
              "      <td>228359.8390</td>\n",
              "      <td>530826.1625</td>\n",
              "      <td>199731.6950</td>\n",
              "      <td>49050.6025</td>\n",
              "      <td>0.0678</td>\n",
              "      <td>14753.34784</td>\n",
              "      <td>206242.568</td>\n",
              "      <td>5.18</td>\n",
              "      <td>2881.68</td>\n",
              "      <td>53.40</td>\n",
              "      <td>54.01</td>\n",
              "      <td>102.919033</td>\n",
              "      <td>-24.3</td>\n",
              "      <td>-19.9</td>\n",
              "      <td>-31.0</td>\n",
              "      <td>10.504292</td>\n",
              "      <td>1.574855e+11</td>\n",
              "      <td>8.351517e+10</td>\n",
              "      <td>1.096908e+11</td>\n",
              "      <td>8.252536e+10</td>\n",
              "      <td>8.582517e+10</td>\n",
              "      <td>1.522091e+11</td>\n",
              "      <td>5.056706e+10</td>\n",
              "      <td>6.034851e+10</td>\n",
              "      <td>2.138243e+10</td>\n",
              "      <td>2.216364e+10</td>\n",
              "      <td>2.104634e+11</td>\n",
              "      <td>1.036176e+12</td>\n",
              "      <td>98.287453</td>\n",
              "      <td>...</td>\n",
              "      <td>677598.1836</td>\n",
              "      <td>1864166.572</td>\n",
              "      <td>4353892.017</td>\n",
              "      <td>433679.7772</td>\n",
              "      <td>5854575.608</td>\n",
              "      <td>4445890.861</td>\n",
              "      <td>6402426.269</td>\n",
              "      <td>3390803.016</td>\n",
              "      <td>550883.0739</td>\n",
              "      <td>1302564.560</td>\n",
              "      <td>4680431.000</td>\n",
              "      <td>460632.0000</td>\n",
              "      <td>5702443.000</td>\n",
              "      <td>4657354.000</td>\n",
              "      <td>7012296.000</td>\n",
              "      <td>3283417.000</td>\n",
              "      <td>549789.0000</td>\n",
              "      <td>1454672.000</td>\n",
              "      <td>4941981.754</td>\n",
              "      <td>531850.1926</td>\n",
              "      <td>7315235.649</td>\n",
              "      <td>6120086.089</td>\n",
              "      <td>8140200.383</td>\n",
              "      <td>3814229.013</td>\n",
              "      <td>632387.5921</td>\n",
              "      <td>1627959.289</td>\n",
              "      <td>4068020.900</td>\n",
              "      <td>438682.2679</td>\n",
              "      <td>6513619.182</td>\n",
              "      <td>6137144.374</td>\n",
              "      <td>6675101.294</td>\n",
              "      <td>2989980.729</td>\n",
              "      <td>483448.3473</td>\n",
              "      <td>1298811.962</td>\n",
              "      <td>0</td>\n",
              "      <td>4</td>\n",
              "      <td>24</td>\n",
              "      <td>2017-02-01</td>\n",
              "      <td>2017</td>\n",
              "      <td>Feb</td>\n",
              "    </tr>\n",
              "    <tr>\n",
              "      <th>2017-03-01</th>\n",
              "      <td>-1.346258</td>\n",
              "      <td>-0.267695</td>\n",
              "      <td>114667.2587</td>\n",
              "      <td>15231.0</td>\n",
              "      <td>1438528.0</td>\n",
              "      <td>5687.0</td>\n",
              "      <td>9544.0</td>\n",
              "      <td>354904.0</td>\n",
              "      <td>1083624.0</td>\n",
              "      <td>1099919.669</td>\n",
              "      <td>1083268.231</td>\n",
              "      <td>241130.4555</td>\n",
              "      <td>568447.4880</td>\n",
              "      <td>218640.3600</td>\n",
              "      <td>55049.9274</td>\n",
              "      <td>0.0665</td>\n",
              "      <td>14753.34784</td>\n",
              "      <td>206242.568</td>\n",
              "      <td>4.69</td>\n",
              "      <td>2943.49</td>\n",
              "      <td>50.43</td>\n",
              "      <td>50.60</td>\n",
              "      <td>102.162670</td>\n",
              "      <td>-21.1</td>\n",
              "      <td>-18.3</td>\n",
              "      <td>-25.4</td>\n",
              "      <td>9.704610</td>\n",
              "      <td>1.215372e+11</td>\n",
              "      <td>9.821204e+10</td>\n",
              "      <td>1.191497e+11</td>\n",
              "      <td>9.035507e+10</td>\n",
              "      <td>9.516119e+10</td>\n",
              "      <td>1.388751e+11</td>\n",
              "      <td>5.266968e+10</td>\n",
              "      <td>1.137228e+11</td>\n",
              "      <td>2.872364e+10</td>\n",
              "      <td>2.258877e+10</td>\n",
              "      <td>1.192185e+11</td>\n",
              "      <td>1.000214e+12</td>\n",
              "      <td>94.447377</td>\n",
              "      <td>...</td>\n",
              "      <td>478975.7922</td>\n",
              "      <td>1302860.802</td>\n",
              "      <td>5430241.566</td>\n",
              "      <td>555441.9044</td>\n",
              "      <td>7916686.911</td>\n",
              "      <td>6566090.070</td>\n",
              "      <td>7930536.312</td>\n",
              "      <td>4347164.930</td>\n",
              "      <td>677598.1836</td>\n",
              "      <td>1864166.572</td>\n",
              "      <td>4353892.017</td>\n",
              "      <td>433679.7772</td>\n",
              "      <td>5854575.608</td>\n",
              "      <td>4445890.861</td>\n",
              "      <td>6402426.269</td>\n",
              "      <td>3390803.016</td>\n",
              "      <td>550883.0739</td>\n",
              "      <td>1302564.560</td>\n",
              "      <td>4680431.000</td>\n",
              "      <td>460632.0000</td>\n",
              "      <td>5702443.000</td>\n",
              "      <td>4657354.000</td>\n",
              "      <td>7012296.000</td>\n",
              "      <td>3283417.000</td>\n",
              "      <td>549789.0000</td>\n",
              "      <td>1454672.000</td>\n",
              "      <td>4941981.754</td>\n",
              "      <td>531850.1926</td>\n",
              "      <td>7315235.649</td>\n",
              "      <td>6120086.089</td>\n",
              "      <td>8140200.383</td>\n",
              "      <td>3814229.013</td>\n",
              "      <td>632387.5921</td>\n",
              "      <td>1627959.289</td>\n",
              "      <td>1</td>\n",
              "      <td>4</td>\n",
              "      <td>26</td>\n",
              "      <td>2017-03-01</td>\n",
              "      <td>2017</td>\n",
              "      <td>Mar</td>\n",
              "    </tr>\n",
              "  </tbody>\n",
              "</table>\n",
              "<p>3 rows × 945 columns</p>\n",
              "</div>"
            ],
            "text/plain": [
              "            Quantity  Seasonal  Consumer_loans  ...     Date_2  Year  Month\n",
              "date                                            ...                        \n",
              "2017-01-01  1.503548  0.699923     112579.4297  ... 2017-01-01  2017    Jan\n",
              "2017-02-01  0.076213  0.316156     113438.0949  ... 2017-02-01  2017    Feb\n",
              "2017-03-01 -1.346258 -0.267695     114667.2587  ... 2017-03-01  2017    Mar\n",
              "\n",
              "[3 rows x 945 columns]"
            ]
          },
          "metadata": {},
          "execution_count": 28
        }
      ]
    },
    {
      "cell_type": "code",
      "metadata": {
        "id": "zXuBz-zD-_1i"
      },
      "source": [
        "Boxplot_data['Date_2'] = pd.to_datetime(Boxplot_data['Date_2'])\n",
        "# add a column for Year\n",
        "Boxplot_data['Month'] = Boxplot_data['Date_2'].dt.month"
      ],
      "execution_count": 29,
      "outputs": []
    },
    {
      "cell_type": "code",
      "metadata": {
        "colab": {
          "base_uri": "https://localhost:8080/",
          "height": 381
        },
        "id": "cH1Y58R9-_x6",
        "outputId": "da665f0d-de7b-4566-de2f-919fbd4530c2"
      },
      "source": [
        "Boxplot_data.head()"
      ],
      "execution_count": 30,
      "outputs": [
        {
          "output_type": "execute_result",
          "data": {
            "text/html": [
              "<div>\n",
              "<style scoped>\n",
              "    .dataframe tbody tr th:only-of-type {\n",
              "        vertical-align: middle;\n",
              "    }\n",
              "\n",
              "    .dataframe tbody tr th {\n",
              "        vertical-align: top;\n",
              "    }\n",
              "\n",
              "    .dataframe thead th {\n",
              "        text-align: right;\n",
              "    }\n",
              "</style>\n",
              "<table border=\"1\" class=\"dataframe\">\n",
              "  <thead>\n",
              "    <tr style=\"text-align: right;\">\n",
              "      <th></th>\n",
              "      <th>Quantity</th>\n",
              "      <th>Seasonal</th>\n",
              "      <th>Consumer_loans</th>\n",
              "      <th>Construction_lic_unt</th>\n",
              "      <th>Construction_lic_area</th>\n",
              "      <th>Construction_lic_unt_SI</th>\n",
              "      <th>Construction_lic_unt_NO_SI</th>\n",
              "      <th>Construction_lic_area_SI</th>\n",
              "      <th>Construction_lic_area_NO_SI</th>\n",
              "      <th>Gray_cement_prod</th>\n",
              "      <th>Gray_cement_dispatch</th>\n",
              "      <th>Gray_cement_dispatch_Factory</th>\n",
              "      <th>Gray_cement_dispatch_comercial</th>\n",
              "      <th>Gray_cement_dispatch_contractor</th>\n",
              "      <th>Gray_cement_dispatch_other</th>\n",
              "      <th>DTF(interest_rate)</th>\n",
              "      <th>GDP_Constr</th>\n",
              "      <th>GDP_Total</th>\n",
              "      <th>Inflation</th>\n",
              "      <th>USD_exchange</th>\n",
              "      <th>Oil-brent</th>\n",
              "      <th>Oil_WTI</th>\n",
              "      <th>ISE</th>\n",
              "      <th>ICC</th>\n",
              "      <th>IEC</th>\n",
              "      <th>ICE</th>\n",
              "      <th>Unemployment%</th>\n",
              "      <th>RADAR_Constr</th>\n",
              "      <th>RADAR_Rev</th>\n",
              "      <th>RADAR_Toilets</th>\n",
              "      <th>RADAR_HomeAppliance</th>\n",
              "      <th>RADAR_Paint</th>\n",
              "      <th>RADAR_Furniture</th>\n",
              "      <th>RADAR_Tools</th>\n",
              "      <th>RADAR_Elect</th>\n",
              "      <th>RADAR_Plumbing</th>\n",
              "      <th>RADAR_Wood</th>\n",
              "      <th>RADAR_Supply</th>\n",
              "      <th>RADAR_Remodel</th>\n",
              "      <th>Construction_lic_area/unt</th>\n",
              "      <th>...</th>\n",
              "      <th>Treasury_loanlag_8</th>\n",
              "      <th>Housing_loanlag_8</th>\n",
              "      <th>Consumer_creditlag_9</th>\n",
              "      <th>Consumer_microcreditlag_9</th>\n",
              "      <th>Ordinary_creditlag_9</th>\n",
              "      <th>Preferencial_creditlag_9</th>\n",
              "      <th>loan_overdraftslag_9</th>\n",
              "      <th>Credit_cardlag_9</th>\n",
              "      <th>Treasury_loanlag_9</th>\n",
              "      <th>Housing_loanlag_9</th>\n",
              "      <th>Consumer_creditlag_10</th>\n",
              "      <th>Consumer_microcreditlag_10</th>\n",
              "      <th>Ordinary_creditlag_10</th>\n",
              "      <th>Preferencial_creditlag_10</th>\n",
              "      <th>loan_overdraftslag_10</th>\n",
              "      <th>Credit_cardlag_10</th>\n",
              "      <th>Treasury_loanlag_10</th>\n",
              "      <th>Housing_loanlag_10</th>\n",
              "      <th>Consumer_creditlag_11</th>\n",
              "      <th>Consumer_microcreditlag_11</th>\n",
              "      <th>Ordinary_creditlag_11</th>\n",
              "      <th>Preferencial_creditlag_11</th>\n",
              "      <th>loan_overdraftslag_11</th>\n",
              "      <th>Credit_cardlag_11</th>\n",
              "      <th>Treasury_loanlag_11</th>\n",
              "      <th>Housing_loanlag_11</th>\n",
              "      <th>Consumer_creditlag_12</th>\n",
              "      <th>Consumer_microcreditlag_12</th>\n",
              "      <th>Ordinary_creditlag_12</th>\n",
              "      <th>Preferencial_creditlag_12</th>\n",
              "      <th>loan_overdraftslag_12</th>\n",
              "      <th>Credit_cardlag_12</th>\n",
              "      <th>Treasury_loanlag_12</th>\n",
              "      <th>Housing_loanlag_12</th>\n",
              "      <th>holiday</th>\n",
              "      <th>sunday</th>\n",
              "      <th>working_day</th>\n",
              "      <th>Date_2</th>\n",
              "      <th>Year</th>\n",
              "      <th>Month</th>\n",
              "    </tr>\n",
              "    <tr>\n",
              "      <th>date</th>\n",
              "      <th></th>\n",
              "      <th></th>\n",
              "      <th></th>\n",
              "      <th></th>\n",
              "      <th></th>\n",
              "      <th></th>\n",
              "      <th></th>\n",
              "      <th></th>\n",
              "      <th></th>\n",
              "      <th></th>\n",
              "      <th></th>\n",
              "      <th></th>\n",
              "      <th></th>\n",
              "      <th></th>\n",
              "      <th></th>\n",
              "      <th></th>\n",
              "      <th></th>\n",
              "      <th></th>\n",
              "      <th></th>\n",
              "      <th></th>\n",
              "      <th></th>\n",
              "      <th></th>\n",
              "      <th></th>\n",
              "      <th></th>\n",
              "      <th></th>\n",
              "      <th></th>\n",
              "      <th></th>\n",
              "      <th></th>\n",
              "      <th></th>\n",
              "      <th></th>\n",
              "      <th></th>\n",
              "      <th></th>\n",
              "      <th></th>\n",
              "      <th></th>\n",
              "      <th></th>\n",
              "      <th></th>\n",
              "      <th></th>\n",
              "      <th></th>\n",
              "      <th></th>\n",
              "      <th></th>\n",
              "      <th></th>\n",
              "      <th></th>\n",
              "      <th></th>\n",
              "      <th></th>\n",
              "      <th></th>\n",
              "      <th></th>\n",
              "      <th></th>\n",
              "      <th></th>\n",
              "      <th></th>\n",
              "      <th></th>\n",
              "      <th></th>\n",
              "      <th></th>\n",
              "      <th></th>\n",
              "      <th></th>\n",
              "      <th></th>\n",
              "      <th></th>\n",
              "      <th></th>\n",
              "      <th></th>\n",
              "      <th></th>\n",
              "      <th></th>\n",
              "      <th></th>\n",
              "      <th></th>\n",
              "      <th></th>\n",
              "      <th></th>\n",
              "      <th></th>\n",
              "      <th></th>\n",
              "      <th></th>\n",
              "      <th></th>\n",
              "      <th></th>\n",
              "      <th></th>\n",
              "      <th></th>\n",
              "      <th></th>\n",
              "      <th></th>\n",
              "      <th></th>\n",
              "      <th></th>\n",
              "      <th></th>\n",
              "      <th></th>\n",
              "      <th></th>\n",
              "      <th></th>\n",
              "      <th></th>\n",
              "      <th></th>\n",
              "    </tr>\n",
              "  </thead>\n",
              "  <tbody>\n",
              "    <tr>\n",
              "      <th>2017-01-01</th>\n",
              "      <td>1.503548</td>\n",
              "      <td>0.699923</td>\n",
              "      <td>112579.4297</td>\n",
              "      <td>11303.0</td>\n",
              "      <td>1185131.0</td>\n",
              "      <td>3587.0</td>\n",
              "      <td>7716.0</td>\n",
              "      <td>229478.0</td>\n",
              "      <td>955653.0</td>\n",
              "      <td>897063.518</td>\n",
              "      <td>9.131904e+05</td>\n",
              "      <td>194276.0200</td>\n",
              "      <td>502084.8330</td>\n",
              "      <td>171559.9665</td>\n",
              "      <td>45269.5875</td>\n",
              "      <td>0.0694</td>\n",
              "      <td>14753.34784</td>\n",
              "      <td>206242.5680</td>\n",
              "      <td>5.47</td>\n",
              "      <td>2944.65</td>\n",
              "      <td>52.19</td>\n",
              "      <td>52.81</td>\n",
              "      <td>102.548972</td>\n",
              "      <td>-30.2</td>\n",
              "      <td>-28.3</td>\n",
              "      <td>-33.1</td>\n",
              "      <td>11.733267</td>\n",
              "      <td>1.044525e+11</td>\n",
              "      <td>1.323489e+11</td>\n",
              "      <td>1.727682e+11</td>\n",
              "      <td>1.050914e+11</td>\n",
              "      <td>8.847567e+10</td>\n",
              "      <td>8.354725e+10</td>\n",
              "      <td>5.008444e+10</td>\n",
              "      <td>9.372000e+10</td>\n",
              "      <td>3.037115e+10</td>\n",
              "      <td>3.136015e+10</td>\n",
              "      <td>1.585430e+11</td>\n",
              "      <td>1.050763e+12</td>\n",
              "      <td>104.851013</td>\n",
              "      <td>...</td>\n",
              "      <td>550883.0739</td>\n",
              "      <td>1302564.560</td>\n",
              "      <td>4680431.000</td>\n",
              "      <td>460632.0000</td>\n",
              "      <td>5702443.000</td>\n",
              "      <td>4657354.000</td>\n",
              "      <td>7012296.000</td>\n",
              "      <td>3283417.000</td>\n",
              "      <td>549789.0000</td>\n",
              "      <td>1454672.000</td>\n",
              "      <td>4941981.754</td>\n",
              "      <td>531850.1926</td>\n",
              "      <td>7315235.649</td>\n",
              "      <td>6120086.089</td>\n",
              "      <td>8140200.383</td>\n",
              "      <td>3814229.013</td>\n",
              "      <td>632387.5921</td>\n",
              "      <td>1627959.289</td>\n",
              "      <td>4068020.900</td>\n",
              "      <td>438682.2679</td>\n",
              "      <td>6513619.182</td>\n",
              "      <td>6137144.374</td>\n",
              "      <td>6675101.294</td>\n",
              "      <td>2989980.729</td>\n",
              "      <td>483448.3473</td>\n",
              "      <td>1298811.962</td>\n",
              "      <td>3106784.500</td>\n",
              "      <td>386289.5525</td>\n",
              "      <td>4875376.339</td>\n",
              "      <td>4791146.877</td>\n",
              "      <td>5996088.922</td>\n",
              "      <td>3013612.505</td>\n",
              "      <td>470541.3290</td>\n",
              "      <td>1093819.181</td>\n",
              "      <td>1</td>\n",
              "      <td>5</td>\n",
              "      <td>25</td>\n",
              "      <td>2017-01-01</td>\n",
              "      <td>2017</td>\n",
              "      <td>1</td>\n",
              "    </tr>\n",
              "    <tr>\n",
              "      <th>2017-02-01</th>\n",
              "      <td>0.076213</td>\n",
              "      <td>0.316156</td>\n",
              "      <td>113438.0949</td>\n",
              "      <td>16187.0</td>\n",
              "      <td>1590979.0</td>\n",
              "      <td>4659.0</td>\n",
              "      <td>11528.0</td>\n",
              "      <td>272961.0</td>\n",
              "      <td>1318018.0</td>\n",
              "      <td>1025704.960</td>\n",
              "      <td>1.007968e+06</td>\n",
              "      <td>228359.8390</td>\n",
              "      <td>530826.1625</td>\n",
              "      <td>199731.6950</td>\n",
              "      <td>49050.6025</td>\n",
              "      <td>0.0678</td>\n",
              "      <td>14753.34784</td>\n",
              "      <td>206242.5680</td>\n",
              "      <td>5.18</td>\n",
              "      <td>2881.68</td>\n",
              "      <td>53.40</td>\n",
              "      <td>54.01</td>\n",
              "      <td>102.919033</td>\n",
              "      <td>-24.3</td>\n",
              "      <td>-19.9</td>\n",
              "      <td>-31.0</td>\n",
              "      <td>10.504292</td>\n",
              "      <td>1.574855e+11</td>\n",
              "      <td>8.351517e+10</td>\n",
              "      <td>1.096908e+11</td>\n",
              "      <td>8.252536e+10</td>\n",
              "      <td>8.582517e+10</td>\n",
              "      <td>1.522091e+11</td>\n",
              "      <td>5.056706e+10</td>\n",
              "      <td>6.034851e+10</td>\n",
              "      <td>2.138243e+10</td>\n",
              "      <td>2.216364e+10</td>\n",
              "      <td>2.104634e+11</td>\n",
              "      <td>1.036176e+12</td>\n",
              "      <td>98.287453</td>\n",
              "      <td>...</td>\n",
              "      <td>677598.1836</td>\n",
              "      <td>1864166.572</td>\n",
              "      <td>4353892.017</td>\n",
              "      <td>433679.7772</td>\n",
              "      <td>5854575.608</td>\n",
              "      <td>4445890.861</td>\n",
              "      <td>6402426.269</td>\n",
              "      <td>3390803.016</td>\n",
              "      <td>550883.0739</td>\n",
              "      <td>1302564.560</td>\n",
              "      <td>4680431.000</td>\n",
              "      <td>460632.0000</td>\n",
              "      <td>5702443.000</td>\n",
              "      <td>4657354.000</td>\n",
              "      <td>7012296.000</td>\n",
              "      <td>3283417.000</td>\n",
              "      <td>549789.0000</td>\n",
              "      <td>1454672.000</td>\n",
              "      <td>4941981.754</td>\n",
              "      <td>531850.1926</td>\n",
              "      <td>7315235.649</td>\n",
              "      <td>6120086.089</td>\n",
              "      <td>8140200.383</td>\n",
              "      <td>3814229.013</td>\n",
              "      <td>632387.5921</td>\n",
              "      <td>1627959.289</td>\n",
              "      <td>4068020.900</td>\n",
              "      <td>438682.2679</td>\n",
              "      <td>6513619.182</td>\n",
              "      <td>6137144.374</td>\n",
              "      <td>6675101.294</td>\n",
              "      <td>2989980.729</td>\n",
              "      <td>483448.3473</td>\n",
              "      <td>1298811.962</td>\n",
              "      <td>0</td>\n",
              "      <td>4</td>\n",
              "      <td>24</td>\n",
              "      <td>2017-02-01</td>\n",
              "      <td>2017</td>\n",
              "      <td>2</td>\n",
              "    </tr>\n",
              "    <tr>\n",
              "      <th>2017-03-01</th>\n",
              "      <td>-1.346258</td>\n",
              "      <td>-0.267695</td>\n",
              "      <td>114667.2587</td>\n",
              "      <td>15231.0</td>\n",
              "      <td>1438528.0</td>\n",
              "      <td>5687.0</td>\n",
              "      <td>9544.0</td>\n",
              "      <td>354904.0</td>\n",
              "      <td>1083624.0</td>\n",
              "      <td>1099919.669</td>\n",
              "      <td>1.083268e+06</td>\n",
              "      <td>241130.4555</td>\n",
              "      <td>568447.4880</td>\n",
              "      <td>218640.3600</td>\n",
              "      <td>55049.9274</td>\n",
              "      <td>0.0665</td>\n",
              "      <td>14753.34784</td>\n",
              "      <td>206242.5680</td>\n",
              "      <td>4.69</td>\n",
              "      <td>2943.49</td>\n",
              "      <td>50.43</td>\n",
              "      <td>50.60</td>\n",
              "      <td>102.162670</td>\n",
              "      <td>-21.1</td>\n",
              "      <td>-18.3</td>\n",
              "      <td>-25.4</td>\n",
              "      <td>9.704610</td>\n",
              "      <td>1.215372e+11</td>\n",
              "      <td>9.821204e+10</td>\n",
              "      <td>1.191497e+11</td>\n",
              "      <td>9.035507e+10</td>\n",
              "      <td>9.516119e+10</td>\n",
              "      <td>1.388751e+11</td>\n",
              "      <td>5.266968e+10</td>\n",
              "      <td>1.137228e+11</td>\n",
              "      <td>2.872364e+10</td>\n",
              "      <td>2.258877e+10</td>\n",
              "      <td>1.192185e+11</td>\n",
              "      <td>1.000214e+12</td>\n",
              "      <td>94.447377</td>\n",
              "      <td>...</td>\n",
              "      <td>478975.7922</td>\n",
              "      <td>1302860.802</td>\n",
              "      <td>5430241.566</td>\n",
              "      <td>555441.9044</td>\n",
              "      <td>7916686.911</td>\n",
              "      <td>6566090.070</td>\n",
              "      <td>7930536.312</td>\n",
              "      <td>4347164.930</td>\n",
              "      <td>677598.1836</td>\n",
              "      <td>1864166.572</td>\n",
              "      <td>4353892.017</td>\n",
              "      <td>433679.7772</td>\n",
              "      <td>5854575.608</td>\n",
              "      <td>4445890.861</td>\n",
              "      <td>6402426.269</td>\n",
              "      <td>3390803.016</td>\n",
              "      <td>550883.0739</td>\n",
              "      <td>1302564.560</td>\n",
              "      <td>4680431.000</td>\n",
              "      <td>460632.0000</td>\n",
              "      <td>5702443.000</td>\n",
              "      <td>4657354.000</td>\n",
              "      <td>7012296.000</td>\n",
              "      <td>3283417.000</td>\n",
              "      <td>549789.0000</td>\n",
              "      <td>1454672.000</td>\n",
              "      <td>4941981.754</td>\n",
              "      <td>531850.1926</td>\n",
              "      <td>7315235.649</td>\n",
              "      <td>6120086.089</td>\n",
              "      <td>8140200.383</td>\n",
              "      <td>3814229.013</td>\n",
              "      <td>632387.5921</td>\n",
              "      <td>1627959.289</td>\n",
              "      <td>1</td>\n",
              "      <td>4</td>\n",
              "      <td>26</td>\n",
              "      <td>2017-03-01</td>\n",
              "      <td>2017</td>\n",
              "      <td>3</td>\n",
              "    </tr>\n",
              "    <tr>\n",
              "      <th>2017-04-01</th>\n",
              "      <td>-2.122585</td>\n",
              "      <td>-2.419870</td>\n",
              "      <td>115386.4634</td>\n",
              "      <td>14093.0</td>\n",
              "      <td>1308557.0</td>\n",
              "      <td>5830.0</td>\n",
              "      <td>8263.0</td>\n",
              "      <td>394570.0</td>\n",
              "      <td>913987.0</td>\n",
              "      <td>976913.691</td>\n",
              "      <td>9.000049e+05</td>\n",
              "      <td>205596.3325</td>\n",
              "      <td>477863.7565</td>\n",
              "      <td>178911.5505</td>\n",
              "      <td>37633.3040</td>\n",
              "      <td>0.0653</td>\n",
              "      <td>14981.00793</td>\n",
              "      <td>207747.7702</td>\n",
              "      <td>4.66</td>\n",
              "      <td>2873.55</td>\n",
              "      <td>49.33</td>\n",
              "      <td>49.33</td>\n",
              "      <td>102.983586</td>\n",
              "      <td>-12.8</td>\n",
              "      <td>-10.9</td>\n",
              "      <td>-15.7</td>\n",
              "      <td>8.907718</td>\n",
              "      <td>1.050589e+11</td>\n",
              "      <td>1.250024e+11</td>\n",
              "      <td>1.243045e+11</td>\n",
              "      <td>1.099748e+11</td>\n",
              "      <td>8.874865e+10</td>\n",
              "      <td>9.272528e+10</td>\n",
              "      <td>5.317580e+10</td>\n",
              "      <td>1.235185e+11</td>\n",
              "      <td>2.542596e+10</td>\n",
              "      <td>1.223621e+10</td>\n",
              "      <td>1.243762e+11</td>\n",
              "      <td>9.845472e+11</td>\n",
              "      <td>92.851558</td>\n",
              "      <td>...</td>\n",
              "      <td>786453.6177</td>\n",
              "      <td>1665857.097</td>\n",
              "      <td>4182512.912</td>\n",
              "      <td>427158.3795</td>\n",
              "      <td>5430545.717</td>\n",
              "      <td>4119152.514</td>\n",
              "      <td>6258157.459</td>\n",
              "      <td>3447128.397</td>\n",
              "      <td>478975.7922</td>\n",
              "      <td>1302860.802</td>\n",
              "      <td>5430241.566</td>\n",
              "      <td>555441.9044</td>\n",
              "      <td>7916686.911</td>\n",
              "      <td>6566090.070</td>\n",
              "      <td>7930536.312</td>\n",
              "      <td>4347164.930</td>\n",
              "      <td>677598.1836</td>\n",
              "      <td>1864166.572</td>\n",
              "      <td>4353892.017</td>\n",
              "      <td>433679.7772</td>\n",
              "      <td>5854575.608</td>\n",
              "      <td>4445890.861</td>\n",
              "      <td>6402426.269</td>\n",
              "      <td>3390803.016</td>\n",
              "      <td>550883.0739</td>\n",
              "      <td>1302564.560</td>\n",
              "      <td>4680431.000</td>\n",
              "      <td>460632.0000</td>\n",
              "      <td>5702443.000</td>\n",
              "      <td>4657354.000</td>\n",
              "      <td>7012296.000</td>\n",
              "      <td>3283417.000</td>\n",
              "      <td>549789.0000</td>\n",
              "      <td>1454672.000</td>\n",
              "      <td>2</td>\n",
              "      <td>5</td>\n",
              "      <td>23</td>\n",
              "      <td>2017-04-01</td>\n",
              "      <td>2017</td>\n",
              "      <td>4</td>\n",
              "    </tr>\n",
              "    <tr>\n",
              "      <th>2017-05-01</th>\n",
              "      <td>-0.665067</td>\n",
              "      <td>-0.644222</td>\n",
              "      <td>116440.6893</td>\n",
              "      <td>13645.0</td>\n",
              "      <td>1449398.0</td>\n",
              "      <td>3766.0</td>\n",
              "      <td>9879.0</td>\n",
              "      <td>254338.0</td>\n",
              "      <td>1195060.0</td>\n",
              "      <td>1021787.442</td>\n",
              "      <td>9.990460e+05</td>\n",
              "      <td>227246.8955</td>\n",
              "      <td>521968.2200</td>\n",
              "      <td>204522.2195</td>\n",
              "      <td>45308.6685</td>\n",
              "      <td>0.0617</td>\n",
              "      <td>14981.00793</td>\n",
              "      <td>207747.7702</td>\n",
              "      <td>4.37</td>\n",
              "      <td>2924.00</td>\n",
              "      <td>48.69</td>\n",
              "      <td>48.32</td>\n",
              "      <td>103.070062</td>\n",
              "      <td>-16.9</td>\n",
              "      <td>-12.4</td>\n",
              "      <td>-23.7</td>\n",
              "      <td>9.417001</td>\n",
              "      <td>8.694237e+10</td>\n",
              "      <td>1.153829e+11</td>\n",
              "      <td>1.176807e+11</td>\n",
              "      <td>8.701007e+10</td>\n",
              "      <td>8.469597e+10</td>\n",
              "      <td>8.291499e+10</td>\n",
              "      <td>4.744757e+10</td>\n",
              "      <td>1.155134e+11</td>\n",
              "      <td>2.556480e+10</td>\n",
              "      <td>2.217084e+10</td>\n",
              "      <td>2.235675e+11</td>\n",
              "      <td>1.008891e+12</td>\n",
              "      <td>106.221913</td>\n",
              "      <td>...</td>\n",
              "      <td>546330.1638</td>\n",
              "      <td>1455228.844</td>\n",
              "      <td>5221504.230</td>\n",
              "      <td>542565.5737</td>\n",
              "      <td>7116995.809</td>\n",
              "      <td>6053780.975</td>\n",
              "      <td>7501101.418</td>\n",
              "      <td>4264839.340</td>\n",
              "      <td>786453.6177</td>\n",
              "      <td>1665857.097</td>\n",
              "      <td>4182512.912</td>\n",
              "      <td>427158.3795</td>\n",
              "      <td>5430545.717</td>\n",
              "      <td>4119152.514</td>\n",
              "      <td>6258157.459</td>\n",
              "      <td>3447128.397</td>\n",
              "      <td>478975.7922</td>\n",
              "      <td>1302860.802</td>\n",
              "      <td>5430241.566</td>\n",
              "      <td>555441.9044</td>\n",
              "      <td>7916686.911</td>\n",
              "      <td>6566090.070</td>\n",
              "      <td>7930536.312</td>\n",
              "      <td>4347164.930</td>\n",
              "      <td>677598.1836</td>\n",
              "      <td>1864166.572</td>\n",
              "      <td>4353892.017</td>\n",
              "      <td>433679.7772</td>\n",
              "      <td>5854575.608</td>\n",
              "      <td>4445890.861</td>\n",
              "      <td>6402426.269</td>\n",
              "      <td>3390803.016</td>\n",
              "      <td>550883.0739</td>\n",
              "      <td>1302564.560</td>\n",
              "      <td>2</td>\n",
              "      <td>4</td>\n",
              "      <td>25</td>\n",
              "      <td>2017-05-01</td>\n",
              "      <td>2017</td>\n",
              "      <td>5</td>\n",
              "    </tr>\n",
              "  </tbody>\n",
              "</table>\n",
              "<p>5 rows × 945 columns</p>\n",
              "</div>"
            ],
            "text/plain": [
              "            Quantity  Seasonal  Consumer_loans  ...     Date_2  Year  Month\n",
              "date                                            ...                        \n",
              "2017-01-01  1.503548  0.699923     112579.4297  ... 2017-01-01  2017      1\n",
              "2017-02-01  0.076213  0.316156     113438.0949  ... 2017-02-01  2017      2\n",
              "2017-03-01 -1.346258 -0.267695     114667.2587  ... 2017-03-01  2017      3\n",
              "2017-04-01 -2.122585 -2.419870     115386.4634  ... 2017-04-01  2017      4\n",
              "2017-05-01 -0.665067 -0.644222     116440.6893  ... 2017-05-01  2017      5\n",
              "\n",
              "[5 rows x 945 columns]"
            ]
          },
          "metadata": {},
          "execution_count": 30
        }
      ]
    },
    {
      "cell_type": "code",
      "metadata": {
        "id": "0BEViD5-Aibw"
      },
      "source": [
        "import calendar\n",
        "#df['Month'] = df['Month'].apply(lambda x: calendar.month_abbr[x])\n",
        "Boxplot_data['Month'] = Boxplot_data['Month'].apply(lambda x: calendar.month_abbr[x])"
      ],
      "execution_count": 31,
      "outputs": []
    },
    {
      "cell_type": "code",
      "metadata": {
        "colab": {
          "base_uri": "https://localhost:8080/",
          "height": 286
        },
        "id": "WXe88ckdAiYE",
        "outputId": "fdd7dbc0-b1be-4653-a029-52e4354c5aa8"
      },
      "source": [
        "Boxplot_data.head(3)"
      ],
      "execution_count": 32,
      "outputs": [
        {
          "output_type": "execute_result",
          "data": {
            "text/html": [
              "<div>\n",
              "<style scoped>\n",
              "    .dataframe tbody tr th:only-of-type {\n",
              "        vertical-align: middle;\n",
              "    }\n",
              "\n",
              "    .dataframe tbody tr th {\n",
              "        vertical-align: top;\n",
              "    }\n",
              "\n",
              "    .dataframe thead th {\n",
              "        text-align: right;\n",
              "    }\n",
              "</style>\n",
              "<table border=\"1\" class=\"dataframe\">\n",
              "  <thead>\n",
              "    <tr style=\"text-align: right;\">\n",
              "      <th></th>\n",
              "      <th>Quantity</th>\n",
              "      <th>Seasonal</th>\n",
              "      <th>Consumer_loans</th>\n",
              "      <th>Construction_lic_unt</th>\n",
              "      <th>Construction_lic_area</th>\n",
              "      <th>Construction_lic_unt_SI</th>\n",
              "      <th>Construction_lic_unt_NO_SI</th>\n",
              "      <th>Construction_lic_area_SI</th>\n",
              "      <th>Construction_lic_area_NO_SI</th>\n",
              "      <th>Gray_cement_prod</th>\n",
              "      <th>Gray_cement_dispatch</th>\n",
              "      <th>Gray_cement_dispatch_Factory</th>\n",
              "      <th>Gray_cement_dispatch_comercial</th>\n",
              "      <th>Gray_cement_dispatch_contractor</th>\n",
              "      <th>Gray_cement_dispatch_other</th>\n",
              "      <th>DTF(interest_rate)</th>\n",
              "      <th>GDP_Constr</th>\n",
              "      <th>GDP_Total</th>\n",
              "      <th>Inflation</th>\n",
              "      <th>USD_exchange</th>\n",
              "      <th>Oil-brent</th>\n",
              "      <th>Oil_WTI</th>\n",
              "      <th>ISE</th>\n",
              "      <th>ICC</th>\n",
              "      <th>IEC</th>\n",
              "      <th>ICE</th>\n",
              "      <th>Unemployment%</th>\n",
              "      <th>RADAR_Constr</th>\n",
              "      <th>RADAR_Rev</th>\n",
              "      <th>RADAR_Toilets</th>\n",
              "      <th>RADAR_HomeAppliance</th>\n",
              "      <th>RADAR_Paint</th>\n",
              "      <th>RADAR_Furniture</th>\n",
              "      <th>RADAR_Tools</th>\n",
              "      <th>RADAR_Elect</th>\n",
              "      <th>RADAR_Plumbing</th>\n",
              "      <th>RADAR_Wood</th>\n",
              "      <th>RADAR_Supply</th>\n",
              "      <th>RADAR_Remodel</th>\n",
              "      <th>Construction_lic_area/unt</th>\n",
              "      <th>...</th>\n",
              "      <th>Treasury_loanlag_8</th>\n",
              "      <th>Housing_loanlag_8</th>\n",
              "      <th>Consumer_creditlag_9</th>\n",
              "      <th>Consumer_microcreditlag_9</th>\n",
              "      <th>Ordinary_creditlag_9</th>\n",
              "      <th>Preferencial_creditlag_9</th>\n",
              "      <th>loan_overdraftslag_9</th>\n",
              "      <th>Credit_cardlag_9</th>\n",
              "      <th>Treasury_loanlag_9</th>\n",
              "      <th>Housing_loanlag_9</th>\n",
              "      <th>Consumer_creditlag_10</th>\n",
              "      <th>Consumer_microcreditlag_10</th>\n",
              "      <th>Ordinary_creditlag_10</th>\n",
              "      <th>Preferencial_creditlag_10</th>\n",
              "      <th>loan_overdraftslag_10</th>\n",
              "      <th>Credit_cardlag_10</th>\n",
              "      <th>Treasury_loanlag_10</th>\n",
              "      <th>Housing_loanlag_10</th>\n",
              "      <th>Consumer_creditlag_11</th>\n",
              "      <th>Consumer_microcreditlag_11</th>\n",
              "      <th>Ordinary_creditlag_11</th>\n",
              "      <th>Preferencial_creditlag_11</th>\n",
              "      <th>loan_overdraftslag_11</th>\n",
              "      <th>Credit_cardlag_11</th>\n",
              "      <th>Treasury_loanlag_11</th>\n",
              "      <th>Housing_loanlag_11</th>\n",
              "      <th>Consumer_creditlag_12</th>\n",
              "      <th>Consumer_microcreditlag_12</th>\n",
              "      <th>Ordinary_creditlag_12</th>\n",
              "      <th>Preferencial_creditlag_12</th>\n",
              "      <th>loan_overdraftslag_12</th>\n",
              "      <th>Credit_cardlag_12</th>\n",
              "      <th>Treasury_loanlag_12</th>\n",
              "      <th>Housing_loanlag_12</th>\n",
              "      <th>holiday</th>\n",
              "      <th>sunday</th>\n",
              "      <th>working_day</th>\n",
              "      <th>Date_2</th>\n",
              "      <th>Year</th>\n",
              "      <th>Month</th>\n",
              "    </tr>\n",
              "    <tr>\n",
              "      <th>date</th>\n",
              "      <th></th>\n",
              "      <th></th>\n",
              "      <th></th>\n",
              "      <th></th>\n",
              "      <th></th>\n",
              "      <th></th>\n",
              "      <th></th>\n",
              "      <th></th>\n",
              "      <th></th>\n",
              "      <th></th>\n",
              "      <th></th>\n",
              "      <th></th>\n",
              "      <th></th>\n",
              "      <th></th>\n",
              "      <th></th>\n",
              "      <th></th>\n",
              "      <th></th>\n",
              "      <th></th>\n",
              "      <th></th>\n",
              "      <th></th>\n",
              "      <th></th>\n",
              "      <th></th>\n",
              "      <th></th>\n",
              "      <th></th>\n",
              "      <th></th>\n",
              "      <th></th>\n",
              "      <th></th>\n",
              "      <th></th>\n",
              "      <th></th>\n",
              "      <th></th>\n",
              "      <th></th>\n",
              "      <th></th>\n",
              "      <th></th>\n",
              "      <th></th>\n",
              "      <th></th>\n",
              "      <th></th>\n",
              "      <th></th>\n",
              "      <th></th>\n",
              "      <th></th>\n",
              "      <th></th>\n",
              "      <th></th>\n",
              "      <th></th>\n",
              "      <th></th>\n",
              "      <th></th>\n",
              "      <th></th>\n",
              "      <th></th>\n",
              "      <th></th>\n",
              "      <th></th>\n",
              "      <th></th>\n",
              "      <th></th>\n",
              "      <th></th>\n",
              "      <th></th>\n",
              "      <th></th>\n",
              "      <th></th>\n",
              "      <th></th>\n",
              "      <th></th>\n",
              "      <th></th>\n",
              "      <th></th>\n",
              "      <th></th>\n",
              "      <th></th>\n",
              "      <th></th>\n",
              "      <th></th>\n",
              "      <th></th>\n",
              "      <th></th>\n",
              "      <th></th>\n",
              "      <th></th>\n",
              "      <th></th>\n",
              "      <th></th>\n",
              "      <th></th>\n",
              "      <th></th>\n",
              "      <th></th>\n",
              "      <th></th>\n",
              "      <th></th>\n",
              "      <th></th>\n",
              "      <th></th>\n",
              "      <th></th>\n",
              "      <th></th>\n",
              "      <th></th>\n",
              "      <th></th>\n",
              "      <th></th>\n",
              "      <th></th>\n",
              "    </tr>\n",
              "  </thead>\n",
              "  <tbody>\n",
              "    <tr>\n",
              "      <th>2017-01-01</th>\n",
              "      <td>1.503548</td>\n",
              "      <td>0.699923</td>\n",
              "      <td>112579.4297</td>\n",
              "      <td>11303.0</td>\n",
              "      <td>1185131.0</td>\n",
              "      <td>3587.0</td>\n",
              "      <td>7716.0</td>\n",
              "      <td>229478.0</td>\n",
              "      <td>955653.0</td>\n",
              "      <td>897063.518</td>\n",
              "      <td>913190.407</td>\n",
              "      <td>194276.0200</td>\n",
              "      <td>502084.8330</td>\n",
              "      <td>171559.9665</td>\n",
              "      <td>45269.5875</td>\n",
              "      <td>0.0694</td>\n",
              "      <td>14753.34784</td>\n",
              "      <td>206242.568</td>\n",
              "      <td>5.47</td>\n",
              "      <td>2944.65</td>\n",
              "      <td>52.19</td>\n",
              "      <td>52.81</td>\n",
              "      <td>102.548972</td>\n",
              "      <td>-30.2</td>\n",
              "      <td>-28.3</td>\n",
              "      <td>-33.1</td>\n",
              "      <td>11.733267</td>\n",
              "      <td>1.044525e+11</td>\n",
              "      <td>1.323489e+11</td>\n",
              "      <td>1.727682e+11</td>\n",
              "      <td>1.050914e+11</td>\n",
              "      <td>8.847567e+10</td>\n",
              "      <td>8.354725e+10</td>\n",
              "      <td>5.008444e+10</td>\n",
              "      <td>9.372000e+10</td>\n",
              "      <td>3.037115e+10</td>\n",
              "      <td>3.136015e+10</td>\n",
              "      <td>1.585430e+11</td>\n",
              "      <td>1.050763e+12</td>\n",
              "      <td>104.851013</td>\n",
              "      <td>...</td>\n",
              "      <td>550883.0739</td>\n",
              "      <td>1302564.560</td>\n",
              "      <td>4680431.000</td>\n",
              "      <td>460632.0000</td>\n",
              "      <td>5702443.000</td>\n",
              "      <td>4657354.000</td>\n",
              "      <td>7012296.000</td>\n",
              "      <td>3283417.000</td>\n",
              "      <td>549789.0000</td>\n",
              "      <td>1454672.000</td>\n",
              "      <td>4941981.754</td>\n",
              "      <td>531850.1926</td>\n",
              "      <td>7315235.649</td>\n",
              "      <td>6120086.089</td>\n",
              "      <td>8140200.383</td>\n",
              "      <td>3814229.013</td>\n",
              "      <td>632387.5921</td>\n",
              "      <td>1627959.289</td>\n",
              "      <td>4068020.900</td>\n",
              "      <td>438682.2679</td>\n",
              "      <td>6513619.182</td>\n",
              "      <td>6137144.374</td>\n",
              "      <td>6675101.294</td>\n",
              "      <td>2989980.729</td>\n",
              "      <td>483448.3473</td>\n",
              "      <td>1298811.962</td>\n",
              "      <td>3106784.500</td>\n",
              "      <td>386289.5525</td>\n",
              "      <td>4875376.339</td>\n",
              "      <td>4791146.877</td>\n",
              "      <td>5996088.922</td>\n",
              "      <td>3013612.505</td>\n",
              "      <td>470541.3290</td>\n",
              "      <td>1093819.181</td>\n",
              "      <td>1</td>\n",
              "      <td>5</td>\n",
              "      <td>25</td>\n",
              "      <td>2017-01-01</td>\n",
              "      <td>2017</td>\n",
              "      <td>Jan</td>\n",
              "    </tr>\n",
              "    <tr>\n",
              "      <th>2017-02-01</th>\n",
              "      <td>0.076213</td>\n",
              "      <td>0.316156</td>\n",
              "      <td>113438.0949</td>\n",
              "      <td>16187.0</td>\n",
              "      <td>1590979.0</td>\n",
              "      <td>4659.0</td>\n",
              "      <td>11528.0</td>\n",
              "      <td>272961.0</td>\n",
              "      <td>1318018.0</td>\n",
              "      <td>1025704.960</td>\n",
              "      <td>1007968.299</td>\n",
              "      <td>228359.8390</td>\n",
              "      <td>530826.1625</td>\n",
              "      <td>199731.6950</td>\n",
              "      <td>49050.6025</td>\n",
              "      <td>0.0678</td>\n",
              "      <td>14753.34784</td>\n",
              "      <td>206242.568</td>\n",
              "      <td>5.18</td>\n",
              "      <td>2881.68</td>\n",
              "      <td>53.40</td>\n",
              "      <td>54.01</td>\n",
              "      <td>102.919033</td>\n",
              "      <td>-24.3</td>\n",
              "      <td>-19.9</td>\n",
              "      <td>-31.0</td>\n",
              "      <td>10.504292</td>\n",
              "      <td>1.574855e+11</td>\n",
              "      <td>8.351517e+10</td>\n",
              "      <td>1.096908e+11</td>\n",
              "      <td>8.252536e+10</td>\n",
              "      <td>8.582517e+10</td>\n",
              "      <td>1.522091e+11</td>\n",
              "      <td>5.056706e+10</td>\n",
              "      <td>6.034851e+10</td>\n",
              "      <td>2.138243e+10</td>\n",
              "      <td>2.216364e+10</td>\n",
              "      <td>2.104634e+11</td>\n",
              "      <td>1.036176e+12</td>\n",
              "      <td>98.287453</td>\n",
              "      <td>...</td>\n",
              "      <td>677598.1836</td>\n",
              "      <td>1864166.572</td>\n",
              "      <td>4353892.017</td>\n",
              "      <td>433679.7772</td>\n",
              "      <td>5854575.608</td>\n",
              "      <td>4445890.861</td>\n",
              "      <td>6402426.269</td>\n",
              "      <td>3390803.016</td>\n",
              "      <td>550883.0739</td>\n",
              "      <td>1302564.560</td>\n",
              "      <td>4680431.000</td>\n",
              "      <td>460632.0000</td>\n",
              "      <td>5702443.000</td>\n",
              "      <td>4657354.000</td>\n",
              "      <td>7012296.000</td>\n",
              "      <td>3283417.000</td>\n",
              "      <td>549789.0000</td>\n",
              "      <td>1454672.000</td>\n",
              "      <td>4941981.754</td>\n",
              "      <td>531850.1926</td>\n",
              "      <td>7315235.649</td>\n",
              "      <td>6120086.089</td>\n",
              "      <td>8140200.383</td>\n",
              "      <td>3814229.013</td>\n",
              "      <td>632387.5921</td>\n",
              "      <td>1627959.289</td>\n",
              "      <td>4068020.900</td>\n",
              "      <td>438682.2679</td>\n",
              "      <td>6513619.182</td>\n",
              "      <td>6137144.374</td>\n",
              "      <td>6675101.294</td>\n",
              "      <td>2989980.729</td>\n",
              "      <td>483448.3473</td>\n",
              "      <td>1298811.962</td>\n",
              "      <td>0</td>\n",
              "      <td>4</td>\n",
              "      <td>24</td>\n",
              "      <td>2017-02-01</td>\n",
              "      <td>2017</td>\n",
              "      <td>Feb</td>\n",
              "    </tr>\n",
              "    <tr>\n",
              "      <th>2017-03-01</th>\n",
              "      <td>-1.346258</td>\n",
              "      <td>-0.267695</td>\n",
              "      <td>114667.2587</td>\n",
              "      <td>15231.0</td>\n",
              "      <td>1438528.0</td>\n",
              "      <td>5687.0</td>\n",
              "      <td>9544.0</td>\n",
              "      <td>354904.0</td>\n",
              "      <td>1083624.0</td>\n",
              "      <td>1099919.669</td>\n",
              "      <td>1083268.231</td>\n",
              "      <td>241130.4555</td>\n",
              "      <td>568447.4880</td>\n",
              "      <td>218640.3600</td>\n",
              "      <td>55049.9274</td>\n",
              "      <td>0.0665</td>\n",
              "      <td>14753.34784</td>\n",
              "      <td>206242.568</td>\n",
              "      <td>4.69</td>\n",
              "      <td>2943.49</td>\n",
              "      <td>50.43</td>\n",
              "      <td>50.60</td>\n",
              "      <td>102.162670</td>\n",
              "      <td>-21.1</td>\n",
              "      <td>-18.3</td>\n",
              "      <td>-25.4</td>\n",
              "      <td>9.704610</td>\n",
              "      <td>1.215372e+11</td>\n",
              "      <td>9.821204e+10</td>\n",
              "      <td>1.191497e+11</td>\n",
              "      <td>9.035507e+10</td>\n",
              "      <td>9.516119e+10</td>\n",
              "      <td>1.388751e+11</td>\n",
              "      <td>5.266968e+10</td>\n",
              "      <td>1.137228e+11</td>\n",
              "      <td>2.872364e+10</td>\n",
              "      <td>2.258877e+10</td>\n",
              "      <td>1.192185e+11</td>\n",
              "      <td>1.000214e+12</td>\n",
              "      <td>94.447377</td>\n",
              "      <td>...</td>\n",
              "      <td>478975.7922</td>\n",
              "      <td>1302860.802</td>\n",
              "      <td>5430241.566</td>\n",
              "      <td>555441.9044</td>\n",
              "      <td>7916686.911</td>\n",
              "      <td>6566090.070</td>\n",
              "      <td>7930536.312</td>\n",
              "      <td>4347164.930</td>\n",
              "      <td>677598.1836</td>\n",
              "      <td>1864166.572</td>\n",
              "      <td>4353892.017</td>\n",
              "      <td>433679.7772</td>\n",
              "      <td>5854575.608</td>\n",
              "      <td>4445890.861</td>\n",
              "      <td>6402426.269</td>\n",
              "      <td>3390803.016</td>\n",
              "      <td>550883.0739</td>\n",
              "      <td>1302564.560</td>\n",
              "      <td>4680431.000</td>\n",
              "      <td>460632.0000</td>\n",
              "      <td>5702443.000</td>\n",
              "      <td>4657354.000</td>\n",
              "      <td>7012296.000</td>\n",
              "      <td>3283417.000</td>\n",
              "      <td>549789.0000</td>\n",
              "      <td>1454672.000</td>\n",
              "      <td>4941981.754</td>\n",
              "      <td>531850.1926</td>\n",
              "      <td>7315235.649</td>\n",
              "      <td>6120086.089</td>\n",
              "      <td>8140200.383</td>\n",
              "      <td>3814229.013</td>\n",
              "      <td>632387.5921</td>\n",
              "      <td>1627959.289</td>\n",
              "      <td>1</td>\n",
              "      <td>4</td>\n",
              "      <td>26</td>\n",
              "      <td>2017-03-01</td>\n",
              "      <td>2017</td>\n",
              "      <td>Mar</td>\n",
              "    </tr>\n",
              "  </tbody>\n",
              "</table>\n",
              "<p>3 rows × 945 columns</p>\n",
              "</div>"
            ],
            "text/plain": [
              "            Quantity  Seasonal  Consumer_loans  ...     Date_2  Year  Month\n",
              "date                                            ...                        \n",
              "2017-01-01  1.503548  0.699923     112579.4297  ... 2017-01-01  2017    Jan\n",
              "2017-02-01  0.076213  0.316156     113438.0949  ... 2017-02-01  2017    Feb\n",
              "2017-03-01 -1.346258 -0.267695     114667.2587  ... 2017-03-01  2017    Mar\n",
              "\n",
              "[3 rows x 945 columns]"
            ]
          },
          "metadata": {},
          "execution_count": 32
        }
      ]
    },
    {
      "cell_type": "markdown",
      "metadata": {
        "id": "Pnba1NPABYMN"
      },
      "source": [
        "## Box plot Year Over Year"
      ]
    },
    {
      "cell_type": "markdown",
      "metadata": {
        "id": "e8IbMgsSBeX3"
      },
      "source": [
        "# Quantity"
      ]
    },
    {
      "cell_type": "code",
      "metadata": {
        "colab": {
          "base_uri": "https://localhost:8080/",
          "height": 294
        },
        "id": "jhhSnWkvAiUp",
        "outputId": "0aefbc64-cc8f-4afd-8bcd-09af19cb4ac3"
      },
      "source": [
        "ax = sns.boxplot(x=\"Year\", y=\"Quantity\", data= Boxplot_data).set_title(\"Porcelana Quantity: Year Over Year\")"
      ],
      "execution_count": 33,
      "outputs": [
        {
          "output_type": "display_data",
          "data": {
            "image/png": "[encoded data removed]",
            "text/plain": [
              "<Figure size 432x288 with 1 Axes>"
            ]
          },
          "metadata": {
            "needs_background": "light"
          }
        }
      ]
    },
    {
      "cell_type": "markdown",
      "metadata": {
        "id": "Ul31Ol_GBmBJ"
      },
      "source": [
        "Boxplot Month over month"
      ]
    },
    {
      "cell_type": "code",
      "metadata": {
        "colab": {
          "base_uri": "https://localhost:8080/",
          "height": 294
        },
        "id": "BlJM2rx7AiRB",
        "outputId": "0d3168c1-f39d-4f6a-d96c-b46f6ad84866"
      },
      "source": [
        "ax = sns.boxplot(x=\"Month\", y=\"Quantity\", data= Boxplot_data).set_title(\"Porcelana Quantity: Monthly Year Over Year\")"
      ],
      "execution_count": 34,
      "outputs": [
        {
          "output_type": "display_data",
          "data": {
            "image/png": "[encoded data removed]",
            "text/plain": [
              "<Figure size 432x288 with 1 Axes>"
            ]
          },
          "metadata": {
            "needs_background": "light"
          }
        }
      ]
    },
    {
      "cell_type": "markdown",
      "metadata": {
        "id": "GGfUYSVdBzro"
      },
      "source": [
        "# Boxplot Gray_cement_dispatch_comercial "
      ]
    },
    {
      "cell_type": "code",
      "metadata": {
        "colab": {
          "base_uri": "https://localhost:8080/",
          "height": 294
        },
        "id": "2dO4byMmBzaD",
        "outputId": "b9bc9030-ff62-47b2-8df3-4fb16b85361f"
      },
      "source": [
        "ax = sns.boxplot(x=\"Year\", y=\"Gray_cement_dispatch_comercial\", data= Boxplot_data).set_title(\"Porcelana Gray_cement_dispatch_comercial: Year Over Year\")"
      ],
      "execution_count": 35,
      "outputs": [
        {
          "output_type": "display_data",
          "data": {
            "image/png": "[encoded data removed]",
            "text/plain": [
              "<Figure size 432x288 with 1 Axes>"
            ]
          },
          "metadata": {
            "needs_background": "light"
          }
        }
      ]
    },
    {
      "cell_type": "code",
      "metadata": {
        "colab": {
          "base_uri": "https://localhost:8080/",
          "height": 294
        },
        "id": "WoMRky5VAiOI",
        "outputId": "69587a67-7671-4e62-876e-9894ac1f138b"
      },
      "source": [
        "ax = sns.boxplot(x=\"Month\", y=\"Gray_cement_dispatch_comercial\", data= Boxplot_data).set_title(\"Porcelana Gray_cement_dispatch_comercial: Monthly Year Over Year\")"
      ],
      "execution_count": 36,
      "outputs": [
        {
          "output_type": "display_data",
          "data": {
            "image/png": "[encoded data removed]",
            "text/plain": [
              "<Figure size 432x288 with 1 Axes>"
            ]
          },
          "metadata": {
            "needs_background": "light"
          }
        }
      ]
    },
    {
      "cell_type": "markdown",
      "metadata": {
        "id": "FS-WYxgPCIQ5"
      },
      "source": [
        "# BoxplotGray_cement_dispatch_other"
      ]
    },
    {
      "cell_type": "code",
      "metadata": {
        "id": "AdCZhcZlAiKa"
      },
      "source": [
        ""
      ],
      "execution_count": null,
      "outputs": []
    },
    {
      "cell_type": "code",
      "metadata": {
        "colab": {
          "base_uri": "https://localhost:8080/",
          "height": 294
        },
        "id": "hwpqEopDuaZM",
        "outputId": "c530d30c-ace8-4c68-e6c9-c93cede85f12"
      },
      "source": [
        "ax = sns.boxplot(x=\"Year\", y=\"Gray_cement_dispatch_other\", data= Boxplot_data).set_title(\"Gray_cement_dispatch_other: Year Over Year\")"
      ],
      "execution_count": 37,
      "outputs": [
        {
          "output_type": "display_data",
          "data": {
            "image/png": "[encoded data removed]",
            "text/plain": [
              "<Figure size 432x288 with 1 Axes>"
            ]
          },
          "metadata": {
            "needs_background": "light"
          }
        }
      ]
    },
    {
      "cell_type": "code",
      "metadata": {
        "id": "tsMp8229AiG2"
      },
      "source": [
        ""
      ],
      "execution_count": null,
      "outputs": []
    },
    {
      "cell_type": "code",
      "metadata": {
        "colab": {
          "base_uri": "https://localhost:8080/",
          "height": 294
        },
        "id": "-WpWYVGTxIEe",
        "outputId": "31f99f39-6e54-4630-b7e4-4540494d1af6"
      },
      "source": [
        "ax = sns.boxplot(x=\"Month\", y=\"Gray_cement_dispatch_other\", data= Boxplot_data).set_title(\"Gray_cement_dispatch_other: Year Over Year\")"
      ],
      "execution_count": 38,
      "outputs": [
        {
          "output_type": "display_data",
          "data": {
            "image/png": "[encoded data removed]",
            "text/plain": [
              "<Figure size 432x288 with 1 Axes>"
            ]
          },
          "metadata": {
            "needs_background": "light"
          }
        }
      ]
    },
    {
      "cell_type": "markdown",
      "metadata": {
        "id": "atbHfdcGCWEm"
      },
      "source": [
        "# Boxplot Gray_cement_prod \n"
      ]
    },
    {
      "cell_type": "code",
      "metadata": {
        "colab": {
          "base_uri": "https://localhost:8080/",
          "height": 294
        },
        "id": "jqRNSGVa-_uh",
        "outputId": "bc2e4337-4761-4594-dc62-bba4d18c367f"
      },
      "source": [
        "ax = sns.boxplot(x=\"Year\", y=\"Gray_cement_prod\", data= Boxplot_data).set_title(\"Gray_cement_prod: Year Over Year\")"
      ],
      "execution_count": 39,
      "outputs": [
        {
          "output_type": "display_data",
          "data": {
            "image/png": "[encoded data removed]",
            "text/plain": [
              "<Figure size 432x288 with 1 Axes>"
            ]
          },
          "metadata": {
            "needs_background": "light"
          }
        }
      ]
    },
    {
      "cell_type": "code",
      "metadata": {
        "colab": {
          "base_uri": "https://localhost:8080/",
          "height": 294
        },
        "id": "CAgBJy_2Cm_1",
        "outputId": "ab86a169-1a72-431c-bf03-6239810d2231"
      },
      "source": [
        "ax = sns.boxplot(x=\"Month\", y=\"Gray_cement_prod\", data= Boxplot_data).set_title(\"Gray_cement_prod: Year Over Year\")"
      ],
      "execution_count": 40,
      "outputs": [
        {
          "output_type": "display_data",
          "data": {
            "image/png": "[encoded data removed]",
            "text/plain": [
              "<Figure size 432x288 with 1 Axes>"
            ]
          },
          "metadata": {
            "needs_background": "light"
          }
        }
      ]
    },
    {
      "cell_type": "markdown",
      "metadata": {
        "id": "F9ZgahaKDzzB"
      },
      "source": [
        "# Boxplot Housing_total_sales"
      ]
    },
    {
      "cell_type": "code",
      "metadata": {
        "colab": {
          "base_uri": "https://localhost:8080/",
          "height": 294
        },
        "id": "vIJQPmFtCm8g",
        "outputId": "5c6af125-a46c-4add-d748-1f8f2f8aa526"
      },
      "source": [
        "ax = sns.boxplot(x=\"Year\", y=\"Housing_total_sales\", data= Boxplot_data).set_title(\"Housing_total_sales: Year Over Year\")"
      ],
      "execution_count": 41,
      "outputs": [
        {
          "output_type": "display_data",
          "data": {
            "image/png": "[encoded data removed]",
            "text/plain": [
              "<Figure size 432x288 with 1 Axes>"
            ]
          },
          "metadata": {
            "needs_background": "light"
          }
        }
      ]
    },
    {
      "cell_type": "code",
      "metadata": {
        "colab": {
          "base_uri": "https://localhost:8080/",
          "height": 294
        },
        "id": "vJV5AZZICm4m",
        "outputId": "76810fb2-3163-4205-8a6c-668f1f5c7ebe"
      },
      "source": [
        "ax = sns.boxplot(x=\"Month\", y=\"Housing_total_sales\", data= Boxplot_data).set_title(\"Housing_total_sales: Year Over Year\")"
      ],
      "execution_count": 42,
      "outputs": [
        {
          "output_type": "display_data",
          "data": {
            "image/png": "[encoded data removed]",
            "text/plain": [
              "<Figure size 432x288 with 1 Axes>"
            ]
          },
          "metadata": {
            "needs_background": "light"
          }
        }
      ]
    },
    {
      "cell_type": "markdown",
      "metadata": {
        "id": "cBV4FxKfECB9"
      },
      "source": [
        "# Boxplot ISE"
      ]
    },
    {
      "cell_type": "code",
      "metadata": {
        "colab": {
          "base_uri": "https://localhost:8080/",
          "height": 294
        },
        "id": "E5Xu-14uCm1M",
        "outputId": "197d57a2-2aaa-4339-af9e-51184a6d0f84"
      },
      "source": [
        "ax = sns.boxplot(x=\"Year\", y=\"ISE\", data= Boxplot_data).set_title(\"ISE: Year Over Year\")"
      ],
      "execution_count": 43,
      "outputs": [
        {
          "output_type": "display_data",
          "data": {
            "image/png": "[encoded data removed]",
            "text/plain": [
              "<Figure size 432x288 with 1 Axes>"
            ]
          },
          "metadata": {
            "needs_background": "light"
          }
        }
      ]
    },
    {
      "cell_type": "code",
      "metadata": {
        "colab": {
          "base_uri": "https://localhost:8080/",
          "height": 294
        },
        "id": "PtzeVH11Cmxi",
        "outputId": "de86e6c3-b0a2-49cf-cd82-942e20a15cf9"
      },
      "source": [
        "ax = sns.boxplot(x=\"Month\", y=\"ISE\", data= Boxplot_data).set_title(\"ISE: Year Over Year\")"
      ],
      "execution_count": 44,
      "outputs": [
        {
          "output_type": "display_data",
          "data": {
            "image/png": "[encoded data removed]",
            "text/plain": [
              "<Figure size 432x288 with 1 Axes>"
            ]
          },
          "metadata": {
            "needs_background": "light"
          }
        }
      ]
    },
    {
      "cell_type": "markdown",
      "metadata": {
        "id": "ONU6WWDQETQL"
      },
      "source": [
        "# Boxplot Housing_total_sales_SI"
      ]
    },
    {
      "cell_type": "code",
      "metadata": {
        "colab": {
          "base_uri": "https://localhost:8080/",
          "height": 294
        },
        "id": "IqntP0h7Cms8",
        "outputId": "72a7db84-55b8-4e81-8d47-7b9f8030e055"
      },
      "source": [
        "ax = sns.boxplot(x=\"Year\", y=\"Housing_total_sales_SI\", data= Boxplot_data).set_title(\"Housing_total_sales_SI: Year Over Year\")"
      ],
      "execution_count": 45,
      "outputs": [
        {
          "output_type": "display_data",
          "data": {
            "image/png": "[encoded data removed]",
            "text/plain": [
              "<Figure size 432x288 with 1 Axes>"
            ]
          },
          "metadata": {
            "needs_background": "light"
          }
        }
      ]
    },
    {
      "cell_type": "code",
      "metadata": {
        "colab": {
          "base_uri": "https://localhost:8080/",
          "height": 294
        },
        "id": "UPyJQmDVCmpX",
        "outputId": "0aba5fc8-8880-4b47-87f5-88264187e93e"
      },
      "source": [
        "ax = sns.boxplot(x=\"Month\", y=\"Housing_total_sales_SI\", data= Boxplot_data).set_title(\"Housing_total_sales_SI: Year Over Year\")"
      ],
      "execution_count": 46,
      "outputs": [
        {
          "output_type": "display_data",
          "data": {
            "image/png": "[encoded data removed]",
            "text/plain": [
              "<Figure size 432x288 with 1 Axes>"
            ]
          },
          "metadata": {
            "needs_background": "light"
          }
        }
      ]
    },
    {
      "cell_type": "markdown",
      "metadata": {
        "id": "-eS6ns7qEc0X"
      },
      "source": [
        "# Boxplot working_day"
      ]
    },
    {
      "cell_type": "code",
      "metadata": {
        "colab": {
          "base_uri": "https://localhost:8080/",
          "height": 294
        },
        "id": "cDB4OppBCmnI",
        "outputId": "0b9c3d0b-305e-4096-c461-39657b38bf48"
      },
      "source": [
        "ax = sns.boxplot(x=\"Year\", y=\"working_day\", data= Boxplot_data).set_title(\"Working_day : Year Over Year\")"
      ],
      "execution_count": 47,
      "outputs": [
        {
          "output_type": "display_data",
          "data": {
            "image/png": "[encoded data removed]",
            "text/plain": [
              "<Figure size 432x288 with 1 Axes>"
            ]
          },
          "metadata": {
            "needs_background": "light"
          }
        }
      ]
    },
    {
      "cell_type": "code",
      "metadata": {
        "colab": {
          "base_uri": "https://localhost:8080/",
          "height": 294
        },
        "id": "-VuAV861CmjH",
        "outputId": "db2195ff-da86-4d49-bc6f-b249929a4300"
      },
      "source": [
        "ax = sns.boxplot(x=\"Month\", y=\"working_day\", data= Boxplot_data).set_title(\"Working_day : Year Over Year\")"
      ],
      "execution_count": 48,
      "outputs": [
        {
          "output_type": "display_data",
          "data": {
            "image/png": "[encoded data removed]",
            "text/plain": [
              "<Figure size 432x288 with 1 Axes>"
            ]
          },
          "metadata": {
            "needs_background": "light"
          }
        }
      ]
    },
    {
      "cell_type": "markdown",
      "metadata": {
        "id": "QVzWNwUVE8t9"
      },
      "source": [
        "#  Boxplot Consumer_microcredit"
      ]
    },
    {
      "cell_type": "code",
      "metadata": {
        "colab": {
          "base_uri": "https://localhost:8080/",
          "height": 294
        },
        "id": "vBhwcn_2Cmey",
        "outputId": "578fb1ad-7377-439e-e1df-ef498c5d0742"
      },
      "source": [
        "ax = sns.boxplot(x=\"Year\", y=\"Consumer_microcredit\", data= Boxplot_data).set_title(\"Consumer_microcredit: Year Over Year\")"
      ],
      "execution_count": 50,
      "outputs": [
        {
          "output_type": "display_data",
          "data": {
            "image/png": "[encoded data removed]",
            "text/plain": [
              "<Figure size 432x288 with 1 Axes>"
            ]
          },
          "metadata": {
            "needs_background": "light"
          }
        }
      ]
    },
    {
      "cell_type": "code",
      "metadata": {
        "colab": {
          "base_uri": "https://localhost:8080/",
          "height": 294
        },
        "id": "2OS6DC_RCmZB",
        "outputId": "bda66bce-3037-487a-f076-cd4938bb9042"
      },
      "source": [
        "ax = sns.boxplot(x=\"Month\", y=\"Consumer_microcredit\", data= Boxplot_data).set_title(\"Consumer_microcredit: Year Over Year\")"
      ],
      "execution_count": 51,
      "outputs": [
        {
          "output_type": "display_data",
          "data": {
            "image/png": "[encoded data removed]",
            "text/plain": [
              "<Figure size 432x288 with 1 Axes>"
            ]
          },
          "metadata": {
            "needs_background": "light"
          }
        }
      ]
    },
    {
      "cell_type": "markdown",
      "metadata": {
        "id": "_ENsgT9vFNfP"
      },
      "source": [
        "# Boxplot Gray_cement_dispatch_contractor"
      ]
    },
    {
      "cell_type": "code",
      "metadata": {
        "colab": {
          "base_uri": "https://localhost:8080/",
          "height": 294
        },
        "id": "4SYPPAl0CmUV",
        "outputId": "7bc4399e-9dbc-4db0-cf37-659e4c963ae7"
      },
      "source": [
        "ax = sns.boxplot(x=\"Year\", y=\"Gray_cement_dispatch_contractor\", data= Boxplot_data).set_title(\"Gray_cement_dispatch_contractor: Year Over Year\")"
      ],
      "execution_count": 52,
      "outputs": [
        {
          "output_type": "display_data",
          "data": {
            "image/png": "[encoded data removed]",
            "text/plain": [
              "<Figure size 432x288 with 1 Axes>"
            ]
          },
          "metadata": {
            "needs_background": "light"
          }
        }
      ]
    },
    {
      "cell_type": "code",
      "metadata": {
        "colab": {
          "base_uri": "https://localhost:8080/",
          "height": 294
        },
        "id": "Hav42b3DCmQs",
        "outputId": "d49a2201-0c04-4ad4-bd2d-d4c09f30f11c"
      },
      "source": [
        "ax = sns.boxplot(x=\"Month\", y=\"Gray_cement_dispatch_contractor\", data= Boxplot_data).set_title(\"Gray_cement_dispatch_contractor: Year Over Year\")"
      ],
      "execution_count": 53,
      "outputs": [
        {
          "output_type": "display_data",
          "data": {
            "image/png": "[encoded data removed]",
            "text/plain": [
              "<Figure size 432x288 with 1 Axes>"
            ]
          },
          "metadata": {
            "needs_background": "light"
          }
        }
      ]
    },
    {
      "cell_type": "code",
      "metadata": {
        "id": "LPadWZMuCmMO"
      },
      "source": [
        ""
      ],
      "execution_count": null,
      "outputs": []
    },
    {
      "cell_type": "code",
      "metadata": {
        "id": "MrK5Uk8ECmIT"
      },
      "source": [
        ""
      ],
      "execution_count": null,
      "outputs": []
    },
    {
      "cell_type": "markdown",
      "metadata": {
        "id": "EeBfaIlfV6Dj"
      },
      "source": [
        "# PLOTLY GRAPHS: Gabriel's World .  Keep out!"
      ]
    },
    {
      "cell_type": "code",
      "metadata": {
        "id": "EaZz31C8sUqq"
      },
      "source": [
        " gabri_data = Porc_Op"
      ],
      "execution_count": 88,
      "outputs": []
    },
    {
      "cell_type": "code",
      "metadata": {
        "id": "H96JFqzIV_Qb",
        "colab": {
          "base_uri": "https://localhost:8080/",
          "height": 222
        },
        "outputId": "4c14d1b5-98f4-4529-ac97-3552158d6aa1"
      },
      "source": [
        "import plotly.express as px\n",
        "\n",
        "# Reading the dataset \n",
        "import pandas as pd\n",
        "#gabri_data = pd.read_csv (r'Porcelana.csv')\n",
        "\n",
        "# Drawing the figure \n",
        "fig = px.ecdf(gabri_data, x=\"Consumer_loans\", y=\"Seasonal\")\n",
        "fig.show()"
      ],
      "execution_count": 89,
      "outputs": [
        {
          "output_type": "error",
          "ename": "AttributeError",
          "evalue": "ignored",
          "traceback": [
            "\u001b[0;31m---------------------------------------------------------------------------\u001b[0m",
            "\u001b[0;31mAttributeError\u001b[0m                            Traceback (most recent call last)",
            "\u001b[0;32m<ipython-input-89-16bec99fa6d2>\u001b[0m in \u001b[0;36m<module>\u001b[0;34m()\u001b[0m\n\u001b[1;32m      6\u001b[0m \u001b[0;34m\u001b[0m\u001b[0m\n\u001b[1;32m      7\u001b[0m \u001b[0;31m# Drawing the figure\u001b[0m\u001b[0;34m\u001b[0m\u001b[0;34m\u001b[0m\u001b[0;34m\u001b[0m\u001b[0m\n\u001b[0;32m----> 8\u001b[0;31m \u001b[0mfig\u001b[0m \u001b[0;34m=\u001b[0m \u001b[0mpx\u001b[0m\u001b[0;34m.\u001b[0m\u001b[0mecdf\u001b[0m\u001b[0;34m(\u001b[0m\u001b[0mgabri_data\u001b[0m\u001b[0;34m,\u001b[0m \u001b[0mx\u001b[0m\u001b[0;34m=\u001b[0m\u001b[0;34m\"Consumer_loans\"\u001b[0m\u001b[0;34m,\u001b[0m \u001b[0my\u001b[0m\u001b[0;34m=\u001b[0m\u001b[0;34m\"Seasonal\"\u001b[0m\u001b[0;34m)\u001b[0m\u001b[0;34m\u001b[0m\u001b[0;34m\u001b[0m\u001b[0m\n\u001b[0m\u001b[1;32m      9\u001b[0m \u001b[0mfig\u001b[0m\u001b[0;34m.\u001b[0m\u001b[0mshow\u001b[0m\u001b[0;34m(\u001b[0m\u001b[0;34m)\u001b[0m\u001b[0;34m\u001b[0m\u001b[0;34m\u001b[0m\u001b[0m\n",
            "\u001b[0;31mAttributeError\u001b[0m: module 'plotly.express' has no attribute 'ecdf'"
          ]
        }
      ]
    }
  ]
}