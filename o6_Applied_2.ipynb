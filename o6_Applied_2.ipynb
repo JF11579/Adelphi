{
  "nbformat": 4,
  "nbformat_minor": 0,
  "metadata": {
    "colab": {
      "name": "o6_Applied_2.ipynb",
      "provenance": [],
      "collapsed_sections": [],
      "machine_shape": "hm",
      "authorship_tag": "ABX9TyNw3WcXVfVfqPIg2iRPyZUz",
      "include_colab_link": true
    },
    "kernelspec": {
      "name": "python3",
      "display_name": "Python 3"
    },
    "language_info": {
      "name": "python"
    }
  },
  "cells": [
    {
      "cell_type": "markdown",
      "metadata": {
        "id": "view-in-github",
        "colab_type": "text"
      },
      "source": [
        "<a href=\"https://colab.research.google.com/github/JF11579/Adelphi/blob/main/o6_Applied_2.ipynb\" target=\"_parent\"><img src=\"https://colab.research.google.com/assets/colab-badge.svg\" alt=\"Open In Colab\"/></a>"
      ]
    },
    {
      "cell_type": "code",
      "execution_count": null,
      "metadata": {
        "id": "0BJrkB61ENuX"
      },
      "outputs": [],
      "source": [
        ""
      ]
    },
    {
      "cell_type": "markdown",
      "source": [
        "##Good Links\n",
        "\n",
        "https://towardsdatascience.com/understanding-lightgbm-parameters-and-how-to-tune-them-6764e20c6e5b\n",
        "\n",
        "\n",
        "Try different types of configuration and track your results in Neptune"
      ],
      "metadata": {
        "id": "lgh3Mp2cIQun"
      }
    },
    {
      "cell_type": "markdown",
      "source": [
        "# Library\n"
      ],
      "metadata": {
        "id": "ZQ2LZcQVEa6u"
      }
    },
    {
      "cell_type": "code",
      "source": [
        "\n",
        "!pip3 install catboost\n",
        "!pip install cartopy\n",
        "!pip install shap\n"
      ],
      "metadata": {
        "colab": {
          "base_uri": "https://localhost:8080/"
        },
        "id": "a7DIDB0PEhn6",
        "outputId": "1af1ab74-7cb5-4b1b-cab6-6003182aea20"
      },
      "execution_count": 1,
      "outputs": [
        {
          "output_type": "stream",
          "name": "stdout",
          "text": [
            "Collecting catboost\n",
            "  Downloading catboost-1.0.3-cp37-none-manylinux1_x86_64.whl (76.3 MB)\n",
            "\u001b[K     |████████████████████████████████| 76.3 MB 1.1 MB/s \n",
            "\u001b[?25hRequirement already satisfied: numpy>=1.16.0 in /usr/local/lib/python3.7/dist-packages (from catboost) (1.19.5)\n",
            "Requirement already satisfied: scipy in /usr/local/lib/python3.7/dist-packages (from catboost) (1.4.1)\n",
            "Requirement already satisfied: pandas>=0.24.0 in /usr/local/lib/python3.7/dist-packages (from catboost) (1.1.5)\n",
            "Requirement already satisfied: six in /usr/local/lib/python3.7/dist-packages (from catboost) (1.15.0)\n",
            "Requirement already satisfied: matplotlib in /usr/local/lib/python3.7/dist-packages (from catboost) (3.2.2)\n",
            "Requirement already satisfied: graphviz in /usr/local/lib/python3.7/dist-packages (from catboost) (0.10.1)\n",
            "Requirement already satisfied: plotly in /usr/local/lib/python3.7/dist-packages (from catboost) (4.4.1)\n",
            "Requirement already satisfied: python-dateutil>=2.7.3 in /usr/local/lib/python3.7/dist-packages (from pandas>=0.24.0->catboost) (2.8.2)\n",
            "Requirement already satisfied: pytz>=2017.2 in /usr/local/lib/python3.7/dist-packages (from pandas>=0.24.0->catboost) (2018.9)\n",
            "Requirement already satisfied: kiwisolver>=1.0.1 in /usr/local/lib/python3.7/dist-packages (from matplotlib->catboost) (1.3.2)\n",
            "Requirement already satisfied: cycler>=0.10 in /usr/local/lib/python3.7/dist-packages (from matplotlib->catboost) (0.11.0)\n",
            "Requirement already satisfied: pyparsing!=2.0.4,!=2.1.2,!=2.1.6,>=2.0.1 in /usr/local/lib/python3.7/dist-packages (from matplotlib->catboost) (3.0.6)\n",
            "Requirement already satisfied: retrying>=1.3.3 in /usr/local/lib/python3.7/dist-packages (from plotly->catboost) (1.3.3)\n",
            "Installing collected packages: catboost\n",
            "Successfully installed catboost-1.0.3\n",
            "Collecting cartopy\n",
            "  Downloading Cartopy-0.20.1.tar.gz (10.8 MB)\n",
            "\u001b[K     |████████████████████████████████| 10.8 MB 5.1 MB/s \n",
            "\u001b[?25h  Installing build dependencies ... \u001b[?25l\u001b[?25hdone\n",
            "  Getting requirements to build wheel ... \u001b[?25l\u001b[?25herror\n",
            "\u001b[33mWARNING: Discarding https://files.pythonhosted.org/packages/fc/59/aa52698e3838f4cd0e7eaa75bd86837e9e0b05041dbdaee3cda2fffced06/Cartopy-0.20.1.tar.gz#sha256=91f87b130e2574547a20cd634498df97d797abd12dcfd0235bc0cdbcec8b05e3 (from https://pypi.org/simple/cartopy/) (requires-python:>=3.7). Command errored out with exit status 1: /usr/bin/python3 /usr/local/lib/python3.7/dist-packages/pip/_vendor/pep517/in_process/_in_process.py get_requires_for_build_wheel /tmp/tmpusopya9y Check the logs for full command output.\u001b[0m\n",
            "  Downloading Cartopy-0.20.0.tar.gz (10.8 MB)\n",
            "\u001b[K     |████████████████████████████████| 10.8 MB 1.4 MB/s \n",
            "\u001b[?25h  Installing build dependencies ... \u001b[?25l\u001b[?25hdone\n",
            "  Getting requirements to build wheel ... \u001b[?25l\u001b[?25herror\n",
            "\u001b[33mWARNING: Discarding https://files.pythonhosted.org/packages/0f/c0/58453b036e79046d211f083880d58dcce787e7e07647ac25dc46c6555099/Cartopy-0.20.0.tar.gz#sha256=eae58aff26806e63cf115b2bce9477cedc4aa9f578c5e477b2c25cfa404f2b7a (from https://pypi.org/simple/cartopy/) (requires-python:>=3.7). Command errored out with exit status 1: /usr/bin/python3 /usr/local/lib/python3.7/dist-packages/pip/_vendor/pep517/in_process/_in_process.py get_requires_for_build_wheel /tmp/tmprwipwnoy Check the logs for full command output.\u001b[0m\n",
            "  Downloading Cartopy-0.19.0.post1.tar.gz (12.1 MB)\n",
            "\u001b[K     |████████████████████████████████| 12.1 MB 17.7 MB/s \n",
            "\u001b[?25h  Installing build dependencies ... \u001b[?25l\u001b[?25hdone\n",
            "  Getting requirements to build wheel ... \u001b[?25l\u001b[?25hdone\n",
            "    Preparing wheel metadata ... \u001b[?25l\u001b[?25hdone\n",
            "Collecting pyshp>=2\n",
            "  Downloading pyshp-2.1.3.tar.gz (219 kB)\n",
            "\u001b[K     |████████████████████████████████| 219 kB 45.6 MB/s \n",
            "\u001b[?25hRequirement already satisfied: numpy>=1.13.3 in /usr/local/lib/python3.7/dist-packages (from cartopy) (1.19.5)\n",
            "Requirement already satisfied: shapely>=1.5.6 in /usr/local/lib/python3.7/dist-packages (from cartopy) (1.8.0)\n",
            "Building wheels for collected packages: cartopy, pyshp\n",
            "  Building wheel for cartopy (PEP 517) ... \u001b[?25l\u001b[?25hdone\n",
            "  Created wheel for cartopy: filename=Cartopy-0.19.0.post1-cp37-cp37m-linux_x86_64.whl size=12516300 sha256=af3cd733c6089106eb29b45d84b32d03bd4f8b6edac7201d194e3c3a8fad0fc2\n",
            "  Stored in directory: /root/.cache/pip/wheels/98/01/f7/bd10aeb96fe4b518cde5f7c4f5e12c7202f85b7353a5017847\n",
            "  Building wheel for pyshp (setup.py) ... \u001b[?25l\u001b[?25hdone\n",
            "  Created wheel for pyshp: filename=pyshp-2.1.3-py3-none-any.whl size=37325 sha256=f344af8a5d41dadc2d5e91f285e863f464c5294c53c368581e02a5d1ac7ff486\n",
            "  Stored in directory: /root/.cache/pip/wheels/43/f8/87/53c8cd41545ba20e536ea29a8fcb5431b5f477ca50d5dffbbe\n",
            "Successfully built cartopy pyshp\n",
            "Installing collected packages: pyshp, cartopy\n",
            "Successfully installed cartopy-0.19.0.post1 pyshp-2.1.3\n",
            "Collecting shap\n",
            "  Downloading shap-0.40.0-cp37-cp37m-manylinux2010_x86_64.whl (564 kB)\n",
            "\u001b[K     |████████████████████████████████| 564 kB 5.2 MB/s \n",
            "\u001b[?25hCollecting slicer==0.0.7\n",
            "  Downloading slicer-0.0.7-py3-none-any.whl (14 kB)\n",
            "Requirement already satisfied: tqdm>4.25.0 in /usr/local/lib/python3.7/dist-packages (from shap) (4.62.3)\n",
            "Requirement already satisfied: scikit-learn in /usr/local/lib/python3.7/dist-packages (from shap) (1.0.1)\n",
            "Requirement already satisfied: numba in /usr/local/lib/python3.7/dist-packages (from shap) (0.51.2)\n",
            "Requirement already satisfied: packaging>20.9 in /usr/local/lib/python3.7/dist-packages (from shap) (21.3)\n",
            "Requirement already satisfied: cloudpickle in /usr/local/lib/python3.7/dist-packages (from shap) (1.3.0)\n",
            "Requirement already satisfied: scipy in /usr/local/lib/python3.7/dist-packages (from shap) (1.4.1)\n",
            "Requirement already satisfied: numpy in /usr/local/lib/python3.7/dist-packages (from shap) (1.19.5)\n",
            "Requirement already satisfied: pandas in /usr/local/lib/python3.7/dist-packages (from shap) (1.1.5)\n",
            "Requirement already satisfied: pyparsing!=3.0.5,>=2.0.2 in /usr/local/lib/python3.7/dist-packages (from packaging>20.9->shap) (3.0.6)\n",
            "Requirement already satisfied: llvmlite<0.35,>=0.34.0.dev0 in /usr/local/lib/python3.7/dist-packages (from numba->shap) (0.34.0)\n",
            "Requirement already satisfied: setuptools in /usr/local/lib/python3.7/dist-packages (from numba->shap) (57.4.0)\n",
            "Requirement already satisfied: pytz>=2017.2 in /usr/local/lib/python3.7/dist-packages (from pandas->shap) (2018.9)\n",
            "Requirement already satisfied: python-dateutil>=2.7.3 in /usr/local/lib/python3.7/dist-packages (from pandas->shap) (2.8.2)\n",
            "Requirement already satisfied: six>=1.5 in /usr/local/lib/python3.7/dist-packages (from python-dateutil>=2.7.3->pandas->shap) (1.15.0)\n",
            "Requirement already satisfied: joblib>=0.11 in /usr/local/lib/python3.7/dist-packages (from scikit-learn->shap) (1.1.0)\n",
            "Requirement already satisfied: threadpoolctl>=2.0.0 in /usr/local/lib/python3.7/dist-packages (from scikit-learn->shap) (3.0.0)\n",
            "Installing collected packages: slicer, shap\n",
            "Successfully installed shap-0.40.0 slicer-0.0.7\n"
          ]
        }
      ]
    },
    {
      "cell_type": "code",
      "source": [
        "import pandas as pd  \n",
        "import numpy as np  \n",
        "import matplotlib.pyplot as plt  \n",
        "\n",
        "from sklearn.neighbors import KNeighborsRegressor\n",
        "from sklearn.ensemble import RandomForestRegressor\n",
        "from sklearn.ensemble import ExtraTreesRegressor\n",
        "from sklearn.ensemble import GradientBoostingRegressor\n",
        "\n",
        "from sklearn import preprocessing\n",
        "\n",
        "from sklearn.model_selection import train_test_split # Import train_test_split function\n",
        "from sklearn import metrics #Import scikit-learn metrics module for accuracy calculation\n",
        "from sklearn.metrics import ConfusionMatrixDisplay\n",
        "\n",
        "from xgboost import XGBRegressor\n",
        "\n",
        "from catboost import CatBoostRegressor\n",
        "\n",
        "from lightgbm import LGBMRegressor\n",
        "\n",
        "from tqdm import tqdm\n",
        "#\n",
        "import cartopy\n",
        "from catboost import CatBoostClassifier\n",
        "#import shap\n",
        "#import time\n",
        "from xgboost import XGBClassifier\n",
        "import xgboost as xgb\n",
        "#\n",
        "import datetime as dt"
      ],
      "metadata": {
        "id": "hpuW9AHVEiqR"
      },
      "execution_count": 2,
      "outputs": []
    },
    {
      "cell_type": "markdown",
      "source": [
        "## Additional packages might be needed"
      ],
      "metadata": {
        "id": "9C9zLmkJF5Uh"
      }
    },
    {
      "cell_type": "code",
      "source": [
        "import xgboost as xgb"
      ],
      "metadata": {
        "id": "LWf1OAUQEm-I"
      },
      "execution_count": 3,
      "outputs": []
    },
    {
      "cell_type": "markdown",
      "source": [
        "# Juan's Pre-Defined Functions"
      ],
      "metadata": {
        "id": "ZRKsDviTF-no"
      }
    },
    {
      "cell_type": "code",
      "source": [
        "def Model_Performance(model,X_train,y_train,X_test, y_test):\n",
        "     \n",
        "    model.fit(X_train,y_train) \n",
        "    #model.fit(X_train,y_train, verbose = 0)#For Catboost.   <<<<<----CAT BOOST   <<<<-------\n",
        "    y_pred_Train = model.predict(X_train) #Predictions\n",
        "    y_pred_Test = model.predict(X_test) #Predictions\n",
        "    \n",
        "    Metrics(y_test, y_pred_Test)\n",
        "    \n",
        "    Predicted_Plot(y_train, y_pred_Train, y_test, y_pred_Test)\n",
        "    \n",
        "    Multiple_Runs(model,X_train,y_train,X_test, y_test)\n",
        "    \n",
        "    return"
      ],
      "metadata": {
        "id": "EPtlcEEJGCB-"
      },
      "execution_count": 4,
      "outputs": []
    },
    {
      "cell_type": "code",
      "source": [
        "def Metrics(y_test, y_pred_Test):\n",
        "    print('Test Metrics:')\n",
        "    print('R squared:', metrics.r2_score(y_test, y_pred_Test))\n",
        "    print('Mean Absolute Error:', metrics.mean_absolute_error(y_test, y_pred_Test))  \n",
        "    print('Mean Squared Error:', metrics.mean_squared_error(y_test, y_pred_Test))  \n",
        "    print('Root Mean Squared Error:', np.sqrt(metrics.mean_squared_error(y_test, y_pred_Test)))\n",
        "    \n",
        "    return"
      ],
      "metadata": {
        "id": "vXKAfthiGFS1"
      },
      "execution_count": 5,
      "outputs": []
    },
    {
      "cell_type": "code",
      "source": [
        "def Predicted_Plot(y_train, y_pred_Train, y_test, y_pred_Test):\n",
        "\n",
        "    fig, ax = plt.subplots(ncols=2, figsize=(10,4))\n",
        "\n",
        "    ax[0].scatter(y_train, y_pred_Train)\n",
        "    ax[0].grid()\n",
        "    ax[0].set_xlabel('Observed Label')\n",
        "    ax[0].set_ylabel('Predicted Label')\n",
        "    ax[0].set_title('Training Set')\n",
        "\n",
        "    ax[1].scatter(y_test, y_pred_Test)\n",
        "    ax[1].grid()\n",
        "    ax[1].set_xlabel('Observed Label')\n",
        "    ax[1].set_ylabel('Predicted Label')\n",
        "    ax[1].set_title('Testing Set')\n",
        "    plt.show()\n",
        "    \n",
        "    return"
      ],
      "metadata": {
        "id": "cs5tdY14GHf0"
      },
      "execution_count": 6,
      "outputs": []
    },
    {
      "cell_type": "code",
      "source": [
        "def Multiple_Runs(model,X_train,y_train,X_test, y_test):\n",
        "\n",
        "    Train_MSE = [] #Empty list to Store MSEs for training data set\n",
        "    Test_MSE = []  #Empty list to Store MSEs for testing data set\n",
        "\n",
        "    Train_R2 = [] #Empty list to Store R2s for training data set\n",
        "    Test_R2 = []  #Empty list to Store R2s for testing data set\n",
        "\n",
        "    for i in tqdm(range(10000)):  # <<<<<<---- What should this be at?\n",
        "        X_train, X_test, y_train, y_test = train_test_split(X, y, test_size=0.2)\n",
        "    \n",
        "        model.fit(X_train, y_train) #Train the model\n",
        "        #model.fit(X_train,y_train, verbose = 0)#For Catboost    \n",
        "        y_pred_Train  = model.predict(X_train)  #Predictions on training model\n",
        "        y_pred_Test   = model.predict(X_test)   #Predictions on testing model\n",
        "    \n",
        "        train_R2 = metrics.r2_score(y_train, y_pred_Train) #Obtaining the metrics\n",
        "        test_R2  = metrics.r2_score(y_test, y_pred_Test)\n",
        "    \n",
        "        train_MSE = metrics.mean_squared_error(y_train, y_pred_Train)\n",
        "        test_MSE  = metrics.mean_squared_error(y_test, y_pred_Test)\n",
        "    \n",
        "        Train_MSE.append(train_MSE) #Storing the metrics in the lists\n",
        "        Test_MSE.append(test_MSE) \n",
        "    \n",
        "        Train_R2.append(train_R2) #Storing the metrics in the lists\n",
        "        Test_R2.append(test_R2)  \n",
        "    \n",
        "    print('Train MSE median:', np.median(Train_MSE))\n",
        "    print('Test MSE median:', np.median(Test_MSE))\n",
        "\n",
        "    print('\\nTrain_R2 median:', np.median(Train_R2))\n",
        "    print('Test_R2 median:', np.median(Test_R2))\n",
        "\n",
        "    fig, ax = plt.subplots(ncols=2, figsize=(10,4))\n",
        "\n",
        "    ax[0].boxplot([Train_MSE, Test_MSE])\n",
        "    ax[0].set_xticks([1,2],minor = False)                   #setting boxplot names\n",
        "    ax[0].set_xticklabels(['Train','Test'], minor = False)  #setting boxplot names\n",
        "    ax[0].grid()\n",
        "    ax[0].set_title('Mean Squared Error')\n",
        "\n",
        "    ax[1].boxplot([Train_R2, Test_R2])\n",
        "    ax[1].set_xticks([1,2],minor = False)\n",
        "    ax[1].set_xticklabels(['Train','Test'], minor = False)\n",
        "    ax[1].grid()\n",
        "    ax[1].set_title('R squared')\n",
        "\n",
        "    plt.show()\n",
        "\n",
        "\n",
        "\n",
        "    print('Train MSE standard deviation:', np.std(Train_MSE))\n",
        "    print('Test MSE standard deviation: ', np.std(Test_MSE))\n",
        "\n",
        "    print('\\nTrain_R2 standard deviation:', np.std(Train_R2))\n",
        "    print('Test_R2 standard deviation: ', np.std(Test_R2))"
      ],
      "metadata": {
        "id": "asN32gHZGLGV"
      },
      "execution_count": 7,
      "outputs": []
    },
    {
      "cell_type": "markdown",
      "source": [
        "# Data"
      ],
      "metadata": {
        "id": "1dS6mqVQGccH"
      }
    },
    {
      "cell_type": "code",
      "source": [
        "data = pd.read_csv('/content/Porcelana_OP_adelphi_2021_SCALED.csv')\n",
        "data.head(3)"
      ],
      "metadata": {
        "colab": {
          "base_uri": "https://localhost:8080/",
          "height": 262
        },
        "id": "Dub64nZ1Gbv2",
        "outputId": "1605451d-88a3-44b4-e475-d4a6c619557a"
      },
      "execution_count": 9,
      "outputs": [
        {
          "output_type": "execute_result",
          "data": {
            "text/html": [
              "<div>\n",
              "<style scoped>\n",
              "    .dataframe tbody tr th:only-of-type {\n",
              "        vertical-align: middle;\n",
              "    }\n",
              "\n",
              "    .dataframe tbody tr th {\n",
              "        vertical-align: top;\n",
              "    }\n",
              "\n",
              "    .dataframe thead th {\n",
              "        text-align: right;\n",
              "    }\n",
              "</style>\n",
              "<table border=\"1\" class=\"dataframe\">\n",
              "  <thead>\n",
              "    <tr style=\"text-align: right;\">\n",
              "      <th></th>\n",
              "      <th>date</th>\n",
              "      <th>Quantity</th>\n",
              "      <th>Seasonal</th>\n",
              "      <th>Consumer_loans</th>\n",
              "      <th>Construction_lic_unt</th>\n",
              "      <th>Construction_lic_area</th>\n",
              "      <th>Construction_lic_unt_SI</th>\n",
              "      <th>Construction_lic_unt_NO_SI</th>\n",
              "      <th>Construction_lic_area_SI</th>\n",
              "      <th>Construction_lic_area_NO_SI</th>\n",
              "      <th>Gray_cement_prod</th>\n",
              "      <th>Gray_cement_dispatch</th>\n",
              "      <th>Gray_cement_dispatch_Factory</th>\n",
              "      <th>Gray_cement_dispatch_comercial</th>\n",
              "      <th>Gray_cement_dispatch_contractor</th>\n",
              "      <th>Gray_cement_dispatch_other</th>\n",
              "      <th>DTF(interest_rate)</th>\n",
              "      <th>GDP_Constr</th>\n",
              "      <th>GDP_Total</th>\n",
              "      <th>Inflation</th>\n",
              "      <th>USD_exchange</th>\n",
              "      <th>Oil-brent</th>\n",
              "      <th>Oil_WTI</th>\n",
              "      <th>ISE</th>\n",
              "      <th>ICC</th>\n",
              "      <th>IEC</th>\n",
              "      <th>ICE</th>\n",
              "      <th>Unemployment%</th>\n",
              "      <th>RADAR_Constr</th>\n",
              "      <th>RADAR_Rev</th>\n",
              "      <th>RADAR_Toilets</th>\n",
              "      <th>RADAR_HomeAppliance</th>\n",
              "      <th>RADAR_Paint</th>\n",
              "      <th>RADAR_Furniture</th>\n",
              "      <th>RADAR_Tools</th>\n",
              "      <th>RADAR_Elect</th>\n",
              "      <th>RADAR_Plumbing</th>\n",
              "      <th>RADAR_Wood</th>\n",
              "      <th>RADAR_Supply</th>\n",
              "      <th>RADAR_Remodel</th>\n",
              "      <th>...</th>\n",
              "      <th>Preferencial_creditlag_8</th>\n",
              "      <th>loan_overdraftslag_8</th>\n",
              "      <th>Credit_cardlag_8</th>\n",
              "      <th>Treasury_loanlag_8</th>\n",
              "      <th>Housing_loanlag_8</th>\n",
              "      <th>Consumer_creditlag_9</th>\n",
              "      <th>Consumer_microcreditlag_9</th>\n",
              "      <th>Ordinary_creditlag_9</th>\n",
              "      <th>Preferencial_creditlag_9</th>\n",
              "      <th>loan_overdraftslag_9</th>\n",
              "      <th>Credit_cardlag_9</th>\n",
              "      <th>Treasury_loanlag_9</th>\n",
              "      <th>Housing_loanlag_9</th>\n",
              "      <th>Consumer_creditlag_10</th>\n",
              "      <th>Consumer_microcreditlag_10</th>\n",
              "      <th>Ordinary_creditlag_10</th>\n",
              "      <th>Preferencial_creditlag_10</th>\n",
              "      <th>loan_overdraftslag_10</th>\n",
              "      <th>Credit_cardlag_10</th>\n",
              "      <th>Treasury_loanlag_10</th>\n",
              "      <th>Housing_loanlag_10</th>\n",
              "      <th>Consumer_creditlag_11</th>\n",
              "      <th>Consumer_microcreditlag_11</th>\n",
              "      <th>Ordinary_creditlag_11</th>\n",
              "      <th>Preferencial_creditlag_11</th>\n",
              "      <th>loan_overdraftslag_11</th>\n",
              "      <th>Credit_cardlag_11</th>\n",
              "      <th>Treasury_loanlag_11</th>\n",
              "      <th>Housing_loanlag_11</th>\n",
              "      <th>Consumer_creditlag_12</th>\n",
              "      <th>Consumer_microcreditlag_12</th>\n",
              "      <th>Ordinary_creditlag_12</th>\n",
              "      <th>Preferencial_creditlag_12</th>\n",
              "      <th>loan_overdraftslag_12</th>\n",
              "      <th>Credit_cardlag_12</th>\n",
              "      <th>Treasury_loanlag_12</th>\n",
              "      <th>Housing_loanlag_12</th>\n",
              "      <th>holiday</th>\n",
              "      <th>sunday</th>\n",
              "      <th>working_day</th>\n",
              "    </tr>\n",
              "  </thead>\n",
              "  <tbody>\n",
              "    <tr>\n",
              "      <th>0</th>\n",
              "      <td>2017-01-01</td>\n",
              "      <td>1.503548</td>\n",
              "      <td>0.699923</td>\n",
              "      <td>112579.4297</td>\n",
              "      <td>11303.0</td>\n",
              "      <td>1185131.0</td>\n",
              "      <td>3587.0</td>\n",
              "      <td>7716.0</td>\n",
              "      <td>229478.0</td>\n",
              "      <td>955653.0</td>\n",
              "      <td>897063.518</td>\n",
              "      <td>913190.407</td>\n",
              "      <td>194276.0200</td>\n",
              "      <td>502084.8330</td>\n",
              "      <td>171559.9665</td>\n",
              "      <td>45269.5875</td>\n",
              "      <td>0.0694</td>\n",
              "      <td>14753.34784</td>\n",
              "      <td>206242.568</td>\n",
              "      <td>5.47</td>\n",
              "      <td>2944.65</td>\n",
              "      <td>52.19</td>\n",
              "      <td>52.81</td>\n",
              "      <td>102.548972</td>\n",
              "      <td>-30.2</td>\n",
              "      <td>-28.3</td>\n",
              "      <td>-33.1</td>\n",
              "      <td>11.733267</td>\n",
              "      <td>1.044525e+11</td>\n",
              "      <td>1.323489e+11</td>\n",
              "      <td>1.727682e+11</td>\n",
              "      <td>1.050914e+11</td>\n",
              "      <td>8.847567e+10</td>\n",
              "      <td>8.354725e+10</td>\n",
              "      <td>5.008444e+10</td>\n",
              "      <td>9.372000e+10</td>\n",
              "      <td>3.037115e+10</td>\n",
              "      <td>3.136015e+10</td>\n",
              "      <td>1.585430e+11</td>\n",
              "      <td>1.050763e+12</td>\n",
              "      <td>...</td>\n",
              "      <td>4445890.861</td>\n",
              "      <td>6402426.269</td>\n",
              "      <td>3390803.016</td>\n",
              "      <td>550883.0739</td>\n",
              "      <td>1302564.560</td>\n",
              "      <td>4680431.000</td>\n",
              "      <td>460632.0000</td>\n",
              "      <td>5702443.000</td>\n",
              "      <td>4657354.000</td>\n",
              "      <td>7012296.000</td>\n",
              "      <td>3283417.000</td>\n",
              "      <td>549789.0000</td>\n",
              "      <td>1454672.000</td>\n",
              "      <td>4941981.754</td>\n",
              "      <td>531850.1926</td>\n",
              "      <td>7315235.649</td>\n",
              "      <td>6120086.089</td>\n",
              "      <td>8140200.383</td>\n",
              "      <td>3814229.013</td>\n",
              "      <td>632387.5921</td>\n",
              "      <td>1627959.289</td>\n",
              "      <td>4068020.900</td>\n",
              "      <td>438682.2679</td>\n",
              "      <td>6513619.182</td>\n",
              "      <td>6137144.374</td>\n",
              "      <td>6675101.294</td>\n",
              "      <td>2989980.729</td>\n",
              "      <td>483448.3473</td>\n",
              "      <td>1298811.962</td>\n",
              "      <td>3106784.500</td>\n",
              "      <td>386289.5525</td>\n",
              "      <td>4875376.339</td>\n",
              "      <td>4791146.877</td>\n",
              "      <td>5996088.922</td>\n",
              "      <td>3013612.505</td>\n",
              "      <td>470541.3290</td>\n",
              "      <td>1093819.181</td>\n",
              "      <td>1</td>\n",
              "      <td>5</td>\n",
              "      <td>25</td>\n",
              "    </tr>\n",
              "    <tr>\n",
              "      <th>1</th>\n",
              "      <td>2017-02-01</td>\n",
              "      <td>0.076213</td>\n",
              "      <td>0.316156</td>\n",
              "      <td>113438.0949</td>\n",
              "      <td>16187.0</td>\n",
              "      <td>1590979.0</td>\n",
              "      <td>4659.0</td>\n",
              "      <td>11528.0</td>\n",
              "      <td>272961.0</td>\n",
              "      <td>1318018.0</td>\n",
              "      <td>1025704.960</td>\n",
              "      <td>1007968.299</td>\n",
              "      <td>228359.8390</td>\n",
              "      <td>530826.1625</td>\n",
              "      <td>199731.6950</td>\n",
              "      <td>49050.6025</td>\n",
              "      <td>0.0678</td>\n",
              "      <td>14753.34784</td>\n",
              "      <td>206242.568</td>\n",
              "      <td>5.18</td>\n",
              "      <td>2881.68</td>\n",
              "      <td>53.40</td>\n",
              "      <td>54.01</td>\n",
              "      <td>102.919033</td>\n",
              "      <td>-24.3</td>\n",
              "      <td>-19.9</td>\n",
              "      <td>-31.0</td>\n",
              "      <td>10.504292</td>\n",
              "      <td>1.574855e+11</td>\n",
              "      <td>8.351517e+10</td>\n",
              "      <td>1.096908e+11</td>\n",
              "      <td>8.252536e+10</td>\n",
              "      <td>8.582517e+10</td>\n",
              "      <td>1.522091e+11</td>\n",
              "      <td>5.056706e+10</td>\n",
              "      <td>6.034851e+10</td>\n",
              "      <td>2.138243e+10</td>\n",
              "      <td>2.216364e+10</td>\n",
              "      <td>2.104634e+11</td>\n",
              "      <td>1.036176e+12</td>\n",
              "      <td>...</td>\n",
              "      <td>6566090.070</td>\n",
              "      <td>7930536.312</td>\n",
              "      <td>4347164.930</td>\n",
              "      <td>677598.1836</td>\n",
              "      <td>1864166.572</td>\n",
              "      <td>4353892.017</td>\n",
              "      <td>433679.7772</td>\n",
              "      <td>5854575.608</td>\n",
              "      <td>4445890.861</td>\n",
              "      <td>6402426.269</td>\n",
              "      <td>3390803.016</td>\n",
              "      <td>550883.0739</td>\n",
              "      <td>1302564.560</td>\n",
              "      <td>4680431.000</td>\n",
              "      <td>460632.0000</td>\n",
              "      <td>5702443.000</td>\n",
              "      <td>4657354.000</td>\n",
              "      <td>7012296.000</td>\n",
              "      <td>3283417.000</td>\n",
              "      <td>549789.0000</td>\n",
              "      <td>1454672.000</td>\n",
              "      <td>4941981.754</td>\n",
              "      <td>531850.1926</td>\n",
              "      <td>7315235.649</td>\n",
              "      <td>6120086.089</td>\n",
              "      <td>8140200.383</td>\n",
              "      <td>3814229.013</td>\n",
              "      <td>632387.5921</td>\n",
              "      <td>1627959.289</td>\n",
              "      <td>4068020.900</td>\n",
              "      <td>438682.2679</td>\n",
              "      <td>6513619.182</td>\n",
              "      <td>6137144.374</td>\n",
              "      <td>6675101.294</td>\n",
              "      <td>2989980.729</td>\n",
              "      <td>483448.3473</td>\n",
              "      <td>1298811.962</td>\n",
              "      <td>0</td>\n",
              "      <td>4</td>\n",
              "      <td>24</td>\n",
              "    </tr>\n",
              "    <tr>\n",
              "      <th>2</th>\n",
              "      <td>2017-03-01</td>\n",
              "      <td>-1.346258</td>\n",
              "      <td>-0.267695</td>\n",
              "      <td>114667.2587</td>\n",
              "      <td>15231.0</td>\n",
              "      <td>1438528.0</td>\n",
              "      <td>5687.0</td>\n",
              "      <td>9544.0</td>\n",
              "      <td>354904.0</td>\n",
              "      <td>1083624.0</td>\n",
              "      <td>1099919.669</td>\n",
              "      <td>1083268.231</td>\n",
              "      <td>241130.4555</td>\n",
              "      <td>568447.4880</td>\n",
              "      <td>218640.3600</td>\n",
              "      <td>55049.9274</td>\n",
              "      <td>0.0665</td>\n",
              "      <td>14753.34784</td>\n",
              "      <td>206242.568</td>\n",
              "      <td>4.69</td>\n",
              "      <td>2943.49</td>\n",
              "      <td>50.43</td>\n",
              "      <td>50.60</td>\n",
              "      <td>102.162670</td>\n",
              "      <td>-21.1</td>\n",
              "      <td>-18.3</td>\n",
              "      <td>-25.4</td>\n",
              "      <td>9.704610</td>\n",
              "      <td>1.215372e+11</td>\n",
              "      <td>9.821204e+10</td>\n",
              "      <td>1.191497e+11</td>\n",
              "      <td>9.035507e+10</td>\n",
              "      <td>9.516119e+10</td>\n",
              "      <td>1.388751e+11</td>\n",
              "      <td>5.266968e+10</td>\n",
              "      <td>1.137228e+11</td>\n",
              "      <td>2.872364e+10</td>\n",
              "      <td>2.258877e+10</td>\n",
              "      <td>1.192185e+11</td>\n",
              "      <td>1.000214e+12</td>\n",
              "      <td>...</td>\n",
              "      <td>4119152.514</td>\n",
              "      <td>6258157.459</td>\n",
              "      <td>3447128.397</td>\n",
              "      <td>478975.7922</td>\n",
              "      <td>1302860.802</td>\n",
              "      <td>5430241.566</td>\n",
              "      <td>555441.9044</td>\n",
              "      <td>7916686.911</td>\n",
              "      <td>6566090.070</td>\n",
              "      <td>7930536.312</td>\n",
              "      <td>4347164.930</td>\n",
              "      <td>677598.1836</td>\n",
              "      <td>1864166.572</td>\n",
              "      <td>4353892.017</td>\n",
              "      <td>433679.7772</td>\n",
              "      <td>5854575.608</td>\n",
              "      <td>4445890.861</td>\n",
              "      <td>6402426.269</td>\n",
              "      <td>3390803.016</td>\n",
              "      <td>550883.0739</td>\n",
              "      <td>1302564.560</td>\n",
              "      <td>4680431.000</td>\n",
              "      <td>460632.0000</td>\n",
              "      <td>5702443.000</td>\n",
              "      <td>4657354.000</td>\n",
              "      <td>7012296.000</td>\n",
              "      <td>3283417.000</td>\n",
              "      <td>549789.0000</td>\n",
              "      <td>1454672.000</td>\n",
              "      <td>4941981.754</td>\n",
              "      <td>531850.1926</td>\n",
              "      <td>7315235.649</td>\n",
              "      <td>6120086.089</td>\n",
              "      <td>8140200.383</td>\n",
              "      <td>3814229.013</td>\n",
              "      <td>632387.5921</td>\n",
              "      <td>1627959.289</td>\n",
              "      <td>1</td>\n",
              "      <td>4</td>\n",
              "      <td>26</td>\n",
              "    </tr>\n",
              "  </tbody>\n",
              "</table>\n",
              "<p>3 rows × 943 columns</p>\n",
              "</div>"
            ],
            "text/plain": [
              "         date  Quantity  Seasonal  ...  holiday  sunday  working_day\n",
              "0  2017-01-01  1.503548  0.699923  ...        1       5           25\n",
              "1  2017-02-01  0.076213  0.316156  ...        0       4           24\n",
              "2  2017-03-01 -1.346258 -0.267695  ...        1       4           26\n",
              "\n",
              "[3 rows x 943 columns]"
            ]
          },
          "metadata": {},
          "execution_count": 9
        }
      ]
    },
    {
      "cell_type": "code",
      "source": [
        "data['date_2'] = data['date']\n",
        "data['date_2'] = pd.to_datetime(data['date_2'])\n",
        "data['date_2']= data['date_2'].map(dt.datetime.toordinal)"
      ],
      "metadata": {
        "id": "K5rYuY6iGfkR"
      },
      "execution_count": 10,
      "outputs": []
    },
    {
      "cell_type": "markdown",
      "source": [
        "### move the date column to the index"
      ],
      "metadata": {
        "id": "CywEGaijG4r4"
      }
    },
    {
      "cell_type": "code",
      "source": [
        "data =data.set_index('date')"
      ],
      "metadata": {
        "id": "ujPZVqHrG83i"
      },
      "execution_count": 11,
      "outputs": []
    },
    {
      "cell_type": "code",
      "source": [
        "data.apply(pd.to_numeric)"
      ],
      "metadata": {
        "id": "9QPRg5gYMGVL"
      },
      "execution_count": null,
      "outputs": []
    },
    {
      "cell_type": "code",
      "source": [
        "#y = data['Quantity_Adjusted']\n",
        "#X = data.loc[: ,data.columns != 'Quantity_Adjusted']\n",
        "\n",
        "y = data['Quantity']\n",
        "X = data.loc[: ,data.columns != 'Quantity']"
      ],
      "metadata": {
        "id": "Q4t_xjyOHDEI"
      },
      "execution_count": 15,
      "outputs": []
    },
    {
      "cell_type": "markdown",
      "source": [
        "### Split the data"
      ],
      "metadata": {
        "id": "POCwV6HAHYun"
      }
    },
    {
      "cell_type": "code",
      "source": [
        "X_train, X_test, y_train, y_test = train_test_split(X,y,test_size=0.20, random_state=0)"
      ],
      "metadata": {
        "id": "d5idZa4AHXmn"
      },
      "execution_count": 16,
      "outputs": []
    },
    {
      "cell_type": "markdown",
      "source": [
        "# Scale the data"
      ],
      "metadata": {
        "id": "3_0MLbZjHdy8"
      }
    },
    {
      "cell_type": "code",
      "source": [
        "from sklearn.preprocessing import StandardScaler\n",
        "sc = StandardScaler()"
      ],
      "metadata": {
        "id": "Ghd3nLY2HuvX"
      },
      "execution_count": 17,
      "outputs": []
    },
    {
      "cell_type": "code",
      "source": [
        "data = sc.fit_transform(data)\n"
      ],
      "metadata": {
        "id": "oh1umF4DJBSo"
      },
      "execution_count": 18,
      "outputs": []
    },
    {
      "cell_type": "markdown",
      "source": [
        "### Training set mean\n"
      ],
      "metadata": {
        "id": "178nyq4lHdtR"
      }
    },
    {
      "cell_type": "code",
      "source": [
        "mean = X_train.mean()\n",
        "print(mean)"
      ],
      "metadata": {
        "colab": {
          "base_uri": "https://localhost:8080/"
        },
        "id": "M7StP-whJGU8",
        "outputId": "d13fb0fb-089c-43d6-8c14-60bdf81909c7"
      },
      "execution_count": 19,
      "outputs": [
        {
          "output_type": "stream",
          "name": "stdout",
          "text": [
            "Seasonal                  -8.433737e-02\n",
            "Consumer_loans             1.386295e+05\n",
            "Construction_lic_unt       1.520163e+04\n",
            "Construction_lic_area      1.382847e+06\n",
            "Construction_lic_unt_SI    6.753140e+03\n",
            "                               ...     \n",
            "Housing_loanlag_12         1.721556e+06\n",
            "holiday                    2.697674e+00\n",
            "sunday                     4.348837e+00\n",
            "working_day                2.325581e+01\n",
            "date_2                     7.371112e+05\n",
            "Length: 942, dtype: float64\n"
          ]
        }
      ]
    },
    {
      "cell_type": "markdown",
      "source": [
        "### Training Test Std Dev"
      ],
      "metadata": {
        "id": "D9UOfcpSHddY"
      }
    },
    {
      "cell_type": "code",
      "source": [
        "stdev = X_train.std()\n",
        "print(stdev)"
      ],
      "metadata": {
        "colab": {
          "base_uri": "https://localhost:8080/"
        },
        "id": "LWIrv9WrKOYA",
        "outputId": "0842cf8b-5f81-46ac-c816-8976acbc3125"
      },
      "execution_count": 20,
      "outputs": [
        {
          "output_type": "stream",
          "name": "stdout",
          "text": [
            "Seasonal                        1.081756\n",
            "Consumer_loans              16530.136413\n",
            "Construction_lic_unt         4868.974093\n",
            "Construction_lic_area      405080.476199\n",
            "Construction_lic_unt_SI      3193.630891\n",
            "                               ...      \n",
            "Housing_loanlag_12         432708.671725\n",
            "holiday                         4.256843\n",
            "sunday                          0.482243\n",
            "working_day                     4.203700\n",
            "date_2                        467.520677\n",
            "Length: 942, dtype: float64\n"
          ]
        }
      ]
    },
    {
      "cell_type": "markdown",
      "source": [
        ""
      ],
      "metadata": {
        "id": "PwuwHOguKRa6"
      }
    },
    {
      "cell_type": "code",
      "source": [
        "#run without this for KNN first\n",
        "X_train_st = (X_train - mean)/stdev \n",
        "X_train_st.boxplot()"
      ],
      "metadata": {
        "colab": {
          "base_uri": "https://localhost:8080/",
          "height": 287
        },
        "id": "PoreargeKQb3",
        "outputId": "a9152d03-ca3d-4af3-b8d7-011a9d1231cb"
      },
      "execution_count": 21,
      "outputs": [
        {
          "output_type": "execute_result",
          "data": {
            "text/plain": [
              "<matplotlib.axes._subplots.AxesSubplot at 0x7f9f35739c50>"
            ]
          },
          "metadata": {},
          "execution_count": 21
        },
        {
          "output_type": "display_data",
          "data": {
            "image/png": "[encoded data removed]",
            "text/plain": [
              "<Figure size 432x288 with 1 Axes>"
            ]
          },
          "metadata": {
            "needs_background": "light"
          }
        }
      ]
    },
    {
      "cell_type": "markdown",
      "source": [
        "### Test Set preparations, Notice that test is standardized using training set mean and standard deviations"
      ],
      "metadata": {
        "id": "oqDmfby3LLjz"
      }
    },
    {
      "cell_type": "code",
      "source": [
        "X_test_st = (X_test - mean)/stdev \n",
        "X_test_st.boxplot()"
      ],
      "metadata": {
        "colab": {
          "base_uri": "https://localhost:8080/",
          "height": 283
        },
        "id": "bq1xEkQYLOAJ",
        "outputId": "1806e918-6185-4661-d5b3-8013a0b279a7"
      },
      "execution_count": 22,
      "outputs": [
        {
          "output_type": "execute_result",
          "data": {
            "text/plain": [
              "<matplotlib.axes._subplots.AxesSubplot at 0x7f9f2ccd40d0>"
            ]
          },
          "metadata": {},
          "execution_count": 22
        },
        {
          "output_type": "display_data",
          "data": {
            "image/png": "[encoded data removed]",
            "text/plain": [
              "<Figure size 432x288 with 1 Axes>"
            ]
          },
          "metadata": {
            "needs_background": "light"
          }
        }
      ]
    },
    {
      "cell_type": "markdown",
      "source": [
        "# Algorithm Analyisis"
      ],
      "metadata": {
        "id": "SRKJJq13LaPJ"
      }
    },
    {
      "cell_type": "markdown",
      "source": [
        "# LGBMregressor: Complete data, no adjustent"
      ],
      "metadata": {
        "id": "8BbAubcj01CQ"
      }
    },
    {
      "cell_type": "code",
      "source": [
        "#model = KNeighborsRegressor(n_neighbors= 5)\n",
        "#model = RandomForestRegressor(n_estimators=10) #Number of trees in the forest\n",
        "#model = ExtraTreesRegressor(n_estimators=10)\n",
        "#model = GradientBoostingRegressor(n_estimators = 10) #Number of trees in the forest\n",
        "#model = XGBRegressor(objective=\"reg:squarederror\", random_state=42)\n",
        "#model = CatBoostRegressor(verbose= 0) #Change fit in functions\n",
        "model = LGBMRegressor() #Change fit in functions\n",
        "\n",
        "#Model_Performance(model,X_train,y_train,X_test, y_test)\n",
        "Model_Performance(model,X_train_st,y_train,X_test_st, y_test)"
      ],
      "metadata": {
        "colab": {
          "base_uri": "https://localhost:8080/",
          "height": 837
        },
        "id": "Go-7F_I9LQM6",
        "outputId": "6a9e4ef4-8210-4496-aa1f-52f4b7f8b39f"
      },
      "execution_count": 23,
      "outputs": [
        {
          "output_type": "stream",
          "name": "stdout",
          "text": [
            "Test Metrics:\n",
            "R squared: -0.0933993092250327\n",
            "Mean Absolute Error: 0.7882421461233462\n",
            "Mean Squared Error: 0.9298020821687509\n",
            "Root Mean Squared Error: 0.9642624550239167\n"
          ]
        },
        {
          "output_type": "display_data",
          "data": {
            "image/png": "[encoded data removed]",
            "text/plain": [
              "<Figure size 720x288 with 2 Axes>"
            ]
          },
          "metadata": {
            "needs_background": "light"
          }
        },
        {
          "output_type": "stream",
          "name": "stderr",
          "text": [
            "100%|██████████| 10000/10000 [10:59<00:00, 15.16it/s]\n"
          ]
        },
        {
          "output_type": "stream",
          "name": "stdout",
          "text": [
            "Train MSE median: 0.13662450889482025\n",
            "Test MSE median: 0.6594596481739767\n",
            "\n",
            "Train_R2 median: 0.8747332440960494\n",
            "Test_R2 median: 0.06496918361852794\n"
          ]
        },
        {
          "output_type": "display_data",
          "data": {
            "image/png": "[encoded data removed]",
            "text/plain": [
              "<Figure size 720x288 with 2 Axes>"
            ]
          },
          "metadata": {
            "needs_background": "light"
          }
        },
        {
          "output_type": "stream",
          "name": "stdout",
          "text": [
            "Train MSE standard deviation: 0.03757619706685203\n",
            "Test MSE standard deviation:  0.5966053923810811\n",
            "\n",
            "Train_R2 standard deviation: 0.026817185120710553\n",
            "Test_R2 standard deviation:  0.4738047656652297\n"
          ]
        }
      ]
    },
    {
      "cell_type": "code",
      "source": [
        "data.shape"
      ],
      "metadata": {
        "colab": {
          "base_uri": "https://localhost:8080/"
        },
        "id": "d_FeYs91N3oQ",
        "outputId": "e733da16-3aae-4e58-b3a5-a84f1f7ed3ae"
      },
      "execution_count": 24,
      "outputs": [
        {
          "output_type": "execute_result",
          "data": {
            "text/plain": [
              "(54, 943)"
            ]
          },
          "metadata": {},
          "execution_count": 24
        }
      ]
    },
    {
      "cell_type": "code",
      "source": [
        "data = pd.DataFrame(data)"
      ],
      "metadata": {
        "id": "gEsCR5XsOKZZ"
      },
      "execution_count": 25,
      "outputs": []
    },
    {
      "cell_type": "code",
      "source": [
        "Features = data.columns[0:942]\n",
        "\n",
        "Feature_importances = pd.Series(model.feature_importances_, index=Features)\n",
        "Feature_importances.plot.bar()"
      ],
      "metadata": {
        "colab": {
          "base_uri": "https://localhost:8080/",
          "height": 291
        },
        "id": "-V4AZMFZLyr1",
        "outputId": "4616c721-4e3b-4041-badc-2043182b5abc"
      },
      "execution_count": 26,
      "outputs": [
        {
          "output_type": "execute_result",
          "data": {
            "text/plain": [
              "<matplotlib.axes._subplots.AxesSubplot at 0x7f9f25c470d0>"
            ]
          },
          "metadata": {},
          "execution_count": 26
        },
        {
          "output_type": "display_data",
          "data": {
            "image/png": "[encoded data removed]",
            "text/plain": [
              "<Figure size 432x288 with 1 Axes>"
            ]
          },
          "metadata": {
            "needs_background": "light"
          }
        }
      ]
    },
    {
      "cell_type": "code",
      "source": [
        "model = LGBMRegressor(objective='regression', num_leaves=31, learning_rate=0.05, n_estimators=20) "
      ],
      "metadata": {
        "id": "kicKDqINvfRR"
      },
      "execution_count": 27,
      "outputs": []
    },
    {
      "cell_type": "code",
      "source": [
        "import matplotlib.pyplot as plt\n",
        "import seaborn as sns\n",
        "import warnings\n",
        "warnings.simplefilter(action='ignore', category=FutureWarning)\n",
        "\n",
        "def plotImp(model, X , num = 20, fig_size = (40, 20)):\n",
        "    feature_imp = pd.DataFrame({'Value':model.feature_importance(),'Feature':X.columns})\n",
        "    plt.figure(figsize=fig_size)\n",
        "    sns.set(font_scale = 5)\n",
        "    sns.barplot(x=\"Value\", y=\"Feature\", data=feature_imp.sort_values(by=\"Value\", \n",
        "                                                        ascending=False)[0:num])\n",
        "    plt.title('LightGBM Features (avg over folds)')\n",
        "    plt.tight_layout()\n",
        "    plt.savefig('lgbm_importances-01.png')\n",
        "    plt.show()"
      ],
      "metadata": {
        "id": "w_4-gGAhyOWt"
      },
      "execution_count": 28,
      "outputs": []
    },
    {
      "cell_type": "markdown",
      "source": [
        "Would be nice to get feature selection\n",
        "\n",
        "Nice to plot prediction line v actual\n"
      ],
      "metadata": {
        "id": "Ng9KuxqWzZCv"
      }
    },
    {
      "cell_type": "markdown",
      "source": [
        "### LGBM REGRESSOR Metrics original data\n",
        "\n",
        "*   Model_Performance(model,X_train,y_train,X_test, y_test)\n",
        "*   Metrics(y_test, y_pred_Test)\n",
        "\n",
        "*   Predicted_Plot(y_train, y_pred_Train, y_test, y_pred_Test)\n",
        "\n",
        "*   Multiple_Runs(model,X_train,y_train,X_test, y_test)\n",
        "\n",
        "\n",
        "\n"
      ],
      "metadata": {
        "id": "VuoCeFAe1ALn"
      }
    },
    {
      "cell_type": "markdown",
      "source": [
        "### Model Performance"
      ],
      "metadata": {
        "id": "RVlE3eO615pG"
      }
    },
    {
      "cell_type": "code",
      "source": [
        "# Juan's\n",
        "# Model_Performance(model,X_train,y_train,X_test, y_test)\n",
        "Model_Performance(model ,X_train,y_train,X_test, y_test )"
      ],
      "metadata": {
        "colab": {
          "base_uri": "https://localhost:8080/",
          "height": 837
        },
        "id": "DGDGpkfYyjVm",
        "outputId": "0b109c6d-027e-41e1-c80f-646a29abc973"
      },
      "execution_count": 29,
      "outputs": [
        {
          "output_type": "stream",
          "name": "stdout",
          "text": [
            "Test Metrics:\n",
            "R squared: -0.04349434301268884\n",
            "Mean Absolute Error: 0.8055323729012209\n",
            "Mean Squared Error: 0.887364025821627\n",
            "Root Mean Squared Error: 0.9420000137057467\n"
          ]
        },
        {
          "output_type": "display_data",
          "data": {
            "image/png": "[encoded data removed]",
            "text/plain": [
              "<Figure size 720x288 with 2 Axes>"
            ]
          },
          "metadata": {
            "needs_background": "light"
          }
        },
        {
          "output_type": "stream",
          "name": "stderr",
          "text": [
            "100%|██████████| 10000/10000 [08:57<00:00, 18.62it/s]\n"
          ]
        },
        {
          "output_type": "stream",
          "name": "stdout",
          "text": [
            "Train MSE median: 0.6974694386315194\n",
            "Test MSE median: 0.6897577413709767\n",
            "\n",
            "Train_R2 median: 0.3471661651222425\n",
            "Test_R2 median: 0.01639053401352636\n"
          ]
        },
        {
          "output_type": "display_data",
          "data": {
            "image/png": "[encoded data removed]",
            "text/plain": [
              "<Figure size 720x288 with 2 Axes>"
            ]
          },
          "metadata": {
            "needs_background": "light"
          }
        },
        {
          "output_type": "stream",
          "name": "stdout",
          "text": [
            "Train MSE standard deviation: 0.1253254741109237\n",
            "Test MSE standard deviation:  0.6722004670381548\n",
            "\n",
            "Train_R2 standard deviation: 0.034264777650788523\n",
            "Test_R2 standard deviation:  0.2999269918404258\n"
          ]
        }
      ]
    },
    {
      "cell_type": "markdown",
      "source": [
        "### Metrics(y_test, y_pred_Test)"
      ],
      "metadata": {
        "id": "M_JI4ppm2CPZ"
      }
    },
    {
      "cell_type": "code",
      "source": [
        "y_pred_Test = model.predict(X_test) #Predictions\n",
        "Metrics(y_test, y_pred_Test)"
      ],
      "metadata": {
        "colab": {
          "base_uri": "https://localhost:8080/"
        },
        "id": "4bsqLqqJz4PW",
        "outputId": "ddaccaa0-f3f6-43a4-d35b-55c6d5384a61"
      },
      "execution_count": 30,
      "outputs": [
        {
          "output_type": "stream",
          "name": "stdout",
          "text": [
            "Test Metrics:\n",
            "R squared: 0.26018325542364096\n",
            "Mean Absolute Error: 0.6432160199088645\n",
            "Mean Squared Error: 0.6291234535514347\n",
            "Root Mean Squared Error: 0.7931730287594472\n"
          ]
        }
      ]
    },
    {
      "cell_type": "markdown",
      "source": [
        "### Predicted_Plot(y_train, y_pred_Train, y_test, y_pred_Test)"
      ],
      "metadata": {
        "id": "PAxwPpGU2IrS"
      }
    },
    {
      "cell_type": "code",
      "source": [
        "#y_pred_Train = model.predict(X_train) #Predictions\n",
        "#Predicted_Plot(y_train, y_pred_Train, y_test, y_pred_Test)"
      ],
      "metadata": {
        "id": "AhOjRIOv10MV"
      },
      "execution_count": 31,
      "outputs": []
    },
    {
      "cell_type": "markdown",
      "source": [
        "### Multiple_Runs(model,X_train,y_train,X_test, y_test) 100 Runs"
      ],
      "metadata": {
        "id": "2kkkWhjs2iU6"
      }
    },
    {
      "cell_type": "code",
      "source": [
        "Multiple_Runs(model,X_train,y_train,X_test, y_test)"
      ],
      "metadata": {
        "colab": {
          "base_uri": "https://localhost:8080/",
          "height": 472
        },
        "id": "VNj6mzZZ2i70",
        "outputId": "d9c2112c-27a5-4f8d-ebcd-b670cdb9a97e"
      },
      "execution_count": 32,
      "outputs": [
        {
          "output_type": "stream",
          "name": "stderr",
          "text": [
            "100%|██████████| 10000/10000 [08:44<00:00, 19.08it/s]\n"
          ]
        },
        {
          "output_type": "stream",
          "name": "stdout",
          "text": [
            "Train MSE median: 0.6987864209987398\n",
            "Test MSE median: 0.6835013135267312\n",
            "\n",
            "Train_R2 median: 0.3474391082518933\n",
            "Test_R2 median: 0.019951049937500853\n"
          ]
        },
        {
          "output_type": "display_data",
          "data": {
            "image/png": "[encoded data removed]",
            "text/plain": [
              "<Figure size 720x288 with 2 Axes>"
            ]
          },
          "metadata": {
            "needs_background": "light"
          }
        },
        {
          "output_type": "stream",
          "name": "stdout",
          "text": [
            "Train MSE standard deviation: 0.12600848468620446\n",
            "Test MSE standard deviation:  0.674994978350417\n",
            "\n",
            "Train_R2 standard deviation: 0.034683819733267354\n",
            "Test_R2 standard deviation:  0.30640196260455416\n"
          ]
        }
      ]
    },
    {
      "cell_type": "markdown",
      "source": [
        "### Multiple Runs 1ooo"
      ],
      "metadata": {
        "id": "97rFxhqP24SN"
      }
    },
    {
      "cell_type": "code",
      "source": [
        "Multiple_Runs(model,X_train,y_train,X_test, y_test)"
      ],
      "metadata": {
        "colab": {
          "base_uri": "https://localhost:8080/",
          "height": 472
        },
        "id": "kd7K-jSB28ku",
        "outputId": "71f7aa95-efee-4be5-9f77-cd1473db0067"
      },
      "execution_count": 33,
      "outputs": [
        {
          "output_type": "stream",
          "name": "stderr",
          "text": [
            "100%|██████████| 10000/10000 [08:46<00:00, 18.98it/s]\n"
          ]
        },
        {
          "output_type": "stream",
          "name": "stdout",
          "text": [
            "Train MSE median: 0.6969555207276033\n",
            "Test MSE median: 0.6868686463333489\n",
            "\n",
            "Train_R2 median: 0.34722648431013214\n",
            "Test_R2 median: 0.013892493871184908\n"
          ]
        },
        {
          "output_type": "display_data",
          "data": {
            "image/png": "[encoded data removed]",
            "text/plain": [
              "<Figure size 720x288 with 2 Axes>"
            ]
          },
          "metadata": {
            "needs_background": "light"
          }
        },
        {
          "output_type": "stream",
          "name": "stdout",
          "text": [
            "Train MSE standard deviation: 0.12625931035461635\n",
            "Test MSE standard deviation:  0.6763460420217812\n",
            "\n",
            "Train_R2 standard deviation: 0.03439462028658042\n",
            "Test_R2 standard deviation:  0.31716822899302977\n"
          ]
        }
      ]
    },
    {
      "cell_type": "markdown",
      "source": [
        "Multiple Runs 1o,ooo"
      ],
      "metadata": {
        "id": "Ru8XYifC3uof"
      }
    },
    {
      "cell_type": "code",
      "source": [
        "Multiple_Runs(model,X_train,y_train,X_test, y_test)"
      ],
      "metadata": {
        "colab": {
          "base_uri": "https://localhost:8080/",
          "height": 472
        },
        "id": "jQMeROcz3uUU",
        "outputId": "9ee56dc8-a01f-463c-c92e-b79bc5ddca9a"
      },
      "execution_count": 34,
      "outputs": [
        {
          "output_type": "stream",
          "name": "stderr",
          "text": [
            "100%|██████████| 10000/10000 [08:49<00:00, 18.90it/s]\n"
          ]
        },
        {
          "output_type": "stream",
          "name": "stdout",
          "text": [
            "Train MSE median: 0.6976289019500581\n",
            "Test MSE median: 0.6916265434320523\n",
            "\n",
            "Train_R2 median: 0.3474110105361744\n",
            "Test_R2 median: 0.012800584853535524\n"
          ]
        },
        {
          "output_type": "display_data",
          "data": {
            "image/png": "[encoded data removed]",
            "text/plain": [
              "<Figure size 720x288 with 2 Axes>"
            ]
          },
          "metadata": {
            "needs_background": "light"
          }
        },
        {
          "output_type": "stream",
          "name": "stdout",
          "text": [
            "Train MSE standard deviation: 0.12584963810335292\n",
            "Test MSE standard deviation:  0.6761276131473781\n",
            "\n",
            "Train_R2 standard deviation: 0.034322173947346664\n",
            "Test_R2 standard deviation:  0.3145705082163693\n"
          ]
        }
      ]
    },
    {
      "cell_type": "code",
      "source": [
        ""
      ],
      "metadata": {
        "id": "4BG4b2S438To"
      },
      "execution_count": null,
      "outputs": []
    }
  ]
}