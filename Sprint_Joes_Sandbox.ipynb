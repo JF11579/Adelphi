{
  "nbformat": 4,
  "nbformat_minor": 0,
  "metadata": {
    "colab": {
      "name": "Sprint_Joes_Sandbox.ipynb",
      "provenance": [],
      "collapsed_sections": [],
      "toc_visible": true,
      "authorship_tag": "ABX9TyNlDWj/gq/Lpjz+KyoU1iWv",
      "include_colab_link": true
    },
    "kernelspec": {
      "name": "python3",
      "display_name": "Python 3"
    },
    "language_info": {
      "name": "python"
    }
  },
  "cells": [
    {
      "cell_type": "markdown",
      "metadata": {
        "id": "view-in-github",
        "colab_type": "text"
      },
      "source": [
        "<a href=\"https://colab.research.google.com/github/JF11579/Adelphi/blob/main/Sprint_Joes_Sandbox.ipynb\" target=\"_parent\"><img src=\"https://colab.research.google.com/assets/colab-badge.svg\" alt=\"Open In Colab\"/></a>"
      ]
    },
    {
      "cell_type": "markdown",
      "metadata": {
        "id": "MU7EgcEwm9fG"
      },
      "source": [
        "figure out which features hav ehighest correaltions.  does sklearn have an auto feature function ?  PCA. Could runit on the entire data base and se which n columns it keeps\n",
        "\n",
        "using date data estimate future sales\n",
        "\n",
        "I guess dates - months ?  seasons ?  get mixed into the regression.\n",
        "\n",
        "Maybe make variables out of months , quarters"
      ]
    },
    {
      "cell_type": "markdown",
      "metadata": {
        "id": "asWUeHKswA6u"
      },
      "source": [
        "One cannot pay attn to everything.  There is just too much data. But are there some needles inteh haystack are there are few leaves blowing in the wind that actaully do tell us which way the mkt will go?  And if there are , how can we dientify them?"
      ]
    },
    {
      "cell_type": "code",
      "metadata": {
        "id": "bfSiyPkJDFt7"
      },
      "source": [
        ""
      ],
      "execution_count": null,
      "outputs": []
    },
    {
      "cell_type": "markdown",
      "metadata": {
        "id": "GaR8r28DDlHO"
      },
      "source": [
        "# Libraries"
      ]
    },
    {
      "cell_type": "code",
      "metadata": {
        "id": "ic7ntPrsDhOY"
      },
      "source": [
        "import pandas as pd\n",
        "import numpy\n",
        "import numpy as np\n",
        "import seaborn as sns\n",
        "%matplotlib inline\n",
        "import matplotlib.pyplot as plt\n",
        "import seaborn\n",
        "# !pip install scikit-learn\n",
        "from sklearn.linear_model import LinearRegression\n",
        "from sklearn.model_selection import train_test_split #Split data in testing and training\n",
        "from sklearn import metrics\n",
        "import calendar\n",
        "############################\n",
        "######   pip installs  #####\n",
        "############################\n",
        "\n"
      ],
      "execution_count": 4,
      "outputs": []
    },
    {
      "cell_type": "markdown",
      "metadata": {
        "id": "dx_tq9E_ElhB"
      },
      "source": [
        "# Options"
      ]
    },
    {
      "cell_type": "code",
      "metadata": {
        "id": "SKlkzOCaEq-D"
      },
      "source": [
        "# Get rid of scinetific notation\n",
        "#pd.set_option('display.float_format', lambda x: '%.16f' % x)\n",
        "\n",
        "# to revert\n",
        "#pd.reset_option('display.float_format')"
      ],
      "execution_count": null,
      "outputs": []
    },
    {
      "cell_type": "markdown",
      "metadata": {
        "id": "7fGiF5RkDp-f"
      },
      "source": [
        "# Data"
      ]
    },
    {
      "cell_type": "code",
      "metadata": {
        "id": "e9CuYsAQDr6E",
        "colab": {
          "base_uri": "https://localhost:8080/",
          "height": 255
        },
        "outputId": "9a52fb53-3d09-4f28-cb9f-2a217912db66"
      },
      "source": [
        "\n",
        "Porc_Op = pd.read_csv('/content/Porcelana_OP_adelphi_2021_SCALED.csv')\n",
        "Porc_Op.head(3) \n"
      ],
      "execution_count": 5,
      "outputs": [
        {
          "output_type": "execute_result",
          "data": {
            "text/html": [
              "<div>\n",
              "<style scoped>\n",
              "    .dataframe tbody tr th:only-of-type {\n",
              "        vertical-align: middle;\n",
              "    }\n",
              "\n",
              "    .dataframe tbody tr th {\n",
              "        vertical-align: top;\n",
              "    }\n",
              "\n",
              "    .dataframe thead th {\n",
              "        text-align: right;\n",
              "    }\n",
              "</style>\n",
              "<table border=\"1\" class=\"dataframe\">\n",
              "  <thead>\n",
              "    <tr style=\"text-align: right;\">\n",
              "      <th></th>\n",
              "      <th>date</th>\n",
              "      <th>Quantity</th>\n",
              "      <th>Seasonal</th>\n",
              "      <th>Consumer_loans</th>\n",
              "      <th>Construction_lic_unt</th>\n",
              "      <th>Construction_lic_area</th>\n",
              "      <th>Construction_lic_unt_SI</th>\n",
              "      <th>Construction_lic_unt_NO_SI</th>\n",
              "      <th>Construction_lic_area_SI</th>\n",
              "      <th>Construction_lic_area_NO_SI</th>\n",
              "      <th>Gray_cement_prod</th>\n",
              "      <th>Gray_cement_dispatch</th>\n",
              "      <th>Gray_cement_dispatch_Factory</th>\n",
              "      <th>Gray_cement_dispatch_comercial</th>\n",
              "      <th>Gray_cement_dispatch_contractor</th>\n",
              "      <th>Gray_cement_dispatch_other</th>\n",
              "      <th>DTF(interest_rate)</th>\n",
              "      <th>GDP_Constr</th>\n",
              "      <th>GDP_Total</th>\n",
              "      <th>Inflation</th>\n",
              "      <th>USD_exchange</th>\n",
              "      <th>Oil-brent</th>\n",
              "      <th>Oil_WTI</th>\n",
              "      <th>ISE</th>\n",
              "      <th>ICC</th>\n",
              "      <th>IEC</th>\n",
              "      <th>ICE</th>\n",
              "      <th>Unemployment%</th>\n",
              "      <th>RADAR_Constr</th>\n",
              "      <th>RADAR_Rev</th>\n",
              "      <th>RADAR_Toilets</th>\n",
              "      <th>RADAR_HomeAppliance</th>\n",
              "      <th>RADAR_Paint</th>\n",
              "      <th>RADAR_Furniture</th>\n",
              "      <th>RADAR_Tools</th>\n",
              "      <th>RADAR_Elect</th>\n",
              "      <th>RADAR_Plumbing</th>\n",
              "      <th>RADAR_Wood</th>\n",
              "      <th>RADAR_Supply</th>\n",
              "      <th>RADAR_Remodel</th>\n",
              "      <th>...</th>\n",
              "      <th>Preferencial_creditlag_8</th>\n",
              "      <th>loan_overdraftslag_8</th>\n",
              "      <th>Credit_cardlag_8</th>\n",
              "      <th>Treasury_loanlag_8</th>\n",
              "      <th>Housing_loanlag_8</th>\n",
              "      <th>Consumer_creditlag_9</th>\n",
              "      <th>Consumer_microcreditlag_9</th>\n",
              "      <th>Ordinary_creditlag_9</th>\n",
              "      <th>Preferencial_creditlag_9</th>\n",
              "      <th>loan_overdraftslag_9</th>\n",
              "      <th>Credit_cardlag_9</th>\n",
              "      <th>Treasury_loanlag_9</th>\n",
              "      <th>Housing_loanlag_9</th>\n",
              "      <th>Consumer_creditlag_10</th>\n",
              "      <th>Consumer_microcreditlag_10</th>\n",
              "      <th>Ordinary_creditlag_10</th>\n",
              "      <th>Preferencial_creditlag_10</th>\n",
              "      <th>loan_overdraftslag_10</th>\n",
              "      <th>Credit_cardlag_10</th>\n",
              "      <th>Treasury_loanlag_10</th>\n",
              "      <th>Housing_loanlag_10</th>\n",
              "      <th>Consumer_creditlag_11</th>\n",
              "      <th>Consumer_microcreditlag_11</th>\n",
              "      <th>Ordinary_creditlag_11</th>\n",
              "      <th>Preferencial_creditlag_11</th>\n",
              "      <th>loan_overdraftslag_11</th>\n",
              "      <th>Credit_cardlag_11</th>\n",
              "      <th>Treasury_loanlag_11</th>\n",
              "      <th>Housing_loanlag_11</th>\n",
              "      <th>Consumer_creditlag_12</th>\n",
              "      <th>Consumer_microcreditlag_12</th>\n",
              "      <th>Ordinary_creditlag_12</th>\n",
              "      <th>Preferencial_creditlag_12</th>\n",
              "      <th>loan_overdraftslag_12</th>\n",
              "      <th>Credit_cardlag_12</th>\n",
              "      <th>Treasury_loanlag_12</th>\n",
              "      <th>Housing_loanlag_12</th>\n",
              "      <th>holiday</th>\n",
              "      <th>sunday</th>\n",
              "      <th>working_day</th>\n",
              "    </tr>\n",
              "  </thead>\n",
              "  <tbody>\n",
              "    <tr>\n",
              "      <th>0</th>\n",
              "      <td>2017-01-01</td>\n",
              "      <td>1.503548</td>\n",
              "      <td>0.699923</td>\n",
              "      <td>112579.4297</td>\n",
              "      <td>11303.0</td>\n",
              "      <td>1185131.0</td>\n",
              "      <td>3587.0</td>\n",
              "      <td>7716.0</td>\n",
              "      <td>229478.0</td>\n",
              "      <td>955653.0</td>\n",
              "      <td>897063.518</td>\n",
              "      <td>913190.407</td>\n",
              "      <td>194276.0200</td>\n",
              "      <td>502084.8330</td>\n",
              "      <td>171559.9665</td>\n",
              "      <td>45269.5875</td>\n",
              "      <td>0.0694</td>\n",
              "      <td>14753.34784</td>\n",
              "      <td>206242.568</td>\n",
              "      <td>5.47</td>\n",
              "      <td>2944.65</td>\n",
              "      <td>52.19</td>\n",
              "      <td>52.81</td>\n",
              "      <td>102.548972</td>\n",
              "      <td>-30.2</td>\n",
              "      <td>-28.3</td>\n",
              "      <td>-33.1</td>\n",
              "      <td>11.733267</td>\n",
              "      <td>1.044525e+11</td>\n",
              "      <td>1.323489e+11</td>\n",
              "      <td>1.727682e+11</td>\n",
              "      <td>1.050914e+11</td>\n",
              "      <td>8.847567e+10</td>\n",
              "      <td>8.354725e+10</td>\n",
              "      <td>5.008444e+10</td>\n",
              "      <td>9.372000e+10</td>\n",
              "      <td>3.037115e+10</td>\n",
              "      <td>3.136015e+10</td>\n",
              "      <td>1.585430e+11</td>\n",
              "      <td>1.050763e+12</td>\n",
              "      <td>...</td>\n",
              "      <td>4445890.861</td>\n",
              "      <td>6402426.269</td>\n",
              "      <td>3390803.016</td>\n",
              "      <td>550883.0739</td>\n",
              "      <td>1302564.560</td>\n",
              "      <td>4680431.000</td>\n",
              "      <td>460632.0000</td>\n",
              "      <td>5702443.000</td>\n",
              "      <td>4657354.000</td>\n",
              "      <td>7012296.000</td>\n",
              "      <td>3283417.000</td>\n",
              "      <td>549789.0000</td>\n",
              "      <td>1454672.000</td>\n",
              "      <td>4941981.754</td>\n",
              "      <td>531850.1926</td>\n",
              "      <td>7315235.649</td>\n",
              "      <td>6120086.089</td>\n",
              "      <td>8140200.383</td>\n",
              "      <td>3814229.013</td>\n",
              "      <td>632387.5921</td>\n",
              "      <td>1627959.289</td>\n",
              "      <td>4068020.900</td>\n",
              "      <td>438682.2679</td>\n",
              "      <td>6513619.182</td>\n",
              "      <td>6137144.374</td>\n",
              "      <td>6675101.294</td>\n",
              "      <td>2989980.729</td>\n",
              "      <td>483448.3473</td>\n",
              "      <td>1298811.962</td>\n",
              "      <td>3106784.500</td>\n",
              "      <td>386289.5525</td>\n",
              "      <td>4875376.339</td>\n",
              "      <td>4791146.877</td>\n",
              "      <td>5996088.922</td>\n",
              "      <td>3013612.505</td>\n",
              "      <td>470541.3290</td>\n",
              "      <td>1093819.181</td>\n",
              "      <td>1</td>\n",
              "      <td>5</td>\n",
              "      <td>25</td>\n",
              "    </tr>\n",
              "    <tr>\n",
              "      <th>1</th>\n",
              "      <td>2017-02-01</td>\n",
              "      <td>0.076213</td>\n",
              "      <td>0.316156</td>\n",
              "      <td>113438.0949</td>\n",
              "      <td>16187.0</td>\n",
              "      <td>1590979.0</td>\n",
              "      <td>4659.0</td>\n",
              "      <td>11528.0</td>\n",
              "      <td>272961.0</td>\n",
              "      <td>1318018.0</td>\n",
              "      <td>1025704.960</td>\n",
              "      <td>1007968.299</td>\n",
              "      <td>228359.8390</td>\n",
              "      <td>530826.1625</td>\n",
              "      <td>199731.6950</td>\n",
              "      <td>49050.6025</td>\n",
              "      <td>0.0678</td>\n",
              "      <td>14753.34784</td>\n",
              "      <td>206242.568</td>\n",
              "      <td>5.18</td>\n",
              "      <td>2881.68</td>\n",
              "      <td>53.40</td>\n",
              "      <td>54.01</td>\n",
              "      <td>102.919033</td>\n",
              "      <td>-24.3</td>\n",
              "      <td>-19.9</td>\n",
              "      <td>-31.0</td>\n",
              "      <td>10.504292</td>\n",
              "      <td>1.574855e+11</td>\n",
              "      <td>8.351517e+10</td>\n",
              "      <td>1.096908e+11</td>\n",
              "      <td>8.252536e+10</td>\n",
              "      <td>8.582517e+10</td>\n",
              "      <td>1.522091e+11</td>\n",
              "      <td>5.056706e+10</td>\n",
              "      <td>6.034851e+10</td>\n",
              "      <td>2.138243e+10</td>\n",
              "      <td>2.216364e+10</td>\n",
              "      <td>2.104634e+11</td>\n",
              "      <td>1.036176e+12</td>\n",
              "      <td>...</td>\n",
              "      <td>6566090.070</td>\n",
              "      <td>7930536.312</td>\n",
              "      <td>4347164.930</td>\n",
              "      <td>677598.1836</td>\n",
              "      <td>1864166.572</td>\n",
              "      <td>4353892.017</td>\n",
              "      <td>433679.7772</td>\n",
              "      <td>5854575.608</td>\n",
              "      <td>4445890.861</td>\n",
              "      <td>6402426.269</td>\n",
              "      <td>3390803.016</td>\n",
              "      <td>550883.0739</td>\n",
              "      <td>1302564.560</td>\n",
              "      <td>4680431.000</td>\n",
              "      <td>460632.0000</td>\n",
              "      <td>5702443.000</td>\n",
              "      <td>4657354.000</td>\n",
              "      <td>7012296.000</td>\n",
              "      <td>3283417.000</td>\n",
              "      <td>549789.0000</td>\n",
              "      <td>1454672.000</td>\n",
              "      <td>4941981.754</td>\n",
              "      <td>531850.1926</td>\n",
              "      <td>7315235.649</td>\n",
              "      <td>6120086.089</td>\n",
              "      <td>8140200.383</td>\n",
              "      <td>3814229.013</td>\n",
              "      <td>632387.5921</td>\n",
              "      <td>1627959.289</td>\n",
              "      <td>4068020.900</td>\n",
              "      <td>438682.2679</td>\n",
              "      <td>6513619.182</td>\n",
              "      <td>6137144.374</td>\n",
              "      <td>6675101.294</td>\n",
              "      <td>2989980.729</td>\n",
              "      <td>483448.3473</td>\n",
              "      <td>1298811.962</td>\n",
              "      <td>0</td>\n",
              "      <td>4</td>\n",
              "      <td>24</td>\n",
              "    </tr>\n",
              "    <tr>\n",
              "      <th>2</th>\n",
              "      <td>2017-03-01</td>\n",
              "      <td>-1.346258</td>\n",
              "      <td>-0.267695</td>\n",
              "      <td>114667.2587</td>\n",
              "      <td>15231.0</td>\n",
              "      <td>1438528.0</td>\n",
              "      <td>5687.0</td>\n",
              "      <td>9544.0</td>\n",
              "      <td>354904.0</td>\n",
              "      <td>1083624.0</td>\n",
              "      <td>1099919.669</td>\n",
              "      <td>1083268.231</td>\n",
              "      <td>241130.4555</td>\n",
              "      <td>568447.4880</td>\n",
              "      <td>218640.3600</td>\n",
              "      <td>55049.9274</td>\n",
              "      <td>0.0665</td>\n",
              "      <td>14753.34784</td>\n",
              "      <td>206242.568</td>\n",
              "      <td>4.69</td>\n",
              "      <td>2943.49</td>\n",
              "      <td>50.43</td>\n",
              "      <td>50.60</td>\n",
              "      <td>102.162670</td>\n",
              "      <td>-21.1</td>\n",
              "      <td>-18.3</td>\n",
              "      <td>-25.4</td>\n",
              "      <td>9.704610</td>\n",
              "      <td>1.215372e+11</td>\n",
              "      <td>9.821204e+10</td>\n",
              "      <td>1.191497e+11</td>\n",
              "      <td>9.035507e+10</td>\n",
              "      <td>9.516119e+10</td>\n",
              "      <td>1.388751e+11</td>\n",
              "      <td>5.266968e+10</td>\n",
              "      <td>1.137228e+11</td>\n",
              "      <td>2.872364e+10</td>\n",
              "      <td>2.258877e+10</td>\n",
              "      <td>1.192185e+11</td>\n",
              "      <td>1.000214e+12</td>\n",
              "      <td>...</td>\n",
              "      <td>4119152.514</td>\n",
              "      <td>6258157.459</td>\n",
              "      <td>3447128.397</td>\n",
              "      <td>478975.7922</td>\n",
              "      <td>1302860.802</td>\n",
              "      <td>5430241.566</td>\n",
              "      <td>555441.9044</td>\n",
              "      <td>7916686.911</td>\n",
              "      <td>6566090.070</td>\n",
              "      <td>7930536.312</td>\n",
              "      <td>4347164.930</td>\n",
              "      <td>677598.1836</td>\n",
              "      <td>1864166.572</td>\n",
              "      <td>4353892.017</td>\n",
              "      <td>433679.7772</td>\n",
              "      <td>5854575.608</td>\n",
              "      <td>4445890.861</td>\n",
              "      <td>6402426.269</td>\n",
              "      <td>3390803.016</td>\n",
              "      <td>550883.0739</td>\n",
              "      <td>1302564.560</td>\n",
              "      <td>4680431.000</td>\n",
              "      <td>460632.0000</td>\n",
              "      <td>5702443.000</td>\n",
              "      <td>4657354.000</td>\n",
              "      <td>7012296.000</td>\n",
              "      <td>3283417.000</td>\n",
              "      <td>549789.0000</td>\n",
              "      <td>1454672.000</td>\n",
              "      <td>4941981.754</td>\n",
              "      <td>531850.1926</td>\n",
              "      <td>7315235.649</td>\n",
              "      <td>6120086.089</td>\n",
              "      <td>8140200.383</td>\n",
              "      <td>3814229.013</td>\n",
              "      <td>632387.5921</td>\n",
              "      <td>1627959.289</td>\n",
              "      <td>1</td>\n",
              "      <td>4</td>\n",
              "      <td>26</td>\n",
              "    </tr>\n",
              "  </tbody>\n",
              "</table>\n",
              "<p>3 rows × 943 columns</p>\n",
              "</div>"
            ],
            "text/plain": [
              "         date  Quantity  Seasonal  ...  holiday  sunday  working_day\n",
              "0  2017-01-01  1.503548  0.699923  ...        1       5           25\n",
              "1  2017-02-01  0.076213  0.316156  ...        0       4           24\n",
              "2  2017-03-01 -1.346258 -0.267695  ...        1       4           26\n",
              "\n",
              "[3 rows x 943 columns]"
            ]
          },
          "metadata": {},
          "execution_count": 5
        }
      ]
    },
    {
      "cell_type": "markdown",
      "metadata": {
        "id": "H64FMDg_-3dz"
      },
      "source": [
        "# Simple Line Graph of Quatity"
      ]
    },
    {
      "cell_type": "code",
      "metadata": {
        "colab": {
          "base_uri": "https://localhost:8080/",
          "height": 255
        },
        "id": "pTksALBiBIep",
        "outputId": "6c32e04f-08c9-4eb2-f067-369fb8f65bc9"
      },
      "source": [
        "Porc_Op = pd.read_csv('/content/Porcelana_OP_adelphi_2021_SCALED.csv')\n",
        "Porc_Op.head(3) "
      ],
      "execution_count": 33,
      "outputs": [
        {
          "output_type": "execute_result",
          "data": {
            "text/html": [
              "<div>\n",
              "<style scoped>\n",
              "    .dataframe tbody tr th:only-of-type {\n",
              "        vertical-align: middle;\n",
              "    }\n",
              "\n",
              "    .dataframe tbody tr th {\n",
              "        vertical-align: top;\n",
              "    }\n",
              "\n",
              "    .dataframe thead th {\n",
              "        text-align: right;\n",
              "    }\n",
              "</style>\n",
              "<table border=\"1\" class=\"dataframe\">\n",
              "  <thead>\n",
              "    <tr style=\"text-align: right;\">\n",
              "      <th></th>\n",
              "      <th>date</th>\n",
              "      <th>Quantity</th>\n",
              "      <th>Seasonal</th>\n",
              "      <th>Consumer_loans</th>\n",
              "      <th>Construction_lic_unt</th>\n",
              "      <th>Construction_lic_area</th>\n",
              "      <th>Construction_lic_unt_SI</th>\n",
              "      <th>Construction_lic_unt_NO_SI</th>\n",
              "      <th>Construction_lic_area_SI</th>\n",
              "      <th>Construction_lic_area_NO_SI</th>\n",
              "      <th>Gray_cement_prod</th>\n",
              "      <th>Gray_cement_dispatch</th>\n",
              "      <th>Gray_cement_dispatch_Factory</th>\n",
              "      <th>Gray_cement_dispatch_comercial</th>\n",
              "      <th>Gray_cement_dispatch_contractor</th>\n",
              "      <th>Gray_cement_dispatch_other</th>\n",
              "      <th>DTF(interest_rate)</th>\n",
              "      <th>GDP_Constr</th>\n",
              "      <th>GDP_Total</th>\n",
              "      <th>Inflation</th>\n",
              "      <th>USD_exchange</th>\n",
              "      <th>Oil-brent</th>\n",
              "      <th>Oil_WTI</th>\n",
              "      <th>ISE</th>\n",
              "      <th>ICC</th>\n",
              "      <th>IEC</th>\n",
              "      <th>ICE</th>\n",
              "      <th>Unemployment%</th>\n",
              "      <th>RADAR_Constr</th>\n",
              "      <th>RADAR_Rev</th>\n",
              "      <th>RADAR_Toilets</th>\n",
              "      <th>RADAR_HomeAppliance</th>\n",
              "      <th>RADAR_Paint</th>\n",
              "      <th>RADAR_Furniture</th>\n",
              "      <th>RADAR_Tools</th>\n",
              "      <th>RADAR_Elect</th>\n",
              "      <th>RADAR_Plumbing</th>\n",
              "      <th>RADAR_Wood</th>\n",
              "      <th>RADAR_Supply</th>\n",
              "      <th>RADAR_Remodel</th>\n",
              "      <th>...</th>\n",
              "      <th>Preferencial_creditlag_8</th>\n",
              "      <th>loan_overdraftslag_8</th>\n",
              "      <th>Credit_cardlag_8</th>\n",
              "      <th>Treasury_loanlag_8</th>\n",
              "      <th>Housing_loanlag_8</th>\n",
              "      <th>Consumer_creditlag_9</th>\n",
              "      <th>Consumer_microcreditlag_9</th>\n",
              "      <th>Ordinary_creditlag_9</th>\n",
              "      <th>Preferencial_creditlag_9</th>\n",
              "      <th>loan_overdraftslag_9</th>\n",
              "      <th>Credit_cardlag_9</th>\n",
              "      <th>Treasury_loanlag_9</th>\n",
              "      <th>Housing_loanlag_9</th>\n",
              "      <th>Consumer_creditlag_10</th>\n",
              "      <th>Consumer_microcreditlag_10</th>\n",
              "      <th>Ordinary_creditlag_10</th>\n",
              "      <th>Preferencial_creditlag_10</th>\n",
              "      <th>loan_overdraftslag_10</th>\n",
              "      <th>Credit_cardlag_10</th>\n",
              "      <th>Treasury_loanlag_10</th>\n",
              "      <th>Housing_loanlag_10</th>\n",
              "      <th>Consumer_creditlag_11</th>\n",
              "      <th>Consumer_microcreditlag_11</th>\n",
              "      <th>Ordinary_creditlag_11</th>\n",
              "      <th>Preferencial_creditlag_11</th>\n",
              "      <th>loan_overdraftslag_11</th>\n",
              "      <th>Credit_cardlag_11</th>\n",
              "      <th>Treasury_loanlag_11</th>\n",
              "      <th>Housing_loanlag_11</th>\n",
              "      <th>Consumer_creditlag_12</th>\n",
              "      <th>Consumer_microcreditlag_12</th>\n",
              "      <th>Ordinary_creditlag_12</th>\n",
              "      <th>Preferencial_creditlag_12</th>\n",
              "      <th>loan_overdraftslag_12</th>\n",
              "      <th>Credit_cardlag_12</th>\n",
              "      <th>Treasury_loanlag_12</th>\n",
              "      <th>Housing_loanlag_12</th>\n",
              "      <th>holiday</th>\n",
              "      <th>sunday</th>\n",
              "      <th>working_day</th>\n",
              "    </tr>\n",
              "  </thead>\n",
              "  <tbody>\n",
              "    <tr>\n",
              "      <th>0</th>\n",
              "      <td>2017-01-01</td>\n",
              "      <td>1.503548</td>\n",
              "      <td>0.699923</td>\n",
              "      <td>112579.4297</td>\n",
              "      <td>11303.0</td>\n",
              "      <td>1185131.0</td>\n",
              "      <td>3587.0</td>\n",
              "      <td>7716.0</td>\n",
              "      <td>229478.0</td>\n",
              "      <td>955653.0</td>\n",
              "      <td>897063.518</td>\n",
              "      <td>913190.407</td>\n",
              "      <td>194276.0200</td>\n",
              "      <td>502084.8330</td>\n",
              "      <td>171559.9665</td>\n",
              "      <td>45269.5875</td>\n",
              "      <td>0.0694</td>\n",
              "      <td>14753.34784</td>\n",
              "      <td>206242.568</td>\n",
              "      <td>5.47</td>\n",
              "      <td>2944.65</td>\n",
              "      <td>52.19</td>\n",
              "      <td>52.81</td>\n",
              "      <td>102.548972</td>\n",
              "      <td>-30.2</td>\n",
              "      <td>-28.3</td>\n",
              "      <td>-33.1</td>\n",
              "      <td>11.733267</td>\n",
              "      <td>1.044525e+11</td>\n",
              "      <td>1.323489e+11</td>\n",
              "      <td>1.727682e+11</td>\n",
              "      <td>1.050914e+11</td>\n",
              "      <td>8.847567e+10</td>\n",
              "      <td>8.354725e+10</td>\n",
              "      <td>5.008444e+10</td>\n",
              "      <td>9.372000e+10</td>\n",
              "      <td>3.037115e+10</td>\n",
              "      <td>3.136015e+10</td>\n",
              "      <td>1.585430e+11</td>\n",
              "      <td>1.050763e+12</td>\n",
              "      <td>...</td>\n",
              "      <td>4445890.861</td>\n",
              "      <td>6402426.269</td>\n",
              "      <td>3390803.016</td>\n",
              "      <td>550883.0739</td>\n",
              "      <td>1302564.560</td>\n",
              "      <td>4680431.000</td>\n",
              "      <td>460632.0000</td>\n",
              "      <td>5702443.000</td>\n",
              "      <td>4657354.000</td>\n",
              "      <td>7012296.000</td>\n",
              "      <td>3283417.000</td>\n",
              "      <td>549789.0000</td>\n",
              "      <td>1454672.000</td>\n",
              "      <td>4941981.754</td>\n",
              "      <td>531850.1926</td>\n",
              "      <td>7315235.649</td>\n",
              "      <td>6120086.089</td>\n",
              "      <td>8140200.383</td>\n",
              "      <td>3814229.013</td>\n",
              "      <td>632387.5921</td>\n",
              "      <td>1627959.289</td>\n",
              "      <td>4068020.900</td>\n",
              "      <td>438682.2679</td>\n",
              "      <td>6513619.182</td>\n",
              "      <td>6137144.374</td>\n",
              "      <td>6675101.294</td>\n",
              "      <td>2989980.729</td>\n",
              "      <td>483448.3473</td>\n",
              "      <td>1298811.962</td>\n",
              "      <td>3106784.500</td>\n",
              "      <td>386289.5525</td>\n",
              "      <td>4875376.339</td>\n",
              "      <td>4791146.877</td>\n",
              "      <td>5996088.922</td>\n",
              "      <td>3013612.505</td>\n",
              "      <td>470541.3290</td>\n",
              "      <td>1093819.181</td>\n",
              "      <td>1</td>\n",
              "      <td>5</td>\n",
              "      <td>25</td>\n",
              "    </tr>\n",
              "    <tr>\n",
              "      <th>1</th>\n",
              "      <td>2017-02-01</td>\n",
              "      <td>0.076213</td>\n",
              "      <td>0.316156</td>\n",
              "      <td>113438.0949</td>\n",
              "      <td>16187.0</td>\n",
              "      <td>1590979.0</td>\n",
              "      <td>4659.0</td>\n",
              "      <td>11528.0</td>\n",
              "      <td>272961.0</td>\n",
              "      <td>1318018.0</td>\n",
              "      <td>1025704.960</td>\n",
              "      <td>1007968.299</td>\n",
              "      <td>228359.8390</td>\n",
              "      <td>530826.1625</td>\n",
              "      <td>199731.6950</td>\n",
              "      <td>49050.6025</td>\n",
              "      <td>0.0678</td>\n",
              "      <td>14753.34784</td>\n",
              "      <td>206242.568</td>\n",
              "      <td>5.18</td>\n",
              "      <td>2881.68</td>\n",
              "      <td>53.40</td>\n",
              "      <td>54.01</td>\n",
              "      <td>102.919033</td>\n",
              "      <td>-24.3</td>\n",
              "      <td>-19.9</td>\n",
              "      <td>-31.0</td>\n",
              "      <td>10.504292</td>\n",
              "      <td>1.574855e+11</td>\n",
              "      <td>8.351517e+10</td>\n",
              "      <td>1.096908e+11</td>\n",
              "      <td>8.252536e+10</td>\n",
              "      <td>8.582517e+10</td>\n",
              "      <td>1.522091e+11</td>\n",
              "      <td>5.056706e+10</td>\n",
              "      <td>6.034851e+10</td>\n",
              "      <td>2.138243e+10</td>\n",
              "      <td>2.216364e+10</td>\n",
              "      <td>2.104634e+11</td>\n",
              "      <td>1.036176e+12</td>\n",
              "      <td>...</td>\n",
              "      <td>6566090.070</td>\n",
              "      <td>7930536.312</td>\n",
              "      <td>4347164.930</td>\n",
              "      <td>677598.1836</td>\n",
              "      <td>1864166.572</td>\n",
              "      <td>4353892.017</td>\n",
              "      <td>433679.7772</td>\n",
              "      <td>5854575.608</td>\n",
              "      <td>4445890.861</td>\n",
              "      <td>6402426.269</td>\n",
              "      <td>3390803.016</td>\n",
              "      <td>550883.0739</td>\n",
              "      <td>1302564.560</td>\n",
              "      <td>4680431.000</td>\n",
              "      <td>460632.0000</td>\n",
              "      <td>5702443.000</td>\n",
              "      <td>4657354.000</td>\n",
              "      <td>7012296.000</td>\n",
              "      <td>3283417.000</td>\n",
              "      <td>549789.0000</td>\n",
              "      <td>1454672.000</td>\n",
              "      <td>4941981.754</td>\n",
              "      <td>531850.1926</td>\n",
              "      <td>7315235.649</td>\n",
              "      <td>6120086.089</td>\n",
              "      <td>8140200.383</td>\n",
              "      <td>3814229.013</td>\n",
              "      <td>632387.5921</td>\n",
              "      <td>1627959.289</td>\n",
              "      <td>4068020.900</td>\n",
              "      <td>438682.2679</td>\n",
              "      <td>6513619.182</td>\n",
              "      <td>6137144.374</td>\n",
              "      <td>6675101.294</td>\n",
              "      <td>2989980.729</td>\n",
              "      <td>483448.3473</td>\n",
              "      <td>1298811.962</td>\n",
              "      <td>0</td>\n",
              "      <td>4</td>\n",
              "      <td>24</td>\n",
              "    </tr>\n",
              "    <tr>\n",
              "      <th>2</th>\n",
              "      <td>2017-03-01</td>\n",
              "      <td>-1.346258</td>\n",
              "      <td>-0.267695</td>\n",
              "      <td>114667.2587</td>\n",
              "      <td>15231.0</td>\n",
              "      <td>1438528.0</td>\n",
              "      <td>5687.0</td>\n",
              "      <td>9544.0</td>\n",
              "      <td>354904.0</td>\n",
              "      <td>1083624.0</td>\n",
              "      <td>1099919.669</td>\n",
              "      <td>1083268.231</td>\n",
              "      <td>241130.4555</td>\n",
              "      <td>568447.4880</td>\n",
              "      <td>218640.3600</td>\n",
              "      <td>55049.9274</td>\n",
              "      <td>0.0665</td>\n",
              "      <td>14753.34784</td>\n",
              "      <td>206242.568</td>\n",
              "      <td>4.69</td>\n",
              "      <td>2943.49</td>\n",
              "      <td>50.43</td>\n",
              "      <td>50.60</td>\n",
              "      <td>102.162670</td>\n",
              "      <td>-21.1</td>\n",
              "      <td>-18.3</td>\n",
              "      <td>-25.4</td>\n",
              "      <td>9.704610</td>\n",
              "      <td>1.215372e+11</td>\n",
              "      <td>9.821204e+10</td>\n",
              "      <td>1.191497e+11</td>\n",
              "      <td>9.035507e+10</td>\n",
              "      <td>9.516119e+10</td>\n",
              "      <td>1.388751e+11</td>\n",
              "      <td>5.266968e+10</td>\n",
              "      <td>1.137228e+11</td>\n",
              "      <td>2.872364e+10</td>\n",
              "      <td>2.258877e+10</td>\n",
              "      <td>1.192185e+11</td>\n",
              "      <td>1.000214e+12</td>\n",
              "      <td>...</td>\n",
              "      <td>4119152.514</td>\n",
              "      <td>6258157.459</td>\n",
              "      <td>3447128.397</td>\n",
              "      <td>478975.7922</td>\n",
              "      <td>1302860.802</td>\n",
              "      <td>5430241.566</td>\n",
              "      <td>555441.9044</td>\n",
              "      <td>7916686.911</td>\n",
              "      <td>6566090.070</td>\n",
              "      <td>7930536.312</td>\n",
              "      <td>4347164.930</td>\n",
              "      <td>677598.1836</td>\n",
              "      <td>1864166.572</td>\n",
              "      <td>4353892.017</td>\n",
              "      <td>433679.7772</td>\n",
              "      <td>5854575.608</td>\n",
              "      <td>4445890.861</td>\n",
              "      <td>6402426.269</td>\n",
              "      <td>3390803.016</td>\n",
              "      <td>550883.0739</td>\n",
              "      <td>1302564.560</td>\n",
              "      <td>4680431.000</td>\n",
              "      <td>460632.0000</td>\n",
              "      <td>5702443.000</td>\n",
              "      <td>4657354.000</td>\n",
              "      <td>7012296.000</td>\n",
              "      <td>3283417.000</td>\n",
              "      <td>549789.0000</td>\n",
              "      <td>1454672.000</td>\n",
              "      <td>4941981.754</td>\n",
              "      <td>531850.1926</td>\n",
              "      <td>7315235.649</td>\n",
              "      <td>6120086.089</td>\n",
              "      <td>8140200.383</td>\n",
              "      <td>3814229.013</td>\n",
              "      <td>632387.5921</td>\n",
              "      <td>1627959.289</td>\n",
              "      <td>1</td>\n",
              "      <td>4</td>\n",
              "      <td>26</td>\n",
              "    </tr>\n",
              "  </tbody>\n",
              "</table>\n",
              "<p>3 rows × 943 columns</p>\n",
              "</div>"
            ],
            "text/plain": [
              "         date  Quantity  Seasonal  ...  holiday  sunday  working_day\n",
              "0  2017-01-01  1.503548  0.699923  ...        1       5           25\n",
              "1  2017-02-01  0.076213  0.316156  ...        0       4           24\n",
              "2  2017-03-01 -1.346258 -0.267695  ...        1       4           26\n",
              "\n",
              "[3 rows x 943 columns]"
            ]
          },
          "metadata": {},
          "execution_count": 33
        }
      ]
    },
    {
      "cell_type": "code",
      "metadata": {
        "id": "-dSU4ESZACOa"
      },
      "source": [
        "LineGraph_data = Porc_Op"
      ],
      "execution_count": 34,
      "outputs": []
    },
    {
      "cell_type": "code",
      "metadata": {
        "colab": {
          "base_uri": "https://localhost:8080/",
          "height": 255
        },
        "id": "PyeoD2jnA9d-",
        "outputId": "24cf620c-6648-4787-c5a5-258d97c40157"
      },
      "source": [
        "LineGraph_data.head(3)"
      ],
      "execution_count": 35,
      "outputs": [
        {
          "output_type": "execute_result",
          "data": {
            "text/html": [
              "<div>\n",
              "<style scoped>\n",
              "    .dataframe tbody tr th:only-of-type {\n",
              "        vertical-align: middle;\n",
              "    }\n",
              "\n",
              "    .dataframe tbody tr th {\n",
              "        vertical-align: top;\n",
              "    }\n",
              "\n",
              "    .dataframe thead th {\n",
              "        text-align: right;\n",
              "    }\n",
              "</style>\n",
              "<table border=\"1\" class=\"dataframe\">\n",
              "  <thead>\n",
              "    <tr style=\"text-align: right;\">\n",
              "      <th></th>\n",
              "      <th>date</th>\n",
              "      <th>Quantity</th>\n",
              "      <th>Seasonal</th>\n",
              "      <th>Consumer_loans</th>\n",
              "      <th>Construction_lic_unt</th>\n",
              "      <th>Construction_lic_area</th>\n",
              "      <th>Construction_lic_unt_SI</th>\n",
              "      <th>Construction_lic_unt_NO_SI</th>\n",
              "      <th>Construction_lic_area_SI</th>\n",
              "      <th>Construction_lic_area_NO_SI</th>\n",
              "      <th>Gray_cement_prod</th>\n",
              "      <th>Gray_cement_dispatch</th>\n",
              "      <th>Gray_cement_dispatch_Factory</th>\n",
              "      <th>Gray_cement_dispatch_comercial</th>\n",
              "      <th>Gray_cement_dispatch_contractor</th>\n",
              "      <th>Gray_cement_dispatch_other</th>\n",
              "      <th>DTF(interest_rate)</th>\n",
              "      <th>GDP_Constr</th>\n",
              "      <th>GDP_Total</th>\n",
              "      <th>Inflation</th>\n",
              "      <th>USD_exchange</th>\n",
              "      <th>Oil-brent</th>\n",
              "      <th>Oil_WTI</th>\n",
              "      <th>ISE</th>\n",
              "      <th>ICC</th>\n",
              "      <th>IEC</th>\n",
              "      <th>ICE</th>\n",
              "      <th>Unemployment%</th>\n",
              "      <th>RADAR_Constr</th>\n",
              "      <th>RADAR_Rev</th>\n",
              "      <th>RADAR_Toilets</th>\n",
              "      <th>RADAR_HomeAppliance</th>\n",
              "      <th>RADAR_Paint</th>\n",
              "      <th>RADAR_Furniture</th>\n",
              "      <th>RADAR_Tools</th>\n",
              "      <th>RADAR_Elect</th>\n",
              "      <th>RADAR_Plumbing</th>\n",
              "      <th>RADAR_Wood</th>\n",
              "      <th>RADAR_Supply</th>\n",
              "      <th>RADAR_Remodel</th>\n",
              "      <th>...</th>\n",
              "      <th>Preferencial_creditlag_8</th>\n",
              "      <th>loan_overdraftslag_8</th>\n",
              "      <th>Credit_cardlag_8</th>\n",
              "      <th>Treasury_loanlag_8</th>\n",
              "      <th>Housing_loanlag_8</th>\n",
              "      <th>Consumer_creditlag_9</th>\n",
              "      <th>Consumer_microcreditlag_9</th>\n",
              "      <th>Ordinary_creditlag_9</th>\n",
              "      <th>Preferencial_creditlag_9</th>\n",
              "      <th>loan_overdraftslag_9</th>\n",
              "      <th>Credit_cardlag_9</th>\n",
              "      <th>Treasury_loanlag_9</th>\n",
              "      <th>Housing_loanlag_9</th>\n",
              "      <th>Consumer_creditlag_10</th>\n",
              "      <th>Consumer_microcreditlag_10</th>\n",
              "      <th>Ordinary_creditlag_10</th>\n",
              "      <th>Preferencial_creditlag_10</th>\n",
              "      <th>loan_overdraftslag_10</th>\n",
              "      <th>Credit_cardlag_10</th>\n",
              "      <th>Treasury_loanlag_10</th>\n",
              "      <th>Housing_loanlag_10</th>\n",
              "      <th>Consumer_creditlag_11</th>\n",
              "      <th>Consumer_microcreditlag_11</th>\n",
              "      <th>Ordinary_creditlag_11</th>\n",
              "      <th>Preferencial_creditlag_11</th>\n",
              "      <th>loan_overdraftslag_11</th>\n",
              "      <th>Credit_cardlag_11</th>\n",
              "      <th>Treasury_loanlag_11</th>\n",
              "      <th>Housing_loanlag_11</th>\n",
              "      <th>Consumer_creditlag_12</th>\n",
              "      <th>Consumer_microcreditlag_12</th>\n",
              "      <th>Ordinary_creditlag_12</th>\n",
              "      <th>Preferencial_creditlag_12</th>\n",
              "      <th>loan_overdraftslag_12</th>\n",
              "      <th>Credit_cardlag_12</th>\n",
              "      <th>Treasury_loanlag_12</th>\n",
              "      <th>Housing_loanlag_12</th>\n",
              "      <th>holiday</th>\n",
              "      <th>sunday</th>\n",
              "      <th>working_day</th>\n",
              "    </tr>\n",
              "  </thead>\n",
              "  <tbody>\n",
              "    <tr>\n",
              "      <th>0</th>\n",
              "      <td>2017-01-01</td>\n",
              "      <td>1.503548</td>\n",
              "      <td>0.699923</td>\n",
              "      <td>112579.4297</td>\n",
              "      <td>11303.0</td>\n",
              "      <td>1185131.0</td>\n",
              "      <td>3587.0</td>\n",
              "      <td>7716.0</td>\n",
              "      <td>229478.0</td>\n",
              "      <td>955653.0</td>\n",
              "      <td>897063.518</td>\n",
              "      <td>913190.407</td>\n",
              "      <td>194276.0200</td>\n",
              "      <td>502084.8330</td>\n",
              "      <td>171559.9665</td>\n",
              "      <td>45269.5875</td>\n",
              "      <td>0.0694</td>\n",
              "      <td>14753.34784</td>\n",
              "      <td>206242.568</td>\n",
              "      <td>5.47</td>\n",
              "      <td>2944.65</td>\n",
              "      <td>52.19</td>\n",
              "      <td>52.81</td>\n",
              "      <td>102.548972</td>\n",
              "      <td>-30.2</td>\n",
              "      <td>-28.3</td>\n",
              "      <td>-33.1</td>\n",
              "      <td>11.733267</td>\n",
              "      <td>1.044525e+11</td>\n",
              "      <td>1.323489e+11</td>\n",
              "      <td>1.727682e+11</td>\n",
              "      <td>1.050914e+11</td>\n",
              "      <td>8.847567e+10</td>\n",
              "      <td>8.354725e+10</td>\n",
              "      <td>5.008444e+10</td>\n",
              "      <td>9.372000e+10</td>\n",
              "      <td>3.037115e+10</td>\n",
              "      <td>3.136015e+10</td>\n",
              "      <td>1.585430e+11</td>\n",
              "      <td>1.050763e+12</td>\n",
              "      <td>...</td>\n",
              "      <td>4445890.861</td>\n",
              "      <td>6402426.269</td>\n",
              "      <td>3390803.016</td>\n",
              "      <td>550883.0739</td>\n",
              "      <td>1302564.560</td>\n",
              "      <td>4680431.000</td>\n",
              "      <td>460632.0000</td>\n",
              "      <td>5702443.000</td>\n",
              "      <td>4657354.000</td>\n",
              "      <td>7012296.000</td>\n",
              "      <td>3283417.000</td>\n",
              "      <td>549789.0000</td>\n",
              "      <td>1454672.000</td>\n",
              "      <td>4941981.754</td>\n",
              "      <td>531850.1926</td>\n",
              "      <td>7315235.649</td>\n",
              "      <td>6120086.089</td>\n",
              "      <td>8140200.383</td>\n",
              "      <td>3814229.013</td>\n",
              "      <td>632387.5921</td>\n",
              "      <td>1627959.289</td>\n",
              "      <td>4068020.900</td>\n",
              "      <td>438682.2679</td>\n",
              "      <td>6513619.182</td>\n",
              "      <td>6137144.374</td>\n",
              "      <td>6675101.294</td>\n",
              "      <td>2989980.729</td>\n",
              "      <td>483448.3473</td>\n",
              "      <td>1298811.962</td>\n",
              "      <td>3106784.500</td>\n",
              "      <td>386289.5525</td>\n",
              "      <td>4875376.339</td>\n",
              "      <td>4791146.877</td>\n",
              "      <td>5996088.922</td>\n",
              "      <td>3013612.505</td>\n",
              "      <td>470541.3290</td>\n",
              "      <td>1093819.181</td>\n",
              "      <td>1</td>\n",
              "      <td>5</td>\n",
              "      <td>25</td>\n",
              "    </tr>\n",
              "    <tr>\n",
              "      <th>1</th>\n",
              "      <td>2017-02-01</td>\n",
              "      <td>0.076213</td>\n",
              "      <td>0.316156</td>\n",
              "      <td>113438.0949</td>\n",
              "      <td>16187.0</td>\n",
              "      <td>1590979.0</td>\n",
              "      <td>4659.0</td>\n",
              "      <td>11528.0</td>\n",
              "      <td>272961.0</td>\n",
              "      <td>1318018.0</td>\n",
              "      <td>1025704.960</td>\n",
              "      <td>1007968.299</td>\n",
              "      <td>228359.8390</td>\n",
              "      <td>530826.1625</td>\n",
              "      <td>199731.6950</td>\n",
              "      <td>49050.6025</td>\n",
              "      <td>0.0678</td>\n",
              "      <td>14753.34784</td>\n",
              "      <td>206242.568</td>\n",
              "      <td>5.18</td>\n",
              "      <td>2881.68</td>\n",
              "      <td>53.40</td>\n",
              "      <td>54.01</td>\n",
              "      <td>102.919033</td>\n",
              "      <td>-24.3</td>\n",
              "      <td>-19.9</td>\n",
              "      <td>-31.0</td>\n",
              "      <td>10.504292</td>\n",
              "      <td>1.574855e+11</td>\n",
              "      <td>8.351517e+10</td>\n",
              "      <td>1.096908e+11</td>\n",
              "      <td>8.252536e+10</td>\n",
              "      <td>8.582517e+10</td>\n",
              "      <td>1.522091e+11</td>\n",
              "      <td>5.056706e+10</td>\n",
              "      <td>6.034851e+10</td>\n",
              "      <td>2.138243e+10</td>\n",
              "      <td>2.216364e+10</td>\n",
              "      <td>2.104634e+11</td>\n",
              "      <td>1.036176e+12</td>\n",
              "      <td>...</td>\n",
              "      <td>6566090.070</td>\n",
              "      <td>7930536.312</td>\n",
              "      <td>4347164.930</td>\n",
              "      <td>677598.1836</td>\n",
              "      <td>1864166.572</td>\n",
              "      <td>4353892.017</td>\n",
              "      <td>433679.7772</td>\n",
              "      <td>5854575.608</td>\n",
              "      <td>4445890.861</td>\n",
              "      <td>6402426.269</td>\n",
              "      <td>3390803.016</td>\n",
              "      <td>550883.0739</td>\n",
              "      <td>1302564.560</td>\n",
              "      <td>4680431.000</td>\n",
              "      <td>460632.0000</td>\n",
              "      <td>5702443.000</td>\n",
              "      <td>4657354.000</td>\n",
              "      <td>7012296.000</td>\n",
              "      <td>3283417.000</td>\n",
              "      <td>549789.0000</td>\n",
              "      <td>1454672.000</td>\n",
              "      <td>4941981.754</td>\n",
              "      <td>531850.1926</td>\n",
              "      <td>7315235.649</td>\n",
              "      <td>6120086.089</td>\n",
              "      <td>8140200.383</td>\n",
              "      <td>3814229.013</td>\n",
              "      <td>632387.5921</td>\n",
              "      <td>1627959.289</td>\n",
              "      <td>4068020.900</td>\n",
              "      <td>438682.2679</td>\n",
              "      <td>6513619.182</td>\n",
              "      <td>6137144.374</td>\n",
              "      <td>6675101.294</td>\n",
              "      <td>2989980.729</td>\n",
              "      <td>483448.3473</td>\n",
              "      <td>1298811.962</td>\n",
              "      <td>0</td>\n",
              "      <td>4</td>\n",
              "      <td>24</td>\n",
              "    </tr>\n",
              "    <tr>\n",
              "      <th>2</th>\n",
              "      <td>2017-03-01</td>\n",
              "      <td>-1.346258</td>\n",
              "      <td>-0.267695</td>\n",
              "      <td>114667.2587</td>\n",
              "      <td>15231.0</td>\n",
              "      <td>1438528.0</td>\n",
              "      <td>5687.0</td>\n",
              "      <td>9544.0</td>\n",
              "      <td>354904.0</td>\n",
              "      <td>1083624.0</td>\n",
              "      <td>1099919.669</td>\n",
              "      <td>1083268.231</td>\n",
              "      <td>241130.4555</td>\n",
              "      <td>568447.4880</td>\n",
              "      <td>218640.3600</td>\n",
              "      <td>55049.9274</td>\n",
              "      <td>0.0665</td>\n",
              "      <td>14753.34784</td>\n",
              "      <td>206242.568</td>\n",
              "      <td>4.69</td>\n",
              "      <td>2943.49</td>\n",
              "      <td>50.43</td>\n",
              "      <td>50.60</td>\n",
              "      <td>102.162670</td>\n",
              "      <td>-21.1</td>\n",
              "      <td>-18.3</td>\n",
              "      <td>-25.4</td>\n",
              "      <td>9.704610</td>\n",
              "      <td>1.215372e+11</td>\n",
              "      <td>9.821204e+10</td>\n",
              "      <td>1.191497e+11</td>\n",
              "      <td>9.035507e+10</td>\n",
              "      <td>9.516119e+10</td>\n",
              "      <td>1.388751e+11</td>\n",
              "      <td>5.266968e+10</td>\n",
              "      <td>1.137228e+11</td>\n",
              "      <td>2.872364e+10</td>\n",
              "      <td>2.258877e+10</td>\n",
              "      <td>1.192185e+11</td>\n",
              "      <td>1.000214e+12</td>\n",
              "      <td>...</td>\n",
              "      <td>4119152.514</td>\n",
              "      <td>6258157.459</td>\n",
              "      <td>3447128.397</td>\n",
              "      <td>478975.7922</td>\n",
              "      <td>1302860.802</td>\n",
              "      <td>5430241.566</td>\n",
              "      <td>555441.9044</td>\n",
              "      <td>7916686.911</td>\n",
              "      <td>6566090.070</td>\n",
              "      <td>7930536.312</td>\n",
              "      <td>4347164.930</td>\n",
              "      <td>677598.1836</td>\n",
              "      <td>1864166.572</td>\n",
              "      <td>4353892.017</td>\n",
              "      <td>433679.7772</td>\n",
              "      <td>5854575.608</td>\n",
              "      <td>4445890.861</td>\n",
              "      <td>6402426.269</td>\n",
              "      <td>3390803.016</td>\n",
              "      <td>550883.0739</td>\n",
              "      <td>1302564.560</td>\n",
              "      <td>4680431.000</td>\n",
              "      <td>460632.0000</td>\n",
              "      <td>5702443.000</td>\n",
              "      <td>4657354.000</td>\n",
              "      <td>7012296.000</td>\n",
              "      <td>3283417.000</td>\n",
              "      <td>549789.0000</td>\n",
              "      <td>1454672.000</td>\n",
              "      <td>4941981.754</td>\n",
              "      <td>531850.1926</td>\n",
              "      <td>7315235.649</td>\n",
              "      <td>6120086.089</td>\n",
              "      <td>8140200.383</td>\n",
              "      <td>3814229.013</td>\n",
              "      <td>632387.5921</td>\n",
              "      <td>1627959.289</td>\n",
              "      <td>1</td>\n",
              "      <td>4</td>\n",
              "      <td>26</td>\n",
              "    </tr>\n",
              "  </tbody>\n",
              "</table>\n",
              "<p>3 rows × 943 columns</p>\n",
              "</div>"
            ],
            "text/plain": [
              "         date  Quantity  Seasonal  ...  holiday  sunday  working_day\n",
              "0  2017-01-01  1.503548  0.699923  ...        1       5           25\n",
              "1  2017-02-01  0.076213  0.316156  ...        0       4           24\n",
              "2  2017-03-01 -1.346258 -0.267695  ...        1       4           26\n",
              "\n",
              "[3 rows x 943 columns]"
            ]
          },
          "metadata": {},
          "execution_count": 35
        }
      ]
    },
    {
      "cell_type": "code",
      "metadata": {
        "id": "FQIO6bhw_pAp"
      },
      "source": [
        "#Duplicate the date column\n",
        "# It gets appended as the last collumn\n",
        "\n",
        "LineGraph_data['Date_2'] = LineGraph_data.date"
      ],
      "execution_count": 36,
      "outputs": []
    },
    {
      "cell_type": "code",
      "metadata": {
        "colab": {
          "base_uri": "https://localhost:8080/",
          "height": 208
        },
        "id": "ZnjrjFjI_o8X",
        "outputId": "779319b7-ca8b-4a9b-ea97-6c0872fba387"
      },
      "source": [
        "LineGraph_data.head(2)"
      ],
      "execution_count": 37,
      "outputs": [
        {
          "output_type": "execute_result",
          "data": {
            "text/html": [
              "<div>\n",
              "<style scoped>\n",
              "    .dataframe tbody tr th:only-of-type {\n",
              "        vertical-align: middle;\n",
              "    }\n",
              "\n",
              "    .dataframe tbody tr th {\n",
              "        vertical-align: top;\n",
              "    }\n",
              "\n",
              "    .dataframe thead th {\n",
              "        text-align: right;\n",
              "    }\n",
              "</style>\n",
              "<table border=\"1\" class=\"dataframe\">\n",
              "  <thead>\n",
              "    <tr style=\"text-align: right;\">\n",
              "      <th></th>\n",
              "      <th>date</th>\n",
              "      <th>Quantity</th>\n",
              "      <th>Seasonal</th>\n",
              "      <th>Consumer_loans</th>\n",
              "      <th>Construction_lic_unt</th>\n",
              "      <th>Construction_lic_area</th>\n",
              "      <th>Construction_lic_unt_SI</th>\n",
              "      <th>Construction_lic_unt_NO_SI</th>\n",
              "      <th>Construction_lic_area_SI</th>\n",
              "      <th>Construction_lic_area_NO_SI</th>\n",
              "      <th>Gray_cement_prod</th>\n",
              "      <th>Gray_cement_dispatch</th>\n",
              "      <th>Gray_cement_dispatch_Factory</th>\n",
              "      <th>Gray_cement_dispatch_comercial</th>\n",
              "      <th>Gray_cement_dispatch_contractor</th>\n",
              "      <th>Gray_cement_dispatch_other</th>\n",
              "      <th>DTF(interest_rate)</th>\n",
              "      <th>GDP_Constr</th>\n",
              "      <th>GDP_Total</th>\n",
              "      <th>Inflation</th>\n",
              "      <th>USD_exchange</th>\n",
              "      <th>Oil-brent</th>\n",
              "      <th>Oil_WTI</th>\n",
              "      <th>ISE</th>\n",
              "      <th>ICC</th>\n",
              "      <th>IEC</th>\n",
              "      <th>ICE</th>\n",
              "      <th>Unemployment%</th>\n",
              "      <th>RADAR_Constr</th>\n",
              "      <th>RADAR_Rev</th>\n",
              "      <th>RADAR_Toilets</th>\n",
              "      <th>RADAR_HomeAppliance</th>\n",
              "      <th>RADAR_Paint</th>\n",
              "      <th>RADAR_Furniture</th>\n",
              "      <th>RADAR_Tools</th>\n",
              "      <th>RADAR_Elect</th>\n",
              "      <th>RADAR_Plumbing</th>\n",
              "      <th>RADAR_Wood</th>\n",
              "      <th>RADAR_Supply</th>\n",
              "      <th>RADAR_Remodel</th>\n",
              "      <th>...</th>\n",
              "      <th>loan_overdraftslag_8</th>\n",
              "      <th>Credit_cardlag_8</th>\n",
              "      <th>Treasury_loanlag_8</th>\n",
              "      <th>Housing_loanlag_8</th>\n",
              "      <th>Consumer_creditlag_9</th>\n",
              "      <th>Consumer_microcreditlag_9</th>\n",
              "      <th>Ordinary_creditlag_9</th>\n",
              "      <th>Preferencial_creditlag_9</th>\n",
              "      <th>loan_overdraftslag_9</th>\n",
              "      <th>Credit_cardlag_9</th>\n",
              "      <th>Treasury_loanlag_9</th>\n",
              "      <th>Housing_loanlag_9</th>\n",
              "      <th>Consumer_creditlag_10</th>\n",
              "      <th>Consumer_microcreditlag_10</th>\n",
              "      <th>Ordinary_creditlag_10</th>\n",
              "      <th>Preferencial_creditlag_10</th>\n",
              "      <th>loan_overdraftslag_10</th>\n",
              "      <th>Credit_cardlag_10</th>\n",
              "      <th>Treasury_loanlag_10</th>\n",
              "      <th>Housing_loanlag_10</th>\n",
              "      <th>Consumer_creditlag_11</th>\n",
              "      <th>Consumer_microcreditlag_11</th>\n",
              "      <th>Ordinary_creditlag_11</th>\n",
              "      <th>Preferencial_creditlag_11</th>\n",
              "      <th>loan_overdraftslag_11</th>\n",
              "      <th>Credit_cardlag_11</th>\n",
              "      <th>Treasury_loanlag_11</th>\n",
              "      <th>Housing_loanlag_11</th>\n",
              "      <th>Consumer_creditlag_12</th>\n",
              "      <th>Consumer_microcreditlag_12</th>\n",
              "      <th>Ordinary_creditlag_12</th>\n",
              "      <th>Preferencial_creditlag_12</th>\n",
              "      <th>loan_overdraftslag_12</th>\n",
              "      <th>Credit_cardlag_12</th>\n",
              "      <th>Treasury_loanlag_12</th>\n",
              "      <th>Housing_loanlag_12</th>\n",
              "      <th>holiday</th>\n",
              "      <th>sunday</th>\n",
              "      <th>working_day</th>\n",
              "      <th>Date_2</th>\n",
              "    </tr>\n",
              "  </thead>\n",
              "  <tbody>\n",
              "    <tr>\n",
              "      <th>0</th>\n",
              "      <td>2017-01-01</td>\n",
              "      <td>1.503548</td>\n",
              "      <td>0.699923</td>\n",
              "      <td>112579.4297</td>\n",
              "      <td>11303.0</td>\n",
              "      <td>1185131.0</td>\n",
              "      <td>3587.0</td>\n",
              "      <td>7716.0</td>\n",
              "      <td>229478.0</td>\n",
              "      <td>955653.0</td>\n",
              "      <td>897063.518</td>\n",
              "      <td>913190.407</td>\n",
              "      <td>194276.020</td>\n",
              "      <td>502084.8330</td>\n",
              "      <td>171559.9665</td>\n",
              "      <td>45269.5875</td>\n",
              "      <td>0.0694</td>\n",
              "      <td>14753.34784</td>\n",
              "      <td>206242.568</td>\n",
              "      <td>5.47</td>\n",
              "      <td>2944.65</td>\n",
              "      <td>52.19</td>\n",
              "      <td>52.81</td>\n",
              "      <td>102.548972</td>\n",
              "      <td>-30.2</td>\n",
              "      <td>-28.3</td>\n",
              "      <td>-33.1</td>\n",
              "      <td>11.733267</td>\n",
              "      <td>1.044525e+11</td>\n",
              "      <td>1.323489e+11</td>\n",
              "      <td>1.727682e+11</td>\n",
              "      <td>1.050914e+11</td>\n",
              "      <td>8.847567e+10</td>\n",
              "      <td>8.354725e+10</td>\n",
              "      <td>5.008444e+10</td>\n",
              "      <td>9.372000e+10</td>\n",
              "      <td>3.037115e+10</td>\n",
              "      <td>3.136015e+10</td>\n",
              "      <td>1.585430e+11</td>\n",
              "      <td>1.050763e+12</td>\n",
              "      <td>...</td>\n",
              "      <td>6402426.269</td>\n",
              "      <td>3390803.016</td>\n",
              "      <td>550883.0739</td>\n",
              "      <td>1302564.560</td>\n",
              "      <td>4680431.000</td>\n",
              "      <td>460632.0000</td>\n",
              "      <td>5702443.000</td>\n",
              "      <td>4657354.000</td>\n",
              "      <td>7012296.000</td>\n",
              "      <td>3283417.000</td>\n",
              "      <td>549789.0000</td>\n",
              "      <td>1454672.00</td>\n",
              "      <td>4941981.754</td>\n",
              "      <td>531850.1926</td>\n",
              "      <td>7315235.649</td>\n",
              "      <td>6120086.089</td>\n",
              "      <td>8140200.383</td>\n",
              "      <td>3814229.013</td>\n",
              "      <td>632387.5921</td>\n",
              "      <td>1627959.289</td>\n",
              "      <td>4068020.900</td>\n",
              "      <td>438682.2679</td>\n",
              "      <td>6513619.182</td>\n",
              "      <td>6137144.374</td>\n",
              "      <td>6675101.294</td>\n",
              "      <td>2989980.729</td>\n",
              "      <td>483448.3473</td>\n",
              "      <td>1298811.962</td>\n",
              "      <td>3106784.5</td>\n",
              "      <td>386289.5525</td>\n",
              "      <td>4875376.339</td>\n",
              "      <td>4791146.877</td>\n",
              "      <td>5996088.922</td>\n",
              "      <td>3013612.505</td>\n",
              "      <td>470541.3290</td>\n",
              "      <td>1093819.181</td>\n",
              "      <td>1</td>\n",
              "      <td>5</td>\n",
              "      <td>25</td>\n",
              "      <td>2017-01-01</td>\n",
              "    </tr>\n",
              "    <tr>\n",
              "      <th>1</th>\n",
              "      <td>2017-02-01</td>\n",
              "      <td>0.076213</td>\n",
              "      <td>0.316156</td>\n",
              "      <td>113438.0949</td>\n",
              "      <td>16187.0</td>\n",
              "      <td>1590979.0</td>\n",
              "      <td>4659.0</td>\n",
              "      <td>11528.0</td>\n",
              "      <td>272961.0</td>\n",
              "      <td>1318018.0</td>\n",
              "      <td>1025704.960</td>\n",
              "      <td>1007968.299</td>\n",
              "      <td>228359.839</td>\n",
              "      <td>530826.1625</td>\n",
              "      <td>199731.6950</td>\n",
              "      <td>49050.6025</td>\n",
              "      <td>0.0678</td>\n",
              "      <td>14753.34784</td>\n",
              "      <td>206242.568</td>\n",
              "      <td>5.18</td>\n",
              "      <td>2881.68</td>\n",
              "      <td>53.40</td>\n",
              "      <td>54.01</td>\n",
              "      <td>102.919033</td>\n",
              "      <td>-24.3</td>\n",
              "      <td>-19.9</td>\n",
              "      <td>-31.0</td>\n",
              "      <td>10.504292</td>\n",
              "      <td>1.574855e+11</td>\n",
              "      <td>8.351517e+10</td>\n",
              "      <td>1.096908e+11</td>\n",
              "      <td>8.252536e+10</td>\n",
              "      <td>8.582517e+10</td>\n",
              "      <td>1.522091e+11</td>\n",
              "      <td>5.056706e+10</td>\n",
              "      <td>6.034851e+10</td>\n",
              "      <td>2.138243e+10</td>\n",
              "      <td>2.216364e+10</td>\n",
              "      <td>2.104634e+11</td>\n",
              "      <td>1.036176e+12</td>\n",
              "      <td>...</td>\n",
              "      <td>7930536.312</td>\n",
              "      <td>4347164.930</td>\n",
              "      <td>677598.1836</td>\n",
              "      <td>1864166.572</td>\n",
              "      <td>4353892.017</td>\n",
              "      <td>433679.7772</td>\n",
              "      <td>5854575.608</td>\n",
              "      <td>4445890.861</td>\n",
              "      <td>6402426.269</td>\n",
              "      <td>3390803.016</td>\n",
              "      <td>550883.0739</td>\n",
              "      <td>1302564.56</td>\n",
              "      <td>4680431.000</td>\n",
              "      <td>460632.0000</td>\n",
              "      <td>5702443.000</td>\n",
              "      <td>4657354.000</td>\n",
              "      <td>7012296.000</td>\n",
              "      <td>3283417.000</td>\n",
              "      <td>549789.0000</td>\n",
              "      <td>1454672.000</td>\n",
              "      <td>4941981.754</td>\n",
              "      <td>531850.1926</td>\n",
              "      <td>7315235.649</td>\n",
              "      <td>6120086.089</td>\n",
              "      <td>8140200.383</td>\n",
              "      <td>3814229.013</td>\n",
              "      <td>632387.5921</td>\n",
              "      <td>1627959.289</td>\n",
              "      <td>4068020.9</td>\n",
              "      <td>438682.2679</td>\n",
              "      <td>6513619.182</td>\n",
              "      <td>6137144.374</td>\n",
              "      <td>6675101.294</td>\n",
              "      <td>2989980.729</td>\n",
              "      <td>483448.3473</td>\n",
              "      <td>1298811.962</td>\n",
              "      <td>0</td>\n",
              "      <td>4</td>\n",
              "      <td>24</td>\n",
              "      <td>2017-02-01</td>\n",
              "    </tr>\n",
              "  </tbody>\n",
              "</table>\n",
              "<p>2 rows × 944 columns</p>\n",
              "</div>"
            ],
            "text/plain": [
              "         date  Quantity  Seasonal  ...  sunday  working_day      Date_2\n",
              "0  2017-01-01  1.503548  0.699923  ...       5           25  2017-01-01\n",
              "1  2017-02-01  0.076213  0.316156  ...       4           24  2017-02-01\n",
              "\n",
              "[2 rows x 944 columns]"
            ]
          },
          "metadata": {},
          "execution_count": 37
        }
      ]
    },
    {
      "cell_type": "code",
      "metadata": {
        "id": "dcsA5BTrCEIC"
      },
      "source": [
        "# Move the date column back to being the index\n",
        "LineGraph_data.set_index('date', inplace= True)"
      ],
      "execution_count": 38,
      "outputs": []
    },
    {
      "cell_type": "code",
      "metadata": {
        "id": "MlVAidTQCLoR"
      },
      "source": [
        "# Next convert Date 2 to Date time to strip out Year & Month\n",
        "#\n",
        "LineGraph_data['Date_2'] = pd.to_datetime(LineGraph_data['Date_2'])"
      ],
      "execution_count": 39,
      "outputs": []
    },
    {
      "cell_type": "code",
      "metadata": {
        "id": "86wdqfy5CLil"
      },
      "source": [
        "\n",
        "LineGraph_data['Year'] = LineGraph_data['Date_2'].dt.year"
      ],
      "execution_count": 41,
      "outputs": []
    },
    {
      "cell_type": "code",
      "metadata": {
        "id": "Du8Q3nhgCLdN"
      },
      "source": [
        "LineGraph_data['Month'] = LineGraph_data['Date_2'].dt.month"
      ],
      "execution_count": 42,
      "outputs": []
    },
    {
      "cell_type": "code",
      "metadata": {
        "colab": {
          "base_uri": "https://localhost:8080/",
          "height": 286
        },
        "id": "o3u8YT6tCLYW",
        "outputId": "1d7203cb-d568-4c16-b49a-48ede7da9dfb"
      },
      "source": [
        "# We now have varables Year and Month  to plot \n",
        "LineGraph_data.head(3)"
      ],
      "execution_count": 43,
      "outputs": [
        {
          "output_type": "execute_result",
          "data": {
            "text/html": [
              "<div>\n",
              "<style scoped>\n",
              "    .dataframe tbody tr th:only-of-type {\n",
              "        vertical-align: middle;\n",
              "    }\n",
              "\n",
              "    .dataframe tbody tr th {\n",
              "        vertical-align: top;\n",
              "    }\n",
              "\n",
              "    .dataframe thead th {\n",
              "        text-align: right;\n",
              "    }\n",
              "</style>\n",
              "<table border=\"1\" class=\"dataframe\">\n",
              "  <thead>\n",
              "    <tr style=\"text-align: right;\">\n",
              "      <th></th>\n",
              "      <th>Quantity</th>\n",
              "      <th>Seasonal</th>\n",
              "      <th>Consumer_loans</th>\n",
              "      <th>Construction_lic_unt</th>\n",
              "      <th>Construction_lic_area</th>\n",
              "      <th>Construction_lic_unt_SI</th>\n",
              "      <th>Construction_lic_unt_NO_SI</th>\n",
              "      <th>Construction_lic_area_SI</th>\n",
              "      <th>Construction_lic_area_NO_SI</th>\n",
              "      <th>Gray_cement_prod</th>\n",
              "      <th>Gray_cement_dispatch</th>\n",
              "      <th>Gray_cement_dispatch_Factory</th>\n",
              "      <th>Gray_cement_dispatch_comercial</th>\n",
              "      <th>Gray_cement_dispatch_contractor</th>\n",
              "      <th>Gray_cement_dispatch_other</th>\n",
              "      <th>DTF(interest_rate)</th>\n",
              "      <th>GDP_Constr</th>\n",
              "      <th>GDP_Total</th>\n",
              "      <th>Inflation</th>\n",
              "      <th>USD_exchange</th>\n",
              "      <th>Oil-brent</th>\n",
              "      <th>Oil_WTI</th>\n",
              "      <th>ISE</th>\n",
              "      <th>ICC</th>\n",
              "      <th>IEC</th>\n",
              "      <th>ICE</th>\n",
              "      <th>Unemployment%</th>\n",
              "      <th>RADAR_Constr</th>\n",
              "      <th>RADAR_Rev</th>\n",
              "      <th>RADAR_Toilets</th>\n",
              "      <th>RADAR_HomeAppliance</th>\n",
              "      <th>RADAR_Paint</th>\n",
              "      <th>RADAR_Furniture</th>\n",
              "      <th>RADAR_Tools</th>\n",
              "      <th>RADAR_Elect</th>\n",
              "      <th>RADAR_Plumbing</th>\n",
              "      <th>RADAR_Wood</th>\n",
              "      <th>RADAR_Supply</th>\n",
              "      <th>RADAR_Remodel</th>\n",
              "      <th>Construction_lic_area/unt</th>\n",
              "      <th>...</th>\n",
              "      <th>Treasury_loanlag_8</th>\n",
              "      <th>Housing_loanlag_8</th>\n",
              "      <th>Consumer_creditlag_9</th>\n",
              "      <th>Consumer_microcreditlag_9</th>\n",
              "      <th>Ordinary_creditlag_9</th>\n",
              "      <th>Preferencial_creditlag_9</th>\n",
              "      <th>loan_overdraftslag_9</th>\n",
              "      <th>Credit_cardlag_9</th>\n",
              "      <th>Treasury_loanlag_9</th>\n",
              "      <th>Housing_loanlag_9</th>\n",
              "      <th>Consumer_creditlag_10</th>\n",
              "      <th>Consumer_microcreditlag_10</th>\n",
              "      <th>Ordinary_creditlag_10</th>\n",
              "      <th>Preferencial_creditlag_10</th>\n",
              "      <th>loan_overdraftslag_10</th>\n",
              "      <th>Credit_cardlag_10</th>\n",
              "      <th>Treasury_loanlag_10</th>\n",
              "      <th>Housing_loanlag_10</th>\n",
              "      <th>Consumer_creditlag_11</th>\n",
              "      <th>Consumer_microcreditlag_11</th>\n",
              "      <th>Ordinary_creditlag_11</th>\n",
              "      <th>Preferencial_creditlag_11</th>\n",
              "      <th>loan_overdraftslag_11</th>\n",
              "      <th>Credit_cardlag_11</th>\n",
              "      <th>Treasury_loanlag_11</th>\n",
              "      <th>Housing_loanlag_11</th>\n",
              "      <th>Consumer_creditlag_12</th>\n",
              "      <th>Consumer_microcreditlag_12</th>\n",
              "      <th>Ordinary_creditlag_12</th>\n",
              "      <th>Preferencial_creditlag_12</th>\n",
              "      <th>loan_overdraftslag_12</th>\n",
              "      <th>Credit_cardlag_12</th>\n",
              "      <th>Treasury_loanlag_12</th>\n",
              "      <th>Housing_loanlag_12</th>\n",
              "      <th>holiday</th>\n",
              "      <th>sunday</th>\n",
              "      <th>working_day</th>\n",
              "      <th>Date_2</th>\n",
              "      <th>Year</th>\n",
              "      <th>Month</th>\n",
              "    </tr>\n",
              "    <tr>\n",
              "      <th>date</th>\n",
              "      <th></th>\n",
              "      <th></th>\n",
              "      <th></th>\n",
              "      <th></th>\n",
              "      <th></th>\n",
              "      <th></th>\n",
              "      <th></th>\n",
              "      <th></th>\n",
              "      <th></th>\n",
              "      <th></th>\n",
              "      <th></th>\n",
              "      <th></th>\n",
              "      <th></th>\n",
              "      <th></th>\n",
              "      <th></th>\n",
              "      <th></th>\n",
              "      <th></th>\n",
              "      <th></th>\n",
              "      <th></th>\n",
              "      <th></th>\n",
              "      <th></th>\n",
              "      <th></th>\n",
              "      <th></th>\n",
              "      <th></th>\n",
              "      <th></th>\n",
              "      <th></th>\n",
              "      <th></th>\n",
              "      <th></th>\n",
              "      <th></th>\n",
              "      <th></th>\n",
              "      <th></th>\n",
              "      <th></th>\n",
              "      <th></th>\n",
              "      <th></th>\n",
              "      <th></th>\n",
              "      <th></th>\n",
              "      <th></th>\n",
              "      <th></th>\n",
              "      <th></th>\n",
              "      <th></th>\n",
              "      <th></th>\n",
              "      <th></th>\n",
              "      <th></th>\n",
              "      <th></th>\n",
              "      <th></th>\n",
              "      <th></th>\n",
              "      <th></th>\n",
              "      <th></th>\n",
              "      <th></th>\n",
              "      <th></th>\n",
              "      <th></th>\n",
              "      <th></th>\n",
              "      <th></th>\n",
              "      <th></th>\n",
              "      <th></th>\n",
              "      <th></th>\n",
              "      <th></th>\n",
              "      <th></th>\n",
              "      <th></th>\n",
              "      <th></th>\n",
              "      <th></th>\n",
              "      <th></th>\n",
              "      <th></th>\n",
              "      <th></th>\n",
              "      <th></th>\n",
              "      <th></th>\n",
              "      <th></th>\n",
              "      <th></th>\n",
              "      <th></th>\n",
              "      <th></th>\n",
              "      <th></th>\n",
              "      <th></th>\n",
              "      <th></th>\n",
              "      <th></th>\n",
              "      <th></th>\n",
              "      <th></th>\n",
              "      <th></th>\n",
              "      <th></th>\n",
              "      <th></th>\n",
              "      <th></th>\n",
              "      <th></th>\n",
              "    </tr>\n",
              "  </thead>\n",
              "  <tbody>\n",
              "    <tr>\n",
              "      <th>2017-01-01</th>\n",
              "      <td>1.503548</td>\n",
              "      <td>0.699923</td>\n",
              "      <td>112579.4297</td>\n",
              "      <td>11303.0</td>\n",
              "      <td>1185131.0</td>\n",
              "      <td>3587.0</td>\n",
              "      <td>7716.0</td>\n",
              "      <td>229478.0</td>\n",
              "      <td>955653.0</td>\n",
              "      <td>897063.518</td>\n",
              "      <td>913190.407</td>\n",
              "      <td>194276.0200</td>\n",
              "      <td>502084.8330</td>\n",
              "      <td>171559.9665</td>\n",
              "      <td>45269.5875</td>\n",
              "      <td>0.0694</td>\n",
              "      <td>14753.34784</td>\n",
              "      <td>206242.568</td>\n",
              "      <td>5.47</td>\n",
              "      <td>2944.65</td>\n",
              "      <td>52.19</td>\n",
              "      <td>52.81</td>\n",
              "      <td>102.548972</td>\n",
              "      <td>-30.2</td>\n",
              "      <td>-28.3</td>\n",
              "      <td>-33.1</td>\n",
              "      <td>11.733267</td>\n",
              "      <td>1.044525e+11</td>\n",
              "      <td>1.323489e+11</td>\n",
              "      <td>1.727682e+11</td>\n",
              "      <td>1.050914e+11</td>\n",
              "      <td>8.847567e+10</td>\n",
              "      <td>8.354725e+10</td>\n",
              "      <td>5.008444e+10</td>\n",
              "      <td>9.372000e+10</td>\n",
              "      <td>3.037115e+10</td>\n",
              "      <td>3.136015e+10</td>\n",
              "      <td>1.585430e+11</td>\n",
              "      <td>1.050763e+12</td>\n",
              "      <td>104.851013</td>\n",
              "      <td>...</td>\n",
              "      <td>550883.0739</td>\n",
              "      <td>1302564.560</td>\n",
              "      <td>4680431.000</td>\n",
              "      <td>460632.0000</td>\n",
              "      <td>5702443.000</td>\n",
              "      <td>4657354.000</td>\n",
              "      <td>7012296.000</td>\n",
              "      <td>3283417.000</td>\n",
              "      <td>549789.0000</td>\n",
              "      <td>1454672.000</td>\n",
              "      <td>4941981.754</td>\n",
              "      <td>531850.1926</td>\n",
              "      <td>7315235.649</td>\n",
              "      <td>6120086.089</td>\n",
              "      <td>8140200.383</td>\n",
              "      <td>3814229.013</td>\n",
              "      <td>632387.5921</td>\n",
              "      <td>1627959.289</td>\n",
              "      <td>4068020.900</td>\n",
              "      <td>438682.2679</td>\n",
              "      <td>6513619.182</td>\n",
              "      <td>6137144.374</td>\n",
              "      <td>6675101.294</td>\n",
              "      <td>2989980.729</td>\n",
              "      <td>483448.3473</td>\n",
              "      <td>1298811.962</td>\n",
              "      <td>3106784.500</td>\n",
              "      <td>386289.5525</td>\n",
              "      <td>4875376.339</td>\n",
              "      <td>4791146.877</td>\n",
              "      <td>5996088.922</td>\n",
              "      <td>3013612.505</td>\n",
              "      <td>470541.3290</td>\n",
              "      <td>1093819.181</td>\n",
              "      <td>1</td>\n",
              "      <td>5</td>\n",
              "      <td>25</td>\n",
              "      <td>2017-01-01</td>\n",
              "      <td>2017</td>\n",
              "      <td>1</td>\n",
              "    </tr>\n",
              "    <tr>\n",
              "      <th>2017-02-01</th>\n",
              "      <td>0.076213</td>\n",
              "      <td>0.316156</td>\n",
              "      <td>113438.0949</td>\n",
              "      <td>16187.0</td>\n",
              "      <td>1590979.0</td>\n",
              "      <td>4659.0</td>\n",
              "      <td>11528.0</td>\n",
              "      <td>272961.0</td>\n",
              "      <td>1318018.0</td>\n",
              "      <td>1025704.960</td>\n",
              "      <td>1007968.299</td>\n",
              "      <td>228359.8390</td>\n",
              "      <td>530826.1625</td>\n",
              "      <td>199731.6950</td>\n",
              "      <td>49050.6025</td>\n",
              "      <td>0.0678</td>\n",
              "      <td>14753.34784</td>\n",
              "      <td>206242.568</td>\n",
              "      <td>5.18</td>\n",
              "      <td>2881.68</td>\n",
              "      <td>53.40</td>\n",
              "      <td>54.01</td>\n",
              "      <td>102.919033</td>\n",
              "      <td>-24.3</td>\n",
              "      <td>-19.9</td>\n",
              "      <td>-31.0</td>\n",
              "      <td>10.504292</td>\n",
              "      <td>1.574855e+11</td>\n",
              "      <td>8.351517e+10</td>\n",
              "      <td>1.096908e+11</td>\n",
              "      <td>8.252536e+10</td>\n",
              "      <td>8.582517e+10</td>\n",
              "      <td>1.522091e+11</td>\n",
              "      <td>5.056706e+10</td>\n",
              "      <td>6.034851e+10</td>\n",
              "      <td>2.138243e+10</td>\n",
              "      <td>2.216364e+10</td>\n",
              "      <td>2.104634e+11</td>\n",
              "      <td>1.036176e+12</td>\n",
              "      <td>98.287453</td>\n",
              "      <td>...</td>\n",
              "      <td>677598.1836</td>\n",
              "      <td>1864166.572</td>\n",
              "      <td>4353892.017</td>\n",
              "      <td>433679.7772</td>\n",
              "      <td>5854575.608</td>\n",
              "      <td>4445890.861</td>\n",
              "      <td>6402426.269</td>\n",
              "      <td>3390803.016</td>\n",
              "      <td>550883.0739</td>\n",
              "      <td>1302564.560</td>\n",
              "      <td>4680431.000</td>\n",
              "      <td>460632.0000</td>\n",
              "      <td>5702443.000</td>\n",
              "      <td>4657354.000</td>\n",
              "      <td>7012296.000</td>\n",
              "      <td>3283417.000</td>\n",
              "      <td>549789.0000</td>\n",
              "      <td>1454672.000</td>\n",
              "      <td>4941981.754</td>\n",
              "      <td>531850.1926</td>\n",
              "      <td>7315235.649</td>\n",
              "      <td>6120086.089</td>\n",
              "      <td>8140200.383</td>\n",
              "      <td>3814229.013</td>\n",
              "      <td>632387.5921</td>\n",
              "      <td>1627959.289</td>\n",
              "      <td>4068020.900</td>\n",
              "      <td>438682.2679</td>\n",
              "      <td>6513619.182</td>\n",
              "      <td>6137144.374</td>\n",
              "      <td>6675101.294</td>\n",
              "      <td>2989980.729</td>\n",
              "      <td>483448.3473</td>\n",
              "      <td>1298811.962</td>\n",
              "      <td>0</td>\n",
              "      <td>4</td>\n",
              "      <td>24</td>\n",
              "      <td>2017-02-01</td>\n",
              "      <td>2017</td>\n",
              "      <td>2</td>\n",
              "    </tr>\n",
              "    <tr>\n",
              "      <th>2017-03-01</th>\n",
              "      <td>-1.346258</td>\n",
              "      <td>-0.267695</td>\n",
              "      <td>114667.2587</td>\n",
              "      <td>15231.0</td>\n",
              "      <td>1438528.0</td>\n",
              "      <td>5687.0</td>\n",
              "      <td>9544.0</td>\n",
              "      <td>354904.0</td>\n",
              "      <td>1083624.0</td>\n",
              "      <td>1099919.669</td>\n",
              "      <td>1083268.231</td>\n",
              "      <td>241130.4555</td>\n",
              "      <td>568447.4880</td>\n",
              "      <td>218640.3600</td>\n",
              "      <td>55049.9274</td>\n",
              "      <td>0.0665</td>\n",
              "      <td>14753.34784</td>\n",
              "      <td>206242.568</td>\n",
              "      <td>4.69</td>\n",
              "      <td>2943.49</td>\n",
              "      <td>50.43</td>\n",
              "      <td>50.60</td>\n",
              "      <td>102.162670</td>\n",
              "      <td>-21.1</td>\n",
              "      <td>-18.3</td>\n",
              "      <td>-25.4</td>\n",
              "      <td>9.704610</td>\n",
              "      <td>1.215372e+11</td>\n",
              "      <td>9.821204e+10</td>\n",
              "      <td>1.191497e+11</td>\n",
              "      <td>9.035507e+10</td>\n",
              "      <td>9.516119e+10</td>\n",
              "      <td>1.388751e+11</td>\n",
              "      <td>5.266968e+10</td>\n",
              "      <td>1.137228e+11</td>\n",
              "      <td>2.872364e+10</td>\n",
              "      <td>2.258877e+10</td>\n",
              "      <td>1.192185e+11</td>\n",
              "      <td>1.000214e+12</td>\n",
              "      <td>94.447377</td>\n",
              "      <td>...</td>\n",
              "      <td>478975.7922</td>\n",
              "      <td>1302860.802</td>\n",
              "      <td>5430241.566</td>\n",
              "      <td>555441.9044</td>\n",
              "      <td>7916686.911</td>\n",
              "      <td>6566090.070</td>\n",
              "      <td>7930536.312</td>\n",
              "      <td>4347164.930</td>\n",
              "      <td>677598.1836</td>\n",
              "      <td>1864166.572</td>\n",
              "      <td>4353892.017</td>\n",
              "      <td>433679.7772</td>\n",
              "      <td>5854575.608</td>\n",
              "      <td>4445890.861</td>\n",
              "      <td>6402426.269</td>\n",
              "      <td>3390803.016</td>\n",
              "      <td>550883.0739</td>\n",
              "      <td>1302564.560</td>\n",
              "      <td>4680431.000</td>\n",
              "      <td>460632.0000</td>\n",
              "      <td>5702443.000</td>\n",
              "      <td>4657354.000</td>\n",
              "      <td>7012296.000</td>\n",
              "      <td>3283417.000</td>\n",
              "      <td>549789.0000</td>\n",
              "      <td>1454672.000</td>\n",
              "      <td>4941981.754</td>\n",
              "      <td>531850.1926</td>\n",
              "      <td>7315235.649</td>\n",
              "      <td>6120086.089</td>\n",
              "      <td>8140200.383</td>\n",
              "      <td>3814229.013</td>\n",
              "      <td>632387.5921</td>\n",
              "      <td>1627959.289</td>\n",
              "      <td>1</td>\n",
              "      <td>4</td>\n",
              "      <td>26</td>\n",
              "      <td>2017-03-01</td>\n",
              "      <td>2017</td>\n",
              "      <td>3</td>\n",
              "    </tr>\n",
              "  </tbody>\n",
              "</table>\n",
              "<p>3 rows × 945 columns</p>\n",
              "</div>"
            ],
            "text/plain": [
              "            Quantity  Seasonal  Consumer_loans  ...     Date_2  Year  Month\n",
              "date                                            ...                        \n",
              "2017-01-01  1.503548  0.699923     112579.4297  ... 2017-01-01  2017      1\n",
              "2017-02-01  0.076213  0.316156     113438.0949  ... 2017-02-01  2017      2\n",
              "2017-03-01 -1.346258 -0.267695     114667.2587  ... 2017-03-01  2017      3\n",
              "\n",
              "[3 rows x 945 columns]"
            ]
          },
          "metadata": {},
          "execution_count": 43
        }
      ]
    },
    {
      "cell_type": "code",
      "metadata": {
        "id": "l-jeT27Z_oyG"
      },
      "source": [
        "#####"
      ],
      "execution_count": null,
      "outputs": []
    },
    {
      "cell_type": "code",
      "metadata": {
        "colab": {
          "base_uri": "https://localhost:8080/",
          "height": 514
        },
        "id": "cllvhS5ZxnjX",
        "outputId": "f3cb92fe-211d-4018-da1e-997ca4ceecbf"
      },
      "source": [
        "# plot using lineplot\n",
        "In# [45]: sns.set(style='darkgrid')\n",
        "plt.figure(figsize = (15,8))\n",
        "sns.lineplot(x='Year', y='Quantity', data= LineGraph_data)"
      ],
      "execution_count": 46,
      "outputs": [
        {
          "output_type": "execute_result",
          "data": {
            "text/plain": [
              "<matplotlib.axes._subplots.AxesSubplot at 0x7f66e03b1350>"
            ]
          },
          "metadata": {},
          "execution_count": 46
        },
        {
          "output_type": "display_data",
          "data": {
            "image/png": "[encoded data removed]",
            "text/plain": [
              "<Figure size 1080x576 with 1 Axes>"
            ]
          },
          "metadata": {
            "needs_background": "light"
          }
        }
      ]
    },
    {
      "cell_type": "code",
      "metadata": {
        "colab": {
          "base_uri": "https://localhost:8080/",
          "height": 515
        },
        "id": "O5MR2I_r_WgG",
        "outputId": "542827d0-4f18-4bf1-f076-9e4465a6346a"
      },
      "source": [
        "plt.figure(figsize = (15,8))\n",
        "sns.lineplot(x='Date_2', y='Quantity', data= LineGraph_data)"
      ],
      "execution_count": 47,
      "outputs": [
        {
          "output_type": "execute_result",
          "data": {
            "text/plain": [
              "<matplotlib.axes._subplots.AxesSubplot at 0x7f66e0325f90>"
            ]
          },
          "metadata": {},
          "execution_count": 47
        },
        {
          "output_type": "display_data",
          "data": {
            "image/png": "[encoded data removed]",
            "text/plain": [
              "<Figure size 1080x576 with 1 Axes>"
            ]
          },
          "metadata": {
            "needs_background": "light"
          }
        }
      ]
    },
    {
      "cell_type": "markdown",
      "metadata": {
        "id": "l0r_2Bkx_CW2"
      },
      "source": [
        "# \"############################################\""
      ]
    },
    {
      "cell_type": "markdown",
      "metadata": {
        "id": "OStFjwkExcIc"
      },
      "source": [
        "# Multi Correlation\n",
        "\n",
        "\n",
        "\n"
      ]
    },
    {
      "cell_type": "markdown",
      "metadata": {
        "id": "ZUUTdnfVW11k"
      },
      "source": [
        "# Regression"
      ]
    },
    {
      "cell_type": "code",
      "metadata": {
        "colab": {
          "base_uri": "https://localhost:8080/",
          "height": 255
        },
        "id": "N-s1hJmXxbTe",
        "outputId": "932bf1af-60b2-4371-d6f5-e14ab1f58b09"
      },
      "source": [
        "Porc_Op = pd.read_csv('/content/Porcelana_OP_adelphi_2021_SCALED.csv')\n",
        "Porc_Op.head(3) "
      ],
      "execution_count": 6,
      "outputs": [
        {
          "output_type": "execute_result",
          "data": {
            "text/html": [
              "<div>\n",
              "<style scoped>\n",
              "    .dataframe tbody tr th:only-of-type {\n",
              "        vertical-align: middle;\n",
              "    }\n",
              "\n",
              "    .dataframe tbody tr th {\n",
              "        vertical-align: top;\n",
              "    }\n",
              "\n",
              "    .dataframe thead th {\n",
              "        text-align: right;\n",
              "    }\n",
              "</style>\n",
              "<table border=\"1\" class=\"dataframe\">\n",
              "  <thead>\n",
              "    <tr style=\"text-align: right;\">\n",
              "      <th></th>\n",
              "      <th>date</th>\n",
              "      <th>Quantity</th>\n",
              "      <th>Seasonal</th>\n",
              "      <th>Consumer_loans</th>\n",
              "      <th>Construction_lic_unt</th>\n",
              "      <th>Construction_lic_area</th>\n",
              "      <th>Construction_lic_unt_SI</th>\n",
              "      <th>Construction_lic_unt_NO_SI</th>\n",
              "      <th>Construction_lic_area_SI</th>\n",
              "      <th>Construction_lic_area_NO_SI</th>\n",
              "      <th>Gray_cement_prod</th>\n",
              "      <th>Gray_cement_dispatch</th>\n",
              "      <th>Gray_cement_dispatch_Factory</th>\n",
              "      <th>Gray_cement_dispatch_comercial</th>\n",
              "      <th>Gray_cement_dispatch_contractor</th>\n",
              "      <th>Gray_cement_dispatch_other</th>\n",
              "      <th>DTF(interest_rate)</th>\n",
              "      <th>GDP_Constr</th>\n",
              "      <th>GDP_Total</th>\n",
              "      <th>Inflation</th>\n",
              "      <th>USD_exchange</th>\n",
              "      <th>Oil-brent</th>\n",
              "      <th>Oil_WTI</th>\n",
              "      <th>ISE</th>\n",
              "      <th>ICC</th>\n",
              "      <th>IEC</th>\n",
              "      <th>ICE</th>\n",
              "      <th>Unemployment%</th>\n",
              "      <th>RADAR_Constr</th>\n",
              "      <th>RADAR_Rev</th>\n",
              "      <th>RADAR_Toilets</th>\n",
              "      <th>RADAR_HomeAppliance</th>\n",
              "      <th>RADAR_Paint</th>\n",
              "      <th>RADAR_Furniture</th>\n",
              "      <th>RADAR_Tools</th>\n",
              "      <th>RADAR_Elect</th>\n",
              "      <th>RADAR_Plumbing</th>\n",
              "      <th>RADAR_Wood</th>\n",
              "      <th>RADAR_Supply</th>\n",
              "      <th>RADAR_Remodel</th>\n",
              "      <th>...</th>\n",
              "      <th>Preferencial_creditlag_8</th>\n",
              "      <th>loan_overdraftslag_8</th>\n",
              "      <th>Credit_cardlag_8</th>\n",
              "      <th>Treasury_loanlag_8</th>\n",
              "      <th>Housing_loanlag_8</th>\n",
              "      <th>Consumer_creditlag_9</th>\n",
              "      <th>Consumer_microcreditlag_9</th>\n",
              "      <th>Ordinary_creditlag_9</th>\n",
              "      <th>Preferencial_creditlag_9</th>\n",
              "      <th>loan_overdraftslag_9</th>\n",
              "      <th>Credit_cardlag_9</th>\n",
              "      <th>Treasury_loanlag_9</th>\n",
              "      <th>Housing_loanlag_9</th>\n",
              "      <th>Consumer_creditlag_10</th>\n",
              "      <th>Consumer_microcreditlag_10</th>\n",
              "      <th>Ordinary_creditlag_10</th>\n",
              "      <th>Preferencial_creditlag_10</th>\n",
              "      <th>loan_overdraftslag_10</th>\n",
              "      <th>Credit_cardlag_10</th>\n",
              "      <th>Treasury_loanlag_10</th>\n",
              "      <th>Housing_loanlag_10</th>\n",
              "      <th>Consumer_creditlag_11</th>\n",
              "      <th>Consumer_microcreditlag_11</th>\n",
              "      <th>Ordinary_creditlag_11</th>\n",
              "      <th>Preferencial_creditlag_11</th>\n",
              "      <th>loan_overdraftslag_11</th>\n",
              "      <th>Credit_cardlag_11</th>\n",
              "      <th>Treasury_loanlag_11</th>\n",
              "      <th>Housing_loanlag_11</th>\n",
              "      <th>Consumer_creditlag_12</th>\n",
              "      <th>Consumer_microcreditlag_12</th>\n",
              "      <th>Ordinary_creditlag_12</th>\n",
              "      <th>Preferencial_creditlag_12</th>\n",
              "      <th>loan_overdraftslag_12</th>\n",
              "      <th>Credit_cardlag_12</th>\n",
              "      <th>Treasury_loanlag_12</th>\n",
              "      <th>Housing_loanlag_12</th>\n",
              "      <th>holiday</th>\n",
              "      <th>sunday</th>\n",
              "      <th>working_day</th>\n",
              "    </tr>\n",
              "  </thead>\n",
              "  <tbody>\n",
              "    <tr>\n",
              "      <th>0</th>\n",
              "      <td>2017-01-01</td>\n",
              "      <td>1.503548</td>\n",
              "      <td>0.699923</td>\n",
              "      <td>112579.4297</td>\n",
              "      <td>11303.0</td>\n",
              "      <td>1185131.0</td>\n",
              "      <td>3587.0</td>\n",
              "      <td>7716.0</td>\n",
              "      <td>229478.0</td>\n",
              "      <td>955653.0</td>\n",
              "      <td>897063.518</td>\n",
              "      <td>913190.407</td>\n",
              "      <td>194276.0200</td>\n",
              "      <td>502084.8330</td>\n",
              "      <td>171559.9665</td>\n",
              "      <td>45269.5875</td>\n",
              "      <td>0.0694</td>\n",
              "      <td>14753.34784</td>\n",
              "      <td>206242.568</td>\n",
              "      <td>5.47</td>\n",
              "      <td>2944.65</td>\n",
              "      <td>52.19</td>\n",
              "      <td>52.81</td>\n",
              "      <td>102.548972</td>\n",
              "      <td>-30.2</td>\n",
              "      <td>-28.3</td>\n",
              "      <td>-33.1</td>\n",
              "      <td>11.733267</td>\n",
              "      <td>1.044525e+11</td>\n",
              "      <td>1.323489e+11</td>\n",
              "      <td>1.727682e+11</td>\n",
              "      <td>1.050914e+11</td>\n",
              "      <td>8.847567e+10</td>\n",
              "      <td>8.354725e+10</td>\n",
              "      <td>5.008444e+10</td>\n",
              "      <td>9.372000e+10</td>\n",
              "      <td>3.037115e+10</td>\n",
              "      <td>3.136015e+10</td>\n",
              "      <td>1.585430e+11</td>\n",
              "      <td>1.050763e+12</td>\n",
              "      <td>...</td>\n",
              "      <td>4445890.861</td>\n",
              "      <td>6402426.269</td>\n",
              "      <td>3390803.016</td>\n",
              "      <td>550883.0739</td>\n",
              "      <td>1302564.560</td>\n",
              "      <td>4680431.000</td>\n",
              "      <td>460632.0000</td>\n",
              "      <td>5702443.000</td>\n",
              "      <td>4657354.000</td>\n",
              "      <td>7012296.000</td>\n",
              "      <td>3283417.000</td>\n",
              "      <td>549789.0000</td>\n",
              "      <td>1454672.000</td>\n",
              "      <td>4941981.754</td>\n",
              "      <td>531850.1926</td>\n",
              "      <td>7315235.649</td>\n",
              "      <td>6120086.089</td>\n",
              "      <td>8140200.383</td>\n",
              "      <td>3814229.013</td>\n",
              "      <td>632387.5921</td>\n",
              "      <td>1627959.289</td>\n",
              "      <td>4068020.900</td>\n",
              "      <td>438682.2679</td>\n",
              "      <td>6513619.182</td>\n",
              "      <td>6137144.374</td>\n",
              "      <td>6675101.294</td>\n",
              "      <td>2989980.729</td>\n",
              "      <td>483448.3473</td>\n",
              "      <td>1298811.962</td>\n",
              "      <td>3106784.500</td>\n",
              "      <td>386289.5525</td>\n",
              "      <td>4875376.339</td>\n",
              "      <td>4791146.877</td>\n",
              "      <td>5996088.922</td>\n",
              "      <td>3013612.505</td>\n",
              "      <td>470541.3290</td>\n",
              "      <td>1093819.181</td>\n",
              "      <td>1</td>\n",
              "      <td>5</td>\n",
              "      <td>25</td>\n",
              "    </tr>\n",
              "    <tr>\n",
              "      <th>1</th>\n",
              "      <td>2017-02-01</td>\n",
              "      <td>0.076213</td>\n",
              "      <td>0.316156</td>\n",
              "      <td>113438.0949</td>\n",
              "      <td>16187.0</td>\n",
              "      <td>1590979.0</td>\n",
              "      <td>4659.0</td>\n",
              "      <td>11528.0</td>\n",
              "      <td>272961.0</td>\n",
              "      <td>1318018.0</td>\n",
              "      <td>1025704.960</td>\n",
              "      <td>1007968.299</td>\n",
              "      <td>228359.8390</td>\n",
              "      <td>530826.1625</td>\n",
              "      <td>199731.6950</td>\n",
              "      <td>49050.6025</td>\n",
              "      <td>0.0678</td>\n",
              "      <td>14753.34784</td>\n",
              "      <td>206242.568</td>\n",
              "      <td>5.18</td>\n",
              "      <td>2881.68</td>\n",
              "      <td>53.40</td>\n",
              "      <td>54.01</td>\n",
              "      <td>102.919033</td>\n",
              "      <td>-24.3</td>\n",
              "      <td>-19.9</td>\n",
              "      <td>-31.0</td>\n",
              "      <td>10.504292</td>\n",
              "      <td>1.574855e+11</td>\n",
              "      <td>8.351517e+10</td>\n",
              "      <td>1.096908e+11</td>\n",
              "      <td>8.252536e+10</td>\n",
              "      <td>8.582517e+10</td>\n",
              "      <td>1.522091e+11</td>\n",
              "      <td>5.056706e+10</td>\n",
              "      <td>6.034851e+10</td>\n",
              "      <td>2.138243e+10</td>\n",
              "      <td>2.216364e+10</td>\n",
              "      <td>2.104634e+11</td>\n",
              "      <td>1.036176e+12</td>\n",
              "      <td>...</td>\n",
              "      <td>6566090.070</td>\n",
              "      <td>7930536.312</td>\n",
              "      <td>4347164.930</td>\n",
              "      <td>677598.1836</td>\n",
              "      <td>1864166.572</td>\n",
              "      <td>4353892.017</td>\n",
              "      <td>433679.7772</td>\n",
              "      <td>5854575.608</td>\n",
              "      <td>4445890.861</td>\n",
              "      <td>6402426.269</td>\n",
              "      <td>3390803.016</td>\n",
              "      <td>550883.0739</td>\n",
              "      <td>1302564.560</td>\n",
              "      <td>4680431.000</td>\n",
              "      <td>460632.0000</td>\n",
              "      <td>5702443.000</td>\n",
              "      <td>4657354.000</td>\n",
              "      <td>7012296.000</td>\n",
              "      <td>3283417.000</td>\n",
              "      <td>549789.0000</td>\n",
              "      <td>1454672.000</td>\n",
              "      <td>4941981.754</td>\n",
              "      <td>531850.1926</td>\n",
              "      <td>7315235.649</td>\n",
              "      <td>6120086.089</td>\n",
              "      <td>8140200.383</td>\n",
              "      <td>3814229.013</td>\n",
              "      <td>632387.5921</td>\n",
              "      <td>1627959.289</td>\n",
              "      <td>4068020.900</td>\n",
              "      <td>438682.2679</td>\n",
              "      <td>6513619.182</td>\n",
              "      <td>6137144.374</td>\n",
              "      <td>6675101.294</td>\n",
              "      <td>2989980.729</td>\n",
              "      <td>483448.3473</td>\n",
              "      <td>1298811.962</td>\n",
              "      <td>0</td>\n",
              "      <td>4</td>\n",
              "      <td>24</td>\n",
              "    </tr>\n",
              "    <tr>\n",
              "      <th>2</th>\n",
              "      <td>2017-03-01</td>\n",
              "      <td>-1.346258</td>\n",
              "      <td>-0.267695</td>\n",
              "      <td>114667.2587</td>\n",
              "      <td>15231.0</td>\n",
              "      <td>1438528.0</td>\n",
              "      <td>5687.0</td>\n",
              "      <td>9544.0</td>\n",
              "      <td>354904.0</td>\n",
              "      <td>1083624.0</td>\n",
              "      <td>1099919.669</td>\n",
              "      <td>1083268.231</td>\n",
              "      <td>241130.4555</td>\n",
              "      <td>568447.4880</td>\n",
              "      <td>218640.3600</td>\n",
              "      <td>55049.9274</td>\n",
              "      <td>0.0665</td>\n",
              "      <td>14753.34784</td>\n",
              "      <td>206242.568</td>\n",
              "      <td>4.69</td>\n",
              "      <td>2943.49</td>\n",
              "      <td>50.43</td>\n",
              "      <td>50.60</td>\n",
              "      <td>102.162670</td>\n",
              "      <td>-21.1</td>\n",
              "      <td>-18.3</td>\n",
              "      <td>-25.4</td>\n",
              "      <td>9.704610</td>\n",
              "      <td>1.215372e+11</td>\n",
              "      <td>9.821204e+10</td>\n",
              "      <td>1.191497e+11</td>\n",
              "      <td>9.035507e+10</td>\n",
              "      <td>9.516119e+10</td>\n",
              "      <td>1.388751e+11</td>\n",
              "      <td>5.266968e+10</td>\n",
              "      <td>1.137228e+11</td>\n",
              "      <td>2.872364e+10</td>\n",
              "      <td>2.258877e+10</td>\n",
              "      <td>1.192185e+11</td>\n",
              "      <td>1.000214e+12</td>\n",
              "      <td>...</td>\n",
              "      <td>4119152.514</td>\n",
              "      <td>6258157.459</td>\n",
              "      <td>3447128.397</td>\n",
              "      <td>478975.7922</td>\n",
              "      <td>1302860.802</td>\n",
              "      <td>5430241.566</td>\n",
              "      <td>555441.9044</td>\n",
              "      <td>7916686.911</td>\n",
              "      <td>6566090.070</td>\n",
              "      <td>7930536.312</td>\n",
              "      <td>4347164.930</td>\n",
              "      <td>677598.1836</td>\n",
              "      <td>1864166.572</td>\n",
              "      <td>4353892.017</td>\n",
              "      <td>433679.7772</td>\n",
              "      <td>5854575.608</td>\n",
              "      <td>4445890.861</td>\n",
              "      <td>6402426.269</td>\n",
              "      <td>3390803.016</td>\n",
              "      <td>550883.0739</td>\n",
              "      <td>1302564.560</td>\n",
              "      <td>4680431.000</td>\n",
              "      <td>460632.0000</td>\n",
              "      <td>5702443.000</td>\n",
              "      <td>4657354.000</td>\n",
              "      <td>7012296.000</td>\n",
              "      <td>3283417.000</td>\n",
              "      <td>549789.0000</td>\n",
              "      <td>1454672.000</td>\n",
              "      <td>4941981.754</td>\n",
              "      <td>531850.1926</td>\n",
              "      <td>7315235.649</td>\n",
              "      <td>6120086.089</td>\n",
              "      <td>8140200.383</td>\n",
              "      <td>3814229.013</td>\n",
              "      <td>632387.5921</td>\n",
              "      <td>1627959.289</td>\n",
              "      <td>1</td>\n",
              "      <td>4</td>\n",
              "      <td>26</td>\n",
              "    </tr>\n",
              "  </tbody>\n",
              "</table>\n",
              "<p>3 rows × 943 columns</p>\n",
              "</div>"
            ],
            "text/plain": [
              "         date  Quantity  Seasonal  ...  holiday  sunday  working_day\n",
              "0  2017-01-01  1.503548  0.699923  ...        1       5           25\n",
              "1  2017-02-01  0.076213  0.316156  ...        0       4           24\n",
              "2  2017-03-01 -1.346258 -0.267695  ...        1       4           26\n",
              "\n",
              "[3 rows x 943 columns]"
            ]
          },
          "metadata": {},
          "execution_count": 6
        }
      ]
    },
    {
      "cell_type": "code",
      "metadata": {
        "id": "zB1j5gONyGba"
      },
      "source": [
        "corr_data = Porc_Op"
      ],
      "execution_count": 7,
      "outputs": []
    },
    {
      "cell_type": "code",
      "metadata": {
        "id": "CirBzcxY2Kr2"
      },
      "source": [
        "corr_data['Date_2'] = corr_data.date"
      ],
      "execution_count": 8,
      "outputs": []
    },
    {
      "cell_type": "code",
      "metadata": {
        "id": "N4ubimLj1ko4"
      },
      "source": [
        "# Move the date column back to being the index\n",
        "corr_data.set_index('date', inplace= True)"
      ],
      "execution_count": 9,
      "outputs": []
    },
    {
      "cell_type": "code",
      "metadata": {
        "id": "MrJf6IO60KKX"
      },
      "source": [
        "corr_data.head(20)"
      ],
      "execution_count": null,
      "outputs": []
    },
    {
      "cell_type": "code",
      "metadata": {
        "id": "eNMkLHRW8zX3"
      },
      "source": [
        "corr_data.tail(20)"
      ],
      "execution_count": null,
      "outputs": []
    },
    {
      "cell_type": "markdown",
      "metadata": {
        "id": "yze9oHBg67hV"
      },
      "source": [
        "# DataSplit"
      ]
    },
    {
      "cell_type": "code",
      "metadata": {
        "id": "25-wdebr3pat"
      },
      "source": [
        "corr_data_select = corr_data[['Quantity', 'Gray_cement_dispatch_comercial', 'Gray_cement_dispatch_other','Gray_cement_dispatch','Gray_cement_prod','Housing_total_sales_SI',\n",
        "               'holiday','Construction_lic_untlag_4' ,'Imports_quantitylag_4','Construction_lic_arealag_4','Construction_lic_area_NO_SIlag_4']]"
      ],
      "execution_count": 10,
      "outputs": []
    },
    {
      "cell_type": "code",
      "metadata": {
        "id": "SS639huEDcVx"
      },
      "source": [
        "corr_data_select.head(1)"
      ],
      "execution_count": null,
      "outputs": []
    },
    {
      "cell_type": "code",
      "metadata": {
        "id": "40LFeM5Y3pXZ"
      },
      "source": [
        "feature_cols =  corr_data[['Gray_cement_dispatch_comercial', 'Gray_cement_dispatch_other','Gray_cement_dispatch','Gray_cement_prod','Housing_total_sales_SI',\n",
        "               'Construction_lic_untlag_4' ,'Imports_quantitylag_4','Construction_lic_arealag_4','Construction_lic_area_NO_SIlag_4','holiday']]\n"
      ],
      "execution_count": 13,
      "outputs": []
    },
    {
      "cell_type": "code",
      "metadata": {
        "id": "jJfeStL_BpGq"
      },
      "source": [
        "feature_cols.head(2)"
      ],
      "execution_count": null,
      "outputs": []
    },
    {
      "cell_type": "code",
      "metadata": {
        "id": "NiSv59V7B5kR"
      },
      "source": [
        "corr_data_select.head(3)"
      ],
      "execution_count": null,
      "outputs": []
    },
    {
      "cell_type": "code",
      "metadata": {
        "colab": {
          "base_uri": "https://localhost:8080/"
        },
        "id": "dpbJGj5z90dL",
        "outputId": "f7c75547-c123-4955-e7ba-3549f70140ab"
      },
      "source": [
        "X = feature_cols\n",
        "len(X)"
      ],
      "execution_count": 18,
      "outputs": [
        {
          "output_type": "execute_result",
          "data": {
            "text/plain": [
              "54"
            ]
          },
          "metadata": {},
          "execution_count": 18
        }
      ]
    },
    {
      "cell_type": "code",
      "metadata": {
        "colab": {
          "base_uri": "https://localhost:8080/"
        },
        "id": "v7NkkKLh3pQh",
        "outputId": "6d5fc35f-d0a5-4c27-fe37-933d5da5d387"
      },
      "source": [
        "y = corr_data_select['Quantity']\n",
        "y\n",
        "len(y)"
      ],
      "execution_count": 19,
      "outputs": [
        {
          "output_type": "execute_result",
          "data": {
            "text/plain": [
              "54"
            ]
          },
          "metadata": {},
          "execution_count": 19
        }
      ]
    },
    {
      "cell_type": "markdown",
      "metadata": {
        "id": "2uR5jFTo8YAM"
      },
      "source": [
        "###Now we have the independent, the X featureas and the y , dependent feature, now weirdly , we feed python 2 dataframes simultaneoulsy, X & y and tell it to place 80% of x in one bin , 20% in test bin, place 80% of y in one bin....."
      ]
    },
    {
      "cell_type": "code",
      "metadata": {
        "id": "30Epxjr18XOz"
      },
      "source": [
        "X_train, X_test, y_train, y_test = train_test_split(X, y, test_size=0.2, random_state=5)"
      ],
      "execution_count": 20,
      "outputs": []
    },
    {
      "cell_type": "code",
      "metadata": {
        "colab": {
          "base_uri": "https://localhost:8080/"
        },
        "id": "w-HmSQyydpkl",
        "outputId": "195d049e-9517-4039-ea2b-aed69e2546e9"
      },
      "source": [
        "LinearReg = LinearRegression()  \n",
        "LinearReg.fit(X_train, y_train)"
      ],
      "execution_count": 21,
      "outputs": [
        {
          "output_type": "execute_result",
          "data": {
            "text/plain": [
              "LinearRegression(copy_X=True, fit_intercept=True, n_jobs=None, normalize=False)"
            ]
          },
          "metadata": {},
          "execution_count": 21
        }
      ]
    },
    {
      "cell_type": "code",
      "metadata": {
        "id": "neAxHTXNdpfk"
      },
      "source": [
        "\n",
        "y_pred_Train = LinearReg.predict(X_train) #Predictions on training model\n",
        "y_pred_Test  = LinearReg.predict(X_test)  #Predictions on testing model"
      ],
      "execution_count": 22,
      "outputs": []
    },
    {
      "cell_type": "code",
      "metadata": {
        "colab": {
          "base_uri": "https://localhost:8080/"
        },
        "id": "oNUkCHF2dst7",
        "outputId": "4158f962-dbee-48b2-eec8-274dd71af75d"
      },
      "source": [
        "print('Intercept:',LinearReg.intercept_)\n",
        "print('Coefficients:', LinearReg.coef_)"
      ],
      "execution_count": 23,
      "outputs": [
        {
          "output_type": "stream",
          "name": "stdout",
          "text": [
            "Intercept: -5.128641121054631\n",
            "Coefficients: [ 9.24599694e-07  2.92693248e-05  3.86489693e-06 -2.06659778e-06\n",
            "  8.37626098e-05 -9.13152347e-05 -5.99704007e-06  2.56642934e-06\n",
            " -1.29322556e-06 -6.91645279e-02]\n"
          ]
        }
      ]
    },
    {
      "cell_type": "code",
      "metadata": {
        "colab": {
          "base_uri": "https://localhost:8080/",
          "height": 294
        },
        "id": "1KdnYGWTdsqJ",
        "outputId": "6a3e2a87-5ca1-4a21-d243-ef93e56c085a"
      },
      "source": [
        "#Two plots togheter\n",
        "\n",
        "fig, ax = plt.subplots(ncols=2, figsize=(10,4))\n",
        "\n",
        "ax[0].scatter(y_train, y_pred_Train)\n",
        "ax[0].set_ylim(0,2)\n",
        "ax[0].set_xlim(0,2)\n",
        "ax[0].grid()\n",
        "ax[0].set_xlabel('y')\n",
        "ax[0].set_ylabel('yhat')\n",
        "ax[0].set_title('Training Set')\n",
        "\n",
        "\n",
        "\n",
        "ax[1].scatter(y_test, y_pred_Test)\n",
        "ax[1].set_ylim(0,2)\n",
        "ax[1].set_xlim(0,2)\n",
        "ax[1].grid()\n",
        "ax[1].set_xlabel('y')\n",
        "ax[1].set_ylabel('yhat')\n",
        "ax[1].set_title('Testing Set')\n",
        "plt.show()"
      ],
      "execution_count": 24,
      "outputs": [
        {
          "output_type": "display_data",
          "data": {
            "image/png": "[encoded data removed]",
            "text/plain": [
              "<Figure size 720x288 with 2 Axes>"
            ]
          },
          "metadata": {
            "needs_background": "light"
          }
        }
      ]
    },
    {
      "cell_type": "markdown",
      "metadata": {
        "id": "Ry0V-wMJoooy"
      },
      "source": [
        "########## lone model below"
      ]
    },
    {
      "cell_type": "code",
      "metadata": {
        "id": "AYj44CimouGZ"
      },
      "source": [
        "import numpy as np\n",
        "import matplotlib.pyplot as plt\n",
        "from matplotlib.ticker import MultipleLocator\n",
        "from matplotlib.ticker import MaxNLocator\n",
        "from scipy import stats"
      ],
      "execution_count": 64,
      "outputs": []
    },
    {
      "cell_type": "code",
      "metadata": {
        "id": "TCQ1ILv_o0_X"
      },
      "source": [
        "#https://stackoverflow.com/questions/48370562/how-to-add-regression-line-and-regression-line-equation-on-graph"
      ],
      "execution_count": null,
      "outputs": []
    },
    {
      "cell_type": "code",
      "metadata": {
        "id": "161NTxnlo06w"
      },
      "source": [
        "'''\n",
        "#regression part\n",
        "slope, intercept, r_value, p_value, std_err = stats.linregress(x,y)\n",
        "\n",
        "line = slope*x+intercept\n",
        "plt.plot(x, line, 'r', label='y={:.2f}x+{:.2f}'.format(slope,intercept))\n",
        "#end\n",
        "\n",
        "plt.scatter(x,y, color=\"k\", s=3.5)\n",
        "plt.legend(fontsize=9)\n",
        "\n",
        "plt.show()\n",
        "'''"
      ],
      "execution_count": null,
      "outputs": []
    },
    {
      "cell_type": "code",
      "metadata": {
        "id": "o2Yujtf_o00K"
      },
      "source": [
        "#regression part\n",
        "slope, intercept, r_value, p_value, std_err = stats.linregress(x,y)"
      ],
      "execution_count": null,
      "outputs": []
    },
    {
      "cell_type": "code",
      "metadata": {
        "id": "sPDLD06ypBiA"
      },
      "source": [
        ""
      ],
      "execution_count": null,
      "outputs": []
    },
    {
      "cell_type": "markdown",
      "metadata": {
        "id": "9krilA7qpyqY"
      },
      "source": [
        "# Scatter Regression\n",
        "\n",
        "\n",
        "\n"
      ]
    },
    {
      "cell_type": "code",
      "metadata": {
        "id": "rgvIQ4U4pBc_"
      },
      "source": [
        ""
      ],
      "execution_count": null,
      "outputs": []
    },
    {
      "cell_type": "code",
      "metadata": {
        "colab": {
          "base_uri": "https://localhost:8080/",
          "height": 312
        },
        "id": "wmG86Mf1NxIk",
        "outputId": "01972f5c-1b51-4218-ea06-f9fbf0ef3778"
      },
      "source": [
        "#Added Model Lines\n",
        "\n",
        "fig, ax = plt.subplots(ncols=2, figsize=(10,4))\n",
        "\n",
        "ax[0].scatter(y_train, y_pred_Train)\n",
        "ax[0].set_ylim(0,2)\n",
        "ax[0].set_xlim(0,2)\n",
        "ax[0].grid()\n",
        "ax[0].set_xlabel('y')\n",
        "ax[0].set_ylabel('yhat')\n",
        "ax[0].set_title('Training Set')\n",
        "#\n",
        "m , b = np.polyfit(y_train ,y_pred_Train,1 )\n",
        "plt.plot(y_train, m*y_train +b)\n",
        "\n",
        "\n",
        "ax[1].scatter(y_test, y_pred_Test)\n",
        "ax[1].set_ylim(0,2)\n",
        "ax[1].set_xlim(0,2)\n",
        "ax[1].grid()\n",
        "ax[1].set_xlabel('y')\n",
        "ax[1].set_ylabel('yhat')\n",
        "ax[1].set_title('Testing Set')\n",
        "m , b = np.polyfit(y_test ,y_pred_Test,1 )\n",
        "plt.plot(y_test, m*y_test +b)\n",
        "\n"
      ],
      "execution_count": 65,
      "outputs": [
        {
          "output_type": "execute_result",
          "data": {
            "text/plain": [
              "[<matplotlib.lines.Line2D at 0x7f66db4f1450>]"
            ]
          },
          "metadata": {},
          "execution_count": 65
        },
        {
          "output_type": "display_data",
          "data": {
            "image/png": "[encoded data removed]",
            "text/plain": [
              "<Figure size 720x288 with 2 Axes>"
            ]
          },
          "metadata": {
            "needs_background": "light"
          }
        }
      ]
    },
    {
      "cell_type": "code",
      "metadata": {
        "id": "l7yUWpGhjCXN"
      },
      "source": [
        "ax[1].scatter(y_test, y_pred_Test)\n",
        "ax[1].set_ylim(0,2)\n",
        "ax[1].set_xlim(0,2)\n",
        "ax[1].grid()\n",
        "ax[1].set_xlabel('y')\n",
        "ax[1].set_ylabel('yhat')\n",
        "ax[1].set_title('Testing Set')\n",
        "plt.show()\n",
        "#m , b = np.polyfit(y_test ,y_pred_Test,1 )\n",
        "#plt.plot(y_test, m*y_test +b)"
      ],
      "execution_count": 62,
      "outputs": []
    },
    {
      "cell_type": "code",
      "metadata": {
        "colab": {
          "base_uri": "https://localhost:8080/",
          "height": 312
        },
        "id": "7OrkbS0bi642",
        "outputId": "58b9950c-d5d7-451d-cb7d-83c6722b5c11"
      },
      "source": [
        "fig, ax = plt.subplots(ncols=2, figsize=(10,4))\n",
        "\n",
        "ax[0].scatter(y_train, y_pred_Train)\n",
        "ax[0].set_ylim(0,2)\n",
        "ax[0].set_xlim(0,2)\n",
        "ax[0].grid()\n",
        "ax[0].set_xlabel('y')\n",
        "ax[0].set_ylabel('yhat')\n",
        "ax[0].set_title('Training Set')\n",
        "#\n"
      ],
      "execution_count": 63,
      "outputs": [
        {
          "output_type": "execute_result",
          "data": {
            "text/plain": [
              "Text(0.5, 1.0, 'Training Set')"
            ]
          },
          "metadata": {},
          "execution_count": 63
        },
        {
          "output_type": "display_data",
          "data": {
            "image/png": "[encoded data removed]",
            "text/plain": [
              "<Figure size 720x288 with 2 Axes>"
            ]
          },
          "metadata": {
            "needs_background": "light"
          }
        }
      ]
    },
    {
      "cell_type": "code",
      "metadata": {
        "colab": {
          "base_uri": "https://localhost:8080/"
        },
        "id": "p5I31-uOdsmf",
        "outputId": "fc82721e-6243-43d0-b101-f2d380f98835"
      },
      "source": [
        "print('Training Metrics:')\n",
        "print('R squared:', metrics.r2_score(y_train, y_pred_Train))\n",
        "print('Mean Absolute Error:', metrics.mean_absolute_error(y_train, y_pred_Train))  \n",
        "print('Mean Squared Error:', metrics.mean_squared_error(y_train, y_pred_Train))  \n",
        "print('Root Mean Squared Error:', np.sqrt(metrics.mean_squared_error(y_train, y_pred_Train)))\n",
        "\n",
        "print('\\nTesting Metrics:')\n",
        "print('R squared:', metrics.r2_score(y_test, y_pred_Test))\n",
        "print('Mean Absolute Error:', metrics.mean_absolute_error(y_test, y_pred_Test))  \n",
        "print('Mean Squared Error:', metrics.mean_squared_error(y_test, y_pred_Test))  \n",
        "print('Root Mean Squared Error:', np.sqrt(metrics.mean_squared_error(y_test, y_pred_Test)))"
      ],
      "execution_count": 25,
      "outputs": [
        {
          "output_type": "stream",
          "name": "stdout",
          "text": [
            "Training Metrics:\n",
            "R squared: 0.6897254404182074\n",
            "Mean Absolute Error: 0.41698903043131946\n",
            "Mean Squared Error: 0.32131769817897904\n",
            "Root Mean Squared Error: 0.5668489200651079\n",
            "\n",
            "Testing Metrics:\n",
            "R squared: 0.48929934546542353\n",
            "Mean Absolute Error: 0.4702417533600729\n",
            "Mean Squared Error: 0.42895092680143015\n",
            "Root Mean Squared Error: 0.6549434531327343\n"
          ]
        }
      ]
    },
    {
      "cell_type": "code",
      "metadata": {
        "id": "BHxVYFnedsip"
      },
      "source": [
        ""
      ],
      "execution_count": null,
      "outputs": []
    },
    {
      "cell_type": "code",
      "metadata": {
        "id": "OBGOPGsydpbu"
      },
      "source": [
        ""
      ],
      "execution_count": null,
      "outputs": []
    },
    {
      "cell_type": "markdown",
      "metadata": {
        "id": "Sy8KQCY-3jD9"
      },
      "source": [
        "########################################################################"
      ]
    },
    {
      "cell_type": "markdown",
      "metadata": {
        "id": "COqUq1ZPJs_T"
      },
      "source": [
        "# Boxplots\n",
        "\n",
        "Put the year over year sbunch together in teh same window for cpmparison.  ame for Month over month\n"
      ]
    },
    {
      "cell_type": "markdown",
      "metadata": {
        "id": "br1d6WcoeUVd"
      },
      "source": [
        "Create new column that is date.  \n",
        "\n",
        "1. converthe index to a column\n",
        "\n",
        "2. copy the column (now we have 2 of he same)\n",
        "\n",
        "3. move one of them back to bein ghte index again.  ( now sure why we need the index to be dates but donet wat to find out either)"
      ]
    },
    {
      "cell_type": "code",
      "metadata": {
        "id": "w47Hog3NfwZc"
      },
      "source": [
        "Boxplot_data = Porc_Op"
      ],
      "execution_count": 77,
      "outputs": []
    },
    {
      "cell_type": "code",
      "metadata": {
        "id": "7RCQW92ZgAxO"
      },
      "source": [
        "Boxplot_data.head(3)"
      ],
      "execution_count": null,
      "outputs": []
    },
    {
      "cell_type": "code",
      "metadata": {
        "id": "OHniYHR8eTfA"
      },
      "source": [
        "#Duplicate the date column\n",
        "# It gets appended as the last collumn\n",
        "\n",
        "Boxplot_data['Date_2'] = Boxplot_data.date\n"
      ],
      "execution_count": 79,
      "outputs": []
    },
    {
      "cell_type": "code",
      "metadata": {
        "id": "DbF00YSpo-hJ"
      },
      "source": [
        "Boxplot_data.head(3)"
      ],
      "execution_count": null,
      "outputs": []
    },
    {
      "cell_type": "code",
      "metadata": {
        "id": "HeyV5h-qhDTc"
      },
      "source": [
        "# Move the date column back to being the index\n",
        "Boxplot_data.set_index('date', inplace= True)"
      ],
      "execution_count": 81,
      "outputs": []
    },
    {
      "cell_type": "code",
      "metadata": {
        "id": "KuFlT_nThDPi"
      },
      "source": [
        "Boxplot_data.head(3)"
      ],
      "execution_count": null,
      "outputs": []
    },
    {
      "cell_type": "code",
      "metadata": {
        "colab": {
          "base_uri": "https://localhost:8080/",
          "height": 252
        },
        "id": "IrB0fUSshDIm",
        "outputId": "10d348fe-cbfe-46bc-a846-e70b84eb389e"
      },
      "source": [
        "# box plot\n",
        "ax = sns.boxplot( y=\"Quantity\",\n",
        "                 data= Boxplot_data, palette=\"Set3\")\n",
        "\n"
      ],
      "execution_count": 83,
      "outputs": [
        {
          "output_type": "display_data",
          "data": {
            "image/png": "[encoded data removed]",
            "text/plain": [
              "<Figure size 432x288 with 1 Axes>"
            ]
          },
          "metadata": {
            "needs_background": "light"
          }
        }
      ]
    },
    {
      "cell_type": "markdown",
      "metadata": {
        "id": "WVIpsrFPiRx2"
      },
      "source": [
        "Now lets seperate the date to tolot year over year, month over month etc"
      ]
    },
    {
      "cell_type": "code",
      "metadata": {
        "id": "8-VarLWviq_y"
      },
      "source": [
        "Boxplot_data['Date_2'] = pd.to_datetime(Boxplot_data['Date_2'])"
      ],
      "execution_count": 60,
      "outputs": []
    },
    {
      "cell_type": "code",
      "metadata": {
        "colab": {
          "base_uri": "https://localhost:8080/"
        },
        "id": "3RwZNWoViq7n",
        "outputId": "82c7fce8-6857-464c-84ad-6534335ab465"
      },
      "source": [
        "Boxplot_data['Date_2'].dtypes #<<<--- Stackoverlow assures us this is the same as data type \"date\""
      ],
      "execution_count": 61,
      "outputs": [
        {
          "output_type": "execute_result",
          "data": {
            "text/plain": [
              "dtype('<M8[ns]')"
            ]
          },
          "metadata": {},
          "execution_count": 61
        }
      ]
    },
    {
      "cell_type": "code",
      "metadata": {
        "id": "b8NDwmu6okGL"
      },
      "source": [
        "Boxplot_data['Date_2']"
      ],
      "execution_count": null,
      "outputs": []
    },
    {
      "cell_type": "code",
      "metadata": {
        "id": "7x3yMMJxmuHX"
      },
      "source": [
        "# convert the Purchase Date to datetime\n",
        "#df['Purchase Date'] = pd.to_datetime(df['Purchase Date'])\n",
        "# add a column for Year\n",
        "#df['Year'] = df['Purchase Date'].dt.year\n",
        "# convert the Purchase Date to datetime\n",
        "##################\n",
        "Boxplot_data['Date_2'] = pd.to_datetime(Boxplot_data['Date_2'])\n",
        "# add a column for Year\n",
        "Boxplot_data['Year'] = Boxplot_data['Date_2'].dt.year\n"
      ],
      "execution_count": 85,
      "outputs": []
    },
    {
      "cell_type": "code",
      "metadata": {
        "colab": {
          "base_uri": "https://localhost:8080/",
          "height": 381
        },
        "id": "drpbci-9pqfy",
        "outputId": "5a7f5c84-34ed-4ed1-fcf6-e199572b6149"
      },
      "source": [
        "Boxplot_data.head()"
      ],
      "execution_count": 86,
      "outputs": [
        {
          "output_type": "execute_result",
          "data": {
            "text/html": [
              "<div>\n",
              "<style scoped>\n",
              "    .dataframe tbody tr th:only-of-type {\n",
              "        vertical-align: middle;\n",
              "    }\n",
              "\n",
              "    .dataframe tbody tr th {\n",
              "        vertical-align: top;\n",
              "    }\n",
              "\n",
              "    .dataframe thead th {\n",
              "        text-align: right;\n",
              "    }\n",
              "</style>\n",
              "<table border=\"1\" class=\"dataframe\">\n",
              "  <thead>\n",
              "    <tr style=\"text-align: right;\">\n",
              "      <th></th>\n",
              "      <th>Quantity</th>\n",
              "      <th>Seasonal</th>\n",
              "      <th>Consumer_loans</th>\n",
              "      <th>Construction_lic_unt</th>\n",
              "      <th>Construction_lic_area</th>\n",
              "      <th>Construction_lic_unt_SI</th>\n",
              "      <th>Construction_lic_unt_NO_SI</th>\n",
              "      <th>Construction_lic_area_SI</th>\n",
              "      <th>Construction_lic_area_NO_SI</th>\n",
              "      <th>Gray_cement_prod</th>\n",
              "      <th>Gray_cement_dispatch</th>\n",
              "      <th>Gray_cement_dispatch_Factory</th>\n",
              "      <th>Gray_cement_dispatch_comercial</th>\n",
              "      <th>Gray_cement_dispatch_contractor</th>\n",
              "      <th>Gray_cement_dispatch_other</th>\n",
              "      <th>DTF(interest_rate)</th>\n",
              "      <th>GDP_Constr</th>\n",
              "      <th>GDP_Total</th>\n",
              "      <th>Inflation</th>\n",
              "      <th>USD_exchange</th>\n",
              "      <th>Oil-brent</th>\n",
              "      <th>Oil_WTI</th>\n",
              "      <th>ISE</th>\n",
              "      <th>ICC</th>\n",
              "      <th>IEC</th>\n",
              "      <th>ICE</th>\n",
              "      <th>Unemployment%</th>\n",
              "      <th>RADAR_Constr</th>\n",
              "      <th>RADAR_Rev</th>\n",
              "      <th>RADAR_Toilets</th>\n",
              "      <th>RADAR_HomeAppliance</th>\n",
              "      <th>RADAR_Paint</th>\n",
              "      <th>RADAR_Furniture</th>\n",
              "      <th>RADAR_Tools</th>\n",
              "      <th>RADAR_Elect</th>\n",
              "      <th>RADAR_Plumbing</th>\n",
              "      <th>RADAR_Wood</th>\n",
              "      <th>RADAR_Supply</th>\n",
              "      <th>RADAR_Remodel</th>\n",
              "      <th>Construction_lic_area/unt</th>\n",
              "      <th>...</th>\n",
              "      <th>Credit_cardlag_8</th>\n",
              "      <th>Treasury_loanlag_8</th>\n",
              "      <th>Housing_loanlag_8</th>\n",
              "      <th>Consumer_creditlag_9</th>\n",
              "      <th>Consumer_microcreditlag_9</th>\n",
              "      <th>Ordinary_creditlag_9</th>\n",
              "      <th>Preferencial_creditlag_9</th>\n",
              "      <th>loan_overdraftslag_9</th>\n",
              "      <th>Credit_cardlag_9</th>\n",
              "      <th>Treasury_loanlag_9</th>\n",
              "      <th>Housing_loanlag_9</th>\n",
              "      <th>Consumer_creditlag_10</th>\n",
              "      <th>Consumer_microcreditlag_10</th>\n",
              "      <th>Ordinary_creditlag_10</th>\n",
              "      <th>Preferencial_creditlag_10</th>\n",
              "      <th>loan_overdraftslag_10</th>\n",
              "      <th>Credit_cardlag_10</th>\n",
              "      <th>Treasury_loanlag_10</th>\n",
              "      <th>Housing_loanlag_10</th>\n",
              "      <th>Consumer_creditlag_11</th>\n",
              "      <th>Consumer_microcreditlag_11</th>\n",
              "      <th>Ordinary_creditlag_11</th>\n",
              "      <th>Preferencial_creditlag_11</th>\n",
              "      <th>loan_overdraftslag_11</th>\n",
              "      <th>Credit_cardlag_11</th>\n",
              "      <th>Treasury_loanlag_11</th>\n",
              "      <th>Housing_loanlag_11</th>\n",
              "      <th>Consumer_creditlag_12</th>\n",
              "      <th>Consumer_microcreditlag_12</th>\n",
              "      <th>Ordinary_creditlag_12</th>\n",
              "      <th>Preferencial_creditlag_12</th>\n",
              "      <th>loan_overdraftslag_12</th>\n",
              "      <th>Credit_cardlag_12</th>\n",
              "      <th>Treasury_loanlag_12</th>\n",
              "      <th>Housing_loanlag_12</th>\n",
              "      <th>holiday</th>\n",
              "      <th>sunday</th>\n",
              "      <th>working_day</th>\n",
              "      <th>Date_2</th>\n",
              "      <th>Year</th>\n",
              "    </tr>\n",
              "    <tr>\n",
              "      <th>date</th>\n",
              "      <th></th>\n",
              "      <th></th>\n",
              "      <th></th>\n",
              "      <th></th>\n",
              "      <th></th>\n",
              "      <th></th>\n",
              "      <th></th>\n",
              "      <th></th>\n",
              "      <th></th>\n",
              "      <th></th>\n",
              "      <th></th>\n",
              "      <th></th>\n",
              "      <th></th>\n",
              "      <th></th>\n",
              "      <th></th>\n",
              "      <th></th>\n",
              "      <th></th>\n",
              "      <th></th>\n",
              "      <th></th>\n",
              "      <th></th>\n",
              "      <th></th>\n",
              "      <th></th>\n",
              "      <th></th>\n",
              "      <th></th>\n",
              "      <th></th>\n",
              "      <th></th>\n",
              "      <th></th>\n",
              "      <th></th>\n",
              "      <th></th>\n",
              "      <th></th>\n",
              "      <th></th>\n",
              "      <th></th>\n",
              "      <th></th>\n",
              "      <th></th>\n",
              "      <th></th>\n",
              "      <th></th>\n",
              "      <th></th>\n",
              "      <th></th>\n",
              "      <th></th>\n",
              "      <th></th>\n",
              "      <th></th>\n",
              "      <th></th>\n",
              "      <th></th>\n",
              "      <th></th>\n",
              "      <th></th>\n",
              "      <th></th>\n",
              "      <th></th>\n",
              "      <th></th>\n",
              "      <th></th>\n",
              "      <th></th>\n",
              "      <th></th>\n",
              "      <th></th>\n",
              "      <th></th>\n",
              "      <th></th>\n",
              "      <th></th>\n",
              "      <th></th>\n",
              "      <th></th>\n",
              "      <th></th>\n",
              "      <th></th>\n",
              "      <th></th>\n",
              "      <th></th>\n",
              "      <th></th>\n",
              "      <th></th>\n",
              "      <th></th>\n",
              "      <th></th>\n",
              "      <th></th>\n",
              "      <th></th>\n",
              "      <th></th>\n",
              "      <th></th>\n",
              "      <th></th>\n",
              "      <th></th>\n",
              "      <th></th>\n",
              "      <th></th>\n",
              "      <th></th>\n",
              "      <th></th>\n",
              "      <th></th>\n",
              "      <th></th>\n",
              "      <th></th>\n",
              "      <th></th>\n",
              "      <th></th>\n",
              "      <th></th>\n",
              "    </tr>\n",
              "  </thead>\n",
              "  <tbody>\n",
              "    <tr>\n",
              "      <th>2017-01-01</th>\n",
              "      <td>1.503548</td>\n",
              "      <td>0.699923</td>\n",
              "      <td>112579.4297</td>\n",
              "      <td>11303.0</td>\n",
              "      <td>1185131.0</td>\n",
              "      <td>3587.0</td>\n",
              "      <td>7716.0</td>\n",
              "      <td>229478.0</td>\n",
              "      <td>955653.0</td>\n",
              "      <td>897063.518</td>\n",
              "      <td>9.131904e+05</td>\n",
              "      <td>194276.0200</td>\n",
              "      <td>502084.8330</td>\n",
              "      <td>171559.9665</td>\n",
              "      <td>45269.5875</td>\n",
              "      <td>0.0694</td>\n",
              "      <td>14753.34784</td>\n",
              "      <td>206242.5680</td>\n",
              "      <td>5.47</td>\n",
              "      <td>2944.65</td>\n",
              "      <td>52.19</td>\n",
              "      <td>52.81</td>\n",
              "      <td>102.548972</td>\n",
              "      <td>-30.2</td>\n",
              "      <td>-28.3</td>\n",
              "      <td>-33.1</td>\n",
              "      <td>11.733267</td>\n",
              "      <td>1.044525e+11</td>\n",
              "      <td>1.323489e+11</td>\n",
              "      <td>1.727682e+11</td>\n",
              "      <td>1.050914e+11</td>\n",
              "      <td>8.847567e+10</td>\n",
              "      <td>8.354725e+10</td>\n",
              "      <td>5.008444e+10</td>\n",
              "      <td>9.372000e+10</td>\n",
              "      <td>3.037115e+10</td>\n",
              "      <td>3.136015e+10</td>\n",
              "      <td>1.585430e+11</td>\n",
              "      <td>1.050763e+12</td>\n",
              "      <td>104.851013</td>\n",
              "      <td>...</td>\n",
              "      <td>3390803.016</td>\n",
              "      <td>550883.0739</td>\n",
              "      <td>1302564.560</td>\n",
              "      <td>4680431.000</td>\n",
              "      <td>460632.0000</td>\n",
              "      <td>5702443.000</td>\n",
              "      <td>4657354.000</td>\n",
              "      <td>7012296.000</td>\n",
              "      <td>3283417.000</td>\n",
              "      <td>549789.0000</td>\n",
              "      <td>1454672.000</td>\n",
              "      <td>4941981.754</td>\n",
              "      <td>531850.1926</td>\n",
              "      <td>7315235.649</td>\n",
              "      <td>6120086.089</td>\n",
              "      <td>8140200.383</td>\n",
              "      <td>3814229.013</td>\n",
              "      <td>632387.5921</td>\n",
              "      <td>1627959.289</td>\n",
              "      <td>4068020.900</td>\n",
              "      <td>438682.2679</td>\n",
              "      <td>6513619.182</td>\n",
              "      <td>6137144.374</td>\n",
              "      <td>6675101.294</td>\n",
              "      <td>2989980.729</td>\n",
              "      <td>483448.3473</td>\n",
              "      <td>1298811.962</td>\n",
              "      <td>3106784.500</td>\n",
              "      <td>386289.5525</td>\n",
              "      <td>4875376.339</td>\n",
              "      <td>4791146.877</td>\n",
              "      <td>5996088.922</td>\n",
              "      <td>3013612.505</td>\n",
              "      <td>470541.3290</td>\n",
              "      <td>1093819.181</td>\n",
              "      <td>1</td>\n",
              "      <td>5</td>\n",
              "      <td>25</td>\n",
              "      <td>2017-01-01</td>\n",
              "      <td>2017</td>\n",
              "    </tr>\n",
              "    <tr>\n",
              "      <th>2017-02-01</th>\n",
              "      <td>0.076213</td>\n",
              "      <td>0.316156</td>\n",
              "      <td>113438.0949</td>\n",
              "      <td>16187.0</td>\n",
              "      <td>1590979.0</td>\n",
              "      <td>4659.0</td>\n",
              "      <td>11528.0</td>\n",
              "      <td>272961.0</td>\n",
              "      <td>1318018.0</td>\n",
              "      <td>1025704.960</td>\n",
              "      <td>1.007968e+06</td>\n",
              "      <td>228359.8390</td>\n",
              "      <td>530826.1625</td>\n",
              "      <td>199731.6950</td>\n",
              "      <td>49050.6025</td>\n",
              "      <td>0.0678</td>\n",
              "      <td>14753.34784</td>\n",
              "      <td>206242.5680</td>\n",
              "      <td>5.18</td>\n",
              "      <td>2881.68</td>\n",
              "      <td>53.40</td>\n",
              "      <td>54.01</td>\n",
              "      <td>102.919033</td>\n",
              "      <td>-24.3</td>\n",
              "      <td>-19.9</td>\n",
              "      <td>-31.0</td>\n",
              "      <td>10.504292</td>\n",
              "      <td>1.574855e+11</td>\n",
              "      <td>8.351517e+10</td>\n",
              "      <td>1.096908e+11</td>\n",
              "      <td>8.252536e+10</td>\n",
              "      <td>8.582517e+10</td>\n",
              "      <td>1.522091e+11</td>\n",
              "      <td>5.056706e+10</td>\n",
              "      <td>6.034851e+10</td>\n",
              "      <td>2.138243e+10</td>\n",
              "      <td>2.216364e+10</td>\n",
              "      <td>2.104634e+11</td>\n",
              "      <td>1.036176e+12</td>\n",
              "      <td>98.287453</td>\n",
              "      <td>...</td>\n",
              "      <td>4347164.930</td>\n",
              "      <td>677598.1836</td>\n",
              "      <td>1864166.572</td>\n",
              "      <td>4353892.017</td>\n",
              "      <td>433679.7772</td>\n",
              "      <td>5854575.608</td>\n",
              "      <td>4445890.861</td>\n",
              "      <td>6402426.269</td>\n",
              "      <td>3390803.016</td>\n",
              "      <td>550883.0739</td>\n",
              "      <td>1302564.560</td>\n",
              "      <td>4680431.000</td>\n",
              "      <td>460632.0000</td>\n",
              "      <td>5702443.000</td>\n",
              "      <td>4657354.000</td>\n",
              "      <td>7012296.000</td>\n",
              "      <td>3283417.000</td>\n",
              "      <td>549789.0000</td>\n",
              "      <td>1454672.000</td>\n",
              "      <td>4941981.754</td>\n",
              "      <td>531850.1926</td>\n",
              "      <td>7315235.649</td>\n",
              "      <td>6120086.089</td>\n",
              "      <td>8140200.383</td>\n",
              "      <td>3814229.013</td>\n",
              "      <td>632387.5921</td>\n",
              "      <td>1627959.289</td>\n",
              "      <td>4068020.900</td>\n",
              "      <td>438682.2679</td>\n",
              "      <td>6513619.182</td>\n",
              "      <td>6137144.374</td>\n",
              "      <td>6675101.294</td>\n",
              "      <td>2989980.729</td>\n",
              "      <td>483448.3473</td>\n",
              "      <td>1298811.962</td>\n",
              "      <td>0</td>\n",
              "      <td>4</td>\n",
              "      <td>24</td>\n",
              "      <td>2017-02-01</td>\n",
              "      <td>2017</td>\n",
              "    </tr>\n",
              "    <tr>\n",
              "      <th>2017-03-01</th>\n",
              "      <td>-1.346258</td>\n",
              "      <td>-0.267695</td>\n",
              "      <td>114667.2587</td>\n",
              "      <td>15231.0</td>\n",
              "      <td>1438528.0</td>\n",
              "      <td>5687.0</td>\n",
              "      <td>9544.0</td>\n",
              "      <td>354904.0</td>\n",
              "      <td>1083624.0</td>\n",
              "      <td>1099919.669</td>\n",
              "      <td>1.083268e+06</td>\n",
              "      <td>241130.4555</td>\n",
              "      <td>568447.4880</td>\n",
              "      <td>218640.3600</td>\n",
              "      <td>55049.9274</td>\n",
              "      <td>0.0665</td>\n",
              "      <td>14753.34784</td>\n",
              "      <td>206242.5680</td>\n",
              "      <td>4.69</td>\n",
              "      <td>2943.49</td>\n",
              "      <td>50.43</td>\n",
              "      <td>50.60</td>\n",
              "      <td>102.162670</td>\n",
              "      <td>-21.1</td>\n",
              "      <td>-18.3</td>\n",
              "      <td>-25.4</td>\n",
              "      <td>9.704610</td>\n",
              "      <td>1.215372e+11</td>\n",
              "      <td>9.821204e+10</td>\n",
              "      <td>1.191497e+11</td>\n",
              "      <td>9.035507e+10</td>\n",
              "      <td>9.516119e+10</td>\n",
              "      <td>1.388751e+11</td>\n",
              "      <td>5.266968e+10</td>\n",
              "      <td>1.137228e+11</td>\n",
              "      <td>2.872364e+10</td>\n",
              "      <td>2.258877e+10</td>\n",
              "      <td>1.192185e+11</td>\n",
              "      <td>1.000214e+12</td>\n",
              "      <td>94.447377</td>\n",
              "      <td>...</td>\n",
              "      <td>3447128.397</td>\n",
              "      <td>478975.7922</td>\n",
              "      <td>1302860.802</td>\n",
              "      <td>5430241.566</td>\n",
              "      <td>555441.9044</td>\n",
              "      <td>7916686.911</td>\n",
              "      <td>6566090.070</td>\n",
              "      <td>7930536.312</td>\n",
              "      <td>4347164.930</td>\n",
              "      <td>677598.1836</td>\n",
              "      <td>1864166.572</td>\n",
              "      <td>4353892.017</td>\n",
              "      <td>433679.7772</td>\n",
              "      <td>5854575.608</td>\n",
              "      <td>4445890.861</td>\n",
              "      <td>6402426.269</td>\n",
              "      <td>3390803.016</td>\n",
              "      <td>550883.0739</td>\n",
              "      <td>1302564.560</td>\n",
              "      <td>4680431.000</td>\n",
              "      <td>460632.0000</td>\n",
              "      <td>5702443.000</td>\n",
              "      <td>4657354.000</td>\n",
              "      <td>7012296.000</td>\n",
              "      <td>3283417.000</td>\n",
              "      <td>549789.0000</td>\n",
              "      <td>1454672.000</td>\n",
              "      <td>4941981.754</td>\n",
              "      <td>531850.1926</td>\n",
              "      <td>7315235.649</td>\n",
              "      <td>6120086.089</td>\n",
              "      <td>8140200.383</td>\n",
              "      <td>3814229.013</td>\n",
              "      <td>632387.5921</td>\n",
              "      <td>1627959.289</td>\n",
              "      <td>1</td>\n",
              "      <td>4</td>\n",
              "      <td>26</td>\n",
              "      <td>2017-03-01</td>\n",
              "      <td>2017</td>\n",
              "    </tr>\n",
              "    <tr>\n",
              "      <th>2017-04-01</th>\n",
              "      <td>-2.122585</td>\n",
              "      <td>-2.419870</td>\n",
              "      <td>115386.4634</td>\n",
              "      <td>14093.0</td>\n",
              "      <td>1308557.0</td>\n",
              "      <td>5830.0</td>\n",
              "      <td>8263.0</td>\n",
              "      <td>394570.0</td>\n",
              "      <td>913987.0</td>\n",
              "      <td>976913.691</td>\n",
              "      <td>9.000049e+05</td>\n",
              "      <td>205596.3325</td>\n",
              "      <td>477863.7565</td>\n",
              "      <td>178911.5505</td>\n",
              "      <td>37633.3040</td>\n",
              "      <td>0.0653</td>\n",
              "      <td>14981.00793</td>\n",
              "      <td>207747.7702</td>\n",
              "      <td>4.66</td>\n",
              "      <td>2873.55</td>\n",
              "      <td>49.33</td>\n",
              "      <td>49.33</td>\n",
              "      <td>102.983586</td>\n",
              "      <td>-12.8</td>\n",
              "      <td>-10.9</td>\n",
              "      <td>-15.7</td>\n",
              "      <td>8.907718</td>\n",
              "      <td>1.050589e+11</td>\n",
              "      <td>1.250024e+11</td>\n",
              "      <td>1.243045e+11</td>\n",
              "      <td>1.099748e+11</td>\n",
              "      <td>8.874865e+10</td>\n",
              "      <td>9.272528e+10</td>\n",
              "      <td>5.317580e+10</td>\n",
              "      <td>1.235185e+11</td>\n",
              "      <td>2.542596e+10</td>\n",
              "      <td>1.223621e+10</td>\n",
              "      <td>1.243762e+11</td>\n",
              "      <td>9.845472e+11</td>\n",
              "      <td>92.851558</td>\n",
              "      <td>...</td>\n",
              "      <td>4264839.340</td>\n",
              "      <td>786453.6177</td>\n",
              "      <td>1665857.097</td>\n",
              "      <td>4182512.912</td>\n",
              "      <td>427158.3795</td>\n",
              "      <td>5430545.717</td>\n",
              "      <td>4119152.514</td>\n",
              "      <td>6258157.459</td>\n",
              "      <td>3447128.397</td>\n",
              "      <td>478975.7922</td>\n",
              "      <td>1302860.802</td>\n",
              "      <td>5430241.566</td>\n",
              "      <td>555441.9044</td>\n",
              "      <td>7916686.911</td>\n",
              "      <td>6566090.070</td>\n",
              "      <td>7930536.312</td>\n",
              "      <td>4347164.930</td>\n",
              "      <td>677598.1836</td>\n",
              "      <td>1864166.572</td>\n",
              "      <td>4353892.017</td>\n",
              "      <td>433679.7772</td>\n",
              "      <td>5854575.608</td>\n",
              "      <td>4445890.861</td>\n",
              "      <td>6402426.269</td>\n",
              "      <td>3390803.016</td>\n",
              "      <td>550883.0739</td>\n",
              "      <td>1302564.560</td>\n",
              "      <td>4680431.000</td>\n",
              "      <td>460632.0000</td>\n",
              "      <td>5702443.000</td>\n",
              "      <td>4657354.000</td>\n",
              "      <td>7012296.000</td>\n",
              "      <td>3283417.000</td>\n",
              "      <td>549789.0000</td>\n",
              "      <td>1454672.000</td>\n",
              "      <td>2</td>\n",
              "      <td>5</td>\n",
              "      <td>23</td>\n",
              "      <td>2017-04-01</td>\n",
              "      <td>2017</td>\n",
              "    </tr>\n",
              "    <tr>\n",
              "      <th>2017-05-01</th>\n",
              "      <td>-0.665067</td>\n",
              "      <td>-0.644222</td>\n",
              "      <td>116440.6893</td>\n",
              "      <td>13645.0</td>\n",
              "      <td>1449398.0</td>\n",
              "      <td>3766.0</td>\n",
              "      <td>9879.0</td>\n",
              "      <td>254338.0</td>\n",
              "      <td>1195060.0</td>\n",
              "      <td>1021787.442</td>\n",
              "      <td>9.990460e+05</td>\n",
              "      <td>227246.8955</td>\n",
              "      <td>521968.2200</td>\n",
              "      <td>204522.2195</td>\n",
              "      <td>45308.6685</td>\n",
              "      <td>0.0617</td>\n",
              "      <td>14981.00793</td>\n",
              "      <td>207747.7702</td>\n",
              "      <td>4.37</td>\n",
              "      <td>2924.00</td>\n",
              "      <td>48.69</td>\n",
              "      <td>48.32</td>\n",
              "      <td>103.070062</td>\n",
              "      <td>-16.9</td>\n",
              "      <td>-12.4</td>\n",
              "      <td>-23.7</td>\n",
              "      <td>9.417001</td>\n",
              "      <td>8.694237e+10</td>\n",
              "      <td>1.153829e+11</td>\n",
              "      <td>1.176807e+11</td>\n",
              "      <td>8.701007e+10</td>\n",
              "      <td>8.469597e+10</td>\n",
              "      <td>8.291499e+10</td>\n",
              "      <td>4.744757e+10</td>\n",
              "      <td>1.155134e+11</td>\n",
              "      <td>2.556480e+10</td>\n",
              "      <td>2.217084e+10</td>\n",
              "      <td>2.235675e+11</td>\n",
              "      <td>1.008891e+12</td>\n",
              "      <td>106.221913</td>\n",
              "      <td>...</td>\n",
              "      <td>3521738.265</td>\n",
              "      <td>546330.1638</td>\n",
              "      <td>1455228.844</td>\n",
              "      <td>5221504.230</td>\n",
              "      <td>542565.5737</td>\n",
              "      <td>7116995.809</td>\n",
              "      <td>6053780.975</td>\n",
              "      <td>7501101.418</td>\n",
              "      <td>4264839.340</td>\n",
              "      <td>786453.6177</td>\n",
              "      <td>1665857.097</td>\n",
              "      <td>4182512.912</td>\n",
              "      <td>427158.3795</td>\n",
              "      <td>5430545.717</td>\n",
              "      <td>4119152.514</td>\n",
              "      <td>6258157.459</td>\n",
              "      <td>3447128.397</td>\n",
              "      <td>478975.7922</td>\n",
              "      <td>1302860.802</td>\n",
              "      <td>5430241.566</td>\n",
              "      <td>555441.9044</td>\n",
              "      <td>7916686.911</td>\n",
              "      <td>6566090.070</td>\n",
              "      <td>7930536.312</td>\n",
              "      <td>4347164.930</td>\n",
              "      <td>677598.1836</td>\n",
              "      <td>1864166.572</td>\n",
              "      <td>4353892.017</td>\n",
              "      <td>433679.7772</td>\n",
              "      <td>5854575.608</td>\n",
              "      <td>4445890.861</td>\n",
              "      <td>6402426.269</td>\n",
              "      <td>3390803.016</td>\n",
              "      <td>550883.0739</td>\n",
              "      <td>1302564.560</td>\n",
              "      <td>2</td>\n",
              "      <td>4</td>\n",
              "      <td>25</td>\n",
              "      <td>2017-05-01</td>\n",
              "      <td>2017</td>\n",
              "    </tr>\n",
              "  </tbody>\n",
              "</table>\n",
              "<p>5 rows × 944 columns</p>\n",
              "</div>"
            ],
            "text/plain": [
              "            Quantity  Seasonal  Consumer_loans  ...  working_day     Date_2  Year\n",
              "date                                            ...                              \n",
              "2017-01-01  1.503548  0.699923     112579.4297  ...           25 2017-01-01  2017\n",
              "2017-02-01  0.076213  0.316156     113438.0949  ...           24 2017-02-01  2017\n",
              "2017-03-01 -1.346258 -0.267695     114667.2587  ...           26 2017-03-01  2017\n",
              "2017-04-01 -2.122585 -2.419870     115386.4634  ...           23 2017-04-01  2017\n",
              "2017-05-01 -0.665067 -0.644222     116440.6893  ...           25 2017-05-01  2017\n",
              "\n",
              "[5 rows x 944 columns]"
            ]
          },
          "metadata": {},
          "execution_count": 86
        }
      ]
    },
    {
      "cell_type": "code",
      "metadata": {
        "id": "UhBHbAl9pwG-"
      },
      "source": [
        "Boxplot_data['Date_2'] = pd.to_datetime(Boxplot_data['Date_2'])\n",
        "# add a column for Year\n",
        "Boxplot_data['Month'] = Boxplot_data['Date_2'].dt.month"
      ],
      "execution_count": 87,
      "outputs": []
    },
    {
      "cell_type": "code",
      "metadata": {
        "colab": {
          "base_uri": "https://localhost:8080/",
          "height": 381
        },
        "id": "oVMXAuhZp5C9",
        "outputId": "5cd7d83f-8675-4d96-c55d-2db4345098d6"
      },
      "source": [
        "Boxplot_data.head()"
      ],
      "execution_count": 88,
      "outputs": [
        {
          "output_type": "execute_result",
          "data": {
            "text/html": [
              "<div>\n",
              "<style scoped>\n",
              "    .dataframe tbody tr th:only-of-type {\n",
              "        vertical-align: middle;\n",
              "    }\n",
              "\n",
              "    .dataframe tbody tr th {\n",
              "        vertical-align: top;\n",
              "    }\n",
              "\n",
              "    .dataframe thead th {\n",
              "        text-align: right;\n",
              "    }\n",
              "</style>\n",
              "<table border=\"1\" class=\"dataframe\">\n",
              "  <thead>\n",
              "    <tr style=\"text-align: right;\">\n",
              "      <th></th>\n",
              "      <th>Quantity</th>\n",
              "      <th>Seasonal</th>\n",
              "      <th>Consumer_loans</th>\n",
              "      <th>Construction_lic_unt</th>\n",
              "      <th>Construction_lic_area</th>\n",
              "      <th>Construction_lic_unt_SI</th>\n",
              "      <th>Construction_lic_unt_NO_SI</th>\n",
              "      <th>Construction_lic_area_SI</th>\n",
              "      <th>Construction_lic_area_NO_SI</th>\n",
              "      <th>Gray_cement_prod</th>\n",
              "      <th>Gray_cement_dispatch</th>\n",
              "      <th>Gray_cement_dispatch_Factory</th>\n",
              "      <th>Gray_cement_dispatch_comercial</th>\n",
              "      <th>Gray_cement_dispatch_contractor</th>\n",
              "      <th>Gray_cement_dispatch_other</th>\n",
              "      <th>DTF(interest_rate)</th>\n",
              "      <th>GDP_Constr</th>\n",
              "      <th>GDP_Total</th>\n",
              "      <th>Inflation</th>\n",
              "      <th>USD_exchange</th>\n",
              "      <th>Oil-brent</th>\n",
              "      <th>Oil_WTI</th>\n",
              "      <th>ISE</th>\n",
              "      <th>ICC</th>\n",
              "      <th>IEC</th>\n",
              "      <th>ICE</th>\n",
              "      <th>Unemployment%</th>\n",
              "      <th>RADAR_Constr</th>\n",
              "      <th>RADAR_Rev</th>\n",
              "      <th>RADAR_Toilets</th>\n",
              "      <th>RADAR_HomeAppliance</th>\n",
              "      <th>RADAR_Paint</th>\n",
              "      <th>RADAR_Furniture</th>\n",
              "      <th>RADAR_Tools</th>\n",
              "      <th>RADAR_Elect</th>\n",
              "      <th>RADAR_Plumbing</th>\n",
              "      <th>RADAR_Wood</th>\n",
              "      <th>RADAR_Supply</th>\n",
              "      <th>RADAR_Remodel</th>\n",
              "      <th>Construction_lic_area/unt</th>\n",
              "      <th>...</th>\n",
              "      <th>Treasury_loanlag_8</th>\n",
              "      <th>Housing_loanlag_8</th>\n",
              "      <th>Consumer_creditlag_9</th>\n",
              "      <th>Consumer_microcreditlag_9</th>\n",
              "      <th>Ordinary_creditlag_9</th>\n",
              "      <th>Preferencial_creditlag_9</th>\n",
              "      <th>loan_overdraftslag_9</th>\n",
              "      <th>Credit_cardlag_9</th>\n",
              "      <th>Treasury_loanlag_9</th>\n",
              "      <th>Housing_loanlag_9</th>\n",
              "      <th>Consumer_creditlag_10</th>\n",
              "      <th>Consumer_microcreditlag_10</th>\n",
              "      <th>Ordinary_creditlag_10</th>\n",
              "      <th>Preferencial_creditlag_10</th>\n",
              "      <th>loan_overdraftslag_10</th>\n",
              "      <th>Credit_cardlag_10</th>\n",
              "      <th>Treasury_loanlag_10</th>\n",
              "      <th>Housing_loanlag_10</th>\n",
              "      <th>Consumer_creditlag_11</th>\n",
              "      <th>Consumer_microcreditlag_11</th>\n",
              "      <th>Ordinary_creditlag_11</th>\n",
              "      <th>Preferencial_creditlag_11</th>\n",
              "      <th>loan_overdraftslag_11</th>\n",
              "      <th>Credit_cardlag_11</th>\n",
              "      <th>Treasury_loanlag_11</th>\n",
              "      <th>Housing_loanlag_11</th>\n",
              "      <th>Consumer_creditlag_12</th>\n",
              "      <th>Consumer_microcreditlag_12</th>\n",
              "      <th>Ordinary_creditlag_12</th>\n",
              "      <th>Preferencial_creditlag_12</th>\n",
              "      <th>loan_overdraftslag_12</th>\n",
              "      <th>Credit_cardlag_12</th>\n",
              "      <th>Treasury_loanlag_12</th>\n",
              "      <th>Housing_loanlag_12</th>\n",
              "      <th>holiday</th>\n",
              "      <th>sunday</th>\n",
              "      <th>working_day</th>\n",
              "      <th>Date_2</th>\n",
              "      <th>Year</th>\n",
              "      <th>Month</th>\n",
              "    </tr>\n",
              "    <tr>\n",
              "      <th>date</th>\n",
              "      <th></th>\n",
              "      <th></th>\n",
              "      <th></th>\n",
              "      <th></th>\n",
              "      <th></th>\n",
              "      <th></th>\n",
              "      <th></th>\n",
              "      <th></th>\n",
              "      <th></th>\n",
              "      <th></th>\n",
              "      <th></th>\n",
              "      <th></th>\n",
              "      <th></th>\n",
              "      <th></th>\n",
              "      <th></th>\n",
              "      <th></th>\n",
              "      <th></th>\n",
              "      <th></th>\n",
              "      <th></th>\n",
              "      <th></th>\n",
              "      <th></th>\n",
              "      <th></th>\n",
              "      <th></th>\n",
              "      <th></th>\n",
              "      <th></th>\n",
              "      <th></th>\n",
              "      <th></th>\n",
              "      <th></th>\n",
              "      <th></th>\n",
              "      <th></th>\n",
              "      <th></th>\n",
              "      <th></th>\n",
              "      <th></th>\n",
              "      <th></th>\n",
              "      <th></th>\n",
              "      <th></th>\n",
              "      <th></th>\n",
              "      <th></th>\n",
              "      <th></th>\n",
              "      <th></th>\n",
              "      <th></th>\n",
              "      <th></th>\n",
              "      <th></th>\n",
              "      <th></th>\n",
              "      <th></th>\n",
              "      <th></th>\n",
              "      <th></th>\n",
              "      <th></th>\n",
              "      <th></th>\n",
              "      <th></th>\n",
              "      <th></th>\n",
              "      <th></th>\n",
              "      <th></th>\n",
              "      <th></th>\n",
              "      <th></th>\n",
              "      <th></th>\n",
              "      <th></th>\n",
              "      <th></th>\n",
              "      <th></th>\n",
              "      <th></th>\n",
              "      <th></th>\n",
              "      <th></th>\n",
              "      <th></th>\n",
              "      <th></th>\n",
              "      <th></th>\n",
              "      <th></th>\n",
              "      <th></th>\n",
              "      <th></th>\n",
              "      <th></th>\n",
              "      <th></th>\n",
              "      <th></th>\n",
              "      <th></th>\n",
              "      <th></th>\n",
              "      <th></th>\n",
              "      <th></th>\n",
              "      <th></th>\n",
              "      <th></th>\n",
              "      <th></th>\n",
              "      <th></th>\n",
              "      <th></th>\n",
              "      <th></th>\n",
              "    </tr>\n",
              "  </thead>\n",
              "  <tbody>\n",
              "    <tr>\n",
              "      <th>2017-01-01</th>\n",
              "      <td>1.503548</td>\n",
              "      <td>0.699923</td>\n",
              "      <td>112579.4297</td>\n",
              "      <td>11303.0</td>\n",
              "      <td>1185131.0</td>\n",
              "      <td>3587.0</td>\n",
              "      <td>7716.0</td>\n",
              "      <td>229478.0</td>\n",
              "      <td>955653.0</td>\n",
              "      <td>897063.518</td>\n",
              "      <td>9.131904e+05</td>\n",
              "      <td>194276.0200</td>\n",
              "      <td>502084.8330</td>\n",
              "      <td>171559.9665</td>\n",
              "      <td>45269.5875</td>\n",
              "      <td>0.0694</td>\n",
              "      <td>14753.34784</td>\n",
              "      <td>206242.5680</td>\n",
              "      <td>5.47</td>\n",
              "      <td>2944.65</td>\n",
              "      <td>52.19</td>\n",
              "      <td>52.81</td>\n",
              "      <td>102.548972</td>\n",
              "      <td>-30.2</td>\n",
              "      <td>-28.3</td>\n",
              "      <td>-33.1</td>\n",
              "      <td>11.733267</td>\n",
              "      <td>1.044525e+11</td>\n",
              "      <td>1.323489e+11</td>\n",
              "      <td>1.727682e+11</td>\n",
              "      <td>1.050914e+11</td>\n",
              "      <td>8.847567e+10</td>\n",
              "      <td>8.354725e+10</td>\n",
              "      <td>5.008444e+10</td>\n",
              "      <td>9.372000e+10</td>\n",
              "      <td>3.037115e+10</td>\n",
              "      <td>3.136015e+10</td>\n",
              "      <td>1.585430e+11</td>\n",
              "      <td>1.050763e+12</td>\n",
              "      <td>104.851013</td>\n",
              "      <td>...</td>\n",
              "      <td>550883.0739</td>\n",
              "      <td>1302564.560</td>\n",
              "      <td>4680431.000</td>\n",
              "      <td>460632.0000</td>\n",
              "      <td>5702443.000</td>\n",
              "      <td>4657354.000</td>\n",
              "      <td>7012296.000</td>\n",
              "      <td>3283417.000</td>\n",
              "      <td>549789.0000</td>\n",
              "      <td>1454672.000</td>\n",
              "      <td>4941981.754</td>\n",
              "      <td>531850.1926</td>\n",
              "      <td>7315235.649</td>\n",
              "      <td>6120086.089</td>\n",
              "      <td>8140200.383</td>\n",
              "      <td>3814229.013</td>\n",
              "      <td>632387.5921</td>\n",
              "      <td>1627959.289</td>\n",
              "      <td>4068020.900</td>\n",
              "      <td>438682.2679</td>\n",
              "      <td>6513619.182</td>\n",
              "      <td>6137144.374</td>\n",
              "      <td>6675101.294</td>\n",
              "      <td>2989980.729</td>\n",
              "      <td>483448.3473</td>\n",
              "      <td>1298811.962</td>\n",
              "      <td>3106784.500</td>\n",
              "      <td>386289.5525</td>\n",
              "      <td>4875376.339</td>\n",
              "      <td>4791146.877</td>\n",
              "      <td>5996088.922</td>\n",
              "      <td>3013612.505</td>\n",
              "      <td>470541.3290</td>\n",
              "      <td>1093819.181</td>\n",
              "      <td>1</td>\n",
              "      <td>5</td>\n",
              "      <td>25</td>\n",
              "      <td>2017-01-01</td>\n",
              "      <td>2017</td>\n",
              "      <td>1</td>\n",
              "    </tr>\n",
              "    <tr>\n",
              "      <th>2017-02-01</th>\n",
              "      <td>0.076213</td>\n",
              "      <td>0.316156</td>\n",
              "      <td>113438.0949</td>\n",
              "      <td>16187.0</td>\n",
              "      <td>1590979.0</td>\n",
              "      <td>4659.0</td>\n",
              "      <td>11528.0</td>\n",
              "      <td>272961.0</td>\n",
              "      <td>1318018.0</td>\n",
              "      <td>1025704.960</td>\n",
              "      <td>1.007968e+06</td>\n",
              "      <td>228359.8390</td>\n",
              "      <td>530826.1625</td>\n",
              "      <td>199731.6950</td>\n",
              "      <td>49050.6025</td>\n",
              "      <td>0.0678</td>\n",
              "      <td>14753.34784</td>\n",
              "      <td>206242.5680</td>\n",
              "      <td>5.18</td>\n",
              "      <td>2881.68</td>\n",
              "      <td>53.40</td>\n",
              "      <td>54.01</td>\n",
              "      <td>102.919033</td>\n",
              "      <td>-24.3</td>\n",
              "      <td>-19.9</td>\n",
              "      <td>-31.0</td>\n",
              "      <td>10.504292</td>\n",
              "      <td>1.574855e+11</td>\n",
              "      <td>8.351517e+10</td>\n",
              "      <td>1.096908e+11</td>\n",
              "      <td>8.252536e+10</td>\n",
              "      <td>8.582517e+10</td>\n",
              "      <td>1.522091e+11</td>\n",
              "      <td>5.056706e+10</td>\n",
              "      <td>6.034851e+10</td>\n",
              "      <td>2.138243e+10</td>\n",
              "      <td>2.216364e+10</td>\n",
              "      <td>2.104634e+11</td>\n",
              "      <td>1.036176e+12</td>\n",
              "      <td>98.287453</td>\n",
              "      <td>...</td>\n",
              "      <td>677598.1836</td>\n",
              "      <td>1864166.572</td>\n",
              "      <td>4353892.017</td>\n",
              "      <td>433679.7772</td>\n",
              "      <td>5854575.608</td>\n",
              "      <td>4445890.861</td>\n",
              "      <td>6402426.269</td>\n",
              "      <td>3390803.016</td>\n",
              "      <td>550883.0739</td>\n",
              "      <td>1302564.560</td>\n",
              "      <td>4680431.000</td>\n",
              "      <td>460632.0000</td>\n",
              "      <td>5702443.000</td>\n",
              "      <td>4657354.000</td>\n",
              "      <td>7012296.000</td>\n",
              "      <td>3283417.000</td>\n",
              "      <td>549789.0000</td>\n",
              "      <td>1454672.000</td>\n",
              "      <td>4941981.754</td>\n",
              "      <td>531850.1926</td>\n",
              "      <td>7315235.649</td>\n",
              "      <td>6120086.089</td>\n",
              "      <td>8140200.383</td>\n",
              "      <td>3814229.013</td>\n",
              "      <td>632387.5921</td>\n",
              "      <td>1627959.289</td>\n",
              "      <td>4068020.900</td>\n",
              "      <td>438682.2679</td>\n",
              "      <td>6513619.182</td>\n",
              "      <td>6137144.374</td>\n",
              "      <td>6675101.294</td>\n",
              "      <td>2989980.729</td>\n",
              "      <td>483448.3473</td>\n",
              "      <td>1298811.962</td>\n",
              "      <td>0</td>\n",
              "      <td>4</td>\n",
              "      <td>24</td>\n",
              "      <td>2017-02-01</td>\n",
              "      <td>2017</td>\n",
              "      <td>2</td>\n",
              "    </tr>\n",
              "    <tr>\n",
              "      <th>2017-03-01</th>\n",
              "      <td>-1.346258</td>\n",
              "      <td>-0.267695</td>\n",
              "      <td>114667.2587</td>\n",
              "      <td>15231.0</td>\n",
              "      <td>1438528.0</td>\n",
              "      <td>5687.0</td>\n",
              "      <td>9544.0</td>\n",
              "      <td>354904.0</td>\n",
              "      <td>1083624.0</td>\n",
              "      <td>1099919.669</td>\n",
              "      <td>1.083268e+06</td>\n",
              "      <td>241130.4555</td>\n",
              "      <td>568447.4880</td>\n",
              "      <td>218640.3600</td>\n",
              "      <td>55049.9274</td>\n",
              "      <td>0.0665</td>\n",
              "      <td>14753.34784</td>\n",
              "      <td>206242.5680</td>\n",
              "      <td>4.69</td>\n",
              "      <td>2943.49</td>\n",
              "      <td>50.43</td>\n",
              "      <td>50.60</td>\n",
              "      <td>102.162670</td>\n",
              "      <td>-21.1</td>\n",
              "      <td>-18.3</td>\n",
              "      <td>-25.4</td>\n",
              "      <td>9.704610</td>\n",
              "      <td>1.215372e+11</td>\n",
              "      <td>9.821204e+10</td>\n",
              "      <td>1.191497e+11</td>\n",
              "      <td>9.035507e+10</td>\n",
              "      <td>9.516119e+10</td>\n",
              "      <td>1.388751e+11</td>\n",
              "      <td>5.266968e+10</td>\n",
              "      <td>1.137228e+11</td>\n",
              "      <td>2.872364e+10</td>\n",
              "      <td>2.258877e+10</td>\n",
              "      <td>1.192185e+11</td>\n",
              "      <td>1.000214e+12</td>\n",
              "      <td>94.447377</td>\n",
              "      <td>...</td>\n",
              "      <td>478975.7922</td>\n",
              "      <td>1302860.802</td>\n",
              "      <td>5430241.566</td>\n",
              "      <td>555441.9044</td>\n",
              "      <td>7916686.911</td>\n",
              "      <td>6566090.070</td>\n",
              "      <td>7930536.312</td>\n",
              "      <td>4347164.930</td>\n",
              "      <td>677598.1836</td>\n",
              "      <td>1864166.572</td>\n",
              "      <td>4353892.017</td>\n",
              "      <td>433679.7772</td>\n",
              "      <td>5854575.608</td>\n",
              "      <td>4445890.861</td>\n",
              "      <td>6402426.269</td>\n",
              "      <td>3390803.016</td>\n",
              "      <td>550883.0739</td>\n",
              "      <td>1302564.560</td>\n",
              "      <td>4680431.000</td>\n",
              "      <td>460632.0000</td>\n",
              "      <td>5702443.000</td>\n",
              "      <td>4657354.000</td>\n",
              "      <td>7012296.000</td>\n",
              "      <td>3283417.000</td>\n",
              "      <td>549789.0000</td>\n",
              "      <td>1454672.000</td>\n",
              "      <td>4941981.754</td>\n",
              "      <td>531850.1926</td>\n",
              "      <td>7315235.649</td>\n",
              "      <td>6120086.089</td>\n",
              "      <td>8140200.383</td>\n",
              "      <td>3814229.013</td>\n",
              "      <td>632387.5921</td>\n",
              "      <td>1627959.289</td>\n",
              "      <td>1</td>\n",
              "      <td>4</td>\n",
              "      <td>26</td>\n",
              "      <td>2017-03-01</td>\n",
              "      <td>2017</td>\n",
              "      <td>3</td>\n",
              "    </tr>\n",
              "    <tr>\n",
              "      <th>2017-04-01</th>\n",
              "      <td>-2.122585</td>\n",
              "      <td>-2.419870</td>\n",
              "      <td>115386.4634</td>\n",
              "      <td>14093.0</td>\n",
              "      <td>1308557.0</td>\n",
              "      <td>5830.0</td>\n",
              "      <td>8263.0</td>\n",
              "      <td>394570.0</td>\n",
              "      <td>913987.0</td>\n",
              "      <td>976913.691</td>\n",
              "      <td>9.000049e+05</td>\n",
              "      <td>205596.3325</td>\n",
              "      <td>477863.7565</td>\n",
              "      <td>178911.5505</td>\n",
              "      <td>37633.3040</td>\n",
              "      <td>0.0653</td>\n",
              "      <td>14981.00793</td>\n",
              "      <td>207747.7702</td>\n",
              "      <td>4.66</td>\n",
              "      <td>2873.55</td>\n",
              "      <td>49.33</td>\n",
              "      <td>49.33</td>\n",
              "      <td>102.983586</td>\n",
              "      <td>-12.8</td>\n",
              "      <td>-10.9</td>\n",
              "      <td>-15.7</td>\n",
              "      <td>8.907718</td>\n",
              "      <td>1.050589e+11</td>\n",
              "      <td>1.250024e+11</td>\n",
              "      <td>1.243045e+11</td>\n",
              "      <td>1.099748e+11</td>\n",
              "      <td>8.874865e+10</td>\n",
              "      <td>9.272528e+10</td>\n",
              "      <td>5.317580e+10</td>\n",
              "      <td>1.235185e+11</td>\n",
              "      <td>2.542596e+10</td>\n",
              "      <td>1.223621e+10</td>\n",
              "      <td>1.243762e+11</td>\n",
              "      <td>9.845472e+11</td>\n",
              "      <td>92.851558</td>\n",
              "      <td>...</td>\n",
              "      <td>786453.6177</td>\n",
              "      <td>1665857.097</td>\n",
              "      <td>4182512.912</td>\n",
              "      <td>427158.3795</td>\n",
              "      <td>5430545.717</td>\n",
              "      <td>4119152.514</td>\n",
              "      <td>6258157.459</td>\n",
              "      <td>3447128.397</td>\n",
              "      <td>478975.7922</td>\n",
              "      <td>1302860.802</td>\n",
              "      <td>5430241.566</td>\n",
              "      <td>555441.9044</td>\n",
              "      <td>7916686.911</td>\n",
              "      <td>6566090.070</td>\n",
              "      <td>7930536.312</td>\n",
              "      <td>4347164.930</td>\n",
              "      <td>677598.1836</td>\n",
              "      <td>1864166.572</td>\n",
              "      <td>4353892.017</td>\n",
              "      <td>433679.7772</td>\n",
              "      <td>5854575.608</td>\n",
              "      <td>4445890.861</td>\n",
              "      <td>6402426.269</td>\n",
              "      <td>3390803.016</td>\n",
              "      <td>550883.0739</td>\n",
              "      <td>1302564.560</td>\n",
              "      <td>4680431.000</td>\n",
              "      <td>460632.0000</td>\n",
              "      <td>5702443.000</td>\n",
              "      <td>4657354.000</td>\n",
              "      <td>7012296.000</td>\n",
              "      <td>3283417.000</td>\n",
              "      <td>549789.0000</td>\n",
              "      <td>1454672.000</td>\n",
              "      <td>2</td>\n",
              "      <td>5</td>\n",
              "      <td>23</td>\n",
              "      <td>2017-04-01</td>\n",
              "      <td>2017</td>\n",
              "      <td>4</td>\n",
              "    </tr>\n",
              "    <tr>\n",
              "      <th>2017-05-01</th>\n",
              "      <td>-0.665067</td>\n",
              "      <td>-0.644222</td>\n",
              "      <td>116440.6893</td>\n",
              "      <td>13645.0</td>\n",
              "      <td>1449398.0</td>\n",
              "      <td>3766.0</td>\n",
              "      <td>9879.0</td>\n",
              "      <td>254338.0</td>\n",
              "      <td>1195060.0</td>\n",
              "      <td>1021787.442</td>\n",
              "      <td>9.990460e+05</td>\n",
              "      <td>227246.8955</td>\n",
              "      <td>521968.2200</td>\n",
              "      <td>204522.2195</td>\n",
              "      <td>45308.6685</td>\n",
              "      <td>0.0617</td>\n",
              "      <td>14981.00793</td>\n",
              "      <td>207747.7702</td>\n",
              "      <td>4.37</td>\n",
              "      <td>2924.00</td>\n",
              "      <td>48.69</td>\n",
              "      <td>48.32</td>\n",
              "      <td>103.070062</td>\n",
              "      <td>-16.9</td>\n",
              "      <td>-12.4</td>\n",
              "      <td>-23.7</td>\n",
              "      <td>9.417001</td>\n",
              "      <td>8.694237e+10</td>\n",
              "      <td>1.153829e+11</td>\n",
              "      <td>1.176807e+11</td>\n",
              "      <td>8.701007e+10</td>\n",
              "      <td>8.469597e+10</td>\n",
              "      <td>8.291499e+10</td>\n",
              "      <td>4.744757e+10</td>\n",
              "      <td>1.155134e+11</td>\n",
              "      <td>2.556480e+10</td>\n",
              "      <td>2.217084e+10</td>\n",
              "      <td>2.235675e+11</td>\n",
              "      <td>1.008891e+12</td>\n",
              "      <td>106.221913</td>\n",
              "      <td>...</td>\n",
              "      <td>546330.1638</td>\n",
              "      <td>1455228.844</td>\n",
              "      <td>5221504.230</td>\n",
              "      <td>542565.5737</td>\n",
              "      <td>7116995.809</td>\n",
              "      <td>6053780.975</td>\n",
              "      <td>7501101.418</td>\n",
              "      <td>4264839.340</td>\n",
              "      <td>786453.6177</td>\n",
              "      <td>1665857.097</td>\n",
              "      <td>4182512.912</td>\n",
              "      <td>427158.3795</td>\n",
              "      <td>5430545.717</td>\n",
              "      <td>4119152.514</td>\n",
              "      <td>6258157.459</td>\n",
              "      <td>3447128.397</td>\n",
              "      <td>478975.7922</td>\n",
              "      <td>1302860.802</td>\n",
              "      <td>5430241.566</td>\n",
              "      <td>555441.9044</td>\n",
              "      <td>7916686.911</td>\n",
              "      <td>6566090.070</td>\n",
              "      <td>7930536.312</td>\n",
              "      <td>4347164.930</td>\n",
              "      <td>677598.1836</td>\n",
              "      <td>1864166.572</td>\n",
              "      <td>4353892.017</td>\n",
              "      <td>433679.7772</td>\n",
              "      <td>5854575.608</td>\n",
              "      <td>4445890.861</td>\n",
              "      <td>6402426.269</td>\n",
              "      <td>3390803.016</td>\n",
              "      <td>550883.0739</td>\n",
              "      <td>1302564.560</td>\n",
              "      <td>2</td>\n",
              "      <td>4</td>\n",
              "      <td>25</td>\n",
              "      <td>2017-05-01</td>\n",
              "      <td>2017</td>\n",
              "      <td>5</td>\n",
              "    </tr>\n",
              "  </tbody>\n",
              "</table>\n",
              "<p>5 rows × 945 columns</p>\n",
              "</div>"
            ],
            "text/plain": [
              "            Quantity  Seasonal  Consumer_loans  ...     Date_2  Year  Month\n",
              "date                                            ...                        \n",
              "2017-01-01  1.503548  0.699923     112579.4297  ... 2017-01-01  2017      1\n",
              "2017-02-01  0.076213  0.316156     113438.0949  ... 2017-02-01  2017      2\n",
              "2017-03-01 -1.346258 -0.267695     114667.2587  ... 2017-03-01  2017      3\n",
              "2017-04-01 -2.122585 -2.419870     115386.4634  ... 2017-04-01  2017      4\n",
              "2017-05-01 -0.665067 -0.644222     116440.6893  ... 2017-05-01  2017      5\n",
              "\n",
              "[5 rows x 945 columns]"
            ]
          },
          "metadata": {},
          "execution_count": 88
        }
      ]
    },
    {
      "cell_type": "code",
      "metadata": {
        "id": "8MJxcgFdp4_i"
      },
      "source": [
        "import calendar\n",
        "#df['Month'] = df['Month'].apply(lambda x: calendar.month_abbr[x])\n",
        "Boxplot_data['Month'] = Boxplot_data['Month'].apply(lambda x: calendar.month_abbr[x])"
      ],
      "execution_count": 90,
      "outputs": []
    },
    {
      "cell_type": "code",
      "metadata": {
        "colab": {
          "base_uri": "https://localhost:8080/",
          "height": 381
        },
        "id": "iWVr4lN0p48I",
        "outputId": "95408348-762e-4654-ff6a-1e6c39e8db0c"
      },
      "source": [
        "Boxplot_data.head()"
      ],
      "execution_count": 91,
      "outputs": [
        {
          "output_type": "execute_result",
          "data": {
            "text/html": [
              "<div>\n",
              "<style scoped>\n",
              "    .dataframe tbody tr th:only-of-type {\n",
              "        vertical-align: middle;\n",
              "    }\n",
              "\n",
              "    .dataframe tbody tr th {\n",
              "        vertical-align: top;\n",
              "    }\n",
              "\n",
              "    .dataframe thead th {\n",
              "        text-align: right;\n",
              "    }\n",
              "</style>\n",
              "<table border=\"1\" class=\"dataframe\">\n",
              "  <thead>\n",
              "    <tr style=\"text-align: right;\">\n",
              "      <th></th>\n",
              "      <th>Quantity</th>\n",
              "      <th>Seasonal</th>\n",
              "      <th>Consumer_loans</th>\n",
              "      <th>Construction_lic_unt</th>\n",
              "      <th>Construction_lic_area</th>\n",
              "      <th>Construction_lic_unt_SI</th>\n",
              "      <th>Construction_lic_unt_NO_SI</th>\n",
              "      <th>Construction_lic_area_SI</th>\n",
              "      <th>Construction_lic_area_NO_SI</th>\n",
              "      <th>Gray_cement_prod</th>\n",
              "      <th>Gray_cement_dispatch</th>\n",
              "      <th>Gray_cement_dispatch_Factory</th>\n",
              "      <th>Gray_cement_dispatch_comercial</th>\n",
              "      <th>Gray_cement_dispatch_contractor</th>\n",
              "      <th>Gray_cement_dispatch_other</th>\n",
              "      <th>DTF(interest_rate)</th>\n",
              "      <th>GDP_Constr</th>\n",
              "      <th>GDP_Total</th>\n",
              "      <th>Inflation</th>\n",
              "      <th>USD_exchange</th>\n",
              "      <th>Oil-brent</th>\n",
              "      <th>Oil_WTI</th>\n",
              "      <th>ISE</th>\n",
              "      <th>ICC</th>\n",
              "      <th>IEC</th>\n",
              "      <th>ICE</th>\n",
              "      <th>Unemployment%</th>\n",
              "      <th>RADAR_Constr</th>\n",
              "      <th>RADAR_Rev</th>\n",
              "      <th>RADAR_Toilets</th>\n",
              "      <th>RADAR_HomeAppliance</th>\n",
              "      <th>RADAR_Paint</th>\n",
              "      <th>RADAR_Furniture</th>\n",
              "      <th>RADAR_Tools</th>\n",
              "      <th>RADAR_Elect</th>\n",
              "      <th>RADAR_Plumbing</th>\n",
              "      <th>RADAR_Wood</th>\n",
              "      <th>RADAR_Supply</th>\n",
              "      <th>RADAR_Remodel</th>\n",
              "      <th>Construction_lic_area/unt</th>\n",
              "      <th>...</th>\n",
              "      <th>Treasury_loanlag_8</th>\n",
              "      <th>Housing_loanlag_8</th>\n",
              "      <th>Consumer_creditlag_9</th>\n",
              "      <th>Consumer_microcreditlag_9</th>\n",
              "      <th>Ordinary_creditlag_9</th>\n",
              "      <th>Preferencial_creditlag_9</th>\n",
              "      <th>loan_overdraftslag_9</th>\n",
              "      <th>Credit_cardlag_9</th>\n",
              "      <th>Treasury_loanlag_9</th>\n",
              "      <th>Housing_loanlag_9</th>\n",
              "      <th>Consumer_creditlag_10</th>\n",
              "      <th>Consumer_microcreditlag_10</th>\n",
              "      <th>Ordinary_creditlag_10</th>\n",
              "      <th>Preferencial_creditlag_10</th>\n",
              "      <th>loan_overdraftslag_10</th>\n",
              "      <th>Credit_cardlag_10</th>\n",
              "      <th>Treasury_loanlag_10</th>\n",
              "      <th>Housing_loanlag_10</th>\n",
              "      <th>Consumer_creditlag_11</th>\n",
              "      <th>Consumer_microcreditlag_11</th>\n",
              "      <th>Ordinary_creditlag_11</th>\n",
              "      <th>Preferencial_creditlag_11</th>\n",
              "      <th>loan_overdraftslag_11</th>\n",
              "      <th>Credit_cardlag_11</th>\n",
              "      <th>Treasury_loanlag_11</th>\n",
              "      <th>Housing_loanlag_11</th>\n",
              "      <th>Consumer_creditlag_12</th>\n",
              "      <th>Consumer_microcreditlag_12</th>\n",
              "      <th>Ordinary_creditlag_12</th>\n",
              "      <th>Preferencial_creditlag_12</th>\n",
              "      <th>loan_overdraftslag_12</th>\n",
              "      <th>Credit_cardlag_12</th>\n",
              "      <th>Treasury_loanlag_12</th>\n",
              "      <th>Housing_loanlag_12</th>\n",
              "      <th>holiday</th>\n",
              "      <th>sunday</th>\n",
              "      <th>working_day</th>\n",
              "      <th>Date_2</th>\n",
              "      <th>Year</th>\n",
              "      <th>Month</th>\n",
              "    </tr>\n",
              "    <tr>\n",
              "      <th>date</th>\n",
              "      <th></th>\n",
              "      <th></th>\n",
              "      <th></th>\n",
              "      <th></th>\n",
              "      <th></th>\n",
              "      <th></th>\n",
              "      <th></th>\n",
              "      <th></th>\n",
              "      <th></th>\n",
              "      <th></th>\n",
              "      <th></th>\n",
              "      <th></th>\n",
              "      <th></th>\n",
              "      <th></th>\n",
              "      <th></th>\n",
              "      <th></th>\n",
              "      <th></th>\n",
              "      <th></th>\n",
              "      <th></th>\n",
              "      <th></th>\n",
              "      <th></th>\n",
              "      <th></th>\n",
              "      <th></th>\n",
              "      <th></th>\n",
              "      <th></th>\n",
              "      <th></th>\n",
              "      <th></th>\n",
              "      <th></th>\n",
              "      <th></th>\n",
              "      <th></th>\n",
              "      <th></th>\n",
              "      <th></th>\n",
              "      <th></th>\n",
              "      <th></th>\n",
              "      <th></th>\n",
              "      <th></th>\n",
              "      <th></th>\n",
              "      <th></th>\n",
              "      <th></th>\n",
              "      <th></th>\n",
              "      <th></th>\n",
              "      <th></th>\n",
              "      <th></th>\n",
              "      <th></th>\n",
              "      <th></th>\n",
              "      <th></th>\n",
              "      <th></th>\n",
              "      <th></th>\n",
              "      <th></th>\n",
              "      <th></th>\n",
              "      <th></th>\n",
              "      <th></th>\n",
              "      <th></th>\n",
              "      <th></th>\n",
              "      <th></th>\n",
              "      <th></th>\n",
              "      <th></th>\n",
              "      <th></th>\n",
              "      <th></th>\n",
              "      <th></th>\n",
              "      <th></th>\n",
              "      <th></th>\n",
              "      <th></th>\n",
              "      <th></th>\n",
              "      <th></th>\n",
              "      <th></th>\n",
              "      <th></th>\n",
              "      <th></th>\n",
              "      <th></th>\n",
              "      <th></th>\n",
              "      <th></th>\n",
              "      <th></th>\n",
              "      <th></th>\n",
              "      <th></th>\n",
              "      <th></th>\n",
              "      <th></th>\n",
              "      <th></th>\n",
              "      <th></th>\n",
              "      <th></th>\n",
              "      <th></th>\n",
              "      <th></th>\n",
              "    </tr>\n",
              "  </thead>\n",
              "  <tbody>\n",
              "    <tr>\n",
              "      <th>2017-01-01</th>\n",
              "      <td>1.503548</td>\n",
              "      <td>0.699923</td>\n",
              "      <td>112579.4297</td>\n",
              "      <td>11303.0</td>\n",
              "      <td>1185131.0</td>\n",
              "      <td>3587.0</td>\n",
              "      <td>7716.0</td>\n",
              "      <td>229478.0</td>\n",
              "      <td>955653.0</td>\n",
              "      <td>897063.518</td>\n",
              "      <td>9.131904e+05</td>\n",
              "      <td>194276.0200</td>\n",
              "      <td>502084.8330</td>\n",
              "      <td>171559.9665</td>\n",
              "      <td>45269.5875</td>\n",
              "      <td>0.0694</td>\n",
              "      <td>14753.34784</td>\n",
              "      <td>206242.5680</td>\n",
              "      <td>5.47</td>\n",
              "      <td>2944.65</td>\n",
              "      <td>52.19</td>\n",
              "      <td>52.81</td>\n",
              "      <td>102.548972</td>\n",
              "      <td>-30.2</td>\n",
              "      <td>-28.3</td>\n",
              "      <td>-33.1</td>\n",
              "      <td>11.733267</td>\n",
              "      <td>1.044525e+11</td>\n",
              "      <td>1.323489e+11</td>\n",
              "      <td>1.727682e+11</td>\n",
              "      <td>1.050914e+11</td>\n",
              "      <td>8.847567e+10</td>\n",
              "      <td>8.354725e+10</td>\n",
              "      <td>5.008444e+10</td>\n",
              "      <td>9.372000e+10</td>\n",
              "      <td>3.037115e+10</td>\n",
              "      <td>3.136015e+10</td>\n",
              "      <td>1.585430e+11</td>\n",
              "      <td>1.050763e+12</td>\n",
              "      <td>104.851013</td>\n",
              "      <td>...</td>\n",
              "      <td>550883.0739</td>\n",
              "      <td>1302564.560</td>\n",
              "      <td>4680431.000</td>\n",
              "      <td>460632.0000</td>\n",
              "      <td>5702443.000</td>\n",
              "      <td>4657354.000</td>\n",
              "      <td>7012296.000</td>\n",
              "      <td>3283417.000</td>\n",
              "      <td>549789.0000</td>\n",
              "      <td>1454672.000</td>\n",
              "      <td>4941981.754</td>\n",
              "      <td>531850.1926</td>\n",
              "      <td>7315235.649</td>\n",
              "      <td>6120086.089</td>\n",
              "      <td>8140200.383</td>\n",
              "      <td>3814229.013</td>\n",
              "      <td>632387.5921</td>\n",
              "      <td>1627959.289</td>\n",
              "      <td>4068020.900</td>\n",
              "      <td>438682.2679</td>\n",
              "      <td>6513619.182</td>\n",
              "      <td>6137144.374</td>\n",
              "      <td>6675101.294</td>\n",
              "      <td>2989980.729</td>\n",
              "      <td>483448.3473</td>\n",
              "      <td>1298811.962</td>\n",
              "      <td>3106784.500</td>\n",
              "      <td>386289.5525</td>\n",
              "      <td>4875376.339</td>\n",
              "      <td>4791146.877</td>\n",
              "      <td>5996088.922</td>\n",
              "      <td>3013612.505</td>\n",
              "      <td>470541.3290</td>\n",
              "      <td>1093819.181</td>\n",
              "      <td>1</td>\n",
              "      <td>5</td>\n",
              "      <td>25</td>\n",
              "      <td>2017-01-01</td>\n",
              "      <td>2017</td>\n",
              "      <td>Jan</td>\n",
              "    </tr>\n",
              "    <tr>\n",
              "      <th>2017-02-01</th>\n",
              "      <td>0.076213</td>\n",
              "      <td>0.316156</td>\n",
              "      <td>113438.0949</td>\n",
              "      <td>16187.0</td>\n",
              "      <td>1590979.0</td>\n",
              "      <td>4659.0</td>\n",
              "      <td>11528.0</td>\n",
              "      <td>272961.0</td>\n",
              "      <td>1318018.0</td>\n",
              "      <td>1025704.960</td>\n",
              "      <td>1.007968e+06</td>\n",
              "      <td>228359.8390</td>\n",
              "      <td>530826.1625</td>\n",
              "      <td>199731.6950</td>\n",
              "      <td>49050.6025</td>\n",
              "      <td>0.0678</td>\n",
              "      <td>14753.34784</td>\n",
              "      <td>206242.5680</td>\n",
              "      <td>5.18</td>\n",
              "      <td>2881.68</td>\n",
              "      <td>53.40</td>\n",
              "      <td>54.01</td>\n",
              "      <td>102.919033</td>\n",
              "      <td>-24.3</td>\n",
              "      <td>-19.9</td>\n",
              "      <td>-31.0</td>\n",
              "      <td>10.504292</td>\n",
              "      <td>1.574855e+11</td>\n",
              "      <td>8.351517e+10</td>\n",
              "      <td>1.096908e+11</td>\n",
              "      <td>8.252536e+10</td>\n",
              "      <td>8.582517e+10</td>\n",
              "      <td>1.522091e+11</td>\n",
              "      <td>5.056706e+10</td>\n",
              "      <td>6.034851e+10</td>\n",
              "      <td>2.138243e+10</td>\n",
              "      <td>2.216364e+10</td>\n",
              "      <td>2.104634e+11</td>\n",
              "      <td>1.036176e+12</td>\n",
              "      <td>98.287453</td>\n",
              "      <td>...</td>\n",
              "      <td>677598.1836</td>\n",
              "      <td>1864166.572</td>\n",
              "      <td>4353892.017</td>\n",
              "      <td>433679.7772</td>\n",
              "      <td>5854575.608</td>\n",
              "      <td>4445890.861</td>\n",
              "      <td>6402426.269</td>\n",
              "      <td>3390803.016</td>\n",
              "      <td>550883.0739</td>\n",
              "      <td>1302564.560</td>\n",
              "      <td>4680431.000</td>\n",
              "      <td>460632.0000</td>\n",
              "      <td>5702443.000</td>\n",
              "      <td>4657354.000</td>\n",
              "      <td>7012296.000</td>\n",
              "      <td>3283417.000</td>\n",
              "      <td>549789.0000</td>\n",
              "      <td>1454672.000</td>\n",
              "      <td>4941981.754</td>\n",
              "      <td>531850.1926</td>\n",
              "      <td>7315235.649</td>\n",
              "      <td>6120086.089</td>\n",
              "      <td>8140200.383</td>\n",
              "      <td>3814229.013</td>\n",
              "      <td>632387.5921</td>\n",
              "      <td>1627959.289</td>\n",
              "      <td>4068020.900</td>\n",
              "      <td>438682.2679</td>\n",
              "      <td>6513619.182</td>\n",
              "      <td>6137144.374</td>\n",
              "      <td>6675101.294</td>\n",
              "      <td>2989980.729</td>\n",
              "      <td>483448.3473</td>\n",
              "      <td>1298811.962</td>\n",
              "      <td>0</td>\n",
              "      <td>4</td>\n",
              "      <td>24</td>\n",
              "      <td>2017-02-01</td>\n",
              "      <td>2017</td>\n",
              "      <td>Feb</td>\n",
              "    </tr>\n",
              "    <tr>\n",
              "      <th>2017-03-01</th>\n",
              "      <td>-1.346258</td>\n",
              "      <td>-0.267695</td>\n",
              "      <td>114667.2587</td>\n",
              "      <td>15231.0</td>\n",
              "      <td>1438528.0</td>\n",
              "      <td>5687.0</td>\n",
              "      <td>9544.0</td>\n",
              "      <td>354904.0</td>\n",
              "      <td>1083624.0</td>\n",
              "      <td>1099919.669</td>\n",
              "      <td>1.083268e+06</td>\n",
              "      <td>241130.4555</td>\n",
              "      <td>568447.4880</td>\n",
              "      <td>218640.3600</td>\n",
              "      <td>55049.9274</td>\n",
              "      <td>0.0665</td>\n",
              "      <td>14753.34784</td>\n",
              "      <td>206242.5680</td>\n",
              "      <td>4.69</td>\n",
              "      <td>2943.49</td>\n",
              "      <td>50.43</td>\n",
              "      <td>50.60</td>\n",
              "      <td>102.162670</td>\n",
              "      <td>-21.1</td>\n",
              "      <td>-18.3</td>\n",
              "      <td>-25.4</td>\n",
              "      <td>9.704610</td>\n",
              "      <td>1.215372e+11</td>\n",
              "      <td>9.821204e+10</td>\n",
              "      <td>1.191497e+11</td>\n",
              "      <td>9.035507e+10</td>\n",
              "      <td>9.516119e+10</td>\n",
              "      <td>1.388751e+11</td>\n",
              "      <td>5.266968e+10</td>\n",
              "      <td>1.137228e+11</td>\n",
              "      <td>2.872364e+10</td>\n",
              "      <td>2.258877e+10</td>\n",
              "      <td>1.192185e+11</td>\n",
              "      <td>1.000214e+12</td>\n",
              "      <td>94.447377</td>\n",
              "      <td>...</td>\n",
              "      <td>478975.7922</td>\n",
              "      <td>1302860.802</td>\n",
              "      <td>5430241.566</td>\n",
              "      <td>555441.9044</td>\n",
              "      <td>7916686.911</td>\n",
              "      <td>6566090.070</td>\n",
              "      <td>7930536.312</td>\n",
              "      <td>4347164.930</td>\n",
              "      <td>677598.1836</td>\n",
              "      <td>1864166.572</td>\n",
              "      <td>4353892.017</td>\n",
              "      <td>433679.7772</td>\n",
              "      <td>5854575.608</td>\n",
              "      <td>4445890.861</td>\n",
              "      <td>6402426.269</td>\n",
              "      <td>3390803.016</td>\n",
              "      <td>550883.0739</td>\n",
              "      <td>1302564.560</td>\n",
              "      <td>4680431.000</td>\n",
              "      <td>460632.0000</td>\n",
              "      <td>5702443.000</td>\n",
              "      <td>4657354.000</td>\n",
              "      <td>7012296.000</td>\n",
              "      <td>3283417.000</td>\n",
              "      <td>549789.0000</td>\n",
              "      <td>1454672.000</td>\n",
              "      <td>4941981.754</td>\n",
              "      <td>531850.1926</td>\n",
              "      <td>7315235.649</td>\n",
              "      <td>6120086.089</td>\n",
              "      <td>8140200.383</td>\n",
              "      <td>3814229.013</td>\n",
              "      <td>632387.5921</td>\n",
              "      <td>1627959.289</td>\n",
              "      <td>1</td>\n",
              "      <td>4</td>\n",
              "      <td>26</td>\n",
              "      <td>2017-03-01</td>\n",
              "      <td>2017</td>\n",
              "      <td>Mar</td>\n",
              "    </tr>\n",
              "    <tr>\n",
              "      <th>2017-04-01</th>\n",
              "      <td>-2.122585</td>\n",
              "      <td>-2.419870</td>\n",
              "      <td>115386.4634</td>\n",
              "      <td>14093.0</td>\n",
              "      <td>1308557.0</td>\n",
              "      <td>5830.0</td>\n",
              "      <td>8263.0</td>\n",
              "      <td>394570.0</td>\n",
              "      <td>913987.0</td>\n",
              "      <td>976913.691</td>\n",
              "      <td>9.000049e+05</td>\n",
              "      <td>205596.3325</td>\n",
              "      <td>477863.7565</td>\n",
              "      <td>178911.5505</td>\n",
              "      <td>37633.3040</td>\n",
              "      <td>0.0653</td>\n",
              "      <td>14981.00793</td>\n",
              "      <td>207747.7702</td>\n",
              "      <td>4.66</td>\n",
              "      <td>2873.55</td>\n",
              "      <td>49.33</td>\n",
              "      <td>49.33</td>\n",
              "      <td>102.983586</td>\n",
              "      <td>-12.8</td>\n",
              "      <td>-10.9</td>\n",
              "      <td>-15.7</td>\n",
              "      <td>8.907718</td>\n",
              "      <td>1.050589e+11</td>\n",
              "      <td>1.250024e+11</td>\n",
              "      <td>1.243045e+11</td>\n",
              "      <td>1.099748e+11</td>\n",
              "      <td>8.874865e+10</td>\n",
              "      <td>9.272528e+10</td>\n",
              "      <td>5.317580e+10</td>\n",
              "      <td>1.235185e+11</td>\n",
              "      <td>2.542596e+10</td>\n",
              "      <td>1.223621e+10</td>\n",
              "      <td>1.243762e+11</td>\n",
              "      <td>9.845472e+11</td>\n",
              "      <td>92.851558</td>\n",
              "      <td>...</td>\n",
              "      <td>786453.6177</td>\n",
              "      <td>1665857.097</td>\n",
              "      <td>4182512.912</td>\n",
              "      <td>427158.3795</td>\n",
              "      <td>5430545.717</td>\n",
              "      <td>4119152.514</td>\n",
              "      <td>6258157.459</td>\n",
              "      <td>3447128.397</td>\n",
              "      <td>478975.7922</td>\n",
              "      <td>1302860.802</td>\n",
              "      <td>5430241.566</td>\n",
              "      <td>555441.9044</td>\n",
              "      <td>7916686.911</td>\n",
              "      <td>6566090.070</td>\n",
              "      <td>7930536.312</td>\n",
              "      <td>4347164.930</td>\n",
              "      <td>677598.1836</td>\n",
              "      <td>1864166.572</td>\n",
              "      <td>4353892.017</td>\n",
              "      <td>433679.7772</td>\n",
              "      <td>5854575.608</td>\n",
              "      <td>4445890.861</td>\n",
              "      <td>6402426.269</td>\n",
              "      <td>3390803.016</td>\n",
              "      <td>550883.0739</td>\n",
              "      <td>1302564.560</td>\n",
              "      <td>4680431.000</td>\n",
              "      <td>460632.0000</td>\n",
              "      <td>5702443.000</td>\n",
              "      <td>4657354.000</td>\n",
              "      <td>7012296.000</td>\n",
              "      <td>3283417.000</td>\n",
              "      <td>549789.0000</td>\n",
              "      <td>1454672.000</td>\n",
              "      <td>2</td>\n",
              "      <td>5</td>\n",
              "      <td>23</td>\n",
              "      <td>2017-04-01</td>\n",
              "      <td>2017</td>\n",
              "      <td>Apr</td>\n",
              "    </tr>\n",
              "    <tr>\n",
              "      <th>2017-05-01</th>\n",
              "      <td>-0.665067</td>\n",
              "      <td>-0.644222</td>\n",
              "      <td>116440.6893</td>\n",
              "      <td>13645.0</td>\n",
              "      <td>1449398.0</td>\n",
              "      <td>3766.0</td>\n",
              "      <td>9879.0</td>\n",
              "      <td>254338.0</td>\n",
              "      <td>1195060.0</td>\n",
              "      <td>1021787.442</td>\n",
              "      <td>9.990460e+05</td>\n",
              "      <td>227246.8955</td>\n",
              "      <td>521968.2200</td>\n",
              "      <td>204522.2195</td>\n",
              "      <td>45308.6685</td>\n",
              "      <td>0.0617</td>\n",
              "      <td>14981.00793</td>\n",
              "      <td>207747.7702</td>\n",
              "      <td>4.37</td>\n",
              "      <td>2924.00</td>\n",
              "      <td>48.69</td>\n",
              "      <td>48.32</td>\n",
              "      <td>103.070062</td>\n",
              "      <td>-16.9</td>\n",
              "      <td>-12.4</td>\n",
              "      <td>-23.7</td>\n",
              "      <td>9.417001</td>\n",
              "      <td>8.694237e+10</td>\n",
              "      <td>1.153829e+11</td>\n",
              "      <td>1.176807e+11</td>\n",
              "      <td>8.701007e+10</td>\n",
              "      <td>8.469597e+10</td>\n",
              "      <td>8.291499e+10</td>\n",
              "      <td>4.744757e+10</td>\n",
              "      <td>1.155134e+11</td>\n",
              "      <td>2.556480e+10</td>\n",
              "      <td>2.217084e+10</td>\n",
              "      <td>2.235675e+11</td>\n",
              "      <td>1.008891e+12</td>\n",
              "      <td>106.221913</td>\n",
              "      <td>...</td>\n",
              "      <td>546330.1638</td>\n",
              "      <td>1455228.844</td>\n",
              "      <td>5221504.230</td>\n",
              "      <td>542565.5737</td>\n",
              "      <td>7116995.809</td>\n",
              "      <td>6053780.975</td>\n",
              "      <td>7501101.418</td>\n",
              "      <td>4264839.340</td>\n",
              "      <td>786453.6177</td>\n",
              "      <td>1665857.097</td>\n",
              "      <td>4182512.912</td>\n",
              "      <td>427158.3795</td>\n",
              "      <td>5430545.717</td>\n",
              "      <td>4119152.514</td>\n",
              "      <td>6258157.459</td>\n",
              "      <td>3447128.397</td>\n",
              "      <td>478975.7922</td>\n",
              "      <td>1302860.802</td>\n",
              "      <td>5430241.566</td>\n",
              "      <td>555441.9044</td>\n",
              "      <td>7916686.911</td>\n",
              "      <td>6566090.070</td>\n",
              "      <td>7930536.312</td>\n",
              "      <td>4347164.930</td>\n",
              "      <td>677598.1836</td>\n",
              "      <td>1864166.572</td>\n",
              "      <td>4353892.017</td>\n",
              "      <td>433679.7772</td>\n",
              "      <td>5854575.608</td>\n",
              "      <td>4445890.861</td>\n",
              "      <td>6402426.269</td>\n",
              "      <td>3390803.016</td>\n",
              "      <td>550883.0739</td>\n",
              "      <td>1302564.560</td>\n",
              "      <td>2</td>\n",
              "      <td>4</td>\n",
              "      <td>25</td>\n",
              "      <td>2017-05-01</td>\n",
              "      <td>2017</td>\n",
              "      <td>May</td>\n",
              "    </tr>\n",
              "  </tbody>\n",
              "</table>\n",
              "<p>5 rows × 945 columns</p>\n",
              "</div>"
            ],
            "text/plain": [
              "            Quantity  Seasonal  Consumer_loans  ...     Date_2  Year  Month\n",
              "date                                            ...                        \n",
              "2017-01-01  1.503548  0.699923     112579.4297  ... 2017-01-01  2017    Jan\n",
              "2017-02-01  0.076213  0.316156     113438.0949  ... 2017-02-01  2017    Feb\n",
              "2017-03-01 -1.346258 -0.267695     114667.2587  ... 2017-03-01  2017    Mar\n",
              "2017-04-01 -2.122585 -2.419870     115386.4634  ... 2017-04-01  2017    Apr\n",
              "2017-05-01 -0.665067 -0.644222     116440.6893  ... 2017-05-01  2017    May\n",
              "\n",
              "[5 rows x 945 columns]"
            ]
          },
          "metadata": {},
          "execution_count": 91
        }
      ]
    },
    {
      "cell_type": "markdown",
      "metadata": {
        "id": "vj3t-XJOqtkP"
      },
      "source": [
        "## Box plot Year Over Year"
      ]
    },
    {
      "cell_type": "markdown",
      "metadata": {
        "id": "xqjQ8Kc_td1g"
      },
      "source": [
        "## Quantity"
      ]
    },
    {
      "cell_type": "code",
      "metadata": {
        "colab": {
          "base_uri": "https://localhost:8080/",
          "height": 294
        },
        "id": "96PwKSBYp44r",
        "outputId": "c7ce10ab-dcc1-451d-f46d-9e3d3386cc34"
      },
      "source": [
        "ax = sns.boxplot(x=\"Year\", y=\"Quantity\", data= Boxplot_data).set_title(\"Porcelana Quantity: Year Over Year\")"
      ],
      "execution_count": 94,
      "outputs": [
        {
          "output_type": "display_data",
          "data": {
            "image/png": "[encoded data removed]",
            "text/plain": [
              "<Figure size 432x288 with 1 Axes>"
            ]
          },
          "metadata": {
            "needs_background": "light"
          }
        }
      ]
    },
    {
      "cell_type": "markdown",
      "metadata": {
        "id": "vip706uCrGmI"
      },
      "source": [
        "## Boxplot Month over month"
      ]
    },
    {
      "cell_type": "code",
      "metadata": {
        "colab": {
          "base_uri": "https://localhost:8080/",
          "height": 294
        },
        "id": "a3nKvSXUrNsQ",
        "outputId": "e5b8d36e-ec63-486e-9724-0074587a1db1"
      },
      "source": [
        "ax = sns.boxplot(x=\"Month\", y=\"Quantity\", data= Boxplot_data).set_title(\"Porcelana Quantity: Monthly Year Over Year\")"
      ],
      "execution_count": 95,
      "outputs": [
        {
          "output_type": "display_data",
          "data": {
            "image/png": "[encoded data removed]",
            "text/plain": [
              "<Figure size 432x288 with 1 Axes>"
            ]
          },
          "metadata": {
            "needs_background": "light"
          }
        }
      ]
    },
    {
      "cell_type": "code",
      "metadata": {
        "colab": {
          "base_uri": "https://localhost:8080/"
        },
        "id": "idG_Tgzgl0cV",
        "outputId": "842bdacc-8fbc-4f8c-baaa-e7757cbf1e2d"
      },
      "source": [
        "# convert the Purchase Date to datetime\n",
        "df['Purchase Date'] = pd.to_datetime(df['Purchase Date'])\n",
        "# add a column for Year\n",
        "df['month'] = df['Purchase Date'].dt.month\n",
        "# print the dataframe\n",
        "print(df)"
      ],
      "execution_count": 58,
      "outputs": [
        {
          "output_type": "stream",
          "name": "stdout",
          "text": [
            "  Purchase Date  Sales  Year  month\n",
            "0    2020-12-29     10  2020     12\n",
            "1    2020-12-30      8  2020     12\n",
            "2    2020-12-31     14  2020     12\n",
            "3    2021-01-01     21  2021      1\n",
            "4    2021-01-02     16  2021      1\n",
            "5    2021-01-03     12  2021      1\n"
          ]
        }
      ]
    },
    {
      "cell_type": "markdown",
      "metadata": {
        "id": "3hiElZuluGVd"
      },
      "source": [
        "## Boxplot Gray_cement_dispatch_comercial\n"
      ]
    },
    {
      "cell_type": "code",
      "metadata": {
        "colab": {
          "base_uri": "https://localhost:8080/",
          "height": 294
        },
        "id": "t5bBLf9au01b",
        "outputId": "66cc5cda-2550-4b1f-a170-b40f01fa4764"
      },
      "source": [
        "ax = sns.boxplot(x=\"Year\", y=\"Gray_cement_dispatch_comercial\", data= Boxplot_data).set_title(\"Porcelana Gray_cement_dispatch_comercial: Year Over Year\")"
      ],
      "execution_count": 103,
      "outputs": [
        {
          "output_type": "display_data",
          "data": {
            "image/png": "[encoded data removed]",
            "text/plain": [
              "<Figure size 432x288 with 1 Axes>"
            ]
          },
          "metadata": {
            "needs_background": "light"
          }
        }
      ]
    },
    {
      "cell_type": "code",
      "metadata": {
        "colab": {
          "base_uri": "https://localhost:8080/",
          "height": 294
        },
        "id": "gNjSA3eauas6",
        "outputId": "c94ed1de-f4bd-4b9e-be67-6ccc95f4a032"
      },
      "source": [
        "ax = sns.boxplot(x=\"Month\", y=\"Gray_cement_dispatch_comercial\", data= Boxplot_data).set_title(\"Porcelana Gray_cement_dispatch_comercial: Monthly Year Over Year\")"
      ],
      "execution_count": 102,
      "outputs": [
        {
          "output_type": "display_data",
          "data": {
            "image/png": "[encoded data removed]",
            "text/plain": [
              "<Figure size 432x288 with 1 Axes>"
            ]
          },
          "metadata": {
            "needs_background": "light"
          }
        }
      ]
    },
    {
      "cell_type": "markdown",
      "metadata": {
        "id": "XeOPyDPXv1lx"
      },
      "source": [
        "## BoxplotGray_cement_dispatch_other"
      ]
    },
    {
      "cell_type": "code",
      "metadata": {
        "colab": {
          "base_uri": "https://localhost:8080/",
          "height": 294
        },
        "id": "hwpqEopDuaZM",
        "outputId": "ef40181d-c6fd-480d-9499-9bb47d7927a0"
      },
      "source": [
        "ax = sns.boxplot(x=\"Year\", y=\"Gray_cement_dispatch_other\", data= Boxplot_data).set_title(\"Gray_cement_dispatch_other: Year Over Year\")"
      ],
      "execution_count": 104,
      "outputs": [
        {
          "output_type": "display_data",
          "data": {
            "image/png": "[encoded data removed]",
            "text/plain": [
              "<Figure size 432x288 with 1 Axes>"
            ]
          },
          "metadata": {
            "needs_background": "light"
          }
        }
      ]
    },
    {
      "cell_type": "code",
      "metadata": {
        "colab": {
          "base_uri": "https://localhost:8080/",
          "height": 294
        },
        "id": "-WpWYVGTxIEe",
        "outputId": "1a049fb7-56dd-4178-ce95-56da18296dfc"
      },
      "source": [
        "ax = sns.boxplot(x=\"Month\", y=\"Gray_cement_dispatch_other\", data= Boxplot_data).set_title(\"Gray_cement_dispatch_other: Year Over Year\")"
      ],
      "execution_count": 105,
      "outputs": [
        {
          "output_type": "display_data",
          "data": {
            "image/png": "[encoded data removed]",
            "text/plain": [
              "<Figure size 432x288 with 1 Axes>"
            ]
          },
          "metadata": {
            "needs_background": "light"
          }
        }
      ]
    },
    {
      "cell_type": "markdown",
      "metadata": {
        "id": "I12IZrvExThN"
      },
      "source": [
        "# Boxplot Gray_cement_prod \n"
      ]
    },
    {
      "cell_type": "markdown",
      "metadata": {
        "id": "RA5Vmcujy6b4"
      },
      "source": [
        ""
      ]
    },
    {
      "cell_type": "code",
      "metadata": {
        "colab": {
          "base_uri": "https://localhost:8080/",
          "height": 294
        },
        "id": "8vM9OosPwtov",
        "outputId": "12b32342-2853-45f5-bd3c-8a93052888f1"
      },
      "source": [
        "ax = sns.boxplot(x=\"Year\", y=\"Gray_cement_prod\", data= Boxplot_data).set_title(\"Gray_cement_prod: Year Over Year\")"
      ],
      "execution_count": 106,
      "outputs": [
        {
          "output_type": "display_data",
          "data": {
            "image/png": "[encoded data removed]",
            "text/plain": [
              "<Figure size 432x288 with 1 Axes>"
            ]
          },
          "metadata": {
            "needs_background": "light"
          }
        }
      ]
    },
    {
      "cell_type": "code",
      "metadata": {
        "colab": {
          "base_uri": "https://localhost:8080/",
          "height": 294
        },
        "id": "-PfXG73xylap",
        "outputId": "06efe5be-c10f-4611-8789-e55f528fc3e2"
      },
      "source": [
        "ax = sns.boxplot(x=\"Month\", y=\"Gray_cement_prod\", data= Boxplot_data).set_title(\"Gray_cement_prod: Year Over Year\")"
      ],
      "execution_count": 107,
      "outputs": [
        {
          "output_type": "display_data",
          "data": {
            "image/png": "[encoded data removed]",
            "text/plain": [
              "<Figure size 432x288 with 1 Axes>"
            ]
          },
          "metadata": {
            "needs_background": "light"
          }
        }
      ]
    },
    {
      "cell_type": "markdown",
      "metadata": {
        "id": "wwvA0yxFy9Hb"
      },
      "source": [
        "# Boxplot Housing_total_sales "
      ]
    },
    {
      "cell_type": "code",
      "metadata": {
        "colab": {
          "base_uri": "https://localhost:8080/",
          "height": 294
        },
        "id": "KHTAbslAzGAH",
        "outputId": "e80b8128-3c21-445e-8cd4-12a44eb03d52"
      },
      "source": [
        "ax = sns.boxplot(x=\"Year\", y=\"Housing_total_sales\", data= Boxplot_data).set_title(\"Housing_total_sales: Year Over Year\")"
      ],
      "execution_count": 108,
      "outputs": [
        {
          "output_type": "display_data",
          "data": {
            "image/png": "[encoded data removed]",
            "text/plain": [
              "<Figure size 432x288 with 1 Axes>"
            ]
          },
          "metadata": {
            "needs_background": "light"
          }
        }
      ]
    },
    {
      "cell_type": "code",
      "metadata": {
        "colab": {
          "base_uri": "https://localhost:8080/",
          "height": 294
        },
        "id": "-gHyevxGzeVr",
        "outputId": "eae84924-cd7f-412a-cd1c-a80bb3272516"
      },
      "source": [
        "ax = sns.boxplot(x=\"Month\", y=\"Housing_total_sales\", data= Boxplot_data).set_title(\"Housing_total_sales: Year Over Year\")"
      ],
      "execution_count": 110,
      "outputs": [
        {
          "output_type": "display_data",
          "data": {
            "image/png": "[encoded data removed]",
            "text/plain": [
              "<Figure size 432x288 with 1 Axes>"
            ]
          },
          "metadata": {
            "needs_background": "light"
          }
        }
      ]
    },
    {
      "cell_type": "markdown",
      "metadata": {
        "id": "edom7Mxbz3rn"
      },
      "source": [
        "# Boxplot ISE"
      ]
    },
    {
      "cell_type": "code",
      "metadata": {
        "colab": {
          "base_uri": "https://localhost:8080/",
          "height": 294
        },
        "id": "mMJUlScR0AAa",
        "outputId": "cdddca26-b3ea-417b-f9ab-d585b089e74c"
      },
      "source": [
        "ax = sns.boxplot(x=\"Year\", y=\"ISE\", data= Boxplot_data).set_title(\"ISE: Year Over Year\")"
      ],
      "execution_count": 111,
      "outputs": [
        {
          "output_type": "display_data",
          "data": {
            "image/png": "[encoded data removed]",
            "text/plain": [
              "<Figure size 432x288 with 1 Axes>"
            ]
          },
          "metadata": {
            "needs_background": "light"
          }
        }
      ]
    },
    {
      "cell_type": "code",
      "metadata": {
        "colab": {
          "base_uri": "https://localhost:8080/",
          "height": 294
        },
        "id": "3cZ5G2YNz_7n",
        "outputId": "cbab1eb8-9ceb-48ca-f754-1ae22d9e3de1"
      },
      "source": [
        "ax = sns.boxplot(x=\"Month\", y=\"ISE\", data= Boxplot_data).set_title(\"ISE: Year Over Year\")"
      ],
      "execution_count": 114,
      "outputs": [
        {
          "output_type": "display_data",
          "data": {
            "image/png": "[encoded data removed]",
            "text/plain": [
              "<Figure size 432x288 with 1 Axes>"
            ]
          },
          "metadata": {
            "needs_background": "light"
          }
        }
      ]
    },
    {
      "cell_type": "markdown",
      "metadata": {
        "id": "RU8CnV-U1Fy5"
      },
      "source": [
        "# Boxplot Housing_total_sales_SI"
      ]
    },
    {
      "cell_type": "code",
      "metadata": {
        "colab": {
          "base_uri": "https://localhost:8080/",
          "height": 294
        },
        "id": "FeziPfcb1L2a",
        "outputId": "18d33a47-ee88-475e-b2f2-1f18c2ff329e"
      },
      "source": [
        "ax = sns.boxplot(x=\"Year\", y=\"Housing_total_sales_SI\", data= Boxplot_data).set_title(\"Housing_total_sales_SI: Year Over Year\")\n"
      ],
      "execution_count": 119,
      "outputs": [
        {
          "output_type": "display_data",
          "data": {
            "image/png": "[encoded data removed]",
            "text/plain": [
              "<Figure size 432x288 with 1 Axes>"
            ]
          },
          "metadata": {
            "needs_background": "light"
          }
        }
      ]
    },
    {
      "cell_type": "code",
      "metadata": {
        "colab": {
          "base_uri": "https://localhost:8080/",
          "height": 294
        },
        "id": "VCfjriWU1Lta",
        "outputId": "aece748b-d958-46f1-cc96-fbfc01153edd"
      },
      "source": [
        "ax = sns.boxplot(x=\"Month\", y=\"Housing_total_sales_SI\", data= Boxplot_data).set_title(\"Housing_total_sales_SI: Year Over Year\")"
      ],
      "execution_count": 120,
      "outputs": [
        {
          "output_type": "display_data",
          "data": {
            "image/png": "[encoded data removed]",
            "text/plain": [
              "<Figure size 432x288 with 1 Axes>"
            ]
          },
          "metadata": {
            "needs_background": "light"
          }
        }
      ]
    },
    {
      "cell_type": "markdown",
      "metadata": {
        "id": "lcvlQczD2lYi"
      },
      "source": [
        "# Boxplot working_day"
      ]
    },
    {
      "cell_type": "code",
      "metadata": {
        "colab": {
          "base_uri": "https://localhost:8080/",
          "height": 294
        },
        "id": "NNy4th1t1LlO",
        "outputId": "f3b1c322-175e-4003-be3d-54123cea4a27"
      },
      "source": [
        "ax = sns.boxplot(x=\"Year\", y=\"working_day\", data= Boxplot_data).set_title(\"Working_day : Year Over Year\")"
      ],
      "execution_count": 122,
      "outputs": [
        {
          "output_type": "display_data",
          "data": {
            "image/png": "[encoded data removed]",
            "text/plain": [
              "<Figure size 432x288 with 1 Axes>"
            ]
          },
          "metadata": {
            "needs_background": "light"
          }
        }
      ]
    },
    {
      "cell_type": "code",
      "metadata": {
        "colab": {
          "base_uri": "https://localhost:8080/",
          "height": 294
        },
        "id": "LK62GP9_28NP",
        "outputId": "c6ec6713-e672-486e-91ca-e47b14452606"
      },
      "source": [
        "ax = sns.boxplot(x=\"Month\", y=\"working_day\", data= Boxplot_data).set_title(\"Working_day : Year Over Year\")"
      ],
      "execution_count": 125,
      "outputs": [
        {
          "output_type": "display_data",
          "data": {
            "image/png": "[encoded data removed]",
            "text/plain": [
              "<Figure size 432x288 with 1 Axes>"
            ]
          },
          "metadata": {
            "needs_background": "light"
          }
        }
      ]
    },
    {
      "cell_type": "markdown",
      "metadata": {
        "id": "3AYhF-Ri3sBh"
      },
      "source": [
        "# Boxplot Consumer_microcredit"
      ]
    },
    {
      "cell_type": "code",
      "metadata": {
        "colab": {
          "base_uri": "https://localhost:8080/",
          "height": 294
        },
        "id": "dyPQxUP43b_T",
        "outputId": "b6d788cb-7703-4df5-dd67-399a6129a837"
      },
      "source": [
        "ax = sns.boxplot(x=\"Year\", y=\"Consumer_microcredit\", data= Boxplot_data).set_title(\"Consumer_microcredit: Year Over Year\")"
      ],
      "execution_count": 128,
      "outputs": [
        {
          "output_type": "display_data",
          "data": {
            "image/png": "[encoded data removed]",
            "text/plain": [
              "<Figure size 432x288 with 1 Axes>"
            ]
          },
          "metadata": {
            "needs_background": "light"
          }
        }
      ]
    },
    {
      "cell_type": "code",
      "metadata": {
        "colab": {
          "base_uri": "https://localhost:8080/",
          "height": 294
        },
        "id": "Scq8BEiE36Wu",
        "outputId": "d54a06af-22ae-412d-938d-f54f7d200c75"
      },
      "source": [
        "ax = sns.boxplot(x=\"Month\", y=\"Consumer_microcredit\", data= Boxplot_data).set_title(\"Consumer_microcredit: Year Over Year\")"
      ],
      "execution_count": 129,
      "outputs": [
        {
          "output_type": "display_data",
          "data": {
            "image/png": "[encoded data removed]",
            "text/plain": [
              "<Figure size 432x288 with 1 Axes>"
            ]
          },
          "metadata": {
            "needs_background": "light"
          }
        }
      ]
    },
    {
      "cell_type": "markdown",
      "metadata": {
        "id": "a-54WzWS4R1E"
      },
      "source": [
        "# Boxplot Gray_cement_dispatch_contractor"
      ]
    },
    {
      "cell_type": "code",
      "metadata": {
        "colab": {
          "base_uri": "https://localhost:8080/",
          "height": 294
        },
        "id": "O2_Py_1-4KCM",
        "outputId": "99971c72-2c4d-4efd-e69f-a8646074a97d"
      },
      "source": [
        "ax = sns.boxplot(x=\"Year\", y=\"Gray_cement_dispatch_contractor\", data= Boxplot_data).set_title(\"Gray_cement_dispatch_contractor: Year Over Year\")"
      ],
      "execution_count": 130,
      "outputs": [
        {
          "output_type": "display_data",
          "data": {
            "image/png": "[encoded data removed]",
            "text/plain": [
              "<Figure size 432x288 with 1 Axes>"
            ]
          },
          "metadata": {
            "needs_background": "light"
          }
        }
      ]
    },
    {
      "cell_type": "code",
      "metadata": {
        "colab": {
          "base_uri": "https://localhost:8080/",
          "height": 294
        },
        "id": "b6c-Eujq4J09",
        "outputId": "7ea009a9-a835-47d3-a83f-72d076dd1e88"
      },
      "source": [
        "ax = sns.boxplot(x=\"Month\", y=\"Gray_cement_dispatch_contractor\", data= Boxplot_data).set_title(\"Gray_cement_dispatch_contractor: Year Over Year\")\n"
      ],
      "execution_count": 134,
      "outputs": [
        {
          "output_type": "display_data",
          "data": {
            "image/png": "[encoded data removed]",
            "text/plain": [
              "<Figure size 432x288 with 1 Axes>"
            ]
          },
          "metadata": {
            "needs_background": "light"
          }
        }
      ]
    },
    {
      "cell_type": "markdown",
      "metadata": {
        "id": "32hzuvhp5mrY"
      },
      "source": [
        "# Clustered Plots"
      ]
    },
    {
      "cell_type": "code",
      "metadata": {
        "colab": {
          "base_uri": "https://localhost:8080/",
          "height": 466
        },
        "id": "1IxJmcrD5qc5",
        "outputId": "19aa13da-8055-4abd-f55d-aeda95f12c44"
      },
      "source": [
        "sns.boxplot(x=\"Year\", y=\"Gray_cement_dispatch_comercial\", data= Boxplot_data).set_title(\"Porcelana Gray_cement_dispatch_comercial: Year Over Year\",ax=axs[1])\n",
        "sns.boxplot(x=\"Year\", y=\"Gray_cement_dispatch_other\", data= Boxplot_data).set_title(\"Gray_cement_dispatch_other: Year Over Year\",ax=axs[2])"
      ],
      "execution_count": 141,
      "outputs": [
        {
          "output_type": "error",
          "ename": "NameError",
          "evalue": "ignored",
          "traceback": [
            "\u001b[0;31m---------------------------------------------------------------------------\u001b[0m",
            "\u001b[0;31mNameError\u001b[0m                                 Traceback (most recent call last)",
            "\u001b[0;32m<ipython-input-141-7b76ea8f3b35>\u001b[0m in \u001b[0;36m<module>\u001b[0;34m()\u001b[0m\n\u001b[0;32m----> 1\u001b[0;31m \u001b[0msns\u001b[0m\u001b[0;34m.\u001b[0m\u001b[0mboxplot\u001b[0m\u001b[0;34m(\u001b[0m\u001b[0mx\u001b[0m\u001b[0;34m=\u001b[0m\u001b[0;34m\"Year\"\u001b[0m\u001b[0;34m,\u001b[0m \u001b[0my\u001b[0m\u001b[0;34m=\u001b[0m\u001b[0;34m\"Gray_cement_dispatch_comercial\"\u001b[0m\u001b[0;34m,\u001b[0m \u001b[0mdata\u001b[0m\u001b[0;34m=\u001b[0m \u001b[0mBoxplot_data\u001b[0m\u001b[0;34m)\u001b[0m\u001b[0;34m.\u001b[0m\u001b[0mset_title\u001b[0m\u001b[0;34m(\u001b[0m\u001b[0;34m\"Porcelana Gray_cement_dispatch_comercial: Year Over Year\"\u001b[0m\u001b[0;34m,\u001b[0m\u001b[0max\u001b[0m\u001b[0;34m=\u001b[0m\u001b[0maxs\u001b[0m\u001b[0;34m[\u001b[0m\u001b[0;36m1\u001b[0m\u001b[0;34m]\u001b[0m\u001b[0;34m)\u001b[0m\u001b[0;34m\u001b[0m\u001b[0;34m\u001b[0m\u001b[0m\n\u001b[0m\u001b[1;32m      2\u001b[0m \u001b[0msns\u001b[0m\u001b[0;34m.\u001b[0m\u001b[0mboxplot\u001b[0m\u001b[0;34m(\u001b[0m\u001b[0mx\u001b[0m\u001b[0;34m=\u001b[0m\u001b[0;34m\"Year\"\u001b[0m\u001b[0;34m,\u001b[0m \u001b[0my\u001b[0m\u001b[0;34m=\u001b[0m\u001b[0;34m\"Gray_cement_dispatch_other\"\u001b[0m\u001b[0;34m,\u001b[0m \u001b[0mdata\u001b[0m\u001b[0;34m=\u001b[0m \u001b[0mBoxplot_data\u001b[0m\u001b[0;34m)\u001b[0m\u001b[0;34m.\u001b[0m\u001b[0mset_title\u001b[0m\u001b[0;34m(\u001b[0m\u001b[0;34m\"Gray_cement_dispatch_other: Year Over Year\"\u001b[0m\u001b[0;34m,\u001b[0m\u001b[0max\u001b[0m\u001b[0;34m=\u001b[0m\u001b[0maxs\u001b[0m\u001b[0;34m[\u001b[0m\u001b[0;36m2\u001b[0m\u001b[0;34m]\u001b[0m\u001b[0;34m)\u001b[0m\u001b[0;34m\u001b[0m\u001b[0;34m\u001b[0m\u001b[0m\n",
            "\u001b[0;31mNameError\u001b[0m: name 'axs' is not defined"
          ]
        },
        {
          "output_type": "display_data",
          "data": {
            "image/png": "[encoded data removed]",
            "text/plain": [
              "<Figure size 432x288 with 1 Axes>"
            ]
          },
          "metadata": {
            "needs_background": "light"
          }
        }
      ]
    },
    {
      "cell_type": "code",
      "metadata": {
        "id": "y-oKH7wc5qoR"
      },
      "source": [
        ""
      ],
      "execution_count": null,
      "outputs": []
    },
    {
      "cell_type": "code",
      "metadata": {
        "id": "TTBE25cG5qh9"
      },
      "source": [
        ""
      ],
      "execution_count": null,
      "outputs": []
    },
    {
      "cell_type": "markdown",
      "metadata": {
        "id": "4KMshhim4JgX"
      },
      "source": [
        ""
      ]
    },
    {
      "cell_type": "code",
      "metadata": {
        "colab": {
          "base_uri": "https://localhost:8080/"
        },
        "id": "9-R00JGzJwZI",
        "outputId": "6880795a-a1ac-4d9c-d713-2c3e1e0c32ee"
      },
      "source": [
        "# First get the correlations\n",
        "corr = total.corr()['Quantity'].sort_values(ascending=False)\n",
        "print(corr[corr >= 0.4])\n",
        "print(corr[corr <= -0.3])"
      ],
      "execution_count": 48,
      "outputs": [
        {
          "output_type": "stream",
          "name": "stdout",
          "text": [
            "Quantity                               1.000000\n",
            "Gray_cement_dispatch_comercial         0.763691\n",
            "Gray_cement_dispatch_other             0.749478\n",
            "Gray_cement_dispatch                   0.742108\n",
            "Gray_cement_prod                       0.711097\n",
            "Housing_total_sales                    0.706916\n",
            "ISE                                    0.687654\n",
            "Housing_total_sales_SI                 0.641345\n",
            "working_day                            0.637156\n",
            "Consumer_microcredit                   0.617899\n",
            "Gray_cement_dispatch_contractor        0.614080\n",
            "GDP_Total                              0.586808\n",
            "Gray_cement_dispatch_Factory           0.574781\n",
            "Seasonal                               0.570067\n",
            "Consumer_credit                        0.569966\n",
            "Housing_total_sales_NO_SI              0.559692\n",
            "Credit_card                            0.521891\n",
            "Gray_cement_dispatch_comerciallag_1    0.512897\n",
            "Housing_loan                           0.482352\n",
            "Housing_total_saleslag_1               0.477736\n",
            "Unemployment%lag_6                     0.454330\n",
            "Housing_total_sales_SIlag_1            0.444475\n",
            "Housing_total_launch                   0.427604\n",
            "Housing_total_launch_SI                0.427233\n",
            "Gray_cement_dispatchlag_1              0.422402\n",
            "Gray_cement_prodlag_1                  0.410207\n",
            "Housing_total_initiation               0.406571\n",
            "Unemployment%lag_5                     0.403080\n",
            "Name: Quantity, dtype: float64\n",
            "DTF(interest_rate)lag_6           -0.300381\n",
            "loan_overdraftslag_6              -0.301716\n",
            "Construction_lic_unt_NO_SIlag_5   -0.302428\n",
            "RADAR_Constrlag_2                 -0.302761\n",
            "Construction_lic_arealag_6        -0.303333\n",
            "                                     ...   \n",
            "Construction_lic_unt_NO_SIlag_4   -0.453457\n",
            "Construction_lic_arealag_4        -0.473548\n",
            "Imports_quantitylag_4             -0.475870\n",
            "Construction_lic_untlag_4         -0.480974\n",
            "holiday                           -0.609440\n",
            "Name: Quantity, Length: 65, dtype: float64\n"
          ]
        }
      ]
    },
    {
      "cell_type": "code",
      "metadata": {
        "id": "wwAYmP64JwUP"
      },
      "source": [
        "Quantity = total[\"Quantity\"]"
      ],
      "execution_count": 49,
      "outputs": []
    },
    {
      "cell_type": "code",
      "metadata": {
        "id": "sIeNo1XsJwPq"
      },
      "source": [
        "Quantity"
      ],
      "execution_count": null,
      "outputs": []
    },
    {
      "cell_type": "code",
      "metadata": {
        "colab": {
          "base_uri": "https://localhost:8080/",
          "height": 133
        },
        "id": "0q7DqoGNJwMS",
        "outputId": "2579e3ae-8229-4e3c-d61e-0f9239cb83f0"
      },
      "source": [
        "sns.boxplot(x=)"
      ],
      "execution_count": 12,
      "outputs": [
        {
          "output_type": "error",
          "ename": "SyntaxError",
          "evalue": "ignored",
          "traceback": [
            "\u001b[0;36m  File \u001b[0;32m\"<ipython-input-12-fbc1a9729441>\"\u001b[0;36m, line \u001b[0;32m1\u001b[0m\n\u001b[0;31m    sns.boxplot(x=)\u001b[0m\n\u001b[0m                  ^\u001b[0m\n\u001b[0;31mSyntaxError\u001b[0m\u001b[0;31m:\u001b[0m invalid syntax\n"
          ]
        }
      ]
    },
    {
      "cell_type": "markdown",
      "metadata": {
        "id": "-dnKCketOkLU"
      },
      "source": [
        "# Scatterplots"
      ]
    },
    {
      "cell_type": "code",
      "metadata": {
        "id": "Wi_JvEDFPbSa"
      },
      "source": [
        "total['x1'] = total.index"
      ],
      "execution_count": 22,
      "outputs": []
    },
    {
      "cell_type": "code",
      "metadata": {
        "colab": {
          "base_uri": "https://localhost:8080/",
          "height": 296
        },
        "id": "3k5GeOy3QFJc",
        "outputId": "2ef411b7-a6cc-4bd6-ba08-aad24fdf35bc"
      },
      "source": [
        "total.plot(kind = 'scatter', x = 'x1', y= 'Quantity')"
      ],
      "execution_count": 23,
      "outputs": [
        {
          "output_type": "execute_result",
          "data": {
            "text/plain": [
              "<matplotlib.axes._subplots.AxesSubplot at 0x7fdc3b8bff90>"
            ]
          },
          "metadata": {},
          "execution_count": 23
        },
        {
          "output_type": "display_data",
          "data": {
            "image/png": "[encoded data removed]",
            "text/plain": [
              "<Figure size 432x288 with 1 Axes>"
            ]
          },
          "metadata": {
            "needs_background": "light"
          }
        }
      ]
    },
    {
      "cell_type": "code",
      "metadata": {
        "colab": {
          "base_uri": "https://localhost:8080/",
          "height": 351
        },
        "id": "3RXGCQg-d1BW",
        "outputId": "5d2ed6b0-3f3e-4322-8e5f-1a519b542b1d"
      },
      "source": [
        "total.head()"
      ],
      "execution_count": 24,
      "outputs": [
        {
          "output_type": "execute_result",
          "data": {
            "text/html": [
              "<div>\n",
              "<style scoped>\n",
              "    .dataframe tbody tr th:only-of-type {\n",
              "        vertical-align: middle;\n",
              "    }\n",
              "\n",
              "    .dataframe tbody tr th {\n",
              "        vertical-align: top;\n",
              "    }\n",
              "\n",
              "    .dataframe thead th {\n",
              "        text-align: right;\n",
              "    }\n",
              "</style>\n",
              "<table border=\"1\" class=\"dataframe\">\n",
              "  <thead>\n",
              "    <tr style=\"text-align: right;\">\n",
              "      <th></th>\n",
              "      <th>date</th>\n",
              "      <th>Quantity</th>\n",
              "      <th>Seasonal</th>\n",
              "      <th>Consumer_loans</th>\n",
              "      <th>Construction_lic_unt</th>\n",
              "      <th>Construction_lic_area</th>\n",
              "      <th>Construction_lic_unt_SI</th>\n",
              "      <th>Construction_lic_unt_NO_SI</th>\n",
              "      <th>Construction_lic_area_SI</th>\n",
              "      <th>Construction_lic_area_NO_SI</th>\n",
              "      <th>Gray_cement_prod</th>\n",
              "      <th>Gray_cement_dispatch</th>\n",
              "      <th>Gray_cement_dispatch_Factory</th>\n",
              "      <th>Gray_cement_dispatch_comercial</th>\n",
              "      <th>Gray_cement_dispatch_contractor</th>\n",
              "      <th>Gray_cement_dispatch_other</th>\n",
              "      <th>DTF(interest_rate)</th>\n",
              "      <th>GDP_Constr</th>\n",
              "      <th>GDP_Total</th>\n",
              "      <th>Inflation</th>\n",
              "      <th>USD_exchange</th>\n",
              "      <th>Oil-brent</th>\n",
              "      <th>Oil_WTI</th>\n",
              "      <th>ISE</th>\n",
              "      <th>ICC</th>\n",
              "      <th>IEC</th>\n",
              "      <th>ICE</th>\n",
              "      <th>Unemployment%</th>\n",
              "      <th>RADAR_Constr</th>\n",
              "      <th>RADAR_Rev</th>\n",
              "      <th>RADAR_Toilets</th>\n",
              "      <th>RADAR_HomeAppliance</th>\n",
              "      <th>RADAR_Paint</th>\n",
              "      <th>RADAR_Furniture</th>\n",
              "      <th>RADAR_Tools</th>\n",
              "      <th>RADAR_Elect</th>\n",
              "      <th>RADAR_Plumbing</th>\n",
              "      <th>RADAR_Wood</th>\n",
              "      <th>RADAR_Supply</th>\n",
              "      <th>RADAR_Remodel</th>\n",
              "      <th>...</th>\n",
              "      <th>loan_overdraftslag_8</th>\n",
              "      <th>Credit_cardlag_8</th>\n",
              "      <th>Treasury_loanlag_8</th>\n",
              "      <th>Housing_loanlag_8</th>\n",
              "      <th>Consumer_creditlag_9</th>\n",
              "      <th>Consumer_microcreditlag_9</th>\n",
              "      <th>Ordinary_creditlag_9</th>\n",
              "      <th>Preferencial_creditlag_9</th>\n",
              "      <th>loan_overdraftslag_9</th>\n",
              "      <th>Credit_cardlag_9</th>\n",
              "      <th>Treasury_loanlag_9</th>\n",
              "      <th>Housing_loanlag_9</th>\n",
              "      <th>Consumer_creditlag_10</th>\n",
              "      <th>Consumer_microcreditlag_10</th>\n",
              "      <th>Ordinary_creditlag_10</th>\n",
              "      <th>Preferencial_creditlag_10</th>\n",
              "      <th>loan_overdraftslag_10</th>\n",
              "      <th>Credit_cardlag_10</th>\n",
              "      <th>Treasury_loanlag_10</th>\n",
              "      <th>Housing_loanlag_10</th>\n",
              "      <th>Consumer_creditlag_11</th>\n",
              "      <th>Consumer_microcreditlag_11</th>\n",
              "      <th>Ordinary_creditlag_11</th>\n",
              "      <th>Preferencial_creditlag_11</th>\n",
              "      <th>loan_overdraftslag_11</th>\n",
              "      <th>Credit_cardlag_11</th>\n",
              "      <th>Treasury_loanlag_11</th>\n",
              "      <th>Housing_loanlag_11</th>\n",
              "      <th>Consumer_creditlag_12</th>\n",
              "      <th>Consumer_microcreditlag_12</th>\n",
              "      <th>Ordinary_creditlag_12</th>\n",
              "      <th>Preferencial_creditlag_12</th>\n",
              "      <th>loan_overdraftslag_12</th>\n",
              "      <th>Credit_cardlag_12</th>\n",
              "      <th>Treasury_loanlag_12</th>\n",
              "      <th>Housing_loanlag_12</th>\n",
              "      <th>holiday</th>\n",
              "      <th>sunday</th>\n",
              "      <th>working_day</th>\n",
              "      <th>x1</th>\n",
              "    </tr>\n",
              "  </thead>\n",
              "  <tbody>\n",
              "    <tr>\n",
              "      <th>0</th>\n",
              "      <td>2017-01-01</td>\n",
              "      <td>1.503548</td>\n",
              "      <td>0.699923</td>\n",
              "      <td>112579.4297</td>\n",
              "      <td>11303.0</td>\n",
              "      <td>1185131.0</td>\n",
              "      <td>3587.0</td>\n",
              "      <td>7716.0</td>\n",
              "      <td>229478.0</td>\n",
              "      <td>955653.0</td>\n",
              "      <td>897063.518</td>\n",
              "      <td>9.131904e+05</td>\n",
              "      <td>194276.0200</td>\n",
              "      <td>502084.8330</td>\n",
              "      <td>171559.9665</td>\n",
              "      <td>45269.5875</td>\n",
              "      <td>0.0694</td>\n",
              "      <td>14753.34784</td>\n",
              "      <td>206242.5680</td>\n",
              "      <td>5.47</td>\n",
              "      <td>2944.65</td>\n",
              "      <td>52.19</td>\n",
              "      <td>52.81</td>\n",
              "      <td>102.548972</td>\n",
              "      <td>-30.2</td>\n",
              "      <td>-28.3</td>\n",
              "      <td>-33.1</td>\n",
              "      <td>11.733267</td>\n",
              "      <td>1.044525e+11</td>\n",
              "      <td>1.323489e+11</td>\n",
              "      <td>1.727682e+11</td>\n",
              "      <td>1.050914e+11</td>\n",
              "      <td>8.847567e+10</td>\n",
              "      <td>8.354725e+10</td>\n",
              "      <td>5.008444e+10</td>\n",
              "      <td>9.372000e+10</td>\n",
              "      <td>3.037115e+10</td>\n",
              "      <td>3.136015e+10</td>\n",
              "      <td>1.585430e+11</td>\n",
              "      <td>1.050763e+12</td>\n",
              "      <td>...</td>\n",
              "      <td>6402426.269</td>\n",
              "      <td>3390803.016</td>\n",
              "      <td>550883.0739</td>\n",
              "      <td>1302564.560</td>\n",
              "      <td>4680431.000</td>\n",
              "      <td>460632.0000</td>\n",
              "      <td>5702443.000</td>\n",
              "      <td>4657354.000</td>\n",
              "      <td>7012296.000</td>\n",
              "      <td>3283417.000</td>\n",
              "      <td>549789.0000</td>\n",
              "      <td>1454672.000</td>\n",
              "      <td>4941981.754</td>\n",
              "      <td>531850.1926</td>\n",
              "      <td>7315235.649</td>\n",
              "      <td>6120086.089</td>\n",
              "      <td>8140200.383</td>\n",
              "      <td>3814229.013</td>\n",
              "      <td>632387.5921</td>\n",
              "      <td>1627959.289</td>\n",
              "      <td>4068020.900</td>\n",
              "      <td>438682.2679</td>\n",
              "      <td>6513619.182</td>\n",
              "      <td>6137144.374</td>\n",
              "      <td>6675101.294</td>\n",
              "      <td>2989980.729</td>\n",
              "      <td>483448.3473</td>\n",
              "      <td>1298811.962</td>\n",
              "      <td>3106784.500</td>\n",
              "      <td>386289.5525</td>\n",
              "      <td>4875376.339</td>\n",
              "      <td>4791146.877</td>\n",
              "      <td>5996088.922</td>\n",
              "      <td>3013612.505</td>\n",
              "      <td>470541.3290</td>\n",
              "      <td>1093819.181</td>\n",
              "      <td>1</td>\n",
              "      <td>5</td>\n",
              "      <td>25</td>\n",
              "      <td>0</td>\n",
              "    </tr>\n",
              "    <tr>\n",
              "      <th>1</th>\n",
              "      <td>2017-02-01</td>\n",
              "      <td>0.076213</td>\n",
              "      <td>0.316156</td>\n",
              "      <td>113438.0949</td>\n",
              "      <td>16187.0</td>\n",
              "      <td>1590979.0</td>\n",
              "      <td>4659.0</td>\n",
              "      <td>11528.0</td>\n",
              "      <td>272961.0</td>\n",
              "      <td>1318018.0</td>\n",
              "      <td>1025704.960</td>\n",
              "      <td>1.007968e+06</td>\n",
              "      <td>228359.8390</td>\n",
              "      <td>530826.1625</td>\n",
              "      <td>199731.6950</td>\n",
              "      <td>49050.6025</td>\n",
              "      <td>0.0678</td>\n",
              "      <td>14753.34784</td>\n",
              "      <td>206242.5680</td>\n",
              "      <td>5.18</td>\n",
              "      <td>2881.68</td>\n",
              "      <td>53.40</td>\n",
              "      <td>54.01</td>\n",
              "      <td>102.919033</td>\n",
              "      <td>-24.3</td>\n",
              "      <td>-19.9</td>\n",
              "      <td>-31.0</td>\n",
              "      <td>10.504292</td>\n",
              "      <td>1.574855e+11</td>\n",
              "      <td>8.351517e+10</td>\n",
              "      <td>1.096908e+11</td>\n",
              "      <td>8.252536e+10</td>\n",
              "      <td>8.582517e+10</td>\n",
              "      <td>1.522091e+11</td>\n",
              "      <td>5.056706e+10</td>\n",
              "      <td>6.034851e+10</td>\n",
              "      <td>2.138243e+10</td>\n",
              "      <td>2.216364e+10</td>\n",
              "      <td>2.104634e+11</td>\n",
              "      <td>1.036176e+12</td>\n",
              "      <td>...</td>\n",
              "      <td>7930536.312</td>\n",
              "      <td>4347164.930</td>\n",
              "      <td>677598.1836</td>\n",
              "      <td>1864166.572</td>\n",
              "      <td>4353892.017</td>\n",
              "      <td>433679.7772</td>\n",
              "      <td>5854575.608</td>\n",
              "      <td>4445890.861</td>\n",
              "      <td>6402426.269</td>\n",
              "      <td>3390803.016</td>\n",
              "      <td>550883.0739</td>\n",
              "      <td>1302564.560</td>\n",
              "      <td>4680431.000</td>\n",
              "      <td>460632.0000</td>\n",
              "      <td>5702443.000</td>\n",
              "      <td>4657354.000</td>\n",
              "      <td>7012296.000</td>\n",
              "      <td>3283417.000</td>\n",
              "      <td>549789.0000</td>\n",
              "      <td>1454672.000</td>\n",
              "      <td>4941981.754</td>\n",
              "      <td>531850.1926</td>\n",
              "      <td>7315235.649</td>\n",
              "      <td>6120086.089</td>\n",
              "      <td>8140200.383</td>\n",
              "      <td>3814229.013</td>\n",
              "      <td>632387.5921</td>\n",
              "      <td>1627959.289</td>\n",
              "      <td>4068020.900</td>\n",
              "      <td>438682.2679</td>\n",
              "      <td>6513619.182</td>\n",
              "      <td>6137144.374</td>\n",
              "      <td>6675101.294</td>\n",
              "      <td>2989980.729</td>\n",
              "      <td>483448.3473</td>\n",
              "      <td>1298811.962</td>\n",
              "      <td>0</td>\n",
              "      <td>4</td>\n",
              "      <td>24</td>\n",
              "      <td>1</td>\n",
              "    </tr>\n",
              "    <tr>\n",
              "      <th>2</th>\n",
              "      <td>2017-03-01</td>\n",
              "      <td>-1.346258</td>\n",
              "      <td>-0.267695</td>\n",
              "      <td>114667.2587</td>\n",
              "      <td>15231.0</td>\n",
              "      <td>1438528.0</td>\n",
              "      <td>5687.0</td>\n",
              "      <td>9544.0</td>\n",
              "      <td>354904.0</td>\n",
              "      <td>1083624.0</td>\n",
              "      <td>1099919.669</td>\n",
              "      <td>1.083268e+06</td>\n",
              "      <td>241130.4555</td>\n",
              "      <td>568447.4880</td>\n",
              "      <td>218640.3600</td>\n",
              "      <td>55049.9274</td>\n",
              "      <td>0.0665</td>\n",
              "      <td>14753.34784</td>\n",
              "      <td>206242.5680</td>\n",
              "      <td>4.69</td>\n",
              "      <td>2943.49</td>\n",
              "      <td>50.43</td>\n",
              "      <td>50.60</td>\n",
              "      <td>102.162670</td>\n",
              "      <td>-21.1</td>\n",
              "      <td>-18.3</td>\n",
              "      <td>-25.4</td>\n",
              "      <td>9.704610</td>\n",
              "      <td>1.215372e+11</td>\n",
              "      <td>9.821204e+10</td>\n",
              "      <td>1.191497e+11</td>\n",
              "      <td>9.035507e+10</td>\n",
              "      <td>9.516119e+10</td>\n",
              "      <td>1.388751e+11</td>\n",
              "      <td>5.266968e+10</td>\n",
              "      <td>1.137228e+11</td>\n",
              "      <td>2.872364e+10</td>\n",
              "      <td>2.258877e+10</td>\n",
              "      <td>1.192185e+11</td>\n",
              "      <td>1.000214e+12</td>\n",
              "      <td>...</td>\n",
              "      <td>6258157.459</td>\n",
              "      <td>3447128.397</td>\n",
              "      <td>478975.7922</td>\n",
              "      <td>1302860.802</td>\n",
              "      <td>5430241.566</td>\n",
              "      <td>555441.9044</td>\n",
              "      <td>7916686.911</td>\n",
              "      <td>6566090.070</td>\n",
              "      <td>7930536.312</td>\n",
              "      <td>4347164.930</td>\n",
              "      <td>677598.1836</td>\n",
              "      <td>1864166.572</td>\n",
              "      <td>4353892.017</td>\n",
              "      <td>433679.7772</td>\n",
              "      <td>5854575.608</td>\n",
              "      <td>4445890.861</td>\n",
              "      <td>6402426.269</td>\n",
              "      <td>3390803.016</td>\n",
              "      <td>550883.0739</td>\n",
              "      <td>1302564.560</td>\n",
              "      <td>4680431.000</td>\n",
              "      <td>460632.0000</td>\n",
              "      <td>5702443.000</td>\n",
              "      <td>4657354.000</td>\n",
              "      <td>7012296.000</td>\n",
              "      <td>3283417.000</td>\n",
              "      <td>549789.0000</td>\n",
              "      <td>1454672.000</td>\n",
              "      <td>4941981.754</td>\n",
              "      <td>531850.1926</td>\n",
              "      <td>7315235.649</td>\n",
              "      <td>6120086.089</td>\n",
              "      <td>8140200.383</td>\n",
              "      <td>3814229.013</td>\n",
              "      <td>632387.5921</td>\n",
              "      <td>1627959.289</td>\n",
              "      <td>1</td>\n",
              "      <td>4</td>\n",
              "      <td>26</td>\n",
              "      <td>2</td>\n",
              "    </tr>\n",
              "    <tr>\n",
              "      <th>3</th>\n",
              "      <td>2017-04-01</td>\n",
              "      <td>-2.122585</td>\n",
              "      <td>-2.419870</td>\n",
              "      <td>115386.4634</td>\n",
              "      <td>14093.0</td>\n",
              "      <td>1308557.0</td>\n",
              "      <td>5830.0</td>\n",
              "      <td>8263.0</td>\n",
              "      <td>394570.0</td>\n",
              "      <td>913987.0</td>\n",
              "      <td>976913.691</td>\n",
              "      <td>9.000049e+05</td>\n",
              "      <td>205596.3325</td>\n",
              "      <td>477863.7565</td>\n",
              "      <td>178911.5505</td>\n",
              "      <td>37633.3040</td>\n",
              "      <td>0.0653</td>\n",
              "      <td>14981.00793</td>\n",
              "      <td>207747.7702</td>\n",
              "      <td>4.66</td>\n",
              "      <td>2873.55</td>\n",
              "      <td>49.33</td>\n",
              "      <td>49.33</td>\n",
              "      <td>102.983586</td>\n",
              "      <td>-12.8</td>\n",
              "      <td>-10.9</td>\n",
              "      <td>-15.7</td>\n",
              "      <td>8.907718</td>\n",
              "      <td>1.050589e+11</td>\n",
              "      <td>1.250024e+11</td>\n",
              "      <td>1.243045e+11</td>\n",
              "      <td>1.099748e+11</td>\n",
              "      <td>8.874865e+10</td>\n",
              "      <td>9.272528e+10</td>\n",
              "      <td>5.317580e+10</td>\n",
              "      <td>1.235185e+11</td>\n",
              "      <td>2.542596e+10</td>\n",
              "      <td>1.223621e+10</td>\n",
              "      <td>1.243762e+11</td>\n",
              "      <td>9.845472e+11</td>\n",
              "      <td>...</td>\n",
              "      <td>7501101.418</td>\n",
              "      <td>4264839.340</td>\n",
              "      <td>786453.6177</td>\n",
              "      <td>1665857.097</td>\n",
              "      <td>4182512.912</td>\n",
              "      <td>427158.3795</td>\n",
              "      <td>5430545.717</td>\n",
              "      <td>4119152.514</td>\n",
              "      <td>6258157.459</td>\n",
              "      <td>3447128.397</td>\n",
              "      <td>478975.7922</td>\n",
              "      <td>1302860.802</td>\n",
              "      <td>5430241.566</td>\n",
              "      <td>555441.9044</td>\n",
              "      <td>7916686.911</td>\n",
              "      <td>6566090.070</td>\n",
              "      <td>7930536.312</td>\n",
              "      <td>4347164.930</td>\n",
              "      <td>677598.1836</td>\n",
              "      <td>1864166.572</td>\n",
              "      <td>4353892.017</td>\n",
              "      <td>433679.7772</td>\n",
              "      <td>5854575.608</td>\n",
              "      <td>4445890.861</td>\n",
              "      <td>6402426.269</td>\n",
              "      <td>3390803.016</td>\n",
              "      <td>550883.0739</td>\n",
              "      <td>1302564.560</td>\n",
              "      <td>4680431.000</td>\n",
              "      <td>460632.0000</td>\n",
              "      <td>5702443.000</td>\n",
              "      <td>4657354.000</td>\n",
              "      <td>7012296.000</td>\n",
              "      <td>3283417.000</td>\n",
              "      <td>549789.0000</td>\n",
              "      <td>1454672.000</td>\n",
              "      <td>2</td>\n",
              "      <td>5</td>\n",
              "      <td>23</td>\n",
              "      <td>3</td>\n",
              "    </tr>\n",
              "    <tr>\n",
              "      <th>4</th>\n",
              "      <td>2017-05-01</td>\n",
              "      <td>-0.665067</td>\n",
              "      <td>-0.644222</td>\n",
              "      <td>116440.6893</td>\n",
              "      <td>13645.0</td>\n",
              "      <td>1449398.0</td>\n",
              "      <td>3766.0</td>\n",
              "      <td>9879.0</td>\n",
              "      <td>254338.0</td>\n",
              "      <td>1195060.0</td>\n",
              "      <td>1021787.442</td>\n",
              "      <td>9.990460e+05</td>\n",
              "      <td>227246.8955</td>\n",
              "      <td>521968.2200</td>\n",
              "      <td>204522.2195</td>\n",
              "      <td>45308.6685</td>\n",
              "      <td>0.0617</td>\n",
              "      <td>14981.00793</td>\n",
              "      <td>207747.7702</td>\n",
              "      <td>4.37</td>\n",
              "      <td>2924.00</td>\n",
              "      <td>48.69</td>\n",
              "      <td>48.32</td>\n",
              "      <td>103.070062</td>\n",
              "      <td>-16.9</td>\n",
              "      <td>-12.4</td>\n",
              "      <td>-23.7</td>\n",
              "      <td>9.417001</td>\n",
              "      <td>8.694237e+10</td>\n",
              "      <td>1.153829e+11</td>\n",
              "      <td>1.176807e+11</td>\n",
              "      <td>8.701007e+10</td>\n",
              "      <td>8.469597e+10</td>\n",
              "      <td>8.291499e+10</td>\n",
              "      <td>4.744757e+10</td>\n",
              "      <td>1.155134e+11</td>\n",
              "      <td>2.556480e+10</td>\n",
              "      <td>2.217084e+10</td>\n",
              "      <td>2.235675e+11</td>\n",
              "      <td>1.008891e+12</td>\n",
              "      <td>...</td>\n",
              "      <td>6614402.297</td>\n",
              "      <td>3521738.265</td>\n",
              "      <td>546330.1638</td>\n",
              "      <td>1455228.844</td>\n",
              "      <td>5221504.230</td>\n",
              "      <td>542565.5737</td>\n",
              "      <td>7116995.809</td>\n",
              "      <td>6053780.975</td>\n",
              "      <td>7501101.418</td>\n",
              "      <td>4264839.340</td>\n",
              "      <td>786453.6177</td>\n",
              "      <td>1665857.097</td>\n",
              "      <td>4182512.912</td>\n",
              "      <td>427158.3795</td>\n",
              "      <td>5430545.717</td>\n",
              "      <td>4119152.514</td>\n",
              "      <td>6258157.459</td>\n",
              "      <td>3447128.397</td>\n",
              "      <td>478975.7922</td>\n",
              "      <td>1302860.802</td>\n",
              "      <td>5430241.566</td>\n",
              "      <td>555441.9044</td>\n",
              "      <td>7916686.911</td>\n",
              "      <td>6566090.070</td>\n",
              "      <td>7930536.312</td>\n",
              "      <td>4347164.930</td>\n",
              "      <td>677598.1836</td>\n",
              "      <td>1864166.572</td>\n",
              "      <td>4353892.017</td>\n",
              "      <td>433679.7772</td>\n",
              "      <td>5854575.608</td>\n",
              "      <td>4445890.861</td>\n",
              "      <td>6402426.269</td>\n",
              "      <td>3390803.016</td>\n",
              "      <td>550883.0739</td>\n",
              "      <td>1302564.560</td>\n",
              "      <td>2</td>\n",
              "      <td>4</td>\n",
              "      <td>25</td>\n",
              "      <td>4</td>\n",
              "    </tr>\n",
              "  </tbody>\n",
              "</table>\n",
              "<p>5 rows × 944 columns</p>\n",
              "</div>"
            ],
            "text/plain": [
              "         date  Quantity  Seasonal  ...  sunday  working_day  x1\n",
              "0  2017-01-01  1.503548  0.699923  ...       5           25   0\n",
              "1  2017-02-01  0.076213  0.316156  ...       4           24   1\n",
              "2  2017-03-01 -1.346258 -0.267695  ...       4           26   2\n",
              "3  2017-04-01 -2.122585 -2.419870  ...       5           23   3\n",
              "4  2017-05-01 -0.665067 -0.644222  ...       4           25   4\n",
              "\n",
              "[5 rows x 944 columns]"
            ]
          },
          "metadata": {},
          "execution_count": 24
        }
      ]
    },
    {
      "cell_type": "markdown",
      "metadata": {
        "id": "_p_BoNWBdH3_"
      },
      "source": [
        "total.head\n",
        "\n",
        "```\n",
        "# This is formatted as code\n",
        "```\n",
        "\n"
      ]
    },
    {
      "cell_type": "code",
      "metadata": {
        "colab": {
          "base_uri": "https://localhost:8080/",
          "height": 168
        },
        "id": "6YNuAtkDOhh0",
        "outputId": "f664a6e5-64fc-4f32-8b49-32499a8f0cc5"
      },
      "source": [
        "sns.scatterplot(data = total, x= index, y = Quantity)"
      ],
      "execution_count": 21,
      "outputs": [
        {
          "output_type": "error",
          "ename": "NameError",
          "evalue": "ignored",
          "traceback": [
            "\u001b[0;31m---------------------------------------------------------------------------\u001b[0m",
            "\u001b[0;31mNameError\u001b[0m                                 Traceback (most recent call last)",
            "\u001b[0;32m<ipython-input-21-e0b02c770963>\u001b[0m in \u001b[0;36m<module>\u001b[0;34m()\u001b[0m\n\u001b[0;32m----> 1\u001b[0;31m \u001b[0msns\u001b[0m\u001b[0;34m.\u001b[0m\u001b[0mscatterplot\u001b[0m\u001b[0;34m(\u001b[0m\u001b[0mdata\u001b[0m \u001b[0;34m=\u001b[0m \u001b[0mtotal\u001b[0m\u001b[0;34m,\u001b[0m \u001b[0mx\u001b[0m\u001b[0;34m=\u001b[0m \u001b[0mindex\u001b[0m\u001b[0;34m,\u001b[0m \u001b[0my\u001b[0m \u001b[0;34m=\u001b[0m \u001b[0mQuantity\u001b[0m\u001b[0;34m)\u001b[0m\u001b[0;34m\u001b[0m\u001b[0;34m\u001b[0m\u001b[0m\n\u001b[0m",
            "\u001b[0;31mNameError\u001b[0m: name 'index' is not defined"
          ]
        }
      ]
    },
    {
      "cell_type": "code",
      "metadata": {
        "id": "yzr7uJ6AOdsE"
      },
      "source": [
        ""
      ],
      "execution_count": null,
      "outputs": []
    },
    {
      "cell_type": "markdown",
      "metadata": {
        "id": "dRgyKVEBG7TI"
      },
      "source": [
        "## Just for the heck of it let us run quatity against each of the seperate csv files.\n",
        "\n",
        "Figure out how many features sanswer to a call for Features.\n",
        "\n",
        "how toa call all rows of each data set.\n",
        "\n",
        "Then combine quantity with them into creatingt anew dataset.\n",
        "Astart by getting a list of features in the smallest data set.\n",
        "\n",
        "\n",
        "\n",
        "\n"
      ]
    },
    {
      "cell_type": "markdown",
      "metadata": {
        "id": "DrAHcVsOJY80"
      },
      "source": [
        "# Subset all of the features from the Credits CSV"
      ]
    },
    {
      "cell_type": "markdown",
      "metadata": {
        "id": "PlOYYlYjKDRK"
      },
      "source": [
        "0   Consumer_credit       187 non-null    float64\n",
        " 1   Consumer_microcredit  187 non-null    float64\n",
        " 2   Ordinary_credit       187 non-null    float64\n",
        " 3   Preferencial_credit   187 non-null    float64\n",
        " 4   loan_overdrafts       187 non-null    float64\n",
        " 5   Credit_card           187 non-null    float64\n",
        " 6   Treasury_loan         187 non-null    float64\n",
        " 7   Housing_loan "
      ]
    },
    {
      "cell_type": "code",
      "metadata": {
        "id": "-tRHLVlvLsVm"
      },
      "source": [
        "# list(data) or\n",
        "#list(data.columns)\n",
        "#list(Porc_Op.columns)\n",
        "Porc_Op.columns.sort_values().values"
      ],
      "execution_count": null,
      "outputs": []
    },
    {
      "cell_type": "markdown",
      "metadata": {
        "id": "FTIT7HGC1beO"
      },
      "source": [
        "0   Consumer_credit       187 non-null    float64\n",
        "\n",
        " 1   Consumer_microcredit  187 non-null    float64\n",
        "\n",
        " 2   Ordinary_credit       187 non-null    float64\n",
        "\n",
        " 3   Preferencial_credit   187 non-null    float64\n",
        "\n",
        " 4   loan_overdrafts       187 non-null    float64\n",
        "\n",
        " 5   Credit_card           187 non-null    float64\n",
        " \n",
        " 6   Treasury_loan         187 non-null    float64\n",
        " 7   Housing_loan "
      ]
    },
    {
      "cell_type": "markdown",
      "metadata": {
        "id": "5Qiqw0TPQu8y"
      },
      "source": [
        "## Now subset Quantity and the Credit Features"
      ]
    },
    {
      "cell_type": "code",
      "metadata": {
        "id": "blGz3R0FSO0O"
      },
      "source": [
        "credit_subset =Porc_Op[['Quantity','Consumer_credit','Consumer_microcredit', 'Ordinary_credit',\n",
        "                         'Preferencial_credit','loan_overdrafts','Credit_card', 'Treasury_loan',\n",
        "                         'Housing_loan']]"
      ],
      "execution_count": null,
      "outputs": []
    },
    {
      "cell_type": "code",
      "metadata": {
        "colab": {
          "base_uri": "https://localhost:8080/",
          "height": 224
        },
        "id": "eB3_0naFSiaH",
        "outputId": "97525c11-47f4-4949-8ae9-bae935a428ba"
      },
      "source": [
        "credit_subset.head()"
      ],
      "execution_count": null,
      "outputs": [
        {
          "output_type": "execute_result",
          "data": {
            "text/html": [
              "<div>\n",
              "<style scoped>\n",
              "    .dataframe tbody tr th:only-of-type {\n",
              "        vertical-align: middle;\n",
              "    }\n",
              "\n",
              "    .dataframe tbody tr th {\n",
              "        vertical-align: top;\n",
              "    }\n",
              "\n",
              "    .dataframe thead th {\n",
              "        text-align: right;\n",
              "    }\n",
              "</style>\n",
              "<table border=\"1\" class=\"dataframe\">\n",
              "  <thead>\n",
              "    <tr style=\"text-align: right;\">\n",
              "      <th></th>\n",
              "      <th>Quantity</th>\n",
              "      <th>Consumer_credit</th>\n",
              "      <th>Consumer_microcredit</th>\n",
              "      <th>Ordinary_credit</th>\n",
              "      <th>Preferencial_credit</th>\n",
              "      <th>loan_overdrafts</th>\n",
              "      <th>Credit_card</th>\n",
              "      <th>Treasury_loan</th>\n",
              "      <th>Housing_loan</th>\n",
              "    </tr>\n",
              "  </thead>\n",
              "  <tbody>\n",
              "    <tr>\n",
              "      <th>0</th>\n",
              "      <td>1.50354806</td>\n",
              "      <td>3092166.06600000</td>\n",
              "      <td>331812.34760000</td>\n",
              "      <td>4498496.51000000</td>\n",
              "      <td>3728949.88600000</td>\n",
              "      <td>5515276.14600000</td>\n",
              "      <td>3370234.66200000</td>\n",
              "      <td>225521.44280000</td>\n",
              "      <td>907715.11620000</td>\n",
              "    </tr>\n",
              "    <tr>\n",
              "      <th>1</th>\n",
              "      <td>0.07621345</td>\n",
              "      <td>4515186.34200000</td>\n",
              "      <td>451305.41870000</td>\n",
              "      <td>7087850.70500000</td>\n",
              "      <td>4505899.23100000</td>\n",
              "      <td>6331676.21500000</td>\n",
              "      <td>3469317.75500000</td>\n",
              "      <td>349373.56400000</td>\n",
              "      <td>1609027.08800000</td>\n",
              "    </tr>\n",
              "    <tr>\n",
              "      <th>2</th>\n",
              "      <td>-1.34625839</td>\n",
              "      <td>6326616.52600000</td>\n",
              "      <td>570278.72590000</td>\n",
              "      <td>7736718.49900000</td>\n",
              "      <td>5031263.81700000</td>\n",
              "      <td>8189116.43600000</td>\n",
              "      <td>4411360.21400000</td>\n",
              "      <td>486325.04950000</td>\n",
              "      <td>2087282.77200000</td>\n",
              "    </tr>\n",
              "    <tr>\n",
              "      <th>3</th>\n",
              "      <td>-2.12258463</td>\n",
              "      <td>4430585.24600000</td>\n",
              "      <td>409366.71890000</td>\n",
              "      <td>5385395.73200000</td>\n",
              "      <td>5234432.38700000</td>\n",
              "      <td>6684153.42700000</td>\n",
              "      <td>3659685.47800000</td>\n",
              "      <td>342484.08530000</td>\n",
              "      <td>1444558.71300000</td>\n",
              "    </tr>\n",
              "    <tr>\n",
              "      <th>4</th>\n",
              "      <td>-0.66506696</td>\n",
              "      <td>5719670.03600000</td>\n",
              "      <td>562752.43390000</td>\n",
              "      <td>6889420.85400000</td>\n",
              "      <td>7229993.26300000</td>\n",
              "      <td>8822385.04100000</td>\n",
              "      <td>4814904.23200000</td>\n",
              "      <td>588531.85810000</td>\n",
              "      <td>1858230.81800000</td>\n",
              "    </tr>\n",
              "  </tbody>\n",
              "</table>\n",
              "</div>"
            ],
            "text/plain": [
              "     Quantity  Consumer_credit  ...   Treasury_loan     Housing_loan\n",
              "0  1.50354806 3092166.06600000  ... 225521.44280000  907715.11620000\n",
              "1  0.07621345 4515186.34200000  ... 349373.56400000 1609027.08800000\n",
              "2 -1.34625839 6326616.52600000  ... 486325.04950000 2087282.77200000\n",
              "3 -2.12258463 4430585.24600000  ... 342484.08530000 1444558.71300000\n",
              "4 -0.66506696 5719670.03600000  ... 588531.85810000 1858230.81800000\n",
              "\n",
              "[5 rows x 9 columns]"
            ]
          },
          "metadata": {},
          "execution_count": 29
        }
      ]
    },
    {
      "cell_type": "code",
      "metadata": {
        "colab": {
          "base_uri": "https://localhost:8080/",
          "height": 224
        },
        "id": "OY7uyZcESm58",
        "outputId": "07fbdf1f-558b-4320-8561-50f39b4a0994"
      },
      "source": [
        "credit_subset.tail()"
      ],
      "execution_count": null,
      "outputs": [
        {
          "output_type": "execute_result",
          "data": {
            "text/html": [
              "<div>\n",
              "<style scoped>\n",
              "    .dataframe tbody tr th:only-of-type {\n",
              "        vertical-align: middle;\n",
              "    }\n",
              "\n",
              "    .dataframe tbody tr th {\n",
              "        vertical-align: top;\n",
              "    }\n",
              "\n",
              "    .dataframe thead th {\n",
              "        text-align: right;\n",
              "    }\n",
              "</style>\n",
              "<table border=\"1\" class=\"dataframe\">\n",
              "  <thead>\n",
              "    <tr style=\"text-align: right;\">\n",
              "      <th></th>\n",
              "      <th>Quantity</th>\n",
              "      <th>Consumer_credit</th>\n",
              "      <th>Consumer_microcredit</th>\n",
              "      <th>Ordinary_credit</th>\n",
              "      <th>Preferencial_credit</th>\n",
              "      <th>loan_overdrafts</th>\n",
              "      <th>Credit_card</th>\n",
              "      <th>Treasury_loan</th>\n",
              "      <th>Housing_loan</th>\n",
              "    </tr>\n",
              "  </thead>\n",
              "  <tbody>\n",
              "    <tr>\n",
              "      <th>49</th>\n",
              "      <td>0.90313362</td>\n",
              "      <td>7751130.52995000</td>\n",
              "      <td>544938.78226000</td>\n",
              "      <td>6036372.11506000</td>\n",
              "      <td>6203555.17403000</td>\n",
              "      <td>4074946.30520000</td>\n",
              "      <td>5455173.83439000</td>\n",
              "      <td>465642.51314000</td>\n",
              "      <td>2470696.69261000</td>\n",
              "    </tr>\n",
              "    <tr>\n",
              "      <th>50</th>\n",
              "      <td>1.40754630</td>\n",
              "      <td>9388275.86179000</td>\n",
              "      <td>680953.07190000</td>\n",
              "      <td>6192130.50984000</td>\n",
              "      <td>7739868.44043000</td>\n",
              "      <td>4969331.14354000</td>\n",
              "      <td>6825748.67384000</td>\n",
              "      <td>744899.78519000</td>\n",
              "      <td>2534968.69209000</td>\n",
              "    </tr>\n",
              "    <tr>\n",
              "      <th>51</th>\n",
              "      <td>0.79841006</td>\n",
              "      <td>8129448.34989000</td>\n",
              "      <td>501240.18192000</td>\n",
              "      <td>5784924.39931000</td>\n",
              "      <td>6729714.52454000</td>\n",
              "      <td>4087633.14495000</td>\n",
              "      <td>5271367.53313000</td>\n",
              "      <td>660828.32190000</td>\n",
              "      <td>2315315.88528000</td>\n",
              "    </tr>\n",
              "    <tr>\n",
              "      <th>52</th>\n",
              "      <td>-0.50289396</td>\n",
              "      <td>6333574.49347000</td>\n",
              "      <td>362509.13949000</td>\n",
              "      <td>5056129.25555000</td>\n",
              "      <td>7401186.19605000</td>\n",
              "      <td>4188024.32403000</td>\n",
              "      <td>5439582.48854000</td>\n",
              "      <td>548910.34558000</td>\n",
              "      <td>1989436.79243000</td>\n",
              "    </tr>\n",
              "    <tr>\n",
              "      <th>53</th>\n",
              "      <td>1.41610737</td>\n",
              "      <td>9191651.08896000</td>\n",
              "      <td>548634.36762000</td>\n",
              "      <td>6861119.52819000</td>\n",
              "      <td>8936970.38716000</td>\n",
              "      <td>4797926.25759000</td>\n",
              "      <td>7896086.74324000</td>\n",
              "      <td>672284.37876000</td>\n",
              "      <td>2923877.97589000</td>\n",
              "    </tr>\n",
              "  </tbody>\n",
              "</table>\n",
              "</div>"
            ],
            "text/plain": [
              "      Quantity  Consumer_credit  ...   Treasury_loan     Housing_loan\n",
              "49  0.90313362 7751130.52995000  ... 465642.51314000 2470696.69261000\n",
              "50  1.40754630 9388275.86179000  ... 744899.78519000 2534968.69209000\n",
              "51  0.79841006 8129448.34989000  ... 660828.32190000 2315315.88528000\n",
              "52 -0.50289396 6333574.49347000  ... 548910.34558000 1989436.79243000\n",
              "53  1.41610737 9191651.08896000  ... 672284.37876000 2923877.97589000\n",
              "\n",
              "[5 rows x 9 columns]"
            ]
          },
          "metadata": {},
          "execution_count": 60
        }
      ]
    },
    {
      "cell_type": "markdown",
      "metadata": {
        "id": "XY6gklKlS96Y"
      },
      "source": [
        "# Next run a correlation of Quantity v Credit Features"
      ]
    },
    {
      "cell_type": "code",
      "metadata": {
        "colab": {
          "base_uri": "https://localhost:8080/",
          "height": 495
        },
        "id": "soOBdeRVSqaM",
        "outputId": "3f8379f7-453a-415f-ddec-d4c0f303702c"
      },
      "source": [
        "plt.figure(figsize=(8,6))\n",
        "mask = np.triu(np.ones_like(credit_subset.corr(), dtype=np.bool))\n",
        "sns.heatmap(data = credit_subset.corr(), annot= True, linewidths=.5, cmap='Blues', mask=mask,  annot_kws={\"fontsize\":12})"
      ],
      "execution_count": null,
      "outputs": [
        {
          "output_type": "execute_result",
          "data": {
            "text/plain": [
              "<matplotlib.axes._subplots.AxesSubplot at 0x7f44514d35d0>"
            ]
          },
          "metadata": {},
          "execution_count": 7
        },
        {
          "output_type": "display_data",
          "data": {
            "image/png": "[encoded data removed]",
            "text/plain": [
              "<Figure size 576x432 with 2 Axes>"
            ]
          },
          "metadata": {
            "needs_background": "light"
          }
        }
      ]
    },
    {
      "cell_type": "markdown",
      "metadata": {
        "id": "WJ2mv4b1ah8s"
      },
      "source": [
        "# Next , for practice try running a regression on credit subset"
      ]
    },
    {
      "cell_type": "code",
      "metadata": {
        "id": "u69yvnMRdyzN"
      },
      "source": [
        "#from sklearn import datasets, linear_model\n",
        "#from sklearn.metrics import mean_squared_error, r2_score"
      ],
      "execution_count": null,
      "outputs": []
    },
    {
      "cell_type": "markdown",
      "metadata": {
        "id": "HxzNhD3arKBY"
      },
      "source": [
        "# MultiLinear Regression"
      ]
    },
    {
      "cell_type": "markdown",
      "metadata": {
        "id": "tf1ASsldtpn2"
      },
      "source": [
        "## imprt data"
      ]
    },
    {
      "cell_type": "code",
      "metadata": {
        "id": "3ngfvTSHttTd"
      },
      "source": [
        ""
      ],
      "execution_count": null,
      "outputs": []
    },
    {
      "cell_type": "code",
      "metadata": {
        "id": "BuLl6-lNdyu-"
      },
      "source": [
        "# !pip install scikit-learn\n",
        "\n",
        "from sklearn.linear_model import LinearRegression\n",
        "\n",
        "from sklearn.model_selection import train_test_split #Split data in testing and training\n",
        "\n",
        "from sklearn import metrics"
      ],
      "execution_count": null,
      "outputs": []
    },
    {
      "cell_type": "code",
      "metadata": {
        "colab": {
          "base_uri": "https://localhost:8080/"
        },
        "id": "Jj3Djt67dyls",
        "outputId": "a405f154-7d86-4607-a769-f20e39e2d975"
      },
      "source": [
        "#credit_subset\n",
        "list(credit_subset)"
      ],
      "execution_count": null,
      "outputs": [
        {
          "output_type": "execute_result",
          "data": {
            "text/plain": [
              "['Quantity',\n",
              " 'Consumer_credit',\n",
              " 'Consumer_microcredit',\n",
              " 'Ordinary_credit',\n",
              " 'Preferencial_credit',\n",
              " 'loan_overdrafts',\n",
              " 'Credit_card',\n",
              " 'Treasury_loan',\n",
              " 'Housing_loan']"
            ]
          },
          "metadata": {},
          "execution_count": 9
        }
      ]
    },
    {
      "cell_type": "markdown",
      "metadata": {
        "id": "x_9b6E4VsgXB"
      },
      "source": [
        "# Data Split"
      ]
    },
    {
      "cell_type": "code",
      "metadata": {
        "id": "NzYG2cpQsdOm"
      },
      "source": [
        "#Break data in training and testing\n",
        "\n",
        "# select all of the cols except the targe one, Sales\n",
        "\n",
        "#feature_cols = ['TV','radio', 'newspaper']\n",
        "\n",
        "#X = Adv[feature_cols] # Features\n",
        "\n",
        "feature_cols = ['Consumer_credit','Consumer_microcredit','Ordinary_credit',\n",
        "                'Preferencial_credit','loan_overdrafts','Credit_card',\n",
        "                'Treasury_loan','Housing_loan']\n",
        "\n",
        "X = credit_subset [feature_cols] # <<<--- couldnt we use the name of\n",
        "                                  # the entire dataset instead?\n",
        "\n",
        "X"
      ],
      "execution_count": null,
      "outputs": []
    },
    {
      "cell_type": "code",
      "metadata": {
        "id": "EQdChQtIsdK2"
      },
      "source": [
        "# Now select the Y , the dependent, the QUNATITY one via iloc location method\n",
        "#y = Adv.label\n",
        "\n",
        "y = credit_subset.iloc[:,0] # Target variable\n",
        "                            # So Qty is the INDEX???   ???\n",
        "y"
      ],
      "execution_count": null,
      "outputs": []
    },
    {
      "cell_type": "markdown",
      "metadata": {
        "id": "ww2a7ojEu7Jj"
      },
      "source": [
        "Now we ahve the independent, the X featureas abd the Y , dependent features, now weirdly , we feed python 2 dataframes simultaneoulsy, X & y and tell it to place 80% of x in one bin , 20% in test bin, place 80% of y in one bin....."
      ]
    },
    {
      "cell_type": "code",
      "metadata": {
        "id": "obuKhcvbsdHD"
      },
      "source": [
        "X_train, X_test, y_train, y_test = train_test_split(X, y, test_size=0.2, random_state=5)"
      ],
      "execution_count": null,
      "outputs": []
    },
    {
      "cell_type": "code",
      "metadata": {
        "id": "FEXLMcP7sdDZ"
      },
      "source": [
        "y_test"
      ],
      "execution_count": null,
      "outputs": []
    },
    {
      "cell_type": "code",
      "metadata": {
        "colab": {
          "base_uri": "https://localhost:8080/"
        },
        "id": "9Hn2hAiBsc--",
        "outputId": "66e971ab-1aee-41eb-f93e-5ee79d9b435c"
      },
      "source": [
        "LinearReg = LinearRegression()  \n",
        "LinearReg.fit(X_train, y_train)\n",
        "\n",
        "y_pred_Train = LinearReg.predict(X_train) #Predictions on training model\n",
        "y_pred_Test  = LinearReg.predict(X_test)  #Predictions on testing model\n",
        "\n",
        "print('Intercept:',LinearReg.intercept_)\n",
        "print('Coefficients:', LinearReg.coef_)"
      ],
      "execution_count": null,
      "outputs": [
        {
          "output_type": "stream",
          "name": "stdout",
          "text": [
            "Intercept: -0.3915875562565011\n",
            "Coefficients: [ 1.41753457e-07  5.60812329e-06 -7.42505232e-08 -2.27319358e-07\n",
            " -2.14039600e-07 -6.20844390e-09  2.20838675e-07 -1.10529457e-07]\n"
          ]
        }
      ]
    },
    {
      "cell_type": "code",
      "metadata": {
        "id": "v-w0NgkHcobL"
      },
      "source": [
        "#pd.DataFrame({\"Feature\":X_train.columns.tolist(),\"Coefficients\":logreg.coef_[0]})"
      ],
      "execution_count": null,
      "outputs": []
    },
    {
      "cell_type": "code",
      "metadata": {
        "colab": {
          "base_uri": "https://localhost:8080/",
          "height": 297
        },
        "id": "s8fSiDH_d5j7",
        "outputId": "0bdd6c05-2ffc-495f-d261-8dd5790fb769"
      },
      "source": [
        "pd.DataFrame({\"Feature\":X_train.columns.tolist(),\"Coefficients\": LinearReg.coef_[0]})"
      ],
      "execution_count": null,
      "outputs": [
        {
          "output_type": "execute_result",
          "data": {
            "text/html": [
              "<div>\n",
              "<style scoped>\n",
              "    .dataframe tbody tr th:only-of-type {\n",
              "        vertical-align: middle;\n",
              "    }\n",
              "\n",
              "    .dataframe tbody tr th {\n",
              "        vertical-align: top;\n",
              "    }\n",
              "\n",
              "    .dataframe thead th {\n",
              "        text-align: right;\n",
              "    }\n",
              "</style>\n",
              "<table border=\"1\" class=\"dataframe\">\n",
              "  <thead>\n",
              "    <tr style=\"text-align: right;\">\n",
              "      <th></th>\n",
              "      <th>Feature</th>\n",
              "      <th>Coefficients</th>\n",
              "    </tr>\n",
              "  </thead>\n",
              "  <tbody>\n",
              "    <tr>\n",
              "      <th>0</th>\n",
              "      <td>Consumer_credit</td>\n",
              "      <td>1.417535e-07</td>\n",
              "    </tr>\n",
              "    <tr>\n",
              "      <th>1</th>\n",
              "      <td>Consumer_microcredit</td>\n",
              "      <td>1.417535e-07</td>\n",
              "    </tr>\n",
              "    <tr>\n",
              "      <th>2</th>\n",
              "      <td>Ordinary_credit</td>\n",
              "      <td>1.417535e-07</td>\n",
              "    </tr>\n",
              "    <tr>\n",
              "      <th>3</th>\n",
              "      <td>Preferencial_credit</td>\n",
              "      <td>1.417535e-07</td>\n",
              "    </tr>\n",
              "    <tr>\n",
              "      <th>4</th>\n",
              "      <td>loan_overdrafts</td>\n",
              "      <td>1.417535e-07</td>\n",
              "    </tr>\n",
              "    <tr>\n",
              "      <th>5</th>\n",
              "      <td>Credit_card</td>\n",
              "      <td>1.417535e-07</td>\n",
              "    </tr>\n",
              "    <tr>\n",
              "      <th>6</th>\n",
              "      <td>Treasury_loan</td>\n",
              "      <td>1.417535e-07</td>\n",
              "    </tr>\n",
              "    <tr>\n",
              "      <th>7</th>\n",
              "      <td>Housing_loan</td>\n",
              "      <td>1.417535e-07</td>\n",
              "    </tr>\n",
              "  </tbody>\n",
              "</table>\n",
              "</div>"
            ],
            "text/plain": [
              "                Feature  Coefficients\n",
              "0       Consumer_credit  1.417535e-07\n",
              "1  Consumer_microcredit  1.417535e-07\n",
              "2       Ordinary_credit  1.417535e-07\n",
              "3   Preferencial_credit  1.417535e-07\n",
              "4       loan_overdrafts  1.417535e-07\n",
              "5           Credit_card  1.417535e-07\n",
              "6         Treasury_loan  1.417535e-07\n",
              "7          Housing_loan  1.417535e-07"
            ]
          },
          "metadata": {},
          "execution_count": 26
        }
      ]
    },
    {
      "cell_type": "code",
      "metadata": {
        "id": "9ZpN_vD3cnNp"
      },
      "source": [
        ""
      ],
      "execution_count": null,
      "outputs": []
    },
    {
      "cell_type": "code",
      "metadata": {
        "colab": {
          "base_uri": "https://localhost:8080/",
          "height": 295
        },
        "id": "d6Zqskf4sc7f",
        "outputId": "18dd8e7d-55c2-4248-8247-0fedf0927dda"
      },
      "source": [
        "#Two plots togheter\n",
        "#\n",
        "#The testing set below does not look represenative of training set.\n",
        "\n",
        "fig, ax = plt.subplots(ncols=2, figsize=(10,4))\n",
        "\n",
        "ax[0].scatter(y_train, y_pred_Train)\n",
        "ax[0].set_ylim(0,2)\n",
        "ax[0].set_xlim(0,2)\n",
        "ax[0].grid()\n",
        "ax[0].set_xlabel('y')\n",
        "ax[0].set_ylabel('yhat')\n",
        "ax[0].set_title('Training Set')\n",
        "\n",
        "\n",
        "ax[1].scatter(y_test, y_pred_Test)\n",
        "ax[1].set_ylim(0,2)\n",
        "ax[1].set_xlim(0,2)\n",
        "ax[1].grid()\n",
        "ax[1].set_xlabel('y')\n",
        "ax[1].set_ylabel('yhat')\n",
        "ax[1].set_title('Testing Set')\n",
        "plt.show()"
      ],
      "execution_count": null,
      "outputs": [
        {
          "output_type": "display_data",
          "data": {
            "image/png": "[encoded data removed]",
            "text/plain": [
              "<Figure size 720x288 with 2 Axes>"
            ]
          },
          "metadata": {
            "needs_background": "light"
          }
        }
      ]
    },
    {
      "cell_type": "code",
      "metadata": {
        "colab": {
          "base_uri": "https://localhost:8080/"
        },
        "id": "fjICG0w-sc39",
        "outputId": "87f830a2-b57b-490d-8c8f-53f1c65986a0"
      },
      "source": [
        "print('Training Metrics:')\n",
        "print('R squared:', metrics.r2_score(y_train, y_pred_Train))\n",
        "print('Mean Absolute Error:', metrics.mean_absolute_error(y_train, y_pred_Train))  \n",
        "print('Mean Squared Error:', metrics.mean_squared_error(y_train, y_pred_Train))  \n",
        "print('Root Mean Squared Error:', np.sqrt(metrics.mean_squared_error(y_train, y_pred_Train)))\n",
        "\n",
        "print('\\nTesting Metrics:')\n",
        "print('R squared:', metrics.r2_score(y_test, y_pred_Test))\n",
        "print('Mean Absolute Error:', metrics.mean_absolute_error(y_test, y_pred_Test))  \n",
        "print('Mean Squared Error:', metrics.mean_squared_error(y_test, y_pred_Test))  \n",
        "print('Root Mean Squared Error:', np.sqrt(metrics.mean_squared_error(y_test, y_pred_Test)))"
      ],
      "execution_count": null,
      "outputs": [
        {
          "output_type": "stream",
          "name": "stdout",
          "text": [
            "Training Metrics:\n",
            "R squared: 0.6544835540106216\n",
            "Mean Absolute Error: 0.4406117904837232\n",
            "Mean Squared Error: 0.3578138963694897\n",
            "Root Mean Squared Error: 0.5981754728919347\n",
            "\n",
            "Testing Metrics:\n",
            "R squared: 0.31924053030653665\n",
            "Mean Absolute Error: 0.5742700277840553\n",
            "Mean Squared Error: 0.5717878034050782\n",
            "Root Mean Squared Error: 0.7561665183047172\n"
          ]
        }
      ]
    },
    {
      "cell_type": "markdown",
      "metadata": {
        "id": "YFbGkYOmixhM"
      },
      "source": [
        "## Auto feature selection\n",
        "\n",
        "#To use the most recent version\n",
        "pip install autoviml --upgrade --ignore-installed\n",
        "\n",
        "xgboost\n",
        "\n",
        "[link text](https://towardsdatascience.com/feature-selection-techniques-in-machine-learning-with-python-f24e7da3f36e)\n",
        "\n",
        "Jason: [link text](https://machinelearningmastery.com/feature-selection-with-real-and-categorical-data/)\n",
        "\n"
      ]
    },
    {
      "cell_type": "code",
      "metadata": {
        "id": "Opb72D3OdyeD"
      },
      "source": [
        "#####"
      ],
      "execution_count": null,
      "outputs": []
    },
    {
      "cell_type": "code",
      "metadata": {
        "id": "B0HmI1NMh0q3"
      },
      "source": [
        ""
      ],
      "execution_count": null,
      "outputs": []
    },
    {
      "cell_type": "code",
      "metadata": {
        "id": "x3JtsJfbh0or"
      },
      "source": [
        ""
      ],
      "execution_count": null,
      "outputs": []
    },
    {
      "cell_type": "code",
      "metadata": {
        "id": "3wPEfcyTh0lP"
      },
      "source": [
        ""
      ],
      "execution_count": null,
      "outputs": []
    },
    {
      "cell_type": "code",
      "metadata": {
        "id": "gbOmIILKh0hQ"
      },
      "source": [
        ""
      ],
      "execution_count": null,
      "outputs": []
    },
    {
      "cell_type": "code",
      "metadata": {
        "id": "HWFHdegec-cM"
      },
      "source": [
        ""
      ],
      "execution_count": null,
      "outputs": []
    },
    {
      "cell_type": "markdown",
      "metadata": {
        "id": "i-gqvraa3DMO"
      },
      "source": [
        "# Her eai try to select a single value, Qty at Dec 2020 and then runa  regression agains teh entire data frame using that value"
      ]
    },
    {
      "cell_type": "markdown",
      "metadata": {
        "id": "oX6oBoiD3x9G"
      },
      "source": [
        "### first find islaote Qty Dec 2020"
      ]
    },
    {
      "cell_type": "code",
      "metadata": {
        "id": "kV28se8Q4G7u"
      },
      "source": [
        ""
      ],
      "execution_count": null,
      "outputs": []
    },
    {
      "cell_type": "markdown",
      "metadata": {
        "id": "NJfTn_GgeY26"
      },
      "source": [
        "# Basement Junk"
      ]
    },
    {
      "cell_type": "code",
      "metadata": {
        "id": "fhiCC5AD3RyX"
      },
      "source": [
        ""
      ],
      "execution_count": null,
      "outputs": []
    },
    {
      "cell_type": "code",
      "metadata": {
        "id": "HtFzrMYU3RvR"
      },
      "source": [
        ""
      ],
      "execution_count": null,
      "outputs": []
    },
    {
      "cell_type": "code",
      "metadata": {
        "id": "aRc010i23Rr_"
      },
      "source": [
        ""
      ],
      "execution_count": null,
      "outputs": []
    },
    {
      "cell_type": "code",
      "metadata": {
        "id": "qBeD1dRKghw9"
      },
      "source": [
        ""
      ],
      "execution_count": null,
      "outputs": []
    }
  ]
}