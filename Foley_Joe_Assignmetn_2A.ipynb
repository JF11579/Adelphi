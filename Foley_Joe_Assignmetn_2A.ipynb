{
  "nbformat": 4,
  "nbformat_minor": 0,
  "metadata": {
    "colab": {
      "name": "Foley_Joe_Assignmetn_2A.ipynb",
      "provenance": [],
      "collapsed_sections": [],
      "authorship_tag": "ABX9TyPc2E57gNhdFq/T3P4jRvX6",
      "include_colab_link": true
    },
    "kernelspec": {
      "name": "ir",
      "display_name": "R"
    },
    "language_info": {
      "name": "R"
    }
  },
  "cells": [
    {
      "cell_type": "markdown",
      "metadata": {
        "id": "view-in-github",
        "colab_type": "text"
      },
      "source": [
        "<a href=\"https://colab.research.google.com/github/JF11579/Adelphi/blob/main/Foley_Joe_Assignmetn_2A.ipynb\" target=\"_parent\"><img src=\"https://colab.research.google.com/assets/colab-badge.svg\" alt=\"Open In Colab\"/></a>"
      ]
    },
    {
      "cell_type": "code",
      "execution_count": null,
      "metadata": {
        "id": "OHsUHiDRrDdg"
      },
      "outputs": [],
      "source": [
        ""
      ]
    },
    {
      "cell_type": "markdown",
      "source": [
        "\n",
        "# Packages"
      ],
      "metadata": {
        "id": "vq0ChtWurLVV"
      }
    },
    {
      "cell_type": "code",
      "source": [
        "library(tidyverse)\n",
        "install.packages(\"ISLR\")\n",
        "library(ISLR)\n",
        "library(lubridate)\n",
        "install.packages(\"psycho\")\n",
        "library(psycho)\n",
        "library(class)\n",
        "install.packages(\"gmodels\")\n",
        "library(gmodels)"
      ],
      "metadata": {
        "colab": {
          "base_uri": "https://localhost:8080/"
        },
        "id": "8qZNtwMTrTcg",
        "outputId": "00e60e37-fd81-4486-a3e1-52a5e49975f2"
      },
      "execution_count": 60,
      "outputs": [
        {
          "output_type": "stream",
          "name": "stderr",
          "text": [
            "Installing package into ‘/usr/local/lib/R/site-library’\n",
            "(as ‘lib’ is unspecified)\n",
            "\n",
            "Installing package into ‘/usr/local/lib/R/site-library’\n",
            "(as ‘lib’ is unspecified)\n",
            "\n",
            "Installing package into ‘/usr/local/lib/R/site-library’\n",
            "(as ‘lib’ is unspecified)\n",
            "\n",
            "also installing the dependencies ‘gtools’, ‘gdata’\n",
            "\n",
            "\n"
          ]
        }
      ]
    },
    {
      "cell_type": "markdown",
      "source": [
        "# Data Prep"
      ],
      "metadata": {
        "id": "kpExfizpr50Y"
      }
    },
    {
      "cell_type": "code",
      "source": [
        "head(Smarket,5)"
      ],
      "metadata": {
        "colab": {
          "base_uri": "https://localhost:8080/",
          "height": 255
        },
        "id": "cotg5If4rZQu",
        "outputId": "4c1d28fb-1f7a-4ad8-d2c0-52b98ae1fc4f"
      },
      "execution_count": 4,
      "outputs": [
        {
          "output_type": "display_data",
          "data": {
            "text/plain": [
              "  Year Lag1   Lag2   Lag3   Lag4   Lag5   Volume Today  Direction\n",
              "1 2001  0.381 -0.192 -2.624 -1.055  5.010 1.1913  0.959 Up       \n",
              "2 2001  0.959  0.381 -0.192 -2.624 -1.055 1.2965  1.032 Up       \n",
              "3 2001  1.032  0.959  0.381 -0.192 -2.624 1.4112 -0.623 Down     \n",
              "4 2001 -0.623  1.032  0.959  0.381 -0.192 1.2760  0.614 Up       \n",
              "5 2001  0.614 -0.623  1.032  0.959  0.381 1.2057  0.213 Up       "
            ],
            "text/latex": "A data.frame: 5 × 9\n\\begin{tabular}{r|lllllllll}\n  & Year & Lag1 & Lag2 & Lag3 & Lag4 & Lag5 & Volume & Today & Direction\\\\\n  & <dbl> & <dbl> & <dbl> & <dbl> & <dbl> & <dbl> & <dbl> & <dbl> & <fct>\\\\\n\\hline\n\t1 & 2001 &  0.381 & -0.192 & -2.624 & -1.055 &  5.010 & 1.1913 &  0.959 & Up  \\\\\n\t2 & 2001 &  0.959 &  0.381 & -0.192 & -2.624 & -1.055 & 1.2965 &  1.032 & Up  \\\\\n\t3 & 2001 &  1.032 &  0.959 &  0.381 & -0.192 & -2.624 & 1.4112 & -0.623 & Down\\\\\n\t4 & 2001 & -0.623 &  1.032 &  0.959 &  0.381 & -0.192 & 1.2760 &  0.614 & Up  \\\\\n\t5 & 2001 &  0.614 & -0.623 &  1.032 &  0.959 &  0.381 & 1.2057 &  0.213 & Up  \\\\\n\\end{tabular}\n",
            "text/markdown": "\nA data.frame: 5 × 9\n\n| <!--/--> | Year &lt;dbl&gt; | Lag1 &lt;dbl&gt; | Lag2 &lt;dbl&gt; | Lag3 &lt;dbl&gt; | Lag4 &lt;dbl&gt; | Lag5 &lt;dbl&gt; | Volume &lt;dbl&gt; | Today &lt;dbl&gt; | Direction &lt;fct&gt; |\n|---|---|---|---|---|---|---|---|---|---|\n| 1 | 2001 |  0.381 | -0.192 | -2.624 | -1.055 |  5.010 | 1.1913 |  0.959 | Up   |\n| 2 | 2001 |  0.959 |  0.381 | -0.192 | -2.624 | -1.055 | 1.2965 |  1.032 | Up   |\n| 3 | 2001 |  1.032 |  0.959 |  0.381 | -0.192 | -2.624 | 1.4112 | -0.623 | Down |\n| 4 | 2001 | -0.623 |  1.032 |  0.959 |  0.381 | -0.192 | 1.2760 |  0.614 | Up   |\n| 5 | 2001 |  0.614 | -0.623 |  1.032 |  0.959 |  0.381 | 1.2057 |  0.213 | Up   |\n\n",
            "text/html": [
              "<table class=\"dataframe\">\n",
              "<caption>A data.frame: 5 × 9</caption>\n",
              "<thead>\n",
              "\t<tr><th></th><th scope=col>Year</th><th scope=col>Lag1</th><th scope=col>Lag2</th><th scope=col>Lag3</th><th scope=col>Lag4</th><th scope=col>Lag5</th><th scope=col>Volume</th><th scope=col>Today</th><th scope=col>Direction</th></tr>\n",
              "\t<tr><th></th><th scope=col>&lt;dbl&gt;</th><th scope=col>&lt;dbl&gt;</th><th scope=col>&lt;dbl&gt;</th><th scope=col>&lt;dbl&gt;</th><th scope=col>&lt;dbl&gt;</th><th scope=col>&lt;dbl&gt;</th><th scope=col>&lt;dbl&gt;</th><th scope=col>&lt;dbl&gt;</th><th scope=col>&lt;fct&gt;</th></tr>\n",
              "</thead>\n",
              "<tbody>\n",
              "\t<tr><th scope=row>1</th><td>2001</td><td> 0.381</td><td>-0.192</td><td>-2.624</td><td>-1.055</td><td> 5.010</td><td>1.1913</td><td> 0.959</td><td>Up  </td></tr>\n",
              "\t<tr><th scope=row>2</th><td>2001</td><td> 0.959</td><td> 0.381</td><td>-0.192</td><td>-2.624</td><td>-1.055</td><td>1.2965</td><td> 1.032</td><td>Up  </td></tr>\n",
              "\t<tr><th scope=row>3</th><td>2001</td><td> 1.032</td><td> 0.959</td><td> 0.381</td><td>-0.192</td><td>-2.624</td><td>1.4112</td><td>-0.623</td><td>Down</td></tr>\n",
              "\t<tr><th scope=row>4</th><td>2001</td><td>-0.623</td><td> 1.032</td><td> 0.959</td><td> 0.381</td><td>-0.192</td><td>1.2760</td><td> 0.614</td><td>Up  </td></tr>\n",
              "\t<tr><th scope=row>5</th><td>2001</td><td> 0.614</td><td>-0.623</td><td> 1.032</td><td> 0.959</td><td> 0.381</td><td>1.2057</td><td> 0.213</td><td>Up  </td></tr>\n",
              "</tbody>\n",
              "</table>\n"
            ]
          },
          "metadata": {}
        }
      ]
    },
    {
      "cell_type": "code",
      "source": [
        "Smarket$Year <- as.factor(Smarket$Year)"
      ],
      "metadata": {
        "id": "bLynrBdNr2Ts"
      },
      "execution_count": 5,
      "outputs": []
    },
    {
      "cell_type": "markdown",
      "source": [
        "## Divide the Smarket into two datasets: 2001 through 2004 will be the training data,"
      ],
      "metadata": {
        "id": "2jvzIve2sMNW"
      }
    },
    {
      "cell_type": "code",
      "source": [
        "Smarket_train <- Smarket %>% filter(Smarket$Year %in% 2001:2004)"
      ],
      "metadata": {
        "id": "2Dchit4Pr3QR"
      },
      "execution_count": 26,
      "outputs": []
    },
    {
      "cell_type": "code",
      "source": [
        "dim(Smarket_train )"
      ],
      "metadata": {
        "colab": {
          "base_uri": "https://localhost:8080/",
          "height": 34
        },
        "id": "rjLi4fONsSSz",
        "outputId": "2879c09e-e5ec-49d3-9893-6ed68c3f90de"
      },
      "execution_count": 27,
      "outputs": [
        {
          "output_type": "display_data",
          "data": {
            "text/plain": [
              "[1] 998   9"
            ],
            "text/latex": "\\begin{enumerate*}\n\\item 998\n\\item 9\n\\end{enumerate*}\n",
            "text/markdown": "1. 998\n2. 9\n\n\n",
            "text/html": [
              "<style>\n",
              ".list-inline {list-style: none; margin:0; padding: 0}\n",
              ".list-inline>li {display: inline-block}\n",
              ".list-inline>li:not(:last-child)::after {content: \"\\00b7\"; padding: 0 .5ex}\n",
              "</style>\n",
              "<ol class=list-inline><li>998</li><li>9</li></ol>\n"
            ]
          },
          "metadata": {}
        }
      ]
    },
    {
      "cell_type": "code",
      "source": [
        "head(Smarket_train)"
      ],
      "metadata": {
        "colab": {
          "base_uri": "https://localhost:8080/",
          "height": 286
        },
        "id": "cnrejQr1z7iu",
        "outputId": "fef20b78-75e3-4ffa-92d7-8279568dc10f"
      },
      "execution_count": 39,
      "outputs": [
        {
          "output_type": "display_data",
          "data": {
            "text/plain": [
              "  Year Lag1   Lag2   Lag3   Lag4   Lag5   Volume Today  Direction\n",
              "1 2001  0.381 -0.192 -2.624 -1.055  5.010 1.1913  0.959 Up       \n",
              "2 2001  0.959  0.381 -0.192 -2.624 -1.055 1.2965  1.032 Up       \n",
              "3 2001  1.032  0.959  0.381 -0.192 -2.624 1.4112 -0.623 Down     \n",
              "4 2001 -0.623  1.032  0.959  0.381 -0.192 1.2760  0.614 Up       \n",
              "5 2001  0.614 -0.623  1.032  0.959  0.381 1.2057  0.213 Up       \n",
              "6 2001  0.213  0.614 -0.623  1.032  0.959 1.3491  1.392 Up       "
            ],
            "text/latex": "A data.frame: 6 × 9\n\\begin{tabular}{r|lllllllll}\n  & Year & Lag1 & Lag2 & Lag3 & Lag4 & Lag5 & Volume & Today & Direction\\\\\n  & <fct> & <dbl> & <dbl> & <dbl> & <dbl> & <dbl> & <dbl> & <dbl> & <fct>\\\\\n\\hline\n\t1 & 2001 &  0.381 & -0.192 & -2.624 & -1.055 &  5.010 & 1.1913 &  0.959 & Up  \\\\\n\t2 & 2001 &  0.959 &  0.381 & -0.192 & -2.624 & -1.055 & 1.2965 &  1.032 & Up  \\\\\n\t3 & 2001 &  1.032 &  0.959 &  0.381 & -0.192 & -2.624 & 1.4112 & -0.623 & Down\\\\\n\t4 & 2001 & -0.623 &  1.032 &  0.959 &  0.381 & -0.192 & 1.2760 &  0.614 & Up  \\\\\n\t5 & 2001 &  0.614 & -0.623 &  1.032 &  0.959 &  0.381 & 1.2057 &  0.213 & Up  \\\\\n\t6 & 2001 &  0.213 &  0.614 & -0.623 &  1.032 &  0.959 & 1.3491 &  1.392 & Up  \\\\\n\\end{tabular}\n",
            "text/markdown": "\nA data.frame: 6 × 9\n\n| <!--/--> | Year &lt;fct&gt; | Lag1 &lt;dbl&gt; | Lag2 &lt;dbl&gt; | Lag3 &lt;dbl&gt; | Lag4 &lt;dbl&gt; | Lag5 &lt;dbl&gt; | Volume &lt;dbl&gt; | Today &lt;dbl&gt; | Direction &lt;fct&gt; |\n|---|---|---|---|---|---|---|---|---|---|\n| 1 | 2001 |  0.381 | -0.192 | -2.624 | -1.055 |  5.010 | 1.1913 |  0.959 | Up   |\n| 2 | 2001 |  0.959 |  0.381 | -0.192 | -2.624 | -1.055 | 1.2965 |  1.032 | Up   |\n| 3 | 2001 |  1.032 |  0.959 |  0.381 | -0.192 | -2.624 | 1.4112 | -0.623 | Down |\n| 4 | 2001 | -0.623 |  1.032 |  0.959 |  0.381 | -0.192 | 1.2760 |  0.614 | Up   |\n| 5 | 2001 |  0.614 | -0.623 |  1.032 |  0.959 |  0.381 | 1.2057 |  0.213 | Up   |\n| 6 | 2001 |  0.213 |  0.614 | -0.623 |  1.032 |  0.959 | 1.3491 |  1.392 | Up   |\n\n",
            "text/html": [
              "<table class=\"dataframe\">\n",
              "<caption>A data.frame: 6 × 9</caption>\n",
              "<thead>\n",
              "\t<tr><th></th><th scope=col>Year</th><th scope=col>Lag1</th><th scope=col>Lag2</th><th scope=col>Lag3</th><th scope=col>Lag4</th><th scope=col>Lag5</th><th scope=col>Volume</th><th scope=col>Today</th><th scope=col>Direction</th></tr>\n",
              "\t<tr><th></th><th scope=col>&lt;fct&gt;</th><th scope=col>&lt;dbl&gt;</th><th scope=col>&lt;dbl&gt;</th><th scope=col>&lt;dbl&gt;</th><th scope=col>&lt;dbl&gt;</th><th scope=col>&lt;dbl&gt;</th><th scope=col>&lt;dbl&gt;</th><th scope=col>&lt;dbl&gt;</th><th scope=col>&lt;fct&gt;</th></tr>\n",
              "</thead>\n",
              "<tbody>\n",
              "\t<tr><th scope=row>1</th><td>2001</td><td> 0.381</td><td>-0.192</td><td>-2.624</td><td>-1.055</td><td> 5.010</td><td>1.1913</td><td> 0.959</td><td>Up  </td></tr>\n",
              "\t<tr><th scope=row>2</th><td>2001</td><td> 0.959</td><td> 0.381</td><td>-0.192</td><td>-2.624</td><td>-1.055</td><td>1.2965</td><td> 1.032</td><td>Up  </td></tr>\n",
              "\t<tr><th scope=row>3</th><td>2001</td><td> 1.032</td><td> 0.959</td><td> 0.381</td><td>-0.192</td><td>-2.624</td><td>1.4112</td><td>-0.623</td><td>Down</td></tr>\n",
              "\t<tr><th scope=row>4</th><td>2001</td><td>-0.623</td><td> 1.032</td><td> 0.959</td><td> 0.381</td><td>-0.192</td><td>1.2760</td><td> 0.614</td><td>Up  </td></tr>\n",
              "\t<tr><th scope=row>5</th><td>2001</td><td> 0.614</td><td>-0.623</td><td> 1.032</td><td> 0.959</td><td> 0.381</td><td>1.2057</td><td> 0.213</td><td>Up  </td></tr>\n",
              "\t<tr><th scope=row>6</th><td>2001</td><td> 0.213</td><td> 0.614</td><td>-0.623</td><td> 1.032</td><td> 0.959</td><td>1.3491</td><td> 1.392</td><td>Up  </td></tr>\n",
              "</tbody>\n",
              "</table>\n"
            ]
          },
          "metadata": {}
        }
      ]
    },
    {
      "cell_type": "markdown",
      "source": [
        "## and\n",
        "2005 will be the test data."
      ],
      "metadata": {
        "id": "WGX-hhGnshKa"
      }
    },
    {
      "cell_type": "code",
      "source": [
        "Smarket_test <- filter(Smarket, Year == 2005)"
      ],
      "metadata": {
        "id": "mccjcsSRsYlE"
      },
      "execution_count": 46,
      "outputs": []
    },
    {
      "cell_type": "code",
      "source": [
        "dim(Smarket_test )"
      ],
      "metadata": {
        "colab": {
          "base_uri": "https://localhost:8080/",
          "height": 34
        },
        "id": "YvwIEfursmRv",
        "outputId": "6edce87e-b4e4-4b32-95d4-785a11a31166"
      },
      "execution_count": 47,
      "outputs": [
        {
          "output_type": "display_data",
          "data": {
            "text/plain": [
              "[1] 252   9"
            ],
            "text/latex": "\\begin{enumerate*}\n\\item 252\n\\item 9\n\\end{enumerate*}\n",
            "text/markdown": "1. 252\n2. 9\n\n\n",
            "text/html": [
              "<style>\n",
              ".list-inline {list-style: none; margin:0; padding: 0}\n",
              ".list-inline>li {display: inline-block}\n",
              ".list-inline>li:not(:last-child)::after {content: \"\\00b7\"; padding: 0 .5ex}\n",
              "</style>\n",
              "<ol class=list-inline><li>252</li><li>9</li></ol>\n"
            ]
          },
          "metadata": {}
        }
      ]
    },
    {
      "cell_type": "code",
      "source": [
        "head(Smarket_test)"
      ],
      "metadata": {
        "colab": {
          "base_uri": "https://localhost:8080/",
          "height": 286
        },
        "id": "EuuwS1QN1GsC",
        "outputId": "add51a4c-ba2b-4be9-f00b-7dd75983616a"
      },
      "execution_count": 48,
      "outputs": [
        {
          "output_type": "display_data",
          "data": {
            "text/plain": [
              "  Year Lag1   Lag2   Lag3   Lag4   Lag5   Volume Today  Direction\n",
              "1 2005 -0.134  0.008 -0.007  0.715 -0.431 0.7869 -0.812 Down     \n",
              "2 2005 -0.812 -0.134  0.008 -0.007  0.715 1.5108 -1.167 Down     \n",
              "3 2005 -1.167 -0.812 -0.134  0.008 -0.007 1.7210 -0.363 Down     \n",
              "4 2005 -0.363 -1.167 -0.812 -0.134  0.008 1.7389  0.351 Up       \n",
              "5 2005  0.351 -0.363 -1.167 -0.812 -0.134 1.5691 -0.143 Down     \n",
              "6 2005 -0.143  0.351 -0.363 -1.167 -0.812 1.4779  0.342 Up       "
            ],
            "text/latex": "A data.frame: 6 × 9\n\\begin{tabular}{r|lllllllll}\n  & Year & Lag1 & Lag2 & Lag3 & Lag4 & Lag5 & Volume & Today & Direction\\\\\n  & <fct> & <dbl> & <dbl> & <dbl> & <dbl> & <dbl> & <dbl> & <dbl> & <fct>\\\\\n\\hline\n\t1 & 2005 & -0.134 &  0.008 & -0.007 &  0.715 & -0.431 & 0.7869 & -0.812 & Down\\\\\n\t2 & 2005 & -0.812 & -0.134 &  0.008 & -0.007 &  0.715 & 1.5108 & -1.167 & Down\\\\\n\t3 & 2005 & -1.167 & -0.812 & -0.134 &  0.008 & -0.007 & 1.7210 & -0.363 & Down\\\\\n\t4 & 2005 & -0.363 & -1.167 & -0.812 & -0.134 &  0.008 & 1.7389 &  0.351 & Up  \\\\\n\t5 & 2005 &  0.351 & -0.363 & -1.167 & -0.812 & -0.134 & 1.5691 & -0.143 & Down\\\\\n\t6 & 2005 & -0.143 &  0.351 & -0.363 & -1.167 & -0.812 & 1.4779 &  0.342 & Up  \\\\\n\\end{tabular}\n",
            "text/markdown": "\nA data.frame: 6 × 9\n\n| <!--/--> | Year &lt;fct&gt; | Lag1 &lt;dbl&gt; | Lag2 &lt;dbl&gt; | Lag3 &lt;dbl&gt; | Lag4 &lt;dbl&gt; | Lag5 &lt;dbl&gt; | Volume &lt;dbl&gt; | Today &lt;dbl&gt; | Direction &lt;fct&gt; |\n|---|---|---|---|---|---|---|---|---|---|\n| 1 | 2005 | -0.134 |  0.008 | -0.007 |  0.715 | -0.431 | 0.7869 | -0.812 | Down |\n| 2 | 2005 | -0.812 | -0.134 |  0.008 | -0.007 |  0.715 | 1.5108 | -1.167 | Down |\n| 3 | 2005 | -1.167 | -0.812 | -0.134 |  0.008 | -0.007 | 1.7210 | -0.363 | Down |\n| 4 | 2005 | -0.363 | -1.167 | -0.812 | -0.134 |  0.008 | 1.7389 |  0.351 | Up   |\n| 5 | 2005 |  0.351 | -0.363 | -1.167 | -0.812 | -0.134 | 1.5691 | -0.143 | Down |\n| 6 | 2005 | -0.143 |  0.351 | -0.363 | -1.167 | -0.812 | 1.4779 |  0.342 | Up   |\n\n",
            "text/html": [
              "<table class=\"dataframe\">\n",
              "<caption>A data.frame: 6 × 9</caption>\n",
              "<thead>\n",
              "\t<tr><th></th><th scope=col>Year</th><th scope=col>Lag1</th><th scope=col>Lag2</th><th scope=col>Lag3</th><th scope=col>Lag4</th><th scope=col>Lag5</th><th scope=col>Volume</th><th scope=col>Today</th><th scope=col>Direction</th></tr>\n",
              "\t<tr><th></th><th scope=col>&lt;fct&gt;</th><th scope=col>&lt;dbl&gt;</th><th scope=col>&lt;dbl&gt;</th><th scope=col>&lt;dbl&gt;</th><th scope=col>&lt;dbl&gt;</th><th scope=col>&lt;dbl&gt;</th><th scope=col>&lt;dbl&gt;</th><th scope=col>&lt;dbl&gt;</th><th scope=col>&lt;fct&gt;</th></tr>\n",
              "</thead>\n",
              "<tbody>\n",
              "\t<tr><th scope=row>1</th><td>2005</td><td>-0.134</td><td> 0.008</td><td>-0.007</td><td> 0.715</td><td>-0.431</td><td>0.7869</td><td>-0.812</td><td>Down</td></tr>\n",
              "\t<tr><th scope=row>2</th><td>2005</td><td>-0.812</td><td>-0.134</td><td> 0.008</td><td>-0.007</td><td> 0.715</td><td>1.5108</td><td>-1.167</td><td>Down</td></tr>\n",
              "\t<tr><th scope=row>3</th><td>2005</td><td>-1.167</td><td>-0.812</td><td>-0.134</td><td> 0.008</td><td>-0.007</td><td>1.7210</td><td>-0.363</td><td>Down</td></tr>\n",
              "\t<tr><th scope=row>4</th><td>2005</td><td>-0.363</td><td>-1.167</td><td>-0.812</td><td>-0.134</td><td> 0.008</td><td>1.7389</td><td> 0.351</td><td>Up  </td></tr>\n",
              "\t<tr><th scope=row>5</th><td>2005</td><td> 0.351</td><td>-0.363</td><td>-1.167</td><td>-0.812</td><td>-0.134</td><td>1.5691</td><td>-0.143</td><td>Down</td></tr>\n",
              "\t<tr><th scope=row>6</th><td>2005</td><td>-0.143</td><td> 0.351</td><td>-0.363</td><td>-1.167</td><td>-0.812</td><td>1.4779</td><td> 0.342</td><td>Up  </td></tr>\n",
              "</tbody>\n",
              "</table>\n"
            ]
          },
          "metadata": {}
        }
      ]
    },
    {
      "cell_type": "markdown",
      "source": [
        "Create a subset of the Smarket_train data set which only includes columns 2 to 6 (Lag1,\n",
        "Lag2, Lag3, Lag4, Lag5, and Volume) and name it Smarket_train_x."
      ],
      "metadata": {
        "id": "hlrJxbnmtSn_"
      }
    },
    {
      "cell_type": "code",
      "source": [
        "Smarket_train_x <- Smarket_training  %>% select(2:7)"
      ],
      "metadata": {
        "id": "6eOJqpzys-VD"
      },
      "execution_count": 30,
      "outputs": []
    },
    {
      "cell_type": "code",
      "source": [
        "head(Smarket_train_x)"
      ],
      "metadata": {
        "colab": {
          "base_uri": "https://localhost:8080/",
          "height": 286
        },
        "id": "UNfIA0wJthjA",
        "outputId": "bf6bc838-b642-4719-8d60-3a4c87efeafc"
      },
      "execution_count": 31,
      "outputs": [
        {
          "output_type": "display_data",
          "data": {
            "text/plain": [
              "  Lag1   Lag2   Lag3   Lag4   Lag5   Volume\n",
              "1  0.381 -0.192 -2.624 -1.055  5.010 1.1913\n",
              "2  0.959  0.381 -0.192 -2.624 -1.055 1.2965\n",
              "3  1.032  0.959  0.381 -0.192 -2.624 1.4112\n",
              "4 -0.623  1.032  0.959  0.381 -0.192 1.2760\n",
              "5  0.614 -0.623  1.032  0.959  0.381 1.2057\n",
              "6  0.213  0.614 -0.623  1.032  0.959 1.3491"
            ],
            "text/latex": "A data.frame: 6 × 6\n\\begin{tabular}{r|llllll}\n  & Lag1 & Lag2 & Lag3 & Lag4 & Lag5 & Volume\\\\\n  & <dbl> & <dbl> & <dbl> & <dbl> & <dbl> & <dbl>\\\\\n\\hline\n\t1 &  0.381 & -0.192 & -2.624 & -1.055 &  5.010 & 1.1913\\\\\n\t2 &  0.959 &  0.381 & -0.192 & -2.624 & -1.055 & 1.2965\\\\\n\t3 &  1.032 &  0.959 &  0.381 & -0.192 & -2.624 & 1.4112\\\\\n\t4 & -0.623 &  1.032 &  0.959 &  0.381 & -0.192 & 1.2760\\\\\n\t5 &  0.614 & -0.623 &  1.032 &  0.959 &  0.381 & 1.2057\\\\\n\t6 &  0.213 &  0.614 & -0.623 &  1.032 &  0.959 & 1.3491\\\\\n\\end{tabular}\n",
            "text/markdown": "\nA data.frame: 6 × 6\n\n| <!--/--> | Lag1 &lt;dbl&gt; | Lag2 &lt;dbl&gt; | Lag3 &lt;dbl&gt; | Lag4 &lt;dbl&gt; | Lag5 &lt;dbl&gt; | Volume &lt;dbl&gt; |\n|---|---|---|---|---|---|---|\n| 1 |  0.381 | -0.192 | -2.624 | -1.055 |  5.010 | 1.1913 |\n| 2 |  0.959 |  0.381 | -0.192 | -2.624 | -1.055 | 1.2965 |\n| 3 |  1.032 |  0.959 |  0.381 | -0.192 | -2.624 | 1.4112 |\n| 4 | -0.623 |  1.032 |  0.959 |  0.381 | -0.192 | 1.2760 |\n| 5 |  0.614 | -0.623 |  1.032 |  0.959 |  0.381 | 1.2057 |\n| 6 |  0.213 |  0.614 | -0.623 |  1.032 |  0.959 | 1.3491 |\n\n",
            "text/html": [
              "<table class=\"dataframe\">\n",
              "<caption>A data.frame: 6 × 6</caption>\n",
              "<thead>\n",
              "\t<tr><th></th><th scope=col>Lag1</th><th scope=col>Lag2</th><th scope=col>Lag3</th><th scope=col>Lag4</th><th scope=col>Lag5</th><th scope=col>Volume</th></tr>\n",
              "\t<tr><th></th><th scope=col>&lt;dbl&gt;</th><th scope=col>&lt;dbl&gt;</th><th scope=col>&lt;dbl&gt;</th><th scope=col>&lt;dbl&gt;</th><th scope=col>&lt;dbl&gt;</th><th scope=col>&lt;dbl&gt;</th></tr>\n",
              "</thead>\n",
              "<tbody>\n",
              "\t<tr><th scope=row>1</th><td> 0.381</td><td>-0.192</td><td>-2.624</td><td>-1.055</td><td> 5.010</td><td>1.1913</td></tr>\n",
              "\t<tr><th scope=row>2</th><td> 0.959</td><td> 0.381</td><td>-0.192</td><td>-2.624</td><td>-1.055</td><td>1.2965</td></tr>\n",
              "\t<tr><th scope=row>3</th><td> 1.032</td><td> 0.959</td><td> 0.381</td><td>-0.192</td><td>-2.624</td><td>1.4112</td></tr>\n",
              "\t<tr><th scope=row>4</th><td>-0.623</td><td> 1.032</td><td> 0.959</td><td> 0.381</td><td>-0.192</td><td>1.2760</td></tr>\n",
              "\t<tr><th scope=row>5</th><td> 0.614</td><td>-0.623</td><td> 1.032</td><td> 0.959</td><td> 0.381</td><td>1.2057</td></tr>\n",
              "\t<tr><th scope=row>6</th><td> 0.213</td><td> 0.614</td><td>-0.623</td><td> 1.032</td><td> 0.959</td><td>1.3491</td></tr>\n",
              "</tbody>\n",
              "</table>\n"
            ]
          },
          "metadata": {}
        }
      ]
    },
    {
      "cell_type": "markdown",
      "source": [
        "scale Smarket_train_x"
      ],
      "metadata": {
        "id": "xLnMi9sct7NB"
      }
    },
    {
      "cell_type": "code",
      "source": [
        "Smarket_train_z <- Smarket_train_x  %>% mutate_at(c('Lag1' , 'Lag2' , 'Lag3' , 'Lag4' , 'Lag5', 'Volume' ) , \n",
        "                  ~(scale(.) %>% as.vector))"
      ],
      "metadata": {
        "id": "RYyd_5Oct0tv"
      },
      "execution_count": 32,
      "outputs": []
    },
    {
      "cell_type": "code",
      "source": [
        "head(Smarket_train_z, 5 )"
      ],
      "metadata": {
        "colab": {
          "base_uri": "https://localhost:8080/",
          "height": 255
        },
        "id": "23UgaBDJvDdJ",
        "outputId": "f0641cd7-212c-4ae5-c5cd-e42c5b75d4a8"
      },
      "execution_count": 33,
      "outputs": [
        {
          "output_type": "display_data",
          "data": {
            "text/plain": [
              "  Lag1       Lag2       Lag3       Lag4       Lag5       Volume    \n",
              "1  0.3090581 -0.1567574 -2.1275234 -0.8528792  4.0296804 -0.6582433\n",
              "2  0.7791046  0.3092172 -0.1542732 -2.1256689 -0.8503359 -0.2651441\n",
              "3  0.8384703  0.7792580  0.3106414 -0.1528043 -2.1127836  0.1634536\n",
              "4 -0.5074241  0.8386230  0.7796129  0.3120195 -0.1559494 -0.3417461\n",
              "5  0.4985405 -0.5072549  0.8388429  0.7808993  0.3050975 -0.6044350"
            ],
            "text/latex": "A data.frame: 5 × 6\n\\begin{tabular}{r|llllll}\n  & Lag1 & Lag2 & Lag3 & Lag4 & Lag5 & Volume\\\\\n  & <dbl> & <dbl> & <dbl> & <dbl> & <dbl> & <dbl>\\\\\n\\hline\n\t1 &  0.3090581 & -0.1567574 & -2.1275234 & -0.8528792 &  4.0296804 & -0.6582433\\\\\n\t2 &  0.7791046 &  0.3092172 & -0.1542732 & -2.1256689 & -0.8503359 & -0.2651441\\\\\n\t3 &  0.8384703 &  0.7792580 &  0.3106414 & -0.1528043 & -2.1127836 &  0.1634536\\\\\n\t4 & -0.5074241 &  0.8386230 &  0.7796129 &  0.3120195 & -0.1559494 & -0.3417461\\\\\n\t5 &  0.4985405 & -0.5072549 &  0.8388429 &  0.7808993 &  0.3050975 & -0.6044350\\\\\n\\end{tabular}\n",
            "text/markdown": "\nA data.frame: 5 × 6\n\n| <!--/--> | Lag1 &lt;dbl&gt; | Lag2 &lt;dbl&gt; | Lag3 &lt;dbl&gt; | Lag4 &lt;dbl&gt; | Lag5 &lt;dbl&gt; | Volume &lt;dbl&gt; |\n|---|---|---|---|---|---|---|\n| 1 |  0.3090581 | -0.1567574 | -2.1275234 | -0.8528792 |  4.0296804 | -0.6582433 |\n| 2 |  0.7791046 |  0.3092172 | -0.1542732 | -2.1256689 | -0.8503359 | -0.2651441 |\n| 3 |  0.8384703 |  0.7792580 |  0.3106414 | -0.1528043 | -2.1127836 |  0.1634536 |\n| 4 | -0.5074241 |  0.8386230 |  0.7796129 |  0.3120195 | -0.1559494 | -0.3417461 |\n| 5 |  0.4985405 | -0.5072549 |  0.8388429 |  0.7808993 |  0.3050975 | -0.6044350 |\n\n",
            "text/html": [
              "<table class=\"dataframe\">\n",
              "<caption>A data.frame: 5 × 6</caption>\n",
              "<thead>\n",
              "\t<tr><th></th><th scope=col>Lag1</th><th scope=col>Lag2</th><th scope=col>Lag3</th><th scope=col>Lag4</th><th scope=col>Lag5</th><th scope=col>Volume</th></tr>\n",
              "\t<tr><th></th><th scope=col>&lt;dbl&gt;</th><th scope=col>&lt;dbl&gt;</th><th scope=col>&lt;dbl&gt;</th><th scope=col>&lt;dbl&gt;</th><th scope=col>&lt;dbl&gt;</th><th scope=col>&lt;dbl&gt;</th></tr>\n",
              "</thead>\n",
              "<tbody>\n",
              "\t<tr><th scope=row>1</th><td> 0.3090581</td><td>-0.1567574</td><td>-2.1275234</td><td>-0.8528792</td><td> 4.0296804</td><td>-0.6582433</td></tr>\n",
              "\t<tr><th scope=row>2</th><td> 0.7791046</td><td> 0.3092172</td><td>-0.1542732</td><td>-2.1256689</td><td>-0.8503359</td><td>-0.2651441</td></tr>\n",
              "\t<tr><th scope=row>3</th><td> 0.8384703</td><td> 0.7792580</td><td> 0.3106414</td><td>-0.1528043</td><td>-2.1127836</td><td> 0.1634536</td></tr>\n",
              "\t<tr><th scope=row>4</th><td>-0.5074241</td><td> 0.8386230</td><td> 0.7796129</td><td> 0.3120195</td><td>-0.1559494</td><td>-0.3417461</td></tr>\n",
              "\t<tr><th scope=row>5</th><td> 0.4985405</td><td>-0.5072549</td><td> 0.8388429</td><td> 0.7808993</td><td> 0.3050975</td><td>-0.6044350</td></tr>\n",
              "</tbody>\n",
              "</table>\n"
            ]
          },
          "metadata": {}
        }
      ]
    },
    {
      "cell_type": "markdown",
      "source": [
        "## Next on the Smarket_test data subset the cols and scale it"
      ],
      "metadata": {
        "id": "qKgIfv_bvQMd"
      }
    },
    {
      "cell_type": "code",
      "source": [
        "#Smarket_train_x <- training_data %>% select(2:7)\n",
        "# Smarket_test_data\n",
        "\n",
        "Smarket_test <- Smarket_test %>% select(2:7)\n",
        "\n"
      ],
      "metadata": {
        "id": "TqwvdjM8vGGU"
      },
      "execution_count": 35,
      "outputs": []
    },
    {
      "cell_type": "code",
      "source": [
        "head(Smarket_test)"
      ],
      "metadata": {
        "colab": {
          "base_uri": "https://localhost:8080/",
          "height": 286
        },
        "id": "xs8LWI5Zvxy4",
        "outputId": "28f26021-bd45-4c8b-afcc-f7b521f90d8c"
      },
      "execution_count": 36,
      "outputs": [
        {
          "output_type": "display_data",
          "data": {
            "text/plain": [
              "  Lag1   Lag2   Lag3   Lag4   Lag5   Volume\n",
              "1 -0.134  0.008 -0.007  0.715 -0.431 0.7869\n",
              "2 -0.812 -0.134  0.008 -0.007  0.715 1.5108\n",
              "3 -1.167 -0.812 -0.134  0.008 -0.007 1.7210\n",
              "4 -0.363 -1.167 -0.812 -0.134  0.008 1.7389\n",
              "5  0.351 -0.363 -1.167 -0.812 -0.134 1.5691\n",
              "6 -0.143  0.351 -0.363 -1.167 -0.812 1.4779"
            ],
            "text/latex": "A data.frame: 6 × 6\n\\begin{tabular}{r|llllll}\n  & Lag1 & Lag2 & Lag3 & Lag4 & Lag5 & Volume\\\\\n  & <dbl> & <dbl> & <dbl> & <dbl> & <dbl> & <dbl>\\\\\n\\hline\n\t1 & -0.134 &  0.008 & -0.007 &  0.715 & -0.431 & 0.7869\\\\\n\t2 & -0.812 & -0.134 &  0.008 & -0.007 &  0.715 & 1.5108\\\\\n\t3 & -1.167 & -0.812 & -0.134 &  0.008 & -0.007 & 1.7210\\\\\n\t4 & -0.363 & -1.167 & -0.812 & -0.134 &  0.008 & 1.7389\\\\\n\t5 &  0.351 & -0.363 & -1.167 & -0.812 & -0.134 & 1.5691\\\\\n\t6 & -0.143 &  0.351 & -0.363 & -1.167 & -0.812 & 1.4779\\\\\n\\end{tabular}\n",
            "text/markdown": "\nA data.frame: 6 × 6\n\n| <!--/--> | Lag1 &lt;dbl&gt; | Lag2 &lt;dbl&gt; | Lag3 &lt;dbl&gt; | Lag4 &lt;dbl&gt; | Lag5 &lt;dbl&gt; | Volume &lt;dbl&gt; |\n|---|---|---|---|---|---|---|\n| 1 | -0.134 |  0.008 | -0.007 |  0.715 | -0.431 | 0.7869 |\n| 2 | -0.812 | -0.134 |  0.008 | -0.007 |  0.715 | 1.5108 |\n| 3 | -1.167 | -0.812 | -0.134 |  0.008 | -0.007 | 1.7210 |\n| 4 | -0.363 | -1.167 | -0.812 | -0.134 |  0.008 | 1.7389 |\n| 5 |  0.351 | -0.363 | -1.167 | -0.812 | -0.134 | 1.5691 |\n| 6 | -0.143 |  0.351 | -0.363 | -1.167 | -0.812 | 1.4779 |\n\n",
            "text/html": [
              "<table class=\"dataframe\">\n",
              "<caption>A data.frame: 6 × 6</caption>\n",
              "<thead>\n",
              "\t<tr><th></th><th scope=col>Lag1</th><th scope=col>Lag2</th><th scope=col>Lag3</th><th scope=col>Lag4</th><th scope=col>Lag5</th><th scope=col>Volume</th></tr>\n",
              "\t<tr><th></th><th scope=col>&lt;dbl&gt;</th><th scope=col>&lt;dbl&gt;</th><th scope=col>&lt;dbl&gt;</th><th scope=col>&lt;dbl&gt;</th><th scope=col>&lt;dbl&gt;</th><th scope=col>&lt;dbl&gt;</th></tr>\n",
              "</thead>\n",
              "<tbody>\n",
              "\t<tr><th scope=row>1</th><td>-0.134</td><td> 0.008</td><td>-0.007</td><td> 0.715</td><td>-0.431</td><td>0.7869</td></tr>\n",
              "\t<tr><th scope=row>2</th><td>-0.812</td><td>-0.134</td><td> 0.008</td><td>-0.007</td><td> 0.715</td><td>1.5108</td></tr>\n",
              "\t<tr><th scope=row>3</th><td>-1.167</td><td>-0.812</td><td>-0.134</td><td> 0.008</td><td>-0.007</td><td>1.7210</td></tr>\n",
              "\t<tr><th scope=row>4</th><td>-0.363</td><td>-1.167</td><td>-0.812</td><td>-0.134</td><td> 0.008</td><td>1.7389</td></tr>\n",
              "\t<tr><th scope=row>5</th><td> 0.351</td><td>-0.363</td><td>-1.167</td><td>-0.812</td><td>-0.134</td><td>1.5691</td></tr>\n",
              "\t<tr><th scope=row>6</th><td>-0.143</td><td> 0.351</td><td>-0.363</td><td>-1.167</td><td>-0.812</td><td>1.4779</td></tr>\n",
              "</tbody>\n",
              "</table>\n"
            ]
          },
          "metadata": {}
        }
      ]
    },
    {
      "cell_type": "markdown",
      "source": [
        "# Scaling"
      ],
      "metadata": {
        "id": "yKXqIVIr_Yu0"
      }
    },
    {
      "cell_type": "code",
      "source": [
        "Smarket_test_z <- Smarket_test %>% mutate_at(c('Lag1' , 'Lag2' , 'Lag3' , 'Lag4' , 'Lag5', 'Volume' ) ,\n",
        "                   ~(scale(.) %>% as.vector))"
      ],
      "metadata": {
        "id": "TaCh6l0Fv1Jc"
      },
      "execution_count": 37,
      "outputs": []
    },
    {
      "cell_type": "code",
      "source": [
        "head(Smarket_test_z )"
      ],
      "metadata": {
        "colab": {
          "base_uri": "https://localhost:8080/",
          "height": 286
        },
        "id": "SjxhZrWjwfUU",
        "outputId": "aa7e05b3-1418-4179-9ec5-c4f90fa52d7e"
      },
      "execution_count": 38,
      "outputs": [
        {
          "output_type": "display_data",
          "data": {
            "text/plain": [
              "  Lag1       Lag2        Lag3        Lag4        Lag5        Volume    \n",
              "1 -0.2305914 -0.01302558 -0.03537916  1.07312920 -0.69918635 -3.2718330\n",
              "2 -1.2783809 -0.23257694 -0.01218575 -0.04572735  1.07499364 -1.1765712\n",
              "3 -1.8270022 -1.28085735 -0.23175009 -0.02248241 -0.04277072 -0.5681667\n",
              "4 -0.5844908 -1.82973573 -1.28009253 -0.24253453 -0.01954847 -0.5163568\n",
              "5  0.5189335 -0.58664215 -1.82900340 -1.29320592 -0.23938578 -1.0078273\n",
              "6 -0.2445001  0.51729916 -0.58583626 -1.84333622 -1.28903153 -1.2717973"
            ],
            "text/latex": "A data.frame: 6 × 6\n\\begin{tabular}{r|llllll}\n  & Lag1 & Lag2 & Lag3 & Lag4 & Lag5 & Volume\\\\\n  & <dbl> & <dbl> & <dbl> & <dbl> & <dbl> & <dbl>\\\\\n\\hline\n\t1 & -0.2305914 & -0.01302558 & -0.03537916 &  1.07312920 & -0.69918635 & -3.2718330\\\\\n\t2 & -1.2783809 & -0.23257694 & -0.01218575 & -0.04572735 &  1.07499364 & -1.1765712\\\\\n\t3 & -1.8270022 & -1.28085735 & -0.23175009 & -0.02248241 & -0.04277072 & -0.5681667\\\\\n\t4 & -0.5844908 & -1.82973573 & -1.28009253 & -0.24253453 & -0.01954847 & -0.5163568\\\\\n\t5 &  0.5189335 & -0.58664215 & -1.82900340 & -1.29320592 & -0.23938578 & -1.0078273\\\\\n\t6 & -0.2445001 &  0.51729916 & -0.58583626 & -1.84333622 & -1.28903153 & -1.2717973\\\\\n\\end{tabular}\n",
            "text/markdown": "\nA data.frame: 6 × 6\n\n| <!--/--> | Lag1 &lt;dbl&gt; | Lag2 &lt;dbl&gt; | Lag3 &lt;dbl&gt; | Lag4 &lt;dbl&gt; | Lag5 &lt;dbl&gt; | Volume &lt;dbl&gt; |\n|---|---|---|---|---|---|---|\n| 1 | -0.2305914 | -0.01302558 | -0.03537916 |  1.07312920 | -0.69918635 | -3.2718330 |\n| 2 | -1.2783809 | -0.23257694 | -0.01218575 | -0.04572735 |  1.07499364 | -1.1765712 |\n| 3 | -1.8270022 | -1.28085735 | -0.23175009 | -0.02248241 | -0.04277072 | -0.5681667 |\n| 4 | -0.5844908 | -1.82973573 | -1.28009253 | -0.24253453 | -0.01954847 | -0.5163568 |\n| 5 |  0.5189335 | -0.58664215 | -1.82900340 | -1.29320592 | -0.23938578 | -1.0078273 |\n| 6 | -0.2445001 |  0.51729916 | -0.58583626 | -1.84333622 | -1.28903153 | -1.2717973 |\n\n",
            "text/html": [
              "<table class=\"dataframe\">\n",
              "<caption>A data.frame: 6 × 6</caption>\n",
              "<thead>\n",
              "\t<tr><th></th><th scope=col>Lag1</th><th scope=col>Lag2</th><th scope=col>Lag3</th><th scope=col>Lag4</th><th scope=col>Lag5</th><th scope=col>Volume</th></tr>\n",
              "\t<tr><th></th><th scope=col>&lt;dbl&gt;</th><th scope=col>&lt;dbl&gt;</th><th scope=col>&lt;dbl&gt;</th><th scope=col>&lt;dbl&gt;</th><th scope=col>&lt;dbl&gt;</th><th scope=col>&lt;dbl&gt;</th></tr>\n",
              "</thead>\n",
              "<tbody>\n",
              "\t<tr><th scope=row>1</th><td>-0.2305914</td><td>-0.01302558</td><td>-0.03537916</td><td> 1.07312920</td><td>-0.69918635</td><td>-3.2718330</td></tr>\n",
              "\t<tr><th scope=row>2</th><td>-1.2783809</td><td>-0.23257694</td><td>-0.01218575</td><td>-0.04572735</td><td> 1.07499364</td><td>-1.1765712</td></tr>\n",
              "\t<tr><th scope=row>3</th><td>-1.8270022</td><td>-1.28085735</td><td>-0.23175009</td><td>-0.02248241</td><td>-0.04277072</td><td>-0.5681667</td></tr>\n",
              "\t<tr><th scope=row>4</th><td>-0.5844908</td><td>-1.82973573</td><td>-1.28009253</td><td>-0.24253453</td><td>-0.01954847</td><td>-0.5163568</td></tr>\n",
              "\t<tr><th scope=row>5</th><td> 0.5189335</td><td>-0.58664215</td><td>-1.82900340</td><td>-1.29320592</td><td>-0.23938578</td><td>-1.0078273</td></tr>\n",
              "\t<tr><th scope=row>6</th><td>-0.2445001</td><td> 0.51729916</td><td>-0.58583626</td><td>-1.84333622</td><td>-1.28903153</td><td>-1.2717973</td></tr>\n",
              "</tbody>\n",
              "</table>\n"
            ]
          },
          "metadata": {}
        }
      ]
    },
    {
      "cell_type": "markdown",
      "source": [
        "Create a subset of the Smarket_train data set which only includes the Direction column\n",
        "and name it Smarket_train_label."
      ],
      "metadata": {
        "id": "g50b2AeIw3Gn"
      }
    },
    {
      "cell_type": "code",
      "source": [
        "Smarket_train_label <- Smarket_train %>% select(9)"
      ],
      "metadata": {
        "id": "XpkIUskPwiyS"
      },
      "execution_count": 42,
      "outputs": []
    },
    {
      "cell_type": "code",
      "source": [
        "head(Smarket_train_label,3)"
      ],
      "metadata": {
        "colab": {
          "base_uri": "https://localhost:8080/",
          "height": 210
        },
        "id": "mIsTPaNL0SQy",
        "outputId": "88b3d926-db4c-4e2e-b654-89a2d1a64011"
      },
      "execution_count": 43,
      "outputs": [
        {
          "output_type": "display_data",
          "data": {
            "text/plain": [
              "  Direction\n",
              "1 Up       \n",
              "2 Up       \n",
              "3 Down     "
            ],
            "text/latex": "A data.frame: 3 × 1\n\\begin{tabular}{r|l}\n  & Direction\\\\\n  & <fct>\\\\\n\\hline\n\t1 & Up  \\\\\n\t2 & Up  \\\\\n\t3 & Down\\\\\n\\end{tabular}\n",
            "text/markdown": "\nA data.frame: 3 × 1\n\n| <!--/--> | Direction &lt;fct&gt; |\n|---|---|\n| 1 | Up   |\n| 2 | Up   |\n| 3 | Down |\n\n",
            "text/html": [
              "<table class=\"dataframe\">\n",
              "<caption>A data.frame: 3 × 1</caption>\n",
              "<thead>\n",
              "\t<tr><th></th><th scope=col>Direction</th></tr>\n",
              "\t<tr><th></th><th scope=col>&lt;fct&gt;</th></tr>\n",
              "</thead>\n",
              "<tbody>\n",
              "\t<tr><th scope=row>1</th><td>Up  </td></tr>\n",
              "\t<tr><th scope=row>2</th><td>Up  </td></tr>\n",
              "\t<tr><th scope=row>3</th><td>Down</td></tr>\n",
              "</tbody>\n",
              "</table>\n"
            ]
          },
          "metadata": {}
        }
      ]
    },
    {
      "cell_type": "code",
      "source": [
        "#convert train lables to a vecctor\n",
        "Smarket_train_label <- Smarket_train_label[ ,1]"
      ],
      "metadata": {
        "id": "VU2xcTkd4akh"
      },
      "execution_count": 56,
      "outputs": []
    },
    {
      "cell_type": "markdown",
      "source": [
        "Do the same task for the Smarket_test dataset and\n",
        "name it Smarket_test_label."
      ],
      "metadata": {
        "id": "5ur9Yvkt0qbs"
      }
    },
    {
      "cell_type": "code",
      "source": [
        "Smarket_test_label <- Smarket_test  %>% select(9)"
      ],
      "metadata": {
        "id": "XDaEMLq60UX8"
      },
      "execution_count": 49,
      "outputs": []
    },
    {
      "cell_type": "code",
      "source": [
        "head(Smarket_test_label,3)"
      ],
      "metadata": {
        "colab": {
          "base_uri": "https://localhost:8080/",
          "height": 210
        },
        "id": "bpXO-UYq0-Eb",
        "outputId": "7c0cc1f4-c14d-4f29-d5b3-4457751bf7e8"
      },
      "execution_count": 50,
      "outputs": [
        {
          "output_type": "display_data",
          "data": {
            "text/plain": [
              "  Direction\n",
              "1 Down     \n",
              "2 Down     \n",
              "3 Down     "
            ],
            "text/latex": "A data.frame: 3 × 1\n\\begin{tabular}{r|l}\n  & Direction\\\\\n  & <fct>\\\\\n\\hline\n\t1 & Down\\\\\n\t2 & Down\\\\\n\t3 & Down\\\\\n\\end{tabular}\n",
            "text/markdown": "\nA data.frame: 3 × 1\n\n| <!--/--> | Direction &lt;fct&gt; |\n|---|---|\n| 1 | Down |\n| 2 | Down |\n| 3 | Down |\n\n",
            "text/html": [
              "<table class=\"dataframe\">\n",
              "<caption>A data.frame: 3 × 1</caption>\n",
              "<thead>\n",
              "\t<tr><th></th><th scope=col>Direction</th></tr>\n",
              "\t<tr><th></th><th scope=col>&lt;fct&gt;</th></tr>\n",
              "</thead>\n",
              "<tbody>\n",
              "\t<tr><th scope=row>1</th><td>Down</td></tr>\n",
              "\t<tr><th scope=row>2</th><td>Down</td></tr>\n",
              "\t<tr><th scope=row>3</th><td>Down</td></tr>\n",
              "</tbody>\n",
              "</table>\n"
            ]
          },
          "metadata": {}
        }
      ]
    },
    {
      "cell_type": "markdown",
      "source": [
        "# KNN where k = 1"
      ],
      "metadata": {
        "id": "OSW1S6-i25ms"
      }
    },
    {
      "cell_type": "markdown",
      "source": [
        "## Run knn function, using k = 1, to obtain predictions for the test data."
      ],
      "metadata": {
        "id": "MlGkYmqk1_gy"
      }
    },
    {
      "cell_type": "markdown",
      "source": [
        "Repeat the previous two tasks using k = 3 and k = 5. Which k has the highest accuracy?"
      ],
      "metadata": {
        "id": "KNyyiPxV2MR1"
      }
    },
    {
      "cell_type": "code",
      "source": [
        "\n",
        "\n",
        "# load the \"class\" library\n",
        "# install.packages(\"class\")\n",
        "library(class)\n"
      ],
      "metadata": {
        "id": "ON2pksaB1qEL"
      },
      "execution_count": null,
      "outputs": []
    },
    {
      "cell_type": "code",
      "source": [
        "Smarket_pred <- knn(train = Smarket_train_z , test = Smarket_test_z,\n",
        "                cl = Smarket_train_label , k= 1 )"
      ],
      "metadata": {
        "id": "msZqg8Vp3Fbv"
      },
      "execution_count": 57,
      "outputs": []
    },
    {
      "cell_type": "code",
      "source": [
        " Smarket_pred "
      ],
      "metadata": {
        "id": "BoKgKy204G2z"
      },
      "execution_count": null,
      "outputs": []
    },
    {
      "cell_type": "code",
      "source": [
        "length(Smarket_pred)"
      ],
      "metadata": {
        "colab": {
          "base_uri": "https://localhost:8080/",
          "height": 34
        },
        "id": "XQJtZv3D6pAO",
        "outputId": "d999409c-6039-4d70-faf3-9d6c1347ae03"
      },
      "execution_count": 71,
      "outputs": [
        {
          "output_type": "display_data",
          "data": {
            "text/plain": [
              "[1] 252"
            ],
            "text/latex": "252",
            "text/markdown": "252",
            "text/html": [
              "252"
            ]
          },
          "metadata": {}
        }
      ]
    },
    {
      "cell_type": "markdown",
      "source": [
        "## Step 4: Evaluating model performance \n",
        "\n",
        "\n",
        "Create the cross tabulation of predicted vs. actual"
      ],
      "metadata": {
        "id": "yZshuTIp4828"
      }
    },
    {
      "cell_type": "code",
      "source": [
        "length(Smarket_pred )"
      ],
      "metadata": {
        "colab": {
          "base_uri": "https://localhost:8080/",
          "height": 34
        },
        "id": "RqlvVBOu53_f",
        "outputId": "c0ff791c-b58f-422e-cf03-8012d6a5b88a"
      },
      "execution_count": 72,
      "outputs": [
        {
          "output_type": "display_data",
          "data": {
            "text/plain": [
              "[1] 252"
            ],
            "text/latex": "252",
            "text/markdown": "252",
            "text/html": [
              "252"
            ]
          },
          "metadata": {}
        }
      ]
    },
    {
      "cell_type": "code",
      "source": [
        "dim(Smarket_test_label)"
      ],
      "metadata": {
        "colab": {
          "base_uri": "https://localhost:8080/",
          "height": 34
        },
        "id": "Wzv-ZS3J5ucc",
        "outputId": "86b66d15-b239-4e19-8cba-3e809963dcc7"
      },
      "execution_count": 65,
      "outputs": [
        {
          "output_type": "display_data",
          "data": {
            "text/plain": [
              "[1] 252   1"
            ],
            "text/latex": "\\begin{enumerate*}\n\\item 252\n\\item 1\n\\end{enumerate*}\n",
            "text/markdown": "1. 252\n2. 1\n\n\n",
            "text/html": [
              "<style>\n",
              ".list-inline {list-style: none; margin:0; padding: 0}\n",
              ".list-inline>li {display: inline-block}\n",
              ".list-inline>li:not(:last-child)::after {content: \"\\00b7\"; padding: 0 .5ex}\n",
              "</style>\n",
              "<ol class=list-inline><li>252</li><li>1</li></ol>\n"
            ]
          },
          "metadata": {}
        }
      ]
    },
    {
      "cell_type": "code",
      "source": [
        "\n",
        "Smarket_test_label <- Smarket_test_label[ ,1]\n"
      ],
      "metadata": {
        "id": "biPsbq67641y"
      },
      "execution_count": 74,
      "outputs": []
    },
    {
      "cell_type": "code",
      "source": [
        ""
      ],
      "metadata": {
        "id": "dq27-FBx7cId"
      },
      "execution_count": null,
      "outputs": []
    },
    {
      "cell_type": "code",
      "source": [
        "CrossTable(x = Smarket_test_label , \n",
        "            y = Smarket_pred,\n",
        "             prop.chisq = FALSE)"
      ],
      "metadata": {
        "colab": {
          "base_uri": "https://localhost:8080/"
        },
        "id": "u9EZ4JZJ4vwc",
        "outputId": "e491af80-8d44-4fa8-b49a-056483046190"
      },
      "execution_count": 75,
      "outputs": [
        {
          "output_type": "stream",
          "name": "stdout",
          "text": [
            "\n",
            " \n",
            "   Cell Contents\n",
            "|-------------------------|\n",
            "|                       N |\n",
            "|           N / Row Total |\n",
            "|           N / Col Total |\n",
            "|         N / Table Total |\n",
            "|-------------------------|\n",
            "\n",
            " \n",
            "Total Observations in Table:  252 \n",
            "\n",
            " \n",
            "                   | Smarket_pred \n",
            "Smarket_test_label |      Down |        Up | Row Total | \n",
            "-------------------|-----------|-----------|-----------|\n",
            "              Down |        54 |        57 |       111 | \n",
            "                   |     0.486 |     0.514 |     0.440 | \n",
            "                   |     0.446 |     0.435 |           | \n",
            "                   |     0.214 |     0.226 |           | \n",
            "-------------------|-----------|-----------|-----------|\n",
            "                Up |        67 |        74 |       141 | \n",
            "                   |     0.475 |     0.525 |     0.560 | \n",
            "                   |     0.554 |     0.565 |           | \n",
            "                   |     0.266 |     0.294 |           | \n",
            "-------------------|-----------|-----------|-----------|\n",
            "      Column Total |       121 |       131 |       252 | \n",
            "                   |     0.480 |     0.520 |           | \n",
            "-------------------|-----------|-----------|-----------|\n",
            "\n",
            " \n"
          ]
        }
      ]
    },
    {
      "cell_type": "markdown",
      "source": [
        "# # KNN where k = 3"
      ],
      "metadata": {
        "id": "8mo38tlw71lH"
      }
    },
    {
      "cell_type": "code",
      "source": [
        "Smarket_pred <- knn(train = Smarket_train_z , test = Smarket_test_z,\n",
        "                cl = Smarket_train_label , k= 3 )"
      ],
      "metadata": {
        "id": "B-OHe9tT6Tyy"
      },
      "execution_count": 76,
      "outputs": []
    },
    {
      "cell_type": "code",
      "source": [
        "CrossTable(x = Smarket_test_label , \n",
        "            y = Smarket_pred,\n",
        "             prop.chisq = FALSE)"
      ],
      "metadata": {
        "colab": {
          "base_uri": "https://localhost:8080/"
        },
        "id": "Br93CZqy8FJg",
        "outputId": "c478ad75-aff4-47d5-8928-83fa8cd6b290"
      },
      "execution_count": 77,
      "outputs": [
        {
          "output_type": "stream",
          "name": "stdout",
          "text": [
            "\n",
            " \n",
            "   Cell Contents\n",
            "|-------------------------|\n",
            "|                       N |\n",
            "|           N / Row Total |\n",
            "|           N / Col Total |\n",
            "|         N / Table Total |\n",
            "|-------------------------|\n",
            "\n",
            " \n",
            "Total Observations in Table:  252 \n",
            "\n",
            " \n",
            "                   | Smarket_pred \n",
            "Smarket_test_label |      Down |        Up | Row Total | \n",
            "-------------------|-----------|-----------|-----------|\n",
            "              Down |        53 |        58 |       111 | \n",
            "                   |     0.477 |     0.523 |     0.440 | \n",
            "                   |     0.457 |     0.426 |           | \n",
            "                   |     0.210 |     0.230 |           | \n",
            "-------------------|-----------|-----------|-----------|\n",
            "                Up |        63 |        78 |       141 | \n",
            "                   |     0.447 |     0.553 |     0.560 | \n",
            "                   |     0.543 |     0.574 |           | \n",
            "                   |     0.250 |     0.310 |           | \n",
            "-------------------|-----------|-----------|-----------|\n",
            "      Column Total |       116 |       136 |       252 | \n",
            "                   |     0.460 |     0.540 |           | \n",
            "-------------------|-----------|-----------|-----------|\n",
            "\n",
            " \n"
          ]
        }
      ]
    },
    {
      "cell_type": "markdown",
      "source": [
        "# KNN where k = 5"
      ],
      "metadata": {
        "id": "S2VvSS1a8MEl"
      }
    },
    {
      "cell_type": "code",
      "source": [
        "Smarket_pred <- knn(train = Smarket_train_z , test = Smarket_test_z,\n",
        "                cl = Smarket_train_label , k= 5 )"
      ],
      "metadata": {
        "id": "vg1jvKqZ8LzZ"
      },
      "execution_count": 78,
      "outputs": []
    },
    {
      "cell_type": "code",
      "source": [
        "CrossTable(x = Smarket_test_label , \n",
        "            y = Smarket_pred,\n",
        "             prop.chisq = FALSE)"
      ],
      "metadata": {
        "colab": {
          "base_uri": "https://localhost:8080/"
        },
        "id": "4dAQMck28Iu_",
        "outputId": "19963ff9-c79b-45fe-b000-d27b559a2355"
      },
      "execution_count": 79,
      "outputs": [
        {
          "output_type": "stream",
          "name": "stdout",
          "text": [
            "\n",
            " \n",
            "   Cell Contents\n",
            "|-------------------------|\n",
            "|                       N |\n",
            "|           N / Row Total |\n",
            "|           N / Col Total |\n",
            "|         N / Table Total |\n",
            "|-------------------------|\n",
            "\n",
            " \n",
            "Total Observations in Table:  252 \n",
            "\n",
            " \n",
            "                   | Smarket_pred \n",
            "Smarket_test_label |      Down |        Up | Row Total | \n",
            "-------------------|-----------|-----------|-----------|\n",
            "              Down |        59 |        52 |       111 | \n",
            "                   |     0.532 |     0.468 |     0.440 | \n",
            "                   |     0.484 |     0.400 |           | \n",
            "                   |     0.234 |     0.206 |           | \n",
            "-------------------|-----------|-----------|-----------|\n",
            "                Up |        63 |        78 |       141 | \n",
            "                   |     0.447 |     0.553 |     0.560 | \n",
            "                   |     0.516 |     0.600 |           | \n",
            "                   |     0.250 |     0.310 |           | \n",
            "-------------------|-----------|-----------|-----------|\n",
            "      Column Total |       122 |       130 |       252 | \n",
            "                   |     0.484 |     0.516 |           | \n",
            "-------------------|-----------|-----------|-----------|\n",
            "\n",
            " \n"
          ]
        }
      ]
    },
    {
      "cell_type": "code",
      "source": [
        "?CrossTable"
      ],
      "metadata": {
        "id": "FtBgrbT08aF6"
      },
      "execution_count": 80,
      "outputs": []
    },
    {
      "cell_type": "markdown",
      "source": [
        "###########  Question 2 ######################\n",
        "\n",
        "Use K-means clustering  to cluster US states by the Violent Crime Rates dataset"
      ],
      "metadata": {
        "id": "msGO_t319jtK"
      }
    },
    {
      "cell_type": "code",
      "source": [
        "head(USArrests)"
      ],
      "metadata": {
        "colab": {
          "base_uri": "https://localhost:8080/",
          "height": 286
        },
        "id": "CnKKPZYx8oLY",
        "outputId": "9806043f-b2a6-4ce4-b706-7fc1bb28a9ed"
      },
      "execution_count": 81,
      "outputs": [
        {
          "output_type": "display_data",
          "data": {
            "text/plain": [
              "           Murder Assault UrbanPop Rape\n",
              "Alabama    13.2   236     58       21.2\n",
              "Alaska     10.0   263     48       44.5\n",
              "Arizona     8.1   294     80       31.0\n",
              "Arkansas    8.8   190     50       19.5\n",
              "California  9.0   276     91       40.6\n",
              "Colorado    7.9   204     78       38.7"
            ],
            "text/latex": "A data.frame: 6 × 4\n\\begin{tabular}{r|llll}\n  & Murder & Assault & UrbanPop & Rape\\\\\n  & <dbl> & <int> & <int> & <dbl>\\\\\n\\hline\n\tAlabama & 13.2 & 236 & 58 & 21.2\\\\\n\tAlaska & 10.0 & 263 & 48 & 44.5\\\\\n\tArizona &  8.1 & 294 & 80 & 31.0\\\\\n\tArkansas &  8.8 & 190 & 50 & 19.5\\\\\n\tCalifornia &  9.0 & 276 & 91 & 40.6\\\\\n\tColorado &  7.9 & 204 & 78 & 38.7\\\\\n\\end{tabular}\n",
            "text/markdown": "\nA data.frame: 6 × 4\n\n| <!--/--> | Murder &lt;dbl&gt; | Assault &lt;int&gt; | UrbanPop &lt;int&gt; | Rape &lt;dbl&gt; |\n|---|---|---|---|---|\n| Alabama | 13.2 | 236 | 58 | 21.2 |\n| Alaska | 10.0 | 263 | 48 | 44.5 |\n| Arizona |  8.1 | 294 | 80 | 31.0 |\n| Arkansas |  8.8 | 190 | 50 | 19.5 |\n| California |  9.0 | 276 | 91 | 40.6 |\n| Colorado |  7.9 | 204 | 78 | 38.7 |\n\n",
            "text/html": [
              "<table class=\"dataframe\">\n",
              "<caption>A data.frame: 6 × 4</caption>\n",
              "<thead>\n",
              "\t<tr><th></th><th scope=col>Murder</th><th scope=col>Assault</th><th scope=col>UrbanPop</th><th scope=col>Rape</th></tr>\n",
              "\t<tr><th></th><th scope=col>&lt;dbl&gt;</th><th scope=col>&lt;int&gt;</th><th scope=col>&lt;int&gt;</th><th scope=col>&lt;dbl&gt;</th></tr>\n",
              "</thead>\n",
              "<tbody>\n",
              "\t<tr><th scope=row>Alabama</th><td>13.2</td><td>236</td><td>58</td><td>21.2</td></tr>\n",
              "\t<tr><th scope=row>Alaska</th><td>10.0</td><td>263</td><td>48</td><td>44.5</td></tr>\n",
              "\t<tr><th scope=row>Arizona</th><td> 8.1</td><td>294</td><td>80</td><td>31.0</td></tr>\n",
              "\t<tr><th scope=row>Arkansas</th><td> 8.8</td><td>190</td><td>50</td><td>19.5</td></tr>\n",
              "\t<tr><th scope=row>California</th><td> 9.0</td><td>276</td><td>91</td><td>40.6</td></tr>\n",
              "\t<tr><th scope=row>Colorado</th><td> 7.9</td><td>204</td><td>78</td><td>38.7</td></tr>\n",
              "</tbody>\n",
              "</table>\n"
            ]
          },
          "metadata": {}
        }
      ]
    },
    {
      "cell_type": "code",
      "source": [
        "?USArrests\n",
        "\n",
        "# Arrrests per 100k\n",
        "# UrbanPop = pct of pop living in urban area\n",
        "# There is an error for MD in something not rounded: We will ignore this\n",
        "#"
      ],
      "metadata": {
        "id": "8fQzZcIO-KML"
      },
      "execution_count": 82,
      "outputs": []
    },
    {
      "cell_type": "markdown",
      "source": [
        "Use the scale function to z-score standardize the USArrests data frames and save the\n",
        "standardized USArrests on a data frame named USArrests _z."
      ],
      "metadata": {
        "id": "6_TuxJIM_Da7"
      }
    },
    {
      "cell_type": "code",
      "source": [
        "'''\n",
        "Smarket_test_z <- Smarket_test %>% mutate_at(c('Lag1' , 'Lag2' , 'Lag3' , 'Lag4' , 'Lag5', 'Volume' ) ,\n",
        "                   ~(scale(.) %>% as.vector))\n",
        "'''"
      ],
      "metadata": {
        "id": "rRlOXXnR_e1Q"
      },
      "execution_count": null,
      "outputs": []
    },
    {
      "cell_type": "code",
      "source": [
        " USArrests_z <- USArrests %>% mutate_at(c('Murder' , 'Assault' , 'UrbanPop' ,'Rape') ,\n",
        "              ~(scale(.) %>% as.vector))"
      ],
      "metadata": {
        "id": "P0xTkG7t-Su4"
      },
      "execution_count": 85,
      "outputs": []
    },
    {
      "cell_type": "code",
      "source": [
        "head( USArrests_z)"
      ],
      "metadata": {
        "colab": {
          "base_uri": "https://localhost:8080/",
          "height": 286
        },
        "id": "oHrA8PyaAK2R",
        "outputId": "81f9ecf2-6dcb-40a1-e5b1-1b05a1cd2859"
      },
      "execution_count": 86,
      "outputs": [
        {
          "output_type": "display_data",
          "data": {
            "text/plain": [
              "           Murder     Assault   UrbanPop   Rape        \n",
              "Alabama    1.24256408 0.7828393 -0.5209066 -0.003416473\n",
              "Alaska     0.50786248 1.1068225 -1.2117642  2.484202941\n",
              "Arizona    0.07163341 1.4788032  0.9989801  1.042878388\n",
              "Arkansas   0.23234938 0.2308680 -1.0735927 -0.184916602\n",
              "California 0.27826823 1.2628144  1.7589234  2.067820292\n",
              "Colorado   0.02571456 0.3988593  0.8608085  1.864967207"
            ],
            "text/latex": "A data.frame: 6 × 4\n\\begin{tabular}{r|llll}\n  & Murder & Assault & UrbanPop & Rape\\\\\n  & <dbl> & <dbl> & <dbl> & <dbl>\\\\\n\\hline\n\tAlabama & 1.24256408 & 0.7828393 & -0.5209066 & -0.003416473\\\\\n\tAlaska & 0.50786248 & 1.1068225 & -1.2117642 &  2.484202941\\\\\n\tArizona & 0.07163341 & 1.4788032 &  0.9989801 &  1.042878388\\\\\n\tArkansas & 0.23234938 & 0.2308680 & -1.0735927 & -0.184916602\\\\\n\tCalifornia & 0.27826823 & 1.2628144 &  1.7589234 &  2.067820292\\\\\n\tColorado & 0.02571456 & 0.3988593 &  0.8608085 &  1.864967207\\\\\n\\end{tabular}\n",
            "text/markdown": "\nA data.frame: 6 × 4\n\n| <!--/--> | Murder &lt;dbl&gt; | Assault &lt;dbl&gt; | UrbanPop &lt;dbl&gt; | Rape &lt;dbl&gt; |\n|---|---|---|---|---|\n| Alabama | 1.24256408 | 0.7828393 | -0.5209066 | -0.003416473 |\n| Alaska | 0.50786248 | 1.1068225 | -1.2117642 |  2.484202941 |\n| Arizona | 0.07163341 | 1.4788032 |  0.9989801 |  1.042878388 |\n| Arkansas | 0.23234938 | 0.2308680 | -1.0735927 | -0.184916602 |\n| California | 0.27826823 | 1.2628144 |  1.7589234 |  2.067820292 |\n| Colorado | 0.02571456 | 0.3988593 |  0.8608085 |  1.864967207 |\n\n",
            "text/html": [
              "<table class=\"dataframe\">\n",
              "<caption>A data.frame: 6 × 4</caption>\n",
              "<thead>\n",
              "\t<tr><th></th><th scope=col>Murder</th><th scope=col>Assault</th><th scope=col>UrbanPop</th><th scope=col>Rape</th></tr>\n",
              "\t<tr><th></th><th scope=col>&lt;dbl&gt;</th><th scope=col>&lt;dbl&gt;</th><th scope=col>&lt;dbl&gt;</th><th scope=col>&lt;dbl&gt;</th></tr>\n",
              "</thead>\n",
              "<tbody>\n",
              "\t<tr><th scope=row>Alabama</th><td>1.24256408</td><td>0.7828393</td><td>-0.5209066</td><td>-0.003416473</td></tr>\n",
              "\t<tr><th scope=row>Alaska</th><td>0.50786248</td><td>1.1068225</td><td>-1.2117642</td><td> 2.484202941</td></tr>\n",
              "\t<tr><th scope=row>Arizona</th><td>0.07163341</td><td>1.4788032</td><td> 0.9989801</td><td> 1.042878388</td></tr>\n",
              "\t<tr><th scope=row>Arkansas</th><td>0.23234938</td><td>0.2308680</td><td>-1.0735927</td><td>-0.184916602</td></tr>\n",
              "\t<tr><th scope=row>California</th><td>0.27826823</td><td>1.2628144</td><td> 1.7589234</td><td> 2.067820292</td></tr>\n",
              "\t<tr><th scope=row>Colorado</th><td>0.02571456</td><td>0.3988593</td><td> 0.8608085</td><td> 1.864967207</td></tr>\n",
              "</tbody>\n",
              "</table>\n"
            ]
          },
          "metadata": {}
        }
      ]
    },
    {
      "cell_type": "markdown",
      "source": [
        "Run the following code so we all get the same results:"
      ],
      "metadata": {
        "id": "oO7rHQaZAqba"
      }
    },
    {
      "cell_type": "code",
      "source": [
        "RNGversion(\"3.5.2\")"
      ],
      "metadata": {
        "colab": {
          "base_uri": "https://localhost:8080/"
        },
        "id": "W3YttFjVAfX0",
        "outputId": "ea178280-2e1f-433f-8ccb-61e4a99a68f9"
      },
      "execution_count": 87,
      "outputs": [
        {
          "output_type": "stream",
          "name": "stderr",
          "text": [
            "Warning message in RNGkind(\"Mersenne-Twister\", \"Inversion\", \"Rounding\"):\n",
            "“non-uniform 'Rounding' sampler used”\n"
          ]
        }
      ]
    },
    {
      "cell_type": "code",
      "source": [
        "set.seed(1)"
      ],
      "metadata": {
        "id": "V8Ma-9NdAtyi"
      },
      "execution_count": 88,
      "outputs": []
    },
    {
      "cell_type": "markdown",
      "source": [
        "## Perform K-means clustering with 5 clusters."
      ],
      "metadata": {
        "id": "xnm1n4UOA0DA"
      }
    },
    {
      "cell_type": "markdown",
      "source": [
        "## What states are in each cluster?"
      ],
      "metadata": {
        "id": "LItQYzGdIyJt"
      }
    },
    {
      "cell_type": "code",
      "source": [
        "states_clustered <- kmeans(USArrests_z , 5)"
      ],
      "metadata": {
        "id": "XBEEbzjWAxfI"
      },
      "execution_count": 91,
      "outputs": []
    },
    {
      "cell_type": "code",
      "source": [
        "states_clustered"
      ],
      "metadata": {
        "colab": {
          "base_uri": "https://localhost:8080/",
          "height": 712
        },
        "id": "tllqTDTcJKZX",
        "outputId": "921751a5-8166-491c-9975-a26be3067426"
      },
      "execution_count": 92,
      "outputs": [
        {
          "output_type": "display_data",
          "data": {
            "text/plain": [
              "K-means clustering with 5 clusters of sizes 11, 13, 7, 7, 12\n",
              "\n",
              "Cluster means:\n",
              "      Murder    Assault    UrbanPop        Rape\n",
              "1 -1.1034717 -1.1654231 -0.99194587 -1.04874074\n",
              "2 -0.2162425 -0.2611064 -0.04793489 -0.06172647\n",
              "3  1.5803956  0.9662584 -0.77751086  0.04844071\n",
              "4 -0.6958674 -0.5679476  1.12728218 -0.55096728\n",
              "5  0.7298036  1.1188219  0.75717991  1.32135653\n",
              "\n",
              "Clustering vector:\n",
              "       Alabama         Alaska        Arizona       Arkansas     California \n",
              "             3              5              5              2              5 \n",
              "      Colorado    Connecticut       Delaware        Florida        Georgia \n",
              "             5              4              2              5              3 \n",
              "        Hawaii          Idaho       Illinois        Indiana           Iowa \n",
              "             4              1              5              2              1 \n",
              "        Kansas       Kentucky      Louisiana          Maine       Maryland \n",
              "             2              2              3              1              5 \n",
              " Massachusetts       Michigan      Minnesota    Mississippi       Missouri \n",
              "             4              5              1              3              2 \n",
              "       Montana       Nebraska         Nevada  New Hampshire     New Jersey \n",
              "             1              2              5              1              4 \n",
              "    New Mexico       New York North Carolina   North Dakota           Ohio \n",
              "             5              5              3              1              2 \n",
              "      Oklahoma         Oregon   Pennsylvania   Rhode Island South Carolina \n",
              "             2              2              4              4              3 \n",
              "  South Dakota      Tennessee          Texas           Utah        Vermont \n",
              "             1              3              5              4              1 \n",
              "      Virginia     Washington  West Virginia      Wisconsin        Wyoming \n",
              "             2              2              1              1              2 \n",
              "\n",
              "Within cluster sum of squares by cluster:\n",
              "[1]  8.499862 10.860162  6.128432  5.244931 18.257332\n",
              " (between_SS / total_SS =  75.0 %)\n",
              "\n",
              "Available components:\n",
              "\n",
              "[1] \"cluster\"      \"centers\"      \"totss\"        \"withinss\"     \"tot.withinss\"\n",
              "[6] \"betweenss\"    \"size\"         \"iter\"         \"ifault\"      "
            ]
          },
          "metadata": {}
        }
      ]
    },
    {
      "cell_type": "code",
      "source": [
        "states_clustered$cluster"
      ],
      "metadata": {
        "colab": {
          "base_uri": "https://localhost:8080/",
          "height": 156
        },
        "id": "kRVQMzaCJLg1",
        "outputId": "cf069e8e-9b5d-47e3-cb86-44f2ab80e3b6"
      },
      "execution_count": 93,
      "outputs": [
        {
          "output_type": "display_data",
          "data": {
            "text/plain": [
              "       Alabama         Alaska        Arizona       Arkansas     California \n",
              "             3              5              5              2              5 \n",
              "      Colorado    Connecticut       Delaware        Florida        Georgia \n",
              "             5              4              2              5              3 \n",
              "        Hawaii          Idaho       Illinois        Indiana           Iowa \n",
              "             4              1              5              2              1 \n",
              "        Kansas       Kentucky      Louisiana          Maine       Maryland \n",
              "             2              2              3              1              5 \n",
              " Massachusetts       Michigan      Minnesota    Mississippi       Missouri \n",
              "             4              5              1              3              2 \n",
              "       Montana       Nebraska         Nevada  New Hampshire     New Jersey \n",
              "             1              2              5              1              4 \n",
              "    New Mexico       New York North Carolina   North Dakota           Ohio \n",
              "             5              5              3              1              2 \n",
              "      Oklahoma         Oregon   Pennsylvania   Rhode Island South Carolina \n",
              "             2              2              4              4              3 \n",
              "  South Dakota      Tennessee          Texas           Utah        Vermont \n",
              "             1              3              5              4              1 \n",
              "      Virginia     Washington  West Virginia      Wisconsin        Wyoming \n",
              "             2              2              1              1              2 "
            ],
            "text/latex": "\\begin{description*}\n\\item[Alabama] 3\n\\item[Alaska] 5\n\\item[Arizona] 5\n\\item[Arkansas] 2\n\\item[California] 5\n\\item[Colorado] 5\n\\item[Connecticut] 4\n\\item[Delaware] 2\n\\item[Florida] 5\n\\item[Georgia] 3\n\\item[Hawaii] 4\n\\item[Idaho] 1\n\\item[Illinois] 5\n\\item[Indiana] 2\n\\item[Iowa] 1\n\\item[Kansas] 2\n\\item[Kentucky] 2\n\\item[Louisiana] 3\n\\item[Maine] 1\n\\item[Maryland] 5\n\\item[Massachusetts] 4\n\\item[Michigan] 5\n\\item[Minnesota] 1\n\\item[Mississippi] 3\n\\item[Missouri] 2\n\\item[Montana] 1\n\\item[Nebraska] 2\n\\item[Nevada] 5\n\\item[New Hampshire] 1\n\\item[New Jersey] 4\n\\item[New Mexico] 5\n\\item[New York] 5\n\\item[North Carolina] 3\n\\item[North Dakota] 1\n\\item[Ohio] 2\n\\item[Oklahoma] 2\n\\item[Oregon] 2\n\\item[Pennsylvania] 4\n\\item[Rhode Island] 4\n\\item[South Carolina] 3\n\\item[South Dakota] 1\n\\item[Tennessee] 3\n\\item[Texas] 5\n\\item[Utah] 4\n\\item[Vermont] 1\n\\item[Virginia] 2\n\\item[Washington] 2\n\\item[West Virginia] 1\n\\item[Wisconsin] 1\n\\item[Wyoming] 2\n\\end{description*}\n",
            "text/markdown": "Alabama\n:   3Alaska\n:   5Arizona\n:   5Arkansas\n:   2California\n:   5Colorado\n:   5Connecticut\n:   4Delaware\n:   2Florida\n:   5Georgia\n:   3Hawaii\n:   4Idaho\n:   1Illinois\n:   5Indiana\n:   2Iowa\n:   1Kansas\n:   2Kentucky\n:   2Louisiana\n:   3Maine\n:   1Maryland\n:   5Massachusetts\n:   4Michigan\n:   5Minnesota\n:   1Mississippi\n:   3Missouri\n:   2Montana\n:   1Nebraska\n:   2Nevada\n:   5New Hampshire\n:   1New Jersey\n:   4New Mexico\n:   5New York\n:   5North Carolina\n:   3North Dakota\n:   1Ohio\n:   2Oklahoma\n:   2Oregon\n:   2Pennsylvania\n:   4Rhode Island\n:   4South Carolina\n:   3South Dakota\n:   1Tennessee\n:   3Texas\n:   5Utah\n:   4Vermont\n:   1Virginia\n:   2Washington\n:   2West Virginia\n:   1Wisconsin\n:   1Wyoming\n:   2\n\n",
            "text/html": [
              "<style>\n",
              ".dl-inline {width: auto; margin:0; padding: 0}\n",
              ".dl-inline>dt, .dl-inline>dd {float: none; width: auto; display: inline-block}\n",
              ".dl-inline>dt::after {content: \":\\0020\"; padding-right: .5ex}\n",
              ".dl-inline>dt:not(:first-of-type) {padding-left: .5ex}\n",
              "</style><dl class=dl-inline><dt>Alabama</dt><dd>3</dd><dt>Alaska</dt><dd>5</dd><dt>Arizona</dt><dd>5</dd><dt>Arkansas</dt><dd>2</dd><dt>California</dt><dd>5</dd><dt>Colorado</dt><dd>5</dd><dt>Connecticut</dt><dd>4</dd><dt>Delaware</dt><dd>2</dd><dt>Florida</dt><dd>5</dd><dt>Georgia</dt><dd>3</dd><dt>Hawaii</dt><dd>4</dd><dt>Idaho</dt><dd>1</dd><dt>Illinois</dt><dd>5</dd><dt>Indiana</dt><dd>2</dd><dt>Iowa</dt><dd>1</dd><dt>Kansas</dt><dd>2</dd><dt>Kentucky</dt><dd>2</dd><dt>Louisiana</dt><dd>3</dd><dt>Maine</dt><dd>1</dd><dt>Maryland</dt><dd>5</dd><dt>Massachusetts</dt><dd>4</dd><dt>Michigan</dt><dd>5</dd><dt>Minnesota</dt><dd>1</dd><dt>Mississippi</dt><dd>3</dd><dt>Missouri</dt><dd>2</dd><dt>Montana</dt><dd>1</dd><dt>Nebraska</dt><dd>2</dd><dt>Nevada</dt><dd>5</dd><dt>New Hampshire</dt><dd>1</dd><dt>New Jersey</dt><dd>4</dd><dt>New Mexico</dt><dd>5</dd><dt>New York</dt><dd>5</dd><dt>North Carolina</dt><dd>3</dd><dt>North Dakota</dt><dd>1</dd><dt>Ohio</dt><dd>2</dd><dt>Oklahoma</dt><dd>2</dd><dt>Oregon</dt><dd>2</dd><dt>Pennsylvania</dt><dd>4</dd><dt>Rhode Island</dt><dd>4</dd><dt>South Carolina</dt><dd>3</dd><dt>South Dakota</dt><dd>1</dd><dt>Tennessee</dt><dd>3</dd><dt>Texas</dt><dd>5</dd><dt>Utah</dt><dd>4</dd><dt>Vermont</dt><dd>1</dd><dt>Virginia</dt><dd>2</dd><dt>Washington</dt><dd>2</dd><dt>West Virginia</dt><dd>1</dd><dt>Wisconsin</dt><dd>1</dd><dt>Wyoming</dt><dd>2</dd></dl>\n"
            ]
          },
          "metadata": {}
        }
      ]
    },
    {
      "cell_type": "markdown",
      "source": [
        "# What are the values of the cluster centers?"
      ],
      "metadata": {
        "id": "wlLJKfdyK3G5"
      }
    },
    {
      "cell_type": "code",
      "source": [
        "states_clustered$centers"
      ],
      "metadata": {
        "colab": {
          "base_uri": "https://localhost:8080/",
          "height": 224
        },
        "id": "cMPodDsnKDPd",
        "outputId": "f61b42b2-a953-450d-91f9-53f2c34a63ab"
      },
      "execution_count": 94,
      "outputs": [
        {
          "output_type": "display_data",
          "data": {
            "text/plain": [
              "  Murder     Assault    UrbanPop    Rape       \n",
              "1 -1.1034717 -1.1654231 -0.99194587 -1.04874074\n",
              "2 -0.2162425 -0.2611064 -0.04793489 -0.06172647\n",
              "3  1.5803956  0.9662584 -0.77751086  0.04844071\n",
              "4 -0.6958674 -0.5679476  1.12728218 -0.55096728\n",
              "5  0.7298036  1.1188219  0.75717991  1.32135653"
            ],
            "text/latex": "A matrix: 5 × 4 of type dbl\n\\begin{tabular}{r|llll}\n  & Murder & Assault & UrbanPop & Rape\\\\\n\\hline\n\t1 & -1.1034717 & -1.1654231 & -0.99194587 & -1.04874074\\\\\n\t2 & -0.2162425 & -0.2611064 & -0.04793489 & -0.06172647\\\\\n\t3 &  1.5803956 &  0.9662584 & -0.77751086 &  0.04844071\\\\\n\t4 & -0.6958674 & -0.5679476 &  1.12728218 & -0.55096728\\\\\n\t5 &  0.7298036 &  1.1188219 &  0.75717991 &  1.32135653\\\\\n\\end{tabular}\n",
            "text/markdown": "\nA matrix: 5 × 4 of type dbl\n\n| <!--/--> | Murder | Assault | UrbanPop | Rape |\n|---|---|---|---|---|\n| 1 | -1.1034717 | -1.1654231 | -0.99194587 | -1.04874074 |\n| 2 | -0.2162425 | -0.2611064 | -0.04793489 | -0.06172647 |\n| 3 |  1.5803956 |  0.9662584 | -0.77751086 |  0.04844071 |\n| 4 | -0.6958674 | -0.5679476 |  1.12728218 | -0.55096728 |\n| 5 |  0.7298036 |  1.1188219 |  0.75717991 |  1.32135653 |\n\n",
            "text/html": [
              "<table class=\"dataframe\">\n",
              "<caption>A matrix: 5 × 4 of type dbl</caption>\n",
              "<thead>\n",
              "\t<tr><th></th><th scope=col>Murder</th><th scope=col>Assault</th><th scope=col>UrbanPop</th><th scope=col>Rape</th></tr>\n",
              "</thead>\n",
              "<tbody>\n",
              "\t<tr><th scope=row>1</th><td>-1.1034717</td><td>-1.1654231</td><td>-0.99194587</td><td>-1.04874074</td></tr>\n",
              "\t<tr><th scope=row>2</th><td>-0.2162425</td><td>-0.2611064</td><td>-0.04793489</td><td>-0.06172647</td></tr>\n",
              "\t<tr><th scope=row>3</th><td> 1.5803956</td><td> 0.9662584</td><td>-0.77751086</td><td> 0.04844071</td></tr>\n",
              "\t<tr><th scope=row>4</th><td>-0.6958674</td><td>-0.5679476</td><td> 1.12728218</td><td>-0.55096728</td></tr>\n",
              "\t<tr><th scope=row>5</th><td> 0.7298036</td><td> 1.1188219</td><td> 0.75717991</td><td> 1.32135653</td></tr>\n",
              "</tbody>\n",
              "</table>\n"
            ]
          },
          "metadata": {}
        }
      ]
    }
  ]
}