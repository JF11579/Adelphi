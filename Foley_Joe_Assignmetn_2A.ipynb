{
  "nbformat": 4,
  "nbformat_minor": 0,
  "metadata": {
    "colab": {
      "name": "Foley_Joe_Assignmetn_2A.ipynb",
      "provenance": [],
      "collapsed_sections": [],
      "authorship_tag": "ABX9TyMgeqR9Bcoc9bqnkAwYRdBr",
      "include_colab_link": true
    },
    "kernelspec": {
      "name": "ir",
      "display_name": "R"
    },
    "language_info": {
      "name": "R"
    }
  },
  "cells": [
    {
      "cell_type": "markdown",
      "metadata": {
        "id": "view-in-github",
        "colab_type": "text"
      },
      "source": [
        "<a href=\"https://colab.research.google.com/github/JF11579/Adelphi/blob/main/Foley_Joe_Assignmetn_2A.ipynb\" target=\"_parent\"><img src=\"https://colab.research.google.com/assets/colab-badge.svg\" alt=\"Open In Colab\"/></a>"
      ]
    },
    {
      "cell_type": "markdown",
      "source": [
        "\n",
        "# Packages"
      ],
      "metadata": {
        "id": "vq0ChtWurLVV"
      }
    },
    {
      "cell_type": "code",
      "source": [
        "library(tidyverse)\n",
        "install.packages(\"ISLR\")\n",
        "library(ISLR)\n",
        "library(lubridate)\n",
        "install.packages(\"psycho\")\n",
        "library(psycho)\n",
        "library(class)\n",
        "install.packages(\"gmodels\")\n",
        "library(gmodels)\n",
        "library(ggplot2)"
      ],
      "metadata": {
        "colab": {
          "base_uri": "https://localhost:8080/"
        },
        "id": "8qZNtwMTrTcg",
        "outputId": "6515a4be-afd8-4502-d917-21dee7b9742b"
      },
      "execution_count": null,
      "outputs": [
        {
          "output_type": "stream",
          "name": "stderr",
          "text": [
            "Installing package into ‘/usr/local/lib/R/site-library’\n",
            "(as ‘lib’ is unspecified)\n",
            "\n",
            "Installing package into ‘/usr/local/lib/R/site-library’\n",
            "(as ‘lib’ is unspecified)\n",
            "\n",
            "Installing package into ‘/usr/local/lib/R/site-library’\n",
            "(as ‘lib’ is unspecified)\n",
            "\n"
          ]
        }
      ]
    },
    {
      "cell_type": "markdown",
      "source": [
        "  "
      ],
      "metadata": {
        "id": "Sm9F5Xk-Pspm"
      }
    },
    {
      "cell_type": "markdown",
      "source": [
        "# Question 1 : KNN"
      ],
      "metadata": {
        "id": "ovUWOjpRPoHO"
      }
    },
    {
      "cell_type": "markdown",
      "source": [
        "## Data Prep"
      ],
      "metadata": {
        "id": "kpExfizpr50Y"
      }
    },
    {
      "cell_type": "code",
      "source": [
        "head(Smarket,5)"
      ],
      "metadata": {
        "colab": {
          "base_uri": "https://localhost:8080/",
          "height": 255
        },
        "id": "cotg5If4rZQu",
        "outputId": "bb42ad79-d1a6-40ef-9c31-63a42ccf4bd7"
      },
      "execution_count": 47,
      "outputs": [
        {
          "output_type": "display_data",
          "data": {
            "text/plain": [
              "  Year Lag1   Lag2   Lag3   Lag4   Lag5   Volume Today  Direction\n",
              "1 2001  0.381 -0.192 -2.624 -1.055  5.010 1.1913  0.959 Up       \n",
              "2 2001  0.959  0.381 -0.192 -2.624 -1.055 1.2965  1.032 Up       \n",
              "3 2001  1.032  0.959  0.381 -0.192 -2.624 1.4112 -0.623 Down     \n",
              "4 2001 -0.623  1.032  0.959  0.381 -0.192 1.2760  0.614 Up       \n",
              "5 2001  0.614 -0.623  1.032  0.959  0.381 1.2057  0.213 Up       "
            ],
            "text/latex": "A data.frame: 5 × 9\n\\begin{tabular}{r|lllllllll}\n  & Year & Lag1 & Lag2 & Lag3 & Lag4 & Lag5 & Volume & Today & Direction\\\\\n  & <fct> & <dbl> & <dbl> & <dbl> & <dbl> & <dbl> & <dbl> & <dbl> & <fct>\\\\\n\\hline\n\t1 & 2001 &  0.381 & -0.192 & -2.624 & -1.055 &  5.010 & 1.1913 &  0.959 & Up  \\\\\n\t2 & 2001 &  0.959 &  0.381 & -0.192 & -2.624 & -1.055 & 1.2965 &  1.032 & Up  \\\\\n\t3 & 2001 &  1.032 &  0.959 &  0.381 & -0.192 & -2.624 & 1.4112 & -0.623 & Down\\\\\n\t4 & 2001 & -0.623 &  1.032 &  0.959 &  0.381 & -0.192 & 1.2760 &  0.614 & Up  \\\\\n\t5 & 2001 &  0.614 & -0.623 &  1.032 &  0.959 &  0.381 & 1.2057 &  0.213 & Up  \\\\\n\\end{tabular}\n",
            "text/markdown": "\nA data.frame: 5 × 9\n\n| <!--/--> | Year &lt;fct&gt; | Lag1 &lt;dbl&gt; | Lag2 &lt;dbl&gt; | Lag3 &lt;dbl&gt; | Lag4 &lt;dbl&gt; | Lag5 &lt;dbl&gt; | Volume &lt;dbl&gt; | Today &lt;dbl&gt; | Direction &lt;fct&gt; |\n|---|---|---|---|---|---|---|---|---|---|\n| 1 | 2001 |  0.381 | -0.192 | -2.624 | -1.055 |  5.010 | 1.1913 |  0.959 | Up   |\n| 2 | 2001 |  0.959 |  0.381 | -0.192 | -2.624 | -1.055 | 1.2965 |  1.032 | Up   |\n| 3 | 2001 |  1.032 |  0.959 |  0.381 | -0.192 | -2.624 | 1.4112 | -0.623 | Down |\n| 4 | 2001 | -0.623 |  1.032 |  0.959 |  0.381 | -0.192 | 1.2760 |  0.614 | Up   |\n| 5 | 2001 |  0.614 | -0.623 |  1.032 |  0.959 |  0.381 | 1.2057 |  0.213 | Up   |\n\n",
            "text/html": [
              "<table class=\"dataframe\">\n",
              "<caption>A data.frame: 5 × 9</caption>\n",
              "<thead>\n",
              "\t<tr><th></th><th scope=col>Year</th><th scope=col>Lag1</th><th scope=col>Lag2</th><th scope=col>Lag3</th><th scope=col>Lag4</th><th scope=col>Lag5</th><th scope=col>Volume</th><th scope=col>Today</th><th scope=col>Direction</th></tr>\n",
              "\t<tr><th></th><th scope=col>&lt;fct&gt;</th><th scope=col>&lt;dbl&gt;</th><th scope=col>&lt;dbl&gt;</th><th scope=col>&lt;dbl&gt;</th><th scope=col>&lt;dbl&gt;</th><th scope=col>&lt;dbl&gt;</th><th scope=col>&lt;dbl&gt;</th><th scope=col>&lt;dbl&gt;</th><th scope=col>&lt;fct&gt;</th></tr>\n",
              "</thead>\n",
              "<tbody>\n",
              "\t<tr><th scope=row>1</th><td>2001</td><td> 0.381</td><td>-0.192</td><td>-2.624</td><td>-1.055</td><td> 5.010</td><td>1.1913</td><td> 0.959</td><td>Up  </td></tr>\n",
              "\t<tr><th scope=row>2</th><td>2001</td><td> 0.959</td><td> 0.381</td><td>-0.192</td><td>-2.624</td><td>-1.055</td><td>1.2965</td><td> 1.032</td><td>Up  </td></tr>\n",
              "\t<tr><th scope=row>3</th><td>2001</td><td> 1.032</td><td> 0.959</td><td> 0.381</td><td>-0.192</td><td>-2.624</td><td>1.4112</td><td>-0.623</td><td>Down</td></tr>\n",
              "\t<tr><th scope=row>4</th><td>2001</td><td>-0.623</td><td> 1.032</td><td> 0.959</td><td> 0.381</td><td>-0.192</td><td>1.2760</td><td> 0.614</td><td>Up  </td></tr>\n",
              "\t<tr><th scope=row>5</th><td>2001</td><td> 0.614</td><td>-0.623</td><td> 1.032</td><td> 0.959</td><td> 0.381</td><td>1.2057</td><td> 0.213</td><td>Up  </td></tr>\n",
              "</tbody>\n",
              "</table>\n"
            ]
          },
          "metadata": {}
        }
      ]
    },
    {
      "cell_type": "code",
      "source": [
        "Smarket$Year <- as.factor(Smarket$Year)"
      ],
      "metadata": {
        "id": "bLynrBdNr2Ts"
      },
      "execution_count": null,
      "outputs": []
    },
    {
      "cell_type": "markdown",
      "source": [
        "## Divide the Smarket into two datasets: 2001 through 2004 will be the training data,"
      ],
      "metadata": {
        "id": "2jvzIve2sMNW"
      }
    },
    {
      "cell_type": "code",
      "source": [
        "Smarket_train <- Smarket %>% filter(Smarket$Year %in% 2001:2004)"
      ],
      "metadata": {
        "id": "2Dchit4Pr3QR"
      },
      "execution_count": 48,
      "outputs": []
    },
    {
      "cell_type": "code",
      "source": [
        "dim(Smarket_train )"
      ],
      "metadata": {
        "colab": {
          "base_uri": "https://localhost:8080/",
          "height": 34
        },
        "id": "rjLi4fONsSSz",
        "outputId": "ced030c8-288b-4286-c291-4b63d6c46d73"
      },
      "execution_count": 49,
      "outputs": [
        {
          "output_type": "display_data",
          "data": {
            "text/plain": [
              "[1] 998   9"
            ],
            "text/latex": "\\begin{enumerate*}\n\\item 998\n\\item 9\n\\end{enumerate*}\n",
            "text/markdown": "1. 998\n2. 9\n\n\n",
            "text/html": [
              "<style>\n",
              ".list-inline {list-style: none; margin:0; padding: 0}\n",
              ".list-inline>li {display: inline-block}\n",
              ".list-inline>li:not(:last-child)::after {content: \"\\00b7\"; padding: 0 .5ex}\n",
              "</style>\n",
              "<ol class=list-inline><li>998</li><li>9</li></ol>\n"
            ]
          },
          "metadata": {}
        }
      ]
    },
    {
      "cell_type": "code",
      "source": [
        "head(Smarket_train)"
      ],
      "metadata": {
        "colab": {
          "base_uri": "https://localhost:8080/",
          "height": 286
        },
        "id": "cnrejQr1z7iu",
        "outputId": "73893048-12cd-4bf6-fcbe-1f3b5030252c"
      },
      "execution_count": 50,
      "outputs": [
        {
          "output_type": "display_data",
          "data": {
            "text/plain": [
              "  Year Lag1   Lag2   Lag3   Lag4   Lag5   Volume Today  Direction\n",
              "1 2001  0.381 -0.192 -2.624 -1.055  5.010 1.1913  0.959 Up       \n",
              "2 2001  0.959  0.381 -0.192 -2.624 -1.055 1.2965  1.032 Up       \n",
              "3 2001  1.032  0.959  0.381 -0.192 -2.624 1.4112 -0.623 Down     \n",
              "4 2001 -0.623  1.032  0.959  0.381 -0.192 1.2760  0.614 Up       \n",
              "5 2001  0.614 -0.623  1.032  0.959  0.381 1.2057  0.213 Up       \n",
              "6 2001  0.213  0.614 -0.623  1.032  0.959 1.3491  1.392 Up       "
            ],
            "text/latex": "A data.frame: 6 × 9\n\\begin{tabular}{r|lllllllll}\n  & Year & Lag1 & Lag2 & Lag3 & Lag4 & Lag5 & Volume & Today & Direction\\\\\n  & <fct> & <dbl> & <dbl> & <dbl> & <dbl> & <dbl> & <dbl> & <dbl> & <fct>\\\\\n\\hline\n\t1 & 2001 &  0.381 & -0.192 & -2.624 & -1.055 &  5.010 & 1.1913 &  0.959 & Up  \\\\\n\t2 & 2001 &  0.959 &  0.381 & -0.192 & -2.624 & -1.055 & 1.2965 &  1.032 & Up  \\\\\n\t3 & 2001 &  1.032 &  0.959 &  0.381 & -0.192 & -2.624 & 1.4112 & -0.623 & Down\\\\\n\t4 & 2001 & -0.623 &  1.032 &  0.959 &  0.381 & -0.192 & 1.2760 &  0.614 & Up  \\\\\n\t5 & 2001 &  0.614 & -0.623 &  1.032 &  0.959 &  0.381 & 1.2057 &  0.213 & Up  \\\\\n\t6 & 2001 &  0.213 &  0.614 & -0.623 &  1.032 &  0.959 & 1.3491 &  1.392 & Up  \\\\\n\\end{tabular}\n",
            "text/markdown": "\nA data.frame: 6 × 9\n\n| <!--/--> | Year &lt;fct&gt; | Lag1 &lt;dbl&gt; | Lag2 &lt;dbl&gt; | Lag3 &lt;dbl&gt; | Lag4 &lt;dbl&gt; | Lag5 &lt;dbl&gt; | Volume &lt;dbl&gt; | Today &lt;dbl&gt; | Direction &lt;fct&gt; |\n|---|---|---|---|---|---|---|---|---|---|\n| 1 | 2001 |  0.381 | -0.192 | -2.624 | -1.055 |  5.010 | 1.1913 |  0.959 | Up   |\n| 2 | 2001 |  0.959 |  0.381 | -0.192 | -2.624 | -1.055 | 1.2965 |  1.032 | Up   |\n| 3 | 2001 |  1.032 |  0.959 |  0.381 | -0.192 | -2.624 | 1.4112 | -0.623 | Down |\n| 4 | 2001 | -0.623 |  1.032 |  0.959 |  0.381 | -0.192 | 1.2760 |  0.614 | Up   |\n| 5 | 2001 |  0.614 | -0.623 |  1.032 |  0.959 |  0.381 | 1.2057 |  0.213 | Up   |\n| 6 | 2001 |  0.213 |  0.614 | -0.623 |  1.032 |  0.959 | 1.3491 |  1.392 | Up   |\n\n",
            "text/html": [
              "<table class=\"dataframe\">\n",
              "<caption>A data.frame: 6 × 9</caption>\n",
              "<thead>\n",
              "\t<tr><th></th><th scope=col>Year</th><th scope=col>Lag1</th><th scope=col>Lag2</th><th scope=col>Lag3</th><th scope=col>Lag4</th><th scope=col>Lag5</th><th scope=col>Volume</th><th scope=col>Today</th><th scope=col>Direction</th></tr>\n",
              "\t<tr><th></th><th scope=col>&lt;fct&gt;</th><th scope=col>&lt;dbl&gt;</th><th scope=col>&lt;dbl&gt;</th><th scope=col>&lt;dbl&gt;</th><th scope=col>&lt;dbl&gt;</th><th scope=col>&lt;dbl&gt;</th><th scope=col>&lt;dbl&gt;</th><th scope=col>&lt;dbl&gt;</th><th scope=col>&lt;fct&gt;</th></tr>\n",
              "</thead>\n",
              "<tbody>\n",
              "\t<tr><th scope=row>1</th><td>2001</td><td> 0.381</td><td>-0.192</td><td>-2.624</td><td>-1.055</td><td> 5.010</td><td>1.1913</td><td> 0.959</td><td>Up  </td></tr>\n",
              "\t<tr><th scope=row>2</th><td>2001</td><td> 0.959</td><td> 0.381</td><td>-0.192</td><td>-2.624</td><td>-1.055</td><td>1.2965</td><td> 1.032</td><td>Up  </td></tr>\n",
              "\t<tr><th scope=row>3</th><td>2001</td><td> 1.032</td><td> 0.959</td><td> 0.381</td><td>-0.192</td><td>-2.624</td><td>1.4112</td><td>-0.623</td><td>Down</td></tr>\n",
              "\t<tr><th scope=row>4</th><td>2001</td><td>-0.623</td><td> 1.032</td><td> 0.959</td><td> 0.381</td><td>-0.192</td><td>1.2760</td><td> 0.614</td><td>Up  </td></tr>\n",
              "\t<tr><th scope=row>5</th><td>2001</td><td> 0.614</td><td>-0.623</td><td> 1.032</td><td> 0.959</td><td> 0.381</td><td>1.2057</td><td> 0.213</td><td>Up  </td></tr>\n",
              "\t<tr><th scope=row>6</th><td>2001</td><td> 0.213</td><td> 0.614</td><td>-0.623</td><td> 1.032</td><td> 0.959</td><td>1.3491</td><td> 1.392</td><td>Up  </td></tr>\n",
              "</tbody>\n",
              "</table>\n"
            ]
          },
          "metadata": {}
        }
      ]
    },
    {
      "cell_type": "markdown",
      "source": [
        "## and\n",
        "2005 will be the test data."
      ],
      "metadata": {
        "id": "WGX-hhGnshKa"
      }
    },
    {
      "cell_type": "code",
      "source": [
        "Smarket_test <- filter(Smarket, Year == 2005)"
      ],
      "metadata": {
        "id": "mccjcsSRsYlE"
      },
      "execution_count": 51,
      "outputs": []
    },
    {
      "cell_type": "code",
      "source": [
        "dim(Smarket_test )"
      ],
      "metadata": {
        "colab": {
          "base_uri": "https://localhost:8080/",
          "height": 34
        },
        "id": "YvwIEfursmRv",
        "outputId": "2244d0f4-81b0-4fc8-8a00-92544259592f"
      },
      "execution_count": 52,
      "outputs": [
        {
          "output_type": "display_data",
          "data": {
            "text/plain": [
              "[1] 252   9"
            ],
            "text/latex": "\\begin{enumerate*}\n\\item 252\n\\item 9\n\\end{enumerate*}\n",
            "text/markdown": "1. 252\n2. 9\n\n\n",
            "text/html": [
              "<style>\n",
              ".list-inline {list-style: none; margin:0; padding: 0}\n",
              ".list-inline>li {display: inline-block}\n",
              ".list-inline>li:not(:last-child)::after {content: \"\\00b7\"; padding: 0 .5ex}\n",
              "</style>\n",
              "<ol class=list-inline><li>252</li><li>9</li></ol>\n"
            ]
          },
          "metadata": {}
        }
      ]
    },
    {
      "cell_type": "code",
      "source": [
        "head(Smarket_test)"
      ],
      "metadata": {
        "colab": {
          "base_uri": "https://localhost:8080/",
          "height": 286
        },
        "id": "EuuwS1QN1GsC",
        "outputId": "02ad70c9-593a-489c-e742-952189c75fd0"
      },
      "execution_count": 53,
      "outputs": [
        {
          "output_type": "display_data",
          "data": {
            "text/plain": [
              "  Year Lag1   Lag2   Lag3   Lag4   Lag5   Volume Today  Direction\n",
              "1 2005 -0.134  0.008 -0.007  0.715 -0.431 0.7869 -0.812 Down     \n",
              "2 2005 -0.812 -0.134  0.008 -0.007  0.715 1.5108 -1.167 Down     \n",
              "3 2005 -1.167 -0.812 -0.134  0.008 -0.007 1.7210 -0.363 Down     \n",
              "4 2005 -0.363 -1.167 -0.812 -0.134  0.008 1.7389  0.351 Up       \n",
              "5 2005  0.351 -0.363 -1.167 -0.812 -0.134 1.5691 -0.143 Down     \n",
              "6 2005 -0.143  0.351 -0.363 -1.167 -0.812 1.4779  0.342 Up       "
            ],
            "text/latex": "A data.frame: 6 × 9\n\\begin{tabular}{r|lllllllll}\n  & Year & Lag1 & Lag2 & Lag3 & Lag4 & Lag5 & Volume & Today & Direction\\\\\n  & <fct> & <dbl> & <dbl> & <dbl> & <dbl> & <dbl> & <dbl> & <dbl> & <fct>\\\\\n\\hline\n\t1 & 2005 & -0.134 &  0.008 & -0.007 &  0.715 & -0.431 & 0.7869 & -0.812 & Down\\\\\n\t2 & 2005 & -0.812 & -0.134 &  0.008 & -0.007 &  0.715 & 1.5108 & -1.167 & Down\\\\\n\t3 & 2005 & -1.167 & -0.812 & -0.134 &  0.008 & -0.007 & 1.7210 & -0.363 & Down\\\\\n\t4 & 2005 & -0.363 & -1.167 & -0.812 & -0.134 &  0.008 & 1.7389 &  0.351 & Up  \\\\\n\t5 & 2005 &  0.351 & -0.363 & -1.167 & -0.812 & -0.134 & 1.5691 & -0.143 & Down\\\\\n\t6 & 2005 & -0.143 &  0.351 & -0.363 & -1.167 & -0.812 & 1.4779 &  0.342 & Up  \\\\\n\\end{tabular}\n",
            "text/markdown": "\nA data.frame: 6 × 9\n\n| <!--/--> | Year &lt;fct&gt; | Lag1 &lt;dbl&gt; | Lag2 &lt;dbl&gt; | Lag3 &lt;dbl&gt; | Lag4 &lt;dbl&gt; | Lag5 &lt;dbl&gt; | Volume &lt;dbl&gt; | Today &lt;dbl&gt; | Direction &lt;fct&gt; |\n|---|---|---|---|---|---|---|---|---|---|\n| 1 | 2005 | -0.134 |  0.008 | -0.007 |  0.715 | -0.431 | 0.7869 | -0.812 | Down |\n| 2 | 2005 | -0.812 | -0.134 |  0.008 | -0.007 |  0.715 | 1.5108 | -1.167 | Down |\n| 3 | 2005 | -1.167 | -0.812 | -0.134 |  0.008 | -0.007 | 1.7210 | -0.363 | Down |\n| 4 | 2005 | -0.363 | -1.167 | -0.812 | -0.134 |  0.008 | 1.7389 |  0.351 | Up   |\n| 5 | 2005 |  0.351 | -0.363 | -1.167 | -0.812 | -0.134 | 1.5691 | -0.143 | Down |\n| 6 | 2005 | -0.143 |  0.351 | -0.363 | -1.167 | -0.812 | 1.4779 |  0.342 | Up   |\n\n",
            "text/html": [
              "<table class=\"dataframe\">\n",
              "<caption>A data.frame: 6 × 9</caption>\n",
              "<thead>\n",
              "\t<tr><th></th><th scope=col>Year</th><th scope=col>Lag1</th><th scope=col>Lag2</th><th scope=col>Lag3</th><th scope=col>Lag4</th><th scope=col>Lag5</th><th scope=col>Volume</th><th scope=col>Today</th><th scope=col>Direction</th></tr>\n",
              "\t<tr><th></th><th scope=col>&lt;fct&gt;</th><th scope=col>&lt;dbl&gt;</th><th scope=col>&lt;dbl&gt;</th><th scope=col>&lt;dbl&gt;</th><th scope=col>&lt;dbl&gt;</th><th scope=col>&lt;dbl&gt;</th><th scope=col>&lt;dbl&gt;</th><th scope=col>&lt;dbl&gt;</th><th scope=col>&lt;fct&gt;</th></tr>\n",
              "</thead>\n",
              "<tbody>\n",
              "\t<tr><th scope=row>1</th><td>2005</td><td>-0.134</td><td> 0.008</td><td>-0.007</td><td> 0.715</td><td>-0.431</td><td>0.7869</td><td>-0.812</td><td>Down</td></tr>\n",
              "\t<tr><th scope=row>2</th><td>2005</td><td>-0.812</td><td>-0.134</td><td> 0.008</td><td>-0.007</td><td> 0.715</td><td>1.5108</td><td>-1.167</td><td>Down</td></tr>\n",
              "\t<tr><th scope=row>3</th><td>2005</td><td>-1.167</td><td>-0.812</td><td>-0.134</td><td> 0.008</td><td>-0.007</td><td>1.7210</td><td>-0.363</td><td>Down</td></tr>\n",
              "\t<tr><th scope=row>4</th><td>2005</td><td>-0.363</td><td>-1.167</td><td>-0.812</td><td>-0.134</td><td> 0.008</td><td>1.7389</td><td> 0.351</td><td>Up  </td></tr>\n",
              "\t<tr><th scope=row>5</th><td>2005</td><td> 0.351</td><td>-0.363</td><td>-1.167</td><td>-0.812</td><td>-0.134</td><td>1.5691</td><td>-0.143</td><td>Down</td></tr>\n",
              "\t<tr><th scope=row>6</th><td>2005</td><td>-0.143</td><td> 0.351</td><td>-0.363</td><td>-1.167</td><td>-0.812</td><td>1.4779</td><td> 0.342</td><td>Up  </td></tr>\n",
              "</tbody>\n",
              "</table>\n"
            ]
          },
          "metadata": {}
        }
      ]
    },
    {
      "cell_type": "markdown",
      "source": [
        "Create a subset of the Smarket_train data set which only includes columns 2 to 6 (Lag1,\n",
        "Lag2, Lag3, Lag4, Lag5, and Volume) and name it Smarket_train_x."
      ],
      "metadata": {
        "id": "hlrJxbnmtSn_"
      }
    },
    {
      "cell_type": "code",
      "source": [
        "#Smarket_train_x <- Smarket_training  %>% select(2:7)\n",
        "Smarket_train_x <- Smarket_train  %>% select(2:7)"
      ],
      "metadata": {
        "id": "6eOJqpzys-VD"
      },
      "execution_count": 54,
      "outputs": []
    },
    {
      "cell_type": "code",
      "source": [
        "head(Smarket_train_x)"
      ],
      "metadata": {
        "id": "UNfIA0wJthjA",
        "colab": {
          "base_uri": "https://localhost:8080/",
          "height": 286
        },
        "outputId": "48f7a6eb-3f0d-455a-f72c-5070fa8d448e"
      },
      "execution_count": 55,
      "outputs": [
        {
          "output_type": "display_data",
          "data": {
            "text/plain": [
              "  Lag1   Lag2   Lag3   Lag4   Lag5   Volume\n",
              "1  0.381 -0.192 -2.624 -1.055  5.010 1.1913\n",
              "2  0.959  0.381 -0.192 -2.624 -1.055 1.2965\n",
              "3  1.032  0.959  0.381 -0.192 -2.624 1.4112\n",
              "4 -0.623  1.032  0.959  0.381 -0.192 1.2760\n",
              "5  0.614 -0.623  1.032  0.959  0.381 1.2057\n",
              "6  0.213  0.614 -0.623  1.032  0.959 1.3491"
            ],
            "text/latex": "A data.frame: 6 × 6\n\\begin{tabular}{r|llllll}\n  & Lag1 & Lag2 & Lag3 & Lag4 & Lag5 & Volume\\\\\n  & <dbl> & <dbl> & <dbl> & <dbl> & <dbl> & <dbl>\\\\\n\\hline\n\t1 &  0.381 & -0.192 & -2.624 & -1.055 &  5.010 & 1.1913\\\\\n\t2 &  0.959 &  0.381 & -0.192 & -2.624 & -1.055 & 1.2965\\\\\n\t3 &  1.032 &  0.959 &  0.381 & -0.192 & -2.624 & 1.4112\\\\\n\t4 & -0.623 &  1.032 &  0.959 &  0.381 & -0.192 & 1.2760\\\\\n\t5 &  0.614 & -0.623 &  1.032 &  0.959 &  0.381 & 1.2057\\\\\n\t6 &  0.213 &  0.614 & -0.623 &  1.032 &  0.959 & 1.3491\\\\\n\\end{tabular}\n",
            "text/markdown": "\nA data.frame: 6 × 6\n\n| <!--/--> | Lag1 &lt;dbl&gt; | Lag2 &lt;dbl&gt; | Lag3 &lt;dbl&gt; | Lag4 &lt;dbl&gt; | Lag5 &lt;dbl&gt; | Volume &lt;dbl&gt; |\n|---|---|---|---|---|---|---|\n| 1 |  0.381 | -0.192 | -2.624 | -1.055 |  5.010 | 1.1913 |\n| 2 |  0.959 |  0.381 | -0.192 | -2.624 | -1.055 | 1.2965 |\n| 3 |  1.032 |  0.959 |  0.381 | -0.192 | -2.624 | 1.4112 |\n| 4 | -0.623 |  1.032 |  0.959 |  0.381 | -0.192 | 1.2760 |\n| 5 |  0.614 | -0.623 |  1.032 |  0.959 |  0.381 | 1.2057 |\n| 6 |  0.213 |  0.614 | -0.623 |  1.032 |  0.959 | 1.3491 |\n\n",
            "text/html": [
              "<table class=\"dataframe\">\n",
              "<caption>A data.frame: 6 × 6</caption>\n",
              "<thead>\n",
              "\t<tr><th></th><th scope=col>Lag1</th><th scope=col>Lag2</th><th scope=col>Lag3</th><th scope=col>Lag4</th><th scope=col>Lag5</th><th scope=col>Volume</th></tr>\n",
              "\t<tr><th></th><th scope=col>&lt;dbl&gt;</th><th scope=col>&lt;dbl&gt;</th><th scope=col>&lt;dbl&gt;</th><th scope=col>&lt;dbl&gt;</th><th scope=col>&lt;dbl&gt;</th><th scope=col>&lt;dbl&gt;</th></tr>\n",
              "</thead>\n",
              "<tbody>\n",
              "\t<tr><th scope=row>1</th><td> 0.381</td><td>-0.192</td><td>-2.624</td><td>-1.055</td><td> 5.010</td><td>1.1913</td></tr>\n",
              "\t<tr><th scope=row>2</th><td> 0.959</td><td> 0.381</td><td>-0.192</td><td>-2.624</td><td>-1.055</td><td>1.2965</td></tr>\n",
              "\t<tr><th scope=row>3</th><td> 1.032</td><td> 0.959</td><td> 0.381</td><td>-0.192</td><td>-2.624</td><td>1.4112</td></tr>\n",
              "\t<tr><th scope=row>4</th><td>-0.623</td><td> 1.032</td><td> 0.959</td><td> 0.381</td><td>-0.192</td><td>1.2760</td></tr>\n",
              "\t<tr><th scope=row>5</th><td> 0.614</td><td>-0.623</td><td> 1.032</td><td> 0.959</td><td> 0.381</td><td>1.2057</td></tr>\n",
              "\t<tr><th scope=row>6</th><td> 0.213</td><td> 0.614</td><td>-0.623</td><td> 1.032</td><td> 0.959</td><td>1.3491</td></tr>\n",
              "</tbody>\n",
              "</table>\n"
            ]
          },
          "metadata": {}
        }
      ]
    },
    {
      "cell_type": "markdown",
      "source": [
        "scale Smarket_train_x"
      ],
      "metadata": {
        "id": "xLnMi9sct7NB"
      }
    },
    {
      "cell_type": "code",
      "source": [
        "Smarket_train_z <- Smarket_train_x  %>% mutate_at(c('Lag1' , 'Lag2' , 'Lag3' , 'Lag4' , 'Lag5', 'Volume' ) , \n",
        "                  ~(scale(.) %>% as.vector))"
      ],
      "metadata": {
        "id": "RYyd_5Oct0tv"
      },
      "execution_count": 56,
      "outputs": []
    },
    {
      "cell_type": "code",
      "source": [
        "head(Smarket_train_z, 5 )"
      ],
      "metadata": {
        "id": "23UgaBDJvDdJ",
        "outputId": "cf0badab-576b-467e-dbb6-550ffff49dd3",
        "colab": {
          "base_uri": "https://localhost:8080/",
          "height": 255
        }
      },
      "execution_count": 57,
      "outputs": [
        {
          "output_type": "display_data",
          "data": {
            "text/plain": [
              "  Lag1       Lag2       Lag3       Lag4       Lag5       Volume    \n",
              "1  0.3090581 -0.1567574 -2.1275234 -0.8528792  4.0296804 -0.6582433\n",
              "2  0.7791046  0.3092172 -0.1542732 -2.1256689 -0.8503359 -0.2651441\n",
              "3  0.8384703  0.7792580  0.3106414 -0.1528043 -2.1127836  0.1634536\n",
              "4 -0.5074241  0.8386230  0.7796129  0.3120195 -0.1559494 -0.3417461\n",
              "5  0.4985405 -0.5072549  0.8388429  0.7808993  0.3050975 -0.6044350"
            ],
            "text/latex": "A data.frame: 5 × 6\n\\begin{tabular}{r|llllll}\n  & Lag1 & Lag2 & Lag3 & Lag4 & Lag5 & Volume\\\\\n  & <dbl> & <dbl> & <dbl> & <dbl> & <dbl> & <dbl>\\\\\n\\hline\n\t1 &  0.3090581 & -0.1567574 & -2.1275234 & -0.8528792 &  4.0296804 & -0.6582433\\\\\n\t2 &  0.7791046 &  0.3092172 & -0.1542732 & -2.1256689 & -0.8503359 & -0.2651441\\\\\n\t3 &  0.8384703 &  0.7792580 &  0.3106414 & -0.1528043 & -2.1127836 &  0.1634536\\\\\n\t4 & -0.5074241 &  0.8386230 &  0.7796129 &  0.3120195 & -0.1559494 & -0.3417461\\\\\n\t5 &  0.4985405 & -0.5072549 &  0.8388429 &  0.7808993 &  0.3050975 & -0.6044350\\\\\n\\end{tabular}\n",
            "text/markdown": "\nA data.frame: 5 × 6\n\n| <!--/--> | Lag1 &lt;dbl&gt; | Lag2 &lt;dbl&gt; | Lag3 &lt;dbl&gt; | Lag4 &lt;dbl&gt; | Lag5 &lt;dbl&gt; | Volume &lt;dbl&gt; |\n|---|---|---|---|---|---|---|\n| 1 |  0.3090581 | -0.1567574 | -2.1275234 | -0.8528792 |  4.0296804 | -0.6582433 |\n| 2 |  0.7791046 |  0.3092172 | -0.1542732 | -2.1256689 | -0.8503359 | -0.2651441 |\n| 3 |  0.8384703 |  0.7792580 |  0.3106414 | -0.1528043 | -2.1127836 |  0.1634536 |\n| 4 | -0.5074241 |  0.8386230 |  0.7796129 |  0.3120195 | -0.1559494 | -0.3417461 |\n| 5 |  0.4985405 | -0.5072549 |  0.8388429 |  0.7808993 |  0.3050975 | -0.6044350 |\n\n",
            "text/html": [
              "<table class=\"dataframe\">\n",
              "<caption>A data.frame: 5 × 6</caption>\n",
              "<thead>\n",
              "\t<tr><th></th><th scope=col>Lag1</th><th scope=col>Lag2</th><th scope=col>Lag3</th><th scope=col>Lag4</th><th scope=col>Lag5</th><th scope=col>Volume</th></tr>\n",
              "\t<tr><th></th><th scope=col>&lt;dbl&gt;</th><th scope=col>&lt;dbl&gt;</th><th scope=col>&lt;dbl&gt;</th><th scope=col>&lt;dbl&gt;</th><th scope=col>&lt;dbl&gt;</th><th scope=col>&lt;dbl&gt;</th></tr>\n",
              "</thead>\n",
              "<tbody>\n",
              "\t<tr><th scope=row>1</th><td> 0.3090581</td><td>-0.1567574</td><td>-2.1275234</td><td>-0.8528792</td><td> 4.0296804</td><td>-0.6582433</td></tr>\n",
              "\t<tr><th scope=row>2</th><td> 0.7791046</td><td> 0.3092172</td><td>-0.1542732</td><td>-2.1256689</td><td>-0.8503359</td><td>-0.2651441</td></tr>\n",
              "\t<tr><th scope=row>3</th><td> 0.8384703</td><td> 0.7792580</td><td> 0.3106414</td><td>-0.1528043</td><td>-2.1127836</td><td> 0.1634536</td></tr>\n",
              "\t<tr><th scope=row>4</th><td>-0.5074241</td><td> 0.8386230</td><td> 0.7796129</td><td> 0.3120195</td><td>-0.1559494</td><td>-0.3417461</td></tr>\n",
              "\t<tr><th scope=row>5</th><td> 0.4985405</td><td>-0.5072549</td><td> 0.8388429</td><td> 0.7808993</td><td> 0.3050975</td><td>-0.6044350</td></tr>\n",
              "</tbody>\n",
              "</table>\n"
            ]
          },
          "metadata": {}
        }
      ]
    },
    {
      "cell_type": "markdown",
      "source": [
        "## Next on the Smarket_test data subset the cols and scale it"
      ],
      "metadata": {
        "id": "qKgIfv_bvQMd"
      }
    },
    {
      "cell_type": "code",
      "source": [
        "dim(Smarket_test)"
      ],
      "metadata": {
        "colab": {
          "base_uri": "https://localhost:8080/",
          "height": 34
        },
        "id": "Zo0v4k-wU1KZ",
        "outputId": "dc7dbba3-7287-491e-ee6b-33187c8bac3e"
      },
      "execution_count": 58,
      "outputs": [
        {
          "output_type": "display_data",
          "data": {
            "text/plain": [
              "[1] 252   9"
            ],
            "text/latex": "\\begin{enumerate*}\n\\item 252\n\\item 9\n\\end{enumerate*}\n",
            "text/markdown": "1. 252\n2. 9\n\n\n",
            "text/html": [
              "<style>\n",
              ".list-inline {list-style: none; margin:0; padding: 0}\n",
              ".list-inline>li {display: inline-block}\n",
              ".list-inline>li:not(:last-child)::after {content: \"\\00b7\"; padding: 0 .5ex}\n",
              "</style>\n",
              "<ol class=list-inline><li>252</li><li>9</li></ol>\n"
            ]
          },
          "metadata": {}
        }
      ]
    },
    {
      "cell_type": "code",
      "source": [
        "#Smarket_train_x <- training_data %>% select(2:7)\n",
        "# Smarket_test_data\n",
        "\n",
        "Smarket_test_y <- Smarket_test %>% select(2:7)\n",
        "\n"
      ],
      "metadata": {
        "id": "TqwvdjM8vGGU"
      },
      "execution_count": 59,
      "outputs": []
    },
    {
      "cell_type": "code",
      "source": [
        "head(Smarket_test_y)"
      ],
      "metadata": {
        "id": "xs8LWI5Zvxy4",
        "colab": {
          "base_uri": "https://localhost:8080/",
          "height": 286
        },
        "outputId": "13abdb29-9c07-4b89-e2ac-52121fc63452"
      },
      "execution_count": 60,
      "outputs": [
        {
          "output_type": "display_data",
          "data": {
            "text/plain": [
              "  Lag1   Lag2   Lag3   Lag4   Lag5   Volume\n",
              "1 -0.134  0.008 -0.007  0.715 -0.431 0.7869\n",
              "2 -0.812 -0.134  0.008 -0.007  0.715 1.5108\n",
              "3 -1.167 -0.812 -0.134  0.008 -0.007 1.7210\n",
              "4 -0.363 -1.167 -0.812 -0.134  0.008 1.7389\n",
              "5  0.351 -0.363 -1.167 -0.812 -0.134 1.5691\n",
              "6 -0.143  0.351 -0.363 -1.167 -0.812 1.4779"
            ],
            "text/latex": "A data.frame: 6 × 6\n\\begin{tabular}{r|llllll}\n  & Lag1 & Lag2 & Lag3 & Lag4 & Lag5 & Volume\\\\\n  & <dbl> & <dbl> & <dbl> & <dbl> & <dbl> & <dbl>\\\\\n\\hline\n\t1 & -0.134 &  0.008 & -0.007 &  0.715 & -0.431 & 0.7869\\\\\n\t2 & -0.812 & -0.134 &  0.008 & -0.007 &  0.715 & 1.5108\\\\\n\t3 & -1.167 & -0.812 & -0.134 &  0.008 & -0.007 & 1.7210\\\\\n\t4 & -0.363 & -1.167 & -0.812 & -0.134 &  0.008 & 1.7389\\\\\n\t5 &  0.351 & -0.363 & -1.167 & -0.812 & -0.134 & 1.5691\\\\\n\t6 & -0.143 &  0.351 & -0.363 & -1.167 & -0.812 & 1.4779\\\\\n\\end{tabular}\n",
            "text/markdown": "\nA data.frame: 6 × 6\n\n| <!--/--> | Lag1 &lt;dbl&gt; | Lag2 &lt;dbl&gt; | Lag3 &lt;dbl&gt; | Lag4 &lt;dbl&gt; | Lag5 &lt;dbl&gt; | Volume &lt;dbl&gt; |\n|---|---|---|---|---|---|---|\n| 1 | -0.134 |  0.008 | -0.007 |  0.715 | -0.431 | 0.7869 |\n| 2 | -0.812 | -0.134 |  0.008 | -0.007 |  0.715 | 1.5108 |\n| 3 | -1.167 | -0.812 | -0.134 |  0.008 | -0.007 | 1.7210 |\n| 4 | -0.363 | -1.167 | -0.812 | -0.134 |  0.008 | 1.7389 |\n| 5 |  0.351 | -0.363 | -1.167 | -0.812 | -0.134 | 1.5691 |\n| 6 | -0.143 |  0.351 | -0.363 | -1.167 | -0.812 | 1.4779 |\n\n",
            "text/html": [
              "<table class=\"dataframe\">\n",
              "<caption>A data.frame: 6 × 6</caption>\n",
              "<thead>\n",
              "\t<tr><th></th><th scope=col>Lag1</th><th scope=col>Lag2</th><th scope=col>Lag3</th><th scope=col>Lag4</th><th scope=col>Lag5</th><th scope=col>Volume</th></tr>\n",
              "\t<tr><th></th><th scope=col>&lt;dbl&gt;</th><th scope=col>&lt;dbl&gt;</th><th scope=col>&lt;dbl&gt;</th><th scope=col>&lt;dbl&gt;</th><th scope=col>&lt;dbl&gt;</th><th scope=col>&lt;dbl&gt;</th></tr>\n",
              "</thead>\n",
              "<tbody>\n",
              "\t<tr><th scope=row>1</th><td>-0.134</td><td> 0.008</td><td>-0.007</td><td> 0.715</td><td>-0.431</td><td>0.7869</td></tr>\n",
              "\t<tr><th scope=row>2</th><td>-0.812</td><td>-0.134</td><td> 0.008</td><td>-0.007</td><td> 0.715</td><td>1.5108</td></tr>\n",
              "\t<tr><th scope=row>3</th><td>-1.167</td><td>-0.812</td><td>-0.134</td><td> 0.008</td><td>-0.007</td><td>1.7210</td></tr>\n",
              "\t<tr><th scope=row>4</th><td>-0.363</td><td>-1.167</td><td>-0.812</td><td>-0.134</td><td> 0.008</td><td>1.7389</td></tr>\n",
              "\t<tr><th scope=row>5</th><td> 0.351</td><td>-0.363</td><td>-1.167</td><td>-0.812</td><td>-0.134</td><td>1.5691</td></tr>\n",
              "\t<tr><th scope=row>6</th><td>-0.143</td><td> 0.351</td><td>-0.363</td><td>-1.167</td><td>-0.812</td><td>1.4779</td></tr>\n",
              "</tbody>\n",
              "</table>\n"
            ]
          },
          "metadata": {}
        }
      ]
    },
    {
      "cell_type": "markdown",
      "source": [
        "## Scaling"
      ],
      "metadata": {
        "id": "yKXqIVIr_Yu0"
      }
    },
    {
      "cell_type": "code",
      "source": [
        "Smarket_test_z <- Smarket_test_y %>% mutate_at(c('Lag1' , 'Lag2' , 'Lag3' , 'Lag4' , 'Lag5', 'Volume' ) ,\n",
        "                   ~(scale(.) %>% as.vector))"
      ],
      "metadata": {
        "id": "TaCh6l0Fv1Jc"
      },
      "execution_count": 61,
      "outputs": []
    },
    {
      "cell_type": "code",
      "source": [
        "head(Smarket_test_z )"
      ],
      "metadata": {
        "id": "SjxhZrWjwfUU",
        "colab": {
          "base_uri": "https://localhost:8080/",
          "height": 286
        },
        "outputId": "58bd977a-01d0-4f9c-ff16-555dab086d2f"
      },
      "execution_count": 62,
      "outputs": [
        {
          "output_type": "display_data",
          "data": {
            "text/plain": [
              "  Lag1       Lag2        Lag3        Lag4        Lag5        Volume    \n",
              "1 -0.2305914 -0.01302558 -0.03537916  1.07312920 -0.69918635 -3.2718330\n",
              "2 -1.2783809 -0.23257694 -0.01218575 -0.04572735  1.07499364 -1.1765712\n",
              "3 -1.8270022 -1.28085735 -0.23175009 -0.02248241 -0.04277072 -0.5681667\n",
              "4 -0.5844908 -1.82973573 -1.28009253 -0.24253453 -0.01954847 -0.5163568\n",
              "5  0.5189335 -0.58664215 -1.82900340 -1.29320592 -0.23938578 -1.0078273\n",
              "6 -0.2445001  0.51729916 -0.58583626 -1.84333622 -1.28903153 -1.2717973"
            ],
            "text/latex": "A data.frame: 6 × 6\n\\begin{tabular}{r|llllll}\n  & Lag1 & Lag2 & Lag3 & Lag4 & Lag5 & Volume\\\\\n  & <dbl> & <dbl> & <dbl> & <dbl> & <dbl> & <dbl>\\\\\n\\hline\n\t1 & -0.2305914 & -0.01302558 & -0.03537916 &  1.07312920 & -0.69918635 & -3.2718330\\\\\n\t2 & -1.2783809 & -0.23257694 & -0.01218575 & -0.04572735 &  1.07499364 & -1.1765712\\\\\n\t3 & -1.8270022 & -1.28085735 & -0.23175009 & -0.02248241 & -0.04277072 & -0.5681667\\\\\n\t4 & -0.5844908 & -1.82973573 & -1.28009253 & -0.24253453 & -0.01954847 & -0.5163568\\\\\n\t5 &  0.5189335 & -0.58664215 & -1.82900340 & -1.29320592 & -0.23938578 & -1.0078273\\\\\n\t6 & -0.2445001 &  0.51729916 & -0.58583626 & -1.84333622 & -1.28903153 & -1.2717973\\\\\n\\end{tabular}\n",
            "text/markdown": "\nA data.frame: 6 × 6\n\n| <!--/--> | Lag1 &lt;dbl&gt; | Lag2 &lt;dbl&gt; | Lag3 &lt;dbl&gt; | Lag4 &lt;dbl&gt; | Lag5 &lt;dbl&gt; | Volume &lt;dbl&gt; |\n|---|---|---|---|---|---|---|\n| 1 | -0.2305914 | -0.01302558 | -0.03537916 |  1.07312920 | -0.69918635 | -3.2718330 |\n| 2 | -1.2783809 | -0.23257694 | -0.01218575 | -0.04572735 |  1.07499364 | -1.1765712 |\n| 3 | -1.8270022 | -1.28085735 | -0.23175009 | -0.02248241 | -0.04277072 | -0.5681667 |\n| 4 | -0.5844908 | -1.82973573 | -1.28009253 | -0.24253453 | -0.01954847 | -0.5163568 |\n| 5 |  0.5189335 | -0.58664215 | -1.82900340 | -1.29320592 | -0.23938578 | -1.0078273 |\n| 6 | -0.2445001 |  0.51729916 | -0.58583626 | -1.84333622 | -1.28903153 | -1.2717973 |\n\n",
            "text/html": [
              "<table class=\"dataframe\">\n",
              "<caption>A data.frame: 6 × 6</caption>\n",
              "<thead>\n",
              "\t<tr><th></th><th scope=col>Lag1</th><th scope=col>Lag2</th><th scope=col>Lag3</th><th scope=col>Lag4</th><th scope=col>Lag5</th><th scope=col>Volume</th></tr>\n",
              "\t<tr><th></th><th scope=col>&lt;dbl&gt;</th><th scope=col>&lt;dbl&gt;</th><th scope=col>&lt;dbl&gt;</th><th scope=col>&lt;dbl&gt;</th><th scope=col>&lt;dbl&gt;</th><th scope=col>&lt;dbl&gt;</th></tr>\n",
              "</thead>\n",
              "<tbody>\n",
              "\t<tr><th scope=row>1</th><td>-0.2305914</td><td>-0.01302558</td><td>-0.03537916</td><td> 1.07312920</td><td>-0.69918635</td><td>-3.2718330</td></tr>\n",
              "\t<tr><th scope=row>2</th><td>-1.2783809</td><td>-0.23257694</td><td>-0.01218575</td><td>-0.04572735</td><td> 1.07499364</td><td>-1.1765712</td></tr>\n",
              "\t<tr><th scope=row>3</th><td>-1.8270022</td><td>-1.28085735</td><td>-0.23175009</td><td>-0.02248241</td><td>-0.04277072</td><td>-0.5681667</td></tr>\n",
              "\t<tr><th scope=row>4</th><td>-0.5844908</td><td>-1.82973573</td><td>-1.28009253</td><td>-0.24253453</td><td>-0.01954847</td><td>-0.5163568</td></tr>\n",
              "\t<tr><th scope=row>5</th><td> 0.5189335</td><td>-0.58664215</td><td>-1.82900340</td><td>-1.29320592</td><td>-0.23938578</td><td>-1.0078273</td></tr>\n",
              "\t<tr><th scope=row>6</th><td>-0.2445001</td><td> 0.51729916</td><td>-0.58583626</td><td>-1.84333622</td><td>-1.28903153</td><td>-1.2717973</td></tr>\n",
              "</tbody>\n",
              "</table>\n"
            ]
          },
          "metadata": {}
        }
      ]
    },
    {
      "cell_type": "markdown",
      "source": [
        "Create a subset of the Smarket_train data set which only includes the Direction column\n",
        "and name it Smarket_train_label."
      ],
      "metadata": {
        "id": "g50b2AeIw3Gn"
      }
    },
    {
      "cell_type": "code",
      "source": [
        "Smarket_train_label <- Smarket_train %>% select(9)"
      ],
      "metadata": {
        "id": "XpkIUskPwiyS"
      },
      "execution_count": 63,
      "outputs": []
    },
    {
      "cell_type": "code",
      "source": [
        "head(Smarket_train_label,3)"
      ],
      "metadata": {
        "id": "mIsTPaNL0SQy",
        "colab": {
          "base_uri": "https://localhost:8080/",
          "height": 209
        },
        "outputId": "c22ed135-9e56-4ae1-a138-d9eb5cb403a5"
      },
      "execution_count": 64,
      "outputs": [
        {
          "output_type": "display_data",
          "data": {
            "text/plain": [
              "  Direction\n",
              "1 Up       \n",
              "2 Up       \n",
              "3 Down     "
            ],
            "text/latex": "A data.frame: 3 × 1\n\\begin{tabular}{r|l}\n  & Direction\\\\\n  & <fct>\\\\\n\\hline\n\t1 & Up  \\\\\n\t2 & Up  \\\\\n\t3 & Down\\\\\n\\end{tabular}\n",
            "text/markdown": "\nA data.frame: 3 × 1\n\n| <!--/--> | Direction &lt;fct&gt; |\n|---|---|\n| 1 | Up   |\n| 2 | Up   |\n| 3 | Down |\n\n",
            "text/html": [
              "<table class=\"dataframe\">\n",
              "<caption>A data.frame: 3 × 1</caption>\n",
              "<thead>\n",
              "\t<tr><th></th><th scope=col>Direction</th></tr>\n",
              "\t<tr><th></th><th scope=col>&lt;fct&gt;</th></tr>\n",
              "</thead>\n",
              "<tbody>\n",
              "\t<tr><th scope=row>1</th><td>Up  </td></tr>\n",
              "\t<tr><th scope=row>2</th><td>Up  </td></tr>\n",
              "\t<tr><th scope=row>3</th><td>Down</td></tr>\n",
              "</tbody>\n",
              "</table>\n"
            ]
          },
          "metadata": {}
        }
      ]
    },
    {
      "cell_type": "code",
      "source": [
        "#convert train lables to a vecctor\n",
        "Smarket_train_label <- Smarket_train_label[ ,1]"
      ],
      "metadata": {
        "id": "VU2xcTkd4akh"
      },
      "execution_count": 65,
      "outputs": []
    },
    {
      "cell_type": "markdown",
      "source": [
        "Do the same task for the Smarket_test dataset and\n",
        "name it Smarket_test_label."
      ],
      "metadata": {
        "id": "5ur9Yvkt0qbs"
      }
    },
    {
      "cell_type": "code",
      "source": [
        "dim(Smarket_test)"
      ],
      "metadata": {
        "colab": {
          "base_uri": "https://localhost:8080/",
          "height": 34
        },
        "id": "5jP5M9-2UKlZ",
        "outputId": "a27ce8f3-6851-4619-d0cb-6f4119153d39"
      },
      "execution_count": 66,
      "outputs": [
        {
          "output_type": "display_data",
          "data": {
            "text/plain": [
              "[1] 252   9"
            ],
            "text/latex": "\\begin{enumerate*}\n\\item 252\n\\item 9\n\\end{enumerate*}\n",
            "text/markdown": "1. 252\n2. 9\n\n\n",
            "text/html": [
              "<style>\n",
              ".list-inline {list-style: none; margin:0; padding: 0}\n",
              ".list-inline>li {display: inline-block}\n",
              ".list-inline>li:not(:last-child)::after {content: \"\\00b7\"; padding: 0 .5ex}\n",
              "</style>\n",
              "<ol class=list-inline><li>252</li><li>9</li></ol>\n"
            ]
          },
          "metadata": {}
        }
      ]
    },
    {
      "cell_type": "code",
      "source": [
        "head(Smarket_test)"
      ],
      "metadata": {
        "colab": {
          "base_uri": "https://localhost:8080/",
          "height": 286
        },
        "id": "HdQ8SXGuRI8G",
        "outputId": "51dbbb5f-0ce5-435d-8e6f-a3ed8f8e43db"
      },
      "execution_count": 70,
      "outputs": [
        {
          "output_type": "display_data",
          "data": {
            "text/plain": [
              "  Year Lag1   Lag2   Lag3   Lag4   Lag5   Volume Today  Direction\n",
              "1 2005 -0.134  0.008 -0.007  0.715 -0.431 0.7869 -0.812 Down     \n",
              "2 2005 -0.812 -0.134  0.008 -0.007  0.715 1.5108 -1.167 Down     \n",
              "3 2005 -1.167 -0.812 -0.134  0.008 -0.007 1.7210 -0.363 Down     \n",
              "4 2005 -0.363 -1.167 -0.812 -0.134  0.008 1.7389  0.351 Up       \n",
              "5 2005  0.351 -0.363 -1.167 -0.812 -0.134 1.5691 -0.143 Down     \n",
              "6 2005 -0.143  0.351 -0.363 -1.167 -0.812 1.4779  0.342 Up       "
            ],
            "text/latex": "A data.frame: 6 × 9\n\\begin{tabular}{r|lllllllll}\n  & Year & Lag1 & Lag2 & Lag3 & Lag4 & Lag5 & Volume & Today & Direction\\\\\n  & <fct> & <dbl> & <dbl> & <dbl> & <dbl> & <dbl> & <dbl> & <dbl> & <fct>\\\\\n\\hline\n\t1 & 2005 & -0.134 &  0.008 & -0.007 &  0.715 & -0.431 & 0.7869 & -0.812 & Down\\\\\n\t2 & 2005 & -0.812 & -0.134 &  0.008 & -0.007 &  0.715 & 1.5108 & -1.167 & Down\\\\\n\t3 & 2005 & -1.167 & -0.812 & -0.134 &  0.008 & -0.007 & 1.7210 & -0.363 & Down\\\\\n\t4 & 2005 & -0.363 & -1.167 & -0.812 & -0.134 &  0.008 & 1.7389 &  0.351 & Up  \\\\\n\t5 & 2005 &  0.351 & -0.363 & -1.167 & -0.812 & -0.134 & 1.5691 & -0.143 & Down\\\\\n\t6 & 2005 & -0.143 &  0.351 & -0.363 & -1.167 & -0.812 & 1.4779 &  0.342 & Up  \\\\\n\\end{tabular}\n",
            "text/markdown": "\nA data.frame: 6 × 9\n\n| <!--/--> | Year &lt;fct&gt; | Lag1 &lt;dbl&gt; | Lag2 &lt;dbl&gt; | Lag3 &lt;dbl&gt; | Lag4 &lt;dbl&gt; | Lag5 &lt;dbl&gt; | Volume &lt;dbl&gt; | Today &lt;dbl&gt; | Direction &lt;fct&gt; |\n|---|---|---|---|---|---|---|---|---|---|\n| 1 | 2005 | -0.134 |  0.008 | -0.007 |  0.715 | -0.431 | 0.7869 | -0.812 | Down |\n| 2 | 2005 | -0.812 | -0.134 |  0.008 | -0.007 |  0.715 | 1.5108 | -1.167 | Down |\n| 3 | 2005 | -1.167 | -0.812 | -0.134 |  0.008 | -0.007 | 1.7210 | -0.363 | Down |\n| 4 | 2005 | -0.363 | -1.167 | -0.812 | -0.134 |  0.008 | 1.7389 |  0.351 | Up   |\n| 5 | 2005 |  0.351 | -0.363 | -1.167 | -0.812 | -0.134 | 1.5691 | -0.143 | Down |\n| 6 | 2005 | -0.143 |  0.351 | -0.363 | -1.167 | -0.812 | 1.4779 |  0.342 | Up   |\n\n",
            "text/html": [
              "<table class=\"dataframe\">\n",
              "<caption>A data.frame: 6 × 9</caption>\n",
              "<thead>\n",
              "\t<tr><th></th><th scope=col>Year</th><th scope=col>Lag1</th><th scope=col>Lag2</th><th scope=col>Lag3</th><th scope=col>Lag4</th><th scope=col>Lag5</th><th scope=col>Volume</th><th scope=col>Today</th><th scope=col>Direction</th></tr>\n",
              "\t<tr><th></th><th scope=col>&lt;fct&gt;</th><th scope=col>&lt;dbl&gt;</th><th scope=col>&lt;dbl&gt;</th><th scope=col>&lt;dbl&gt;</th><th scope=col>&lt;dbl&gt;</th><th scope=col>&lt;dbl&gt;</th><th scope=col>&lt;dbl&gt;</th><th scope=col>&lt;dbl&gt;</th><th scope=col>&lt;fct&gt;</th></tr>\n",
              "</thead>\n",
              "<tbody>\n",
              "\t<tr><th scope=row>1</th><td>2005</td><td>-0.134</td><td> 0.008</td><td>-0.007</td><td> 0.715</td><td>-0.431</td><td>0.7869</td><td>-0.812</td><td>Down</td></tr>\n",
              "\t<tr><th scope=row>2</th><td>2005</td><td>-0.812</td><td>-0.134</td><td> 0.008</td><td>-0.007</td><td> 0.715</td><td>1.5108</td><td>-1.167</td><td>Down</td></tr>\n",
              "\t<tr><th scope=row>3</th><td>2005</td><td>-1.167</td><td>-0.812</td><td>-0.134</td><td> 0.008</td><td>-0.007</td><td>1.7210</td><td>-0.363</td><td>Down</td></tr>\n",
              "\t<tr><th scope=row>4</th><td>2005</td><td>-0.363</td><td>-1.167</td><td>-0.812</td><td>-0.134</td><td> 0.008</td><td>1.7389</td><td> 0.351</td><td>Up  </td></tr>\n",
              "\t<tr><th scope=row>5</th><td>2005</td><td> 0.351</td><td>-0.363</td><td>-1.167</td><td>-0.812</td><td>-0.134</td><td>1.5691</td><td>-0.143</td><td>Down</td></tr>\n",
              "\t<tr><th scope=row>6</th><td>2005</td><td>-0.143</td><td> 0.351</td><td>-0.363</td><td>-1.167</td><td>-0.812</td><td>1.4779</td><td> 0.342</td><td>Up  </td></tr>\n",
              "</tbody>\n",
              "</table>\n"
            ]
          },
          "metadata": {}
        }
      ]
    },
    {
      "cell_type": "code",
      "source": [
        "Smarket_test_label <- Smarket_test  %>% select(9)"
      ],
      "metadata": {
        "id": "XDaEMLq60UX8"
      },
      "execution_count": 71,
      "outputs": []
    },
    {
      "cell_type": "code",
      "source": [
        "head(Smarket_test_label,3)"
      ],
      "metadata": {
        "id": "bpXO-UYq0-Eb",
        "colab": {
          "base_uri": "https://localhost:8080/",
          "height": 209
        },
        "outputId": "b1bb080a-4ea3-4195-9d4c-26b9dc072176"
      },
      "execution_count": 72,
      "outputs": [
        {
          "output_type": "display_data",
          "data": {
            "text/plain": [
              "  Direction\n",
              "1 Down     \n",
              "2 Down     \n",
              "3 Down     "
            ],
            "text/latex": "A data.frame: 3 × 1\n\\begin{tabular}{r|l}\n  & Direction\\\\\n  & <fct>\\\\\n\\hline\n\t1 & Down\\\\\n\t2 & Down\\\\\n\t3 & Down\\\\\n\\end{tabular}\n",
            "text/markdown": "\nA data.frame: 3 × 1\n\n| <!--/--> | Direction &lt;fct&gt; |\n|---|---|\n| 1 | Down |\n| 2 | Down |\n| 3 | Down |\n\n",
            "text/html": [
              "<table class=\"dataframe\">\n",
              "<caption>A data.frame: 3 × 1</caption>\n",
              "<thead>\n",
              "\t<tr><th></th><th scope=col>Direction</th></tr>\n",
              "\t<tr><th></th><th scope=col>&lt;fct&gt;</th></tr>\n",
              "</thead>\n",
              "<tbody>\n",
              "\t<tr><th scope=row>1</th><td>Down</td></tr>\n",
              "\t<tr><th scope=row>2</th><td>Down</td></tr>\n",
              "\t<tr><th scope=row>3</th><td>Down</td></tr>\n",
              "</tbody>\n",
              "</table>\n"
            ]
          },
          "metadata": {}
        }
      ]
    },
    {
      "cell_type": "markdown",
      "source": [
        "## KNN where k = 1"
      ],
      "metadata": {
        "id": "OSW1S6-i25ms"
      }
    },
    {
      "cell_type": "markdown",
      "source": [
        "## Run knn function, using k = 1, to obtain predictions for the test data."
      ],
      "metadata": {
        "id": "MlGkYmqk1_gy"
      }
    },
    {
      "cell_type": "markdown",
      "source": [
        "Repeat the previous two tasks using k = 3 and k = 5. Which k has the highest accuracy?"
      ],
      "metadata": {
        "id": "KNyyiPxV2MR1"
      }
    },
    {
      "cell_type": "code",
      "source": [
        "\n",
        "\n",
        "# load the \"class\" library\n",
        "# install.packages(\"class\")\n",
        "library(class)\n"
      ],
      "metadata": {
        "id": "ON2pksaB1qEL"
      },
      "execution_count": 73,
      "outputs": []
    },
    {
      "cell_type": "code",
      "source": [
        "Smarket_pred <- knn(train = Smarket_train_z , test = Smarket_test_z,\n",
        "                cl = Smarket_train_label , k= 1 )"
      ],
      "metadata": {
        "id": "msZqg8Vp3Fbv"
      },
      "execution_count": 74,
      "outputs": []
    },
    {
      "cell_type": "code",
      "source": [
        " Smarket_pred "
      ],
      "metadata": {
        "id": "BoKgKy204G2z"
      },
      "execution_count": null,
      "outputs": []
    },
    {
      "cell_type": "code",
      "source": [
        "length(Smarket_pred)"
      ],
      "metadata": {
        "id": "XQJtZv3D6pAO",
        "colab": {
          "base_uri": "https://localhost:8080/",
          "height": 34
        },
        "outputId": "8358d38b-d2e5-401c-910d-e79712c74abd"
      },
      "execution_count": 76,
      "outputs": [
        {
          "output_type": "display_data",
          "data": {
            "text/plain": [
              "[1] 252"
            ],
            "text/latex": "252",
            "text/markdown": "252",
            "text/html": [
              "252"
            ]
          },
          "metadata": {}
        }
      ]
    },
    {
      "cell_type": "markdown",
      "source": [
        "## Step 4: Evaluating model performance \n",
        "\n",
        "\n",
        "Create the cross tabulation of predicted vs. actual"
      ],
      "metadata": {
        "id": "yZshuTIp4828"
      }
    },
    {
      "cell_type": "code",
      "source": [
        "length(Smarket_pred )"
      ],
      "metadata": {
        "id": "RqlvVBOu53_f",
        "colab": {
          "base_uri": "https://localhost:8080/",
          "height": 34
        },
        "outputId": "39afdb29-868f-4b21-deb6-89003b7a7255"
      },
      "execution_count": 77,
      "outputs": [
        {
          "output_type": "display_data",
          "data": {
            "text/plain": [
              "[1] 252"
            ],
            "text/latex": "252",
            "text/markdown": "252",
            "text/html": [
              "252"
            ]
          },
          "metadata": {}
        }
      ]
    },
    {
      "cell_type": "code",
      "source": [
        "dim(Smarket_test_label)"
      ],
      "metadata": {
        "id": "Wzv-ZS3J5ucc",
        "colab": {
          "base_uri": "https://localhost:8080/",
          "height": 34
        },
        "outputId": "9b352646-6b08-44ee-fff6-d79fb0ce6a9c"
      },
      "execution_count": 78,
      "outputs": [
        {
          "output_type": "display_data",
          "data": {
            "text/plain": [
              "[1] 252   1"
            ],
            "text/latex": "\\begin{enumerate*}\n\\item 252\n\\item 1\n\\end{enumerate*}\n",
            "text/markdown": "1. 252\n2. 1\n\n\n",
            "text/html": [
              "<style>\n",
              ".list-inline {list-style: none; margin:0; padding: 0}\n",
              ".list-inline>li {display: inline-block}\n",
              ".list-inline>li:not(:last-child)::after {content: \"\\00b7\"; padding: 0 .5ex}\n",
              "</style>\n",
              "<ol class=list-inline><li>252</li><li>1</li></ol>\n"
            ]
          },
          "metadata": {}
        }
      ]
    },
    {
      "cell_type": "code",
      "source": [
        "\n",
        "Smarket_test_label <- Smarket_test_label[ ,1]\n"
      ],
      "metadata": {
        "id": "biPsbq67641y"
      },
      "execution_count": 79,
      "outputs": []
    },
    {
      "cell_type": "code",
      "source": [
        ""
      ],
      "metadata": {
        "id": "dq27-FBx7cId"
      },
      "execution_count": null,
      "outputs": []
    },
    {
      "cell_type": "code",
      "source": [
        "CrossTable(x = Smarket_test_label , \n",
        "            y = Smarket_pred,\n",
        "             prop.chisq = FALSE)"
      ],
      "metadata": {
        "id": "u9EZ4JZJ4vwc",
        "colab": {
          "base_uri": "https://localhost:8080/"
        },
        "outputId": "f37a547a-0be5-4210-c48c-075dd2dec228"
      },
      "execution_count": 80,
      "outputs": [
        {
          "output_type": "stream",
          "name": "stdout",
          "text": [
            "\n",
            " \n",
            "   Cell Contents\n",
            "|-------------------------|\n",
            "|                       N |\n",
            "|           N / Row Total |\n",
            "|           N / Col Total |\n",
            "|         N / Table Total |\n",
            "|-------------------------|\n",
            "\n",
            " \n",
            "Total Observations in Table:  252 \n",
            "\n",
            " \n",
            "                   | Smarket_pred \n",
            "Smarket_test_label |      Down |        Up | Row Total | \n",
            "-------------------|-----------|-----------|-----------|\n",
            "              Down |        54 |        57 |       111 | \n",
            "                   |     0.486 |     0.514 |     0.440 | \n",
            "                   |     0.446 |     0.435 |           | \n",
            "                   |     0.214 |     0.226 |           | \n",
            "-------------------|-----------|-----------|-----------|\n",
            "                Up |        67 |        74 |       141 | \n",
            "                   |     0.475 |     0.525 |     0.560 | \n",
            "                   |     0.554 |     0.565 |           | \n",
            "                   |     0.266 |     0.294 |           | \n",
            "-------------------|-----------|-----------|-----------|\n",
            "      Column Total |       121 |       131 |       252 | \n",
            "                   |     0.480 |     0.520 |           | \n",
            "-------------------|-----------|-----------|-----------|\n",
            "\n",
            " \n"
          ]
        }
      ]
    },
    {
      "cell_type": "markdown",
      "source": [
        "## KNN where k = 3"
      ],
      "metadata": {
        "id": "8mo38tlw71lH"
      }
    },
    {
      "cell_type": "code",
      "source": [
        "Smarket_pred <- knn(train = Smarket_train_z , test = Smarket_test_z,\n",
        "                cl = Smarket_train_label , k= 3 )"
      ],
      "metadata": {
        "id": "B-OHe9tT6Tyy"
      },
      "execution_count": 81,
      "outputs": []
    },
    {
      "cell_type": "code",
      "source": [
        "CrossTable(x = Smarket_test_label , \n",
        "            y = Smarket_pred,\n",
        "             prop.chisq = FALSE)"
      ],
      "metadata": {
        "id": "Br93CZqy8FJg",
        "colab": {
          "base_uri": "https://localhost:8080/"
        },
        "outputId": "4abddb56-f16b-4f69-96d6-23d073950ca2"
      },
      "execution_count": 82,
      "outputs": [
        {
          "output_type": "stream",
          "name": "stdout",
          "text": [
            "\n",
            " \n",
            "   Cell Contents\n",
            "|-------------------------|\n",
            "|                       N |\n",
            "|           N / Row Total |\n",
            "|           N / Col Total |\n",
            "|         N / Table Total |\n",
            "|-------------------------|\n",
            "\n",
            " \n",
            "Total Observations in Table:  252 \n",
            "\n",
            " \n",
            "                   | Smarket_pred \n",
            "Smarket_test_label |      Down |        Up | Row Total | \n",
            "-------------------|-----------|-----------|-----------|\n",
            "              Down |        53 |        58 |       111 | \n",
            "                   |     0.477 |     0.523 |     0.440 | \n",
            "                   |     0.457 |     0.426 |           | \n",
            "                   |     0.210 |     0.230 |           | \n",
            "-------------------|-----------|-----------|-----------|\n",
            "                Up |        63 |        78 |       141 | \n",
            "                   |     0.447 |     0.553 |     0.560 | \n",
            "                   |     0.543 |     0.574 |           | \n",
            "                   |     0.250 |     0.310 |           | \n",
            "-------------------|-----------|-----------|-----------|\n",
            "      Column Total |       116 |       136 |       252 | \n",
            "                   |     0.460 |     0.540 |           | \n",
            "-------------------|-----------|-----------|-----------|\n",
            "\n",
            " \n"
          ]
        }
      ]
    },
    {
      "cell_type": "markdown",
      "source": [
        "## KNN where k = 5"
      ],
      "metadata": {
        "id": "S2VvSS1a8MEl"
      }
    },
    {
      "cell_type": "markdown",
      "source": [
        "## where k = 5"
      ],
      "metadata": {
        "id": "bMOlSkjqPAt7"
      }
    },
    {
      "cell_type": "code",
      "source": [
        "Smarket_pred <- knn(train = Smarket_train_z , test = Smarket_test_z,\n",
        "                cl = Smarket_train_label , k= 5 )"
      ],
      "metadata": {
        "id": "vg1jvKqZ8LzZ"
      },
      "execution_count": 83,
      "outputs": []
    },
    {
      "cell_type": "code",
      "source": [
        "CrossTable(x = Smarket_test_label , \n",
        "            y = Smarket_pred,\n",
        "             prop.chisq = FALSE)"
      ],
      "metadata": {
        "id": "4dAQMck28Iu_",
        "colab": {
          "base_uri": "https://localhost:8080/"
        },
        "outputId": "106be2e3-7768-4be1-e6ba-e67f96570086"
      },
      "execution_count": 84,
      "outputs": [
        {
          "output_type": "stream",
          "name": "stdout",
          "text": [
            "\n",
            " \n",
            "   Cell Contents\n",
            "|-------------------------|\n",
            "|                       N |\n",
            "|           N / Row Total |\n",
            "|           N / Col Total |\n",
            "|         N / Table Total |\n",
            "|-------------------------|\n",
            "\n",
            " \n",
            "Total Observations in Table:  252 \n",
            "\n",
            " \n",
            "                   | Smarket_pred \n",
            "Smarket_test_label |      Down |        Up | Row Total | \n",
            "-------------------|-----------|-----------|-----------|\n",
            "              Down |        59 |        52 |       111 | \n",
            "                   |     0.532 |     0.468 |     0.440 | \n",
            "                   |     0.484 |     0.400 |           | \n",
            "                   |     0.234 |     0.206 |           | \n",
            "-------------------|-----------|-----------|-----------|\n",
            "                Up |        63 |        78 |       141 | \n",
            "                   |     0.447 |     0.553 |     0.560 | \n",
            "                   |     0.516 |     0.600 |           | \n",
            "                   |     0.250 |     0.310 |           | \n",
            "-------------------|-----------|-----------|-----------|\n",
            "      Column Total |       122 |       130 |       252 | \n",
            "                   |     0.484 |     0.516 |           | \n",
            "-------------------|-----------|-----------|-----------|\n",
            "\n",
            " \n"
          ]
        }
      ]
    },
    {
      "cell_type": "code",
      "source": [
        "CrossTable(x = Smarket_test_label , \n",
        "            y = Smarket_pred,\n",
        "             prop.chisq = TRUE)"
      ],
      "metadata": {
        "id": "xMkjoP3eRbeh",
        "colab": {
          "base_uri": "https://localhost:8080/"
        },
        "outputId": "6699f415-c364-4862-ec2a-7591c20d6315"
      },
      "execution_count": 85,
      "outputs": [
        {
          "output_type": "stream",
          "name": "stdout",
          "text": [
            "\n",
            " \n",
            "   Cell Contents\n",
            "|-------------------------|\n",
            "|                       N |\n",
            "| Chi-square contribution |\n",
            "|           N / Row Total |\n",
            "|           N / Col Total |\n",
            "|         N / Table Total |\n",
            "|-------------------------|\n",
            "\n",
            " \n",
            "Total Observations in Table:  252 \n",
            "\n",
            " \n",
            "                   | Smarket_pred \n",
            "Smarket_test_label |      Down |        Up | Row Total | \n",
            "-------------------|-----------|-----------|-----------|\n",
            "              Down |        59 |        52 |       111 | \n",
            "                   |     0.515 |     0.484 |           | \n",
            "                   |     0.532 |     0.468 |     0.440 | \n",
            "                   |     0.484 |     0.400 |           | \n",
            "                   |     0.234 |     0.206 |           | \n",
            "-------------------|-----------|-----------|-----------|\n",
            "                Up |        63 |        78 |       141 | \n",
            "                   |     0.406 |     0.381 |           | \n",
            "                   |     0.447 |     0.553 |     0.560 | \n",
            "                   |     0.516 |     0.600 |           | \n",
            "                   |     0.250 |     0.310 |           | \n",
            "-------------------|-----------|-----------|-----------|\n",
            "      Column Total |       122 |       130 |       252 | \n",
            "                   |     0.484 |     0.516 |           | \n",
            "-------------------|-----------|-----------|-----------|\n",
            "\n",
            " \n"
          ]
        }
      ]
    },
    {
      "cell_type": "code",
      "source": [
        "?CrossTable"
      ],
      "metadata": {
        "id": "FtBgrbT08aF6"
      },
      "execution_count": 86,
      "outputs": []
    },
    {
      "cell_type": "markdown",
      "source": [
        "# Question 2 : K-Means"
      ],
      "metadata": {
        "id": "SzsJJqhOPWfn"
      }
    },
    {
      "cell_type": "markdown",
      "source": [
        "\n",
        "\n",
        "Use K-means clustering  to cluster US states by the Violent Crime Rates dataset"
      ],
      "metadata": {
        "id": "msGO_t319jtK"
      }
    },
    {
      "cell_type": "code",
      "source": [
        "head(USArrests)"
      ],
      "metadata": {
        "id": "CnKKPZYx8oLY"
      },
      "execution_count": null,
      "outputs": []
    },
    {
      "cell_type": "code",
      "source": [
        "?USArrests\n",
        "\n",
        "# Arrrests per 100k\n",
        "# UrbanPop = pct of pop living in urban area\n",
        "# There is an error for MD in something not rounded: We will ignore this\n",
        "#"
      ],
      "metadata": {
        "id": "8fQzZcIO-KML"
      },
      "execution_count": null,
      "outputs": []
    },
    {
      "cell_type": "markdown",
      "source": [
        "Use the scale function to z-score standardize the USArrests data frames and save the\n",
        "standardized USArrests on a data frame named USArrests _z."
      ],
      "metadata": {
        "id": "6_TuxJIM_Da7"
      }
    },
    {
      "cell_type": "code",
      "source": [
        "'''\n",
        "Smarket_test_z <- Smarket_test %>% mutate_at(c('Lag1' , 'Lag2' , 'Lag3' , 'Lag4' , 'Lag5', 'Volume' ) ,\n",
        "                   ~(scale(.) %>% as.vector))\n",
        "'''"
      ],
      "metadata": {
        "id": "rRlOXXnR_e1Q"
      },
      "execution_count": null,
      "outputs": []
    },
    {
      "cell_type": "code",
      "source": [
        " USArrests_z <- USArrests %>% mutate_at(c('Murder' , 'Assault' , 'UrbanPop' ,'Rape') ,\n",
        "              ~(scale(.) %>% as.vector))"
      ],
      "metadata": {
        "id": "P0xTkG7t-Su4"
      },
      "execution_count": null,
      "outputs": []
    },
    {
      "cell_type": "code",
      "source": [
        "head( USArrests_z)"
      ],
      "metadata": {
        "id": "oHrA8PyaAK2R"
      },
      "execution_count": null,
      "outputs": []
    },
    {
      "cell_type": "markdown",
      "source": [
        "Run the following code so we all get the same results:"
      ],
      "metadata": {
        "id": "oO7rHQaZAqba"
      }
    },
    {
      "cell_type": "code",
      "source": [
        "RNGversion(\"3.5.2\")"
      ],
      "metadata": {
        "id": "W3YttFjVAfX0"
      },
      "execution_count": null,
      "outputs": []
    },
    {
      "cell_type": "code",
      "source": [
        "set.seed(1)"
      ],
      "metadata": {
        "id": "V8Ma-9NdAtyi"
      },
      "execution_count": null,
      "outputs": []
    },
    {
      "cell_type": "markdown",
      "source": [
        "## Perform K-means clustering with 5 clusters."
      ],
      "metadata": {
        "id": "xnm1n4UOA0DA"
      }
    },
    {
      "cell_type": "markdown",
      "source": [
        "## What states are in each cluster?"
      ],
      "metadata": {
        "id": "LItQYzGdIyJt"
      }
    },
    {
      "cell_type": "code",
      "source": [
        "states_clustered <- kmeans(USArrests_z , 5)"
      ],
      "metadata": {
        "id": "XBEEbzjWAxfI"
      },
      "execution_count": null,
      "outputs": []
    },
    {
      "cell_type": "code",
      "source": [
        "states_clustered"
      ],
      "metadata": {
        "id": "tllqTDTcJKZX"
      },
      "execution_count": null,
      "outputs": []
    },
    {
      "cell_type": "code",
      "source": [
        "states_clustered$cluster"
      ],
      "metadata": {
        "id": "kRVQMzaCJLg1"
      },
      "execution_count": null,
      "outputs": []
    },
    {
      "cell_type": "code",
      "source": [
        "#Smarket_test_label <- Smarket_test_label[ ,1]\n",
        "str(states_clustered)"
      ],
      "metadata": {
        "id": "vC66piSXRTOM"
      },
      "execution_count": null,
      "outputs": []
    },
    {
      "cell_type": "code",
      "source": [
        "states_clustered"
      ],
      "metadata": {
        "id": "GW5k9mJoRqPE"
      },
      "execution_count": null,
      "outputs": []
    },
    {
      "cell_type": "code",
      "source": [
        ""
      ],
      "metadata": {
        "id": "MPqJOmy3RqK6"
      },
      "execution_count": null,
      "outputs": []
    },
    {
      "cell_type": "markdown",
      "source": [
        "## What are the values of the cluster centers?"
      ],
      "metadata": {
        "id": "wlLJKfdyK3G5"
      }
    },
    {
      "cell_type": "code",
      "source": [
        "states_clustered$centers"
      ],
      "metadata": {
        "id": "cMPodDsnKDPd"
      },
      "execution_count": null,
      "outputs": []
    },
    {
      "cell_type": "markdown",
      "source": [
        "## Plot K-Means Clusters"
      ],
      "metadata": {
        "id": "9Rat9uQeUC-h"
      }
    },
    {
      "cell_type": "code",
      "source": [
        "clusters_df <- states_clustered"
      ],
      "metadata": {
        "id": "fTNBEyGwc8O0"
      },
      "execution_count": null,
      "outputs": []
    },
    {
      "cell_type": "code",
      "source": [
        "clusters_df <- as.data.frame( states_clustered$cluster, states_clustered$centers)"
      ],
      "metadata": {
        "id": "UKQmJzCddFhJ"
      },
      "execution_count": null,
      "outputs": []
    },
    {
      "cell_type": "code",
      "source": [
        "ggplot(data = clusters_df, aes(y = centers)) +\n",
        "  geom_point()"
      ],
      "metadata": {
        "id": "MXLdEGV6UF2q"
      },
      "execution_count": null,
      "outputs": []
    },
    {
      "cell_type": "code",
      "source": [
        ""
      ],
      "metadata": {
        "id": "dNQjwXq4c361"
      },
      "execution_count": null,
      "outputs": []
    }
  ]
}