{
  "nbformat": 4,
  "nbformat_minor": 0,
  "metadata": {
    "colab": {
      "name": "Complaints_HP_TFIDF.ipynb",
      "provenance": [],
      "collapsed_sections": [],
      "machine_shape": "hm",
      "mount_file_id": "1zfhTfJKQMLsvv15es45kmVkBbkVXtOwz",
      "authorship_tag": "ABX9TyM2whD+jq73TkBzI2u5TvjH",
      "include_colab_link": true
    },
    "kernelspec": {
      "name": "python3",
      "display_name": "Python 3"
    },
    "language_info": {
      "name": "python"
    }
  },
  "cells": [
    {
      "cell_type": "markdown",
      "metadata": {
        "id": "view-in-github",
        "colab_type": "text"
      },
      "source": [
        "<a href=\"https://colab.research.google.com/github/JF11579/Adelphi/blob/main/Complaints_HP_TFIDF.ipynb\" target=\"_parent\"><img src=\"https://colab.research.google.com/assets/colab-badge.svg\" alt=\"Open In Colab\"/></a>"
      ]
    },
    {
      "cell_type": "markdown",
      "source": [
        "https://towardsdatascience.com/text-classification-with-nlp-tf-idf-vs-word2vec-vs-bert-41ff868d1794"
      ],
      "metadata": {
        "id": "PaF9l1RAe2XT"
      }
    },
    {
      "cell_type": "code",
      "execution_count": 1,
      "metadata": {
        "id": "2j7acZS0eoap"
      },
      "outputs": [],
      "source": [
        "## for data\n",
        "import pandas as pd\n",
        "import numpy as np"
      ]
    },
    {
      "cell_type": "code",
      "source": [
        "## for plotting\n",
        "import matplotlib.pyplot as plt\n",
        "import seaborn as sns"
      ],
      "metadata": {
        "id": "qHqd3u3LfEDz"
      },
      "execution_count": 2,
      "outputs": []
    },
    {
      "cell_type": "code",
      "source": [
        "## for processing\n",
        "import re\n",
        "import nltk"
      ],
      "metadata": {
        "id": "6DMtfZBNfD-n"
      },
      "execution_count": 3,
      "outputs": []
    },
    {
      "cell_type": "code",
      "source": [
        "## for bag-of-words\n",
        "from sklearn import feature_extraction, model_selection, naive_bayes, pipeline, manifold, preprocessing"
      ],
      "metadata": {
        "id": "400BwSeBfD7T"
      },
      "execution_count": 4,
      "outputs": []
    },
    {
      "cell_type": "code",
      "source": [
        "import sklearn.metrics as metrics"
      ],
      "metadata": {
        "id": "DsMbkW7tfQ5o"
      },
      "execution_count": 5,
      "outputs": []
    },
    {
      "cell_type": "code",
      "source": [
        "pip install lime"
      ],
      "metadata": {
        "colab": {
          "base_uri": "https://localhost:8080/"
        },
        "id": "PggcZyaRfYm3",
        "outputId": "0b7fca1f-9019-463f-fb72-d347cae27b48"
      },
      "execution_count": 6,
      "outputs": [
        {
          "output_type": "stream",
          "name": "stdout",
          "text": [
            "Collecting lime\n",
            "  Downloading lime-0.2.0.1.tar.gz (275 kB)\n",
            "\u001b[?25l\r\u001b[K     |█▏                              | 10 kB 26.9 MB/s eta 0:00:01\r\u001b[K     |██▍                             | 20 kB 28.7 MB/s eta 0:00:01\r\u001b[K     |███▋                            | 30 kB 33.2 MB/s eta 0:00:01\r\u001b[K     |████▊                           | 40 kB 37.1 MB/s eta 0:00:01\r\u001b[K     |██████                          | 51 kB 40.2 MB/s eta 0:00:01\r\u001b[K     |███████▏                        | 61 kB 42.0 MB/s eta 0:00:01\r\u001b[K     |████████▎                       | 71 kB 42.2 MB/s eta 0:00:01\r\u001b[K     |█████████▌                      | 81 kB 31.0 MB/s eta 0:00:01\r\u001b[K     |██████████▊                     | 92 kB 32.6 MB/s eta 0:00:01\r\u001b[K     |███████████▉                    | 102 kB 34.2 MB/s eta 0:00:01\r\u001b[K     |█████████████                   | 112 kB 34.2 MB/s eta 0:00:01\r\u001b[K     |██████████████▎                 | 122 kB 34.2 MB/s eta 0:00:01\r\u001b[K     |███████████████▌                | 133 kB 34.2 MB/s eta 0:00:01\r\u001b[K     |████████████████▋               | 143 kB 34.2 MB/s eta 0:00:01\r\u001b[K     |█████████████████▉              | 153 kB 34.2 MB/s eta 0:00:01\r\u001b[K     |███████████████████             | 163 kB 34.2 MB/s eta 0:00:01\r\u001b[K     |████████████████████▏           | 174 kB 34.2 MB/s eta 0:00:01\r\u001b[K     |█████████████████████▍          | 184 kB 34.2 MB/s eta 0:00:01\r\u001b[K     |██████████████████████▋         | 194 kB 34.2 MB/s eta 0:00:01\r\u001b[K     |███████████████████████▊        | 204 kB 34.2 MB/s eta 0:00:01\r\u001b[K     |█████████████████████████       | 215 kB 34.2 MB/s eta 0:00:01\r\u001b[K     |██████████████████████████▏     | 225 kB 34.2 MB/s eta 0:00:01\r\u001b[K     |███████████████████████████▍    | 235 kB 34.2 MB/s eta 0:00:01\r\u001b[K     |████████████████████████████▌   | 245 kB 34.2 MB/s eta 0:00:01\r\u001b[K     |█████████████████████████████▊  | 256 kB 34.2 MB/s eta 0:00:01\r\u001b[K     |███████████████████████████████ | 266 kB 34.2 MB/s eta 0:00:01\r\u001b[K     |████████████████████████████████| 275 kB 34.2 MB/s \n",
            "\u001b[?25hRequirement already satisfied: matplotlib in /usr/local/lib/python3.7/dist-packages (from lime) (3.2.2)\n",
            "Requirement already satisfied: numpy in /usr/local/lib/python3.7/dist-packages (from lime) (1.21.6)\n",
            "Requirement already satisfied: scipy in /usr/local/lib/python3.7/dist-packages (from lime) (1.4.1)\n",
            "Requirement already satisfied: tqdm in /usr/local/lib/python3.7/dist-packages (from lime) (4.64.0)\n",
            "Requirement already satisfied: scikit-learn>=0.18 in /usr/local/lib/python3.7/dist-packages (from lime) (1.0.2)\n",
            "Requirement already satisfied: scikit-image>=0.12 in /usr/local/lib/python3.7/dist-packages (from lime) (0.18.3)\n",
            "Requirement already satisfied: pillow!=7.1.0,!=7.1.1,>=4.3.0 in /usr/local/lib/python3.7/dist-packages (from scikit-image>=0.12->lime) (7.1.2)\n",
            "Requirement already satisfied: imageio>=2.3.0 in /usr/local/lib/python3.7/dist-packages (from scikit-image>=0.12->lime) (2.4.1)\n",
            "Requirement already satisfied: networkx>=2.0 in /usr/local/lib/python3.7/dist-packages (from scikit-image>=0.12->lime) (2.6.3)\n",
            "Requirement already satisfied: tifffile>=2019.7.26 in /usr/local/lib/python3.7/dist-packages (from scikit-image>=0.12->lime) (2021.11.2)\n",
            "Requirement already satisfied: PyWavelets>=1.1.1 in /usr/local/lib/python3.7/dist-packages (from scikit-image>=0.12->lime) (1.3.0)\n",
            "Requirement already satisfied: python-dateutil>=2.1 in /usr/local/lib/python3.7/dist-packages (from matplotlib->lime) (2.8.2)\n",
            "Requirement already satisfied: pyparsing!=2.0.4,!=2.1.2,!=2.1.6,>=2.0.1 in /usr/local/lib/python3.7/dist-packages (from matplotlib->lime) (3.0.8)\n",
            "Requirement already satisfied: cycler>=0.10 in /usr/local/lib/python3.7/dist-packages (from matplotlib->lime) (0.11.0)\n",
            "Requirement already satisfied: kiwisolver>=1.0.1 in /usr/local/lib/python3.7/dist-packages (from matplotlib->lime) (1.4.2)\n",
            "Requirement already satisfied: typing-extensions in /usr/local/lib/python3.7/dist-packages (from kiwisolver>=1.0.1->matplotlib->lime) (4.2.0)\n",
            "Requirement already satisfied: six>=1.5 in /usr/local/lib/python3.7/dist-packages (from python-dateutil>=2.1->matplotlib->lime) (1.15.0)\n",
            "Requirement already satisfied: joblib>=0.11 in /usr/local/lib/python3.7/dist-packages (from scikit-learn>=0.18->lime) (1.1.0)\n",
            "Requirement already satisfied: threadpoolctl>=2.0.0 in /usr/local/lib/python3.7/dist-packages (from scikit-learn>=0.18->lime) (3.1.0)\n",
            "Building wheels for collected packages: lime\n",
            "  Building wheel for lime (setup.py) ... \u001b[?25l\u001b[?25hdone\n",
            "  Created wheel for lime: filename=lime-0.2.0.1-py3-none-any.whl size=283857 sha256=bdbcc3e6ffd43b8d26a12669a4398bdeaf02d3f29f26a02a7a6cd4f6568fa48a\n",
            "  Stored in directory: /root/.cache/pip/wheels/ca/cb/e5/ac701e12d365a08917bf4c6171c0961bc880a8181359c66aa7\n",
            "Successfully built lime\n",
            "Installing collected packages: lime\n",
            "Successfully installed lime-0.2.0.1\n"
          ]
        }
      ]
    },
    {
      "cell_type": "code",
      "source": [
        "## for explainer\n",
        "from lime import lime_text"
      ],
      "metadata": {
        "id": "qlypHr-YfYgd"
      },
      "execution_count": 7,
      "outputs": []
    },
    {
      "cell_type": "code",
      "source": [
        "## for word embedding\n",
        "import gensim\n",
        "import gensim.downloader as gensim_api"
      ],
      "metadata": {
        "id": "TjIGD02MfYjc"
      },
      "execution_count": 8,
      "outputs": []
    },
    {
      "cell_type": "code",
      "source": [
        "## for deep learning\n",
        "from tensorflow.keras import models, layers, preprocessing as kprocessing\n",
        "from tensorflow.keras import backend as K"
      ],
      "metadata": {
        "id": "3zWbdN2efnz9"
      },
      "execution_count": 9,
      "outputs": []
    },
    {
      "cell_type": "code",
      "source": [
        "pip install transformers"
      ],
      "metadata": {
        "id": "NstJ_G59fnv0",
        "colab": {
          "base_uri": "https://localhost:8080/"
        },
        "outputId": "4d7ed1bb-d27d-4360-ac0d-215198822e11"
      },
      "execution_count": 10,
      "outputs": [
        {
          "output_type": "stream",
          "name": "stdout",
          "text": [
            "Collecting transformers\n",
            "  Downloading transformers-4.18.0-py3-none-any.whl (4.0 MB)\n",
            "\u001b[K     |████████████████████████████████| 4.0 MB 29.7 MB/s \n",
            "\u001b[?25hRequirement already satisfied: packaging>=20.0 in /usr/local/lib/python3.7/dist-packages (from transformers) (21.3)\n",
            "Requirement already satisfied: numpy>=1.17 in /usr/local/lib/python3.7/dist-packages (from transformers) (1.21.6)\n",
            "Requirement already satisfied: filelock in /usr/local/lib/python3.7/dist-packages (from transformers) (3.6.0)\n",
            "Collecting tokenizers!=0.11.3,<0.13,>=0.11.1\n",
            "  Downloading tokenizers-0.12.1-cp37-cp37m-manylinux_2_12_x86_64.manylinux2010_x86_64.whl (6.6 MB)\n",
            "\u001b[K     |████████████████████████████████| 6.6 MB 38.2 MB/s \n",
            "\u001b[?25hRequirement already satisfied: importlib-metadata in /usr/local/lib/python3.7/dist-packages (from transformers) (4.11.3)\n",
            "Requirement already satisfied: regex!=2019.12.17 in /usr/local/lib/python3.7/dist-packages (from transformers) (2019.12.20)\n",
            "Collecting sacremoses\n",
            "  Downloading sacremoses-0.0.53.tar.gz (880 kB)\n",
            "\u001b[K     |████████████████████████████████| 880 kB 60.4 MB/s \n",
            "\u001b[?25hCollecting huggingface-hub<1.0,>=0.1.0\n",
            "  Downloading huggingface_hub-0.5.1-py3-none-any.whl (77 kB)\n",
            "\u001b[K     |████████████████████████████████| 77 kB 8.2 MB/s \n",
            "\u001b[?25hCollecting pyyaml>=5.1\n",
            "  Downloading PyYAML-6.0-cp37-cp37m-manylinux_2_5_x86_64.manylinux1_x86_64.manylinux_2_12_x86_64.manylinux2010_x86_64.whl (596 kB)\n",
            "\u001b[K     |████████████████████████████████| 596 kB 78.9 MB/s \n",
            "\u001b[?25hRequirement already satisfied: requests in /usr/local/lib/python3.7/dist-packages (from transformers) (2.23.0)\n",
            "Requirement already satisfied: tqdm>=4.27 in /usr/local/lib/python3.7/dist-packages (from transformers) (4.64.0)\n",
            "Requirement already satisfied: typing-extensions>=3.7.4.3 in /usr/local/lib/python3.7/dist-packages (from huggingface-hub<1.0,>=0.1.0->transformers) (4.2.0)\n",
            "Requirement already satisfied: pyparsing!=3.0.5,>=2.0.2 in /usr/local/lib/python3.7/dist-packages (from packaging>=20.0->transformers) (3.0.8)\n",
            "Requirement already satisfied: zipp>=0.5 in /usr/local/lib/python3.7/dist-packages (from importlib-metadata->transformers) (3.8.0)\n",
            "Requirement already satisfied: urllib3!=1.25.0,!=1.25.1,<1.26,>=1.21.1 in /usr/local/lib/python3.7/dist-packages (from requests->transformers) (1.24.3)\n",
            "Requirement already satisfied: chardet<4,>=3.0.2 in /usr/local/lib/python3.7/dist-packages (from requests->transformers) (3.0.4)\n",
            "Requirement already satisfied: idna<3,>=2.5 in /usr/local/lib/python3.7/dist-packages (from requests->transformers) (2.10)\n",
            "Requirement already satisfied: certifi>=2017.4.17 in /usr/local/lib/python3.7/dist-packages (from requests->transformers) (2021.10.8)\n",
            "Requirement already satisfied: six in /usr/local/lib/python3.7/dist-packages (from sacremoses->transformers) (1.15.0)\n",
            "Requirement already satisfied: click in /usr/local/lib/python3.7/dist-packages (from sacremoses->transformers) (7.1.2)\n",
            "Requirement already satisfied: joblib in /usr/local/lib/python3.7/dist-packages (from sacremoses->transformers) (1.1.0)\n",
            "Building wheels for collected packages: sacremoses\n",
            "  Building wheel for sacremoses (setup.py) ... \u001b[?25l\u001b[?25hdone\n",
            "  Created wheel for sacremoses: filename=sacremoses-0.0.53-py3-none-any.whl size=895260 sha256=54e5ae1ceafe15516072bd6e78a9dd665e83533b12f69d25350e4adc825dabd0\n",
            "  Stored in directory: /root/.cache/pip/wheels/87/39/dd/a83eeef36d0bf98e7a4d1933a4ad2d660295a40613079bafc9\n",
            "Successfully built sacremoses\n",
            "Installing collected packages: pyyaml, tokenizers, sacremoses, huggingface-hub, transformers\n",
            "  Attempting uninstall: pyyaml\n",
            "    Found existing installation: PyYAML 3.13\n",
            "    Uninstalling PyYAML-3.13:\n",
            "      Successfully uninstalled PyYAML-3.13\n",
            "Successfully installed huggingface-hub-0.5.1 pyyaml-6.0 sacremoses-0.0.53 tokenizers-0.12.1 transformers-4.18.0\n"
          ]
        }
      ]
    },
    {
      "cell_type": "code",
      "source": [
        "## for bert language model\n",
        "import transformers"
      ],
      "metadata": {
        "id": "bNBT2ZHvfnsP"
      },
      "execution_count": 11,
      "outputs": []
    },
    {
      "cell_type": "markdown",
      "source": [
        "# Data\n",
        "\n",
        "Complaints_Reshaped_May_5.csv"
      ],
      "metadata": {
        "id": "9zPWkmlRf3fG"
      }
    },
    {
      "cell_type": "code",
      "source": [
        "#df = pd.read_csv('/content/Complaints_Reshaped_May_5.csv',error_bad_lines=False)\n",
        "df = pd.read_csv('/content/drive/MyDrive/Adelphi/Text_Analytics/Complaints_Reshaped_May_5.csv', error_bad_lines=False)"
      ],
      "metadata": {
        "colab": {
          "base_uri": "https://localhost:8080/"
        },
        "id": "lrXIUskNfnoX",
        "outputId": "df71ec1b-6bd0-4e41-d75a-8e6500cc5cfc"
      },
      "execution_count": 12,
      "outputs": [
        {
          "output_type": "stream",
          "name": "stderr",
          "text": [
            "/usr/local/lib/python3.7/dist-packages/IPython/core/interactiveshell.py:2882: FutureWarning: The error_bad_lines argument has been deprecated and will be removed in a future version.\n",
            "\n",
            "\n",
            "  exec(code_obj, self.user_global_ns, self.user_ns)\n"
          ]
        }
      ]
    },
    {
      "cell_type": "code",
      "source": [
        "df.head(3)"
      ],
      "metadata": {
        "colab": {
          "base_uri": "https://localhost:8080/",
          "height": 144
        },
        "id": "o-gTEbOigu6k",
        "outputId": "09228100-e044-4206-9bd0-d6ae8d54a0c7"
      },
      "execution_count": 13,
      "outputs": [
        {
          "output_type": "execute_result",
          "data": {
            "text/plain": [
              "                                  Issue  \\\n",
              "0  Incorrect information on your report   \n",
              "1  Incorrect information on your report   \n",
              "2  Incorrect information on your report   \n",
              "\n",
              "                                           Complaint  \n",
              "0  ATTN Fraud Department : Remove fraudulent acco...  \n",
              "1  My personal background information to confirm ...  \n",
              "2  hello Ive been trying for months to get this i...  "
            ],
            "text/html": [
              "\n",
              "  <div id=\"df-2c8ab0ed-7906-402d-8b69-d60a28a40f7d\">\n",
              "    <div class=\"colab-df-container\">\n",
              "      <div>\n",
              "<style scoped>\n",
              "    .dataframe tbody tr th:only-of-type {\n",
              "        vertical-align: middle;\n",
              "    }\n",
              "\n",
              "    .dataframe tbody tr th {\n",
              "        vertical-align: top;\n",
              "    }\n",
              "\n",
              "    .dataframe thead th {\n",
              "        text-align: right;\n",
              "    }\n",
              "</style>\n",
              "<table border=\"1\" class=\"dataframe\">\n",
              "  <thead>\n",
              "    <tr style=\"text-align: right;\">\n",
              "      <th></th>\n",
              "      <th>Issue</th>\n",
              "      <th>Complaint</th>\n",
              "    </tr>\n",
              "  </thead>\n",
              "  <tbody>\n",
              "    <tr>\n",
              "      <th>0</th>\n",
              "      <td>Incorrect information on your report</td>\n",
              "      <td>ATTN Fraud Department : Remove fraudulent acco...</td>\n",
              "    </tr>\n",
              "    <tr>\n",
              "      <th>1</th>\n",
              "      <td>Incorrect information on your report</td>\n",
              "      <td>My personal background information to confirm ...</td>\n",
              "    </tr>\n",
              "    <tr>\n",
              "      <th>2</th>\n",
              "      <td>Incorrect information on your report</td>\n",
              "      <td>hello Ive been trying for months to get this i...</td>\n",
              "    </tr>\n",
              "  </tbody>\n",
              "</table>\n",
              "</div>\n",
              "      <button class=\"colab-df-convert\" onclick=\"convertToInteractive('df-2c8ab0ed-7906-402d-8b69-d60a28a40f7d')\"\n",
              "              title=\"Convert this dataframe to an interactive table.\"\n",
              "              style=\"display:none;\">\n",
              "        \n",
              "  <svg xmlns=\"http://www.w3.org/2000/svg\" height=\"24px\"viewBox=\"0 0 24 24\"\n",
              "       width=\"24px\">\n",
              "    <path d=\"M0 0h24v24H0V0z\" fill=\"none\"/>\n",
              "    <path d=\"M18.56 5.44l.94 2.06.94-2.06 2.06-.94-2.06-.94-.94-2.06-.94 2.06-2.06.94zm-11 1L8.5 8.5l.94-2.06 2.06-.94-2.06-.94L8.5 2.5l-.94 2.06-2.06.94zm10 10l.94 2.06.94-2.06 2.06-.94-2.06-.94-.94-2.06-.94 2.06-2.06.94z\"/><path d=\"M17.41 7.96l-1.37-1.37c-.4-.4-.92-.59-1.43-.59-.52 0-1.04.2-1.43.59L10.3 9.45l-7.72 7.72c-.78.78-.78 2.05 0 2.83L4 21.41c.39.39.9.59 1.41.59.51 0 1.02-.2 1.41-.59l7.78-7.78 2.81-2.81c.8-.78.8-2.07 0-2.86zM5.41 20L4 18.59l7.72-7.72 1.47 1.35L5.41 20z\"/>\n",
              "  </svg>\n",
              "      </button>\n",
              "      \n",
              "  <style>\n",
              "    .colab-df-container {\n",
              "      display:flex;\n",
              "      flex-wrap:wrap;\n",
              "      gap: 12px;\n",
              "    }\n",
              "\n",
              "    .colab-df-convert {\n",
              "      background-color: #E8F0FE;\n",
              "      border: none;\n",
              "      border-radius: 50%;\n",
              "      cursor: pointer;\n",
              "      display: none;\n",
              "      fill: #1967D2;\n",
              "      height: 32px;\n",
              "      padding: 0 0 0 0;\n",
              "      width: 32px;\n",
              "    }\n",
              "\n",
              "    .colab-df-convert:hover {\n",
              "      background-color: #E2EBFA;\n",
              "      box-shadow: 0px 1px 2px rgba(60, 64, 67, 0.3), 0px 1px 3px 1px rgba(60, 64, 67, 0.15);\n",
              "      fill: #174EA6;\n",
              "    }\n",
              "\n",
              "    [theme=dark] .colab-df-convert {\n",
              "      background-color: #3B4455;\n",
              "      fill: #D2E3FC;\n",
              "    }\n",
              "\n",
              "    [theme=dark] .colab-df-convert:hover {\n",
              "      background-color: #434B5C;\n",
              "      box-shadow: 0px 1px 3px 1px rgba(0, 0, 0, 0.15);\n",
              "      filter: drop-shadow(0px 1px 2px rgba(0, 0, 0, 0.3));\n",
              "      fill: #FFFFFF;\n",
              "    }\n",
              "  </style>\n",
              "\n",
              "      <script>\n",
              "        const buttonEl =\n",
              "          document.querySelector('#df-2c8ab0ed-7906-402d-8b69-d60a28a40f7d button.colab-df-convert');\n",
              "        buttonEl.style.display =\n",
              "          google.colab.kernel.accessAllowed ? 'block' : 'none';\n",
              "\n",
              "        async function convertToInteractive(key) {\n",
              "          const element = document.querySelector('#df-2c8ab0ed-7906-402d-8b69-d60a28a40f7d');\n",
              "          const dataTable =\n",
              "            await google.colab.kernel.invokeFunction('convertToInteractive',\n",
              "                                                     [key], {});\n",
              "          if (!dataTable) return;\n",
              "\n",
              "          const docLinkHtml = 'Like what you see? Visit the ' +\n",
              "            '<a target=\"_blank\" href=https://colab.research.google.com/notebooks/data_table.ipynb>data table notebook</a>'\n",
              "            + ' to learn more about interactive tables.';\n",
              "          element.innerHTML = '';\n",
              "          dataTable['output_type'] = 'display_data';\n",
              "          await google.colab.output.renderOutput(dataTable, element);\n",
              "          const docLink = document.createElement('div');\n",
              "          docLink.innerHTML = docLinkHtml;\n",
              "          element.appendChild(docLink);\n",
              "        }\n",
              "      </script>\n",
              "    </div>\n",
              "  </div>\n",
              "  "
            ]
          },
          "metadata": {},
          "execution_count": 13
        }
      ]
    },
    {
      "cell_type": "markdown",
      "source": [
        "# Split the data\n",
        "\n",
        "## Nice wasy to split the data, simply Tran/Test rather than X_train_, y_train , etc sine s=we want to pre-oprocess onlyt eh training side "
      ],
      "metadata": {
        "id": "-JjUZLoaplG9"
      }
    },
    {
      "cell_type": "code",
      "source": [
        "## split dataset\n",
        "df_train, df_test = model_selection.train_test_split(df, test_size=0.2)"
      ],
      "metadata": {
        "id": "w3PICD6oqDMj"
      },
      "execution_count": 14,
      "outputs": []
    },
    {
      "cell_type": "code",
      "source": [
        "df_train.shape"
      ],
      "metadata": {
        "colab": {
          "base_uri": "https://localhost:8080/"
        },
        "id": "TvAmF-m6qRjw",
        "outputId": "c371f41f-62fa-4f65-c07d-b68ea0b7e756"
      },
      "execution_count": 15,
      "outputs": [
        {
          "output_type": "execute_result",
          "data": {
            "text/plain": [
              "(294103, 2)"
            ]
          },
          "metadata": {},
          "execution_count": 15
        }
      ]
    },
    {
      "cell_type": "code",
      "source": [
        "df_train.head()"
      ],
      "metadata": {
        "colab": {
          "base_uri": "https://localhost:8080/",
          "height": 206
        },
        "id": "lv8geVfADBrr",
        "outputId": "557d2c17-2cf8-47ac-ae67-d855447b52d2"
      },
      "execution_count": 16,
      "outputs": [
        {
          "output_type": "execute_result",
          "data": {
            "text/plain": [
              "                                                    Issue  \\\n",
              "341585                                      Fraud or scam   \n",
              "65906       Problem with fraud alerts or security freezes   \n",
              "43975   Applying for a mortgage or refinancing an exis...   \n",
              "309058                                   Billing disputes   \n",
              "359286                         Managing the loan or lease   \n",
              "\n",
              "                                                Complaint  \n",
              "341585  On XX/XX/2021 I wired transferred {$20000.00} ...  \n",
              "65906   In XXXX 2016 XXXX XXXX closed all my checking ...  \n",
              "43975   I was in a modification process & Wellsfargo b...  \n",
              "309058  I signed up for a Home Depot credit card. Stup...  \n",
              "359286  I had gotten a XXXX Nissan Altima Coupe for my...  "
            ],
            "text/html": [
              "\n",
              "  <div id=\"df-b2d8df62-a391-4deb-a868-af65e2eda828\">\n",
              "    <div class=\"colab-df-container\">\n",
              "      <div>\n",
              "<style scoped>\n",
              "    .dataframe tbody tr th:only-of-type {\n",
              "        vertical-align: middle;\n",
              "    }\n",
              "\n",
              "    .dataframe tbody tr th {\n",
              "        vertical-align: top;\n",
              "    }\n",
              "\n",
              "    .dataframe thead th {\n",
              "        text-align: right;\n",
              "    }\n",
              "</style>\n",
              "<table border=\"1\" class=\"dataframe\">\n",
              "  <thead>\n",
              "    <tr style=\"text-align: right;\">\n",
              "      <th></th>\n",
              "      <th>Issue</th>\n",
              "      <th>Complaint</th>\n",
              "    </tr>\n",
              "  </thead>\n",
              "  <tbody>\n",
              "    <tr>\n",
              "      <th>341585</th>\n",
              "      <td>Fraud or scam</td>\n",
              "      <td>On XX/XX/2021 I wired transferred {$20000.00} ...</td>\n",
              "    </tr>\n",
              "    <tr>\n",
              "      <th>65906</th>\n",
              "      <td>Problem with fraud alerts or security freezes</td>\n",
              "      <td>In XXXX 2016 XXXX XXXX closed all my checking ...</td>\n",
              "    </tr>\n",
              "    <tr>\n",
              "      <th>43975</th>\n",
              "      <td>Applying for a mortgage or refinancing an exis...</td>\n",
              "      <td>I was in a modification process &amp; Wellsfargo b...</td>\n",
              "    </tr>\n",
              "    <tr>\n",
              "      <th>309058</th>\n",
              "      <td>Billing disputes</td>\n",
              "      <td>I signed up for a Home Depot credit card. Stup...</td>\n",
              "    </tr>\n",
              "    <tr>\n",
              "      <th>359286</th>\n",
              "      <td>Managing the loan or lease</td>\n",
              "      <td>I had gotten a XXXX Nissan Altima Coupe for my...</td>\n",
              "    </tr>\n",
              "  </tbody>\n",
              "</table>\n",
              "</div>\n",
              "      <button class=\"colab-df-convert\" onclick=\"convertToInteractive('df-b2d8df62-a391-4deb-a868-af65e2eda828')\"\n",
              "              title=\"Convert this dataframe to an interactive table.\"\n",
              "              style=\"display:none;\">\n",
              "        \n",
              "  <svg xmlns=\"http://www.w3.org/2000/svg\" height=\"24px\"viewBox=\"0 0 24 24\"\n",
              "       width=\"24px\">\n",
              "    <path d=\"M0 0h24v24H0V0z\" fill=\"none\"/>\n",
              "    <path d=\"M18.56 5.44l.94 2.06.94-2.06 2.06-.94-2.06-.94-.94-2.06-.94 2.06-2.06.94zm-11 1L8.5 8.5l.94-2.06 2.06-.94-2.06-.94L8.5 2.5l-.94 2.06-2.06.94zm10 10l.94 2.06.94-2.06 2.06-.94-2.06-.94-.94-2.06-.94 2.06-2.06.94z\"/><path d=\"M17.41 7.96l-1.37-1.37c-.4-.4-.92-.59-1.43-.59-.52 0-1.04.2-1.43.59L10.3 9.45l-7.72 7.72c-.78.78-.78 2.05 0 2.83L4 21.41c.39.39.9.59 1.41.59.51 0 1.02-.2 1.41-.59l7.78-7.78 2.81-2.81c.8-.78.8-2.07 0-2.86zM5.41 20L4 18.59l7.72-7.72 1.47 1.35L5.41 20z\"/>\n",
              "  </svg>\n",
              "      </button>\n",
              "      \n",
              "  <style>\n",
              "    .colab-df-container {\n",
              "      display:flex;\n",
              "      flex-wrap:wrap;\n",
              "      gap: 12px;\n",
              "    }\n",
              "\n",
              "    .colab-df-convert {\n",
              "      background-color: #E8F0FE;\n",
              "      border: none;\n",
              "      border-radius: 50%;\n",
              "      cursor: pointer;\n",
              "      display: none;\n",
              "      fill: #1967D2;\n",
              "      height: 32px;\n",
              "      padding: 0 0 0 0;\n",
              "      width: 32px;\n",
              "    }\n",
              "\n",
              "    .colab-df-convert:hover {\n",
              "      background-color: #E2EBFA;\n",
              "      box-shadow: 0px 1px 2px rgba(60, 64, 67, 0.3), 0px 1px 3px 1px rgba(60, 64, 67, 0.15);\n",
              "      fill: #174EA6;\n",
              "    }\n",
              "\n",
              "    [theme=dark] .colab-df-convert {\n",
              "      background-color: #3B4455;\n",
              "      fill: #D2E3FC;\n",
              "    }\n",
              "\n",
              "    [theme=dark] .colab-df-convert:hover {\n",
              "      background-color: #434B5C;\n",
              "      box-shadow: 0px 1px 3px 1px rgba(0, 0, 0, 0.15);\n",
              "      filter: drop-shadow(0px 1px 2px rgba(0, 0, 0, 0.3));\n",
              "      fill: #FFFFFF;\n",
              "    }\n",
              "  </style>\n",
              "\n",
              "      <script>\n",
              "        const buttonEl =\n",
              "          document.querySelector('#df-b2d8df62-a391-4deb-a868-af65e2eda828 button.colab-df-convert');\n",
              "        buttonEl.style.display =\n",
              "          google.colab.kernel.accessAllowed ? 'block' : 'none';\n",
              "\n",
              "        async function convertToInteractive(key) {\n",
              "          const element = document.querySelector('#df-b2d8df62-a391-4deb-a868-af65e2eda828');\n",
              "          const dataTable =\n",
              "            await google.colab.kernel.invokeFunction('convertToInteractive',\n",
              "                                                     [key], {});\n",
              "          if (!dataTable) return;\n",
              "\n",
              "          const docLinkHtml = 'Like what you see? Visit the ' +\n",
              "            '<a target=\"_blank\" href=https://colab.research.google.com/notebooks/data_table.ipynb>data table notebook</a>'\n",
              "            + ' to learn more about interactive tables.';\n",
              "          element.innerHTML = '';\n",
              "          dataTable['output_type'] = 'display_data';\n",
              "          await google.colab.output.renderOutput(dataTable, element);\n",
              "          const docLink = document.createElement('div');\n",
              "          docLink.innerHTML = docLinkHtml;\n",
              "          element.appendChild(docLink);\n",
              "        }\n",
              "      </script>\n",
              "    </div>\n",
              "  </div>\n",
              "  "
            ]
          },
          "metadata": {},
          "execution_count": 16
        }
      ]
    },
    {
      "cell_type": "code",
      "source": [
        "df_test.shape"
      ],
      "metadata": {
        "colab": {
          "base_uri": "https://localhost:8080/"
        },
        "id": "Ckk6KpG6qRfe",
        "outputId": "7ac3cf86-f716-49ba-ce55-231879c92971"
      },
      "execution_count": 17,
      "outputs": [
        {
          "output_type": "execute_result",
          "data": {
            "text/plain": [
              "(73526, 2)"
            ]
          },
          "metadata": {},
          "execution_count": 17
        }
      ]
    },
    {
      "cell_type": "code",
      "source": [
        "df_test.head()"
      ],
      "metadata": {
        "colab": {
          "base_uri": "https://localhost:8080/",
          "height": 206
        },
        "id": "Y3QDTZMGDE0p",
        "outputId": "c7cd055a-1c91-4e87-91ce-43fcd87545b3"
      },
      "execution_count": 18,
      "outputs": [
        {
          "output_type": "execute_result",
          "data": {
            "text/plain": [
              "                                                    Issue  \\\n",
              "27646                 Problem with a purchase or transfer   \n",
              "91530                          Struggling to pay mortgage   \n",
              "245974                           Unexpected or other fees   \n",
              "356939  Advertising and marketing, including promotion...   \n",
              "185910                          Other transaction problem   \n",
              "\n",
              "                                                Complaint  \n",
              "27646   I, the consumer am aware and have proof that B...  \n",
              "91530   I applied for a loan Modification and was offe...  \n",
              "245974  PayPal closed my account for no reason and wil...  \n",
              "356939  I recieved an pre-approval offer for Discover ...  \n",
              "185910  On XX/XX/XXXX i purchased XXXX gyen on XX/XX/X...  "
            ],
            "text/html": [
              "\n",
              "  <div id=\"df-93905814-802b-44af-9067-c4988b8071ff\">\n",
              "    <div class=\"colab-df-container\">\n",
              "      <div>\n",
              "<style scoped>\n",
              "    .dataframe tbody tr th:only-of-type {\n",
              "        vertical-align: middle;\n",
              "    }\n",
              "\n",
              "    .dataframe tbody tr th {\n",
              "        vertical-align: top;\n",
              "    }\n",
              "\n",
              "    .dataframe thead th {\n",
              "        text-align: right;\n",
              "    }\n",
              "</style>\n",
              "<table border=\"1\" class=\"dataframe\">\n",
              "  <thead>\n",
              "    <tr style=\"text-align: right;\">\n",
              "      <th></th>\n",
              "      <th>Issue</th>\n",
              "      <th>Complaint</th>\n",
              "    </tr>\n",
              "  </thead>\n",
              "  <tbody>\n",
              "    <tr>\n",
              "      <th>27646</th>\n",
              "      <td>Problem with a purchase or transfer</td>\n",
              "      <td>I, the consumer am aware and have proof that B...</td>\n",
              "    </tr>\n",
              "    <tr>\n",
              "      <th>91530</th>\n",
              "      <td>Struggling to pay mortgage</td>\n",
              "      <td>I applied for a loan Modification and was offe...</td>\n",
              "    </tr>\n",
              "    <tr>\n",
              "      <th>245974</th>\n",
              "      <td>Unexpected or other fees</td>\n",
              "      <td>PayPal closed my account for no reason and wil...</td>\n",
              "    </tr>\n",
              "    <tr>\n",
              "      <th>356939</th>\n",
              "      <td>Advertising and marketing, including promotion...</td>\n",
              "      <td>I recieved an pre-approval offer for Discover ...</td>\n",
              "    </tr>\n",
              "    <tr>\n",
              "      <th>185910</th>\n",
              "      <td>Other transaction problem</td>\n",
              "      <td>On XX/XX/XXXX i purchased XXXX gyen on XX/XX/X...</td>\n",
              "    </tr>\n",
              "  </tbody>\n",
              "</table>\n",
              "</div>\n",
              "      <button class=\"colab-df-convert\" onclick=\"convertToInteractive('df-93905814-802b-44af-9067-c4988b8071ff')\"\n",
              "              title=\"Convert this dataframe to an interactive table.\"\n",
              "              style=\"display:none;\">\n",
              "        \n",
              "  <svg xmlns=\"http://www.w3.org/2000/svg\" height=\"24px\"viewBox=\"0 0 24 24\"\n",
              "       width=\"24px\">\n",
              "    <path d=\"M0 0h24v24H0V0z\" fill=\"none\"/>\n",
              "    <path d=\"M18.56 5.44l.94 2.06.94-2.06 2.06-.94-2.06-.94-.94-2.06-.94 2.06-2.06.94zm-11 1L8.5 8.5l.94-2.06 2.06-.94-2.06-.94L8.5 2.5l-.94 2.06-2.06.94zm10 10l.94 2.06.94-2.06 2.06-.94-2.06-.94-.94-2.06-.94 2.06-2.06.94z\"/><path d=\"M17.41 7.96l-1.37-1.37c-.4-.4-.92-.59-1.43-.59-.52 0-1.04.2-1.43.59L10.3 9.45l-7.72 7.72c-.78.78-.78 2.05 0 2.83L4 21.41c.39.39.9.59 1.41.59.51 0 1.02-.2 1.41-.59l7.78-7.78 2.81-2.81c.8-.78.8-2.07 0-2.86zM5.41 20L4 18.59l7.72-7.72 1.47 1.35L5.41 20z\"/>\n",
              "  </svg>\n",
              "      </button>\n",
              "      \n",
              "  <style>\n",
              "    .colab-df-container {\n",
              "      display:flex;\n",
              "      flex-wrap:wrap;\n",
              "      gap: 12px;\n",
              "    }\n",
              "\n",
              "    .colab-df-convert {\n",
              "      background-color: #E8F0FE;\n",
              "      border: none;\n",
              "      border-radius: 50%;\n",
              "      cursor: pointer;\n",
              "      display: none;\n",
              "      fill: #1967D2;\n",
              "      height: 32px;\n",
              "      padding: 0 0 0 0;\n",
              "      width: 32px;\n",
              "    }\n",
              "\n",
              "    .colab-df-convert:hover {\n",
              "      background-color: #E2EBFA;\n",
              "      box-shadow: 0px 1px 2px rgba(60, 64, 67, 0.3), 0px 1px 3px 1px rgba(60, 64, 67, 0.15);\n",
              "      fill: #174EA6;\n",
              "    }\n",
              "\n",
              "    [theme=dark] .colab-df-convert {\n",
              "      background-color: #3B4455;\n",
              "      fill: #D2E3FC;\n",
              "    }\n",
              "\n",
              "    [theme=dark] .colab-df-convert:hover {\n",
              "      background-color: #434B5C;\n",
              "      box-shadow: 0px 1px 3px 1px rgba(0, 0, 0, 0.15);\n",
              "      filter: drop-shadow(0px 1px 2px rgba(0, 0, 0, 0.3));\n",
              "      fill: #FFFFFF;\n",
              "    }\n",
              "  </style>\n",
              "\n",
              "      <script>\n",
              "        const buttonEl =\n",
              "          document.querySelector('#df-93905814-802b-44af-9067-c4988b8071ff button.colab-df-convert');\n",
              "        buttonEl.style.display =\n",
              "          google.colab.kernel.accessAllowed ? 'block' : 'none';\n",
              "\n",
              "        async function convertToInteractive(key) {\n",
              "          const element = document.querySelector('#df-93905814-802b-44af-9067-c4988b8071ff');\n",
              "          const dataTable =\n",
              "            await google.colab.kernel.invokeFunction('convertToInteractive',\n",
              "                                                     [key], {});\n",
              "          if (!dataTable) return;\n",
              "\n",
              "          const docLinkHtml = 'Like what you see? Visit the ' +\n",
              "            '<a target=\"_blank\" href=https://colab.research.google.com/notebooks/data_table.ipynb>data table notebook</a>'\n",
              "            + ' to learn more about interactive tables.';\n",
              "          element.innerHTML = '';\n",
              "          dataTable['output_type'] = 'display_data';\n",
              "          await google.colab.output.renderOutput(dataTable, element);\n",
              "          const docLink = document.createElement('div');\n",
              "          docLink.innerHTML = docLinkHtml;\n",
              "          element.appendChild(docLink);\n",
              "        }\n",
              "      </script>\n",
              "    </div>\n",
              "  </div>\n",
              "  "
            ]
          },
          "metadata": {},
          "execution_count": 18
        }
      ]
    },
    {
      "cell_type": "markdown",
      "source": [
        "## Assign the target values"
      ],
      "metadata": {
        "id": "wPdTZi3lqkr-"
      }
    },
    {
      "cell_type": "code",
      "source": [
        "## get target\n",
        "y_train = df_train[\"Issue\"].values\n",
        "y_test = df_test[\"Issue\"].values"
      ],
      "metadata": {
        "id": "47waj8ZWqRb2"
      },
      "execution_count": 19,
      "outputs": []
    },
    {
      "cell_type": "code",
      "source": [
        "y_train.shape\n"
      ],
      "metadata": {
        "colab": {
          "base_uri": "https://localhost:8080/"
        },
        "id": "zcvoMX0nrHD-",
        "outputId": "56b88fa4-c744-420b-e5b0-2a4abb4f7ccb"
      },
      "execution_count": 20,
      "outputs": [
        {
          "output_type": "execute_result",
          "data": {
            "text/plain": [
              "(294103,)"
            ]
          },
          "metadata": {},
          "execution_count": 20
        }
      ]
    },
    {
      "cell_type": "code",
      "source": [
        "y_test .shape"
      ],
      "metadata": {
        "colab": {
          "base_uri": "https://localhost:8080/"
        },
        "id": "bV_g5_cVrG_Q",
        "outputId": "e0e7227b-44a9-4927-9866-5dfb821e2f47"
      },
      "execution_count": 21,
      "outputs": [
        {
          "output_type": "execute_result",
          "data": {
            "text/plain": [
              "(73526,)"
            ]
          },
          "metadata": {},
          "execution_count": 21
        }
      ]
    },
    {
      "cell_type": "markdown",
      "source": [
        "# Pre Processing"
      ],
      "metadata": {
        "id": "z6JMJ0ygsOBK"
      }
    },
    {
      "cell_type": "code",
      "source": [
        "df_train.head()"
      ],
      "metadata": {
        "colab": {
          "base_uri": "https://localhost:8080/",
          "height": 206
        },
        "id": "Xdz5kt6oHzKN",
        "outputId": "777b46a5-5f99-4f3a-926e-4ec4760490cf"
      },
      "execution_count": 22,
      "outputs": [
        {
          "output_type": "execute_result",
          "data": {
            "text/plain": [
              "                                                    Issue  \\\n",
              "341585                                      Fraud or scam   \n",
              "65906       Problem with fraud alerts or security freezes   \n",
              "43975   Applying for a mortgage or refinancing an exis...   \n",
              "309058                                   Billing disputes   \n",
              "359286                         Managing the loan or lease   \n",
              "\n",
              "                                                Complaint  \n",
              "341585  On XX/XX/2021 I wired transferred {$20000.00} ...  \n",
              "65906   In XXXX 2016 XXXX XXXX closed all my checking ...  \n",
              "43975   I was in a modification process & Wellsfargo b...  \n",
              "309058  I signed up for a Home Depot credit card. Stup...  \n",
              "359286  I had gotten a XXXX Nissan Altima Coupe for my...  "
            ],
            "text/html": [
              "\n",
              "  <div id=\"df-86b39508-b07d-4f85-8770-537f3d17415f\">\n",
              "    <div class=\"colab-df-container\">\n",
              "      <div>\n",
              "<style scoped>\n",
              "    .dataframe tbody tr th:only-of-type {\n",
              "        vertical-align: middle;\n",
              "    }\n",
              "\n",
              "    .dataframe tbody tr th {\n",
              "        vertical-align: top;\n",
              "    }\n",
              "\n",
              "    .dataframe thead th {\n",
              "        text-align: right;\n",
              "    }\n",
              "</style>\n",
              "<table border=\"1\" class=\"dataframe\">\n",
              "  <thead>\n",
              "    <tr style=\"text-align: right;\">\n",
              "      <th></th>\n",
              "      <th>Issue</th>\n",
              "      <th>Complaint</th>\n",
              "    </tr>\n",
              "  </thead>\n",
              "  <tbody>\n",
              "    <tr>\n",
              "      <th>341585</th>\n",
              "      <td>Fraud or scam</td>\n",
              "      <td>On XX/XX/2021 I wired transferred {$20000.00} ...</td>\n",
              "    </tr>\n",
              "    <tr>\n",
              "      <th>65906</th>\n",
              "      <td>Problem with fraud alerts or security freezes</td>\n",
              "      <td>In XXXX 2016 XXXX XXXX closed all my checking ...</td>\n",
              "    </tr>\n",
              "    <tr>\n",
              "      <th>43975</th>\n",
              "      <td>Applying for a mortgage or refinancing an exis...</td>\n",
              "      <td>I was in a modification process &amp; Wellsfargo b...</td>\n",
              "    </tr>\n",
              "    <tr>\n",
              "      <th>309058</th>\n",
              "      <td>Billing disputes</td>\n",
              "      <td>I signed up for a Home Depot credit card. Stup...</td>\n",
              "    </tr>\n",
              "    <tr>\n",
              "      <th>359286</th>\n",
              "      <td>Managing the loan or lease</td>\n",
              "      <td>I had gotten a XXXX Nissan Altima Coupe for my...</td>\n",
              "    </tr>\n",
              "  </tbody>\n",
              "</table>\n",
              "</div>\n",
              "      <button class=\"colab-df-convert\" onclick=\"convertToInteractive('df-86b39508-b07d-4f85-8770-537f3d17415f')\"\n",
              "              title=\"Convert this dataframe to an interactive table.\"\n",
              "              style=\"display:none;\">\n",
              "        \n",
              "  <svg xmlns=\"http://www.w3.org/2000/svg\" height=\"24px\"viewBox=\"0 0 24 24\"\n",
              "       width=\"24px\">\n",
              "    <path d=\"M0 0h24v24H0V0z\" fill=\"none\"/>\n",
              "    <path d=\"M18.56 5.44l.94 2.06.94-2.06 2.06-.94-2.06-.94-.94-2.06-.94 2.06-2.06.94zm-11 1L8.5 8.5l.94-2.06 2.06-.94-2.06-.94L8.5 2.5l-.94 2.06-2.06.94zm10 10l.94 2.06.94-2.06 2.06-.94-2.06-.94-.94-2.06-.94 2.06-2.06.94z\"/><path d=\"M17.41 7.96l-1.37-1.37c-.4-.4-.92-.59-1.43-.59-.52 0-1.04.2-1.43.59L10.3 9.45l-7.72 7.72c-.78.78-.78 2.05 0 2.83L4 21.41c.39.39.9.59 1.41.59.51 0 1.02-.2 1.41-.59l7.78-7.78 2.81-2.81c.8-.78.8-2.07 0-2.86zM5.41 20L4 18.59l7.72-7.72 1.47 1.35L5.41 20z\"/>\n",
              "  </svg>\n",
              "      </button>\n",
              "      \n",
              "  <style>\n",
              "    .colab-df-container {\n",
              "      display:flex;\n",
              "      flex-wrap:wrap;\n",
              "      gap: 12px;\n",
              "    }\n",
              "\n",
              "    .colab-df-convert {\n",
              "      background-color: #E8F0FE;\n",
              "      border: none;\n",
              "      border-radius: 50%;\n",
              "      cursor: pointer;\n",
              "      display: none;\n",
              "      fill: #1967D2;\n",
              "      height: 32px;\n",
              "      padding: 0 0 0 0;\n",
              "      width: 32px;\n",
              "    }\n",
              "\n",
              "    .colab-df-convert:hover {\n",
              "      background-color: #E2EBFA;\n",
              "      box-shadow: 0px 1px 2px rgba(60, 64, 67, 0.3), 0px 1px 3px 1px rgba(60, 64, 67, 0.15);\n",
              "      fill: #174EA6;\n",
              "    }\n",
              "\n",
              "    [theme=dark] .colab-df-convert {\n",
              "      background-color: #3B4455;\n",
              "      fill: #D2E3FC;\n",
              "    }\n",
              "\n",
              "    [theme=dark] .colab-df-convert:hover {\n",
              "      background-color: #434B5C;\n",
              "      box-shadow: 0px 1px 3px 1px rgba(0, 0, 0, 0.15);\n",
              "      filter: drop-shadow(0px 1px 2px rgba(0, 0, 0, 0.3));\n",
              "      fill: #FFFFFF;\n",
              "    }\n",
              "  </style>\n",
              "\n",
              "      <script>\n",
              "        const buttonEl =\n",
              "          document.querySelector('#df-86b39508-b07d-4f85-8770-537f3d17415f button.colab-df-convert');\n",
              "        buttonEl.style.display =\n",
              "          google.colab.kernel.accessAllowed ? 'block' : 'none';\n",
              "\n",
              "        async function convertToInteractive(key) {\n",
              "          const element = document.querySelector('#df-86b39508-b07d-4f85-8770-537f3d17415f');\n",
              "          const dataTable =\n",
              "            await google.colab.kernel.invokeFunction('convertToInteractive',\n",
              "                                                     [key], {});\n",
              "          if (!dataTable) return;\n",
              "\n",
              "          const docLinkHtml = 'Like what you see? Visit the ' +\n",
              "            '<a target=\"_blank\" href=https://colab.research.google.com/notebooks/data_table.ipynb>data table notebook</a>'\n",
              "            + ' to learn more about interactive tables.';\n",
              "          element.innerHTML = '';\n",
              "          dataTable['output_type'] = 'display_data';\n",
              "          await google.colab.output.renderOutput(dataTable, element);\n",
              "          const docLink = document.createElement('div');\n",
              "          docLink.innerHTML = docLinkHtml;\n",
              "          element.appendChild(docLink);\n",
              "        }\n",
              "      </script>\n",
              "    </div>\n",
              "  </div>\n",
              "  "
            ]
          },
          "metadata": {},
          "execution_count": 22
        }
      ]
    },
    {
      "cell_type": "code",
      "source": [
        "\n",
        "\n",
        "def utils_preprocess_text(text, flg_stemm=False, flg_lemm=True, lst_stopwords=None):\n",
        "    ## clean (convert to lowercase and remove punctuations and  characters and then strip) \n",
        "    \n",
        "    text = re.sub(r'[^\\w\\s]', '', str(text).lower().strip())\n",
        "            \n",
        "    ## Tokenize (convert from string to list)\n",
        "    lst_text = text.split()    ## remove Stopwords\n",
        "    if lst_stopwords is not None:\n",
        "        lst_text = [word for word in lst_text if word not in \n",
        "                    lst_stopwords]\n",
        "            \n",
        "    ## back to string from list\n",
        "    text = \" \".join(lst_text)\n",
        "    return text"
      ],
      "metadata": {
        "id": "iXU1XiQjsO9O"
      },
      "execution_count": 23,
      "outputs": []
    },
    {
      "cell_type": "code",
      "source": [
        "pip install nltk"
      ],
      "metadata": {
        "colab": {
          "base_uri": "https://localhost:8080/"
        },
        "id": "DJTCRciHGzqk",
        "outputId": "94291bc4-f796-4d21-dd93-4e38aaebec22"
      },
      "execution_count": 24,
      "outputs": [
        {
          "output_type": "stream",
          "name": "stdout",
          "text": [
            "Requirement already satisfied: nltk in /usr/local/lib/python3.7/dist-packages (3.2.5)\n",
            "Requirement already satisfied: six in /usr/local/lib/python3.7/dist-packages (from nltk) (1.15.0)\n"
          ]
        }
      ]
    },
    {
      "cell_type": "code",
      "source": [
        "\n",
        "import nltk\n",
        "nltk.download('stopwords')\n",
        "#pip install  nltk\n",
        "import nltk\n",
        "from nltk.corpus import stopwords\n",
        "print(stopwords.words('english'))"
      ],
      "metadata": {
        "colab": {
          "base_uri": "https://localhost:8080/"
        },
        "id": "DPJ7bQs7s1Ft",
        "outputId": "a4aaed5b-574d-4565-807d-e570e5656ed5"
      },
      "execution_count": 25,
      "outputs": [
        {
          "output_type": "stream",
          "name": "stdout",
          "text": [
            "[nltk_data] Downloading package stopwords to /root/nltk_data...\n",
            "[nltk_data]   Unzipping corpora/stopwords.zip.\n",
            "['i', 'me', 'my', 'myself', 'we', 'our', 'ours', 'ourselves', 'you', \"you're\", \"you've\", \"you'll\", \"you'd\", 'your', 'yours', 'yourself', 'yourselves', 'he', 'him', 'his', 'himself', 'she', \"she's\", 'her', 'hers', 'herself', 'it', \"it's\", 'its', 'itself', 'they', 'them', 'their', 'theirs', 'themselves', 'what', 'which', 'who', 'whom', 'this', 'that', \"that'll\", 'these', 'those', 'am', 'is', 'are', 'was', 'were', 'be', 'been', 'being', 'have', 'has', 'had', 'having', 'do', 'does', 'did', 'doing', 'a', 'an', 'the', 'and', 'but', 'if', 'or', 'because', 'as', 'until', 'while', 'of', 'at', 'by', 'for', 'with', 'about', 'against', 'between', 'into', 'through', 'during', 'before', 'after', 'above', 'below', 'to', 'from', 'up', 'down', 'in', 'out', 'on', 'off', 'over', 'under', 'again', 'further', 'then', 'once', 'here', 'there', 'when', 'where', 'why', 'how', 'all', 'any', 'both', 'each', 'few', 'more', 'most', 'other', 'some', 'such', 'no', 'nor', 'not', 'only', 'own', 'same', 'so', 'than', 'too', 'very', 's', 't', 'can', 'will', 'just', 'don', \"don't\", 'should', \"should've\", 'now', 'd', 'll', 'm', 'o', 're', 've', 'y', 'ain', 'aren', \"aren't\", 'couldn', \"couldn't\", 'didn', \"didn't\", 'doesn', \"doesn't\", 'hadn', \"hadn't\", 'hasn', \"hasn't\", 'haven', \"haven't\", 'isn', \"isn't\", 'ma', 'mightn', \"mightn't\", 'mustn', \"mustn't\", 'needn', \"needn't\", 'shan', \"shan't\", 'shouldn', \"shouldn't\", 'wasn', \"wasn't\", 'weren', \"weren't\", 'won', \"won't\", 'wouldn', \"wouldn't\"]\n"
          ]
        }
      ]
    },
    {
      "cell_type": "code",
      "source": [
        "#import nltk\n",
        "#nltk.download('stopwords')"
      ],
      "metadata": {
        "id": "CwjrxI2tt182"
      },
      "execution_count": 26,
      "outputs": []
    },
    {
      "cell_type": "code",
      "source": [
        "#pip install  nltk\n",
        "#import nltk\n",
        "#from nltk.corpus import stopwords\n",
        "#print(stopwords.words('english'))"
      ],
      "metadata": {
        "id": "cE9L0etDsRfW"
      },
      "execution_count": 27,
      "outputs": []
    },
    {
      "cell_type": "code",
      "source": [
        "lst_stopwords = nltk.corpus.stopwords.words(\"english\")\n",
        "lst_stopwords"
      ],
      "metadata": {
        "id": "j_z17XwNIU7z"
      },
      "execution_count": null,
      "outputs": []
    },
    {
      "cell_type": "code",
      "source": [
        "df_train[\"text_clean\"] = df_train[\"Complaint\"].apply(lambda x: \n",
        "          utils_preprocess_text(x, flg_stemm=False, flg_lemm=True, \n",
        "          lst_stopwords=lst_stopwords))\n"
      ],
      "metadata": {
        "id": "jUVYVAs4HHb8"
      },
      "execution_count": 29,
      "outputs": []
    },
    {
      "cell_type": "code",
      "source": [
        "df_train.head()"
      ],
      "metadata": {
        "colab": {
          "base_uri": "https://localhost:8080/",
          "height": 424
        },
        "id": "pFyoRSqSHC4t",
        "outputId": "7f4bc0de-d14a-43c5-f8f3-5caf5914a4e1"
      },
      "execution_count": 30,
      "outputs": [
        {
          "output_type": "execute_result",
          "data": {
            "text/plain": [
              "                                                    Issue  \\\n",
              "341585                                      Fraud or scam   \n",
              "65906       Problem with fraud alerts or security freezes   \n",
              "43975   Applying for a mortgage or refinancing an exis...   \n",
              "309058                                   Billing disputes   \n",
              "359286                         Managing the loan or lease   \n",
              "...                                                   ...   \n",
              "110251                                           Late fee   \n",
              "53880       Problem with fraud alerts or security freezes   \n",
              "74676                       Struggling to repay your loan   \n",
              "355540                 False statements or representation   \n",
              "250580               Dealing with your lender or servicer   \n",
              "\n",
              "                                                Complaint  \\\n",
              "341585  On XX/XX/2021 I wired transferred {$20000.00} ...   \n",
              "65906   In XXXX 2016 XXXX XXXX closed all my checking ...   \n",
              "43975   I was in a modification process & Wellsfargo b...   \n",
              "309058  I signed up for a Home Depot credit card. Stup...   \n",
              "359286  I had gotten a XXXX Nissan Altima Coupe for my...   \n",
              "...                                                   ...   \n",
              "110251  My credit card issuer, Citi Cards, has charged...   \n",
              "53880   Made attempts to have fraud alert removed from...   \n",
              "74676   Copy of letter sent to Navient : XXXX XXXX XXX...   \n",
              "355540  I have tried to get the company to stop report...   \n",
              "250580  I have been really struggling with Vermont Stu...   \n",
              "\n",
              "                                               text_clean  \n",
              "341585  xxxx2021 wired transferred 2000000 wells fargo...  \n",
              "65906   xxxx 2016 xxxx xxxx closed checking savings ac...  \n",
              "43975   modification process wellsfargo bank purposely...  \n",
              "309058  signed home depot credit card stupidly gave ho...  \n",
              "359286  gotten xxxx nissan altima coupe daughter aroun...  \n",
              "...                                                   ...  \n",
              "110251  credit card issuer citi cards charged late fee...  \n",
              "53880   made attempts fraud alert removed major credit...  \n",
              "74676   copy letter sent navient xxxx xxxx xxxx xxxx x...  \n",
              "355540  tried get company stop reporting incorrect inf...  \n",
              "250580  really struggling vermont student assistance c...  \n",
              "\n",
              "[294103 rows x 3 columns]"
            ],
            "text/html": [
              "\n",
              "  <div id=\"df-89be4796-4793-4199-af5a-dee021506f4f\">\n",
              "    <div class=\"colab-df-container\">\n",
              "      <div>\n",
              "<style scoped>\n",
              "    .dataframe tbody tr th:only-of-type {\n",
              "        vertical-align: middle;\n",
              "    }\n",
              "\n",
              "    .dataframe tbody tr th {\n",
              "        vertical-align: top;\n",
              "    }\n",
              "\n",
              "    .dataframe thead th {\n",
              "        text-align: right;\n",
              "    }\n",
              "</style>\n",
              "<table border=\"1\" class=\"dataframe\">\n",
              "  <thead>\n",
              "    <tr style=\"text-align: right;\">\n",
              "      <th></th>\n",
              "      <th>Issue</th>\n",
              "      <th>Complaint</th>\n",
              "      <th>text_clean</th>\n",
              "    </tr>\n",
              "  </thead>\n",
              "  <tbody>\n",
              "    <tr>\n",
              "      <th>341585</th>\n",
              "      <td>Fraud or scam</td>\n",
              "      <td>On XX/XX/2021 I wired transferred {$20000.00} ...</td>\n",
              "      <td>xxxx2021 wired transferred 2000000 wells fargo...</td>\n",
              "    </tr>\n",
              "    <tr>\n",
              "      <th>65906</th>\n",
              "      <td>Problem with fraud alerts or security freezes</td>\n",
              "      <td>In XXXX 2016 XXXX XXXX closed all my checking ...</td>\n",
              "      <td>xxxx 2016 xxxx xxxx closed checking savings ac...</td>\n",
              "    </tr>\n",
              "    <tr>\n",
              "      <th>43975</th>\n",
              "      <td>Applying for a mortgage or refinancing an exis...</td>\n",
              "      <td>I was in a modification process &amp; Wellsfargo b...</td>\n",
              "      <td>modification process wellsfargo bank purposely...</td>\n",
              "    </tr>\n",
              "    <tr>\n",
              "      <th>309058</th>\n",
              "      <td>Billing disputes</td>\n",
              "      <td>I signed up for a Home Depot credit card. Stup...</td>\n",
              "      <td>signed home depot credit card stupidly gave ho...</td>\n",
              "    </tr>\n",
              "    <tr>\n",
              "      <th>359286</th>\n",
              "      <td>Managing the loan or lease</td>\n",
              "      <td>I had gotten a XXXX Nissan Altima Coupe for my...</td>\n",
              "      <td>gotten xxxx nissan altima coupe daughter aroun...</td>\n",
              "    </tr>\n",
              "    <tr>\n",
              "      <th>...</th>\n",
              "      <td>...</td>\n",
              "      <td>...</td>\n",
              "      <td>...</td>\n",
              "    </tr>\n",
              "    <tr>\n",
              "      <th>110251</th>\n",
              "      <td>Late fee</td>\n",
              "      <td>My credit card issuer, Citi Cards, has charged...</td>\n",
              "      <td>credit card issuer citi cards charged late fee...</td>\n",
              "    </tr>\n",
              "    <tr>\n",
              "      <th>53880</th>\n",
              "      <td>Problem with fraud alerts or security freezes</td>\n",
              "      <td>Made attempts to have fraud alert removed from...</td>\n",
              "      <td>made attempts fraud alert removed major credit...</td>\n",
              "    </tr>\n",
              "    <tr>\n",
              "      <th>74676</th>\n",
              "      <td>Struggling to repay your loan</td>\n",
              "      <td>Copy of letter sent to Navient : XXXX XXXX XXX...</td>\n",
              "      <td>copy letter sent navient xxxx xxxx xxxx xxxx x...</td>\n",
              "    </tr>\n",
              "    <tr>\n",
              "      <th>355540</th>\n",
              "      <td>False statements or representation</td>\n",
              "      <td>I have tried to get the company to stop report...</td>\n",
              "      <td>tried get company stop reporting incorrect inf...</td>\n",
              "    </tr>\n",
              "    <tr>\n",
              "      <th>250580</th>\n",
              "      <td>Dealing with your lender or servicer</td>\n",
              "      <td>I have been really struggling with Vermont Stu...</td>\n",
              "      <td>really struggling vermont student assistance c...</td>\n",
              "    </tr>\n",
              "  </tbody>\n",
              "</table>\n",
              "<p>294103 rows × 3 columns</p>\n",
              "</div>\n",
              "      <button class=\"colab-df-convert\" onclick=\"convertToInteractive('df-89be4796-4793-4199-af5a-dee021506f4f')\"\n",
              "              title=\"Convert this dataframe to an interactive table.\"\n",
              "              style=\"display:none;\">\n",
              "        \n",
              "  <svg xmlns=\"http://www.w3.org/2000/svg\" height=\"24px\"viewBox=\"0 0 24 24\"\n",
              "       width=\"24px\">\n",
              "    <path d=\"M0 0h24v24H0V0z\" fill=\"none\"/>\n",
              "    <path d=\"M18.56 5.44l.94 2.06.94-2.06 2.06-.94-2.06-.94-.94-2.06-.94 2.06-2.06.94zm-11 1L8.5 8.5l.94-2.06 2.06-.94-2.06-.94L8.5 2.5l-.94 2.06-2.06.94zm10 10l.94 2.06.94-2.06 2.06-.94-2.06-.94-.94-2.06-.94 2.06-2.06.94z\"/><path d=\"M17.41 7.96l-1.37-1.37c-.4-.4-.92-.59-1.43-.59-.52 0-1.04.2-1.43.59L10.3 9.45l-7.72 7.72c-.78.78-.78 2.05 0 2.83L4 21.41c.39.39.9.59 1.41.59.51 0 1.02-.2 1.41-.59l7.78-7.78 2.81-2.81c.8-.78.8-2.07 0-2.86zM5.41 20L4 18.59l7.72-7.72 1.47 1.35L5.41 20z\"/>\n",
              "  </svg>\n",
              "      </button>\n",
              "      \n",
              "  <style>\n",
              "    .colab-df-container {\n",
              "      display:flex;\n",
              "      flex-wrap:wrap;\n",
              "      gap: 12px;\n",
              "    }\n",
              "\n",
              "    .colab-df-convert {\n",
              "      background-color: #E8F0FE;\n",
              "      border: none;\n",
              "      border-radius: 50%;\n",
              "      cursor: pointer;\n",
              "      display: none;\n",
              "      fill: #1967D2;\n",
              "      height: 32px;\n",
              "      padding: 0 0 0 0;\n",
              "      width: 32px;\n",
              "    }\n",
              "\n",
              "    .colab-df-convert:hover {\n",
              "      background-color: #E2EBFA;\n",
              "      box-shadow: 0px 1px 2px rgba(60, 64, 67, 0.3), 0px 1px 3px 1px rgba(60, 64, 67, 0.15);\n",
              "      fill: #174EA6;\n",
              "    }\n",
              "\n",
              "    [theme=dark] .colab-df-convert {\n",
              "      background-color: #3B4455;\n",
              "      fill: #D2E3FC;\n",
              "    }\n",
              "\n",
              "    [theme=dark] .colab-df-convert:hover {\n",
              "      background-color: #434B5C;\n",
              "      box-shadow: 0px 1px 3px 1px rgba(0, 0, 0, 0.15);\n",
              "      filter: drop-shadow(0px 1px 2px rgba(0, 0, 0, 0.3));\n",
              "      fill: #FFFFFF;\n",
              "    }\n",
              "  </style>\n",
              "\n",
              "      <script>\n",
              "        const buttonEl =\n",
              "          document.querySelector('#df-89be4796-4793-4199-af5a-dee021506f4f button.colab-df-convert');\n",
              "        buttonEl.style.display =\n",
              "          google.colab.kernel.accessAllowed ? 'block' : 'none';\n",
              "\n",
              "        async function convertToInteractive(key) {\n",
              "          const element = document.querySelector('#df-89be4796-4793-4199-af5a-dee021506f4f');\n",
              "          const dataTable =\n",
              "            await google.colab.kernel.invokeFunction('convertToInteractive',\n",
              "                                                     [key], {});\n",
              "          if (!dataTable) return;\n",
              "\n",
              "          const docLinkHtml = 'Like what you see? Visit the ' +\n",
              "            '<a target=\"_blank\" href=https://colab.research.google.com/notebooks/data_table.ipynb>data table notebook</a>'\n",
              "            + ' to learn more about interactive tables.';\n",
              "          element.innerHTML = '';\n",
              "          dataTable['output_type'] = 'display_data';\n",
              "          await google.colab.output.renderOutput(dataTable, element);\n",
              "          const docLink = document.createElement('div');\n",
              "          docLink.innerHTML = docLinkHtml;\n",
              "          element.appendChild(docLink);\n",
              "        }\n",
              "      </script>\n",
              "    </div>\n",
              "  </div>\n",
              "  "
            ]
          },
          "metadata": {},
          "execution_count": 30
        }
      ]
    },
    {
      "cell_type": "code",
      "source": [
        ""
      ],
      "metadata": {
        "id": "6WrfuEJuHC00"
      },
      "execution_count": 30,
      "outputs": []
    },
    {
      "cell_type": "code",
      "source": [
        ""
      ],
      "metadata": {
        "id": "OtUEkQFAHCvt"
      },
      "execution_count": 30,
      "outputs": []
    },
    {
      "cell_type": "code",
      "source": [
        "## Count (classic BoW)  # notte 10k word limit\n",
        "#vectorizer = feature_extraction.text.CountVectorizer(max_features=10000, ngram_range=(1,2))"
      ],
      "metadata": {
        "id": "z0t1yNBEsRb4"
      },
      "execution_count": 31,
      "outputs": []
    },
    {
      "cell_type": "code",
      "source": [
        "## Tf-Idf (advanced variant of BoW)\n",
        "vectorizer = feature_extraction.text.TfidfVectorizer(max_features=10000, ngram_range=(1,2))"
      ],
      "metadata": {
        "id": "MtGwfEgbsRYN"
      },
      "execution_count": 32,
      "outputs": []
    },
    {
      "cell_type": "code",
      "source": [
        "classifier = naive_bayes.MultinomialNB()"
      ],
      "metadata": {
        "id": "0OY4ndx-uih9"
      },
      "execution_count": 33,
      "outputs": []
    },
    {
      "cell_type": "code",
      "source": [
        ""
      ],
      "metadata": {
        "id": "3LYSlcq0uid0"
      },
      "execution_count": 33,
      "outputs": []
    },
    {
      "cell_type": "markdown",
      "source": [
        "We can refit the vectorizer on the corpus by giving this new set of words as input. That will produce a smaller feature matrix and a shorter vocabulary."
      ],
      "metadata": {
        "id": "tCqraTRpFTbW"
      }
    },
    {
      "cell_type": "code",
      "source": [
        "## pipeline\n",
        "model = pipeline.Pipeline([(\"vectorizer\", vectorizer),  \n",
        "                           (\"classifier\", classifier)])"
      ],
      "metadata": {
        "id": "bACJs3BSuiai"
      },
      "execution_count": 34,
      "outputs": []
    },
    {
      "cell_type": "code",
      "source": [
        "corpus = df_train[\"text_clean\"]"
      ],
      "metadata": {
        "id": "LsQXdW4rFh-K"
      },
      "execution_count": 35,
      "outputs": []
    },
    {
      "cell_type": "code",
      "source": [
        "vectorizer.fit(corpus)\n",
        "X_train = vectorizer.transform(corpus)\n",
        "dic_vocabulary = vectorizer.vocabulary_"
      ],
      "metadata": {
        "id": "IS0eIJJCuiWv"
      },
      "execution_count": 36,
      "outputs": []
    },
    {
      "cell_type": "markdown",
      "source": [
        "We skip reducing the the inpust via a Chi Sq measure"
      ],
      "metadata": {
        "id": "XXF8w1QSR0Ko"
      }
    },
    {
      "cell_type": "code",
      "source": [
        "classifier = naive_bayes.MultinomialNB()"
      ],
      "metadata": {
        "id": "rPA1lFydR5dz"
      },
      "execution_count": 37,
      "outputs": []
    },
    {
      "cell_type": "code",
      "source": [
        "## pipeline\n",
        "model = pipeline.Pipeline([(\"vectorizer\", vectorizer),  \n",
        "                           (\"classifier\", classifier)])"
      ],
      "metadata": {
        "id": "rmZwyjMER-Av"
      },
      "execution_count": 38,
      "outputs": []
    },
    {
      "cell_type": "code",
      "source": [
        "## train classifier\n",
        "model[\"classifier\"].fit(X_train, y_train)"
      ],
      "metadata": {
        "colab": {
          "base_uri": "https://localhost:8080/"
        },
        "id": "zJekojO1R98v",
        "outputId": "0df53306-5340-4173-ca37-792eaa37b388"
      },
      "execution_count": 39,
      "outputs": [
        {
          "output_type": "execute_result",
          "data": {
            "text/plain": [
              "MultinomialNB()"
            ]
          },
          "metadata": {},
          "execution_count": 39
        }
      ]
    },
    {
      "cell_type": "code",
      "source": [
        "df_test.head()"
      ],
      "metadata": {
        "colab": {
          "base_uri": "https://localhost:8080/",
          "height": 206
        },
        "id": "PRBAAI5pSO8A",
        "outputId": "9b789f7f-a39a-4783-9cc3-41a177f613d9"
      },
      "execution_count": 42,
      "outputs": [
        {
          "output_type": "execute_result",
          "data": {
            "text/plain": [
              "                                                    Issue  \\\n",
              "27646                 Problem with a purchase or transfer   \n",
              "91530                          Struggling to pay mortgage   \n",
              "245974                           Unexpected or other fees   \n",
              "356939  Advertising and marketing, including promotion...   \n",
              "185910                          Other transaction problem   \n",
              "\n",
              "                                                Complaint  \n",
              "27646   I, the consumer am aware and have proof that B...  \n",
              "91530   I applied for a loan Modification and was offe...  \n",
              "245974  PayPal closed my account for no reason and wil...  \n",
              "356939  I recieved an pre-approval offer for Discover ...  \n",
              "185910  On XX/XX/XXXX i purchased XXXX gyen on XX/XX/X...  "
            ],
            "text/html": [
              "\n",
              "  <div id=\"df-0745b4bb-6025-41e5-8560-d8642b34c106\">\n",
              "    <div class=\"colab-df-container\">\n",
              "      <div>\n",
              "<style scoped>\n",
              "    .dataframe tbody tr th:only-of-type {\n",
              "        vertical-align: middle;\n",
              "    }\n",
              "\n",
              "    .dataframe tbody tr th {\n",
              "        vertical-align: top;\n",
              "    }\n",
              "\n",
              "    .dataframe thead th {\n",
              "        text-align: right;\n",
              "    }\n",
              "</style>\n",
              "<table border=\"1\" class=\"dataframe\">\n",
              "  <thead>\n",
              "    <tr style=\"text-align: right;\">\n",
              "      <th></th>\n",
              "      <th>Issue</th>\n",
              "      <th>Complaint</th>\n",
              "    </tr>\n",
              "  </thead>\n",
              "  <tbody>\n",
              "    <tr>\n",
              "      <th>27646</th>\n",
              "      <td>Problem with a purchase or transfer</td>\n",
              "      <td>I, the consumer am aware and have proof that B...</td>\n",
              "    </tr>\n",
              "    <tr>\n",
              "      <th>91530</th>\n",
              "      <td>Struggling to pay mortgage</td>\n",
              "      <td>I applied for a loan Modification and was offe...</td>\n",
              "    </tr>\n",
              "    <tr>\n",
              "      <th>245974</th>\n",
              "      <td>Unexpected or other fees</td>\n",
              "      <td>PayPal closed my account for no reason and wil...</td>\n",
              "    </tr>\n",
              "    <tr>\n",
              "      <th>356939</th>\n",
              "      <td>Advertising and marketing, including promotion...</td>\n",
              "      <td>I recieved an pre-approval offer for Discover ...</td>\n",
              "    </tr>\n",
              "    <tr>\n",
              "      <th>185910</th>\n",
              "      <td>Other transaction problem</td>\n",
              "      <td>On XX/XX/XXXX i purchased XXXX gyen on XX/XX/X...</td>\n",
              "    </tr>\n",
              "  </tbody>\n",
              "</table>\n",
              "</div>\n",
              "      <button class=\"colab-df-convert\" onclick=\"convertToInteractive('df-0745b4bb-6025-41e5-8560-d8642b34c106')\"\n",
              "              title=\"Convert this dataframe to an interactive table.\"\n",
              "              style=\"display:none;\">\n",
              "        \n",
              "  <svg xmlns=\"http://www.w3.org/2000/svg\" height=\"24px\"viewBox=\"0 0 24 24\"\n",
              "       width=\"24px\">\n",
              "    <path d=\"M0 0h24v24H0V0z\" fill=\"none\"/>\n",
              "    <path d=\"M18.56 5.44l.94 2.06.94-2.06 2.06-.94-2.06-.94-.94-2.06-.94 2.06-2.06.94zm-11 1L8.5 8.5l.94-2.06 2.06-.94-2.06-.94L8.5 2.5l-.94 2.06-2.06.94zm10 10l.94 2.06.94-2.06 2.06-.94-2.06-.94-.94-2.06-.94 2.06-2.06.94z\"/><path d=\"M17.41 7.96l-1.37-1.37c-.4-.4-.92-.59-1.43-.59-.52 0-1.04.2-1.43.59L10.3 9.45l-7.72 7.72c-.78.78-.78 2.05 0 2.83L4 21.41c.39.39.9.59 1.41.59.51 0 1.02-.2 1.41-.59l7.78-7.78 2.81-2.81c.8-.78.8-2.07 0-2.86zM5.41 20L4 18.59l7.72-7.72 1.47 1.35L5.41 20z\"/>\n",
              "  </svg>\n",
              "      </button>\n",
              "      \n",
              "  <style>\n",
              "    .colab-df-container {\n",
              "      display:flex;\n",
              "      flex-wrap:wrap;\n",
              "      gap: 12px;\n",
              "    }\n",
              "\n",
              "    .colab-df-convert {\n",
              "      background-color: #E8F0FE;\n",
              "      border: none;\n",
              "      border-radius: 50%;\n",
              "      cursor: pointer;\n",
              "      display: none;\n",
              "      fill: #1967D2;\n",
              "      height: 32px;\n",
              "      padding: 0 0 0 0;\n",
              "      width: 32px;\n",
              "    }\n",
              "\n",
              "    .colab-df-convert:hover {\n",
              "      background-color: #E2EBFA;\n",
              "      box-shadow: 0px 1px 2px rgba(60, 64, 67, 0.3), 0px 1px 3px 1px rgba(60, 64, 67, 0.15);\n",
              "      fill: #174EA6;\n",
              "    }\n",
              "\n",
              "    [theme=dark] .colab-df-convert {\n",
              "      background-color: #3B4455;\n",
              "      fill: #D2E3FC;\n",
              "    }\n",
              "\n",
              "    [theme=dark] .colab-df-convert:hover {\n",
              "      background-color: #434B5C;\n",
              "      box-shadow: 0px 1px 3px 1px rgba(0, 0, 0, 0.15);\n",
              "      filter: drop-shadow(0px 1px 2px rgba(0, 0, 0, 0.3));\n",
              "      fill: #FFFFFF;\n",
              "    }\n",
              "  </style>\n",
              "\n",
              "      <script>\n",
              "        const buttonEl =\n",
              "          document.querySelector('#df-0745b4bb-6025-41e5-8560-d8642b34c106 button.colab-df-convert');\n",
              "        buttonEl.style.display =\n",
              "          google.colab.kernel.accessAllowed ? 'block' : 'none';\n",
              "\n",
              "        async function convertToInteractive(key) {\n",
              "          const element = document.querySelector('#df-0745b4bb-6025-41e5-8560-d8642b34c106');\n",
              "          const dataTable =\n",
              "            await google.colab.kernel.invokeFunction('convertToInteractive',\n",
              "                                                     [key], {});\n",
              "          if (!dataTable) return;\n",
              "\n",
              "          const docLinkHtml = 'Like what you see? Visit the ' +\n",
              "            '<a target=\"_blank\" href=https://colab.research.google.com/notebooks/data_table.ipynb>data table notebook</a>'\n",
              "            + ' to learn more about interactive tables.';\n",
              "          element.innerHTML = '';\n",
              "          dataTable['output_type'] = 'display_data';\n",
              "          await google.colab.output.renderOutput(dataTable, element);\n",
              "          const docLink = document.createElement('div');\n",
              "          docLink.innerHTML = docLinkHtml;\n",
              "          element.appendChild(docLink);\n",
              "        }\n",
              "      </script>\n",
              "    </div>\n",
              "  </div>\n",
              "  "
            ]
          },
          "metadata": {},
          "execution_count": 42
        }
      ]
    },
    {
      "cell_type": "code",
      "source": [
        "## test\n",
        "X_test = df_test[\"Complaint\"].values\n",
        "predicted = model.predict(X_test)\n",
        "predicted_prob = model.predict_proba(X_test)"
      ],
      "metadata": {
        "id": "o-3Xh8nAR95h"
      },
      "execution_count": 44,
      "outputs": []
    },
    {
      "cell_type": "markdown",
      "source": [
        "## Metrics"
      ],
      "metadata": {
        "id": "HG7J8udFSz0W"
      }
    },
    {
      "cell_type": "code",
      "source": [
        "classes = np.unique(y_test)\n",
        "y_test_array = pd.get_dummies(y_test, drop_first=False).values"
      ],
      "metadata": {
        "id": "hfwg-1lRSI7P"
      },
      "execution_count": 45,
      "outputs": []
    },
    {
      "cell_type": "code",
      "source": [
        "## Accuracy, Precision, Recall\n",
        "accuracy = metrics.accuracy_score(y_test, predicted)\n",
        "auc = metrics.roc_auc_score(y_test, predicted_prob, \n",
        "                            multi_class=\"ovr\")\n",
        "print(\"Accuracy:\",  round(accuracy,2))\n",
        "print(\"Auc:\", round(auc,2))\n",
        "print(\"Detail:\")\n",
        "print(metrics.classification_report(y_test, predicted))"
      ],
      "metadata": {
        "colab": {
          "base_uri": "https://localhost:8080/"
        },
        "id": "vYzVN3l0S_XJ",
        "outputId": "34e7a0aa-fc50-49d8-b25f-40010e218648"
      },
      "execution_count": 46,
      "outputs": [
        {
          "output_type": "stream",
          "name": "stdout",
          "text": [
            "Accuracy: 0.41\n",
            "Auc: 0.89\n",
            "Detail:\n"
          ]
        },
        {
          "output_type": "stream",
          "name": "stderr",
          "text": [
            "/usr/local/lib/python3.7/dist-packages/sklearn/metrics/_classification.py:1318: UndefinedMetricWarning: Precision and F-score are ill-defined and being set to 0.0 in labels with no predicted samples. Use `zero_division` parameter to control this behavior.\n",
            "  _warn_prf(average, modifier, msg_start, len(result))\n",
            "/usr/local/lib/python3.7/dist-packages/sklearn/metrics/_classification.py:1318: UndefinedMetricWarning: Precision and F-score are ill-defined and being set to 0.0 in labels with no predicted samples. Use `zero_division` parameter to control this behavior.\n",
            "  _warn_prf(average, modifier, msg_start, len(result))\n"
          ]
        },
        {
          "output_type": "stream",
          "name": "stdout",
          "text": [
            "                                                                                  precision    recall  f1-score   support\n",
            "\n",
            "                                                            APR or interest rate       0.00      0.00      0.00       156\n",
            "                                         Account opening, closing, or management       0.34      0.37      0.35      1237\n",
            "                                                                    Adding money       0.00      0.00      0.00        25\n",
            "                                                                     Advertising       0.00      0.00      0.00        34\n",
            "                                                       Advertising and marketing       0.00      0.00      0.00       162\n",
            "                         Advertising and marketing, including promotional offers       0.47      0.42      0.45       850\n",
            "                                           Advertising, marketing or disclosures       0.00      0.00      0.00         7\n",
            "                                                    Application processing delay       0.00      0.00      0.00        25\n",
            "                                        Application, originator, mortgage broker       0.39      0.01      0.02       732\n",
            "                                          Applied for loan/did not receive money       0.00      0.00      0.00        16\n",
            "                     Applying for a mortgage or refinancing an existing mortgage       0.44      0.66      0.53      1771\n",
            "                                                                     Arbitration       0.00      0.00      0.00        16\n",
            "                                               Attempts to collect debt not owed       0.52      0.02      0.05       465\n",
            "                                                                Balance transfer       0.00      0.00      0.00        53\n",
            "                                                            Balance transfer fee       0.00      0.00      0.00        13\n",
            "                                                                      Bankruptcy       0.00      0.00      0.00        24\n",
            "                                                                Billing disputes       0.47      0.01      0.02       624\n",
            "                                                               Billing statement       0.00      0.00      0.00       118\n",
            "                                                            Can't contact lender       0.00      0.00      0.00        80\n",
            "                                                Can't contact lender or servicer       0.00      0.00      0.00        65\n",
            "                                                             Can't repay my loan       0.69      0.05      0.10       581\n",
            "                                              Can't stop charges to bank account       0.00      0.00      0.00        32\n",
            "                                   Can't stop withdrawals from your bank account       0.00      0.00      0.00        48\n",
            "                                                                    Cash advance       0.00      0.00      0.00        13\n",
            "                                                                Cash advance fee       0.00      0.00      0.00         7\n",
            "                                              Charged bank acct wrong day or amt       0.00      0.00      0.00        23\n",
            "                                        Charged fees or interest I didn't expect       0.00      0.00      0.00       211\n",
            "                                      Charged fees or interest you didn't expect       0.42      0.21      0.28       625\n",
            "                                                              Closing an account       0.39      0.68      0.50      1165\n",
            "                                                           Closing on a mortgage       0.49      0.26      0.34      1175\n",
            "                                                            Closing your account       0.48      0.36      0.41       989\n",
            "                                                      Closing/Cancelling account       0.00      0.00      0.00       297\n",
            "                                                           Communication tactics       0.40      0.11      0.17       409\n",
            "                                Confusing or misleading advertising or marketing       0.00      0.00      0.00       107\n",
            "                                                Confusing or missing disclosures       0.00      0.00      0.00       137\n",
            "                                           Cont'd attempts collect debt not owed       0.00      0.00      0.00       370\n",
            "                                                              Convenience checks       0.00      0.00      0.00        10\n",
            "                                        Credit card protection / Debt protection       0.00      0.00      0.00       136\n",
            "                                                  Credit decision / Underwriting       0.00      0.00      0.00       251\n",
            "                                                            Credit determination       0.00      0.00      0.00        98\n",
            "                                                            Credit limit changed       0.00      0.00      0.00        12\n",
            "                                                   Credit line increase/decrease       0.00      0.00      0.00        98\n",
            "                                        Credit monitoring or identity protection       0.00      0.00      0.00       215\n",
            "                         Credit monitoring or identity theft protection services       0.53      0.16      0.25       763\n",
            "                                        Credit reporting company's investigation       0.45      0.70      0.55      1163\n",
            "                                           Customer service / Customer relations       0.00      0.00      0.00       177\n",
            "                                             Customer service/Customer relations       0.00      0.00      0.00        10\n",
            "                                              Dealing with my lender or servicer       0.41      0.18      0.26      1634\n",
            "                                            Dealing with your lender or servicer       0.48      0.86      0.62      3011\n",
            "                                                              Delinquent account       0.00      0.00      0.00       169\n",
            "                                                        Deposits and withdrawals       0.45      0.21      0.29       718\n",
            "                                                 Disclosure verification of debt       0.47      0.36      0.41      1504\n",
            "                                                                  Excessive fees       0.00      0.00      0.00        32\n",
            "                                              False statements or representation       0.32      0.61      0.42      3470\n",
            "                                                                            Fees       0.00      0.00      0.00        17\n",
            "                                                                Fees or interest       0.31      0.77      0.44      1531\n",
            "                                                     Forbearance / Workout plans       0.00      0.00      0.00        18\n",
            "                                                                   Fraud or scam       0.30      0.69      0.42      1601\n",
            "                                                           Getting a credit card       0.37      0.52      0.43      1109\n",
            "                                                        Getting a line of credit       0.00      0.00      0.00       100\n",
            "                                                                  Getting a loan       0.00      0.00      0.00       140\n",
            "                                                         Getting a loan or lease       0.56      0.11      0.19       419\n",
            "                                                                Getting the loan       0.00      0.00      0.00       154\n",
            "                                           Identity theft / Fraud / Embezzlement       0.00      0.00      0.00       302\n",
            "                          Identity theft protection or other monitoring services       0.00      0.00      0.00        75\n",
            "                                             Improper contact or sharing of info       0.46      0.05      0.10       604\n",
            "                                                Improper use of my credit report       0.69      0.15      0.24       284\n",
            "                                                     Improper use of your report       0.56      0.31      0.40       404\n",
            "                                                         Incorrect exchange rate       0.00      0.00      0.00         7\n",
            "                                          Incorrect information on credit report       0.33      0.00      0.01       346\n",
            "                                            Incorrect information on your report       0.40      0.05      0.10       346\n",
            "                                           Incorrect/missing disclosures or info       0.00      0.00      0.00        10\n",
            "                                                                        Late fee       0.00      0.00      0.00       152\n",
            "                                          Lender repossessed or sold the vehicle       0.00      0.00      0.00         9\n",
            "                                        Loan modification,collection,foreclosure       0.49      0.57      0.52      2204\n",
            "                                    Loan payment wasn't credited to your account       0.00      0.00      0.00        47\n",
            "                                        Loan servicing, payments, escrow account       0.52      0.78      0.62      2957\n",
            "                                                            Lost or stolen check       0.00      0.00      0.00        29\n",
            "                                                      Lost or stolen money order       0.00      0.00      0.00        23\n",
            "                                        Making/receiving payments, sending money       0.00      0.00      0.00       279\n",
            "                                                             Managing an account       0.00      0.00      0.00       410\n",
            "                                                      Managing the loan or lease       0.37      0.63      0.47      2077\n",
            "                                           Managing, opening, or closing account       0.00      0.00      0.00        78\n",
            "                        Managing, opening, or closing your mobile wallet account       0.70      0.36      0.47       519\n",
            "                                           Money was not available when promised       0.53      0.25      0.34       589\n",
            " Money was taken from your bank account on the wrong day or for the wrong amount       0.00      0.00      0.00        41\n",
            "                                                              Opening an account       0.69      0.48      0.57       988\n",
            "                                                                           Other       0.00      0.00      0.00       407\n",
            "                                              Other features, terms, or problems       0.26      0.34      0.29      1663\n",
            "                                                                       Other fee       0.00      0.00      0.00       106\n",
            "                                                            Other service issues       0.00      0.00      0.00        23\n",
            "                                                           Other service problem       0.00      0.00      0.00       220\n",
            "                                                        Other transaction issues       0.00      0.00      0.00       102\n",
            "                                                       Other transaction problem       0.26      0.16      0.20       813\n",
            "                                         Overdraft, savings, or rewards features       0.00      0.00      0.00         8\n",
            "                                                                   Overlimit fee       0.00      0.00      0.00         5\n",
            "                                                    Payment to acct not credited       0.00      0.00      0.00        33\n",
            "                                                                  Payoff process       0.00      0.00      0.00       104\n",
            "                                                                         Privacy       0.00      0.00      0.00        21\n",
            "                                                            Problem adding money       0.00      0.00      0.00        69\n",
            "                                          Problem caused by your funds being low       0.38      0.53      0.44       575\n",
            "                                    Problem getting a card or closing an account       0.65      0.12      0.20       269\n",
            "                                                    Problem when making payments       0.47      0.40      0.43      1559\n",
            "                   Problem with a company's investigation into an existing issue       0.00      0.00      0.00       220\n",
            "Problem with a credit reporting company's investigation into an existing problem       0.78      0.06      0.11       247\n",
            "                    Problem with a lender or other company charging your account       0.29      0.21      0.24       995\n",
            "                                             Problem with a purchase or transfer       0.40      0.07      0.12       403\n",
            "                                 Problem with a purchase shown on your statement       0.37      0.85      0.52      3252\n",
            "                             Problem with additional add-on products or services       0.00      0.00      0.00        92\n",
            "                                                       Problem with cash advance       0.00      0.00      0.00        13\n",
            "                                                   Problem with customer service       0.00      0.00      0.00       153\n",
            "                                   Problem with fraud alerts or security freezes       0.59      0.80      0.68      1107\n",
            "                                                          Problem with overdraft       0.00      0.00      0.00        10\n",
            "                          Problem with the payoff process at the end of the loan       0.00      0.00      0.00       245\n",
            "                                        Problems at the end of the loan or lease       0.66      0.19      0.29       657\n",
            "                                           Problems caused by my funds being low       0.68      0.06      0.10       418\n",
            "                                             Problems when you are unable to pay       1.00      0.00      0.00       497\n",
            "                                              Received a loan I didn't apply for       0.00      0.00      0.00        41\n",
            "                                            Received a loan you didn't apply for       0.00      0.00      0.00        57\n",
            "                                                                         Rewards       0.00      0.00      0.00       193\n",
            "                                                                 Sale of account       0.00      0.00      0.00        16\n",
            "                                                    Settlement process and costs       0.00      0.00      0.00       457\n",
            "                                                    Shopping for a loan or lease       0.00      0.00      0.00       123\n",
            "                                                      Struggling to pay mortgage       0.55      0.70      0.61      2803\n",
            "                                                     Struggling to pay your bill       1.00      0.00      0.01       242\n",
            "                                                     Struggling to pay your loan       0.40      0.23      0.29       911\n",
            "                                                   Struggling to repay your loan       0.40      0.17      0.24       852\n",
            "                                                    Taking out the loan or lease       0.00      0.00      0.00       301\n",
            "                                            Taking/threatening an illegal action       1.00      0.00      0.01       547\n",
            "                   Threatened to contact someone or share information improperly       0.33      0.23      0.27       631\n",
            "                             Took or threatened to take negative or legal action       0.29      0.51      0.37      2789\n",
            "                                                               Transaction issue       0.00      0.00      0.00       134\n",
            "                                                  Trouble during payment process       0.67      0.01      0.02       452\n",
            "                                                          Trouble using the card       0.51      0.20      0.29       309\n",
            "                                                         Trouble using your card       0.45      0.15      0.22       611\n",
            "                                        Unable to get credit report/credit score       0.50      0.00      0.00       462\n",
            "                                Unable to get your credit report or credit score       0.51      0.75      0.61      1416\n",
            "                          Unauthorized transactions or other transaction problem       0.83      0.01      0.03       385\n",
            "                                         Unauthorized transactions/trans. issues       0.00      0.00      0.00       114\n",
            "                                                        Unexpected or other fees       0.17      0.01      0.01       379\n",
            "                                             Unsolicited issuance of credit card       0.00      0.00      0.00        87\n",
            "                                                       Using a debit or ATM card       0.67      0.01      0.01       328\n",
            "                                    Vehicle was damaged or destroyed the vehicle       0.00      0.00      0.00         9\n",
            "                                     Vehicle was repossessed or sold the vehicle       0.00      0.00      0.00        25\n",
            "                               Was approved for a loan, but didn't receive money       0.00      0.00      0.00         6\n",
            "                           Was approved for a loan, but didn't receive the money       0.00      0.00      0.00        39\n",
            "                                                 Written notification about debt       0.80      0.05      0.09       426\n",
            "                                                Wrong amount charged or received       0.00      0.00      0.00        93\n",
            "\n",
            "                                                                        accuracy                           0.41     73526\n",
            "                                                                       macro avg       0.21      0.13      0.12     73526\n",
            "                                                                    weighted avg       0.40      0.41      0.34     73526\n",
            "\n"
          ]
        },
        {
          "output_type": "stream",
          "name": "stderr",
          "text": [
            "/usr/local/lib/python3.7/dist-packages/sklearn/metrics/_classification.py:1318: UndefinedMetricWarning: Precision and F-score are ill-defined and being set to 0.0 in labels with no predicted samples. Use `zero_division` parameter to control this behavior.\n",
            "  _warn_prf(average, modifier, msg_start, len(result))\n"
          ]
        }
      ]
    },
    {
      "cell_type": "code",
      "source": [
        "## Plot confusion matrix\n",
        "cm = metrics.confusion_matrix(y_test, predicted)\n",
        "fig, ax = plt.subplots()\n",
        "sns.heatmap(cm, annot=True, fmt='d', ax=ax, cmap=plt.cm.Blues, \n",
        "            cbar=False)\n",
        "ax.set(xlabel=\"Pred\", ylabel=\"True\", xticklabels=classes, \n",
        "       yticklabels=classes, title=\"Confusion matrix\")\n",
        "plt.yticks(rotation=0)\n",
        "fig, ax = plt.subplots(nrows=1, ncols=2)"
      ],
      "metadata": {
        "colab": {
          "base_uri": "https://localhost:8080/",
          "height": 842
        },
        "id": "5N7PQxFsTG3E",
        "outputId": "2d068800-6010-4b00-c866-0575500bb3fd"
      },
      "execution_count": 48,
      "outputs": [
        {
          "output_type": "display_data",
          "data": {
            "text/plain": [
              "<Figure size 432x288 with 1 Axes>"
            ],
            "image/png": "[encoded data removed]"
          },
          "metadata": {
            "needs_background": "light"
          }
        },
        {
          "output_type": "display_data",
          "data": {
            "text/plain": [
              "<Figure size 432x288 with 2 Axes>"
            ],
            "image/png": "[encoded data removed]"
          },
          "metadata": {
            "needs_background": "light"
          }
        }
      ]
    },
    {
      "cell_type": "code",
      "source": [
        ""
      ],
      "metadata": {
        "id": "9QyfVVcFVJPy"
      },
      "execution_count": null,
      "outputs": []
    }
  ]
}