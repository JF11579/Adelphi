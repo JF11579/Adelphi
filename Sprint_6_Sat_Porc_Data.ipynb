{
  "nbformat": 4,
  "nbformat_minor": 0,
  "metadata": {
    "colab": {
      "name": "Sprint_6_Sat_Porc Data.ipynb",
      "provenance": [],
      "collapsed_sections": [],
      "authorship_tag": "ABX9TyNmfLgopxghkZ/YRrSwQWiT",
      "include_colab_link": true
    },
    "kernelspec": {
      "name": "python3",
      "display_name": "Python 3"
    },
    "language_info": {
      "name": "python"
    }
  },
  "cells": [
    {
      "cell_type": "markdown",
      "metadata": {
        "id": "view-in-github",
        "colab_type": "text"
      },
      "source": [
        "<a href=\"https://colab.research.google.com/github/JF11579/Adelphi/blob/main/Sprint_6_Sat_Porc_Data.ipynb\" target=\"_parent\"><img src=\"https://colab.research.google.com/assets/colab-badge.svg\" alt=\"Open In Colab\"/></a>"
      ]
    },
    {
      "cell_type": "code",
      "execution_count": 2,
      "metadata": {
        "id": "faiX_sO3PzD-"
      },
      "outputs": [],
      "source": [
        ""
      ]
    },
    {
      "cell_type": "markdown",
      "source": [
        "# Usefull links\n",
        "\n",
        "*   https://colab.research.google.com/github/ahmadkhan242/jupyter_widgets/blob/main/jupyter_widgets.ipynb#scrollTo=UfOucuOo8-Cl\n",
        "\n",
        "*   https://towardsdatascience.com/4-easy-steps-for-implementing-catboost-c196fd82274b\n",
        "\n"
      ],
      "metadata": {
        "id": "58Y3dsa9S7Dw"
      }
    },
    {
      "cell_type": "code",
      "source": [
        ""
      ],
      "metadata": {
        "id": "KAoOkJr6S9G8"
      },
      "execution_count": null,
      "outputs": []
    },
    {
      "cell_type": "markdown",
      "source": [
        "\n",
        "\n",
        "\n",
        "# Library"
      ],
      "metadata": {
        "id": "2InDT5XSP91g"
      }
    },
    {
      "cell_type": "markdown",
      "source": [
        "## Pip Install"
      ],
      "metadata": {
        "id": "mCSY5jwhQG_R"
      }
    },
    {
      "cell_type": "code",
      "source": [
        "from google.colab import output\n",
        "output.enable_custom_widget_manager()"
      ],
      "metadata": {
        "id": "KPY17rM-QMsT"
      },
      "execution_count": 3,
      "outputs": []
    },
    {
      "cell_type": "code",
      "source": [
        "from google.colab import output\n",
        "output.disable_custom_widget_manager()"
      ],
      "metadata": {
        "id": "w0TCDeVBQSV0"
      },
      "execution_count": 4,
      "outputs": []
    },
    {
      "cell_type": "code",
      "source": [
        "!pip install catboost"
      ],
      "metadata": {
        "id": "mFVuXR2XQV_R"
      },
      "execution_count": null,
      "outputs": []
    },
    {
      "cell_type": "code",
      "source": [
        "!pip install ipywidgets"
      ],
      "metadata": {
        "id": "rwM-t9_tQV7P"
      },
      "execution_count": null,
      "outputs": []
    },
    {
      "cell_type": "code",
      "source": [
        "!jupyter nbextension enable  — py widgetsnbextension"
      ],
      "metadata": {
        "colab": {
          "base_uri": "https://localhost:8080/"
        },
        "id": "zJC7HrtCQvQq",
        "outputId": "9820d31b-b049-42bf-f6bf-1f9bdfc3c6b9"
      },
      "execution_count": 7,
      "outputs": [
        {
          "output_type": "stream",
          "name": "stdout",
          "text": [
            "Please specify one nbextension/package at a time\n"
          ]
        }
      ]
    },
    {
      "cell_type": "markdown",
      "source": [
        "## Packages"
      ],
      "metadata": {
        "id": "hgs_BFqiQJew"
      }
    },
    {
      "cell_type": "code",
      "source": [
        "import pandas as pd\n",
        "from ipywidgets import widgets\n",
        "from IPython.display import display"
      ],
      "metadata": {
        "id": "7-kbqYxUQCf7"
      },
      "execution_count": 8,
      "outputs": []
    },
    {
      "cell_type": "code",
      "source": [
        "from catboost import CatBoostRegressor\n",
        "from sklearn.model_selection import train_test_split\n",
        "import numpy as np\n",
        "import pandas as pd"
      ],
      "metadata": {
        "id": "dUr2lXEJQzYR"
      },
      "execution_count": 9,
      "outputs": []
    },
    {
      "cell_type": "markdown",
      "source": [
        "# Data"
      ],
      "metadata": {
        "id": "D2ZhrmO7RNQb"
      }
    },
    {
      "cell_type": "code",
      "source": [
        "dataframe = pd.read_csv('/content/Porcelana_OP_adelphi_2021_SCALED.csv')\n",
        "dataframe.head(3)"
      ],
      "metadata": {
        "colab": {
          "base_uri": "https://localhost:8080/",
          "height": 262
        },
        "id": "4eauj2fhRMnH",
        "outputId": "cf362360-8b8f-4dd7-a99c-94ca5b6b897f"
      },
      "execution_count": 15,
      "outputs": [
        {
          "output_type": "execute_result",
          "data": {
            "text/html": [
              "<div>\n",
              "<style scoped>\n",
              "    .dataframe tbody tr th:only-of-type {\n",
              "        vertical-align: middle;\n",
              "    }\n",
              "\n",
              "    .dataframe tbody tr th {\n",
              "        vertical-align: top;\n",
              "    }\n",
              "\n",
              "    .dataframe thead th {\n",
              "        text-align: right;\n",
              "    }\n",
              "</style>\n",
              "<table border=\"1\" class=\"dataframe\">\n",
              "  <thead>\n",
              "    <tr style=\"text-align: right;\">\n",
              "      <th></th>\n",
              "      <th>date</th>\n",
              "      <th>Quantity</th>\n",
              "      <th>Seasonal</th>\n",
              "      <th>Consumer_loans</th>\n",
              "      <th>Construction_lic_unt</th>\n",
              "      <th>Construction_lic_area</th>\n",
              "      <th>Construction_lic_unt_SI</th>\n",
              "      <th>Construction_lic_unt_NO_SI</th>\n",
              "      <th>Construction_lic_area_SI</th>\n",
              "      <th>Construction_lic_area_NO_SI</th>\n",
              "      <th>Gray_cement_prod</th>\n",
              "      <th>Gray_cement_dispatch</th>\n",
              "      <th>Gray_cement_dispatch_Factory</th>\n",
              "      <th>Gray_cement_dispatch_comercial</th>\n",
              "      <th>Gray_cement_dispatch_contractor</th>\n",
              "      <th>Gray_cement_dispatch_other</th>\n",
              "      <th>DTF(interest_rate)</th>\n",
              "      <th>GDP_Constr</th>\n",
              "      <th>GDP_Total</th>\n",
              "      <th>Inflation</th>\n",
              "      <th>USD_exchange</th>\n",
              "      <th>Oil-brent</th>\n",
              "      <th>Oil_WTI</th>\n",
              "      <th>ISE</th>\n",
              "      <th>ICC</th>\n",
              "      <th>IEC</th>\n",
              "      <th>ICE</th>\n",
              "      <th>Unemployment%</th>\n",
              "      <th>RADAR_Constr</th>\n",
              "      <th>RADAR_Rev</th>\n",
              "      <th>RADAR_Toilets</th>\n",
              "      <th>RADAR_HomeAppliance</th>\n",
              "      <th>RADAR_Paint</th>\n",
              "      <th>RADAR_Furniture</th>\n",
              "      <th>RADAR_Tools</th>\n",
              "      <th>RADAR_Elect</th>\n",
              "      <th>RADAR_Plumbing</th>\n",
              "      <th>RADAR_Wood</th>\n",
              "      <th>RADAR_Supply</th>\n",
              "      <th>RADAR_Remodel</th>\n",
              "      <th>...</th>\n",
              "      <th>Preferencial_creditlag_8</th>\n",
              "      <th>loan_overdraftslag_8</th>\n",
              "      <th>Credit_cardlag_8</th>\n",
              "      <th>Treasury_loanlag_8</th>\n",
              "      <th>Housing_loanlag_8</th>\n",
              "      <th>Consumer_creditlag_9</th>\n",
              "      <th>Consumer_microcreditlag_9</th>\n",
              "      <th>Ordinary_creditlag_9</th>\n",
              "      <th>Preferencial_creditlag_9</th>\n",
              "      <th>loan_overdraftslag_9</th>\n",
              "      <th>Credit_cardlag_9</th>\n",
              "      <th>Treasury_loanlag_9</th>\n",
              "      <th>Housing_loanlag_9</th>\n",
              "      <th>Consumer_creditlag_10</th>\n",
              "      <th>Consumer_microcreditlag_10</th>\n",
              "      <th>Ordinary_creditlag_10</th>\n",
              "      <th>Preferencial_creditlag_10</th>\n",
              "      <th>loan_overdraftslag_10</th>\n",
              "      <th>Credit_cardlag_10</th>\n",
              "      <th>Treasury_loanlag_10</th>\n",
              "      <th>Housing_loanlag_10</th>\n",
              "      <th>Consumer_creditlag_11</th>\n",
              "      <th>Consumer_microcreditlag_11</th>\n",
              "      <th>Ordinary_creditlag_11</th>\n",
              "      <th>Preferencial_creditlag_11</th>\n",
              "      <th>loan_overdraftslag_11</th>\n",
              "      <th>Credit_cardlag_11</th>\n",
              "      <th>Treasury_loanlag_11</th>\n",
              "      <th>Housing_loanlag_11</th>\n",
              "      <th>Consumer_creditlag_12</th>\n",
              "      <th>Consumer_microcreditlag_12</th>\n",
              "      <th>Ordinary_creditlag_12</th>\n",
              "      <th>Preferencial_creditlag_12</th>\n",
              "      <th>loan_overdraftslag_12</th>\n",
              "      <th>Credit_cardlag_12</th>\n",
              "      <th>Treasury_loanlag_12</th>\n",
              "      <th>Housing_loanlag_12</th>\n",
              "      <th>holiday</th>\n",
              "      <th>sunday</th>\n",
              "      <th>working_day</th>\n",
              "    </tr>\n",
              "  </thead>\n",
              "  <tbody>\n",
              "    <tr>\n",
              "      <th>0</th>\n",
              "      <td>2017-01-01</td>\n",
              "      <td>1.503548</td>\n",
              "      <td>0.699923</td>\n",
              "      <td>112579.4297</td>\n",
              "      <td>11303.0</td>\n",
              "      <td>1185131.0</td>\n",
              "      <td>3587.0</td>\n",
              "      <td>7716.0</td>\n",
              "      <td>229478.0</td>\n",
              "      <td>955653.0</td>\n",
              "      <td>897063.518</td>\n",
              "      <td>913190.407</td>\n",
              "      <td>194276.0200</td>\n",
              "      <td>502084.8330</td>\n",
              "      <td>171559.9665</td>\n",
              "      <td>45269.5875</td>\n",
              "      <td>0.0694</td>\n",
              "      <td>14753.34784</td>\n",
              "      <td>206242.568</td>\n",
              "      <td>5.47</td>\n",
              "      <td>2944.65</td>\n",
              "      <td>52.19</td>\n",
              "      <td>52.81</td>\n",
              "      <td>102.548972</td>\n",
              "      <td>-30.2</td>\n",
              "      <td>-28.3</td>\n",
              "      <td>-33.1</td>\n",
              "      <td>11.733267</td>\n",
              "      <td>1.044525e+11</td>\n",
              "      <td>1.323489e+11</td>\n",
              "      <td>1.727682e+11</td>\n",
              "      <td>1.050914e+11</td>\n",
              "      <td>8.847567e+10</td>\n",
              "      <td>8.354725e+10</td>\n",
              "      <td>5.008444e+10</td>\n",
              "      <td>9.372000e+10</td>\n",
              "      <td>3.037115e+10</td>\n",
              "      <td>3.136015e+10</td>\n",
              "      <td>1.585430e+11</td>\n",
              "      <td>1.050763e+12</td>\n",
              "      <td>...</td>\n",
              "      <td>4445890.861</td>\n",
              "      <td>6402426.269</td>\n",
              "      <td>3390803.016</td>\n",
              "      <td>550883.0739</td>\n",
              "      <td>1302564.560</td>\n",
              "      <td>4680431.000</td>\n",
              "      <td>460632.0000</td>\n",
              "      <td>5702443.000</td>\n",
              "      <td>4657354.000</td>\n",
              "      <td>7012296.000</td>\n",
              "      <td>3283417.000</td>\n",
              "      <td>549789.0000</td>\n",
              "      <td>1454672.000</td>\n",
              "      <td>4941981.754</td>\n",
              "      <td>531850.1926</td>\n",
              "      <td>7315235.649</td>\n",
              "      <td>6120086.089</td>\n",
              "      <td>8140200.383</td>\n",
              "      <td>3814229.013</td>\n",
              "      <td>632387.5921</td>\n",
              "      <td>1627959.289</td>\n",
              "      <td>4068020.900</td>\n",
              "      <td>438682.2679</td>\n",
              "      <td>6513619.182</td>\n",
              "      <td>6137144.374</td>\n",
              "      <td>6675101.294</td>\n",
              "      <td>2989980.729</td>\n",
              "      <td>483448.3473</td>\n",
              "      <td>1298811.962</td>\n",
              "      <td>3106784.500</td>\n",
              "      <td>386289.5525</td>\n",
              "      <td>4875376.339</td>\n",
              "      <td>4791146.877</td>\n",
              "      <td>5996088.922</td>\n",
              "      <td>3013612.505</td>\n",
              "      <td>470541.3290</td>\n",
              "      <td>1093819.181</td>\n",
              "      <td>1</td>\n",
              "      <td>5</td>\n",
              "      <td>25</td>\n",
              "    </tr>\n",
              "    <tr>\n",
              "      <th>1</th>\n",
              "      <td>2017-02-01</td>\n",
              "      <td>0.076213</td>\n",
              "      <td>0.316156</td>\n",
              "      <td>113438.0949</td>\n",
              "      <td>16187.0</td>\n",
              "      <td>1590979.0</td>\n",
              "      <td>4659.0</td>\n",
              "      <td>11528.0</td>\n",
              "      <td>272961.0</td>\n",
              "      <td>1318018.0</td>\n",
              "      <td>1025704.960</td>\n",
              "      <td>1007968.299</td>\n",
              "      <td>228359.8390</td>\n",
              "      <td>530826.1625</td>\n",
              "      <td>199731.6950</td>\n",
              "      <td>49050.6025</td>\n",
              "      <td>0.0678</td>\n",
              "      <td>14753.34784</td>\n",
              "      <td>206242.568</td>\n",
              "      <td>5.18</td>\n",
              "      <td>2881.68</td>\n",
              "      <td>53.40</td>\n",
              "      <td>54.01</td>\n",
              "      <td>102.919033</td>\n",
              "      <td>-24.3</td>\n",
              "      <td>-19.9</td>\n",
              "      <td>-31.0</td>\n",
              "      <td>10.504292</td>\n",
              "      <td>1.574855e+11</td>\n",
              "      <td>8.351517e+10</td>\n",
              "      <td>1.096908e+11</td>\n",
              "      <td>8.252536e+10</td>\n",
              "      <td>8.582517e+10</td>\n",
              "      <td>1.522091e+11</td>\n",
              "      <td>5.056706e+10</td>\n",
              "      <td>6.034851e+10</td>\n",
              "      <td>2.138243e+10</td>\n",
              "      <td>2.216364e+10</td>\n",
              "      <td>2.104634e+11</td>\n",
              "      <td>1.036176e+12</td>\n",
              "      <td>...</td>\n",
              "      <td>6566090.070</td>\n",
              "      <td>7930536.312</td>\n",
              "      <td>4347164.930</td>\n",
              "      <td>677598.1836</td>\n",
              "      <td>1864166.572</td>\n",
              "      <td>4353892.017</td>\n",
              "      <td>433679.7772</td>\n",
              "      <td>5854575.608</td>\n",
              "      <td>4445890.861</td>\n",
              "      <td>6402426.269</td>\n",
              "      <td>3390803.016</td>\n",
              "      <td>550883.0739</td>\n",
              "      <td>1302564.560</td>\n",
              "      <td>4680431.000</td>\n",
              "      <td>460632.0000</td>\n",
              "      <td>5702443.000</td>\n",
              "      <td>4657354.000</td>\n",
              "      <td>7012296.000</td>\n",
              "      <td>3283417.000</td>\n",
              "      <td>549789.0000</td>\n",
              "      <td>1454672.000</td>\n",
              "      <td>4941981.754</td>\n",
              "      <td>531850.1926</td>\n",
              "      <td>7315235.649</td>\n",
              "      <td>6120086.089</td>\n",
              "      <td>8140200.383</td>\n",
              "      <td>3814229.013</td>\n",
              "      <td>632387.5921</td>\n",
              "      <td>1627959.289</td>\n",
              "      <td>4068020.900</td>\n",
              "      <td>438682.2679</td>\n",
              "      <td>6513619.182</td>\n",
              "      <td>6137144.374</td>\n",
              "      <td>6675101.294</td>\n",
              "      <td>2989980.729</td>\n",
              "      <td>483448.3473</td>\n",
              "      <td>1298811.962</td>\n",
              "      <td>0</td>\n",
              "      <td>4</td>\n",
              "      <td>24</td>\n",
              "    </tr>\n",
              "    <tr>\n",
              "      <th>2</th>\n",
              "      <td>2017-03-01</td>\n",
              "      <td>-1.346258</td>\n",
              "      <td>-0.267695</td>\n",
              "      <td>114667.2587</td>\n",
              "      <td>15231.0</td>\n",
              "      <td>1438528.0</td>\n",
              "      <td>5687.0</td>\n",
              "      <td>9544.0</td>\n",
              "      <td>354904.0</td>\n",
              "      <td>1083624.0</td>\n",
              "      <td>1099919.669</td>\n",
              "      <td>1083268.231</td>\n",
              "      <td>241130.4555</td>\n",
              "      <td>568447.4880</td>\n",
              "      <td>218640.3600</td>\n",
              "      <td>55049.9274</td>\n",
              "      <td>0.0665</td>\n",
              "      <td>14753.34784</td>\n",
              "      <td>206242.568</td>\n",
              "      <td>4.69</td>\n",
              "      <td>2943.49</td>\n",
              "      <td>50.43</td>\n",
              "      <td>50.60</td>\n",
              "      <td>102.162670</td>\n",
              "      <td>-21.1</td>\n",
              "      <td>-18.3</td>\n",
              "      <td>-25.4</td>\n",
              "      <td>9.704610</td>\n",
              "      <td>1.215372e+11</td>\n",
              "      <td>9.821204e+10</td>\n",
              "      <td>1.191497e+11</td>\n",
              "      <td>9.035507e+10</td>\n",
              "      <td>9.516119e+10</td>\n",
              "      <td>1.388751e+11</td>\n",
              "      <td>5.266968e+10</td>\n",
              "      <td>1.137228e+11</td>\n",
              "      <td>2.872364e+10</td>\n",
              "      <td>2.258877e+10</td>\n",
              "      <td>1.192185e+11</td>\n",
              "      <td>1.000214e+12</td>\n",
              "      <td>...</td>\n",
              "      <td>4119152.514</td>\n",
              "      <td>6258157.459</td>\n",
              "      <td>3447128.397</td>\n",
              "      <td>478975.7922</td>\n",
              "      <td>1302860.802</td>\n",
              "      <td>5430241.566</td>\n",
              "      <td>555441.9044</td>\n",
              "      <td>7916686.911</td>\n",
              "      <td>6566090.070</td>\n",
              "      <td>7930536.312</td>\n",
              "      <td>4347164.930</td>\n",
              "      <td>677598.1836</td>\n",
              "      <td>1864166.572</td>\n",
              "      <td>4353892.017</td>\n",
              "      <td>433679.7772</td>\n",
              "      <td>5854575.608</td>\n",
              "      <td>4445890.861</td>\n",
              "      <td>6402426.269</td>\n",
              "      <td>3390803.016</td>\n",
              "      <td>550883.0739</td>\n",
              "      <td>1302564.560</td>\n",
              "      <td>4680431.000</td>\n",
              "      <td>460632.0000</td>\n",
              "      <td>5702443.000</td>\n",
              "      <td>4657354.000</td>\n",
              "      <td>7012296.000</td>\n",
              "      <td>3283417.000</td>\n",
              "      <td>549789.0000</td>\n",
              "      <td>1454672.000</td>\n",
              "      <td>4941981.754</td>\n",
              "      <td>531850.1926</td>\n",
              "      <td>7315235.649</td>\n",
              "      <td>6120086.089</td>\n",
              "      <td>8140200.383</td>\n",
              "      <td>3814229.013</td>\n",
              "      <td>632387.5921</td>\n",
              "      <td>1627959.289</td>\n",
              "      <td>1</td>\n",
              "      <td>4</td>\n",
              "      <td>26</td>\n",
              "    </tr>\n",
              "  </tbody>\n",
              "</table>\n",
              "<p>3 rows × 943 columns</p>\n",
              "</div>"
            ],
            "text/plain": [
              "         date  Quantity  Seasonal  ...  holiday  sunday  working_day\n",
              "0  2017-01-01  1.503548  0.699923  ...        1       5           25\n",
              "1  2017-02-01  0.076213  0.316156  ...        0       4           24\n",
              "2  2017-03-01 -1.346258 -0.267695  ...        1       4           26\n",
              "\n",
              "[3 rows x 943 columns]"
            ]
          },
          "metadata": {},
          "execution_count": 15
        }
      ]
    },
    {
      "cell_type": "markdown",
      "source": [
        "# Pre Processing\n",
        "\n",
        "move date to index\n",
        "\n",
        "Subset data\n",
        "\n",
        "Change Qty"
      ],
      "metadata": {
        "id": "PVCiYM3IRnbN"
      }
    },
    {
      "cell_type": "code",
      "source": [
        "# move date to \n",
        "#df.set_index('month')\n",
        "dataframe = dataframe.set_index('date')"
      ],
      "metadata": {
        "id": "T-1lmQAhSSyD"
      },
      "execution_count": 16,
      "outputs": []
    },
    {
      "cell_type": "code",
      "source": [
        "dataframe = dataframe[[ 'Quantity', 'Seasonal', 'Gray_cement_dispatch_comercial', 'ISE',\n",
        "       'Construction_lic_area/unt_SIlag_4' ]]"
      ],
      "metadata": {
        "id": "t0NgXe_pRxQ7"
      },
      "execution_count": 18,
      "outputs": []
    },
    {
      "cell_type": "code",
      "source": [
        "dataframe.at[39,'Quantity'] = -1.3035153046741994"
      ],
      "metadata": {
        "id": "_LttY0ZKR1_x"
      },
      "execution_count": 19,
      "outputs": []
    },
    {
      "cell_type": "code",
      "source": [
        "dataframe.head(3)"
      ],
      "metadata": {
        "colab": {
          "base_uri": "https://localhost:8080/",
          "height": 247
        },
        "id": "AE_pQQXLR65r",
        "outputId": "b5e4f0d8-0c14-4d63-becb-4acb0ec53250"
      },
      "execution_count": 20,
      "outputs": [
        {
          "output_type": "execute_result",
          "data": {
            "text/html": [
              "<div>\n",
              "<style scoped>\n",
              "    .dataframe tbody tr th:only-of-type {\n",
              "        vertical-align: middle;\n",
              "    }\n",
              "\n",
              "    .dataframe tbody tr th {\n",
              "        vertical-align: top;\n",
              "    }\n",
              "\n",
              "    .dataframe thead th {\n",
              "        text-align: right;\n",
              "    }\n",
              "</style>\n",
              "<table border=\"1\" class=\"dataframe\">\n",
              "  <thead>\n",
              "    <tr style=\"text-align: right;\">\n",
              "      <th></th>\n",
              "      <th>Quantity</th>\n",
              "      <th>Seasonal</th>\n",
              "      <th>Gray_cement_dispatch_comercial</th>\n",
              "      <th>ISE</th>\n",
              "      <th>Construction_lic_area/unt_SIlag_4</th>\n",
              "    </tr>\n",
              "    <tr>\n",
              "      <th>date</th>\n",
              "      <th></th>\n",
              "      <th></th>\n",
              "      <th></th>\n",
              "      <th></th>\n",
              "      <th></th>\n",
              "    </tr>\n",
              "  </thead>\n",
              "  <tbody>\n",
              "    <tr>\n",
              "      <th>2017-01-01</th>\n",
              "      <td>1.503548</td>\n",
              "      <td>0.699923</td>\n",
              "      <td>502084.8330</td>\n",
              "      <td>102.548972</td>\n",
              "      <td>69.107759</td>\n",
              "    </tr>\n",
              "    <tr>\n",
              "      <th>2017-02-01</th>\n",
              "      <td>0.076213</td>\n",
              "      <td>0.316156</td>\n",
              "      <td>530826.1625</td>\n",
              "      <td>102.919033</td>\n",
              "      <td>61.576356</td>\n",
              "    </tr>\n",
              "    <tr>\n",
              "      <th>2017-03-01</th>\n",
              "      <td>-1.346258</td>\n",
              "      <td>-0.267695</td>\n",
              "      <td>568447.4880</td>\n",
              "      <td>102.162670</td>\n",
              "      <td>57.195909</td>\n",
              "    </tr>\n",
              "  </tbody>\n",
              "</table>\n",
              "</div>"
            ],
            "text/plain": [
              "            Quantity  Seasonal  ...         ISE  Construction_lic_area/unt_SIlag_4\n",
              "date                            ...                                               \n",
              "2017-01-01  1.503548  0.699923  ...  102.548972                          69.107759\n",
              "2017-02-01  0.076213  0.316156  ...  102.919033                          61.576356\n",
              "2017-03-01 -1.346258 -0.267695  ...  102.162670                          57.195909\n",
              "\n",
              "[3 rows x 5 columns]"
            ]
          },
          "metadata": {},
          "execution_count": 20
        }
      ]
    },
    {
      "cell_type": "code",
      "source": [
        "dataframe.shape"
      ],
      "metadata": {
        "colab": {
          "base_uri": "https://localhost:8080/"
        },
        "id": "KLMV6oeTU8EI",
        "outputId": "4188e6f0-ac17-475a-d5c6-59429f4933f8"
      },
      "execution_count": 31,
      "outputs": [
        {
          "output_type": "execute_result",
          "data": {
            "text/plain": [
              "(55, 5)"
            ]
          },
          "metadata": {},
          "execution_count": 31
        }
      ]
    },
    {
      "cell_type": "code",
      "source": [
        "55 * .75"
      ],
      "metadata": {
        "colab": {
          "base_uri": "https://localhost:8080/"
        },
        "id": "kjjjvuEcVBA6",
        "outputId": "b29398e2-8128-48e9-ac89-a4abd0c886d1"
      },
      "execution_count": 32,
      "outputs": [
        {
          "output_type": "execute_result",
          "data": {
            "text/plain": [
              "41.25"
            ]
          },
          "metadata": {},
          "execution_count": 32
        }
      ]
    },
    {
      "cell_type": "code",
      "source": [
        ""
      ],
      "metadata": {
        "colab": {
          "base_uri": "https://localhost:8080/"
        },
        "id": "cF_JPmQZVAzd",
        "outputId": "bd8dfcfd-e0d8-4a4b-e914-822a79bd30a2"
      },
      "execution_count": 33,
      "outputs": [
        {
          "output_type": "execute_result",
          "data": {
            "text/plain": [
              "13.75"
            ]
          },
          "metadata": {},
          "execution_count": 33
        }
      ]
    },
    {
      "cell_type": "markdown",
      "source": [
        "# Split"
      ],
      "metadata": {
        "id": "O-0ICg7fTU5l"
      }
    },
    {
      "cell_type": "code",
      "source": [
        "y = dataframe['Quantity']\n",
        "X = dataframe.loc[: ,dataframe.columns != 'Quantity']"
      ],
      "metadata": {
        "id": "m7DvcgOISHpD"
      },
      "execution_count": 23,
      "outputs": []
    },
    {
      "cell_type": "code",
      "source": [
        "X_train, X_test, y_train, y_test = train_test_split(X, y, train_size=0.75, random_state=42)"
      ],
      "metadata": {
        "id": "sbUQAoRoTnCT"
      },
      "execution_count": 24,
      "outputs": []
    },
    {
      "cell_type": "code",
      "source": [
        ""
      ],
      "metadata": {
        "id": "HoNo84Z7U6Du"
      },
      "execution_count": null,
      "outputs": []
    },
    {
      "cell_type": "markdown",
      "source": [
        "Apply Model\n",
        "the most important part is to designate your categorical variables, so that you can get the most out of your CatBoost model.\n",
        "\n",
        "CatBoost has some awesome plots that visualize the error metric improvements over iterations, so if you want to visually see how the train and test set compare over time, setting the plot to True"
      ],
      "metadata": {
        "id": "XH5vxMnPTtJT"
      }
    },
    {
      "cell_type": "markdown",
      "source": [
        "## Here are the main model commands:"
      ],
      "metadata": {
        "id": "yUWmHuTcTwL6"
      }
    },
    {
      "cell_type": "code",
      "source": [
        "#CAT_FEATURES = [Feature_Names.0] #list of your categorical features\n",
        "\n",
        "\n",
        "\n",
        "# set up the model\n",
        "catboost_model = CatBoostRegressor(n_estimators=100,\n",
        "                                   loss_function = 'RMSE',\n",
        "                                   eval_metric = 'RMSE')\n",
        "                                   #cat_features = CAT_FEATURES)"
      ],
      "metadata": {
        "id": "jLFf6liIToMI"
      },
      "execution_count": 25,
      "outputs": []
    },
    {
      "cell_type": "code",
      "source": [
        "# fit model\n",
        "catboost_model.fit(X_train, y_train, \n",
        "                   eval_set = (X_test, y_test),\n",
        "                   use_best_model = True,\n",
        "                   plot = True)"
      ],
      "metadata": {
        "id": "ypq0ZGmoT37G"
      },
      "execution_count": null,
      "outputs": []
    },
    {
      "cell_type": "code",
      "source": [
        ""
      ],
      "metadata": {
        "id": "plkzGqlAT68O"
      },
      "execution_count": null,
      "outputs": []
    },
    {
      "cell_type": "code",
      "source": [
        "from google.colab import output\n",
        "output.enable_custom_widget_manager()"
      ],
      "metadata": {
        "id": "wpslnxa0Ud6k"
      },
      "execution_count": 27,
      "outputs": []
    },
    {
      "cell_type": "code",
      "source": [
        "from google.colab import output\n",
        "output.disable_custom_widget_manager()"
      ],
      "metadata": {
        "id": "PrwibGCYUd6l"
      },
      "execution_count": 28,
      "outputs": []
    },
    {
      "cell_type": "code",
      "source": [
        "# get your predictions\n",
        "preds = catboost_model.predict(X_test)"
      ],
      "metadata": {
        "id": "YStz1RrHUixn"
      },
      "execution_count": 29,
      "outputs": []
    },
    {
      "cell_type": "code",
      "source": [
        "preds"
      ],
      "metadata": {
        "colab": {
          "base_uri": "https://localhost:8080/"
        },
        "id": "HsoD87uVUlmI",
        "outputId": "9b7d35bf-abe1-4f98-8404-c50ae9fab6cb"
      },
      "execution_count": 30,
      "outputs": [
        {
          "output_type": "execute_result",
          "data": {
            "text/plain": [
              "array([ 0.43874328, -0.58262884,  0.42949485, -0.1250164 , -0.22791917,\n",
              "        0.50210145, -0.52849225, -0.33300017, -0.17433587,  0.04908679,\n",
              "       -0.53776775, -0.91610083,  0.60272138,  0.50227282])"
            ]
          },
          "metadata": {},
          "execution_count": 30
        }
      ]
    },
    {
      "cell_type": "code",
      "source": [
        "# The data was split 0.75 = Train set\n",
        "# The X test comes to 13.75 hence the 14  items in \"preds\"\n",
        "55 * 0.25\n"
      ],
      "metadata": {
        "colab": {
          "base_uri": "https://localhost:8080/"
        },
        "id": "ucaSc-fpUrbg",
        "outputId": "7bf9fc4e-22aa-499a-a891-3b6fbc66c2bd"
      },
      "execution_count": 34,
      "outputs": [
        {
          "output_type": "execute_result",
          "data": {
            "text/plain": [
              "13.75"
            ]
          },
          "metadata": {},
          "execution_count": 34
        }
      ]
    },
    {
      "cell_type": "markdown",
      "source": [
        "### B\n",
        "Here i will attempt to plug in juan;s code"
      ],
      "metadata": {
        "id": "o0CYXNsrWIKP"
      }
    },
    {
      "cell_type": "markdown",
      "source": [
        "# Juan's functions"
      ],
      "metadata": {
        "id": "E5K8j9P4W6Tq"
      }
    },
    {
      "cell_type": "markdown",
      "source": [
        ""
      ],
      "metadata": {
        "id": "Ql5eFRE_XACc"
      }
    },
    {
      "cell_type": "code",
      "source": [
        "def Model_Performance(model,X_train,y_train,X_test, y_test):\n",
        "     \n",
        "    model.fit(X_train,y_train) \n",
        "    #model.fit(X_train,y_train, verbose = 0)#For Catboost\n",
        "    y_pred_Train = model.predict(X_train) #Predictions\n",
        "    y_pred_Test = model.predict(X_test) #Predictions\n",
        "    \n",
        "    Metrics(y_test, y_pred_Test)\n",
        "    \n",
        "    Predicted_Plot(y_train, y_pred_Train, y_test, y_pred_Test)\n",
        "    \n",
        "    Multiple_Runs(model,X_train,y_train,X_test, y_test)\n",
        "    \n",
        "    return"
      ],
      "metadata": {
        "id": "K753REJAWrn9"
      },
      "execution_count": 39,
      "outputs": []
    },
    {
      "cell_type": "code",
      "source": [
        "def Metrics(y_test, y_pred_Test):\n",
        "    print('Test Metrics:')\n",
        "    print('R squared:', metrics.r2_score(y_test, y_pred_Test))\n",
        "    print('Mean Absolute Error:', metrics.mean_absolute_error(y_test, y_pred_Test))  \n",
        "    print('Mean Squared Error:', metrics.mean_squared_error(y_test, y_pred_Test))  \n",
        "    print('Root Mean Squared Error:', np.sqrt(metrics.mean_squared_error(y_test, y_pred_Test)))\n",
        "    \n",
        "    return"
      ],
      "metadata": {
        "id": "LbAsA8FgXDLS"
      },
      "execution_count": 40,
      "outputs": []
    },
    {
      "cell_type": "code",
      "source": [
        "def Predicted_Plot(y_train, y_pred_Train, y_test, y_pred_Test):\n",
        "\n",
        "    fig, ax = plt.subplots(ncols=2, figsize=(10,4))\n",
        "\n",
        "    ax[0].scatter(y_train, y_pred_Train)\n",
        "    ax[0].grid()\n",
        "    ax[0].set_xlabel('Observed Label')\n",
        "    ax[0].set_ylabel('Predicted Label')\n",
        "    ax[0].set_title('Training Set')\n",
        "\n",
        "    ax[1].scatter(y_test, y_pred_Test)\n",
        "    ax[1].grid()\n",
        "    ax[1].set_xlabel('Observed Label')\n",
        "    ax[1].set_ylabel('Predicted Label')\n",
        "    ax[1].set_title('Testing Set')\n",
        "    plt.show()\n",
        "    \n",
        "    return"
      ],
      "metadata": {
        "id": "KT9E5gIeXF1m"
      },
      "execution_count": 41,
      "outputs": []
    },
    {
      "cell_type": "code",
      "source": [
        "def Multiple_Runs(model,X_train,y_train,X_test, y_test):\n",
        "\n",
        "    Train_MSE = [] #Empty list to Store MSEs for training data set\n",
        "    Test_MSE = []  #Empty list to Store MSEs for testing data set\n",
        "\n",
        "    Train_R2 = [] #Empty list to Store R2s for training data set\n",
        "    Test_R2 = []  #Empty list to Store R2s for testing data set\n",
        "\n",
        "    for i in tqdm(range(100)):\n",
        "        X_train, X_test, y_train, y_test = train_test_split(X, y, test_size=0.2)\n",
        "    \n",
        "        model.fit(X_train, y_train) #Train the model\n",
        "        #model.fit(X_train,y_train, verbose = 0)#For Catboost    \n",
        "        y_pred_Train  = model.predict(X_train)  #Predictions on training model\n",
        "        y_pred_Test   = model.predict(X_test)   #Predictions on testing model\n",
        "    \n",
        "        train_R2 = metrics.r2_score(y_train, y_pred_Train) #Obtaining the metrics\n",
        "        test_R2  = metrics.r2_score(y_test, y_pred_Test)\n",
        "    \n",
        "        train_MSE = metrics.mean_squared_error(y_train, y_pred_Train)\n",
        "        test_MSE  = metrics.mean_squared_error(y_test, y_pred_Test)\n",
        "    \n",
        "        Train_MSE.append(train_MSE) #Storing the metrics in the lists\n",
        "        Test_MSE.append(test_MSE) \n",
        "    \n",
        "        Train_R2.append(train_R2) #Storing the metrics in the lists\n",
        "        Test_R2.append(test_R2)  \n",
        "    \n",
        "    print('Train MSE median:', np.median(Train_MSE))\n",
        "    print('Test MSE median:', np.median(Test_MSE))\n",
        "\n",
        "    print('\\nTrain_R2 median:', np.median(Train_R2))\n",
        "    print('Test_R2 median:', np.median(Test_R2))\n",
        "\n",
        "    fig, ax = plt.subplots(ncols=2, figsize=(10,4))\n",
        "\n",
        "    ax[0].boxplot([Train_MSE, Test_MSE])\n",
        "    ax[0].set_xticks([1,2],minor = False)                   #setting boxplot names\n",
        "    ax[0].set_xticklabels(['Train','Test'], minor = False)  #setting boxplot names\n",
        "    ax[0].grid()\n",
        "    ax[0].set_title('Mean Squared Error')\n",
        "\n",
        "    ax[1].boxplot([Train_R2, Test_R2])\n",
        "    ax[1].set_xticks([1,2],minor = False)\n",
        "    ax[1].set_xticklabels(['Train','Test'], minor = False)\n",
        "    ax[1].grid()\n",
        "    ax[1].set_title('R squared')\n",
        "\n",
        "    plt.show()\n",
        "\n",
        "    print('Train MSE standard deviation:', np.std(Train_MSE))\n",
        "    print('Test MSE standard deviation: ', np.std(Test_MSE))\n",
        "\n",
        "    print('\\nTrain_R2 standard deviation:', np.std(Train_R2))\n",
        "    print('Test_R2 standard deviation: ', np.std(Test_R2))"
      ],
      "metadata": {
        "id": "5rcTKcyuXMwC"
      },
      "execution_count": 42,
      "outputs": []
    },
    {
      "cell_type": "markdown",
      "source": [
        "## Stadardiztion (Juan's functions will be looking for these)\n"
      ],
      "metadata": {
        "id": "lVm-U9fxZKRJ"
      }
    },
    {
      "cell_type": "markdown",
      "source": [
        "### Training Set Mean"
      ],
      "metadata": {
        "id": "jAZH3A-tZVbn"
      }
    },
    {
      "cell_type": "code",
      "source": [
        "mean = X_train.mean()\n",
        "print(mean)"
      ],
      "metadata": {
        "colab": {
          "base_uri": "https://localhost:8080/"
        },
        "id": "LKpOjApfZJzv",
        "outputId": "97f6bdc0-7a67-4021-e1cc-7378cf71176f"
      },
      "execution_count": 43,
      "outputs": [
        {
          "output_type": "stream",
          "name": "stdout",
          "text": [
            "Seasonal                                 -0.007304\n",
            "Gray_cement_dispatch_comercial       540485.571116\n",
            "ISE                                     105.707051\n",
            "Construction_lic_area/unt_SIlag_4        62.605747\n",
            "dtype: float64\n"
          ]
        }
      ]
    },
    {
      "cell_type": "markdown",
      "source": [
        "<font color = 'blue'>Training Test Standard Deviation\n",
        "### \n"
      ],
      "metadata": {
        "id": "ocewVP74ZY7e"
      }
    },
    {
      "cell_type": "code",
      "source": [
        "stdev = X_train.std()\n",
        "print(stdev)"
      ],
      "metadata": {
        "colab": {
          "base_uri": "https://localhost:8080/"
        },
        "id": "uoVEuOCGZSaI",
        "outputId": "b510eaf9-feb5-4fd9-c1b9-e896e6addfb0"
      },
      "execution_count": 44,
      "outputs": [
        {
          "output_type": "stream",
          "name": "stdout",
          "text": [
            "Seasonal                                 1.050611\n",
            "Gray_cement_dispatch_comercial       79567.183196\n",
            "ISE                                      4.942473\n",
            "Construction_lic_area/unt_SIlag_4        3.488844\n",
            "dtype: float64\n"
          ]
        }
      ]
    },
    {
      "cell_type": "code",
      "source": [
        "#run without this for KNN first\n",
        "X_train_st = (X_train - mean)/stdev \n",
        "X_train_st.boxplot()"
      ],
      "metadata": {
        "colab": {
          "base_uri": "https://localhost:8080/",
          "height": 283
        },
        "id": "R92hv3GFZkno",
        "outputId": "316d7c51-d34a-42b7-fc99-f3564a62e690"
      },
      "execution_count": 45,
      "outputs": [
        {
          "output_type": "execute_result",
          "data": {
            "text/plain": [
              "<matplotlib.axes._subplots.AxesSubplot at 0x7f84b7a4d210>"
            ]
          },
          "metadata": {},
          "execution_count": 45
        },
        {
          "output_type": "display_data",
          "data": {
            "image/png": "[encoded data removed]",
            "text/plain": [
              "<Figure size 432x288 with 1 Axes>"
            ]
          },
          "metadata": {
            "needs_background": "light"
          }
        }
      ]
    },
    {
      "cell_type": "markdown",
      "source": [
        "### Test Set preparations, Notice that test is standardized using training set mean and standard deviations"
      ],
      "metadata": {
        "id": "1CofOmPjZyFn"
      }
    },
    {
      "cell_type": "code",
      "source": [
        "X_test_st = (X_test - mean)/stdev \n",
        "X_test_st.boxplot()"
      ],
      "metadata": {
        "colab": {
          "base_uri": "https://localhost:8080/",
          "height": 283
        },
        "id": "MsGMeS1CZuV2",
        "outputId": "103fcc92-ba16-4f40-f258-b484701f1599"
      },
      "execution_count": 46,
      "outputs": [
        {
          "output_type": "execute_result",
          "data": {
            "text/plain": [
              "<matplotlib.axes._subplots.AxesSubplot at 0x7f84b795c490>"
            ]
          },
          "metadata": {},
          "execution_count": 46
        },
        {
          "output_type": "display_data",
          "data": {
            "image/png": "[encoded data removed]",
            "text/plain": [
              "<Figure size 432x288 with 1 Axes>"
            ]
          },
          "metadata": {
            "needs_background": "light"
          }
        }
      ]
    },
    {
      "cell_type": "code",
      "source": [
        "'''\n",
        "model = KNeighborsRegressor(n_neighbors=100)\n",
        "#model = RandomForestRegressor(n_estimators=10) #Number of trees in the forest\n",
        "#model = ExtraTreesRegressor(n_estimators=10)\n",
        "#model = GradientBoostingRegressor(n_estimators = 10) #Number of trees in the forest\n",
        "#model = XGBRegressor(objective=\"reg:squarederror\", random_state=42)\n",
        "#model = CatBoostRegressor() #Change fit in functions\n",
        "#model = LGBMRegressor() #Change fit in functions\n",
        "\n",
        "#Model_Performance(model,X_train,y_train,X_test, y_test)\n",
        "Model_Performance(model,X_train_st,y_train,X_test_st, y_test)\n",
        "'''\n",
        "\n",
        "model = catboost_model\n",
        "\n",
        "Model_Performance(model,X_train_st,y_train,X_test_st, y_test)"
      ],
      "metadata": {
        "colab": {
          "base_uri": "https://localhost:8080/",
          "height": 1000
        },
        "id": "YjfJQRelZ4Q_",
        "outputId": "d79d55ac-266a-414a-94c2-f1eee3fb6265"
      },
      "execution_count": 47,
      "outputs": [
        {
          "output_type": "stream",
          "name": "stdout",
          "text": [
            "Learning rate set to 0.160694\n",
            "0:\tlearn: 0.9813696\ttotal: 411us\tremaining: 40.8ms\n",
            "1:\tlearn: 0.9356888\ttotal: 750us\tremaining: 36.8ms\n",
            "2:\tlearn: 0.8875495\ttotal: 1.07ms\tremaining: 34.5ms\n",
            "3:\tlearn: 0.8582278\ttotal: 1.39ms\tremaining: 33.4ms\n",
            "4:\tlearn: 0.8235573\ttotal: 1.69ms\tremaining: 32.1ms\n",
            "5:\tlearn: 0.7946661\ttotal: 2.03ms\tremaining: 31.8ms\n",
            "6:\tlearn: 0.7614589\ttotal: 2.38ms\tremaining: 31.6ms\n",
            "7:\tlearn: 0.7313558\ttotal: 2.7ms\tremaining: 31.1ms\n",
            "8:\tlearn: 0.7013984\ttotal: 2.96ms\tremaining: 30ms\n",
            "9:\tlearn: 0.6719941\ttotal: 3.27ms\tremaining: 29.4ms\n",
            "10:\tlearn: 0.6463130\ttotal: 3.49ms\tremaining: 28.3ms\n",
            "11:\tlearn: 0.6214553\ttotal: 3.89ms\tremaining: 28.5ms\n",
            "12:\tlearn: 0.5965114\ttotal: 4.18ms\tremaining: 28ms\n",
            "13:\tlearn: 0.5752500\ttotal: 4.64ms\tremaining: 28.5ms\n",
            "14:\tlearn: 0.5527897\ttotal: 5.03ms\tremaining: 28.5ms\n",
            "15:\tlearn: 0.5361291\ttotal: 5.45ms\tremaining: 28.6ms\n",
            "16:\tlearn: 0.5204020\ttotal: 5.9ms\tremaining: 28.8ms\n",
            "17:\tlearn: 0.5055247\ttotal: 6.31ms\tremaining: 28.8ms\n",
            "18:\tlearn: 0.4876332\ttotal: 6.67ms\tremaining: 28.4ms\n",
            "19:\tlearn: 0.4759449\ttotal: 6.98ms\tremaining: 27.9ms\n",
            "20:\tlearn: 0.4576133\ttotal: 7.33ms\tremaining: 27.6ms\n",
            "21:\tlearn: 0.4431487\ttotal: 7.65ms\tremaining: 27.1ms\n",
            "22:\tlearn: 0.4338355\ttotal: 7.98ms\tremaining: 26.7ms\n",
            "23:\tlearn: 0.4176414\ttotal: 8.48ms\tremaining: 26.9ms\n",
            "24:\tlearn: 0.4066190\ttotal: 8.88ms\tremaining: 26.6ms\n",
            "25:\tlearn: 0.3966207\ttotal: 9.35ms\tremaining: 26.6ms\n",
            "26:\tlearn: 0.3862469\ttotal: 9.98ms\tremaining: 27ms\n",
            "27:\tlearn: 0.3731284\ttotal: 10.4ms\tremaining: 26.8ms\n",
            "28:\tlearn: 0.3636034\ttotal: 10.8ms\tremaining: 26.4ms\n",
            "29:\tlearn: 0.3542352\ttotal: 11.2ms\tremaining: 26.1ms\n",
            "30:\tlearn: 0.3433858\ttotal: 11.5ms\tremaining: 25.7ms\n",
            "31:\tlearn: 0.3358923\ttotal: 11.9ms\tremaining: 25.3ms\n",
            "32:\tlearn: 0.3285779\ttotal: 12.2ms\tremaining: 24.8ms\n",
            "33:\tlearn: 0.3205663\ttotal: 17.2ms\tremaining: 33.4ms\n",
            "34:\tlearn: 0.3106746\ttotal: 17.7ms\tremaining: 32.8ms\n",
            "35:\tlearn: 0.3016428\ttotal: 18.1ms\tremaining: 32.1ms\n",
            "36:\tlearn: 0.2940556\ttotal: 18.5ms\tremaining: 31.4ms\n",
            "37:\tlearn: 0.2883973\ttotal: 18.8ms\tremaining: 30.7ms\n",
            "38:\tlearn: 0.2841041\ttotal: 24.3ms\tremaining: 38ms\n",
            "39:\tlearn: 0.2786010\ttotal: 24.8ms\tremaining: 37.2ms\n",
            "40:\tlearn: 0.2673184\ttotal: 25.3ms\tremaining: 36.4ms\n",
            "41:\tlearn: 0.2638813\ttotal: 25.6ms\tremaining: 35.4ms\n",
            "42:\tlearn: 0.2559172\ttotal: 26ms\tremaining: 34.4ms\n",
            "43:\tlearn: 0.2514450\ttotal: 26.5ms\tremaining: 33.7ms\n",
            "44:\tlearn: 0.2469436\ttotal: 27ms\tremaining: 33ms\n",
            "45:\tlearn: 0.2383510\ttotal: 27.3ms\tremaining: 32ms\n",
            "46:\tlearn: 0.2292842\ttotal: 28ms\tremaining: 31.6ms\n",
            "47:\tlearn: 0.2209078\ttotal: 28.3ms\tremaining: 30.7ms\n",
            "48:\tlearn: 0.2169229\ttotal: 28.6ms\tremaining: 29.8ms\n",
            "49:\tlearn: 0.2094932\ttotal: 28.9ms\tremaining: 28.9ms\n",
            "50:\tlearn: 0.2058829\ttotal: 29.3ms\tremaining: 28.1ms\n",
            "51:\tlearn: 0.1982215\ttotal: 29.7ms\tremaining: 27.4ms\n",
            "52:\tlearn: 0.1954025\ttotal: 30ms\tremaining: 26.6ms\n",
            "53:\tlearn: 0.1926195\ttotal: 30.3ms\tremaining: 25.8ms\n",
            "54:\tlearn: 0.1843286\ttotal: 30.6ms\tremaining: 25.1ms\n",
            "55:\tlearn: 0.1815455\ttotal: 31ms\tremaining: 24.3ms\n",
            "56:\tlearn: 0.1756441\ttotal: 31.3ms\tremaining: 23.6ms\n",
            "57:\tlearn: 0.1684413\ttotal: 31.6ms\tremaining: 22.9ms\n",
            "58:\tlearn: 0.1617695\ttotal: 31.9ms\tremaining: 22.2ms\n",
            "59:\tlearn: 0.1595050\ttotal: 32.2ms\tremaining: 21.5ms\n",
            "60:\tlearn: 0.1543394\ttotal: 34.2ms\tremaining: 21.8ms\n",
            "61:\tlearn: 0.1522317\ttotal: 34.6ms\tremaining: 21.2ms\n",
            "62:\tlearn: 0.1461499\ttotal: 34.9ms\tremaining: 20.5ms\n",
            "63:\tlearn: 0.1443042\ttotal: 35.3ms\tremaining: 19.9ms\n",
            "64:\tlearn: 0.1388116\ttotal: 35.8ms\tremaining: 19.3ms\n",
            "65:\tlearn: 0.1337052\ttotal: 36.2ms\tremaining: 18.6ms\n",
            "66:\tlearn: 0.1303192\ttotal: 36.5ms\tremaining: 18ms\n",
            "67:\tlearn: 0.1249400\ttotal: 36.9ms\tremaining: 17.3ms\n",
            "68:\tlearn: 0.1204225\ttotal: 37.2ms\tremaining: 16.7ms\n",
            "69:\tlearn: 0.1175683\ttotal: 37.6ms\tremaining: 16.1ms\n",
            "70:\tlearn: 0.1135837\ttotal: 37.9ms\tremaining: 15.5ms\n",
            "71:\tlearn: 0.1098930\ttotal: 38.2ms\tremaining: 14.8ms\n",
            "72:\tlearn: 0.1087002\ttotal: 38.5ms\tremaining: 14.2ms\n",
            "73:\tlearn: 0.1051828\ttotal: 38.8ms\tremaining: 13.6ms\n",
            "74:\tlearn: 0.1019761\ttotal: 39.1ms\tremaining: 13ms\n",
            "75:\tlearn: 0.0989733\ttotal: 39.3ms\tremaining: 12.4ms\n",
            "76:\tlearn: 0.0978806\ttotal: 39.6ms\tremaining: 11.8ms\n",
            "77:\tlearn: 0.0947071\ttotal: 39.9ms\tremaining: 11.2ms\n",
            "78:\tlearn: 0.0935589\ttotal: 40.2ms\tremaining: 10.7ms\n",
            "79:\tlearn: 0.0905604\ttotal: 40.5ms\tremaining: 10.1ms\n",
            "80:\tlearn: 0.0876244\ttotal: 40.8ms\tremaining: 9.56ms\n",
            "81:\tlearn: 0.0859163\ttotal: 41.1ms\tremaining: 9.01ms\n",
            "82:\tlearn: 0.0849515\ttotal: 41.3ms\tremaining: 8.47ms\n",
            "83:\tlearn: 0.0827299\ttotal: 41.6ms\tremaining: 7.93ms\n",
            "84:\tlearn: 0.0817945\ttotal: 41.9ms\tremaining: 7.4ms\n",
            "85:\tlearn: 0.0797480\ttotal: 42.2ms\tremaining: 6.87ms\n",
            "86:\tlearn: 0.0779009\ttotal: 42.5ms\tremaining: 6.35ms\n",
            "87:\tlearn: 0.0759949\ttotal: 42.8ms\tremaining: 5.84ms\n",
            "88:\tlearn: 0.0743480\ttotal: 43.1ms\tremaining: 5.33ms\n",
            "89:\tlearn: 0.0717895\ttotal: 43.4ms\tremaining: 4.82ms\n",
            "90:\tlearn: 0.0702082\ttotal: 43.7ms\tremaining: 4.32ms\n",
            "91:\tlearn: 0.0694033\ttotal: 44ms\tremaining: 3.83ms\n",
            "92:\tlearn: 0.0671070\ttotal: 44.3ms\tremaining: 3.33ms\n",
            "93:\tlearn: 0.0663494\ttotal: 44.6ms\tremaining: 2.85ms\n",
            "94:\tlearn: 0.0648099\ttotal: 44.9ms\tremaining: 2.36ms\n",
            "95:\tlearn: 0.0628235\ttotal: 45.5ms\tremaining: 1.89ms\n",
            "96:\tlearn: 0.0615936\ttotal: 46ms\tremaining: 1.42ms\n",
            "97:\tlearn: 0.0609455\ttotal: 46.5ms\tremaining: 948us\n",
            "98:\tlearn: 0.0602989\ttotal: 47.2ms\tremaining: 476us\n",
            "99:\tlearn: 0.0584317\ttotal: 47.8ms\tremaining: 0us\n",
            "Test Metrics:\n"
          ]
        },
        {
          "output_type": "error",
          "ename": "NameError",
          "evalue": "ignored",
          "traceback": [
            "\u001b[0;31m---------------------------------------------------------------------------\u001b[0m",
            "\u001b[0;31mNameError\u001b[0m                                 Traceback (most recent call last)",
            "\u001b[0;32m<ipython-input-47-963f9c3542c2>\u001b[0m in \u001b[0;36m<module>\u001b[0;34m()\u001b[0m\n\u001b[1;32m     14\u001b[0m \u001b[0mmodel\u001b[0m \u001b[0;34m=\u001b[0m \u001b[0mcatboost_model\u001b[0m\u001b[0;34m\u001b[0m\u001b[0;34m\u001b[0m\u001b[0m\n\u001b[1;32m     15\u001b[0m \u001b[0;34m\u001b[0m\u001b[0m\n\u001b[0;32m---> 16\u001b[0;31m \u001b[0mModel_Performance\u001b[0m\u001b[0;34m(\u001b[0m\u001b[0mmodel\u001b[0m\u001b[0;34m,\u001b[0m\u001b[0mX_train_st\u001b[0m\u001b[0;34m,\u001b[0m\u001b[0my_train\u001b[0m\u001b[0;34m,\u001b[0m\u001b[0mX_test_st\u001b[0m\u001b[0;34m,\u001b[0m \u001b[0my_test\u001b[0m\u001b[0;34m)\u001b[0m\u001b[0;34m\u001b[0m\u001b[0;34m\u001b[0m\u001b[0m\n\u001b[0m",
            "\u001b[0;32m<ipython-input-39-6fab96e12a21>\u001b[0m in \u001b[0;36mModel_Performance\u001b[0;34m(model, X_train, y_train, X_test, y_test)\u001b[0m\n\u001b[1;32m      6\u001b[0m     \u001b[0my_pred_Test\u001b[0m \u001b[0;34m=\u001b[0m \u001b[0mmodel\u001b[0m\u001b[0;34m.\u001b[0m\u001b[0mpredict\u001b[0m\u001b[0;34m(\u001b[0m\u001b[0mX_test\u001b[0m\u001b[0;34m)\u001b[0m \u001b[0;31m#Predictions\u001b[0m\u001b[0;34m\u001b[0m\u001b[0;34m\u001b[0m\u001b[0m\n\u001b[1;32m      7\u001b[0m \u001b[0;34m\u001b[0m\u001b[0m\n\u001b[0;32m----> 8\u001b[0;31m     \u001b[0mMetrics\u001b[0m\u001b[0;34m(\u001b[0m\u001b[0my_test\u001b[0m\u001b[0;34m,\u001b[0m \u001b[0my_pred_Test\u001b[0m\u001b[0;34m)\u001b[0m\u001b[0;34m\u001b[0m\u001b[0;34m\u001b[0m\u001b[0m\n\u001b[0m\u001b[1;32m      9\u001b[0m \u001b[0;34m\u001b[0m\u001b[0m\n\u001b[1;32m     10\u001b[0m     \u001b[0mPredicted_Plot\u001b[0m\u001b[0;34m(\u001b[0m\u001b[0my_train\u001b[0m\u001b[0;34m,\u001b[0m \u001b[0my_pred_Train\u001b[0m\u001b[0;34m,\u001b[0m \u001b[0my_test\u001b[0m\u001b[0;34m,\u001b[0m \u001b[0my_pred_Test\u001b[0m\u001b[0;34m)\u001b[0m\u001b[0;34m\u001b[0m\u001b[0;34m\u001b[0m\u001b[0m\n",
            "\u001b[0;32m<ipython-input-40-a6ffdd27a5a1>\u001b[0m in \u001b[0;36mMetrics\u001b[0;34m(y_test, y_pred_Test)\u001b[0m\n\u001b[1;32m      1\u001b[0m \u001b[0;32mdef\u001b[0m \u001b[0mMetrics\u001b[0m\u001b[0;34m(\u001b[0m\u001b[0my_test\u001b[0m\u001b[0;34m,\u001b[0m \u001b[0my_pred_Test\u001b[0m\u001b[0;34m)\u001b[0m\u001b[0;34m:\u001b[0m\u001b[0;34m\u001b[0m\u001b[0;34m\u001b[0m\u001b[0m\n\u001b[1;32m      2\u001b[0m     \u001b[0mprint\u001b[0m\u001b[0;34m(\u001b[0m\u001b[0;34m'Test Metrics:'\u001b[0m\u001b[0;34m)\u001b[0m\u001b[0;34m\u001b[0m\u001b[0;34m\u001b[0m\u001b[0m\n\u001b[0;32m----> 3\u001b[0;31m     \u001b[0mprint\u001b[0m\u001b[0;34m(\u001b[0m\u001b[0;34m'R squared:'\u001b[0m\u001b[0;34m,\u001b[0m \u001b[0mmetrics\u001b[0m\u001b[0;34m.\u001b[0m\u001b[0mr2_score\u001b[0m\u001b[0;34m(\u001b[0m\u001b[0my_test\u001b[0m\u001b[0;34m,\u001b[0m \u001b[0my_pred_Test\u001b[0m\u001b[0;34m)\u001b[0m\u001b[0;34m)\u001b[0m\u001b[0;34m\u001b[0m\u001b[0;34m\u001b[0m\u001b[0m\n\u001b[0m\u001b[1;32m      4\u001b[0m     \u001b[0mprint\u001b[0m\u001b[0;34m(\u001b[0m\u001b[0;34m'Mean Absolute Error:'\u001b[0m\u001b[0;34m,\u001b[0m \u001b[0mmetrics\u001b[0m\u001b[0;34m.\u001b[0m\u001b[0mmean_absolute_error\u001b[0m\u001b[0;34m(\u001b[0m\u001b[0my_test\u001b[0m\u001b[0;34m,\u001b[0m \u001b[0my_pred_Test\u001b[0m\u001b[0;34m)\u001b[0m\u001b[0;34m)\u001b[0m\u001b[0;34m\u001b[0m\u001b[0;34m\u001b[0m\u001b[0m\n\u001b[1;32m      5\u001b[0m     \u001b[0mprint\u001b[0m\u001b[0;34m(\u001b[0m\u001b[0;34m'Mean Squared Error:'\u001b[0m\u001b[0;34m,\u001b[0m \u001b[0mmetrics\u001b[0m\u001b[0;34m.\u001b[0m\u001b[0mmean_squared_error\u001b[0m\u001b[0;34m(\u001b[0m\u001b[0my_test\u001b[0m\u001b[0;34m,\u001b[0m \u001b[0my_pred_Test\u001b[0m\u001b[0;34m)\u001b[0m\u001b[0;34m)\u001b[0m\u001b[0;34m\u001b[0m\u001b[0;34m\u001b[0m\u001b[0m\n",
            "\u001b[0;31mNameError\u001b[0m: name 'metrics' is not defined"
          ]
        }
      ]
    },
    {
      "cell_type": "markdown",
      "source": [
        "### Feature Importance"
      ],
      "metadata": {
        "id": "Nt1VIXVvapQr"
      }
    },
    {
      "cell_type": "code",
      "source": [
        "'''\n",
        "RegForest = RandomForestRegressor(n_estimators=10)\n",
        "RegForest.fit(X_train,y_train)\n",
        "\n",
        "Features = df.columns[0:10]\n",
        "\n",
        "Feature_importances = pd.Series(RegForest.feature_importances_, index=Features)\n",
        "Feature_importances.plot.bar()\n",
        "'''\n",
        "\n",
        "RegCatBoost = CatBoostRegressor(n_estimators=10)\n",
        "RegCatBoost.fit(X_train,y_train)\n",
        "\n",
        "Features = dataframe.columns[0:10]\n",
        "\n",
        "Feature_importances = pd.Series(RegCatBoost.feature_importances_, index=Features)\n",
        "Feature_importances.plot.bar()\n"
      ],
      "metadata": {
        "colab": {
          "base_uri": "https://localhost:8080/",
          "height": 565
        },
        "id": "Q-VWu0uuaONC",
        "outputId": "920074cc-5118-47fe-88f8-ebb5d5ffcda3"
      },
      "execution_count": 52,
      "outputs": [
        {
          "output_type": "stream",
          "name": "stdout",
          "text": [
            "Learning rate set to 0.5\n",
            "0:\tlearn: 0.8643326\ttotal: 409us\tremaining: 3.68ms\n",
            "1:\tlearn: 0.7484689\ttotal: 2.2ms\tremaining: 8.8ms\n",
            "2:\tlearn: 0.6504314\ttotal: 2.71ms\tremaining: 6.33ms\n",
            "3:\tlearn: 0.6118392\ttotal: 3.13ms\tremaining: 4.7ms\n",
            "4:\tlearn: 0.5359581\ttotal: 3.55ms\tremaining: 3.55ms\n",
            "5:\tlearn: 0.4965546\ttotal: 4.18ms\tremaining: 2.79ms\n",
            "6:\tlearn: 0.4495743\ttotal: 4.68ms\tremaining: 2.01ms\n",
            "7:\tlearn: 0.4106250\ttotal: 5.16ms\tremaining: 1.29ms\n",
            "8:\tlearn: 0.3789702\ttotal: 5.6ms\tremaining: 622us\n",
            "9:\tlearn: 0.3412619\ttotal: 6.06ms\tremaining: 0us\n"
          ]
        },
        {
          "output_type": "error",
          "ename": "ValueError",
          "evalue": "ignored",
          "traceback": [
            "\u001b[0;31m---------------------------------------------------------------------------\u001b[0m",
            "\u001b[0;31mValueError\u001b[0m                                Traceback (most recent call last)",
            "\u001b[0;32m<ipython-input-52-29ca26cf6edc>\u001b[0m in \u001b[0;36m<module>\u001b[0;34m()\u001b[0m\n\u001b[1;32m     14\u001b[0m \u001b[0mFeatures\u001b[0m \u001b[0;34m=\u001b[0m \u001b[0mdataframe\u001b[0m\u001b[0;34m.\u001b[0m\u001b[0mcolumns\u001b[0m\u001b[0;34m[\u001b[0m\u001b[0;36m0\u001b[0m\u001b[0;34m:\u001b[0m\u001b[0;36m10\u001b[0m\u001b[0;34m]\u001b[0m\u001b[0;34m\u001b[0m\u001b[0;34m\u001b[0m\u001b[0m\n\u001b[1;32m     15\u001b[0m \u001b[0;34m\u001b[0m\u001b[0m\n\u001b[0;32m---> 16\u001b[0;31m \u001b[0mFeature_importances\u001b[0m \u001b[0;34m=\u001b[0m \u001b[0mpd\u001b[0m\u001b[0;34m.\u001b[0m\u001b[0mSeries\u001b[0m\u001b[0;34m(\u001b[0m\u001b[0mRegCatBoost\u001b[0m\u001b[0;34m.\u001b[0m\u001b[0mfeature_importances_\u001b[0m\u001b[0;34m,\u001b[0m \u001b[0mindex\u001b[0m\u001b[0;34m=\u001b[0m\u001b[0mFeatures\u001b[0m\u001b[0;34m)\u001b[0m\u001b[0;34m\u001b[0m\u001b[0;34m\u001b[0m\u001b[0m\n\u001b[0m\u001b[1;32m     17\u001b[0m \u001b[0mFeature_importances\u001b[0m\u001b[0;34m.\u001b[0m\u001b[0mplot\u001b[0m\u001b[0;34m.\u001b[0m\u001b[0mbar\u001b[0m\u001b[0;34m(\u001b[0m\u001b[0;34m)\u001b[0m\u001b[0;34m\u001b[0m\u001b[0;34m\u001b[0m\u001b[0m\n",
            "\u001b[0;32m/usr/local/lib/python3.7/dist-packages/pandas/core/series.py\u001b[0m in \u001b[0;36m__init__\u001b[0;34m(self, data, index, dtype, name, copy, fastpath)\u001b[0m\n\u001b[1;32m    312\u001b[0m                     \u001b[0;32mif\u001b[0m \u001b[0mlen\u001b[0m\u001b[0;34m(\u001b[0m\u001b[0mindex\u001b[0m\u001b[0;34m)\u001b[0m \u001b[0;34m!=\u001b[0m \u001b[0mlen\u001b[0m\u001b[0;34m(\u001b[0m\u001b[0mdata\u001b[0m\u001b[0;34m)\u001b[0m\u001b[0;34m:\u001b[0m\u001b[0;34m\u001b[0m\u001b[0;34m\u001b[0m\u001b[0m\n\u001b[1;32m    313\u001b[0m                         raise ValueError(\n\u001b[0;32m--> 314\u001b[0;31m                             \u001b[0;34mf\"Length of passed values is {len(data)}, \"\u001b[0m\u001b[0;34m\u001b[0m\u001b[0;34m\u001b[0m\u001b[0m\n\u001b[0m\u001b[1;32m    315\u001b[0m                             \u001b[0;34mf\"index implies {len(index)}.\"\u001b[0m\u001b[0;34m\u001b[0m\u001b[0;34m\u001b[0m\u001b[0m\n\u001b[1;32m    316\u001b[0m                         )\n",
            "\u001b[0;31mValueError\u001b[0m: Length of passed values is 4, index implies 5."
          ]
        }
      ]
    },
    {
      "cell_type": "markdown",
      "source": [
        "## Juans CATBoost Sectio"
      ],
      "metadata": {
        "id": "TailpWQGb9a_"
      }
    },
    {
      "cell_type": "markdown",
      "source": [
        "### Feature importance"
      ],
      "metadata": {
        "id": "3CoZ7ifWcDPh"
      }
    },
    {
      "cell_type": "code",
      "source": [
        "cb = CatBoostRegressor()\n",
        "cb.fit(X_train, y_train, eval_set=(X_test, y_test), verbose=0)\n",
        "\n",
        "Features = dataframe.columns[0:10]\n",
        "\n",
        "Feature_importances = pd.Series(cb.feature_importances_, index=Features)\n",
        "Feature_importances.plot.bar()"
      ],
      "metadata": {
        "colab": {
          "base_uri": "https://localhost:8080/",
          "height": 357
        },
        "id": "aS6Ds9OFb9FI",
        "outputId": "c563b8d4-6da8-40e9-f1f4-29831ba362a7"
      },
      "execution_count": 54,
      "outputs": [
        {
          "output_type": "error",
          "ename": "ValueError",
          "evalue": "ignored",
          "traceback": [
            "\u001b[0;31m---------------------------------------------------------------------------\u001b[0m",
            "\u001b[0;31mValueError\u001b[0m                                Traceback (most recent call last)",
            "\u001b[0;32m<ipython-input-54-64db1d5f32d0>\u001b[0m in \u001b[0;36m<module>\u001b[0;34m()\u001b[0m\n\u001b[1;32m      4\u001b[0m \u001b[0mFeatures\u001b[0m \u001b[0;34m=\u001b[0m \u001b[0mdataframe\u001b[0m\u001b[0;34m.\u001b[0m\u001b[0mcolumns\u001b[0m\u001b[0;34m[\u001b[0m\u001b[0;36m0\u001b[0m\u001b[0;34m:\u001b[0m\u001b[0;36m10\u001b[0m\u001b[0;34m]\u001b[0m\u001b[0;34m\u001b[0m\u001b[0;34m\u001b[0m\u001b[0m\n\u001b[1;32m      5\u001b[0m \u001b[0;34m\u001b[0m\u001b[0m\n\u001b[0;32m----> 6\u001b[0;31m \u001b[0mFeature_importances\u001b[0m \u001b[0;34m=\u001b[0m \u001b[0mpd\u001b[0m\u001b[0;34m.\u001b[0m\u001b[0mSeries\u001b[0m\u001b[0;34m(\u001b[0m\u001b[0mcb\u001b[0m\u001b[0;34m.\u001b[0m\u001b[0mfeature_importances_\u001b[0m\u001b[0;34m,\u001b[0m \u001b[0mindex\u001b[0m\u001b[0;34m=\u001b[0m\u001b[0mFeatures\u001b[0m\u001b[0;34m)\u001b[0m\u001b[0;34m\u001b[0m\u001b[0;34m\u001b[0m\u001b[0m\n\u001b[0m\u001b[1;32m      7\u001b[0m \u001b[0mFeature_importances\u001b[0m\u001b[0;34m.\u001b[0m\u001b[0mplot\u001b[0m\u001b[0;34m.\u001b[0m\u001b[0mbar\u001b[0m\u001b[0;34m(\u001b[0m\u001b[0;34m)\u001b[0m\u001b[0;34m\u001b[0m\u001b[0;34m\u001b[0m\u001b[0m\n",
            "\u001b[0;32m/usr/local/lib/python3.7/dist-packages/pandas/core/series.py\u001b[0m in \u001b[0;36m__init__\u001b[0;34m(self, data, index, dtype, name, copy, fastpath)\u001b[0m\n\u001b[1;32m    312\u001b[0m                     \u001b[0;32mif\u001b[0m \u001b[0mlen\u001b[0m\u001b[0;34m(\u001b[0m\u001b[0mindex\u001b[0m\u001b[0;34m)\u001b[0m \u001b[0;34m!=\u001b[0m \u001b[0mlen\u001b[0m\u001b[0;34m(\u001b[0m\u001b[0mdata\u001b[0m\u001b[0;34m)\u001b[0m\u001b[0;34m:\u001b[0m\u001b[0;34m\u001b[0m\u001b[0;34m\u001b[0m\u001b[0m\n\u001b[1;32m    313\u001b[0m                         raise ValueError(\n\u001b[0;32m--> 314\u001b[0;31m                             \u001b[0;34mf\"Length of passed values is {len(data)}, \"\u001b[0m\u001b[0;34m\u001b[0m\u001b[0;34m\u001b[0m\u001b[0m\n\u001b[0m\u001b[1;32m    315\u001b[0m                             \u001b[0;34mf\"index implies {len(index)}.\"\u001b[0m\u001b[0;34m\u001b[0m\u001b[0;34m\u001b[0m\u001b[0m\n\u001b[1;32m    316\u001b[0m                         )\n",
            "\u001b[0;31mValueError\u001b[0m: Length of passed values is 4, index implies 5."
          ]
        }
      ]
    }
  ]
}