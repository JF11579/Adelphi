{
  "nbformat": 4,
  "nbformat_minor": 0,
  "metadata": {
    "colab": {
      "name": "Sprint_6_Sat_Porc Data.ipynb",
      "provenance": [],
      "collapsed_sections": [],
      "include_colab_link": true
    },
    "kernelspec": {
      "name": "python3",
      "display_name": "Python 3"
    },
    "language_info": {
      "name": "python"
    },
    "widgets": {
      "application/vnd.jupyter.widget-state+json": {
        "43f3342e6f544a8196c0617d0574e9a6": {
          "model_module": "catboost-widget",
          "model_name": "CatboostWidgetModel",
          "model_module_version": "^1.0.0",
          "state": {
            "_view_name": "CatboostWidgetView",
            "_dom_classes": [],
            "_model_name": "CatboostWidgetModel",
            "data": {
              "catboost_info": {
                "content": {
                  "data": {
                    "meta": {
                      "name": "experiment",
                      "parameters": "",
                      "test_metrics": [
                        {
                          "best_value": "Min",
                          "name": "RMSE"
                        }
                      ],
                      "learn_sets": [
                        "learn"
                      ],
                      "launch_mode": "Train",
                      "learn_metrics": [
                        {
                          "best_value": "Min",
                          "name": "RMSE"
                        }
                      ],
                      "iteration_count": 100,
                      "test_sets": [
                        "test"
                      ]
                    },
                    "iterations": [
                      {
                        "test": [
                          0.8523070407
                        ],
                        "passed_time": 0.04625898457,
                        "iteration": 0,
                        "remaining_time": 4.579639473,
                        "learn": [
                          0.9940085111
                        ]
                      },
                      {
                        "test": [
                          0.8349411814
                        ],
                        "passed_time": 0.04681575991,
                        "iteration": 1,
                        "remaining_time": 2.293972236,
                        "learn": [
                          0.9576158352
                        ]
                      },
                      {
                        "test": [
                          0.8090773171
                        ],
                        "passed_time": 0.04722730103,
                        "iteration": 2,
                        "remaining_time": 1.527016067,
                        "learn": [
                          0.9184930879
                        ]
                      },
                      {
                        "test": [
                          0.796783526
                        ],
                        "passed_time": 0.04759042081,
                        "iteration": 3,
                        "remaining_time": 1.142170099,
                        "learn": [
                          0.8941236839
                        ]
                      },
                      {
                        "test": [
                          0.7900863185
                        ],
                        "passed_time": 0.04794703063,
                        "iteration": 4,
                        "remaining_time": 0.910993582,
                        "learn": [
                          0.8650808419
                        ]
                      },
                      {
                        "test": [
                          0.7792605085
                        ],
                        "passed_time": 0.04832262098,
                        "iteration": 5,
                        "remaining_time": 0.7570543953,
                        "learn": [
                          0.8406624429
                        ]
                      },
                      {
                        "test": [
                          0.7539196584
                        ],
                        "passed_time": 0.04855692743,
                        "iteration": 6,
                        "remaining_time": 0.6451134645,
                        "learn": [
                          0.8124855475
                        ]
                      },
                      {
                        "test": [
                          0.7354391639
                        ],
                        "passed_time": 0.0488250446,
                        "iteration": 7,
                        "remaining_time": 0.5614880129,
                        "learn": [
                          0.7866518504
                        ]
                      },
                      {
                        "test": [
                          0.7010838662
                        ],
                        "passed_time": 0.04900272949,
                        "iteration": 8,
                        "remaining_time": 0.4954720427,
                        "learn": [
                          0.7598118018
                        ]
                      },
                      {
                        "test": [
                          0.6903909203
                        ],
                        "passed_time": 0.04925635648,
                        "iteration": 9,
                        "remaining_time": 0.4433072083,
                        "learn": [
                          0.7337147214
                        ]
                      },
                      {
                        "test": [
                          0.6899270735
                        ],
                        "passed_time": 0.04939696035,
                        "iteration": 10,
                        "remaining_time": 0.3996663156,
                        "learn": [
                          0.7110968841
                        ]
                      },
                      {
                        "test": [
                          0.6624700663
                        ],
                        "passed_time": 0.04962957654,
                        "iteration": 11,
                        "remaining_time": 0.363950228,
                        "learn": [
                          0.6877229742
                        ]
                      },
                      {
                        "test": [
                          0.6485915871
                        ],
                        "passed_time": 0.04985860285,
                        "iteration": 12,
                        "remaining_time": 0.3336691114,
                        "learn": [
                          0.664026538
                        ]
                      },
                      {
                        "test": [
                          0.6435388425
                        ],
                        "passed_time": 0.05008353927,
                        "iteration": 13,
                        "remaining_time": 0.3076560269,
                        "learn": [
                          0.6437690794
                        ]
                      },
                      {
                        "test": [
                          0.6285700138
                        ],
                        "passed_time": 0.05027175467,
                        "iteration": 14,
                        "remaining_time": 0.2848732765,
                        "learn": [
                          0.6207456121
                        ]
                      },
                      {
                        "test": [
                          0.6067459138
                        ],
                        "passed_time": 0.05050763139,
                        "iteration": 15,
                        "remaining_time": 0.2651650648,
                        "learn": [
                          0.6054427629
                        ]
                      },
                      {
                        "test": [
                          0.5901781329
                        ],
                        "passed_time": 0.0507546182,
                        "iteration": 16,
                        "remaining_time": 0.2478019594,
                        "learn": [
                          0.5871967393
                        ]
                      },
                      {
                        "test": [
                          0.5800338034
                        ],
                        "passed_time": 0.05098504455,
                        "iteration": 17,
                        "remaining_time": 0.2322652029,
                        "learn": [
                          0.5713478682
                        ]
                      },
                      {
                        "test": [
                          0.5721178089
                        ],
                        "passed_time": 0.05122253109,
                        "iteration": 18,
                        "remaining_time": 0.2183697378,
                        "learn": [
                          0.5546535738
                        ]
                      },
                      {
                        "test": [
                          0.568946458
                        ],
                        "passed_time": 0.0514517974,
                        "iteration": 19,
                        "remaining_time": 0.2058071896,
                        "learn": [
                          0.5436007972
                        ]
                      },
                      {
                        "test": [
                          0.5560617859
                        ],
                        "passed_time": 0.05168172374,
                        "iteration": 20,
                        "remaining_time": 0.1944217226,
                        "learn": [
                          0.527182254
                        ]
                      },
                      {
                        "test": [
                          0.5439193623
                        ],
                        "passed_time": 0.05191043004,
                        "iteration": 21,
                        "remaining_time": 0.1840460701,
                        "learn": [
                          0.5132802746
                        ]
                      },
                      {
                        "test": [
                          0.5418334114
                        ],
                        "passed_time": 0.05214053638,
                        "iteration": 22,
                        "remaining_time": 0.1745574479,
                        "learn": [
                          0.5033649372
                        ]
                      },
                      {
                        "test": [
                          0.5304718953
                        ],
                        "passed_time": 0.05238855299,
                        "iteration": 23,
                        "remaining_time": 0.1658970845,
                        "learn": [
                          0.4896138064
                        ]
                      },
                      {
                        "test": [
                          0.5273411745
                        ],
                        "passed_time": 0.05262236965,
                        "iteration": 24,
                        "remaining_time": 0.157867109,
                        "learn": [
                          0.4770735505
                        ]
                      },
                      {
                        "test": [
                          0.523052454
                        ],
                        "passed_time": 0.052860986,
                        "iteration": 25,
                        "remaining_time": 0.1504504986,
                        "learn": [
                          0.4667832042
                        ]
                      },
                      {
                        "test": [
                          0.5159478614
                        ],
                        "passed_time": 0.05309736274,
                        "iteration": 26,
                        "remaining_time": 0.1435595363,
                        "learn": [
                          0.4565307487
                        ]
                      },
                      {
                        "test": [
                          0.5122869871
                        ],
                        "passed_time": 0.05332704906,
                        "iteration": 27,
                        "remaining_time": 0.1371266976,
                        "learn": [
                          0.4483447322
                        ]
                      },
                      {
                        "test": [
                          0.5062183076
                        ],
                        "passed_time": 0.05355597537,
                        "iteration": 28,
                        "remaining_time": 0.1311198018,
                        "learn": [
                          0.4396426966
                        ]
                      },
                      {
                        "test": [
                          0.5036884045
                        ],
                        "passed_time": 0.05378405188,
                        "iteration": 29,
                        "remaining_time": 0.125496121,
                        "learn": [
                          0.4313560571
                        ]
                      },
                      {
                        "test": [
                          0.5038897656
                        ],
                        "passed_time": 0.05390352539,
                        "iteration": 30,
                        "remaining_time": 0.1199788146,
                        "learn": [
                          0.426102219
                        ]
                      },
                      {
                        "test": [
                          0.5024849533
                        ],
                        "passed_time": 0.05413403174,
                        "iteration": 31,
                        "remaining_time": 0.1150348174,
                        "learn": [
                          0.4136365762
                        ]
                      },
                      {
                        "test": [
                          0.5019670786
                        ],
                        "passed_time": 0.05437385835,
                        "iteration": 32,
                        "remaining_time": 0.1103954094,
                        "learn": [
                          0.4019449849
                        ]
                      },
                      {
                        "test": [
                          0.4927343384
                        ],
                        "passed_time": 0.05460425447,
                        "iteration": 33,
                        "remaining_time": 0.105996494,
                        "learn": [
                          0.3941573311
                        ]
                      },
                      {
                        "test": [
                          0.4926389547
                        ],
                        "passed_time": 0.05482661082,
                        "iteration": 34,
                        "remaining_time": 0.1018208487,
                        "learn": [
                          0.3868627551
                        ]
                      },
                      {
                        "test": [
                          0.4929194887
                        ],
                        "passed_time": 0.05505291705,
                        "iteration": 35,
                        "remaining_time": 0.09787185254,
                        "learn": [
                          0.3803418081
                        ]
                      },
                      {
                        "test": [
                          0.4923307775
                        ],
                        "passed_time": 0.05522887212,
                        "iteration": 36,
                        "remaining_time": 0.09403834983,
                        "learn": [
                          0.3755545597
                        ]
                      },
                      {
                        "test": [
                          0.4938067457
                        ],
                        "passed_time": 0.05547885901,
                        "iteration": 37,
                        "remaining_time": 0.09051813838,
                        "learn": [
                          0.3665592897
                        ]
                      },
                      {
                        "test": [
                          0.4944253707
                        ],
                        "passed_time": 0.0557154153,
                        "iteration": 38,
                        "remaining_time": 0.08714462394,
                        "learn": [
                          0.3596060061
                        ]
                      },
                      {
                        "test": [
                          0.4923037528
                        ],
                        "passed_time": 0.05595361164,
                        "iteration": 39,
                        "remaining_time": 0.08393041747,
                        "learn": [
                          0.3543320451
                        ]
                      },
                      {
                        "test": [
                          0.4891949029
                        ],
                        "passed_time": 0.05618732786,
                        "iteration": 40,
                        "remaining_time": 0.08085493521,
                        "learn": [
                          0.3471980726
                        ]
                      },
                      {
                        "test": [
                          0.4886663518
                        ],
                        "passed_time": 0.05641692441,
                        "iteration": 41,
                        "remaining_time": 0.07790908609,
                        "learn": [
                          0.3428393733
                        ]
                      },
                      {
                        "test": [
                          0.485756085
                        ],
                        "passed_time": 0.05667460173,
                        "iteration": 42,
                        "remaining_time": 0.07512679764,
                        "learn": [
                          0.3368359898
                        ]
                      },
                      {
                        "test": [
                          0.4850314907
                        ],
                        "passed_time": 0.05696686978,
                        "iteration": 43,
                        "remaining_time": 0.07250328881,
                        "learn": [
                          0.3318165393
                        ]
                      },
                      {
                        "test": [
                          0.4833319226
                        ],
                        "passed_time": 0.05720797642,
                        "iteration": 44,
                        "remaining_time": 0.06992086007,
                        "learn": [
                          0.3241355145
                        ]
                      },
                      {
                        "test": [
                          0.4817071524
                        ],
                        "passed_time": 0.05744373314,
                        "iteration": 45,
                        "remaining_time": 0.0674339476,
                        "learn": [
                          0.3176332259
                        ]
                      },
                      {
                        "test": [
                          0.4808262813
                        ],
                        "passed_time": 0.05768315973,
                        "iteration": 46,
                        "remaining_time": 0.06504696736,
                        "learn": [
                          0.3113790019
                        ]
                      },
                      {
                        "test": [
                          0.4819619809
                        ],
                        "passed_time": 0.057910426,
                        "iteration": 47,
                        "remaining_time": 0.06273629483,
                        "learn": [
                          0.3037763074
                        ]
                      },
                      {
                        "test": [
                          0.4795285663
                        ],
                        "passed_time": 0.05816068267,
                        "iteration": 48,
                        "remaining_time": 0.06053458808,
                        "learn": [
                          0.2962460957
                        ]
                      },
                      {
                        "test": [
                          0.4765383916
                        ],
                        "passed_time": 0.05839005921,
                        "iteration": 49,
                        "remaining_time": 0.05839005921,
                        "learn": [
                          0.2923410359
                        ]
                      },
                      {
                        "test": [
                          0.4765687975
                        ],
                        "passed_time": 0.05863591576,
                        "iteration": 50,
                        "remaining_time": 0.05633646808,
                        "learn": [
                          0.2889085814
                        ]
                      },
                      {
                        "test": [
                          0.4798021834
                        ],
                        "passed_time": 0.05887285206,
                        "iteration": 51,
                        "remaining_time": 0.05434417114,
                        "learn": [
                          0.2814621765
                        ]
                      },
                      {
                        "test": [
                          0.4780409718
                        ],
                        "passed_time": 0.05910937858,
                        "iteration": 52,
                        "remaining_time": 0.05241775082,
                        "learn": [
                          0.273271821
                        ]
                      },
                      {
                        "test": [
                          0.4775965339
                        ],
                        "passed_time": 0.05934458506,
                        "iteration": 53,
                        "remaining_time": 0.05055279468,
                        "learn": [
                          0.2660076376
                        ]
                      },
                      {
                        "test": [
                          0.4779826625
                        ],
                        "passed_time": 0.0594941994,
                        "iteration": 54,
                        "remaining_time": 0.04867707224,
                        "learn": [
                          0.2631516324
                        ]
                      },
                      {
                        "test": [
                          0.4784745225
                        ],
                        "passed_time": 0.05973111615,
                        "iteration": 55,
                        "remaining_time": 0.04693159126,
                        "learn": [
                          0.2596345983
                        ]
                      },
                      {
                        "test": [
                          0.479086118
                        ],
                        "passed_time": 0.05996621241,
                        "iteration": 56,
                        "remaining_time": 0.04523766901,
                        "learn": [
                          0.2559308845
                        ]
                      },
                      {
                        "test": [
                          0.478711786
                        ],
                        "passed_time": 0.06022784939,
                        "iteration": 57,
                        "remaining_time": 0.04361327025,
                        "learn": [
                          0.2485772571
                        ]
                      },
                      {
                        "test": [
                          0.4800450596
                        ],
                        "passed_time": 0.06045869575,
                        "iteration": 58,
                        "remaining_time": 0.04201366993,
                        "learn": [
                          0.2453214863
                        ]
                      },
                      {
                        "test": [
                          0.4806911674
                        ],
                        "passed_time": 0.0606899919,
                        "iteration": 59,
                        "remaining_time": 0.0404599946,
                        "learn": [
                          0.2420471295
                        ]
                      },
                      {
                        "test": [
                          0.4804948783
                        ],
                        "passed_time": 0.06091666792,
                        "iteration": 60,
                        "remaining_time": 0.03894672211,
                        "learn": [
                          0.2347721178
                        ]
                      },
                      {
                        "test": [
                          0.4818032657
                        ],
                        "passed_time": 0.0611489041,
                        "iteration": 61,
                        "remaining_time": 0.03747836058,
                        "learn": [
                          0.231871872
                        ]
                      },
                      {
                        "test": [
                          0.481795432
                        ],
                        "passed_time": 0.06139142056,
                        "iteration": 62,
                        "remaining_time": 0.03605527874,
                        "learn": [
                          0.225787586
                        ]
                      },
                      {
                        "test": [
                          0.4824049626
                        ],
                        "passed_time": 0.06162554701,
                        "iteration": 63,
                        "remaining_time": 0.03466437019,
                        "learn": [
                          0.2230063355
                        ]
                      },
                      {
                        "test": [
                          0.4830191024
                        ],
                        "passed_time": 0.0618831141,
                        "iteration": 64,
                        "remaining_time": 0.03332167682,
                        "learn": [
                          0.2204013881
                        ]
                      },
                      {
                        "test": [
                          0.4812914878
                        ],
                        "passed_time": 0.06211285021,
                        "iteration": 65,
                        "remaining_time": 0.0319975289,
                        "learn": [
                          0.2121564144
                        ]
                      },
                      {
                        "test": [
                          0.4804617473
                        ],
                        "passed_time": 0.06235522666,
                        "iteration": 66,
                        "remaining_time": 0.03071227582,
                        "learn": [
                          0.2052283335
                        ]
                      },
                      {
                        "test": [
                          0.4816336038
                        ],
                        "passed_time": 0.0625917234,
                        "iteration": 67,
                        "remaining_time": 0.02945492866,
                        "learn": [
                          0.2029264156
                        ]
                      },
                      {
                        "test": [
                          0.4810441464
                        ],
                        "passed_time": 0.06284062048,
                        "iteration": 68,
                        "remaining_time": 0.02823274253,
                        "learn": [
                          0.1964587119
                        ]
                      },
                      {
                        "test": [
                          0.4821731575
                        ],
                        "passed_time": 0.06308162712,
                        "iteration": 69,
                        "remaining_time": 0.02703498305,
                        "learn": [
                          0.1942882556
                        ]
                      },
                      {
                        "test": [
                          0.4804712184
                        ],
                        "passed_time": 0.06330865337,
                        "iteration": 70,
                        "remaining_time": 0.02585846405,
                        "learn": [
                          0.1886447922
                        ]
                      },
                      {
                        "test": [
                          0.481544157
                        ],
                        "passed_time": 0.06355510016,
                        "iteration": 71,
                        "remaining_time": 0.02471587229,
                        "learn": [
                          0.1865912056
                        ]
                      },
                      {
                        "test": [
                          0.4801088278
                        ],
                        "passed_time": 0.06378086638,
                        "iteration": 72,
                        "remaining_time": 0.02359018346,
                        "learn": [
                          0.1812946857
                        ]
                      },
                      {
                        "test": [
                          0.4803526819
                        ],
                        "passed_time": 0.06401470305,
                        "iteration": 73,
                        "remaining_time": 0.02249165242,
                        "learn": [
                          0.1780958317
                        ]
                      },
                      {
                        "test": [
                          0.4807822894
                        ],
                        "passed_time": 0.06424332934,
                        "iteration": 74,
                        "remaining_time": 0.02141444311,
                        "learn": [
                          0.1761787819
                        ]
                      },
                      {
                        "test": [
                          0.4806364232
                        ],
                        "passed_time": 0.06448689605,
                        "iteration": 75,
                        "remaining_time": 0.02036428296,
                        "learn": [
                          0.1708922204
                        ]
                      },
                      {
                        "test": [
                          0.4815816343
                        ],
                        "passed_time": 0.0647199727,
                        "iteration": 76,
                        "remaining_time": 0.0193319399,
                        "learn": [
                          0.1691318685
                        ]
                      },
                      {
                        "test": [
                          0.4805305867
                        ],
                        "passed_time": 0.06496569947,
                        "iteration": 77,
                        "remaining_time": 0.01832365882,
                        "learn": [
                          0.1644425717
                        ]
                      },
                      {
                        "test": [
                          0.4808281354
                        ],
                        "passed_time": 0.0652035558,
                        "iteration": 78,
                        "remaining_time": 0.01733259078,
                        "learn": [
                          0.1616867531
                        ]
                      },
                      {
                        "test": [
                          0.4812148247
                        ],
                        "passed_time": 0.06544379264,
                        "iteration": 79,
                        "remaining_time": 0.01636094816,
                        "learn": [
                          0.1601265525
                        ]
                      },
                      {
                        "test": [
                          0.4812374855
                        ],
                        "passed_time": 0.06567079889,
                        "iteration": 80,
                        "remaining_time": 0.01540426147,
                        "learn": [
                          0.1554469463
                        ]
                      },
                      {
                        "test": [
                          0.4820615049
                        ],
                        "passed_time": 0.06590234527,
                        "iteration": 81,
                        "remaining_time": 0.01446636847,
                        "learn": [
                          0.1539346931
                        ]
                      },
                      {
                        "test": [
                          0.4812106815
                        ],
                        "passed_time": 0.06619004297,
                        "iteration": 82,
                        "remaining_time": 0.01355699675,
                        "learn": [
                          0.1497650805
                        ]
                      },
                      {
                        "test": [
                          0.4815289089
                        ],
                        "passed_time": 0.06646185046,
                        "iteration": 83,
                        "remaining_time": 0.01265940009,
                        "learn": [
                          0.1473901208
                        ]
                      },
                      {
                        "test": [
                          0.4815630544
                        ],
                        "passed_time": 0.06670535717,
                        "iteration": 84,
                        "remaining_time": 0.01177153362,
                        "learn": [
                          0.1452719176
                        ]
                      },
                      {
                        "test": [
                          0.4824365286
                        ],
                        "passed_time": 0.06692972335,
                        "iteration": 85,
                        "remaining_time": 0.01089553636,
                        "learn": [
                          0.1411092156
                        ]
                      },
                      {
                        "test": [
                          0.4832534622
                        ],
                        "passed_time": 0.06717137001,
                        "iteration": 86,
                        "remaining_time": 0.01003710127,
                        "learn": [
                          0.1373725817
                        ]
                      },
                      {
                        "test": [
                          0.4832495082
                        ],
                        "passed_time": 0.06741846704,
                        "iteration": 87,
                        "remaining_time": 0.009193427323,
                        "learn": [
                          0.1359858064
                        ]
                      },
                      {
                        "test": [
                          0.4832781682
                        ],
                        "passed_time": 0.06770839502,
                        "iteration": 88,
                        "remaining_time": 0.008368453317,
                        "learn": [
                          0.1345493842
                        ]
                      },
                      {
                        "test": [
                          0.4844959777
                        ],
                        "passed_time": 0.06795034169,
                        "iteration": 89,
                        "remaining_time": 0.007550037965,
                        "learn": [
                          0.1310505324
                        ]
                      },
                      {
                        "test": [
                          0.4844939296
                        ],
                        "passed_time": 0.06818295787,
                        "iteration": 90,
                        "remaining_time": 0.00674336946,
                        "learn": [
                          0.1297920038
                        ]
                      },
                      {
                        "test": [
                          0.4845216986
                        ],
                        "passed_time": 0.06844323527,
                        "iteration": 91,
                        "remaining_time": 0.005951585675,
                        "learn": [
                          0.128487096
                        ]
                      },
                      {
                        "test": [
                          0.4853621394
                        ],
                        "passed_time": 0.06867477142,
                        "iteration": 92,
                        "remaining_time": 0.005169068817,
                        "learn": [
                          0.1251951967
                        ]
                      },
                      {
                        "test": [
                          0.486034364
                        ],
                        "passed_time": 0.0689362684,
                        "iteration": 93,
                        "remaining_time": 0.004400187345,
                        "learn": [
                          0.1220712473
                        ]
                      },
                      {
                        "test": [
                          0.486050115
                        ],
                        "passed_time": 0.06916306443,
                        "iteration": 94,
                        "remaining_time": 0.003640161286,
                        "learn": [
                          0.1208539149
                        ]
                      },
                      {
                        "test": [
                          0.4860739272
                        ],
                        "passed_time": 0.06940019096,
                        "iteration": 95,
                        "remaining_time": 0.002891674623,
                        "learn": [
                          0.1196889626
                        ]
                      },
                      {
                        "test": [
                          0.4834134813
                        ],
                        "passed_time": 0.06963567745,
                        "iteration": 96,
                        "remaining_time": 0.002153680746,
                        "learn": [
                          0.1150471463
                        ]
                      },
                      {
                        "test": [
                          0.4840604488
                        ],
                        "passed_time": 0.06988280426,
                        "iteration": 97,
                        "remaining_time": 0.001426179679,
                        "learn": [
                          0.1123343908
                        ]
                      },
                      {
                        "test": [
                          0.4840751968
                        ],
                        "passed_time": 0.07010776068,
                        "iteration": 98,
                        "remaining_time": 0.0007081591988,
                        "learn": [
                          0.111272875
                        ]
                      },
                      {
                        "test": [
                          0.4846734683
                        ],
                        "passed_time": 0.0703491571,
                        "iteration": 99,
                        "remaining_time": 0,
                        "learn": [
                          0.1085124343
                        ]
                      }
                    ]
                  },
                  "total_iterations": 100,
                  "passed_iterations": 99
                },
                "path": "catboost_info",
                "name": "catboost_info"
              }
            },
            "_view_module": "catboost-widget",
            "_model_module_version": "^1.0.0",
            "_view_count": null,
            "_view_module_version": "^1.0.0",
            "layout": "IPY_MODEL_4f7209fa1da347e09110e2db8db80688",
            "_model_module": "catboost-widget"
          }
        }
      }
    }
  },
  "cells": [
    {
      "cell_type": "markdown",
      "metadata": {
        "id": "view-in-github",
        "colab_type": "text"
      },
      "source": [
        "<a href=\"https://colab.research.google.com/github/JF11579/Adelphi/blob/main/Sprint_6_Sat_Porc_Data.ipynb\" target=\"_parent\"><img src=\"https://colab.research.google.com/assets/colab-badge.svg\" alt=\"Open In Colab\"/></a>"
      ]
    },
    {
      "cell_type": "code",
      "execution_count": null,
      "metadata": {
        "id": "faiX_sO3PzD-"
      },
      "outputs": [],
      "source": [
        ""
      ]
    },
    {
      "cell_type": "markdown",
      "source": [
        "![Screen Shot 2021-12-09 at 11.50.42 AM.png](data:image/png;base64,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)"
      ],
      "metadata": {
        "id": "sS6xEf8H_jUJ"
      }
    },
    {
      "cell_type": "markdown",
      "source": [
        "# Usefull links\n",
        "\n",
        "*   https://colab.research.google.com/github/ahmadkhan242/jupyter_widgets/blob/main/jupyter_widgets.ipynb#scrollTo=UfOucuOo8-Cl\n",
        "\n",
        "*   https://towardsdatascience.com/4-easy-steps-for-implementing-catboost-c196fd82274b\n",
        "\n"
      ],
      "metadata": {
        "id": "58Y3dsa9S7Dw"
      }
    },
    {
      "cell_type": "code",
      "source": [
        ""
      ],
      "metadata": {
        "id": "KAoOkJr6S9G8"
      },
      "execution_count": null,
      "outputs": []
    },
    {
      "cell_type": "markdown",
      "source": [
        "\n",
        "\n",
        "\n",
        "# Library"
      ],
      "metadata": {
        "id": "2InDT5XSP91g"
      }
    },
    {
      "cell_type": "markdown",
      "source": [
        "## Pip Install"
      ],
      "metadata": {
        "id": "mCSY5jwhQG_R"
      }
    },
    {
      "cell_type": "code",
      "source": [
        "from google.colab import output\n",
        "output.enable_custom_widget_manager()"
      ],
      "metadata": {
        "id": "KPY17rM-QMsT"
      },
      "execution_count": null,
      "outputs": []
    },
    {
      "cell_type": "code",
      "source": [
        "from google.colab import output\n",
        "output.disable_custom_widget_manager()"
      ],
      "metadata": {
        "id": "w0TCDeVBQSV0"
      },
      "execution_count": null,
      "outputs": []
    },
    {
      "cell_type": "code",
      "source": [
        "!pip install catboost"
      ],
      "metadata": {
        "id": "mFVuXR2XQV_R"
      },
      "execution_count": null,
      "outputs": []
    },
    {
      "cell_type": "code",
      "source": [
        "!pip install ipywidgets"
      ],
      "metadata": {
        "id": "rwM-t9_tQV7P"
      },
      "execution_count": null,
      "outputs": []
    },
    {
      "cell_type": "code",
      "source": [
        "!jupyter nbextension enable  — py widgetsnbextension"
      ],
      "metadata": {
        "colab": {
          "base_uri": "https://localhost:8080/"
        },
        "id": "zJC7HrtCQvQq",
        "outputId": "df52e2fc-c223-46cd-db43-2cd296704db6"
      },
      "execution_count": null,
      "outputs": [
        {
          "output_type": "stream",
          "name": "stdout",
          "text": [
            "Please specify one nbextension/package at a time\n"
          ]
        }
      ]
    },
    {
      "cell_type": "markdown",
      "source": [
        "## Packages"
      ],
      "metadata": {
        "id": "hgs_BFqiQJew"
      }
    },
    {
      "cell_type": "code",
      "source": [
        "import pandas as pd\n",
        "from ipywidgets import widgets\n",
        "from IPython.display import display"
      ],
      "metadata": {
        "id": "7-kbqYxUQCf7"
      },
      "execution_count": null,
      "outputs": []
    },
    {
      "cell_type": "code",
      "source": [
        "from catboost import CatBoostRegressor\n",
        "from sklearn.model_selection import train_test_split\n",
        "import numpy as np\n",
        "import pandas as pd\n",
        "from tqdm import tqdm\n",
        "from sklearn import metrics \n",
        "import numpy as np  \n",
        "import matplotlib.pyplot as plt"
      ],
      "metadata": {
        "id": "dUr2lXEJQzYR"
      },
      "execution_count": 64,
      "outputs": []
    },
    {
      "cell_type": "markdown",
      "source": [
        "# Data"
      ],
      "metadata": {
        "id": "D2ZhrmO7RNQb"
      }
    },
    {
      "cell_type": "code",
      "source": [
        "dataframe = pd.read_csv('/content/Porcelana_OP_adelphi_2021_SCALED.csv')\n",
        "dataframe.head(3)"
      ],
      "metadata": {
        "colab": {
          "base_uri": "https://localhost:8080/",
          "height": 208
        },
        "id": "4eauj2fhRMnH",
        "outputId": "cf8f7d76-a975-4c0e-b3f1-89baeb1e4af0"
      },
      "execution_count": null,
      "outputs": [
        {
          "output_type": "execute_result",
          "data": {
            "text/html": [
              "<div>\n",
              "<style scoped>\n",
              "    .dataframe tbody tr th:only-of-type {\n",
              "        vertical-align: middle;\n",
              "    }\n",
              "\n",
              "    .dataframe tbody tr th {\n",
              "        vertical-align: top;\n",
              "    }\n",
              "\n",
              "    .dataframe thead th {\n",
              "        text-align: right;\n",
              "    }\n",
              "</style>\n",
              "<table border=\"1\" class=\"dataframe\">\n",
              "  <thead>\n",
              "    <tr style=\"text-align: right;\">\n",
              "      <th></th>\n",
              "      <th>date</th>\n",
              "      <th>Quantity</th>\n",
              "      <th>Seasonal</th>\n",
              "      <th>Consumer_loans</th>\n",
              "      <th>Construction_lic_unt</th>\n",
              "      <th>Construction_lic_area</th>\n",
              "      <th>Construction_lic_unt_SI</th>\n",
              "      <th>Construction_lic_unt_NO_SI</th>\n",
              "      <th>Construction_lic_area_SI</th>\n",
              "      <th>Construction_lic_area_NO_SI</th>\n",
              "      <th>Gray_cement_prod</th>\n",
              "      <th>Gray_cement_dispatch</th>\n",
              "      <th>Gray_cement_dispatch_Factory</th>\n",
              "      <th>Gray_cement_dispatch_comercial</th>\n",
              "      <th>Gray_cement_dispatch_contractor</th>\n",
              "      <th>Gray_cement_dispatch_other</th>\n",
              "      <th>DTF(interest_rate)</th>\n",
              "      <th>GDP_Constr</th>\n",
              "      <th>GDP_Total</th>\n",
              "      <th>Inflation</th>\n",
              "      <th>USD_exchange</th>\n",
              "      <th>Oil-brent</th>\n",
              "      <th>Oil_WTI</th>\n",
              "      <th>ISE</th>\n",
              "      <th>ICC</th>\n",
              "      <th>IEC</th>\n",
              "      <th>ICE</th>\n",
              "      <th>Unemployment%</th>\n",
              "      <th>RADAR_Constr</th>\n",
              "      <th>RADAR_Rev</th>\n",
              "      <th>RADAR_Toilets</th>\n",
              "      <th>RADAR_HomeAppliance</th>\n",
              "      <th>RADAR_Paint</th>\n",
              "      <th>RADAR_Furniture</th>\n",
              "      <th>RADAR_Tools</th>\n",
              "      <th>RADAR_Elect</th>\n",
              "      <th>RADAR_Plumbing</th>\n",
              "      <th>RADAR_Wood</th>\n",
              "      <th>RADAR_Supply</th>\n",
              "      <th>RADAR_Remodel</th>\n",
              "      <th>...</th>\n",
              "      <th>Preferencial_creditlag_8</th>\n",
              "      <th>loan_overdraftslag_8</th>\n",
              "      <th>Credit_cardlag_8</th>\n",
              "      <th>Treasury_loanlag_8</th>\n",
              "      <th>Housing_loanlag_8</th>\n",
              "      <th>Consumer_creditlag_9</th>\n",
              "      <th>Consumer_microcreditlag_9</th>\n",
              "      <th>Ordinary_creditlag_9</th>\n",
              "      <th>Preferencial_creditlag_9</th>\n",
              "      <th>loan_overdraftslag_9</th>\n",
              "      <th>Credit_cardlag_9</th>\n",
              "      <th>Treasury_loanlag_9</th>\n",
              "      <th>Housing_loanlag_9</th>\n",
              "      <th>Consumer_creditlag_10</th>\n",
              "      <th>Consumer_microcreditlag_10</th>\n",
              "      <th>Ordinary_creditlag_10</th>\n",
              "      <th>Preferencial_creditlag_10</th>\n",
              "      <th>loan_overdraftslag_10</th>\n",
              "      <th>Credit_cardlag_10</th>\n",
              "      <th>Treasury_loanlag_10</th>\n",
              "      <th>Housing_loanlag_10</th>\n",
              "      <th>Consumer_creditlag_11</th>\n",
              "      <th>Consumer_microcreditlag_11</th>\n",
              "      <th>Ordinary_creditlag_11</th>\n",
              "      <th>Preferencial_creditlag_11</th>\n",
              "      <th>loan_overdraftslag_11</th>\n",
              "      <th>Credit_cardlag_11</th>\n",
              "      <th>Treasury_loanlag_11</th>\n",
              "      <th>Housing_loanlag_11</th>\n",
              "      <th>Consumer_creditlag_12</th>\n",
              "      <th>Consumer_microcreditlag_12</th>\n",
              "      <th>Ordinary_creditlag_12</th>\n",
              "      <th>Preferencial_creditlag_12</th>\n",
              "      <th>loan_overdraftslag_12</th>\n",
              "      <th>Credit_cardlag_12</th>\n",
              "      <th>Treasury_loanlag_12</th>\n",
              "      <th>Housing_loanlag_12</th>\n",
              "      <th>holiday</th>\n",
              "      <th>sunday</th>\n",
              "      <th>working_day</th>\n",
              "    </tr>\n",
              "  </thead>\n",
              "  <tbody>\n",
              "    <tr>\n",
              "      <th>0</th>\n",
              "      <td>1/1/17</td>\n",
              "      <td>1.503548</td>\n",
              "      <td>0.699923</td>\n",
              "      <td>112579.4297</td>\n",
              "      <td>11303</td>\n",
              "      <td>1185131</td>\n",
              "      <td>3587</td>\n",
              "      <td>7716</td>\n",
              "      <td>229478</td>\n",
              "      <td>955653</td>\n",
              "      <td>897063.518</td>\n",
              "      <td>913190.407</td>\n",
              "      <td>194276.0200</td>\n",
              "      <td>502084.8330</td>\n",
              "      <td>171559.9665</td>\n",
              "      <td>45269.5875</td>\n",
              "      <td>0.0694</td>\n",
              "      <td>14753.34784</td>\n",
              "      <td>206242.568</td>\n",
              "      <td>5.47</td>\n",
              "      <td>2944.65</td>\n",
              "      <td>52.19</td>\n",
              "      <td>52.81</td>\n",
              "      <td>102.548972</td>\n",
              "      <td>-30.2</td>\n",
              "      <td>-28.3</td>\n",
              "      <td>-33.1</td>\n",
              "      <td>11.733267</td>\n",
              "      <td>1.044530e+11</td>\n",
              "      <td>1.323490e+11</td>\n",
              "      <td>1.727680e+11</td>\n",
              "      <td>1.050910e+11</td>\n",
              "      <td>8.847567e+10</td>\n",
              "      <td>8.354725e+10</td>\n",
              "      <td>50084436328</td>\n",
              "      <td>9.372000e+10</td>\n",
              "      <td>30371154877</td>\n",
              "      <td>31360154924</td>\n",
              "      <td>1.585430e+11</td>\n",
              "      <td>1.050760e+12</td>\n",
              "      <td>...</td>\n",
              "      <td>4445890.861</td>\n",
              "      <td>6402426.269</td>\n",
              "      <td>3390803.016</td>\n",
              "      <td>550883.0739</td>\n",
              "      <td>1302564.560</td>\n",
              "      <td>4680431.000</td>\n",
              "      <td>460632.0000</td>\n",
              "      <td>5702443.000</td>\n",
              "      <td>4657354.000</td>\n",
              "      <td>7012296.000</td>\n",
              "      <td>3283417.000</td>\n",
              "      <td>549789.0000</td>\n",
              "      <td>1454672.000</td>\n",
              "      <td>4941981.754</td>\n",
              "      <td>531850.1926</td>\n",
              "      <td>7315235.649</td>\n",
              "      <td>6120086.089</td>\n",
              "      <td>8140200.383</td>\n",
              "      <td>3814229.013</td>\n",
              "      <td>632387.5921</td>\n",
              "      <td>1627959.289</td>\n",
              "      <td>4068020.900</td>\n",
              "      <td>438682.2679</td>\n",
              "      <td>6513619.182</td>\n",
              "      <td>6137144.374</td>\n",
              "      <td>6675101.294</td>\n",
              "      <td>2989980.729</td>\n",
              "      <td>483448.3473</td>\n",
              "      <td>1298811.962</td>\n",
              "      <td>3106784.500</td>\n",
              "      <td>386289.5525</td>\n",
              "      <td>4875376.339</td>\n",
              "      <td>4791146.877</td>\n",
              "      <td>5996088.922</td>\n",
              "      <td>3013612.505</td>\n",
              "      <td>470541.3290</td>\n",
              "      <td>1093819.181</td>\n",
              "      <td>1</td>\n",
              "      <td>5</td>\n",
              "      <td>25</td>\n",
              "    </tr>\n",
              "    <tr>\n",
              "      <th>1</th>\n",
              "      <td>2/1/17</td>\n",
              "      <td>0.076213</td>\n",
              "      <td>0.316156</td>\n",
              "      <td>113438.0949</td>\n",
              "      <td>16187</td>\n",
              "      <td>1590979</td>\n",
              "      <td>4659</td>\n",
              "      <td>11528</td>\n",
              "      <td>272961</td>\n",
              "      <td>1318018</td>\n",
              "      <td>1025704.960</td>\n",
              "      <td>1007968.299</td>\n",
              "      <td>228359.8390</td>\n",
              "      <td>530826.1625</td>\n",
              "      <td>199731.6950</td>\n",
              "      <td>49050.6025</td>\n",
              "      <td>0.0678</td>\n",
              "      <td>14753.34784</td>\n",
              "      <td>206242.568</td>\n",
              "      <td>5.18</td>\n",
              "      <td>2881.68</td>\n",
              "      <td>53.40</td>\n",
              "      <td>54.01</td>\n",
              "      <td>102.919033</td>\n",
              "      <td>-24.3</td>\n",
              "      <td>-19.9</td>\n",
              "      <td>-31.0</td>\n",
              "      <td>10.504292</td>\n",
              "      <td>1.574850e+11</td>\n",
              "      <td>8.351517e+10</td>\n",
              "      <td>1.096910e+11</td>\n",
              "      <td>8.252536e+10</td>\n",
              "      <td>8.582517e+10</td>\n",
              "      <td>1.522090e+11</td>\n",
              "      <td>50567057384</td>\n",
              "      <td>6.034851e+10</td>\n",
              "      <td>21382430962</td>\n",
              "      <td>22163642219</td>\n",
              "      <td>2.104630e+11</td>\n",
              "      <td>1.036180e+12</td>\n",
              "      <td>...</td>\n",
              "      <td>6566090.070</td>\n",
              "      <td>7930536.312</td>\n",
              "      <td>4347164.930</td>\n",
              "      <td>677598.1836</td>\n",
              "      <td>1864166.572</td>\n",
              "      <td>4353892.017</td>\n",
              "      <td>433679.7772</td>\n",
              "      <td>5854575.608</td>\n",
              "      <td>4445890.861</td>\n",
              "      <td>6402426.269</td>\n",
              "      <td>3390803.016</td>\n",
              "      <td>550883.0739</td>\n",
              "      <td>1302564.560</td>\n",
              "      <td>4680431.000</td>\n",
              "      <td>460632.0000</td>\n",
              "      <td>5702443.000</td>\n",
              "      <td>4657354.000</td>\n",
              "      <td>7012296.000</td>\n",
              "      <td>3283417.000</td>\n",
              "      <td>549789.0000</td>\n",
              "      <td>1454672.000</td>\n",
              "      <td>4941981.754</td>\n",
              "      <td>531850.1926</td>\n",
              "      <td>7315235.649</td>\n",
              "      <td>6120086.089</td>\n",
              "      <td>8140200.383</td>\n",
              "      <td>3814229.013</td>\n",
              "      <td>632387.5921</td>\n",
              "      <td>1627959.289</td>\n",
              "      <td>4068020.900</td>\n",
              "      <td>438682.2679</td>\n",
              "      <td>6513619.182</td>\n",
              "      <td>6137144.374</td>\n",
              "      <td>6675101.294</td>\n",
              "      <td>2989980.729</td>\n",
              "      <td>483448.3473</td>\n",
              "      <td>1298811.962</td>\n",
              "      <td>0</td>\n",
              "      <td>4</td>\n",
              "      <td>24</td>\n",
              "    </tr>\n",
              "    <tr>\n",
              "      <th>2</th>\n",
              "      <td>3/1/17</td>\n",
              "      <td>-1.346258</td>\n",
              "      <td>-0.267695</td>\n",
              "      <td>114667.2587</td>\n",
              "      <td>15231</td>\n",
              "      <td>1438528</td>\n",
              "      <td>5687</td>\n",
              "      <td>9544</td>\n",
              "      <td>354904</td>\n",
              "      <td>1083624</td>\n",
              "      <td>1099919.669</td>\n",
              "      <td>1083268.231</td>\n",
              "      <td>241130.4555</td>\n",
              "      <td>568447.4880</td>\n",
              "      <td>218640.3600</td>\n",
              "      <td>55049.9274</td>\n",
              "      <td>0.0665</td>\n",
              "      <td>14753.34784</td>\n",
              "      <td>206242.568</td>\n",
              "      <td>4.69</td>\n",
              "      <td>2943.49</td>\n",
              "      <td>50.43</td>\n",
              "      <td>50.60</td>\n",
              "      <td>102.162670</td>\n",
              "      <td>-21.1</td>\n",
              "      <td>-18.3</td>\n",
              "      <td>-25.4</td>\n",
              "      <td>9.704610</td>\n",
              "      <td>1.215370e+11</td>\n",
              "      <td>9.821204e+10</td>\n",
              "      <td>1.191500e+11</td>\n",
              "      <td>9.035507e+10</td>\n",
              "      <td>9.516119e+10</td>\n",
              "      <td>1.388750e+11</td>\n",
              "      <td>52669677767</td>\n",
              "      <td>1.137230e+11</td>\n",
              "      <td>28723642312</td>\n",
              "      <td>22588768481</td>\n",
              "      <td>1.192190e+11</td>\n",
              "      <td>1.000210e+12</td>\n",
              "      <td>...</td>\n",
              "      <td>4119152.514</td>\n",
              "      <td>6258157.459</td>\n",
              "      <td>3447128.397</td>\n",
              "      <td>478975.7922</td>\n",
              "      <td>1302860.802</td>\n",
              "      <td>5430241.566</td>\n",
              "      <td>555441.9044</td>\n",
              "      <td>7916686.911</td>\n",
              "      <td>6566090.070</td>\n",
              "      <td>7930536.312</td>\n",
              "      <td>4347164.930</td>\n",
              "      <td>677598.1836</td>\n",
              "      <td>1864166.572</td>\n",
              "      <td>4353892.017</td>\n",
              "      <td>433679.7772</td>\n",
              "      <td>5854575.608</td>\n",
              "      <td>4445890.861</td>\n",
              "      <td>6402426.269</td>\n",
              "      <td>3390803.016</td>\n",
              "      <td>550883.0739</td>\n",
              "      <td>1302564.560</td>\n",
              "      <td>4680431.000</td>\n",
              "      <td>460632.0000</td>\n",
              "      <td>5702443.000</td>\n",
              "      <td>4657354.000</td>\n",
              "      <td>7012296.000</td>\n",
              "      <td>3283417.000</td>\n",
              "      <td>549789.0000</td>\n",
              "      <td>1454672.000</td>\n",
              "      <td>4941981.754</td>\n",
              "      <td>531850.1926</td>\n",
              "      <td>7315235.649</td>\n",
              "      <td>6120086.089</td>\n",
              "      <td>8140200.383</td>\n",
              "      <td>3814229.013</td>\n",
              "      <td>632387.5921</td>\n",
              "      <td>1627959.289</td>\n",
              "      <td>1</td>\n",
              "      <td>4</td>\n",
              "      <td>26</td>\n",
              "    </tr>\n",
              "  </tbody>\n",
              "</table>\n",
              "<p>3 rows × 943 columns</p>\n",
              "</div>"
            ],
            "text/plain": [
              "     date  Quantity  Seasonal  ...  holiday  sunday  working_day\n",
              "0  1/1/17  1.503548  0.699923  ...        1       5           25\n",
              "1  2/1/17  0.076213  0.316156  ...        0       4           24\n",
              "2  3/1/17 -1.346258 -0.267695  ...        1       4           26\n",
              "\n",
              "[3 rows x 943 columns]"
            ]
          },
          "metadata": {},
          "execution_count": 9
        }
      ]
    },
    {
      "cell_type": "markdown",
      "source": [
        "# Pre Processing\n",
        "\n",
        "move date to index\n",
        "\n",
        "Subset data\n",
        "\n",
        "Change Qty"
      ],
      "metadata": {
        "id": "PVCiYM3IRnbN"
      }
    },
    {
      "cell_type": "code",
      "source": [
        "# move date to \n",
        "#df.set_index('month')\n",
        "dataframe = dataframe.set_index('date')"
      ],
      "metadata": {
        "id": "T-1lmQAhSSyD"
      },
      "execution_count": null,
      "outputs": []
    },
    {
      "cell_type": "code",
      "source": [
        "dataframe = dataframe[[ 'Quantity', 'Seasonal', 'Gray_cement_dispatch_comercial', 'ISE',\n",
        "       'Construction_lic_area/unt_SIlag_4' ]]"
      ],
      "metadata": {
        "id": "t0NgXe_pRxQ7"
      },
      "execution_count": null,
      "outputs": []
    },
    {
      "cell_type": "code",
      "source": [
        "dataframe.at[39,'Quantity'] = -1.3035153046741994"
      ],
      "metadata": {
        "id": "_LttY0ZKR1_x"
      },
      "execution_count": null,
      "outputs": []
    },
    {
      "cell_type": "code",
      "source": [
        "dataframe.head(3)"
      ],
      "metadata": {
        "colab": {
          "base_uri": "https://localhost:8080/",
          "height": 193
        },
        "id": "AE_pQQXLR65r",
        "outputId": "a650d71f-cb3a-42cf-fbee-7608a1c9a750"
      },
      "execution_count": null,
      "outputs": [
        {
          "output_type": "execute_result",
          "data": {
            "text/html": [
              "<div>\n",
              "<style scoped>\n",
              "    .dataframe tbody tr th:only-of-type {\n",
              "        vertical-align: middle;\n",
              "    }\n",
              "\n",
              "    .dataframe tbody tr th {\n",
              "        vertical-align: top;\n",
              "    }\n",
              "\n",
              "    .dataframe thead th {\n",
              "        text-align: right;\n",
              "    }\n",
              "</style>\n",
              "<table border=\"1\" class=\"dataframe\">\n",
              "  <thead>\n",
              "    <tr style=\"text-align: right;\">\n",
              "      <th></th>\n",
              "      <th>Quantity</th>\n",
              "      <th>Seasonal</th>\n",
              "      <th>Gray_cement_dispatch_comercial</th>\n",
              "      <th>ISE</th>\n",
              "      <th>Construction_lic_area/unt_SIlag_4</th>\n",
              "    </tr>\n",
              "    <tr>\n",
              "      <th>date</th>\n",
              "      <th></th>\n",
              "      <th></th>\n",
              "      <th></th>\n",
              "      <th></th>\n",
              "      <th></th>\n",
              "    </tr>\n",
              "  </thead>\n",
              "  <tbody>\n",
              "    <tr>\n",
              "      <th>1/1/17</th>\n",
              "      <td>1.503548</td>\n",
              "      <td>0.699923</td>\n",
              "      <td>502084.8330</td>\n",
              "      <td>102.548972</td>\n",
              "      <td>69.107759</td>\n",
              "    </tr>\n",
              "    <tr>\n",
              "      <th>2/1/17</th>\n",
              "      <td>0.076213</td>\n",
              "      <td>0.316156</td>\n",
              "      <td>530826.1625</td>\n",
              "      <td>102.919033</td>\n",
              "      <td>61.576356</td>\n",
              "    </tr>\n",
              "    <tr>\n",
              "      <th>3/1/17</th>\n",
              "      <td>-1.346258</td>\n",
              "      <td>-0.267695</td>\n",
              "      <td>568447.4880</td>\n",
              "      <td>102.162670</td>\n",
              "      <td>57.195909</td>\n",
              "    </tr>\n",
              "  </tbody>\n",
              "</table>\n",
              "</div>"
            ],
            "text/plain": [
              "        Quantity  Seasonal  ...         ISE  Construction_lic_area/unt_SIlag_4\n",
              "date                        ...                                               \n",
              "1/1/17  1.503548  0.699923  ...  102.548972                          69.107759\n",
              "2/1/17  0.076213  0.316156  ...  102.919033                          61.576356\n",
              "3/1/17 -1.346258 -0.267695  ...  102.162670                          57.195909\n",
              "\n",
              "[3 rows x 5 columns]"
            ]
          },
          "metadata": {},
          "execution_count": 13
        }
      ]
    },
    {
      "cell_type": "code",
      "source": [
        "dataframe.shape"
      ],
      "metadata": {
        "colab": {
          "base_uri": "https://localhost:8080/"
        },
        "id": "KLMV6oeTU8EI",
        "outputId": "45978391-3744-4fbd-96dc-31f0047c6f3b"
      },
      "execution_count": null,
      "outputs": [
        {
          "output_type": "execute_result",
          "data": {
            "text/plain": [
              "(55, 5)"
            ]
          },
          "metadata": {},
          "execution_count": 14
        }
      ]
    },
    {
      "cell_type": "code",
      "source": [
        "55 * .75"
      ],
      "metadata": {
        "colab": {
          "base_uri": "https://localhost:8080/"
        },
        "id": "kjjjvuEcVBA6",
        "outputId": "874581da-3b41-42ff-b737-1242752e56b9"
      },
      "execution_count": null,
      "outputs": [
        {
          "output_type": "execute_result",
          "data": {
            "text/plain": [
              "41.25"
            ]
          },
          "metadata": {},
          "execution_count": 15
        }
      ]
    },
    {
      "cell_type": "code",
      "source": [
        ""
      ],
      "metadata": {
        "id": "cF_JPmQZVAzd"
      },
      "execution_count": null,
      "outputs": []
    },
    {
      "cell_type": "markdown",
      "source": [
        "# Split"
      ],
      "metadata": {
        "id": "O-0ICg7fTU5l"
      }
    },
    {
      "cell_type": "code",
      "source": [
        "y = dataframe['Quantity']\n",
        "X = dataframe.loc[: ,dataframe.columns != 'Quantity']"
      ],
      "metadata": {
        "id": "m7DvcgOISHpD"
      },
      "execution_count": null,
      "outputs": []
    },
    {
      "cell_type": "code",
      "source": [
        "X_train, X_test, y_train, y_test = train_test_split(X, y, train_size=0.75, random_state=42)"
      ],
      "metadata": {
        "id": "sbUQAoRoTnCT"
      },
      "execution_count": null,
      "outputs": []
    },
    {
      "cell_type": "code",
      "source": [
        ""
      ],
      "metadata": {
        "id": "HoNo84Z7U6Du"
      },
      "execution_count": null,
      "outputs": []
    },
    {
      "cell_type": "markdown",
      "source": [
        "Apply Model\n",
        "the most important part is to designate your categorical variables, so that you can get the most out of your CatBoost model.\n",
        "\n",
        "CatBoost has some awesome plots that visualize the error metric improvements over iterations, so if you want to visually see how the train and test set compare over time, setting the plot to True"
      ],
      "metadata": {
        "id": "XH5vxMnPTtJT"
      }
    },
    {
      "cell_type": "markdown",
      "source": [
        "## Here are the main model commands:"
      ],
      "metadata": {
        "id": "yUWmHuTcTwL6"
      }
    },
    {
      "cell_type": "code",
      "source": [
        "#CAT_FEATURES = [Feature_Names.0] #list of your categorical features\n",
        "\n",
        "\n",
        "\n",
        "# set up the model\n",
        "catboost_model = CatBoostRegressor(n_estimators=100,\n",
        "                                   loss_function = 'RMSE',\n",
        "                                   eval_metric = 'RMSE')\n",
        "                                   #cat_features = CAT_FEATURES)"
      ],
      "metadata": {
        "id": "jLFf6liIToMI"
      },
      "execution_count": null,
      "outputs": []
    },
    {
      "cell_type": "code",
      "source": [
        "# fit model\n",
        "catboost_model.fit(X_train, y_train, \n",
        "                   eval_set = (X_test, y_test),\n",
        "                   use_best_model = True,\n",
        "                   plot = True)"
      ],
      "metadata": {
        "id": "ypq0ZGmoT37G",
        "colab": {
          "base_uri": "https://localhost:8080/",
          "height": 1000,
          "referenced_widgets": [
            "43f3342e6f544a8196c0617d0574e9a6"
          ]
        },
        "outputId": "ba819463-25cc-4289-8bdc-fe424c194feb"
      },
      "execution_count": null,
      "outputs": [
        {
          "output_type": "display_data",
          "data": {
            "application/vnd.jupyter.widget-view+json": {
              "model_id": "43f3342e6f544a8196c0617d0574e9a6",
              "version_minor": 0,
              "version_major": 2
            },
            "text/plain": [
              "MetricVisualizer(layout=Layout(align_self='stretch', height='500px'))"
            ]
          },
          "metadata": {}
        },
        {
          "output_type": "stream",
          "name": "stdout",
          "text": [
            "Learning rate set to 0.125633\n",
            "0:\tlearn: 0.9940085\ttest: 0.8523070\tbest: 0.8523070 (0)\ttotal: 46.3ms\tremaining: 4.58s\n",
            "1:\tlearn: 0.9576158\ttest: 0.8349412\tbest: 0.8349412 (1)\ttotal: 46.8ms\tremaining: 2.29s\n",
            "2:\tlearn: 0.9184931\ttest: 0.8090773\tbest: 0.8090773 (2)\ttotal: 47.2ms\tremaining: 1.53s\n",
            "3:\tlearn: 0.8941237\ttest: 0.7967835\tbest: 0.7967835 (3)\ttotal: 47.6ms\tremaining: 1.14s\n",
            "4:\tlearn: 0.8650808\ttest: 0.7900863\tbest: 0.7900863 (4)\ttotal: 47.9ms\tremaining: 911ms\n",
            "5:\tlearn: 0.8406624\ttest: 0.7792605\tbest: 0.7792605 (5)\ttotal: 48.3ms\tremaining: 757ms\n",
            "6:\tlearn: 0.8124855\ttest: 0.7539197\tbest: 0.7539197 (6)\ttotal: 48.6ms\tremaining: 645ms\n",
            "7:\tlearn: 0.7866519\ttest: 0.7354392\tbest: 0.7354392 (7)\ttotal: 48.8ms\tremaining: 561ms\n",
            "8:\tlearn: 0.7598118\ttest: 0.7010839\tbest: 0.7010839 (8)\ttotal: 49ms\tremaining: 495ms\n",
            "9:\tlearn: 0.7337147\ttest: 0.6903909\tbest: 0.6903909 (9)\ttotal: 49.3ms\tremaining: 443ms\n",
            "10:\tlearn: 0.7110969\ttest: 0.6899271\tbest: 0.6899271 (10)\ttotal: 49.4ms\tremaining: 400ms\n",
            "11:\tlearn: 0.6877230\ttest: 0.6624701\tbest: 0.6624701 (11)\ttotal: 49.6ms\tremaining: 364ms\n",
            "12:\tlearn: 0.6640265\ttest: 0.6485916\tbest: 0.6485916 (12)\ttotal: 49.9ms\tremaining: 334ms\n",
            "13:\tlearn: 0.6437691\ttest: 0.6435388\tbest: 0.6435388 (13)\ttotal: 50.1ms\tremaining: 308ms\n",
            "14:\tlearn: 0.6207456\ttest: 0.6285700\tbest: 0.6285700 (14)\ttotal: 50.3ms\tremaining: 285ms\n",
            "15:\tlearn: 0.6054428\ttest: 0.6067459\tbest: 0.6067459 (15)\ttotal: 50.5ms\tremaining: 265ms\n",
            "16:\tlearn: 0.5871967\ttest: 0.5901781\tbest: 0.5901781 (16)\ttotal: 50.8ms\tremaining: 248ms\n",
            "17:\tlearn: 0.5713479\ttest: 0.5800338\tbest: 0.5800338 (17)\ttotal: 51ms\tremaining: 232ms\n",
            "18:\tlearn: 0.5546536\ttest: 0.5721178\tbest: 0.5721178 (18)\ttotal: 51.2ms\tremaining: 218ms\n",
            "19:\tlearn: 0.5436008\ttest: 0.5689465\tbest: 0.5689465 (19)\ttotal: 51.5ms\tremaining: 206ms\n",
            "20:\tlearn: 0.5271823\ttest: 0.5560618\tbest: 0.5560618 (20)\ttotal: 51.7ms\tremaining: 194ms\n",
            "21:\tlearn: 0.5132803\ttest: 0.5439194\tbest: 0.5439194 (21)\ttotal: 51.9ms\tremaining: 184ms\n",
            "22:\tlearn: 0.5033649\ttest: 0.5418334\tbest: 0.5418334 (22)\ttotal: 52.1ms\tremaining: 175ms\n",
            "23:\tlearn: 0.4896138\ttest: 0.5304719\tbest: 0.5304719 (23)\ttotal: 52.4ms\tremaining: 166ms\n",
            "24:\tlearn: 0.4770736\ttest: 0.5273412\tbest: 0.5273412 (24)\ttotal: 52.6ms\tremaining: 158ms\n",
            "25:\tlearn: 0.4667832\ttest: 0.5230525\tbest: 0.5230525 (25)\ttotal: 52.9ms\tremaining: 150ms\n",
            "26:\tlearn: 0.4565307\ttest: 0.5159479\tbest: 0.5159479 (26)\ttotal: 53.1ms\tremaining: 144ms\n",
            "27:\tlearn: 0.4483447\ttest: 0.5122870\tbest: 0.5122870 (27)\ttotal: 53.3ms\tremaining: 137ms\n",
            "28:\tlearn: 0.4396427\ttest: 0.5062183\tbest: 0.5062183 (28)\ttotal: 53.6ms\tremaining: 131ms\n",
            "29:\tlearn: 0.4313561\ttest: 0.5036884\tbest: 0.5036884 (29)\ttotal: 53.8ms\tremaining: 125ms\n",
            "30:\tlearn: 0.4261022\ttest: 0.5038898\tbest: 0.5036884 (29)\ttotal: 53.9ms\tremaining: 120ms\n",
            "31:\tlearn: 0.4136366\ttest: 0.5024850\tbest: 0.5024850 (31)\ttotal: 54.1ms\tremaining: 115ms\n",
            "32:\tlearn: 0.4019450\ttest: 0.5019671\tbest: 0.5019671 (32)\ttotal: 54.4ms\tremaining: 110ms\n",
            "33:\tlearn: 0.3941573\ttest: 0.4927343\tbest: 0.4927343 (33)\ttotal: 54.6ms\tremaining: 106ms\n",
            "34:\tlearn: 0.3868628\ttest: 0.4926390\tbest: 0.4926390 (34)\ttotal: 54.8ms\tremaining: 102ms\n",
            "35:\tlearn: 0.3803418\ttest: 0.4929195\tbest: 0.4926390 (34)\ttotal: 55.1ms\tremaining: 97.9ms\n",
            "36:\tlearn: 0.3755546\ttest: 0.4923308\tbest: 0.4923308 (36)\ttotal: 55.2ms\tremaining: 94ms\n",
            "37:\tlearn: 0.3665593\ttest: 0.4938067\tbest: 0.4923308 (36)\ttotal: 55.5ms\tremaining: 90.5ms\n",
            "38:\tlearn: 0.3596060\ttest: 0.4944254\tbest: 0.4923308 (36)\ttotal: 55.7ms\tremaining: 87.1ms\n",
            "39:\tlearn: 0.3543320\ttest: 0.4923038\tbest: 0.4923038 (39)\ttotal: 56ms\tremaining: 83.9ms\n",
            "40:\tlearn: 0.3471981\ttest: 0.4891949\tbest: 0.4891949 (40)\ttotal: 56.2ms\tremaining: 80.9ms\n",
            "41:\tlearn: 0.3428394\ttest: 0.4886664\tbest: 0.4886664 (41)\ttotal: 56.4ms\tremaining: 77.9ms\n",
            "42:\tlearn: 0.3368360\ttest: 0.4857561\tbest: 0.4857561 (42)\ttotal: 56.7ms\tremaining: 75.1ms\n",
            "43:\tlearn: 0.3318165\ttest: 0.4850315\tbest: 0.4850315 (43)\ttotal: 57ms\tremaining: 72.5ms\n",
            "44:\tlearn: 0.3241355\ttest: 0.4833319\tbest: 0.4833319 (44)\ttotal: 57.2ms\tremaining: 69.9ms\n",
            "45:\tlearn: 0.3176332\ttest: 0.4817072\tbest: 0.4817072 (45)\ttotal: 57.4ms\tremaining: 67.4ms\n",
            "46:\tlearn: 0.3113790\ttest: 0.4808263\tbest: 0.4808263 (46)\ttotal: 57.7ms\tremaining: 65ms\n",
            "47:\tlearn: 0.3037763\ttest: 0.4819620\tbest: 0.4808263 (46)\ttotal: 57.9ms\tremaining: 62.7ms\n",
            "48:\tlearn: 0.2962461\ttest: 0.4795286\tbest: 0.4795286 (48)\ttotal: 58.2ms\tremaining: 60.5ms\n",
            "49:\tlearn: 0.2923410\ttest: 0.4765384\tbest: 0.4765384 (49)\ttotal: 58.4ms\tremaining: 58.4ms\n",
            "50:\tlearn: 0.2889086\ttest: 0.4765688\tbest: 0.4765384 (49)\ttotal: 58.6ms\tremaining: 56.3ms\n",
            "51:\tlearn: 0.2814622\ttest: 0.4798022\tbest: 0.4765384 (49)\ttotal: 58.9ms\tremaining: 54.3ms\n",
            "52:\tlearn: 0.2732718\ttest: 0.4780410\tbest: 0.4765384 (49)\ttotal: 59.1ms\tremaining: 52.4ms\n",
            "53:\tlearn: 0.2660076\ttest: 0.4775965\tbest: 0.4765384 (49)\ttotal: 59.3ms\tremaining: 50.6ms\n",
            "54:\tlearn: 0.2631516\ttest: 0.4779827\tbest: 0.4765384 (49)\ttotal: 59.5ms\tremaining: 48.7ms\n",
            "55:\tlearn: 0.2596346\ttest: 0.4784745\tbest: 0.4765384 (49)\ttotal: 59.7ms\tremaining: 46.9ms\n",
            "56:\tlearn: 0.2559309\ttest: 0.4790861\tbest: 0.4765384 (49)\ttotal: 60ms\tremaining: 45.2ms\n",
            "57:\tlearn: 0.2485773\ttest: 0.4787118\tbest: 0.4765384 (49)\ttotal: 60.2ms\tremaining: 43.6ms\n",
            "58:\tlearn: 0.2453215\ttest: 0.4800451\tbest: 0.4765384 (49)\ttotal: 60.5ms\tremaining: 42ms\n",
            "59:\tlearn: 0.2420471\ttest: 0.4806912\tbest: 0.4765384 (49)\ttotal: 60.7ms\tremaining: 40.5ms\n",
            "60:\tlearn: 0.2347721\ttest: 0.4804949\tbest: 0.4765384 (49)\ttotal: 60.9ms\tremaining: 38.9ms\n",
            "61:\tlearn: 0.2318719\ttest: 0.4818033\tbest: 0.4765384 (49)\ttotal: 61.1ms\tremaining: 37.5ms\n",
            "62:\tlearn: 0.2257876\ttest: 0.4817954\tbest: 0.4765384 (49)\ttotal: 61.4ms\tremaining: 36.1ms\n",
            "63:\tlearn: 0.2230063\ttest: 0.4824050\tbest: 0.4765384 (49)\ttotal: 61.6ms\tremaining: 34.7ms\n",
            "64:\tlearn: 0.2204014\ttest: 0.4830191\tbest: 0.4765384 (49)\ttotal: 61.9ms\tremaining: 33.3ms\n",
            "65:\tlearn: 0.2121564\ttest: 0.4812915\tbest: 0.4765384 (49)\ttotal: 62.1ms\tremaining: 32ms\n",
            "66:\tlearn: 0.2052283\ttest: 0.4804617\tbest: 0.4765384 (49)\ttotal: 62.4ms\tremaining: 30.7ms\n",
            "67:\tlearn: 0.2029264\ttest: 0.4816336\tbest: 0.4765384 (49)\ttotal: 62.6ms\tremaining: 29.5ms\n",
            "68:\tlearn: 0.1964587\ttest: 0.4810441\tbest: 0.4765384 (49)\ttotal: 62.8ms\tremaining: 28.2ms\n",
            "69:\tlearn: 0.1942883\ttest: 0.4821732\tbest: 0.4765384 (49)\ttotal: 63.1ms\tremaining: 27ms\n",
            "70:\tlearn: 0.1886448\ttest: 0.4804712\tbest: 0.4765384 (49)\ttotal: 63.3ms\tremaining: 25.9ms\n",
            "71:\tlearn: 0.1865912\ttest: 0.4815442\tbest: 0.4765384 (49)\ttotal: 63.6ms\tremaining: 24.7ms\n",
            "72:\tlearn: 0.1812947\ttest: 0.4801088\tbest: 0.4765384 (49)\ttotal: 63.8ms\tremaining: 23.6ms\n",
            "73:\tlearn: 0.1780958\ttest: 0.4803527\tbest: 0.4765384 (49)\ttotal: 64ms\tremaining: 22.5ms\n",
            "74:\tlearn: 0.1761788\ttest: 0.4807823\tbest: 0.4765384 (49)\ttotal: 64.2ms\tremaining: 21.4ms\n",
            "75:\tlearn: 0.1708922\ttest: 0.4806364\tbest: 0.4765384 (49)\ttotal: 64.5ms\tremaining: 20.4ms\n",
            "76:\tlearn: 0.1691319\ttest: 0.4815816\tbest: 0.4765384 (49)\ttotal: 64.7ms\tremaining: 19.3ms\n",
            "77:\tlearn: 0.1644426\ttest: 0.4805306\tbest: 0.4765384 (49)\ttotal: 65ms\tremaining: 18.3ms\n",
            "78:\tlearn: 0.1616868\ttest: 0.4808281\tbest: 0.4765384 (49)\ttotal: 65.2ms\tremaining: 17.3ms\n",
            "79:\tlearn: 0.1601266\ttest: 0.4812148\tbest: 0.4765384 (49)\ttotal: 65.4ms\tremaining: 16.4ms\n",
            "80:\tlearn: 0.1554469\ttest: 0.4812375\tbest: 0.4765384 (49)\ttotal: 65.7ms\tremaining: 15.4ms\n",
            "81:\tlearn: 0.1539347\ttest: 0.4820615\tbest: 0.4765384 (49)\ttotal: 65.9ms\tremaining: 14.5ms\n",
            "82:\tlearn: 0.1497651\ttest: 0.4812107\tbest: 0.4765384 (49)\ttotal: 66.2ms\tremaining: 13.6ms\n",
            "83:\tlearn: 0.1473901\ttest: 0.4815289\tbest: 0.4765384 (49)\ttotal: 66.5ms\tremaining: 12.7ms\n",
            "84:\tlearn: 0.1452719\ttest: 0.4815631\tbest: 0.4765384 (49)\ttotal: 66.7ms\tremaining: 11.8ms\n",
            "85:\tlearn: 0.1411092\ttest: 0.4824365\tbest: 0.4765384 (49)\ttotal: 66.9ms\tremaining: 10.9ms\n",
            "86:\tlearn: 0.1373726\ttest: 0.4832535\tbest: 0.4765384 (49)\ttotal: 67.2ms\tremaining: 10ms\n",
            "87:\tlearn: 0.1359858\ttest: 0.4832495\tbest: 0.4765384 (49)\ttotal: 67.4ms\tremaining: 9.19ms\n",
            "88:\tlearn: 0.1345494\ttest: 0.4832782\tbest: 0.4765384 (49)\ttotal: 67.7ms\tremaining: 8.37ms\n",
            "89:\tlearn: 0.1310505\ttest: 0.4844960\tbest: 0.4765384 (49)\ttotal: 68ms\tremaining: 7.55ms\n",
            "90:\tlearn: 0.1297920\ttest: 0.4844939\tbest: 0.4765384 (49)\ttotal: 68.2ms\tremaining: 6.74ms\n",
            "91:\tlearn: 0.1284871\ttest: 0.4845217\tbest: 0.4765384 (49)\ttotal: 68.4ms\tremaining: 5.95ms\n",
            "92:\tlearn: 0.1251952\ttest: 0.4853621\tbest: 0.4765384 (49)\ttotal: 68.7ms\tremaining: 5.17ms\n",
            "93:\tlearn: 0.1220712\ttest: 0.4860344\tbest: 0.4765384 (49)\ttotal: 68.9ms\tremaining: 4.4ms\n",
            "94:\tlearn: 0.1208539\ttest: 0.4860501\tbest: 0.4765384 (49)\ttotal: 69.2ms\tremaining: 3.64ms\n",
            "95:\tlearn: 0.1196890\ttest: 0.4860739\tbest: 0.4765384 (49)\ttotal: 69.4ms\tremaining: 2.89ms\n",
            "96:\tlearn: 0.1150471\ttest: 0.4834135\tbest: 0.4765384 (49)\ttotal: 69.6ms\tremaining: 2.15ms\n",
            "97:\tlearn: 0.1123344\ttest: 0.4840604\tbest: 0.4765384 (49)\ttotal: 69.9ms\tremaining: 1.43ms\n",
            "98:\tlearn: 0.1112729\ttest: 0.4840752\tbest: 0.4765384 (49)\ttotal: 70.1ms\tremaining: 708us\n",
            "99:\tlearn: 0.1085124\ttest: 0.4846735\tbest: 0.4765384 (49)\ttotal: 70.3ms\tremaining: 0us\n",
            "\n",
            "bestTest = 0.4765383916\n",
            "bestIteration = 49\n",
            "\n",
            "Shrink model to first 50 iterations.\n"
          ]
        },
        {
          "output_type": "execute_result",
          "data": {
            "text/plain": [
              "<catboost.core.CatBoostRegressor at 0x7fed2594a050>"
            ]
          },
          "metadata": {},
          "execution_count": 19
        }
      ]
    },
    {
      "cell_type": "code",
      "source": [
        ""
      ],
      "metadata": {
        "id": "plkzGqlAT68O"
      },
      "execution_count": null,
      "outputs": []
    },
    {
      "cell_type": "code",
      "source": [
        "from google.colab import output\n",
        "output.enable_custom_widget_manager()"
      ],
      "metadata": {
        "id": "wpslnxa0Ud6k"
      },
      "execution_count": null,
      "outputs": []
    },
    {
      "cell_type": "code",
      "source": [
        "from google.colab import output\n",
        "output.disable_custom_widget_manager()"
      ],
      "metadata": {
        "id": "PrwibGCYUd6l"
      },
      "execution_count": null,
      "outputs": []
    },
    {
      "cell_type": "code",
      "source": [
        "# get your predictions\n",
        "preds = catboost_model.predict(X_test)"
      ],
      "metadata": {
        "id": "YStz1RrHUixn"
      },
      "execution_count": null,
      "outputs": []
    },
    {
      "cell_type": "code",
      "source": [
        "preds"
      ],
      "metadata": {
        "colab": {
          "base_uri": "https://localhost:8080/"
        },
        "id": "HsoD87uVUlmI",
        "outputId": "9f1e3ffd-25cb-402b-af3a-bdd7c212f4c0"
      },
      "execution_count": null,
      "outputs": [
        {
          "output_type": "execute_result",
          "data": {
            "text/plain": [
              "array([ 0.43874328, -0.58262884,  0.42949485, -0.1250164 , -0.22791917,\n",
              "        0.50210145, -0.52849225, -0.33300017, -0.17433587,  0.04908679,\n",
              "       -0.53776775, -0.91610083,  0.60272138,  0.50227282])"
            ]
          },
          "metadata": {},
          "execution_count": 23
        }
      ]
    },
    {
      "cell_type": "code",
      "source": [
        "# The data was split 0.75 = Train set\n",
        "# The X test comes to 13.75 hence the 14  items in \"preds\"\n",
        "55 * 0.25\n"
      ],
      "metadata": {
        "colab": {
          "base_uri": "https://localhost:8080/"
        },
        "id": "ucaSc-fpUrbg",
        "outputId": "707d11ed-e15a-49f2-d696-7660da2e44c7"
      },
      "execution_count": null,
      "outputs": [
        {
          "output_type": "execute_result",
          "data": {
            "text/plain": [
              "13.75"
            ]
          },
          "metadata": {},
          "execution_count": 24
        }
      ]
    },
    {
      "cell_type": "markdown",
      "source": [
        "### B\n",
        "Here i will attempt to plug in juan;s code"
      ],
      "metadata": {
        "id": "o0CYXNsrWIKP"
      }
    },
    {
      "cell_type": "markdown",
      "source": [
        "# Juan's functions"
      ],
      "metadata": {
        "id": "E5K8j9P4W6Tq"
      }
    },
    {
      "cell_type": "markdown",
      "source": [
        ""
      ],
      "metadata": {
        "id": "Ql5eFRE_XACc"
      }
    },
    {
      "cell_type": "code",
      "source": [
        "def Model_Performance(model,X_train,y_train,X_test, y_test):\n",
        "     \n",
        "    model.fit(X_train,y_train) \n",
        "    #model.fit(X_train,y_train, verbose = 0)#For Catboost\n",
        "    y_pred_Train = model.predict(X_train) #Predictions\n",
        "    y_pred_Test = model.predict(X_test) #Predictions\n",
        "    \n",
        "    Metrics(y_test, y_pred_Test)\n",
        "    \n",
        "    Predicted_Plot(y_train, y_pred_Train, y_test, y_pred_Test)\n",
        "    \n",
        "    Multiple_Runs(model,X_train,y_train,X_test, y_test)\n",
        "    \n",
        "    return"
      ],
      "metadata": {
        "id": "K753REJAWrn9"
      },
      "execution_count": null,
      "outputs": []
    },
    {
      "cell_type": "code",
      "source": [
        "def Metrics(y_test, y_pred_Test):\n",
        "    print('Test Metrics:')\n",
        "    print('R squared:', metrics.r2_score(y_test, y_pred_Test))\n",
        "    print('Mean Absolute Error:', metrics.mean_absolute_error(y_test, y_pred_Test))  \n",
        "    print('Mean Squared Error:', metrics.mean_squared_error(y_test, y_pred_Test))  \n",
        "    print('Root Mean Squared Error:', np.sqrt(metrics.mean_squared_error(y_test, y_pred_Test)))\n",
        "    \n",
        "    return"
      ],
      "metadata": {
        "id": "LbAsA8FgXDLS"
      },
      "execution_count": null,
      "outputs": []
    },
    {
      "cell_type": "code",
      "source": [
        "def Predicted_Plot(y_train, y_pred_Train, y_test, y_pred_Test):\n",
        "\n",
        "    fig, ax = plt.subplots(ncols=2, figsize=(10,4))\n",
        "\n",
        "    ax[0].scatter(y_train, y_pred_Train)\n",
        "    ax[0].grid()\n",
        "    ax[0].set_xlabel('Observed Label')\n",
        "    ax[0].set_ylabel('Predicted Label')\n",
        "    ax[0].set_title('Training Set')\n",
        "\n",
        "    ax[1].scatter(y_test, y_pred_Test)\n",
        "    ax[1].grid()\n",
        "    ax[1].set_xlabel('Observed Label')\n",
        "    ax[1].set_ylabel('Predicted Label')\n",
        "    ax[1].set_title('Testing Set')\n",
        "    plt.show()\n",
        "    \n",
        "    return"
      ],
      "metadata": {
        "id": "KT9E5gIeXF1m"
      },
      "execution_count": null,
      "outputs": []
    },
    {
      "cell_type": "code",
      "source": [
        "def Multiple_Runs(model,X_train,y_train,X_test, y_test):\n",
        "\n",
        "    Train_MSE = [] #Empty list to Store MSEs for training data set\n",
        "    Test_MSE = []  #Empty list to Store MSEs for testing data set\n",
        "\n",
        "    Train_R2 = [] #Empty list to Store R2s for training data set\n",
        "    Test_R2 = []  #Empty list to Store R2s for testing data set\n",
        "\n",
        "    for i in tqdm(range(100)):\n",
        "        X_train, X_test, y_train, y_test = train_test_split(X, y, test_size=0.2)\n",
        "    \n",
        "        model.fit(X_train, y_train) #Train the model\n",
        "        #model.fit(X_train,y_train, verbose = 0)#For Catboost    \n",
        "        y_pred_Train  = model.predict(X_train)  #Predictions on training model\n",
        "        y_pred_Test   = model.predict(X_test)   #Predictions on testing model\n",
        "    \n",
        "        train_R2 = metrics.r2_score(y_train, y_pred_Train) #Obtaining the metrics\n",
        "        test_R2  = metrics.r2_score(y_test, y_pred_Test)\n",
        "    \n",
        "        train_MSE = metrics.mean_squared_error(y_train, y_pred_Train)\n",
        "        test_MSE  = metrics.mean_squared_error(y_test, y_pred_Test)\n",
        "    \n",
        "        Train_MSE.append(train_MSE) #Storing the metrics in the lists\n",
        "        Test_MSE.append(test_MSE) \n",
        "    \n",
        "        Train_R2.append(train_R2) #Storing the metrics in the lists\n",
        "        Test_R2.append(test_R2)  \n",
        "    \n",
        "    print('Train MSE median:', np.median(Train_MSE))\n",
        "    print('Test MSE median:', np.median(Test_MSE))\n",
        "\n",
        "    print('\\nTrain_R2 median:', np.median(Train_R2))\n",
        "    print('Test_R2 median:', np.median(Test_R2))\n",
        "\n",
        "    fig, ax = plt.subplots(ncols=2, figsize=(10,4))\n",
        "\n",
        "    ax[0].boxplot([Train_MSE, Test_MSE])\n",
        "    ax[0].set_xticks([1,2],minor = False)                   #setting boxplot names\n",
        "    ax[0].set_xticklabels(['Train','Test'], minor = False)  #setting boxplot names\n",
        "    ax[0].grid()\n",
        "    ax[0].set_title('Mean Squared Error')\n",
        "\n",
        "    ax[1].boxplot([Train_R2, Test_R2])\n",
        "    ax[1].set_xticks([1,2],minor = False)\n",
        "    ax[1].set_xticklabels(['Train','Test'], minor = False)\n",
        "    ax[1].grid()\n",
        "    ax[1].set_title('R squared')\n",
        "\n",
        "    plt.show()\n",
        "\n",
        "    print('Train MSE standard deviation:', np.std(Train_MSE))\n",
        "    print('Test MSE standard deviation: ', np.std(Test_MSE))\n",
        "\n",
        "    print('\\nTrain_R2 standard deviation:', np.std(Train_R2))\n",
        "    print('Test_R2 standard deviation: ', np.std(Test_R2))"
      ],
      "metadata": {
        "id": "5rcTKcyuXMwC"
      },
      "execution_count": null,
      "outputs": []
    },
    {
      "cell_type": "markdown",
      "source": [
        "## Stadardiztion (Juan's functions will be looking for these)\n"
      ],
      "metadata": {
        "id": "lVm-U9fxZKRJ"
      }
    },
    {
      "cell_type": "markdown",
      "source": [
        "### Training Set Mean"
      ],
      "metadata": {
        "id": "jAZH3A-tZVbn"
      }
    },
    {
      "cell_type": "code",
      "source": [
        "mean = X_train.mean()\n",
        "print(mean)"
      ],
      "metadata": {
        "colab": {
          "base_uri": "https://localhost:8080/"
        },
        "id": "LKpOjApfZJzv",
        "outputId": "a0810c26-879c-44dc-8002-78b5c3905ebb"
      },
      "execution_count": null,
      "outputs": [
        {
          "output_type": "stream",
          "name": "stdout",
          "text": [
            "Seasonal                                 -0.007304\n",
            "Gray_cement_dispatch_comercial       540485.571113\n",
            "ISE                                     105.707051\n",
            "Construction_lic_area/unt_SIlag_4        62.605747\n",
            "dtype: float64\n"
          ]
        }
      ]
    },
    {
      "cell_type": "markdown",
      "source": [
        "<font color = 'blue'>Training Test Standard Deviation\n",
        "### \n"
      ],
      "metadata": {
        "id": "ocewVP74ZY7e"
      }
    },
    {
      "cell_type": "code",
      "source": [
        "stdev = X_train.std()\n",
        "print(stdev)"
      ],
      "metadata": {
        "colab": {
          "base_uri": "https://localhost:8080/"
        },
        "id": "uoVEuOCGZSaI",
        "outputId": "66850761-3a5b-4348-fbca-e64fcd574caf"
      },
      "execution_count": null,
      "outputs": [
        {
          "output_type": "stream",
          "name": "stdout",
          "text": [
            "Seasonal                                 1.050611\n",
            "Gray_cement_dispatch_comercial       79567.183194\n",
            "ISE                                      4.942473\n",
            "Construction_lic_area/unt_SIlag_4        3.488844\n",
            "dtype: float64\n"
          ]
        }
      ]
    },
    {
      "cell_type": "code",
      "source": [
        "#run without this for KNN first\n",
        "X_train_st = (X_train - mean)/stdev \n",
        "X_train_st.boxplot()"
      ],
      "metadata": {
        "colab": {
          "base_uri": "https://localhost:8080/",
          "height": 283
        },
        "id": "R92hv3GFZkno",
        "outputId": "e0ac117b-cddf-46ee-faa4-f17f19857544"
      },
      "execution_count": null,
      "outputs": [
        {
          "output_type": "execute_result",
          "data": {
            "text/plain": [
              "<matplotlib.axes._subplots.AxesSubplot at 0x7fed24233410>"
            ]
          },
          "metadata": {},
          "execution_count": 31
        },
        {
          "output_type": "display_data",
          "data": {
            "image/png": "[encoded data removed]",
            "text/plain": [
              "<Figure size 432x288 with 1 Axes>"
            ]
          },
          "metadata": {
            "needs_background": "light"
          }
        }
      ]
    },
    {
      "cell_type": "markdown",
      "source": [
        "### Test Set preparations, Notice that test is standardized using training set mean and standard deviations"
      ],
      "metadata": {
        "id": "1CofOmPjZyFn"
      }
    },
    {
      "cell_type": "code",
      "source": [
        "X_test_st = (X_test - mean)/stdev \n",
        "X_test_st.boxplot()"
      ],
      "metadata": {
        "colab": {
          "base_uri": "https://localhost:8080/",
          "height": 283
        },
        "id": "MsGMeS1CZuV2",
        "outputId": "9eb49afc-81bd-460f-f928-37b66e53c777"
      },
      "execution_count": null,
      "outputs": [
        {
          "output_type": "execute_result",
          "data": {
            "text/plain": [
              "<matplotlib.axes._subplots.AxesSubplot at 0x7fed2810fad0>"
            ]
          },
          "metadata": {},
          "execution_count": 32
        },
        {
          "output_type": "display_data",
          "data": {
            "image/png": "[encoded data removed]",
            "text/plain": [
              "<Figure size 432x288 with 1 Axes>"
            ]
          },
          "metadata": {
            "needs_background": "light"
          }
        }
      ]
    },
    {
      "cell_type": "code",
      "source": [
        "'''\n",
        "model = KNeighborsRegressor(n_neighbors=100)\n",
        "#model = RandomForestRegressor(n_estimators=10) #Number of trees in the forest\n",
        "#model = ExtraTreesRegressor(n_estimators=10)\n",
        "#model = GradientBoostingRegressor(n_estimators = 10) #Number of trees in the forest\n",
        "#model = XGBRegressor(objective=\"reg:squarederror\", random_state=42)\n",
        "#model = CatBoostRegressor() #Change fit in functions\n",
        "#model = LGBMRegressor() #Change fit in functions\n",
        "\n",
        "#Model_Performance(model,X_train,y_train,X_test, y_test)\n",
        "Model_Performance(model,X_train_st,y_train,X_test_st, y_test)\n",
        "'''\n",
        "\n",
        "model = catboost_model\n",
        "\n",
        "Model_Performance(model,X_train_st,y_train,X_test_st, y_test)"
      ],
      "metadata": {
        "id": "YjfJQRelZ4Q_"
      },
      "execution_count": null,
      "outputs": []
    },
    {
      "cell_type": "markdown",
      "source": [
        "### Feature Importance"
      ],
      "metadata": {
        "id": "Nt1VIXVvapQr"
      }
    },
    {
      "cell_type": "code",
      "source": [
        "'''\n",
        "RegForest = RandomForestRegressor(n_estimators=10)\n",
        "RegForest.fit(X_train,y_train)\n",
        "\n",
        "Features = df.columns[0:4]\n",
        "\n",
        "Feature_importances = pd.Series(RegForest.feature_importances_, index=Features)\n",
        "Feature_importances.plot.bar()\n",
        "'''\n",
        "\n",
        "RegCatBoost = CatBoostRegressor(n_estimators=10)\n",
        "RegCatBoost.fit(X_train,y_train)\n",
        "\n",
        "Features = dataframe.columns[0:4]\n",
        "\n",
        "Feature_importances = pd.Series(RegCatBoost.feature_importances_, index=Features)\n",
        "Feature_importances.plot.bar()\n"
      ],
      "metadata": {
        "colab": {
          "base_uri": "https://localhost:8080/",
          "height": 627
        },
        "id": "Q-VWu0uuaONC",
        "outputId": "998a039b-a9ef-4f24-a77e-183fe50fd9d3"
      },
      "execution_count": null,
      "outputs": [
        {
          "output_type": "stream",
          "name": "stdout",
          "text": [
            "Learning rate set to 0.5\n",
            "0:\tlearn: 0.8643326\ttotal: 771us\tremaining: 6.95ms\n",
            "1:\tlearn: 0.7484689\ttotal: 1.18ms\tremaining: 4.7ms\n",
            "2:\tlearn: 0.6504314\ttotal: 1.39ms\tremaining: 3.24ms\n",
            "3:\tlearn: 0.6118392\ttotal: 1.51ms\tremaining: 2.26ms\n",
            "4:\tlearn: 0.5359581\ttotal: 1.88ms\tremaining: 1.88ms\n",
            "5:\tlearn: 0.4965546\ttotal: 2.25ms\tremaining: 1.5ms\n",
            "6:\tlearn: 0.4495743\ttotal: 2.61ms\tremaining: 1.12ms\n",
            "7:\tlearn: 0.4106250\ttotal: 2.99ms\tremaining: 746us\n",
            "8:\tlearn: 0.3789702\ttotal: 3.34ms\tremaining: 371us\n",
            "9:\tlearn: 0.3412619\ttotal: 3.72ms\tremaining: 0us\n"
          ]
        },
        {
          "output_type": "execute_result",
          "data": {
            "text/plain": [
              "<matplotlib.axes._subplots.AxesSubplot at 0x7fed232dcad0>"
            ]
          },
          "metadata": {},
          "execution_count": 42
        },
        {
          "output_type": "display_data",
          "data": {
            "image/png": "[encoded data removed]",
            "text/plain": [
              "<Figure size 432x288 with 1 Axes>"
            ]
          },
          "metadata": {
            "needs_background": "light"
          }
        }
      ]
    },
    {
      "cell_type": "markdown",
      "source": [
        "## Juans CATBoost Section"
      ],
      "metadata": {
        "id": "TailpWQGb9a_"
      }
    },
    {
      "cell_type": "code",
      "source": [
        " Metrics(y_test, y_pred_Test)"
      ],
      "metadata": {
        "colab": {
          "base_uri": "https://localhost:8080/"
        },
        "id": "pLRgEJ8B6ExH",
        "outputId": "987a2a8c-3b06-4990-84c0-3258bb0ddf33"
      },
      "execution_count": 65,
      "outputs": [
        {
          "output_type": "stream",
          "name": "stdout",
          "text": [
            "Test Metrics:\n",
            "R squared: 0.7517368146078001\n",
            "Mean Absolute Error: 0.380960992767719\n",
            "Mean Squared Error: 0.1960497613375459\n",
            "Root Mean Squared Error: 0.44277506855913407\n"
          ]
        }
      ]
    },
    {
      "cell_type": "markdown",
      "source": [
        "### Feature importance"
      ],
      "metadata": {
        "id": "3CoZ7ifWcDPh"
      }
    },
    {
      "cell_type": "code",
      "source": [
        "cb = CatBoostRegressor()\n",
        "cb.fit(X_train, y_train, eval_set=(X_test, y_test), verbose=0)\n",
        "\n",
        "Features = dataframe.columns[0:4]\n",
        "\n",
        "Feature_importances = pd.Series(cb.feature_importances_, index=Features)\n",
        "Feature_importances.plot.bar()"
      ],
      "metadata": {
        "colab": {
          "base_uri": "https://localhost:8080/",
          "height": 440
        },
        "id": "aS6Ds9OFb9FI",
        "outputId": "af11945d-8d64-49bd-ef7e-3acb22c818d2"
      },
      "execution_count": 66,
      "outputs": [
        {
          "output_type": "execute_result",
          "data": {
            "text/plain": [
              "<matplotlib.axes._subplots.AxesSubplot at 0x7f84b6b12d50>"
            ]
          },
          "metadata": {},
          "execution_count": 66
        },
        {
          "output_type": "display_data",
          "data": {
            "image/png": "[encoded data removed]",
            "text/plain": [
              "<Figure size 432x288 with 1 Axes>"
            ]
          },
          "metadata": {
            "needs_background": "light"
          }
        }
      ]
    },
    {
      "cell_type": "markdown",
      "source": [
        "## Calling Juans Functions\n",
        "\n",
        "1.   Model Performance\n",
        "2.   Metrics\n",
        "3.   Predicted Plot\n",
        "4.   Multiple Runs\n",
        "\n"
      ],
      "metadata": {
        "id": "sXCaNBGiAsNL"
      }
    },
    {
      "cell_type": "markdown",
      "source": [
        "### Model Performance"
      ],
      "metadata": {
        "id": "3GSAMDF1AsJN"
      }
    },
    {
      "cell_type": "code",
      "source": [
        "# Juan's ##### MODEL PERFORMANCE #############\n",
        "\n",
        "Model_Performance(model,X_train,y_train,X_test, y_test)"
      ],
      "metadata": {
        "id": "CnQsaRQp5DtT"
      },
      "execution_count": null,
      "outputs": []
    },
    {
      "cell_type": "code",
      "source": [
        "############## JUAN'S METRICS ###############\n",
        "\n",
        "y_pred_Test   = model.predict(X_test) \n",
        "\n",
        "Metrics(y_test, y_pred_Test)"
      ],
      "metadata": {
        "colab": {
          "base_uri": "https://localhost:8080/"
        },
        "id": "_-2SHo4X5LDn",
        "outputId": "26d85530-5cb0-4b78-df24-80bd5234a96c"
      },
      "execution_count": 68,
      "outputs": [
        {
          "output_type": "stream",
          "name": "stdout",
          "text": [
            "Test Metrics:\n",
            "R squared: 0.9976332077577419\n",
            "Mean Absolute Error: 0.02684811098084606\n",
            "Mean Squared Error: 0.0018690207873439892\n",
            "Root Mean Squared Error: 0.04323217305831375\n"
          ]
        }
      ]
    },
    {
      "cell_type": "code",
      "source": [
        "############### PREDICTED PLOT ##################\n",
        "\n",
        "y_pred_Train  = model.predict(X_train)  #Predictions on training model\n",
        "y_pred_Test   = model.predict(X_test)\n",
        "#\n",
        "Predicted_Plot(y_train, y_pred_Train, y_test, y_pred_Test)"
      ],
      "metadata": {
        "colab": {
          "base_uri": "https://localhost:8080/",
          "height": 295
        },
        "id": "4qlvDwliBpYt",
        "outputId": "38939745-cda4-452f-ef53-12a7862bfb97"
      },
      "execution_count": 72,
      "outputs": [
        {
          "output_type": "display_data",
          "data": {
            "image/png": "[encoded data removed]",
            "text/plain": [
              "<Figure size 720x288 with 2 Axes>"
            ]
          },
          "metadata": {
            "needs_background": "light"
          }
        }
      ]
    },
    {
      "cell_type": "markdown",
      "source": [
        "### Multiple Runs"
      ],
      "metadata": {
        "id": "hU3qxFVo5tZZ"
      }
    },
    {
      "cell_type": "code",
      "source": [
        "####################.JUAN'S MULTIPLE RUNS ##################\n",
        "\n",
        "Multiple_Runs(model,X_train,y_train,X_test, y_test)"
      ],
      "metadata": {
        "id": "6mWKaNTj5ZJ-"
      },
      "execution_count": null,
      "outputs": []
    },
    {
      "cell_type": "code",
      "source": [
        ""
      ],
      "metadata": {
        "id": "F__483sgAPoV"
      },
      "execution_count": null,
      "outputs": []
    }
  ]
}