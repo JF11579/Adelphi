{
  "cells": [
    {
      "cell_type": "markdown",
      "metadata": {
        "id": "view-in-github",
        "colab_type": "text"
      },
      "source": [
        "<a href=\"https://colab.research.google.com/github/JF11579/Adelphi/blob/main/Stacked_Complaints_4_20_1.ipynb\" target=\"_parent\"><img src=\"https://colab.research.google.com/assets/colab-badge.svg\" alt=\"Open In Colab\"/></a>"
      ]
    },
    {
      "cell_type": "markdown",
      "id": "f59df20b",
      "metadata": {
        "id": "f59df20b"
      },
      "source": [
        "# Road Map"
      ]
    },
    {
      "cell_type": "markdown",
      "id": "05c213a3",
      "metadata": {
        "id": "05c213a3"
      },
      "source": [
        "### Our goal is categorize the Consumer Narative so that when new Narative is introduced it correctly predicts which category it belongs in.\n",
        "\n",
        "### Our data starts with 2.5 million rows and half a dozen or so cols.  First we subset out  ISSUE and Consumer Narative.  Next we look into the NANs.  ISSUE has zero but   NARATIVE  has 1.6 million.  Ouch. We remove the NANs and this drops us down to about 900k rows.\n",
        "\n",
        "### More problematic though is the VERY skewed distribution of the data .  Some Issues have almost 200k  observations while other have only a handful.  We could drop the least common Issues but first we are going to try and make it work. If that was me on the phone with an  uncommon Issue I would want help.  Considering the unusual nature of their Issue the caller might need more, not less, of our help. We removed the 4 most common Issues and then got the Quantiles of the remainder.  The avg of that remainder is appx 5,000.  The avg of the bottom quartile is appx 47.  Devidng 5000 / 47 = 115 or so.  Python's SAMPLE tool not only lets one extract fractions of data but if instead of  a number less than 1,  one enters a integer >1 one, it  increases the size of  the data set.  It actually just duplicates existing rows, for better or worse.  We multiplied the bottom quartile by 115 and then concatenated that onthe original datsset.\n",
        "\n",
        "### To increase the data we first grouped-by the original data and got totals for each ISSUE.  This gave us a 2 column DF: Issue and Count.  Next we subsetted out the ISSUE column from the bottom quartile using \"isin\" .  (The Py version of Merge is not as user friendly as the R version, just like the re-nameing of cols.) and in this way we were able to extract from the original Df the bottom quartile.  It was this that we multiplied.\n",
        "\n",
        "### Every place but in our class one is told to pre-process the data then split it.  We want to do the reverse.  So we pre-process seperately X-train and y_train.\n",
        "\n",
        "### I utterly did not use my time wisely.  I spent dozens of hours on this and it still is not done.  e.g. Despite hitting Save very frequently , at one of the points when Jupyter froze and I had to restart the computer there was a serius amount of white space where code was once written.\n",
        "\n",
        "###  In the first week of the project I had made a sample of the  data to expedite the coding.  For no good reason I had forgotten to continue that .I thinkI got focused more on making the data BIGGER.  That would have been a very big help here."
      ]
    },
    {
      "cell_type": "markdown",
      "id": "aee480fa",
      "metadata": {
        "id": "aee480fa"
      },
      "source": [
        "# Libraries\n"
      ]
    },
    {
      "cell_type": "code",
      "execution_count": null,
      "id": "489a88dc",
      "metadata": {
        "id": "489a88dc",
        "outputId": "d0c5a4c1-3890-4ebd-96a4-ed2381a5ad2c"
      },
      "outputs": [
        {
          "name": "stdout",
          "output_type": "stream",
          "text": [
            "Requirement already satisfied: ipykernel in /Library/Frameworks/Python.framework/Versions/3.9/lib/python3.9/site-packages (6.13.0)\n",
            "Requirement already satisfied: matplotlib-inline>=0.1 in /Library/Frameworks/Python.framework/Versions/3.9/lib/python3.9/site-packages (from ipykernel) (0.1.3)\n",
            "Requirement already satisfied: traitlets>=5.1.0 in /Library/Frameworks/Python.framework/Versions/3.9/lib/python3.9/site-packages (from ipykernel) (5.1.1)\n",
            "Requirement already satisfied: tornado>=6.1 in /Library/Frameworks/Python.framework/Versions/3.9/lib/python3.9/site-packages (from ipykernel) (6.1)\n",
            "Requirement already satisfied: packaging in /Library/Frameworks/Python.framework/Versions/3.9/lib/python3.9/site-packages (from ipykernel) (21.3)\n",
            "Requirement already satisfied: appnope in /Library/Frameworks/Python.framework/Versions/3.9/lib/python3.9/site-packages (from ipykernel) (0.1.2)\n",
            "Requirement already satisfied: debugpy>=1.0 in /Library/Frameworks/Python.framework/Versions/3.9/lib/python3.9/site-packages (from ipykernel) (1.5.1)\n",
            "Requirement already satisfied: nest-asyncio in /Library/Frameworks/Python.framework/Versions/3.9/lib/python3.9/site-packages (from ipykernel) (1.5.1)\n",
            "Requirement already satisfied: psutil in /Library/Frameworks/Python.framework/Versions/3.9/lib/python3.9/site-packages (from ipykernel) (5.9.0)\n",
            "Requirement already satisfied: ipython>=7.23.1 in /Library/Frameworks/Python.framework/Versions/3.9/lib/python3.9/site-packages (from ipykernel) (7.29.0)\n",
            "Requirement already satisfied: jupyter-client>=6.1.12 in /Library/Frameworks/Python.framework/Versions/3.9/lib/python3.9/site-packages (from ipykernel) (7.0.6)\n",
            "Requirement already satisfied: decorator in /Library/Frameworks/Python.framework/Versions/3.9/lib/python3.9/site-packages (from ipython>=7.23.1->ipykernel) (5.1.0)\n",
            "Requirement already satisfied: jedi>=0.16 in /Library/Frameworks/Python.framework/Versions/3.9/lib/python3.9/site-packages (from ipython>=7.23.1->ipykernel) (0.18.0)\n",
            "Requirement already satisfied: setuptools>=18.5 in /Library/Frameworks/Python.framework/Versions/3.9/lib/python3.9/site-packages (from ipython>=7.23.1->ipykernel) (61.2.0)\n",
            "Requirement already satisfied: pexpect>4.3 in /Library/Frameworks/Python.framework/Versions/3.9/lib/python3.9/site-packages (from ipython>=7.23.1->ipykernel) (4.8.0)\n",
            "Requirement already satisfied: pygments in /Library/Frameworks/Python.framework/Versions/3.9/lib/python3.9/site-packages (from ipython>=7.23.1->ipykernel) (2.10.0)\n",
            "Requirement already satisfied: prompt-toolkit!=3.0.0,!=3.0.1,<3.1.0,>=2.0.0 in /Library/Frameworks/Python.framework/Versions/3.9/lib/python3.9/site-packages (from ipython>=7.23.1->ipykernel) (3.0.21)\n",
            "Requirement already satisfied: pickleshare in /Library/Frameworks/Python.framework/Versions/3.9/lib/python3.9/site-packages (from ipython>=7.23.1->ipykernel) (0.7.5)\n",
            "Requirement already satisfied: backcall in /Library/Frameworks/Python.framework/Versions/3.9/lib/python3.9/site-packages (from ipython>=7.23.1->ipykernel) (0.2.0)\n",
            "Requirement already satisfied: entrypoints in /Library/Frameworks/Python.framework/Versions/3.9/lib/python3.9/site-packages (from jupyter-client>=6.1.12->ipykernel) (0.3)\n",
            "Requirement already satisfied: jupyter-core>=4.6.0 in /Library/Frameworks/Python.framework/Versions/3.9/lib/python3.9/site-packages (from jupyter-client>=6.1.12->ipykernel) (4.9.1)\n",
            "Requirement already satisfied: python-dateutil>=2.1 in /Library/Frameworks/Python.framework/Versions/3.9/lib/python3.9/site-packages (from jupyter-client>=6.1.12->ipykernel) (2.8.2)\n",
            "Requirement already satisfied: pyzmq>=13 in /Library/Frameworks/Python.framework/Versions/3.9/lib/python3.9/site-packages (from jupyter-client>=6.1.12->ipykernel) (22.3.0)\n",
            "Requirement already satisfied: pyparsing!=3.0.5,>=2.0.2 in /Library/Frameworks/Python.framework/Versions/3.9/lib/python3.9/site-packages (from packaging->ipykernel) (2.4.7)\n",
            "Requirement already satisfied: parso<0.9.0,>=0.8.0 in /Library/Frameworks/Python.framework/Versions/3.9/lib/python3.9/site-packages (from jedi>=0.16->ipython>=7.23.1->ipykernel) (0.8.2)\n",
            "Requirement already satisfied: ptyprocess>=0.5 in /Library/Frameworks/Python.framework/Versions/3.9/lib/python3.9/site-packages (from pexpect>4.3->ipython>=7.23.1->ipykernel) (0.7.0)\n",
            "Requirement already satisfied: wcwidth in /Library/Frameworks/Python.framework/Versions/3.9/lib/python3.9/site-packages (from prompt-toolkit!=3.0.0,!=3.0.1,<3.1.0,>=2.0.0->ipython>=7.23.1->ipykernel) (0.2.5)\n",
            "Requirement already satisfied: six>=1.5 in /Library/Frameworks/Python.framework/Versions/3.9/lib/python3.9/site-packages (from python-dateutil>=2.1->jupyter-client>=6.1.12->ipykernel) (1.16.0)\n"
          ]
        }
      ],
      "source": [
        "!pip install --upgrade ipykernel"
      ]
    },
    {
      "cell_type": "code",
      "execution_count": null,
      "id": "80ba86b2",
      "metadata": {
        "id": "80ba86b2"
      },
      "outputs": [],
      "source": [
        "import pandas as pd\n",
        "import nltk"
      ]
    },
    {
      "cell_type": "code",
      "execution_count": null,
      "id": "7bc6eb6b",
      "metadata": {
        "id": "7bc6eb6b"
      },
      "outputs": [],
      "source": [
        "import seaborn as sns"
      ]
    },
    {
      "cell_type": "code",
      "execution_count": null,
      "id": "b091efcc",
      "metadata": {
        "id": "b091efcc",
        "outputId": "0a00e64d-51fe-4b18-d1bb-f0d2f4f443e6"
      },
      "outputs": [
        {
          "name": "stderr",
          "output_type": "stream",
          "text": [
            "[nltk_data] Error loading punkt: <urlopen error [SSL:\n",
            "[nltk_data]     CERTIFICATE_VERIFY_FAILED] certificate verify failed:\n",
            "[nltk_data]     unable to get local issuer certificate (_ssl.c:1129)>\n",
            "[nltk_data] Error loading wordnet: <urlopen error [SSL:\n",
            "[nltk_data]     CERTIFICATE_VERIFY_FAILED] certificate verify failed:\n",
            "[nltk_data]     unable to get local issuer certificate (_ssl.c:1129)>\n"
          ]
        }
      ],
      "source": [
        "import nltk\n",
        "nltk.download('punkt')\n",
        "nltk.download('wordnet')\n",
        "from nltk import sent_tokenize, word_tokenize\n",
        "from nltk.stem.snowball import SnowballStemmer\n",
        "from nltk.stem.wordnet import WordNetLemmatizer\n",
        "from nltk.corpus import stopwords\n",
        "import numpy as np\n",
        "import re"
      ]
    },
    {
      "cell_type": "code",
      "execution_count": null,
      "id": "14c655e8",
      "metadata": {
        "id": "14c655e8"
      },
      "outputs": [],
      "source": [
        "import matplotlib.pyplot as plt"
      ]
    },
    {
      "cell_type": "code",
      "execution_count": null,
      "id": "f8c77da6",
      "metadata": {
        "id": "f8c77da6"
      },
      "outputs": [],
      "source": [
        "from sklearn.model_selection import train_test_split"
      ]
    },
    {
      "cell_type": "code",
      "execution_count": null,
      "id": "9604f107",
      "metadata": {
        "id": "9604f107",
        "outputId": "dda63540-3f8a-4b3f-c87b-c01131205f64"
      },
      "outputs": [
        {
          "name": "stdout",
          "output_type": "stream",
          "text": [
            "Requirement already satisfied: pandarallel in /Library/Frameworks/Python.framework/Versions/3.9/lib/python3.9/site-packages (1.6.1)\n",
            "Requirement already satisfied: psutil in /Library/Frameworks/Python.framework/Versions/3.9/lib/python3.9/site-packages (from pandarallel) (5.9.0)\n",
            "Requirement already satisfied: dill>=0.3.1 in /Library/Frameworks/Python.framework/Versions/3.9/lib/python3.9/site-packages (from pandarallel) (0.3.4)\n",
            "Requirement already satisfied: pandas>=1 in /Library/Frameworks/Python.framework/Versions/3.9/lib/python3.9/site-packages (from pandarallel) (1.4.2)\n",
            "Requirement already satisfied: python-dateutil>=2.8.1 in /Library/Frameworks/Python.framework/Versions/3.9/lib/python3.9/site-packages (from pandas>=1->pandarallel) (2.8.2)\n",
            "Requirement already satisfied: pytz>=2020.1 in /Library/Frameworks/Python.framework/Versions/3.9/lib/python3.9/site-packages (from pandas>=1->pandarallel) (2021.3)\n",
            "Requirement already satisfied: numpy>=1.18.5 in /Library/Frameworks/Python.framework/Versions/3.9/lib/python3.9/site-packages (from pandas>=1->pandarallel) (1.21.3)\n",
            "Requirement already satisfied: six>=1.5 in /Library/Frameworks/Python.framework/Versions/3.9/lib/python3.9/site-packages (from python-dateutil>=2.8.1->pandas>=1->pandarallel) (1.16.0)\n"
          ]
        }
      ],
      "source": [
        "!pip install pandarallel"
      ]
    },
    {
      "cell_type": "code",
      "execution_count": null,
      "id": "a4cd1c22",
      "metadata": {
        "id": "a4cd1c22",
        "outputId": "fe087afd-bc62-4ec0-c719-397cd2b04b66"
      },
      "outputs": [
        {
          "name": "stdout",
          "output_type": "stream",
          "text": [
            "INFO: Pandarallel will run on 4 workers.\n",
            "INFO: Pandarallel will use standard multiprocessing data transfer (pipe) to transfer data between the main process and workers.\n"
          ]
        }
      ],
      "source": [
        "import nltk\n",
        "from pandarallel import pandarallel\n",
        "\n",
        "pandarallel.initialize(progress_bar=True)"
      ]
    },
    {
      "cell_type": "code",
      "execution_count": null,
      "id": "ff018f6d",
      "metadata": {
        "id": "ff018f6d"
      },
      "outputs": [],
      "source": [
        "from nltk.corpus import stopwords\n",
        "stop = stopwords.words('english')\n",
        "\n"
      ]
    },
    {
      "cell_type": "markdown",
      "id": "3af58c53",
      "metadata": {
        "id": "3af58c53"
      },
      "source": [
        "# Data"
      ]
    },
    {
      "cell_type": "code",
      "execution_count": null,
      "id": "d4a42897",
      "metadata": {
        "id": "d4a42897",
        "outputId": "e46ea0e7-e60a-49e7-bbc1-e90942fed84c"
      },
      "outputs": [
        {
          "name": "stderr",
          "output_type": "stream",
          "text": [
            "/var/folders/_k/0b37qbmx5gz084p4png5n4840000gr/T/ipykernel_770/1945214178.py:1: DtypeWarning: Columns (9) have mixed types. Specify dtype option on import or set low_memory=False.\n",
            "  df = pd.read_csv('complaints.csv',encoding = 'utf-8')\n"
          ]
        }
      ],
      "source": [
        "df = pd.read_csv('complaints.csv',encoding = 'utf-8')"
      ]
    },
    {
      "cell_type": "code",
      "execution_count": null,
      "id": "baa15651",
      "metadata": {
        "id": "baa15651"
      },
      "outputs": [],
      "source": [
        "complaints = df"
      ]
    },
    {
      "cell_type": "code",
      "execution_count": null,
      "id": "fe1a0547",
      "metadata": {
        "id": "fe1a0547"
      },
      "outputs": [],
      "source": [
        "complaints_select = complaints[['Issue' , 'Consumer complaint narrative']]"
      ]
    },
    {
      "cell_type": "code",
      "execution_count": null,
      "id": "346f8f94",
      "metadata": {
        "id": "346f8f94",
        "outputId": "703648e0-7116-402a-8650-8070f4d7306c"
      },
      "outputs": [
        {
          "data": {
            "text/html": [
              "<div>\n",
              "<style scoped>\n",
              "    .dataframe tbody tr th:only-of-type {\n",
              "        vertical-align: middle;\n",
              "    }\n",
              "\n",
              "    .dataframe tbody tr th {\n",
              "        vertical-align: top;\n",
              "    }\n",
              "\n",
              "    .dataframe thead th {\n",
              "        text-align: right;\n",
              "    }\n",
              "</style>\n",
              "<table border=\"1\" class=\"dataframe\">\n",
              "  <thead>\n",
              "    <tr style=\"text-align: right;\">\n",
              "      <th></th>\n",
              "      <th>Issue</th>\n",
              "      <th>Consumer complaint narrative</th>\n",
              "    </tr>\n",
              "  </thead>\n",
              "  <tbody>\n",
              "    <tr>\n",
              "      <th>0</th>\n",
              "      <td>Struggling to repay your loan</td>\n",
              "      <td>NaN</td>\n",
              "    </tr>\n",
              "    <tr>\n",
              "      <th>1</th>\n",
              "      <td>Problem with a credit reporting company's inve...</td>\n",
              "      <td>As by Law, under 15 U.S Code 1601- Congression...</td>\n",
              "    </tr>\n",
              "    <tr>\n",
              "      <th>2</th>\n",
              "      <td>Trouble during payment process</td>\n",
              "      <td>I am the personal representative of my sister ...</td>\n",
              "    </tr>\n",
              "    <tr>\n",
              "      <th>3</th>\n",
              "      <td>Incorrect information on your report</td>\n",
              "      <td>XXXX, XXXX XXXX SOC SEC # XXXX DOB XX/XX/XXXX ...</td>\n",
              "    </tr>\n",
              "    <tr>\n",
              "      <th>4</th>\n",
              "      <td>Problem with a credit reporting company's inve...</td>\n",
              "      <td>NaN</td>\n",
              "    </tr>\n",
              "  </tbody>\n",
              "</table>\n",
              "</div>"
            ],
            "text/plain": [
              "                                               Issue  \\\n",
              "0                      Struggling to repay your loan   \n",
              "1  Problem with a credit reporting company's inve...   \n",
              "2                     Trouble during payment process   \n",
              "3               Incorrect information on your report   \n",
              "4  Problem with a credit reporting company's inve...   \n",
              "\n",
              "                        Consumer complaint narrative  \n",
              "0                                                NaN  \n",
              "1  As by Law, under 15 U.S Code 1601- Congression...  \n",
              "2  I am the personal representative of my sister ...  \n",
              "3  XXXX, XXXX XXXX SOC SEC # XXXX DOB XX/XX/XXXX ...  \n",
              "4                                                NaN  "
            ]
          },
          "execution_count": 9,
          "metadata": {},
          "output_type": "execute_result"
        }
      ],
      "source": [
        "complaints_select.head()"
      ]
    },
    {
      "cell_type": "code",
      "execution_count": null,
      "id": "d75c6752",
      "metadata": {
        "id": "d75c6752",
        "outputId": "42561b0e-0fa0-41b0-8683-3a998b374a2e"
      },
      "outputs": [
        {
          "data": {
            "text/plain": [
              "Issue                           object\n",
              "Consumer complaint narrative    object\n",
              "dtype: object"
            ]
          },
          "execution_count": 9,
          "metadata": {},
          "output_type": "execute_result"
        }
      ],
      "source": [
        "complaints_select.dtypes"
      ]
    },
    {
      "cell_type": "code",
      "execution_count": null,
      "id": "78cb310a",
      "metadata": {
        "id": "78cb310a",
        "outputId": "bd65a9b5-614c-4e83-bebf-8b7d1720b886"
      },
      "outputs": [
        {
          "name": "stderr",
          "output_type": "stream",
          "text": [
            "/var/folders/_k/0b37qbmx5gz084p4png5n4840000gr/T/ipykernel_770/3989488772.py:1: SettingWithCopyWarning: \n",
            "A value is trying to be set on a copy of a slice from a DataFrame.\n",
            "Try using .loc[row_indexer,col_indexer] = value instead\n",
            "\n",
            "See the caveats in the documentation: https://pandas.pydata.org/pandas-docs/stable/user_guide/indexing.html#returning-a-view-versus-a-copy\n",
            "  complaints_select['Issue'] = complaints_select['Issue'].astype('string')\n",
            "/var/folders/_k/0b37qbmx5gz084p4png5n4840000gr/T/ipykernel_770/3989488772.py:2: SettingWithCopyWarning: \n",
            "A value is trying to be set on a copy of a slice from a DataFrame.\n",
            "Try using .loc[row_indexer,col_indexer] = value instead\n",
            "\n",
            "See the caveats in the documentation: https://pandas.pydata.org/pandas-docs/stable/user_guide/indexing.html#returning-a-view-versus-a-copy\n",
            "  complaints_select['Consumer complaint narrative'] = complaints_select['Consumer complaint narrative'].astype('string')\n"
          ]
        }
      ],
      "source": [
        "complaints_select['Issue'] = complaints_select['Issue'].astype('string')\n",
        "complaints_select['Consumer complaint narrative'] = complaints_select['Consumer complaint narrative'].astype('string')"
      ]
    },
    {
      "cell_type": "code",
      "execution_count": null,
      "id": "5a79a1d1",
      "metadata": {
        "id": "5a79a1d1",
        "outputId": "e2fa6a3e-83e3-4980-c923-5157f4286060"
      },
      "outputs": [
        {
          "data": {
            "text/plain": [
              "Issue                           string\n",
              "Consumer complaint narrative    string\n",
              "dtype: object"
            ]
          },
          "execution_count": 12,
          "metadata": {},
          "output_type": "execute_result"
        }
      ],
      "source": [
        "complaints_select.dtypes"
      ]
    },
    {
      "cell_type": "code",
      "execution_count": null,
      "id": "68d828d3",
      "metadata": {
        "id": "68d828d3",
        "outputId": "fa6e58bc-f852-4ebe-a3d0-3936831ddec0"
      },
      "outputs": [
        {
          "data": {
            "text/plain": [
              "(2561599, 2)"
            ]
          },
          "execution_count": 13,
          "metadata": {},
          "output_type": "execute_result"
        }
      ],
      "source": [
        "complaints_select.shape #2.5 million rows"
      ]
    },
    {
      "cell_type": "markdown",
      "id": "532cba9e",
      "metadata": {
        "id": "532cba9e"
      },
      "source": [
        "# How many NANs?"
      ]
    },
    {
      "cell_type": "code",
      "execution_count": null,
      "id": "c1016aab",
      "metadata": {
        "id": "c1016aab",
        "outputId": "ae3bc95f-99da-4d38-adcc-b53ba1bbf28b"
      },
      "outputs": [
        {
          "data": {
            "text/plain": [
              "Issue                                 0\n",
              "Consumer complaint narrative    1663827\n",
              "dtype: int64"
            ]
          },
          "execution_count": 14,
          "metadata": {},
          "output_type": "execute_result"
        }
      ],
      "source": [
        "complaints_select.isnull().sum(axis=0)"
      ]
    },
    {
      "cell_type": "code",
      "execution_count": null,
      "id": "46e8da2d",
      "metadata": {
        "id": "46e8da2d"
      },
      "outputs": [],
      "source": [
        "complaints_select = complaints_select.dropna()\n",
        "complaints_select = complaints_select.reset_index(drop=True)"
      ]
    },
    {
      "cell_type": "code",
      "execution_count": null,
      "id": "63cff119",
      "metadata": {
        "id": "63cff119",
        "outputId": "ff88c306-2fc1-4888-c6ed-6396adf5950f"
      },
      "outputs": [
        {
          "data": {
            "text/plain": [
              "(897772, 2)"
            ]
          },
          "execution_count": 21,
          "metadata": {},
          "output_type": "execute_result"
        }
      ],
      "source": [
        "complaints_select.shape #2.5 million rows"
      ]
    },
    {
      "cell_type": "code",
      "execution_count": null,
      "id": "41b714b5",
      "metadata": {
        "id": "41b714b5",
        "outputId": "c384ef58-a1db-4dbe-f55e-602a08ff2508"
      },
      "outputs": [
        {
          "data": {
            "text/plain": [
              "160"
            ]
          },
          "execution_count": 22,
          "metadata": {},
          "output_type": "execute_result"
        }
      ],
      "source": [
        "complaints_select[\"Issue\"].nunique()"
      ]
    },
    {
      "cell_type": "markdown",
      "id": "707af4f0",
      "metadata": {
        "id": "707af4f0"
      },
      "source": [
        "# complaints_select_2"
      ]
    },
    {
      "cell_type": "code",
      "execution_count": null,
      "id": "18f9f5e4",
      "metadata": {
        "id": "18f9f5e4"
      },
      "outputs": [],
      "source": [
        "complaints_select_2 = complaints_select"
      ]
    },
    {
      "cell_type": "code",
      "execution_count": null,
      "id": "7e642605",
      "metadata": {
        "id": "7e642605",
        "outputId": "68533e24-c87a-4263-fc67-25cf92c7c185"
      },
      "outputs": [
        {
          "data": {
            "text/plain": [
              "(897772, 2)"
            ]
          },
          "execution_count": 24,
          "metadata": {},
          "output_type": "execute_result"
        }
      ],
      "source": [
        "complaints_select_2.shape"
      ]
    },
    {
      "cell_type": "markdown",
      "id": "344b61aa",
      "metadata": {
        "id": "344b61aa"
      },
      "source": [
        "# How many of each?"
      ]
    },
    {
      "cell_type": "code",
      "execution_count": null,
      "id": "c3a79464",
      "metadata": {
        "id": "c3a79464"
      },
      "outputs": [],
      "source": [
        "complaints_select_sort = complaints_select_2[\"Issue\"].value_counts()"
      ]
    },
    {
      "cell_type": "code",
      "execution_count": null,
      "id": "34ec52b7",
      "metadata": {
        "id": "34ec52b7"
      },
      "outputs": [],
      "source": [
        "complaints_select_sort = complaints_select_sort.to_frame().reset_index()"
      ]
    },
    {
      "cell_type": "code",
      "execution_count": null,
      "id": "64652c5e",
      "metadata": {
        "id": "64652c5e",
        "outputId": "4018cf34-bc9e-4df9-9a64-218d0420bc85"
      },
      "outputs": [
        {
          "data": {
            "text/plain": [
              "(160, 2)"
            ]
          },
          "execution_count": 62,
          "metadata": {},
          "output_type": "execute_result"
        }
      ],
      "source": [
        "complaints_select_sort.shape"
      ]
    },
    {
      "cell_type": "code",
      "execution_count": null,
      "id": "3adf7188",
      "metadata": {
        "id": "3adf7188",
        "outputId": "67a26242-e18a-4c31-b337-5a7b3e90cc00"
      },
      "outputs": [
        {
          "data": {
            "text/html": [
              "<div>\n",
              "<style scoped>\n",
              "    .dataframe tbody tr th:only-of-type {\n",
              "        vertical-align: middle;\n",
              "    }\n",
              "\n",
              "    .dataframe tbody tr th {\n",
              "        vertical-align: top;\n",
              "    }\n",
              "\n",
              "    .dataframe thead th {\n",
              "        text-align: right;\n",
              "    }\n",
              "</style>\n",
              "<table border=\"1\" class=\"dataframe\">\n",
              "  <thead>\n",
              "    <tr style=\"text-align: right;\">\n",
              "      <th></th>\n",
              "      <th>index</th>\n",
              "      <th>Issue</th>\n",
              "    </tr>\n",
              "  </thead>\n",
              "  <tbody>\n",
              "    <tr>\n",
              "      <th>0</th>\n",
              "      <td>Incorrect information on your report</td>\n",
              "      <td>197459</td>\n",
              "    </tr>\n",
              "    <tr>\n",
              "      <th>1</th>\n",
              "      <td>Problem with a credit reporting company's inve...</td>\n",
              "      <td>118115</td>\n",
              "    </tr>\n",
              "    <tr>\n",
              "      <th>2</th>\n",
              "      <td>Attempts to collect debt not owed</td>\n",
              "      <td>62114</td>\n",
              "    </tr>\n",
              "  </tbody>\n",
              "</table>\n",
              "</div>"
            ],
            "text/plain": [
              "                                               index   Issue\n",
              "0               Incorrect information on your report  197459\n",
              "1  Problem with a credit reporting company's inve...  118115\n",
              "2                  Attempts to collect debt not owed   62114"
            ]
          },
          "execution_count": 63,
          "metadata": {},
          "output_type": "execute_result"
        }
      ],
      "source": [
        "complaints_select_sort.head(3)"
      ]
    },
    {
      "cell_type": "code",
      "execution_count": null,
      "id": "118d48ed",
      "metadata": {
        "id": "118d48ed"
      },
      "outputs": [],
      "source": [
        "#complaints_select_sort.tail(50)"
      ]
    },
    {
      "cell_type": "code",
      "execution_count": null,
      "id": "1b7c0210",
      "metadata": {
        "id": "1b7c0210"
      },
      "outputs": [],
      "source": [
        "#complaints_select_sorted = complaints_select_2.groupby(['Issue'])['Issue'].count()"
      ]
    },
    {
      "cell_type": "code",
      "execution_count": null,
      "id": "9ed00594",
      "metadata": {
        "id": "9ed00594"
      },
      "outputs": [],
      "source": [
        "#complaints_select_sorted = pd.DataFrame(complaints_select_sorted)\n",
        "#complaints_select_sorted"
      ]
    },
    {
      "cell_type": "code",
      "execution_count": null,
      "id": "75cec72e",
      "metadata": {
        "id": "75cec72e"
      },
      "outputs": [],
      "source": [
        "#final_df = df.sort_values(by=['2'], ascending=False)"
      ]
    },
    {
      "cell_type": "code",
      "execution_count": null,
      "id": "e61b0a9b",
      "metadata": {
        "id": "e61b0a9b",
        "outputId": "f767e939-c599-4eea-d846-1353da97c6dc"
      },
      "outputs": [
        {
          "data": {
            "image/png": "[encoded data removed]",
            "text/plain": [
              "<Figure size 432x288 with 1 Axes>"
            ]
          },
          "metadata": {
            "needs_background": "light"
          },
          "output_type": "display_data"
        }
      ],
      "source": [
        "ax = sns.boxplot(x= complaints_select_sort[\"Issue\"]).set_title('Not A Pretty Picture')"
      ]
    },
    {
      "cell_type": "code",
      "execution_count": null,
      "id": "22b5057f",
      "metadata": {
        "id": "22b5057f",
        "outputId": "716004a2-f43b-45b9-d6c9-3d714a43ba78"
      },
      "outputs": [
        {
          "data": {
            "text/plain": [
              "<AxesSubplot:xlabel='Issue', ylabel='index'>"
            ]
          },
          "execution_count": 66,
          "metadata": {},
          "output_type": "execute_result"
        },
        {
          "data": {
            "image/png": "[encoded data removed]",
            "text/plain": [
              "<Figure size 432x2160 with 1 Axes>"
            ]
          },
          "metadata": {
            "needs_background": "light"
          },
          "output_type": "display_data"
        }
      ],
      "source": [
        "f, ax = plt.subplots(figsize = (6,30))\n",
        "sns.set_color_codes('pastel')\n",
        "sns.barplot(x = 'Issue', y = 'index', data = complaints_select_sort,\n",
        "            label = 'Total', color = 'red', edgecolor = 'w')"
      ]
    },
    {
      "cell_type": "markdown",
      "id": "5be801a2",
      "metadata": {
        "id": "5be801a2"
      },
      "source": [
        "# Let us look at the distribution"
      ]
    },
    {
      "cell_type": "code",
      "execution_count": null,
      "id": "2db46864",
      "metadata": {
        "id": "2db46864",
        "outputId": "4d9a730c-3673-4faa-85a3-76444944ca2d"
      },
      "outputs": [
        {
          "data": {
            "text/plain": [
              "0.25     134.25\n",
              "0.50     832.00\n",
              "0.75    3774.00\n",
              "Name: Issue, dtype: float64"
            ]
          },
          "execution_count": 67,
          "metadata": {},
          "output_type": "execute_result"
        }
      ],
      "source": [
        "complaints_select_sort.Issue.quantile([0.25,0.5,0.75])"
      ]
    },
    {
      "cell_type": "markdown",
      "id": "745f061f",
      "metadata": {
        "id": "745f061f"
      },
      "source": [
        "# 50 % of the items lie btwn 134 and 3774."
      ]
    },
    {
      "cell_type": "code",
      "execution_count": null,
      "id": "7e657e1f",
      "metadata": {
        "id": "7e657e1f",
        "outputId": "e4b1c591-6e07-4adf-eb3f-febd1b28110e"
      },
      "outputs": [
        {
          "data": {
            "text/plain": [
              "10973.79999999999"
            ]
          },
          "execution_count": 68,
          "metadata": {},
          "output_type": "execute_result"
        }
      ],
      "source": [
        "complaints_select_sort['Issue'].quantile(0.9)"
      ]
    },
    {
      "cell_type": "code",
      "execution_count": null,
      "id": "afab9b38",
      "metadata": {
        "id": "afab9b38",
        "outputId": "554279e0-5184-49ce-ec59-6411e2f60ace"
      },
      "outputs": [
        {
          "data": {
            "text/plain": [
              "85074.40999999981"
            ]
          },
          "execution_count": 69,
          "metadata": {},
          "output_type": "execute_result"
        }
      ],
      "source": [
        "complaints_select_sort['Issue'].quantile(0.99)"
      ]
    },
    {
      "cell_type": "code",
      "execution_count": null,
      "id": "0f817a92",
      "metadata": {
        "id": "0f817a92",
        "outputId": "d48fd017-bf53-4c59-def3-47a35bfb5611"
      },
      "outputs": [
        {
          "data": {
            "text/plain": [
              "184843.30400000064"
            ]
          },
          "execution_count": 70,
          "metadata": {},
          "output_type": "execute_result"
        }
      ],
      "source": [
        "complaints_select_sort['Issue'].quantile(0.999)"
      ]
    },
    {
      "cell_type": "code",
      "execution_count": null,
      "id": "feb91852",
      "metadata": {
        "id": "feb91852",
        "outputId": "9c18ee50-fc17-4786-ec22-6102da072d09"
      },
      "outputs": [
        {
          "data": {
            "text/plain": [
              "196197.4303999987"
            ]
          },
          "execution_count": 71,
          "metadata": {},
          "output_type": "execute_result"
        }
      ],
      "source": [
        "complaints_select_sort['Issue'].quantile(0.9999)"
      ]
    },
    {
      "cell_type": "code",
      "execution_count": null,
      "id": "60abf326",
      "metadata": {
        "id": "60abf326",
        "outputId": "cb61ad65-9ce7-4924-adf2-3c06079c9380"
      },
      "outputs": [
        {
          "data": {
            "text/plain": [
              "197332.84304000056"
            ]
          },
          "execution_count": 72,
          "metadata": {},
          "output_type": "execute_result"
        }
      ],
      "source": [
        "complaints_select_sort['Issue'].quantile(0.99999) \n",
        "# this is our top value"
      ]
    },
    {
      "cell_type": "code",
      "execution_count": null,
      "id": "3691a6e9",
      "metadata": {
        "id": "3691a6e9",
        "outputId": "d70e00a7-8dc5-4424-e628-8e715308f689"
      },
      "outputs": [
        {
          "data": {
            "text/plain": [
              "(160,)"
            ]
          },
          "execution_count": 118,
          "metadata": {},
          "output_type": "execute_result"
        }
      ],
      "source": [
        "complaints_select_SANS_4.shape"
      ]
    },
    {
      "cell_type": "markdown",
      "id": "bacfc96c",
      "metadata": {
        "id": "bacfc96c"
      },
      "source": [
        "### The top 4 are especially bigger than the rest.\n",
        "\n",
        "### We will drop them for a moment and get the mean of the rest"
      ]
    },
    {
      "cell_type": "code",
      "execution_count": null,
      "id": "2f56f581",
      "metadata": {
        "id": "2f56f581",
        "outputId": "49146c99-0863-43de-9719-ee0e8559a333"
      },
      "outputs": [
        {
          "data": {
            "text/plain": [
              "(160, 2)"
            ]
          },
          "execution_count": 150,
          "metadata": {},
          "output_type": "execute_result"
        }
      ],
      "source": [
        "complaints_select_sort.shape"
      ]
    },
    {
      "cell_type": "code",
      "execution_count": null,
      "id": "79438a82",
      "metadata": {
        "id": "79438a82"
      },
      "outputs": [],
      "source": [
        "complaints_select_SANS_4 = complaints_select_sort.iloc[4:]"
      ]
    },
    {
      "cell_type": "code",
      "execution_count": null,
      "id": "2f229b1b",
      "metadata": {
        "id": "2f229b1b",
        "outputId": "ab574d04-3f0c-4434-dc79-5ef26e3a55eb"
      },
      "outputs": [
        {
          "data": {
            "text/plain": [
              "(156, 2)"
            ]
          },
          "execution_count": 152,
          "metadata": {},
          "output_type": "execute_result"
        }
      ],
      "source": [
        "complaints_select_SANS_4.shape"
      ]
    },
    {
      "cell_type": "code",
      "execution_count": null,
      "id": "95c9d03a",
      "metadata": {
        "id": "95c9d03a",
        "outputId": "83e6eabb-21bc-4bad-c493-54959ea5237a"
      },
      "outputs": [
        {
          "data": {
            "text/html": [
              "<div>\n",
              "<style scoped>\n",
              "    .dataframe tbody tr th:only-of-type {\n",
              "        vertical-align: middle;\n",
              "    }\n",
              "\n",
              "    .dataframe tbody tr th {\n",
              "        vertical-align: top;\n",
              "    }\n",
              "\n",
              "    .dataframe thead th {\n",
              "        text-align: right;\n",
              "    }\n",
              "</style>\n",
              "<table border=\"1\" class=\"dataframe\">\n",
              "  <thead>\n",
              "    <tr style=\"text-align: right;\">\n",
              "      <th></th>\n",
              "      <th>index</th>\n",
              "      <th>Issue</th>\n",
              "    </tr>\n",
              "  </thead>\n",
              "  <tbody>\n",
              "    <tr>\n",
              "      <th>4</th>\n",
              "      <td>Trouble during payment process</td>\n",
              "      <td>26545</td>\n",
              "    </tr>\n",
              "    <tr>\n",
              "      <th>5</th>\n",
              "      <td>Written notification about debt</td>\n",
              "      <td>24943</td>\n",
              "    </tr>\n",
              "    <tr>\n",
              "      <th>6</th>\n",
              "      <td>Managing an account</td>\n",
              "      <td>23592</td>\n",
              "    </tr>\n",
              "    <tr>\n",
              "      <th>7</th>\n",
              "      <td>Incorrect information on credit report</td>\n",
              "      <td>21217</td>\n",
              "    </tr>\n",
              "    <tr>\n",
              "      <th>8</th>\n",
              "      <td>Communication tactics</td>\n",
              "      <td>18810</td>\n",
              "    </tr>\n",
              "    <tr>\n",
              "      <th>...</th>\n",
              "      <td>...</td>\n",
              "      <td>...</td>\n",
              "    </tr>\n",
              "    <tr>\n",
              "      <th>155</th>\n",
              "      <td>Property was damaged or destroyed property</td>\n",
              "      <td>5</td>\n",
              "    </tr>\n",
              "    <tr>\n",
              "      <th>156</th>\n",
              "      <td>Problem with an overdraft</td>\n",
              "      <td>3</td>\n",
              "    </tr>\n",
              "    <tr>\n",
              "      <th>157</th>\n",
              "      <td>Lender sold the property</td>\n",
              "      <td>3</td>\n",
              "    </tr>\n",
              "    <tr>\n",
              "      <th>158</th>\n",
              "      <td>Lender damaged or destroyed vehicle</td>\n",
              "      <td>2</td>\n",
              "    </tr>\n",
              "    <tr>\n",
              "      <th>159</th>\n",
              "      <td>Lender damaged or destroyed property</td>\n",
              "      <td>1</td>\n",
              "    </tr>\n",
              "  </tbody>\n",
              "</table>\n",
              "<p>156 rows × 2 columns</p>\n",
              "</div>"
            ],
            "text/plain": [
              "                                          index  Issue\n",
              "4                Trouble during payment process  26545\n",
              "5               Written notification about debt  24943\n",
              "6                           Managing an account  23592\n",
              "7        Incorrect information on credit report  21217\n",
              "8                         Communication tactics  18810\n",
              "..                                          ...    ...\n",
              "155  Property was damaged or destroyed property      5\n",
              "156                   Problem with an overdraft      3\n",
              "157                    Lender sold the property      3\n",
              "158         Lender damaged or destroyed vehicle      2\n",
              "159        Lender damaged or destroyed property      1\n",
              "\n",
              "[156 rows x 2 columns]"
            ]
          },
          "execution_count": 155,
          "metadata": {},
          "output_type": "execute_result"
        }
      ],
      "source": [
        "complaints_select_SANS_4"
      ]
    },
    {
      "cell_type": "code",
      "execution_count": null,
      "id": "f3e84ecc",
      "metadata": {
        "id": "f3e84ecc"
      },
      "outputs": [],
      "source": [
        "# df.columns = ['Leader', 'Time', 'Score']\n",
        "\n",
        "complaints_select_SANS_4.columns = ['Issue', 'Count']"
      ]
    },
    {
      "cell_type": "code",
      "execution_count": null,
      "id": "0c8a6735",
      "metadata": {
        "id": "0c8a6735",
        "outputId": "7af79d7b-aefa-4c8b-d0d9-da4c16ecec10"
      },
      "outputs": [
        {
          "data": {
            "text/html": [
              "<div>\n",
              "<style scoped>\n",
              "    .dataframe tbody tr th:only-of-type {\n",
              "        vertical-align: middle;\n",
              "    }\n",
              "\n",
              "    .dataframe tbody tr th {\n",
              "        vertical-align: top;\n",
              "    }\n",
              "\n",
              "    .dataframe thead th {\n",
              "        text-align: right;\n",
              "    }\n",
              "</style>\n",
              "<table border=\"1\" class=\"dataframe\">\n",
              "  <thead>\n",
              "    <tr style=\"text-align: right;\">\n",
              "      <th></th>\n",
              "      <th>Issue</th>\n",
              "      <th>Count</th>\n",
              "    </tr>\n",
              "  </thead>\n",
              "  <tbody>\n",
              "    <tr>\n",
              "      <th>4</th>\n",
              "      <td>Trouble during payment process</td>\n",
              "      <td>26545</td>\n",
              "    </tr>\n",
              "    <tr>\n",
              "      <th>5</th>\n",
              "      <td>Written notification about debt</td>\n",
              "      <td>24943</td>\n",
              "    </tr>\n",
              "    <tr>\n",
              "      <th>6</th>\n",
              "      <td>Managing an account</td>\n",
              "      <td>23592</td>\n",
              "    </tr>\n",
              "    <tr>\n",
              "      <th>7</th>\n",
              "      <td>Incorrect information on credit report</td>\n",
              "      <td>21217</td>\n",
              "    </tr>\n",
              "    <tr>\n",
              "      <th>8</th>\n",
              "      <td>Communication tactics</td>\n",
              "      <td>18810</td>\n",
              "    </tr>\n",
              "    <tr>\n",
              "      <th>...</th>\n",
              "      <td>...</td>\n",
              "      <td>...</td>\n",
              "    </tr>\n",
              "    <tr>\n",
              "      <th>155</th>\n",
              "      <td>Property was damaged or destroyed property</td>\n",
              "      <td>5</td>\n",
              "    </tr>\n",
              "    <tr>\n",
              "      <th>156</th>\n",
              "      <td>Problem with an overdraft</td>\n",
              "      <td>3</td>\n",
              "    </tr>\n",
              "    <tr>\n",
              "      <th>157</th>\n",
              "      <td>Lender sold the property</td>\n",
              "      <td>3</td>\n",
              "    </tr>\n",
              "    <tr>\n",
              "      <th>158</th>\n",
              "      <td>Lender damaged or destroyed vehicle</td>\n",
              "      <td>2</td>\n",
              "    </tr>\n",
              "    <tr>\n",
              "      <th>159</th>\n",
              "      <td>Lender damaged or destroyed property</td>\n",
              "      <td>1</td>\n",
              "    </tr>\n",
              "  </tbody>\n",
              "</table>\n",
              "<p>156 rows × 2 columns</p>\n",
              "</div>"
            ],
            "text/plain": [
              "                                          Issue  Count\n",
              "4                Trouble during payment process  26545\n",
              "5               Written notification about debt  24943\n",
              "6                           Managing an account  23592\n",
              "7        Incorrect information on credit report  21217\n",
              "8                         Communication tactics  18810\n",
              "..                                          ...    ...\n",
              "155  Property was damaged or destroyed property      5\n",
              "156                   Problem with an overdraft      3\n",
              "157                    Lender sold the property      3\n",
              "158         Lender damaged or destroyed vehicle      2\n",
              "159        Lender damaged or destroyed property      1\n",
              "\n",
              "[156 rows x 2 columns]"
            ]
          },
          "execution_count": 157,
          "metadata": {},
          "output_type": "execute_result"
        }
      ],
      "source": [
        "complaints_select_SANS_4"
      ]
    },
    {
      "cell_type": "code",
      "execution_count": null,
      "id": "2f2f1dba",
      "metadata": {
        "id": "2f2f1dba",
        "outputId": "f9d3aa1e-91b8-4e26-dff1-f8d5da78ad42"
      },
      "outputs": [
        {
          "data": {
            "text/plain": [
              "(156, 2)"
            ]
          },
          "execution_count": 158,
          "metadata": {},
          "output_type": "execute_result"
        }
      ],
      "source": [
        "complaints_select_SANS_4.shape"
      ]
    },
    {
      "cell_type": "code",
      "execution_count": null,
      "id": "fe2033b3",
      "metadata": {
        "id": "fe2033b3"
      },
      "outputs": [],
      "source": [
        "#complaints_select_SANS_4 = pd.DataFrame(complaints_select_SANS_4)"
      ]
    },
    {
      "cell_type": "code",
      "execution_count": null,
      "id": "87c04fc3",
      "metadata": {
        "id": "87c04fc3"
      },
      "outputs": [],
      "source": [
        "#complaints_select_SANS_4 = complaints_select_SANS_4.groupby(['Issue'])['Issue'].count()"
      ]
    },
    {
      "cell_type": "code",
      "execution_count": null,
      "id": "afc0d32e",
      "metadata": {
        "id": "afc0d32e"
      },
      "outputs": [],
      "source": [
        "#complaints_select_SANS_4_sorted = pd.DataFrame(complaints_select_SANS_4_sorted)"
      ]
    },
    {
      "cell_type": "code",
      "execution_count": null,
      "id": "1bd4be52",
      "metadata": {
        "id": "1bd4be52"
      },
      "outputs": [],
      "source": [
        "#complaints_select_SANS_4_sorted.drop(['level_0','index'], axis =1)"
      ]
    },
    {
      "cell_type": "code",
      "execution_count": null,
      "id": "9a071e5d",
      "metadata": {
        "id": "9a071e5d"
      },
      "outputs": [],
      "source": [
        ""
      ]
    },
    {
      "cell_type": "code",
      "execution_count": null,
      "id": "b7baf233",
      "metadata": {
        "id": "b7baf233"
      },
      "outputs": [],
      "source": [
        "#complaints_select_SANS_4_sorted.reset_index(inplace=True)"
      ]
    },
    {
      "cell_type": "code",
      "execution_count": null,
      "id": "24a59e80",
      "metadata": {
        "id": "24a59e80"
      },
      "outputs": [],
      "source": [
        "#complaints_select_SANS_4_sorted = complaints_select_SANS_4_sorted.sort_values(by=['Count'], ascending=False)"
      ]
    },
    {
      "cell_type": "code",
      "execution_count": null,
      "id": "c01826ef",
      "metadata": {
        "id": "c01826ef",
        "outputId": "589a6f78-5aa2-40dc-dd6e-c5777bb19923"
      },
      "outputs": [
        {
          "data": {
            "text/html": [
              "<div>\n",
              "<style scoped>\n",
              "    .dataframe tbody tr th:only-of-type {\n",
              "        vertical-align: middle;\n",
              "    }\n",
              "\n",
              "    .dataframe tbody tr th {\n",
              "        vertical-align: top;\n",
              "    }\n",
              "\n",
              "    .dataframe thead th {\n",
              "        text-align: right;\n",
              "    }\n",
              "</style>\n",
              "<table border=\"1\" class=\"dataframe\">\n",
              "  <thead>\n",
              "    <tr style=\"text-align: right;\">\n",
              "      <th></th>\n",
              "      <th>level_0</th>\n",
              "      <th>index</th>\n",
              "      <th>Issue</th>\n",
              "      <th>Issue</th>\n",
              "    </tr>\n",
              "  </thead>\n",
              "  <tbody>\n",
              "    <tr>\n",
              "      <th>0</th>\n",
              "      <td>0</td>\n",
              "      <td>72</td>\n",
              "      <td>Incorrect information on your report</td>\n",
              "      <td>197458</td>\n",
              "    </tr>\n",
              "    <tr>\n",
              "      <th>1</th>\n",
              "      <td>1</td>\n",
              "      <td>111</td>\n",
              "      <td>Problem with a credit reporting company's inve...</td>\n",
              "      <td>118113</td>\n",
              "    </tr>\n",
              "    <tr>\n",
              "      <th>2</th>\n",
              "      <td>2</td>\n",
              "      <td>13</td>\n",
              "      <td>Attempts to collect debt not owed</td>\n",
              "      <td>62114</td>\n",
              "    </tr>\n",
              "    <tr>\n",
              "      <th>3</th>\n",
              "      <td>3</td>\n",
              "      <td>69</td>\n",
              "      <td>Improper use of your report</td>\n",
              "      <td>42278</td>\n",
              "    </tr>\n",
              "    <tr>\n",
              "      <th>4</th>\n",
              "      <td>4</td>\n",
              "      <td>143</td>\n",
              "      <td>Trouble during payment process</td>\n",
              "      <td>26544</td>\n",
              "    </tr>\n",
              "    <tr>\n",
              "      <th>...</th>\n",
              "      <td>...</td>\n",
              "      <td>...</td>\n",
              "      <td>...</td>\n",
              "      <td>...</td>\n",
              "    </tr>\n",
              "    <tr>\n",
              "      <th>155</th>\n",
              "      <td>155</td>\n",
              "      <td>125</td>\n",
              "      <td>Property was damaged or destroyed property</td>\n",
              "      <td>5</td>\n",
              "    </tr>\n",
              "    <tr>\n",
              "      <th>156</th>\n",
              "      <td>156</td>\n",
              "      <td>116</td>\n",
              "      <td>Problem with an overdraft</td>\n",
              "      <td>3</td>\n",
              "    </tr>\n",
              "    <tr>\n",
              "      <th>157</th>\n",
              "      <td>157</td>\n",
              "      <td>78</td>\n",
              "      <td>Lender sold the property</td>\n",
              "      <td>3</td>\n",
              "    </tr>\n",
              "    <tr>\n",
              "      <th>158</th>\n",
              "      <td>158</td>\n",
              "      <td>76</td>\n",
              "      <td>Lender damaged or destroyed vehicle</td>\n",
              "      <td>2</td>\n",
              "    </tr>\n",
              "    <tr>\n",
              "      <th>159</th>\n",
              "      <td>159</td>\n",
              "      <td>75</td>\n",
              "      <td>Lender damaged or destroyed property</td>\n",
              "      <td>1</td>\n",
              "    </tr>\n",
              "  </tbody>\n",
              "</table>\n",
              "<p>160 rows × 4 columns</p>\n",
              "</div>"
            ],
            "text/plain": [
              "     level_0  index                                              Issue   Issue\n",
              "0          0     72               Incorrect information on your report  197458\n",
              "1          1    111  Problem with a credit reporting company's inve...  118113\n",
              "2          2     13                  Attempts to collect debt not owed   62114\n",
              "3          3     69                        Improper use of your report   42278\n",
              "4          4    143                     Trouble during payment process   26544\n",
              "..       ...    ...                                                ...     ...\n",
              "155      155    125         Property was damaged or destroyed property       5\n",
              "156      156    116                          Problem with an overdraft       3\n",
              "157      157     78                           Lender sold the property       3\n",
              "158      158     76                Lender damaged or destroyed vehicle       2\n",
              "159      159     75               Lender damaged or destroyed property       1\n",
              "\n",
              "[160 rows x 4 columns]"
            ]
          },
          "execution_count": 115,
          "metadata": {},
          "output_type": "execute_result"
        }
      ],
      "source": [
        "complaints_select_SANS_4_sorted"
      ]
    },
    {
      "cell_type": "markdown",
      "id": "154e6eed",
      "metadata": {
        "id": "154e6eed"
      },
      "source": [
        "### After removing the top 4 items the avg of the top 75% of the data is 832"
      ]
    },
    {
      "cell_type": "code",
      "execution_count": null,
      "id": "840d90d8",
      "metadata": {
        "id": "840d90d8"
      },
      "outputs": [],
      "source": [
        ""
      ]
    },
    {
      "cell_type": "code",
      "execution_count": null,
      "id": "00d918b7",
      "metadata": {
        "id": "00d918b7",
        "outputId": "b93e9650-6b4f-4878-ef90-f4cb32b389a2"
      },
      "outputs": [
        {
          "data": {
            "text/plain": [
              "3062.858974358974"
            ]
          },
          "execution_count": 160,
          "metadata": {},
          "output_type": "execute_result"
        }
      ],
      "source": [
        "avg = complaints_select_SANS_4['Count'].mean()# 5611.05\n",
        "avg"
      ]
    },
    {
      "cell_type": "code",
      "execution_count": null,
      "id": "44ad0822",
      "metadata": {
        "id": "44ad0822"
      },
      "outputs": [],
      "source": [
        "top_three_quarters_avg = complaints_select_sort[complaints_select_sort['Issue'].between(134 , 197459)]"
      ]
    },
    {
      "cell_type": "code",
      "execution_count": null,
      "id": "78ddbbbb",
      "metadata": {
        "id": "78ddbbbb",
        "outputId": "1aed28b6-05c9-463e-c0af-1e57ac4f4eb2"
      },
      "outputs": [
        {
          "data": {
            "text/plain": [
              "7465.133333333333"
            ]
          },
          "execution_count": 162,
          "metadata": {},
          "output_type": "execute_result"
        }
      ],
      "source": [
        "top_three_quarters_avg =  top_three_quarters_avg[\"Issue\"].mean()\n",
        "top_three_quarters_avg # = 7465"
      ]
    },
    {
      "cell_type": "code",
      "execution_count": null,
      "id": "e52ab4a6",
      "metadata": {
        "id": "e52ab4a6"
      },
      "outputs": [],
      "source": [
        ""
      ]
    },
    {
      "cell_type": "markdown",
      "id": "b814ff1d",
      "metadata": {
        "id": "b814ff1d"
      },
      "source": [
        "### The avg of the DF withouth the top 4 is 7,465.  Next we get the avg of the bottom quartile."
      ]
    },
    {
      "cell_type": "code",
      "execution_count": null,
      "id": "6bf4f262",
      "metadata": {
        "id": "6bf4f262"
      },
      "outputs": [],
      "source": [
        "bottom_quartile = complaints_select_sort[complaints_select_sort['Issue'].between(1 , 134)]"
      ]
    },
    {
      "cell_type": "code",
      "execution_count": null,
      "id": "4a0448fc",
      "metadata": {
        "id": "4a0448fc",
        "outputId": "9dbb1a37-54f0-444b-febc-22df83bc51b0"
      },
      "outputs": [
        {
          "data": {
            "text/html": [
              "<div>\n",
              "<style scoped>\n",
              "    .dataframe tbody tr th:only-of-type {\n",
              "        vertical-align: middle;\n",
              "    }\n",
              "\n",
              "    .dataframe tbody tr th {\n",
              "        vertical-align: top;\n",
              "    }\n",
              "\n",
              "    .dataframe thead th {\n",
              "        text-align: right;\n",
              "    }\n",
              "</style>\n",
              "<table border=\"1\" class=\"dataframe\">\n",
              "  <thead>\n",
              "    <tr style=\"text-align: right;\">\n",
              "      <th></th>\n",
              "      <th>index</th>\n",
              "      <th>Issue</th>\n",
              "    </tr>\n",
              "  </thead>\n",
              "  <tbody>\n",
              "    <tr>\n",
              "      <th>120</th>\n",
              "      <td>Excessive fees</td>\n",
              "      <td>123</td>\n",
              "    </tr>\n",
              "    <tr>\n",
              "      <th>121</th>\n",
              "      <td>Application processing delay</td>\n",
              "      <td>107</td>\n",
              "    </tr>\n",
              "    <tr>\n",
              "      <th>122</th>\n",
              "      <td>Charged bank acct wrong day or amt</td>\n",
              "      <td>106</td>\n",
              "    </tr>\n",
              "  </tbody>\n",
              "</table>\n",
              "</div>"
            ],
            "text/plain": [
              "                                  index  Issue\n",
              "120                      Excessive fees    123\n",
              "121        Application processing delay    107\n",
              "122  Charged bank acct wrong day or amt    106"
            ]
          },
          "execution_count": 164,
          "metadata": {},
          "output_type": "execute_result"
        }
      ],
      "source": [
        "bottom_quartile.head(3)"
      ]
    },
    {
      "cell_type": "code",
      "execution_count": null,
      "id": "7a1f36d4",
      "metadata": {
        "id": "7a1f36d4",
        "outputId": "f11bd2b7-491d-4210-d42e-9bd73f56460d"
      },
      "outputs": [
        {
          "data": {
            "text/plain": [
              "48.9"
            ]
          },
          "execution_count": 165,
          "metadata": {},
          "output_type": "execute_result"
        }
      ],
      "source": [
        "bottom_quartile_avg = bottom_quartile[\"Issue\"].mean() # = 49\n",
        "bottom_quartile_avg"
      ]
    },
    {
      "cell_type": "markdown",
      "id": "318105e4",
      "metadata": {
        "id": "318105e4"
      },
      "source": [
        "### After removing the top 4 the avg of the top 75% is 7,465 while the bottom quarter avg is 49.  Using *Sample Replace*  and instead of using a fraction use a integer we can increase the too small part of the data.\n",
        "\n",
        "https://www.geeksforgeeks.org/how-to-randomly-select-rows-from-pandas-dataframe/"
      ]
    },
    {
      "cell_type": "code",
      "execution_count": null,
      "id": "40c1806a",
      "metadata": {
        "id": "40c1806a",
        "outputId": "5fc2007e-69c8-423f-e888-5dfdf6113d89"
      },
      "outputs": [
        {
          "data": {
            "text/plain": [
              "152.3469387755102"
            ]
          },
          "execution_count": 166,
          "metadata": {},
          "output_type": "execute_result"
        }
      ],
      "source": [
        "top_three_fourths_avg = 7465\n",
        "bottom_quarter_avg = 49\n",
        "top_three_fourths_avg/bottom_quarter_avg # 152"
      ]
    },
    {
      "cell_type": "markdown",
      "id": "47f370fe",
      "metadata": {
        "id": "47f370fe"
      },
      "source": [
        "### We will multiply the bottom quarter by 152 to bring it more in line with the rest of the data"
      ]
    },
    {
      "cell_type": "code",
      "execution_count": null,
      "id": "d2f115e4",
      "metadata": {
        "id": "d2f115e4"
      },
      "outputs": [],
      "source": [
        "#df1.sample(n = 6, replace = True)\n",
        "bottom_quartile_enlarged = bottom_quartile\n"
      ]
    },
    {
      "cell_type": "code",
      "execution_count": null,
      "id": "34582952",
      "metadata": {
        "id": "34582952",
        "outputId": "74c78184-dbbd-4cc0-c2aa-31495f6211ea"
      },
      "outputs": [
        {
          "data": {
            "text/html": [
              "<div>\n",
              "<style scoped>\n",
              "    .dataframe tbody tr th:only-of-type {\n",
              "        vertical-align: middle;\n",
              "    }\n",
              "\n",
              "    .dataframe tbody tr th {\n",
              "        vertical-align: top;\n",
              "    }\n",
              "\n",
              "    .dataframe thead th {\n",
              "        text-align: right;\n",
              "    }\n",
              "</style>\n",
              "<table border=\"1\" class=\"dataframe\">\n",
              "  <thead>\n",
              "    <tr style=\"text-align: right;\">\n",
              "      <th></th>\n",
              "      <th>Issue</th>\n",
              "      <th>Count</th>\n",
              "    </tr>\n",
              "  </thead>\n",
              "  <tbody>\n",
              "    <tr>\n",
              "      <th>120</th>\n",
              "      <td>Excessive fees</td>\n",
              "      <td>123</td>\n",
              "    </tr>\n",
              "    <tr>\n",
              "      <th>121</th>\n",
              "      <td>Application processing delay</td>\n",
              "      <td>107</td>\n",
              "    </tr>\n",
              "    <tr>\n",
              "      <th>122</th>\n",
              "      <td>Charged bank acct wrong day or amt</td>\n",
              "      <td>106</td>\n",
              "    </tr>\n",
              "  </tbody>\n",
              "</table>\n",
              "</div>"
            ],
            "text/plain": [
              "                                  Issue  Count\n",
              "120                      Excessive fees    123\n",
              "121        Application processing delay    107\n",
              "122  Charged bank acct wrong day or amt    106"
            ]
          },
          "execution_count": 177,
          "metadata": {},
          "output_type": "execute_result"
        }
      ],
      "source": [
        "bottom_quartile_enlarged.head(3)"
      ]
    },
    {
      "cell_type": "code",
      "execution_count": null,
      "id": "fb233828",
      "metadata": {
        "id": "fb233828"
      },
      "outputs": [],
      "source": [
        "bottom_quartile_enlarged = bottom_quartile_enlarged.sample(frac = 152, replace = True)"
      ]
    },
    {
      "cell_type": "code",
      "execution_count": null,
      "id": "d421684c",
      "metadata": {
        "id": "d421684c",
        "outputId": "b690d7b9-3ef1-495e-b7f5-5505ed818d29"
      },
      "outputs": [
        {
          "data": {
            "text/plain": [
              "(6080, 2)"
            ]
          },
          "execution_count": 179,
          "metadata": {},
          "output_type": "execute_result"
        }
      ],
      "source": [
        "bottom_quartile_enlarged.shape"
      ]
    },
    {
      "cell_type": "code",
      "execution_count": null,
      "id": "6687f4e8",
      "metadata": {
        "id": "6687f4e8"
      },
      "outputs": [],
      "source": [
        "#bottom_quartile_enlarged= bottom_quartile_enlarged.drop('level_0',1)"
      ]
    },
    {
      "cell_type": "code",
      "execution_count": null,
      "id": "b1217cb9",
      "metadata": {
        "id": "b1217cb9",
        "outputId": "fc2e8456-e4b3-493a-8acb-56c37c571890"
      },
      "outputs": [
        {
          "data": {
            "text/html": [
              "<div>\n",
              "<style scoped>\n",
              "    .dataframe tbody tr th:only-of-type {\n",
              "        vertical-align: middle;\n",
              "    }\n",
              "\n",
              "    .dataframe tbody tr th {\n",
              "        vertical-align: top;\n",
              "    }\n",
              "\n",
              "    .dataframe thead th {\n",
              "        text-align: right;\n",
              "    }\n",
              "</style>\n",
              "<table border=\"1\" class=\"dataframe\">\n",
              "  <thead>\n",
              "    <tr style=\"text-align: right;\">\n",
              "      <th></th>\n",
              "      <th>Issue</th>\n",
              "      <th>Count</th>\n",
              "    </tr>\n",
              "  </thead>\n",
              "  <tbody>\n",
              "    <tr>\n",
              "      <th>126</th>\n",
              "      <td>Adding money</td>\n",
              "      <td>92</td>\n",
              "    </tr>\n",
              "    <tr>\n",
              "      <th>136</th>\n",
              "      <td>Vehicle was damaged or destroyed the vehicle</td>\n",
              "      <td>51</td>\n",
              "    </tr>\n",
              "    <tr>\n",
              "      <th>140</th>\n",
              "      <td>Incorrect exchange rate</td>\n",
              "      <td>38</td>\n",
              "    </tr>\n",
              "  </tbody>\n",
              "</table>\n",
              "</div>"
            ],
            "text/plain": [
              "                                            Issue  Count\n",
              "126                                  Adding money     92\n",
              "136  Vehicle was damaged or destroyed the vehicle     51\n",
              "140                       Incorrect exchange rate     38"
            ]
          },
          "execution_count": 180,
          "metadata": {},
          "output_type": "execute_result"
        }
      ],
      "source": [
        "bottom_quartile_enlarged.head(3)"
      ]
    },
    {
      "cell_type": "code",
      "execution_count": null,
      "id": "f52f29c4",
      "metadata": {
        "id": "f52f29c4"
      },
      "outputs": [],
      "source": [
        "#bottom_quartile_enlarged.reset_index(inplace=True)"
      ]
    },
    {
      "cell_type": "code",
      "execution_count": null,
      "id": "2037c17f",
      "metadata": {
        "id": "2037c17f"
      },
      "outputs": [],
      "source": [
        "#Rename\n",
        "#bottom_quartile_enlarged.columns = ['Issue',\"Count\"]"
      ]
    },
    {
      "cell_type": "code",
      "execution_count": null,
      "id": "e6513a4a",
      "metadata": {
        "id": "e6513a4a",
        "outputId": "c9e10d16-96c1-4c4f-db75-479e2583d5d6"
      },
      "outputs": [
        {
          "data": {
            "text/plain": [
              "(40, 2)"
            ]
          },
          "execution_count": 175,
          "metadata": {},
          "output_type": "execute_result"
        }
      ],
      "source": [
        "#bottom_quartile_enlarged.shape"
      ]
    },
    {
      "cell_type": "code",
      "execution_count": null,
      "id": "dc8f84ca",
      "metadata": {
        "id": "dc8f84ca",
        "outputId": "0ed666d8-a921-403c-9c6f-e5eedac12b2c"
      },
      "outputs": [
        {
          "data": {
            "text/html": [
              "<div>\n",
              "<style scoped>\n",
              "    .dataframe tbody tr th:only-of-type {\n",
              "        vertical-align: middle;\n",
              "    }\n",
              "\n",
              "    .dataframe tbody tr th {\n",
              "        vertical-align: top;\n",
              "    }\n",
              "\n",
              "    .dataframe thead th {\n",
              "        text-align: right;\n",
              "    }\n",
              "</style>\n",
              "<table border=\"1\" class=\"dataframe\">\n",
              "  <thead>\n",
              "    <tr style=\"text-align: right;\">\n",
              "      <th></th>\n",
              "      <th>index</th>\n",
              "      <th>Issue</th>\n",
              "    </tr>\n",
              "  </thead>\n",
              "  <tbody>\n",
              "    <tr>\n",
              "      <th>0</th>\n",
              "      <td>Incorrect information on your report</td>\n",
              "      <td>197459</td>\n",
              "    </tr>\n",
              "    <tr>\n",
              "      <th>1</th>\n",
              "      <td>Problem with a credit reporting company's inve...</td>\n",
              "      <td>118115</td>\n",
              "    </tr>\n",
              "    <tr>\n",
              "      <th>2</th>\n",
              "      <td>Attempts to collect debt not owed</td>\n",
              "      <td>62114</td>\n",
              "    </tr>\n",
              "  </tbody>\n",
              "</table>\n",
              "</div>"
            ],
            "text/plain": [
              "                                               index   Issue\n",
              "0               Incorrect information on your report  197459\n",
              "1  Problem with a credit reporting company's inve...  118115\n",
              "2                  Attempts to collect debt not owed   62114"
            ]
          },
          "execution_count": 181,
          "metadata": {},
          "output_type": "execute_result"
        }
      ],
      "source": [
        "#complaints_select_sorted\n",
        "#complaints_select_sort.head(3)"
      ]
    },
    {
      "cell_type": "code",
      "execution_count": null,
      "id": "82ab21e2",
      "metadata": {
        "id": "82ab21e2"
      },
      "outputs": [],
      "source": [
        "#df.columns = ['Leader', 'Time', 'Score']\n",
        "#complaints_select_sort.columns = ['Issue',\"Count\"]"
      ]
    },
    {
      "cell_type": "code",
      "execution_count": null,
      "id": "36ca1988",
      "metadata": {
        "id": "36ca1988",
        "outputId": "186af07d-587d-42dc-b9b2-c3f069388b48"
      },
      "outputs": [
        {
          "data": {
            "text/html": [
              "<div>\n",
              "<style scoped>\n",
              "    .dataframe tbody tr th:only-of-type {\n",
              "        vertical-align: middle;\n",
              "    }\n",
              "\n",
              "    .dataframe tbody tr th {\n",
              "        vertical-align: top;\n",
              "    }\n",
              "\n",
              "    .dataframe thead th {\n",
              "        text-align: right;\n",
              "    }\n",
              "</style>\n",
              "<table border=\"1\" class=\"dataframe\">\n",
              "  <thead>\n",
              "    <tr style=\"text-align: right;\">\n",
              "      <th></th>\n",
              "      <th>Issue</th>\n",
              "      <th>Count</th>\n",
              "    </tr>\n",
              "  </thead>\n",
              "  <tbody>\n",
              "    <tr>\n",
              "      <th>0</th>\n",
              "      <td>Incorrect information on your report</td>\n",
              "      <td>197459</td>\n",
              "    </tr>\n",
              "    <tr>\n",
              "      <th>1</th>\n",
              "      <td>Problem with a credit reporting company's inve...</td>\n",
              "      <td>118115</td>\n",
              "    </tr>\n",
              "    <tr>\n",
              "      <th>2</th>\n",
              "      <td>Attempts to collect debt not owed</td>\n",
              "      <td>62114</td>\n",
              "    </tr>\n",
              "  </tbody>\n",
              "</table>\n",
              "</div>"
            ],
            "text/plain": [
              "                                               Issue   Count\n",
              "0               Incorrect information on your report  197459\n",
              "1  Problem with a credit reporting company's inve...  118115\n",
              "2                  Attempts to collect debt not owed   62114"
            ]
          },
          "execution_count": 183,
          "metadata": {},
          "output_type": "execute_result"
        }
      ],
      "source": [
        "#complaints_select_sort.head(3)"
      ]
    },
    {
      "cell_type": "code",
      "execution_count": null,
      "id": "b8155340",
      "metadata": {
        "id": "b8155340",
        "outputId": "e7fcc2e9-ad24-4d3b-814b-3d4da7b5d1d7"
      },
      "outputs": [
        {
          "data": {
            "text/plain": [
              "(160,)"
            ]
          },
          "execution_count": 185,
          "metadata": {},
          "output_type": "execute_result"
        }
      ],
      "source": [
        "complaints_select_sorted.shape"
      ]
    },
    {
      "cell_type": "markdown",
      "id": "dc6e9ec6",
      "metadata": {
        "id": "dc6e9ec6"
      },
      "source": [
        "# Stack the two data fames\n",
        "\n",
        "https://www.datasciencemadesimple.com/append-concatenate-rows-python-pandas-row-bind/"
      ]
    },
    {
      "cell_type": "code",
      "execution_count": null,
      "id": "39371460",
      "metadata": {
        "id": "39371460"
      },
      "outputs": [],
      "source": [
        "#complaints_select_sorted.reset_index(inplace=True)"
      ]
    },
    {
      "cell_type": "code",
      "execution_count": null,
      "id": "5c5cacf4",
      "metadata": {
        "id": "5c5cacf4"
      },
      "outputs": [],
      "source": [
        "#less_unbalanced  = pd.concat([complaints_select_sorted, bottom_quartile_enlarged])"
      ]
    },
    {
      "cell_type": "code",
      "execution_count": null,
      "id": "16a11b41",
      "metadata": {
        "id": "16a11b41",
        "outputId": "a7bce969-c60c-4c30-eb3d-299b015e0949"
      },
      "outputs": [
        {
          "data": {
            "text/plain": [
              "(200, 2)"
            ]
          },
          "execution_count": 74,
          "metadata": {},
          "output_type": "execute_result"
        }
      ],
      "source": [
        "#less_unbalanced.shape"
      ]
    },
    {
      "cell_type": "code",
      "execution_count": null,
      "id": "c84dc455",
      "metadata": {
        "id": "c84dc455"
      },
      "outputs": [],
      "source": [
        "#complaints_select_sorted.shape"
      ]
    },
    {
      "cell_type": "code",
      "execution_count": null,
      "id": "59603433",
      "metadata": {
        "id": "59603433"
      },
      "outputs": [],
      "source": [
        "###############\n"
      ]
    },
    {
      "cell_type": "code",
      "execution_count": null,
      "id": "c3f21a04",
      "metadata": {
        "id": "c3f21a04"
      },
      "outputs": [],
      "source": [
        ""
      ]
    },
    {
      "cell_type": "code",
      "execution_count": null,
      "id": "a2d87026",
      "metadata": {
        "id": "a2d87026",
        "outputId": "4373f0e9-96ed-4598-c383-40f893eb14e8"
      },
      "outputs": [
        {
          "data": {
            "text/html": [
              "<div>\n",
              "<style scoped>\n",
              "    .dataframe tbody tr th:only-of-type {\n",
              "        vertical-align: middle;\n",
              "    }\n",
              "\n",
              "    .dataframe tbody tr th {\n",
              "        vertical-align: top;\n",
              "    }\n",
              "\n",
              "    .dataframe thead th {\n",
              "        text-align: right;\n",
              "    }\n",
              "</style>\n",
              "<table border=\"1\" class=\"dataframe\">\n",
              "  <thead>\n",
              "    <tr style=\"text-align: right;\">\n",
              "      <th></th>\n",
              "      <th>Issue</th>\n",
              "      <th>Consumer complaint narrative</th>\n",
              "    </tr>\n",
              "  </thead>\n",
              "  <tbody>\n",
              "    <tr>\n",
              "      <th>0</th>\n",
              "      <td>Problem with a credit reporting company's inve...</td>\n",
              "      <td>As by Law, under 15 U.S Code 1601- Congression...</td>\n",
              "    </tr>\n",
              "    <tr>\n",
              "      <th>1</th>\n",
              "      <td>Trouble during payment process</td>\n",
              "      <td>I am the personal representative of my sister ...</td>\n",
              "    </tr>\n",
              "    <tr>\n",
              "      <th>2</th>\n",
              "      <td>Incorrect information on your report</td>\n",
              "      <td>XXXX, XXXX XXXX SOC SEC # XXXX DOB XX/XX/XXXX ...</td>\n",
              "    </tr>\n",
              "    <tr>\n",
              "      <th>3</th>\n",
              "      <td>Problem with a credit reporting company's inve...</td>\n",
              "      <td>First Progress Card was notified throughout th...</td>\n",
              "    </tr>\n",
              "    <tr>\n",
              "      <th>4</th>\n",
              "      <td>Attempts to collect debt not owed</td>\n",
              "      <td>I got an email from my credit card company abo...</td>\n",
              "    </tr>\n",
              "  </tbody>\n",
              "</table>\n",
              "</div>"
            ],
            "text/plain": [
              "                                               Issue  \\\n",
              "0  Problem with a credit reporting company's inve...   \n",
              "1                     Trouble during payment process   \n",
              "2               Incorrect information on your report   \n",
              "3  Problem with a credit reporting company's inve...   \n",
              "4                  Attempts to collect debt not owed   \n",
              "\n",
              "                        Consumer complaint narrative  \n",
              "0  As by Law, under 15 U.S Code 1601- Congression...  \n",
              "1  I am the personal representative of my sister ...  \n",
              "2  XXXX, XXXX XXXX SOC SEC # XXXX DOB XX/XX/XXXX ...  \n",
              "3  First Progress Card was notified throughout th...  \n",
              "4  I got an email from my credit card company abo...  "
            ]
          },
          "execution_count": 189,
          "metadata": {},
          "output_type": "execute_result"
        }
      ],
      "source": [
        "complaints_select.head(5)"
      ]
    },
    {
      "cell_type": "code",
      "execution_count": null,
      "id": "2c5c6edb",
      "metadata": {
        "id": "2c5c6edb"
      },
      "outputs": [],
      "source": [
        "complaints_select_3 = complaints_select_2"
      ]
    },
    {
      "cell_type": "code",
      "execution_count": null,
      "id": "d27adbfd",
      "metadata": {
        "id": "d27adbfd",
        "outputId": "865b3fad-25c0-4329-85eb-865b4167c5c5"
      },
      "outputs": [
        {
          "data": {
            "text/plain": [
              "(897772, 2)"
            ]
          },
          "execution_count": 191,
          "metadata": {},
          "output_type": "execute_result"
        }
      ],
      "source": [
        "complaints_select_3.shape"
      ]
    },
    {
      "cell_type": "code",
      "execution_count": null,
      "id": "6c30fa51",
      "metadata": {
        "id": "6c30fa51",
        "outputId": "fa0b437c-88ca-4d87-b105-90dd8d1f2e7f"
      },
      "outputs": [
        {
          "data": {
            "text/html": [
              "<div>\n",
              "<style scoped>\n",
              "    .dataframe tbody tr th:only-of-type {\n",
              "        vertical-align: middle;\n",
              "    }\n",
              "\n",
              "    .dataframe tbody tr th {\n",
              "        vertical-align: top;\n",
              "    }\n",
              "\n",
              "    .dataframe thead th {\n",
              "        text-align: right;\n",
              "    }\n",
              "</style>\n",
              "<table border=\"1\" class=\"dataframe\">\n",
              "  <thead>\n",
              "    <tr style=\"text-align: right;\">\n",
              "      <th></th>\n",
              "      <th>Issue</th>\n",
              "      <th>Count</th>\n",
              "    </tr>\n",
              "  </thead>\n",
              "  <tbody>\n",
              "    <tr>\n",
              "      <th>120</th>\n",
              "      <td>Excessive fees</td>\n",
              "      <td>123</td>\n",
              "    </tr>\n",
              "    <tr>\n",
              "      <th>121</th>\n",
              "      <td>Application processing delay</td>\n",
              "      <td>107</td>\n",
              "    </tr>\n",
              "    <tr>\n",
              "      <th>122</th>\n",
              "      <td>Charged bank acct wrong day or amt</td>\n",
              "      <td>106</td>\n",
              "    </tr>\n",
              "  </tbody>\n",
              "</table>\n",
              "</div>"
            ],
            "text/plain": [
              "                                  Issue  Count\n",
              "120                      Excessive fees    123\n",
              "121        Application processing delay    107\n",
              "122  Charged bank acct wrong day or amt    106"
            ]
          },
          "execution_count": 192,
          "metadata": {},
          "output_type": "execute_result"
        }
      ],
      "source": [
        "bottom_quartile.head(3)"
      ]
    },
    {
      "cell_type": "code",
      "execution_count": null,
      "id": "7df25be6",
      "metadata": {
        "id": "7df25be6"
      },
      "outputs": [],
      "source": [
        "Bottom_single = bottom_quartile['Issue']"
      ]
    },
    {
      "cell_type": "code",
      "execution_count": null,
      "id": "78f4e7cc",
      "metadata": {
        "id": "78f4e7cc"
      },
      "outputs": [],
      "source": [
        "#Bottom_single"
      ]
    },
    {
      "cell_type": "code",
      "execution_count": null,
      "id": "2830a357",
      "metadata": {
        "id": "2830a357",
        "outputId": "e5733016-61e2-40e7-aa71-364421f4bfbd"
      },
      "outputs": [
        {
          "data": {
            "text/html": [
              "<div>\n",
              "<style scoped>\n",
              "    .dataframe tbody tr th:only-of-type {\n",
              "        vertical-align: middle;\n",
              "    }\n",
              "\n",
              "    .dataframe tbody tr th {\n",
              "        vertical-align: top;\n",
              "    }\n",
              "\n",
              "    .dataframe thead th {\n",
              "        text-align: right;\n",
              "    }\n",
              "</style>\n",
              "<table border=\"1\" class=\"dataframe\">\n",
              "  <thead>\n",
              "    <tr style=\"text-align: right;\">\n",
              "      <th></th>\n",
              "      <th>Issue</th>\n",
              "    </tr>\n",
              "  </thead>\n",
              "  <tbody>\n",
              "    <tr>\n",
              "      <th>120</th>\n",
              "      <td>Excessive fees</td>\n",
              "    </tr>\n",
              "    <tr>\n",
              "      <th>121</th>\n",
              "      <td>Application processing delay</td>\n",
              "    </tr>\n",
              "    <tr>\n",
              "      <th>122</th>\n",
              "      <td>Charged bank acct wrong day or amt</td>\n",
              "    </tr>\n",
              "    <tr>\n",
              "      <th>123</th>\n",
              "      <td>Privacy</td>\n",
              "    </tr>\n",
              "    <tr>\n",
              "      <th>124</th>\n",
              "      <td>Sale of account</td>\n",
              "    </tr>\n",
              "    <tr>\n",
              "      <th>125</th>\n",
              "      <td>Bankruptcy</td>\n",
              "    </tr>\n",
              "    <tr>\n",
              "      <th>126</th>\n",
              "      <td>Adding money</td>\n",
              "    </tr>\n",
              "    <tr>\n",
              "      <th>127</th>\n",
              "      <td>Forbearance / Workout plans</td>\n",
              "    </tr>\n",
              "    <tr>\n",
              "      <th>128</th>\n",
              "      <td>Applied for loan/did not receive money</td>\n",
              "    </tr>\n",
              "    <tr>\n",
              "      <th>129</th>\n",
              "      <td>Lost or stolen money order</td>\n",
              "    </tr>\n",
              "    <tr>\n",
              "      <th>130</th>\n",
              "      <td>Arbitration</td>\n",
              "    </tr>\n",
              "    <tr>\n",
              "      <th>131</th>\n",
              "      <td>Fees</td>\n",
              "    </tr>\n",
              "    <tr>\n",
              "      <th>132</th>\n",
              "      <td>Credit limit changed</td>\n",
              "    </tr>\n",
              "    <tr>\n",
              "      <th>133</th>\n",
              "      <td>Problem with cash advance</td>\n",
              "    </tr>\n",
              "    <tr>\n",
              "      <th>134</th>\n",
              "      <td>Incorrect/missing disclosures or info</td>\n",
              "    </tr>\n",
              "    <tr>\n",
              "      <th>135</th>\n",
              "      <td>Customer service/Customer relations</td>\n",
              "    </tr>\n",
              "    <tr>\n",
              "      <th>136</th>\n",
              "      <td>Vehicle was damaged or destroyed the vehicle</td>\n",
              "    </tr>\n",
              "    <tr>\n",
              "      <th>137</th>\n",
              "      <td>Balance transfer fee</td>\n",
              "    </tr>\n",
              "    <tr>\n",
              "      <th>138</th>\n",
              "      <td>Cash advance</td>\n",
              "    </tr>\n",
              "    <tr>\n",
              "      <th>139</th>\n",
              "      <td>Cash advance fee</td>\n",
              "    </tr>\n",
              "    <tr>\n",
              "      <th>140</th>\n",
              "      <td>Incorrect exchange rate</td>\n",
              "    </tr>\n",
              "    <tr>\n",
              "      <th>141</th>\n",
              "      <td>Convenience checks</td>\n",
              "    </tr>\n",
              "    <tr>\n",
              "      <th>142</th>\n",
              "      <td>Problem with overdraft</td>\n",
              "    </tr>\n",
              "    <tr>\n",
              "      <th>143</th>\n",
              "      <td>Overdraft, savings, or rewards features</td>\n",
              "    </tr>\n",
              "    <tr>\n",
              "      <th>144</th>\n",
              "      <td>Lender repossessed or sold the vehicle</td>\n",
              "    </tr>\n",
              "    <tr>\n",
              "      <th>145</th>\n",
              "      <td>Overlimit fee</td>\n",
              "    </tr>\n",
              "    <tr>\n",
              "      <th>146</th>\n",
              "      <td>Was approved for a loan, but didn't receive money</td>\n",
              "    </tr>\n",
              "    <tr>\n",
              "      <th>147</th>\n",
              "      <td>Advertising, marketing or disclosures</td>\n",
              "    </tr>\n",
              "    <tr>\n",
              "      <th>148</th>\n",
              "      <td>Unexpected/Other fees</td>\n",
              "    </tr>\n",
              "    <tr>\n",
              "      <th>149</th>\n",
              "      <td>Overdraft, savings or rewards features</td>\n",
              "    </tr>\n",
              "    <tr>\n",
              "      <th>150</th>\n",
              "      <td>Account terms and changes</td>\n",
              "    </tr>\n",
              "    <tr>\n",
              "      <th>151</th>\n",
              "      <td>Managing the line of credit</td>\n",
              "    </tr>\n",
              "    <tr>\n",
              "      <th>152</th>\n",
              "      <td>Disclosures</td>\n",
              "    </tr>\n",
              "    <tr>\n",
              "      <th>153</th>\n",
              "      <td>Shopping for a line of credit</td>\n",
              "    </tr>\n",
              "    <tr>\n",
              "      <th>154</th>\n",
              "      <td>Property was sold</td>\n",
              "    </tr>\n",
              "    <tr>\n",
              "      <th>155</th>\n",
              "      <td>Property was damaged or destroyed property</td>\n",
              "    </tr>\n",
              "    <tr>\n",
              "      <th>156</th>\n",
              "      <td>Problem with an overdraft</td>\n",
              "    </tr>\n",
              "    <tr>\n",
              "      <th>157</th>\n",
              "      <td>Lender sold the property</td>\n",
              "    </tr>\n",
              "    <tr>\n",
              "      <th>158</th>\n",
              "      <td>Lender damaged or destroyed vehicle</td>\n",
              "    </tr>\n",
              "    <tr>\n",
              "      <th>159</th>\n",
              "      <td>Lender damaged or destroyed property</td>\n",
              "    </tr>\n",
              "  </tbody>\n",
              "</table>\n",
              "</div>"
            ],
            "text/plain": [
              "                                                 Issue\n",
              "120                                     Excessive fees\n",
              "121                       Application processing delay\n",
              "122                 Charged bank acct wrong day or amt\n",
              "123                                            Privacy\n",
              "124                                    Sale of account\n",
              "125                                         Bankruptcy\n",
              "126                                       Adding money\n",
              "127                        Forbearance / Workout plans\n",
              "128             Applied for loan/did not receive money\n",
              "129                         Lost or stolen money order\n",
              "130                                        Arbitration\n",
              "131                                               Fees\n",
              "132                               Credit limit changed\n",
              "133                          Problem with cash advance\n",
              "134              Incorrect/missing disclosures or info\n",
              "135                Customer service/Customer relations\n",
              "136       Vehicle was damaged or destroyed the vehicle\n",
              "137                               Balance transfer fee\n",
              "138                                       Cash advance\n",
              "139                                   Cash advance fee\n",
              "140                            Incorrect exchange rate\n",
              "141                                 Convenience checks\n",
              "142                             Problem with overdraft\n",
              "143            Overdraft, savings, or rewards features\n",
              "144             Lender repossessed or sold the vehicle\n",
              "145                                      Overlimit fee\n",
              "146  Was approved for a loan, but didn't receive money\n",
              "147              Advertising, marketing or disclosures\n",
              "148                              Unexpected/Other fees\n",
              "149             Overdraft, savings or rewards features\n",
              "150                          Account terms and changes\n",
              "151                        Managing the line of credit\n",
              "152                                        Disclosures\n",
              "153                      Shopping for a line of credit\n",
              "154                                  Property was sold\n",
              "155         Property was damaged or destroyed property\n",
              "156                          Problem with an overdraft\n",
              "157                           Lender sold the property\n",
              "158                Lender damaged or destroyed vehicle\n",
              "159               Lender damaged or destroyed property"
            ]
          },
          "execution_count": 201,
          "metadata": {},
          "output_type": "execute_result"
        }
      ],
      "source": [
        "#pd.DataFrame(complaints_select_SANS_4_sorted)\n",
        "Bottom_single.to_frame()"
      ]
    },
    {
      "cell_type": "code",
      "execution_count": null,
      "id": "2974d6e5",
      "metadata": {
        "id": "2974d6e5"
      },
      "outputs": [],
      "source": [
        "Bottom_single =Bottom_single.to_frame()"
      ]
    },
    {
      "cell_type": "code",
      "execution_count": null,
      "id": "269c6f3f",
      "metadata": {
        "id": "269c6f3f",
        "outputId": "70e842cc-5ee3-4d45-f3fa-007fe389c696"
      },
      "outputs": [
        {
          "data": {
            "text/html": [
              "<div>\n",
              "<style scoped>\n",
              "    .dataframe tbody tr th:only-of-type {\n",
              "        vertical-align: middle;\n",
              "    }\n",
              "\n",
              "    .dataframe tbody tr th {\n",
              "        vertical-align: top;\n",
              "    }\n",
              "\n",
              "    .dataframe thead th {\n",
              "        text-align: right;\n",
              "    }\n",
              "</style>\n",
              "<table border=\"1\" class=\"dataframe\">\n",
              "  <thead>\n",
              "    <tr style=\"text-align: right;\">\n",
              "      <th></th>\n",
              "      <th>Issue</th>\n",
              "    </tr>\n",
              "  </thead>\n",
              "  <tbody>\n",
              "    <tr>\n",
              "      <th>120</th>\n",
              "      <td>Excessive fees</td>\n",
              "    </tr>\n",
              "    <tr>\n",
              "      <th>121</th>\n",
              "      <td>Application processing delay</td>\n",
              "    </tr>\n",
              "    <tr>\n",
              "      <th>122</th>\n",
              "      <td>Charged bank acct wrong day or amt</td>\n",
              "    </tr>\n",
              "    <tr>\n",
              "      <th>123</th>\n",
              "      <td>Privacy</td>\n",
              "    </tr>\n",
              "    <tr>\n",
              "      <th>124</th>\n",
              "      <td>Sale of account</td>\n",
              "    </tr>\n",
              "    <tr>\n",
              "      <th>125</th>\n",
              "      <td>Bankruptcy</td>\n",
              "    </tr>\n",
              "    <tr>\n",
              "      <th>126</th>\n",
              "      <td>Adding money</td>\n",
              "    </tr>\n",
              "    <tr>\n",
              "      <th>127</th>\n",
              "      <td>Forbearance / Workout plans</td>\n",
              "    </tr>\n",
              "    <tr>\n",
              "      <th>128</th>\n",
              "      <td>Applied for loan/did not receive money</td>\n",
              "    </tr>\n",
              "    <tr>\n",
              "      <th>129</th>\n",
              "      <td>Lost or stolen money order</td>\n",
              "    </tr>\n",
              "    <tr>\n",
              "      <th>130</th>\n",
              "      <td>Arbitration</td>\n",
              "    </tr>\n",
              "    <tr>\n",
              "      <th>131</th>\n",
              "      <td>Fees</td>\n",
              "    </tr>\n",
              "    <tr>\n",
              "      <th>132</th>\n",
              "      <td>Credit limit changed</td>\n",
              "    </tr>\n",
              "    <tr>\n",
              "      <th>133</th>\n",
              "      <td>Problem with cash advance</td>\n",
              "    </tr>\n",
              "    <tr>\n",
              "      <th>134</th>\n",
              "      <td>Incorrect/missing disclosures or info</td>\n",
              "    </tr>\n",
              "    <tr>\n",
              "      <th>135</th>\n",
              "      <td>Customer service/Customer relations</td>\n",
              "    </tr>\n",
              "    <tr>\n",
              "      <th>136</th>\n",
              "      <td>Vehicle was damaged or destroyed the vehicle</td>\n",
              "    </tr>\n",
              "    <tr>\n",
              "      <th>137</th>\n",
              "      <td>Balance transfer fee</td>\n",
              "    </tr>\n",
              "    <tr>\n",
              "      <th>138</th>\n",
              "      <td>Cash advance</td>\n",
              "    </tr>\n",
              "    <tr>\n",
              "      <th>139</th>\n",
              "      <td>Cash advance fee</td>\n",
              "    </tr>\n",
              "    <tr>\n",
              "      <th>140</th>\n",
              "      <td>Incorrect exchange rate</td>\n",
              "    </tr>\n",
              "    <tr>\n",
              "      <th>141</th>\n",
              "      <td>Convenience checks</td>\n",
              "    </tr>\n",
              "    <tr>\n",
              "      <th>142</th>\n",
              "      <td>Problem with overdraft</td>\n",
              "    </tr>\n",
              "    <tr>\n",
              "      <th>143</th>\n",
              "      <td>Overdraft, savings, or rewards features</td>\n",
              "    </tr>\n",
              "    <tr>\n",
              "      <th>144</th>\n",
              "      <td>Lender repossessed or sold the vehicle</td>\n",
              "    </tr>\n",
              "    <tr>\n",
              "      <th>145</th>\n",
              "      <td>Overlimit fee</td>\n",
              "    </tr>\n",
              "    <tr>\n",
              "      <th>146</th>\n",
              "      <td>Was approved for a loan, but didn't receive money</td>\n",
              "    </tr>\n",
              "    <tr>\n",
              "      <th>147</th>\n",
              "      <td>Advertising, marketing or disclosures</td>\n",
              "    </tr>\n",
              "    <tr>\n",
              "      <th>148</th>\n",
              "      <td>Unexpected/Other fees</td>\n",
              "    </tr>\n",
              "    <tr>\n",
              "      <th>149</th>\n",
              "      <td>Overdraft, savings or rewards features</td>\n",
              "    </tr>\n",
              "    <tr>\n",
              "      <th>150</th>\n",
              "      <td>Account terms and changes</td>\n",
              "    </tr>\n",
              "    <tr>\n",
              "      <th>151</th>\n",
              "      <td>Managing the line of credit</td>\n",
              "    </tr>\n",
              "    <tr>\n",
              "      <th>152</th>\n",
              "      <td>Disclosures</td>\n",
              "    </tr>\n",
              "    <tr>\n",
              "      <th>153</th>\n",
              "      <td>Shopping for a line of credit</td>\n",
              "    </tr>\n",
              "    <tr>\n",
              "      <th>154</th>\n",
              "      <td>Property was sold</td>\n",
              "    </tr>\n",
              "    <tr>\n",
              "      <th>155</th>\n",
              "      <td>Property was damaged or destroyed property</td>\n",
              "    </tr>\n",
              "    <tr>\n",
              "      <th>156</th>\n",
              "      <td>Problem with an overdraft</td>\n",
              "    </tr>\n",
              "    <tr>\n",
              "      <th>157</th>\n",
              "      <td>Lender sold the property</td>\n",
              "    </tr>\n",
              "    <tr>\n",
              "      <th>158</th>\n",
              "      <td>Lender damaged or destroyed vehicle</td>\n",
              "    </tr>\n",
              "    <tr>\n",
              "      <th>159</th>\n",
              "      <td>Lender damaged or destroyed property</td>\n",
              "    </tr>\n",
              "  </tbody>\n",
              "</table>\n",
              "</div>"
            ],
            "text/plain": [
              "                                                 Issue\n",
              "120                                     Excessive fees\n",
              "121                       Application processing delay\n",
              "122                 Charged bank acct wrong day or amt\n",
              "123                                            Privacy\n",
              "124                                    Sale of account\n",
              "125                                         Bankruptcy\n",
              "126                                       Adding money\n",
              "127                        Forbearance / Workout plans\n",
              "128             Applied for loan/did not receive money\n",
              "129                         Lost or stolen money order\n",
              "130                                        Arbitration\n",
              "131                                               Fees\n",
              "132                               Credit limit changed\n",
              "133                          Problem with cash advance\n",
              "134              Incorrect/missing disclosures or info\n",
              "135                Customer service/Customer relations\n",
              "136       Vehicle was damaged or destroyed the vehicle\n",
              "137                               Balance transfer fee\n",
              "138                                       Cash advance\n",
              "139                                   Cash advance fee\n",
              "140                            Incorrect exchange rate\n",
              "141                                 Convenience checks\n",
              "142                             Problem with overdraft\n",
              "143            Overdraft, savings, or rewards features\n",
              "144             Lender repossessed or sold the vehicle\n",
              "145                                      Overlimit fee\n",
              "146  Was approved for a loan, but didn't receive money\n",
              "147              Advertising, marketing or disclosures\n",
              "148                              Unexpected/Other fees\n",
              "149             Overdraft, savings or rewards features\n",
              "150                          Account terms and changes\n",
              "151                        Managing the line of credit\n",
              "152                                        Disclosures\n",
              "153                      Shopping for a line of credit\n",
              "154                                  Property was sold\n",
              "155         Property was damaged or destroyed property\n",
              "156                          Problem with an overdraft\n",
              "157                           Lender sold the property\n",
              "158                Lender damaged or destroyed vehicle\n",
              "159               Lender damaged or destroyed property"
            ]
          },
          "execution_count": 203,
          "metadata": {},
          "output_type": "execute_result"
        }
      ],
      "source": [
        "Bottom_single"
      ]
    },
    {
      "cell_type": "code",
      "execution_count": null,
      "id": "6ece39b5",
      "metadata": {
        "id": "6ece39b5"
      },
      "outputs": [],
      "source": [
        "Bottom_single.reset_index(inplace=True)"
      ]
    },
    {
      "cell_type": "code",
      "execution_count": null,
      "id": "990a42d1",
      "metadata": {
        "id": "990a42d1",
        "outputId": "95fcf6c5-fcee-45f1-8fff-86aefdedb46f"
      },
      "outputs": [
        {
          "data": {
            "text/html": [
              "<div>\n",
              "<style scoped>\n",
              "    .dataframe tbody tr th:only-of-type {\n",
              "        vertical-align: middle;\n",
              "    }\n",
              "\n",
              "    .dataframe tbody tr th {\n",
              "        vertical-align: top;\n",
              "    }\n",
              "\n",
              "    .dataframe thead th {\n",
              "        text-align: right;\n",
              "    }\n",
              "</style>\n",
              "<table border=\"1\" class=\"dataframe\">\n",
              "  <thead>\n",
              "    <tr style=\"text-align: right;\">\n",
              "      <th></th>\n",
              "      <th>index</th>\n",
              "      <th>Issue</th>\n",
              "    </tr>\n",
              "  </thead>\n",
              "  <tbody>\n",
              "    <tr>\n",
              "      <th>0</th>\n",
              "      <td>120</td>\n",
              "      <td>Excessive fees</td>\n",
              "    </tr>\n",
              "    <tr>\n",
              "      <th>1</th>\n",
              "      <td>121</td>\n",
              "      <td>Application processing delay</td>\n",
              "    </tr>\n",
              "    <tr>\n",
              "      <th>2</th>\n",
              "      <td>122</td>\n",
              "      <td>Charged bank acct wrong day or amt</td>\n",
              "    </tr>\n",
              "    <tr>\n",
              "      <th>3</th>\n",
              "      <td>123</td>\n",
              "      <td>Privacy</td>\n",
              "    </tr>\n",
              "    <tr>\n",
              "      <th>4</th>\n",
              "      <td>124</td>\n",
              "      <td>Sale of account</td>\n",
              "    </tr>\n",
              "    <tr>\n",
              "      <th>5</th>\n",
              "      <td>125</td>\n",
              "      <td>Bankruptcy</td>\n",
              "    </tr>\n",
              "    <tr>\n",
              "      <th>6</th>\n",
              "      <td>126</td>\n",
              "      <td>Adding money</td>\n",
              "    </tr>\n",
              "    <tr>\n",
              "      <th>7</th>\n",
              "      <td>127</td>\n",
              "      <td>Forbearance / Workout plans</td>\n",
              "    </tr>\n",
              "    <tr>\n",
              "      <th>8</th>\n",
              "      <td>128</td>\n",
              "      <td>Applied for loan/did not receive money</td>\n",
              "    </tr>\n",
              "    <tr>\n",
              "      <th>9</th>\n",
              "      <td>129</td>\n",
              "      <td>Lost or stolen money order</td>\n",
              "    </tr>\n",
              "    <tr>\n",
              "      <th>10</th>\n",
              "      <td>130</td>\n",
              "      <td>Arbitration</td>\n",
              "    </tr>\n",
              "    <tr>\n",
              "      <th>11</th>\n",
              "      <td>131</td>\n",
              "      <td>Fees</td>\n",
              "    </tr>\n",
              "    <tr>\n",
              "      <th>12</th>\n",
              "      <td>132</td>\n",
              "      <td>Credit limit changed</td>\n",
              "    </tr>\n",
              "    <tr>\n",
              "      <th>13</th>\n",
              "      <td>133</td>\n",
              "      <td>Problem with cash advance</td>\n",
              "    </tr>\n",
              "    <tr>\n",
              "      <th>14</th>\n",
              "      <td>134</td>\n",
              "      <td>Incorrect/missing disclosures or info</td>\n",
              "    </tr>\n",
              "    <tr>\n",
              "      <th>15</th>\n",
              "      <td>135</td>\n",
              "      <td>Customer service/Customer relations</td>\n",
              "    </tr>\n",
              "    <tr>\n",
              "      <th>16</th>\n",
              "      <td>136</td>\n",
              "      <td>Vehicle was damaged or destroyed the vehicle</td>\n",
              "    </tr>\n",
              "    <tr>\n",
              "      <th>17</th>\n",
              "      <td>137</td>\n",
              "      <td>Balance transfer fee</td>\n",
              "    </tr>\n",
              "    <tr>\n",
              "      <th>18</th>\n",
              "      <td>138</td>\n",
              "      <td>Cash advance</td>\n",
              "    </tr>\n",
              "    <tr>\n",
              "      <th>19</th>\n",
              "      <td>139</td>\n",
              "      <td>Cash advance fee</td>\n",
              "    </tr>\n",
              "    <tr>\n",
              "      <th>20</th>\n",
              "      <td>140</td>\n",
              "      <td>Incorrect exchange rate</td>\n",
              "    </tr>\n",
              "    <tr>\n",
              "      <th>21</th>\n",
              "      <td>141</td>\n",
              "      <td>Convenience checks</td>\n",
              "    </tr>\n",
              "    <tr>\n",
              "      <th>22</th>\n",
              "      <td>142</td>\n",
              "      <td>Problem with overdraft</td>\n",
              "    </tr>\n",
              "    <tr>\n",
              "      <th>23</th>\n",
              "      <td>143</td>\n",
              "      <td>Overdraft, savings, or rewards features</td>\n",
              "    </tr>\n",
              "    <tr>\n",
              "      <th>24</th>\n",
              "      <td>144</td>\n",
              "      <td>Lender repossessed or sold the vehicle</td>\n",
              "    </tr>\n",
              "    <tr>\n",
              "      <th>25</th>\n",
              "      <td>145</td>\n",
              "      <td>Overlimit fee</td>\n",
              "    </tr>\n",
              "    <tr>\n",
              "      <th>26</th>\n",
              "      <td>146</td>\n",
              "      <td>Was approved for a loan, but didn't receive money</td>\n",
              "    </tr>\n",
              "    <tr>\n",
              "      <th>27</th>\n",
              "      <td>147</td>\n",
              "      <td>Advertising, marketing or disclosures</td>\n",
              "    </tr>\n",
              "    <tr>\n",
              "      <th>28</th>\n",
              "      <td>148</td>\n",
              "      <td>Unexpected/Other fees</td>\n",
              "    </tr>\n",
              "    <tr>\n",
              "      <th>29</th>\n",
              "      <td>149</td>\n",
              "      <td>Overdraft, savings or rewards features</td>\n",
              "    </tr>\n",
              "    <tr>\n",
              "      <th>30</th>\n",
              "      <td>150</td>\n",
              "      <td>Account terms and changes</td>\n",
              "    </tr>\n",
              "    <tr>\n",
              "      <th>31</th>\n",
              "      <td>151</td>\n",
              "      <td>Managing the line of credit</td>\n",
              "    </tr>\n",
              "    <tr>\n",
              "      <th>32</th>\n",
              "      <td>152</td>\n",
              "      <td>Disclosures</td>\n",
              "    </tr>\n",
              "    <tr>\n",
              "      <th>33</th>\n",
              "      <td>153</td>\n",
              "      <td>Shopping for a line of credit</td>\n",
              "    </tr>\n",
              "    <tr>\n",
              "      <th>34</th>\n",
              "      <td>154</td>\n",
              "      <td>Property was sold</td>\n",
              "    </tr>\n",
              "    <tr>\n",
              "      <th>35</th>\n",
              "      <td>155</td>\n",
              "      <td>Property was damaged or destroyed property</td>\n",
              "    </tr>\n",
              "    <tr>\n",
              "      <th>36</th>\n",
              "      <td>156</td>\n",
              "      <td>Problem with an overdraft</td>\n",
              "    </tr>\n",
              "    <tr>\n",
              "      <th>37</th>\n",
              "      <td>157</td>\n",
              "      <td>Lender sold the property</td>\n",
              "    </tr>\n",
              "    <tr>\n",
              "      <th>38</th>\n",
              "      <td>158</td>\n",
              "      <td>Lender damaged or destroyed vehicle</td>\n",
              "    </tr>\n",
              "    <tr>\n",
              "      <th>39</th>\n",
              "      <td>159</td>\n",
              "      <td>Lender damaged or destroyed property</td>\n",
              "    </tr>\n",
              "  </tbody>\n",
              "</table>\n",
              "</div>"
            ],
            "text/plain": [
              "    index                                              Issue\n",
              "0     120                                     Excessive fees\n",
              "1     121                       Application processing delay\n",
              "2     122                 Charged bank acct wrong day or amt\n",
              "3     123                                            Privacy\n",
              "4     124                                    Sale of account\n",
              "5     125                                         Bankruptcy\n",
              "6     126                                       Adding money\n",
              "7     127                        Forbearance / Workout plans\n",
              "8     128             Applied for loan/did not receive money\n",
              "9     129                         Lost or stolen money order\n",
              "10    130                                        Arbitration\n",
              "11    131                                               Fees\n",
              "12    132                               Credit limit changed\n",
              "13    133                          Problem with cash advance\n",
              "14    134              Incorrect/missing disclosures or info\n",
              "15    135                Customer service/Customer relations\n",
              "16    136       Vehicle was damaged or destroyed the vehicle\n",
              "17    137                               Balance transfer fee\n",
              "18    138                                       Cash advance\n",
              "19    139                                   Cash advance fee\n",
              "20    140                            Incorrect exchange rate\n",
              "21    141                                 Convenience checks\n",
              "22    142                             Problem with overdraft\n",
              "23    143            Overdraft, savings, or rewards features\n",
              "24    144             Lender repossessed or sold the vehicle\n",
              "25    145                                      Overlimit fee\n",
              "26    146  Was approved for a loan, but didn't receive money\n",
              "27    147              Advertising, marketing or disclosures\n",
              "28    148                              Unexpected/Other fees\n",
              "29    149             Overdraft, savings or rewards features\n",
              "30    150                          Account terms and changes\n",
              "31    151                        Managing the line of credit\n",
              "32    152                                        Disclosures\n",
              "33    153                      Shopping for a line of credit\n",
              "34    154                                  Property was sold\n",
              "35    155         Property was damaged or destroyed property\n",
              "36    156                          Problem with an overdraft\n",
              "37    157                           Lender sold the property\n",
              "38    158                Lender damaged or destroyed vehicle\n",
              "39    159               Lender damaged or destroyed property"
            ]
          },
          "execution_count": 205,
          "metadata": {},
          "output_type": "execute_result"
        }
      ],
      "source": [
        "Bottom_single"
      ]
    },
    {
      "cell_type": "code",
      "execution_count": null,
      "id": "97eb08bc",
      "metadata": {
        "id": "97eb08bc"
      },
      "outputs": [],
      "source": [
        "#Bottom_single.columns = ['index','Issue']"
      ]
    },
    {
      "cell_type": "code",
      "execution_count": null,
      "id": "f6852dee",
      "metadata": {
        "id": "f6852dee",
        "outputId": "9ee89e58-36da-4d01-d65a-0b09b9cf98b3"
      },
      "outputs": [
        {
          "data": {
            "text/plain": [
              "(40, 2)"
            ]
          },
          "execution_count": 207,
          "metadata": {},
          "output_type": "execute_result"
        }
      ],
      "source": [
        "Bottom_single.shape"
      ]
    },
    {
      "cell_type": "code",
      "execution_count": null,
      "id": "d1f70987",
      "metadata": {
        "id": "d1f70987"
      },
      "outputs": [],
      "source": [
        "complaints_select_3 = complaints_select_2"
      ]
    },
    {
      "cell_type": "code",
      "execution_count": null,
      "id": "21b907b9",
      "metadata": {
        "id": "21b907b9",
        "outputId": "7d8f7d15-fd57-48ae-e412-daad70a766f9"
      },
      "outputs": [
        {
          "data": {
            "text/plain": [
              "(897772, 2)"
            ]
          },
          "execution_count": 209,
          "metadata": {},
          "output_type": "execute_result"
        }
      ],
      "source": [
        "complaints_select_3.shape"
      ]
    },
    {
      "cell_type": "code",
      "execution_count": null,
      "id": "60558d13",
      "metadata": {
        "id": "60558d13"
      },
      "outputs": [],
      "source": [
        "#Bottom_single.reset_index(inplace=True) #complaints_select_3"
      ]
    },
    {
      "cell_type": "code",
      "execution_count": null,
      "id": "970dff38",
      "metadata": {
        "id": "970dff38"
      },
      "outputs": [],
      "source": [
        "m = complaints_select_3.Issue.isin(Bottom_single.Issue)"
      ]
    },
    {
      "cell_type": "code",
      "execution_count": null,
      "id": "1d28fdc9",
      "metadata": {
        "id": "1d28fdc9"
      },
      "outputs": [],
      "source": [
        "complaints_select_3 = complaints_select_3[m]"
      ]
    },
    {
      "cell_type": "code",
      "execution_count": null,
      "id": "ea1d525b",
      "metadata": {
        "id": "ea1d525b",
        "outputId": "c947c195-ad5b-4e31-c9e4-1f309fca9b59"
      },
      "outputs": [
        {
          "data": {
            "text/plain": [
              "(1956, 2)"
            ]
          },
          "execution_count": 212,
          "metadata": {},
          "output_type": "execute_result"
        }
      ],
      "source": [
        "complaints_select_3.shape"
      ]
    },
    {
      "cell_type": "code",
      "execution_count": null,
      "id": "b41bb9f7",
      "metadata": {
        "id": "b41bb9f7",
        "outputId": "f40cc29f-6a41-4858-ab75-2985cf305d02"
      },
      "outputs": [
        {
          "data": {
            "text/html": [
              "<div>\n",
              "<style scoped>\n",
              "    .dataframe tbody tr th:only-of-type {\n",
              "        vertical-align: middle;\n",
              "    }\n",
              "\n",
              "    .dataframe tbody tr th {\n",
              "        vertical-align: top;\n",
              "    }\n",
              "\n",
              "    .dataframe thead th {\n",
              "        text-align: right;\n",
              "    }\n",
              "</style>\n",
              "<table border=\"1\" class=\"dataframe\">\n",
              "  <thead>\n",
              "    <tr style=\"text-align: right;\">\n",
              "      <th></th>\n",
              "      <th>Issue</th>\n",
              "      <th>Consumer complaint narrative</th>\n",
              "    </tr>\n",
              "  </thead>\n",
              "  <tbody>\n",
              "    <tr>\n",
              "      <th>372</th>\n",
              "      <td>Was approved for a loan, but didn't receive money</td>\n",
              "      <td>This is actually me having to re-open this com...</td>\n",
              "    </tr>\n",
              "    <tr>\n",
              "      <th>5587</th>\n",
              "      <td>Incorrect exchange rate</td>\n",
              "      <td>XX/XX/19 I brought a cashier 's check from a r...</td>\n",
              "    </tr>\n",
              "    <tr>\n",
              "      <th>5668</th>\n",
              "      <td>Excessive fees</td>\n",
              "      <td>A couple of years back I had some misfortunes,...</td>\n",
              "    </tr>\n",
              "    <tr>\n",
              "      <th>6261</th>\n",
              "      <td>Vehicle was damaged or destroyed the vehicle</td>\n",
              "      <td>XXXX XXXX XXXX delivered on XX/XX/XXXX, HOWEVE...</td>\n",
              "    </tr>\n",
              "    <tr>\n",
              "      <th>6440</th>\n",
              "      <td>Problem with overdraft</td>\n",
              "      <td>I have been a devoted customer of NetSpend Cor...</td>\n",
              "    </tr>\n",
              "  </tbody>\n",
              "</table>\n",
              "</div>"
            ],
            "text/plain": [
              "                                                  Issue  \\\n",
              "372   Was approved for a loan, but didn't receive money   \n",
              "5587                            Incorrect exchange rate   \n",
              "5668                                     Excessive fees   \n",
              "6261       Vehicle was damaged or destroyed the vehicle   \n",
              "6440                             Problem with overdraft   \n",
              "\n",
              "                           Consumer complaint narrative  \n",
              "372   This is actually me having to re-open this com...  \n",
              "5587  XX/XX/19 I brought a cashier 's check from a r...  \n",
              "5668  A couple of years back I had some misfortunes,...  \n",
              "6261  XXXX XXXX XXXX delivered on XX/XX/XXXX, HOWEVE...  \n",
              "6440  I have been a devoted customer of NetSpend Cor...  "
            ]
          },
          "execution_count": 213,
          "metadata": {},
          "output_type": "execute_result"
        }
      ],
      "source": [
        "complaints_select_3.head()"
      ]
    },
    {
      "cell_type": "code",
      "execution_count": null,
      "id": "523cd207",
      "metadata": {
        "id": "523cd207"
      },
      "outputs": [],
      "source": [
        "#bottom_quartile_enlarged.sample( n = 115, replace = True)\n",
        "#complaints_select_3.sample(n = 10, replace = True)\n",
        "df2 = complaints_select_3.sample(n=len(complaints_select_3)*115, replace = True)"
      ]
    },
    {
      "cell_type": "code",
      "execution_count": null,
      "id": "b7dd9b0b",
      "metadata": {
        "id": "b7dd9b0b",
        "outputId": "1ed69036-1204-43df-9fbc-c77af09f098e"
      },
      "outputs": [
        {
          "data": {
            "text/plain": [
              "(224940, 2)"
            ]
          },
          "execution_count": 215,
          "metadata": {},
          "output_type": "execute_result"
        }
      ],
      "source": [
        "df2.shape"
      ]
    },
    {
      "cell_type": "code",
      "execution_count": null,
      "id": "74f07f80",
      "metadata": {
        "id": "74f07f80"
      },
      "outputs": [],
      "source": [
        "#complaints_select_3.shape"
      ]
    },
    {
      "cell_type": "code",
      "execution_count": null,
      "id": "7f2b1184",
      "metadata": {
        "id": "7f2b1184",
        "outputId": "200740a4-8d9e-4794-adbc-9e7cd1bde6dd"
      },
      "outputs": [
        {
          "data": {
            "text/html": [
              "<div>\n",
              "<style scoped>\n",
              "    .dataframe tbody tr th:only-of-type {\n",
              "        vertical-align: middle;\n",
              "    }\n",
              "\n",
              "    .dataframe tbody tr th {\n",
              "        vertical-align: top;\n",
              "    }\n",
              "\n",
              "    .dataframe thead th {\n",
              "        text-align: right;\n",
              "    }\n",
              "</style>\n",
              "<table border=\"1\" class=\"dataframe\">\n",
              "  <thead>\n",
              "    <tr style=\"text-align: right;\">\n",
              "      <th></th>\n",
              "      <th>Issue</th>\n",
              "      <th>Consumer complaint narrative</th>\n",
              "    </tr>\n",
              "  </thead>\n",
              "  <tbody>\n",
              "    <tr>\n",
              "      <th>888655</th>\n",
              "      <td>Excessive fees</td>\n",
              "      <td>Money Management international did not disclos...</td>\n",
              "    </tr>\n",
              "    <tr>\n",
              "      <th>539505</th>\n",
              "      <td>Problem with cash advance</td>\n",
              "      <td>I recently applied for cash advances/personal ...</td>\n",
              "    </tr>\n",
              "    <tr>\n",
              "      <th>250648</th>\n",
              "      <td>Forbearance / Workout plans</td>\n",
              "      <td>While working on a loan modification with XXXX...</td>\n",
              "    </tr>\n",
              "    <tr>\n",
              "      <th>654666</th>\n",
              "      <td>Charged bank acct wrong day or amt</td>\n",
              "      <td>I set up payment to come directly from my payr...</td>\n",
              "    </tr>\n",
              "    <tr>\n",
              "      <th>402733</th>\n",
              "      <td>Problem with an overdraft</td>\n",
              "      <td>I have a Chase Bank Account and XXXX Account w...</td>\n",
              "    </tr>\n",
              "  </tbody>\n",
              "</table>\n",
              "</div>"
            ],
            "text/plain": [
              "                                     Issue  \\\n",
              "888655                      Excessive fees   \n",
              "539505           Problem with cash advance   \n",
              "250648         Forbearance / Workout plans   \n",
              "654666  Charged bank acct wrong day or amt   \n",
              "402733           Problem with an overdraft   \n",
              "\n",
              "                             Consumer complaint narrative  \n",
              "888655  Money Management international did not disclos...  \n",
              "539505  I recently applied for cash advances/personal ...  \n",
              "250648  While working on a loan modification with XXXX...  \n",
              "654666  I set up payment to come directly from my payr...  \n",
              "402733  I have a Chase Bank Account and XXXX Account w...  "
            ]
          },
          "execution_count": 217,
          "metadata": {},
          "output_type": "execute_result"
        }
      ],
      "source": [
        "df2.head()"
      ]
    },
    {
      "cell_type": "code",
      "execution_count": null,
      "id": "530f5608",
      "metadata": {
        "id": "530f5608"
      },
      "outputs": [],
      "source": [
        "complaints_select_2.head(3)"
      ]
    },
    {
      "cell_type": "markdown",
      "id": "510075be",
      "metadata": {
        "id": "510075be"
      },
      "source": [
        "### now concatenate the original with df2 to make it less unbalanced"
      ]
    },
    {
      "cell_type": "code",
      "execution_count": null,
      "id": "4fb992b4",
      "metadata": {
        "id": "4fb992b4"
      },
      "outputs": [],
      "source": [
        "Augemted = pd.concat([complaints_select_2 , df2])"
      ]
    },
    {
      "cell_type": "code",
      "execution_count": null,
      "id": "5a77e262",
      "metadata": {
        "id": "5a77e262",
        "outputId": "a28a27eb-2567-47fd-8cb8-c65a38a7d9be"
      },
      "outputs": [
        {
          "data": {
            "text/plain": [
              "(1122712, 2)"
            ]
          },
          "execution_count": 219,
          "metadata": {},
          "output_type": "execute_result"
        }
      ],
      "source": [
        "Augemted.shape"
      ]
    },
    {
      "cell_type": "code",
      "execution_count": null,
      "id": "2b6c14b6",
      "metadata": {
        "id": "2b6c14b6"
      },
      "outputs": [],
      "source": [
        "Augemted_2 = Augemted"
      ]
    },
    {
      "cell_type": "code",
      "execution_count": null,
      "id": "12208f6b",
      "metadata": {
        "id": "12208f6b",
        "outputId": "fb524717-c77c-44dc-d7dc-6a86d03ceb5b"
      },
      "outputs": [
        {
          "data": {
            "text/html": [
              "<div>\n",
              "<style scoped>\n",
              "    .dataframe tbody tr th:only-of-type {\n",
              "        vertical-align: middle;\n",
              "    }\n",
              "\n",
              "    .dataframe tbody tr th {\n",
              "        vertical-align: top;\n",
              "    }\n",
              "\n",
              "    .dataframe thead th {\n",
              "        text-align: right;\n",
              "    }\n",
              "</style>\n",
              "<table border=\"1\" class=\"dataframe\">\n",
              "  <thead>\n",
              "    <tr style=\"text-align: right;\">\n",
              "      <th></th>\n",
              "      <th>Issue</th>\n",
              "      <th>Consumer complaint narrative</th>\n",
              "    </tr>\n",
              "  </thead>\n",
              "  <tbody>\n",
              "    <tr>\n",
              "      <th>0</th>\n",
              "      <td>Problem with a credit reporting company's inve...</td>\n",
              "      <td>As by Law, under 15 U.S Code 1601- Congression...</td>\n",
              "    </tr>\n",
              "    <tr>\n",
              "      <th>1</th>\n",
              "      <td>Trouble during payment process</td>\n",
              "      <td>I am the personal representative of my sister ...</td>\n",
              "    </tr>\n",
              "    <tr>\n",
              "      <th>2</th>\n",
              "      <td>Incorrect information on your report</td>\n",
              "      <td>XXXX, XXXX XXXX SOC SEC # XXXX DOB XX/XX/XXXX ...</td>\n",
              "    </tr>\n",
              "    <tr>\n",
              "      <th>3</th>\n",
              "      <td>Problem with a credit reporting company's inve...</td>\n",
              "      <td>First Progress Card was notified throughout th...</td>\n",
              "    </tr>\n",
              "    <tr>\n",
              "      <th>4</th>\n",
              "      <td>Attempts to collect debt not owed</td>\n",
              "      <td>I got an email from my credit card company abo...</td>\n",
              "    </tr>\n",
              "  </tbody>\n",
              "</table>\n",
              "</div>"
            ],
            "text/plain": [
              "                                               Issue  \\\n",
              "0  Problem with a credit reporting company's inve...   \n",
              "1                     Trouble during payment process   \n",
              "2               Incorrect information on your report   \n",
              "3  Problem with a credit reporting company's inve...   \n",
              "4                  Attempts to collect debt not owed   \n",
              "\n",
              "                        Consumer complaint narrative  \n",
              "0  As by Law, under 15 U.S Code 1601- Congression...  \n",
              "1  I am the personal representative of my sister ...  \n",
              "2  XXXX, XXXX XXXX SOC SEC # XXXX DOB XX/XX/XXXX ...  \n",
              "3  First Progress Card was notified throughout th...  \n",
              "4  I got an email from my credit card company abo...  "
            ]
          },
          "execution_count": 221,
          "metadata": {},
          "output_type": "execute_result"
        }
      ],
      "source": [
        "Augemted_2.head()"
      ]
    },
    {
      "cell_type": "markdown",
      "id": "5be6a9e3",
      "metadata": {
        "id": "5be6a9e3"
      },
      "source": [
        "## the original dataset was 2.5 million but when we dropped the NANs the data went down to just under 900k rows.  We multilpied the bottom quartile to make it less unbalanced, Now the data  is 1.2 million rows."
      ]
    },
    {
      "cell_type": "markdown",
      "id": "863e7b8f",
      "metadata": {
        "id": "863e7b8f"
      },
      "source": [
        "# Part 2"
      ]
    },
    {
      "cell_type": "markdown",
      "id": "b6eb2bdb",
      "metadata": {
        "id": "b6eb2bdb"
      },
      "source": [
        "## Split the data"
      ]
    },
    {
      "cell_type": "markdown",
      "id": "beef0693",
      "metadata": {
        "id": "beef0693"
      },
      "source": [
        "### Splitting the data is easy enough but becasue we need to keep the Y_train data in line withthe X_train data we have to do all pre-processing in the dFD"
      ]
    },
    {
      "cell_type": "code",
      "execution_count": null,
      "id": "e34fc28e",
      "metadata": {
        "id": "e34fc28e"
      },
      "outputs": [],
      "source": [
        "#Bottom_single.columns = ['index','Issue']\n",
        "A =Augemted.rename(columns = {'Issue':'Issue','Consumer complaint narrative' : 'Consumer_complaint_narrative'})"
      ]
    },
    {
      "cell_type": "code",
      "execution_count": null,
      "id": "db139578",
      "metadata": {
        "id": "db139578",
        "outputId": "de2aabcd-be33-4314-831b-8b2f36e0c28f"
      },
      "outputs": [
        {
          "data": {
            "text/html": [
              "<div>\n",
              "<style scoped>\n",
              "    .dataframe tbody tr th:only-of-type {\n",
              "        vertical-align: middle;\n",
              "    }\n",
              "\n",
              "    .dataframe tbody tr th {\n",
              "        vertical-align: top;\n",
              "    }\n",
              "\n",
              "    .dataframe thead th {\n",
              "        text-align: right;\n",
              "    }\n",
              "</style>\n",
              "<table border=\"1\" class=\"dataframe\">\n",
              "  <thead>\n",
              "    <tr style=\"text-align: right;\">\n",
              "      <th></th>\n",
              "      <th>Issue</th>\n",
              "      <th>Consumer_complaint_narrative</th>\n",
              "    </tr>\n",
              "  </thead>\n",
              "  <tbody>\n",
              "    <tr>\n",
              "      <th>0</th>\n",
              "      <td>Problem with a credit reporting company's inve...</td>\n",
              "      <td>As by Law, under 15 U.S Code 1601- Congression...</td>\n",
              "    </tr>\n",
              "    <tr>\n",
              "      <th>1</th>\n",
              "      <td>Trouble during payment process</td>\n",
              "      <td>I am the personal representative of my sister ...</td>\n",
              "    </tr>\n",
              "    <tr>\n",
              "      <th>2</th>\n",
              "      <td>Incorrect information on your report</td>\n",
              "      <td>XXXX, XXXX XXXX SOC SEC # XXXX DOB XX/XX/XXXX ...</td>\n",
              "    </tr>\n",
              "  </tbody>\n",
              "</table>\n",
              "</div>"
            ],
            "text/plain": [
              "                                               Issue  \\\n",
              "0  Problem with a credit reporting company's inve...   \n",
              "1                     Trouble during payment process   \n",
              "2               Incorrect information on your report   \n",
              "\n",
              "                        Consumer_complaint_narrative  \n",
              "0  As by Law, under 15 U.S Code 1601- Congression...  \n",
              "1  I am the personal representative of my sister ...  \n",
              "2  XXXX, XXXX XXXX SOC SEC # XXXX DOB XX/XX/XXXX ...  "
            ]
          },
          "execution_count": 233,
          "metadata": {},
          "output_type": "execute_result"
        }
      ],
      "source": [
        "A.head(3)"
      ]
    },
    {
      "cell_type": "code",
      "execution_count": null,
      "id": "cb49f499",
      "metadata": {
        "id": "cb49f499"
      },
      "outputs": [],
      "source": [
        "A1 = A"
      ]
    },
    {
      "cell_type": "code",
      "execution_count": null,
      "id": "cff3a0e2",
      "metadata": {
        "id": "cff3a0e2",
        "outputId": "f04b7170-0ec5-4cda-d541-4ef328c98d60"
      },
      "outputs": [
        {
          "data": {
            "text/html": [
              "<div>\n",
              "<style scoped>\n",
              "    .dataframe tbody tr th:only-of-type {\n",
              "        vertical-align: middle;\n",
              "    }\n",
              "\n",
              "    .dataframe tbody tr th {\n",
              "        vertical-align: top;\n",
              "    }\n",
              "\n",
              "    .dataframe thead th {\n",
              "        text-align: right;\n",
              "    }\n",
              "</style>\n",
              "<table border=\"1\" class=\"dataframe\">\n",
              "  <thead>\n",
              "    <tr style=\"text-align: right;\">\n",
              "      <th></th>\n",
              "      <th>Issue</th>\n",
              "      <th>Consumer_complaint_narrative</th>\n",
              "    </tr>\n",
              "  </thead>\n",
              "  <tbody>\n",
              "    <tr>\n",
              "      <th>0</th>\n",
              "      <td>Problem with a credit reporting company's inve...</td>\n",
              "      <td>As by Law, under 15 U.S Code 1601- Congression...</td>\n",
              "    </tr>\n",
              "    <tr>\n",
              "      <th>1</th>\n",
              "      <td>Trouble during payment process</td>\n",
              "      <td>I am the personal representative of my sister ...</td>\n",
              "    </tr>\n",
              "    <tr>\n",
              "      <th>2</th>\n",
              "      <td>Incorrect information on your report</td>\n",
              "      <td>XXXX, XXXX XXXX SOC SEC # XXXX DOB XX/XX/XXXX ...</td>\n",
              "    </tr>\n",
              "  </tbody>\n",
              "</table>\n",
              "</div>"
            ],
            "text/plain": [
              "                                               Issue  \\\n",
              "0  Problem with a credit reporting company's inve...   \n",
              "1                     Trouble during payment process   \n",
              "2               Incorrect information on your report   \n",
              "\n",
              "                        Consumer_complaint_narrative  \n",
              "0  As by Law, under 15 U.S Code 1601- Congression...  \n",
              "1  I am the personal representative of my sister ...  \n",
              "2  XXXX, XXXX XXXX SOC SEC # XXXX DOB XX/XX/XXXX ...  "
            ]
          },
          "execution_count": 246,
          "metadata": {},
          "output_type": "execute_result"
        }
      ],
      "source": [
        "A1.head(3)"
      ]
    },
    {
      "cell_type": "markdown",
      "id": "58264d67",
      "metadata": {
        "id": "58264d67"
      },
      "source": [
        "### Lower case"
      ]
    },
    {
      "cell_type": "code",
      "execution_count": null,
      "id": "fbd5c191",
      "metadata": {
        "id": "fbd5c191"
      },
      "outputs": [],
      "source": [
        "A1['Issue'] =A1['Issue'].str.lower()"
      ]
    },
    {
      "cell_type": "code",
      "execution_count": null,
      "id": "3d1faedc",
      "metadata": {
        "id": "3d1faedc"
      },
      "outputs": [],
      "source": [
        "A1['Consumer_complaint_narrative'] = A1['Consumer_complaint_narrative'].str.lower()"
      ]
    },
    {
      "cell_type": "code",
      "execution_count": null,
      "id": "9c2baccf",
      "metadata": {
        "id": "9c2baccf",
        "outputId": "9fc848d4-424a-4d59-e97e-c68b9f0b1c53"
      },
      "outputs": [
        {
          "data": {
            "text/html": [
              "<div>\n",
              "<style scoped>\n",
              "    .dataframe tbody tr th:only-of-type {\n",
              "        vertical-align: middle;\n",
              "    }\n",
              "\n",
              "    .dataframe tbody tr th {\n",
              "        vertical-align: top;\n",
              "    }\n",
              "\n",
              "    .dataframe thead th {\n",
              "        text-align: right;\n",
              "    }\n",
              "</style>\n",
              "<table border=\"1\" class=\"dataframe\">\n",
              "  <thead>\n",
              "    <tr style=\"text-align: right;\">\n",
              "      <th></th>\n",
              "      <th>Issue</th>\n",
              "      <th>Consumer_complaint_narrative</th>\n",
              "    </tr>\n",
              "  </thead>\n",
              "  <tbody>\n",
              "    <tr>\n",
              "      <th>0</th>\n",
              "      <td>problem with a credit reporting company's inve...</td>\n",
              "      <td>as by law, under 15 u.s code 1601- congression...</td>\n",
              "    </tr>\n",
              "    <tr>\n",
              "      <th>1</th>\n",
              "      <td>trouble during payment process</td>\n",
              "      <td>i am the personal representative of my sister ...</td>\n",
              "    </tr>\n",
              "    <tr>\n",
              "      <th>2</th>\n",
              "      <td>incorrect information on your report</td>\n",
              "      <td>xxxx, xxxx xxxx soc sec # xxxx dob xx/xx/xxxx ...</td>\n",
              "    </tr>\n",
              "    <tr>\n",
              "      <th>3</th>\n",
              "      <td>problem with a credit reporting company's inve...</td>\n",
              "      <td>first progress card was notified throughout th...</td>\n",
              "    </tr>\n",
              "    <tr>\n",
              "      <th>4</th>\n",
              "      <td>attempts to collect debt not owed</td>\n",
              "      <td>i got an email from my credit card company abo...</td>\n",
              "    </tr>\n",
              "    <tr>\n",
              "      <th>...</th>\n",
              "      <td>...</td>\n",
              "      <td>...</td>\n",
              "    </tr>\n",
              "    <tr>\n",
              "      <th>327197</th>\n",
              "      <td>fees</td>\n",
              "      <td>well, i called citi on xxxx/xxxx/16 to determi...</td>\n",
              "    </tr>\n",
              "    <tr>\n",
              "      <th>384795</th>\n",
              "      <td>fees</td>\n",
              "      <td>american express gift cards charged {$60.00} i...</td>\n",
              "    </tr>\n",
              "    <tr>\n",
              "      <th>652980</th>\n",
              "      <td>applied for loan/did not receive money</td>\n",
              "      <td>i applied for a loan worth up to xxxx dollars ...</td>\n",
              "    </tr>\n",
              "    <tr>\n",
              "      <th>714530</th>\n",
              "      <td>charged bank acct wrong day or amt</td>\n",
              "      <td>big picture loans. fraudulent practices. recei...</td>\n",
              "    </tr>\n",
              "    <tr>\n",
              "      <th>680233</th>\n",
              "      <td>applied for loan/did not receive money</td>\n",
              "      <td>i applied for a loan and did n't receive any m...</td>\n",
              "    </tr>\n",
              "  </tbody>\n",
              "</table>\n",
              "<p>1122712 rows × 2 columns</p>\n",
              "</div>"
            ],
            "text/plain": [
              "                                                    Issue  \\\n",
              "0       problem with a credit reporting company's inve...   \n",
              "1                          trouble during payment process   \n",
              "2                    incorrect information on your report   \n",
              "3       problem with a credit reporting company's inve...   \n",
              "4                       attempts to collect debt not owed   \n",
              "...                                                   ...   \n",
              "327197                                               fees   \n",
              "384795                                               fees   \n",
              "652980             applied for loan/did not receive money   \n",
              "714530                 charged bank acct wrong day or amt   \n",
              "680233             applied for loan/did not receive money   \n",
              "\n",
              "                             Consumer_complaint_narrative  \n",
              "0       as by law, under 15 u.s code 1601- congression...  \n",
              "1       i am the personal representative of my sister ...  \n",
              "2       xxxx, xxxx xxxx soc sec # xxxx dob xx/xx/xxxx ...  \n",
              "3       first progress card was notified throughout th...  \n",
              "4       i got an email from my credit card company abo...  \n",
              "...                                                   ...  \n",
              "327197  well, i called citi on xxxx/xxxx/16 to determi...  \n",
              "384795  american express gift cards charged {$60.00} i...  \n",
              "652980  i applied for a loan worth up to xxxx dollars ...  \n",
              "714530  big picture loans. fraudulent practices. recei...  \n",
              "680233  i applied for a loan and did n't receive any m...  \n",
              "\n",
              "[1122712 rows x 2 columns]"
            ]
          },
          "execution_count": 251,
          "metadata": {},
          "output_type": "execute_result"
        }
      ],
      "source": [
        "A1"
      ]
    },
    {
      "cell_type": "markdown",
      "id": "baf9e42c",
      "metadata": {
        "id": "baf9e42c"
      },
      "source": [
        "## Remove punctuation"
      ]
    },
    {
      "cell_type": "code",
      "execution_count": null,
      "id": "d4c266e1",
      "metadata": {
        "id": "d4c266e1",
        "outputId": "e14515fd-1a9e-4b32-95c8-db40eb70ff59"
      },
      "outputs": [
        {
          "name": "stderr",
          "output_type": "stream",
          "text": [
            "/var/folders/_k/0b37qbmx5gz084p4png5n4840000gr/T/ipykernel_770/2608351658.py:1: FutureWarning: The default value of regex will change from True to False in a future version.\n",
            "  A1['Issue'] =A1['Issue'].str.replace(r'[^\\w\\s]+', '')\n"
          ]
        }
      ],
      "source": [
        "A1['Issue'] =A1['Issue'].str.replace(r'[^\\w\\s]+', '')"
      ]
    },
    {
      "cell_type": "code",
      "execution_count": null,
      "id": "7f2dac24",
      "metadata": {
        "id": "7f2dac24",
        "outputId": "1ec85dd1-6b71-4008-bc46-e0a2d3c89f61"
      },
      "outputs": [
        {
          "name": "stderr",
          "output_type": "stream",
          "text": [
            "/var/folders/_k/0b37qbmx5gz084p4png5n4840000gr/T/ipykernel_770/848086846.py:1: FutureWarning: The default value of regex will change from True to False in a future version.\n",
            "  A1['Consumer_complaint_narrative'] =A1['Consumer_complaint_narrative'].str.replace(r'[^\\w\\s]+', '')\n"
          ]
        }
      ],
      "source": [
        "A1['Consumer_complaint_narrative'] =A1['Consumer_complaint_narrative'].str.replace(r'[^\\w\\s]+', '')"
      ]
    },
    {
      "cell_type": "code",
      "execution_count": null,
      "id": "4304ffa4",
      "metadata": {
        "id": "4304ffa4",
        "outputId": "3c6f0d66-0af7-435b-86ab-2975230bd0bc"
      },
      "outputs": [
        {
          "data": {
            "text/html": [
              "<div>\n",
              "<style scoped>\n",
              "    .dataframe tbody tr th:only-of-type {\n",
              "        vertical-align: middle;\n",
              "    }\n",
              "\n",
              "    .dataframe tbody tr th {\n",
              "        vertical-align: top;\n",
              "    }\n",
              "\n",
              "    .dataframe thead th {\n",
              "        text-align: right;\n",
              "    }\n",
              "</style>\n",
              "<table border=\"1\" class=\"dataframe\">\n",
              "  <thead>\n",
              "    <tr style=\"text-align: right;\">\n",
              "      <th></th>\n",
              "      <th>Issue</th>\n",
              "      <th>Consumer_complaint_narrative</th>\n",
              "    </tr>\n",
              "  </thead>\n",
              "  <tbody>\n",
              "    <tr>\n",
              "      <th>0</th>\n",
              "      <td>problem with a credit reporting companys inves...</td>\n",
              "      <td>as by law under 15 us code 1601 congressional ...</td>\n",
              "    </tr>\n",
              "    <tr>\n",
              "      <th>1</th>\n",
              "      <td>trouble during payment process</td>\n",
              "      <td>i am the personal representative of my sister ...</td>\n",
              "    </tr>\n",
              "    <tr>\n",
              "      <th>2</th>\n",
              "      <td>incorrect information on your report</td>\n",
              "      <td>xxxx xxxx xxxx soc sec  xxxx dob xxxxxxxx addr...</td>\n",
              "    </tr>\n",
              "    <tr>\n",
              "      <th>3</th>\n",
              "      <td>problem with a credit reporting companys inves...</td>\n",
              "      <td>first progress card was notified throughout th...</td>\n",
              "    </tr>\n",
              "    <tr>\n",
              "      <th>4</th>\n",
              "      <td>attempts to collect debt not owed</td>\n",
              "      <td>i got an email from my credit card company abo...</td>\n",
              "    </tr>\n",
              "    <tr>\n",
              "      <th>...</th>\n",
              "      <td>...</td>\n",
              "      <td>...</td>\n",
              "    </tr>\n",
              "    <tr>\n",
              "      <th>327197</th>\n",
              "      <td>fees</td>\n",
              "      <td>well i called citi on xxxxxxxx16 to determine ...</td>\n",
              "    </tr>\n",
              "    <tr>\n",
              "      <th>384795</th>\n",
              "      <td>fees</td>\n",
              "      <td>american express gift cards charged 6000 in in...</td>\n",
              "    </tr>\n",
              "    <tr>\n",
              "      <th>652980</th>\n",
              "      <td>applied for loandid not receive money</td>\n",
              "      <td>i applied for a loan worth up to xxxx dollars ...</td>\n",
              "    </tr>\n",
              "    <tr>\n",
              "      <th>714530</th>\n",
              "      <td>charged bank acct wrong day or amt</td>\n",
              "      <td>big picture loans fraudulent practices receive...</td>\n",
              "    </tr>\n",
              "    <tr>\n",
              "      <th>680233</th>\n",
              "      <td>applied for loandid not receive money</td>\n",
              "      <td>i applied for a loan and did nt receive any mo...</td>\n",
              "    </tr>\n",
              "  </tbody>\n",
              "</table>\n",
              "<p>1122712 rows × 2 columns</p>\n",
              "</div>"
            ],
            "text/plain": [
              "                                                    Issue  \\\n",
              "0       problem with a credit reporting companys inves...   \n",
              "1                          trouble during payment process   \n",
              "2                    incorrect information on your report   \n",
              "3       problem with a credit reporting companys inves...   \n",
              "4                       attempts to collect debt not owed   \n",
              "...                                                   ...   \n",
              "327197                                               fees   \n",
              "384795                                               fees   \n",
              "652980              applied for loandid not receive money   \n",
              "714530                 charged bank acct wrong day or amt   \n",
              "680233              applied for loandid not receive money   \n",
              "\n",
              "                             Consumer_complaint_narrative  \n",
              "0       as by law under 15 us code 1601 congressional ...  \n",
              "1       i am the personal representative of my sister ...  \n",
              "2       xxxx xxxx xxxx soc sec  xxxx dob xxxxxxxx addr...  \n",
              "3       first progress card was notified throughout th...  \n",
              "4       i got an email from my credit card company abo...  \n",
              "...                                                   ...  \n",
              "327197  well i called citi on xxxxxxxx16 to determine ...  \n",
              "384795  american express gift cards charged 6000 in in...  \n",
              "652980  i applied for a loan worth up to xxxx dollars ...  \n",
              "714530  big picture loans fraudulent practices receive...  \n",
              "680233  i applied for a loan and did nt receive any mo...  \n",
              "\n",
              "[1122712 rows x 2 columns]"
            ]
          },
          "execution_count": 255,
          "metadata": {},
          "output_type": "execute_result"
        }
      ],
      "source": [
        "A1"
      ]
    },
    {
      "cell_type": "markdown",
      "id": "acc60032",
      "metadata": {
        "id": "acc60032"
      },
      "source": [
        "## tokenize"
      ]
    },
    {
      "cell_type": "code",
      "execution_count": null,
      "id": "d44eda4c",
      "metadata": {
        "id": "d44eda4c",
        "outputId": "a7c71a90-2910-4bc6-889c-a1113b17904d"
      },
      "outputs": [
        {
          "ename": "NameError",
          "evalue": "name 'A1' is not defined",
          "output_type": "error",
          "traceback": [
            "\u001b[0;31m---------------------------------------------------------------------------\u001b[0m",
            "\u001b[0;31mNameError\u001b[0m                                 Traceback (most recent call last)",
            "\u001b[0;32m/var/folders/_k/0b37qbmx5gz084p4png5n4840000gr/T/ipykernel_745/3992342209.py\u001b[0m in \u001b[0;36m<module>\u001b[0;34m\u001b[0m\n\u001b[0;32m----> 1\u001b[0;31m \u001b[0mA2\u001b[0m \u001b[0;34m=\u001b[0m \u001b[0mA1\u001b[0m\u001b[0;34m\u001b[0m\u001b[0;34m\u001b[0m\u001b[0m\n\u001b[0m",
            "\u001b[0;31mNameError\u001b[0m: name 'A1' is not defined"
          ]
        }
      ],
      "source": [
        "A2 = A1"
      ]
    },
    {
      "cell_type": "code",
      "execution_count": null,
      "id": "70a4f386",
      "metadata": {
        "id": "70a4f386",
        "outputId": "0bc523cf-f66d-42c7-e1e1-a030985adedd"
      },
      "outputs": [
        {
          "name": "stdout",
          "output_type": "stream",
          "text": [
            "INFO: Pandarallel will run on 4 workers.\n",
            "INFO: Pandarallel will use standard multiprocessing data transfer (pipe) to transfer data between the main process and workers.\n"
          ]
        }
      ],
      "source": [
        "import nltk\n",
        "from pandarallel import pandarallel\n",
        "\n",
        "pandarallel.initialize(progress_bar=True)"
      ]
    },
    {
      "cell_type": "code",
      "execution_count": null,
      "id": "16d15778",
      "metadata": {
        "id": "16d15778",
        "outputId": "e6d3c942-f37d-41a8-edbc-3cf8ba21f8d5"
      },
      "outputs": [
        {
          "ename": "NameError",
          "evalue": "name 'A2' is not defined",
          "output_type": "error",
          "traceback": [
            "\u001b[0;31m---------------------------------------------------------------------------\u001b[0m",
            "\u001b[0;31mNameError\u001b[0m                                 Traceback (most recent call last)",
            "\u001b[0;32m/var/folders/_k/0b37qbmx5gz084p4png5n4840000gr/T/ipykernel_745/1881824404.py\u001b[0m in \u001b[0;36m<module>\u001b[0;34m\u001b[0m\n\u001b[1;32m      1\u001b[0m \u001b[0;31m#df['new_col'] = df['text'].parallel_apply(lambda x: nltk.word_tokenize(x))\u001b[0m\u001b[0;34m\u001b[0m\u001b[0;34m\u001b[0m\u001b[0m\n\u001b[0;32m----> 2\u001b[0;31m \u001b[0mA2\u001b[0m\u001b[0;34m[\u001b[0m\u001b[0;34m'issue_stopped'\u001b[0m\u001b[0;34m]\u001b[0m \u001b[0;34m=\u001b[0m\u001b[0mA2\u001b[0m\u001b[0;34m[\u001b[0m\u001b[0;34m'Issue_token'\u001b[0m\u001b[0;34m]\u001b[0m \u001b[0;34m=\u001b[0m \u001b[0mA2\u001b[0m\u001b[0;34m[\u001b[0m\u001b[0;34m'Issue'\u001b[0m\u001b[0;34m]\u001b[0m\u001b[0;34m.\u001b[0m\u001b[0mparallel_apply\u001b[0m\u001b[0;34m(\u001b[0m\u001b[0;32mlambda\u001b[0m \u001b[0mx\u001b[0m\u001b[0;34m:\u001b[0m \u001b[0mnltk\u001b[0m\u001b[0;34m.\u001b[0m\u001b[0mword_tokenize\u001b[0m\u001b[0;34m(\u001b[0m\u001b[0mx\u001b[0m\u001b[0;34m)\u001b[0m\u001b[0;34m)\u001b[0m\u001b[0;34m\u001b[0m\u001b[0;34m\u001b[0m\u001b[0m\n\u001b[0m",
            "\u001b[0;31mNameError\u001b[0m: name 'A2' is not defined"
          ]
        }
      ],
      "source": [
        "#df['new_col'] = df['text'].parallel_apply(lambda x: nltk.word_tokenize(x))\n",
        "A2['issue_stopped'] =A2['Issue_token'] = A2['Issue'].parallel_apply(lambda x: nltk.word_tokenize(x))"
      ]
    },
    {
      "cell_type": "code",
      "execution_count": null,
      "id": "53222606",
      "metadata": {
        "id": "53222606",
        "outputId": "1e424452-22bd-447c-c76a-b549c5f51574"
      },
      "outputs": [
        {
          "data": {
            "text/html": [
              "<div>\n",
              "<style scoped>\n",
              "    .dataframe tbody tr th:only-of-type {\n",
              "        vertical-align: middle;\n",
              "    }\n",
              "\n",
              "    .dataframe tbody tr th {\n",
              "        vertical-align: top;\n",
              "    }\n",
              "\n",
              "    .dataframe thead th {\n",
              "        text-align: right;\n",
              "    }\n",
              "</style>\n",
              "<table border=\"1\" class=\"dataframe\">\n",
              "  <thead>\n",
              "    <tr style=\"text-align: right;\">\n",
              "      <th></th>\n",
              "      <th>Issue</th>\n",
              "      <th>Consumer_complaint_narrative</th>\n",
              "      <th>Issue_token</th>\n",
              "    </tr>\n",
              "  </thead>\n",
              "  <tbody>\n",
              "    <tr>\n",
              "      <th>0</th>\n",
              "      <td>problem with a credit reporting companys inves...</td>\n",
              "      <td>as by law under 15 us code 1601 congressional ...</td>\n",
              "      <td>[problem, with, a, credit, reporting, companys...</td>\n",
              "    </tr>\n",
              "    <tr>\n",
              "      <th>1</th>\n",
              "      <td>trouble during payment process</td>\n",
              "      <td>i am the personal representative of my sister ...</td>\n",
              "      <td>[trouble, during, payment, process]</td>\n",
              "    </tr>\n",
              "    <tr>\n",
              "      <th>2</th>\n",
              "      <td>incorrect information on your report</td>\n",
              "      <td>xxxx xxxx xxxx soc sec  xxxx dob xxxxxxxx addr...</td>\n",
              "      <td>[incorrect, information, on, your, report]</td>\n",
              "    </tr>\n",
              "    <tr>\n",
              "      <th>3</th>\n",
              "      <td>problem with a credit reporting companys inves...</td>\n",
              "      <td>first progress card was notified throughout th...</td>\n",
              "      <td>[problem, with, a, credit, reporting, companys...</td>\n",
              "    </tr>\n",
              "    <tr>\n",
              "      <th>4</th>\n",
              "      <td>attempts to collect debt not owed</td>\n",
              "      <td>i got an email from my credit card company abo...</td>\n",
              "      <td>[attempts, to, collect, debt, not, owed]</td>\n",
              "    </tr>\n",
              "    <tr>\n",
              "      <th>...</th>\n",
              "      <td>...</td>\n",
              "      <td>...</td>\n",
              "      <td>...</td>\n",
              "    </tr>\n",
              "    <tr>\n",
              "      <th>327197</th>\n",
              "      <td>fees</td>\n",
              "      <td>well i called citi on xxxxxxxx16 to determine ...</td>\n",
              "      <td>[fees]</td>\n",
              "    </tr>\n",
              "    <tr>\n",
              "      <th>384795</th>\n",
              "      <td>fees</td>\n",
              "      <td>american express gift cards charged 6000 in in...</td>\n",
              "      <td>[fees]</td>\n",
              "    </tr>\n",
              "    <tr>\n",
              "      <th>652980</th>\n",
              "      <td>applied for loandid not receive money</td>\n",
              "      <td>i applied for a loan worth up to xxxx dollars ...</td>\n",
              "      <td>[applied, for, loandid, not, receive, money]</td>\n",
              "    </tr>\n",
              "    <tr>\n",
              "      <th>714530</th>\n",
              "      <td>charged bank acct wrong day or amt</td>\n",
              "      <td>big picture loans fraudulent practices receive...</td>\n",
              "      <td>[charged, bank, acct, wrong, day, or, amt]</td>\n",
              "    </tr>\n",
              "    <tr>\n",
              "      <th>680233</th>\n",
              "      <td>applied for loandid not receive money</td>\n",
              "      <td>i applied for a loan and did nt receive any mo...</td>\n",
              "      <td>[applied, for, loandid, not, receive, money]</td>\n",
              "    </tr>\n",
              "  </tbody>\n",
              "</table>\n",
              "<p>1122712 rows × 3 columns</p>\n",
              "</div>"
            ],
            "text/plain": [
              "                                                    Issue  \\\n",
              "0       problem with a credit reporting companys inves...   \n",
              "1                          trouble during payment process   \n",
              "2                    incorrect information on your report   \n",
              "3       problem with a credit reporting companys inves...   \n",
              "4                       attempts to collect debt not owed   \n",
              "...                                                   ...   \n",
              "327197                                               fees   \n",
              "384795                                               fees   \n",
              "652980              applied for loandid not receive money   \n",
              "714530                 charged bank acct wrong day or amt   \n",
              "680233              applied for loandid not receive money   \n",
              "\n",
              "                             Consumer_complaint_narrative  \\\n",
              "0       as by law under 15 us code 1601 congressional ...   \n",
              "1       i am the personal representative of my sister ...   \n",
              "2       xxxx xxxx xxxx soc sec  xxxx dob xxxxxxxx addr...   \n",
              "3       first progress card was notified throughout th...   \n",
              "4       i got an email from my credit card company abo...   \n",
              "...                                                   ...   \n",
              "327197  well i called citi on xxxxxxxx16 to determine ...   \n",
              "384795  american express gift cards charged 6000 in in...   \n",
              "652980  i applied for a loan worth up to xxxx dollars ...   \n",
              "714530  big picture loans fraudulent practices receive...   \n",
              "680233  i applied for a loan and did nt receive any mo...   \n",
              "\n",
              "                                              Issue_token  \n",
              "0       [problem, with, a, credit, reporting, companys...  \n",
              "1                     [trouble, during, payment, process]  \n",
              "2              [incorrect, information, on, your, report]  \n",
              "3       [problem, with, a, credit, reporting, companys...  \n",
              "4                [attempts, to, collect, debt, not, owed]  \n",
              "...                                                   ...  \n",
              "327197                                             [fees]  \n",
              "384795                                             [fees]  \n",
              "652980       [applied, for, loandid, not, receive, money]  \n",
              "714530         [charged, bank, acct, wrong, day, or, amt]  \n",
              "680233       [applied, for, loandid, not, receive, money]  \n",
              "\n",
              "[1122712 rows x 3 columns]"
            ]
          },
          "execution_count": 261,
          "metadata": {},
          "output_type": "execute_result"
        }
      ],
      "source": [
        "A2"
      ]
    },
    {
      "cell_type": "code",
      "execution_count": null,
      "id": "43f0ea21",
      "metadata": {
        "id": "43f0ea21",
        "outputId": "605e05d7-51fa-4c72-9f61-63ba03bc6e92"
      },
      "outputs": [
        {
          "data": {
            "application/vnd.jupyter.widget-view+json": {
              "model_id": "ba369121e16d4b6ca12139eaef370312",
              "version_major": 2,
              "version_minor": 0
            },
            "text/plain": [
              "VBox(children=(HBox(children=(IntProgress(value=0, description='0.00%', max=280678), Label(value='0 / 280678')…"
            ]
          },
          "metadata": {},
          "output_type": "display_data"
        }
      ],
      "source": [
        "#df['new_col'] = df['text'].parallel_apply(lambda x: nltk.word_tokenize(x))\n",
        "A2['Consumer_complaint_narrative_token'] = A2['Consumer_complaint_narrative'].parallel_apply(lambda x: nltk.word_tokenize(x))"
      ]
    },
    {
      "cell_type": "code",
      "execution_count": null,
      "id": "6e06b355",
      "metadata": {
        "id": "6e06b355",
        "outputId": "3bc3aaae-c67a-4d42-9311-87d803594b5b"
      },
      "outputs": [
        {
          "data": {
            "text/html": [
              "<div>\n",
              "<style scoped>\n",
              "    .dataframe tbody tr th:only-of-type {\n",
              "        vertical-align: middle;\n",
              "    }\n",
              "\n",
              "    .dataframe tbody tr th {\n",
              "        vertical-align: top;\n",
              "    }\n",
              "\n",
              "    .dataframe thead th {\n",
              "        text-align: right;\n",
              "    }\n",
              "</style>\n",
              "<table border=\"1\" class=\"dataframe\">\n",
              "  <thead>\n",
              "    <tr style=\"text-align: right;\">\n",
              "      <th></th>\n",
              "      <th>Issue</th>\n",
              "      <th>Consumer_complaint_narrative</th>\n",
              "      <th>Issue_token</th>\n",
              "      <th>Consumer_complaint_narrative_token</th>\n",
              "    </tr>\n",
              "  </thead>\n",
              "  <tbody>\n",
              "    <tr>\n",
              "      <th>0</th>\n",
              "      <td>problem with a credit reporting companys inves...</td>\n",
              "      <td>as by law under 15 us code 1601 congressional ...</td>\n",
              "      <td>[problem, with, a, credit, reporting, companys...</td>\n",
              "      <td>[as, by, law, under, 15, us, code, 1601, congr...</td>\n",
              "    </tr>\n",
              "    <tr>\n",
              "      <th>1</th>\n",
              "      <td>trouble during payment process</td>\n",
              "      <td>i am the personal representative of my sister ...</td>\n",
              "      <td>[trouble, during, payment, process]</td>\n",
              "      <td>[i, am, the, personal, representative, of, my,...</td>\n",
              "    </tr>\n",
              "    <tr>\n",
              "      <th>2</th>\n",
              "      <td>incorrect information on your report</td>\n",
              "      <td>xxxx xxxx xxxx soc sec  xxxx dob xxxxxxxx addr...</td>\n",
              "      <td>[incorrect, information, on, your, report]</td>\n",
              "      <td>[xxxx, xxxx, xxxx, soc, sec, xxxx, dob, xxxxxx...</td>\n",
              "    </tr>\n",
              "    <tr>\n",
              "      <th>3</th>\n",
              "      <td>problem with a credit reporting companys inves...</td>\n",
              "      <td>first progress card was notified throughout th...</td>\n",
              "      <td>[problem, with, a, credit, reporting, companys...</td>\n",
              "      <td>[first, progress, card, was, notified, through...</td>\n",
              "    </tr>\n",
              "    <tr>\n",
              "      <th>4</th>\n",
              "      <td>attempts to collect debt not owed</td>\n",
              "      <td>i got an email from my credit card company abo...</td>\n",
              "      <td>[attempts, to, collect, debt, not, owed]</td>\n",
              "      <td>[i, got, an, email, from, my, credit, card, co...</td>\n",
              "    </tr>\n",
              "    <tr>\n",
              "      <th>...</th>\n",
              "      <td>...</td>\n",
              "      <td>...</td>\n",
              "      <td>...</td>\n",
              "      <td>...</td>\n",
              "    </tr>\n",
              "    <tr>\n",
              "      <th>327197</th>\n",
              "      <td>fees</td>\n",
              "      <td>well i called citi on xxxxxxxx16 to determine ...</td>\n",
              "      <td>[fees]</td>\n",
              "      <td>[well, i, called, citi, on, xxxxxxxx16, to, de...</td>\n",
              "    </tr>\n",
              "    <tr>\n",
              "      <th>384795</th>\n",
              "      <td>fees</td>\n",
              "      <td>american express gift cards charged 6000 in in...</td>\n",
              "      <td>[fees]</td>\n",
              "      <td>[american, express, gift, cards, charged, 6000...</td>\n",
              "    </tr>\n",
              "    <tr>\n",
              "      <th>652980</th>\n",
              "      <td>applied for loandid not receive money</td>\n",
              "      <td>i applied for a loan worth up to xxxx dollars ...</td>\n",
              "      <td>[applied, for, loandid, not, receive, money]</td>\n",
              "      <td>[i, applied, for, a, loan, worth, up, to, xxxx...</td>\n",
              "    </tr>\n",
              "    <tr>\n",
              "      <th>714530</th>\n",
              "      <td>charged bank acct wrong day or amt</td>\n",
              "      <td>big picture loans fraudulent practices receive...</td>\n",
              "      <td>[charged, bank, acct, wrong, day, or, amt]</td>\n",
              "      <td>[big, picture, loans, fraudulent, practices, r...</td>\n",
              "    </tr>\n",
              "    <tr>\n",
              "      <th>680233</th>\n",
              "      <td>applied for loandid not receive money</td>\n",
              "      <td>i applied for a loan and did nt receive any mo...</td>\n",
              "      <td>[applied, for, loandid, not, receive, money]</td>\n",
              "      <td>[i, applied, for, a, loan, and, did, nt, recei...</td>\n",
              "    </tr>\n",
              "  </tbody>\n",
              "</table>\n",
              "<p>1122712 rows × 4 columns</p>\n",
              "</div>"
            ],
            "text/plain": [
              "                                                    Issue  \\\n",
              "0       problem with a credit reporting companys inves...   \n",
              "1                          trouble during payment process   \n",
              "2                    incorrect information on your report   \n",
              "3       problem with a credit reporting companys inves...   \n",
              "4                       attempts to collect debt not owed   \n",
              "...                                                   ...   \n",
              "327197                                               fees   \n",
              "384795                                               fees   \n",
              "652980              applied for loandid not receive money   \n",
              "714530                 charged bank acct wrong day or amt   \n",
              "680233              applied for loandid not receive money   \n",
              "\n",
              "                             Consumer_complaint_narrative  \\\n",
              "0       as by law under 15 us code 1601 congressional ...   \n",
              "1       i am the personal representative of my sister ...   \n",
              "2       xxxx xxxx xxxx soc sec  xxxx dob xxxxxxxx addr...   \n",
              "3       first progress card was notified throughout th...   \n",
              "4       i got an email from my credit card company abo...   \n",
              "...                                                   ...   \n",
              "327197  well i called citi on xxxxxxxx16 to determine ...   \n",
              "384795  american express gift cards charged 6000 in in...   \n",
              "652980  i applied for a loan worth up to xxxx dollars ...   \n",
              "714530  big picture loans fraudulent practices receive...   \n",
              "680233  i applied for a loan and did nt receive any mo...   \n",
              "\n",
              "                                              Issue_token  \\\n",
              "0       [problem, with, a, credit, reporting, companys...   \n",
              "1                     [trouble, during, payment, process]   \n",
              "2              [incorrect, information, on, your, report]   \n",
              "3       [problem, with, a, credit, reporting, companys...   \n",
              "4                [attempts, to, collect, debt, not, owed]   \n",
              "...                                                   ...   \n",
              "327197                                             [fees]   \n",
              "384795                                             [fees]   \n",
              "652980       [applied, for, loandid, not, receive, money]   \n",
              "714530         [charged, bank, acct, wrong, day, or, amt]   \n",
              "680233       [applied, for, loandid, not, receive, money]   \n",
              "\n",
              "                       Consumer_complaint_narrative_token  \n",
              "0       [as, by, law, under, 15, us, code, 1601, congr...  \n",
              "1       [i, am, the, personal, representative, of, my,...  \n",
              "2       [xxxx, xxxx, xxxx, soc, sec, xxxx, dob, xxxxxx...  \n",
              "3       [first, progress, card, was, notified, through...  \n",
              "4       [i, got, an, email, from, my, credit, card, co...  \n",
              "...                                                   ...  \n",
              "327197  [well, i, called, citi, on, xxxxxxxx16, to, de...  \n",
              "384795  [american, express, gift, cards, charged, 6000...  \n",
              "652980  [i, applied, for, a, loan, worth, up, to, xxxx...  \n",
              "714530  [big, picture, loans, fraudulent, practices, r...  \n",
              "680233  [i, applied, for, a, loan, and, did, nt, recei...  \n",
              "\n",
              "[1122712 rows x 4 columns]"
            ]
          },
          "execution_count": 266,
          "metadata": {},
          "output_type": "execute_result"
        }
      ],
      "source": [
        " A2 #10amm:10:10"
      ]
    },
    {
      "cell_type": "code",
      "execution_count": null,
      "id": "ebd26cb7",
      "metadata": {
        "id": "ebd26cb7"
      },
      "outputs": [],
      "source": [
        "#df.to_csv(index=False)\n",
        "A2.to_csv('Tokenized_Data.csv' ,index=False)"
      ]
    },
    {
      "cell_type": "code",
      "execution_count": null,
      "id": "4ddc55f8",
      "metadata": {
        "id": "4ddc55f8"
      },
      "outputs": [],
      "source": [
        ""
      ]
    },
    {
      "cell_type": "code",
      "execution_count": null,
      "id": "5f9cb445",
      "metadata": {
        "id": "5f9cb445"
      },
      "outputs": [],
      "source": [
        "test = pd.read_csv('Tokenized_Data.csv',encoding = 'utf-8')"
      ]
    },
    {
      "cell_type": "code",
      "execution_count": null,
      "id": "37a34f4d",
      "metadata": {
        "id": "37a34f4d",
        "outputId": "9b9bad95-2c59-4001-baf4-0bdee205e745"
      },
      "outputs": [
        {
          "data": {
            "text/html": [
              "<div>\n",
              "<style scoped>\n",
              "    .dataframe tbody tr th:only-of-type {\n",
              "        vertical-align: middle;\n",
              "    }\n",
              "\n",
              "    .dataframe tbody tr th {\n",
              "        vertical-align: top;\n",
              "    }\n",
              "\n",
              "    .dataframe thead th {\n",
              "        text-align: right;\n",
              "    }\n",
              "</style>\n",
              "<table border=\"1\" class=\"dataframe\">\n",
              "  <thead>\n",
              "    <tr style=\"text-align: right;\">\n",
              "      <th></th>\n",
              "      <th>Issue</th>\n",
              "      <th>Consumer_complaint_narrative</th>\n",
              "      <th>Issue_token</th>\n",
              "      <th>Consumer_complaint_narrative_token</th>\n",
              "    </tr>\n",
              "  </thead>\n",
              "  <tbody>\n",
              "    <tr>\n",
              "      <th>0</th>\n",
              "      <td>problem with a credit reporting companys inves...</td>\n",
              "      <td>as by law under 15 us code 1601 congressional ...</td>\n",
              "      <td>['problem', 'with', 'a', 'credit', 'reporting'...</td>\n",
              "      <td>['as', 'by', 'law', 'under', '15', 'us', 'code...</td>\n",
              "    </tr>\n",
              "    <tr>\n",
              "      <th>1</th>\n",
              "      <td>trouble during payment process</td>\n",
              "      <td>i am the personal representative of my sister ...</td>\n",
              "      <td>['trouble', 'during', 'payment', 'process']</td>\n",
              "      <td>['i', 'am', 'the', 'personal', 'representative...</td>\n",
              "    </tr>\n",
              "    <tr>\n",
              "      <th>2</th>\n",
              "      <td>incorrect information on your report</td>\n",
              "      <td>xxxx xxxx xxxx soc sec  xxxx dob xxxxxxxx addr...</td>\n",
              "      <td>['incorrect', 'information', 'on', 'your', 're...</td>\n",
              "      <td>['xxxx', 'xxxx', 'xxxx', 'soc', 'sec', 'xxxx',...</td>\n",
              "    </tr>\n",
              "    <tr>\n",
              "      <th>3</th>\n",
              "      <td>problem with a credit reporting companys inves...</td>\n",
              "      <td>first progress card was notified throughout th...</td>\n",
              "      <td>['problem', 'with', 'a', 'credit', 'reporting'...</td>\n",
              "      <td>['first', 'progress', 'card', 'was', 'notified...</td>\n",
              "    </tr>\n",
              "    <tr>\n",
              "      <th>4</th>\n",
              "      <td>attempts to collect debt not owed</td>\n",
              "      <td>i got an email from my credit card company abo...</td>\n",
              "      <td>['attempts', 'to', 'collect', 'debt', 'not', '...</td>\n",
              "      <td>['i', 'got', 'an', 'email', 'from', 'my', 'cre...</td>\n",
              "    </tr>\n",
              "  </tbody>\n",
              "</table>\n",
              "</div>"
            ],
            "text/plain": [
              "                                               Issue  \\\n",
              "0  problem with a credit reporting companys inves...   \n",
              "1                     trouble during payment process   \n",
              "2               incorrect information on your report   \n",
              "3  problem with a credit reporting companys inves...   \n",
              "4                  attempts to collect debt not owed   \n",
              "\n",
              "                        Consumer_complaint_narrative  \\\n",
              "0  as by law under 15 us code 1601 congressional ...   \n",
              "1  i am the personal representative of my sister ...   \n",
              "2  xxxx xxxx xxxx soc sec  xxxx dob xxxxxxxx addr...   \n",
              "3  first progress card was notified throughout th...   \n",
              "4  i got an email from my credit card company abo...   \n",
              "\n",
              "                                         Issue_token  \\\n",
              "0  ['problem', 'with', 'a', 'credit', 'reporting'...   \n",
              "1        ['trouble', 'during', 'payment', 'process']   \n",
              "2  ['incorrect', 'information', 'on', 'your', 're...   \n",
              "3  ['problem', 'with', 'a', 'credit', 'reporting'...   \n",
              "4  ['attempts', 'to', 'collect', 'debt', 'not', '...   \n",
              "\n",
              "                  Consumer_complaint_narrative_token  \n",
              "0  ['as', 'by', 'law', 'under', '15', 'us', 'code...  \n",
              "1  ['i', 'am', 'the', 'personal', 'representative...  \n",
              "2  ['xxxx', 'xxxx', 'xxxx', 'soc', 'sec', 'xxxx',...  \n",
              "3  ['first', 'progress', 'card', 'was', 'notified...  \n",
              "4  ['i', 'got', 'an', 'email', 'from', 'my', 'cre...  "
            ]
          },
          "execution_count": 37,
          "metadata": {},
          "output_type": "execute_result"
        }
      ],
      "source": [
        "test.head()"
      ]
    },
    {
      "cell_type": "code",
      "execution_count": null,
      "id": "984aa5dc",
      "metadata": {
        "id": "984aa5dc",
        "outputId": "ae04e0c6-8825-4acf-af50-f019459036a5"
      },
      "outputs": [
        {
          "data": {
            "text/plain": [
              "(1122712, 4)"
            ]
          },
          "execution_count": 38,
          "metadata": {},
          "output_type": "execute_result"
        }
      ],
      "source": [
        "test.shape"
      ]
    },
    {
      "cell_type": "code",
      "execution_count": null,
      "id": "f5d30126",
      "metadata": {
        "id": "f5d30126"
      },
      "outputs": [],
      "source": [
        "A3 = test"
      ]
    },
    {
      "cell_type": "code",
      "execution_count": null,
      "id": "6170d9a8",
      "metadata": {
        "id": "6170d9a8",
        "outputId": "1f2ee9c4-4daa-465f-d653-6e30aa9d12de"
      },
      "outputs": [
        {
          "data": {
            "text/html": [
              "<div>\n",
              "<style scoped>\n",
              "    .dataframe tbody tr th:only-of-type {\n",
              "        vertical-align: middle;\n",
              "    }\n",
              "\n",
              "    .dataframe tbody tr th {\n",
              "        vertical-align: top;\n",
              "    }\n",
              "\n",
              "    .dataframe thead th {\n",
              "        text-align: right;\n",
              "    }\n",
              "</style>\n",
              "<table border=\"1\" class=\"dataframe\">\n",
              "  <thead>\n",
              "    <tr style=\"text-align: right;\">\n",
              "      <th></th>\n",
              "      <th>Issue</th>\n",
              "      <th>Consumer_complaint_narrative</th>\n",
              "      <th>Issue_token</th>\n",
              "      <th>Consumer_complaint_narrative_token</th>\n",
              "    </tr>\n",
              "  </thead>\n",
              "  <tbody>\n",
              "    <tr>\n",
              "      <th>0</th>\n",
              "      <td>problem with a credit reporting companys inves...</td>\n",
              "      <td>as by law under 15 us code 1601 congressional ...</td>\n",
              "      <td>['problem', 'with', 'a', 'credit', 'reporting'...</td>\n",
              "      <td>['as', 'by', 'law', 'under', '15', 'us', 'code...</td>\n",
              "    </tr>\n",
              "    <tr>\n",
              "      <th>1</th>\n",
              "      <td>trouble during payment process</td>\n",
              "      <td>i am the personal representative of my sister ...</td>\n",
              "      <td>['trouble', 'during', 'payment', 'process']</td>\n",
              "      <td>['i', 'am', 'the', 'personal', 'representative...</td>\n",
              "    </tr>\n",
              "    <tr>\n",
              "      <th>2</th>\n",
              "      <td>incorrect information on your report</td>\n",
              "      <td>xxxx xxxx xxxx soc sec  xxxx dob xxxxxxxx addr...</td>\n",
              "      <td>['incorrect', 'information', 'on', 'your', 're...</td>\n",
              "      <td>['xxxx', 'xxxx', 'xxxx', 'soc', 'sec', 'xxxx',...</td>\n",
              "    </tr>\n",
              "    <tr>\n",
              "      <th>3</th>\n",
              "      <td>problem with a credit reporting companys inves...</td>\n",
              "      <td>first progress card was notified throughout th...</td>\n",
              "      <td>['problem', 'with', 'a', 'credit', 'reporting'...</td>\n",
              "      <td>['first', 'progress', 'card', 'was', 'notified...</td>\n",
              "    </tr>\n",
              "    <tr>\n",
              "      <th>4</th>\n",
              "      <td>attempts to collect debt not owed</td>\n",
              "      <td>i got an email from my credit card company abo...</td>\n",
              "      <td>['attempts', 'to', 'collect', 'debt', 'not', '...</td>\n",
              "      <td>['i', 'got', 'an', 'email', 'from', 'my', 'cre...</td>\n",
              "    </tr>\n",
              "    <tr>\n",
              "      <th>...</th>\n",
              "      <td>...</td>\n",
              "      <td>...</td>\n",
              "      <td>...</td>\n",
              "      <td>...</td>\n",
              "    </tr>\n",
              "    <tr>\n",
              "      <th>1122707</th>\n",
              "      <td>fees</td>\n",
              "      <td>well i called citi on xxxxxxxx16 to determine ...</td>\n",
              "      <td>['fees']</td>\n",
              "      <td>['well', 'i', 'called', 'citi', 'on', 'xxxxxxx...</td>\n",
              "    </tr>\n",
              "    <tr>\n",
              "      <th>1122708</th>\n",
              "      <td>fees</td>\n",
              "      <td>american express gift cards charged 6000 in in...</td>\n",
              "      <td>['fees']</td>\n",
              "      <td>['american', 'express', 'gift', 'cards', 'char...</td>\n",
              "    </tr>\n",
              "    <tr>\n",
              "      <th>1122709</th>\n",
              "      <td>applied for loandid not receive money</td>\n",
              "      <td>i applied for a loan worth up to xxxx dollars ...</td>\n",
              "      <td>['applied', 'for', 'loandid', 'not', 'receive'...</td>\n",
              "      <td>['i', 'applied', 'for', 'a', 'loan', 'worth', ...</td>\n",
              "    </tr>\n",
              "    <tr>\n",
              "      <th>1122710</th>\n",
              "      <td>charged bank acct wrong day or amt</td>\n",
              "      <td>big picture loans fraudulent practices receive...</td>\n",
              "      <td>['charged', 'bank', 'acct', 'wrong', 'day', 'o...</td>\n",
              "      <td>['big', 'picture', 'loans', 'fraudulent', 'pra...</td>\n",
              "    </tr>\n",
              "    <tr>\n",
              "      <th>1122711</th>\n",
              "      <td>applied for loandid not receive money</td>\n",
              "      <td>i applied for a loan and did nt receive any mo...</td>\n",
              "      <td>['applied', 'for', 'loandid', 'not', 'receive'...</td>\n",
              "      <td>['i', 'applied', 'for', 'a', 'loan', 'and', 'd...</td>\n",
              "    </tr>\n",
              "  </tbody>\n",
              "</table>\n",
              "<p>1122712 rows × 4 columns</p>\n",
              "</div>"
            ],
            "text/plain": [
              "                                                     Issue  \\\n",
              "0        problem with a credit reporting companys inves...   \n",
              "1                           trouble during payment process   \n",
              "2                     incorrect information on your report   \n",
              "3        problem with a credit reporting companys inves...   \n",
              "4                        attempts to collect debt not owed   \n",
              "...                                                    ...   \n",
              "1122707                                               fees   \n",
              "1122708                                               fees   \n",
              "1122709              applied for loandid not receive money   \n",
              "1122710                 charged bank acct wrong day or amt   \n",
              "1122711              applied for loandid not receive money   \n",
              "\n",
              "                              Consumer_complaint_narrative  \\\n",
              "0        as by law under 15 us code 1601 congressional ...   \n",
              "1        i am the personal representative of my sister ...   \n",
              "2        xxxx xxxx xxxx soc sec  xxxx dob xxxxxxxx addr...   \n",
              "3        first progress card was notified throughout th...   \n",
              "4        i got an email from my credit card company abo...   \n",
              "...                                                    ...   \n",
              "1122707  well i called citi on xxxxxxxx16 to determine ...   \n",
              "1122708  american express gift cards charged 6000 in in...   \n",
              "1122709  i applied for a loan worth up to xxxx dollars ...   \n",
              "1122710  big picture loans fraudulent practices receive...   \n",
              "1122711  i applied for a loan and did nt receive any mo...   \n",
              "\n",
              "                                               Issue_token  \\\n",
              "0        ['problem', 'with', 'a', 'credit', 'reporting'...   \n",
              "1              ['trouble', 'during', 'payment', 'process']   \n",
              "2        ['incorrect', 'information', 'on', 'your', 're...   \n",
              "3        ['problem', 'with', 'a', 'credit', 'reporting'...   \n",
              "4        ['attempts', 'to', 'collect', 'debt', 'not', '...   \n",
              "...                                                    ...   \n",
              "1122707                                           ['fees']   \n",
              "1122708                                           ['fees']   \n",
              "1122709  ['applied', 'for', 'loandid', 'not', 'receive'...   \n",
              "1122710  ['charged', 'bank', 'acct', 'wrong', 'day', 'o...   \n",
              "1122711  ['applied', 'for', 'loandid', 'not', 'receive'...   \n",
              "\n",
              "                        Consumer_complaint_narrative_token  \n",
              "0        ['as', 'by', 'law', 'under', '15', 'us', 'code...  \n",
              "1        ['i', 'am', 'the', 'personal', 'representative...  \n",
              "2        ['xxxx', 'xxxx', 'xxxx', 'soc', 'sec', 'xxxx',...  \n",
              "3        ['first', 'progress', 'card', 'was', 'notified...  \n",
              "4        ['i', 'got', 'an', 'email', 'from', 'my', 'cre...  \n",
              "...                                                    ...  \n",
              "1122707  ['well', 'i', 'called', 'citi', 'on', 'xxxxxxx...  \n",
              "1122708  ['american', 'express', 'gift', 'cards', 'char...  \n",
              "1122709  ['i', 'applied', 'for', 'a', 'loan', 'worth', ...  \n",
              "1122710  ['big', 'picture', 'loans', 'fraudulent', 'pra...  \n",
              "1122711  ['i', 'applied', 'for', 'a', 'loan', 'and', 'd...  \n",
              "\n",
              "[1122712 rows x 4 columns]"
            ]
          },
          "execution_count": 39,
          "metadata": {},
          "output_type": "execute_result"
        }
      ],
      "source": [
        "A3"
      ]
    },
    {
      "cell_type": "code",
      "execution_count": null,
      "id": "cb9e7628",
      "metadata": {
        "id": "cb9e7628"
      },
      "outputs": [],
      "source": [
        "#df.drop(['B', 'C'], axis=1)\n",
        "A3 = A3.drop(['Issue', 'Consumer_complaint_narrative'], axis=1)"
      ]
    },
    {
      "cell_type": "code",
      "execution_count": null,
      "id": "1fc07b85",
      "metadata": {
        "id": "1fc07b85",
        "outputId": "0f5b3fe9-f759-476b-af4c-3276e7c17440"
      },
      "outputs": [
        {
          "data": {
            "text/plain": [
              "(1122712, 2)"
            ]
          },
          "execution_count": 44,
          "metadata": {},
          "output_type": "execute_result"
        }
      ],
      "source": [
        "A3.shape"
      ]
    },
    {
      "cell_type": "code",
      "execution_count": null,
      "id": "27a3de4f",
      "metadata": {
        "id": "27a3de4f"
      },
      "outputs": [],
      "source": [
        "#stop = stopwords.words('english')\n",
        "#stop"
      ]
    },
    {
      "cell_type": "markdown",
      "id": "e0d1d057",
      "metadata": {
        "id": "e0d1d057"
      },
      "source": [
        "# stop words"
      ]
    },
    {
      "cell_type": "code",
      "execution_count": null,
      "id": "6a7636dd",
      "metadata": {
        "id": "6a7636dd"
      },
      "outputs": [],
      "source": [
        " #df['Title'].apply(lambda x: [item for item in x if item not in stop])\n",
        "A3['Issue_token'] = A3['Issue_token'].apply(lambda x: [item for item in x if item not in stop])\n"
      ]
    },
    {
      "cell_type": "code",
      "execution_count": null,
      "id": "e46c6565",
      "metadata": {
        "id": "e46c6565"
      },
      "outputs": [],
      "source": [
        "A3['Consumer_complaint_narrative_token']=A3['Consumer_complaint_narrative_token'] = A3['Consumer_complaint_narrative_token'].apply(lambda x: [item for item in x if item not in stop])"
      ]
    },
    {
      "cell_type": "code",
      "execution_count": null,
      "id": "69445cc5",
      "metadata": {
        "id": "69445cc5"
      },
      "outputs": [],
      "source": [
        "#tokens= ['positive_tweets.csv'].apply(lambda x: [item for item in x if item not in stop])"
      ]
    },
    {
      "cell_type": "code",
      "execution_count": null,
      "id": "56bc4cce",
      "metadata": {
        "id": "56bc4cce"
      },
      "outputs": [],
      "source": [
        "A3"
      ]
    },
    {
      "cell_type": "code",
      "execution_count": null,
      "id": "7893b26d",
      "metadata": {
        "id": "7893b26d"
      },
      "outputs": [],
      "source": [
        "2+2"
      ]
    },
    {
      "cell_type": "code",
      "execution_count": null,
      "id": "bba8bfaa",
      "metadata": {
        "id": "bba8bfaa"
      },
      "outputs": [],
      "source": [
        ""
      ]
    },
    {
      "cell_type": "markdown",
      "id": "9c17e7fb",
      "metadata": {
        "id": "9c17e7fb"
      },
      "source": [
        "# 'XXXXXXXXXXXXXXXXXXXXXXXXX'"
      ]
    },
    {
      "cell_type": "code",
      "execution_count": null,
      "id": "10f72681",
      "metadata": {
        "id": "10f72681"
      },
      "outputs": [],
      "source": [
        "#lower case > remove contractions >"
      ]
    },
    {
      "cell_type": "code",
      "execution_count": null,
      "id": "40d1fac1",
      "metadata": {
        "id": "40d1fac1"
      },
      "outputs": [],
      "source": [
        "#df = df.astype(str)\n",
        "#A = A.astype(str)"
      ]
    },
    {
      "cell_type": "code",
      "execution_count": null,
      "id": "641ff6cf",
      "metadata": {
        "id": "641ff6cf"
      },
      "outputs": [],
      "source": [
        "X = A.Consumer_complaint_narrative\n",
        "y = A.Issue\t"
      ]
    },
    {
      "cell_type": "code",
      "execution_count": null,
      "id": "deb5fe7a",
      "metadata": {
        "id": "deb5fe7a"
      },
      "outputs": [],
      "source": [
        "X_train, X_test, y_train, y_test = train_test_split(\n",
        "     X, y, test_size=0.33, random_state=42)"
      ]
    },
    {
      "cell_type": "markdown",
      "id": "6595eb5a",
      "metadata": {
        "id": "6595eb5a"
      },
      "source": [
        "X_train"
      ]
    },
    {
      "cell_type": "code",
      "execution_count": null,
      "id": "a994be75",
      "metadata": {
        "id": "a994be75",
        "outputId": "451666e0-621e-4cd3-cc34-7a31889f8afb"
      },
      "outputs": [
        {
          "data": {
            "text/plain": [
              "54578            Written notification about debt\n",
              "50606       Incorrect information on your report\n",
              "691595    Incorrect information on credit report\n",
              "128997         Attempts to collect debt not owed\n",
              "95998       Incorrect information on your report\n",
              "                           ...                  \n",
              "110268    Incorrect information on credit report\n",
              "259178        False statements or representation\n",
              "131932                Struggling to pay mortgage\n",
              "671155     Cont'd attempts collect debt not owed\n",
              "121958           Written notification about debt\n",
              "Name: Issue, Length: 752217, dtype: string"
            ]
          },
          "execution_count": 227,
          "metadata": {},
          "output_type": "execute_result"
        }
      ],
      "source": [
        "y_train"
      ]
    },
    {
      "cell_type": "markdown",
      "id": "4f3a55fe",
      "metadata": {
        "id": "4f3a55fe"
      },
      "source": [
        "# https://medium.com/analytics-vidhya/nlp-tutorial-for-text-classification-in-python-8f19cd17b49e"
      ]
    },
    {
      "cell_type": "markdown",
      "id": "68d5ca6a",
      "metadata": {
        "id": "68d5ca6a"
      },
      "source": [
        "## Now preprocess the data\n",
        "\n",
        "to lower, remove punctuation, remove odd characters, remove stop words,tfidf"
      ]
    },
    {
      "cell_type": "code",
      "execution_count": null,
      "id": "35ec134d",
      "metadata": {
        "id": "35ec134d",
        "outputId": "8fda6d1f-d708-4d9c-9d8a-f0724630b989"
      },
      "outputs": [
        {
          "data": {
            "text/plain": [
              "0         problem with a credit reporting company's inve...\n",
              "1                            trouble during payment process\n",
              "2                      incorrect information on your report\n",
              "3         problem with a credit reporting company's inve...\n",
              "4                         attempts to collect debt not owed\n",
              "                                ...                        \n",
              "327197                                                 fees\n",
              "384795                                                 fees\n",
              "652980               applied for loan/did not receive money\n",
              "714530                   charged bank acct wrong day or amt\n",
              "680233               applied for loan/did not receive money\n",
              "Name: Issue, Length: 1122712, dtype: string"
            ]
          },
          "execution_count": 230,
          "metadata": {},
          "output_type": "execute_result"
        }
      ],
      "source": [
        "#df['column name'].str.lower()\n",
        "A['Issue'].str.lower()"
      ]
    },
    {
      "cell_type": "code",
      "execution_count": null,
      "id": "11082070",
      "metadata": {
        "id": "11082070",
        "outputId": "8d8e2599-7234-412f-d06d-a7cab20b6b6f"
      },
      "outputs": [
        {
          "data": {
            "text/plain": [
              "0         as by law, under 15 u.s code 1601- congression...\n",
              "1         i am the personal representative of my sister ...\n",
              "2         xxxx, xxxx xxxx soc sec # xxxx dob xx/xx/xxxx ...\n",
              "3         first progress card was notified throughout th...\n",
              "4         i got an email from my credit card company abo...\n",
              "                                ...                        \n",
              "327197    well, i called citi on xxxx/xxxx/16 to determi...\n",
              "384795    american express gift cards charged {$60.00} i...\n",
              "652980    i applied for a loan worth up to xxxx dollars ...\n",
              "714530    big picture loans. fraudulent practices. recei...\n",
              "680233    i applied for a loan and did n't receive any m...\n",
              "Name: Consumer_complaint_narrative, Length: 1122712, dtype: string"
            ]
          },
          "execution_count": 231,
          "metadata": {},
          "output_type": "execute_result"
        }
      ],
      "source": [
        "A['Consumer_complaint_narrative'].str.lower()"
      ]
    },
    {
      "cell_type": "code",
      "execution_count": null,
      "id": "dc80855a",
      "metadata": {
        "id": "dc80855a",
        "outputId": "a682467f-7240-461c-da34-00d3836a4a57"
      },
      "outputs": [
        {
          "data": {
            "text/plain": [
              "54578     Capstone collections working for XXXX XXXX I m...\n",
              "50606     I have a student loan with XXXX XXXX XXXX. I h...\n",
              "691595    I disputed a public record ( tax lien ) that I...\n",
              "128997    4 credit card accounts opened in XX/XX/XXXX-XX...\n",
              "95998     I am a victim of ID Theft since XXXX I have be...\n",
              "                                ...                        \n",
              "110268    I did not possess any working credit cards aft...\n",
              "259178    In XXXX I filed for bankruptcy, XXXX XXXX was ...\n",
              "131932    Program Highlights Building on the concept of ...\n",
              "671155    I have several accounts that are listed with t...\n",
              "121958    1. Caine & Weiner Company , Inc has failed to ...\n",
              "Name: Consumer_complaint_narrative, Length: 752217, dtype: string"
            ]
          },
          "execution_count": 232,
          "metadata": {},
          "output_type": "execute_result"
        }
      ],
      "source": [
        ""
      ]
    },
    {
      "cell_type": "code",
      "execution_count": null,
      "id": "d880f8ed",
      "metadata": {
        "id": "d880f8ed"
      },
      "outputs": [],
      "source": [
        "X_train = X_train.str.replace(r'[^\\w\\s]+', '')"
      ]
    },
    {
      "cell_type": "code",
      "execution_count": null,
      "id": "1fec8170",
      "metadata": {
        "id": "1fec8170"
      },
      "outputs": [],
      "source": [
        "X_train =X_train.str.lower()"
      ]
    },
    {
      "cell_type": "code",
      "execution_count": null,
      "id": "fce5c07b",
      "metadata": {
        "id": "fce5c07b"
      },
      "outputs": [],
      "source": [
        "X_train"
      ]
    },
    {
      "cell_type": "markdown",
      "id": "137126f9",
      "metadata": {
        "id": "137126f9"
      },
      "source": [
        "### Remove contractions"
      ]
    },
    {
      "cell_type": "code",
      "execution_count": null,
      "id": "dcf345a5",
      "metadata": {
        "id": "dcf345a5"
      },
      "outputs": [],
      "source": [
        "contractions = {\n",
        "  \"alice's\": 'alice',\n",
        "  \"ain't\": \"am not\",\n",
        "  \"aren't\": \"are not\",\n",
        "  \"can't\": \"cannot\",\n",
        "  \"can't've\": \"cannot have\",\n",
        "  \"'cause\": \"because\",\n",
        "  \"could've\": \"could have\",\n",
        "  \"couldn't\": \"could not\",\n",
        "  \"couldn't've\": \"could not have\",\n",
        "  \"didn't\": \"did not\",\n",
        "  \"doesn't\": \"does not\",\n",
        "  \"don't\": \"do not\",\n",
        "  \"hadn't\": \"had not\",\n",
        "  \"hadn't've\": \"had not have\",\n",
        "  \"hasn't\": \"has not\",\n",
        "  \"haven't\": \"have not\",\n",
        "  \"he'd\": \"he would\",\n",
        "  \"he'd've\": \"he would have\",\n",
        "  \"he'll\": \"he will\",\n",
        "  \"he'll've\": \"he will have\",\n",
        "  \"he's\": \"he is\",\n",
        "  \"how'd\": \"how did\",\n",
        "  \"how'd'y\": \"how do you\",\n",
        "  \"how'll\": \"how will\",\n",
        "  \"how's\": \"how is\",\n",
        "  \"I'd\": \"I would\",\n",
        "  \"I'd've\": \"I would have\",\n",
        "  \"I'll\": \"I will\",\n",
        "  \"I'll've\": \"I will have\",\n",
        "  \"I'm\": \"I am\",\n",
        "  \"I've\": \"I have\",\n",
        "  \"isn't\": \"is not\",\n",
        "  \"it'd\": \"it had\",\n",
        "  \"it'd've\": \"it would have\",\n",
        "  \"it'll\": \"it will\",\n",
        "  \"it'll've\": \"it will have\",\n",
        "  \"it's\": \"it is\",\n",
        "  \"let's\": \"let us\",\n",
        "  \"ma'am\": \"madam\",\n",
        "  \"mayn't\": \"may not\",\n",
        "  \"might've\": \"might have\",\n",
        "  \"mightn't\": \"might not\",\n",
        "  \"mightn't've\": \"might not have\",\n",
        "  \"must've\": \"must have\",\n",
        "  \"mustn't\": \"must not\",\n",
        "  \"mustn't've\": \"must not have\",\n",
        "  \"needn't\": \"need not\",\n",
        "  \"needn't've\": \"need not have\",\n",
        "  \"o'clock\": \"of the clock\",\n",
        "  \"oughtn't\": \"ought not\",\n",
        "  \"oughtn't've\": \"ought not have\",\n",
        "  \"shan't\": \"shall not\",\n",
        "  \"sha'n't\": \"shall not\",\n",
        "  \"shan't've\": \"shall not have\",\n",
        "  \"she'd\": \"she would\",\n",
        "  \"she'd've\": \"she would have\",\n",
        "  \"she'll\": \"she will\",\n",
        "  \"she'll've\": \"she will have\",\n",
        "  \"she's\": \"she is\",\n",
        "  \"should've\": \"should have\",\n",
        "  \"shouldn't\": \"should not\",\n",
        "  \"shouldn't've\": \"should not have\",\n",
        "  \"so've\": \"so have\",\n",
        "  \"so's\": \"so is\",\n",
        "  \"that'd\": \"that would\",\n",
        "  \"that'd've\": \"that would have\",\n",
        "  \"that's\": \"that is\",\n",
        "  \"there'd\": \"there had\",\n",
        "  \"there'd've\": \"there would have\",\n",
        "  \"there's\": \"there is\",\n",
        "  \"they'd\": \"they would\",\n",
        "  \"they'd've\": \"they would have\",\n",
        "  \"they'll\": \"they will\",\n",
        "  \"they'll've\": \"they will have\",\n",
        "  \"they're\": \"they are\",\n",
        "  \"they've\": \"they have\",\n",
        "  \"to've\": \"to have\",\n",
        "  \"wasn't\": \"was not\",\n",
        "  \"we'd\": \"we had\",\n",
        "  \"we'd've\": \"we would have\",\n",
        "  \"we'll\": \"we will\",\n",
        "  \"we'll've\": \"we will have\",\n",
        "  \"we're\": \"we are\",\n",
        "  \"we've\": \"we have\",\n",
        "  \"weren't\": \"were not\",\n",
        "  \"what'll\": \"what will\",\n",
        "  \"what'll've\": \"what will have\",\n",
        "  \"what're\": \"what are\",\n",
        "  \"what's\": \"what is\",\n",
        "  \"what've\": \"what have\",\n",
        "  \"when's\": \"when is\",\n",
        "  \"when've\": \"when have\",\n",
        "  \"where'd\": \"where did\",\n",
        "  \"where's\": \"where is\",\n",
        "  \"where've\": \"where have\",\n",
        "  \"who'll\": \"who will\",\n",
        "  \"who'll've\": \"who will have\",\n",
        "  \"who's\": \"who is\",\n",
        "  \"who've\": \"who have\",\n",
        "  \"why's\": \"why is\",\n",
        "  \"why've\": \"why have\",\n",
        "  \"will've\": \"will have\",\n",
        "  \"won't\": \"will not\",\n",
        "  \"won't've\": \"will not have\",\n",
        "  \"would've\": \"would have\",\n",
        "  \"wouldn't\": \"would not\",\n",
        "  \"wouldn't've\": \"would not have\",\n",
        "  \"y'all\": \"you all\",\n",
        "  \"y'alls\": \"you alls\",\n",
        "  \"y'all'd\": \"you all would\",\n",
        "  \"y'all'd've\": \"you all would have\",\n",
        "  \"y'all're\": \"you all are\",\n",
        "  \"y'all've\": \"you all have\",\n",
        "  \"you'd\": \"you had\",\n",
        "  \"you'd've\": \"you would have\",\n",
        "  \"you'll\": \"you you will\",\n",
        "  \"you'll've\": \"you you will have\",\n",
        "  \"you're\": \"you are\",\n",
        "  \"you've\": \"you have\"\n",
        "}"
      ]
    },
    {
      "cell_type": "code",
      "execution_count": null,
      "id": "f685811e",
      "metadata": {
        "id": "f685811e"
      },
      "outputs": [],
      "source": [
        "text.to_string()"
      ]
    },
    {
      "cell_type": "code",
      "execution_count": null,
      "id": "0923a8c9",
      "metadata": {
        "id": "0923a8c9"
      },
      "outputs": [],
      "source": [
        "#text = X_train\n",
        "\n",
        "#for token in text.str.split():\n",
        "    if token in contractions:\n",
        "            #print(token, '=>', contractions[token])\n",
        "            text = text.replace(token, contractions[token])\n",
        "\n",
        "#print(text[0:100])"
      ]
    },
    {
      "cell_type": "markdown",
      "id": "fb68d837",
      "metadata": {
        "id": "fb68d837"
      },
      "source": [
        "## Tokenize"
      ]
    },
    {
      "cell_type": "code",
      "execution_count": null,
      "id": "6fa6faac",
      "metadata": {
        "id": "6fa6faac"
      },
      "outputs": [],
      "source": [
        "A2 = A\n",
        "A2"
      ]
    },
    {
      "cell_type": "code",
      "execution_count": null,
      "id": "dc61512f",
      "metadata": {
        "id": "dc61512f"
      },
      "outputs": [],
      "source": [
        "A2['Issue'].str.lower()"
      ]
    },
    {
      "cell_type": "code",
      "execution_count": null,
      "id": "534a8474",
      "metadata": {
        "id": "534a8474"
      },
      "outputs": [],
      "source": [
        "A2['Consumer_complaint_narrative'].str.lower()"
      ]
    },
    {
      "cell_type": "code",
      "execution_count": null,
      "id": "4d4fc9b9",
      "metadata": {
        "id": "4d4fc9b9"
      },
      "outputs": [],
      "source": [
        "A2 = A2.astype(str)"
      ]
    },
    {
      "cell_type": "code",
      "execution_count": null,
      "id": "cfd63eaa",
      "metadata": {
        "id": "cfd63eaa"
      },
      "outputs": [],
      "source": [
        "for token in A2.split():\n",
        "    if token in contractions:\n",
        "            #print(token, '=>', contractions[token])\n",
        "            A2 = A2.replace(token, contractions[token])\n",
        "\n",
        "print(A2[0:100])"
      ]
    },
    {
      "cell_type": "code",
      "execution_count": null,
      "id": "169934e0",
      "metadata": {
        "id": "169934e0"
      },
      "outputs": [],
      "source": [
        "A2.apply(for token in A2.split():\n",
        "    if token in contractions:\n",
        "            #print(token, '=>', contractions[token])\n",
        "            A2 = A2.replace(token, contractions[token]))"
      ]
    },
    {
      "cell_type": "code",
      "execution_count": null,
      "id": "a6b01393",
      "metadata": {
        "id": "a6b01393"
      },
      "outputs": [],
      "source": [
        ""
      ]
    }
  ],
  "metadata": {
    "kernelspec": {
      "display_name": "Python 3 (ipykernel)",
      "language": "python",
      "name": "python3"
    },
    "language_info": {
      "codemirror_mode": {
        "name": "ipython",
        "version": 3
      },
      "file_extension": ".py",
      "mimetype": "text/x-python",
      "name": "python",
      "nbconvert_exporter": "python",
      "pygments_lexer": "ipython3",
      "version": "3.9.7"
    },
    "colab": {
      "name": "Complaints 4_20_1.ipynb",
      "provenance": [],
      "include_colab_link": true
    }
  },
  "nbformat": 4,
  "nbformat_minor": 5
}