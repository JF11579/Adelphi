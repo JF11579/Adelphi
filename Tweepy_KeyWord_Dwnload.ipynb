{
  "nbformat": 4,
  "nbformat_minor": 0,
  "metadata": {
    "colab": {
      "name": "Tweepy_KeyWord_Dwnload.ipynb",
      "provenance": [],
      "collapsed_sections": [],
      "authorship_tag": "ABX9TyPQRYvdQoS3EpTeuefDfI0r",
      "include_colab_link": true
    },
    "kernelspec": {
      "name": "python3",
      "display_name": "Python 3"
    },
    "language_info": {
      "name": "python"
    }
  },
  "cells": [
    {
      "cell_type": "markdown",
      "metadata": {
        "id": "view-in-github",
        "colab_type": "text"
      },
      "source": [
        "<a href=\"https://colab.research.google.com/github/JF11579/Adelphi/blob/main/Tweepy_KeyWord_Dwnload.ipynb\" target=\"_parent\"><img src=\"https://colab.research.google.com/assets/colab-badge.svg\" alt=\"Open In Colab\"/></a>"
      ]
    },
    {
      "cell_type": "markdown",
      "source": [
        "https://gist.github.com/vickyqian/f70e9ab3910c7c290d9d715491cde44c"
      ],
      "metadata": {
        "id": "lCvvUaPvxueu"
      }
    },
    {
      "cell_type": "code",
      "execution_count": 1,
      "metadata": {
        "id": "L3vQWYmfxpkL"
      },
      "outputs": [],
      "source": [
        "import tweepy\n",
        "import csv\n",
        "import pandas as pd"
      ]
    },
    {
      "cell_type": "code",
      "source": [
        "####input your credentials here\n",
        "consumer_key = 'iztijYfndw0YxyFBA6F6PDaY2'\n",
        "consumer_secret = 'uYVFbIW4MADa9nTVU5zOlE82dUBt9BNXbArmJvvJqSOnd4RppL'\n",
        "access_token = '518106503-6HH7VyCVLTFimytHoKcLKO97IMGwYX1iNtVxt5EH'\n",
        "access_token_secret = 'lp25Sf1pTajAuTffQsB221DsiFsK8qLQe70YgMbDrFinw'"
      ],
      "metadata": {
        "id": "EIESPfx-xzym"
      },
      "execution_count": 2,
      "outputs": []
    },
    {
      "cell_type": "code",
      "source": [
        "auth = tweepy.OAuthHandler(consumer_key, consumer_secret)\n",
        "auth.set_access_token(access_token, access_token_secret)\n",
        "api = tweepy.API(auth,wait_on_rate_limit=True)"
      ],
      "metadata": {
        "id": "S6kHuhZDyNw2"
      },
      "execution_count": 3,
      "outputs": []
    },
    {
      "cell_type": "code",
      "source": [
        "#####United Airlines\n",
        "# Open/Create a file to append data\n",
        "csvFile = open('ua.csv', 'a')\n",
        "#Use csv Writer\n",
        "csvWriter = csv.writer(csvFile)"
      ],
      "metadata": {
        "id": "YDIEAdQhyNsg"
      },
      "execution_count": 4,
      "outputs": []
    },
    {
      "cell_type": "code",
      "source": [
        "for tweet in tweepy.Cursor(api.search,q=\"#shortsale\",count=100,\n",
        "                           lang=\"en\",\n",
        "                           since=\"2021-01-01\").items():\n",
        "    print (tweet.created_at, tweet.text)\n",
        "    csvWriter.writerow([tweet.created_at, tweet.text.encode('utf-8')])"
      ],
      "metadata": {
        "colab": {
          "base_uri": "https://localhost:8080/"
        },
        "id": "pDV2hEMbyNpQ",
        "outputId": "96a16c6b-aa3e-432d-b461-645a8c97faa4"
      },
      "execution_count": 6,
      "outputs": [
        {
          "output_type": "stream",
          "name": "stdout",
          "text": [
            "2022-04-01 19:58:46 Exposure to a #ShortSale … #RealEstateInvesting #realestate https://t.co/M5tFEU67G5\n",
            "2022-04-01 18:00:15 #shortsale tweets and news https://t.co/dA8lzWmYHT\n",
            "2022-04-01 06:12:08 Exposure to a #ShortSale … #RealEstateInvesting #realestate https://t.co/M5tFEU67G5\n",
            "2022-04-01 01:49:42 #shortsale top story: https://t.co/ELEfFGN5wj https://t.co/tOuPy9jvD1, see more https://t.co/eGxeVSqDUM\n",
            "2022-03-31 23:54:45 #shortsale top story: @CondoVulturesRE: 'Only 7 Distressed Condos - Both Shortsales And Real Estate Owned (REO) By… https://t.co/OcplI2cwn3\n",
            "2022-03-31 22:00:44 RT @CondoVulturesRE: Only 7 Distressed Condos - Both Shortsales And Real Estate Owned (REO) By Lenders - Sold In The Bal Harbour-Surfside-B…\n",
            "2022-03-31 21:58:54 RT @CondoVulturesRE: Only 7 Distressed Condos - Both Shortsales And Real Estate Owned (REO) By Lenders - Sold In The Bal Harbour-Surfside-B…\n",
            "2022-03-31 21:55:05 Only 7 Distressed Condos - Both Shortsales And Real Estate Owned (REO) By Lenders - Sold In The Bal Harbour-Surfsid… https://t.co/Si3hlAdmw5\n",
            "2022-03-31 21:31:36 Learn how to snag a #shortsale home. #realestate  https://t.co/nv3I2VSxD6 https://t.co/8nsZU7A96y\n",
            "2022-03-31 18:00:16 #shortsale tweets and news https://t.co/dA8lzWmYHT\n",
            "2022-03-31 16:46:56 Exposure to a #ShortSale … #RealEstateInvesting #realestate https://t.co/M5tFEU67G5\n",
            "2022-03-31 11:59:58 #shortsale top story: L@@K 4710 Springfield Blvd Jacksonville Florida 32206 https://t.co/i9K5C1x2dZ, see more https://t.co/eGxeVSqDUM\n",
            "2022-03-31 10:10:02 4710 Springfield Blvd Jacksonville Florida 32206 --  https://t.co/n3lfZltDdc …  -#TLC #handyman#needswork,… https://t.co/yTVh46Mc6K\n",
            "2022-03-31 02:36:57 Exposure to a #ShortSale … #RealEstateInvesting #realestate https://t.co/M5tFEU67G5\n",
            "2022-03-30 18:00:15 #shortsale tweets and news https://t.co/dA8lzWmYHT\n",
            "2022-03-30 17:53:34 Exposure to a #ShortSale … #RealEstateInvesting #realestate https://t.co/5BPg4ojbFM\n",
            "2022-03-29 18:00:15 #shortsale tweets and news https://t.co/dA8lzWmYHT\n",
            "2022-03-29 03:44:55 #shortsale top story: @DwellInvestment: 'Facing Foreclosure?  Need to sell your property fast?  For Cash?  We can h… https://t.co/4ILfOPAI0p\n",
            "2022-03-29 00:46:21 Townhouse for #Auction! #ShortSale #realestate https://t.co/d3QzL4nVBB https://t.co/CkCm7CWaxm\n",
            "2022-03-29 00:01:11 Facing Foreclosure?  Need to sell your property fast?  For Cash?  We can help. Call us at 806-318-1325.… https://t.co/g7b7Wxicpw\n",
            "2022-03-28 18:00:16 #shortsale tweets and news https://t.co/dA8lzWmYHT\n",
            "2022-03-28 17:59:26 #shortsale top story: @kingshortsales: 'This property had a sheriff sale date scheduled in one month. I was able to… https://t.co/vTPSQgdLVd\n",
            "2022-03-28 16:42:21 This property had a sheriff sale date scheduled in one month. I was able to postpone the sale and buy this property… https://t.co/pkB4nIKJ4z\n",
            "2022-03-28 04:48:12 Exposure to a #ShortSale … #RealEstateInvesting #realestate https://t.co/M5tFEU67G5\n",
            "2022-03-28 01:34:26 Townhouse for #Auction! #ShortSale #realestate https://t.co/GOTrgxuWKb https://t.co/0O4NfVu1JA\n",
            "2022-03-27 18:00:15 #shortsale tweets and news https://t.co/dA8lzWmYHT\n",
            "2022-03-27 04:10:03 4710 Springfield Blvd Jacksonville Florida 32206 --  https://t.co/kUkQKlpqTQ …  -#TLC #handyman#needswork,… https://t.co/Yz6JccBz6O\n",
            "2022-03-27 02:05:49 Exposure to a #ShortSale … #RealEstateInvesting #realestate https://t.co/5BPg4ojbFM\n",
            "2022-03-26 18:00:15 #shortsale tweets and news https://t.co/dA8lzWmYHT\n",
            "2022-03-26 13:01:23 With the pandemic pause over, NYC’s Black neighborhoods brace for foreclosures  https://t.co/yMyRv29nyo #homeowners… https://t.co/oBvzz7Kb6F\n",
            "2022-03-26 11:16:37 Townhouse for #Auction! #ShortSale #realestate https://t.co/GOTrgxuWKb https://t.co/YpB5UP5n3Y\n",
            "2022-03-25 19:12:08 Exposure to a #ShortSale … #RealEstateInvesting #realestate https://t.co/5BPg4ojbFM\n",
            "2022-03-25 18:00:15 #shortsale tweets and news https://t.co/dA8lzWmYHT\n",
            "2022-03-25 11:30:05 🏠💲Submit your address and see what kind of cash offers you can get on your home. Piece of cake! 🎂Learn more today a… https://t.co/msfW7OgClj\n",
            "2022-03-25 04:13:34 Exposure to a #ShortSale … #RealEstateInvesting #realestate https://t.co/M5tFEU67G5\n",
            "2022-03-25 03:49:44 #shortsale top story: https://t.co/ELEfFGN5wj https://t.co/10ZtzIfnpW, see more https://t.co/eGxeVSqDUM\n",
            "2022-03-24 18:00:16 #shortsale tweets and news https://t.co/dA8lzWmYHT\n"
          ]
        }
      ]
    },
    {
      "cell_type": "code",
      "source": [
        "###"
      ],
      "metadata": {
        "id": "0nxMjAUB02qd"
      },
      "execution_count": null,
      "outputs": []
    },
    {
      "cell_type": "code",
      "source": [
        "columns = ['Time' ,'User' , 'Tweet' ]"
      ],
      "metadata": {
        "id": "rpNHZhv_036a"
      },
      "execution_count": 11,
      "outputs": []
    },
    {
      "cell_type": "code",
      "source": [
        "data = []"
      ],
      "metadata": {
        "id": "sI0ugHWf0681"
      },
      "execution_count": 12,
      "outputs": []
    },
    {
      "cell_type": "code",
      "source": [
        "for tweet in tweepy.Cursor(api.search,q=\"#shortsale\",count=100,\n",
        "                           lang=\"en\",\n",
        "                           since=\"2021-01-01\").items():\n",
        "  data.append([tweet.created_at , tweet.user.screen_name , tweet.text])"
      ],
      "metadata": {
        "id": "C-V2nLOI0-VL"
      },
      "execution_count": 13,
      "outputs": []
    },
    {
      "cell_type": "code",
      "source": [
        "print(data)"
      ],
      "metadata": {
        "colab": {
          "base_uri": "https://localhost:8080/"
        },
        "id": "2ztYlwG50-Lr",
        "outputId": "f0f211fd-4b6f-4ed4-abb6-a7ed7d35d76d"
      },
      "execution_count": 14,
      "outputs": [
        {
          "output_type": "stream",
          "name": "stdout",
          "text": [
            "[[datetime.datetime(2022, 4, 1, 19, 58, 46), 'handsonreinvest', 'Exposure to a #ShortSale … #RealEstateInvesting #realestate https://t.co/M5tFEU67G5'], [datetime.datetime(2022, 4, 1, 18, 0, 15), 'SnappyDesk', '#shortsale tweets and news https://t.co/dA8lzWmYHT'], [datetime.datetime(2022, 4, 1, 6, 12, 8), 'handsonreinvest', 'Exposure to a #ShortSale … #RealEstateInvesting #realestate https://t.co/M5tFEU67G5'], [datetime.datetime(2022, 4, 1, 1, 49, 42), 'SnappyDesk', '#shortsale top story: https://t.co/ELEfFGN5wj https://t.co/tOuPy9jvD1, see more https://t.co/eGxeVSqDUM'], [datetime.datetime(2022, 3, 31, 23, 54, 45), 'SnappyDesk', \"#shortsale top story: @CondoVulturesRE: 'Only 7 Distressed Condos - Both Shortsales And Real Estate Owned (REO) By… https://t.co/OcplI2cwn3\"], [datetime.datetime(2022, 3, 31, 22, 0, 44), 'CondoVultures', 'RT @CondoVulturesRE: Only 7 Distressed Condos - Both Shortsales And Real Estate Owned (REO) By Lenders - Sold In The Bal Harbour-Surfside-B…'], [datetime.datetime(2022, 3, 31, 21, 58, 54), 'CraneSpotters', 'RT @CondoVulturesRE: Only 7 Distressed Condos - Both Shortsales And Real Estate Owned (REO) By Lenders - Sold In The Bal Harbour-Surfside-B…'], [datetime.datetime(2022, 3, 31, 21, 55, 5), 'CondoVulturesRE', 'Only 7 Distressed Condos - Both Shortsales And Real Estate Owned (REO) By Lenders - Sold In The Bal Harbour-Surfsid… https://t.co/Si3hlAdmw5'], [datetime.datetime(2022, 3, 31, 21, 31, 36), '3DRealtor', 'Learn how to snag a #shortsale home. #realestate  https://t.co/nv3I2VSxD6 https://t.co/8nsZU7A96y'], [datetime.datetime(2022, 3, 31, 18, 0, 16), 'SnappyDesk', '#shortsale tweets and news https://t.co/dA8lzWmYHT'], [datetime.datetime(2022, 3, 31, 16, 46, 56), 'handsonreinvest', 'Exposure to a #ShortSale … #RealEstateInvesting #realestate https://t.co/M5tFEU67G5'], [datetime.datetime(2022, 3, 31, 11, 59, 58), 'SnappyDesk', '#shortsale top story: L@@K 4710 Springfield Blvd Jacksonville Florida 32206 https://t.co/i9K5C1x2dZ, see more https://t.co/eGxeVSqDUM'], [datetime.datetime(2022, 3, 31, 10, 10, 2), 'markinjax', '4710 Springfield Blvd Jacksonville Florida 32206 --  https://t.co/n3lfZltDdc …  -#TLC #handyman#needswork,… https://t.co/yTVh46Mc6K'], [datetime.datetime(2022, 3, 31, 2, 36, 57), 'handsonreinvest', 'Exposure to a #ShortSale … #RealEstateInvesting #realestate https://t.co/M5tFEU67G5'], [datetime.datetime(2022, 3, 30, 18, 0, 15), 'SnappyDesk', '#shortsale tweets and news https://t.co/dA8lzWmYHT'], [datetime.datetime(2022, 3, 30, 17, 53, 34), 'handsonreinvest', 'Exposure to a #ShortSale … #RealEstateInvesting #realestate https://t.co/5BPg4ojbFM'], [datetime.datetime(2022, 3, 29, 18, 0, 15), 'SnappyDesk', '#shortsale tweets and news https://t.co/dA8lzWmYHT'], [datetime.datetime(2022, 3, 29, 3, 44, 55), 'SnappyDesk', \"#shortsale top story: @DwellInvestment: 'Facing Foreclosure?  Need to sell your property fast?  For Cash?  We can h… https://t.co/4ILfOPAI0p\"], [datetime.datetime(2022, 3, 29, 0, 46, 21), 'handsonreinvest', 'Townhouse for #Auction! #ShortSale #realestate https://t.co/d3QzL4nVBB https://t.co/CkCm7CWaxm'], [datetime.datetime(2022, 3, 29, 0, 1, 11), 'DwellInvestment', 'Facing Foreclosure?  Need to sell your property fast?  For Cash?  We can help. Call us at 806-318-1325.… https://t.co/g7b7Wxicpw'], [datetime.datetime(2022, 3, 28, 18, 0, 16), 'SnappyDesk', '#shortsale tweets and news https://t.co/dA8lzWmYHT'], [datetime.datetime(2022, 3, 28, 17, 59, 26), 'SnappyDesk', \"#shortsale top story: @kingshortsales: 'This property had a sheriff sale date scheduled in one month. I was able to… https://t.co/vTPSQgdLVd\"], [datetime.datetime(2022, 3, 28, 16, 42, 21), 'kingshortsales', 'This property had a sheriff sale date scheduled in one month. I was able to postpone the sale and buy this property… https://t.co/pkB4nIKJ4z'], [datetime.datetime(2022, 3, 28, 4, 48, 12), 'handsonreinvest', 'Exposure to a #ShortSale … #RealEstateInvesting #realestate https://t.co/M5tFEU67G5'], [datetime.datetime(2022, 3, 28, 1, 34, 26), 'handsonreinvest', 'Townhouse for #Auction! #ShortSale #realestate https://t.co/GOTrgxuWKb https://t.co/0O4NfVu1JA'], [datetime.datetime(2022, 3, 27, 18, 0, 15), 'SnappyDesk', '#shortsale tweets and news https://t.co/dA8lzWmYHT'], [datetime.datetime(2022, 3, 27, 4, 10, 3), 'markinjax', '4710 Springfield Blvd Jacksonville Florida 32206 --  https://t.co/kUkQKlpqTQ …  -#TLC #handyman#needswork,… https://t.co/Yz6JccBz6O'], [datetime.datetime(2022, 3, 27, 2, 5, 49), 'handsonreinvest', 'Exposure to a #ShortSale … #RealEstateInvesting #realestate https://t.co/5BPg4ojbFM'], [datetime.datetime(2022, 3, 26, 18, 0, 15), 'SnappyDesk', '#shortsale tweets and news https://t.co/dA8lzWmYHT'], [datetime.datetime(2022, 3, 26, 13, 1, 23), 'perfectquarters', 'With the pandemic pause over, NYC’s Black neighborhoods brace for foreclosures  https://t.co/yMyRv29nyo #homeowners… https://t.co/oBvzz7Kb6F'], [datetime.datetime(2022, 3, 26, 11, 16, 37), 'handsonreinvest', 'Townhouse for #Auction! #ShortSale #realestate https://t.co/GOTrgxuWKb https://t.co/YpB5UP5n3Y'], [datetime.datetime(2022, 3, 25, 19, 12, 8), 'handsonreinvest', 'Exposure to a #ShortSale … #RealEstateInvesting #realestate https://t.co/5BPg4ojbFM'], [datetime.datetime(2022, 3, 25, 18, 0, 15), 'SnappyDesk', '#shortsale tweets and news https://t.co/dA8lzWmYHT'], [datetime.datetime(2022, 3, 25, 11, 30, 5), 'RealDonMillerJr', '🏠💲Submit your address and see what kind of cash offers you can get on your home. Piece of cake! 🎂Learn more today a… https://t.co/msfW7OgClj'], [datetime.datetime(2022, 3, 25, 4, 13, 34), 'handsonreinvest', 'Exposure to a #ShortSale … #RealEstateInvesting #realestate https://t.co/M5tFEU67G5'], [datetime.datetime(2022, 3, 25, 3, 49, 44), 'SnappyDesk', '#shortsale top story: https://t.co/ELEfFGN5wj https://t.co/10ZtzIfnpW, see more https://t.co/eGxeVSqDUM'], [datetime.datetime(2022, 3, 24, 18, 0, 16), 'SnappyDesk', '#shortsale tweets and news https://t.co/dA8lzWmYHT']]\n"
          ]
        }
      ]
    },
    {
      "cell_type": "code",
      "source": [
        "df = pd.DataFrame(data , columns=columns)"
      ],
      "metadata": {
        "id": "mayJLBzK1gA9"
      },
      "execution_count": 15,
      "outputs": []
    },
    {
      "cell_type": "code",
      "source": [
        "print(df)"
      ],
      "metadata": {
        "colab": {
          "base_uri": "https://localhost:8080/"
        },
        "id": "652DChtE1ob1",
        "outputId": "b4610366-5f6b-4a5b-f1bd-f101246d4e7e"
      },
      "execution_count": 16,
      "outputs": [
        {
          "output_type": "stream",
          "name": "stdout",
          "text": [
            "                  Time             User  \\\n",
            "0  2022-04-01 19:58:46  handsonreinvest   \n",
            "1  2022-04-01 18:00:15       SnappyDesk   \n",
            "2  2022-04-01 06:12:08  handsonreinvest   \n",
            "3  2022-04-01 01:49:42       SnappyDesk   \n",
            "4  2022-03-31 23:54:45       SnappyDesk   \n",
            "5  2022-03-31 22:00:44    CondoVultures   \n",
            "6  2022-03-31 21:58:54    CraneSpotters   \n",
            "7  2022-03-31 21:55:05  CondoVulturesRE   \n",
            "8  2022-03-31 21:31:36        3DRealtor   \n",
            "9  2022-03-31 18:00:16       SnappyDesk   \n",
            "10 2022-03-31 16:46:56  handsonreinvest   \n",
            "11 2022-03-31 11:59:58       SnappyDesk   \n",
            "12 2022-03-31 10:10:02        markinjax   \n",
            "13 2022-03-31 02:36:57  handsonreinvest   \n",
            "14 2022-03-30 18:00:15       SnappyDesk   \n",
            "15 2022-03-30 17:53:34  handsonreinvest   \n",
            "16 2022-03-29 18:00:15       SnappyDesk   \n",
            "17 2022-03-29 03:44:55       SnappyDesk   \n",
            "18 2022-03-29 00:46:21  handsonreinvest   \n",
            "19 2022-03-29 00:01:11  DwellInvestment   \n",
            "20 2022-03-28 18:00:16       SnappyDesk   \n",
            "21 2022-03-28 17:59:26       SnappyDesk   \n",
            "22 2022-03-28 16:42:21   kingshortsales   \n",
            "23 2022-03-28 04:48:12  handsonreinvest   \n",
            "24 2022-03-28 01:34:26  handsonreinvest   \n",
            "25 2022-03-27 18:00:15       SnappyDesk   \n",
            "26 2022-03-27 04:10:03        markinjax   \n",
            "27 2022-03-27 02:05:49  handsonreinvest   \n",
            "28 2022-03-26 18:00:15       SnappyDesk   \n",
            "29 2022-03-26 13:01:23  perfectquarters   \n",
            "30 2022-03-26 11:16:37  handsonreinvest   \n",
            "31 2022-03-25 19:12:08  handsonreinvest   \n",
            "32 2022-03-25 18:00:15       SnappyDesk   \n",
            "33 2022-03-25 11:30:05  RealDonMillerJr   \n",
            "34 2022-03-25 04:13:34  handsonreinvest   \n",
            "35 2022-03-25 03:49:44       SnappyDesk   \n",
            "36 2022-03-24 18:00:16       SnappyDesk   \n",
            "\n",
            "                                                Tweet  \n",
            "0   Exposure to a #ShortSale … #RealEstateInvestin...  \n",
            "1   #shortsale tweets and news https://t.co/dA8lzW...  \n",
            "2   Exposure to a #ShortSale … #RealEstateInvestin...  \n",
            "3   #shortsale top story: https://t.co/ELEfFGN5wj ...  \n",
            "4   #shortsale top story: @CondoVulturesRE: 'Only ...  \n",
            "5   RT @CondoVulturesRE: Only 7 Distressed Condos ...  \n",
            "6   RT @CondoVulturesRE: Only 7 Distressed Condos ...  \n",
            "7   Only 7 Distressed Condos - Both Shortsales And...  \n",
            "8   Learn how to snag a #shortsale home. #realesta...  \n",
            "9   #shortsale tweets and news https://t.co/dA8lzW...  \n",
            "10  Exposure to a #ShortSale … #RealEstateInvestin...  \n",
            "11  #shortsale top story: L@@K 4710 Springfield Bl...  \n",
            "12  4710 Springfield Blvd Jacksonville Florida 322...  \n",
            "13  Exposure to a #ShortSale … #RealEstateInvestin...  \n",
            "14  #shortsale tweets and news https://t.co/dA8lzW...  \n",
            "15  Exposure to a #ShortSale … #RealEstateInvestin...  \n",
            "16  #shortsale tweets and news https://t.co/dA8lzW...  \n",
            "17  #shortsale top story: @DwellInvestment: 'Facin...  \n",
            "18  Townhouse for #Auction! #ShortSale #realestate...  \n",
            "19  Facing Foreclosure?  Need to sell your propert...  \n",
            "20  #shortsale tweets and news https://t.co/dA8lzW...  \n",
            "21  #shortsale top story: @kingshortsales: 'This p...  \n",
            "22  This property had a sheriff sale date schedule...  \n",
            "23  Exposure to a #ShortSale … #RealEstateInvestin...  \n",
            "24  Townhouse for #Auction! #ShortSale #realestate...  \n",
            "25  #shortsale tweets and news https://t.co/dA8lzW...  \n",
            "26  4710 Springfield Blvd Jacksonville Florida 322...  \n",
            "27  Exposure to a #ShortSale … #RealEstateInvestin...  \n",
            "28  #shortsale tweets and news https://t.co/dA8lzW...  \n",
            "29  With the pandemic pause over, NYC’s Black neig...  \n",
            "30  Townhouse for #Auction! #ShortSale #realestate...  \n",
            "31  Exposure to a #ShortSale … #RealEstateInvestin...  \n",
            "32  #shortsale tweets and news https://t.co/dA8lzW...  \n",
            "33  🏠💲Submit your address and see what kind of cas...  \n",
            "34  Exposure to a #ShortSale … #RealEstateInvestin...  \n",
            "35  #shortsale top story: https://t.co/ELEfFGN5wj ...  \n",
            "36  #shortsale tweets and news https://t.co/dA8lzW...  \n"
          ]
        }
      ]
    },
    {
      "cell_type": "code",
      "source": [
        ""
      ],
      "metadata": {
        "id": "eZFf4sxR1oSm"
      },
      "execution_count": null,
      "outputs": []
    }
  ]
}