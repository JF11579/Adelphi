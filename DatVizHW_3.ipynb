{
  "nbformat": 4,
  "nbformat_minor": 0,
  "metadata": {
    "colab": {
      "name": "DatVizHW_3.ipynb",
      "provenance": [],
      "collapsed_sections": [],
      "authorship_tag": "ABX9TyPeobKwvT/8o7lFth9JzboV",
      "include_colab_link": true
    },
    "kernelspec": {
      "name": "ir",
      "display_name": "R"
    },
    "language_info": {
      "name": "R"
    }
  },
  "cells": [
    {
      "cell_type": "markdown",
      "metadata": {
        "id": "view-in-github",
        "colab_type": "text"
      },
      "source": [
        "<a href=\"https://colab.research.google.com/github/JF11579/Adelphi/blob/main/DatVizHW_3.ipynb\" target=\"_parent\"><img src=\"https://colab.research.google.com/assets/colab-badge.svg\" alt=\"Open In Colab\"/></a>"
      ]
    },
    {
      "cell_type": "code",
      "execution_count": 1,
      "metadata": {
        "colab": {
          "base_uri": "https://localhost:8080/"
        },
        "id": "dpnApTU0gixR",
        "outputId": "1a11c10c-364f-46ec-9b15-d2b5026a3174"
      },
      "outputs": [
        {
          "output_type": "stream",
          "name": "stderr",
          "text": [
            "Installing package into ‘/usr/local/lib/R/site-library’\n",
            "(as ‘lib’ is unspecified)\n",
            "\n",
            "Using libcurl 7.58.0 with OpenSSL/1.1.1\n",
            "\n"
          ]
        }
      ],
      "source": [
        "install.packages(\"rvest\")\n",
        "library(rvest) \n",
        "library(curl)"
      ]
    },
    {
      "cell_type": "code",
      "source": [
        "BaseURL <- 'https://www.imdb.com/title/tt'\n",
        "ids <- c(6483832, 5164196, 4052886, 1826940)\n",
        "\n",
        "TitleList <- {}\n",
        "RatingList <- {}\n",
        "StorylineList <- {}\n",
        "\n",
        "for (id in ids) {\n",
        "    FullURL <- paste(BaseURL, id, sep=\"\" )\n",
        "    ExtractPage <- read_html(FullURL)\n",
        "\n",
        "    TitleNode <- html_nodes(ExtractPage,\".TitleHeader__TitleText-sc-1wu6n3d-0\")\n",
        "    Title <- html_text(TitleNode)\n",
        "    TitleList <- append(TitleList, Title)\n",
        "\n",
        "    RatingNode <- html_nodes(ExtractPage,\"#__next > main > div > section.ipc-page-background.ipc-page-background--base.MainDetailPageLayout__StyledPageBackground-sc-13rp3wh-0.hsughJ > section > div:nth-child(4) > section > section > div.Hero__MediaContentContainer__Video-sc-kvkd64-2.gVRpZB > div.Hero__ContentContainer-sc-kvkd64-10.frcskz > div.Hero__MetaContainer__Video-sc-kvkd64-4.jMerKX > div.RatingBar__RatingContainer-sc-85l9wd-0.hNqCJh.Hero__HideableRatingBar-sc-kvkd64-12.fWiTEj > div > div:nth-child(1) > a > div > div > div.AggregateRatingButton__ContentWrap-sc-1ll29m0-0.hmJkIS > div.AggregateRatingButton__Rating-sc-1ll29m0-2.bmbYRW > span.AggregateRatingButton__RatingScore-sc-1ll29m0-1.iTLWoV\")\n",
        "    Rating <- html_text(RatingNode)\n",
        "    RatingList <- append(RatingList, Rating)\n",
        "\n",
        "    StorylineNode <- html_nodes(ExtractPage, \"#__next > main > div > section.ipc-page-background.ipc-page-background--base.MainDetailPageLayout__StyledPageBackground-sc-13rp3wh-0.hsughJ > section > div:nth-child(4) > section > section > div.Hero__MediaContentContainer__Video-sc-kvkd64-2.gVRpZB > div.Hero__ContentContainer-sc-kvkd64-10.frcskz > div.Hero__MetaContainer__Video-sc-kvkd64-4.jMerKX > div.GenresAndPlot__ContentParent-sc-cum89p-8.hTqGWn.Hero__GenresAndPlotContainer-sc-kvkd64-11.iEHpKn > p > span.GenresAndPlot__TextContainerBreakpointL-sc-cum89p-1.eqlIrG\")\n",
        "    Storyline <- html_text( StorylineNode )\n",
        "    StorylineList <- append(StorylineList, Storyline)\n",
        "}\n"
      ],
      "metadata": {
        "id": "Bd7zZFjxhtvz"
      },
      "execution_count": 28,
      "outputs": []
    },
    {
      "cell_type": "code",
      "source": [
        "Grid <- data.frame(TitleList , RatingList, StorylineList,stringsAsFactors = FALSE)\n",
        "colnames(Grid) <- c('Title','Rating','Storyline')"
      ],
      "metadata": {
        "id": "DxYIcNNouPtH"
      },
      "execution_count": 29,
      "outputs": []
    },
    {
      "cell_type": "code",
      "source": [
        "Grid"
      ],
      "metadata": {
        "colab": {
          "base_uri": "https://localhost:8080/",
          "height": 328
        },
        "id": "q7YUJthgkul9",
        "outputId": "9f619409-8418-46cd-dc62-9a273e489d1d"
      },
      "execution_count": 30,
      "outputs": [
        {
          "output_type": "display_data",
          "data": {
            "text/plain": [
              "  Title         Rating\n",
              "1 The Resident  7.7   \n",
              "2 Lethal Weapon 7.9   \n",
              "3 Lucifer       8.1   \n",
              "4 New Girl      7.7   \n",
              "  Storyline                                                                                                                                                                                                  \n",
              "1 A group of doctors at Chastain Memorial Hospital face personal and professional challenges on a daily basis.                                                                                               \n",
              "2 A slightly unhinged cop is partnered with a veteran detective trying to maintain a low stress level in his life.                                                                                           \n",
              "3 Lucifer Morningstar has decided he's had enough of being the dutiful servant in Hell and decides to spend some time on Earth to better understand humanity. He settles in Los Angeles - the City of Angels.\n",
              "4 After a bad break-up, Jess, an offbeat young woman, moves into an apartment loft with three single men. Although they find her behavior very unusual, the men support her - most of the time.              "
            ],
            "text/latex": "A data.frame: 4 × 3\n\\begin{tabular}{lll}\n Title & Rating & Storyline\\\\\n <chr> & <chr> & <chr>\\\\\n\\hline\n\t The Resident  & 7.7 & A group of doctors at Chastain Memorial Hospital face personal and professional challenges on a daily basis.                                                                                               \\\\\n\t Lethal Weapon & 7.9 & A slightly unhinged cop is partnered with a veteran detective trying to maintain a low stress level in his life.                                                                                           \\\\\n\t Lucifer       & 8.1 & Lucifer Morningstar has decided he's had enough of being the dutiful servant in Hell and decides to spend some time on Earth to better understand humanity. He settles in Los Angeles - the City of Angels.\\\\\n\t New Girl      & 7.7 & After a bad break-up, Jess, an offbeat young woman, moves into an apartment loft with three single men. Although they find her behavior very unusual, the men support her - most of the time.              \\\\\n\\end{tabular}\n",
            "text/markdown": "\nA data.frame: 4 × 3\n\n| Title &lt;chr&gt; | Rating &lt;chr&gt; | Storyline &lt;chr&gt; |\n|---|---|---|\n| The Resident  | 7.7 | A group of doctors at Chastain Memorial Hospital face personal and professional challenges on a daily basis.                                                                                                |\n| Lethal Weapon | 7.9 | A slightly unhinged cop is partnered with a veteran detective trying to maintain a low stress level in his life.                                                                                            |\n| Lucifer       | 8.1 | Lucifer Morningstar has decided he's had enough of being the dutiful servant in Hell and decides to spend some time on Earth to better understand humanity. He settles in Los Angeles - the City of Angels. |\n| New Girl      | 7.7 | After a bad break-up, Jess, an offbeat young woman, moves into an apartment loft with three single men. Although they find her behavior very unusual, the men support her - most of the time.               |\n\n",
            "text/html": [
              "<table class=\"dataframe\">\n",
              "<caption>A data.frame: 4 × 3</caption>\n",
              "<thead>\n",
              "\t<tr><th scope=col>Title</th><th scope=col>Rating</th><th scope=col>Storyline</th></tr>\n",
              "\t<tr><th scope=col>&lt;chr&gt;</th><th scope=col>&lt;chr&gt;</th><th scope=col>&lt;chr&gt;</th></tr>\n",
              "</thead>\n",
              "<tbody>\n",
              "\t<tr><td>The Resident </td><td>7.7</td><td>A group of doctors at Chastain Memorial Hospital face personal and professional challenges on a daily basis.                                                                                               </td></tr>\n",
              "\t<tr><td>Lethal Weapon</td><td>7.9</td><td>A slightly unhinged cop is partnered with a veteran detective trying to maintain a low stress level in his life.                                                                                           </td></tr>\n",
              "\t<tr><td>Lucifer      </td><td>8.1</td><td>Lucifer Morningstar has decided he's had enough of being the dutiful servant in Hell and decides to spend some time on Earth to better understand humanity. He settles in Los Angeles - the City of Angels.</td></tr>\n",
              "\t<tr><td>New Girl     </td><td>7.7</td><td>After a bad break-up, Jess, an offbeat young woman, moves into an apartment loft with three single men. Although they find her behavior very unusual, the men support her - most of the time.              </td></tr>\n",
              "</tbody>\n",
              "</table>\n"
            ]
          },
          "metadata": {}
        }
      ]
    }
  ]
}