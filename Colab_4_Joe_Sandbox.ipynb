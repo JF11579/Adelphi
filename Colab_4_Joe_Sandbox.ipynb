{
  "nbformat": 4,
  "nbformat_minor": 0,
  "metadata": {
    "colab": {
      "name": "Colab_4_Joe_Sandbox.ipynb",
      "provenance": [],
      "collapsed_sections": [],
      "mount_file_id": "1ghr4NZihjZ6zHsC2JQOtZhKjQohnMqVa",
      "authorship_tag": "ABX9TyNMlO+NYgkgQ4h0LN+7Lcf/",
      "include_colab_link": true
    },
    "kernelspec": {
      "name": "python3",
      "display_name": "Python 3"
    },
    "language_info": {
      "name": "python"
    }
  },
  "cells": [
    {
      "cell_type": "markdown",
      "metadata": {
        "id": "view-in-github",
        "colab_type": "text"
      },
      "source": [
        "<a href=\"https://colab.research.google.com/github/JF11579/Adelphi/blob/main/Colab_4_Joe_Sandbox.ipynb\" target=\"_parent\"><img src=\"https://colab.research.google.com/assets/colab-badge.svg\" alt=\"Open In Colab\"/></a>"
      ]
    },
    {
      "cell_type": "markdown",
      "metadata": {
        "id": "dc9-pN-JfHrt"
      },
      "source": [
        "# Library"
      ]
    },
    {
      "cell_type": "markdown",
      "metadata": {
        "id": "pFPMejifn7tT"
      },
      "source": [
        "# Useful Links\n",
        "\n",
        "https://github.com/gianlucamalato/machinelearning/blob/master/Feature_selection_using_Lasso.ipynb"
      ]
    },
    {
      "cell_type": "code",
      "metadata": {
        "id": "r0PULQ11m7Gr"
      },
      "source": [
        "import pandas as pd\n",
        "from sklearn.feature_selection import SequentialFeatureSelector\n",
        "from sklearn.linear_model import LogisticRegression\n",
        "import datetime as dt\n",
        "from sklearn.preprocessing import StandardScaler\n",
        "from sklearn.preprocessing import Normalizer\n",
        "from sklearn import preprocessing \n",
        "from sklearn.model_selection import train_test_split\n",
        "import numpy as np\n",
        "from sklearn.preprocessing import StandardScaler\n",
        "from sklearn.pipeline import Pipeline\n",
        "from sklearn.model_selection import train_test_split, GridSearchCV\n",
        "from sklearn.linear_model import Lasso\n",
        "from sklearn.linear_model import Lasso, LogisticRegression\n",
        "from sklearn.feature_selection import SelectFromModel\n"
      ],
      "execution_count": 2,
      "outputs": []
    },
    {
      "cell_type": "markdown",
      "metadata": {
        "id": "M9T4ahatnCzE"
      },
      "source": [
        "# Data"
      ]
    },
    {
      "cell_type": "code",
      "metadata": {
        "colab": {
          "base_uri": "https://localhost:8080/",
          "height": 213
        },
        "id": "-wNyJUlSm7C4",
        "outputId": "e2d0f039-3823-478b-ac13-d324a1511e5b"
      },
      "source": [
        "data= pd.read_csv('/content/drive/MyDrive/Porcelana_OP_adelphi_2021_SCALED.csv')\n",
        "data.head(2)"
      ],
      "execution_count": 3,
      "outputs": [
        {
          "output_type": "execute_result",
          "data": {
            "text/html": [
              "<div>\n",
              "<style scoped>\n",
              "    .dataframe tbody tr th:only-of-type {\n",
              "        vertical-align: middle;\n",
              "    }\n",
              "\n",
              "    .dataframe tbody tr th {\n",
              "        vertical-align: top;\n",
              "    }\n",
              "\n",
              "    .dataframe thead th {\n",
              "        text-align: right;\n",
              "    }\n",
              "</style>\n",
              "<table border=\"1\" class=\"dataframe\">\n",
              "  <thead>\n",
              "    <tr style=\"text-align: right;\">\n",
              "      <th></th>\n",
              "      <th>date</th>\n",
              "      <th>Quantity</th>\n",
              "      <th>Seasonal</th>\n",
              "      <th>Consumer_loans</th>\n",
              "      <th>Construction_lic_unt</th>\n",
              "      <th>Construction_lic_area</th>\n",
              "      <th>Construction_lic_unt_SI</th>\n",
              "      <th>Construction_lic_unt_NO_SI</th>\n",
              "      <th>Construction_lic_area_SI</th>\n",
              "      <th>Construction_lic_area_NO_SI</th>\n",
              "      <th>Gray_cement_prod</th>\n",
              "      <th>Gray_cement_dispatch</th>\n",
              "      <th>Gray_cement_dispatch_Factory</th>\n",
              "      <th>Gray_cement_dispatch_comercial</th>\n",
              "      <th>Gray_cement_dispatch_contractor</th>\n",
              "      <th>Gray_cement_dispatch_other</th>\n",
              "      <th>DTF(interest_rate)</th>\n",
              "      <th>GDP_Constr</th>\n",
              "      <th>GDP_Total</th>\n",
              "      <th>Inflation</th>\n",
              "      <th>USD_exchange</th>\n",
              "      <th>Oil-brent</th>\n",
              "      <th>Oil_WTI</th>\n",
              "      <th>ISE</th>\n",
              "      <th>ICC</th>\n",
              "      <th>IEC</th>\n",
              "      <th>ICE</th>\n",
              "      <th>Unemployment%</th>\n",
              "      <th>RADAR_Constr</th>\n",
              "      <th>RADAR_Rev</th>\n",
              "      <th>RADAR_Toilets</th>\n",
              "      <th>RADAR_HomeAppliance</th>\n",
              "      <th>RADAR_Paint</th>\n",
              "      <th>RADAR_Furniture</th>\n",
              "      <th>RADAR_Tools</th>\n",
              "      <th>RADAR_Elect</th>\n",
              "      <th>RADAR_Plumbing</th>\n",
              "      <th>RADAR_Wood</th>\n",
              "      <th>RADAR_Supply</th>\n",
              "      <th>RADAR_Remodel</th>\n",
              "      <th>...</th>\n",
              "      <th>Preferencial_creditlag_8</th>\n",
              "      <th>loan_overdraftslag_8</th>\n",
              "      <th>Credit_cardlag_8</th>\n",
              "      <th>Treasury_loanlag_8</th>\n",
              "      <th>Housing_loanlag_8</th>\n",
              "      <th>Consumer_creditlag_9</th>\n",
              "      <th>Consumer_microcreditlag_9</th>\n",
              "      <th>Ordinary_creditlag_9</th>\n",
              "      <th>Preferencial_creditlag_9</th>\n",
              "      <th>loan_overdraftslag_9</th>\n",
              "      <th>Credit_cardlag_9</th>\n",
              "      <th>Treasury_loanlag_9</th>\n",
              "      <th>Housing_loanlag_9</th>\n",
              "      <th>Consumer_creditlag_10</th>\n",
              "      <th>Consumer_microcreditlag_10</th>\n",
              "      <th>Ordinary_creditlag_10</th>\n",
              "      <th>Preferencial_creditlag_10</th>\n",
              "      <th>loan_overdraftslag_10</th>\n",
              "      <th>Credit_cardlag_10</th>\n",
              "      <th>Treasury_loanlag_10</th>\n",
              "      <th>Housing_loanlag_10</th>\n",
              "      <th>Consumer_creditlag_11</th>\n",
              "      <th>Consumer_microcreditlag_11</th>\n",
              "      <th>Ordinary_creditlag_11</th>\n",
              "      <th>Preferencial_creditlag_11</th>\n",
              "      <th>loan_overdraftslag_11</th>\n",
              "      <th>Credit_cardlag_11</th>\n",
              "      <th>Treasury_loanlag_11</th>\n",
              "      <th>Housing_loanlag_11</th>\n",
              "      <th>Consumer_creditlag_12</th>\n",
              "      <th>Consumer_microcreditlag_12</th>\n",
              "      <th>Ordinary_creditlag_12</th>\n",
              "      <th>Preferencial_creditlag_12</th>\n",
              "      <th>loan_overdraftslag_12</th>\n",
              "      <th>Credit_cardlag_12</th>\n",
              "      <th>Treasury_loanlag_12</th>\n",
              "      <th>Housing_loanlag_12</th>\n",
              "      <th>holiday</th>\n",
              "      <th>sunday</th>\n",
              "      <th>working_day</th>\n",
              "    </tr>\n",
              "  </thead>\n",
              "  <tbody>\n",
              "    <tr>\n",
              "      <th>0</th>\n",
              "      <td>2017-01-01</td>\n",
              "      <td>1.503548</td>\n",
              "      <td>0.699923</td>\n",
              "      <td>112579.4297</td>\n",
              "      <td>11303.0</td>\n",
              "      <td>1185131.0</td>\n",
              "      <td>3587.0</td>\n",
              "      <td>7716.0</td>\n",
              "      <td>229478.0</td>\n",
              "      <td>955653.0</td>\n",
              "      <td>897063.518</td>\n",
              "      <td>913190.407</td>\n",
              "      <td>194276.020</td>\n",
              "      <td>502084.8330</td>\n",
              "      <td>171559.9665</td>\n",
              "      <td>45269.5875</td>\n",
              "      <td>0.0694</td>\n",
              "      <td>14753.34784</td>\n",
              "      <td>206242.568</td>\n",
              "      <td>5.47</td>\n",
              "      <td>2944.65</td>\n",
              "      <td>52.19</td>\n",
              "      <td>52.81</td>\n",
              "      <td>102.548972</td>\n",
              "      <td>-30.2</td>\n",
              "      <td>-28.3</td>\n",
              "      <td>-33.1</td>\n",
              "      <td>11.733267</td>\n",
              "      <td>1.044525e+11</td>\n",
              "      <td>1.323489e+11</td>\n",
              "      <td>1.727682e+11</td>\n",
              "      <td>1.050914e+11</td>\n",
              "      <td>8.847567e+10</td>\n",
              "      <td>8.354725e+10</td>\n",
              "      <td>5.008444e+10</td>\n",
              "      <td>9.372000e+10</td>\n",
              "      <td>3.037115e+10</td>\n",
              "      <td>3.136015e+10</td>\n",
              "      <td>1.585430e+11</td>\n",
              "      <td>1.050763e+12</td>\n",
              "      <td>...</td>\n",
              "      <td>4445890.861</td>\n",
              "      <td>6402426.269</td>\n",
              "      <td>3390803.016</td>\n",
              "      <td>550883.0739</td>\n",
              "      <td>1302564.560</td>\n",
              "      <td>4680431.000</td>\n",
              "      <td>460632.0000</td>\n",
              "      <td>5702443.000</td>\n",
              "      <td>4657354.000</td>\n",
              "      <td>7012296.000</td>\n",
              "      <td>3283417.000</td>\n",
              "      <td>549789.0000</td>\n",
              "      <td>1454672.00</td>\n",
              "      <td>4941981.754</td>\n",
              "      <td>531850.1926</td>\n",
              "      <td>7315235.649</td>\n",
              "      <td>6120086.089</td>\n",
              "      <td>8140200.383</td>\n",
              "      <td>3814229.013</td>\n",
              "      <td>632387.5921</td>\n",
              "      <td>1627959.289</td>\n",
              "      <td>4068020.900</td>\n",
              "      <td>438682.2679</td>\n",
              "      <td>6513619.182</td>\n",
              "      <td>6137144.374</td>\n",
              "      <td>6675101.294</td>\n",
              "      <td>2989980.729</td>\n",
              "      <td>483448.3473</td>\n",
              "      <td>1298811.962</td>\n",
              "      <td>3106784.5</td>\n",
              "      <td>386289.5525</td>\n",
              "      <td>4875376.339</td>\n",
              "      <td>4791146.877</td>\n",
              "      <td>5996088.922</td>\n",
              "      <td>3013612.505</td>\n",
              "      <td>470541.3290</td>\n",
              "      <td>1093819.181</td>\n",
              "      <td>1</td>\n",
              "      <td>5</td>\n",
              "      <td>25</td>\n",
              "    </tr>\n",
              "    <tr>\n",
              "      <th>1</th>\n",
              "      <td>2017-02-01</td>\n",
              "      <td>0.076213</td>\n",
              "      <td>0.316156</td>\n",
              "      <td>113438.0949</td>\n",
              "      <td>16187.0</td>\n",
              "      <td>1590979.0</td>\n",
              "      <td>4659.0</td>\n",
              "      <td>11528.0</td>\n",
              "      <td>272961.0</td>\n",
              "      <td>1318018.0</td>\n",
              "      <td>1025704.960</td>\n",
              "      <td>1007968.299</td>\n",
              "      <td>228359.839</td>\n",
              "      <td>530826.1625</td>\n",
              "      <td>199731.6950</td>\n",
              "      <td>49050.6025</td>\n",
              "      <td>0.0678</td>\n",
              "      <td>14753.34784</td>\n",
              "      <td>206242.568</td>\n",
              "      <td>5.18</td>\n",
              "      <td>2881.68</td>\n",
              "      <td>53.40</td>\n",
              "      <td>54.01</td>\n",
              "      <td>102.919033</td>\n",
              "      <td>-24.3</td>\n",
              "      <td>-19.9</td>\n",
              "      <td>-31.0</td>\n",
              "      <td>10.504292</td>\n",
              "      <td>1.574855e+11</td>\n",
              "      <td>8.351517e+10</td>\n",
              "      <td>1.096908e+11</td>\n",
              "      <td>8.252536e+10</td>\n",
              "      <td>8.582517e+10</td>\n",
              "      <td>1.522091e+11</td>\n",
              "      <td>5.056706e+10</td>\n",
              "      <td>6.034851e+10</td>\n",
              "      <td>2.138243e+10</td>\n",
              "      <td>2.216364e+10</td>\n",
              "      <td>2.104634e+11</td>\n",
              "      <td>1.036176e+12</td>\n",
              "      <td>...</td>\n",
              "      <td>6566090.070</td>\n",
              "      <td>7930536.312</td>\n",
              "      <td>4347164.930</td>\n",
              "      <td>677598.1836</td>\n",
              "      <td>1864166.572</td>\n",
              "      <td>4353892.017</td>\n",
              "      <td>433679.7772</td>\n",
              "      <td>5854575.608</td>\n",
              "      <td>4445890.861</td>\n",
              "      <td>6402426.269</td>\n",
              "      <td>3390803.016</td>\n",
              "      <td>550883.0739</td>\n",
              "      <td>1302564.56</td>\n",
              "      <td>4680431.000</td>\n",
              "      <td>460632.0000</td>\n",
              "      <td>5702443.000</td>\n",
              "      <td>4657354.000</td>\n",
              "      <td>7012296.000</td>\n",
              "      <td>3283417.000</td>\n",
              "      <td>549789.0000</td>\n",
              "      <td>1454672.000</td>\n",
              "      <td>4941981.754</td>\n",
              "      <td>531850.1926</td>\n",
              "      <td>7315235.649</td>\n",
              "      <td>6120086.089</td>\n",
              "      <td>8140200.383</td>\n",
              "      <td>3814229.013</td>\n",
              "      <td>632387.5921</td>\n",
              "      <td>1627959.289</td>\n",
              "      <td>4068020.9</td>\n",
              "      <td>438682.2679</td>\n",
              "      <td>6513619.182</td>\n",
              "      <td>6137144.374</td>\n",
              "      <td>6675101.294</td>\n",
              "      <td>2989980.729</td>\n",
              "      <td>483448.3473</td>\n",
              "      <td>1298811.962</td>\n",
              "      <td>0</td>\n",
              "      <td>4</td>\n",
              "      <td>24</td>\n",
              "    </tr>\n",
              "  </tbody>\n",
              "</table>\n",
              "<p>2 rows × 943 columns</p>\n",
              "</div>"
            ],
            "text/plain": [
              "         date  Quantity  Seasonal  ...  holiday  sunday  working_day\n",
              "0  2017-01-01  1.503548  0.699923  ...        1       5           25\n",
              "1  2017-02-01  0.076213  0.316156  ...        0       4           24\n",
              "\n",
              "[2 rows x 943 columns]"
            ]
          },
          "metadata": {},
          "execution_count": 3
        }
      ]
    },
    {
      "cell_type": "code",
      "metadata": {
        "id": "bdh4_Bhp41-2"
      },
      "source": [
        "#X = data.loc[: ,data.columns != 'Quantity']\n",
        "feature_list = data.loc[: ,data.columns != 'Quantity']\n",
        "#features = list(data)"
      ],
      "execution_count": 4,
      "outputs": []
    },
    {
      "cell_type": "code",
      "metadata": {
        "id": "hRvVU-GPMlQO"
      },
      "source": [
        "features = list(feature_list)"
      ],
      "execution_count": 5,
      "outputs": []
    },
    {
      "cell_type": "markdown",
      "metadata": {
        "id": "FVpsKpkZhaEQ"
      },
      "source": [
        "Lasso is well suited when there are more features than observations.\n",
        "\n"
      ]
    },
    {
      "cell_type": "markdown",
      "metadata": {
        "id": "ZGuqBAqqnmLa"
      },
      "source": [
        "# Pre Processing"
      ]
    },
    {
      "cell_type": "markdown",
      "metadata": {
        "id": "dmslFOpKoHeU"
      },
      "source": [
        "## change Dates to Ordinal .\n",
        "\n",
        "We are looking to maintain some relationship btwnthe dates that would be lost if we assined arbitrary intergers ."
      ]
    },
    {
      "cell_type": "code",
      "metadata": {
        "id": "e0hfzOZHp8jQ"
      },
      "source": [
        "data['date'] = pd.to_datetime(data['date'])\n",
        "data['date']= data['date'].map(dt.datetime.toordinal)"
      ],
      "execution_count": 6,
      "outputs": []
    },
    {
      "cell_type": "code",
      "metadata": {
        "colab": {
          "base_uri": "https://localhost:8080/",
          "height": 210
        },
        "id": "bbHbQuZYp8fP",
        "outputId": "4464eac7-c6dc-4a5f-84e7-ea3d673e752c"
      },
      "source": [
        "data.head(3)"
      ],
      "execution_count": 28,
      "outputs": [
        {
          "output_type": "execute_result",
          "data": {
            "text/html": [
              "<div>\n",
              "<style scoped>\n",
              "    .dataframe tbody tr th:only-of-type {\n",
              "        vertical-align: middle;\n",
              "    }\n",
              "\n",
              "    .dataframe tbody tr th {\n",
              "        vertical-align: top;\n",
              "    }\n",
              "\n",
              "    .dataframe thead th {\n",
              "        text-align: right;\n",
              "    }\n",
              "</style>\n",
              "<table border=\"1\" class=\"dataframe\">\n",
              "  <thead>\n",
              "    <tr style=\"text-align: right;\">\n",
              "      <th></th>\n",
              "      <th>date</th>\n",
              "      <th>Quantity</th>\n",
              "      <th>Seasonal</th>\n",
              "      <th>Consumer_loans</th>\n",
              "      <th>Construction_lic_unt</th>\n",
              "      <th>Construction_lic_area</th>\n",
              "      <th>Construction_lic_unt_SI</th>\n",
              "      <th>Construction_lic_unt_NO_SI</th>\n",
              "      <th>Construction_lic_area_SI</th>\n",
              "      <th>Construction_lic_area_NO_SI</th>\n",
              "      <th>Gray_cement_prod</th>\n",
              "      <th>Gray_cement_dispatch</th>\n",
              "      <th>Gray_cement_dispatch_Factory</th>\n",
              "      <th>Gray_cement_dispatch_comercial</th>\n",
              "      <th>Gray_cement_dispatch_contractor</th>\n",
              "      <th>Gray_cement_dispatch_other</th>\n",
              "      <th>DTF(interest_rate)</th>\n",
              "      <th>GDP_Constr</th>\n",
              "      <th>GDP_Total</th>\n",
              "      <th>Inflation</th>\n",
              "      <th>USD_exchange</th>\n",
              "      <th>Oil-brent</th>\n",
              "      <th>Oil_WTI</th>\n",
              "      <th>ISE</th>\n",
              "      <th>ICC</th>\n",
              "      <th>IEC</th>\n",
              "      <th>ICE</th>\n",
              "      <th>Unemployment%</th>\n",
              "      <th>RADAR_Constr</th>\n",
              "      <th>RADAR_Rev</th>\n",
              "      <th>RADAR_Toilets</th>\n",
              "      <th>RADAR_HomeAppliance</th>\n",
              "      <th>RADAR_Paint</th>\n",
              "      <th>RADAR_Furniture</th>\n",
              "      <th>RADAR_Tools</th>\n",
              "      <th>RADAR_Elect</th>\n",
              "      <th>RADAR_Plumbing</th>\n",
              "      <th>RADAR_Wood</th>\n",
              "      <th>RADAR_Supply</th>\n",
              "      <th>RADAR_Remodel</th>\n",
              "      <th>...</th>\n",
              "      <th>Preferencial_creditlag_8</th>\n",
              "      <th>loan_overdraftslag_8</th>\n",
              "      <th>Credit_cardlag_8</th>\n",
              "      <th>Treasury_loanlag_8</th>\n",
              "      <th>Housing_loanlag_8</th>\n",
              "      <th>Consumer_creditlag_9</th>\n",
              "      <th>Consumer_microcreditlag_9</th>\n",
              "      <th>Ordinary_creditlag_9</th>\n",
              "      <th>Preferencial_creditlag_9</th>\n",
              "      <th>loan_overdraftslag_9</th>\n",
              "      <th>Credit_cardlag_9</th>\n",
              "      <th>Treasury_loanlag_9</th>\n",
              "      <th>Housing_loanlag_9</th>\n",
              "      <th>Consumer_creditlag_10</th>\n",
              "      <th>Consumer_microcreditlag_10</th>\n",
              "      <th>Ordinary_creditlag_10</th>\n",
              "      <th>Preferencial_creditlag_10</th>\n",
              "      <th>loan_overdraftslag_10</th>\n",
              "      <th>Credit_cardlag_10</th>\n",
              "      <th>Treasury_loanlag_10</th>\n",
              "      <th>Housing_loanlag_10</th>\n",
              "      <th>Consumer_creditlag_11</th>\n",
              "      <th>Consumer_microcreditlag_11</th>\n",
              "      <th>Ordinary_creditlag_11</th>\n",
              "      <th>Preferencial_creditlag_11</th>\n",
              "      <th>loan_overdraftslag_11</th>\n",
              "      <th>Credit_cardlag_11</th>\n",
              "      <th>Treasury_loanlag_11</th>\n",
              "      <th>Housing_loanlag_11</th>\n",
              "      <th>Consumer_creditlag_12</th>\n",
              "      <th>Consumer_microcreditlag_12</th>\n",
              "      <th>Ordinary_creditlag_12</th>\n",
              "      <th>Preferencial_creditlag_12</th>\n",
              "      <th>loan_overdraftslag_12</th>\n",
              "      <th>Credit_cardlag_12</th>\n",
              "      <th>Treasury_loanlag_12</th>\n",
              "      <th>Housing_loanlag_12</th>\n",
              "      <th>holiday</th>\n",
              "      <th>sunday</th>\n",
              "      <th>working_day</th>\n",
              "    </tr>\n",
              "  </thead>\n",
              "  <tbody>\n",
              "    <tr>\n",
              "      <th>0</th>\n",
              "      <td>736330</td>\n",
              "      <td>1.503548</td>\n",
              "      <td>0.699923</td>\n",
              "      <td>112579.4297</td>\n",
              "      <td>11303.0</td>\n",
              "      <td>1185131.0</td>\n",
              "      <td>3587.0</td>\n",
              "      <td>7716.0</td>\n",
              "      <td>229478.0</td>\n",
              "      <td>955653.0</td>\n",
              "      <td>897063.518</td>\n",
              "      <td>913190.407</td>\n",
              "      <td>194276.0200</td>\n",
              "      <td>502084.8330</td>\n",
              "      <td>171559.9665</td>\n",
              "      <td>45269.5875</td>\n",
              "      <td>0.0694</td>\n",
              "      <td>14753.34784</td>\n",
              "      <td>206242.568</td>\n",
              "      <td>5.47</td>\n",
              "      <td>2944.65</td>\n",
              "      <td>52.19</td>\n",
              "      <td>52.81</td>\n",
              "      <td>102.548972</td>\n",
              "      <td>-30.2</td>\n",
              "      <td>-28.3</td>\n",
              "      <td>-33.1</td>\n",
              "      <td>11.733267</td>\n",
              "      <td>1.044525e+11</td>\n",
              "      <td>1.323489e+11</td>\n",
              "      <td>1.727682e+11</td>\n",
              "      <td>1.050914e+11</td>\n",
              "      <td>8.847567e+10</td>\n",
              "      <td>8.354725e+10</td>\n",
              "      <td>5.008444e+10</td>\n",
              "      <td>9.372000e+10</td>\n",
              "      <td>3.037115e+10</td>\n",
              "      <td>3.136015e+10</td>\n",
              "      <td>1.585430e+11</td>\n",
              "      <td>1.050763e+12</td>\n",
              "      <td>...</td>\n",
              "      <td>4445890.861</td>\n",
              "      <td>6402426.269</td>\n",
              "      <td>3390803.016</td>\n",
              "      <td>550883.0739</td>\n",
              "      <td>1302564.560</td>\n",
              "      <td>4680431.000</td>\n",
              "      <td>460632.0000</td>\n",
              "      <td>5702443.000</td>\n",
              "      <td>4657354.000</td>\n",
              "      <td>7012296.000</td>\n",
              "      <td>3283417.000</td>\n",
              "      <td>549789.0000</td>\n",
              "      <td>1454672.000</td>\n",
              "      <td>4941981.754</td>\n",
              "      <td>531850.1926</td>\n",
              "      <td>7315235.649</td>\n",
              "      <td>6120086.089</td>\n",
              "      <td>8140200.383</td>\n",
              "      <td>3814229.013</td>\n",
              "      <td>632387.5921</td>\n",
              "      <td>1627959.289</td>\n",
              "      <td>4068020.900</td>\n",
              "      <td>438682.2679</td>\n",
              "      <td>6513619.182</td>\n",
              "      <td>6137144.374</td>\n",
              "      <td>6675101.294</td>\n",
              "      <td>2989980.729</td>\n",
              "      <td>483448.3473</td>\n",
              "      <td>1298811.962</td>\n",
              "      <td>3106784.500</td>\n",
              "      <td>386289.5525</td>\n",
              "      <td>4875376.339</td>\n",
              "      <td>4791146.877</td>\n",
              "      <td>5996088.922</td>\n",
              "      <td>3013612.505</td>\n",
              "      <td>470541.3290</td>\n",
              "      <td>1093819.181</td>\n",
              "      <td>1</td>\n",
              "      <td>5</td>\n",
              "      <td>25</td>\n",
              "    </tr>\n",
              "    <tr>\n",
              "      <th>1</th>\n",
              "      <td>736361</td>\n",
              "      <td>0.076213</td>\n",
              "      <td>0.316156</td>\n",
              "      <td>113438.0949</td>\n",
              "      <td>16187.0</td>\n",
              "      <td>1590979.0</td>\n",
              "      <td>4659.0</td>\n",
              "      <td>11528.0</td>\n",
              "      <td>272961.0</td>\n",
              "      <td>1318018.0</td>\n",
              "      <td>1025704.960</td>\n",
              "      <td>1007968.299</td>\n",
              "      <td>228359.8390</td>\n",
              "      <td>530826.1625</td>\n",
              "      <td>199731.6950</td>\n",
              "      <td>49050.6025</td>\n",
              "      <td>0.0678</td>\n",
              "      <td>14753.34784</td>\n",
              "      <td>206242.568</td>\n",
              "      <td>5.18</td>\n",
              "      <td>2881.68</td>\n",
              "      <td>53.40</td>\n",
              "      <td>54.01</td>\n",
              "      <td>102.919033</td>\n",
              "      <td>-24.3</td>\n",
              "      <td>-19.9</td>\n",
              "      <td>-31.0</td>\n",
              "      <td>10.504292</td>\n",
              "      <td>1.574855e+11</td>\n",
              "      <td>8.351517e+10</td>\n",
              "      <td>1.096908e+11</td>\n",
              "      <td>8.252536e+10</td>\n",
              "      <td>8.582517e+10</td>\n",
              "      <td>1.522091e+11</td>\n",
              "      <td>5.056706e+10</td>\n",
              "      <td>6.034851e+10</td>\n",
              "      <td>2.138243e+10</td>\n",
              "      <td>2.216364e+10</td>\n",
              "      <td>2.104634e+11</td>\n",
              "      <td>1.036176e+12</td>\n",
              "      <td>...</td>\n",
              "      <td>6566090.070</td>\n",
              "      <td>7930536.312</td>\n",
              "      <td>4347164.930</td>\n",
              "      <td>677598.1836</td>\n",
              "      <td>1864166.572</td>\n",
              "      <td>4353892.017</td>\n",
              "      <td>433679.7772</td>\n",
              "      <td>5854575.608</td>\n",
              "      <td>4445890.861</td>\n",
              "      <td>6402426.269</td>\n",
              "      <td>3390803.016</td>\n",
              "      <td>550883.0739</td>\n",
              "      <td>1302564.560</td>\n",
              "      <td>4680431.000</td>\n",
              "      <td>460632.0000</td>\n",
              "      <td>5702443.000</td>\n",
              "      <td>4657354.000</td>\n",
              "      <td>7012296.000</td>\n",
              "      <td>3283417.000</td>\n",
              "      <td>549789.0000</td>\n",
              "      <td>1454672.000</td>\n",
              "      <td>4941981.754</td>\n",
              "      <td>531850.1926</td>\n",
              "      <td>7315235.649</td>\n",
              "      <td>6120086.089</td>\n",
              "      <td>8140200.383</td>\n",
              "      <td>3814229.013</td>\n",
              "      <td>632387.5921</td>\n",
              "      <td>1627959.289</td>\n",
              "      <td>4068020.900</td>\n",
              "      <td>438682.2679</td>\n",
              "      <td>6513619.182</td>\n",
              "      <td>6137144.374</td>\n",
              "      <td>6675101.294</td>\n",
              "      <td>2989980.729</td>\n",
              "      <td>483448.3473</td>\n",
              "      <td>1298811.962</td>\n",
              "      <td>0</td>\n",
              "      <td>4</td>\n",
              "      <td>24</td>\n",
              "    </tr>\n",
              "    <tr>\n",
              "      <th>2</th>\n",
              "      <td>736389</td>\n",
              "      <td>-1.346258</td>\n",
              "      <td>-0.267695</td>\n",
              "      <td>114667.2587</td>\n",
              "      <td>15231.0</td>\n",
              "      <td>1438528.0</td>\n",
              "      <td>5687.0</td>\n",
              "      <td>9544.0</td>\n",
              "      <td>354904.0</td>\n",
              "      <td>1083624.0</td>\n",
              "      <td>1099919.669</td>\n",
              "      <td>1083268.231</td>\n",
              "      <td>241130.4555</td>\n",
              "      <td>568447.4880</td>\n",
              "      <td>218640.3600</td>\n",
              "      <td>55049.9274</td>\n",
              "      <td>0.0665</td>\n",
              "      <td>14753.34784</td>\n",
              "      <td>206242.568</td>\n",
              "      <td>4.69</td>\n",
              "      <td>2943.49</td>\n",
              "      <td>50.43</td>\n",
              "      <td>50.60</td>\n",
              "      <td>102.162670</td>\n",
              "      <td>-21.1</td>\n",
              "      <td>-18.3</td>\n",
              "      <td>-25.4</td>\n",
              "      <td>9.704610</td>\n",
              "      <td>1.215372e+11</td>\n",
              "      <td>9.821204e+10</td>\n",
              "      <td>1.191497e+11</td>\n",
              "      <td>9.035507e+10</td>\n",
              "      <td>9.516119e+10</td>\n",
              "      <td>1.388751e+11</td>\n",
              "      <td>5.266968e+10</td>\n",
              "      <td>1.137228e+11</td>\n",
              "      <td>2.872364e+10</td>\n",
              "      <td>2.258877e+10</td>\n",
              "      <td>1.192185e+11</td>\n",
              "      <td>1.000214e+12</td>\n",
              "      <td>...</td>\n",
              "      <td>4119152.514</td>\n",
              "      <td>6258157.459</td>\n",
              "      <td>3447128.397</td>\n",
              "      <td>478975.7922</td>\n",
              "      <td>1302860.802</td>\n",
              "      <td>5430241.566</td>\n",
              "      <td>555441.9044</td>\n",
              "      <td>7916686.911</td>\n",
              "      <td>6566090.070</td>\n",
              "      <td>7930536.312</td>\n",
              "      <td>4347164.930</td>\n",
              "      <td>677598.1836</td>\n",
              "      <td>1864166.572</td>\n",
              "      <td>4353892.017</td>\n",
              "      <td>433679.7772</td>\n",
              "      <td>5854575.608</td>\n",
              "      <td>4445890.861</td>\n",
              "      <td>6402426.269</td>\n",
              "      <td>3390803.016</td>\n",
              "      <td>550883.0739</td>\n",
              "      <td>1302564.560</td>\n",
              "      <td>4680431.000</td>\n",
              "      <td>460632.0000</td>\n",
              "      <td>5702443.000</td>\n",
              "      <td>4657354.000</td>\n",
              "      <td>7012296.000</td>\n",
              "      <td>3283417.000</td>\n",
              "      <td>549789.0000</td>\n",
              "      <td>1454672.000</td>\n",
              "      <td>4941981.754</td>\n",
              "      <td>531850.1926</td>\n",
              "      <td>7315235.649</td>\n",
              "      <td>6120086.089</td>\n",
              "      <td>8140200.383</td>\n",
              "      <td>3814229.013</td>\n",
              "      <td>632387.5921</td>\n",
              "      <td>1627959.289</td>\n",
              "      <td>1</td>\n",
              "      <td>4</td>\n",
              "      <td>26</td>\n",
              "    </tr>\n",
              "  </tbody>\n",
              "</table>\n",
              "<p>3 rows × 943 columns</p>\n",
              "</div>"
            ],
            "text/plain": [
              "     date  Quantity  Seasonal  ...  holiday  sunday  working_day\n",
              "0  736330  1.503548  0.699923  ...        1       5           25\n",
              "1  736361  0.076213  0.316156  ...        0       4           24\n",
              "2  736389 -1.346258 -0.267695  ...        1       4           26\n",
              "\n",
              "[3 rows x 943 columns]"
            ]
          },
          "metadata": {},
          "execution_count": 28
        }
      ]
    },
    {
      "cell_type": "markdown",
      "metadata": {
        "id": "-ltYH-OIRM0v"
      },
      "source": [
        "# SCALE ALL BUT ONE COLUMN\n",
        "\n",
        "Because Lasso works at lowering coeefeicients to zero it is essential they al be starting within the same range.\n",
        "\n",
        "\n"
      ]
    },
    {
      "cell_type": "markdown",
      "metadata": {
        "id": "XJgVXOTHP6pr"
      },
      "source": [
        "Scale all but the DATE column\n",
        "https://stackoverflow.com/questions/62997793/apply-standarization-to-all-columns-except-one-in-pandas"
      ]
    },
    {
      "cell_type": "code",
      "metadata": {
        "id": "U25xBnU9P7N5"
      },
      "source": [
        "# except B, take all columns\n",
        "#cols = df.columns.difference(['B'])\n",
        "#\n",
        "cols =data.columns.difference(['date'])"
      ],
      "execution_count": 7,
      "outputs": []
    },
    {
      "cell_type": "code",
      "metadata": {
        "id": "mJMOVqU0Qebn"
      },
      "source": [
        "from sklearn.preprocessing import StandardScaler\n",
        "sc = StandardScaler()"
      ],
      "execution_count": 8,
      "outputs": []
    },
    {
      "cell_type": "code",
      "metadata": {
        "id": "XRmVnhNAQeXX"
      },
      "source": [
        "# normalise only selected columns\n",
        "#df[cols] = sc.fit_transform(df[cols])\n",
        "#\n",
        "data[cols] = sc.fit_transform(data[cols])"
      ],
      "execution_count": 9,
      "outputs": []
    },
    {
      "cell_type": "code",
      "metadata": {
        "colab": {
          "base_uri": "https://localhost:8080/",
          "height": 193
        },
        "id": "refJ_lvwQi_a",
        "outputId": "c7d9776b-5ef7-4aab-ece6-5d32c80a2237"
      },
      "source": [
        "data.head(3)"
      ],
      "execution_count": 232,
      "outputs": [
        {
          "output_type": "execute_result",
          "data": {
            "text/html": [
              "<div>\n",
              "<style scoped>\n",
              "    .dataframe tbody tr th:only-of-type {\n",
              "        vertical-align: middle;\n",
              "    }\n",
              "\n",
              "    .dataframe tbody tr th {\n",
              "        vertical-align: top;\n",
              "    }\n",
              "\n",
              "    .dataframe thead th {\n",
              "        text-align: right;\n",
              "    }\n",
              "</style>\n",
              "<table border=\"1\" class=\"dataframe\">\n",
              "  <thead>\n",
              "    <tr style=\"text-align: right;\">\n",
              "      <th></th>\n",
              "      <th>date</th>\n",
              "      <th>Quantity</th>\n",
              "      <th>Seasonal</th>\n",
              "      <th>Consumer_loans</th>\n",
              "      <th>Construction_lic_unt</th>\n",
              "      <th>Construction_lic_area</th>\n",
              "      <th>Construction_lic_unt_SI</th>\n",
              "      <th>Construction_lic_unt_NO_SI</th>\n",
              "      <th>Construction_lic_area_SI</th>\n",
              "      <th>Construction_lic_area_NO_SI</th>\n",
              "      <th>Gray_cement_prod</th>\n",
              "      <th>Gray_cement_dispatch</th>\n",
              "      <th>Gray_cement_dispatch_Factory</th>\n",
              "      <th>Gray_cement_dispatch_comercial</th>\n",
              "      <th>Gray_cement_dispatch_contractor</th>\n",
              "      <th>Gray_cement_dispatch_other</th>\n",
              "      <th>DTF(interest_rate)</th>\n",
              "      <th>GDP_Constr</th>\n",
              "      <th>GDP_Total</th>\n",
              "      <th>Inflation</th>\n",
              "      <th>USD_exchange</th>\n",
              "      <th>Oil-brent</th>\n",
              "      <th>Oil_WTI</th>\n",
              "      <th>ISE</th>\n",
              "      <th>ICC</th>\n",
              "      <th>IEC</th>\n",
              "      <th>ICE</th>\n",
              "      <th>Unemployment%</th>\n",
              "      <th>RADAR_Constr</th>\n",
              "      <th>RADAR_Rev</th>\n",
              "      <th>RADAR_Toilets</th>\n",
              "      <th>RADAR_HomeAppliance</th>\n",
              "      <th>RADAR_Paint</th>\n",
              "      <th>RADAR_Furniture</th>\n",
              "      <th>RADAR_Tools</th>\n",
              "      <th>RADAR_Elect</th>\n",
              "      <th>RADAR_Plumbing</th>\n",
              "      <th>RADAR_Wood</th>\n",
              "      <th>RADAR_Supply</th>\n",
              "      <th>RADAR_Remodel</th>\n",
              "      <th>...</th>\n",
              "      <th>Preferencial_creditlag_8</th>\n",
              "      <th>loan_overdraftslag_8</th>\n",
              "      <th>Credit_cardlag_8</th>\n",
              "      <th>Treasury_loanlag_8</th>\n",
              "      <th>Housing_loanlag_8</th>\n",
              "      <th>Consumer_creditlag_9</th>\n",
              "      <th>Consumer_microcreditlag_9</th>\n",
              "      <th>Ordinary_creditlag_9</th>\n",
              "      <th>Preferencial_creditlag_9</th>\n",
              "      <th>loan_overdraftslag_9</th>\n",
              "      <th>Credit_cardlag_9</th>\n",
              "      <th>Treasury_loanlag_9</th>\n",
              "      <th>Housing_loanlag_9</th>\n",
              "      <th>Consumer_creditlag_10</th>\n",
              "      <th>Consumer_microcreditlag_10</th>\n",
              "      <th>Ordinary_creditlag_10</th>\n",
              "      <th>Preferencial_creditlag_10</th>\n",
              "      <th>loan_overdraftslag_10</th>\n",
              "      <th>Credit_cardlag_10</th>\n",
              "      <th>Treasury_loanlag_10</th>\n",
              "      <th>Housing_loanlag_10</th>\n",
              "      <th>Consumer_creditlag_11</th>\n",
              "      <th>Consumer_microcreditlag_11</th>\n",
              "      <th>Ordinary_creditlag_11</th>\n",
              "      <th>Preferencial_creditlag_11</th>\n",
              "      <th>loan_overdraftslag_11</th>\n",
              "      <th>Credit_cardlag_11</th>\n",
              "      <th>Treasury_loanlag_11</th>\n",
              "      <th>Housing_loanlag_11</th>\n",
              "      <th>Consumer_creditlag_12</th>\n",
              "      <th>Consumer_microcreditlag_12</th>\n",
              "      <th>Ordinary_creditlag_12</th>\n",
              "      <th>Preferencial_creditlag_12</th>\n",
              "      <th>loan_overdraftslag_12</th>\n",
              "      <th>Credit_cardlag_12</th>\n",
              "      <th>Treasury_loanlag_12</th>\n",
              "      <th>Housing_loanlag_12</th>\n",
              "      <th>holiday</th>\n",
              "      <th>sunday</th>\n",
              "      <th>working_day</th>\n",
              "    </tr>\n",
              "  </thead>\n",
              "  <tbody>\n",
              "    <tr>\n",
              "      <th>0</th>\n",
              "      <td>736330</td>\n",
              "      <td>1.5398804689666509837309149588691070675850</td>\n",
              "      <td>0.7037683986024961813043887559615541249514</td>\n",
              "      <td>-1.6320217262774781019629699585493654012680</td>\n",
              "      <td>-0.8892694303807807676420793541183229535818</td>\n",
              "      <td>-0.5282414249959070939866023763897828757763</td>\n",
              "      <td>-1.1036509150189912631390143360476940870285</td>\n",
              "      <td>-0.2877982153665825104660314082138938829303</td>\n",
              "      <td>-1.1017813772253766124720186780905351042747</td>\n",
              "      <td>0.0163987064736433284239947028027017950080</td>\n",
              "      <td>-0.9661552761068832317903343209763988852501</td>\n",
              "      <td>-0.6212750748145762225149724145012442022562</td>\n",
              "      <td>-0.5536528719735195336326682991057168692350</td>\n",
              "      <td>-0.5363805995985618801924488252552691847086</td>\n",
              "      <td>-0.5986531542645165959726227811188437044621</td>\n",
              "      <td>-0.8447793253373445665488361555617302656174</td>\n",
              "      <td>1.9012251703578022521412549394881352782249</td>\n",
              "      <td>0.7289060050845161953247952624224126338959</td>\n",
              "      <td>-0.7548188817539202011275278891844209283590</td>\n",
              "      <td>2.3889632530828475154294210369698703289032</td>\n",
              "      <td>-0.9449422942525711466288385054212994873524</td>\n",
              "      <td>-0.4576051665737159712676884737447835505009</td>\n",
              "      <td>-0.1112012786719468182550230039851157926023</td>\n",
              "      <td>-0.6875917537881847119152212144399527460337</td>\n",
              "      <td>-1.4809740836958307230730724768363870680332</td>\n",
              "      <td>-2.1568769866068868701347582828020676970482</td>\n",
              "      <td>-0.4650218452896614507174888331064721569419</td>\n",
              "      <td>-0.0357188494907606721162629526133969193324</td>\n",
              "      <td>-0.4662152605505506253180669773428235203028</td>\n",
              "      <td>0.4335469147310838655684506193210836499929</td>\n",
              "      <td>2.4978947410654699368137698911596089601517</td>\n",
              "      <td>-0.9912255518351318350767087395070120692253</td>\n",
              "      <td>-1.2322096535579591947140443153330124914646</td>\n",
              "      <td>-1.8312421100331854884046833831234835088253</td>\n",
              "      <td>-0.8681144147193229354542154396767728030682</td>\n",
              "      <td>-0.4474710937599114535245803381258156150579</td>\n",
              "      <td>0.5741864338826047076125291823700536042452</td>\n",
              "      <td>1.5659828238407904610340892759268172085285</td>\n",
              "      <td>-0.3077551954812954848605954794038552790880</td>\n",
              "      <td>-0.8635630040570763110707730447757057845592</td>\n",
              "      <td>...</td>\n",
              "      <td>-1.0539663766862135130253363968222402036190</td>\n",
              "      <td>0.0783461164920320335403047806721588131040</td>\n",
              "      <td>-1.3941213626530954972082554377266205847263</td>\n",
              "      <td>1.2666958714516258766025202930904924869537</td>\n",
              "      <td>-1.1081097207338681531751944930874742567539</td>\n",
              "      <td>-0.6249292338845249261680692143272608518600</td>\n",
              "      <td>-0.2450881386572735798345945568144088611007</td>\n",
              "      <td>-0.7763661765844324103014173488190863281488</td>\n",
              "      <td>-0.9020767226536683391913129526074044406414</td>\n",
              "      <td>0.5277329153285308382947960126330144703388</td>\n",
              "      <td>-1.4660867679073195102290583236026577651501</td>\n",
              "      <td>1.2105247319463416921792031644145026803017</td>\n",
              "      <td>-0.7256296945296023537252949608955532312393</td>\n",
              "      <td>-0.4607619025775622767504557941720122471452</td>\n",
              "      <td>0.3889591655772676181967995034938212484121</td>\n",
              "      <td>0.7328559071135721803003093555162195116282</td>\n",
              "      <td>0.0443531359464812563464519712397304829210</td>\n",
              "      <td>1.4146934404574775800966790484380908310413</td>\n",
              "      <td>-0.7727019444612402976346743344038259238005</td>\n",
              "      <td>1.7531475033423529197307288995943963527679</td>\n",
              "      <td>-0.2992515730374132321145452806376852095127</td>\n",
              "      <td>-0.9342089569725809949929384856659453362226</td>\n",
              "      <td>-0.4311089672066072409073456128680845722556</td>\n",
              "      <td>-0.0555543779359058270683746627582877408713</td>\n",
              "      <td>0.0380878981164892785327147350926679791883</td>\n",
              "      <td>0.1454826396022222689818903518244042061269</td>\n",
              "      <td>-1.7667113979711854820919825215241871774197</td>\n",
              "      <td>0.6199687072219547401275008269294630736113</td>\n",
              "      <td>-1.0806123330954351402510837942827492952347</td>\n",
              "      <td>-1.4149531578114054042316638515330851078033</td>\n",
              "      <td>-0.8628474221474254912678247819712851196527</td>\n",
              "      <td>-1.6188211378769450377035354904364794492722</td>\n",
              "      <td>-0.8290651648928155648121673948480747640133</td>\n",
              "      <td>-0.5367413651566006471682612755103036761284</td>\n",
              "      <td>-1.6563846206511123604343538318062201142311</td>\n",
              "      <td>0.5010041924311398053859534229559358209372</td>\n",
              "      <td>-1.5063608993624282295087368765962310135365</td>\n",
              "      <td>-0.3941578917425358485893127635790733620524</td>\n",
              "      <td>1.3572417850765916558231083399732597172260</td>\n",
              "      <td>0.3802253751557677641237376064964337274432</td>\n",
              "    </tr>\n",
              "    <tr>\n",
              "      <th>1</th>\n",
              "      <td>736361</td>\n",
              "      <td>0.1104206017952082674593583533351193182170</td>\n",
              "      <td>0.3254175265182817078368771035457029938698</td>\n",
              "      <td>-1.5798329326897497804083059236290864646435</td>\n",
              "      <td>0.2262658218091032347185631579122855328023</td>\n",
              "      <td>0.5804179092349933677397189057955984026194</td>\n",
              "      <td>-0.7371664107906195084751743706874549388885</td>\n",
              "      <td>1.3590213497854817248366998683195561170578</td>\n",
              "      <td>-0.8597174017377917643045748263830319046974</td>\n",
              "      <td>1.3882361845158355251328430313151329755783</td>\n",
              "      <td>-0.0900027828239795962828040387648798059672</td>\n",
              "      <td>0.0660739727948305571869624941427900921553</td>\n",
              "      <td>0.3525549162270176228872742285602726042271</td>\n",
              "      <td>-0.1371131868616877469424508717565913684666</td>\n",
              "      <td>0.3533438126252826938511475418636109679937</td>\n",
              "      <td>-0.4700997925565224000443720342445885762572</td>\n",
              "      <td>1.7846253302677153040889379553846083581448</td>\n",
              "      <td>0.7289060050845161953247952624224126338959</td>\n",
              "      <td>-0.7548188817539202011275278891844209283590</td>\n",
              "      <td>2.0730439443235382235286579089006409049034</td>\n",
              "      <td>-1.1303830141468511616409386988379992544651</td>\n",
              "      <td>-0.3636364007924952623795888939639553427696</td>\n",
              "      <td>-0.0078768901152763606127171769344386120792</td>\n",
              "      <td>-0.6081647780120161828065761255857069045305</td>\n",
              "      <td>-0.9851893373834512690478959484607912600040</td>\n",
              "      <td>-1.3639126478770409178764566604513674974442</td>\n",
              "      <td>-0.3657307941583347044023355465469649061561</td>\n",
              "      <td>-0.4031878217621148174920620022021466866136</td>\n",
              "      <td>1.1366620141723360326579950196901336312294</td>\n",
              "      <td>-1.2610254167885657228254103756626136600971</td>\n",
              "      <td>-0.7444867745474373910141707710863556712866</td>\n",
              "      <td>-1.4772106303311340891326608470990322530270</td>\n",
              "      <td>-1.4069644211564737990016737967380322515965</td>\n",
              "      <td>-0.3765153011100726976323471717478241771460</td>\n",
              "      <td>-0.8297899038362199775065164430998265743256</td>\n",
              "      <td>-1.5768237745187887455244890588801354169846</td>\n",
              "      <td>-0.8970719827061902629239398265781346708536</td>\n",
              "      <td>0.1091775998808299091846762962632055860013</td>\n",
              "      <td>0.7613520441069230315633831196464598178864</td>\n",
              "      <td>-0.9595788054361849006568263575900346040726</td>\n",
              "      <td>...</td>\n",
              "      <td>0.2928356637452457778003633848129538819194</td>\n",
              "      <td>1.2723638590101284950861781908315606415272</td>\n",
              "      <td>-0.1740098388252847294577208003829582594335</td>\n",
              "      <td>2.2459523996783308241731447196798399090767</td>\n",
              "      <td>0.2235096038162782960956320721379597671330</td>\n",
              "      <td>-0.8002225413661304687096276211377698928118</td>\n",
              "      <td>-0.4703253816781551299719410508259898051620</td>\n",
              "      <td>-0.6347133164574209063246712503314483910799</td>\n",
              "      <td>-1.0354860549892122012494155569584108889103</td>\n",
              "      <td>0.0267400185849670860016580320461798692122</td>\n",
              "      <td>-1.3312543617805463469494497985579073429108</td>\n",
              "      <td>1.2189038599970212217726839298848062753677</td>\n",
              "      <td>-1.0847253137012666801552995821111835539341</td>\n",
              "      <td>-0.6021515476067663685810771312389988452196</td>\n",
              "      <td>-0.2247410890428863938783621279071667231619</td>\n",
              "      <td>-0.7748011584566838472198924137046560645103</td>\n",
              "      <td>-0.8925803195419570457147528941277414560318</td>\n",
              "      <td>0.4731377967812105400646771613537566736341</td>\n",
              "      <td>-1.4605724778961584053860178755712695419788</td>\n",
              "      <td>1.1389985784213410013876455195713788270950</td>\n",
              "      <td>-0.7097556128822090082408635680621955543756</td>\n",
              "      <td>-0.4615238734544434007212032611278118565679</td>\n",
              "      <td>0.3798339285733995374094718044943874701858</td>\n",
              "      <td>0.7240507758694404438770675369596574455500</td>\n",
              "      <td>0.0270793134549073624683934724544087657705</td>\n",
              "      <td>1.4871961993808029411923143925378099083900</td>\n",
              "      <td>-0.7278216984263999878024264944542665034533</td>\n",
              "      <td>1.7310900090802225914643486248678527772427</td>\n",
              "      <td>-0.3002462217837415514587462439521914348006</td>\n",
              "      <td>-0.9033583579719119960316220385720953345299</td>\n",
              "      <td>-0.4099891349243037774741083012486342340708</td>\n",
              "      <td>-0.0457204049938127188301706382844713516533</td>\n",
              "      <td>0.0389520046698501459792041146101837512106</td>\n",
              "      <td>0.1172540426883387637557731864035304170102</td>\n",
              "      <td>-1.6856063281489166438831261984887532889843</td>\n",
              "      <td>0.5976523660499235557352903924765996634960</td>\n",
              "      <td>-1.0308191619286541929056966182542964816093</td>\n",
              "      <td>-0.6537252838656691933394426996528636664152</td>\n",
              "      <td>-0.7367883976130076284505321382312104105949</td>\n",
              "      <td>0.1203244858087870738927449565380811691284</td>\n",
              "    </tr>\n",
              "    <tr>\n",
              "      <th>2</th>\n",
              "      <td>736389</td>\n",
              "      <td>-1.3141692556133803826412531634559854865074</td>\n",
              "      <td>-0.2501925928644274654821799686033045873046</td>\n",
              "      <td>-1.5051256127195122846984531861380673944950</td>\n",
              "      <td>0.0079096176539989945797337611566035775468</td>\n",
              "      <td>0.1639658775314121741395467779511818662286</td>\n",
              "      <td>-0.3857241809895315398648563132155686616898</td>\n",
              "      <td>0.5019148394859813677726378955412656068802</td>\n",
              "      <td>-0.4035518118893644534672660029173130169511</td>\n",
              "      <td>0.5008699272111245548444458108860999345779</td>\n",
              "      <td>0.4154595418957254260305944626452401280403</td>\n",
              "      <td>0.6121647905274394396712978050345554947853</td>\n",
              "      <td>0.6920952750237333583882559651101473718882</td>\n",
              "      <td>0.3855129253408401401870264635363128036261</td>\n",
              "      <td>0.9923174463494420782794236401969101279974</td>\n",
              "      <td>0.1244030725557158933991530602725106291473</td>\n",
              "      <td>1.6898879601945202555413061418221332132816</td>\n",
              "      <td>0.7289060050845161953247952624224126338959</td>\n",
              "      <td>-0.7548188817539202011275278891844209283590</td>\n",
              "      <td>1.5392492502129822007361781288636848330498</td>\n",
              "      <td>-0.9483583850113042057472512169624678790569</td>\n",
              "      <td>-0.5942870077100366188460611738264560699463</td>\n",
              "      <td>-0.3014903609304823151049390617117751389742</td>\n",
              "      <td>-0.7705045941696442302060177098610438406467</td>\n",
              "      <td>-0.7162891359936861546131581235385965555906</td>\n",
              "      <td>-1.2128718214523084295564103740616701543331</td>\n",
              "      <td>-0.1009546578081302325990975532477023079991</td>\n",
              "      <td>-0.6422962222564143619507603943930007517338</td>\n",
              "      <td>0.0501547818817341325980940780482342233881</td>\n",
              "      <td>-0.7510320689558601658930570010852534323931</td>\n",
              "      <td>-0.2582681501077006558375614986289292573929</td>\n",
              "      <td>-1.3085887114521717045079185481881722807884</td>\n",
              "      <td>-0.7914152152604621015541397355264052748680</td>\n",
              "      <td>-0.6590199402915799531399443367263302206993</td>\n",
              "      <td>-0.6628226804198555921487923114909790456295</td>\n",
              "      <td>0.2294592021679828508506915341058629564941</td>\n",
              "      <td>0.3045244941307028163635095552308484911919</td>\n",
              "      <td>0.1765211875132899621565485404062201268971</td>\n",
              "      <td>-1.1174970978474243477052141315652988851070</td>\n",
              "      <td>-1.1962992141051080885461033176397904753685</td>\n",
              "      <td>...</td>\n",
              "      <td>-1.2615185116737344106496720996801741421223</td>\n",
              "      <td>-0.0343810523536029338798059029613796155900</td>\n",
              "      <td>-1.3222623253618095429118284300784580409527</td>\n",
              "      <td>0.7109951724704878239791128180513624101877</td>\n",
              "      <td>-1.1074072987989134198016927257413044571877</td>\n",
              "      <td>-0.2224144318500162476048842563614016398787</td>\n",
              "      <td>0.5472294982438785648781731651979498565197</td>\n",
              "      <td>1.2853481865320661725604622915852814912796</td>\n",
              "      <td>0.3021199326483725022818305205873912200332</td>\n",
              "      <td>1.2820446157326188529879118505050428211689</td>\n",
              "      <td>-0.1304594836781166888872718345737666822970</td>\n",
              "      <td>2.1893704163532645701195633591851219534874</td>\n",
              "      <td>0.2411061001151283134102953908950439654291</td>\n",
              "      <td>-0.7786726632544290760407079687865916639566</td>\n",
              "      <td>-0.4569933463816822638570158687798539176583</td>\n",
              "      <td>-0.6325858516737294934273450053296983242035</td>\n",
              "      <td>-1.0280302020061828915942214734968729317188</td>\n",
              "      <td>-0.0359712161681412581626382518606988014653</td>\n",
              "      <td>-1.3214127107840851760300893147359602153301</td>\n",
              "      <td>1.1471333939476835439563728868961334228516</td>\n",
              "      <td>-1.0700862463105491606540908833267167210579</td>\n",
              "      <td>-0.6029846029972814047681595184258185327053</td>\n",
              "      <td>-0.2400563128935999657187494449317455291748</td>\n",
              "      <td>-0.8444567497871859895752777447341941297054</td>\n",
              "      <td>-0.9168965926205820959893344479496590793133</td>\n",
              "      <td>0.4542799849302776582504748148494400084019</td>\n",
              "      <td>-1.3968617721577911705566066302708350121975</td>\n",
              "      <td>1.1148853592644336618633360558305867016315</td>\n",
              "      <td>-0.7110881662989879670178083870268892496824</td>\n",
              "      <td>-0.4382138543204868175173771760455565527081</td>\n",
              "      <td>0.3953111149607168584019234458537539467216</td>\n",
              "      <td>0.7240210635052425347524263088416773825884</td>\n",
              "      <td>0.0279513272567825515890760357251565437764</td>\n",
              "      <td>1.5283742457290643290690468347747810184956</td>\n",
              "      <td>-0.6663878715836977217890080282813869416714</td>\n",
              "      <td>1.7129142844498428388533284305594861507416</td>\n",
              "      <td>-0.2672640211587830605388660387689014896750</td>\n",
              "      <td>-0.3941578917425358485893127635790733620524</td>\n",
              "      <td>-0.7367883976130076284505321382312104105949</td>\n",
              "      <td>0.6401262645027484543547302564547862857580</td>\n",
              "    </tr>\n",
              "  </tbody>\n",
              "</table>\n",
              "<p>3 rows × 943 columns</p>\n",
              "</div>"
            ],
            "text/plain": [
              "     date  ...                                working_day\n",
              "0  736330  ... 0.3802253751557677641237376064964337274432\n",
              "1  736361  ... 0.1203244858087870738927449565380811691284\n",
              "2  736389  ... 0.6401262645027484543547302564547862857580\n",
              "\n",
              "[3 rows x 943 columns]"
            ]
          },
          "metadata": {},
          "execution_count": 232
        }
      ]
    },
    {
      "cell_type": "markdown",
      "metadata": {
        "id": "KnWqWbXhfwKv"
      },
      "source": [
        "# Jason's tutorial\n",
        "\n",
        "https://machinelearningmastery.com/lasso-regression-with-python/"
      ]
    },
    {
      "cell_type": "code",
      "metadata": {
        "id": "4myJVKHKf4KJ"
      },
      "source": [
        "\n",
        "# evaluate an lasso regression model on the dataset\n",
        "from numpy import mean\n",
        "from numpy import std\n",
        "from numpy import absolute\n",
        "from pandas import read_csv\n",
        "from sklearn.model_selection import cross_val_score\n",
        "from sklearn.model_selection import RepeatedKFold\n",
        "from sklearn.linear_model import Lasso"
      ],
      "execution_count": 52,
      "outputs": []
    },
    {
      "cell_type": "markdown",
      "metadata": {
        "id": "Q3ymQiw-gCaI"
      },
      "source": [
        "## The Model"
      ]
    },
    {
      "cell_type": "markdown",
      "metadata": {
        "id": "oVz2I2SFghyu"
      },
      "source": [
        "## Split the data"
      ]
    },
    {
      "cell_type": "code",
      "metadata": {
        "id": "fV60zxy9gkMT"
      },
      "source": [
        "#y = data_robust_scaled_named['diagnosis']\n",
        "y = data['Quantity']"
      ],
      "execution_count": 233,
      "outputs": []
    },
    {
      "cell_type": "code",
      "metadata": {
        "id": "Dleo3-0ggkIH"
      },
      "source": [
        "y"
      ],
      "execution_count": null,
      "outputs": []
    },
    {
      "cell_type": "code",
      "metadata": {
        "id": "YZ0uZEMjhFvh"
      },
      "source": [
        "X = data.loc[: ,data.columns != 'Quantity']"
      ],
      "execution_count": 234,
      "outputs": []
    },
    {
      "cell_type": "code",
      "metadata": {
        "id": "Ibm1JM4PhFrX"
      },
      "source": [
        "X"
      ],
      "execution_count": null,
      "outputs": []
    },
    {
      "cell_type": "code",
      "metadata": {
        "id": "MrJrnnRuf4Gg"
      },
      "source": [
        "# define model\n",
        "model = Lasso(alpha=1.0) # <<<--- Alpha 1 maybe be the default value"
      ],
      "execution_count": 55,
      "outputs": []
    },
    {
      "cell_type": "code",
      "metadata": {
        "id": "6FVUqjmQhX_n"
      },
      "source": [
        "X_train, X_test,y_train,y_test = train_test_split(X , y , test_size= 0.1)"
      ],
      "execution_count": 62,
      "outputs": []
    },
    {
      "cell_type": "code",
      "metadata": {
        "colab": {
          "base_uri": "https://localhost:8080/"
        },
        "id": "CzDREgDUhX8G",
        "outputId": "1cc04cfc-1545-46cd-cd22-088e456f5b7c"
      },
      "source": [
        "model.fit(X_train, y_train)"
      ],
      "execution_count": 63,
      "outputs": [
        {
          "output_type": "execute_result",
          "data": {
            "text/plain": [
              "Lasso()"
            ]
          },
          "metadata": {},
          "execution_count": 63
        }
      ]
    },
    {
      "cell_type": "code",
      "metadata": {
        "colab": {
          "base_uri": "https://localhost:8080/"
        },
        "id": "c9dAGIgEhX5W",
        "outputId": "dddaece1-b002-4496-f460-27e72bcfb4bf"
      },
      "source": [
        "print(\"Accuracy score for training data\", model.score(X_train,y_train))"
      ],
      "execution_count": 64,
      "outputs": [
        {
          "output_type": "stream",
          "name": "stdout",
          "text": [
            "Accuracy score for training data 0.039568807943403006\n"
          ]
        }
      ]
    },
    {
      "cell_type": "code",
      "metadata": {
        "colab": {
          "base_uri": "https://localhost:8080/"
        },
        "id": "_U5Qz2AphX2d",
        "outputId": "98b5099c-5dd8-41b1-a688-5061202e1964"
      },
      "source": [
        "print(\"Accuracy score for test Data\", model.score(X_test,y_test))"
      ],
      "execution_count": 65,
      "outputs": [
        {
          "output_type": "stream",
          "name": "stdout",
          "text": [
            "Accuracy score for test Data 0.2894808286566768\n"
          ]
        }
      ]
    },
    {
      "cell_type": "code",
      "metadata": {
        "colab": {
          "base_uri": "https://localhost:8080/"
        },
        "id": "nS6PQZ6EjEGH",
        "outputId": "df7cbc97-e0aa-4795-e236-e2e0d2babac9"
      },
      "source": [
        "# all in one cell\n",
        "\n",
        "X_train, X_test,y_train,y_test = train_test_split(X , y , test_size= 0.5 , random_state= 1)\n",
        "model.fit(X_train, y_train)\n",
        "print(\"Accuracy score for training data\", model.score(X_train,y_train))\n",
        "print(\"Accuracy score for test Data\", model.score(X_test,y_test))"
      ],
      "execution_count": 73,
      "outputs": [
        {
          "output_type": "stream",
          "name": "stdout",
          "text": [
            "Accuracy score for training data 0.06614793513532946\n",
            "Accuracy score for test Data 0.043636967663260195\n"
          ]
        }
      ]
    },
    {
      "cell_type": "markdown",
      "metadata": {
        "id": "h1vjcdNiiwH-"
      },
      "source": [
        "30/70 split : 7% training, 4% testing\n",
        "\n",
        "10/90 split : training score 3%, test set 10%\n",
        "\n",
        "50/50 split: training= 6% , testing = 4%"
      ]
    },
    {
      "cell_type": "markdown",
      "metadata": {
        "id": "iGM_kcECl5GQ"
      },
      "source": [
        "# Grid Search"
      ]
    },
    {
      "cell_type": "code",
      "metadata": {
        "id": "5xi3gCbgnGbX"
      },
      "source": [
        "pipeline = Pipeline([\n",
        "                     ('scaler',StandardScaler()),\n",
        "                     ('model',Lasso())\n",
        "])"
      ],
      "execution_count": 74,
      "outputs": []
    },
    {
      "cell_type": "code",
      "metadata": {
        "id": "ZyVjPpTaiwrh"
      },
      "source": [
        "search = GridSearchCV(pipeline,\n",
        "                      {'model__alpha':np.arange(0.1,10,0.1)},\n",
        "                      cv = 5, scoring=\"neg_mean_squared_error\",verbose=3\n",
        "                      )"
      ],
      "execution_count": 75,
      "outputs": []
    },
    {
      "cell_type": "code",
      "metadata": {
        "colab": {
          "base_uri": "https://localhost:8080/"
        },
        "id": "r4K5MH_RvtXP",
        "outputId": "0474fe8b-ebed-4a85-b90e-6e1bc28ab704"
      },
      "source": [
        "search"
      ],
      "execution_count": 89,
      "outputs": [
        {
          "output_type": "execute_result",
          "data": {
            "text/plain": [
              "GridSearchCV(cv=5,\n",
              "             estimator=Pipeline(steps=[('scaler', StandardScaler()),\n",
              "                                       ('model', Lasso())]),\n",
              "             param_grid={'model__alpha': array([0.1, 0.2, 0.3, 0.4, 0.5, 0.6, 0.7, 0.8, 0.9, 1. , 1.1, 1.2, 1.3,\n",
              "       1.4, 1.5, 1.6, 1.7, 1.8, 1.9, 2. , 2.1, 2.2, 2.3, 2.4, 2.5, 2.6,\n",
              "       2.7, 2.8, 2.9, 3. , 3.1, 3.2, 3.3, 3.4, 3.5, 3.6, 3.7, 3.8, 3.9,\n",
              "       4. , 4.1, 4.2, 4.3, 4.4, 4.5, 4.6, 4.7, 4.8, 4.9, 5. , 5.1, 5.2,\n",
              "       5.3, 5.4, 5.5, 5.6, 5.7, 5.8, 5.9, 6. , 6.1, 6.2, 6.3, 6.4, 6.5,\n",
              "       6.6, 6.7, 6.8, 6.9, 7. , 7.1, 7.2, 7.3, 7.4, 7.5, 7.6, 7.7, 7.8,\n",
              "       7.9, 8. , 8.1, 8.2, 8.3, 8.4, 8.5, 8.6, 8.7, 8.8, 8.9, 9. , 9.1,\n",
              "       9.2, 9.3, 9.4, 9.5, 9.6, 9.7, 9.8, 9.9])},\n",
              "             scoring='neg_mean_squared_error', verbose=3)"
            ]
          },
          "metadata": {},
          "execution_count": 89
        }
      ]
    },
    {
      "cell_type": "code",
      "metadata": {
        "colab": {
          "base_uri": "https://localhost:8080/"
        },
        "id": "OMVzJD1yixUW",
        "outputId": "226e3569-883b-4637-9ab0-fd444f1c4916"
      },
      "source": [
        "search.fit(X_train,y_train)"
      ],
      "execution_count": 76,
      "outputs": [
        {
          "output_type": "stream",
          "name": "stdout",
          "text": [
            "Fitting 5 folds for each of 99 candidates, totalling 495 fits\n",
            "[CV 1/5] END .................model__alpha=0.1;, score=-0.607 total time=   0.0s\n",
            "[CV 2/5] END .................model__alpha=0.1;, score=-0.725 total time=   0.0s\n",
            "[CV 3/5] END .................model__alpha=0.1;, score=-0.330 total time=   0.1s\n",
            "[CV 4/5] END .................model__alpha=0.1;, score=-0.655 total time=   0.1s\n",
            "[CV 5/5] END .................model__alpha=0.1;, score=-0.541 total time=   0.0s\n",
            "[CV 1/5] END .................model__alpha=0.2;, score=-0.487 total time=   0.0s\n",
            "[CV 2/5] END .................model__alpha=0.2;, score=-0.634 total time=   0.0s\n",
            "[CV 3/5] END .................model__alpha=0.2;, score=-0.162 total time=   0.1s\n",
            "[CV 4/5] END .................model__alpha=0.2;, score=-0.780 total time=   0.0s\n",
            "[CV 5/5] END .................model__alpha=0.2;, score=-0.433 total time=   0.0s\n",
            "[CV 1/5] END .model__alpha=0.30000000000000004;, score=-0.440 total time=   0.0s\n",
            "[CV 2/5] END .model__alpha=0.30000000000000004;, score=-0.643 total time=   0.1s\n",
            "[CV 3/5] END .model__alpha=0.30000000000000004;, score=-0.115 total time=   0.0s\n",
            "[CV 4/5] END .model__alpha=0.30000000000000004;, score=-0.843 total time=   0.0s\n",
            "[CV 5/5] END .model__alpha=0.30000000000000004;, score=-0.394 total time=   0.0s\n",
            "[CV 1/5] END .................model__alpha=0.4;, score=-0.376 total time=   0.0s\n",
            "[CV 2/5] END .................model__alpha=0.4;, score=-0.625 total time=   0.0s\n",
            "[CV 3/5] END .................model__alpha=0.4;, score=-0.190 total time=   0.1s\n",
            "[CV 4/5] END .................model__alpha=0.4;, score=-0.867 total time=   0.1s\n",
            "[CV 5/5] END .................model__alpha=0.4;, score=-0.369 total time=   0.1s\n",
            "[CV 1/5] END .................model__alpha=0.5;, score=-0.374 total time=   0.0s\n",
            "[CV 2/5] END .................model__alpha=0.5;, score=-0.609 total time=   0.1s\n",
            "[CV 3/5] END .................model__alpha=0.5;, score=-0.244 total time=   0.0s\n",
            "[CV 4/5] END .................model__alpha=0.5;, score=-0.890 total time=   0.0s\n",
            "[CV 5/5] END .................model__alpha=0.5;, score=-0.352 total time=   0.0s\n",
            "[CV 1/5] END .................model__alpha=0.6;, score=-0.399 total time=   0.0s\n",
            "[CV 2/5] END .................model__alpha=0.6;, score=-0.609 total time=   0.1s\n",
            "[CV 3/5] END .................model__alpha=0.6;, score=-0.247 total time=   0.0s\n",
            "[CV 4/5] END .................model__alpha=0.6;, score=-0.890 total time=   0.0s\n",
            "[CV 5/5] END .................model__alpha=0.6;, score=-0.354 total time=   0.0s\n",
            "[CV 1/5] END ..model__alpha=0.7000000000000001;, score=-0.399 total time=   0.1s\n",
            "[CV 2/5] END ..model__alpha=0.7000000000000001;, score=-0.609 total time=   0.1s\n",
            "[CV 3/5] END ..model__alpha=0.7000000000000001;, score=-0.247 total time=   0.0s\n",
            "[CV 4/5] END ..model__alpha=0.7000000000000001;, score=-0.890 total time=   0.0s\n",
            "[CV 5/5] END ..model__alpha=0.7000000000000001;, score=-0.354 total time=   0.1s\n",
            "[CV 1/5] END .................model__alpha=0.8;, score=-0.399 total time=   0.0s\n",
            "[CV 2/5] END .................model__alpha=0.8;, score=-0.609 total time=   0.0s\n",
            "[CV 3/5] END .................model__alpha=0.8;, score=-0.247 total time=   0.0s\n",
            "[CV 4/5] END .................model__alpha=0.8;, score=-0.890 total time=   0.0s\n",
            "[CV 5/5] END .................model__alpha=0.8;, score=-0.354 total time=   0.0s\n",
            "[CV 1/5] END .................model__alpha=0.9;, score=-0.399 total time=   0.0s\n",
            "[CV 2/5] END .................model__alpha=0.9;, score=-0.609 total time=   0.0s\n",
            "[CV 3/5] END .................model__alpha=0.9;, score=-0.247 total time=   0.0s\n",
            "[CV 4/5] END .................model__alpha=0.9;, score=-0.890 total time=   0.0s\n",
            "[CV 5/5] END .................model__alpha=0.9;, score=-0.354 total time=   0.0s\n",
            "[CV 1/5] END .................model__alpha=1.0;, score=-0.399 total time=   0.0s\n",
            "[CV 2/5] END .................model__alpha=1.0;, score=-0.609 total time=   0.0s\n",
            "[CV 3/5] END .................model__alpha=1.0;, score=-0.247 total time=   0.0s\n",
            "[CV 4/5] END .................model__alpha=1.0;, score=-0.890 total time=   0.0s\n",
            "[CV 5/5] END .................model__alpha=1.0;, score=-0.354 total time=   0.0s\n",
            "[CV 1/5] END .................model__alpha=1.1;, score=-0.399 total time=   0.1s\n",
            "[CV 2/5] END .................model__alpha=1.1;, score=-0.609 total time=   0.1s\n",
            "[CV 3/5] END .................model__alpha=1.1;, score=-0.247 total time=   0.1s\n",
            "[CV 4/5] END .................model__alpha=1.1;, score=-0.890 total time=   0.0s\n",
            "[CV 5/5] END .................model__alpha=1.1;, score=-0.354 total time=   0.0s\n",
            "[CV 1/5] END ..model__alpha=1.2000000000000002;, score=-0.399 total time=   0.1s\n",
            "[CV 2/5] END ..model__alpha=1.2000000000000002;, score=-0.609 total time=   0.0s\n",
            "[CV 3/5] END ..model__alpha=1.2000000000000002;, score=-0.247 total time=   0.0s\n",
            "[CV 4/5] END ..model__alpha=1.2000000000000002;, score=-0.890 total time=   0.0s\n",
            "[CV 5/5] END ..model__alpha=1.2000000000000002;, score=-0.354 total time=   0.0s\n",
            "[CV 1/5] END ..model__alpha=1.3000000000000003;, score=-0.399 total time=   0.0s\n",
            "[CV 2/5] END ..model__alpha=1.3000000000000003;, score=-0.609 total time=   0.0s\n",
            "[CV 3/5] END ..model__alpha=1.3000000000000003;, score=-0.247 total time=   0.1s\n",
            "[CV 4/5] END ..model__alpha=1.3000000000000003;, score=-0.890 total time=   0.0s\n",
            "[CV 5/5] END ..model__alpha=1.3000000000000003;, score=-0.354 total time=   0.0s\n",
            "[CV 1/5] END ..model__alpha=1.4000000000000001;, score=-0.399 total time=   0.0s\n",
            "[CV 2/5] END ..model__alpha=1.4000000000000001;, score=-0.609 total time=   0.0s\n",
            "[CV 3/5] END ..model__alpha=1.4000000000000001;, score=-0.247 total time=   0.0s\n",
            "[CV 4/5] END ..model__alpha=1.4000000000000001;, score=-0.890 total time=   0.0s\n",
            "[CV 5/5] END ..model__alpha=1.4000000000000001;, score=-0.354 total time=   0.1s\n",
            "[CV 1/5] END ..model__alpha=1.5000000000000002;, score=-0.399 total time=   0.0s\n",
            "[CV 2/5] END ..model__alpha=1.5000000000000002;, score=-0.609 total time=   0.1s\n",
            "[CV 3/5] END ..model__alpha=1.5000000000000002;, score=-0.247 total time=   0.0s\n",
            "[CV 4/5] END ..model__alpha=1.5000000000000002;, score=-0.890 total time=   0.1s\n",
            "[CV 5/5] END ..model__alpha=1.5000000000000002;, score=-0.354 total time=   0.0s\n",
            "[CV 1/5] END .................model__alpha=1.6;, score=-0.399 total time=   0.0s\n",
            "[CV 2/5] END .................model__alpha=1.6;, score=-0.609 total time=   0.1s\n",
            "[CV 3/5] END .................model__alpha=1.6;, score=-0.247 total time=   0.0s\n",
            "[CV 4/5] END .................model__alpha=1.6;, score=-0.890 total time=   0.0s\n",
            "[CV 5/5] END .................model__alpha=1.6;, score=-0.354 total time=   0.1s\n",
            "[CV 1/5] END ..model__alpha=1.7000000000000002;, score=-0.399 total time=   0.0s\n",
            "[CV 2/5] END ..model__alpha=1.7000000000000002;, score=-0.609 total time=   0.0s\n",
            "[CV 3/5] END ..model__alpha=1.7000000000000002;, score=-0.247 total time=   0.1s\n",
            "[CV 4/5] END ..model__alpha=1.7000000000000002;, score=-0.890 total time=   0.0s\n",
            "[CV 5/5] END ..model__alpha=1.7000000000000002;, score=-0.354 total time=   0.0s\n",
            "[CV 1/5] END ..model__alpha=1.8000000000000003;, score=-0.399 total time=   0.1s\n",
            "[CV 2/5] END ..model__alpha=1.8000000000000003;, score=-0.609 total time=   0.0s\n",
            "[CV 3/5] END ..model__alpha=1.8000000000000003;, score=-0.247 total time=   0.0s\n",
            "[CV 4/5] END ..model__alpha=1.8000000000000003;, score=-0.890 total time=   0.0s\n",
            "[CV 5/5] END ..model__alpha=1.8000000000000003;, score=-0.354 total time=   0.0s\n",
            "[CV 1/5] END ..model__alpha=1.9000000000000001;, score=-0.399 total time=   0.0s\n",
            "[CV 2/5] END ..model__alpha=1.9000000000000001;, score=-0.609 total time=   0.1s\n",
            "[CV 3/5] END ..model__alpha=1.9000000000000001;, score=-0.247 total time=   0.1s\n",
            "[CV 4/5] END ..model__alpha=1.9000000000000001;, score=-0.890 total time=   0.0s\n",
            "[CV 5/5] END ..model__alpha=1.9000000000000001;, score=-0.354 total time=   0.1s\n",
            "[CV 1/5] END .................model__alpha=2.0;, score=-0.399 total time=   0.1s\n",
            "[CV 2/5] END .................model__alpha=2.0;, score=-0.609 total time=   0.0s\n",
            "[CV 3/5] END .................model__alpha=2.0;, score=-0.247 total time=   0.0s\n",
            "[CV 4/5] END .................model__alpha=2.0;, score=-0.890 total time=   0.1s\n",
            "[CV 5/5] END .................model__alpha=2.0;, score=-0.354 total time=   0.0s\n",
            "[CV 1/5] END .................model__alpha=2.1;, score=-0.399 total time=   0.0s\n",
            "[CV 2/5] END .................model__alpha=2.1;, score=-0.609 total time=   0.0s\n",
            "[CV 3/5] END .................model__alpha=2.1;, score=-0.247 total time=   0.0s\n",
            "[CV 4/5] END .................model__alpha=2.1;, score=-0.890 total time=   0.1s\n",
            "[CV 5/5] END .................model__alpha=2.1;, score=-0.354 total time=   0.0s\n",
            "[CV 1/5] END .................model__alpha=2.2;, score=-0.399 total time=   0.0s\n",
            "[CV 2/5] END .................model__alpha=2.2;, score=-0.609 total time=   0.0s\n",
            "[CV 3/5] END .................model__alpha=2.2;, score=-0.247 total time=   0.0s\n",
            "[CV 4/5] END .................model__alpha=2.2;, score=-0.890 total time=   0.1s\n",
            "[CV 5/5] END .................model__alpha=2.2;, score=-0.354 total time=   0.0s\n",
            "[CV 1/5] END ..model__alpha=2.3000000000000003;, score=-0.399 total time=   0.0s\n",
            "[CV 2/5] END ..model__alpha=2.3000000000000003;, score=-0.609 total time=   0.1s\n",
            "[CV 3/5] END ..model__alpha=2.3000000000000003;, score=-0.247 total time=   0.0s\n",
            "[CV 4/5] END ..model__alpha=2.3000000000000003;, score=-0.890 total time=   0.0s\n",
            "[CV 5/5] END ..model__alpha=2.3000000000000003;, score=-0.354 total time=   0.0s\n",
            "[CV 1/5] END ..model__alpha=2.4000000000000004;, score=-0.399 total time=   0.0s\n",
            "[CV 2/5] END ..model__alpha=2.4000000000000004;, score=-0.609 total time=   0.0s\n",
            "[CV 3/5] END ..model__alpha=2.4000000000000004;, score=-0.247 total time=   0.0s\n",
            "[CV 4/5] END ..model__alpha=2.4000000000000004;, score=-0.890 total time=   0.0s\n",
            "[CV 5/5] END ..model__alpha=2.4000000000000004;, score=-0.354 total time=   0.1s\n",
            "[CV 1/5] END ..model__alpha=2.5000000000000004;, score=-0.399 total time=   0.0s\n",
            "[CV 2/5] END ..model__alpha=2.5000000000000004;, score=-0.609 total time=   0.1s\n",
            "[CV 3/5] END ..model__alpha=2.5000000000000004;, score=-0.247 total time=   0.0s\n",
            "[CV 4/5] END ..model__alpha=2.5000000000000004;, score=-0.890 total time=   0.0s\n",
            "[CV 5/5] END ..model__alpha=2.5000000000000004;, score=-0.354 total time=   0.0s\n",
            "[CV 1/5] END .................model__alpha=2.6;, score=-0.399 total time=   0.1s\n",
            "[CV 2/5] END .................model__alpha=2.6;, score=-0.609 total time=   0.1s\n",
            "[CV 3/5] END .................model__alpha=2.6;, score=-0.247 total time=   0.0s\n",
            "[CV 4/5] END .................model__alpha=2.6;, score=-0.890 total time=   0.1s\n",
            "[CV 5/5] END .................model__alpha=2.6;, score=-0.354 total time=   0.0s\n",
            "[CV 1/5] END .................model__alpha=2.7;, score=-0.399 total time=   0.0s\n",
            "[CV 2/5] END .................model__alpha=2.7;, score=-0.609 total time=   0.1s\n",
            "[CV 3/5] END .................model__alpha=2.7;, score=-0.247 total time=   0.0s\n",
            "[CV 4/5] END .................model__alpha=2.7;, score=-0.890 total time=   0.0s\n",
            "[CV 5/5] END .................model__alpha=2.7;, score=-0.354 total time=   0.0s\n",
            "[CV 1/5] END ..model__alpha=2.8000000000000003;, score=-0.399 total time=   0.0s\n",
            "[CV 2/5] END ..model__alpha=2.8000000000000003;, score=-0.609 total time=   0.1s\n",
            "[CV 3/5] END ..model__alpha=2.8000000000000003;, score=-0.247 total time=   0.1s\n",
            "[CV 4/5] END ..model__alpha=2.8000000000000003;, score=-0.890 total time=   0.1s\n",
            "[CV 5/5] END ..model__alpha=2.8000000000000003;, score=-0.354 total time=   0.1s\n",
            "[CV 1/5] END ..model__alpha=2.9000000000000004;, score=-0.399 total time=   0.1s\n",
            "[CV 2/5] END ..model__alpha=2.9000000000000004;, score=-0.609 total time=   0.1s\n",
            "[CV 3/5] END ..model__alpha=2.9000000000000004;, score=-0.247 total time=   0.0s\n",
            "[CV 4/5] END ..model__alpha=2.9000000000000004;, score=-0.890 total time=   0.0s\n",
            "[CV 5/5] END ..model__alpha=2.9000000000000004;, score=-0.354 total time=   0.0s\n",
            "[CV 1/5] END ..model__alpha=3.0000000000000004;, score=-0.399 total time=   0.0s\n",
            "[CV 2/5] END ..model__alpha=3.0000000000000004;, score=-0.609 total time=   0.0s\n",
            "[CV 3/5] END ..model__alpha=3.0000000000000004;, score=-0.247 total time=   0.1s\n",
            "[CV 4/5] END ..model__alpha=3.0000000000000004;, score=-0.890 total time=   0.0s\n",
            "[CV 5/5] END ..model__alpha=3.0000000000000004;, score=-0.354 total time=   0.1s\n",
            "[CV 1/5] END .................model__alpha=3.1;, score=-0.399 total time=   0.0s\n",
            "[CV 2/5] END .................model__alpha=3.1;, score=-0.609 total time=   0.1s\n",
            "[CV 3/5] END .................model__alpha=3.1;, score=-0.247 total time=   0.1s\n",
            "[CV 4/5] END .................model__alpha=3.1;, score=-0.890 total time=   0.0s\n",
            "[CV 5/5] END .................model__alpha=3.1;, score=-0.354 total time=   0.0s\n",
            "[CV 1/5] END .................model__alpha=3.2;, score=-0.399 total time=   0.1s\n",
            "[CV 2/5] END .................model__alpha=3.2;, score=-0.609 total time=   0.0s\n",
            "[CV 3/5] END .................model__alpha=3.2;, score=-0.247 total time=   0.1s\n",
            "[CV 4/5] END .................model__alpha=3.2;, score=-0.890 total time=   0.0s\n",
            "[CV 5/5] END .................model__alpha=3.2;, score=-0.354 total time=   0.0s\n",
            "[CV 1/5] END ..model__alpha=3.3000000000000003;, score=-0.399 total time=   0.0s\n",
            "[CV 2/5] END ..model__alpha=3.3000000000000003;, score=-0.609 total time=   0.0s\n",
            "[CV 3/5] END ..model__alpha=3.3000000000000003;, score=-0.247 total time=   0.1s\n",
            "[CV 4/5] END ..model__alpha=3.3000000000000003;, score=-0.890 total time=   0.0s\n",
            "[CV 5/5] END ..model__alpha=3.3000000000000003;, score=-0.354 total time=   0.0s\n",
            "[CV 1/5] END ..model__alpha=3.4000000000000004;, score=-0.399 total time=   0.0s\n",
            "[CV 2/5] END ..model__alpha=3.4000000000000004;, score=-0.609 total time=   0.0s\n",
            "[CV 3/5] END ..model__alpha=3.4000000000000004;, score=-0.247 total time=   0.1s\n",
            "[CV 4/5] END ..model__alpha=3.4000000000000004;, score=-0.890 total time=   0.0s\n",
            "[CV 5/5] END ..model__alpha=3.4000000000000004;, score=-0.354 total time=   0.0s\n",
            "[CV 1/5] END ..model__alpha=3.5000000000000004;, score=-0.399 total time=   0.1s\n",
            "[CV 2/5] END ..model__alpha=3.5000000000000004;, score=-0.609 total time=   0.1s\n",
            "[CV 3/5] END ..model__alpha=3.5000000000000004;, score=-0.247 total time=   0.0s\n",
            "[CV 4/5] END ..model__alpha=3.5000000000000004;, score=-0.890 total time=   0.0s\n",
            "[CV 5/5] END ..model__alpha=3.5000000000000004;, score=-0.354 total time=   0.0s\n",
            "[CV 1/5] END .................model__alpha=3.6;, score=-0.399 total time=   0.0s\n",
            "[CV 2/5] END .................model__alpha=3.6;, score=-0.609 total time=   0.1s\n",
            "[CV 3/5] END .................model__alpha=3.6;, score=-0.247 total time=   0.0s\n",
            "[CV 4/5] END .................model__alpha=3.6;, score=-0.890 total time=   0.0s\n",
            "[CV 5/5] END .................model__alpha=3.6;, score=-0.354 total time=   0.0s\n",
            "[CV 1/5] END .................model__alpha=3.7;, score=-0.399 total time=   0.0s\n",
            "[CV 2/5] END .................model__alpha=3.7;, score=-0.609 total time=   0.0s\n",
            "[CV 3/5] END .................model__alpha=3.7;, score=-0.247 total time=   0.0s\n",
            "[CV 4/5] END .................model__alpha=3.7;, score=-0.890 total time=   0.0s\n",
            "[CV 5/5] END .................model__alpha=3.7;, score=-0.354 total time=   0.0s\n",
            "[CV 1/5] END ..model__alpha=3.8000000000000003;, score=-0.399 total time=   0.0s\n",
            "[CV 2/5] END ..model__alpha=3.8000000000000003;, score=-0.609 total time=   0.1s\n",
            "[CV 3/5] END ..model__alpha=3.8000000000000003;, score=-0.247 total time=   0.0s\n",
            "[CV 4/5] END ..model__alpha=3.8000000000000003;, score=-0.890 total time=   0.0s\n",
            "[CV 5/5] END ..model__alpha=3.8000000000000003;, score=-0.354 total time=   0.0s\n",
            "[CV 1/5] END ..model__alpha=3.9000000000000004;, score=-0.399 total time=   0.0s\n",
            "[CV 2/5] END ..model__alpha=3.9000000000000004;, score=-0.609 total time=   0.1s\n",
            "[CV 3/5] END ..model__alpha=3.9000000000000004;, score=-0.247 total time=   0.0s\n",
            "[CV 4/5] END ..model__alpha=3.9000000000000004;, score=-0.890 total time=   0.0s\n",
            "[CV 5/5] END ..model__alpha=3.9000000000000004;, score=-0.354 total time=   0.0s\n",
            "[CV 1/5] END .................model__alpha=4.0;, score=-0.399 total time=   0.0s\n",
            "[CV 2/5] END .................model__alpha=4.0;, score=-0.609 total time=   0.1s\n",
            "[CV 3/5] END .................model__alpha=4.0;, score=-0.247 total time=   0.0s\n",
            "[CV 4/5] END .................model__alpha=4.0;, score=-0.890 total time=   0.1s\n",
            "[CV 5/5] END .................model__alpha=4.0;, score=-0.354 total time=   0.0s\n",
            "[CV 1/5] END .................model__alpha=4.1;, score=-0.399 total time=   0.0s\n",
            "[CV 2/5] END .................model__alpha=4.1;, score=-0.609 total time=   0.1s\n",
            "[CV 3/5] END .................model__alpha=4.1;, score=-0.247 total time=   0.0s\n",
            "[CV 4/5] END .................model__alpha=4.1;, score=-0.890 total time=   0.0s\n",
            "[CV 5/5] END .................model__alpha=4.1;, score=-0.354 total time=   0.0s\n",
            "[CV 1/5] END .................model__alpha=4.2;, score=-0.399 total time=   0.0s\n",
            "[CV 2/5] END .................model__alpha=4.2;, score=-0.609 total time=   0.1s\n",
            "[CV 3/5] END .................model__alpha=4.2;, score=-0.247 total time=   0.0s\n",
            "[CV 4/5] END .................model__alpha=4.2;, score=-0.890 total time=   0.0s\n",
            "[CV 5/5] END .................model__alpha=4.2;, score=-0.354 total time=   0.0s\n",
            "[CV 1/5] END .................model__alpha=4.3;, score=-0.399 total time=   0.0s\n",
            "[CV 2/5] END .................model__alpha=4.3;, score=-0.609 total time=   0.1s\n",
            "[CV 3/5] END .................model__alpha=4.3;, score=-0.247 total time=   0.0s\n",
            "[CV 4/5] END .................model__alpha=4.3;, score=-0.890 total time=   0.0s\n",
            "[CV 5/5] END .................model__alpha=4.3;, score=-0.354 total time=   0.0s\n",
            "[CV 1/5] END ..model__alpha=4.3999999999999995;, score=-0.399 total time=   0.0s\n",
            "[CV 2/5] END ..model__alpha=4.3999999999999995;, score=-0.609 total time=   0.1s\n",
            "[CV 3/5] END ..model__alpha=4.3999999999999995;, score=-0.247 total time=   0.0s\n",
            "[CV 4/5] END ..model__alpha=4.3999999999999995;, score=-0.890 total time=   0.0s\n",
            "[CV 5/5] END ..model__alpha=4.3999999999999995;, score=-0.354 total time=   0.0s\n",
            "[CV 1/5] END .................model__alpha=4.5;, score=-0.399 total time=   0.0s\n",
            "[CV 2/5] END .................model__alpha=4.5;, score=-0.609 total time=   0.1s\n",
            "[CV 3/5] END .................model__alpha=4.5;, score=-0.247 total time=   0.0s\n",
            "[CV 4/5] END .................model__alpha=4.5;, score=-0.890 total time=   0.0s\n",
            "[CV 5/5] END .................model__alpha=4.5;, score=-0.354 total time=   0.0s\n",
            "[CV 1/5] END .................model__alpha=4.6;, score=-0.399 total time=   0.0s\n",
            "[CV 2/5] END .................model__alpha=4.6;, score=-0.609 total time=   0.1s\n",
            "[CV 3/5] END .................model__alpha=4.6;, score=-0.247 total time=   0.0s\n",
            "[CV 4/5] END .................model__alpha=4.6;, score=-0.890 total time=   0.0s\n",
            "[CV 5/5] END .................model__alpha=4.6;, score=-0.354 total time=   0.0s\n",
            "[CV 1/5] END .................model__alpha=4.7;, score=-0.399 total time=   0.0s\n",
            "[CV 2/5] END .................model__alpha=4.7;, score=-0.609 total time=   0.1s\n",
            "[CV 3/5] END .................model__alpha=4.7;, score=-0.247 total time=   0.0s\n",
            "[CV 4/5] END .................model__alpha=4.7;, score=-0.890 total time=   0.0s\n",
            "[CV 5/5] END .................model__alpha=4.7;, score=-0.354 total time=   0.0s\n",
            "[CV 1/5] END .................model__alpha=4.8;, score=-0.399 total time=   0.0s\n",
            "[CV 2/5] END .................model__alpha=4.8;, score=-0.609 total time=   0.1s\n",
            "[CV 3/5] END .................model__alpha=4.8;, score=-0.247 total time=   0.0s\n",
            "[CV 4/5] END .................model__alpha=4.8;, score=-0.890 total time=   0.0s\n",
            "[CV 5/5] END .................model__alpha=4.8;, score=-0.354 total time=   0.0s\n",
            "[CV 1/5] END .................model__alpha=4.9;, score=-0.399 total time=   0.0s\n",
            "[CV 2/5] END .................model__alpha=4.9;, score=-0.609 total time=   0.1s\n",
            "[CV 3/5] END .................model__alpha=4.9;, score=-0.247 total time=   0.0s\n",
            "[CV 4/5] END .................model__alpha=4.9;, score=-0.890 total time=   0.0s\n",
            "[CV 5/5] END .................model__alpha=4.9;, score=-0.354 total time=   0.0s\n",
            "[CV 1/5] END .................model__alpha=5.0;, score=-0.399 total time=   0.0s\n",
            "[CV 2/5] END .................model__alpha=5.0;, score=-0.609 total time=   0.1s\n",
            "[CV 3/5] END .................model__alpha=5.0;, score=-0.247 total time=   0.0s\n",
            "[CV 4/5] END .................model__alpha=5.0;, score=-0.890 total time=   0.0s\n",
            "[CV 5/5] END .................model__alpha=5.0;, score=-0.354 total time=   0.0s\n",
            "[CV 1/5] END .................model__alpha=5.1;, score=-0.399 total time=   0.0s\n",
            "[CV 2/5] END .................model__alpha=5.1;, score=-0.609 total time=   0.1s\n",
            "[CV 3/5] END .................model__alpha=5.1;, score=-0.247 total time=   0.1s\n",
            "[CV 4/5] END .................model__alpha=5.1;, score=-0.890 total time=   0.0s\n",
            "[CV 5/5] END .................model__alpha=5.1;, score=-0.354 total time=   0.0s\n",
            "[CV 1/5] END .................model__alpha=5.2;, score=-0.399 total time=   0.1s\n",
            "[CV 2/5] END .................model__alpha=5.2;, score=-0.609 total time=   0.0s\n",
            "[CV 3/5] END .................model__alpha=5.2;, score=-0.247 total time=   0.0s\n",
            "[CV 4/5] END .................model__alpha=5.2;, score=-0.890 total time=   0.0s\n",
            "[CV 5/5] END .................model__alpha=5.2;, score=-0.354 total time=   0.0s\n",
            "[CV 1/5] END .................model__alpha=5.3;, score=-0.399 total time=   0.1s\n",
            "[CV 2/5] END .................model__alpha=5.3;, score=-0.609 total time=   0.0s\n",
            "[CV 3/5] END .................model__alpha=5.3;, score=-0.247 total time=   0.0s\n",
            "[CV 4/5] END .................model__alpha=5.3;, score=-0.890 total time=   0.0s\n",
            "[CV 5/5] END .................model__alpha=5.3;, score=-0.354 total time=   0.0s\n",
            "[CV 1/5] END .................model__alpha=5.4;, score=-0.399 total time=   0.1s\n",
            "[CV 2/5] END .................model__alpha=5.4;, score=-0.609 total time=   0.0s\n",
            "[CV 3/5] END .................model__alpha=5.4;, score=-0.247 total time=   0.1s\n",
            "[CV 4/5] END .................model__alpha=5.4;, score=-0.890 total time=   0.0s\n",
            "[CV 5/5] END .................model__alpha=5.4;, score=-0.354 total time=   0.1s\n",
            "[CV 1/5] END .................model__alpha=5.5;, score=-0.399 total time=   0.0s\n",
            "[CV 2/5] END .................model__alpha=5.5;, score=-0.609 total time=   0.0s\n",
            "[CV 3/5] END .................model__alpha=5.5;, score=-0.247 total time=   0.0s\n",
            "[CV 4/5] END .................model__alpha=5.5;, score=-0.890 total time=   0.1s\n",
            "[CV 5/5] END .................model__alpha=5.5;, score=-0.354 total time=   0.0s\n",
            "[CV 1/5] END .................model__alpha=5.6;, score=-0.399 total time=   0.0s\n",
            "[CV 2/5] END .................model__alpha=5.6;, score=-0.609 total time=   0.1s\n",
            "[CV 3/5] END .................model__alpha=5.6;, score=-0.247 total time=   0.0s\n",
            "[CV 4/5] END .................model__alpha=5.6;, score=-0.890 total time=   0.1s\n",
            "[CV 5/5] END .................model__alpha=5.6;, score=-0.354 total time=   0.1s\n",
            "[CV 1/5] END .................model__alpha=5.7;, score=-0.399 total time=   0.0s\n",
            "[CV 2/5] END .................model__alpha=5.7;, score=-0.609 total time=   0.0s\n",
            "[CV 3/5] END .................model__alpha=5.7;, score=-0.247 total time=   0.0s\n",
            "[CV 4/5] END .................model__alpha=5.7;, score=-0.890 total time=   0.1s\n",
            "[CV 5/5] END .................model__alpha=5.7;, score=-0.354 total time=   0.1s\n",
            "[CV 1/5] END .................model__alpha=5.8;, score=-0.399 total time=   0.0s\n",
            "[CV 2/5] END .................model__alpha=5.8;, score=-0.609 total time=   0.0s\n",
            "[CV 3/5] END .................model__alpha=5.8;, score=-0.247 total time=   0.0s\n",
            "[CV 4/5] END .................model__alpha=5.8;, score=-0.890 total time=   0.1s\n",
            "[CV 5/5] END .................model__alpha=5.8;, score=-0.354 total time=   0.0s\n",
            "[CV 1/5] END .................model__alpha=5.9;, score=-0.399 total time=   0.0s\n",
            "[CV 2/5] END .................model__alpha=5.9;, score=-0.609 total time=   0.0s\n",
            "[CV 3/5] END .................model__alpha=5.9;, score=-0.247 total time=   0.1s\n",
            "[CV 4/5] END .................model__alpha=5.9;, score=-0.890 total time=   0.0s\n",
            "[CV 5/5] END .................model__alpha=5.9;, score=-0.354 total time=   0.0s\n",
            "[CV 1/5] END .................model__alpha=6.0;, score=-0.399 total time=   0.0s\n",
            "[CV 2/5] END .................model__alpha=6.0;, score=-0.609 total time=   0.0s\n",
            "[CV 3/5] END .................model__alpha=6.0;, score=-0.247 total time=   0.1s\n",
            "[CV 4/5] END .................model__alpha=6.0;, score=-0.890 total time=   0.0s\n",
            "[CV 5/5] END .................model__alpha=6.0;, score=-0.354 total time=   0.0s\n",
            "[CV 1/5] END .................model__alpha=6.1;, score=-0.399 total time=   0.0s\n",
            "[CV 2/5] END .................model__alpha=6.1;, score=-0.609 total time=   0.0s\n",
            "[CV 3/5] END .................model__alpha=6.1;, score=-0.247 total time=   0.1s\n",
            "[CV 4/5] END .................model__alpha=6.1;, score=-0.890 total time=   0.0s\n",
            "[CV 5/5] END .................model__alpha=6.1;, score=-0.354 total time=   0.0s\n",
            "[CV 1/5] END .................model__alpha=6.2;, score=-0.399 total time=   0.0s\n",
            "[CV 2/5] END .................model__alpha=6.2;, score=-0.609 total time=   0.0s\n",
            "[CV 3/5] END .................model__alpha=6.2;, score=-0.247 total time=   0.1s\n",
            "[CV 4/5] END .................model__alpha=6.2;, score=-0.890 total time=   0.0s\n",
            "[CV 5/5] END .................model__alpha=6.2;, score=-0.354 total time=   0.0s\n",
            "[CV 1/5] END .................model__alpha=6.3;, score=-0.399 total time=   0.1s\n",
            "[CV 2/5] END .................model__alpha=6.3;, score=-0.609 total time=   0.0s\n",
            "[CV 3/5] END .................model__alpha=6.3;, score=-0.247 total time=   0.1s\n",
            "[CV 4/5] END .................model__alpha=6.3;, score=-0.890 total time=   0.0s\n",
            "[CV 5/5] END .................model__alpha=6.3;, score=-0.354 total time=   0.1s\n",
            "[CV 1/5] END .................model__alpha=6.4;, score=-0.399 total time=   0.0s\n",
            "[CV 2/5] END .................model__alpha=6.4;, score=-0.609 total time=   0.0s\n",
            "[CV 3/5] END .................model__alpha=6.4;, score=-0.247 total time=   0.1s\n",
            "[CV 4/5] END .................model__alpha=6.4;, score=-0.890 total time=   0.0s\n",
            "[CV 5/5] END .................model__alpha=6.4;, score=-0.354 total time=   0.1s\n",
            "[CV 1/5] END .................model__alpha=6.5;, score=-0.399 total time=   0.0s\n",
            "[CV 2/5] END .................model__alpha=6.5;, score=-0.609 total time=   0.0s\n",
            "[CV 3/5] END .................model__alpha=6.5;, score=-0.247 total time=   0.0s\n",
            "[CV 4/5] END .................model__alpha=6.5;, score=-0.890 total time=   0.0s\n",
            "[CV 5/5] END .................model__alpha=6.5;, score=-0.354 total time=   0.0s\n",
            "[CV 1/5] END .................model__alpha=6.6;, score=-0.399 total time=   0.0s\n",
            "[CV 2/5] END .................model__alpha=6.6;, score=-0.609 total time=   0.1s\n",
            "[CV 3/5] END .................model__alpha=6.6;, score=-0.247 total time=   0.0s\n",
            "[CV 4/5] END .................model__alpha=6.6;, score=-0.890 total time=   0.0s\n",
            "[CV 5/5] END .................model__alpha=6.6;, score=-0.354 total time=   0.0s\n",
            "[CV 1/5] END .................model__alpha=6.7;, score=-0.399 total time=   0.0s\n",
            "[CV 2/5] END .................model__alpha=6.7;, score=-0.609 total time=   0.1s\n",
            "[CV 3/5] END .................model__alpha=6.7;, score=-0.247 total time=   0.0s\n",
            "[CV 4/5] END .................model__alpha=6.7;, score=-0.890 total time=   0.1s\n",
            "[CV 5/5] END .................model__alpha=6.7;, score=-0.354 total time=   0.0s\n",
            "[CV 1/5] END .................model__alpha=6.8;, score=-0.399 total time=   0.1s\n",
            "[CV 2/5] END .................model__alpha=6.8;, score=-0.609 total time=   0.1s\n",
            "[CV 3/5] END .................model__alpha=6.8;, score=-0.247 total time=   0.1s\n",
            "[CV 4/5] END .................model__alpha=6.8;, score=-0.890 total time=   0.0s\n",
            "[CV 5/5] END .................model__alpha=6.8;, score=-0.354 total time=   0.1s\n",
            "[CV 1/5] END .................model__alpha=6.9;, score=-0.399 total time=   0.0s\n",
            "[CV 2/5] END .................model__alpha=6.9;, score=-0.609 total time=   0.0s\n",
            "[CV 3/5] END .................model__alpha=6.9;, score=-0.247 total time=   0.0s\n",
            "[CV 4/5] END .................model__alpha=6.9;, score=-0.890 total time=   0.1s\n",
            "[CV 5/5] END .................model__alpha=6.9;, score=-0.354 total time=   0.0s\n",
            "[CV 1/5] END .................model__alpha=7.0;, score=-0.399 total time=   0.0s\n",
            "[CV 2/5] END .................model__alpha=7.0;, score=-0.609 total time=   0.0s\n",
            "[CV 3/5] END .................model__alpha=7.0;, score=-0.247 total time=   0.0s\n",
            "[CV 4/5] END .................model__alpha=7.0;, score=-0.890 total time=   0.0s\n",
            "[CV 5/5] END .................model__alpha=7.0;, score=-0.354 total time=   0.1s\n",
            "[CV 1/5] END .................model__alpha=7.1;, score=-0.399 total time=   0.0s\n",
            "[CV 2/5] END .................model__alpha=7.1;, score=-0.609 total time=   0.1s\n",
            "[CV 3/5] END .................model__alpha=7.1;, score=-0.247 total time=   0.0s\n",
            "[CV 4/5] END .................model__alpha=7.1;, score=-0.890 total time=   0.0s\n",
            "[CV 5/5] END .................model__alpha=7.1;, score=-0.354 total time=   0.0s\n",
            "[CV 1/5] END .................model__alpha=7.2;, score=-0.399 total time=   0.0s\n",
            "[CV 2/5] END .................model__alpha=7.2;, score=-0.609 total time=   0.0s\n",
            "[CV 3/5] END .................model__alpha=7.2;, score=-0.247 total time=   0.0s\n",
            "[CV 4/5] END .................model__alpha=7.2;, score=-0.890 total time=   0.1s\n",
            "[CV 5/5] END .................model__alpha=7.2;, score=-0.354 total time=   0.1s\n",
            "[CV 1/5] END .................model__alpha=7.3;, score=-0.399 total time=   0.0s\n",
            "[CV 2/5] END .................model__alpha=7.3;, score=-0.609 total time=   0.0s\n",
            "[CV 3/5] END .................model__alpha=7.3;, score=-0.247 total time=   0.0s\n",
            "[CV 4/5] END .................model__alpha=7.3;, score=-0.890 total time=   0.1s\n",
            "[CV 5/5] END .................model__alpha=7.3;, score=-0.354 total time=   0.0s\n",
            "[CV 1/5] END .................model__alpha=7.4;, score=-0.399 total time=   0.0s\n",
            "[CV 2/5] END .................model__alpha=7.4;, score=-0.609 total time=   0.0s\n",
            "[CV 3/5] END .................model__alpha=7.4;, score=-0.247 total time=   0.0s\n",
            "[CV 4/5] END .................model__alpha=7.4;, score=-0.890 total time=   0.1s\n",
            "[CV 5/5] END .................model__alpha=7.4;, score=-0.354 total time=   0.0s\n",
            "[CV 1/5] END .................model__alpha=7.5;, score=-0.399 total time=   0.0s\n",
            "[CV 2/5] END .................model__alpha=7.5;, score=-0.609 total time=   0.1s\n",
            "[CV 3/5] END .................model__alpha=7.5;, score=-0.247 total time=   0.1s\n",
            "[CV 4/5] END .................model__alpha=7.5;, score=-0.890 total time=   0.0s\n",
            "[CV 5/5] END .................model__alpha=7.5;, score=-0.354 total time=   0.0s\n",
            "[CV 1/5] END .................model__alpha=7.6;, score=-0.399 total time=   0.0s\n",
            "[CV 2/5] END .................model__alpha=7.6;, score=-0.609 total time=   0.1s\n",
            "[CV 3/5] END .................model__alpha=7.6;, score=-0.247 total time=   0.1s\n",
            "[CV 4/5] END .................model__alpha=7.6;, score=-0.890 total time=   0.0s\n",
            "[CV 5/5] END .................model__alpha=7.6;, score=-0.354 total time=   0.0s\n",
            "[CV 1/5] END .................model__alpha=7.7;, score=-0.399 total time=   0.0s\n",
            "[CV 2/5] END .................model__alpha=7.7;, score=-0.609 total time=   0.0s\n",
            "[CV 3/5] END .................model__alpha=7.7;, score=-0.247 total time=   0.1s\n",
            "[CV 4/5] END .................model__alpha=7.7;, score=-0.890 total time=   0.0s\n",
            "[CV 5/5] END .................model__alpha=7.7;, score=-0.354 total time=   0.1s\n",
            "[CV 1/5] END .................model__alpha=7.8;, score=-0.399 total time=   0.0s\n",
            "[CV 2/5] END .................model__alpha=7.8;, score=-0.609 total time=   0.1s\n",
            "[CV 3/5] END .................model__alpha=7.8;, score=-0.247 total time=   0.0s\n",
            "[CV 4/5] END .................model__alpha=7.8;, score=-0.890 total time=   0.0s\n",
            "[CV 5/5] END .................model__alpha=7.8;, score=-0.354 total time=   0.0s\n",
            "[CV 1/5] END .................model__alpha=7.9;, score=-0.399 total time=   0.0s\n",
            "[CV 2/5] END .................model__alpha=7.9;, score=-0.609 total time=   0.1s\n",
            "[CV 3/5] END .................model__alpha=7.9;, score=-0.247 total time=   0.1s\n",
            "[CV 4/5] END .................model__alpha=7.9;, score=-0.890 total time=   0.0s\n",
            "[CV 5/5] END .................model__alpha=7.9;, score=-0.354 total time=   0.1s\n",
            "[CV 1/5] END .................model__alpha=8.0;, score=-0.399 total time=   0.0s\n",
            "[CV 2/5] END .................model__alpha=8.0;, score=-0.609 total time=   0.0s\n",
            "[CV 3/5] END .................model__alpha=8.0;, score=-0.247 total time=   0.1s\n",
            "[CV 4/5] END .................model__alpha=8.0;, score=-0.890 total time=   0.0s\n",
            "[CV 5/5] END .................model__alpha=8.0;, score=-0.354 total time=   0.1s\n",
            "[CV 1/5] END .................model__alpha=8.1;, score=-0.399 total time=   0.0s\n",
            "[CV 2/5] END .................model__alpha=8.1;, score=-0.609 total time=   0.0s\n",
            "[CV 3/5] END .................model__alpha=8.1;, score=-0.247 total time=   0.0s\n",
            "[CV 4/5] END .................model__alpha=8.1;, score=-0.890 total time=   0.0s\n",
            "[CV 5/5] END .................model__alpha=8.1;, score=-0.354 total time=   0.1s\n",
            "[CV 1/5] END .................model__alpha=8.2;, score=-0.399 total time=   0.0s\n",
            "[CV 2/5] END .................model__alpha=8.2;, score=-0.609 total time=   0.0s\n",
            "[CV 3/5] END .................model__alpha=8.2;, score=-0.247 total time=   0.0s\n",
            "[CV 4/5] END .................model__alpha=8.2;, score=-0.890 total time=   0.0s\n",
            "[CV 5/5] END .................model__alpha=8.2;, score=-0.354 total time=   0.1s\n",
            "[CV 1/5] END .................model__alpha=8.3;, score=-0.399 total time=   0.0s\n",
            "[CV 2/5] END .................model__alpha=8.3;, score=-0.609 total time=   0.1s\n",
            "[CV 3/5] END .................model__alpha=8.3;, score=-0.247 total time=   0.1s\n",
            "[CV 4/5] END .................model__alpha=8.3;, score=-0.890 total time=   0.1s\n",
            "[CV 5/5] END .................model__alpha=8.3;, score=-0.354 total time=   0.0s\n",
            "[CV 1/5] END .................model__alpha=8.4;, score=-0.399 total time=   0.0s\n",
            "[CV 2/5] END .................model__alpha=8.4;, score=-0.609 total time=   0.0s\n",
            "[CV 3/5] END .................model__alpha=8.4;, score=-0.247 total time=   0.0s\n",
            "[CV 4/5] END .................model__alpha=8.4;, score=-0.890 total time=   0.1s\n",
            "[CV 5/5] END .................model__alpha=8.4;, score=-0.354 total time=   0.0s\n",
            "[CV 1/5] END .................model__alpha=8.5;, score=-0.399 total time=   0.0s\n",
            "[CV 2/5] END .................model__alpha=8.5;, score=-0.609 total time=   0.1s\n",
            "[CV 3/5] END .................model__alpha=8.5;, score=-0.247 total time=   0.0s\n",
            "[CV 4/5] END .................model__alpha=8.5;, score=-0.890 total time=   0.1s\n",
            "[CV 5/5] END .................model__alpha=8.5;, score=-0.354 total time=   0.0s\n",
            "[CV 1/5] END .................model__alpha=8.6;, score=-0.399 total time=   0.0s\n",
            "[CV 2/5] END .................model__alpha=8.6;, score=-0.609 total time=   0.0s\n",
            "[CV 3/5] END .................model__alpha=8.6;, score=-0.247 total time=   0.0s\n",
            "[CV 4/5] END .................model__alpha=8.6;, score=-0.890 total time=   0.1s\n",
            "[CV 5/5] END .................model__alpha=8.6;, score=-0.354 total time=   0.0s\n",
            "[CV 1/5] END .................model__alpha=8.7;, score=-0.399 total time=   0.0s\n",
            "[CV 2/5] END .................model__alpha=8.7;, score=-0.609 total time=   0.1s\n",
            "[CV 3/5] END .................model__alpha=8.7;, score=-0.247 total time=   0.1s\n",
            "[CV 4/5] END .................model__alpha=8.7;, score=-0.890 total time=   0.0s\n",
            "[CV 5/5] END .................model__alpha=8.7;, score=-0.354 total time=   0.0s\n",
            "[CV 1/5] END .................model__alpha=8.8;, score=-0.399 total time=   0.1s\n",
            "[CV 2/5] END .................model__alpha=8.8;, score=-0.609 total time=   0.1s\n",
            "[CV 3/5] END .................model__alpha=8.8;, score=-0.247 total time=   0.0s\n",
            "[CV 4/5] END .................model__alpha=8.8;, score=-0.890 total time=   0.0s\n",
            "[CV 5/5] END .................model__alpha=8.8;, score=-0.354 total time=   0.0s\n",
            "[CV 1/5] END .................model__alpha=8.9;, score=-0.399 total time=   0.1s\n",
            "[CV 2/5] END .................model__alpha=8.9;, score=-0.609 total time=   0.1s\n",
            "[CV 3/5] END .................model__alpha=8.9;, score=-0.247 total time=   0.0s\n",
            "[CV 4/5] END .................model__alpha=8.9;, score=-0.890 total time=   0.0s\n",
            "[CV 5/5] END .................model__alpha=8.9;, score=-0.354 total time=   0.0s\n",
            "[CV 1/5] END .................model__alpha=9.0;, score=-0.399 total time=   0.0s\n",
            "[CV 2/5] END .................model__alpha=9.0;, score=-0.609 total time=   0.1s\n",
            "[CV 3/5] END .................model__alpha=9.0;, score=-0.247 total time=   0.0s\n",
            "[CV 4/5] END .................model__alpha=9.0;, score=-0.890 total time=   0.0s\n",
            "[CV 5/5] END .................model__alpha=9.0;, score=-0.354 total time=   0.0s\n",
            "[CV 1/5] END .................model__alpha=9.1;, score=-0.399 total time=   0.0s\n",
            "[CV 2/5] END .................model__alpha=9.1;, score=-0.609 total time=   0.1s\n",
            "[CV 3/5] END .................model__alpha=9.1;, score=-0.247 total time=   0.0s\n",
            "[CV 4/5] END .................model__alpha=9.1;, score=-0.890 total time=   0.1s\n",
            "[CV 5/5] END .................model__alpha=9.1;, score=-0.354 total time=   0.0s\n",
            "[CV 1/5] END .................model__alpha=9.2;, score=-0.399 total time=   0.0s\n",
            "[CV 2/5] END .................model__alpha=9.2;, score=-0.609 total time=   0.1s\n",
            "[CV 3/5] END .................model__alpha=9.2;, score=-0.247 total time=   0.0s\n",
            "[CV 4/5] END .................model__alpha=9.2;, score=-0.890 total time=   0.0s\n",
            "[CV 5/5] END .................model__alpha=9.2;, score=-0.354 total time=   0.0s\n",
            "[CV 1/5] END .................model__alpha=9.3;, score=-0.399 total time=   0.0s\n",
            "[CV 2/5] END .................model__alpha=9.3;, score=-0.609 total time=   0.1s\n",
            "[CV 3/5] END .................model__alpha=9.3;, score=-0.247 total time=   0.1s\n",
            "[CV 4/5] END .................model__alpha=9.3;, score=-0.890 total time=   0.1s\n",
            "[CV 5/5] END .................model__alpha=9.3;, score=-0.354 total time=   0.0s\n",
            "[CV 1/5] END .................model__alpha=9.4;, score=-0.399 total time=   0.0s\n",
            "[CV 2/5] END .................model__alpha=9.4;, score=-0.609 total time=   0.0s\n",
            "[CV 3/5] END .................model__alpha=9.4;, score=-0.247 total time=   0.0s\n",
            "[CV 4/5] END .................model__alpha=9.4;, score=-0.890 total time=   0.0s\n",
            "[CV 5/5] END .................model__alpha=9.4;, score=-0.354 total time=   0.0s\n",
            "[CV 1/5] END .................model__alpha=9.5;, score=-0.399 total time=   0.1s\n",
            "[CV 2/5] END .................model__alpha=9.5;, score=-0.609 total time=   0.1s\n",
            "[CV 3/5] END .................model__alpha=9.5;, score=-0.247 total time=   0.1s\n",
            "[CV 4/5] END .................model__alpha=9.5;, score=-0.890 total time=   0.0s\n",
            "[CV 5/5] END .................model__alpha=9.5;, score=-0.354 total time=   0.1s\n",
            "[CV 1/5] END .................model__alpha=9.6;, score=-0.399 total time=   0.0s\n",
            "[CV 2/5] END .................model__alpha=9.6;, score=-0.609 total time=   0.0s\n",
            "[CV 3/5] END .................model__alpha=9.6;, score=-0.247 total time=   0.0s\n",
            "[CV 4/5] END .................model__alpha=9.6;, score=-0.890 total time=   0.0s\n",
            "[CV 5/5] END .................model__alpha=9.6;, score=-0.354 total time=   0.1s\n",
            "[CV 1/5] END ...model__alpha=9.700000000000001;, score=-0.399 total time=   0.0s\n",
            "[CV 2/5] END ...model__alpha=9.700000000000001;, score=-0.609 total time=   0.0s\n",
            "[CV 3/5] END ...model__alpha=9.700000000000001;, score=-0.247 total time=   0.0s\n",
            "[CV 4/5] END ...model__alpha=9.700000000000001;, score=-0.890 total time=   0.0s\n",
            "[CV 5/5] END ...model__alpha=9.700000000000001;, score=-0.354 total time=   0.0s\n",
            "[CV 1/5] END .................model__alpha=9.8;, score=-0.399 total time=   0.1s\n",
            "[CV 2/5] END .................model__alpha=9.8;, score=-0.609 total time=   0.0s\n",
            "[CV 3/5] END .................model__alpha=9.8;, score=-0.247 total time=   0.0s\n",
            "[CV 4/5] END .................model__alpha=9.8;, score=-0.890 total time=   0.1s\n",
            "[CV 5/5] END .................model__alpha=9.8;, score=-0.354 total time=   0.0s\n",
            "[CV 1/5] END .................model__alpha=9.9;, score=-0.399 total time=   0.0s\n",
            "[CV 2/5] END .................model__alpha=9.9;, score=-0.609 total time=   0.1s\n",
            "[CV 3/5] END .................model__alpha=9.9;, score=-0.247 total time=   0.1s\n",
            "[CV 4/5] END .................model__alpha=9.9;, score=-0.890 total time=   0.0s\n",
            "[CV 5/5] END .................model__alpha=9.9;, score=-0.354 total time=   0.0s\n"
          ]
        },
        {
          "output_type": "execute_result",
          "data": {
            "text/plain": [
              "GridSearchCV(cv=5,\n",
              "             estimator=Pipeline(steps=[('scaler', StandardScaler()),\n",
              "                                       ('model', Lasso())]),\n",
              "             param_grid={'model__alpha': array([0.1, 0.2, 0.3, 0.4, 0.5, 0.6, 0.7, 0.8, 0.9, 1. , 1.1, 1.2, 1.3,\n",
              "       1.4, 1.5, 1.6, 1.7, 1.8, 1.9, 2. , 2.1, 2.2, 2.3, 2.4, 2.5, 2.6,\n",
              "       2.7, 2.8, 2.9, 3. , 3.1, 3.2, 3.3, 3.4, 3.5, 3.6, 3.7, 3.8, 3.9,\n",
              "       4. , 4.1, 4.2, 4.3, 4.4, 4.5, 4.6, 4.7, 4.8, 4.9, 5. , 5.1, 5.2,\n",
              "       5.3, 5.4, 5.5, 5.6, 5.7, 5.8, 5.9, 6. , 6.1, 6.2, 6.3, 6.4, 6.5,\n",
              "       6.6, 6.7, 6.8, 6.9, 7. , 7.1, 7.2, 7.3, 7.4, 7.5, 7.6, 7.7, 7.8,\n",
              "       7.9, 8. , 8.1, 8.2, 8.3, 8.4, 8.5, 8.6, 8.7, 8.8, 8.9, 9. , 9.1,\n",
              "       9.2, 9.3, 9.4, 9.5, 9.6, 9.7, 9.8, 9.9])},\n",
              "             scoring='neg_mean_squared_error', verbose=3)"
            ]
          },
          "metadata": {},
          "execution_count": 76
        }
      ]
    },
    {
      "cell_type": "markdown",
      "metadata": {
        "id": "e9dw4xnA5fGT"
      },
      "source": [
        "# Feature identification"
      ]
    },
    {
      "cell_type": "code",
      "metadata": {
        "colab": {
          "base_uri": "https://localhost:8080/"
        },
        "id": "OhsU2WCQniAn",
        "outputId": "30bc4899-7b15-4e50-8884-c16f9542a594"
      },
      "source": [
        "search.best_params_"
      ],
      "execution_count": 117,
      "outputs": [
        {
          "output_type": "execute_result",
          "data": {
            "text/plain": [
              "{'model__alpha': 0.4}"
            ]
          },
          "metadata": {},
          "execution_count": 117
        }
      ]
    },
    {
      "cell_type": "code",
      "metadata": {
        "id": "dhC4N_tenh8s"
      },
      "source": [
        "coefficients = search.best_estimator_.named_steps['model'].coef_"
      ],
      "execution_count": 118,
      "outputs": []
    },
    {
      "cell_type": "code",
      "metadata": {
        "id": "tDTfbtMwnh5S"
      },
      "source": [
        "coefficients # convert backt to DF"
      ],
      "execution_count": null,
      "outputs": []
    },
    {
      "cell_type": "code",
      "metadata": {
        "id": "5u-_UHWGnh1u"
      },
      "source": [
        "importance = np.abs(coefficients)"
      ],
      "execution_count": 119,
      "outputs": []
    },
    {
      "cell_type": "code",
      "metadata": {
        "id": "DcR3GvEaoQ_W"
      },
      "source": [
        "importance"
      ],
      "execution_count": null,
      "outputs": []
    },
    {
      "cell_type": "code",
      "metadata": {
        "colab": {
          "base_uri": "https://localhost:8080/",
          "height": 191
        },
        "id": "5C_33AYAoQ7k",
        "outputId": "8806affe-54b9-4fb6-b064-be0a48aa7cf3"
      },
      "source": [
        "np.array(features)[importance > 0]"
      ],
      "execution_count": 123,
      "outputs": [
        {
          "output_type": "error",
          "ename": "IndexError",
          "evalue": "ignored",
          "traceback": [
            "\u001b[0;31m---------------------------------------------------------------------------\u001b[0m",
            "\u001b[0;31mIndexError\u001b[0m                                Traceback (most recent call last)",
            "\u001b[0;32m<ipython-input-123-94eb6dfe40ec>\u001b[0m in \u001b[0;36m<module>\u001b[0;34m()\u001b[0m\n\u001b[0;32m----> 1\u001b[0;31m \u001b[0mnp\u001b[0m\u001b[0;34m.\u001b[0m\u001b[0marray\u001b[0m\u001b[0;34m(\u001b[0m\u001b[0mfeatures\u001b[0m\u001b[0;34m)\u001b[0m\u001b[0;34m[\u001b[0m\u001b[0mimportance\u001b[0m \u001b[0;34m>\u001b[0m \u001b[0;36m0\u001b[0m\u001b[0;34m]\u001b[0m\u001b[0;34m\u001b[0m\u001b[0;34m\u001b[0m\u001b[0m\n\u001b[0m",
            "\u001b[0;31mIndexError\u001b[0m: boolean index did not match indexed array along dimension 0; dimension is 943 but corresponding boolean dimension is 942"
          ]
        }
      ]
    },
    {
      "cell_type": "code",
      "metadata": {
        "id": "pF9vgc66oQ38"
      },
      "source": [
        "np.array(importance)[importance == 0]\n"
      ],
      "execution_count": null,
      "outputs": []
    },
    {
      "cell_type": "markdown",
      "metadata": {
        "id": "PxLQcz-aw0Zu"
      },
      "source": [
        "Identify selected Features"
      ]
    },
    {
      "cell_type": "code",
      "metadata": {
        "id": "rov2f_b_1P2J"
      },
      "source": [
        "coeffs_inter = model.intercept_"
      ],
      "execution_count": 111,
      "outputs": []
    },
    {
      "cell_type": "code",
      "metadata": {
        "colab": {
          "base_uri": "https://localhost:8080/"
        },
        "id": "ER5itwLp1WbB",
        "outputId": "326630e4-0a49-4d47-f4e6-12a517044d30"
      },
      "source": [
        "coeffs_inter"
      ],
      "execution_count": 112,
      "outputs": [
        {
          "output_type": "execute_result",
          "data": {
            "text/plain": [
              "-277.308139202656"
            ]
          },
          "metadata": {},
          "execution_count": 112
        }
      ]
    },
    {
      "cell_type": "code",
      "metadata": {
        "id": "A8FpP1dp0-s8"
      },
      "source": [
        "coeffs = model.coef_  "
      ],
      "execution_count": 108,
      "outputs": []
    },
    {
      "cell_type": "code",
      "metadata": {
        "colab": {
          "base_uri": "https://localhost:8080/"
        },
        "id": "ko-2EMoZ0-w_",
        "outputId": "f610dfff-2ae8-4809-8ca4-7fd69875929a"
      },
      "source": [
        "coeffs"
      ],
      "execution_count": 109,
      "outputs": [
        {
          "output_type": "execute_result",
          "data": {
            "text/plain": [
              "array([ 0.00037629,  0.        , -0.        ,  0.        ,  0.        ,\n",
              "        0.        , -0.        ,  0.        , -0.        ,  0.        ,\n",
              "        0.        ,  0.        ,  0.        ,  0.        ,  0.        ,\n",
              "       -0.        , -0.        ,  0.        ,  0.        , -0.        ,\n",
              "        0.        ,  0.        ,  0.        , -0.        , -0.        ,\n",
              "       -0.        ,  0.        ,  0.        ,  0.        ,  0.        ,\n",
              "        0.        ,  0.        ,  0.        , -0.        ,  0.        ,\n",
              "        0.        ,  0.        , -0.        ,  0.        ,  0.        ,\n",
              "        0.        ,  0.        , -0.        ,  0.        ,  0.        ,\n",
              "        0.        ,  0.        ,  0.        ,  0.        , -0.        ,\n",
              "       -0.        , -0.        ,  0.        , -0.        , -0.        ,\n",
              "       -0.        ,  0.        ,  0.        ,  0.        ,  0.        ,\n",
              "        0.        ,  0.        ,  0.        ,  0.        , -0.        ,\n",
              "        0.        , -0.        , -0.        , -0.        ,  0.        ,\n",
              "        0.        , -0.        ,  0.        , -0.        ,  0.        ,\n",
              "       -0.        , -0.        ,  0.        ,  0.        , -0.        ,\n",
              "       -0.        ,  0.        , -0.        ,  0.        ,  0.        ,\n",
              "        0.        ,  0.        ,  0.        ,  0.        ,  0.        ,\n",
              "        0.        ,  0.        ,  0.        ,  0.        ,  0.        ,\n",
              "       -0.        ,  0.        ,  0.        ,  0.        ,  0.        ,\n",
              "        0.        ,  0.        ,  0.        , -0.        , -0.        ,\n",
              "        0.        , -0.        ,  0.        ,  0.        , -0.        ,\n",
              "       -0.        , -0.        , -0.        ,  0.        , -0.        ,\n",
              "       -0.        ,  0.        ,  0.        ,  0.        ,  0.        ,\n",
              "       -0.        ,  0.        , -0.        , -0.        , -0.        ,\n",
              "       -0.        , -0.        , -0.        , -0.        ,  0.        ,\n",
              "        0.        ,  0.        ,  0.        ,  0.        ,  0.        ,\n",
              "       -0.        ,  0.        ,  0.        ,  0.        , -0.        ,\n",
              "        0.        ,  0.        ,  0.        ,  0.        ,  0.        ,\n",
              "        0.        , -0.        , -0.        ,  0.        ,  0.        ,\n",
              "        0.        ,  0.        ,  0.        , -0.        , -0.        ,\n",
              "       -0.        , -0.        , -0.        ,  0.        ,  0.        ,\n",
              "        0.        ,  0.        , -0.        ,  0.        ,  0.        ,\n",
              "        0.        ,  0.        ,  0.        ,  0.        ,  0.        ,\n",
              "        0.        ,  0.        ,  0.        ,  0.        ,  0.        ,\n",
              "       -0.        ,  0.        ,  0.        ,  0.        , -0.        ,\n",
              "        0.        ,  0.        ,  0.        ,  0.        ,  0.        ,\n",
              "        0.        , -0.        ,  0.        ,  0.        ,  0.        ,\n",
              "        0.        ,  0.        ,  0.        ,  0.        , -0.        ,\n",
              "        0.        , -0.        , -0.        ,  0.        ,  0.        ,\n",
              "        0.        ,  0.        , -0.        ,  0.        ,  0.        ,\n",
              "       -0.        ,  0.        , -0.        ,  0.        ,  0.        ,\n",
              "        0.        ,  0.        ,  0.        ,  0.        ,  0.        ,\n",
              "       -0.        , -0.        , -0.        ,  0.        , -0.        ,\n",
              "        0.        ,  0.        ,  0.        ,  0.        ,  0.        ,\n",
              "       -0.        ,  0.        , -0.        , -0.        , -0.        ,\n",
              "        0.        , -0.        ,  0.        ,  0.        ,  0.        ,\n",
              "       -0.        ,  0.        , -0.        , -0.        ,  0.        ,\n",
              "       -0.        , -0.        , -0.        , -0.        , -0.        ,\n",
              "       -0.        , -0.        , -0.        , -0.        , -0.        ,\n",
              "       -0.        , -0.        , -0.        , -0.        , -0.        ,\n",
              "       -0.        , -0.        , -0.        ,  0.        , -0.        ,\n",
              "       -0.        , -0.        , -0.        , -0.        ,  0.        ,\n",
              "       -0.        ,  0.        ,  0.        ,  0.        ,  0.        ,\n",
              "        0.        ,  0.        ,  0.        , -0.        , -0.        ,\n",
              "        0.        , -0.        , -0.        ,  0.        ,  0.        ,\n",
              "        0.        ,  0.        , -0.        ,  0.        ,  0.        ,\n",
              "        0.        , -0.        ,  0.        , -0.        ,  0.        ,\n",
              "        0.        ,  0.        ,  0.        ,  0.        , -0.        ,\n",
              "       -0.        , -0.        , -0.        ,  0.        ,  0.        ,\n",
              "       -0.        , -0.        , -0.        ,  0.        ,  0.        ,\n",
              "       -0.        ,  0.        , -0.        , -0.        ,  0.        ,\n",
              "        0.        ,  0.        ,  0.        , -0.        ,  0.        ,\n",
              "        0.        ,  0.        , -0.        ,  0.        , -0.        ,\n",
              "        0.        , -0.        , -0.        , -0.        , -0.        ,\n",
              "       -0.        , -0.        , -0.        , -0.        , -0.        ,\n",
              "        0.        , -0.        , -0.        ,  0.        ,  0.        ,\n",
              "       -0.        , -0.        , -0.        ,  0.        ,  0.        ,\n",
              "       -0.        , -0.        , -0.        , -0.        ,  0.        ,\n",
              "       -0.        ,  0.        , -0.        , -0.        , -0.        ,\n",
              "       -0.        , -0.        , -0.        ,  0.        , -0.        ,\n",
              "       -0.        ,  0.        , -0.        , -0.        , -0.        ,\n",
              "       -0.        ,  0.        , -0.        , -0.        , -0.        ,\n",
              "       -0.        , -0.        , -0.        , -0.        , -0.        ,\n",
              "       -0.        , -0.        , -0.        ,  0.        , -0.        ,\n",
              "       -0.        , -0.        , -0.        ,  0.        ,  0.        ,\n",
              "       -0.        , -0.        , -0.        , -0.        , -0.        ,\n",
              "       -0.        ,  0.        , -0.        ,  0.        , -0.        ,\n",
              "        0.        , -0.        , -0.        , -0.        ,  0.        ,\n",
              "       -0.        ,  0.        , -0.        , -0.        ,  0.        ,\n",
              "        0.        ,  0.        , -0.        , -0.        , -0.        ,\n",
              "       -0.        , -0.        ,  0.        , -0.        , -0.        ,\n",
              "       -0.        , -0.        , -0.        , -0.        , -0.        ,\n",
              "       -0.        , -0.        , -0.        , -0.        ,  0.        ,\n",
              "       -0.        , -0.        , -0.        , -0.        , -0.        ,\n",
              "       -0.        ,  0.        , -0.        , -0.        , -0.        ,\n",
              "        0.        , -0.        ,  0.        , -0.        , -0.        ,\n",
              "       -0.        ,  0.        ,  0.        ,  0.        ,  0.        ,\n",
              "        0.        ,  0.        ,  0.        , -0.        , -0.        ,\n",
              "       -0.        ,  0.        , -0.        , -0.        ,  0.        ,\n",
              "        0.        , -0.        ,  0.        ,  0.        ,  0.        ,\n",
              "       -0.        , -0.        , -0.        , -0.        ,  0.        ,\n",
              "       -0.        , -0.        , -0.        , -0.        , -0.        ,\n",
              "       -0.        ,  0.        , -0.        , -0.        , -0.        ,\n",
              "       -0.        , -0.        ,  0.        ,  0.        , -0.        ,\n",
              "       -0.        , -0.        ,  0.        , -0.        , -0.        ,\n",
              "       -0.        , -0.        ,  0.        , -0.        , -0.        ,\n",
              "       -0.        , -0.        , -0.        , -0.        , -0.        ,\n",
              "       -0.        , -0.        , -0.        , -0.        , -0.        ,\n",
              "       -0.        , -0.        , -0.        , -0.        ,  0.        ,\n",
              "       -0.        , -0.        , -0.        , -0.        , -0.        ,\n",
              "       -0.        ,  0.        , -0.        ,  0.        , -0.        ,\n",
              "        0.        , -0.        , -0.        , -0.        , -0.        ,\n",
              "        0.        ,  0.        ,  0.        ,  0.        , -0.        ,\n",
              "       -0.        ,  0.        ,  0.        ,  0.        ,  0.        ,\n",
              "        0.        ,  0.        , -0.        , -0.        , -0.        ,\n",
              "       -0.        , -0.        , -0.        ,  0.        , -0.        ,\n",
              "        0.        ,  0.        ,  0.        ,  0.        ,  0.        ,\n",
              "        0.        ,  0.        ,  0.        ,  0.        , -0.        ,\n",
              "        0.        , -0.        , -0.        ,  0.        , -0.        ,\n",
              "        0.        ,  0.        ,  0.        ,  0.        ,  0.        ,\n",
              "        0.        , -0.        ,  0.        , -0.        ,  0.        ,\n",
              "        0.        ,  0.        ,  0.        , -0.        ,  0.        ,\n",
              "        0.        ,  0.        ,  0.        ,  0.        ,  0.        ,\n",
              "       -0.        , -0.        , -0.        ,  0.        ,  0.        ,\n",
              "        0.        ,  0.        ,  0.        ,  0.        ,  0.        ,\n",
              "        0.        ,  0.        , -0.        ,  0.        ,  0.        ,\n",
              "        0.        ,  0.        ,  0.        ,  0.        ,  0.        ,\n",
              "        0.        ,  0.        ,  0.        ,  0.        , -0.        ,\n",
              "        0.        ,  0.        ,  0.        , -0.        , -0.        ,\n",
              "        0.        ,  0.        ,  0.        ,  0.        ,  0.        ,\n",
              "        0.        , -0.        ,  0.        ,  0.        ,  0.        ,\n",
              "        0.        , -0.        ,  0.        ,  0.        ,  0.        ,\n",
              "        0.        ,  0.        ,  0.        , -0.        ,  0.        ,\n",
              "        0.        ,  0.        , -0.        , -0.        , -0.        ,\n",
              "        0.        ,  0.        ,  0.        ,  0.        ,  0.        ,\n",
              "       -0.        , -0.        ,  0.        , -0.        , -0.        ,\n",
              "       -0.        , -0.        ,  0.        ,  0.        ,  0.        ,\n",
              "        0.        ,  0.        , -0.        ,  0.        ,  0.        ,\n",
              "       -0.        ,  0.        ,  0.        , -0.        ,  0.        ,\n",
              "        0.        ,  0.        ,  0.        ,  0.        , -0.        ,\n",
              "        0.        , -0.        ,  0.        ,  0.        ,  0.        ,\n",
              "        0.        , -0.        , -0.        ,  0.        , -0.        ,\n",
              "        0.        , -0.        ,  0.        ,  0.        , -0.        ,\n",
              "       -0.        , -0.        ,  0.        , -0.        , -0.        ,\n",
              "       -0.        , -0.        ,  0.        , -0.        , -0.        ,\n",
              "       -0.        , -0.        ,  0.        ,  0.        ,  0.        ,\n",
              "       -0.        , -0.        , -0.        , -0.        ,  0.        ,\n",
              "       -0.        , -0.        , -0.        ,  0.        , -0.        ,\n",
              "       -0.        , -0.        , -0.        , -0.        , -0.        ,\n",
              "       -0.        ,  0.        , -0.        , -0.        , -0.        ,\n",
              "        0.        , -0.        , -0.        , -0.        , -0.        ,\n",
              "       -0.        , -0.        , -0.        ,  0.        , -0.        ,\n",
              "       -0.        , -0.        , -0.        ,  0.        ,  0.        ,\n",
              "       -0.        , -0.        ,  0.        , -0.        , -0.        ,\n",
              "        0.        , -0.        ,  0.        ,  0.        ,  0.        ,\n",
              "       -0.        ,  0.        , -0.        ,  0.        ,  0.        ,\n",
              "        0.        , -0.        ,  0.        , -0.        ,  0.        ,\n",
              "        0.        , -0.        , -0.        , -0.        , -0.        ,\n",
              "        0.        ,  0.        , -0.        , -0.        ,  0.        ,\n",
              "       -0.        ,  0.        ,  0.        , -0.        ,  0.        ,\n",
              "        0.        , -0.        ,  0.        ,  0.        , -0.        ,\n",
              "       -0.        ,  0.        , -0.        ,  0.        ,  0.        ,\n",
              "       -0.        , -0.        , -0.        , -0.        ,  0.        ,\n",
              "        0.        , -0.        , -0.        ,  0.        , -0.        ,\n",
              "        0.        ,  0.        , -0.        ,  0.        ,  0.        ,\n",
              "        0.        ,  0.        ,  0.        , -0.        , -0.        ,\n",
              "        0.        , -0.        , -0.        , -0.        , -0.        ,\n",
              "       -0.        , -0.        ,  0.        ,  0.        ,  0.        ,\n",
              "        0.        , -0.        ,  0.        , -0.        ,  0.        ,\n",
              "        0.        ,  0.        , -0.        ,  0.        , -0.        ,\n",
              "        0.        ,  0.        , -0.        , -0.        ,  0.        ,\n",
              "       -0.        ,  0.        ,  0.        , -0.        ,  0.        ,\n",
              "        0.        , -0.        ,  0.        ,  0.        , -0.        ,\n",
              "       -0.        ,  0.        , -0.        , -0.        , -0.        ,\n",
              "       -0.        ,  0.        ,  0.        ,  0.        , -0.        ,\n",
              "       -0.        ,  0.        , -0.        ,  0.        , -0.        ,\n",
              "        0.        ,  0.        , -0.        , -0.        , -0.        ,\n",
              "        0.        ,  0.        ,  0.        , -0.        , -0.        ,\n",
              "       -0.        ,  0.        , -0.        , -0.        ,  0.        ,\n",
              "       -0.        ,  0.        ,  0.        ,  0.        ,  0.        ,\n",
              "        0.        ,  0.        ,  0.        ,  0.        ,  0.        ,\n",
              "        0.        , -0.        , -0.        , -0.        ,  0.        ,\n",
              "        0.        ,  0.        ,  0.        ,  0.        ,  0.        ,\n",
              "       -0.        , -0.        ,  0.        ,  0.        ,  0.        ,\n",
              "       -0.        ,  0.        , -0.        , -0.        , -0.        ,\n",
              "       -0.        ,  0.        ,  0.        , -0.        , -0.        ,\n",
              "       -0.        , -0.        , -0.        ,  0.        ,  0.        ,\n",
              "       -0.        , -0.        ,  0.        ,  0.        ,  0.        ,\n",
              "       -0.        ,  0.        ,  0.        ,  0.        , -0.        ,\n",
              "       -0.        , -0.        , -0.        , -0.        , -0.        ,\n",
              "        0.        , -0.        , -0.        ,  0.        , -0.        ,\n",
              "       -0.        , -0.        , -0.        , -0.        , -0.        ,\n",
              "       -0.        , -0.        , -0.        ,  0.        , -0.        ,\n",
              "       -0.        , -0.        , -0.        , -0.        ,  0.        ,\n",
              "        0.        ,  0.        , -0.        , -0.        ,  0.        ,\n",
              "        0.        , -0.        , -0.        , -0.        , -0.        ,\n",
              "       -0.        , -0.        , -0.        , -0.        , -0.        ,\n",
              "       -0.        ,  0.        ])"
            ]
          },
          "metadata": {},
          "execution_count": 109
        }
      ]
    },
    {
      "cell_type": "code",
      "metadata": {
        "colab": {
          "base_uri": "https://localhost:8080/",
          "height": 640
        },
        "id": "eAX2jms20YHk",
        "outputId": "7d090dff-e5f3-46c2-8dff-e4403f90fc0b"
      },
      "source": [
        "#features = load_diabetes()['feature_names']\n",
        "features = data['feature_names']"
      ],
      "execution_count": 106,
      "outputs": [
        {
          "output_type": "error",
          "ename": "KeyError",
          "evalue": "ignored",
          "traceback": [
            "\u001b[0;31m---------------------------------------------------------------------------\u001b[0m",
            "\u001b[0;31mKeyError\u001b[0m                                  Traceback (most recent call last)",
            "\u001b[0;32m/usr/local/lib/python3.7/dist-packages/pandas/core/indexes/base.py\u001b[0m in \u001b[0;36mget_loc\u001b[0;34m(self, key, method, tolerance)\u001b[0m\n\u001b[1;32m   2897\u001b[0m             \u001b[0;32mtry\u001b[0m\u001b[0;34m:\u001b[0m\u001b[0;34m\u001b[0m\u001b[0;34m\u001b[0m\u001b[0m\n\u001b[0;32m-> 2898\u001b[0;31m                 \u001b[0;32mreturn\u001b[0m \u001b[0mself\u001b[0m\u001b[0;34m.\u001b[0m\u001b[0m_engine\u001b[0m\u001b[0;34m.\u001b[0m\u001b[0mget_loc\u001b[0m\u001b[0;34m(\u001b[0m\u001b[0mcasted_key\u001b[0m\u001b[0;34m)\u001b[0m\u001b[0;34m\u001b[0m\u001b[0;34m\u001b[0m\u001b[0m\n\u001b[0m\u001b[1;32m   2899\u001b[0m             \u001b[0;32mexcept\u001b[0m \u001b[0mKeyError\u001b[0m \u001b[0;32mas\u001b[0m \u001b[0merr\u001b[0m\u001b[0;34m:\u001b[0m\u001b[0;34m\u001b[0m\u001b[0;34m\u001b[0m\u001b[0m\n",
            "\u001b[0;32mpandas/_libs/index.pyx\u001b[0m in \u001b[0;36mpandas._libs.index.IndexEngine.get_loc\u001b[0;34m()\u001b[0m\n",
            "\u001b[0;32mpandas/_libs/index.pyx\u001b[0m in \u001b[0;36mpandas._libs.index.IndexEngine.get_loc\u001b[0;34m()\u001b[0m\n",
            "\u001b[0;32mpandas/_libs/hashtable_class_helper.pxi\u001b[0m in \u001b[0;36mpandas._libs.hashtable.PyObjectHashTable.get_item\u001b[0;34m()\u001b[0m\n",
            "\u001b[0;32mpandas/_libs/hashtable_class_helper.pxi\u001b[0m in \u001b[0;36mpandas._libs.hashtable.PyObjectHashTable.get_item\u001b[0;34m()\u001b[0m\n",
            "\u001b[0;31mKeyError\u001b[0m: 'feature_names'",
            "\nThe above exception was the direct cause of the following exception:\n",
            "\u001b[0;31mKeyError\u001b[0m                                  Traceback (most recent call last)",
            "\u001b[0;32m<ipython-input-106-a579e31d8307>\u001b[0m in \u001b[0;36m<module>\u001b[0;34m()\u001b[0m\n\u001b[1;32m      1\u001b[0m \u001b[0;31m#features = load_diabetes()['feature_names']\u001b[0m\u001b[0;34m\u001b[0m\u001b[0;34m\u001b[0m\u001b[0;34m\u001b[0m\u001b[0m\n\u001b[0;32m----> 2\u001b[0;31m \u001b[0mfeatures\u001b[0m \u001b[0;34m=\u001b[0m \u001b[0mdata\u001b[0m\u001b[0;34m[\u001b[0m\u001b[0;34m'feature_names'\u001b[0m\u001b[0;34m]\u001b[0m\u001b[0;34m\u001b[0m\u001b[0;34m\u001b[0m\u001b[0m\n\u001b[0m",
            "\u001b[0;32m/usr/local/lib/python3.7/dist-packages/pandas/core/frame.py\u001b[0m in \u001b[0;36m__getitem__\u001b[0;34m(self, key)\u001b[0m\n\u001b[1;32m   2904\u001b[0m             \u001b[0;32mif\u001b[0m \u001b[0mself\u001b[0m\u001b[0;34m.\u001b[0m\u001b[0mcolumns\u001b[0m\u001b[0;34m.\u001b[0m\u001b[0mnlevels\u001b[0m \u001b[0;34m>\u001b[0m \u001b[0;36m1\u001b[0m\u001b[0;34m:\u001b[0m\u001b[0;34m\u001b[0m\u001b[0;34m\u001b[0m\u001b[0m\n\u001b[1;32m   2905\u001b[0m                 \u001b[0;32mreturn\u001b[0m \u001b[0mself\u001b[0m\u001b[0;34m.\u001b[0m\u001b[0m_getitem_multilevel\u001b[0m\u001b[0;34m(\u001b[0m\u001b[0mkey\u001b[0m\u001b[0;34m)\u001b[0m\u001b[0;34m\u001b[0m\u001b[0;34m\u001b[0m\u001b[0m\n\u001b[0;32m-> 2906\u001b[0;31m             \u001b[0mindexer\u001b[0m \u001b[0;34m=\u001b[0m \u001b[0mself\u001b[0m\u001b[0;34m.\u001b[0m\u001b[0mcolumns\u001b[0m\u001b[0;34m.\u001b[0m\u001b[0mget_loc\u001b[0m\u001b[0;34m(\u001b[0m\u001b[0mkey\u001b[0m\u001b[0;34m)\u001b[0m\u001b[0;34m\u001b[0m\u001b[0;34m\u001b[0m\u001b[0m\n\u001b[0m\u001b[1;32m   2907\u001b[0m             \u001b[0;32mif\u001b[0m \u001b[0mis_integer\u001b[0m\u001b[0;34m(\u001b[0m\u001b[0mindexer\u001b[0m\u001b[0;34m)\u001b[0m\u001b[0;34m:\u001b[0m\u001b[0;34m\u001b[0m\u001b[0;34m\u001b[0m\u001b[0m\n\u001b[1;32m   2908\u001b[0m                 \u001b[0mindexer\u001b[0m \u001b[0;34m=\u001b[0m \u001b[0;34m[\u001b[0m\u001b[0mindexer\u001b[0m\u001b[0;34m]\u001b[0m\u001b[0;34m\u001b[0m\u001b[0;34m\u001b[0m\u001b[0m\n",
            "\u001b[0;32m/usr/local/lib/python3.7/dist-packages/pandas/core/indexes/base.py\u001b[0m in \u001b[0;36mget_loc\u001b[0;34m(self, key, method, tolerance)\u001b[0m\n\u001b[1;32m   2898\u001b[0m                 \u001b[0;32mreturn\u001b[0m \u001b[0mself\u001b[0m\u001b[0;34m.\u001b[0m\u001b[0m_engine\u001b[0m\u001b[0;34m.\u001b[0m\u001b[0mget_loc\u001b[0m\u001b[0;34m(\u001b[0m\u001b[0mcasted_key\u001b[0m\u001b[0;34m)\u001b[0m\u001b[0;34m\u001b[0m\u001b[0;34m\u001b[0m\u001b[0m\n\u001b[1;32m   2899\u001b[0m             \u001b[0;32mexcept\u001b[0m \u001b[0mKeyError\u001b[0m \u001b[0;32mas\u001b[0m \u001b[0merr\u001b[0m\u001b[0;34m:\u001b[0m\u001b[0;34m\u001b[0m\u001b[0;34m\u001b[0m\u001b[0m\n\u001b[0;32m-> 2900\u001b[0;31m                 \u001b[0;32mraise\u001b[0m \u001b[0mKeyError\u001b[0m\u001b[0;34m(\u001b[0m\u001b[0mkey\u001b[0m\u001b[0;34m)\u001b[0m \u001b[0;32mfrom\u001b[0m \u001b[0merr\u001b[0m\u001b[0;34m\u001b[0m\u001b[0;34m\u001b[0m\u001b[0m\n\u001b[0m\u001b[1;32m   2901\u001b[0m \u001b[0;34m\u001b[0m\u001b[0m\n\u001b[1;32m   2902\u001b[0m         \u001b[0;32mif\u001b[0m \u001b[0mtolerance\u001b[0m \u001b[0;32mis\u001b[0m \u001b[0;32mnot\u001b[0m \u001b[0;32mNone\u001b[0m\u001b[0;34m:\u001b[0m\u001b[0;34m\u001b[0m\u001b[0;34m\u001b[0m\u001b[0m\n",
            "\u001b[0;31mKeyError\u001b[0m: 'feature_names'"
          ]
        }
      ]
    },
    {
      "cell_type": "code",
      "metadata": {
        "colab": {
          "base_uri": "https://localhost:8080/",
          "height": 191
        },
        "id": "_N8PllhSzsBp",
        "outputId": "1cabe154-8ecb-480b-cbbd-cecff303f9f5"
      },
      "source": [
        "np.array(data)[importance > 0]"
      ],
      "execution_count": 103,
      "outputs": [
        {
          "output_type": "error",
          "ename": "IndexError",
          "evalue": "ignored",
          "traceback": [
            "\u001b[0;31m---------------------------------------------------------------------------\u001b[0m",
            "\u001b[0;31mIndexError\u001b[0m                                Traceback (most recent call last)",
            "\u001b[0;32m<ipython-input-103-4603649bd878>\u001b[0m in \u001b[0;36m<module>\u001b[0;34m()\u001b[0m\n\u001b[0;32m----> 1\u001b[0;31m \u001b[0mnp\u001b[0m\u001b[0;34m.\u001b[0m\u001b[0marray\u001b[0m\u001b[0;34m(\u001b[0m\u001b[0mdata\u001b[0m\u001b[0;34m)\u001b[0m\u001b[0;34m[\u001b[0m\u001b[0mimportance\u001b[0m \u001b[0;34m>\u001b[0m \u001b[0;36m0\u001b[0m\u001b[0;34m]\u001b[0m\u001b[0;34m\u001b[0m\u001b[0;34m\u001b[0m\u001b[0m\n\u001b[0m",
            "\u001b[0;31mIndexError\u001b[0m: boolean index did not match indexed array along dimension 0; dimension is 54 but corresponding boolean dimension is 942"
          ]
        }
      ]
    },
    {
      "cell_type": "code",
      "metadata": {
        "id": "cRxlcGybxEhk"
      },
      "source": [
        "#model = Lasso(alpha=1.0)\n",
        "#sel_ = SelectFromModel(LogisticRegression(C=1, penalty='l1'))\n",
        "sel_ = SelectFromModel(Lasso(alpha=1.0))"
      ],
      "execution_count": 93,
      "outputs": []
    },
    {
      "cell_type": "code",
      "metadata": {
        "colab": {
          "base_uri": "https://localhost:8080/",
          "height": 363
        },
        "id": "CYG_K_O-yw6w",
        "outputId": "8ccdd92a-597f-49a0-bb11-007574d7f1e8"
      },
      "source": [
        "selected_feat = X_train.columns[(sel_.get_support())]"
      ],
      "execution_count": 99,
      "outputs": [
        {
          "output_type": "error",
          "ename": "ValueError",
          "evalue": "ignored",
          "traceback": [
            "\u001b[0;31m---------------------------------------------------------------------------\u001b[0m",
            "\u001b[0;31mValueError\u001b[0m                                Traceback (most recent call last)",
            "\u001b[0;32m<ipython-input-99-b9eded5b9e4b>\u001b[0m in \u001b[0;36m<module>\u001b[0;34m()\u001b[0m\n\u001b[0;32m----> 1\u001b[0;31m \u001b[0mselected_feat\u001b[0m \u001b[0;34m=\u001b[0m \u001b[0mX_train\u001b[0m\u001b[0;34m.\u001b[0m\u001b[0mcolumns\u001b[0m\u001b[0;34m[\u001b[0m\u001b[0;34m(\u001b[0m\u001b[0msel_\u001b[0m\u001b[0;34m.\u001b[0m\u001b[0mget_support\u001b[0m\u001b[0;34m(\u001b[0m\u001b[0;34m)\u001b[0m\u001b[0;34m)\u001b[0m\u001b[0;34m]\u001b[0m\u001b[0;34m\u001b[0m\u001b[0;34m\u001b[0m\u001b[0m\n\u001b[0m",
            "\u001b[0;32m/usr/local/lib/python3.7/dist-packages/sklearn/feature_selection/_base.py\u001b[0m in \u001b[0;36mget_support\u001b[0;34m(self, indices)\u001b[0m\n\u001b[1;32m     51\u001b[0m             \u001b[0mvalues\u001b[0m \u001b[0mare\u001b[0m \u001b[0mindices\u001b[0m \u001b[0minto\u001b[0m \u001b[0mthe\u001b[0m \u001b[0minput\u001b[0m \u001b[0mfeature\u001b[0m \u001b[0mvector\u001b[0m\u001b[0;34m.\u001b[0m\u001b[0;34m\u001b[0m\u001b[0;34m\u001b[0m\u001b[0m\n\u001b[1;32m     52\u001b[0m         \"\"\"\n\u001b[0;32m---> 53\u001b[0;31m         \u001b[0mmask\u001b[0m \u001b[0;34m=\u001b[0m \u001b[0mself\u001b[0m\u001b[0;34m.\u001b[0m\u001b[0m_get_support_mask\u001b[0m\u001b[0;34m(\u001b[0m\u001b[0;34m)\u001b[0m\u001b[0;34m\u001b[0m\u001b[0;34m\u001b[0m\u001b[0m\n\u001b[0m\u001b[1;32m     54\u001b[0m         \u001b[0;32mreturn\u001b[0m \u001b[0mmask\u001b[0m \u001b[0;32mif\u001b[0m \u001b[0;32mnot\u001b[0m \u001b[0mindices\u001b[0m \u001b[0;32melse\u001b[0m \u001b[0mnp\u001b[0m\u001b[0;34m.\u001b[0m\u001b[0mwhere\u001b[0m\u001b[0;34m(\u001b[0m\u001b[0mmask\u001b[0m\u001b[0;34m)\u001b[0m\u001b[0;34m[\u001b[0m\u001b[0;36m0\u001b[0m\u001b[0;34m]\u001b[0m\u001b[0;34m\u001b[0m\u001b[0;34m\u001b[0m\u001b[0m\n\u001b[1;32m     55\u001b[0m \u001b[0;34m\u001b[0m\u001b[0m\n",
            "\u001b[0;32m/usr/local/lib/python3.7/dist-packages/sklearn/feature_selection/_from_model.py\u001b[0m in \u001b[0;36m_get_support_mask\u001b[0;34m(self)\u001b[0m\n\u001b[1;32m    205\u001b[0m         \u001b[0;32melse\u001b[0m\u001b[0;34m:\u001b[0m\u001b[0;34m\u001b[0m\u001b[0;34m\u001b[0m\u001b[0m\n\u001b[1;32m    206\u001b[0m             raise ValueError(\n\u001b[0;32m--> 207\u001b[0;31m                 \u001b[0;34m\"Either fit the model before transform or set\"\u001b[0m\u001b[0;34m\u001b[0m\u001b[0;34m\u001b[0m\u001b[0m\n\u001b[0m\u001b[1;32m    208\u001b[0m                 \u001b[0;34m' \"prefit=True\" while passing the fitted'\u001b[0m\u001b[0;34m\u001b[0m\u001b[0;34m\u001b[0m\u001b[0m\n\u001b[1;32m    209\u001b[0m                 \u001b[0;34m\" estimator to the constructor.\"\u001b[0m\u001b[0;34m\u001b[0m\u001b[0;34m\u001b[0m\u001b[0m\n",
            "\u001b[0;31mValueError\u001b[0m: Either fit the model before transform or set \"prefit=True\" while passing the fitted estimator to the constructor."
          ]
        }
      ]
    },
    {
      "cell_type": "code",
      "metadata": {
        "colab": {
          "base_uri": "https://localhost:8080/",
          "height": 436
        },
        "id": "Ic5tXAGuwzZ7",
        "outputId": "be76295b-e267-4379-ca6b-674eae9d8a8c"
      },
      "source": [
        "selected_feat = X_train.columns[(sel_.get_support())]\n",
        "print('total features: {}'.format((X_train.shape[1])))\n",
        "print('selected features: {}'.format(len(selected_feat)))\n",
        "print('features with coefficients shrank to zero: {}'.format(\n",
        "      np.sum(sel_.estimator_.coef_ == 0)))\n"
      ],
      "execution_count": 98,
      "outputs": [
        {
          "output_type": "error",
          "ename": "ValueError",
          "evalue": "ignored",
          "traceback": [
            "\u001b[0;31m---------------------------------------------------------------------------\u001b[0m",
            "\u001b[0;31mValueError\u001b[0m                                Traceback (most recent call last)",
            "\u001b[0;32m<ipython-input-98-a46efc96b71a>\u001b[0m in \u001b[0;36m<module>\u001b[0;34m()\u001b[0m\n\u001b[0;32m----> 1\u001b[0;31m \u001b[0mselected_feat\u001b[0m \u001b[0;34m=\u001b[0m \u001b[0mX_train\u001b[0m\u001b[0;34m.\u001b[0m\u001b[0mcolumns\u001b[0m\u001b[0;34m[\u001b[0m\u001b[0;34m(\u001b[0m\u001b[0msel_\u001b[0m\u001b[0;34m.\u001b[0m\u001b[0mget_support\u001b[0m\u001b[0;34m(\u001b[0m\u001b[0;34m)\u001b[0m\u001b[0;34m)\u001b[0m\u001b[0;34m]\u001b[0m\u001b[0;34m\u001b[0m\u001b[0;34m\u001b[0m\u001b[0m\n\u001b[0m\u001b[1;32m      2\u001b[0m \u001b[0mprint\u001b[0m\u001b[0;34m(\u001b[0m\u001b[0;34m'total features: {}'\u001b[0m\u001b[0;34m.\u001b[0m\u001b[0mformat\u001b[0m\u001b[0;34m(\u001b[0m\u001b[0;34m(\u001b[0m\u001b[0mX_train\u001b[0m\u001b[0;34m.\u001b[0m\u001b[0mshape\u001b[0m\u001b[0;34m[\u001b[0m\u001b[0;36m1\u001b[0m\u001b[0;34m]\u001b[0m\u001b[0;34m)\u001b[0m\u001b[0;34m)\u001b[0m\u001b[0;34m)\u001b[0m\u001b[0;34m\u001b[0m\u001b[0;34m\u001b[0m\u001b[0m\n\u001b[1;32m      3\u001b[0m \u001b[0mprint\u001b[0m\u001b[0;34m(\u001b[0m\u001b[0;34m'selected features: {}'\u001b[0m\u001b[0;34m.\u001b[0m\u001b[0mformat\u001b[0m\u001b[0;34m(\u001b[0m\u001b[0mlen\u001b[0m\u001b[0;34m(\u001b[0m\u001b[0mselected_feat\u001b[0m\u001b[0;34m)\u001b[0m\u001b[0;34m)\u001b[0m\u001b[0;34m)\u001b[0m\u001b[0;34m\u001b[0m\u001b[0;34m\u001b[0m\u001b[0m\n\u001b[1;32m      4\u001b[0m print('features with coefficients shrank to zero: {}'.format(\n\u001b[1;32m      5\u001b[0m       np.sum(sel_.estimator_.coef_ == 0)))\n",
            "\u001b[0;32m/usr/local/lib/python3.7/dist-packages/sklearn/feature_selection/_base.py\u001b[0m in \u001b[0;36mget_support\u001b[0;34m(self, indices)\u001b[0m\n\u001b[1;32m     51\u001b[0m             \u001b[0mvalues\u001b[0m \u001b[0mare\u001b[0m \u001b[0mindices\u001b[0m \u001b[0minto\u001b[0m \u001b[0mthe\u001b[0m \u001b[0minput\u001b[0m \u001b[0mfeature\u001b[0m \u001b[0mvector\u001b[0m\u001b[0;34m.\u001b[0m\u001b[0;34m\u001b[0m\u001b[0;34m\u001b[0m\u001b[0m\n\u001b[1;32m     52\u001b[0m         \"\"\"\n\u001b[0;32m---> 53\u001b[0;31m         \u001b[0mmask\u001b[0m \u001b[0;34m=\u001b[0m \u001b[0mself\u001b[0m\u001b[0;34m.\u001b[0m\u001b[0m_get_support_mask\u001b[0m\u001b[0;34m(\u001b[0m\u001b[0;34m)\u001b[0m\u001b[0;34m\u001b[0m\u001b[0;34m\u001b[0m\u001b[0m\n\u001b[0m\u001b[1;32m     54\u001b[0m         \u001b[0;32mreturn\u001b[0m \u001b[0mmask\u001b[0m \u001b[0;32mif\u001b[0m \u001b[0;32mnot\u001b[0m \u001b[0mindices\u001b[0m \u001b[0;32melse\u001b[0m \u001b[0mnp\u001b[0m\u001b[0;34m.\u001b[0m\u001b[0mwhere\u001b[0m\u001b[0;34m(\u001b[0m\u001b[0mmask\u001b[0m\u001b[0;34m)\u001b[0m\u001b[0;34m[\u001b[0m\u001b[0;36m0\u001b[0m\u001b[0;34m]\u001b[0m\u001b[0;34m\u001b[0m\u001b[0;34m\u001b[0m\u001b[0m\n\u001b[1;32m     55\u001b[0m \u001b[0;34m\u001b[0m\u001b[0m\n",
            "\u001b[0;32m/usr/local/lib/python3.7/dist-packages/sklearn/feature_selection/_from_model.py\u001b[0m in \u001b[0;36m_get_support_mask\u001b[0;34m(self)\u001b[0m\n\u001b[1;32m    205\u001b[0m         \u001b[0;32melse\u001b[0m\u001b[0;34m:\u001b[0m\u001b[0;34m\u001b[0m\u001b[0;34m\u001b[0m\u001b[0m\n\u001b[1;32m    206\u001b[0m             raise ValueError(\n\u001b[0;32m--> 207\u001b[0;31m                 \u001b[0;34m\"Either fit the model before transform or set\"\u001b[0m\u001b[0;34m\u001b[0m\u001b[0;34m\u001b[0m\u001b[0m\n\u001b[0m\u001b[1;32m    208\u001b[0m                 \u001b[0;34m' \"prefit=True\" while passing the fitted'\u001b[0m\u001b[0;34m\u001b[0m\u001b[0;34m\u001b[0m\u001b[0m\n\u001b[1;32m    209\u001b[0m                 \u001b[0;34m\" estimator to the constructor.\"\u001b[0m\u001b[0;34m\u001b[0m\u001b[0;34m\u001b[0m\u001b[0m\n",
            "\u001b[0;31mValueError\u001b[0m: Either fit the model before transform or set \"prefit=True\" while passing the fitted estimator to the constructor."
          ]
        }
      ]
    },
    {
      "cell_type": "code",
      "metadata": {
        "id": "U7BR24YJwzWt"
      },
      "source": [
        ""
      ],
      "execution_count": null,
      "outputs": []
    },
    {
      "cell_type": "code",
      "metadata": {
        "id": "Cjl6SSiYwzSn"
      },
      "source": [
        ""
      ],
      "execution_count": null,
      "outputs": []
    },
    {
      "cell_type": "code",
      "metadata": {
        "id": "5PqbBB1owzPA"
      },
      "source": [
        ""
      ],
      "execution_count": null,
      "outputs": []
    },
    {
      "cell_type": "code",
      "metadata": {
        "id": "x32aNcBOoQ0p"
      },
      "source": [
        ""
      ],
      "execution_count": null,
      "outputs": []
    },
    {
      "cell_type": "markdown",
      "metadata": {
        "id": "FRsMh6RULIxR"
      },
      "source": [
        "# basement Junk"
      ]
    },
    {
      "cell_type": "markdown",
      "metadata": {
        "id": "X7W3mk1bJ-re"
      },
      "source": [
        "# Side by side"
      ]
    },
    {
      "cell_type": "code",
      "metadata": {
        "id": "vhRg2UDmixKX"
      },
      "source": [
        "#https://github.com/gianlucamalato/machinelearning/blob/master/Feature_selection_using_Lasso.ipynb"
      ],
      "execution_count": null,
      "outputs": []
    },
    {
      "cell_type": "code",
      "metadata": {
        "id": "imnk2CbEnZmg"
      },
      "source": [
        "import numpy as np\n",
        "from sklearn.preprocessing import StandardScaler\n",
        "from sklearn.pipeline import Pipeline\n",
        "from sklearn.model_selection import train_test_split, GridSearchCV\n",
        "from sklearn.linear_model import Lasso"
      ],
      "execution_count": 51,
      "outputs": []
    },
    {
      "cell_type": "code",
      "metadata": {
        "id": "eCASbx_knZiL"
      },
      "source": [
        "#Data"
      ],
      "execution_count": 125,
      "outputs": []
    },
    {
      "cell_type": "code",
      "metadata": {
        "colab": {
          "base_uri": "https://localhost:8080/",
          "height": 213
        },
        "id": "C0iHyt4mnZeg",
        "outputId": "cbe51431-08a5-4162-deab-eac9b0733d9c"
      },
      "source": [
        "data= pd.read_csv('/content/drive/MyDrive/Porcelana_OP_adelphi_2021_SCALED.csv')\n",
        "data.head(2)"
      ],
      "execution_count": 52,
      "outputs": [
        {
          "output_type": "execute_result",
          "data": {
            "text/html": [
              "<div>\n",
              "<style scoped>\n",
              "    .dataframe tbody tr th:only-of-type {\n",
              "        vertical-align: middle;\n",
              "    }\n",
              "\n",
              "    .dataframe tbody tr th {\n",
              "        vertical-align: top;\n",
              "    }\n",
              "\n",
              "    .dataframe thead th {\n",
              "        text-align: right;\n",
              "    }\n",
              "</style>\n",
              "<table border=\"1\" class=\"dataframe\">\n",
              "  <thead>\n",
              "    <tr style=\"text-align: right;\">\n",
              "      <th></th>\n",
              "      <th>date</th>\n",
              "      <th>Quantity</th>\n",
              "      <th>Seasonal</th>\n",
              "      <th>Consumer_loans</th>\n",
              "      <th>Construction_lic_unt</th>\n",
              "      <th>Construction_lic_area</th>\n",
              "      <th>Construction_lic_unt_SI</th>\n",
              "      <th>Construction_lic_unt_NO_SI</th>\n",
              "      <th>Construction_lic_area_SI</th>\n",
              "      <th>Construction_lic_area_NO_SI</th>\n",
              "      <th>Gray_cement_prod</th>\n",
              "      <th>Gray_cement_dispatch</th>\n",
              "      <th>Gray_cement_dispatch_Factory</th>\n",
              "      <th>Gray_cement_dispatch_comercial</th>\n",
              "      <th>Gray_cement_dispatch_contractor</th>\n",
              "      <th>Gray_cement_dispatch_other</th>\n",
              "      <th>DTF(interest_rate)</th>\n",
              "      <th>GDP_Constr</th>\n",
              "      <th>GDP_Total</th>\n",
              "      <th>Inflation</th>\n",
              "      <th>USD_exchange</th>\n",
              "      <th>Oil-brent</th>\n",
              "      <th>Oil_WTI</th>\n",
              "      <th>ISE</th>\n",
              "      <th>ICC</th>\n",
              "      <th>IEC</th>\n",
              "      <th>ICE</th>\n",
              "      <th>Unemployment%</th>\n",
              "      <th>RADAR_Constr</th>\n",
              "      <th>RADAR_Rev</th>\n",
              "      <th>RADAR_Toilets</th>\n",
              "      <th>RADAR_HomeAppliance</th>\n",
              "      <th>RADAR_Paint</th>\n",
              "      <th>RADAR_Furniture</th>\n",
              "      <th>RADAR_Tools</th>\n",
              "      <th>RADAR_Elect</th>\n",
              "      <th>RADAR_Plumbing</th>\n",
              "      <th>RADAR_Wood</th>\n",
              "      <th>RADAR_Supply</th>\n",
              "      <th>RADAR_Remodel</th>\n",
              "      <th>...</th>\n",
              "      <th>Preferencial_creditlag_8</th>\n",
              "      <th>loan_overdraftslag_8</th>\n",
              "      <th>Credit_cardlag_8</th>\n",
              "      <th>Treasury_loanlag_8</th>\n",
              "      <th>Housing_loanlag_8</th>\n",
              "      <th>Consumer_creditlag_9</th>\n",
              "      <th>Consumer_microcreditlag_9</th>\n",
              "      <th>Ordinary_creditlag_9</th>\n",
              "      <th>Preferencial_creditlag_9</th>\n",
              "      <th>loan_overdraftslag_9</th>\n",
              "      <th>Credit_cardlag_9</th>\n",
              "      <th>Treasury_loanlag_9</th>\n",
              "      <th>Housing_loanlag_9</th>\n",
              "      <th>Consumer_creditlag_10</th>\n",
              "      <th>Consumer_microcreditlag_10</th>\n",
              "      <th>Ordinary_creditlag_10</th>\n",
              "      <th>Preferencial_creditlag_10</th>\n",
              "      <th>loan_overdraftslag_10</th>\n",
              "      <th>Credit_cardlag_10</th>\n",
              "      <th>Treasury_loanlag_10</th>\n",
              "      <th>Housing_loanlag_10</th>\n",
              "      <th>Consumer_creditlag_11</th>\n",
              "      <th>Consumer_microcreditlag_11</th>\n",
              "      <th>Ordinary_creditlag_11</th>\n",
              "      <th>Preferencial_creditlag_11</th>\n",
              "      <th>loan_overdraftslag_11</th>\n",
              "      <th>Credit_cardlag_11</th>\n",
              "      <th>Treasury_loanlag_11</th>\n",
              "      <th>Housing_loanlag_11</th>\n",
              "      <th>Consumer_creditlag_12</th>\n",
              "      <th>Consumer_microcreditlag_12</th>\n",
              "      <th>Ordinary_creditlag_12</th>\n",
              "      <th>Preferencial_creditlag_12</th>\n",
              "      <th>loan_overdraftslag_12</th>\n",
              "      <th>Credit_cardlag_12</th>\n",
              "      <th>Treasury_loanlag_12</th>\n",
              "      <th>Housing_loanlag_12</th>\n",
              "      <th>holiday</th>\n",
              "      <th>sunday</th>\n",
              "      <th>working_day</th>\n",
              "    </tr>\n",
              "  </thead>\n",
              "  <tbody>\n",
              "    <tr>\n",
              "      <th>0</th>\n",
              "      <td>2017-01-01</td>\n",
              "      <td>1.503548</td>\n",
              "      <td>0.699923</td>\n",
              "      <td>112579.4297</td>\n",
              "      <td>11303.0</td>\n",
              "      <td>1185131.0</td>\n",
              "      <td>3587.0</td>\n",
              "      <td>7716.0</td>\n",
              "      <td>229478.0</td>\n",
              "      <td>955653.0</td>\n",
              "      <td>897063.518</td>\n",
              "      <td>913190.407</td>\n",
              "      <td>194276.020</td>\n",
              "      <td>502084.8330</td>\n",
              "      <td>171559.9665</td>\n",
              "      <td>45269.5875</td>\n",
              "      <td>0.0694</td>\n",
              "      <td>14753.34784</td>\n",
              "      <td>206242.568</td>\n",
              "      <td>5.47</td>\n",
              "      <td>2944.65</td>\n",
              "      <td>52.19</td>\n",
              "      <td>52.81</td>\n",
              "      <td>102.548972</td>\n",
              "      <td>-30.2</td>\n",
              "      <td>-28.3</td>\n",
              "      <td>-33.1</td>\n",
              "      <td>11.733267</td>\n",
              "      <td>1.044525e+11</td>\n",
              "      <td>1.323489e+11</td>\n",
              "      <td>1.727682e+11</td>\n",
              "      <td>1.050914e+11</td>\n",
              "      <td>8.847567e+10</td>\n",
              "      <td>8.354725e+10</td>\n",
              "      <td>5.008444e+10</td>\n",
              "      <td>9.372000e+10</td>\n",
              "      <td>3.037115e+10</td>\n",
              "      <td>3.136015e+10</td>\n",
              "      <td>1.585430e+11</td>\n",
              "      <td>1.050763e+12</td>\n",
              "      <td>...</td>\n",
              "      <td>4445890.861</td>\n",
              "      <td>6402426.269</td>\n",
              "      <td>3390803.016</td>\n",
              "      <td>550883.0739</td>\n",
              "      <td>1302564.560</td>\n",
              "      <td>4680431.000</td>\n",
              "      <td>460632.0000</td>\n",
              "      <td>5702443.000</td>\n",
              "      <td>4657354.000</td>\n",
              "      <td>7012296.000</td>\n",
              "      <td>3283417.000</td>\n",
              "      <td>549789.0000</td>\n",
              "      <td>1454672.00</td>\n",
              "      <td>4941981.754</td>\n",
              "      <td>531850.1926</td>\n",
              "      <td>7315235.649</td>\n",
              "      <td>6120086.089</td>\n",
              "      <td>8140200.383</td>\n",
              "      <td>3814229.013</td>\n",
              "      <td>632387.5921</td>\n",
              "      <td>1627959.289</td>\n",
              "      <td>4068020.900</td>\n",
              "      <td>438682.2679</td>\n",
              "      <td>6513619.182</td>\n",
              "      <td>6137144.374</td>\n",
              "      <td>6675101.294</td>\n",
              "      <td>2989980.729</td>\n",
              "      <td>483448.3473</td>\n",
              "      <td>1298811.962</td>\n",
              "      <td>3106784.5</td>\n",
              "      <td>386289.5525</td>\n",
              "      <td>4875376.339</td>\n",
              "      <td>4791146.877</td>\n",
              "      <td>5996088.922</td>\n",
              "      <td>3013612.505</td>\n",
              "      <td>470541.3290</td>\n",
              "      <td>1093819.181</td>\n",
              "      <td>1</td>\n",
              "      <td>5</td>\n",
              "      <td>25</td>\n",
              "    </tr>\n",
              "    <tr>\n",
              "      <th>1</th>\n",
              "      <td>2017-02-01</td>\n",
              "      <td>0.076213</td>\n",
              "      <td>0.316156</td>\n",
              "      <td>113438.0949</td>\n",
              "      <td>16187.0</td>\n",
              "      <td>1590979.0</td>\n",
              "      <td>4659.0</td>\n",
              "      <td>11528.0</td>\n",
              "      <td>272961.0</td>\n",
              "      <td>1318018.0</td>\n",
              "      <td>1025704.960</td>\n",
              "      <td>1007968.299</td>\n",
              "      <td>228359.839</td>\n",
              "      <td>530826.1625</td>\n",
              "      <td>199731.6950</td>\n",
              "      <td>49050.6025</td>\n",
              "      <td>0.0678</td>\n",
              "      <td>14753.34784</td>\n",
              "      <td>206242.568</td>\n",
              "      <td>5.18</td>\n",
              "      <td>2881.68</td>\n",
              "      <td>53.40</td>\n",
              "      <td>54.01</td>\n",
              "      <td>102.919033</td>\n",
              "      <td>-24.3</td>\n",
              "      <td>-19.9</td>\n",
              "      <td>-31.0</td>\n",
              "      <td>10.504292</td>\n",
              "      <td>1.574855e+11</td>\n",
              "      <td>8.351517e+10</td>\n",
              "      <td>1.096908e+11</td>\n",
              "      <td>8.252536e+10</td>\n",
              "      <td>8.582517e+10</td>\n",
              "      <td>1.522091e+11</td>\n",
              "      <td>5.056706e+10</td>\n",
              "      <td>6.034851e+10</td>\n",
              "      <td>2.138243e+10</td>\n",
              "      <td>2.216364e+10</td>\n",
              "      <td>2.104634e+11</td>\n",
              "      <td>1.036176e+12</td>\n",
              "      <td>...</td>\n",
              "      <td>6566090.070</td>\n",
              "      <td>7930536.312</td>\n",
              "      <td>4347164.930</td>\n",
              "      <td>677598.1836</td>\n",
              "      <td>1864166.572</td>\n",
              "      <td>4353892.017</td>\n",
              "      <td>433679.7772</td>\n",
              "      <td>5854575.608</td>\n",
              "      <td>4445890.861</td>\n",
              "      <td>6402426.269</td>\n",
              "      <td>3390803.016</td>\n",
              "      <td>550883.0739</td>\n",
              "      <td>1302564.56</td>\n",
              "      <td>4680431.000</td>\n",
              "      <td>460632.0000</td>\n",
              "      <td>5702443.000</td>\n",
              "      <td>4657354.000</td>\n",
              "      <td>7012296.000</td>\n",
              "      <td>3283417.000</td>\n",
              "      <td>549789.0000</td>\n",
              "      <td>1454672.000</td>\n",
              "      <td>4941981.754</td>\n",
              "      <td>531850.1926</td>\n",
              "      <td>7315235.649</td>\n",
              "      <td>6120086.089</td>\n",
              "      <td>8140200.383</td>\n",
              "      <td>3814229.013</td>\n",
              "      <td>632387.5921</td>\n",
              "      <td>1627959.289</td>\n",
              "      <td>4068020.9</td>\n",
              "      <td>438682.2679</td>\n",
              "      <td>6513619.182</td>\n",
              "      <td>6137144.374</td>\n",
              "      <td>6675101.294</td>\n",
              "      <td>2989980.729</td>\n",
              "      <td>483448.3473</td>\n",
              "      <td>1298811.962</td>\n",
              "      <td>0</td>\n",
              "      <td>4</td>\n",
              "      <td>24</td>\n",
              "    </tr>\n",
              "  </tbody>\n",
              "</table>\n",
              "<p>2 rows × 943 columns</p>\n",
              "</div>"
            ],
            "text/plain": [
              "         date  Quantity  Seasonal  ...  holiday  sunday  working_day\n",
              "0  2017-01-01  1.503548  0.699923  ...        1       5           25\n",
              "1  2017-02-01  0.076213  0.316156  ...        0       4           24\n",
              "\n",
              "[2 rows x 943 columns]"
            ]
          },
          "metadata": {},
          "execution_count": 52
        }
      ]
    },
    {
      "cell_type": "code",
      "metadata": {
        "id": "jq711pmCLFx0"
      },
      "source": [
        "data['date'] = pd.to_datetime(data['date'])\n",
        "data['date']= data['date'].map(dt.datetime.toordinal)"
      ],
      "execution_count": 53,
      "outputs": []
    },
    {
      "cell_type": "code",
      "metadata": {
        "id": "7iACAfBEnZaS"
      },
      "source": [
        "#y = data_robust_scaled_named['diagnosis']\n",
        "y = data['Quantity']"
      ],
      "execution_count": 54,
      "outputs": []
    },
    {
      "cell_type": "code",
      "metadata": {
        "id": "nBrnfMrSKfC9"
      },
      "source": [
        "X = data.loc[: ,data.columns != 'Quantity']"
      ],
      "execution_count": 55,
      "outputs": []
    },
    {
      "cell_type": "code",
      "metadata": {
        "id": "VwOI6RNucII9"
      },
      "source": [
        "#X = data.loc[: ,data.columns != 'Quantity']\n",
        "feature_list = data.loc[: ,data.columns != 'Quantity']\n",
        "#features = list(data)"
      ],
      "execution_count": 56,
      "outputs": []
    },
    {
      "cell_type": "code",
      "metadata": {
        "id": "_BhpZRtvcP2o"
      },
      "source": [
        "features = list(feature_list)"
      ],
      "execution_count": 57,
      "outputs": []
    },
    {
      "cell_type": "code",
      "metadata": {
        "id": "5VycfTcPKe7M"
      },
      "source": [
        "X_train, X_test, y_train, y_test = train_test_split(X, y, test_size=0.33, random_state=42)"
      ],
      "execution_count": 58,
      "outputs": []
    },
    {
      "cell_type": "code",
      "metadata": {
        "id": "i3tX8wZUKe3j"
      },
      "source": [
        "pipeline = Pipeline([\n",
        "                     ('scaler',StandardScaler()),\n",
        "                     ('model',Lasso())\n",
        "])"
      ],
      "execution_count": 59,
      "outputs": []
    },
    {
      "cell_type": "code",
      "metadata": {
        "id": "XCCS1EvJKvOr"
      },
      "source": [
        "search = GridSearchCV(pipeline,\n",
        "                      {'model__alpha':np.arange(0.1,10,0.1)},\n",
        "                      cv = 5, scoring=\"neg_mean_squared_error\",verbose=3\n",
        "                      )"
      ],
      "execution_count": 60,
      "outputs": []
    },
    {
      "cell_type": "code",
      "metadata": {
        "id": "lPKLkuTqKvLB"
      },
      "source": [
        "search.fit(X_train,y_train)"
      ],
      "execution_count": null,
      "outputs": []
    },
    {
      "cell_type": "code",
      "metadata": {
        "colab": {
          "base_uri": "https://localhost:8080/"
        },
        "id": "N9xkz5m9KvHQ",
        "outputId": "9256834e-f683-4252-8ea6-421f027fa732"
      },
      "source": [
        "search.best_params_"
      ],
      "execution_count": 62,
      "outputs": [
        {
          "output_type": "execute_result",
          "data": {
            "text/plain": [
              "{'model__alpha': 0.2}"
            ]
          },
          "metadata": {},
          "execution_count": 62
        }
      ]
    },
    {
      "cell_type": "code",
      "metadata": {
        "id": "vwl482TtKvDY"
      },
      "source": [
        "coefficients = search.best_estimator_.named_steps['model'].coef_"
      ],
      "execution_count": 63,
      "outputs": []
    },
    {
      "cell_type": "code",
      "metadata": {
        "id": "l0qlqoUtZ_rQ"
      },
      "source": [
        "coefficients"
      ],
      "execution_count": null,
      "outputs": []
    },
    {
      "cell_type": "code",
      "metadata": {
        "id": "f6uDY07LKu_a"
      },
      "source": [
        "importance = np.abs(coefficients)"
      ],
      "execution_count": 65,
      "outputs": []
    },
    {
      "cell_type": "code",
      "metadata": {
        "id": "qVNvoA8_MAeA"
      },
      "source": [
        "importance"
      ],
      "execution_count": null,
      "outputs": []
    },
    {
      "cell_type": "code",
      "metadata": {
        "colab": {
          "base_uri": "https://localhost:8080/"
        },
        "id": "HPiVUs_YMAaX",
        "outputId": "89c6f177-9aad-4836-e433-e49d502572b7"
      },
      "source": [
        "np.array(features)[importance > 0]"
      ],
      "execution_count": 67,
      "outputs": [
        {
          "output_type": "execute_result",
          "data": {
            "text/plain": [
              "array(['Seasonal', 'Gray_cement_dispatch_comercial', 'ISE',\n",
              "       'Construction_lic_area/unt_SIlag_4', 'IEClag_5', 'ISElag_6',\n",
              "       'Gray_cement_dispatch_Factorylag_9', 'ICElag_9',\n",
              "       'Housing_total_sales', 'Housing_total_initiation_SIlag_24',\n",
              "       'Ordinary_creditlag_4', 'Ordinary_creditlag_6', 'working_day'],\n",
              "      dtype='<U37')"
            ]
          },
          "metadata": {},
          "execution_count": 67
        }
      ]
    },
    {
      "cell_type": "markdown",
      "metadata": {
        "id": "vxcxAteR71Lx"
      },
      "source": [
        "Below I was unable to pair the Features and the labels"
      ]
    },
    {
      "cell_type": "markdown",
      "metadata": {
        "id": "d2Dz2OLx726N"
      },
      "source": [
        "Instead I will sue the list of features to subset data.  \n",
        "\n",
        "them I will use the plain old linear regression "
      ]
    },
    {
      "cell_type": "code",
      "metadata": {
        "id": "b08F9P5m-Q0j"
      },
      "source": [
        "Selected_Features = [['Seasonal', 'Gray_cement_dispatch_comercial', 'ISE',\n",
        "       'Construction_lic_area/unt_SIlag_4', 'IEClag_5', 'ISElag_6',\n",
        "       'Gray_cement_dispatch_Factorylag_9', 'ICElag_9',\n",
        "       'Housing_total_sales', 'Housing_total_initiation_SIlag_24',\n",
        "       'Ordinary_creditlag_4', 'Ordinary_creditlag_6', 'working_day']]"
      ],
      "execution_count": 43,
      "outputs": []
    },
    {
      "cell_type": "code",
      "metadata": {
        "colab": {
          "base_uri": "https://localhost:8080/"
        },
        "id": "FpMjYGwk-QvX",
        "outputId": "99d20865-dea7-43a5-d357-79f7225a5390"
      },
      "source": [
        "Selected_Features #13 features"
      ],
      "execution_count": 47,
      "outputs": [
        {
          "output_type": "execute_result",
          "data": {
            "text/plain": [
              "[['Seasonal',\n",
              "  'Gray_cement_dispatch_comercial',\n",
              "  'ISE',\n",
              "  'Construction_lic_area/unt_SIlag_4',\n",
              "  'IEClag_5',\n",
              "  'ISElag_6',\n",
              "  'Gray_cement_dispatch_Factorylag_9',\n",
              "  'ICElag_9',\n",
              "  'Housing_total_sales',\n",
              "  'Housing_total_initiation_SIlag_24',\n",
              "  'Ordinary_creditlag_4',\n",
              "  'Ordinary_creditlag_6',\n",
              "  'working_day']]"
            ]
          },
          "metadata": {},
          "execution_count": 47
        }
      ]
    },
    {
      "cell_type": "code",
      "metadata": {
        "id": "wHBcTX8Q-QrK"
      },
      "source": [
        "Data_Selected_Features= data[['Quantity', 'Seasonal', 'Gray_cement_dispatch_comercial', 'ISE',\n",
        "       'Construction_lic_area/unt_SIlag_4', 'IEClag_5', 'ISElag_6',\n",
        "       'Gray_cement_dispatch_Factorylag_9', 'ICElag_9',\n",
        "       'Housing_total_sales', 'Housing_total_initiation_SIlag_24',\n",
        "       'Ordinary_creditlag_4', 'Ordinary_creditlag_6', 'working_day']]"
      ],
      "execution_count": 73,
      "outputs": []
    },
    {
      "cell_type": "code",
      "metadata": {
        "colab": {
          "base_uri": "https://localhost:8080/",
          "height": 226
        },
        "id": "AuD5dbxG-Qm9",
        "outputId": "691f0e81-b079-4a30-81b1-ce601b5a1574"
      },
      "source": [
        "Data_Selected_Features.head()"
      ],
      "execution_count": 74,
      "outputs": [
        {
          "output_type": "execute_result",
          "data": {
            "text/html": [
              "<div>\n",
              "<style scoped>\n",
              "    .dataframe tbody tr th:only-of-type {\n",
              "        vertical-align: middle;\n",
              "    }\n",
              "\n",
              "    .dataframe tbody tr th {\n",
              "        vertical-align: top;\n",
              "    }\n",
              "\n",
              "    .dataframe thead th {\n",
              "        text-align: right;\n",
              "    }\n",
              "</style>\n",
              "<table border=\"1\" class=\"dataframe\">\n",
              "  <thead>\n",
              "    <tr style=\"text-align: right;\">\n",
              "      <th></th>\n",
              "      <th>Quantity</th>\n",
              "      <th>Seasonal</th>\n",
              "      <th>Gray_cement_dispatch_comercial</th>\n",
              "      <th>ISE</th>\n",
              "      <th>Construction_lic_area/unt_SIlag_4</th>\n",
              "      <th>IEClag_5</th>\n",
              "      <th>ISElag_6</th>\n",
              "      <th>Gray_cement_dispatch_Factorylag_9</th>\n",
              "      <th>ICElag_9</th>\n",
              "      <th>Housing_total_sales</th>\n",
              "      <th>Housing_total_initiation_SIlag_24</th>\n",
              "      <th>Ordinary_creditlag_4</th>\n",
              "      <th>Ordinary_creditlag_6</th>\n",
              "      <th>working_day</th>\n",
              "    </tr>\n",
              "  </thead>\n",
              "  <tbody>\n",
              "    <tr>\n",
              "      <th>0</th>\n",
              "      <td>1.503548</td>\n",
              "      <td>0.699923</td>\n",
              "      <td>502084.8330</td>\n",
              "      <td>102.548972</td>\n",
              "      <td>69.107759</td>\n",
              "      <td>-0.8</td>\n",
              "      <td>99.983258</td>\n",
              "      <td>246590.9825</td>\n",
              "      <td>-23.1</td>\n",
              "      <td>17168.0</td>\n",
              "      <td>15711.0</td>\n",
              "      <td>6582407.438</td>\n",
              "      <td>5430545.717</td>\n",
              "      <td>25</td>\n",
              "    </tr>\n",
              "    <tr>\n",
              "      <th>1</th>\n",
              "      <td>0.076213</td>\n",
              "      <td>0.316156</td>\n",
              "      <td>530826.1625</td>\n",
              "      <td>102.919033</td>\n",
              "      <td>61.576356</td>\n",
              "      <td>-0.5</td>\n",
              "      <td>102.844455</td>\n",
              "      <td>235505.0780</td>\n",
              "      <td>-17.1</td>\n",
              "      <td>16196.0</td>\n",
              "      <td>7515.0</td>\n",
              "      <td>5823639.090</td>\n",
              "      <td>7116995.809</td>\n",
              "      <td>24</td>\n",
              "    </tr>\n",
              "    <tr>\n",
              "      <th>2</th>\n",
              "      <td>-1.346258</td>\n",
              "      <td>-0.267695</td>\n",
              "      <td>568447.4880</td>\n",
              "      <td>102.162670</td>\n",
              "      <td>57.195909</td>\n",
              "      <td>-4.2</td>\n",
              "      <td>103.209393</td>\n",
              "      <td>241604.7690</td>\n",
              "      <td>-10.8</td>\n",
              "      <td>15388.0</td>\n",
              "      <td>5744.0</td>\n",
              "      <td>7940658.711</td>\n",
              "      <td>6582407.438</td>\n",
              "      <td>26</td>\n",
              "    </tr>\n",
              "    <tr>\n",
              "      <th>3</th>\n",
              "      <td>-2.122585</td>\n",
              "      <td>-2.419870</td>\n",
              "      <td>477863.7565</td>\n",
              "      <td>102.983586</td>\n",
              "      <td>60.038831</td>\n",
              "      <td>-4.7</td>\n",
              "      <td>103.057448</td>\n",
              "      <td>224013.6000</td>\n",
              "      <td>-19.9</td>\n",
              "      <td>14481.0</td>\n",
              "      <td>5445.0</td>\n",
              "      <td>7880889.537</td>\n",
              "      <td>5823639.090</td>\n",
              "      <td>23</td>\n",
              "    </tr>\n",
              "    <tr>\n",
              "      <th>4</th>\n",
              "      <td>-0.665067</td>\n",
              "      <td>-0.644222</td>\n",
              "      <td>521968.2200</td>\n",
              "      <td>103.070062</td>\n",
              "      <td>63.974909</td>\n",
              "      <td>-16.1</td>\n",
              "      <td>103.353834</td>\n",
              "      <td>236576.3735</td>\n",
              "      <td>-15.3</td>\n",
              "      <td>14347.0</td>\n",
              "      <td>7567.0</td>\n",
              "      <td>4498496.510</td>\n",
              "      <td>7940658.711</td>\n",
              "      <td>25</td>\n",
              "    </tr>\n",
              "  </tbody>\n",
              "</table>\n",
              "</div>"
            ],
            "text/plain": [
              "   Quantity  Seasonal  ...  Ordinary_creditlag_6  working_day\n",
              "0  1.503548  0.699923  ...           5430545.717           25\n",
              "1  0.076213  0.316156  ...           7116995.809           24\n",
              "2 -1.346258 -0.267695  ...           6582407.438           26\n",
              "3 -2.122585 -2.419870  ...           5823639.090           23\n",
              "4 -0.665067 -0.644222  ...           7940658.711           25\n",
              "\n",
              "[5 rows x 14 columns]"
            ]
          },
          "metadata": {},
          "execution_count": 74
        }
      ]
    },
    {
      "cell_type": "code",
      "metadata": {
        "colab": {
          "base_uri": "https://localhost:8080/"
        },
        "id": "GmvjmyMO-Qjr",
        "outputId": "3fd550d2-7e05-4cd4-a22d-4f2a7314a13a"
      },
      "source": [
        "Data_Selected_Features.shape"
      ],
      "execution_count": 75,
      "outputs": [
        {
          "output_type": "execute_result",
          "data": {
            "text/plain": [
              "(54, 14)"
            ]
          },
          "metadata": {},
          "execution_count": 75
        }
      ]
    },
    {
      "cell_type": "markdown",
      "metadata": {
        "id": "NcU-DVgSBa8V"
      },
      "source": [
        "# Re-Split the data"
      ]
    },
    {
      "cell_type": "code",
      "metadata": {
        "id": "EXjU7pjMBP96"
      },
      "source": [
        "y = Data_Selected_Features['Quantity']"
      ],
      "execution_count": 77,
      "outputs": []
    },
    {
      "cell_type": "code",
      "metadata": {
        "id": "2Hi_CGTtBP6f"
      },
      "source": [
        "X = Data_Selected_Features.loc[: , Data_Selected_Features.columns != 'Quantity']"
      ],
      "execution_count": 78,
      "outputs": []
    },
    {
      "cell_type": "code",
      "metadata": {
        "id": "f5WDJ6xKBP3k"
      },
      "source": [
        "X_train, X_test, y_train, y_test = train_test_split(X, y, test_size=0.33, random_state=42)"
      ],
      "execution_count": 79,
      "outputs": []
    },
    {
      "cell_type": "markdown",
      "metadata": {
        "id": "TiH0zdnrCXrk"
      },
      "source": [
        "# Model"
      ]
    },
    {
      "cell_type": "code",
      "metadata": {
        "id": "O7_vn8pYBP0N"
      },
      "source": [
        "from sklearn.linear_model import  LinearRegression"
      ],
      "execution_count": 81,
      "outputs": []
    },
    {
      "cell_type": "code",
      "metadata": {
        "id": "gY7ytfW0BPwl"
      },
      "source": [
        "model = LinearRegression(normalize = True)"
      ],
      "execution_count": 82,
      "outputs": []
    },
    {
      "cell_type": "code",
      "metadata": {
        "id": "9Mhz83ryCt_W"
      },
      "source": [
        "model.fit(X_train,y_train)"
      ],
      "execution_count": null,
      "outputs": []
    },
    {
      "cell_type": "code",
      "metadata": {
        "id": "6laG86Q5Ct7n"
      },
      "source": [
        "y_pred = model.predict(X_test)"
      ],
      "execution_count": 85,
      "outputs": []
    },
    {
      "cell_type": "code",
      "metadata": {
        "id": "qb4FrFDwCtxZ"
      },
      "source": [
        "coef = model.coef_"
      ],
      "execution_count": 86,
      "outputs": []
    },
    {
      "cell_type": "code",
      "metadata": {
        "id": "kLOWCsaxDPm2"
      },
      "source": [
        "intercept = model.intercept_"
      ],
      "execution_count": 87,
      "outputs": []
    },
    {
      "cell_type": "code",
      "metadata": {
        "id": "atidDRcODPjc"
      },
      "source": [
        "##########"
      ],
      "execution_count": null,
      "outputs": []
    },
    {
      "cell_type": "code",
      "metadata": {
        "colab": {
          "base_uri": "https://localhost:8080/"
        },
        "id": "tq3YmBT1DbOh",
        "outputId": "bac98ad8-c205-4169-f713-89ec15a57b64"
      },
      "source": [
        "y_pred"
      ],
      "execution_count": 88,
      "outputs": [
        {
          "output_type": "execute_result",
          "data": {
            "text/plain": [
              "array([ 0.06904307,  1.43692915,  1.78155009, -0.29150532,  0.4111168 ,\n",
              "       -1.32469982, -0.3775532 ,  1.22315394, -0.75265738,  0.03147003,\n",
              "        0.34453818, -0.25875224, -0.08483878, -0.41938682,  0.25816951,\n",
              "       -0.23075493, -0.10448408,  0.95630185])"
            ]
          },
          "metadata": {},
          "execution_count": 88
        }
      ]
    },
    {
      "cell_type": "code",
      "metadata": {
        "colab": {
          "base_uri": "https://localhost:8080/"
        },
        "id": "CHslvUXfDbLK",
        "outputId": "06edd4a7-e8c9-4446-d9e7-8c51bf843ee2"
      },
      "source": [
        "coef"
      ],
      "execution_count": 89,
      "outputs": [
        {
          "output_type": "execute_result",
          "data": {
            "text/plain": [
              "array([ 1.46999432e-01, -1.32149350e-06,  6.20227609e-02,  6.90660952e-02,\n",
              "        1.53578404e-02, -1.60744628e-02,  1.72415284e-06, -1.49970955e-02,\n",
              "        8.36322178e-05,  3.10416523e-05, -1.10324849e-07, -1.18720626e-07,\n",
              "        4.63161698e-02])"
            ]
          },
          "metadata": {},
          "execution_count": 89
        }
      ]
    },
    {
      "cell_type": "code",
      "metadata": {
        "colab": {
          "base_uri": "https://localhost:8080/"
        },
        "id": "ihfKT5Q-DbID",
        "outputId": "6b95f728-2bd7-48bb-a6fc-eb8aa09d2285"
      },
      "source": [
        "intercept"
      ],
      "execution_count": 90,
      "outputs": [
        {
          "output_type": "execute_result",
          "data": {
            "text/plain": [
              "-10.139846762422339"
            ]
          },
          "metadata": {},
          "execution_count": 90
        }
      ]
    },
    {
      "cell_type": "code",
      "metadata": {
        "id": "yBOkTzyhDbFO"
      },
      "source": [
        "X_test"
      ],
      "execution_count": null,
      "outputs": []
    },
    {
      "cell_type": "code",
      "metadata": {
        "id": "i4zbaSrXDbBy"
      },
      "source": [
        ""
      ],
      "execution_count": null,
      "outputs": []
    },
    {
      "cell_type": "markdown",
      "metadata": {
        "id": "ojkIVu9zQLI3"
      },
      "source": [
        "# Plottting Predictions"
      ]
    },
    {
      "cell_type": "code",
      "metadata": {
        "colab": {
          "base_uri": "https://localhost:8080/",
          "height": 213
        },
        "id": "vIV1ReQ3QQMp",
        "outputId": "b7f3cd52-2b9d-46c0-d3e7-25e433af9ec7"
      },
      "source": [
        "data= pd.read_csv('/content/drive/MyDrive/Porcelana_OP_adelphi_2021_SCALED.csv')\n",
        "data.head(2)"
      ],
      "execution_count": 93,
      "outputs": [
        {
          "output_type": "execute_result",
          "data": {
            "text/html": [
              "<div>\n",
              "<style scoped>\n",
              "    .dataframe tbody tr th:only-of-type {\n",
              "        vertical-align: middle;\n",
              "    }\n",
              "\n",
              "    .dataframe tbody tr th {\n",
              "        vertical-align: top;\n",
              "    }\n",
              "\n",
              "    .dataframe thead th {\n",
              "        text-align: right;\n",
              "    }\n",
              "</style>\n",
              "<table border=\"1\" class=\"dataframe\">\n",
              "  <thead>\n",
              "    <tr style=\"text-align: right;\">\n",
              "      <th></th>\n",
              "      <th>date</th>\n",
              "      <th>Quantity</th>\n",
              "      <th>Seasonal</th>\n",
              "      <th>Consumer_loans</th>\n",
              "      <th>Construction_lic_unt</th>\n",
              "      <th>Construction_lic_area</th>\n",
              "      <th>Construction_lic_unt_SI</th>\n",
              "      <th>Construction_lic_unt_NO_SI</th>\n",
              "      <th>Construction_lic_area_SI</th>\n",
              "      <th>Construction_lic_area_NO_SI</th>\n",
              "      <th>Gray_cement_prod</th>\n",
              "      <th>Gray_cement_dispatch</th>\n",
              "      <th>Gray_cement_dispatch_Factory</th>\n",
              "      <th>Gray_cement_dispatch_comercial</th>\n",
              "      <th>Gray_cement_dispatch_contractor</th>\n",
              "      <th>Gray_cement_dispatch_other</th>\n",
              "      <th>DTF(interest_rate)</th>\n",
              "      <th>GDP_Constr</th>\n",
              "      <th>GDP_Total</th>\n",
              "      <th>Inflation</th>\n",
              "      <th>USD_exchange</th>\n",
              "      <th>Oil-brent</th>\n",
              "      <th>Oil_WTI</th>\n",
              "      <th>ISE</th>\n",
              "      <th>ICC</th>\n",
              "      <th>IEC</th>\n",
              "      <th>ICE</th>\n",
              "      <th>Unemployment%</th>\n",
              "      <th>RADAR_Constr</th>\n",
              "      <th>RADAR_Rev</th>\n",
              "      <th>RADAR_Toilets</th>\n",
              "      <th>RADAR_HomeAppliance</th>\n",
              "      <th>RADAR_Paint</th>\n",
              "      <th>RADAR_Furniture</th>\n",
              "      <th>RADAR_Tools</th>\n",
              "      <th>RADAR_Elect</th>\n",
              "      <th>RADAR_Plumbing</th>\n",
              "      <th>RADAR_Wood</th>\n",
              "      <th>RADAR_Supply</th>\n",
              "      <th>RADAR_Remodel</th>\n",
              "      <th>...</th>\n",
              "      <th>Preferencial_creditlag_8</th>\n",
              "      <th>loan_overdraftslag_8</th>\n",
              "      <th>Credit_cardlag_8</th>\n",
              "      <th>Treasury_loanlag_8</th>\n",
              "      <th>Housing_loanlag_8</th>\n",
              "      <th>Consumer_creditlag_9</th>\n",
              "      <th>Consumer_microcreditlag_9</th>\n",
              "      <th>Ordinary_creditlag_9</th>\n",
              "      <th>Preferencial_creditlag_9</th>\n",
              "      <th>loan_overdraftslag_9</th>\n",
              "      <th>Credit_cardlag_9</th>\n",
              "      <th>Treasury_loanlag_9</th>\n",
              "      <th>Housing_loanlag_9</th>\n",
              "      <th>Consumer_creditlag_10</th>\n",
              "      <th>Consumer_microcreditlag_10</th>\n",
              "      <th>Ordinary_creditlag_10</th>\n",
              "      <th>Preferencial_creditlag_10</th>\n",
              "      <th>loan_overdraftslag_10</th>\n",
              "      <th>Credit_cardlag_10</th>\n",
              "      <th>Treasury_loanlag_10</th>\n",
              "      <th>Housing_loanlag_10</th>\n",
              "      <th>Consumer_creditlag_11</th>\n",
              "      <th>Consumer_microcreditlag_11</th>\n",
              "      <th>Ordinary_creditlag_11</th>\n",
              "      <th>Preferencial_creditlag_11</th>\n",
              "      <th>loan_overdraftslag_11</th>\n",
              "      <th>Credit_cardlag_11</th>\n",
              "      <th>Treasury_loanlag_11</th>\n",
              "      <th>Housing_loanlag_11</th>\n",
              "      <th>Consumer_creditlag_12</th>\n",
              "      <th>Consumer_microcreditlag_12</th>\n",
              "      <th>Ordinary_creditlag_12</th>\n",
              "      <th>Preferencial_creditlag_12</th>\n",
              "      <th>loan_overdraftslag_12</th>\n",
              "      <th>Credit_cardlag_12</th>\n",
              "      <th>Treasury_loanlag_12</th>\n",
              "      <th>Housing_loanlag_12</th>\n",
              "      <th>holiday</th>\n",
              "      <th>sunday</th>\n",
              "      <th>working_day</th>\n",
              "    </tr>\n",
              "  </thead>\n",
              "  <tbody>\n",
              "    <tr>\n",
              "      <th>0</th>\n",
              "      <td>2017-01-01</td>\n",
              "      <td>1.503548</td>\n",
              "      <td>0.699923</td>\n",
              "      <td>112579.4297</td>\n",
              "      <td>11303.0</td>\n",
              "      <td>1185131.0</td>\n",
              "      <td>3587.0</td>\n",
              "      <td>7716.0</td>\n",
              "      <td>229478.0</td>\n",
              "      <td>955653.0</td>\n",
              "      <td>897063.518</td>\n",
              "      <td>913190.407</td>\n",
              "      <td>194276.020</td>\n",
              "      <td>502084.8330</td>\n",
              "      <td>171559.9665</td>\n",
              "      <td>45269.5875</td>\n",
              "      <td>0.0694</td>\n",
              "      <td>14753.34784</td>\n",
              "      <td>206242.568</td>\n",
              "      <td>5.47</td>\n",
              "      <td>2944.65</td>\n",
              "      <td>52.19</td>\n",
              "      <td>52.81</td>\n",
              "      <td>102.548972</td>\n",
              "      <td>-30.2</td>\n",
              "      <td>-28.3</td>\n",
              "      <td>-33.1</td>\n",
              "      <td>11.733267</td>\n",
              "      <td>1.044525e+11</td>\n",
              "      <td>1.323489e+11</td>\n",
              "      <td>1.727682e+11</td>\n",
              "      <td>1.050914e+11</td>\n",
              "      <td>8.847567e+10</td>\n",
              "      <td>8.354725e+10</td>\n",
              "      <td>5.008444e+10</td>\n",
              "      <td>9.372000e+10</td>\n",
              "      <td>3.037115e+10</td>\n",
              "      <td>3.136015e+10</td>\n",
              "      <td>1.585430e+11</td>\n",
              "      <td>1.050763e+12</td>\n",
              "      <td>...</td>\n",
              "      <td>4445890.861</td>\n",
              "      <td>6402426.269</td>\n",
              "      <td>3390803.016</td>\n",
              "      <td>550883.0739</td>\n",
              "      <td>1302564.560</td>\n",
              "      <td>4680431.000</td>\n",
              "      <td>460632.0000</td>\n",
              "      <td>5702443.000</td>\n",
              "      <td>4657354.000</td>\n",
              "      <td>7012296.000</td>\n",
              "      <td>3283417.000</td>\n",
              "      <td>549789.0000</td>\n",
              "      <td>1454672.00</td>\n",
              "      <td>4941981.754</td>\n",
              "      <td>531850.1926</td>\n",
              "      <td>7315235.649</td>\n",
              "      <td>6120086.089</td>\n",
              "      <td>8140200.383</td>\n",
              "      <td>3814229.013</td>\n",
              "      <td>632387.5921</td>\n",
              "      <td>1627959.289</td>\n",
              "      <td>4068020.900</td>\n",
              "      <td>438682.2679</td>\n",
              "      <td>6513619.182</td>\n",
              "      <td>6137144.374</td>\n",
              "      <td>6675101.294</td>\n",
              "      <td>2989980.729</td>\n",
              "      <td>483448.3473</td>\n",
              "      <td>1298811.962</td>\n",
              "      <td>3106784.5</td>\n",
              "      <td>386289.5525</td>\n",
              "      <td>4875376.339</td>\n",
              "      <td>4791146.877</td>\n",
              "      <td>5996088.922</td>\n",
              "      <td>3013612.505</td>\n",
              "      <td>470541.3290</td>\n",
              "      <td>1093819.181</td>\n",
              "      <td>1</td>\n",
              "      <td>5</td>\n",
              "      <td>25</td>\n",
              "    </tr>\n",
              "    <tr>\n",
              "      <th>1</th>\n",
              "      <td>2017-02-01</td>\n",
              "      <td>0.076213</td>\n",
              "      <td>0.316156</td>\n",
              "      <td>113438.0949</td>\n",
              "      <td>16187.0</td>\n",
              "      <td>1590979.0</td>\n",
              "      <td>4659.0</td>\n",
              "      <td>11528.0</td>\n",
              "      <td>272961.0</td>\n",
              "      <td>1318018.0</td>\n",
              "      <td>1025704.960</td>\n",
              "      <td>1007968.299</td>\n",
              "      <td>228359.839</td>\n",
              "      <td>530826.1625</td>\n",
              "      <td>199731.6950</td>\n",
              "      <td>49050.6025</td>\n",
              "      <td>0.0678</td>\n",
              "      <td>14753.34784</td>\n",
              "      <td>206242.568</td>\n",
              "      <td>5.18</td>\n",
              "      <td>2881.68</td>\n",
              "      <td>53.40</td>\n",
              "      <td>54.01</td>\n",
              "      <td>102.919033</td>\n",
              "      <td>-24.3</td>\n",
              "      <td>-19.9</td>\n",
              "      <td>-31.0</td>\n",
              "      <td>10.504292</td>\n",
              "      <td>1.574855e+11</td>\n",
              "      <td>8.351517e+10</td>\n",
              "      <td>1.096908e+11</td>\n",
              "      <td>8.252536e+10</td>\n",
              "      <td>8.582517e+10</td>\n",
              "      <td>1.522091e+11</td>\n",
              "      <td>5.056706e+10</td>\n",
              "      <td>6.034851e+10</td>\n",
              "      <td>2.138243e+10</td>\n",
              "      <td>2.216364e+10</td>\n",
              "      <td>2.104634e+11</td>\n",
              "      <td>1.036176e+12</td>\n",
              "      <td>...</td>\n",
              "      <td>6566090.070</td>\n",
              "      <td>7930536.312</td>\n",
              "      <td>4347164.930</td>\n",
              "      <td>677598.1836</td>\n",
              "      <td>1864166.572</td>\n",
              "      <td>4353892.017</td>\n",
              "      <td>433679.7772</td>\n",
              "      <td>5854575.608</td>\n",
              "      <td>4445890.861</td>\n",
              "      <td>6402426.269</td>\n",
              "      <td>3390803.016</td>\n",
              "      <td>550883.0739</td>\n",
              "      <td>1302564.56</td>\n",
              "      <td>4680431.000</td>\n",
              "      <td>460632.0000</td>\n",
              "      <td>5702443.000</td>\n",
              "      <td>4657354.000</td>\n",
              "      <td>7012296.000</td>\n",
              "      <td>3283417.000</td>\n",
              "      <td>549789.0000</td>\n",
              "      <td>1454672.000</td>\n",
              "      <td>4941981.754</td>\n",
              "      <td>531850.1926</td>\n",
              "      <td>7315235.649</td>\n",
              "      <td>6120086.089</td>\n",
              "      <td>8140200.383</td>\n",
              "      <td>3814229.013</td>\n",
              "      <td>632387.5921</td>\n",
              "      <td>1627959.289</td>\n",
              "      <td>4068020.9</td>\n",
              "      <td>438682.2679</td>\n",
              "      <td>6513619.182</td>\n",
              "      <td>6137144.374</td>\n",
              "      <td>6675101.294</td>\n",
              "      <td>2989980.729</td>\n",
              "      <td>483448.3473</td>\n",
              "      <td>1298811.962</td>\n",
              "      <td>0</td>\n",
              "      <td>4</td>\n",
              "      <td>24</td>\n",
              "    </tr>\n",
              "  </tbody>\n",
              "</table>\n",
              "<p>2 rows × 943 columns</p>\n",
              "</div>"
            ],
            "text/plain": [
              "         date  Quantity  Seasonal  ...  holiday  sunday  working_day\n",
              "0  2017-01-01  1.503548  0.699923  ...        1       5           25\n",
              "1  2017-02-01  0.076213  0.316156  ...        0       4           24\n",
              "\n",
              "[2 rows x 943 columns]"
            ]
          },
          "metadata": {},
          "execution_count": 93
        }
      ]
    },
    {
      "cell_type": "code",
      "metadata": {
        "id": "cbCynPDdQQIv"
      },
      "source": [
        "y = Data_Selected_Features['Quantity']"
      ],
      "execution_count": 94,
      "outputs": []
    },
    {
      "cell_type": "code",
      "metadata": {
        "id": "ZgJT_ylJQQE1"
      },
      "source": [
        "X = Data_Selected_Features.loc[: , Data_Selected_Features.columns != 'Quantity']"
      ],
      "execution_count": 95,
      "outputs": []
    },
    {
      "cell_type": "code",
      "metadata": {
        "id": "M-4kKM5pQQBe"
      },
      "source": [
        "from sklearn.linear_model import  LinearRegression"
      ],
      "execution_count": 96,
      "outputs": []
    },
    {
      "cell_type": "code",
      "metadata": {
        "id": "EqKEt7JOQP6s"
      },
      "source": [
        "model = LinearRegression(normalize = True)"
      ],
      "execution_count": 97,
      "outputs": []
    },
    {
      "cell_type": "code",
      "metadata": {
        "colab": {
          "base_uri": "https://localhost:8080/"
        },
        "id": "nFLgr4FeREeE",
        "outputId": "d9c587fc-e051-443a-c75d-9b6f0cf7ee70"
      },
      "source": [
        "model.fit(X_train,y_train)"
      ],
      "execution_count": 98,
      "outputs": [
        {
          "output_type": "stream",
          "name": "stderr",
          "text": [
            "/usr/local/lib/python3.7/dist-packages/sklearn/linear_model/_base.py:145: FutureWarning: 'normalize' was deprecated in version 1.0 and will be removed in 1.2.\n",
            "If you wish to scale the data, use Pipeline with a StandardScaler in a preprocessing stage. To reproduce the previous behavior:\n",
            "\n",
            "from sklearn.pipeline import make_pipeline\n",
            "\n",
            "model = make_pipeline(StandardScaler(with_mean=False), LinearRegression())\n",
            "\n",
            "If you wish to pass a sample_weight parameter, you need to pass it as a fit parameter to each step of the pipeline as follows:\n",
            "\n",
            "kwargs = {s[0] + '__sample_weight': sample_weight for s in model.steps}\n",
            "model.fit(X, y, **kwargs)\n",
            "\n",
            "\n",
            "  FutureWarning,\n"
          ]
        },
        {
          "output_type": "execute_result",
          "data": {
            "text/plain": [
              "LinearRegression(normalize=True)"
            ]
          },
          "metadata": {},
          "execution_count": 98
        }
      ]
    },
    {
      "cell_type": "markdown",
      "metadata": {
        "id": "tJZqe0kCRY78"
      },
      "source": [
        "To see what coefficients our regression model has chosen, execute the following script:"
      ]
    },
    {
      "cell_type": "code",
      "metadata": {
        "id": "xEQcW-pwQ1hd"
      },
      "source": [
        "#X = data.loc[: ,data.columns != 'Quantity']\n",
        "feature_list = data.loc[: ,data.columns != 'Quantity']\n",
        "#features = list(data)"
      ],
      "execution_count": 99,
      "outputs": []
    },
    {
      "cell_type": "code",
      "metadata": {
        "id": "BNx_LWDiQ1bB"
      },
      "source": [
        "#X = data.loc[: ,data.columns != 'Quantity']\n",
        "feature_list = data.loc[: ,data.columns != 'Quantity']\n",
        "#features = list(data)"
      ],
      "execution_count": 100,
      "outputs": []
    },
    {
      "cell_type": "code",
      "metadata": {
        "colab": {
          "base_uri": "https://localhost:8080/",
          "height": 456
        },
        "id": "eH9amdUKQ1mm",
        "outputId": "b2fe5107-738a-4406-8a31-20a4e07f41cb"
      },
      "source": [
        "coeff_df = pd.DataFrame(model.coef_, X.columns, columns=['feature_list'])\n",
        "coeff_df"
      ],
      "execution_count": 101,
      "outputs": [
        {
          "output_type": "execute_result",
          "data": {
            "text/html": [
              "<div>\n",
              "<style scoped>\n",
              "    .dataframe tbody tr th:only-of-type {\n",
              "        vertical-align: middle;\n",
              "    }\n",
              "\n",
              "    .dataframe tbody tr th {\n",
              "        vertical-align: top;\n",
              "    }\n",
              "\n",
              "    .dataframe thead th {\n",
              "        text-align: right;\n",
              "    }\n",
              "</style>\n",
              "<table border=\"1\" class=\"dataframe\">\n",
              "  <thead>\n",
              "    <tr style=\"text-align: right;\">\n",
              "      <th></th>\n",
              "      <th>feature_list</th>\n",
              "    </tr>\n",
              "  </thead>\n",
              "  <tbody>\n",
              "    <tr>\n",
              "      <th>Seasonal</th>\n",
              "      <td>1.469994e-01</td>\n",
              "    </tr>\n",
              "    <tr>\n",
              "      <th>Gray_cement_dispatch_comercial</th>\n",
              "      <td>-1.321494e-06</td>\n",
              "    </tr>\n",
              "    <tr>\n",
              "      <th>ISE</th>\n",
              "      <td>6.202276e-02</td>\n",
              "    </tr>\n",
              "    <tr>\n",
              "      <th>Construction_lic_area/unt_SIlag_4</th>\n",
              "      <td>6.906610e-02</td>\n",
              "    </tr>\n",
              "    <tr>\n",
              "      <th>IEClag_5</th>\n",
              "      <td>1.535784e-02</td>\n",
              "    </tr>\n",
              "    <tr>\n",
              "      <th>ISElag_6</th>\n",
              "      <td>-1.607446e-02</td>\n",
              "    </tr>\n",
              "    <tr>\n",
              "      <th>Gray_cement_dispatch_Factorylag_9</th>\n",
              "      <td>1.724153e-06</td>\n",
              "    </tr>\n",
              "    <tr>\n",
              "      <th>ICElag_9</th>\n",
              "      <td>-1.499710e-02</td>\n",
              "    </tr>\n",
              "    <tr>\n",
              "      <th>Housing_total_sales</th>\n",
              "      <td>8.363222e-05</td>\n",
              "    </tr>\n",
              "    <tr>\n",
              "      <th>Housing_total_initiation_SIlag_24</th>\n",
              "      <td>3.104165e-05</td>\n",
              "    </tr>\n",
              "    <tr>\n",
              "      <th>Ordinary_creditlag_4</th>\n",
              "      <td>-1.103248e-07</td>\n",
              "    </tr>\n",
              "    <tr>\n",
              "      <th>Ordinary_creditlag_6</th>\n",
              "      <td>-1.187206e-07</td>\n",
              "    </tr>\n",
              "    <tr>\n",
              "      <th>working_day</th>\n",
              "      <td>4.631617e-02</td>\n",
              "    </tr>\n",
              "  </tbody>\n",
              "</table>\n",
              "</div>"
            ],
            "text/plain": [
              "                                   feature_list\n",
              "Seasonal                           1.469994e-01\n",
              "Gray_cement_dispatch_comercial    -1.321494e-06\n",
              "ISE                                6.202276e-02\n",
              "Construction_lic_area/unt_SIlag_4  6.906610e-02\n",
              "IEClag_5                           1.535784e-02\n",
              "ISElag_6                          -1.607446e-02\n",
              "Gray_cement_dispatch_Factorylag_9  1.724153e-06\n",
              "ICElag_9                          -1.499710e-02\n",
              "Housing_total_sales                8.363222e-05\n",
              "Housing_total_initiation_SIlag_24  3.104165e-05\n",
              "Ordinary_creditlag_4              -1.103248e-07\n",
              "Ordinary_creditlag_6              -1.187206e-07\n",
              "working_day                        4.631617e-02"
            ]
          },
          "metadata": {},
          "execution_count": 101
        }
      ]
    },
    {
      "cell_type": "code",
      "metadata": {
        "id": "h2sqBYMFQ1Pu"
      },
      "source": [
        ""
      ],
      "execution_count": null,
      "outputs": []
    },
    {
      "cell_type": "markdown",
      "metadata": {
        "id": "MP_aGMkc941v"
      },
      "source": [
        "# '###################################'"
      ]
    },
    {
      "cell_type": "code",
      "metadata": {
        "id": "vOtOb-2pMAV_"
      },
      "source": [
        "Selected_Cols = np.array(features)[importance > 0]\n",
        "#Selected_Cols = np.array(features)[importance != 0]"
      ],
      "execution_count": 27,
      "outputs": []
    },
    {
      "cell_type": "code",
      "metadata": {
        "colab": {
          "base_uri": "https://localhost:8080/"
        },
        "id": "cymWEB_-MASj",
        "outputId": "1b4156cc-5ebe-4a14-fb7b-5b946916f1f0"
      },
      "source": [
        "Selected_Cols"
      ],
      "execution_count": 28,
      "outputs": [
        {
          "output_type": "execute_result",
          "data": {
            "text/plain": [
              "array(['Seasonal', 'Gray_cement_dispatch_comercial', 'ISE',\n",
              "       'Construction_lic_area/unt_SIlag_4', 'IEClag_5', 'ISElag_6',\n",
              "       'Gray_cement_dispatch_Factorylag_9', 'ICElag_9',\n",
              "       'Housing_total_sales', 'Housing_total_initiation_SIlag_24',\n",
              "       'Ordinary_creditlag_4', 'Ordinary_creditlag_6', 'working_day'],\n",
              "      dtype='<U37')"
            ]
          },
          "metadata": {},
          "execution_count": 28
        }
      ]
    },
    {
      "cell_type": "markdown",
      "metadata": {
        "id": "QYUKZwccc9J1"
      },
      "source": [
        "How to get the coeefeicents for these features"
      ]
    },
    {
      "cell_type": "markdown",
      "metadata": {
        "id": "JRMVoRqoc89y"
      },
      "source": [
        ""
      ]
    },
    {
      "cell_type": "code",
      "metadata": {
        "id": "KxMVfBODR9sG"
      },
      "source": [
        "#pd.DataFrame({\"Feature\":X_train.columns.tolist(),\"Coefficients\":model.coef_[0]})\n",
        "#pd.DataFrame(dict(zip(df_X.columns,model.coef_[0])),index=[0]).T\n",
        "#\n"
      ],
      "execution_count": null,
      "outputs": []
    },
    {
      "cell_type": "code",
      "metadata": {
        "colab": {
          "base_uri": "https://localhost:8080/"
        },
        "id": "7A5TKKoUfk_4",
        "outputId": "a18590ad-c9ce-4e39-fa25-914eaa956e0b"
      },
      "source": [
        "coeffs = pd.Series(model.coef_[0], index=X.columns.values)\n",
        "coeffs.sort_values(ascending = False)"
      ],
      "execution_count": 282,
      "outputs": [
        {
          "output_type": "execute_result",
          "data": {
            "text/plain": [
              "working_day                            0.0003762874964618628283175016946415780694\n",
              "RADAR_Toiletslag_7                     0.0003762874964618628283175016946415780694\n",
              "Construction_lic_area/unt_NO_SIlag_7   0.0003762874964618628283175016946415780694\n",
              "Construction_lic_area/unt_SIlag_7      0.0003762874964618628283175016946415780694\n",
              "Construction_lic_area/untlag_7         0.0003762874964618628283175016946415780694\n",
              "                                                          ...                    \n",
              "Housing_total_initiation_SIlag_7       0.0003762874964618628283175016946415780694\n",
              "Housing_total_initiationlag_7          0.0003762874964618628283175016946415780694\n",
              "Housing_total_launch_NO_SIlag_7        0.0003762874964618628283175016946415780694\n",
              "Housing_total_launch_SIlag_7           0.0003762874964618628283175016946415780694\n",
              "date                                   0.0003762874964618628283175016946415780694\n",
              "Length: 942, dtype: float64"
            ]
          },
          "metadata": {},
          "execution_count": 282
        }
      ]
    },
    {
      "cell_type": "code",
      "metadata": {
        "id": "S4MdCI6_fk4x"
      },
      "source": [
        ""
      ],
      "execution_count": null,
      "outputs": []
    },
    {
      "cell_type": "code",
      "metadata": {
        "id": "jkQ9BGS1MAO8"
      },
      "source": [
        "# get coefficients"
      ],
      "execution_count": null,
      "outputs": []
    },
    {
      "cell_type": "code",
      "metadata": {
        "id": "56Y09EUUMAIC"
      },
      "source": [
        "coef_table = pd.DataFrame(list(X_train.columns)).copy()"
      ],
      "execution_count": 29,
      "outputs": []
    },
    {
      "cell_type": "code",
      "metadata": {
        "id": "XvBYpiPSMAFL"
      },
      "source": [
        "coef_table"
      ],
      "execution_count": null,
      "outputs": []
    },
    {
      "cell_type": "code",
      "metadata": {
        "colab": {
          "base_uri": "https://localhost:8080/",
          "height": 136
        },
        "id": "6A66Nhw7MAAQ",
        "outputId": "098be8bf-4bcd-4a28-b4b8-3e9bf301d2bc"
      },
      "source": [
        "coef_table.insert(len(coef_table.columns),\"Coef,model.coef_.transpose)"
      ],
      "execution_count": 40,
      "outputs": [
        {
          "output_type": "error",
          "ename": "SyntaxError",
          "evalue": "ignored",
          "traceback": [
            "\u001b[0;36m  File \u001b[0;32m\"<ipython-input-40-9ad18115cf0b>\"\u001b[0;36m, line \u001b[0;32m1\u001b[0m\n\u001b[0;31m    coef_table.insert(len(coef_table.columns),\"Coef,model.coef_.transpose)\u001b[0m\n\u001b[0m                                                                          ^\u001b[0m\n\u001b[0;31mSyntaxError\u001b[0m\u001b[0;31m:\u001b[0m EOL while scanning string literal\n"
          ]
        }
      ]
    },
    {
      "cell_type": "code",
      "metadata": {
        "colab": {
          "base_uri": "https://localhost:8080/",
          "height": 423
        },
        "id": "AVJj6e2EL_8g",
        "outputId": "4c49811d-c62b-458a-a7c9-a2444c028e8b"
      },
      "source": [
        "coef_table"
      ],
      "execution_count": 32,
      "outputs": [
        {
          "output_type": "execute_result",
          "data": {
            "text/html": [
              "<div>\n",
              "<style scoped>\n",
              "    .dataframe tbody tr th:only-of-type {\n",
              "        vertical-align: middle;\n",
              "    }\n",
              "\n",
              "    .dataframe tbody tr th {\n",
              "        vertical-align: top;\n",
              "    }\n",
              "\n",
              "    .dataframe thead th {\n",
              "        text-align: right;\n",
              "    }\n",
              "</style>\n",
              "<table border=\"1\" class=\"dataframe\">\n",
              "  <thead>\n",
              "    <tr style=\"text-align: right;\">\n",
              "      <th></th>\n",
              "      <th>0</th>\n",
              "    </tr>\n",
              "  </thead>\n",
              "  <tbody>\n",
              "    <tr>\n",
              "      <th>0</th>\n",
              "      <td>date</td>\n",
              "    </tr>\n",
              "    <tr>\n",
              "      <th>1</th>\n",
              "      <td>Seasonal</td>\n",
              "    </tr>\n",
              "    <tr>\n",
              "      <th>2</th>\n",
              "      <td>Consumer_loans</td>\n",
              "    </tr>\n",
              "    <tr>\n",
              "      <th>3</th>\n",
              "      <td>Construction_lic_unt</td>\n",
              "    </tr>\n",
              "    <tr>\n",
              "      <th>4</th>\n",
              "      <td>Construction_lic_area</td>\n",
              "    </tr>\n",
              "    <tr>\n",
              "      <th>...</th>\n",
              "      <td>...</td>\n",
              "    </tr>\n",
              "    <tr>\n",
              "      <th>937</th>\n",
              "      <td>Treasury_loanlag_12</td>\n",
              "    </tr>\n",
              "    <tr>\n",
              "      <th>938</th>\n",
              "      <td>Housing_loanlag_12</td>\n",
              "    </tr>\n",
              "    <tr>\n",
              "      <th>939</th>\n",
              "      <td>holiday</td>\n",
              "    </tr>\n",
              "    <tr>\n",
              "      <th>940</th>\n",
              "      <td>sunday</td>\n",
              "    </tr>\n",
              "    <tr>\n",
              "      <th>941</th>\n",
              "      <td>working_day</td>\n",
              "    </tr>\n",
              "  </tbody>\n",
              "</table>\n",
              "<p>942 rows × 1 columns</p>\n",
              "</div>"
            ],
            "text/plain": [
              "                         0\n",
              "0                     date\n",
              "1                 Seasonal\n",
              "2           Consumer_loans\n",
              "3     Construction_lic_unt\n",
              "4    Construction_lic_area\n",
              "..                     ...\n",
              "937    Treasury_loanlag_12\n",
              "938     Housing_loanlag_12\n",
              "939                holiday\n",
              "940                 sunday\n",
              "941            working_day\n",
              "\n",
              "[942 rows x 1 columns]"
            ]
          },
          "metadata": {},
          "execution_count": 32
        }
      ]
    },
    {
      "cell_type": "code",
      "metadata": {
        "id": "vyeUVTBgPOME"
      },
      "source": [
        "df = pd.DataFrame(coef_table)"
      ],
      "execution_count": 41,
      "outputs": []
    },
    {
      "cell_type": "code",
      "metadata": {
        "colab": {
          "base_uri": "https://localhost:8080/",
          "height": 423
        },
        "id": "AdeTFZ7uPUrK",
        "outputId": "06dd16ad-94d6-4b8a-aece-0c404fb49644"
      },
      "source": [
        "df"
      ],
      "execution_count": 170,
      "outputs": [
        {
          "output_type": "execute_result",
          "data": {
            "text/html": [
              "<div>\n",
              "<style scoped>\n",
              "    .dataframe tbody tr th:only-of-type {\n",
              "        vertical-align: middle;\n",
              "    }\n",
              "\n",
              "    .dataframe tbody tr th {\n",
              "        vertical-align: top;\n",
              "    }\n",
              "\n",
              "    .dataframe thead th {\n",
              "        text-align: right;\n",
              "    }\n",
              "</style>\n",
              "<table border=\"1\" class=\"dataframe\">\n",
              "  <thead>\n",
              "    <tr style=\"text-align: right;\">\n",
              "      <th></th>\n",
              "      <th>0</th>\n",
              "      <th>Coefs</th>\n",
              "    </tr>\n",
              "  </thead>\n",
              "  <tbody>\n",
              "    <tr>\n",
              "      <th>0</th>\n",
              "      <td>date</td>\n",
              "      <td>0.000376</td>\n",
              "    </tr>\n",
              "    <tr>\n",
              "      <th>1</th>\n",
              "      <td>Seasonal</td>\n",
              "      <td>0.000000</td>\n",
              "    </tr>\n",
              "    <tr>\n",
              "      <th>2</th>\n",
              "      <td>Consumer_loans</td>\n",
              "      <td>-0.000000</td>\n",
              "    </tr>\n",
              "    <tr>\n",
              "      <th>3</th>\n",
              "      <td>Construction_lic_unt</td>\n",
              "      <td>0.000000</td>\n",
              "    </tr>\n",
              "    <tr>\n",
              "      <th>4</th>\n",
              "      <td>Construction_lic_area</td>\n",
              "      <td>0.000000</td>\n",
              "    </tr>\n",
              "    <tr>\n",
              "      <th>...</th>\n",
              "      <td>...</td>\n",
              "      <td>...</td>\n",
              "    </tr>\n",
              "    <tr>\n",
              "      <th>937</th>\n",
              "      <td>Treasury_loanlag_12</td>\n",
              "      <td>-0.000000</td>\n",
              "    </tr>\n",
              "    <tr>\n",
              "      <th>938</th>\n",
              "      <td>Housing_loanlag_12</td>\n",
              "      <td>-0.000000</td>\n",
              "    </tr>\n",
              "    <tr>\n",
              "      <th>939</th>\n",
              "      <td>holiday</td>\n",
              "      <td>-0.000000</td>\n",
              "    </tr>\n",
              "    <tr>\n",
              "      <th>940</th>\n",
              "      <td>sunday</td>\n",
              "      <td>-0.000000</td>\n",
              "    </tr>\n",
              "    <tr>\n",
              "      <th>941</th>\n",
              "      <td>working_day</td>\n",
              "      <td>0.000000</td>\n",
              "    </tr>\n",
              "  </tbody>\n",
              "</table>\n",
              "<p>942 rows × 2 columns</p>\n",
              "</div>"
            ],
            "text/plain": [
              "                         0     Coefs\n",
              "0                     date  0.000376\n",
              "1                 Seasonal  0.000000\n",
              "2           Consumer_loans -0.000000\n",
              "3     Construction_lic_unt  0.000000\n",
              "4    Construction_lic_area  0.000000\n",
              "..                     ...       ...\n",
              "937    Treasury_loanlag_12 -0.000000\n",
              "938     Housing_loanlag_12 -0.000000\n",
              "939                holiday -0.000000\n",
              "940                 sunday -0.000000\n",
              "941            working_day  0.000000\n",
              "\n",
              "[942 rows x 2 columns]"
            ]
          },
          "metadata": {},
          "execution_count": 170
        }
      ]
    },
    {
      "cell_type": "code",
      "metadata": {
        "colab": {
          "base_uri": "https://localhost:8080/",
          "height": 400
        },
        "id": "aROJKBjNPVri",
        "outputId": "0dda6af4-1097-4f05-c06a-e5ffe4628865"
      },
      "source": [
        "df2 = df.set_axis(['Feature', 'Coef'], axis=1, inplace=False)\n",
        "df2"
      ],
      "execution_count": 42,
      "outputs": [
        {
          "output_type": "error",
          "ename": "ValueError",
          "evalue": "ignored",
          "traceback": [
            "\u001b[0;31m---------------------------------------------------------------------------\u001b[0m",
            "\u001b[0;31mValueError\u001b[0m                                Traceback (most recent call last)",
            "\u001b[0;32m<ipython-input-42-a80396cff576>\u001b[0m in \u001b[0;36m<module>\u001b[0;34m()\u001b[0m\n\u001b[0;32m----> 1\u001b[0;31m \u001b[0mdf2\u001b[0m \u001b[0;34m=\u001b[0m \u001b[0mdf\u001b[0m\u001b[0;34m.\u001b[0m\u001b[0mset_axis\u001b[0m\u001b[0;34m(\u001b[0m\u001b[0;34m[\u001b[0m\u001b[0;34m'Feature'\u001b[0m\u001b[0;34m,\u001b[0m \u001b[0;34m'Coef'\u001b[0m\u001b[0;34m]\u001b[0m\u001b[0;34m,\u001b[0m \u001b[0maxis\u001b[0m\u001b[0;34m=\u001b[0m\u001b[0;36m1\u001b[0m\u001b[0;34m,\u001b[0m \u001b[0minplace\u001b[0m\u001b[0;34m=\u001b[0m\u001b[0;32mFalse\u001b[0m\u001b[0;34m)\u001b[0m\u001b[0;34m\u001b[0m\u001b[0;34m\u001b[0m\u001b[0m\n\u001b[0m\u001b[1;32m      2\u001b[0m \u001b[0mdf2\u001b[0m\u001b[0;34m\u001b[0m\u001b[0;34m\u001b[0m\u001b[0m\n",
            "\u001b[0;32m/usr/local/lib/python3.7/dist-packages/pandas/core/frame.py\u001b[0m in \u001b[0;36mset_axis\u001b[0;34m(self, labels, axis, inplace)\u001b[0m\n\u001b[1;32m   4013\u001b[0m     \u001b[0;34m@\u001b[0m\u001b[0mAppender\u001b[0m\u001b[0;34m(\u001b[0m\u001b[0mNDFrame\u001b[0m\u001b[0;34m.\u001b[0m\u001b[0mset_axis\u001b[0m\u001b[0;34m.\u001b[0m\u001b[0m__doc__\u001b[0m\u001b[0;34m)\u001b[0m\u001b[0;34m\u001b[0m\u001b[0;34m\u001b[0m\u001b[0m\n\u001b[1;32m   4014\u001b[0m     \u001b[0;32mdef\u001b[0m \u001b[0mset_axis\u001b[0m\u001b[0;34m(\u001b[0m\u001b[0mself\u001b[0m\u001b[0;34m,\u001b[0m \u001b[0mlabels\u001b[0m\u001b[0;34m,\u001b[0m \u001b[0maxis\u001b[0m\u001b[0;34m:\u001b[0m \u001b[0mAxis\u001b[0m \u001b[0;34m=\u001b[0m \u001b[0;36m0\u001b[0m\u001b[0;34m,\u001b[0m \u001b[0minplace\u001b[0m\u001b[0;34m:\u001b[0m \u001b[0mbool\u001b[0m \u001b[0;34m=\u001b[0m \u001b[0;32mFalse\u001b[0m\u001b[0;34m)\u001b[0m\u001b[0;34m:\u001b[0m\u001b[0;34m\u001b[0m\u001b[0;34m\u001b[0m\u001b[0m\n\u001b[0;32m-> 4015\u001b[0;31m         \u001b[0;32mreturn\u001b[0m \u001b[0msuper\u001b[0m\u001b[0;34m(\u001b[0m\u001b[0;34m)\u001b[0m\u001b[0;34m.\u001b[0m\u001b[0mset_axis\u001b[0m\u001b[0;34m(\u001b[0m\u001b[0mlabels\u001b[0m\u001b[0;34m,\u001b[0m \u001b[0maxis\u001b[0m\u001b[0;34m=\u001b[0m\u001b[0maxis\u001b[0m\u001b[0;34m,\u001b[0m \u001b[0minplace\u001b[0m\u001b[0;34m=\u001b[0m\u001b[0minplace\u001b[0m\u001b[0;34m)\u001b[0m\u001b[0;34m\u001b[0m\u001b[0;34m\u001b[0m\u001b[0m\n\u001b[0m\u001b[1;32m   4016\u001b[0m \u001b[0;34m\u001b[0m\u001b[0m\n\u001b[1;32m   4017\u001b[0m     \u001b[0;34m@\u001b[0m\u001b[0mSubstitution\u001b[0m\u001b[0;34m(\u001b[0m\u001b[0;34m**\u001b[0m\u001b[0m_shared_doc_kwargs\u001b[0m\u001b[0;34m)\u001b[0m\u001b[0;34m\u001b[0m\u001b[0;34m\u001b[0m\u001b[0m\n",
            "\u001b[0;32m/usr/local/lib/python3.7/dist-packages/pandas/core/generic.py\u001b[0m in \u001b[0;36mset_axis\u001b[0;34m(self, labels, axis, inplace)\u001b[0m\n\u001b[1;32m    557\u001b[0m         \u001b[0;32melse\u001b[0m\u001b[0;34m:\u001b[0m\u001b[0;34m\u001b[0m\u001b[0;34m\u001b[0m\u001b[0m\n\u001b[1;32m    558\u001b[0m             \u001b[0mobj\u001b[0m \u001b[0;34m=\u001b[0m \u001b[0mself\u001b[0m\u001b[0;34m.\u001b[0m\u001b[0mcopy\u001b[0m\u001b[0;34m(\u001b[0m\u001b[0;34m)\u001b[0m\u001b[0;34m\u001b[0m\u001b[0;34m\u001b[0m\u001b[0m\n\u001b[0;32m--> 559\u001b[0;31m             \u001b[0mobj\u001b[0m\u001b[0;34m.\u001b[0m\u001b[0mset_axis\u001b[0m\u001b[0;34m(\u001b[0m\u001b[0mlabels\u001b[0m\u001b[0;34m,\u001b[0m \u001b[0maxis\u001b[0m\u001b[0;34m=\u001b[0m\u001b[0maxis\u001b[0m\u001b[0;34m,\u001b[0m \u001b[0minplace\u001b[0m\u001b[0;34m=\u001b[0m\u001b[0;32mTrue\u001b[0m\u001b[0;34m)\u001b[0m\u001b[0;34m\u001b[0m\u001b[0;34m\u001b[0m\u001b[0m\n\u001b[0m\u001b[1;32m    560\u001b[0m             \u001b[0;32mreturn\u001b[0m \u001b[0mobj\u001b[0m\u001b[0;34m\u001b[0m\u001b[0;34m\u001b[0m\u001b[0m\n\u001b[1;32m    561\u001b[0m \u001b[0;34m\u001b[0m\u001b[0m\n",
            "\u001b[0;32m/usr/local/lib/python3.7/dist-packages/pandas/core/frame.py\u001b[0m in \u001b[0;36mset_axis\u001b[0;34m(self, labels, axis, inplace)\u001b[0m\n\u001b[1;32m   4013\u001b[0m     \u001b[0;34m@\u001b[0m\u001b[0mAppender\u001b[0m\u001b[0;34m(\u001b[0m\u001b[0mNDFrame\u001b[0m\u001b[0;34m.\u001b[0m\u001b[0mset_axis\u001b[0m\u001b[0;34m.\u001b[0m\u001b[0m__doc__\u001b[0m\u001b[0;34m)\u001b[0m\u001b[0;34m\u001b[0m\u001b[0;34m\u001b[0m\u001b[0m\n\u001b[1;32m   4014\u001b[0m     \u001b[0;32mdef\u001b[0m \u001b[0mset_axis\u001b[0m\u001b[0;34m(\u001b[0m\u001b[0mself\u001b[0m\u001b[0;34m,\u001b[0m \u001b[0mlabels\u001b[0m\u001b[0;34m,\u001b[0m \u001b[0maxis\u001b[0m\u001b[0;34m:\u001b[0m \u001b[0mAxis\u001b[0m \u001b[0;34m=\u001b[0m \u001b[0;36m0\u001b[0m\u001b[0;34m,\u001b[0m \u001b[0minplace\u001b[0m\u001b[0;34m:\u001b[0m \u001b[0mbool\u001b[0m \u001b[0;34m=\u001b[0m \u001b[0;32mFalse\u001b[0m\u001b[0;34m)\u001b[0m\u001b[0;34m:\u001b[0m\u001b[0;34m\u001b[0m\u001b[0;34m\u001b[0m\u001b[0m\n\u001b[0;32m-> 4015\u001b[0;31m         \u001b[0;32mreturn\u001b[0m \u001b[0msuper\u001b[0m\u001b[0;34m(\u001b[0m\u001b[0;34m)\u001b[0m\u001b[0;34m.\u001b[0m\u001b[0mset_axis\u001b[0m\u001b[0;34m(\u001b[0m\u001b[0mlabels\u001b[0m\u001b[0;34m,\u001b[0m \u001b[0maxis\u001b[0m\u001b[0;34m=\u001b[0m\u001b[0maxis\u001b[0m\u001b[0;34m,\u001b[0m \u001b[0minplace\u001b[0m\u001b[0;34m=\u001b[0m\u001b[0minplace\u001b[0m\u001b[0;34m)\u001b[0m\u001b[0;34m\u001b[0m\u001b[0;34m\u001b[0m\u001b[0m\n\u001b[0m\u001b[1;32m   4016\u001b[0m \u001b[0;34m\u001b[0m\u001b[0m\n\u001b[1;32m   4017\u001b[0m     \u001b[0;34m@\u001b[0m\u001b[0mSubstitution\u001b[0m\u001b[0;34m(\u001b[0m\u001b[0;34m**\u001b[0m\u001b[0m_shared_doc_kwargs\u001b[0m\u001b[0;34m)\u001b[0m\u001b[0;34m\u001b[0m\u001b[0;34m\u001b[0m\u001b[0m\n",
            "\u001b[0;32m/usr/local/lib/python3.7/dist-packages/pandas/core/generic.py\u001b[0m in \u001b[0;36mset_axis\u001b[0;34m(self, labels, axis, inplace)\u001b[0m\n\u001b[1;32m    554\u001b[0m         \"\"\"\n\u001b[1;32m    555\u001b[0m         \u001b[0;32mif\u001b[0m \u001b[0minplace\u001b[0m\u001b[0;34m:\u001b[0m\u001b[0;34m\u001b[0m\u001b[0;34m\u001b[0m\u001b[0m\n\u001b[0;32m--> 556\u001b[0;31m             \u001b[0msetattr\u001b[0m\u001b[0;34m(\u001b[0m\u001b[0mself\u001b[0m\u001b[0;34m,\u001b[0m \u001b[0mself\u001b[0m\u001b[0;34m.\u001b[0m\u001b[0m_get_axis_name\u001b[0m\u001b[0;34m(\u001b[0m\u001b[0maxis\u001b[0m\u001b[0;34m)\u001b[0m\u001b[0;34m,\u001b[0m \u001b[0mlabels\u001b[0m\u001b[0;34m)\u001b[0m\u001b[0;34m\u001b[0m\u001b[0;34m\u001b[0m\u001b[0m\n\u001b[0m\u001b[1;32m    557\u001b[0m         \u001b[0;32melse\u001b[0m\u001b[0;34m:\u001b[0m\u001b[0;34m\u001b[0m\u001b[0;34m\u001b[0m\u001b[0m\n\u001b[1;32m    558\u001b[0m             \u001b[0mobj\u001b[0m \u001b[0;34m=\u001b[0m \u001b[0mself\u001b[0m\u001b[0;34m.\u001b[0m\u001b[0mcopy\u001b[0m\u001b[0;34m(\u001b[0m\u001b[0;34m)\u001b[0m\u001b[0;34m\u001b[0m\u001b[0;34m\u001b[0m\u001b[0m\n",
            "\u001b[0;32m/usr/local/lib/python3.7/dist-packages/pandas/core/generic.py\u001b[0m in \u001b[0;36m__setattr__\u001b[0;34m(self, name, value)\u001b[0m\n\u001b[1;32m   5152\u001b[0m         \u001b[0;32mtry\u001b[0m\u001b[0;34m:\u001b[0m\u001b[0;34m\u001b[0m\u001b[0;34m\u001b[0m\u001b[0m\n\u001b[1;32m   5153\u001b[0m             \u001b[0mobject\u001b[0m\u001b[0;34m.\u001b[0m\u001b[0m__getattribute__\u001b[0m\u001b[0;34m(\u001b[0m\u001b[0mself\u001b[0m\u001b[0;34m,\u001b[0m \u001b[0mname\u001b[0m\u001b[0;34m)\u001b[0m\u001b[0;34m\u001b[0m\u001b[0;34m\u001b[0m\u001b[0m\n\u001b[0;32m-> 5154\u001b[0;31m             \u001b[0;32mreturn\u001b[0m \u001b[0mobject\u001b[0m\u001b[0;34m.\u001b[0m\u001b[0m__setattr__\u001b[0m\u001b[0;34m(\u001b[0m\u001b[0mself\u001b[0m\u001b[0;34m,\u001b[0m \u001b[0mname\u001b[0m\u001b[0;34m,\u001b[0m \u001b[0mvalue\u001b[0m\u001b[0;34m)\u001b[0m\u001b[0;34m\u001b[0m\u001b[0;34m\u001b[0m\u001b[0m\n\u001b[0m\u001b[1;32m   5155\u001b[0m         \u001b[0;32mexcept\u001b[0m \u001b[0mAttributeError\u001b[0m\u001b[0;34m:\u001b[0m\u001b[0;34m\u001b[0m\u001b[0;34m\u001b[0m\u001b[0m\n\u001b[1;32m   5156\u001b[0m             \u001b[0;32mpass\u001b[0m\u001b[0;34m\u001b[0m\u001b[0;34m\u001b[0m\u001b[0m\n",
            "\u001b[0;32mpandas/_libs/properties.pyx\u001b[0m in \u001b[0;36mpandas._libs.properties.AxisProperty.__set__\u001b[0;34m()\u001b[0m\n",
            "\u001b[0;32m/usr/local/lib/python3.7/dist-packages/pandas/core/generic.py\u001b[0m in \u001b[0;36m_set_axis\u001b[0;34m(self, axis, labels)\u001b[0m\n\u001b[1;32m    562\u001b[0m     \u001b[0;32mdef\u001b[0m \u001b[0m_set_axis\u001b[0m\u001b[0;34m(\u001b[0m\u001b[0mself\u001b[0m\u001b[0;34m,\u001b[0m \u001b[0maxis\u001b[0m\u001b[0;34m:\u001b[0m \u001b[0mint\u001b[0m\u001b[0;34m,\u001b[0m \u001b[0mlabels\u001b[0m\u001b[0;34m:\u001b[0m \u001b[0mIndex\u001b[0m\u001b[0;34m)\u001b[0m \u001b[0;34m->\u001b[0m \u001b[0;32mNone\u001b[0m\u001b[0;34m:\u001b[0m\u001b[0;34m\u001b[0m\u001b[0;34m\u001b[0m\u001b[0m\n\u001b[1;32m    563\u001b[0m         \u001b[0mlabels\u001b[0m \u001b[0;34m=\u001b[0m \u001b[0mensure_index\u001b[0m\u001b[0;34m(\u001b[0m\u001b[0mlabels\u001b[0m\u001b[0;34m)\u001b[0m\u001b[0;34m\u001b[0m\u001b[0;34m\u001b[0m\u001b[0m\n\u001b[0;32m--> 564\u001b[0;31m         \u001b[0mself\u001b[0m\u001b[0;34m.\u001b[0m\u001b[0m_mgr\u001b[0m\u001b[0;34m.\u001b[0m\u001b[0mset_axis\u001b[0m\u001b[0;34m(\u001b[0m\u001b[0maxis\u001b[0m\u001b[0;34m,\u001b[0m \u001b[0mlabels\u001b[0m\u001b[0;34m)\u001b[0m\u001b[0;34m\u001b[0m\u001b[0;34m\u001b[0m\u001b[0m\n\u001b[0m\u001b[1;32m    565\u001b[0m         \u001b[0mself\u001b[0m\u001b[0;34m.\u001b[0m\u001b[0m_clear_item_cache\u001b[0m\u001b[0;34m(\u001b[0m\u001b[0;34m)\u001b[0m\u001b[0;34m\u001b[0m\u001b[0;34m\u001b[0m\u001b[0m\n\u001b[1;32m    566\u001b[0m \u001b[0;34m\u001b[0m\u001b[0m\n",
            "\u001b[0;32m/usr/local/lib/python3.7/dist-packages/pandas/core/internals/managers.py\u001b[0m in \u001b[0;36mset_axis\u001b[0;34m(self, axis, new_labels)\u001b[0m\n\u001b[1;32m    225\u001b[0m         \u001b[0;32mif\u001b[0m \u001b[0mnew_len\u001b[0m \u001b[0;34m!=\u001b[0m \u001b[0mold_len\u001b[0m\u001b[0;34m:\u001b[0m\u001b[0;34m\u001b[0m\u001b[0;34m\u001b[0m\u001b[0m\n\u001b[1;32m    226\u001b[0m             raise ValueError(\n\u001b[0;32m--> 227\u001b[0;31m                 \u001b[0;34mf\"Length mismatch: Expected axis has {old_len} elements, new \"\u001b[0m\u001b[0;34m\u001b[0m\u001b[0;34m\u001b[0m\u001b[0m\n\u001b[0m\u001b[1;32m    228\u001b[0m                 \u001b[0;34mf\"values have {new_len} elements\"\u001b[0m\u001b[0;34m\u001b[0m\u001b[0;34m\u001b[0m\u001b[0m\n\u001b[1;32m    229\u001b[0m             )\n",
            "\u001b[0;31mValueError\u001b[0m: Length mismatch: Expected axis has 1 elements, new values have 2 elements"
          ]
        }
      ]
    },
    {
      "cell_type": "code",
      "metadata": {
        "id": "ieiPqvRGYfeN"
      },
      "source": [
        "#Selected_Cols = np.array(features)[importance != 0]\n",
        "Selected_Cols_2 = df2[df2['Coef'] !=0]"
      ],
      "execution_count": 205,
      "outputs": []
    },
    {
      "cell_type": "code",
      "metadata": {
        "colab": {
          "base_uri": "https://localhost:8080/",
          "height": 81
        },
        "id": "dE4NctKhZOOD",
        "outputId": "6335a0ab-5870-4c5d-ba70-16da9ce840ea"
      },
      "source": [
        "Selected_Cols_2"
      ],
      "execution_count": 206,
      "outputs": [
        {
          "output_type": "execute_result",
          "data": {
            "text/html": [
              "<div>\n",
              "<style scoped>\n",
              "    .dataframe tbody tr th:only-of-type {\n",
              "        vertical-align: middle;\n",
              "    }\n",
              "\n",
              "    .dataframe tbody tr th {\n",
              "        vertical-align: top;\n",
              "    }\n",
              "\n",
              "    .dataframe thead th {\n",
              "        text-align: right;\n",
              "    }\n",
              "</style>\n",
              "<table border=\"1\" class=\"dataframe\">\n",
              "  <thead>\n",
              "    <tr style=\"text-align: right;\">\n",
              "      <th></th>\n",
              "      <th>Feature</th>\n",
              "      <th>Coef</th>\n",
              "    </tr>\n",
              "  </thead>\n",
              "  <tbody>\n",
              "    <tr>\n",
              "      <th>0</th>\n",
              "      <td>date</td>\n",
              "      <td>0.0003762874964618628283175016946415780694</td>\n",
              "    </tr>\n",
              "  </tbody>\n",
              "</table>\n",
              "</div>"
            ],
            "text/plain": [
              "  Feature                                       Coef\n",
              "0    date 0.0003762874964618628283175016946415780694"
            ]
          },
          "metadata": {},
          "execution_count": 206
        }
      ]
    },
    {
      "cell_type": "markdown",
      "metadata": {
        "id": "QwQz9LujUwVW"
      },
      "source": [
        "multiple Coef by 1 million"
      ]
    },
    {
      "cell_type": "code",
      "metadata": {
        "id": "kSpzvwVmWB8u"
      },
      "source": [
        "pd.set_option('display.float_format', lambda x: '%.40f' % x)"
      ],
      "execution_count": 198,
      "outputs": []
    },
    {
      "cell_type": "code",
      "metadata": {
        "id": "XlaLkVhhU1CK"
      },
      "source": [
        "df_4 = 10000000000 * df2[\"Coef\"]"
      ],
      "execution_count": 199,
      "outputs": []
    },
    {
      "cell_type": "code",
      "metadata": {
        "colab": {
          "base_uri": "https://localhost:8080/"
        },
        "id": "6PzJ2U3wU1kS",
        "outputId": "223bcb6c-b7b7-42e7-bc5e-cbdd7a5bf792"
      },
      "source": [
        "df_4 "
      ],
      "execution_count": 200,
      "outputs": [
        {
          "output_type": "execute_result",
          "data": {
            "text/plain": [
              "0     3762874.9646186283789575099945068359375000000000\n",
              "1           0.0000000000000000000000000000000000000000\n",
              "2          -0.0000000000000000000000000000000000000000\n",
              "3           0.0000000000000000000000000000000000000000\n",
              "4           0.0000000000000000000000000000000000000000\n",
              "                            ...                       \n",
              "937        -0.0000000000000000000000000000000000000000\n",
              "938        -0.0000000000000000000000000000000000000000\n",
              "939        -0.0000000000000000000000000000000000000000\n",
              "940        -0.0000000000000000000000000000000000000000\n",
              "941         0.0000000000000000000000000000000000000000\n",
              "Name: Coef, Length: 942, dtype: float64"
            ]
          },
          "metadata": {},
          "execution_count": 200
        }
      ]
    },
    {
      "cell_type": "markdown",
      "metadata": {
        "id": "shj_HipQQ9H5"
      },
      "source": [
        "### filter coef >0"
      ]
    },
    {
      "cell_type": "code",
      "metadata": {
        "id": "y7CBIo3dQ81l"
      },
      "source": [
        "df_3 = df2[df2['Coef'] >0]"
      ],
      "execution_count": 175,
      "outputs": []
    },
    {
      "cell_type": "code",
      "metadata": {
        "colab": {
          "base_uri": "https://localhost:8080/",
          "height": 81
        },
        "id": "vG4_LgEARfHw",
        "outputId": "0f2c182a-5d8a-4d1a-c9a3-900771783f25"
      },
      "source": [
        "df_3"
      ],
      "execution_count": 176,
      "outputs": [
        {
          "output_type": "execute_result",
          "data": {
            "text/html": [
              "<div>\n",
              "<style scoped>\n",
              "    .dataframe tbody tr th:only-of-type {\n",
              "        vertical-align: middle;\n",
              "    }\n",
              "\n",
              "    .dataframe tbody tr th {\n",
              "        vertical-align: top;\n",
              "    }\n",
              "\n",
              "    .dataframe thead th {\n",
              "        text-align: right;\n",
              "    }\n",
              "</style>\n",
              "<table border=\"1\" class=\"dataframe\">\n",
              "  <thead>\n",
              "    <tr style=\"text-align: right;\">\n",
              "      <th></th>\n",
              "      <th>Feature</th>\n",
              "      <th>Coef</th>\n",
              "    </tr>\n",
              "  </thead>\n",
              "  <tbody>\n",
              "    <tr>\n",
              "      <th>0</th>\n",
              "      <td>date</td>\n",
              "      <td>0.000376</td>\n",
              "    </tr>\n",
              "  </tbody>\n",
              "</table>\n",
              "</div>"
            ],
            "text/plain": [
              "  Feature      Coef\n",
              "0    date  0.000376"
            ]
          },
          "metadata": {},
          "execution_count": 176
        }
      ]
    },
    {
      "cell_type": "code",
      "metadata": {
        "id": "VJJY-N-YRgbp"
      },
      "source": [
        ""
      ],
      "execution_count": null,
      "outputs": []
    }
  ]
}