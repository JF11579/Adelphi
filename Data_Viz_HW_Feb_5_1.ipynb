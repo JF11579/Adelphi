{
  "nbformat": 4,
  "nbformat_minor": 0,
  "metadata": {
    "colab": {
      "name": "Data_Viz_HW_Feb_5_1.ipynb",
      "provenance": [],
      "collapsed_sections": [],
      "authorship_tag": "ABX9TyO0QNa+l9AuQA2K+kUUC0nY",
      "include_colab_link": true
    },
    "kernelspec": {
      "name": "ir",
      "display_name": "R"
    },
    "language_info": {
      "name": "R"
    }
  },
  "cells": [
    {
      "cell_type": "markdown",
      "metadata": {
        "id": "view-in-github",
        "colab_type": "text"
      },
      "source": [
        "<a href=\"https://colab.research.google.com/github/JF11579/Adelphi/blob/main/Data_Viz_HW_Feb_5_1.ipynb\" target=\"_parent\"><img src=\"https://colab.research.google.com/assets/colab-badge.svg\" alt=\"Open In Colab\"/></a>"
      ]
    },
    {
      "cell_type": "markdown",
      "source": [
        "\n",
        "\n",
        "New R notebook: https://colab.research.google.com/#create=true&language=r or https://colab.to/r\n"
      ],
      "metadata": {
        "id": "mD4oXpTpbRqm"
      }
    },
    {
      "cell_type": "markdown",
      "source": [
        "# The Assignment:\n",
        "\n",
        "Create a Data Frame that comprised of three columns: \n",
        "\n",
        "Column 1 title | Column 2 rating | Column 3 storyline\n"
      ],
      "metadata": {
        "id": "95m3zdXFbb7x"
      }
    },
    {
      "cell_type": "markdown",
      "source": [
        "# Libraries"
      ],
      "metadata": {
        "id": "r7ZgziIlbb4o"
      }
    },
    {
      "cell_type": "code",
      "execution_count": null,
      "metadata": {
        "id": "_HSnt4tmaYpB"
      },
      "outputs": [],
      "source": [
        "#install.packages(\"rvest\")"
      ]
    },
    {
      "cell_type": "code",
      "source": [
        "library(rvest) "
      ],
      "metadata": {
        "id": "PeW_V4SVbXyn"
      },
      "execution_count": null,
      "outputs": []
    },
    {
      "cell_type": "markdown",
      "source": [
        "# Target URLS"
      ],
      "metadata": {
        "id": "9eZ4pV6ebkBE"
      }
    },
    {
      "cell_type": "code",
      "source": [
        "show_urls <- c(\"http://www.imdb.com/title/tt6483832/\",\n",
        "               \"http://www.imdb.com/title/tt5164196/\",\n",
        "               \"http://www.imdb.com/title/tt4052886/\",\n",
        "               \"http://www.imdb.com/title/tt1826940/\")"
      ],
      "metadata": {
        "id": "923yFu4rbaoQ"
      },
      "execution_count": null,
      "outputs": []
    },
    {
      "cell_type": "markdown",
      "source": [
        "## Make a vector of the title fo the 4 shows."
      ],
      "metadata": {
        "id": "XGien_I_-7r5"
      }
    },
    {
      "cell_type": "code",
      "source": [
        "# Use for loop to extract the title for all the pages\n",
        "titles <-{}\n",
        "for (i in 1:nrow(show_urls)){\n",
        "  PartforURL <- paste(Grid$Var1[i],Grid$Var2[i],Grid$Var3[i], sep=\"\")\n",
        "  #print(PartforURL)\n",
        "  FullURL <-paste(BaseURL,PartforURL, sep=\"\")\n",
        "  #print(FullURL)\n",
        "  Title <- read_html(FullURL)\n",
        "  title_contents <- html_nodes(Title,\"#bettingOddsGridContainer > div.titleContainer-25coh > h1\")\n",
        "  title_contents <- html_text(title_contents)\n",
        "  titles[i] <- title_contents\n",
        "  print(titles[i])\n",
        "}"
      ],
      "metadata": {
        "id": "jslLB6wm_Atw"
      },
      "execution_count": null,
      "outputs": []
    },
    {
      "cell_type": "code",
      "source": [
        ""
      ],
      "metadata": {
        "id": "tUAEIR9k_A8S"
      },
      "execution_count": null,
      "outputs": []
    },
    {
      "cell_type": "code",
      "source": [
        "# Base URL\n",
        " resident_base_url <- 'https://www.imdb.com/title/tt6483832/'"
      ],
      "metadata": {
        "id": "zpQj9lhWtZfi"
      },
      "execution_count": null,
      "outputs": []
    },
    {
      "cell_type": "code",
      "source": [
        "resident_title_url <- '/html/body/div[2]/main/div/section[1]/section/div[3]/section/section/div[1]/div[1]/h1'"
      ],
      "metadata": {
        "id": "ROXJ19m7tZZS"
      },
      "execution_count": null,
      "outputs": []
    },
    {
      "cell_type": "code",
      "source": [
        "resident_rating_url <-'/html/body/div[2]/main/div/section[1]/section/div[3]/section/section/div[3]/div[2]/div[1]/div[2]/div/div[1]/a/div/div'"
      ],
      "metadata": {
        "id": "htKxbO2UtZP6"
      },
      "execution_count": null,
      "outputs": []
    },
    {
      "cell_type": "code",
      "source": [
        "resident_storyline_url <- '/html/body/div[2]/main/div/section[1]/section/div[3]/section/section/div[3]/div[2]/div[1]/div[1]/p/span[1]'"
      ],
      "metadata": {
        "id": "619oC9ANuWf1"
      },
      "execution_count": null,
      "outputs": []
    },
    {
      "cell_type": "code",
      "source": [
        "Title <- c('title A', 'titleB', 'title C', 'title D')\n",
        "Rating <- c('rating A' , 'rating B', 'rating C', 'rating D')\n",
        "Storyline <- c('storyline A' , 'storyline B' , 'storyline C', 'storyline D')\n"
      ],
      "metadata": {
        "id": "SsWz7sVgeITk"
      },
      "execution_count": null,
      "outputs": []
    },
    {
      "cell_type": "code",
      "source": [
        "Grid <- expand.grid(Title, Rating,Storyline)\n",
        "Grid"
      ],
      "metadata": {
        "id": "BRtnksb283XZ"
      },
      "execution_count": null,
      "outputs": []
    },
    {
      "cell_type": "code",
      "source": [
        "# Use for loop to extract the title for all the pages\n",
        "titles <-{}\n",
        "for (i in 1:nrow(Grid)){\n",
        "  PartforURL <- paste(Grid$Var1[i],Grid$Var2[i],Grid$Var3[i], sep=\"\")\n",
        "  #print(PartforURL)\n",
        "  FullURL <-paste(BaseURL,PartforURL, sep=\"\")\n",
        "  #print(FullURL)\n",
        "  Title <- read_html(FullURL)\n",
        "  title_contents <- html_nodes(Title,\"#bettingOddsGridContainer > div.titleContainer-25coh > h1\")\n",
        "  title_contents <- html_text(title_contents)\n",
        "  titles[i] <- title_contents\n",
        "  print(titles[i])\n",
        "}"
      ],
      "metadata": {
        "id": "JxbCUbRC6KjC"
      },
      "execution_count": null,
      "outputs": []
    },
    {
      "cell_type": "code",
      "source": [
        ""
      ],
      "metadata": {
        "id": "-1fFWM2XuVKH"
      },
      "execution_count": null,
      "outputs": []
    },
    {
      "cell_type": "code",
      "source": [
        ""
      ],
      "metadata": {
        "id": "zwY2A-7v75zh"
      },
      "execution_count": null,
      "outputs": []
    },
    {
      "cell_type": "markdown",
      "source": [
        "# General Frame"
      ],
      "metadata": {
        "id": "Ym55PB7VtWIN"
      }
    },
    {
      "cell_type": "code",
      "source": [
        "HBO <- data.frame(Title, Rating,Storyline, stringsAsFactors = FALSE)\n"
      ],
      "metadata": {
        "id": "tRsRBsrciYW_"
      },
      "execution_count": null,
      "outputs": []
    },
    {
      "cell_type": "code",
      "source": [
        "HBO"
      ],
      "metadata": {
        "colab": {
          "base_uri": "https://localhost:8080/",
          "height": 224
        },
        "id": "K4y_xOR2ioBA",
        "outputId": "af0fbda1-0586-4857-d9b5-8eea0155c337"
      },
      "execution_count": null,
      "outputs": [
        {
          "output_type": "display_data",
          "data": {
            "text/plain": [
              "  Title   Rating   Storyline  \n",
              "1 title A rating A storyline A\n",
              "2 titleB  rating B storyline B\n",
              "3 title C rating C storyline C\n",
              "4 title D rating D storyline D"
            ],
            "text/latex": "A data.frame: 4 × 3\n\\begin{tabular}{lll}\n Title & Rating & Storyline\\\\\n <chr> & <chr> & <chr>\\\\\n\\hline\n\t title A & rating A & storyline A\\\\\n\t titleB  & rating B & storyline B\\\\\n\t title C & rating C & storyline C\\\\\n\t title D & rating D & storyline D\\\\\n\\end{tabular}\n",
            "text/markdown": "\nA data.frame: 4 × 3\n\n| Title &lt;chr&gt; | Rating &lt;chr&gt; | Storyline &lt;chr&gt; |\n|---|---|---|\n| title A | rating A | storyline A |\n| titleB  | rating B | storyline B |\n| title C | rating C | storyline C |\n| title D | rating D | storyline D |\n\n",
            "text/html": [
              "<table class=\"dataframe\">\n",
              "<caption>A data.frame: 4 × 3</caption>\n",
              "<thead>\n",
              "\t<tr><th scope=col>Title</th><th scope=col>Rating</th><th scope=col>Storyline</th></tr>\n",
              "\t<tr><th scope=col>&lt;chr&gt;</th><th scope=col>&lt;chr&gt;</th><th scope=col>&lt;chr&gt;</th></tr>\n",
              "</thead>\n",
              "<tbody>\n",
              "\t<tr><td>title A</td><td>rating A</td><td>storyline A</td></tr>\n",
              "\t<tr><td>titleB </td><td>rating B</td><td>storyline B</td></tr>\n",
              "\t<tr><td>title C</td><td>rating C</td><td>storyline C</td></tr>\n",
              "\t<tr><td>title D</td><td>rating D</td><td>storyline D</td></tr>\n",
              "</tbody>\n",
              "</table>\n"
            ]
          },
          "metadata": {}
        }
      ]
    },
    {
      "cell_type": "markdown",
      "source": [
        ""
      ],
      "metadata": {
        "id": "beIf814DAXca"
      }
    },
    {
      "cell_type": "markdown",
      "source": [
        "### The Resident\n",
        "\n",
        "**title:**  /html/body/div[2]/main/div/section[1]/section/div[3]/section/section/div[1]/div[1]/h1\n",
        "\n",
        "**rating:**  /html/body/div[2]/main/div/section[1]/section/div[3]/section/section/div[3]/div[2]/div[1]/div[2]/div/div[1]/a\n",
        "\n",
        "**storyline:**  /html/body/div[2]/main/div/section[1]/section/div[3]/section/section/div[3]/div[2]/div[1]/div[1]/p/span[1]"
      ],
      "metadata": {
        "id": "FQ3YDTPieS9n"
      }
    },
    {
      "cell_type": "markdown",
      "source": [
        "# Basement\n",
        "\n",
        "Do a loop of table, \n",
        "\n",
        "do a loop of rating\n",
        "\n",
        "doa  loop of storyline\n",
        "\n",
        "paste together into DF"
      ],
      "metadata": {
        "id": "oZznT20Pva2v"
      }
    },
    {
      "cell_type": "code",
      "source": [
        "library (curl)"
      ],
      "metadata": {
        "id": "2MziQSN2wR7G"
      },
      "execution_count": null,
      "outputs": []
    },
    {
      "cell_type": "code",
      "source": [
        "BaseURL <- \"https://www.sportsbookreview.com/betting-odds/?date=\""
      ],
      "metadata": {
        "id": "71zxEOAFwZJA"
      },
      "execution_count": null,
      "outputs": []
    },
    {
      "cell_type": "code",
      "source": [
        "yr <- c(\"2021\", \"2019\")\n",
        "month <- c(\"04\",\"05\")\n",
        "day <- c(\"01\",\"02\")\n",
        "Grid <- expand.grid(yr,month,day)"
      ],
      "metadata": {
        "id": "-FAmYK3oweSm"
      },
      "execution_count": null,
      "outputs": []
    },
    {
      "cell_type": "code",
      "source": [
        "PartforURL <- paste(Grid$Var1[1],Grid$Var2[1],Grid$Var3[1], sep=\"\")"
      ],
      "metadata": {
        "id": "KzmYnsVhwpIG"
      },
      "execution_count": null,
      "outputs": []
    },
    {
      "cell_type": "code",
      "source": [
        "PartforURL"
      ],
      "metadata": {
        "colab": {
          "base_uri": "https://localhost:8080/",
          "height": 34
        },
        "id": "hYkrG63rxgnF",
        "outputId": "752f5537-6ee9-4d59-a3f3-e694216958c4"
      },
      "execution_count": null,
      "outputs": [
        {
          "output_type": "display_data",
          "data": {
            "text/plain": [
              "[1] \"20210401\""
            ],
            "text/latex": "'20210401'",
            "text/markdown": "'20210401'",
            "text/html": [
              "'20210401'"
            ]
          },
          "metadata": {}
        }
      ]
    },
    {
      "cell_type": "code",
      "source": [
        "FullURL <-paste(BaseURL,PartforURL, sep=\"\")\n",
        "FullURL"
      ],
      "metadata": {
        "colab": {
          "base_uri": "https://localhost:8080/",
          "height": 34
        },
        "id": "29vTkjhFwpE2",
        "outputId": "9db13468-b931-4014-ed8d-e47ebee72de7"
      },
      "execution_count": null,
      "outputs": [
        {
          "output_type": "display_data",
          "data": {
            "text/plain": [
              "[1] \"https://www.sportsbookreview.com/betting-odds/?date=20210401\""
            ],
            "text/latex": "'https://www.sportsbookreview.com/betting-odds/?date=20210401'",
            "text/markdown": "'https://www.sportsbookreview.com/betting-odds/?date=20210401'",
            "text/html": [
              "'https://www.sportsbookreview.com/betting-odds/?date=20210401'"
            ]
          },
          "metadata": {}
        }
      ]
    },
    {
      "cell_type": "code",
      "source": [
        "\n",
        "ExtractPage <- read_html(FullURL)\n",
        "Title <- html_nodes(ExtractPage,\"#bettingOddsGridContainer > div.titleContainer-25coh > h1\")\n",
        "Title <- html_text(Title)\n",
        "Title"
      ],
      "metadata": {
        "colab": {
          "base_uri": "https://localhost:8080/",
          "height": 34
        },
        "id": "P1W256fLvcUh",
        "outputId": "1744f368-fa43-4a9f-be9c-935762f56522"
      },
      "execution_count": null,
      "outputs": [
        {
          "output_type": "display_data",
          "data": {
            "text/plain": [
              "[1] \"Betting Odds   for Apr 01, 2021\""
            ],
            "text/latex": "'Betting Odds   for Apr 01, 2021'",
            "text/markdown": "<span style=white-space:pre-wrap>'Betting Odds   for Apr 01, 2021'</span>",
            "text/html": [
              "<span style=white-space:pre-wrap>'Betting Odds   for Apr 01, 2021'</span>"
            ]
          },
          "metadata": {}
        }
      ]
    },
    {
      "cell_type": "code",
      "source": [
        "# Use for loop to extract the title for all the pages\n",
        "titles <-{}\n",
        "for (i in 1:nrow(Grid)){\n",
        "  PartforURL <- paste(Grid$Var1[i],Grid$Var2[i],Grid$Var3[i], sep=\"\")\n",
        "  #print(PartforURL)\n",
        "  FullURL <-paste(BaseURL,PartforURL, sep=\"\")\n",
        "  #print(FullURL)\n",
        "  Title <- read_html(FullURL)\n",
        "  title_contents <- html_nodes(Title,\"#bettingOddsGridContainer > div.titleContainer-25coh > h1\")\n",
        "  title_contents <- html_text(title_contents)\n",
        "  titles[i] <- title_contents\n",
        "  print(titles[i])\n",
        "}"
      ],
      "metadata": {
        "colab": {
          "base_uri": "https://localhost:8080/"
        },
        "id": "cPRlWOzrw53-",
        "outputId": "e45da802-9275-4626-b926-a09d3b6fb747"
      },
      "execution_count": null,
      "outputs": [
        {
          "output_type": "stream",
          "name": "stdout",
          "text": [
            "[1] \"Betting Odds   for Apr 01, 2021\"\n",
            "[1] \"Betting Odds   for Apr 01, 2019\"\n",
            "[1] \"Betting Odds   for May 01, 2021\"\n",
            "[1] \"Betting Odds   for May 01, 2019\"\n",
            "[1] \"Betting Odds   for Apr 02, 2021\"\n",
            "[1] \"Betting Odds   for Apr 02, 2019\"\n",
            "[1] \"Betting Odds   for May 02, 2021\"\n",
            "[1] \"Betting Odds   for May 02, 2019\"\n"
          ]
        }
      ]
    },
    {
      "cell_type": "code",
      "source": [
        "Description  <- html_nodes(ExtractPage,\"#root > div > div.wrapper-2tuQL > div.page-1UTVo.maxHeight-2nY2n > section > div > div.bettingOddsInformation-wNvnq > div.bettingOddsInformationDesc-12qdg > div:nth-child(1)\")\n",
        "Description <- html_text(Description)\n",
        "Description\n"
      ],
      "metadata": {
        "id": "9etmBnXYw2IV"
      },
      "execution_count": null,
      "outputs": []
    }
  ]
}