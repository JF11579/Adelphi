{
  "nbformat": 4,
  "nbformat_minor": 0,
  "metadata": {
    "colab": {
      "name": "Regression Trees",
      "provenance": [],
      "include_colab_link": true
    },
    "kernelspec": {
      "name": "python3",
      "display_name": "Python 3"
    },
    "language_info": {
      "name": "python"
    }
  },
  "cells": [
    {
      "cell_type": "markdown",
      "metadata": {
        "id": "view-in-github",
        "colab_type": "text"
      },
      "source": [
        "<a href=\"https://colab.research.google.com/github/JF11579/Adelphi/blob/main/Regression_Trees.ipynb\" target=\"_parent\"><img src=\"https://colab.research.google.com/assets/colab-badge.svg\" alt=\"Open In Colab\"/></a>"
      ]
    },
    {
      "cell_type": "code",
      "metadata": {
        "id": "webe4JEcnF3J"
      },
      "source": [
        "import matplotlib.pyplot as plt\n",
        "import pandas as pd  \n",
        "\n",
        "import numpy as np\n",
        "import os\n",
        "\n",
        "\n",
        "from sklearn.linear_model import LinearRegression\n",
        "from sklearn.tree import DecisionTreeRegressor\n",
        "from sklearn.tree import plot_tree\n",
        "from sklearn.model_selection import train_test_split\n",
        "\n",
        "from sklearn import metrics\n",
        "\n",
        "from six import StringIO\n",
        "  \n",
        "from IPython.display import Image  \n",
        "from sklearn.tree import export_graphviz"
      ],
      "execution_count": null,
      "outputs": []
    },
    {
      "cell_type": "code",
      "metadata": {
        "colab": {
          "base_uri": "https://localhost:8080/",
          "height": 224
        },
        "id": "teBRbmIunLgw",
        "outputId": "b84692e7-bf61-46b1-bb01-2c17692a68ce"
      },
      "source": [
        "Working_Data = pd.read_csv(\"Working_data_2.csv\") \n",
        "Working_Data.head()"
      ],
      "execution_count": null,
      "outputs": [
        {
          "output_type": "execute_result",
          "data": {
            "text/html": [
              "<div>\n",
              "<style scoped>\n",
              "    .dataframe tbody tr th:only-of-type {\n",
              "        vertical-align: middle;\n",
              "    }\n",
              "\n",
              "    .dataframe tbody tr th {\n",
              "        vertical-align: top;\n",
              "    }\n",
              "\n",
              "    .dataframe thead th {\n",
              "        text-align: right;\n",
              "    }\n",
              "</style>\n",
              "<table border=\"1\" class=\"dataframe\">\n",
              "  <thead>\n",
              "    <tr style=\"text-align: right;\">\n",
              "      <th></th>\n",
              "      <th>Date</th>\n",
              "      <th>Quantity</th>\n",
              "      <th>Seasonal</th>\n",
              "      <th>Gray_cement_dispatch_comercial</th>\n",
              "      <th>ISE</th>\n",
              "      <th>Construction_lic_area/unt_SIlag_4</th>\n",
              "      <th>IEClag_5</th>\n",
              "      <th>ISElag_6</th>\n",
              "      <th>Gray_cement_dispatch_Factorylag_9</th>\n",
              "      <th>ICElag_9</th>\n",
              "      <th>Housing_total_sales</th>\n",
              "      <th>Housing_total_initiation_SIlag_24</th>\n",
              "      <th>Ordinary_creditlag_4</th>\n",
              "      <th>Ordinary_creditlag_6</th>\n",
              "      <th>working_day</th>\n",
              "    </tr>\n",
              "  </thead>\n",
              "  <tbody>\n",
              "    <tr>\n",
              "      <th>0</th>\n",
              "      <td>0</td>\n",
              "      <td>1.503548</td>\n",
              "      <td>0.699923</td>\n",
              "      <td>502084.8330</td>\n",
              "      <td>102.548972</td>\n",
              "      <td>69.107759</td>\n",
              "      <td>-0.8</td>\n",
              "      <td>99.983258</td>\n",
              "      <td>246590.9825</td>\n",
              "      <td>-23.1</td>\n",
              "      <td>17168</td>\n",
              "      <td>15711</td>\n",
              "      <td>6582407.438</td>\n",
              "      <td>5430545.717</td>\n",
              "      <td>25</td>\n",
              "    </tr>\n",
              "    <tr>\n",
              "      <th>1</th>\n",
              "      <td>1</td>\n",
              "      <td>0.076213</td>\n",
              "      <td>0.316156</td>\n",
              "      <td>530826.1625</td>\n",
              "      <td>102.919033</td>\n",
              "      <td>61.576356</td>\n",
              "      <td>-0.5</td>\n",
              "      <td>102.844455</td>\n",
              "      <td>235505.0780</td>\n",
              "      <td>-17.1</td>\n",
              "      <td>16196</td>\n",
              "      <td>7515</td>\n",
              "      <td>5823639.090</td>\n",
              "      <td>7116995.809</td>\n",
              "      <td>24</td>\n",
              "    </tr>\n",
              "    <tr>\n",
              "      <th>2</th>\n",
              "      <td>2</td>\n",
              "      <td>-1.346258</td>\n",
              "      <td>-0.267695</td>\n",
              "      <td>568447.4880</td>\n",
              "      <td>102.162670</td>\n",
              "      <td>57.195909</td>\n",
              "      <td>-4.2</td>\n",
              "      <td>103.209393</td>\n",
              "      <td>241604.7690</td>\n",
              "      <td>-10.8</td>\n",
              "      <td>15388</td>\n",
              "      <td>5744</td>\n",
              "      <td>7940658.711</td>\n",
              "      <td>6582407.438</td>\n",
              "      <td>26</td>\n",
              "    </tr>\n",
              "    <tr>\n",
              "      <th>3</th>\n",
              "      <td>3</td>\n",
              "      <td>-2.122585</td>\n",
              "      <td>-2.419870</td>\n",
              "      <td>477863.7565</td>\n",
              "      <td>102.983586</td>\n",
              "      <td>60.038831</td>\n",
              "      <td>-4.7</td>\n",
              "      <td>103.057448</td>\n",
              "      <td>224013.6000</td>\n",
              "      <td>-19.9</td>\n",
              "      <td>14481</td>\n",
              "      <td>5445</td>\n",
              "      <td>7880889.537</td>\n",
              "      <td>5823639.090</td>\n",
              "      <td>23</td>\n",
              "    </tr>\n",
              "    <tr>\n",
              "      <th>4</th>\n",
              "      <td>4</td>\n",
              "      <td>-0.665067</td>\n",
              "      <td>-0.644222</td>\n",
              "      <td>521968.2200</td>\n",
              "      <td>103.070062</td>\n",
              "      <td>63.974909</td>\n",
              "      <td>-16.1</td>\n",
              "      <td>103.353834</td>\n",
              "      <td>236576.3735</td>\n",
              "      <td>-15.3</td>\n",
              "      <td>14347</td>\n",
              "      <td>7567</td>\n",
              "      <td>4498496.510</td>\n",
              "      <td>7940658.711</td>\n",
              "      <td>25</td>\n",
              "    </tr>\n",
              "  </tbody>\n",
              "</table>\n",
              "</div>"
            ],
            "text/plain": [
              "   Date  Quantity  ...  Ordinary_creditlag_6  working_day\n",
              "0     0  1.503548  ...           5430545.717           25\n",
              "1     1  0.076213  ...           7116995.809           24\n",
              "2     2 -1.346258  ...           6582407.438           26\n",
              "3     3 -2.122585  ...           5823639.090           23\n",
              "4     4 -0.665067  ...           7940658.711           25\n",
              "\n",
              "[5 rows x 15 columns]"
            ]
          },
          "metadata": {},
          "execution_count": 160
        }
      ]
    },
    {
      "cell_type": "code",
      "metadata": {
        "id": "00aYkjJnp9DI"
      },
      "source": [
        "Working_Data.drop(columns=['Date'])"
      ],
      "execution_count": null,
      "outputs": []
    },
    {
      "cell_type": "code",
      "metadata": {
        "id": "I1aAQ0-coDf_"
      },
      "source": [
        "X = Working_Data.iloc[:,2:15] # Features\n",
        "y = Working_Data.iloc[:,1]\n",
        "\n"
      ],
      "execution_count": null,
      "outputs": []
    },
    {
      "cell_type": "code",
      "metadata": {
        "id": "oFue_rxnpH9b"
      },
      "source": [
        "X_train, X_test, y_train, y_test = train_test_split(X,y,test_size=0.5, random_state=2) "
      ],
      "execution_count": null,
      "outputs": []
    },
    {
      "cell_type": "code",
      "metadata": {
        "id": "i_cCdkJJpMQk"
      },
      "source": [
        "TreeReg = DecisionTreeRegressor()\n",
        "TreeReg.fit(X_train, y_train)\n",
        "\n",
        "y_pred_Train = TreeReg.predict(X_train)\n",
        "y_pred_Test = TreeReg.predict(X_test)"
      ],
      "execution_count": null,
      "outputs": []
    },
    {
      "cell_type": "code",
      "metadata": {
        "colab": {
          "base_uri": "https://localhost:8080/",
          "height": 295
        },
        "id": "ZdkVjIdTrfKw",
        "outputId": "1bc2254d-6c7a-4fcd-c85b-87c78f49ab7f"
      },
      "source": [
        "fig, ax = plt.subplots(ncols=2, figsize=(10,4))\n",
        "\n",
        "ax[0].scatter(y_train, y_pred_Train)\n",
        "ax[0].grid()\n",
        "ax[0].set_xlabel('y')\n",
        "ax[0].set_ylabel('yhat')\n",
        "ax[0].set_title('Training Set')\n",
        "\n",
        "ax[1].scatter(y_test, y_pred_Test)\n",
        "ax[1].grid()\n",
        "ax[1].set_xlabel('y')\n",
        "ax[1].set_ylabel('yhat')\n",
        "ax[1].set_title('Testing Set')\n",
        "plt.show()"
      ],
      "execution_count": null,
      "outputs": [
        {
          "output_type": "display_data",
          "data": {
            "image/png": "[encoded data removed]",
            "text/plain": [
              "<Figure size 720x288 with 2 Axes>"
            ]
          },
          "metadata": {
            "needs_background": "light"
          }
        }
      ]
    },
    {
      "cell_type": "code",
      "metadata": {
        "colab": {
          "base_uri": "https://localhost:8080/"
        },
        "id": "FQv_OISJrmI7",
        "outputId": "75e98b96-8bc6-4807-eb96-7d91ac742ebd"
      },
      "source": [
        "print('R squared:', metrics.r2_score(y_train, y_pred_Train))\n",
        "print('Mean Absolute Error:', metrics.mean_absolute_error(y_train, y_pred_Train))  \n",
        "print('Mean Squared Error:', metrics.mean_squared_error(y_train, y_pred_Train))  \n",
        "print('Root Mean Squared Error:', np.sqrt(metrics.mean_squared_error(y_train, y_pred_Train)))"
      ],
      "execution_count": null,
      "outputs": [
        {
          "output_type": "stream",
          "name": "stdout",
          "text": [
            "R squared: 1.0\n",
            "Mean Absolute Error: 0.0\n",
            "Mean Squared Error: 0.0\n",
            "Root Mean Squared Error: 0.0\n"
          ]
        }
      ]
    },
    {
      "cell_type": "code",
      "metadata": {
        "colab": {
          "base_uri": "https://localhost:8080/"
        },
        "id": "M86IzMF8r0pv",
        "outputId": "2fef9075-318b-4fd2-be6a-99a13169d3fa"
      },
      "source": [
        "print('R squared:', metrics.r2_score(y_test, y_pred_Test))\n",
        "print('Mean Absolute Error:', metrics.mean_absolute_error(y_test, y_pred_Test))  \n",
        "print('Mean Squared Error:', metrics.mean_squared_error(y_test, y_pred_Test))  \n",
        "print('Root Mean Squared Error:', np.sqrt(metrics.mean_squared_error(y_test, y_pred_Test)))"
      ],
      "execution_count": null,
      "outputs": [
        {
          "output_type": "stream",
          "name": "stdout",
          "text": [
            "R squared: -0.011326339953003028\n",
            "Mean Absolute Error: 0.9047960785925925\n",
            "Mean Squared Error: 1.2059581664928092\n",
            "Root Mean Squared Error: 1.0981612661593967\n"
          ]
        }
      ]
    },
    {
      "cell_type": "code",
      "metadata": {
        "colab": {
          "base_uri": "https://localhost:8080/",
          "height": 279
        },
        "id": "pyO4cZe-r6ct",
        "outputId": "eeb1c831-ef68-4cd7-c67d-c389a7d242ce"
      },
      "source": [
        "train_R2 =[]\n",
        "test_R2=[]\n",
        "\n",
        "for depth in range(1,50):\n",
        "    X_train, X_test, y_train, y_test = train_test_split(X,y,test_size=0.5) \n",
        "    dtree = DecisionTreeRegressor(max_depth=depth)\n",
        "    dtree.fit(X_train,y_train)\n",
        "    y_pred_Train = dtree.predict(X_train) #Predictions\n",
        "    y_pred_Test = dtree.predict(X_test) #Predictions\n",
        "    train_R2.append(metrics.r2_score(y_train,y_pred_Train))\n",
        "    test_R2.append(metrics.r2_score(y_test, y_pred_Test))\n",
        "\n",
        "plt.plot(train_R2)\n",
        "plt.plot(test_R2)\n",
        "plt.ylabel('R2')\n",
        "plt.xlabel('depth')\n",
        "plt.show()"
      ],
      "execution_count": null,
      "outputs": [
        {
          "output_type": "display_data",
          "data": {
            "image/png": "[encoded data removed]",
            "text/plain": [
              "<Figure size 432x288 with 1 Axes>"
            ]
          },
          "metadata": {
            "needs_background": "light"
          }
        }
      ]
    },
    {
      "cell_type": "code",
      "metadata": {
        "colab": {
          "base_uri": "https://localhost:8080/",
          "height": 1000
        },
        "id": "9QA3e4QmsFPY",
        "outputId": "8cf64bb2-e6b1-4cc0-8bf4-47a15d538cab"
      },
      "source": [
        "plot_tree(TreeReg)"
      ],
      "execution_count": null,
      "outputs": [
        {
          "output_type": "execute_result",
          "data": {
            "text/plain": [
              "[Text(126.85781250000001, 205.35999999999999, 'X[8] <= 14527.0\\nsquared_error = 0.798\\nsamples = 27\\nvalue = 0.008'),\n",
              " Text(41.85, 181.2, 'X[1] <= 494372.234\\nsquared_error = 0.249\\nsamples = 6\\nvalue = -1.218'),\n",
              " Text(20.925, 157.04, 'X[7] <= -14.55\\nsquared_error = 0.065\\nsamples = 2\\nvalue = -1.867'),\n",
              " Text(10.4625, 132.88, 'squared_error = 0.0\\nsamples = 1\\nvalue = -2.123'),\n",
              " Text(31.387500000000003, 132.88, 'squared_error = 0.0\\nsamples = 1\\nvalue = -1.612'),\n",
              " Text(62.775000000000006, 157.04, 'X[10] <= 5589156.75\\nsquared_error = 0.025\\nsamples = 4\\nvalue = -0.893'),\n",
              " Text(52.3125, 132.88, 'squared_error = 0.0\\nsamples = 1\\nvalue = -0.665'),\n",
              " Text(73.2375, 132.88, 'X[9] <= 4383.5\\nsquared_error = 0.01\\nsamples = 3\\nvalue = -0.969'),\n",
              " Text(62.775000000000006, 108.72, 'squared_error = 0.0\\nsamples = 1\\nvalue = -1.109'),\n",
              " Text(83.7, 108.72, 'X[9] <= 4806.0\\nsquared_error = 0.0\\nsamples = 2\\nvalue = -0.899'),\n",
              " Text(73.2375, 84.56, 'squared_error = 0.0\\nsamples = 1\\nvalue = -0.88'),\n",
              " Text(94.16250000000001, 84.56, 'squared_error = 0.0\\nsamples = 1\\nvalue = -0.918'),\n",
              " Text(211.865625, 181.2, 'X[0] <= 0.675\\nsquared_error = 0.402\\nsamples = 21\\nvalue = 0.359'),\n",
              " Text(167.4, 157.04, 'X[11] <= 7854215.0\\nsquared_error = 0.291\\nsamples = 13\\nvalue = 0.044'),\n",
              " Text(156.9375, 132.88, 'X[9] <= 5865.5\\nsquared_error = 0.146\\nsamples = 12\\nvalue = -0.07'),\n",
              " Text(125.55000000000001, 108.72, 'X[1] <= 573276.469\\nsquared_error = 0.04\\nsamples = 6\\nvalue = 0.236'),\n",
              " Text(115.0875, 84.56, 'X[9] <= 5214.0\\nsquared_error = 0.015\\nsamples = 5\\nvalue = 0.162'),\n",
              " Text(94.16250000000001, 60.400000000000006, 'X[9] <= 4661.5\\nsquared_error = 0.001\\nsamples = 2\\nvalue = 0.013'),\n",
              " Text(83.7, 36.24000000000001, 'squared_error = 0.0\\nsamples = 1\\nvalue = 0.039'),\n",
              " Text(104.625, 36.24000000000001, 'squared_error = 0.0\\nsamples = 1\\nvalue = -0.013'),\n",
              " Text(136.01250000000002, 60.400000000000006, 'X[4] <= -12.95\\nsquared_error = 0.001\\nsamples = 3\\nvalue = 0.261'),\n",
              " Text(125.55000000000001, 36.24000000000001, 'squared_error = 0.0\\nsamples = 1\\nvalue = 0.294'),\n",
              " Text(146.475, 36.24000000000001, 'X[10] <= 6683800.5\\nsquared_error = 0.0\\nsamples = 2\\nvalue = 0.245'),\n",
              " Text(136.01250000000002, 12.079999999999984, 'squared_error = 0.0\\nsamples = 1\\nvalue = 0.249'),\n",
              " Text(156.9375, 12.079999999999984, 'squared_error = 0.0\\nsamples = 1\\nvalue = 0.24'),\n",
              " Text(136.01250000000002, 84.56, 'squared_error = 0.0\\nsamples = 1\\nvalue = 0.608'),\n",
              " Text(188.32500000000002, 108.72, 'X[9] <= 6637.0\\nsquared_error = 0.063\\nsamples = 6\\nvalue = -0.377'),\n",
              " Text(167.4, 84.56, 'X[4] <= -15.7\\nsquared_error = 0.004\\nsamples = 2\\nvalue = -0.721'),\n",
              " Text(156.9375, 60.400000000000006, 'squared_error = 0.0\\nsamples = 1\\nvalue = -0.654'),\n",
              " Text(177.8625, 60.400000000000006, 'squared_error = 0.0\\nsamples = 1\\nvalue = -0.788'),\n",
              " Text(209.25, 84.56, 'X[4] <= -10.5\\nsquared_error = 0.003\\nsamples = 4\\nvalue = -0.205'),\n",
              " Text(198.7875, 60.400000000000006, 'squared_error = 0.0\\nsamples = 1\\nvalue = -0.125'),\n",
              " Text(219.7125, 60.400000000000006, 'X[1] <= 550614.625\\nsquared_error = 0.001\\nsamples = 3\\nvalue = -0.232'),\n",
              " Text(209.25, 36.24000000000001, 'squared_error = 0.0\\nsamples = 1\\nvalue = -0.271'),\n",
              " Text(230.175, 36.24000000000001, 'X[5] <= 106.732\\nsquared_error = 0.0\\nsamples = 2\\nvalue = -0.212'),\n",
              " Text(219.7125, 12.079999999999984, 'squared_error = 0.0\\nsamples = 1\\nvalue = -0.206'),\n",
              " Text(240.63750000000002, 12.079999999999984, 'squared_error = 0.0\\nsamples = 1\\nvalue = -0.218'),\n",
              " Text(177.8625, 132.88, 'squared_error = -0.0\\nsamples = 1\\nvalue = 1.416'),\n",
              " Text(256.33125, 157.04, 'X[10] <= 5183502.0\\nsquared_error = 0.16\\nsamples = 8\\nvalue = 0.87'),\n",
              " Text(230.175, 132.88, 'X[2] <= 106.598\\nsquared_error = 0.052\\nsamples = 2\\nvalue = 1.366'),\n",
              " Text(219.7125, 108.72, 'squared_error = 0.0\\nsamples = 1\\nvalue = 1.594'),\n",
              " Text(240.63750000000002, 108.72, 'squared_error = 0.0\\nsamples = 1\\nvalue = 1.137'),\n",
              " Text(282.4875, 132.88, 'X[1] <= 576088.25\\nsquared_error = 0.087\\nsamples = 6\\nvalue = 0.705'),\n",
              " Text(261.5625, 108.72, 'X[9] <= 13386.5\\nsquared_error = 0.052\\nsamples = 3\\nvalue = 0.462'),\n",
              " Text(251.10000000000002, 84.56, 'X[0] <= 0.973\\nsquared_error = 0.001\\nsamples = 2\\nvalue = 0.302'),\n",
              " Text(240.63750000000002, 60.400000000000006, 'squared_error = 0.0\\nsamples = 1\\nvalue = 0.325'),\n",
              " Text(261.5625, 60.400000000000006, 'squared_error = 0.0\\nsamples = 1\\nvalue = 0.278'),\n",
              " Text(272.02500000000003, 84.56, 'squared_error = 0.0\\nsamples = 1\\nvalue = 0.782'),\n",
              " Text(303.4125, 108.72, 'X[6] <= 216816.938\\nsquared_error = 0.004\\nsamples = 3\\nvalue = 0.949'),\n",
              " Text(292.95, 84.56, 'squared_error = 0.0\\nsamples = 1\\nvalue = 1.035'),\n",
              " Text(313.875, 84.56, 'X[2] <= 108.851\\nsquared_error = 0.0\\nsamples = 2\\nvalue = 0.905'),\n",
              " Text(303.4125, 60.400000000000006, 'squared_error = 0.0\\nsamples = 1\\nvalue = 0.913'),\n",
              " Text(324.33750000000003, 60.400000000000006, 'squared_error = 0.0\\nsamples = 1\\nvalue = 0.897')]"
            ]
          },
          "metadata": {},
          "execution_count": 169
        },
        {
          "output_type": "display_data",
          "data": {
            "image/png": "[encoded data removed]",
            "text/plain": [
              "<Figure size 432x288 with 1 Axes>"
            ]
          },
          "metadata": {
            "needs_background": "light"
          }
        }
      ]
    },
    {
      "cell_type": "code",
      "metadata": {
        "id": "jb-66_FjsV0m"
      },
      "source": [
        "Tree_Train_R2 = []\n",
        "Tree_Test_R2 = []\n",
        "for i in range(1000):\n",
        "    X_train, X_test, y_train, y_test = train_test_split(X, y, test_size=0.1)\n",
        "    TreeReg = DecisionTreeRegressor()\n",
        "    TreeReg.fit(X_train, y_train)\n",
        "    y_pred_Train  = TreeReg.predict(X_train)  \n",
        "    y_pred_Test  = TreeReg.predict(X_test)\n",
        "    Tree_Train_R2.append(metrics.r2_score(y_train, y_pred_Train))\n",
        "    Tree_Test_R2.append(metrics.r2_score(y_test, y_pred_Test))"
      ],
      "execution_count": null,
      "outputs": []
    },
    {
      "cell_type": "code",
      "metadata": {
        "id": "YkOdbCb2sju7"
      },
      "source": [
        "LR_Train_R2 = []\n",
        "LR_Test_R2 = []\n",
        "for i in range(1000):\n",
        "    X_train, X_test, y_train, y_test = train_test_split(X, y, test_size=0.2)\n",
        "    LinearReg = LinearRegression() #Creates the function\n",
        "    LinearReg.fit(X_train, y_train) #Train the model\n",
        "    y_pred_Train  = LinearReg.predict(X_train)  #Predictions on testing model\n",
        "    y_pred_Test  = LinearReg.predict(X_test)  #Predictions on testing model\n",
        "    LR_Train_R2.append(metrics.r2_score(y_train, y_pred_Train))\n",
        "    LR_Test_R2.append(metrics.r2_score(y_test, y_pred_Test))"
      ],
      "execution_count": null,
      "outputs": []
    },
    {
      "cell_type": "code",
      "metadata": {
        "id": "7MLWkSdMsn03"
      },
      "source": [
        "Train = pd.DataFrame(list(zip(Tree_Train_R2, LR_Train_R2)))\n",
        "Test = pd.DataFrame(list(zip(Tree_Test_R2, LR_Test_R2)))"
      ],
      "execution_count": null,
      "outputs": []
    },
    {
      "cell_type": "code",
      "metadata": {
        "colab": {
          "base_uri": "https://localhost:8080/",
          "height": 419
        },
        "id": "FlRAhrovsrXM",
        "outputId": "e2b625b9-6822-4f2a-8833-7b7ed4903396"
      },
      "source": [
        "Train"
      ],
      "execution_count": null,
      "outputs": [
        {
          "output_type": "execute_result",
          "data": {
            "text/html": [
              "<div>\n",
              "<style scoped>\n",
              "    .dataframe tbody tr th:only-of-type {\n",
              "        vertical-align: middle;\n",
              "    }\n",
              "\n",
              "    .dataframe tbody tr th {\n",
              "        vertical-align: top;\n",
              "    }\n",
              "\n",
              "    .dataframe thead th {\n",
              "        text-align: right;\n",
              "    }\n",
              "</style>\n",
              "<table border=\"1\" class=\"dataframe\">\n",
              "  <thead>\n",
              "    <tr style=\"text-align: right;\">\n",
              "      <th></th>\n",
              "      <th>0</th>\n",
              "      <th>1</th>\n",
              "    </tr>\n",
              "  </thead>\n",
              "  <tbody>\n",
              "    <tr>\n",
              "      <th>0</th>\n",
              "      <td>1.0</td>\n",
              "      <td>0.883301</td>\n",
              "    </tr>\n",
              "    <tr>\n",
              "      <th>1</th>\n",
              "      <td>1.0</td>\n",
              "      <td>0.812678</td>\n",
              "    </tr>\n",
              "    <tr>\n",
              "      <th>2</th>\n",
              "      <td>1.0</td>\n",
              "      <td>0.818464</td>\n",
              "    </tr>\n",
              "    <tr>\n",
              "      <th>3</th>\n",
              "      <td>1.0</td>\n",
              "      <td>0.875220</td>\n",
              "    </tr>\n",
              "    <tr>\n",
              "      <th>4</th>\n",
              "      <td>1.0</td>\n",
              "      <td>0.893040</td>\n",
              "    </tr>\n",
              "    <tr>\n",
              "      <th>...</th>\n",
              "      <td>...</td>\n",
              "      <td>...</td>\n",
              "    </tr>\n",
              "    <tr>\n",
              "      <th>995</th>\n",
              "      <td>1.0</td>\n",
              "      <td>0.876550</td>\n",
              "    </tr>\n",
              "    <tr>\n",
              "      <th>996</th>\n",
              "      <td>1.0</td>\n",
              "      <td>0.888324</td>\n",
              "    </tr>\n",
              "    <tr>\n",
              "      <th>997</th>\n",
              "      <td>1.0</td>\n",
              "      <td>0.877937</td>\n",
              "    </tr>\n",
              "    <tr>\n",
              "      <th>998</th>\n",
              "      <td>1.0</td>\n",
              "      <td>0.800251</td>\n",
              "    </tr>\n",
              "    <tr>\n",
              "      <th>999</th>\n",
              "      <td>1.0</td>\n",
              "      <td>0.863049</td>\n",
              "    </tr>\n",
              "  </tbody>\n",
              "</table>\n",
              "<p>1000 rows × 2 columns</p>\n",
              "</div>"
            ],
            "text/plain": [
              "       0         1\n",
              "0    1.0  0.883301\n",
              "1    1.0  0.812678\n",
              "2    1.0  0.818464\n",
              "3    1.0  0.875220\n",
              "4    1.0  0.893040\n",
              "..   ...       ...\n",
              "995  1.0  0.876550\n",
              "996  1.0  0.888324\n",
              "997  1.0  0.877937\n",
              "998  1.0  0.800251\n",
              "999  1.0  0.863049\n",
              "\n",
              "[1000 rows x 2 columns]"
            ]
          },
          "metadata": {},
          "execution_count": 173
        }
      ]
    },
    {
      "cell_type": "code",
      "metadata": {
        "colab": {
          "base_uri": "https://localhost:8080/",
          "height": 419
        },
        "id": "6yLNSuBPsvna",
        "outputId": "dd75b909-61a4-4697-9cdf-607e98c0b29c"
      },
      "source": [
        "Test"
      ],
      "execution_count": null,
      "outputs": [
        {
          "output_type": "execute_result",
          "data": {
            "text/html": [
              "<div>\n",
              "<style scoped>\n",
              "    .dataframe tbody tr th:only-of-type {\n",
              "        vertical-align: middle;\n",
              "    }\n",
              "\n",
              "    .dataframe tbody tr th {\n",
              "        vertical-align: top;\n",
              "    }\n",
              "\n",
              "    .dataframe thead th {\n",
              "        text-align: right;\n",
              "    }\n",
              "</style>\n",
              "<table border=\"1\" class=\"dataframe\">\n",
              "  <thead>\n",
              "    <tr style=\"text-align: right;\">\n",
              "      <th></th>\n",
              "      <th>0</th>\n",
              "      <th>1</th>\n",
              "    </tr>\n",
              "  </thead>\n",
              "  <tbody>\n",
              "    <tr>\n",
              "      <th>0</th>\n",
              "      <td>-3.843837</td>\n",
              "      <td>0.307343</td>\n",
              "    </tr>\n",
              "    <tr>\n",
              "      <th>1</th>\n",
              "      <td>0.022100</td>\n",
              "      <td>0.869209</td>\n",
              "    </tr>\n",
              "    <tr>\n",
              "      <th>2</th>\n",
              "      <td>-13.606082</td>\n",
              "      <td>0.783512</td>\n",
              "    </tr>\n",
              "    <tr>\n",
              "      <th>3</th>\n",
              "      <td>0.216781</td>\n",
              "      <td>0.240839</td>\n",
              "    </tr>\n",
              "    <tr>\n",
              "      <th>4</th>\n",
              "      <td>-0.314871</td>\n",
              "      <td>-0.212315</td>\n",
              "    </tr>\n",
              "    <tr>\n",
              "      <th>...</th>\n",
              "      <td>...</td>\n",
              "      <td>...</td>\n",
              "    </tr>\n",
              "    <tr>\n",
              "      <th>995</th>\n",
              "      <td>-1.059038</td>\n",
              "      <td>0.564422</td>\n",
              "    </tr>\n",
              "    <tr>\n",
              "      <th>996</th>\n",
              "      <td>0.177308</td>\n",
              "      <td>0.291498</td>\n",
              "    </tr>\n",
              "    <tr>\n",
              "      <th>997</th>\n",
              "      <td>-0.591947</td>\n",
              "      <td>0.427900</td>\n",
              "    </tr>\n",
              "    <tr>\n",
              "      <th>998</th>\n",
              "      <td>0.317077</td>\n",
              "      <td>0.899623</td>\n",
              "    </tr>\n",
              "    <tr>\n",
              "      <th>999</th>\n",
              "      <td>-0.724529</td>\n",
              "      <td>0.750849</td>\n",
              "    </tr>\n",
              "  </tbody>\n",
              "</table>\n",
              "<p>1000 rows × 2 columns</p>\n",
              "</div>"
            ],
            "text/plain": [
              "             0         1\n",
              "0    -3.843837  0.307343\n",
              "1     0.022100  0.869209\n",
              "2   -13.606082  0.783512\n",
              "3     0.216781  0.240839\n",
              "4    -0.314871 -0.212315\n",
              "..         ...       ...\n",
              "995  -1.059038  0.564422\n",
              "996   0.177308  0.291498\n",
              "997  -0.591947  0.427900\n",
              "998   0.317077  0.899623\n",
              "999  -0.724529  0.750849\n",
              "\n",
              "[1000 rows x 2 columns]"
            ]
          },
          "metadata": {},
          "execution_count": 174
        }
      ]
    },
    {
      "cell_type": "code",
      "metadata": {
        "colab": {
          "base_uri": "https://localhost:8080/",
          "height": 281
        },
        "id": "f47fnaVCsvpQ",
        "outputId": "9cb5687d-0c4e-499a-a02d-e74a80d4cb3d"
      },
      "source": [
        "fig, ax = plt.subplots(ncols=2, figsize=(10,4))\n",
        "ax[0].boxplot(Train)\n",
        "ax[0].set_title('Training Set')\n",
        "ax[0].set_xticklabels(['Tree','Linear Reg'])\n",
        "\n",
        "ax[1].boxplot(Test)\n",
        "ax[1].set_title('Testing Set')\n",
        "ax[1].set_xticklabels(['Tree','Linear Reg'])\n",
        "\n",
        "plt.show()"
      ],
      "execution_count": null,
      "outputs": [
        {
          "output_type": "display_data",
          "data": {
            "image/png": "[encoded data removed]",
            "text/plain": [
              "<Figure size 720x288 with 2 Axes>"
            ]
          },
          "metadata": {
            "needs_background": "light"
          }
        }
      ]
    }
  ]
}