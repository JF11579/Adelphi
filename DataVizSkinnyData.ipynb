{
  "nbformat": 4,
  "nbformat_minor": 0,
  "metadata": {
    "colab": {
      "name": "DataVizSkinnyData.ipynb",
      "provenance": [],
      "collapsed_sections": [],
      "authorship_tag": "ABX9TyMNKJnwrQM8t/l5ci0jrqmY",
      "include_colab_link": true
    },
    "kernelspec": {
      "name": "ir",
      "display_name": "R"
    },
    "language_info": {
      "name": "R"
    }
  },
  "cells": [
    {
      "cell_type": "markdown",
      "metadata": {
        "id": "view-in-github",
        "colab_type": "text"
      },
      "source": [
        "<a href=\"https://colab.research.google.com/github/JF11579/Adelphi/blob/main/DataVizSkinnyData.ipynb\" target=\"_parent\"><img src=\"https://colab.research.google.com/assets/colab-badge.svg\" alt=\"Open In Colab\"/></a>"
      ]
    },
    {
      "cell_type": "markdown",
      "source": [
        "# Options"
      ],
      "metadata": {
        "id": "-OyEGIHG8VfS"
      }
    },
    {
      "cell_type": "code",
      "source": [
        ""
      ],
      "metadata": {
        "id": "gos2HdFA8XEV"
      },
      "execution_count": null,
      "outputs": []
    },
    {
      "cell_type": "markdown",
      "source": [
        "# Packages"
      ],
      "metadata": {
        "id": "MS0hmSKj8aGs"
      }
    },
    {
      "cell_type": "code",
      "source": [
        "library(tidyverse)\n",
        "library(ggplot2)\n",
        "library(lubridate)\n",
        "install.packages(\"ggthemes\")\n",
        "library(ggthemes)"
      ],
      "metadata": {
        "colab": {
          "base_uri": "https://localhost:8080/"
        },
        "id": "ja4I8XjO8ZbL",
        "outputId": "cf802b43-32c0-4c7b-9b33-ca0ba47ded22"
      },
      "execution_count": null,
      "outputs": [
        {
          "output_type": "stream",
          "name": "stderr",
          "text": [
            "Installing package into ‘/usr/local/lib/R/site-library’\n",
            "(as ‘lib’ is unspecified)\n",
            "\n"
          ]
        }
      ]
    },
    {
      "cell_type": "markdown",
      "source": [
        "# Data"
      ],
      "metadata": {
        "id": "NFp_EhLS8le2"
      }
    },
    {
      "cell_type": "markdown",
      "source": [
        "##Michigan"
      ],
      "metadata": {
        "id": "xDshTs0xoQWy"
      }
    },
    {
      "cell_type": "code",
      "execution_count": null,
      "metadata": {
        "id": "fmFlP3XP8DpN"
      },
      "outputs": [],
      "source": [
        "Michigan <- read.csv(\"/content/Michigan.csv\", skip=0, header=TRUE)\n",
        "head(Michigan,3)"
      ]
    },
    {
      "cell_type": "code",
      "source": [
        "MI <- read.csv(\"/content/MI_2.csv\", skip=0, header=TRUE)\n",
        "head(MI,3)"
      ],
      "metadata": {
        "id": "QgZpbEgkn21f"
      },
      "execution_count": null,
      "outputs": []
    },
    {
      "cell_type": "code",
      "source": [
        "MI_combo <- merge(Michigan ,MI, by=\"Time\", all = T)"
      ],
      "metadata": {
        "id": "kIGj-1Z2n_Ua"
      },
      "execution_count": null,
      "outputs": []
    },
    {
      "cell_type": "code",
      "source": [
        "head(MI_combo,2)"
      ],
      "metadata": {
        "colab": {
          "base_uri": "https://localhost:8080/",
          "height": 250
        },
        "id": "ixDCWW7zw2uc",
        "outputId": "8dd50e25-291c-47c5-90a2-dc81406b8b02"
      },
      "execution_count": null,
      "outputs": [
        {
          "output_type": "display_data",
          "data": {
            "text/html": [
              "<table class=\"dataframe\">\n",
              "<caption>A data.frame: 2 × 12</caption>\n",
              "<thead>\n",
              "\t<tr><th></th><th scope=col>Time</th><th scope=col>ketamine...Michigan.</th><th scope=col>date.rape...Michigan.</th><th scope=col>GHB...Michigan.</th><th scope=col>Rohypnol...Michigan.</th><th scope=col>State.x</th><th scope=col>morning.after.pill...Michigan.</th><th scope=col>roofie...Michigan.</th><th scope=col>pills.to.avoid.pregnancy.after...Michigan.</th><th scope=col>how.much.is.the.morning.after.bill...Michigan.</th><th scope=col>i.been.raped...Michigan.</th><th scope=col>State.y</th></tr>\n",
              "\t<tr><th></th><th scope=col>&lt;chr&gt;</th><th scope=col>&lt;int&gt;</th><th scope=col>&lt;int&gt;</th><th scope=col>&lt;int&gt;</th><th scope=col>&lt;int&gt;</th><th scope=col>&lt;chr&gt;</th><th scope=col>&lt;int&gt;</th><th scope=col>&lt;int&gt;</th><th scope=col>&lt;int&gt;</th><th scope=col>&lt;int&gt;</th><th scope=col>&lt;int&gt;</th><th scope=col>&lt;chr&gt;</th></tr>\n",
              "</thead>\n",
              "<tbody>\n",
              "\t<tr><th scope=row>1</th><td>2022-02-23T12</td><td>40</td><td>4</td><td> 0</td><td>0</td><td>Michigan</td><td>NA</td><td>NA</td><td>NA</td><td>NA</td><td>NA</td><td>NA      </td></tr>\n",
              "\t<tr><th scope=row>2</th><td>2022-02-23T13</td><td>24</td><td>0</td><td>12</td><td>0</td><td>Michigan</td><td> 0</td><td> 0</td><td> 0</td><td> 0</td><td> 0</td><td>Michigan</td></tr>\n",
              "</tbody>\n",
              "</table>\n"
            ],
            "text/markdown": "\nA data.frame: 2 × 12\n\n| <!--/--> | Time &lt;chr&gt; | ketamine...Michigan. &lt;int&gt; | date.rape...Michigan. &lt;int&gt; | GHB...Michigan. &lt;int&gt; | Rohypnol...Michigan. &lt;int&gt; | State.x &lt;chr&gt; | morning.after.pill...Michigan. &lt;int&gt; | roofie...Michigan. &lt;int&gt; | pills.to.avoid.pregnancy.after...Michigan. &lt;int&gt; | how.much.is.the.morning.after.bill...Michigan. &lt;int&gt; | i.been.raped...Michigan. &lt;int&gt; | State.y &lt;chr&gt; |\n|---|---|---|---|---|---|---|---|---|---|---|---|---|\n| 1 | 2022-02-23T12 | 40 | 4 |  0 | 0 | Michigan | NA | NA | NA | NA | NA | NA       |\n| 2 | 2022-02-23T13 | 24 | 0 | 12 | 0 | Michigan |  0 |  0 |  0 |  0 |  0 | Michigan |\n\n",
            "text/latex": "A data.frame: 2 × 12\n\\begin{tabular}{r|llllllllllll}\n  & Time & ketamine...Michigan. & date.rape...Michigan. & GHB...Michigan. & Rohypnol...Michigan. & State.x & morning.after.pill...Michigan. & roofie...Michigan. & pills.to.avoid.pregnancy.after...Michigan. & how.much.is.the.morning.after.bill...Michigan. & i.been.raped...Michigan. & State.y\\\\\n  & <chr> & <int> & <int> & <int> & <int> & <chr> & <int> & <int> & <int> & <int> & <int> & <chr>\\\\\n\\hline\n\t1 & 2022-02-23T12 & 40 & 4 &  0 & 0 & Michigan & NA & NA & NA & NA & NA & NA      \\\\\n\t2 & 2022-02-23T13 & 24 & 0 & 12 & 0 & Michigan &  0 &  0 &  0 &  0 &  0 & Michigan\\\\\n\\end{tabular}\n",
            "text/plain": [
              "  Time          ketamine...Michigan. date.rape...Michigan. GHB...Michigan.\n",
              "1 2022-02-23T12 40                   4                      0             \n",
              "2 2022-02-23T13 24                   0                     12             \n",
              "  Rohypnol...Michigan. State.x  morning.after.pill...Michigan.\n",
              "1 0                    Michigan NA                            \n",
              "2 0                    Michigan  0                            \n",
              "  roofie...Michigan. pills.to.avoid.pregnancy.after...Michigan.\n",
              "1 NA                 NA                                        \n",
              "2  0                  0                                        \n",
              "  how.much.is.the.morning.after.bill...Michigan. i.been.raped...Michigan.\n",
              "1 NA                                             NA                      \n",
              "2  0                                              0                      \n",
              "  State.y \n",
              "1 NA      \n",
              "2 Michigan"
            ]
          },
          "metadata": {}
        }
      ]
    },
    {
      "cell_type": "code",
      "source": [
        "colnames(MI_combo) <- c(\"Time\",\"ketamine\",\"date_rape\",\"GHB\",\"Rohypnol\",\"State\",\n",
        "                        \"morning_after_pill\",\"roofie\",\"pills_to_avoid_preg\",\n",
        "                        \"how_much_is_morning_after_pill\",\"been_raped\",\"state_2\")"
      ],
      "metadata": {
        "id": "7KHUWEK_xCXp"
      },
      "execution_count": null,
      "outputs": []
    },
    {
      "cell_type": "code",
      "source": [
        "head(MI_combo,3)"
      ],
      "metadata": {
        "colab": {
          "base_uri": "https://localhost:8080/",
          "height": 316
        },
        "id": "U7xK76BPyp3G",
        "outputId": "e975a638-6d97-4bdd-dced-abe807740a68"
      },
      "execution_count": null,
      "outputs": [
        {
          "output_type": "display_data",
          "data": {
            "text/html": [
              "<table class=\"dataframe\">\n",
              "<caption>A data.frame: 3 × 12</caption>\n",
              "<thead>\n",
              "\t<tr><th></th><th scope=col>Time</th><th scope=col>ketamine</th><th scope=col>date_rape</th><th scope=col>GHB</th><th scope=col>Rohypnol</th><th scope=col>State</th><th scope=col>morning_after_pill</th><th scope=col>roofie</th><th scope=col>pills_to_avoid_preg</th><th scope=col>how_much_is_morning_after_pill</th><th scope=col>been_raped</th><th scope=col>state_2</th></tr>\n",
              "\t<tr><th></th><th scope=col>&lt;chr&gt;</th><th scope=col>&lt;int&gt;</th><th scope=col>&lt;int&gt;</th><th scope=col>&lt;int&gt;</th><th scope=col>&lt;int&gt;</th><th scope=col>&lt;chr&gt;</th><th scope=col>&lt;int&gt;</th><th scope=col>&lt;int&gt;</th><th scope=col>&lt;int&gt;</th><th scope=col>&lt;int&gt;</th><th scope=col>&lt;int&gt;</th><th scope=col>&lt;chr&gt;</th></tr>\n",
              "</thead>\n",
              "<tbody>\n",
              "\t<tr><th scope=row>1</th><td>2022-02-23T12</td><td>40</td><td>4</td><td> 0</td><td>0</td><td>Michigan</td><td>NA</td><td>NA</td><td>NA</td><td>NA</td><td>NA</td><td>NA      </td></tr>\n",
              "\t<tr><th scope=row>2</th><td>2022-02-23T13</td><td>24</td><td>0</td><td>12</td><td>0</td><td>Michigan</td><td> 0</td><td> 0</td><td> 0</td><td> 0</td><td> 0</td><td>Michigan</td></tr>\n",
              "\t<tr><th scope=row>3</th><td>2022-02-23T14</td><td>32</td><td>8</td><td> 0</td><td>0</td><td>Michigan</td><td> 0</td><td> 0</td><td> 0</td><td> 0</td><td> 0</td><td>Michigan</td></tr>\n",
              "</tbody>\n",
              "</table>\n"
            ],
            "text/markdown": "\nA data.frame: 3 × 12\n\n| <!--/--> | Time &lt;chr&gt; | ketamine &lt;int&gt; | date_rape &lt;int&gt; | GHB &lt;int&gt; | Rohypnol &lt;int&gt; | State &lt;chr&gt; | morning_after_pill &lt;int&gt; | roofie &lt;int&gt; | pills_to_avoid_preg &lt;int&gt; | how_much_is_morning_after_pill &lt;int&gt; | been_raped &lt;int&gt; | state_2 &lt;chr&gt; |\n|---|---|---|---|---|---|---|---|---|---|---|---|---|\n| 1 | 2022-02-23T12 | 40 | 4 |  0 | 0 | Michigan | NA | NA | NA | NA | NA | NA       |\n| 2 | 2022-02-23T13 | 24 | 0 | 12 | 0 | Michigan |  0 |  0 |  0 |  0 |  0 | Michigan |\n| 3 | 2022-02-23T14 | 32 | 8 |  0 | 0 | Michigan |  0 |  0 |  0 |  0 |  0 | Michigan |\n\n",
            "text/latex": "A data.frame: 3 × 12\n\\begin{tabular}{r|llllllllllll}\n  & Time & ketamine & date\\_rape & GHB & Rohypnol & State & morning\\_after\\_pill & roofie & pills\\_to\\_avoid\\_preg & how\\_much\\_is\\_morning\\_after\\_pill & been\\_raped & state\\_2\\\\\n  & <chr> & <int> & <int> & <int> & <int> & <chr> & <int> & <int> & <int> & <int> & <int> & <chr>\\\\\n\\hline\n\t1 & 2022-02-23T12 & 40 & 4 &  0 & 0 & Michigan & NA & NA & NA & NA & NA & NA      \\\\\n\t2 & 2022-02-23T13 & 24 & 0 & 12 & 0 & Michigan &  0 &  0 &  0 &  0 &  0 & Michigan\\\\\n\t3 & 2022-02-23T14 & 32 & 8 &  0 & 0 & Michigan &  0 &  0 &  0 &  0 &  0 & Michigan\\\\\n\\end{tabular}\n",
            "text/plain": [
              "  Time          ketamine date_rape GHB Rohypnol State    morning_after_pill\n",
              "1 2022-02-23T12 40       4          0  0        Michigan NA                \n",
              "2 2022-02-23T13 24       0         12  0        Michigan  0                \n",
              "3 2022-02-23T14 32       8          0  0        Michigan  0                \n",
              "  roofie pills_to_avoid_preg how_much_is_morning_after_pill been_raped state_2 \n",
              "1 NA     NA                  NA                             NA         NA      \n",
              "2  0      0                   0                              0         Michigan\n",
              "3  0      0                   0                              0         Michigan"
            ]
          },
          "metadata": {}
        }
      ]
    },
    {
      "cell_type": "markdown",
      "source": [
        "## Indiana"
      ],
      "metadata": {
        "id": "9VllQ9xWoS5u"
      }
    },
    {
      "cell_type": "code",
      "source": [
        "'''\n",
        "Indiana <- read.csv(\"//content/Indiana.csv\", skip=0, header=TRUE)\n",
        "IN <- read.csv(\"/content/IN_2.csv\", skip=0, header=TRUE)\n",
        "IN_combo <- merge(Indiana ,IN, by=\"Time\", all = T)\n",
        "head(IN_combo)\n",
        "'''"
      ],
      "metadata": {
        "id": "Tp4O1tcJoPU6"
      },
      "execution_count": null,
      "outputs": []
    },
    {
      "cell_type": "code",
      "source": [
        "Full <- read.csv(\"//content/Indiana.csv\", skip=0, header=TRUE)\n",
        "Short <- read.csv(\"/content/IN_2.csv\", skip=0, header=TRUE)\n",
        "#Indiana <- read.csv(\"//content/Indiana.csv\", skip=0, header=TRUE)\n",
        "#IN <- read.csv(\"/content/IN_2.csv\", skip=0, header=TRUE)\n",
        "IN_combo <- merge(Full,Short, by=\"Time\", all = T)\n",
        "head(IN_combo)"
      ],
      "metadata": {
        "id": "Wg9CpcOOoPQ5"
      },
      "execution_count": null,
      "outputs": []
    },
    {
      "cell_type": "code",
      "source": [
        "colnames(IN_combo) <- c(\"Time\",\"ketamine\",\"date_rape\",\"GHB\",\"Rohypnol\",\"State\",\n",
        "                        \"morning_after_pill\",\"roofie\",\"pills_to_avoid_preg\",\n",
        "                        \"how_much_is_morning_after_pill\",\"been_raped\",\"state_2\")"
      ],
      "metadata": {
        "id": "drqRiNdk0Cdy"
      },
      "execution_count": null,
      "outputs": []
    },
    {
      "cell_type": "markdown",
      "source": [
        ""
      ],
      "metadata": {
        "id": "zqsBxlnTDaWv"
      }
    },
    {
      "cell_type": "code",
      "source": [
        "head(IN_combo,3)"
      ],
      "metadata": {
        "colab": {
          "base_uri": "https://localhost:8080/",
          "height": 316
        },
        "id": "lLLnvB0f0Igf",
        "outputId": "15f7e2ae-1dfe-4a8e-dafd-75409266507f"
      },
      "execution_count": null,
      "outputs": [
        {
          "output_type": "display_data",
          "data": {
            "text/html": [
              "<table class=\"dataframe\">\n",
              "<caption>A data.frame: 3 × 12</caption>\n",
              "<thead>\n",
              "\t<tr><th></th><th scope=col>Time</th><th scope=col>ketamine</th><th scope=col>date_rape</th><th scope=col>GHB</th><th scope=col>Rohypnol</th><th scope=col>State</th><th scope=col>morning_after_pill</th><th scope=col>roofie</th><th scope=col>pills_to_avoid_preg</th><th scope=col>how_much_is_morning_after_pill</th><th scope=col>been_raped</th><th scope=col>state_2</th></tr>\n",
              "\t<tr><th></th><th scope=col>&lt;chr&gt;</th><th scope=col>&lt;int&gt;</th><th scope=col>&lt;int&gt;</th><th scope=col>&lt;int&gt;</th><th scope=col>&lt;int&gt;</th><th scope=col>&lt;chr&gt;</th><th scope=col>&lt;int&gt;</th><th scope=col>&lt;int&gt;</th><th scope=col>&lt;int&gt;</th><th scope=col>&lt;int&gt;</th><th scope=col>&lt;int&gt;</th><th scope=col>&lt;chr&gt;</th></tr>\n",
              "</thead>\n",
              "<tbody>\n",
              "\t<tr><th scope=row>1</th><td>2022-02-23T12</td><td> 4</td><td>0</td><td>0</td><td>0</td><td>Indiana</td><td>NA</td><td>NA</td><td>NA</td><td>NA</td><td>NA</td><td>NA     </td></tr>\n",
              "\t<tr><th scope=row>2</th><td>2022-02-23T13</td><td>20</td><td>0</td><td>0</td><td>0</td><td>Indiana</td><td> 0</td><td> 0</td><td> 0</td><td> 0</td><td> 0</td><td>Indiana</td></tr>\n",
              "\t<tr><th scope=row>3</th><td>2022-02-23T14</td><td>32</td><td>8</td><td>0</td><td>0</td><td>Indiana</td><td> 7</td><td> 0</td><td> 0</td><td> 0</td><td> 0</td><td>Indiana</td></tr>\n",
              "</tbody>\n",
              "</table>\n"
            ],
            "text/markdown": "\nA data.frame: 3 × 12\n\n| <!--/--> | Time &lt;chr&gt; | ketamine &lt;int&gt; | date_rape &lt;int&gt; | GHB &lt;int&gt; | Rohypnol &lt;int&gt; | State &lt;chr&gt; | morning_after_pill &lt;int&gt; | roofie &lt;int&gt; | pills_to_avoid_preg &lt;int&gt; | how_much_is_morning_after_pill &lt;int&gt; | been_raped &lt;int&gt; | state_2 &lt;chr&gt; |\n|---|---|---|---|---|---|---|---|---|---|---|---|---|\n| 1 | 2022-02-23T12 |  4 | 0 | 0 | 0 | Indiana | NA | NA | NA | NA | NA | NA      |\n| 2 | 2022-02-23T13 | 20 | 0 | 0 | 0 | Indiana |  0 |  0 |  0 |  0 |  0 | Indiana |\n| 3 | 2022-02-23T14 | 32 | 8 | 0 | 0 | Indiana |  7 |  0 |  0 |  0 |  0 | Indiana |\n\n",
            "text/latex": "A data.frame: 3 × 12\n\\begin{tabular}{r|llllllllllll}\n  & Time & ketamine & date\\_rape & GHB & Rohypnol & State & morning\\_after\\_pill & roofie & pills\\_to\\_avoid\\_preg & how\\_much\\_is\\_morning\\_after\\_pill & been\\_raped & state\\_2\\\\\n  & <chr> & <int> & <int> & <int> & <int> & <chr> & <int> & <int> & <int> & <int> & <int> & <chr>\\\\\n\\hline\n\t1 & 2022-02-23T12 &  4 & 0 & 0 & 0 & Indiana & NA & NA & NA & NA & NA & NA     \\\\\n\t2 & 2022-02-23T13 & 20 & 0 & 0 & 0 & Indiana &  0 &  0 &  0 &  0 &  0 & Indiana\\\\\n\t3 & 2022-02-23T14 & 32 & 8 & 0 & 0 & Indiana &  7 &  0 &  0 &  0 &  0 & Indiana\\\\\n\\end{tabular}\n",
            "text/plain": [
              "  Time          ketamine date_rape GHB Rohypnol State   morning_after_pill\n",
              "1 2022-02-23T12  4       0         0   0        Indiana NA                \n",
              "2 2022-02-23T13 20       0         0   0        Indiana  0                \n",
              "3 2022-02-23T14 32       8         0   0        Indiana  7                \n",
              "  roofie pills_to_avoid_preg how_much_is_morning_after_pill been_raped state_2\n",
              "1 NA     NA                  NA                             NA         NA     \n",
              "2  0      0                   0                              0         Indiana\n",
              "3  0      0                   0                              0         Indiana"
            ]
          },
          "metadata": {}
        }
      ]
    },
    {
      "cell_type": "markdown",
      "source": [
        "## Kentucky"
      ],
      "metadata": {
        "id": "FmKWfovCpj50"
      }
    },
    {
      "cell_type": "code",
      "source": [
        "Full <- read.csv(\"/content/Kentucky.csv\", skip=0, header=TRUE)\n",
        "Short <- read.csv(\"/content/KY_2.csv\", skip=0, header=TRUE)\n",
        "#Indiana <- read.csv(\"//content/Indiana.csv\", skip=0, header=TRUE)\n",
        "#IN <- read.csv(\"/content/IN_2.csv\", skip=0, header=TRUE)\n",
        "KY_combo <- merge(Full,Short, by=\"Time\", all = T)\n",
        "head(KY_combo)"
      ],
      "metadata": {
        "id": "eV2TAPiLpikY"
      },
      "execution_count": null,
      "outputs": []
    },
    {
      "cell_type": "code",
      "source": [
        "colnames(KY_combo) <- c(\"Time\",\"ketamine\",\"date_rape\",\"GHB\",\"Rohypnol\",\"State\",\n",
        "                        \"morning_after_pill\",\"roofie\",\"pills_to_avoid_preg\",\n",
        "                        \"how_much_is_morning_after_pill\",\"been_raped\",\"state_2\")"
      ],
      "metadata": {
        "id": "oj0bjhVB0tEk"
      },
      "execution_count": null,
      "outputs": []
    },
    {
      "cell_type": "code",
      "source": [
        "head(KY_combo,3)"
      ],
      "metadata": {
        "colab": {
          "base_uri": "https://localhost:8080/",
          "height": 316
        },
        "id": "CUT-6xj10x0h",
        "outputId": "89831c89-9afe-41a9-99f5-75a971bfda22"
      },
      "execution_count": null,
      "outputs": [
        {
          "output_type": "display_data",
          "data": {
            "text/html": [
              "<table class=\"dataframe\">\n",
              "<caption>A data.frame: 3 × 12</caption>\n",
              "<thead>\n",
              "\t<tr><th></th><th scope=col>Time</th><th scope=col>ketamine</th><th scope=col>date_rape</th><th scope=col>GHB</th><th scope=col>Rohypnol</th><th scope=col>State</th><th scope=col>morning_after_pill</th><th scope=col>roofie</th><th scope=col>pills_to_avoid_preg</th><th scope=col>how_much_is_morning_after_pill</th><th scope=col>been_raped</th><th scope=col>state_2</th></tr>\n",
              "\t<tr><th></th><th scope=col>&lt;chr&gt;</th><th scope=col>&lt;int&gt;</th><th scope=col>&lt;int&gt;</th><th scope=col>&lt;int&gt;</th><th scope=col>&lt;int&gt;</th><th scope=col>&lt;chr&gt;</th><th scope=col>&lt;int&gt;</th><th scope=col>&lt;int&gt;</th><th scope=col>&lt;int&gt;</th><th scope=col>&lt;int&gt;</th><th scope=col>&lt;int&gt;</th><th scope=col>&lt;chr&gt;</th></tr>\n",
              "</thead>\n",
              "<tbody>\n",
              "\t<tr><th scope=row>1</th><td>2022-02-23T12</td><td>27</td><td>0</td><td>0</td><td>0</td><td>Kentucky</td><td>NA</td><td>NA</td><td>NA</td><td>NA</td><td>NA</td><td>NA      </td></tr>\n",
              "\t<tr><th scope=row>2</th><td>2022-02-23T13</td><td>18</td><td>0</td><td>0</td><td>0</td><td>Kentucky</td><td> 6</td><td> 0</td><td> 0</td><td> 0</td><td> 0</td><td>Kentucky</td></tr>\n",
              "\t<tr><th scope=row>3</th><td>2022-02-23T14</td><td> 9</td><td>4</td><td>0</td><td>0</td><td>Kentucky</td><td> 0</td><td> 0</td><td> 0</td><td> 0</td><td> 0</td><td>Kentucky</td></tr>\n",
              "</tbody>\n",
              "</table>\n"
            ],
            "text/markdown": "\nA data.frame: 3 × 12\n\n| <!--/--> | Time &lt;chr&gt; | ketamine &lt;int&gt; | date_rape &lt;int&gt; | GHB &lt;int&gt; | Rohypnol &lt;int&gt; | State &lt;chr&gt; | morning_after_pill &lt;int&gt; | roofie &lt;int&gt; | pills_to_avoid_preg &lt;int&gt; | how_much_is_morning_after_pill &lt;int&gt; | been_raped &lt;int&gt; | state_2 &lt;chr&gt; |\n|---|---|---|---|---|---|---|---|---|---|---|---|---|\n| 1 | 2022-02-23T12 | 27 | 0 | 0 | 0 | Kentucky | NA | NA | NA | NA | NA | NA       |\n| 2 | 2022-02-23T13 | 18 | 0 | 0 | 0 | Kentucky |  6 |  0 |  0 |  0 |  0 | Kentucky |\n| 3 | 2022-02-23T14 |  9 | 4 | 0 | 0 | Kentucky |  0 |  0 |  0 |  0 |  0 | Kentucky |\n\n",
            "text/latex": "A data.frame: 3 × 12\n\\begin{tabular}{r|llllllllllll}\n  & Time & ketamine & date\\_rape & GHB & Rohypnol & State & morning\\_after\\_pill & roofie & pills\\_to\\_avoid\\_preg & how\\_much\\_is\\_morning\\_after\\_pill & been\\_raped & state\\_2\\\\\n  & <chr> & <int> & <int> & <int> & <int> & <chr> & <int> & <int> & <int> & <int> & <int> & <chr>\\\\\n\\hline\n\t1 & 2022-02-23T12 & 27 & 0 & 0 & 0 & Kentucky & NA & NA & NA & NA & NA & NA      \\\\\n\t2 & 2022-02-23T13 & 18 & 0 & 0 & 0 & Kentucky &  6 &  0 &  0 &  0 &  0 & Kentucky\\\\\n\t3 & 2022-02-23T14 &  9 & 4 & 0 & 0 & Kentucky &  0 &  0 &  0 &  0 &  0 & Kentucky\\\\\n\\end{tabular}\n",
            "text/plain": [
              "  Time          ketamine date_rape GHB Rohypnol State    morning_after_pill\n",
              "1 2022-02-23T12 27       0         0   0        Kentucky NA                \n",
              "2 2022-02-23T13 18       0         0   0        Kentucky  6                \n",
              "3 2022-02-23T14  9       4         0   0        Kentucky  0                \n",
              "  roofie pills_to_avoid_preg how_much_is_morning_after_pill been_raped state_2 \n",
              "1 NA     NA                  NA                             NA         NA      \n",
              "2  0      0                   0                              0         Kentucky\n",
              "3  0      0                   0                              0         Kentucky"
            ]
          },
          "metadata": {}
        }
      ]
    },
    {
      "cell_type": "markdown",
      "source": [
        "##Tennasee"
      ],
      "metadata": {
        "id": "fU-In6vhp9Sz"
      }
    },
    {
      "cell_type": "code",
      "source": [
        "Full <- read.csv(\"//content/Tennasee.csv\", skip=0, header=TRUE)\n",
        "Short <- read.csv(\"/content/TN_2.csv\", skip=0, header=TRUE)\n",
        "TN_combo <- merge(Full,Short, by=\"Time\", all = T)\n",
        "head(TN_combo)"
      ],
      "metadata": {
        "id": "s-kJhrEtpigm"
      },
      "execution_count": null,
      "outputs": []
    },
    {
      "cell_type": "code",
      "source": [
        "colnames(TN_combo) <- c(\"Time\",\"ketamine\",\"date_rape\",\"GHB\",\"Rohypnol\",\"State\",\n",
        "                        \"morning_after_pill\",\"roofie\",\"pills_to_avoid_preg\",\n",
        "                        \"how_much_is_morning_after_pill\",\"been_raped\",\"state_2\")\n",
        "head(TN_combo)"
      ],
      "metadata": {
        "id": "_mH5Do7T1a32"
      },
      "execution_count": null,
      "outputs": []
    },
    {
      "cell_type": "code",
      "source": [
        ""
      ],
      "metadata": {
        "id": "atc6EhlD1azV"
      },
      "execution_count": null,
      "outputs": []
    },
    {
      "cell_type": "markdown",
      "source": [
        "## Mississippi"
      ],
      "metadata": {
        "id": "gwFyhMD7qSKK"
      }
    },
    {
      "cell_type": "code",
      "source": [
        "Full <- read.csv(\"/content/Mississippi.csv\", skip=0, header=TRUE)\n",
        "Short <- read.csv(\"/content/MS_2.csv\", skip=0, header=TRUE)\n",
        "MS_combo <- merge(Full,Short, by=\"Time\", all = T)\n",
        "head(MS_combo)"
      ],
      "metadata": {
        "id": "KuvPaWdZpic9"
      },
      "execution_count": null,
      "outputs": []
    },
    {
      "cell_type": "code",
      "source": [
        "colnames(MS_combo) <- c(\"Time\",\"ketamine\",\"date_rape\",\"GHB\",\"Rohypnol\",\"State\",\n",
        "                        \"morning_after_pill\",\"roofie\",\"pills_to_avoid_preg\",\n",
        "                        \"how_much_is_morning_after_pill\",\"been_raped\",\"state_2\")\n",
        "head(MS_combo,2)"
      ],
      "metadata": {
        "colab": {
          "base_uri": "https://localhost:8080/",
          "height": 250
        },
        "id": "YBIDPQjT1sF5",
        "outputId": "854726c6-4cc9-4fcc-f23f-c60c2bcf0ec0"
      },
      "execution_count": null,
      "outputs": [
        {
          "output_type": "display_data",
          "data": {
            "text/html": [
              "<table class=\"dataframe\">\n",
              "<caption>A data.frame: 2 × 12</caption>\n",
              "<thead>\n",
              "\t<tr><th></th><th scope=col>Time</th><th scope=col>ketamine</th><th scope=col>date_rape</th><th scope=col>GHB</th><th scope=col>Rohypnol</th><th scope=col>State</th><th scope=col>morning_after_pill</th><th scope=col>roofie</th><th scope=col>pills_to_avoid_preg</th><th scope=col>how_much_is_morning_after_pill</th><th scope=col>been_raped</th><th scope=col>state_2</th></tr>\n",
              "\t<tr><th></th><th scope=col>&lt;chr&gt;</th><th scope=col>&lt;int&gt;</th><th scope=col>&lt;int&gt;</th><th scope=col>&lt;int&gt;</th><th scope=col>&lt;int&gt;</th><th scope=col>&lt;chr&gt;</th><th scope=col>&lt;int&gt;</th><th scope=col>&lt;int&gt;</th><th scope=col>&lt;int&gt;</th><th scope=col>&lt;int&gt;</th><th scope=col>&lt;int&gt;</th><th scope=col>&lt;chr&gt;</th></tr>\n",
              "</thead>\n",
              "<tbody>\n",
              "\t<tr><th scope=row>1</th><td>2022-02-23T12</td><td>10</td><td>20</td><td>10</td><td>10</td><td>Mississippi</td><td>NA</td><td>NA</td><td>NA</td><td>NA</td><td>NA</td><td>NA         </td></tr>\n",
              "\t<tr><th scope=row>2</th><td>2022-02-23T13</td><td> 0</td><td> 0</td><td> 0</td><td> 0</td><td>Mississippi</td><td> 0</td><td> 0</td><td> 0</td><td> 0</td><td> 0</td><td>Mississippi</td></tr>\n",
              "</tbody>\n",
              "</table>\n"
            ],
            "text/markdown": "\nA data.frame: 2 × 12\n\n| <!--/--> | Time &lt;chr&gt; | ketamine &lt;int&gt; | date_rape &lt;int&gt; | GHB &lt;int&gt; | Rohypnol &lt;int&gt; | State &lt;chr&gt; | morning_after_pill &lt;int&gt; | roofie &lt;int&gt; | pills_to_avoid_preg &lt;int&gt; | how_much_is_morning_after_pill &lt;int&gt; | been_raped &lt;int&gt; | state_2 &lt;chr&gt; |\n|---|---|---|---|---|---|---|---|---|---|---|---|---|\n| 1 | 2022-02-23T12 | 10 | 20 | 10 | 10 | Mississippi | NA | NA | NA | NA | NA | NA          |\n| 2 | 2022-02-23T13 |  0 |  0 |  0 |  0 | Mississippi |  0 |  0 |  0 |  0 |  0 | Mississippi |\n\n",
            "text/latex": "A data.frame: 2 × 12\n\\begin{tabular}{r|llllllllllll}\n  & Time & ketamine & date\\_rape & GHB & Rohypnol & State & morning\\_after\\_pill & roofie & pills\\_to\\_avoid\\_preg & how\\_much\\_is\\_morning\\_after\\_pill & been\\_raped & state\\_2\\\\\n  & <chr> & <int> & <int> & <int> & <int> & <chr> & <int> & <int> & <int> & <int> & <int> & <chr>\\\\\n\\hline\n\t1 & 2022-02-23T12 & 10 & 20 & 10 & 10 & Mississippi & NA & NA & NA & NA & NA & NA         \\\\\n\t2 & 2022-02-23T13 &  0 &  0 &  0 &  0 & Mississippi &  0 &  0 &  0 &  0 &  0 & Mississippi\\\\\n\\end{tabular}\n",
            "text/plain": [
              "  Time          ketamine date_rape GHB Rohypnol State       morning_after_pill\n",
              "1 2022-02-23T12 10       20        10  10       Mississippi NA                \n",
              "2 2022-02-23T13  0        0         0   0       Mississippi  0                \n",
              "  roofie pills_to_avoid_preg how_much_is_morning_after_pill been_raped\n",
              "1 NA     NA                  NA                             NA        \n",
              "2  0      0                   0                              0        \n",
              "  state_2    \n",
              "1 NA         \n",
              "2 Mississippi"
            ]
          },
          "metadata": {}
        }
      ]
    },
    {
      "cell_type": "markdown",
      "source": [
        "## Alabama"
      ],
      "metadata": {
        "id": "R-bEXgjwqnET"
      }
    },
    {
      "cell_type": "code",
      "source": [
        "Full <- read.csv(\"/content/Alabama_data.csv\", skip=0, header=TRUE)\n",
        "Short <- read.csv(\"/content/AL_2.csv\", skip=0, header=TRUE)\n",
        "AL_combo <- merge(Full,Short, by=\"Time\", all = T)\n",
        "head(AL_combo)"
      ],
      "metadata": {
        "id": "541eq-9JrtdX"
      },
      "execution_count": null,
      "outputs": []
    },
    {
      "cell_type": "code",
      "source": [
        "colnames(AL_combo) <- c(\"Time\",\"ketamine\",\"date_rape\",\"GHB\",\"Rohypnol\",\"State\",\n",
        "                        \"morning_after_pill\",\"roofie\",\"pills_to_avoid_preg\",\n",
        "                        \"how_much_is_morning_after_pill\",\"been_raped\",\"state_2\")\n",
        "head(AL_combo,2)"
      ],
      "metadata": {
        "colab": {
          "base_uri": "https://localhost:8080/",
          "height": 250
        },
        "id": "ELlLeQfU1yEk",
        "outputId": "1915bb34-0a9b-4522-dfdb-7de81efb73ac"
      },
      "execution_count": null,
      "outputs": [
        {
          "output_type": "display_data",
          "data": {
            "text/html": [
              "<table class=\"dataframe\">\n",
              "<caption>A data.frame: 2 × 12</caption>\n",
              "<thead>\n",
              "\t<tr><th></th><th scope=col>Time</th><th scope=col>ketamine</th><th scope=col>date_rape</th><th scope=col>GHB</th><th scope=col>Rohypnol</th><th scope=col>State</th><th scope=col>morning_after_pill</th><th scope=col>roofie</th><th scope=col>pills_to_avoid_preg</th><th scope=col>how_much_is_morning_after_pill</th><th scope=col>been_raped</th><th scope=col>state_2</th></tr>\n",
              "\t<tr><th></th><th scope=col>&lt;chr&gt;</th><th scope=col>&lt;chr&gt;</th><th scope=col>&lt;chr&gt;</th><th scope=col>&lt;chr&gt;</th><th scope=col>&lt;chr&gt;</th><th scope=col>&lt;chr&gt;</th><th scope=col>&lt;int&gt;</th><th scope=col>&lt;int&gt;</th><th scope=col>&lt;int&gt;</th><th scope=col>&lt;int&gt;</th><th scope=col>&lt;int&gt;</th><th scope=col>&lt;chr&gt;</th></tr>\n",
              "</thead>\n",
              "<tbody>\n",
              "\t<tr><th scope=row>1</th><td>2022-02-23T11</td><td>45</td><td>6</td><td>0 </td><td>0</td><td>Alabama</td><td>NA</td><td>NA</td><td>NA</td><td>NA</td><td>NA</td><td>NA</td></tr>\n",
              "\t<tr><th scope=row>2</th><td>2022-02-23T11</td><td>39</td><td>3</td><td>10</td><td>0</td><td>Arizona</td><td>NA</td><td>NA</td><td>NA</td><td>NA</td><td>NA</td><td>NA</td></tr>\n",
              "</tbody>\n",
              "</table>\n"
            ],
            "text/markdown": "\nA data.frame: 2 × 12\n\n| <!--/--> | Time &lt;chr&gt; | ketamine &lt;chr&gt; | date_rape &lt;chr&gt; | GHB &lt;chr&gt; | Rohypnol &lt;chr&gt; | State &lt;chr&gt; | morning_after_pill &lt;int&gt; | roofie &lt;int&gt; | pills_to_avoid_preg &lt;int&gt; | how_much_is_morning_after_pill &lt;int&gt; | been_raped &lt;int&gt; | state_2 &lt;chr&gt; |\n|---|---|---|---|---|---|---|---|---|---|---|---|---|\n| 1 | 2022-02-23T11 | 45 | 6 | 0  | 0 | Alabama | NA | NA | NA | NA | NA | NA |\n| 2 | 2022-02-23T11 | 39 | 3 | 10 | 0 | Arizona | NA | NA | NA | NA | NA | NA |\n\n",
            "text/latex": "A data.frame: 2 × 12\n\\begin{tabular}{r|llllllllllll}\n  & Time & ketamine & date\\_rape & GHB & Rohypnol & State & morning\\_after\\_pill & roofie & pills\\_to\\_avoid\\_preg & how\\_much\\_is\\_morning\\_after\\_pill & been\\_raped & state\\_2\\\\\n  & <chr> & <chr> & <chr> & <chr> & <chr> & <chr> & <int> & <int> & <int> & <int> & <int> & <chr>\\\\\n\\hline\n\t1 & 2022-02-23T11 & 45 & 6 & 0  & 0 & Alabama & NA & NA & NA & NA & NA & NA\\\\\n\t2 & 2022-02-23T11 & 39 & 3 & 10 & 0 & Arizona & NA & NA & NA & NA & NA & NA\\\\\n\\end{tabular}\n",
            "text/plain": [
              "  Time          ketamine date_rape GHB Rohypnol State   morning_after_pill\n",
              "1 2022-02-23T11 45       6         0   0        Alabama NA                \n",
              "2 2022-02-23T11 39       3         10  0        Arizona NA                \n",
              "  roofie pills_to_avoid_preg how_much_is_morning_after_pill been_raped state_2\n",
              "1 NA     NA                  NA                             NA         NA     \n",
              "2 NA     NA                  NA                             NA         NA     "
            ]
          },
          "metadata": {}
        }
      ]
    },
    {
      "cell_type": "markdown",
      "source": [
        "## Florida"
      ],
      "metadata": {
        "id": "v7w7OP4oqqrI"
      }
    },
    {
      "cell_type": "code",
      "source": [
        "Full <- read.csv(\"/content/Florida_data.csv\", skip=0, header=TRUE)\n",
        "Short <- read.csv(\"/content/FL_2.csv\", skip=0, header=TRUE)\n",
        "FL_combo <- merge(Full,Short, by=\"Time\", all = T)\n",
        "head(FL_combo)"
      ],
      "metadata": {
        "id": "mxp3hY5Vrusb"
      },
      "execution_count": null,
      "outputs": []
    },
    {
      "cell_type": "code",
      "source": [
        "colnames(FL_combo) <- c(\"Time\",\"ketamine\",\"date_rape\",\"GHB\",\"Rohypnol\",\"State\",\n",
        "                        \"morning_after_pill\",\"roofie\",\"pills_to_avoid_preg\",\n",
        "                        \"how_much_is_morning_after_pill\",\"been_raped\",\"state_2\")\n",
        "head(FL_combo,2)"
      ],
      "metadata": {
        "colab": {
          "base_uri": "https://localhost:8080/",
          "height": 250
        },
        "id": "5sHLsSmc13WO",
        "outputId": "61128d79-9985-4de8-b246-c0ee400715fc"
      },
      "execution_count": null,
      "outputs": [
        {
          "output_type": "display_data",
          "data": {
            "text/html": [
              "<table class=\"dataframe\">\n",
              "<caption>A data.frame: 2 × 12</caption>\n",
              "<thead>\n",
              "\t<tr><th></th><th scope=col>Time</th><th scope=col>ketamine</th><th scope=col>date_rape</th><th scope=col>GHB</th><th scope=col>Rohypnol</th><th scope=col>State</th><th scope=col>morning_after_pill</th><th scope=col>roofie</th><th scope=col>pills_to_avoid_preg</th><th scope=col>how_much_is_morning_after_pill</th><th scope=col>been_raped</th><th scope=col>state_2</th></tr>\n",
              "\t<tr><th></th><th scope=col>&lt;chr&gt;</th><th scope=col>&lt;int&gt;</th><th scope=col>&lt;int&gt;</th><th scope=col>&lt;int&gt;</th><th scope=col>&lt;int&gt;</th><th scope=col>&lt;chr&gt;</th><th scope=col>&lt;int&gt;</th><th scope=col>&lt;int&gt;</th><th scope=col>&lt;int&gt;</th><th scope=col>&lt;int&gt;</th><th scope=col>&lt;int&gt;</th><th scope=col>&lt;chr&gt;</th></tr>\n",
              "</thead>\n",
              "<tbody>\n",
              "\t<tr><th scope=row>1</th><td>2022-02-23T12</td><td>28</td><td>2</td><td>2</td><td>1</td><td>Florida</td><td>NA</td><td>NA</td><td>NA</td><td>NA</td><td>NA</td><td>NA     </td></tr>\n",
              "\t<tr><th scope=row>2</th><td>2022-02-23T13</td><td>45</td><td>2</td><td>5</td><td>1</td><td>Florida</td><td> 5</td><td> 0</td><td> 0</td><td> 0</td><td> 0</td><td>Florida</td></tr>\n",
              "</tbody>\n",
              "</table>\n"
            ],
            "text/markdown": "\nA data.frame: 2 × 12\n\n| <!--/--> | Time &lt;chr&gt; | ketamine &lt;int&gt; | date_rape &lt;int&gt; | GHB &lt;int&gt; | Rohypnol &lt;int&gt; | State &lt;chr&gt; | morning_after_pill &lt;int&gt; | roofie &lt;int&gt; | pills_to_avoid_preg &lt;int&gt; | how_much_is_morning_after_pill &lt;int&gt; | been_raped &lt;int&gt; | state_2 &lt;chr&gt; |\n|---|---|---|---|---|---|---|---|---|---|---|---|---|\n| 1 | 2022-02-23T12 | 28 | 2 | 2 | 1 | Florida | NA | NA | NA | NA | NA | NA      |\n| 2 | 2022-02-23T13 | 45 | 2 | 5 | 1 | Florida |  5 |  0 |  0 |  0 |  0 | Florida |\n\n",
            "text/latex": "A data.frame: 2 × 12\n\\begin{tabular}{r|llllllllllll}\n  & Time & ketamine & date\\_rape & GHB & Rohypnol & State & morning\\_after\\_pill & roofie & pills\\_to\\_avoid\\_preg & how\\_much\\_is\\_morning\\_after\\_pill & been\\_raped & state\\_2\\\\\n  & <chr> & <int> & <int> & <int> & <int> & <chr> & <int> & <int> & <int> & <int> & <int> & <chr>\\\\\n\\hline\n\t1 & 2022-02-23T12 & 28 & 2 & 2 & 1 & Florida & NA & NA & NA & NA & NA & NA     \\\\\n\t2 & 2022-02-23T13 & 45 & 2 & 5 & 1 & Florida &  5 &  0 &  0 &  0 &  0 & Florida\\\\\n\\end{tabular}\n",
            "text/plain": [
              "  Time          ketamine date_rape GHB Rohypnol State   morning_after_pill\n",
              "1 2022-02-23T12 28       2         2   1        Florida NA                \n",
              "2 2022-02-23T13 45       2         5   1        Florida  5                \n",
              "  roofie pills_to_avoid_preg how_much_is_morning_after_pill been_raped state_2\n",
              "1 NA     NA                  NA                             NA         NA     \n",
              "2  0      0                   0                              0         Florida"
            ]
          },
          "metadata": {}
        }
      ]
    },
    {
      "cell_type": "markdown",
      "source": [
        "## Georgia"
      ],
      "metadata": {
        "id": "QfdCwQOAqqgt"
      }
    },
    {
      "cell_type": "code",
      "source": [
        "Full <- read.csv(\"/content/Georgia.csv\", skip=0, header=TRUE)\n",
        "Short <- read.csv(\"/content/GA_2.csv\", skip=0, header=TRUE)\n",
        "GA_combo <- merge(Full,Short, by=\"Time\", all = T)\n",
        "head(GA_combo)"
      ],
      "metadata": {
        "id": "PYg_W5L7rv0v"
      },
      "execution_count": null,
      "outputs": []
    },
    {
      "cell_type": "code",
      "source": [
        "colnames(GA_combo) <- c(\"Time\",\"ketamine\",\"date_rape\",\"GHB\",\"Rohypnol\",\"State\",\n",
        "                        \"morning_after_pill\",\"roofie\",\"pills_to_avoid_preg\",\n",
        "                        \"how_much_is_morning_after_pill\",\"been_raped\",\"state_2\")\n",
        "head(GA_combo,2)"
      ],
      "metadata": {
        "colab": {
          "base_uri": "https://localhost:8080/",
          "height": 250
        },
        "id": "CGabPM-S18Rl",
        "outputId": "cdd4ccc0-2341-4296-ea02-5640d2bf737d"
      },
      "execution_count": null,
      "outputs": [
        {
          "output_type": "display_data",
          "data": {
            "text/html": [
              "<table class=\"dataframe\">\n",
              "<caption>A data.frame: 2 × 12</caption>\n",
              "<thead>\n",
              "\t<tr><th></th><th scope=col>Time</th><th scope=col>ketamine</th><th scope=col>date_rape</th><th scope=col>GHB</th><th scope=col>Rohypnol</th><th scope=col>State</th><th scope=col>morning_after_pill</th><th scope=col>roofie</th><th scope=col>pills_to_avoid_preg</th><th scope=col>how_much_is_morning_after_pill</th><th scope=col>been_raped</th><th scope=col>state_2</th></tr>\n",
              "\t<tr><th></th><th scope=col>&lt;chr&gt;</th><th scope=col>&lt;int&gt;</th><th scope=col>&lt;int&gt;</th><th scope=col>&lt;int&gt;</th><th scope=col>&lt;int&gt;</th><th scope=col>&lt;chr&gt;</th><th scope=col>&lt;int&gt;</th><th scope=col>&lt;int&gt;</th><th scope=col>&lt;int&gt;</th><th scope=col>&lt;int&gt;</th><th scope=col>&lt;int&gt;</th><th scope=col>&lt;chr&gt;</th></tr>\n",
              "</thead>\n",
              "<tbody>\n",
              "\t<tr><th scope=row>1</th><td>2022-02-23T12</td><td>15</td><td>0</td><td>5</td><td>2</td><td>Georgia</td><td>NA</td><td>NA</td><td>NA</td><td>NA</td><td>NA</td><td>NA     </td></tr>\n",
              "\t<tr><th scope=row>2</th><td>2022-02-23T13</td><td>32</td><td>2</td><td>8</td><td>0</td><td>Georgia</td><td> 0</td><td> 0</td><td> 0</td><td> 0</td><td> 0</td><td>Georgia</td></tr>\n",
              "</tbody>\n",
              "</table>\n"
            ],
            "text/markdown": "\nA data.frame: 2 × 12\n\n| <!--/--> | Time &lt;chr&gt; | ketamine &lt;int&gt; | date_rape &lt;int&gt; | GHB &lt;int&gt; | Rohypnol &lt;int&gt; | State &lt;chr&gt; | morning_after_pill &lt;int&gt; | roofie &lt;int&gt; | pills_to_avoid_preg &lt;int&gt; | how_much_is_morning_after_pill &lt;int&gt; | been_raped &lt;int&gt; | state_2 &lt;chr&gt; |\n|---|---|---|---|---|---|---|---|---|---|---|---|---|\n| 1 | 2022-02-23T12 | 15 | 0 | 5 | 2 | Georgia | NA | NA | NA | NA | NA | NA      |\n| 2 | 2022-02-23T13 | 32 | 2 | 8 | 0 | Georgia |  0 |  0 |  0 |  0 |  0 | Georgia |\n\n",
            "text/latex": "A data.frame: 2 × 12\n\\begin{tabular}{r|llllllllllll}\n  & Time & ketamine & date\\_rape & GHB & Rohypnol & State & morning\\_after\\_pill & roofie & pills\\_to\\_avoid\\_preg & how\\_much\\_is\\_morning\\_after\\_pill & been\\_raped & state\\_2\\\\\n  & <chr> & <int> & <int> & <int> & <int> & <chr> & <int> & <int> & <int> & <int> & <int> & <chr>\\\\\n\\hline\n\t1 & 2022-02-23T12 & 15 & 0 & 5 & 2 & Georgia & NA & NA & NA & NA & NA & NA     \\\\\n\t2 & 2022-02-23T13 & 32 & 2 & 8 & 0 & Georgia &  0 &  0 &  0 &  0 &  0 & Georgia\\\\\n\\end{tabular}\n",
            "text/plain": [
              "  Time          ketamine date_rape GHB Rohypnol State   morning_after_pill\n",
              "1 2022-02-23T12 15       0         5   2        Georgia NA                \n",
              "2 2022-02-23T13 32       2         8   0        Georgia  0                \n",
              "  roofie pills_to_avoid_preg how_much_is_morning_after_pill been_raped state_2\n",
              "1 NA     NA                  NA                             NA         NA     \n",
              "2  0      0                   0                              0         Georgia"
            ]
          },
          "metadata": {}
        }
      ]
    },
    {
      "cell_type": "markdown",
      "source": [
        "## South Catolina"
      ],
      "metadata": {
        "id": "YcCk0iHCqqVr"
      }
    },
    {
      "cell_type": "code",
      "source": [
        "Full <- read.csv(\"/content/SouthCarolina.csv\", skip=0, header=TRUE)\n",
        "Short <- read.csv(\"/content/SC_2.csv\", skip=0, header=TRUE)\n",
        "SC_combo <- merge(Full,Short, by=\"Time\", all = T)\n",
        "head(SC_combo)"
      ],
      "metadata": {
        "id": "K6Z0qEqvryiH"
      },
      "execution_count": null,
      "outputs": []
    },
    {
      "cell_type": "code",
      "source": [
        "colnames(SC_combo) <- c(\"Time\",\"ketamine\",\"date_rape\",\"GHB\",\"Rohypnol\",\"State\",\n",
        "                        \"morning_after_pill\",\"roofie\",\"pills_to_avoid_preg\",\n",
        "                        \"how_much_is_morning_after_pill\",\"been_raped\",\"state_2\")\n",
        "head(SC_combo,2)"
      ],
      "metadata": {
        "colab": {
          "base_uri": "https://localhost:8080/",
          "height": 250
        },
        "id": "3kIG2Dtq2BOk",
        "outputId": "4d4e8549-d5fb-4c0e-ca6f-3f55c060f51c"
      },
      "execution_count": null,
      "outputs": [
        {
          "output_type": "display_data",
          "data": {
            "text/html": [
              "<table class=\"dataframe\">\n",
              "<caption>A data.frame: 2 × 12</caption>\n",
              "<thead>\n",
              "\t<tr><th></th><th scope=col>Time</th><th scope=col>ketamine</th><th scope=col>date_rape</th><th scope=col>GHB</th><th scope=col>Rohypnol</th><th scope=col>State</th><th scope=col>morning_after_pill</th><th scope=col>roofie</th><th scope=col>pills_to_avoid_preg</th><th scope=col>how_much_is_morning_after_pill</th><th scope=col>been_raped</th><th scope=col>state_2</th></tr>\n",
              "\t<tr><th></th><th scope=col>&lt;chr&gt;</th><th scope=col>&lt;int&gt;</th><th scope=col>&lt;int&gt;</th><th scope=col>&lt;int&gt;</th><th scope=col>&lt;int&gt;</th><th scope=col>&lt;chr&gt;</th><th scope=col>&lt;int&gt;</th><th scope=col>&lt;int&gt;</th><th scope=col>&lt;int&gt;</th><th scope=col>&lt;int&gt;</th><th scope=col>&lt;int&gt;</th><th scope=col>&lt;chr&gt;</th></tr>\n",
              "</thead>\n",
              "<tbody>\n",
              "\t<tr><th scope=row>1</th><td>2022-02-23T12</td><td>25</td><td>0</td><td> 6</td><td>0</td><td>South Carolina</td><td>NA</td><td>NA</td><td>NA</td><td>NA</td><td>NA</td><td>NA            </td></tr>\n",
              "\t<tr><th scope=row>2</th><td>2022-02-23T13</td><td>31</td><td>6</td><td>12</td><td>0</td><td>South Carolina</td><td> 0</td><td> 0</td><td> 0</td><td> 0</td><td> 0</td><td>South Carolina</td></tr>\n",
              "</tbody>\n",
              "</table>\n"
            ],
            "text/markdown": "\nA data.frame: 2 × 12\n\n| <!--/--> | Time &lt;chr&gt; | ketamine &lt;int&gt; | date_rape &lt;int&gt; | GHB &lt;int&gt; | Rohypnol &lt;int&gt; | State &lt;chr&gt; | morning_after_pill &lt;int&gt; | roofie &lt;int&gt; | pills_to_avoid_preg &lt;int&gt; | how_much_is_morning_after_pill &lt;int&gt; | been_raped &lt;int&gt; | state_2 &lt;chr&gt; |\n|---|---|---|---|---|---|---|---|---|---|---|---|---|\n| 1 | 2022-02-23T12 | 25 | 0 |  6 | 0 | South Carolina | NA | NA | NA | NA | NA | NA             |\n| 2 | 2022-02-23T13 | 31 | 6 | 12 | 0 | South Carolina |  0 |  0 |  0 |  0 |  0 | South Carolina |\n\n",
            "text/latex": "A data.frame: 2 × 12\n\\begin{tabular}{r|llllllllllll}\n  & Time & ketamine & date\\_rape & GHB & Rohypnol & State & morning\\_after\\_pill & roofie & pills\\_to\\_avoid\\_preg & how\\_much\\_is\\_morning\\_after\\_pill & been\\_raped & state\\_2\\\\\n  & <chr> & <int> & <int> & <int> & <int> & <chr> & <int> & <int> & <int> & <int> & <int> & <chr>\\\\\n\\hline\n\t1 & 2022-02-23T12 & 25 & 0 &  6 & 0 & South Carolina & NA & NA & NA & NA & NA & NA            \\\\\n\t2 & 2022-02-23T13 & 31 & 6 & 12 & 0 & South Carolina &  0 &  0 &  0 &  0 &  0 & South Carolina\\\\\n\\end{tabular}\n",
            "text/plain": [
              "  Time          ketamine date_rape GHB Rohypnol State         \n",
              "1 2022-02-23T12 25       0          6  0        South Carolina\n",
              "2 2022-02-23T13 31       6         12  0        South Carolina\n",
              "  morning_after_pill roofie pills_to_avoid_preg how_much_is_morning_after_pill\n",
              "1 NA                 NA     NA                  NA                            \n",
              "2  0                  0      0                   0                            \n",
              "  been_raped state_2       \n",
              "1 NA         NA            \n",
              "2  0         South Carolina"
            ]
          },
          "metadata": {}
        }
      ]
    },
    {
      "cell_type": "markdown",
      "source": [
        "## North Carolina"
      ],
      "metadata": {
        "id": "l89qeRBlqpjx"
      }
    },
    {
      "cell_type": "code",
      "source": [
        "Full <- read.csv(\"/content/NorthCarolina.csv\", skip=0, header=TRUE)\n",
        "Short <- read.csv(\"/content/NC_2.csv\", skip=0, header=TRUE)\n",
        "NC_combo <- merge(Full,Short, by=\"Time\", all = T)\n",
        "head(NC_combo)"
      ],
      "metadata": {
        "id": "gvsNqHL7rztL"
      },
      "execution_count": null,
      "outputs": []
    },
    {
      "cell_type": "code",
      "source": [
        "colnames(NC_combo) <- c(\"Time\",\"ketamine\",\"date_rape\",\"GHB\",\"Rohypnol\",\"State\",\n",
        "                        \"morning_after_pill\",\"roofie\",\"pills_to_avoid_preg\",\n",
        "                        \"how_much_is_morning_after_pill\",\"been_raped\",\"state_2\")\n",
        "head(NC_combo,2)"
      ],
      "metadata": {
        "colab": {
          "base_uri": "https://localhost:8080/",
          "height": 250
        },
        "id": "5Timca_x2Fcc",
        "outputId": "2a3f7461-6ca1-41ce-e8f5-d2faa507cdfa"
      },
      "execution_count": null,
      "outputs": [
        {
          "output_type": "display_data",
          "data": {
            "text/html": [
              "<table class=\"dataframe\">\n",
              "<caption>A data.frame: 2 × 12</caption>\n",
              "<thead>\n",
              "\t<tr><th></th><th scope=col>Time</th><th scope=col>ketamine</th><th scope=col>date_rape</th><th scope=col>GHB</th><th scope=col>Rohypnol</th><th scope=col>State</th><th scope=col>morning_after_pill</th><th scope=col>roofie</th><th scope=col>pills_to_avoid_preg</th><th scope=col>how_much_is_morning_after_pill</th><th scope=col>been_raped</th><th scope=col>state_2</th></tr>\n",
              "\t<tr><th></th><th scope=col>&lt;chr&gt;</th><th scope=col>&lt;int&gt;</th><th scope=col>&lt;int&gt;</th><th scope=col>&lt;int&gt;</th><th scope=col>&lt;int&gt;</th><th scope=col>&lt;chr&gt;</th><th scope=col>&lt;int&gt;</th><th scope=col>&lt;int&gt;</th><th scope=col>&lt;int&gt;</th><th scope=col>&lt;int&gt;</th><th scope=col>&lt;int&gt;</th><th scope=col>&lt;chr&gt;</th></tr>\n",
              "</thead>\n",
              "<tbody>\n",
              "\t<tr><th scope=row>1</th><td>2022-02-23T12</td><td>22</td><td>0</td><td>0</td><td>0</td><td>North Carolina</td><td>NA</td><td>NA</td><td>NA</td><td>NA</td><td>NA</td><td>NA            </td></tr>\n",
              "\t<tr><th scope=row>2</th><td>2022-02-23T13</td><td>27</td><td>2</td><td>9</td><td>2</td><td>North Carolina</td><td>17</td><td> 8</td><td> 0</td><td> 0</td><td> 0</td><td>North Carolina</td></tr>\n",
              "</tbody>\n",
              "</table>\n"
            ],
            "text/markdown": "\nA data.frame: 2 × 12\n\n| <!--/--> | Time &lt;chr&gt; | ketamine &lt;int&gt; | date_rape &lt;int&gt; | GHB &lt;int&gt; | Rohypnol &lt;int&gt; | State &lt;chr&gt; | morning_after_pill &lt;int&gt; | roofie &lt;int&gt; | pills_to_avoid_preg &lt;int&gt; | how_much_is_morning_after_pill &lt;int&gt; | been_raped &lt;int&gt; | state_2 &lt;chr&gt; |\n|---|---|---|---|---|---|---|---|---|---|---|---|---|\n| 1 | 2022-02-23T12 | 22 | 0 | 0 | 0 | North Carolina | NA | NA | NA | NA | NA | NA             |\n| 2 | 2022-02-23T13 | 27 | 2 | 9 | 2 | North Carolina | 17 |  8 |  0 |  0 |  0 | North Carolina |\n\n",
            "text/latex": "A data.frame: 2 × 12\n\\begin{tabular}{r|llllllllllll}\n  & Time & ketamine & date\\_rape & GHB & Rohypnol & State & morning\\_after\\_pill & roofie & pills\\_to\\_avoid\\_preg & how\\_much\\_is\\_morning\\_after\\_pill & been\\_raped & state\\_2\\\\\n  & <chr> & <int> & <int> & <int> & <int> & <chr> & <int> & <int> & <int> & <int> & <int> & <chr>\\\\\n\\hline\n\t1 & 2022-02-23T12 & 22 & 0 & 0 & 0 & North Carolina & NA & NA & NA & NA & NA & NA            \\\\\n\t2 & 2022-02-23T13 & 27 & 2 & 9 & 2 & North Carolina & 17 &  8 &  0 &  0 &  0 & North Carolina\\\\\n\\end{tabular}\n",
            "text/plain": [
              "  Time          ketamine date_rape GHB Rohypnol State         \n",
              "1 2022-02-23T12 22       0         0   0        North Carolina\n",
              "2 2022-02-23T13 27       2         9   2        North Carolina\n",
              "  morning_after_pill roofie pills_to_avoid_preg how_much_is_morning_after_pill\n",
              "1 NA                 NA     NA                  NA                            \n",
              "2 17                  8      0                   0                            \n",
              "  been_raped state_2       \n",
              "1 NA         NA            \n",
              "2  0         North Carolina"
            ]
          },
          "metadata": {}
        }
      ]
    },
    {
      "cell_type": "markdown",
      "source": [
        "## West Virginia"
      ],
      "metadata": {
        "id": "r8eQVj2vr0-U"
      }
    },
    {
      "cell_type": "code",
      "source": [
        "Full <- read.csv(\"/content/WestVirginioa.csv\", skip=0, header=TRUE)\n",
        "Short <- read.csv(\"/content/Ark_2.csv\", skip=0, header=TRUE)\n",
        "WV_combo <- merge(Full,Short, by=\"Time\", all = T)\n",
        "head(WV_combo)"
      ],
      "metadata": {
        "id": "preL_TMKoPNH"
      },
      "execution_count": null,
      "outputs": []
    },
    {
      "cell_type": "code",
      "source": [
        "colnames(WV_combo) <- c(\"Time\",\"ketamine\",\"date_rape\",\"GHB\",\"Rohypnol\",\"State\",\n",
        "                        \"morning_after_pill\",\"roofie\",\"pills_to_avoid_preg\",\n",
        "                        \"how_much_is_morning_after_pill\",\"been_raped\",\"state_2\")\n",
        "head(WV_combo,2)"
      ],
      "metadata": {
        "id": "srQSFIt265EX"
      },
      "execution_count": null,
      "outputs": []
    },
    {
      "cell_type": "markdown",
      "source": [
        "## Delaware"
      ],
      "metadata": {
        "id": "Uc6JSBO6rARo"
      }
    },
    {
      "cell_type": "code",
      "source": [
        "Full <- read.csv(\"/content/Delaware.csv\", skip=0, header=TRUE)\n",
        "Short <- read.csv(\"/content/DE_2.csv\", skip=0, header=TRUE)\n",
        "DE_combo <- merge(Full,Short, by=\"Time\", all = T)\n",
        "head(DE_combo)"
      ],
      "metadata": {
        "id": "ykwmCBWAr5WR"
      },
      "execution_count": null,
      "outputs": []
    },
    {
      "cell_type": "code",
      "source": [
        "colnames(DE_combo) <- c(\"Time\",\"ketamine\",\"date_rape\",\"GHB\",\"Rohypnol\",\"State\",\n",
        "                        \"morning_after_pill\",\"roofie\",\"pills_to_avoid_preg\",\n",
        "                        \"how_much_is_morning_after_pill\",\"been_raped\",\"state_2\")\n",
        "head(DE_combo,2)"
      ],
      "metadata": {
        "colab": {
          "base_uri": "https://localhost:8080/",
          "height": 250
        },
        "id": "hAFYU_4L2n7N",
        "outputId": "499fba09-ed38-4c04-ff6a-71de36d05a3c"
      },
      "execution_count": null,
      "outputs": [
        {
          "output_type": "display_data",
          "data": {
            "text/html": [
              "<table class=\"dataframe\">\n",
              "<caption>A data.frame: 2 × 12</caption>\n",
              "<thead>\n",
              "\t<tr><th></th><th scope=col>Time</th><th scope=col>ketamine</th><th scope=col>date_rape</th><th scope=col>GHB</th><th scope=col>Rohypnol</th><th scope=col>State</th><th scope=col>morning_after_pill</th><th scope=col>roofie</th><th scope=col>pills_to_avoid_preg</th><th scope=col>how_much_is_morning_after_pill</th><th scope=col>been_raped</th><th scope=col>state_2</th></tr>\n",
              "\t<tr><th></th><th scope=col>&lt;chr&gt;</th><th scope=col>&lt;int&gt;</th><th scope=col>&lt;int&gt;</th><th scope=col>&lt;int&gt;</th><th scope=col>&lt;int&gt;</th><th scope=col>&lt;chr&gt;</th><th scope=col>&lt;int&gt;</th><th scope=col>&lt;int&gt;</th><th scope=col>&lt;int&gt;</th><th scope=col>&lt;int&gt;</th><th scope=col>&lt;int&gt;</th><th scope=col>&lt;chr&gt;</th></tr>\n",
              "</thead>\n",
              "<tbody>\n",
              "\t<tr><th scope=row>1</th><td>2022-02-23T11</td><td> 0</td><td>0</td><td>0</td><td>0</td><td>Delaware</td><td>NA</td><td>NA</td><td>NA</td><td>NA</td><td>NA</td><td>NA</td></tr>\n",
              "\t<tr><th scope=row>2</th><td>2022-02-23T12</td><td>13</td><td>0</td><td>0</td><td>0</td><td>Delaware</td><td>NA</td><td>NA</td><td>NA</td><td>NA</td><td>NA</td><td>NA</td></tr>\n",
              "</tbody>\n",
              "</table>\n"
            ],
            "text/markdown": "\nA data.frame: 2 × 12\n\n| <!--/--> | Time &lt;chr&gt; | ketamine &lt;int&gt; | date_rape &lt;int&gt; | GHB &lt;int&gt; | Rohypnol &lt;int&gt; | State &lt;chr&gt; | morning_after_pill &lt;int&gt; | roofie &lt;int&gt; | pills_to_avoid_preg &lt;int&gt; | how_much_is_morning_after_pill &lt;int&gt; | been_raped &lt;int&gt; | state_2 &lt;chr&gt; |\n|---|---|---|---|---|---|---|---|---|---|---|---|---|\n| 1 | 2022-02-23T11 |  0 | 0 | 0 | 0 | Delaware | NA | NA | NA | NA | NA | NA |\n| 2 | 2022-02-23T12 | 13 | 0 | 0 | 0 | Delaware | NA | NA | NA | NA | NA | NA |\n\n",
            "text/latex": "A data.frame: 2 × 12\n\\begin{tabular}{r|llllllllllll}\n  & Time & ketamine & date\\_rape & GHB & Rohypnol & State & morning\\_after\\_pill & roofie & pills\\_to\\_avoid\\_preg & how\\_much\\_is\\_morning\\_after\\_pill & been\\_raped & state\\_2\\\\\n  & <chr> & <int> & <int> & <int> & <int> & <chr> & <int> & <int> & <int> & <int> & <int> & <chr>\\\\\n\\hline\n\t1 & 2022-02-23T11 &  0 & 0 & 0 & 0 & Delaware & NA & NA & NA & NA & NA & NA\\\\\n\t2 & 2022-02-23T12 & 13 & 0 & 0 & 0 & Delaware & NA & NA & NA & NA & NA & NA\\\\\n\\end{tabular}\n",
            "text/plain": [
              "  Time          ketamine date_rape GHB Rohypnol State    morning_after_pill\n",
              "1 2022-02-23T11  0       0         0   0        Delaware NA                \n",
              "2 2022-02-23T12 13       0         0   0        Delaware NA                \n",
              "  roofie pills_to_avoid_preg how_much_is_morning_after_pill been_raped state_2\n",
              "1 NA     NA                  NA                             NA         NA     \n",
              "2 NA     NA                  NA                             NA         NA     "
            ]
          },
          "metadata": {}
        }
      ]
    },
    {
      "cell_type": "markdown",
      "source": [
        "## New Jersey"
      ],
      "metadata": {
        "id": "m_RnRKGcrANe"
      }
    },
    {
      "cell_type": "code",
      "source": [
        "Full <- read.csv(\"/content/NewJersey.csv\", skip=0, header=TRUE)\n",
        "Short <- read.csv(\"/content/NJ_2.csv\", skip=0, header=TRUE)\n",
        "NJ_combo <- merge(Full,Short, by=\"Time\", all = T)\n",
        "head(NJ_combo)"
      ],
      "metadata": {
        "id": "SoS4cxKnr6eu"
      },
      "execution_count": null,
      "outputs": []
    },
    {
      "cell_type": "code",
      "source": [
        "colnames(NJ_combo) <- c(\"Time\",\"ketamine\",\"date_rape\",\"GHB\",\"Rohypnol\",\"State\",\n",
        "                        \"morning_after_pill\",\"roofie\",\"pills_to_avoid_preg\",\n",
        "                        \"how_much_is_morning_after_pill\",\"been_raped\",\"state_2\")\n",
        "head(NJ_combo,2)"
      ],
      "metadata": {
        "colab": {
          "base_uri": "https://localhost:8080/",
          "height": 250
        },
        "id": "msrN6W0b2ueG",
        "outputId": "be871194-f873-46c5-d31f-5a50e86e6517"
      },
      "execution_count": null,
      "outputs": [
        {
          "output_type": "display_data",
          "data": {
            "text/html": [
              "<table class=\"dataframe\">\n",
              "<caption>A data.frame: 2 × 12</caption>\n",
              "<thead>\n",
              "\t<tr><th></th><th scope=col>Time</th><th scope=col>ketamine</th><th scope=col>date_rape</th><th scope=col>GHB</th><th scope=col>Rohypnol</th><th scope=col>State</th><th scope=col>morning_after_pill</th><th scope=col>roofie</th><th scope=col>pills_to_avoid_preg</th><th scope=col>how_much_is_morning_after_pill</th><th scope=col>been_raped</th><th scope=col>state_2</th></tr>\n",
              "\t<tr><th></th><th scope=col>&lt;chr&gt;</th><th scope=col>&lt;int&gt;</th><th scope=col>&lt;int&gt;</th><th scope=col>&lt;int&gt;</th><th scope=col>&lt;int&gt;</th><th scope=col>&lt;chr&gt;</th><th scope=col>&lt;int&gt;</th><th scope=col>&lt;int&gt;</th><th scope=col>&lt;int&gt;</th><th scope=col>&lt;int&gt;</th><th scope=col>&lt;int&gt;</th><th scope=col>&lt;chr&gt;</th></tr>\n",
              "</thead>\n",
              "<tbody>\n",
              "\t<tr><th scope=row>1</th><td>2022-02-23T12</td><td>25</td><td>3</td><td>0</td><td>0</td><td>New Jersey</td><td>NA</td><td>NA</td><td>NA</td><td>NA</td><td>NA</td><td>NA        </td></tr>\n",
              "\t<tr><th scope=row>2</th><td>2022-02-23T13</td><td>25</td><td>3</td><td>3</td><td>0</td><td>New Jersey</td><td> 0</td><td> 7</td><td> 0</td><td> 0</td><td> 0</td><td>New Jersey</td></tr>\n",
              "</tbody>\n",
              "</table>\n"
            ],
            "text/markdown": "\nA data.frame: 2 × 12\n\n| <!--/--> | Time &lt;chr&gt; | ketamine &lt;int&gt; | date_rape &lt;int&gt; | GHB &lt;int&gt; | Rohypnol &lt;int&gt; | State &lt;chr&gt; | morning_after_pill &lt;int&gt; | roofie &lt;int&gt; | pills_to_avoid_preg &lt;int&gt; | how_much_is_morning_after_pill &lt;int&gt; | been_raped &lt;int&gt; | state_2 &lt;chr&gt; |\n|---|---|---|---|---|---|---|---|---|---|---|---|---|\n| 1 | 2022-02-23T12 | 25 | 3 | 0 | 0 | New Jersey | NA | NA | NA | NA | NA | NA         |\n| 2 | 2022-02-23T13 | 25 | 3 | 3 | 0 | New Jersey |  0 |  7 |  0 |  0 |  0 | New Jersey |\n\n",
            "text/latex": "A data.frame: 2 × 12\n\\begin{tabular}{r|llllllllllll}\n  & Time & ketamine & date\\_rape & GHB & Rohypnol & State & morning\\_after\\_pill & roofie & pills\\_to\\_avoid\\_preg & how\\_much\\_is\\_morning\\_after\\_pill & been\\_raped & state\\_2\\\\\n  & <chr> & <int> & <int> & <int> & <int> & <chr> & <int> & <int> & <int> & <int> & <int> & <chr>\\\\\n\\hline\n\t1 & 2022-02-23T12 & 25 & 3 & 0 & 0 & New Jersey & NA & NA & NA & NA & NA & NA        \\\\\n\t2 & 2022-02-23T13 & 25 & 3 & 3 & 0 & New Jersey &  0 &  7 &  0 &  0 &  0 & New Jersey\\\\\n\\end{tabular}\n",
            "text/plain": [
              "  Time          ketamine date_rape GHB Rohypnol State      morning_after_pill\n",
              "1 2022-02-23T12 25       3         0   0        New Jersey NA                \n",
              "2 2022-02-23T13 25       3         3   0        New Jersey  0                \n",
              "  roofie pills_to_avoid_preg how_much_is_morning_after_pill been_raped\n",
              "1 NA     NA                  NA                             NA        \n",
              "2  7      0                   0                              0        \n",
              "  state_2   \n",
              "1 NA        \n",
              "2 New Jersey"
            ]
          },
          "metadata": {}
        }
      ]
    },
    {
      "cell_type": "markdown",
      "source": [
        "## Pennsylvania"
      ],
      "metadata": {
        "id": "8V-Dcip8rAJJ"
      }
    },
    {
      "cell_type": "code",
      "source": [
        "Full <- read.csv(\"/content/Pennsylvania.csv\", skip=0, header=TRUE)\n",
        "Short <- read.csv(\"/content/PA_2.csv\", skip=0, header=TRUE)\n",
        "PA_combo <- merge(Full,Short, by=\"Time\", all = T)\n",
        "head(PA_combo)"
      ],
      "metadata": {
        "id": "nIxyYm1hr7ma"
      },
      "execution_count": null,
      "outputs": []
    },
    {
      "cell_type": "code",
      "source": [
        "colnames(PA_combo) <- c(\"Time\",\"ketamine\",\"date_rape\",\"GHB\",\"Rohypnol\",\"State\",\n",
        "                        \"morning_after_pill\",\"roofie\",\"pills_to_avoid_preg\",\n",
        "                        \"how_much_is_morning_after_pill\",\"been_raped\",\"state_2\")\n",
        "head(PA_combo,2)"
      ],
      "metadata": {
        "colab": {
          "base_uri": "https://localhost:8080/",
          "height": 250
        },
        "id": "Uw7nun9E2zC8",
        "outputId": "d4194a28-7dd0-42cb-da22-93c2515b3a6b"
      },
      "execution_count": null,
      "outputs": [
        {
          "output_type": "display_data",
          "data": {
            "text/html": [
              "<table class=\"dataframe\">\n",
              "<caption>A data.frame: 2 × 12</caption>\n",
              "<thead>\n",
              "\t<tr><th></th><th scope=col>Time</th><th scope=col>ketamine</th><th scope=col>date_rape</th><th scope=col>GHB</th><th scope=col>Rohypnol</th><th scope=col>State</th><th scope=col>morning_after_pill</th><th scope=col>roofie</th><th scope=col>pills_to_avoid_preg</th><th scope=col>how_much_is_morning_after_pill</th><th scope=col>been_raped</th><th scope=col>state_2</th></tr>\n",
              "\t<tr><th></th><th scope=col>&lt;chr&gt;</th><th scope=col>&lt;int&gt;</th><th scope=col>&lt;int&gt;</th><th scope=col>&lt;int&gt;</th><th scope=col>&lt;int&gt;</th><th scope=col>&lt;chr&gt;</th><th scope=col>&lt;int&gt;</th><th scope=col>&lt;int&gt;</th><th scope=col>&lt;int&gt;</th><th scope=col>&lt;int&gt;</th><th scope=col>&lt;int&gt;</th><th scope=col>&lt;chr&gt;</th></tr>\n",
              "</thead>\n",
              "<tbody>\n",
              "\t<tr><th scope=row>1</th><td>2022-02-23T12</td><td>19</td><td>0</td><td>6</td><td>0</td><td>Pennsylania</td><td>NA</td><td>NA</td><td>NA</td><td>NA</td><td>NA</td><td>NA          </td></tr>\n",
              "\t<tr><th scope=row>2</th><td>2022-02-23T13</td><td>46</td><td>0</td><td>3</td><td>3</td><td>Pennsylania</td><td> 7</td><td> 7</td><td> 0</td><td> 0</td><td> 0</td><td>Pennsylvania</td></tr>\n",
              "</tbody>\n",
              "</table>\n"
            ],
            "text/markdown": "\nA data.frame: 2 × 12\n\n| <!--/--> | Time &lt;chr&gt; | ketamine &lt;int&gt; | date_rape &lt;int&gt; | GHB &lt;int&gt; | Rohypnol &lt;int&gt; | State &lt;chr&gt; | morning_after_pill &lt;int&gt; | roofie &lt;int&gt; | pills_to_avoid_preg &lt;int&gt; | how_much_is_morning_after_pill &lt;int&gt; | been_raped &lt;int&gt; | state_2 &lt;chr&gt; |\n|---|---|---|---|---|---|---|---|---|---|---|---|---|\n| 1 | 2022-02-23T12 | 19 | 0 | 6 | 0 | Pennsylania | NA | NA | NA | NA | NA | NA           |\n| 2 | 2022-02-23T13 | 46 | 0 | 3 | 3 | Pennsylania |  7 |  7 |  0 |  0 |  0 | Pennsylvania |\n\n",
            "text/latex": "A data.frame: 2 × 12\n\\begin{tabular}{r|llllllllllll}\n  & Time & ketamine & date\\_rape & GHB & Rohypnol & State & morning\\_after\\_pill & roofie & pills\\_to\\_avoid\\_preg & how\\_much\\_is\\_morning\\_after\\_pill & been\\_raped & state\\_2\\\\\n  & <chr> & <int> & <int> & <int> & <int> & <chr> & <int> & <int> & <int> & <int> & <int> & <chr>\\\\\n\\hline\n\t1 & 2022-02-23T12 & 19 & 0 & 6 & 0 & Pennsylania & NA & NA & NA & NA & NA & NA          \\\\\n\t2 & 2022-02-23T13 & 46 & 0 & 3 & 3 & Pennsylania &  7 &  7 &  0 &  0 &  0 & Pennsylvania\\\\\n\\end{tabular}\n",
            "text/plain": [
              "  Time          ketamine date_rape GHB Rohypnol State       morning_after_pill\n",
              "1 2022-02-23T12 19       0         6   0        Pennsylania NA                \n",
              "2 2022-02-23T13 46       0         3   3        Pennsylania  7                \n",
              "  roofie pills_to_avoid_preg how_much_is_morning_after_pill been_raped\n",
              "1 NA     NA                  NA                             NA        \n",
              "2  7      0                   0                              0        \n",
              "  state_2     \n",
              "1 NA          \n",
              "2 Pennsylvania"
            ]
          },
          "metadata": {}
        }
      ]
    },
    {
      "cell_type": "markdown",
      "source": [
        "## New York"
      ],
      "metadata": {
        "id": "rk_sQT7RrAEg"
      }
    },
    {
      "cell_type": "code",
      "source": [
        "Full <- read.csv(\"/content/NewYork.csv\", skip=0, header=TRUE)\n",
        "Short <- read.csv(\"/content/NY_2.csv\", skip=0, header=TRUE)\n",
        "NY_combo <- merge(Full,Short, by=\"Time\", all = T)\n",
        "head(NY_combo)"
      ],
      "metadata": {
        "id": "XE_M4p91r80P"
      },
      "execution_count": null,
      "outputs": []
    },
    {
      "cell_type": "code",
      "source": [
        "colnames(NY_combo) <- c(\"Time\",\"ketamine\",\"date_rape\",\"GHB\",\"Rohypnol\",\"State\",\n",
        "                        \"morning_after_pill\",\"roofie\",\"pills_to_avoid_preg\",\n",
        "                        \"how_much_is_morning_after_pill\",\"been_raped\",\"state_2\")\n",
        "head(NY_combo,2)"
      ],
      "metadata": {
        "colab": {
          "base_uri": "https://localhost:8080/",
          "height": 250
        },
        "id": "1tafnLib24SU",
        "outputId": "b43cce37-41d9-4dee-df4e-30057afcd857"
      },
      "execution_count": null,
      "outputs": [
        {
          "output_type": "display_data",
          "data": {
            "text/html": [
              "<table class=\"dataframe\">\n",
              "<caption>A data.frame: 2 × 12</caption>\n",
              "<thead>\n",
              "\t<tr><th></th><th scope=col>Time</th><th scope=col>ketamine</th><th scope=col>date_rape</th><th scope=col>GHB</th><th scope=col>Rohypnol</th><th scope=col>State</th><th scope=col>morning_after_pill</th><th scope=col>roofie</th><th scope=col>pills_to_avoid_preg</th><th scope=col>how_much_is_morning_after_pill</th><th scope=col>been_raped</th><th scope=col>state_2</th></tr>\n",
              "\t<tr><th></th><th scope=col>&lt;chr&gt;</th><th scope=col>&lt;int&gt;</th><th scope=col>&lt;int&gt;</th><th scope=col>&lt;int&gt;</th><th scope=col>&lt;int&gt;</th><th scope=col>&lt;chr&gt;</th><th scope=col>&lt;int&gt;</th><th scope=col>&lt;int&gt;</th><th scope=col>&lt;int&gt;</th><th scope=col>&lt;int&gt;</th><th scope=col>&lt;int&gt;</th><th scope=col>&lt;chr&gt;</th></tr>\n",
              "</thead>\n",
              "<tbody>\n",
              "\t<tr><th scope=row>1</th><td>2022-02-23T12</td><td>25</td><td>0</td><td>6</td><td>0</td><td>New York</td><td>NA</td><td>NA</td><td>NA</td><td>NA</td><td>NA</td><td>NA      </td></tr>\n",
              "\t<tr><th scope=row>2</th><td>2022-02-23T13</td><td>21</td><td>0</td><td>6</td><td>0</td><td>New York</td><td> 9</td><td> 5</td><td> 0</td><td> 0</td><td> 0</td><td>New York</td></tr>\n",
              "</tbody>\n",
              "</table>\n"
            ],
            "text/markdown": "\nA data.frame: 2 × 12\n\n| <!--/--> | Time &lt;chr&gt; | ketamine &lt;int&gt; | date_rape &lt;int&gt; | GHB &lt;int&gt; | Rohypnol &lt;int&gt; | State &lt;chr&gt; | morning_after_pill &lt;int&gt; | roofie &lt;int&gt; | pills_to_avoid_preg &lt;int&gt; | how_much_is_morning_after_pill &lt;int&gt; | been_raped &lt;int&gt; | state_2 &lt;chr&gt; |\n|---|---|---|---|---|---|---|---|---|---|---|---|---|\n| 1 | 2022-02-23T12 | 25 | 0 | 6 | 0 | New York | NA | NA | NA | NA | NA | NA       |\n| 2 | 2022-02-23T13 | 21 | 0 | 6 | 0 | New York |  9 |  5 |  0 |  0 |  0 | New York |\n\n",
            "text/latex": "A data.frame: 2 × 12\n\\begin{tabular}{r|llllllllllll}\n  & Time & ketamine & date\\_rape & GHB & Rohypnol & State & morning\\_after\\_pill & roofie & pills\\_to\\_avoid\\_preg & how\\_much\\_is\\_morning\\_after\\_pill & been\\_raped & state\\_2\\\\\n  & <chr> & <int> & <int> & <int> & <int> & <chr> & <int> & <int> & <int> & <int> & <int> & <chr>\\\\\n\\hline\n\t1 & 2022-02-23T12 & 25 & 0 & 6 & 0 & New York & NA & NA & NA & NA & NA & NA      \\\\\n\t2 & 2022-02-23T13 & 21 & 0 & 6 & 0 & New York &  9 &  5 &  0 &  0 &  0 & New York\\\\\n\\end{tabular}\n",
            "text/plain": [
              "  Time          ketamine date_rape GHB Rohypnol State    morning_after_pill\n",
              "1 2022-02-23T12 25       0         6   0        New York NA                \n",
              "2 2022-02-23T13 21       0         6   0        New York  9                \n",
              "  roofie pills_to_avoid_preg how_much_is_morning_after_pill been_raped state_2 \n",
              "1 NA     NA                  NA                             NA         NA      \n",
              "2  5      0                   0                              0         New York"
            ]
          },
          "metadata": {}
        }
      ]
    },
    {
      "cell_type": "markdown",
      "source": [
        "## Connecticut"
      ],
      "metadata": {
        "id": "lUJfb7BEq__z"
      }
    },
    {
      "cell_type": "code",
      "source": [
        "Full <- read.csv(\"/content/Connecticut.csv\", skip=0, header=TRUE)\n",
        "Short <- read.csv(\"/content/CT_2.csv\", skip=0, header=TRUE)\n",
        "CT_combo <- merge(Full,Short, by=\"Time\", all = T)\n",
        "head(CT_combo)"
      ],
      "metadata": {
        "id": "rJA5IkRFr-zp"
      },
      "execution_count": null,
      "outputs": []
    },
    {
      "cell_type": "code",
      "source": [
        "colnames(CT_combo) <- c(\"Time\",\"ketamine\",\"date_rape\",\"GHB\",\"Rohypnol\",\"State\",\n",
        "                        \"morning_after_pill\",\"roofie\",\"pills_to_avoid_preg\",\n",
        "                        \"how_much_is_morning_after_pill\",\"been_raped\",\"state_2\")\n",
        "head(CT_combo,2)"
      ],
      "metadata": {
        "colab": {
          "base_uri": "https://localhost:8080/",
          "height": 250
        },
        "id": "xQKorahX2-zi",
        "outputId": "5172da29-1066-48ab-abba-af61433559f3"
      },
      "execution_count": null,
      "outputs": [
        {
          "output_type": "display_data",
          "data": {
            "text/html": [
              "<table class=\"dataframe\">\n",
              "<caption>A data.frame: 2 × 12</caption>\n",
              "<thead>\n",
              "\t<tr><th></th><th scope=col>Time</th><th scope=col>ketamine</th><th scope=col>date_rape</th><th scope=col>GHB</th><th scope=col>Rohypnol</th><th scope=col>State</th><th scope=col>morning_after_pill</th><th scope=col>roofie</th><th scope=col>pills_to_avoid_preg</th><th scope=col>how_much_is_morning_after_pill</th><th scope=col>been_raped</th><th scope=col>state_2</th></tr>\n",
              "\t<tr><th></th><th scope=col>&lt;chr&gt;</th><th scope=col>&lt;int&gt;</th><th scope=col>&lt;int&gt;</th><th scope=col>&lt;int&gt;</th><th scope=col>&lt;int&gt;</th><th scope=col>&lt;chr&gt;</th><th scope=col>&lt;int&gt;</th><th scope=col>&lt;int&gt;</th><th scope=col>&lt;int&gt;</th><th scope=col>&lt;int&gt;</th><th scope=col>&lt;int&gt;</th><th scope=col>&lt;chr&gt;</th></tr>\n",
              "</thead>\n",
              "<tbody>\n",
              "\t<tr><th scope=row>1</th><td>2022-02-23T11</td><td>32</td><td>0</td><td>0</td><td>0</td><td>Connecticut</td><td>NA</td><td>NA</td><td>NA</td><td>NA</td><td>NA</td><td>NA</td></tr>\n",
              "\t<tr><th scope=row>2</th><td>2022-02-23T12</td><td>11</td><td>0</td><td>0</td><td>0</td><td>Connecticut</td><td>NA</td><td>NA</td><td>NA</td><td>NA</td><td>NA</td><td>NA</td></tr>\n",
              "</tbody>\n",
              "</table>\n"
            ],
            "text/markdown": "\nA data.frame: 2 × 12\n\n| <!--/--> | Time &lt;chr&gt; | ketamine &lt;int&gt; | date_rape &lt;int&gt; | GHB &lt;int&gt; | Rohypnol &lt;int&gt; | State &lt;chr&gt; | morning_after_pill &lt;int&gt; | roofie &lt;int&gt; | pills_to_avoid_preg &lt;int&gt; | how_much_is_morning_after_pill &lt;int&gt; | been_raped &lt;int&gt; | state_2 &lt;chr&gt; |\n|---|---|---|---|---|---|---|---|---|---|---|---|---|\n| 1 | 2022-02-23T11 | 32 | 0 | 0 | 0 | Connecticut | NA | NA | NA | NA | NA | NA |\n| 2 | 2022-02-23T12 | 11 | 0 | 0 | 0 | Connecticut | NA | NA | NA | NA | NA | NA |\n\n",
            "text/latex": "A data.frame: 2 × 12\n\\begin{tabular}{r|llllllllllll}\n  & Time & ketamine & date\\_rape & GHB & Rohypnol & State & morning\\_after\\_pill & roofie & pills\\_to\\_avoid\\_preg & how\\_much\\_is\\_morning\\_after\\_pill & been\\_raped & state\\_2\\\\\n  & <chr> & <int> & <int> & <int> & <int> & <chr> & <int> & <int> & <int> & <int> & <int> & <chr>\\\\\n\\hline\n\t1 & 2022-02-23T11 & 32 & 0 & 0 & 0 & Connecticut & NA & NA & NA & NA & NA & NA\\\\\n\t2 & 2022-02-23T12 & 11 & 0 & 0 & 0 & Connecticut & NA & NA & NA & NA & NA & NA\\\\\n\\end{tabular}\n",
            "text/plain": [
              "  Time          ketamine date_rape GHB Rohypnol State       morning_after_pill\n",
              "1 2022-02-23T11 32       0         0   0        Connecticut NA                \n",
              "2 2022-02-23T12 11       0         0   0        Connecticut NA                \n",
              "  roofie pills_to_avoid_preg how_much_is_morning_after_pill been_raped state_2\n",
              "1 NA     NA                  NA                             NA         NA     \n",
              "2 NA     NA                  NA                             NA         NA     "
            ]
          },
          "metadata": {}
        }
      ]
    },
    {
      "cell_type": "markdown",
      "source": [
        "## Massachussettes"
      ],
      "metadata": {
        "id": "kIV5vDomq_6o"
      }
    },
    {
      "cell_type": "code",
      "source": [
        "Full <- read.csv(\"/content/Massachusesttes.csv\", skip=0, header=TRUE)\n",
        "Short <- read.csv(\"/content/MA_2.csv\", skip=0, header=TRUE)\n",
        "MA_combo <- merge(Full,Short, by=\"Time\", all = T)\n",
        "head(MA_combo)"
      ],
      "metadata": {
        "id": "X5zvT8oksAxR"
      },
      "execution_count": null,
      "outputs": []
    },
    {
      "cell_type": "code",
      "source": [
        "colnames(MA_combo) <- c(\"Time\",\"ketamine\",\"date_rape\",\"GHB\",\"Rohypnol\",\"State\",\n",
        "                        \"morning_after_pill\",\"roofie\",\"pills_to_avoid_preg\",\n",
        "                        \"how_much_is_morning_after_pill\",\"been_raped\",\"state_2\")\n",
        "head(MA_combo,2)"
      ],
      "metadata": {
        "colab": {
          "base_uri": "https://localhost:8080/",
          "height": 250
        },
        "id": "Zywbb7Sk3DWW",
        "outputId": "09808bbf-eb47-4947-de5c-e4ec299c4c34"
      },
      "execution_count": null,
      "outputs": [
        {
          "output_type": "display_data",
          "data": {
            "text/html": [
              "<table class=\"dataframe\">\n",
              "<caption>A data.frame: 2 × 12</caption>\n",
              "<thead>\n",
              "\t<tr><th></th><th scope=col>Time</th><th scope=col>ketamine</th><th scope=col>date_rape</th><th scope=col>GHB</th><th scope=col>Rohypnol</th><th scope=col>State</th><th scope=col>morning_after_pill</th><th scope=col>roofie</th><th scope=col>pills_to_avoid_preg</th><th scope=col>how_much_is_morning_after_pill</th><th scope=col>been_raped</th><th scope=col>state_2</th></tr>\n",
              "\t<tr><th></th><th scope=col>&lt;chr&gt;</th><th scope=col>&lt;int&gt;</th><th scope=col>&lt;int&gt;</th><th scope=col>&lt;int&gt;</th><th scope=col>&lt;int&gt;</th><th scope=col>&lt;chr&gt;</th><th scope=col>&lt;int&gt;</th><th scope=col>&lt;int&gt;</th><th scope=col>&lt;int&gt;</th><th scope=col>&lt;int&gt;</th><th scope=col>&lt;int&gt;</th><th scope=col>&lt;chr&gt;</th></tr>\n",
              "</thead>\n",
              "<tbody>\n",
              "\t<tr><th scope=row>1</th><td>2022-02-23T12</td><td>31</td><td>0</td><td>0</td><td>2</td><td>Massachusetts</td><td>NA</td><td>NA</td><td>NA</td><td>NA</td><td>NA</td><td>NA           </td></tr>\n",
              "\t<tr><th scope=row>2</th><td>2022-02-23T13</td><td>12</td><td>0</td><td>0</td><td>0</td><td>Massachusetts</td><td> 0</td><td> 0</td><td> 0</td><td> 0</td><td> 0</td><td>Massachusetts</td></tr>\n",
              "</tbody>\n",
              "</table>\n"
            ],
            "text/markdown": "\nA data.frame: 2 × 12\n\n| <!--/--> | Time &lt;chr&gt; | ketamine &lt;int&gt; | date_rape &lt;int&gt; | GHB &lt;int&gt; | Rohypnol &lt;int&gt; | State &lt;chr&gt; | morning_after_pill &lt;int&gt; | roofie &lt;int&gt; | pills_to_avoid_preg &lt;int&gt; | how_much_is_morning_after_pill &lt;int&gt; | been_raped &lt;int&gt; | state_2 &lt;chr&gt; |\n|---|---|---|---|---|---|---|---|---|---|---|---|---|\n| 1 | 2022-02-23T12 | 31 | 0 | 0 | 2 | Massachusetts | NA | NA | NA | NA | NA | NA            |\n| 2 | 2022-02-23T13 | 12 | 0 | 0 | 0 | Massachusetts |  0 |  0 |  0 |  0 |  0 | Massachusetts |\n\n",
            "text/latex": "A data.frame: 2 × 12\n\\begin{tabular}{r|llllllllllll}\n  & Time & ketamine & date\\_rape & GHB & Rohypnol & State & morning\\_after\\_pill & roofie & pills\\_to\\_avoid\\_preg & how\\_much\\_is\\_morning\\_after\\_pill & been\\_raped & state\\_2\\\\\n  & <chr> & <int> & <int> & <int> & <int> & <chr> & <int> & <int> & <int> & <int> & <int> & <chr>\\\\\n\\hline\n\t1 & 2022-02-23T12 & 31 & 0 & 0 & 2 & Massachusetts & NA & NA & NA & NA & NA & NA           \\\\\n\t2 & 2022-02-23T13 & 12 & 0 & 0 & 0 & Massachusetts &  0 &  0 &  0 &  0 &  0 & Massachusetts\\\\\n\\end{tabular}\n",
            "text/plain": [
              "  Time          ketamine date_rape GHB Rohypnol State        \n",
              "1 2022-02-23T12 31       0         0   2        Massachusetts\n",
              "2 2022-02-23T13 12       0         0   0        Massachusetts\n",
              "  morning_after_pill roofie pills_to_avoid_preg how_much_is_morning_after_pill\n",
              "1 NA                 NA     NA                  NA                            \n",
              "2  0                  0      0                   0                            \n",
              "  been_raped state_2      \n",
              "1 NA         NA           \n",
              "2  0         Massachusetts"
            ]
          },
          "metadata": {}
        }
      ]
    },
    {
      "cell_type": "markdown",
      "source": [
        "## Vermont"
      ],
      "metadata": {
        "id": "Ie6gCII1q_z3"
      }
    },
    {
      "cell_type": "code",
      "source": [
        "Full <- read.csv(\"/content/Vermont.csv\", skip=0, header=TRUE)\n",
        "Short <- read.csv(\"/content/VT_2.csv\", skip=0, header=TRUE)\n",
        "VT_combo <- merge(Full,Short, by=\"Time\", all = T)\n",
        "head(VT_combo)"
      ],
      "metadata": {
        "id": "zCl0TheksBzF"
      },
      "execution_count": null,
      "outputs": []
    },
    {
      "cell_type": "code",
      "source": [
        "colnames(VT_combo) <- c(\"Time\",\"ketamine\",\"date_rape\",\"GHB\",\"Rohypnol\",\"State\",\n",
        "                        \"morning_after_pill\",\"roofie\",\"pills_to_avoid_preg\",\n",
        "                        \"how_much_is_morning_after_pill\",\"been_raped\",\"state_2\")\n",
        "head(VT_combo,2)"
      ],
      "metadata": {
        "colab": {
          "base_uri": "https://localhost:8080/",
          "height": 250
        },
        "id": "8zG0VIUC3HdC",
        "outputId": "16c266fe-2caf-460e-cb68-b3b80f828dcd"
      },
      "execution_count": null,
      "outputs": [
        {
          "output_type": "display_data",
          "data": {
            "text/html": [
              "<table class=\"dataframe\">\n",
              "<caption>A data.frame: 2 × 12</caption>\n",
              "<thead>\n",
              "\t<tr><th></th><th scope=col>Time</th><th scope=col>ketamine</th><th scope=col>date_rape</th><th scope=col>GHB</th><th scope=col>Rohypnol</th><th scope=col>State</th><th scope=col>morning_after_pill</th><th scope=col>roofie</th><th scope=col>pills_to_avoid_preg</th><th scope=col>how_much_is_morning_after_pill</th><th scope=col>been_raped</th><th scope=col>state_2</th></tr>\n",
              "\t<tr><th></th><th scope=col>&lt;chr&gt;</th><th scope=col>&lt;int&gt;</th><th scope=col>&lt;int&gt;</th><th scope=col>&lt;int&gt;</th><th scope=col>&lt;int&gt;</th><th scope=col>&lt;chr&gt;</th><th scope=col>&lt;int&gt;</th><th scope=col>&lt;int&gt;</th><th scope=col>&lt;int&gt;</th><th scope=col>&lt;int&gt;</th><th scope=col>&lt;int&gt;</th><th scope=col>&lt;chr&gt;</th></tr>\n",
              "</thead>\n",
              "<tbody>\n",
              "\t<tr><th scope=row>1</th><td>2022-02-23T12</td><td> 9</td><td>0</td><td>0</td><td>0</td><td>Vermont</td><td>NA</td><td>NA</td><td>NA</td><td>NA</td><td>NA</td><td>NA     </td></tr>\n",
              "\t<tr><th scope=row>2</th><td>2022-02-23T13</td><td>17</td><td>0</td><td>0</td><td>0</td><td>Vermont</td><td> 0</td><td> 0</td><td> 0</td><td> 0</td><td> 0</td><td>Vermont</td></tr>\n",
              "</tbody>\n",
              "</table>\n"
            ],
            "text/markdown": "\nA data.frame: 2 × 12\n\n| <!--/--> | Time &lt;chr&gt; | ketamine &lt;int&gt; | date_rape &lt;int&gt; | GHB &lt;int&gt; | Rohypnol &lt;int&gt; | State &lt;chr&gt; | morning_after_pill &lt;int&gt; | roofie &lt;int&gt; | pills_to_avoid_preg &lt;int&gt; | how_much_is_morning_after_pill &lt;int&gt; | been_raped &lt;int&gt; | state_2 &lt;chr&gt; |\n|---|---|---|---|---|---|---|---|---|---|---|---|---|\n| 1 | 2022-02-23T12 |  9 | 0 | 0 | 0 | Vermont | NA | NA | NA | NA | NA | NA      |\n| 2 | 2022-02-23T13 | 17 | 0 | 0 | 0 | Vermont |  0 |  0 |  0 |  0 |  0 | Vermont |\n\n",
            "text/latex": "A data.frame: 2 × 12\n\\begin{tabular}{r|llllllllllll}\n  & Time & ketamine & date\\_rape & GHB & Rohypnol & State & morning\\_after\\_pill & roofie & pills\\_to\\_avoid\\_preg & how\\_much\\_is\\_morning\\_after\\_pill & been\\_raped & state\\_2\\\\\n  & <chr> & <int> & <int> & <int> & <int> & <chr> & <int> & <int> & <int> & <int> & <int> & <chr>\\\\\n\\hline\n\t1 & 2022-02-23T12 &  9 & 0 & 0 & 0 & Vermont & NA & NA & NA & NA & NA & NA     \\\\\n\t2 & 2022-02-23T13 & 17 & 0 & 0 & 0 & Vermont &  0 &  0 &  0 &  0 &  0 & Vermont\\\\\n\\end{tabular}\n",
            "text/plain": [
              "  Time          ketamine date_rape GHB Rohypnol State   morning_after_pill\n",
              "1 2022-02-23T12  9       0         0   0        Vermont NA                \n",
              "2 2022-02-23T13 17       0         0   0        Vermont  0                \n",
              "  roofie pills_to_avoid_preg how_much_is_morning_after_pill been_raped state_2\n",
              "1 NA     NA                  NA                             NA         NA     \n",
              "2  0      0                   0                              0         Vermont"
            ]
          },
          "metadata": {}
        }
      ]
    },
    {
      "cell_type": "markdown",
      "source": [
        "## New Hampshire"
      ],
      "metadata": {
        "id": "uBjVpBlbq_qc"
      }
    },
    {
      "cell_type": "code",
      "source": [
        "Full <- read.csv(\"/content/NewHampshire.csv\", skip=0, header=TRUE)\n",
        "Short <- read.csv(\"/content/NH_2.csv\", skip=0, header=TRUE)\n",
        "NH_combo <- merge(Full,Short, by=\"Time\", all = T)\n",
        "head(NH_combo)"
      ],
      "metadata": {
        "id": "kwDV2YSzsC74"
      },
      "execution_count": null,
      "outputs": []
    },
    {
      "cell_type": "code",
      "source": [
        "colnames(NH_combo) <- c(\"Time\",\"ketamine\",\"date_rape\",\"GHB\",\"Rohypnol\",\"State\",\n",
        "                        \"morning_after_pill\",\"roofie\",\"pills_to_avoid_preg\",\n",
        "                        \"how_much_is_morning_after_pill\",\"been_raped\",\"state_2\")\n",
        "head(NH_combo,2)"
      ],
      "metadata": {
        "colab": {
          "base_uri": "https://localhost:8080/",
          "height": 250
        },
        "id": "MyD5YwdT3NzG",
        "outputId": "3b635e65-17e4-4f19-9ee6-69c25e33252e"
      },
      "execution_count": null,
      "outputs": [
        {
          "output_type": "display_data",
          "data": {
            "text/html": [
              "<table class=\"dataframe\">\n",
              "<caption>A data.frame: 2 × 12</caption>\n",
              "<thead>\n",
              "\t<tr><th></th><th scope=col>Time</th><th scope=col>ketamine</th><th scope=col>date_rape</th><th scope=col>GHB</th><th scope=col>Rohypnol</th><th scope=col>State</th><th scope=col>morning_after_pill</th><th scope=col>roofie</th><th scope=col>pills_to_avoid_preg</th><th scope=col>how_much_is_morning_after_pill</th><th scope=col>been_raped</th><th scope=col>state_2</th></tr>\n",
              "\t<tr><th></th><th scope=col>&lt;chr&gt;</th><th scope=col>&lt;int&gt;</th><th scope=col>&lt;int&gt;</th><th scope=col>&lt;int&gt;</th><th scope=col>&lt;int&gt;</th><th scope=col>&lt;chr&gt;</th><th scope=col>&lt;int&gt;</th><th scope=col>&lt;int&gt;</th><th scope=col>&lt;int&gt;</th><th scope=col>&lt;int&gt;</th><th scope=col>&lt;int&gt;</th><th scope=col>&lt;chr&gt;</th></tr>\n",
              "</thead>\n",
              "<tbody>\n",
              "\t<tr><th scope=row>1</th><td>2022-02-23T12</td><td>0</td><td>0</td><td>0</td><td>0</td><td> New Hampshire</td><td>NA</td><td>NA</td><td>NA</td><td>NA</td><td>NA</td><td>NA           </td></tr>\n",
              "\t<tr><th scope=row>2</th><td>2022-02-23T13</td><td>0</td><td>0</td><td>0</td><td>0</td><td> New Hampshire</td><td> 0</td><td> 0</td><td> 0</td><td> 0</td><td> 0</td><td>New Hampshire</td></tr>\n",
              "</tbody>\n",
              "</table>\n"
            ],
            "text/markdown": "\nA data.frame: 2 × 12\n\n| <!--/--> | Time &lt;chr&gt; | ketamine &lt;int&gt; | date_rape &lt;int&gt; | GHB &lt;int&gt; | Rohypnol &lt;int&gt; | State &lt;chr&gt; | morning_after_pill &lt;int&gt; | roofie &lt;int&gt; | pills_to_avoid_preg &lt;int&gt; | how_much_is_morning_after_pill &lt;int&gt; | been_raped &lt;int&gt; | state_2 &lt;chr&gt; |\n|---|---|---|---|---|---|---|---|---|---|---|---|---|\n| 1 | 2022-02-23T12 | 0 | 0 | 0 | 0 |  New Hampshire | NA | NA | NA | NA | NA | NA            |\n| 2 | 2022-02-23T13 | 0 | 0 | 0 | 0 |  New Hampshire |  0 |  0 |  0 |  0 |  0 | New Hampshire |\n\n",
            "text/latex": "A data.frame: 2 × 12\n\\begin{tabular}{r|llllllllllll}\n  & Time & ketamine & date\\_rape & GHB & Rohypnol & State & morning\\_after\\_pill & roofie & pills\\_to\\_avoid\\_preg & how\\_much\\_is\\_morning\\_after\\_pill & been\\_raped & state\\_2\\\\\n  & <chr> & <int> & <int> & <int> & <int> & <chr> & <int> & <int> & <int> & <int> & <int> & <chr>\\\\\n\\hline\n\t1 & 2022-02-23T12 & 0 & 0 & 0 & 0 &  New Hampshire & NA & NA & NA & NA & NA & NA           \\\\\n\t2 & 2022-02-23T13 & 0 & 0 & 0 & 0 &  New Hampshire &  0 &  0 &  0 &  0 &  0 & New Hampshire\\\\\n\\end{tabular}\n",
            "text/plain": [
              "  Time          ketamine date_rape GHB Rohypnol State         \n",
              "1 2022-02-23T12 0        0         0   0         New Hampshire\n",
              "2 2022-02-23T13 0        0         0   0         New Hampshire\n",
              "  morning_after_pill roofie pills_to_avoid_preg how_much_is_morning_after_pill\n",
              "1 NA                 NA     NA                  NA                            \n",
              "2  0                  0      0                   0                            \n",
              "  been_raped state_2      \n",
              "1 NA         NA           \n",
              "2  0         New Hampshire"
            ]
          },
          "metadata": {}
        }
      ]
    },
    {
      "cell_type": "markdown",
      "source": [
        "## Maine"
      ],
      "metadata": {
        "id": "0FcFIr7qrdCZ"
      }
    },
    {
      "cell_type": "code",
      "source": [
        "Full <- read.csv(\"/content/Maine.csv\", skip=0, header=TRUE)\n",
        "Short <- read.csv(\"/content/ME_2.csv\", skip=0, header=TRUE)\n",
        "ME_combo <- merge(Full,Short, by=\"Time\", all = T)\n",
        "head(ME_combo)"
      ],
      "metadata": {
        "id": "2Ei4pkOAsFaA"
      },
      "execution_count": null,
      "outputs": []
    },
    {
      "cell_type": "code",
      "source": [
        "colnames(ME_combo) <- c(\"Time\",\"ketamine\",\"date_rape\",\"GHB\",\"Rohypnol\",\"State\",\n",
        "                        \"morning_after_pill\",\"roofie\",\"pills_to_avoid_preg\",\n",
        "                        \"how_much_is_morning_after_pill\",\"been_raped\",\"state_2\")\n",
        "head(ME_combo,2)"
      ],
      "metadata": {
        "colab": {
          "base_uri": "https://localhost:8080/",
          "height": 250
        },
        "id": "fsRmD7PG3SZ9",
        "outputId": "9419243c-679f-46db-d94a-dbc982b1ee84"
      },
      "execution_count": null,
      "outputs": [
        {
          "output_type": "display_data",
          "data": {
            "text/html": [
              "<table class=\"dataframe\">\n",
              "<caption>A data.frame: 2 × 12</caption>\n",
              "<thead>\n",
              "\t<tr><th></th><th scope=col>Time</th><th scope=col>ketamine</th><th scope=col>date_rape</th><th scope=col>GHB</th><th scope=col>Rohypnol</th><th scope=col>State</th><th scope=col>morning_after_pill</th><th scope=col>roofie</th><th scope=col>pills_to_avoid_preg</th><th scope=col>how_much_is_morning_after_pill</th><th scope=col>been_raped</th><th scope=col>state_2</th></tr>\n",
              "\t<tr><th></th><th scope=col>&lt;chr&gt;</th><th scope=col>&lt;int&gt;</th><th scope=col>&lt;int&gt;</th><th scope=col>&lt;int&gt;</th><th scope=col>&lt;int&gt;</th><th scope=col>&lt;chr&gt;</th><th scope=col>&lt;int&gt;</th><th scope=col>&lt;int&gt;</th><th scope=col>&lt;int&gt;</th><th scope=col>&lt;int&gt;</th><th scope=col>&lt;int&gt;</th><th scope=col>&lt;chr&gt;</th></tr>\n",
              "</thead>\n",
              "<tbody>\n",
              "\t<tr><th scope=row>1</th><td>2022-02-23T12</td><td>22</td><td>0</td><td> 0</td><td>0</td><td>Maine</td><td>NA</td><td>NA</td><td>NA</td><td>NA</td><td>NA</td><td>NA   </td></tr>\n",
              "\t<tr><th scope=row>2</th><td>2022-02-23T13</td><td> 0</td><td>0</td><td>10</td><td>0</td><td>Maine</td><td> 0</td><td> 0</td><td> 0</td><td> 0</td><td> 0</td><td>Maine</td></tr>\n",
              "</tbody>\n",
              "</table>\n"
            ],
            "text/markdown": "\nA data.frame: 2 × 12\n\n| <!--/--> | Time &lt;chr&gt; | ketamine &lt;int&gt; | date_rape &lt;int&gt; | GHB &lt;int&gt; | Rohypnol &lt;int&gt; | State &lt;chr&gt; | morning_after_pill &lt;int&gt; | roofie &lt;int&gt; | pills_to_avoid_preg &lt;int&gt; | how_much_is_morning_after_pill &lt;int&gt; | been_raped &lt;int&gt; | state_2 &lt;chr&gt; |\n|---|---|---|---|---|---|---|---|---|---|---|---|---|\n| 1 | 2022-02-23T12 | 22 | 0 |  0 | 0 | Maine | NA | NA | NA | NA | NA | NA    |\n| 2 | 2022-02-23T13 |  0 | 0 | 10 | 0 | Maine |  0 |  0 |  0 |  0 |  0 | Maine |\n\n",
            "text/latex": "A data.frame: 2 × 12\n\\begin{tabular}{r|llllllllllll}\n  & Time & ketamine & date\\_rape & GHB & Rohypnol & State & morning\\_after\\_pill & roofie & pills\\_to\\_avoid\\_preg & how\\_much\\_is\\_morning\\_after\\_pill & been\\_raped & state\\_2\\\\\n  & <chr> & <int> & <int> & <int> & <int> & <chr> & <int> & <int> & <int> & <int> & <int> & <chr>\\\\\n\\hline\n\t1 & 2022-02-23T12 & 22 & 0 &  0 & 0 & Maine & NA & NA & NA & NA & NA & NA   \\\\\n\t2 & 2022-02-23T13 &  0 & 0 & 10 & 0 & Maine &  0 &  0 &  0 &  0 &  0 & Maine\\\\\n\\end{tabular}\n",
            "text/plain": [
              "  Time          ketamine date_rape GHB Rohypnol State morning_after_pill roofie\n",
              "1 2022-02-23T12 22       0          0  0        Maine NA                 NA    \n",
              "2 2022-02-23T13  0       0         10  0        Maine  0                  0    \n",
              "  pills_to_avoid_preg how_much_is_morning_after_pill been_raped state_2\n",
              "1 NA                  NA                             NA         NA     \n",
              "2  0                   0                              0         Maine  "
            ]
          },
          "metadata": {}
        }
      ]
    },
    {
      "cell_type": "markdown",
      "source": [
        "## Wisconsin"
      ],
      "metadata": {
        "id": "wvgy-az4wHtr"
      }
    },
    {
      "cell_type": "code",
      "source": [
        "Full <- read.csv(\"/content/Wisconsin.csv\", skip=0, header=TRUE)\n",
        "Short <- read.csv(\"/content/WI_2.csv\", skip=0, header=TRUE)\n",
        "WI_combo <- merge(Full,Short, by=\"Time\", all = T)\n",
        "head(WI_combo)"
      ],
      "metadata": {
        "id": "d2XJRMPHxqFt"
      },
      "execution_count": null,
      "outputs": []
    },
    {
      "cell_type": "code",
      "source": [
        "  "
      ],
      "metadata": {
        "colab": {
          "base_uri": "https://localhost:8080/",
          "height": 250
        },
        "id": "lWvuDvoo3Xlv",
        "outputId": "1f8370d8-f46d-4555-8d0f-9f2745a9bf86"
      },
      "execution_count": null,
      "outputs": [
        {
          "output_type": "display_data",
          "data": {
            "text/html": [
              "<table class=\"dataframe\">\n",
              "<caption>A data.frame: 2 × 12</caption>\n",
              "<thead>\n",
              "\t<tr><th></th><th scope=col>Time</th><th scope=col>ketamine</th><th scope=col>date_rape</th><th scope=col>GHB</th><th scope=col>Rohypnol</th><th scope=col>State</th><th scope=col>morning_after_pill</th><th scope=col>roofie</th><th scope=col>pills_to_avoid_preg</th><th scope=col>how_much_is_morning_after_pill</th><th scope=col>been_raped</th><th scope=col>state_2</th></tr>\n",
              "\t<tr><th></th><th scope=col>&lt;chr&gt;</th><th scope=col>&lt;int&gt;</th><th scope=col>&lt;int&gt;</th><th scope=col>&lt;int&gt;</th><th scope=col>&lt;int&gt;</th><th scope=col>&lt;chr&gt;</th><th scope=col>&lt;int&gt;</th><th scope=col>&lt;int&gt;</th><th scope=col>&lt;int&gt;</th><th scope=col>&lt;int&gt;</th><th scope=col>&lt;int&gt;</th><th scope=col>&lt;chr&gt;</th></tr>\n",
              "</thead>\n",
              "<tbody>\n",
              "\t<tr><th scope=row>1</th><td>2022-02-23T12</td><td>57</td><td>0</td><td>4</td><td>0</td><td>Wisconsin</td><td>NA</td><td>NA</td><td>NA</td><td>NA</td><td>NA</td><td>NA       </td></tr>\n",
              "\t<tr><th scope=row>2</th><td>2022-02-23T13</td><td>39</td><td>0</td><td>9</td><td>0</td><td>Wisconsin</td><td>10</td><td> 0</td><td> 0</td><td> 0</td><td> 0</td><td>Wusconsin</td></tr>\n",
              "</tbody>\n",
              "</table>\n"
            ],
            "text/markdown": "\nA data.frame: 2 × 12\n\n| <!--/--> | Time &lt;chr&gt; | ketamine &lt;int&gt; | date_rape &lt;int&gt; | GHB &lt;int&gt; | Rohypnol &lt;int&gt; | State &lt;chr&gt; | morning_after_pill &lt;int&gt; | roofie &lt;int&gt; | pills_to_avoid_preg &lt;int&gt; | how_much_is_morning_after_pill &lt;int&gt; | been_raped &lt;int&gt; | state_2 &lt;chr&gt; |\n|---|---|---|---|---|---|---|---|---|---|---|---|---|\n| 1 | 2022-02-23T12 | 57 | 0 | 4 | 0 | Wisconsin | NA | NA | NA | NA | NA | NA        |\n| 2 | 2022-02-23T13 | 39 | 0 | 9 | 0 | Wisconsin | 10 |  0 |  0 |  0 |  0 | Wusconsin |\n\n",
            "text/latex": "A data.frame: 2 × 12\n\\begin{tabular}{r|llllllllllll}\n  & Time & ketamine & date\\_rape & GHB & Rohypnol & State & morning\\_after\\_pill & roofie & pills\\_to\\_avoid\\_preg & how\\_much\\_is\\_morning\\_after\\_pill & been\\_raped & state\\_2\\\\\n  & <chr> & <int> & <int> & <int> & <int> & <chr> & <int> & <int> & <int> & <int> & <int> & <chr>\\\\\n\\hline\n\t1 & 2022-02-23T12 & 57 & 0 & 4 & 0 & Wisconsin & NA & NA & NA & NA & NA & NA       \\\\\n\t2 & 2022-02-23T13 & 39 & 0 & 9 & 0 & Wisconsin & 10 &  0 &  0 &  0 &  0 & Wusconsin\\\\\n\\end{tabular}\n",
            "text/plain": [
              "  Time          ketamine date_rape GHB Rohypnol State     morning_after_pill\n",
              "1 2022-02-23T12 57       0         4   0        Wisconsin NA                \n",
              "2 2022-02-23T13 39       0         9   0        Wisconsin 10                \n",
              "  roofie pills_to_avoid_preg how_much_is_morning_after_pill been_raped\n",
              "1 NA     NA                  NA                             NA        \n",
              "2  0      0                   0                              0        \n",
              "  state_2  \n",
              "1 NA       \n",
              "2 Wusconsin"
            ]
          },
          "metadata": {}
        }
      ]
    },
    {
      "cell_type": "code",
      "source": [
        ""
      ],
      "metadata": {
        "id": "JZAaooYr3dIl"
      },
      "execution_count": null,
      "outputs": []
    },
    {
      "cell_type": "markdown",
      "source": [
        "## Illinois"
      ],
      "metadata": {
        "id": "BNO-LrkowHpH"
      }
    },
    {
      "cell_type": "code",
      "source": [
        "Full <- read.csv(\"/content/Illinois.csv\", skip=0, header=TRUE)\n",
        "Short <- read.csv(\"//content/IL_2.csv\", skip=0, header=TRUE)\n",
        "IL_combo <- merge(Full,Short, by=\"Time\", all = T)\n",
        "head(IL_combo)"
      ],
      "metadata": {
        "id": "-ibtbkcmxrQ0"
      },
      "execution_count": null,
      "outputs": []
    },
    {
      "cell_type": "code",
      "source": [
        "colnames(IL_combo) <- c(\"Time\",\"ketamine\",\"date_rape\",\"GHB\",\"Rohypnol\",\"State\",\n",
        "                        \"morning_after_pill\",\"roofie\",\"pills_to_avoid_preg\",\n",
        "                        \"how_much_is_morning_after_pill\",\"been_raped\",\"state_2\")\n",
        "head(IL_combo,2)"
      ],
      "metadata": {
        "colab": {
          "base_uri": "https://localhost:8080/",
          "height": 250
        },
        "id": "B3eD7L_C3f_0",
        "outputId": "bf4286ce-aa02-4108-f9b6-ad0041275eb7"
      },
      "execution_count": null,
      "outputs": [
        {
          "output_type": "display_data",
          "data": {
            "text/html": [
              "<table class=\"dataframe\">\n",
              "<caption>A data.frame: 2 × 12</caption>\n",
              "<thead>\n",
              "\t<tr><th></th><th scope=col>Time</th><th scope=col>ketamine</th><th scope=col>date_rape</th><th scope=col>GHB</th><th scope=col>Rohypnol</th><th scope=col>State</th><th scope=col>morning_after_pill</th><th scope=col>roofie</th><th scope=col>pills_to_avoid_preg</th><th scope=col>how_much_is_morning_after_pill</th><th scope=col>been_raped</th><th scope=col>state_2</th></tr>\n",
              "\t<tr><th></th><th scope=col>&lt;chr&gt;</th><th scope=col>&lt;int&gt;</th><th scope=col>&lt;int&gt;</th><th scope=col>&lt;int&gt;</th><th scope=col>&lt;int&gt;</th><th scope=col>&lt;chr&gt;</th><th scope=col>&lt;int&gt;</th><th scope=col>&lt;int&gt;</th><th scope=col>&lt;int&gt;</th><th scope=col>&lt;int&gt;</th><th scope=col>&lt;int&gt;</th><th scope=col>&lt;chr&gt;</th></tr>\n",
              "</thead>\n",
              "<tbody>\n",
              "\t<tr><th scope=row>1</th><td>2022-02-23T12</td><td>50</td><td>2</td><td>2</td><td>0</td><td>Illinois</td><td>NA</td><td>NA</td><td>NA</td><td>NA</td><td>NA</td><td>NA      </td></tr>\n",
              "\t<tr><th scope=row>2</th><td>2022-02-23T13</td><td>20</td><td>0</td><td>6</td><td>0</td><td>Illinois</td><td> 4</td><td> 0</td><td> 0</td><td> 0</td><td> 0</td><td>Illinois</td></tr>\n",
              "</tbody>\n",
              "</table>\n"
            ],
            "text/markdown": "\nA data.frame: 2 × 12\n\n| <!--/--> | Time &lt;chr&gt; | ketamine &lt;int&gt; | date_rape &lt;int&gt; | GHB &lt;int&gt; | Rohypnol &lt;int&gt; | State &lt;chr&gt; | morning_after_pill &lt;int&gt; | roofie &lt;int&gt; | pills_to_avoid_preg &lt;int&gt; | how_much_is_morning_after_pill &lt;int&gt; | been_raped &lt;int&gt; | state_2 &lt;chr&gt; |\n|---|---|---|---|---|---|---|---|---|---|---|---|---|\n| 1 | 2022-02-23T12 | 50 | 2 | 2 | 0 | Illinois | NA | NA | NA | NA | NA | NA       |\n| 2 | 2022-02-23T13 | 20 | 0 | 6 | 0 | Illinois |  4 |  0 |  0 |  0 |  0 | Illinois |\n\n",
            "text/latex": "A data.frame: 2 × 12\n\\begin{tabular}{r|llllllllllll}\n  & Time & ketamine & date\\_rape & GHB & Rohypnol & State & morning\\_after\\_pill & roofie & pills\\_to\\_avoid\\_preg & how\\_much\\_is\\_morning\\_after\\_pill & been\\_raped & state\\_2\\\\\n  & <chr> & <int> & <int> & <int> & <int> & <chr> & <int> & <int> & <int> & <int> & <int> & <chr>\\\\\n\\hline\n\t1 & 2022-02-23T12 & 50 & 2 & 2 & 0 & Illinois & NA & NA & NA & NA & NA & NA      \\\\\n\t2 & 2022-02-23T13 & 20 & 0 & 6 & 0 & Illinois &  4 &  0 &  0 &  0 &  0 & Illinois\\\\\n\\end{tabular}\n",
            "text/plain": [
              "  Time          ketamine date_rape GHB Rohypnol State    morning_after_pill\n",
              "1 2022-02-23T12 50       2         2   0        Illinois NA                \n",
              "2 2022-02-23T13 20       0         6   0        Illinois  4                \n",
              "  roofie pills_to_avoid_preg how_much_is_morning_after_pill been_raped state_2 \n",
              "1 NA     NA                  NA                             NA         NA      \n",
              "2  0      0                   0                              0         Illinois"
            ]
          },
          "metadata": {}
        }
      ]
    },
    {
      "cell_type": "markdown",
      "source": [
        "## Arkansas"
      ],
      "metadata": {
        "id": "myZO_Ct-wHko"
      }
    },
    {
      "cell_type": "code",
      "source": [
        "Full <- read.csv(\"/content/Arkansas_data.csv\", skip=0, header=TRUE)\n",
        "Short <- read.csv(\"/content/Ark_2.csv\", skip=0, header=TRUE)\n",
        "AR_combo <- merge(Full,Short, by=\"Time\", all = T)\n",
        "head(AR_combo)"
      ],
      "metadata": {
        "id": "eEMgnH9nxskQ"
      },
      "execution_count": null,
      "outputs": []
    },
    {
      "cell_type": "code",
      "source": [
        "colnames(AR_combo) <- c(\"Time\",\"ketamine\",\"date_rape\",\"GHB\",\"Rohypnol\",\"State\",\n",
        "                        \"morning_after_pill\",\"roofie\",\"pills_to_avoid_preg\",\n",
        "                        \"how_much_is_morning_after_pill\",\"been_raped\",\"state_2\")\n",
        "head(AR_combo,2)"
      ],
      "metadata": {
        "colab": {
          "base_uri": "https://localhost:8080/",
          "height": 250
        },
        "id": "htU92k943ny6",
        "outputId": "b0e3a1a0-31e0-4d40-f369-39ae26b7486d"
      },
      "execution_count": null,
      "outputs": [
        {
          "output_type": "display_data",
          "data": {
            "text/html": [
              "<table class=\"dataframe\">\n",
              "<caption>A data.frame: 2 × 12</caption>\n",
              "<thead>\n",
              "\t<tr><th></th><th scope=col>Time</th><th scope=col>ketamine</th><th scope=col>date_rape</th><th scope=col>GHB</th><th scope=col>Rohypnol</th><th scope=col>State</th><th scope=col>morning_after_pill</th><th scope=col>roofie</th><th scope=col>pills_to_avoid_preg</th><th scope=col>how_much_is_morning_after_pill</th><th scope=col>been_raped</th><th scope=col>state_2</th></tr>\n",
              "\t<tr><th></th><th scope=col>&lt;chr&gt;</th><th scope=col>&lt;int&gt;</th><th scope=col>&lt;int&gt;</th><th scope=col>&lt;int&gt;</th><th scope=col>&lt;int&gt;</th><th scope=col>&lt;chr&gt;</th><th scope=col>&lt;int&gt;</th><th scope=col>&lt;int&gt;</th><th scope=col>&lt;int&gt;</th><th scope=col>&lt;int&gt;</th><th scope=col>&lt;int&gt;</th><th scope=col>&lt;chr&gt;</th></tr>\n",
              "</thead>\n",
              "<tbody>\n",
              "\t<tr><th scope=row>1</th><td>2022-02-23T11</td><td>14</td><td>0</td><td>0</td><td>0</td><td>Arkansas</td><td>NA</td><td>NA</td><td>NA</td><td>NA</td><td>NA</td><td>NA</td></tr>\n",
              "\t<tr><th scope=row>2</th><td>2022-02-23T12</td><td>14</td><td>0</td><td>0</td><td>0</td><td>Arkansas</td><td>NA</td><td>NA</td><td>NA</td><td>NA</td><td>NA</td><td>NA</td></tr>\n",
              "</tbody>\n",
              "</table>\n"
            ],
            "text/markdown": "\nA data.frame: 2 × 12\n\n| <!--/--> | Time &lt;chr&gt; | ketamine &lt;int&gt; | date_rape &lt;int&gt; | GHB &lt;int&gt; | Rohypnol &lt;int&gt; | State &lt;chr&gt; | morning_after_pill &lt;int&gt; | roofie &lt;int&gt; | pills_to_avoid_preg &lt;int&gt; | how_much_is_morning_after_pill &lt;int&gt; | been_raped &lt;int&gt; | state_2 &lt;chr&gt; |\n|---|---|---|---|---|---|---|---|---|---|---|---|---|\n| 1 | 2022-02-23T11 | 14 | 0 | 0 | 0 | Arkansas | NA | NA | NA | NA | NA | NA |\n| 2 | 2022-02-23T12 | 14 | 0 | 0 | 0 | Arkansas | NA | NA | NA | NA | NA | NA |\n\n",
            "text/latex": "A data.frame: 2 × 12\n\\begin{tabular}{r|llllllllllll}\n  & Time & ketamine & date\\_rape & GHB & Rohypnol & State & morning\\_after\\_pill & roofie & pills\\_to\\_avoid\\_preg & how\\_much\\_is\\_morning\\_after\\_pill & been\\_raped & state\\_2\\\\\n  & <chr> & <int> & <int> & <int> & <int> & <chr> & <int> & <int> & <int> & <int> & <int> & <chr>\\\\\n\\hline\n\t1 & 2022-02-23T11 & 14 & 0 & 0 & 0 & Arkansas & NA & NA & NA & NA & NA & NA\\\\\n\t2 & 2022-02-23T12 & 14 & 0 & 0 & 0 & Arkansas & NA & NA & NA & NA & NA & NA\\\\\n\\end{tabular}\n",
            "text/plain": [
              "  Time          ketamine date_rape GHB Rohypnol State    morning_after_pill\n",
              "1 2022-02-23T11 14       0         0   0        Arkansas NA                \n",
              "2 2022-02-23T12 14       0         0   0        Arkansas NA                \n",
              "  roofie pills_to_avoid_preg how_much_is_morning_after_pill been_raped state_2\n",
              "1 NA     NA                  NA                             NA         NA     \n",
              "2 NA     NA                  NA                             NA         NA     "
            ]
          },
          "metadata": {}
        }
      ]
    },
    {
      "cell_type": "markdown",
      "source": [
        "## Loisiana"
      ],
      "metadata": {
        "id": "PRWdIgVpwHgG"
      }
    },
    {
      "cell_type": "code",
      "source": [
        "Full <- read.csv(\"/content/Louisiana.csv\", skip=0, header=TRUE)\n",
        "Short <- read.csv(\"/content/LO_2.csv\", skip=0, header=TRUE)\n",
        "LO_combo <- merge(Full,Short, by=\"Time\", all = T)\n",
        "head(LO_combo)"
      ],
      "metadata": {
        "id": "zh205MgFxtyF"
      },
      "execution_count": null,
      "outputs": []
    },
    {
      "cell_type": "code",
      "source": [
        "colnames(LO_combo) <- c(\"Time\",\"ketamine\",\"date_rape\",\"GHB\",\"Rohypnol\",\"State\",\n",
        "                        \"morning_after_pill\",\"roofie\",\"pills_to_avoid_preg\",\n",
        "                        \"how_much_is_morning_after_pill\",\"been_raped\",\"state_2\")\n",
        "head(LO_combo,2)"
      ],
      "metadata": {
        "colab": {
          "base_uri": "https://localhost:8080/",
          "height": 250
        },
        "id": "q4SgqosO3uuQ",
        "outputId": "6fc30ff6-cd49-4560-fabf-c43c41dd93b9"
      },
      "execution_count": null,
      "outputs": [
        {
          "output_type": "display_data",
          "data": {
            "text/html": [
              "<table class=\"dataframe\">\n",
              "<caption>A data.frame: 2 × 12</caption>\n",
              "<thead>\n",
              "\t<tr><th></th><th scope=col>Time</th><th scope=col>ketamine</th><th scope=col>date_rape</th><th scope=col>GHB</th><th scope=col>Rohypnol</th><th scope=col>State</th><th scope=col>morning_after_pill</th><th scope=col>roofie</th><th scope=col>pills_to_avoid_preg</th><th scope=col>how_much_is_morning_after_pill</th><th scope=col>been_raped</th><th scope=col>state_2</th></tr>\n",
              "\t<tr><th></th><th scope=col>&lt;chr&gt;</th><th scope=col>&lt;int&gt;</th><th scope=col>&lt;int&gt;</th><th scope=col>&lt;int&gt;</th><th scope=col>&lt;int&gt;</th><th scope=col>&lt;chr&gt;</th><th scope=col>&lt;int&gt;</th><th scope=col>&lt;int&gt;</th><th scope=col>&lt;int&gt;</th><th scope=col>&lt;int&gt;</th><th scope=col>&lt;int&gt;</th><th scope=col>&lt;chr&gt;</th></tr>\n",
              "</thead>\n",
              "<tbody>\n",
              "\t<tr><th scope=row>1</th><td>2022-02-23T12</td><td>16</td><td>5</td><td>0</td><td>0</td><td>Louisiana</td><td>NA</td><td>NA</td><td>NA</td><td>NA</td><td>NA</td><td>NA       </td></tr>\n",
              "\t<tr><th scope=row>2</th><td>2022-02-23T13</td><td>22</td><td>0</td><td>0</td><td>0</td><td>Louisiana</td><td>10</td><td> 0</td><td> 0</td><td> 0</td><td> 0</td><td>Louisiana</td></tr>\n",
              "</tbody>\n",
              "</table>\n"
            ],
            "text/markdown": "\nA data.frame: 2 × 12\n\n| <!--/--> | Time &lt;chr&gt; | ketamine &lt;int&gt; | date_rape &lt;int&gt; | GHB &lt;int&gt; | Rohypnol &lt;int&gt; | State &lt;chr&gt; | morning_after_pill &lt;int&gt; | roofie &lt;int&gt; | pills_to_avoid_preg &lt;int&gt; | how_much_is_morning_after_pill &lt;int&gt; | been_raped &lt;int&gt; | state_2 &lt;chr&gt; |\n|---|---|---|---|---|---|---|---|---|---|---|---|---|\n| 1 | 2022-02-23T12 | 16 | 5 | 0 | 0 | Louisiana | NA | NA | NA | NA | NA | NA        |\n| 2 | 2022-02-23T13 | 22 | 0 | 0 | 0 | Louisiana | 10 |  0 |  0 |  0 |  0 | Louisiana |\n\n",
            "text/latex": "A data.frame: 2 × 12\n\\begin{tabular}{r|llllllllllll}\n  & Time & ketamine & date\\_rape & GHB & Rohypnol & State & morning\\_after\\_pill & roofie & pills\\_to\\_avoid\\_preg & how\\_much\\_is\\_morning\\_after\\_pill & been\\_raped & state\\_2\\\\\n  & <chr> & <int> & <int> & <int> & <int> & <chr> & <int> & <int> & <int> & <int> & <int> & <chr>\\\\\n\\hline\n\t1 & 2022-02-23T12 & 16 & 5 & 0 & 0 & Louisiana & NA & NA & NA & NA & NA & NA       \\\\\n\t2 & 2022-02-23T13 & 22 & 0 & 0 & 0 & Louisiana & 10 &  0 &  0 &  0 &  0 & Louisiana\\\\\n\\end{tabular}\n",
            "text/plain": [
              "  Time          ketamine date_rape GHB Rohypnol State     morning_after_pill\n",
              "1 2022-02-23T12 16       5         0   0        Louisiana NA                \n",
              "2 2022-02-23T13 22       0         0   0        Louisiana 10                \n",
              "  roofie pills_to_avoid_preg how_much_is_morning_after_pill been_raped\n",
              "1 NA     NA                  NA                             NA        \n",
              "2  0      0                   0                              0        \n",
              "  state_2  \n",
              "1 NA       \n",
              "2 Louisiana"
            ]
          },
          "metadata": {}
        }
      ]
    },
    {
      "cell_type": "markdown",
      "source": [
        "## Texas"
      ],
      "metadata": {
        "id": "M0PcpQfMwHbd"
      }
    },
    {
      "cell_type": "code",
      "source": [
        "Full <- read.csv(\"/content/Texas.csv\", skip=0, header=TRUE)\n",
        "Short <- read.csv(\"/content/TX_2.csv\", skip=0, header=TRUE)\n",
        "TX_combo <- merge(Full,Short, by=\"Time\", all = T)\n",
        "head(TX_combo)"
      ],
      "metadata": {
        "id": "kxPX1fZFxu35"
      },
      "execution_count": null,
      "outputs": []
    },
    {
      "cell_type": "code",
      "source": [
        "colnames(TX_combo) <- c(\"Time\",\"ketamine\",\"date_rape\",\"GHB\",\"Rohypnol\",\"State\",\n",
        "                        \"morning_after_pill\",\"roofie\",\"pills_to_avoid_preg\",\n",
        "                        \"how_much_is_morning_after_pill\",\"been_raped\",\"state_2\")\n",
        "head(TX_combo,2)"
      ],
      "metadata": {
        "colab": {
          "base_uri": "https://localhost:8080/",
          "height": 250
        },
        "id": "d2VHTveM3x65",
        "outputId": "6731cb3f-7e18-44b9-b3a0-f925edd887a1"
      },
      "execution_count": null,
      "outputs": [
        {
          "output_type": "display_data",
          "data": {
            "text/html": [
              "<table class=\"dataframe\">\n",
              "<caption>A data.frame: 2 × 12</caption>\n",
              "<thead>\n",
              "\t<tr><th></th><th scope=col>Time</th><th scope=col>ketamine</th><th scope=col>date_rape</th><th scope=col>GHB</th><th scope=col>Rohypnol</th><th scope=col>State</th><th scope=col>morning_after_pill</th><th scope=col>roofie</th><th scope=col>pills_to_avoid_preg</th><th scope=col>how_much_is_morning_after_pill</th><th scope=col>been_raped</th><th scope=col>state_2</th></tr>\n",
              "\t<tr><th></th><th scope=col>&lt;chr&gt;</th><th scope=col>&lt;int&gt;</th><th scope=col>&lt;int&gt;</th><th scope=col>&lt;int&gt;</th><th scope=col>&lt;int&gt;</th><th scope=col>&lt;chr&gt;</th><th scope=col>&lt;int&gt;</th><th scope=col>&lt;int&gt;</th><th scope=col>&lt;int&gt;</th><th scope=col>&lt;int&gt;</th><th scope=col>&lt;int&gt;</th><th scope=col>&lt;chr&gt;</th></tr>\n",
              "</thead>\n",
              "<tbody>\n",
              "\t<tr><th scope=row>1</th><td>2022-02-23T12</td><td>26</td><td>11</td><td>6</td><td>1</td><td>Texas</td><td>NA</td><td>NA</td><td>NA</td><td>NA</td><td>NA</td><td>NA   </td></tr>\n",
              "\t<tr><th scope=row>2</th><td>2022-02-23T13</td><td>26</td><td> 3</td><td>4</td><td>1</td><td>Texas</td><td>12</td><td> 2</td><td> 0</td><td> 0</td><td> 0</td><td>Texas</td></tr>\n",
              "</tbody>\n",
              "</table>\n"
            ],
            "text/markdown": "\nA data.frame: 2 × 12\n\n| <!--/--> | Time &lt;chr&gt; | ketamine &lt;int&gt; | date_rape &lt;int&gt; | GHB &lt;int&gt; | Rohypnol &lt;int&gt; | State &lt;chr&gt; | morning_after_pill &lt;int&gt; | roofie &lt;int&gt; | pills_to_avoid_preg &lt;int&gt; | how_much_is_morning_after_pill &lt;int&gt; | been_raped &lt;int&gt; | state_2 &lt;chr&gt; |\n|---|---|---|---|---|---|---|---|---|---|---|---|---|\n| 1 | 2022-02-23T12 | 26 | 11 | 6 | 1 | Texas | NA | NA | NA | NA | NA | NA    |\n| 2 | 2022-02-23T13 | 26 |  3 | 4 | 1 | Texas | 12 |  2 |  0 |  0 |  0 | Texas |\n\n",
            "text/latex": "A data.frame: 2 × 12\n\\begin{tabular}{r|llllllllllll}\n  & Time & ketamine & date\\_rape & GHB & Rohypnol & State & morning\\_after\\_pill & roofie & pills\\_to\\_avoid\\_preg & how\\_much\\_is\\_morning\\_after\\_pill & been\\_raped & state\\_2\\\\\n  & <chr> & <int> & <int> & <int> & <int> & <chr> & <int> & <int> & <int> & <int> & <int> & <chr>\\\\\n\\hline\n\t1 & 2022-02-23T12 & 26 & 11 & 6 & 1 & Texas & NA & NA & NA & NA & NA & NA   \\\\\n\t2 & 2022-02-23T13 & 26 &  3 & 4 & 1 & Texas & 12 &  2 &  0 &  0 &  0 & Texas\\\\\n\\end{tabular}\n",
            "text/plain": [
              "  Time          ketamine date_rape GHB Rohypnol State morning_after_pill roofie\n",
              "1 2022-02-23T12 26       11        6   1        Texas NA                 NA    \n",
              "2 2022-02-23T13 26        3        4   1        Texas 12                  2    \n",
              "  pills_to_avoid_preg how_much_is_morning_after_pill been_raped state_2\n",
              "1 NA                  NA                             NA         NA     \n",
              "2  0                   0                              0         Texas  "
            ]
          },
          "metadata": {}
        }
      ]
    },
    {
      "cell_type": "markdown",
      "source": [
        "## Oklahaoma"
      ],
      "metadata": {
        "id": "7IY1vlKrwHXF"
      }
    },
    {
      "cell_type": "code",
      "source": [
        "Full <- read.csv(\"/content/Oklahoma.csv\", skip=0, header=TRUE)\n",
        "Short <- read.csv(\"/content/OK_2.csv\", skip=0, header=TRUE)\n",
        "head(OK_combo)"
      ],
      "metadata": {
        "id": "RkNVmk7Yxv_1"
      },
      "execution_count": null,
      "outputs": []
    },
    {
      "cell_type": "code",
      "source": [
        "colnames(OK_combo) <- c(\"Time\",\"ketamine\",\"date_rape\",\"GHB\",\"Rohypnol\",\"State\",\n",
        "                        \"morning_after_pill\",\"roofie\",\"pills_to_avoid_preg\",\n",
        "                        \"how_much_is_morning_after_pill\",\"been_raped\",\"state_2\")\n",
        "head(OK_combo,2)\n"
      ],
      "metadata": {
        "colab": {
          "base_uri": "https://localhost:8080/",
          "height": 250
        },
        "id": "G7UYF6Iz4EPE",
        "outputId": "e7b4ef26-c034-46fe-d95b-845c5a2506cd"
      },
      "execution_count": null,
      "outputs": [
        {
          "output_type": "display_data",
          "data": {
            "text/html": [
              "<table class=\"dataframe\">\n",
              "<caption>A data.frame: 2 × 12</caption>\n",
              "<thead>\n",
              "\t<tr><th></th><th scope=col>Time</th><th scope=col>ketamine</th><th scope=col>date_rape</th><th scope=col>GHB</th><th scope=col>Rohypnol</th><th scope=col>State</th><th scope=col>morning_after_pill</th><th scope=col>roofie</th><th scope=col>pills_to_avoid_preg</th><th scope=col>how_much_is_morning_after_pill</th><th scope=col>been_raped</th><th scope=col>state_2</th></tr>\n",
              "\t<tr><th></th><th scope=col>&lt;chr&gt;</th><th scope=col>&lt;int&gt;</th><th scope=col>&lt;int&gt;</th><th scope=col>&lt;int&gt;</th><th scope=col>&lt;int&gt;</th><th scope=col>&lt;chr&gt;</th><th scope=col>&lt;int&gt;</th><th scope=col>&lt;int&gt;</th><th scope=col>&lt;int&gt;</th><th scope=col>&lt;int&gt;</th><th scope=col>&lt;int&gt;</th><th scope=col>&lt;chr&gt;</th></tr>\n",
              "</thead>\n",
              "<tbody>\n",
              "\t<tr><th scope=row>1</th><td>2022-02-23T12</td><td>12</td><td>18</td><td>0</td><td>0</td><td>Oklahoma</td><td>NA</td><td>NA</td><td>NA</td><td>NA</td><td>NA</td><td>NA      </td></tr>\n",
              "\t<tr><th scope=row>2</th><td>2022-02-23T13</td><td>36</td><td> 0</td><td>0</td><td>0</td><td>Oklahoma</td><td> 0</td><td> 0</td><td> 0</td><td> 0</td><td> 0</td><td>Oklahoma</td></tr>\n",
              "</tbody>\n",
              "</table>\n"
            ],
            "text/markdown": "\nA data.frame: 2 × 12\n\n| <!--/--> | Time &lt;chr&gt; | ketamine &lt;int&gt; | date_rape &lt;int&gt; | GHB &lt;int&gt; | Rohypnol &lt;int&gt; | State &lt;chr&gt; | morning_after_pill &lt;int&gt; | roofie &lt;int&gt; | pills_to_avoid_preg &lt;int&gt; | how_much_is_morning_after_pill &lt;int&gt; | been_raped &lt;int&gt; | state_2 &lt;chr&gt; |\n|---|---|---|---|---|---|---|---|---|---|---|---|---|\n| 1 | 2022-02-23T12 | 12 | 18 | 0 | 0 | Oklahoma | NA | NA | NA | NA | NA | NA       |\n| 2 | 2022-02-23T13 | 36 |  0 | 0 | 0 | Oklahoma |  0 |  0 |  0 |  0 |  0 | Oklahoma |\n\n",
            "text/latex": "A data.frame: 2 × 12\n\\begin{tabular}{r|llllllllllll}\n  & Time & ketamine & date\\_rape & GHB & Rohypnol & State & morning\\_after\\_pill & roofie & pills\\_to\\_avoid\\_preg & how\\_much\\_is\\_morning\\_after\\_pill & been\\_raped & state\\_2\\\\\n  & <chr> & <int> & <int> & <int> & <int> & <chr> & <int> & <int> & <int> & <int> & <int> & <chr>\\\\\n\\hline\n\t1 & 2022-02-23T12 & 12 & 18 & 0 & 0 & Oklahoma & NA & NA & NA & NA & NA & NA      \\\\\n\t2 & 2022-02-23T13 & 36 &  0 & 0 & 0 & Oklahoma &  0 &  0 &  0 &  0 &  0 & Oklahoma\\\\\n\\end{tabular}\n",
            "text/plain": [
              "  Time          ketamine date_rape GHB Rohypnol State    morning_after_pill\n",
              "1 2022-02-23T12 12       18        0   0        Oklahoma NA                \n",
              "2 2022-02-23T13 36        0        0   0        Oklahoma  0                \n",
              "  roofie pills_to_avoid_preg how_much_is_morning_after_pill been_raped state_2 \n",
              "1 NA     NA                  NA                             NA         NA      \n",
              "2  0      0                   0                              0         Oklahoma"
            ]
          },
          "metadata": {}
        }
      ]
    },
    {
      "cell_type": "markdown",
      "source": [
        "## Mousouri______XXXXXXXXXXXXXXXXXXXXXXXXXXXXX"
      ],
      "metadata": {
        "id": "BTqKfeX8wHSq"
      }
    },
    {
      "cell_type": "code",
      "source": [
        "Full <- read.csv(\"/content/Missouri.csv\", skip=0, header=TRUE)\n",
        "Short <- read.csv(\"/content/MO_2.csv\", skip=0, header=TRUE)\n",
        "MO_combo <- merge(Full,Short, by=\"Time\", all = T)\n",
        "head(MO_combo)"
      ],
      "metadata": {
        "id": "5D2sUdmuxxHa"
      },
      "execution_count": null,
      "outputs": []
    },
    {
      "cell_type": "code",
      "source": [
        "colnames(MO_combo) <- c(\"Time\",\"ketamine\",\"date_rape\",\"GHB\",\"Rohypnol\",\"State\",\n",
        "                        \"morning_after_pill\",\"roofie\",\"pills_to_avoid_preg\",\n",
        "                        \"how_much_is_morning_after_pill\",\"been_raped\")\n",
        "head(MO_combo,2)"
      ],
      "metadata": {
        "colab": {
          "base_uri": "https://localhost:8080/",
          "height": 250
        },
        "id": "haCHmCbz4QS9",
        "outputId": "f6818ff4-d91c-4106-b1c4-8977a0a048d9"
      },
      "execution_count": null,
      "outputs": [
        {
          "output_type": "display_data",
          "data": {
            "text/html": [
              "<table class=\"dataframe\">\n",
              "<caption>A data.frame: 2 × 11</caption>\n",
              "<thead>\n",
              "\t<tr><th></th><th scope=col>Time</th><th scope=col>ketamine</th><th scope=col>date_rape</th><th scope=col>GHB</th><th scope=col>Rohypnol</th><th scope=col>State</th><th scope=col>morning_after_pill</th><th scope=col>roofie</th><th scope=col>pills_to_avoid_preg</th><th scope=col>how_much_is_morning_after_pill</th><th scope=col>been_raped</th></tr>\n",
              "\t<tr><th></th><th scope=col>&lt;chr&gt;</th><th scope=col>&lt;int&gt;</th><th scope=col>&lt;int&gt;</th><th scope=col>&lt;int&gt;</th><th scope=col>&lt;int&gt;</th><th scope=col>&lt;chr&gt;</th><th scope=col>&lt;int&gt;</th><th scope=col>&lt;int&gt;</th><th scope=col>&lt;int&gt;</th><th scope=col>&lt;int&gt;</th><th scope=col>&lt;int&gt;</th></tr>\n",
              "</thead>\n",
              "<tbody>\n",
              "\t<tr><th scope=row>1</th><td>2022-02-23T12</td><td>22</td><td>0</td><td>0</td><td>0</td><td>Missouri</td><td>NA</td><td>NA</td><td>NA</td><td>NA</td><td>NA</td></tr>\n",
              "\t<tr><th scope=row>2</th><td>2022-02-23T13</td><td>15</td><td>3</td><td>0</td><td>0</td><td>Missouri</td><td> 0</td><td> 0</td><td> 0</td><td> 0</td><td> 0</td></tr>\n",
              "</tbody>\n",
              "</table>\n"
            ],
            "text/markdown": "\nA data.frame: 2 × 11\n\n| <!--/--> | Time &lt;chr&gt; | ketamine &lt;int&gt; | date_rape &lt;int&gt; | GHB &lt;int&gt; | Rohypnol &lt;int&gt; | State &lt;chr&gt; | morning_after_pill &lt;int&gt; | roofie &lt;int&gt; | pills_to_avoid_preg &lt;int&gt; | how_much_is_morning_after_pill &lt;int&gt; | been_raped &lt;int&gt; |\n|---|---|---|---|---|---|---|---|---|---|---|---|\n| 1 | 2022-02-23T12 | 22 | 0 | 0 | 0 | Missouri | NA | NA | NA | NA | NA |\n| 2 | 2022-02-23T13 | 15 | 3 | 0 | 0 | Missouri |  0 |  0 |  0 |  0 |  0 |\n\n",
            "text/latex": "A data.frame: 2 × 11\n\\begin{tabular}{r|lllllllllll}\n  & Time & ketamine & date\\_rape & GHB & Rohypnol & State & morning\\_after\\_pill & roofie & pills\\_to\\_avoid\\_preg & how\\_much\\_is\\_morning\\_after\\_pill & been\\_raped\\\\\n  & <chr> & <int> & <int> & <int> & <int> & <chr> & <int> & <int> & <int> & <int> & <int>\\\\\n\\hline\n\t1 & 2022-02-23T12 & 22 & 0 & 0 & 0 & Missouri & NA & NA & NA & NA & NA\\\\\n\t2 & 2022-02-23T13 & 15 & 3 & 0 & 0 & Missouri &  0 &  0 &  0 &  0 &  0\\\\\n\\end{tabular}\n",
            "text/plain": [
              "  Time          ketamine date_rape GHB Rohypnol State    morning_after_pill\n",
              "1 2022-02-23T12 22       0         0   0        Missouri NA                \n",
              "2 2022-02-23T13 15       3         0   0        Missouri  0                \n",
              "  roofie pills_to_avoid_preg how_much_is_morning_after_pill been_raped\n",
              "1 NA     NA                  NA                             NA        \n",
              "2  0      0                   0                              0        "
            ]
          },
          "metadata": {}
        }
      ]
    },
    {
      "cell_type": "markdown",
      "source": [
        "## Iowa"
      ],
      "metadata": {
        "id": "1Z6k4Zs4wHOG"
      }
    },
    {
      "cell_type": "code",
      "source": [
        "Full <- read.csv(\"/content/Iowa.csv\", skip=0, header=TRUE)\n",
        "Short <- read.csv(\"/content/IW_2.csv\", skip=0, header=TRUE)\n",
        "IW_combo <- merge(Full,Short, by=\"Time\", all = T)\n",
        "head(IW_combo)"
      ],
      "metadata": {
        "id": "LKVQmZ1Hxywk"
      },
      "execution_count": null,
      "outputs": []
    },
    {
      "cell_type": "code",
      "source": [
        "colnames(IW_combo) <- c(\"Time\",\"ketamine\",\"date_rape\",\"GHB\",\"Rohypnol\",\"State\",\n",
        "                        \"morning_after_pill\",\"roofie\",\"pills_to_avoid_preg\",\n",
        "                        \"how_much_is_morning_after_pill\",\"been_raped\",\"state_2\")\n",
        "head(IW_combo,2)"
      ],
      "metadata": {
        "colab": {
          "base_uri": "https://localhost:8080/",
          "height": 250
        },
        "id": "ux3q2jWe4ex8",
        "outputId": "c16c29de-e421-48da-b283-e6c75e9cdce2"
      },
      "execution_count": null,
      "outputs": [
        {
          "output_type": "display_data",
          "data": {
            "text/html": [
              "<table class=\"dataframe\">\n",
              "<caption>A data.frame: 2 × 12</caption>\n",
              "<thead>\n",
              "\t<tr><th></th><th scope=col>Time</th><th scope=col>ketamine</th><th scope=col>date_rape</th><th scope=col>GHB</th><th scope=col>Rohypnol</th><th scope=col>State</th><th scope=col>morning_after_pill</th><th scope=col>roofie</th><th scope=col>pills_to_avoid_preg</th><th scope=col>how_much_is_morning_after_pill</th><th scope=col>been_raped</th><th scope=col>state_2</th></tr>\n",
              "\t<tr><th></th><th scope=col>&lt;chr&gt;</th><th scope=col>&lt;int&gt;</th><th scope=col>&lt;int&gt;</th><th scope=col>&lt;int&gt;</th><th scope=col>&lt;int&gt;</th><th scope=col>&lt;chr&gt;</th><th scope=col>&lt;int&gt;</th><th scope=col>&lt;int&gt;</th><th scope=col>&lt;int&gt;</th><th scope=col>&lt;int&gt;</th><th scope=col>&lt;int&gt;</th><th scope=col>&lt;chr&gt;</th></tr>\n",
              "</thead>\n",
              "<tbody>\n",
              "\t<tr><th scope=row>1</th><td>2022-02-23T12</td><td>25</td><td>0</td><td>0</td><td>0</td><td>Iowa</td><td>NA</td><td>NA</td><td>NA</td><td>NA</td><td>NA</td><td>NA  </td></tr>\n",
              "\t<tr><th scope=row>2</th><td>2022-02-23T13</td><td> 6</td><td>0</td><td>0</td><td>0</td><td>Iowa</td><td> 0</td><td> 0</td><td> 0</td><td> 0</td><td> 0</td><td>Iowa</td></tr>\n",
              "</tbody>\n",
              "</table>\n"
            ],
            "text/markdown": "\nA data.frame: 2 × 12\n\n| <!--/--> | Time &lt;chr&gt; | ketamine &lt;int&gt; | date_rape &lt;int&gt; | GHB &lt;int&gt; | Rohypnol &lt;int&gt; | State &lt;chr&gt; | morning_after_pill &lt;int&gt; | roofie &lt;int&gt; | pills_to_avoid_preg &lt;int&gt; | how_much_is_morning_after_pill &lt;int&gt; | been_raped &lt;int&gt; | state_2 &lt;chr&gt; |\n|---|---|---|---|---|---|---|---|---|---|---|---|---|\n| 1 | 2022-02-23T12 | 25 | 0 | 0 | 0 | Iowa | NA | NA | NA | NA | NA | NA   |\n| 2 | 2022-02-23T13 |  6 | 0 | 0 | 0 | Iowa |  0 |  0 |  0 |  0 |  0 | Iowa |\n\n",
            "text/latex": "A data.frame: 2 × 12\n\\begin{tabular}{r|llllllllllll}\n  & Time & ketamine & date\\_rape & GHB & Rohypnol & State & morning\\_after\\_pill & roofie & pills\\_to\\_avoid\\_preg & how\\_much\\_is\\_morning\\_after\\_pill & been\\_raped & state\\_2\\\\\n  & <chr> & <int> & <int> & <int> & <int> & <chr> & <int> & <int> & <int> & <int> & <int> & <chr>\\\\\n\\hline\n\t1 & 2022-02-23T12 & 25 & 0 & 0 & 0 & Iowa & NA & NA & NA & NA & NA & NA  \\\\\n\t2 & 2022-02-23T13 &  6 & 0 & 0 & 0 & Iowa &  0 &  0 &  0 &  0 &  0 & Iowa\\\\\n\\end{tabular}\n",
            "text/plain": [
              "  Time          ketamine date_rape GHB Rohypnol State morning_after_pill roofie\n",
              "1 2022-02-23T12 25       0         0   0        Iowa  NA                 NA    \n",
              "2 2022-02-23T13  6       0         0   0        Iowa   0                  0    \n",
              "  pills_to_avoid_preg how_much_is_morning_after_pill been_raped state_2\n",
              "1 NA                  NA                             NA         NA     \n",
              "2  0                   0                              0         Iowa   "
            ]
          },
          "metadata": {}
        }
      ]
    },
    {
      "cell_type": "markdown",
      "source": [
        "## Minnesota"
      ],
      "metadata": {
        "id": "ft50MKyHwHJk"
      }
    },
    {
      "cell_type": "code",
      "source": [
        "Full <- read.csv(\"//content/Minnesota.csv\", skip=0, header=TRUE)\n",
        "Short <- read.csv(\"/content/MN_2.csv\", skip=0, header=TRUE)\n",
        "MN_combo <- merge(Full,Short, by=\"Time\", all = T)\n",
        "head(MN_combo)"
      ],
      "metadata": {
        "id": "hNSHsJfVxz5N"
      },
      "execution_count": null,
      "outputs": []
    },
    {
      "cell_type": "code",
      "source": [
        "colnames(MN_combo) <- c(\"Time\",\"ketamine\",\"date_rape\",\"GHB\",\"Rohypnol\",\"State\",\n",
        "                        \"morning_after_pill\",\"roofie\",\"pills_to_avoid_preg\",\n",
        "                        \"how_much_is_morning_after_pill\",\"been_raped\",\"state_2\")\n",
        "head(MN_combo,2)"
      ],
      "metadata": {
        "colab": {
          "base_uri": "https://localhost:8080/",
          "height": 250
        },
        "id": "8zFgfNGB4iv1",
        "outputId": "4e8b5879-e4d5-4085-aa72-511105d94aa2"
      },
      "execution_count": null,
      "outputs": [
        {
          "output_type": "display_data",
          "data": {
            "text/html": [
              "<table class=\"dataframe\">\n",
              "<caption>A data.frame: 2 × 12</caption>\n",
              "<thead>\n",
              "\t<tr><th></th><th scope=col>Time</th><th scope=col>ketamine</th><th scope=col>date_rape</th><th scope=col>GHB</th><th scope=col>Rohypnol</th><th scope=col>State</th><th scope=col>morning_after_pill</th><th scope=col>roofie</th><th scope=col>pills_to_avoid_preg</th><th scope=col>how_much_is_morning_after_pill</th><th scope=col>been_raped</th><th scope=col>state_2</th></tr>\n",
              "\t<tr><th></th><th scope=col>&lt;chr&gt;</th><th scope=col>&lt;int&gt;</th><th scope=col>&lt;int&gt;</th><th scope=col>&lt;int&gt;</th><th scope=col>&lt;int&gt;</th><th scope=col>&lt;chr&gt;</th><th scope=col>&lt;int&gt;</th><th scope=col>&lt;int&gt;</th><th scope=col>&lt;int&gt;</th><th scope=col>&lt;int&gt;</th><th scope=col>&lt;int&gt;</th><th scope=col>&lt;chr&gt;</th></tr>\n",
              "</thead>\n",
              "<tbody>\n",
              "\t<tr><th scope=row>1</th><td>2022-02-23T12</td><td>43</td><td>0</td><td>0</td><td>0</td><td>Minnesota</td><td>NA</td><td>NA</td><td>NA</td><td>NA</td><td>NA</td><td>NA       </td></tr>\n",
              "\t<tr><th scope=row>2</th><td>2022-02-23T13</td><td>22</td><td>0</td><td>6</td><td>0</td><td>Minnesota</td><td> 0</td><td> 9</td><td> 0</td><td> 0</td><td> 0</td><td>Minnesota</td></tr>\n",
              "</tbody>\n",
              "</table>\n"
            ],
            "text/markdown": "\nA data.frame: 2 × 12\n\n| <!--/--> | Time &lt;chr&gt; | ketamine &lt;int&gt; | date_rape &lt;int&gt; | GHB &lt;int&gt; | Rohypnol &lt;int&gt; | State &lt;chr&gt; | morning_after_pill &lt;int&gt; | roofie &lt;int&gt; | pills_to_avoid_preg &lt;int&gt; | how_much_is_morning_after_pill &lt;int&gt; | been_raped &lt;int&gt; | state_2 &lt;chr&gt; |\n|---|---|---|---|---|---|---|---|---|---|---|---|---|\n| 1 | 2022-02-23T12 | 43 | 0 | 0 | 0 | Minnesota | NA | NA | NA | NA | NA | NA        |\n| 2 | 2022-02-23T13 | 22 | 0 | 6 | 0 | Minnesota |  0 |  9 |  0 |  0 |  0 | Minnesota |\n\n",
            "text/latex": "A data.frame: 2 × 12\n\\begin{tabular}{r|llllllllllll}\n  & Time & ketamine & date\\_rape & GHB & Rohypnol & State & morning\\_after\\_pill & roofie & pills\\_to\\_avoid\\_preg & how\\_much\\_is\\_morning\\_after\\_pill & been\\_raped & state\\_2\\\\\n  & <chr> & <int> & <int> & <int> & <int> & <chr> & <int> & <int> & <int> & <int> & <int> & <chr>\\\\\n\\hline\n\t1 & 2022-02-23T12 & 43 & 0 & 0 & 0 & Minnesota & NA & NA & NA & NA & NA & NA       \\\\\n\t2 & 2022-02-23T13 & 22 & 0 & 6 & 0 & Minnesota &  0 &  9 &  0 &  0 &  0 & Minnesota\\\\\n\\end{tabular}\n",
            "text/plain": [
              "  Time          ketamine date_rape GHB Rohypnol State     morning_after_pill\n",
              "1 2022-02-23T12 43       0         0   0        Minnesota NA                \n",
              "2 2022-02-23T13 22       0         6   0        Minnesota  0                \n",
              "  roofie pills_to_avoid_preg how_much_is_morning_after_pill been_raped\n",
              "1 NA     NA                  NA                             NA        \n",
              "2  9      0                   0                              0        \n",
              "  state_2  \n",
              "1 NA       \n",
              "2 Minnesota"
            ]
          },
          "metadata": {}
        }
      ]
    },
    {
      "cell_type": "markdown",
      "source": [
        "## NorthDakota"
      ],
      "metadata": {
        "id": "HMNMy223wHFq"
      }
    },
    {
      "cell_type": "code",
      "source": [
        "Full <- read.csv(\"/content/NorthDakota.csv\", skip=0, header=TRUE)\n",
        "Short <- read.csv(\"/content/ND_2.csv\", skip=0, header=TRUE)\n",
        "ND_combo <- merge(Full,Short, by=\"Time\", all = T)\n",
        "head(ND_combo)"
      ],
      "metadata": {
        "id": "gPElUKiAx1cL"
      },
      "execution_count": null,
      "outputs": []
    },
    {
      "cell_type": "code",
      "source": [
        "colnames(ND_combo) <- c(\"Time\",\"ketamine\",\"date_rape\",\"GHB\",\"Rohypnol\",\"State\",\n",
        "                        \"morning_after_pill\",\"roofie\",\"pills_to_avoid_preg\",\n",
        "                        \"how_much_is_morning_after_pill\",\"been_raped\",\"state_2\")\n",
        "head(ND_combo,2)"
      ],
      "metadata": {
        "colab": {
          "base_uri": "https://localhost:8080/",
          "height": 250
        },
        "id": "A6Q6AiUyx2m7",
        "outputId": "52fb3c9f-f5cd-49a3-ba5b-d5e4e8e6a891"
      },
      "execution_count": null,
      "outputs": [
        {
          "output_type": "display_data",
          "data": {
            "text/html": [
              "<table class=\"dataframe\">\n",
              "<caption>A data.frame: 2 × 12</caption>\n",
              "<thead>\n",
              "\t<tr><th></th><th scope=col>Time</th><th scope=col>ketamine</th><th scope=col>date_rape</th><th scope=col>GHB</th><th scope=col>Rohypnol</th><th scope=col>State</th><th scope=col>morning_after_pill</th><th scope=col>roofie</th><th scope=col>pills_to_avoid_preg</th><th scope=col>how_much_is_morning_after_pill</th><th scope=col>been_raped</th><th scope=col>state_2</th></tr>\n",
              "\t<tr><th></th><th scope=col>&lt;chr&gt;</th><th scope=col>&lt;int&gt;</th><th scope=col>&lt;int&gt;</th><th scope=col>&lt;int&gt;</th><th scope=col>&lt;int&gt;</th><th scope=col>&lt;chr&gt;</th><th scope=col>&lt;int&gt;</th><th scope=col>&lt;int&gt;</th><th scope=col>&lt;int&gt;</th><th scope=col>&lt;int&gt;</th><th scope=col>&lt;int&gt;</th><th scope=col>&lt;chr&gt;</th></tr>\n",
              "</thead>\n",
              "<tbody>\n",
              "\t<tr><th scope=row>1</th><td>2022-02-23T12</td><td> 9</td><td>0</td><td>0</td><td>0</td><td>North Dakota</td><td>NA</td><td>NA</td><td>NA</td><td>NA</td><td>NA</td><td>NA          </td></tr>\n",
              "\t<tr><th scope=row>2</th><td>2022-02-23T13</td><td>10</td><td>0</td><td>0</td><td>0</td><td>North Dakota</td><td> 0</td><td> 0</td><td> 0</td><td> 0</td><td> 0</td><td>North Dakota</td></tr>\n",
              "</tbody>\n",
              "</table>\n"
            ],
            "text/markdown": "\nA data.frame: 2 × 12\n\n| <!--/--> | Time &lt;chr&gt; | ketamine &lt;int&gt; | date_rape &lt;int&gt; | GHB &lt;int&gt; | Rohypnol &lt;int&gt; | State &lt;chr&gt; | morning_after_pill &lt;int&gt; | roofie &lt;int&gt; | pills_to_avoid_preg &lt;int&gt; | how_much_is_morning_after_pill &lt;int&gt; | been_raped &lt;int&gt; | state_2 &lt;chr&gt; |\n|---|---|---|---|---|---|---|---|---|---|---|---|---|\n| 1 | 2022-02-23T12 |  9 | 0 | 0 | 0 | North Dakota | NA | NA | NA | NA | NA | NA           |\n| 2 | 2022-02-23T13 | 10 | 0 | 0 | 0 | North Dakota |  0 |  0 |  0 |  0 |  0 | North Dakota |\n\n",
            "text/latex": "A data.frame: 2 × 12\n\\begin{tabular}{r|llllllllllll}\n  & Time & ketamine & date\\_rape & GHB & Rohypnol & State & morning\\_after\\_pill & roofie & pills\\_to\\_avoid\\_preg & how\\_much\\_is\\_morning\\_after\\_pill & been\\_raped & state\\_2\\\\\n  & <chr> & <int> & <int> & <int> & <int> & <chr> & <int> & <int> & <int> & <int> & <int> & <chr>\\\\\n\\hline\n\t1 & 2022-02-23T12 &  9 & 0 & 0 & 0 & North Dakota & NA & NA & NA & NA & NA & NA          \\\\\n\t2 & 2022-02-23T13 & 10 & 0 & 0 & 0 & North Dakota &  0 &  0 &  0 &  0 &  0 & North Dakota\\\\\n\\end{tabular}\n",
            "text/plain": [
              "  Time          ketamine date_rape GHB Rohypnol State        morning_after_pill\n",
              "1 2022-02-23T12  9       0         0   0        North Dakota NA                \n",
              "2 2022-02-23T13 10       0         0   0        North Dakota  0                \n",
              "  roofie pills_to_avoid_preg how_much_is_morning_after_pill been_raped\n",
              "1 NA     NA                  NA                             NA        \n",
              "2  0      0                   0                              0        \n",
              "  state_2     \n",
              "1 NA          \n",
              "2 North Dakota"
            ]
          },
          "metadata": {}
        }
      ]
    },
    {
      "cell_type": "markdown",
      "source": [
        "##SouthDakota"
      ],
      "metadata": {
        "id": "XqHqME0KwHA8"
      }
    },
    {
      "cell_type": "code",
      "source": [
        "Full <- read.csv(\"/content/SouthDakota.csv\", skip=0, header=TRUE)\n",
        "Short <- read.csv(\"/content/SD_2.csv\", skip=0, header=TRUE)\n",
        "SD_combo <- merge(Full,Short, by=\"Time\", all = T)\n",
        "head(SD_combo)"
      ],
      "metadata": {
        "id": "ItfGXeo8x3fP"
      },
      "execution_count": null,
      "outputs": []
    },
    {
      "cell_type": "code",
      "source": [
        "colnames(SD_combo) <- c(\"Time\",\"ketamine\",\"date_rape\",\"GHB\",\"Rohypnol\",\"State\",\n",
        "                        \"morning_after_pill\",\"roofie\",\"pills_to_avoid_preg\",\n",
        "                        \"how_much_is_morning_after_pill\",\"been_raped\",\"state_2\")\n",
        "head(SD_combo,2)"
      ],
      "metadata": {
        "colab": {
          "base_uri": "https://localhost:8080/",
          "height": 250
        },
        "id": "S3SYBj9I4q7N",
        "outputId": "28e84b9d-9592-4dae-867c-b2d603135901"
      },
      "execution_count": null,
      "outputs": [
        {
          "output_type": "display_data",
          "data": {
            "text/html": [
              "<table class=\"dataframe\">\n",
              "<caption>A data.frame: 2 × 12</caption>\n",
              "<thead>\n",
              "\t<tr><th></th><th scope=col>Time</th><th scope=col>ketamine</th><th scope=col>date_rape</th><th scope=col>GHB</th><th scope=col>Rohypnol</th><th scope=col>State</th><th scope=col>morning_after_pill</th><th scope=col>roofie</th><th scope=col>pills_to_avoid_preg</th><th scope=col>how_much_is_morning_after_pill</th><th scope=col>been_raped</th><th scope=col>state_2</th></tr>\n",
              "\t<tr><th></th><th scope=col>&lt;chr&gt;</th><th scope=col>&lt;int&gt;</th><th scope=col>&lt;int&gt;</th><th scope=col>&lt;int&gt;</th><th scope=col>&lt;int&gt;</th><th scope=col>&lt;chr&gt;</th><th scope=col>&lt;lgl&gt;</th><th scope=col>&lt;lgl&gt;</th><th scope=col>&lt;lgl&gt;</th><th scope=col>&lt;lgl&gt;</th><th scope=col>&lt;lgl&gt;</th><th scope=col>&lt;lgl&gt;</th></tr>\n",
              "</thead>\n",
              "<tbody>\n",
              "\t<tr><th scope=row>1</th><td>2022-02-23T12</td><td>0</td><td>0</td><td>11</td><td>0</td><td>South Dakota</td><td>NA</td><td>NA</td><td>NA</td><td>NA</td><td>NA</td><td>NA</td></tr>\n",
              "\t<tr><th scope=row>2</th><td>2022-02-23T13</td><td>0</td><td>0</td><td> 0</td><td>0</td><td>South Dakota</td><td>NA</td><td>NA</td><td>NA</td><td>NA</td><td>NA</td><td>NA</td></tr>\n",
              "</tbody>\n",
              "</table>\n"
            ],
            "text/markdown": "\nA data.frame: 2 × 12\n\n| <!--/--> | Time &lt;chr&gt; | ketamine &lt;int&gt; | date_rape &lt;int&gt; | GHB &lt;int&gt; | Rohypnol &lt;int&gt; | State &lt;chr&gt; | morning_after_pill &lt;lgl&gt; | roofie &lt;lgl&gt; | pills_to_avoid_preg &lt;lgl&gt; | how_much_is_morning_after_pill &lt;lgl&gt; | been_raped &lt;lgl&gt; | state_2 &lt;lgl&gt; |\n|---|---|---|---|---|---|---|---|---|---|---|---|---|\n| 1 | 2022-02-23T12 | 0 | 0 | 11 | 0 | South Dakota | NA | NA | NA | NA | NA | NA |\n| 2 | 2022-02-23T13 | 0 | 0 |  0 | 0 | South Dakota | NA | NA | NA | NA | NA | NA |\n\n",
            "text/latex": "A data.frame: 2 × 12\n\\begin{tabular}{r|llllllllllll}\n  & Time & ketamine & date\\_rape & GHB & Rohypnol & State & morning\\_after\\_pill & roofie & pills\\_to\\_avoid\\_preg & how\\_much\\_is\\_morning\\_after\\_pill & been\\_raped & state\\_2\\\\\n  & <chr> & <int> & <int> & <int> & <int> & <chr> & <lgl> & <lgl> & <lgl> & <lgl> & <lgl> & <lgl>\\\\\n\\hline\n\t1 & 2022-02-23T12 & 0 & 0 & 11 & 0 & South Dakota & NA & NA & NA & NA & NA & NA\\\\\n\t2 & 2022-02-23T13 & 0 & 0 &  0 & 0 & South Dakota & NA & NA & NA & NA & NA & NA\\\\\n\\end{tabular}\n",
            "text/plain": [
              "  Time          ketamine date_rape GHB Rohypnol State        morning_after_pill\n",
              "1 2022-02-23T12 0        0         11  0        South Dakota NA                \n",
              "2 2022-02-23T13 0        0          0  0        South Dakota NA                \n",
              "  roofie pills_to_avoid_preg how_much_is_morning_after_pill been_raped state_2\n",
              "1 NA     NA                  NA                             NA         NA     \n",
              "2 NA     NA                  NA                             NA         NA     "
            ]
          },
          "metadata": {}
        }
      ]
    },
    {
      "cell_type": "markdown",
      "source": [
        "##Nebraska"
      ],
      "metadata": {
        "id": "tj-yQ644wG7W"
      }
    },
    {
      "cell_type": "code",
      "source": [
        "Full <- read.csv(\"/content/Nebraska.csv\", skip=0, header=TRUE)\n",
        "Short <- read.csv(\"/content/NE_2.csv\", skip=0, header=TRUE)\n",
        "NE_combo <- merge(Full,Short, by=\"Time\", all = T)\n",
        "head(NE_combo)"
      ],
      "metadata": {
        "id": "twsjQQ1fx4q9"
      },
      "execution_count": null,
      "outputs": []
    },
    {
      "cell_type": "code",
      "source": [
        "colnames(NE_combo) <- c(\"Time\",\"ketamine\",\"date_rape\",\"GHB\",\"Rohypnol\",\"State\",\n",
        "                        \"morning_after_pill\",\"roofie\",\"pills_to_avoid_preg\",\n",
        "                        \"how_much_is_morning_after_pill\",\"been_raped\",\"state_2\")\n",
        "head(NE_combo,2)"
      ],
      "metadata": {
        "colab": {
          "base_uri": "https://localhost:8080/",
          "height": 250
        },
        "id": "ZrWcFKrj4vGI",
        "outputId": "7fa60255-40c6-40f4-a159-c01a9b8c51eb"
      },
      "execution_count": null,
      "outputs": [
        {
          "output_type": "display_data",
          "data": {
            "text/html": [
              "<table class=\"dataframe\">\n",
              "<caption>A data.frame: 2 × 12</caption>\n",
              "<thead>\n",
              "\t<tr><th></th><th scope=col>Time</th><th scope=col>ketamine</th><th scope=col>date_rape</th><th scope=col>GHB</th><th scope=col>Rohypnol</th><th scope=col>State</th><th scope=col>morning_after_pill</th><th scope=col>roofie</th><th scope=col>pills_to_avoid_preg</th><th scope=col>how_much_is_morning_after_pill</th><th scope=col>been_raped</th><th scope=col>state_2</th></tr>\n",
              "\t<tr><th></th><th scope=col>&lt;chr&gt;</th><th scope=col>&lt;int&gt;</th><th scope=col>&lt;int&gt;</th><th scope=col>&lt;int&gt;</th><th scope=col>&lt;int&gt;</th><th scope=col>&lt;chr&gt;</th><th scope=col>&lt;int&gt;</th><th scope=col>&lt;int&gt;</th><th scope=col>&lt;int&gt;</th><th scope=col>&lt;int&gt;</th><th scope=col>&lt;int&gt;</th><th scope=col>&lt;chr&gt;</th></tr>\n",
              "</thead>\n",
              "<tbody>\n",
              "\t<tr><th scope=row>1</th><td>2022-02-23T12</td><td>10</td><td>5</td><td> 0</td><td>0</td><td>Nevada</td><td>NA</td><td>NA</td><td>NA</td><td>NA</td><td>NA</td><td>NA      </td></tr>\n",
              "\t<tr><th scope=row>2</th><td>2022-02-23T13</td><td> 0</td><td>0</td><td>14</td><td>0</td><td>Nevada</td><td> 0</td><td> 0</td><td> 0</td><td> 0</td><td> 0</td><td>Nebraska</td></tr>\n",
              "</tbody>\n",
              "</table>\n"
            ],
            "text/markdown": "\nA data.frame: 2 × 12\n\n| <!--/--> | Time &lt;chr&gt; | ketamine &lt;int&gt; | date_rape &lt;int&gt; | GHB &lt;int&gt; | Rohypnol &lt;int&gt; | State &lt;chr&gt; | morning_after_pill &lt;int&gt; | roofie &lt;int&gt; | pills_to_avoid_preg &lt;int&gt; | how_much_is_morning_after_pill &lt;int&gt; | been_raped &lt;int&gt; | state_2 &lt;chr&gt; |\n|---|---|---|---|---|---|---|---|---|---|---|---|---|\n| 1 | 2022-02-23T12 | 10 | 5 |  0 | 0 | Nevada | NA | NA | NA | NA | NA | NA       |\n| 2 | 2022-02-23T13 |  0 | 0 | 14 | 0 | Nevada |  0 |  0 |  0 |  0 |  0 | Nebraska |\n\n",
            "text/latex": "A data.frame: 2 × 12\n\\begin{tabular}{r|llllllllllll}\n  & Time & ketamine & date\\_rape & GHB & Rohypnol & State & morning\\_after\\_pill & roofie & pills\\_to\\_avoid\\_preg & how\\_much\\_is\\_morning\\_after\\_pill & been\\_raped & state\\_2\\\\\n  & <chr> & <int> & <int> & <int> & <int> & <chr> & <int> & <int> & <int> & <int> & <int> & <chr>\\\\\n\\hline\n\t1 & 2022-02-23T12 & 10 & 5 &  0 & 0 & Nevada & NA & NA & NA & NA & NA & NA      \\\\\n\t2 & 2022-02-23T13 &  0 & 0 & 14 & 0 & Nevada &  0 &  0 &  0 &  0 &  0 & Nebraska\\\\\n\\end{tabular}\n",
            "text/plain": [
              "  Time          ketamine date_rape GHB Rohypnol State  morning_after_pill\n",
              "1 2022-02-23T12 10       5          0  0        Nevada NA                \n",
              "2 2022-02-23T13  0       0         14  0        Nevada  0                \n",
              "  roofie pills_to_avoid_preg how_much_is_morning_after_pill been_raped state_2 \n",
              "1 NA     NA                  NA                             NA         NA      \n",
              "2  0      0                   0                              0         Nebraska"
            ]
          },
          "metadata": {}
        }
      ]
    },
    {
      "cell_type": "markdown",
      "source": [
        "## Kansas"
      ],
      "metadata": {
        "id": "KU28oLTcrc1r"
      }
    },
    {
      "cell_type": "code",
      "source": [
        "Full <- read.csv(\"/content/Kansas.csv\", skip=0, header=TRUE)\n",
        "Short <- read.csv(\"/content/KS_2.csv\", skip=0, header=TRUE)\n",
        "KS_combo <- merge(Full,Short, by=\"Time\", all = T)\n",
        "head(KS_combo)"
      ],
      "metadata": {
        "id": "pQKluJHWx5sU"
      },
      "execution_count": null,
      "outputs": []
    },
    {
      "cell_type": "code",
      "source": [
        "colnames(KS_combo) <- c(\"Time\",\"ketamine\",\"date_rape\",\"GHB\",\"Rohypnol\",\"State\",\n",
        "                        \"morning_after_pill\",\"roofie\",\"pills_to_avoid_preg\",\n",
        "                        \"how_much_is_morning_after_pill\",\"been_raped\",\"state_2\")\n",
        "head(KS_combo,2)"
      ],
      "metadata": {
        "colab": {
          "base_uri": "https://localhost:8080/",
          "height": 250
        },
        "id": "tDRbexzf4zL-",
        "outputId": "902581b7-ed9d-4ee4-af84-cc8dae45490d"
      },
      "execution_count": null,
      "outputs": [
        {
          "output_type": "display_data",
          "data": {
            "text/html": [
              "<table class=\"dataframe\">\n",
              "<caption>A data.frame: 2 × 12</caption>\n",
              "<thead>\n",
              "\t<tr><th></th><th scope=col>Time</th><th scope=col>ketamine</th><th scope=col>date_rape</th><th scope=col>GHB</th><th scope=col>Rohypnol</th><th scope=col>State</th><th scope=col>morning_after_pill</th><th scope=col>roofie</th><th scope=col>pills_to_avoid_preg</th><th scope=col>how_much_is_morning_after_pill</th><th scope=col>been_raped</th><th scope=col>state_2</th></tr>\n",
              "\t<tr><th></th><th scope=col>&lt;chr&gt;</th><th scope=col>&lt;int&gt;</th><th scope=col>&lt;int&gt;</th><th scope=col>&lt;int&gt;</th><th scope=col>&lt;int&gt;</th><th scope=col>&lt;chr&gt;</th><th scope=col>&lt;int&gt;</th><th scope=col>&lt;int&gt;</th><th scope=col>&lt;int&gt;</th><th scope=col>&lt;int&gt;</th><th scope=col>&lt;int&gt;</th><th scope=col>&lt;chr&gt;</th></tr>\n",
              "</thead>\n",
              "<tbody>\n",
              "\t<tr><th scope=row>1</th><td>2022-02-23T12</td><td> 6</td><td>0</td><td>0</td><td>5</td><td>Kansas</td><td>NA</td><td>NA</td><td>NA</td><td>NA</td><td>NA</td><td>NA    </td></tr>\n",
              "\t<tr><th scope=row>2</th><td>2022-02-23T13</td><td>17</td><td>0</td><td>0</td><td>0</td><td>Kansas</td><td> 0</td><td> 0</td><td> 0</td><td> 0</td><td> 0</td><td>Kansas</td></tr>\n",
              "</tbody>\n",
              "</table>\n"
            ],
            "text/markdown": "\nA data.frame: 2 × 12\n\n| <!--/--> | Time &lt;chr&gt; | ketamine &lt;int&gt; | date_rape &lt;int&gt; | GHB &lt;int&gt; | Rohypnol &lt;int&gt; | State &lt;chr&gt; | morning_after_pill &lt;int&gt; | roofie &lt;int&gt; | pills_to_avoid_preg &lt;int&gt; | how_much_is_morning_after_pill &lt;int&gt; | been_raped &lt;int&gt; | state_2 &lt;chr&gt; |\n|---|---|---|---|---|---|---|---|---|---|---|---|---|\n| 1 | 2022-02-23T12 |  6 | 0 | 0 | 5 | Kansas | NA | NA | NA | NA | NA | NA     |\n| 2 | 2022-02-23T13 | 17 | 0 | 0 | 0 | Kansas |  0 |  0 |  0 |  0 |  0 | Kansas |\n\n",
            "text/latex": "A data.frame: 2 × 12\n\\begin{tabular}{r|llllllllllll}\n  & Time & ketamine & date\\_rape & GHB & Rohypnol & State & morning\\_after\\_pill & roofie & pills\\_to\\_avoid\\_preg & how\\_much\\_is\\_morning\\_after\\_pill & been\\_raped & state\\_2\\\\\n  & <chr> & <int> & <int> & <int> & <int> & <chr> & <int> & <int> & <int> & <int> & <int> & <chr>\\\\\n\\hline\n\t1 & 2022-02-23T12 &  6 & 0 & 0 & 5 & Kansas & NA & NA & NA & NA & NA & NA    \\\\\n\t2 & 2022-02-23T13 & 17 & 0 & 0 & 0 & Kansas &  0 &  0 &  0 &  0 &  0 & Kansas\\\\\n\\end{tabular}\n",
            "text/plain": [
              "  Time          ketamine date_rape GHB Rohypnol State  morning_after_pill\n",
              "1 2022-02-23T12  6       0         0   5        Kansas NA                \n",
              "2 2022-02-23T13 17       0         0   0        Kansas  0                \n",
              "  roofie pills_to_avoid_preg how_much_is_morning_after_pill been_raped state_2\n",
              "1 NA     NA                  NA                             NA         NA     \n",
              "2  0      0                   0                              0         Kansas "
            ]
          },
          "metadata": {}
        }
      ]
    },
    {
      "cell_type": "markdown",
      "source": [
        "## New Mexico"
      ],
      "metadata": {
        "id": "LSFyuFC6wzD1"
      }
    },
    {
      "cell_type": "code",
      "source": [
        "Full <- read.csv(\"/content/NewMexico.csv\", skip=0, header=TRUE)\n",
        "Short <- read.csv(\"/content/NM_2.csv\", skip=0, header=TRUE)\n",
        "NM_combo <- merge(Full,Short, by=\"Time\", all = T)\n",
        "head(NM_combo)"
      ],
      "metadata": {
        "id": "9-b2pqgPx644"
      },
      "execution_count": null,
      "outputs": []
    },
    {
      "cell_type": "code",
      "source": [
        "colnames(NM_combo) <- c(\"Time\",\"ketamine\",\"date_rape\",\"GHB\",\"Rohypnol\",\"State\",\n",
        "                        \"morning_after_pill\",\"roofie\",\"pills_to_avoid_preg\",\n",
        "                        \"how_much_is_morning_after_pill\",\"been_raped\",\"state_2\")\n",
        "head(NM_combo,2)"
      ],
      "metadata": {
        "colab": {
          "base_uri": "https://localhost:8080/",
          "height": 250
        },
        "id": "TaiGUb0_42oz",
        "outputId": "0c9986f9-8961-40f2-b60e-886cd487233e"
      },
      "execution_count": null,
      "outputs": [
        {
          "output_type": "display_data",
          "data": {
            "text/html": [
              "<table class=\"dataframe\">\n",
              "<caption>A data.frame: 2 × 12</caption>\n",
              "<thead>\n",
              "\t<tr><th></th><th scope=col>Time</th><th scope=col>ketamine</th><th scope=col>date_rape</th><th scope=col>GHB</th><th scope=col>Rohypnol</th><th scope=col>State</th><th scope=col>morning_after_pill</th><th scope=col>roofie</th><th scope=col>pills_to_avoid_preg</th><th scope=col>how_much_is_morning_after_pill</th><th scope=col>been_raped</th><th scope=col>state_2</th></tr>\n",
              "\t<tr><th></th><th scope=col>&lt;chr&gt;</th><th scope=col>&lt;int&gt;</th><th scope=col>&lt;int&gt;</th><th scope=col>&lt;int&gt;</th><th scope=col>&lt;int&gt;</th><th scope=col>&lt;chr&gt;</th><th scope=col>&lt;int&gt;</th><th scope=col>&lt;int&gt;</th><th scope=col>&lt;int&gt;</th><th scope=col>&lt;int&gt;</th><th scope=col>&lt;int&gt;</th><th scope=col>&lt;chr&gt;</th></tr>\n",
              "</thead>\n",
              "<tbody>\n",
              "\t<tr><th scope=row>1</th><td>2022-02-23T12</td><td>16</td><td>0</td><td>0</td><td>0</td><td>New Mexico</td><td>NA</td><td>NA</td><td>NA</td><td>NA</td><td>NA</td><td>NA        </td></tr>\n",
              "\t<tr><th scope=row>2</th><td>2022-02-23T13</td><td>32</td><td>0</td><td>0</td><td>0</td><td>New Mexico</td><td>11</td><td> 0</td><td> 0</td><td> 0</td><td> 0</td><td>New Mexico</td></tr>\n",
              "</tbody>\n",
              "</table>\n"
            ],
            "text/markdown": "\nA data.frame: 2 × 12\n\n| <!--/--> | Time &lt;chr&gt; | ketamine &lt;int&gt; | date_rape &lt;int&gt; | GHB &lt;int&gt; | Rohypnol &lt;int&gt; | State &lt;chr&gt; | morning_after_pill &lt;int&gt; | roofie &lt;int&gt; | pills_to_avoid_preg &lt;int&gt; | how_much_is_morning_after_pill &lt;int&gt; | been_raped &lt;int&gt; | state_2 &lt;chr&gt; |\n|---|---|---|---|---|---|---|---|---|---|---|---|---|\n| 1 | 2022-02-23T12 | 16 | 0 | 0 | 0 | New Mexico | NA | NA | NA | NA | NA | NA         |\n| 2 | 2022-02-23T13 | 32 | 0 | 0 | 0 | New Mexico | 11 |  0 |  0 |  0 |  0 | New Mexico |\n\n",
            "text/latex": "A data.frame: 2 × 12\n\\begin{tabular}{r|llllllllllll}\n  & Time & ketamine & date\\_rape & GHB & Rohypnol & State & morning\\_after\\_pill & roofie & pills\\_to\\_avoid\\_preg & how\\_much\\_is\\_morning\\_after\\_pill & been\\_raped & state\\_2\\\\\n  & <chr> & <int> & <int> & <int> & <int> & <chr> & <int> & <int> & <int> & <int> & <int> & <chr>\\\\\n\\hline\n\t1 & 2022-02-23T12 & 16 & 0 & 0 & 0 & New Mexico & NA & NA & NA & NA & NA & NA        \\\\\n\t2 & 2022-02-23T13 & 32 & 0 & 0 & 0 & New Mexico & 11 &  0 &  0 &  0 &  0 & New Mexico\\\\\n\\end{tabular}\n",
            "text/plain": [
              "  Time          ketamine date_rape GHB Rohypnol State      morning_after_pill\n",
              "1 2022-02-23T12 16       0         0   0        New Mexico NA                \n",
              "2 2022-02-23T13 32       0         0   0        New Mexico 11                \n",
              "  roofie pills_to_avoid_preg how_much_is_morning_after_pill been_raped\n",
              "1 NA     NA                  NA                             NA        \n",
              "2  0      0                   0                              0        \n",
              "  state_2   \n",
              "1 NA        \n",
              "2 New Mexico"
            ]
          },
          "metadata": {}
        }
      ]
    },
    {
      "cell_type": "markdown",
      "source": [
        "## Colorado"
      ],
      "metadata": {
        "id": "Z9hn4x-xwzAl"
      }
    },
    {
      "cell_type": "code",
      "source": [
        "Full <- read.csv(\"/content/Colorado.csv\", skip=0, header=TRUE)\n",
        "Short <- read.csv(\"/content/CO_2.csv\", skip=0, header=TRUE)\n",
        "CO_combo <- merge(Full,Short, by=\"Time\", all = T)\n",
        "head(CO_combo)"
      ],
      "metadata": {
        "id": "EEZUur4ax8D5"
      },
      "execution_count": null,
      "outputs": []
    },
    {
      "cell_type": "code",
      "source": [
        "colnames(CO_combo) <- c(\"Time\",\"ketamine\",\"date_rape\",\"GHB\",\"Rohypnol\",\"State\",\n",
        "                        \"morning_after_pill\",\"roofie\",\"pills_to_avoid_preg\",\n",
        "                        \"how_much_is_morning_after_pill\",\"been_raped\",\"state_2\")\n",
        "head(CO_combo,2)"
      ],
      "metadata": {
        "colab": {
          "base_uri": "https://localhost:8080/",
          "height": 250
        },
        "id": "ya_8PM6i47W3",
        "outputId": "547adca2-5427-4e0d-afe8-0ea367584dba"
      },
      "execution_count": null,
      "outputs": [
        {
          "output_type": "display_data",
          "data": {
            "text/html": [
              "<table class=\"dataframe\">\n",
              "<caption>A data.frame: 2 × 12</caption>\n",
              "<thead>\n",
              "\t<tr><th></th><th scope=col>Time</th><th scope=col>ketamine</th><th scope=col>date_rape</th><th scope=col>GHB</th><th scope=col>Rohypnol</th><th scope=col>State</th><th scope=col>morning_after_pill</th><th scope=col>roofie</th><th scope=col>pills_to_avoid_preg</th><th scope=col>how_much_is_morning_after_pill</th><th scope=col>been_raped</th><th scope=col>state_2</th></tr>\n",
              "\t<tr><th></th><th scope=col>&lt;chr&gt;</th><th scope=col>&lt;int&gt;</th><th scope=col>&lt;int&gt;</th><th scope=col>&lt;int&gt;</th><th scope=col>&lt;int&gt;</th><th scope=col>&lt;chr&gt;</th><th scope=col>&lt;int&gt;</th><th scope=col>&lt;int&gt;</th><th scope=col>&lt;int&gt;</th><th scope=col>&lt;int&gt;</th><th scope=col>&lt;int&gt;</th><th scope=col>&lt;chr&gt;</th></tr>\n",
              "</thead>\n",
              "<tbody>\n",
              "\t<tr><th scope=row>1</th><td>2022-02-23T11</td><td>11</td><td>0</td><td>0</td><td>0</td><td>Colorado</td><td>NA</td><td>NA</td><td>NA</td><td>NA</td><td>NA</td><td>NA</td></tr>\n",
              "\t<tr><th scope=row>2</th><td>2022-02-23T12</td><td>12</td><td>0</td><td>2</td><td>0</td><td>Colorado</td><td>NA</td><td>NA</td><td>NA</td><td>NA</td><td>NA</td><td>NA</td></tr>\n",
              "</tbody>\n",
              "</table>\n"
            ],
            "text/markdown": "\nA data.frame: 2 × 12\n\n| <!--/--> | Time &lt;chr&gt; | ketamine &lt;int&gt; | date_rape &lt;int&gt; | GHB &lt;int&gt; | Rohypnol &lt;int&gt; | State &lt;chr&gt; | morning_after_pill &lt;int&gt; | roofie &lt;int&gt; | pills_to_avoid_preg &lt;int&gt; | how_much_is_morning_after_pill &lt;int&gt; | been_raped &lt;int&gt; | state_2 &lt;chr&gt; |\n|---|---|---|---|---|---|---|---|---|---|---|---|---|\n| 1 | 2022-02-23T11 | 11 | 0 | 0 | 0 | Colorado | NA | NA | NA | NA | NA | NA |\n| 2 | 2022-02-23T12 | 12 | 0 | 2 | 0 | Colorado | NA | NA | NA | NA | NA | NA |\n\n",
            "text/latex": "A data.frame: 2 × 12\n\\begin{tabular}{r|llllllllllll}\n  & Time & ketamine & date\\_rape & GHB & Rohypnol & State & morning\\_after\\_pill & roofie & pills\\_to\\_avoid\\_preg & how\\_much\\_is\\_morning\\_after\\_pill & been\\_raped & state\\_2\\\\\n  & <chr> & <int> & <int> & <int> & <int> & <chr> & <int> & <int> & <int> & <int> & <int> & <chr>\\\\\n\\hline\n\t1 & 2022-02-23T11 & 11 & 0 & 0 & 0 & Colorado & NA & NA & NA & NA & NA & NA\\\\\n\t2 & 2022-02-23T12 & 12 & 0 & 2 & 0 & Colorado & NA & NA & NA & NA & NA & NA\\\\\n\\end{tabular}\n",
            "text/plain": [
              "  Time          ketamine date_rape GHB Rohypnol State    morning_after_pill\n",
              "1 2022-02-23T11 11       0         0   0        Colorado NA                \n",
              "2 2022-02-23T12 12       0         2   0        Colorado NA                \n",
              "  roofie pills_to_avoid_preg how_much_is_morning_after_pill been_raped state_2\n",
              "1 NA     NA                  NA                             NA         NA     \n",
              "2 NA     NA                  NA                             NA         NA     "
            ]
          },
          "metadata": {}
        }
      ]
    },
    {
      "cell_type": "markdown",
      "source": [
        "## Wyoming"
      ],
      "metadata": {
        "id": "u2k8nkuBwy9o"
      }
    },
    {
      "cell_type": "code",
      "source": [
        "Full <- read.csv(\"/content/Wyoming.csv\", skip=0, header=TRUE)\n",
        "Short <- read.csv(\"/content/WY_2.csv\", skip=0, header=TRUE)\n",
        "WY_combo <- merge(Full,Short, by=\"Time\", all = T)\n",
        "head(WY_combo)"
      ],
      "metadata": {
        "id": "gb-Yqcnwx9cL"
      },
      "execution_count": null,
      "outputs": []
    },
    {
      "cell_type": "code",
      "source": [
        "colnames(WY_combo) <- c(\"Time\",\"ketamine\",\"date_rape\",\"GHB\",\"Rohypnol\",\"State\",\n",
        "                        \"morning_after_pill\",\"roofie\",\"pills_to_avoid_preg\",\n",
        "                        \"how_much_is_morning_after_pill\",\"been_raped\",\"state_2\")\n",
        "head(WY_combo,2)"
      ],
      "metadata": {
        "colab": {
          "base_uri": "https://localhost:8080/",
          "height": 250
        },
        "id": "0DVeNWHJ4-_a",
        "outputId": "4abb7620-65a7-4486-f5fb-aeb85b0271d4"
      },
      "execution_count": null,
      "outputs": [
        {
          "output_type": "display_data",
          "data": {
            "text/html": [
              "<table class=\"dataframe\">\n",
              "<caption>A data.frame: 2 × 12</caption>\n",
              "<thead>\n",
              "\t<tr><th></th><th scope=col>Time</th><th scope=col>ketamine</th><th scope=col>date_rape</th><th scope=col>GHB</th><th scope=col>Rohypnol</th><th scope=col>State</th><th scope=col>morning_after_pill</th><th scope=col>roofie</th><th scope=col>pills_to_avoid_preg</th><th scope=col>how_much_is_morning_after_pill</th><th scope=col>been_raped</th><th scope=col>state_2</th></tr>\n",
              "\t<tr><th></th><th scope=col>&lt;chr&gt;</th><th scope=col>&lt;int&gt;</th><th scope=col>&lt;int&gt;</th><th scope=col>&lt;int&gt;</th><th scope=col>&lt;int&gt;</th><th scope=col>&lt;chr&gt;</th><th scope=col>&lt;lgl&gt;</th><th scope=col>&lt;lgl&gt;</th><th scope=col>&lt;lgl&gt;</th><th scope=col>&lt;lgl&gt;</th><th scope=col>&lt;lgl&gt;</th><th scope=col>&lt;lgl&gt;</th></tr>\n",
              "</thead>\n",
              "<tbody>\n",
              "\t<tr><th scope=row>1</th><td>2022-02-23T12</td><td>14</td><td>0</td><td> 0</td><td>0</td><td>Wyoming</td><td>NA</td><td>NA</td><td>NA</td><td>NA</td><td>NA</td><td>NA</td></tr>\n",
              "\t<tr><th scope=row>2</th><td>2022-02-23T13</td><td>14</td><td>0</td><td>14</td><td>0</td><td>Wyoming</td><td>NA</td><td>NA</td><td>NA</td><td>NA</td><td>NA</td><td>NA</td></tr>\n",
              "</tbody>\n",
              "</table>\n"
            ],
            "text/markdown": "\nA data.frame: 2 × 12\n\n| <!--/--> | Time &lt;chr&gt; | ketamine &lt;int&gt; | date_rape &lt;int&gt; | GHB &lt;int&gt; | Rohypnol &lt;int&gt; | State &lt;chr&gt; | morning_after_pill &lt;lgl&gt; | roofie &lt;lgl&gt; | pills_to_avoid_preg &lt;lgl&gt; | how_much_is_morning_after_pill &lt;lgl&gt; | been_raped &lt;lgl&gt; | state_2 &lt;lgl&gt; |\n|---|---|---|---|---|---|---|---|---|---|---|---|---|\n| 1 | 2022-02-23T12 | 14 | 0 |  0 | 0 | Wyoming | NA | NA | NA | NA | NA | NA |\n| 2 | 2022-02-23T13 | 14 | 0 | 14 | 0 | Wyoming | NA | NA | NA | NA | NA | NA |\n\n",
            "text/latex": "A data.frame: 2 × 12\n\\begin{tabular}{r|llllllllllll}\n  & Time & ketamine & date\\_rape & GHB & Rohypnol & State & morning\\_after\\_pill & roofie & pills\\_to\\_avoid\\_preg & how\\_much\\_is\\_morning\\_after\\_pill & been\\_raped & state\\_2\\\\\n  & <chr> & <int> & <int> & <int> & <int> & <chr> & <lgl> & <lgl> & <lgl> & <lgl> & <lgl> & <lgl>\\\\\n\\hline\n\t1 & 2022-02-23T12 & 14 & 0 &  0 & 0 & Wyoming & NA & NA & NA & NA & NA & NA\\\\\n\t2 & 2022-02-23T13 & 14 & 0 & 14 & 0 & Wyoming & NA & NA & NA & NA & NA & NA\\\\\n\\end{tabular}\n",
            "text/plain": [
              "  Time          ketamine date_rape GHB Rohypnol State   morning_after_pill\n",
              "1 2022-02-23T12 14       0          0  0        Wyoming NA                \n",
              "2 2022-02-23T13 14       0         14  0        Wyoming NA                \n",
              "  roofie pills_to_avoid_preg how_much_is_morning_after_pill been_raped state_2\n",
              "1 NA     NA                  NA                             NA         NA     \n",
              "2 NA     NA                  NA                             NA         NA     "
            ]
          },
          "metadata": {}
        }
      ]
    },
    {
      "cell_type": "markdown",
      "source": [
        "## Montana"
      ],
      "metadata": {
        "id": "Xj-Xbu1ewy6g"
      }
    },
    {
      "cell_type": "code",
      "source": [
        "Full <- read.csv(\"/content/Montana.csv\", skip=0, header=TRUE)\n",
        "Short <- read.csv(\"/content/MT_2.csv\", skip=0, header=TRUE)\n",
        "MT_combo <- merge(Full,Short, by=\"Time\", all = T)\n",
        "head(MT_combo)"
      ],
      "metadata": {
        "id": "Bs9iPcj9x-rb"
      },
      "execution_count": null,
      "outputs": []
    },
    {
      "cell_type": "code",
      "source": [
        "colnames(MT_combo) <- c(\"Time\",\"ketamine\",\"date_rape\",\"GHB\",\"Rohypnol\",\"State\",\n",
        "                        \"morning_after_pill\",\"roofie\",\"pills_to_avoid_preg\",\n",
        "                        \"how_much_is_morning_after_pill\",\"been_raped\",\"state_2\")\n",
        "head(MT_combo,2)"
      ],
      "metadata": {
        "colab": {
          "base_uri": "https://localhost:8080/",
          "height": 250
        },
        "id": "Y1pkBTFp5Czb",
        "outputId": "5e88c77f-83b8-479f-91b7-f22671f9763c"
      },
      "execution_count": null,
      "outputs": [
        {
          "output_type": "display_data",
          "data": {
            "text/html": [
              "<table class=\"dataframe\">\n",
              "<caption>A data.frame: 2 × 12</caption>\n",
              "<thead>\n",
              "\t<tr><th></th><th scope=col>Time</th><th scope=col>ketamine</th><th scope=col>date_rape</th><th scope=col>GHB</th><th scope=col>Rohypnol</th><th scope=col>State</th><th scope=col>morning_after_pill</th><th scope=col>roofie</th><th scope=col>pills_to_avoid_preg</th><th scope=col>how_much_is_morning_after_pill</th><th scope=col>been_raped</th><th scope=col>state_2</th></tr>\n",
              "\t<tr><th></th><th scope=col>&lt;chr&gt;</th><th scope=col>&lt;int&gt;</th><th scope=col>&lt;int&gt;</th><th scope=col>&lt;int&gt;</th><th scope=col>&lt;int&gt;</th><th scope=col>&lt;chr&gt;</th><th scope=col>&lt;int&gt;</th><th scope=col>&lt;int&gt;</th><th scope=col>&lt;int&gt;</th><th scope=col>&lt;int&gt;</th><th scope=col>&lt;int&gt;</th><th scope=col>&lt;chr&gt;</th></tr>\n",
              "</thead>\n",
              "<tbody>\n",
              "\t<tr><th scope=row>1</th><td>2022-02-23T12</td><td>0</td><td>0</td><td>0</td><td>0</td><td>Montana</td><td>NA</td><td>NA</td><td>NA</td><td>NA</td><td>NA</td><td>NA     </td></tr>\n",
              "\t<tr><th scope=row>2</th><td>2022-02-23T13</td><td>8</td><td>0</td><td>0</td><td>0</td><td>Montana</td><td> 0</td><td> 0</td><td> 0</td><td> 0</td><td> 0</td><td>Montana</td></tr>\n",
              "</tbody>\n",
              "</table>\n"
            ],
            "text/markdown": "\nA data.frame: 2 × 12\n\n| <!--/--> | Time &lt;chr&gt; | ketamine &lt;int&gt; | date_rape &lt;int&gt; | GHB &lt;int&gt; | Rohypnol &lt;int&gt; | State &lt;chr&gt; | morning_after_pill &lt;int&gt; | roofie &lt;int&gt; | pills_to_avoid_preg &lt;int&gt; | how_much_is_morning_after_pill &lt;int&gt; | been_raped &lt;int&gt; | state_2 &lt;chr&gt; |\n|---|---|---|---|---|---|---|---|---|---|---|---|---|\n| 1 | 2022-02-23T12 | 0 | 0 | 0 | 0 | Montana | NA | NA | NA | NA | NA | NA      |\n| 2 | 2022-02-23T13 | 8 | 0 | 0 | 0 | Montana |  0 |  0 |  0 |  0 |  0 | Montana |\n\n",
            "text/latex": "A data.frame: 2 × 12\n\\begin{tabular}{r|llllllllllll}\n  & Time & ketamine & date\\_rape & GHB & Rohypnol & State & morning\\_after\\_pill & roofie & pills\\_to\\_avoid\\_preg & how\\_much\\_is\\_morning\\_after\\_pill & been\\_raped & state\\_2\\\\\n  & <chr> & <int> & <int> & <int> & <int> & <chr> & <int> & <int> & <int> & <int> & <int> & <chr>\\\\\n\\hline\n\t1 & 2022-02-23T12 & 0 & 0 & 0 & 0 & Montana & NA & NA & NA & NA & NA & NA     \\\\\n\t2 & 2022-02-23T13 & 8 & 0 & 0 & 0 & Montana &  0 &  0 &  0 &  0 &  0 & Montana\\\\\n\\end{tabular}\n",
            "text/plain": [
              "  Time          ketamine date_rape GHB Rohypnol State   morning_after_pill\n",
              "1 2022-02-23T12 0        0         0   0        Montana NA                \n",
              "2 2022-02-23T13 8        0         0   0        Montana  0                \n",
              "  roofie pills_to_avoid_preg how_much_is_morning_after_pill been_raped state_2\n",
              "1 NA     NA                  NA                             NA         NA     \n",
              "2  0      0                   0                              0         Montana"
            ]
          },
          "metadata": {}
        }
      ]
    },
    {
      "cell_type": "markdown",
      "source": [
        "## Idaho"
      ],
      "metadata": {
        "id": "7rsVVhIVwy3O"
      }
    },
    {
      "cell_type": "code",
      "source": [
        "Full <- read.csv(\"/content/Idaho.csv\", skip=0, header=TRUE)\n",
        "Short <- read.csv(\"//content/ID_2.csv\", skip=0, header=TRUE)\n",
        "ID_combo <- merge(Full,Short, by=\"Time\", all = T)\n",
        "head(ID_combo)"
      ],
      "metadata": {
        "id": "id52_awsx_xf"
      },
      "execution_count": null,
      "outputs": []
    },
    {
      "cell_type": "code",
      "source": [
        "colnames(ID_combo) <- c(\"Time\",\"ketamine\",\"date_rape\",\"GHB\",\"Rohypnol\",\"State\",\n",
        "                        \"morning_after_pill\",\"roofie\",\"pills_to_avoid_preg\",\n",
        "                        \"how_much_is_morning_after_pill\",\"been_raped\",\"state_2\")\n",
        "head(ID_combo,2)"
      ],
      "metadata": {
        "colab": {
          "base_uri": "https://localhost:8080/",
          "height": 250
        },
        "id": "7Kwvq__b5Jo1",
        "outputId": "da9d731f-51ea-4663-cbd2-0c843e7ca55d"
      },
      "execution_count": null,
      "outputs": [
        {
          "output_type": "display_data",
          "data": {
            "text/html": [
              "<table class=\"dataframe\">\n",
              "<caption>A data.frame: 2 × 12</caption>\n",
              "<thead>\n",
              "\t<tr><th></th><th scope=col>Time</th><th scope=col>ketamine</th><th scope=col>date_rape</th><th scope=col>GHB</th><th scope=col>Rohypnol</th><th scope=col>State</th><th scope=col>morning_after_pill</th><th scope=col>roofie</th><th scope=col>pills_to_avoid_preg</th><th scope=col>how_much_is_morning_after_pill</th><th scope=col>been_raped</th><th scope=col>state_2</th></tr>\n",
              "\t<tr><th></th><th scope=col>&lt;chr&gt;</th><th scope=col>&lt;int&gt;</th><th scope=col>&lt;int&gt;</th><th scope=col>&lt;int&gt;</th><th scope=col>&lt;int&gt;</th><th scope=col>&lt;chr&gt;</th><th scope=col>&lt;int&gt;</th><th scope=col>&lt;int&gt;</th><th scope=col>&lt;int&gt;</th><th scope=col>&lt;int&gt;</th><th scope=col>&lt;int&gt;</th><th scope=col>&lt;chr&gt;</th></tr>\n",
              "</thead>\n",
              "<tbody>\n",
              "\t<tr><th scope=row>1</th><td>2022-02-23T12</td><td>17</td><td>0</td><td>8</td><td>0</td><td>Idaho</td><td>NA</td><td>NA</td><td>NA</td><td>NA</td><td>NA</td><td>NA   </td></tr>\n",
              "\t<tr><th scope=row>2</th><td>2022-02-23T13</td><td>17</td><td>8</td><td>0</td><td>0</td><td>Idaho</td><td>11</td><td> 0</td><td> 0</td><td> 0</td><td> 0</td><td>Idaho</td></tr>\n",
              "</tbody>\n",
              "</table>\n"
            ],
            "text/markdown": "\nA data.frame: 2 × 12\n\n| <!--/--> | Time &lt;chr&gt; | ketamine &lt;int&gt; | date_rape &lt;int&gt; | GHB &lt;int&gt; | Rohypnol &lt;int&gt; | State &lt;chr&gt; | morning_after_pill &lt;int&gt; | roofie &lt;int&gt; | pills_to_avoid_preg &lt;int&gt; | how_much_is_morning_after_pill &lt;int&gt; | been_raped &lt;int&gt; | state_2 &lt;chr&gt; |\n|---|---|---|---|---|---|---|---|---|---|---|---|---|\n| 1 | 2022-02-23T12 | 17 | 0 | 8 | 0 | Idaho | NA | NA | NA | NA | NA | NA    |\n| 2 | 2022-02-23T13 | 17 | 8 | 0 | 0 | Idaho | 11 |  0 |  0 |  0 |  0 | Idaho |\n\n",
            "text/latex": "A data.frame: 2 × 12\n\\begin{tabular}{r|llllllllllll}\n  & Time & ketamine & date\\_rape & GHB & Rohypnol & State & morning\\_after\\_pill & roofie & pills\\_to\\_avoid\\_preg & how\\_much\\_is\\_morning\\_after\\_pill & been\\_raped & state\\_2\\\\\n  & <chr> & <int> & <int> & <int> & <int> & <chr> & <int> & <int> & <int> & <int> & <int> & <chr>\\\\\n\\hline\n\t1 & 2022-02-23T12 & 17 & 0 & 8 & 0 & Idaho & NA & NA & NA & NA & NA & NA   \\\\\n\t2 & 2022-02-23T13 & 17 & 8 & 0 & 0 & Idaho & 11 &  0 &  0 &  0 &  0 & Idaho\\\\\n\\end{tabular}\n",
            "text/plain": [
              "  Time          ketamine date_rape GHB Rohypnol State morning_after_pill roofie\n",
              "1 2022-02-23T12 17       0         8   0        Idaho NA                 NA    \n",
              "2 2022-02-23T13 17       8         0   0        Idaho 11                  0    \n",
              "  pills_to_avoid_preg how_much_is_morning_after_pill been_raped state_2\n",
              "1 NA                  NA                             NA         NA     \n",
              "2  0                   0                              0         Idaho  "
            ]
          },
          "metadata": {}
        }
      ]
    },
    {
      "cell_type": "markdown",
      "source": [
        "## Utaho"
      ],
      "metadata": {
        "id": "PM94oOuFwyd0"
      }
    },
    {
      "cell_type": "code",
      "source": [
        "Full <- read.csv(\"/content/Utah.csv\", skip=0, header=TRUE)\n",
        "Short <- read.csv(\"/content/UT_2.csv\", skip=0, header=TRUE)\n",
        "UT_combo <- merge(Full,Short, by=\"Time\", all = T)\n",
        "head(UT_combo)"
      ],
      "metadata": {
        "id": "Q_jbE5DLyBmO"
      },
      "execution_count": null,
      "outputs": []
    },
    {
      "cell_type": "code",
      "source": [
        "colnames(UT_combo) <- c(\"Time\",\"ketamine\",\"date_rape\",\"GHB\",\"Rohypnol\",\"State\",\n",
        "                        \"morning_after_pill\",\"roofie\",\"pills_to_avoid_preg\",\n",
        "                        \"how_much_is_morning_after_pill\",\"been_raped\",\"state_2\")\n",
        "head(UT_combo,2)"
      ],
      "metadata": {
        "colab": {
          "base_uri": "https://localhost:8080/",
          "height": 250
        },
        "id": "O_t8SIQ35Nmk",
        "outputId": "b6bd8efe-241d-4514-f204-c5cb3876d018"
      },
      "execution_count": null,
      "outputs": [
        {
          "output_type": "display_data",
          "data": {
            "text/html": [
              "<table class=\"dataframe\">\n",
              "<caption>A data.frame: 2 × 12</caption>\n",
              "<thead>\n",
              "\t<tr><th></th><th scope=col>Time</th><th scope=col>ketamine</th><th scope=col>date_rape</th><th scope=col>GHB</th><th scope=col>Rohypnol</th><th scope=col>State</th><th scope=col>morning_after_pill</th><th scope=col>roofie</th><th scope=col>pills_to_avoid_preg</th><th scope=col>how_much_is_morning_after_pill</th><th scope=col>been_raped</th><th scope=col>state_2</th></tr>\n",
              "\t<tr><th></th><th scope=col>&lt;chr&gt;</th><th scope=col>&lt;int&gt;</th><th scope=col>&lt;int&gt;</th><th scope=col>&lt;int&gt;</th><th scope=col>&lt;int&gt;</th><th scope=col>&lt;chr&gt;</th><th scope=col>&lt;int&gt;</th><th scope=col>&lt;int&gt;</th><th scope=col>&lt;int&gt;</th><th scope=col>&lt;int&gt;</th><th scope=col>&lt;int&gt;</th><th scope=col>&lt;chr&gt;</th></tr>\n",
              "</thead>\n",
              "<tbody>\n",
              "\t<tr><th scope=row>1</th><td>2022-02-23T12</td><td>11</td><td>0</td><td>0</td><td>0</td><td>Utah</td><td>NA</td><td>NA</td><td>NA</td><td>NA</td><td>NA</td><td>NA  </td></tr>\n",
              "\t<tr><th scope=row>2</th><td>2022-02-23T13</td><td>18</td><td>0</td><td>0</td><td>0</td><td>Utah</td><td> 8</td><td> 0</td><td> 0</td><td> 0</td><td> 0</td><td>Utah</td></tr>\n",
              "</tbody>\n",
              "</table>\n"
            ],
            "text/markdown": "\nA data.frame: 2 × 12\n\n| <!--/--> | Time &lt;chr&gt; | ketamine &lt;int&gt; | date_rape &lt;int&gt; | GHB &lt;int&gt; | Rohypnol &lt;int&gt; | State &lt;chr&gt; | morning_after_pill &lt;int&gt; | roofie &lt;int&gt; | pills_to_avoid_preg &lt;int&gt; | how_much_is_morning_after_pill &lt;int&gt; | been_raped &lt;int&gt; | state_2 &lt;chr&gt; |\n|---|---|---|---|---|---|---|---|---|---|---|---|---|\n| 1 | 2022-02-23T12 | 11 | 0 | 0 | 0 | Utah | NA | NA | NA | NA | NA | NA   |\n| 2 | 2022-02-23T13 | 18 | 0 | 0 | 0 | Utah |  8 |  0 |  0 |  0 |  0 | Utah |\n\n",
            "text/latex": "A data.frame: 2 × 12\n\\begin{tabular}{r|llllllllllll}\n  & Time & ketamine & date\\_rape & GHB & Rohypnol & State & morning\\_after\\_pill & roofie & pills\\_to\\_avoid\\_preg & how\\_much\\_is\\_morning\\_after\\_pill & been\\_raped & state\\_2\\\\\n  & <chr> & <int> & <int> & <int> & <int> & <chr> & <int> & <int> & <int> & <int> & <int> & <chr>\\\\\n\\hline\n\t1 & 2022-02-23T12 & 11 & 0 & 0 & 0 & Utah & NA & NA & NA & NA & NA & NA  \\\\\n\t2 & 2022-02-23T13 & 18 & 0 & 0 & 0 & Utah &  8 &  0 &  0 &  0 &  0 & Utah\\\\\n\\end{tabular}\n",
            "text/plain": [
              "  Time          ketamine date_rape GHB Rohypnol State morning_after_pill roofie\n",
              "1 2022-02-23T12 11       0         0   0        Utah  NA                 NA    \n",
              "2 2022-02-23T13 18       0         0   0        Utah   8                  0    \n",
              "  pills_to_avoid_preg how_much_is_morning_after_pill been_raped state_2\n",
              "1 NA                  NA                             NA         NA     \n",
              "2  0                   0                              0         Utah   "
            ]
          },
          "metadata": {}
        }
      ]
    },
    {
      "cell_type": "markdown",
      "source": [
        "## Arizona"
      ],
      "metadata": {
        "id": "d8CZTdGxwyYc"
      }
    },
    {
      "cell_type": "code",
      "source": [
        "Full <- read.csv(\"/content/Arizona_data.csv\", skip=0, header=TRUE)\n",
        "Short <- read.csv(\"/content/AZ_2.csv\", skip=0, header=TRUE)\n",
        "AZ_combo <- merge(Full,Short, by=\"Time\", all = T)\n",
        "head(AZ_combo)"
      ],
      "metadata": {
        "id": "eE4JgqE_yCvv"
      },
      "execution_count": null,
      "outputs": []
    },
    {
      "cell_type": "code",
      "source": [
        "colnames(AZ_combo) <- c(\"Time\",\"ketamine\",\"date_rape\",\"GHB\",\"Rohypnol\",\"State\",\n",
        "                        \"morning_after_pill\",\"roofie\",\"pills_to_avoid_preg\",\n",
        "                        \"how_much_is_morning_after_pill\",\"been_raped\",\"state_2\")\n",
        "head(AZ_combo,2)"
      ],
      "metadata": {
        "colab": {
          "base_uri": "https://localhost:8080/",
          "height": 250
        },
        "id": "U-UD4cXG5ZnC",
        "outputId": "7965c516-e499-4ed8-f267-ff01643915d9"
      },
      "execution_count": null,
      "outputs": [
        {
          "output_type": "display_data",
          "data": {
            "text/html": [
              "<table class=\"dataframe\">\n",
              "<caption>A data.frame: 2 × 12</caption>\n",
              "<thead>\n",
              "\t<tr><th></th><th scope=col>Time</th><th scope=col>ketamine</th><th scope=col>date_rape</th><th scope=col>GHB</th><th scope=col>Rohypnol</th><th scope=col>State</th><th scope=col>morning_after_pill</th><th scope=col>roofie</th><th scope=col>pills_to_avoid_preg</th><th scope=col>how_much_is_morning_after_pill</th><th scope=col>been_raped</th><th scope=col>state_2</th></tr>\n",
              "\t<tr><th></th><th scope=col>&lt;chr&gt;</th><th scope=col>&lt;int&gt;</th><th scope=col>&lt;int&gt;</th><th scope=col>&lt;int&gt;</th><th scope=col>&lt;int&gt;</th><th scope=col>&lt;chr&gt;</th><th scope=col>&lt;int&gt;</th><th scope=col>&lt;int&gt;</th><th scope=col>&lt;int&gt;</th><th scope=col>&lt;int&gt;</th><th scope=col>&lt;int&gt;</th><th scope=col>&lt;chr&gt;</th></tr>\n",
              "</thead>\n",
              "<tbody>\n",
              "\t<tr><th scope=row>1</th><td>2022-02-23T11</td><td>39</td><td>3</td><td>10</td><td>0</td><td>Arizona</td><td>NA</td><td>NA</td><td>NA</td><td>NA</td><td>NA</td><td>NA</td></tr>\n",
              "\t<tr><th scope=row>2</th><td>2022-02-23T12</td><td>44</td><td>3</td><td> 0</td><td>3</td><td>Arizona</td><td>NA</td><td>NA</td><td>NA</td><td>NA</td><td>NA</td><td>NA</td></tr>\n",
              "</tbody>\n",
              "</table>\n"
            ],
            "text/markdown": "\nA data.frame: 2 × 12\n\n| <!--/--> | Time &lt;chr&gt; | ketamine &lt;int&gt; | date_rape &lt;int&gt; | GHB &lt;int&gt; | Rohypnol &lt;int&gt; | State &lt;chr&gt; | morning_after_pill &lt;int&gt; | roofie &lt;int&gt; | pills_to_avoid_preg &lt;int&gt; | how_much_is_morning_after_pill &lt;int&gt; | been_raped &lt;int&gt; | state_2 &lt;chr&gt; |\n|---|---|---|---|---|---|---|---|---|---|---|---|---|\n| 1 | 2022-02-23T11 | 39 | 3 | 10 | 0 | Arizona | NA | NA | NA | NA | NA | NA |\n| 2 | 2022-02-23T12 | 44 | 3 |  0 | 3 | Arizona | NA | NA | NA | NA | NA | NA |\n\n",
            "text/latex": "A data.frame: 2 × 12\n\\begin{tabular}{r|llllllllllll}\n  & Time & ketamine & date\\_rape & GHB & Rohypnol & State & morning\\_after\\_pill & roofie & pills\\_to\\_avoid\\_preg & how\\_much\\_is\\_morning\\_after\\_pill & been\\_raped & state\\_2\\\\\n  & <chr> & <int> & <int> & <int> & <int> & <chr> & <int> & <int> & <int> & <int> & <int> & <chr>\\\\\n\\hline\n\t1 & 2022-02-23T11 & 39 & 3 & 10 & 0 & Arizona & NA & NA & NA & NA & NA & NA\\\\\n\t2 & 2022-02-23T12 & 44 & 3 &  0 & 3 & Arizona & NA & NA & NA & NA & NA & NA\\\\\n\\end{tabular}\n",
            "text/plain": [
              "  Time          ketamine date_rape GHB Rohypnol State   morning_after_pill\n",
              "1 2022-02-23T11 39       3         10  0        Arizona NA                \n",
              "2 2022-02-23T12 44       3          0  3        Arizona NA                \n",
              "  roofie pills_to_avoid_preg how_much_is_morning_after_pill been_raped state_2\n",
              "1 NA     NA                  NA                             NA         NA     \n",
              "2 NA     NA                  NA                             NA         NA     "
            ]
          },
          "metadata": {}
        }
      ]
    },
    {
      "cell_type": "markdown",
      "source": [
        "## Nevada"
      ],
      "metadata": {
        "id": "i_MwYlG2wyVT"
      }
    },
    {
      "cell_type": "code",
      "source": [
        "Full <- read.csv(\"/content/Nevada.csv\", skip=0, header=TRUE)\n",
        "Short <- read.csv(\"/content/NE_2.csv\", skip=0, header=TRUE)\n",
        "NE_combo <- merge(Full,Short, by=\"Time\", all = T)\n",
        "head(NE_combo)"
      ],
      "metadata": {
        "id": "6ZsN2vIjyEaZ"
      },
      "execution_count": null,
      "outputs": []
    },
    {
      "cell_type": "code",
      "source": [
        "colnames(NE_combo) <- c(\"Time\",\"ketamine\",\"date_rape\",\"GHB\",\"Rohypnol\",\"State\",\n",
        "                        \"morning_after_pill\",\"roofie\",\"pills_to_avoid_preg\",\n",
        "                        \"how_much_is_morning_after_pill\",\"been_raped\",\"state_2\")\n",
        "head(NE_combo,2)"
      ],
      "metadata": {
        "colab": {
          "base_uri": "https://localhost:8080/",
          "height": 250
        },
        "id": "9Bc-_J8b5fwB",
        "outputId": "f43c8324-339a-4e1e-9082-f16f89725e5c"
      },
      "execution_count": null,
      "outputs": [
        {
          "output_type": "display_data",
          "data": {
            "text/html": [
              "<table class=\"dataframe\">\n",
              "<caption>A data.frame: 2 × 12</caption>\n",
              "<thead>\n",
              "\t<tr><th></th><th scope=col>Time</th><th scope=col>ketamine</th><th scope=col>date_rape</th><th scope=col>GHB</th><th scope=col>Rohypnol</th><th scope=col>State</th><th scope=col>morning_after_pill</th><th scope=col>roofie</th><th scope=col>pills_to_avoid_preg</th><th scope=col>how_much_is_morning_after_pill</th><th scope=col>been_raped</th><th scope=col>state_2</th></tr>\n",
              "\t<tr><th></th><th scope=col>&lt;chr&gt;</th><th scope=col>&lt;int&gt;</th><th scope=col>&lt;int&gt;</th><th scope=col>&lt;int&gt;</th><th scope=col>&lt;int&gt;</th><th scope=col>&lt;chr&gt;</th><th scope=col>&lt;int&gt;</th><th scope=col>&lt;int&gt;</th><th scope=col>&lt;int&gt;</th><th scope=col>&lt;int&gt;</th><th scope=col>&lt;int&gt;</th><th scope=col>&lt;chr&gt;</th></tr>\n",
              "</thead>\n",
              "<tbody>\n",
              "\t<tr><th scope=row>1</th><td>2022-02-23T12</td><td>10</td><td>5</td><td> 0</td><td>0</td><td>Nevada</td><td>NA</td><td>NA</td><td>NA</td><td>NA</td><td>NA</td><td>NA      </td></tr>\n",
              "\t<tr><th scope=row>2</th><td>2022-02-23T13</td><td> 0</td><td>0</td><td>14</td><td>0</td><td>Nevada</td><td> 0</td><td> 0</td><td> 0</td><td> 0</td><td> 0</td><td>Nebraska</td></tr>\n",
              "</tbody>\n",
              "</table>\n"
            ],
            "text/markdown": "\nA data.frame: 2 × 12\n\n| <!--/--> | Time &lt;chr&gt; | ketamine &lt;int&gt; | date_rape &lt;int&gt; | GHB &lt;int&gt; | Rohypnol &lt;int&gt; | State &lt;chr&gt; | morning_after_pill &lt;int&gt; | roofie &lt;int&gt; | pills_to_avoid_preg &lt;int&gt; | how_much_is_morning_after_pill &lt;int&gt; | been_raped &lt;int&gt; | state_2 &lt;chr&gt; |\n|---|---|---|---|---|---|---|---|---|---|---|---|---|\n| 1 | 2022-02-23T12 | 10 | 5 |  0 | 0 | Nevada | NA | NA | NA | NA | NA | NA       |\n| 2 | 2022-02-23T13 |  0 | 0 | 14 | 0 | Nevada |  0 |  0 |  0 |  0 |  0 | Nebraska |\n\n",
            "text/latex": "A data.frame: 2 × 12\n\\begin{tabular}{r|llllllllllll}\n  & Time & ketamine & date\\_rape & GHB & Rohypnol & State & morning\\_after\\_pill & roofie & pills\\_to\\_avoid\\_preg & how\\_much\\_is\\_morning\\_after\\_pill & been\\_raped & state\\_2\\\\\n  & <chr> & <int> & <int> & <int> & <int> & <chr> & <int> & <int> & <int> & <int> & <int> & <chr>\\\\\n\\hline\n\t1 & 2022-02-23T12 & 10 & 5 &  0 & 0 & Nevada & NA & NA & NA & NA & NA & NA      \\\\\n\t2 & 2022-02-23T13 &  0 & 0 & 14 & 0 & Nevada &  0 &  0 &  0 &  0 &  0 & Nebraska\\\\\n\\end{tabular}\n",
            "text/plain": [
              "  Time          ketamine date_rape GHB Rohypnol State  morning_after_pill\n",
              "1 2022-02-23T12 10       5          0  0        Nevada NA                \n",
              "2 2022-02-23T13  0       0         14  0        Nevada  0                \n",
              "  roofie pills_to_avoid_preg how_much_is_morning_after_pill been_raped state_2 \n",
              "1 NA     NA                  NA                             NA         NA      \n",
              "2  0      0                   0                              0         Nebraska"
            ]
          },
          "metadata": {}
        }
      ]
    },
    {
      "cell_type": "markdown",
      "source": [
        "## Oregon"
      ],
      "metadata": {
        "id": "_Bn02Dr9wyRt"
      }
    },
    {
      "cell_type": "code",
      "source": [
        "Full <- read.csv(\"/content/Oregon.csv\", skip=0, header=TRUE)\n",
        "Short <- read.csv(\"/content/OR_2.csv\", skip=0, header=TRUE)\n",
        "OR_combo <- merge(Full,Short, by=\"Time\", all = T)\n",
        "head(OR_combo)"
      ],
      "metadata": {
        "id": "YItyJPTFyFSe"
      },
      "execution_count": null,
      "outputs": []
    },
    {
      "cell_type": "code",
      "source": [
        "colnames(OR_combo) <- c(\"Time\",\"ketamine\",\"date_rape\",\"GHB\",\"Rohypnol\",\"State\",\n",
        "                        \"morning_after_pill\",\"roofie\",\"pills_to_avoid_preg\",\n",
        "                        \"how_much_is_morning_after_pill\",\"been_raped\",\"state_2\")\n",
        "head(OR_combo,2)"
      ],
      "metadata": {
        "colab": {
          "base_uri": "https://localhost:8080/",
          "height": 250
        },
        "id": "V8xbCqpc5jwl",
        "outputId": "e6eb8d29-08ee-4ee8-dd42-f78e2335605d"
      },
      "execution_count": null,
      "outputs": [
        {
          "output_type": "display_data",
          "data": {
            "text/html": [
              "<table class=\"dataframe\">\n",
              "<caption>A data.frame: 2 × 12</caption>\n",
              "<thead>\n",
              "\t<tr><th></th><th scope=col>Time</th><th scope=col>ketamine</th><th scope=col>date_rape</th><th scope=col>GHB</th><th scope=col>Rohypnol</th><th scope=col>State</th><th scope=col>morning_after_pill</th><th scope=col>roofie</th><th scope=col>pills_to_avoid_preg</th><th scope=col>how_much_is_morning_after_pill</th><th scope=col>been_raped</th><th scope=col>state_2</th></tr>\n",
              "\t<tr><th></th><th scope=col>&lt;chr&gt;</th><th scope=col>&lt;int&gt;</th><th scope=col>&lt;int&gt;</th><th scope=col>&lt;int&gt;</th><th scope=col>&lt;int&gt;</th><th scope=col>&lt;chr&gt;</th><th scope=col>&lt;int&gt;</th><th scope=col>&lt;int&gt;</th><th scope=col>&lt;int&gt;</th><th scope=col>&lt;int&gt;</th><th scope=col>&lt;int&gt;</th><th scope=col>&lt;chr&gt;</th></tr>\n",
              "</thead>\n",
              "<tbody>\n",
              "\t<tr><th scope=row>1</th><td>2022-02-23T12</td><td>25</td><td>0</td><td>4</td><td>0</td><td>Oregon</td><td>NA</td><td>NA</td><td>NA</td><td>NA</td><td>NA</td><td>NA    </td></tr>\n",
              "\t<tr><th scope=row>2</th><td>2022-02-23T13</td><td>12</td><td>0</td><td>0</td><td>0</td><td>Oregon</td><td> 0</td><td> 0</td><td> 0</td><td> 0</td><td> 0</td><td>Oregon</td></tr>\n",
              "</tbody>\n",
              "</table>\n"
            ],
            "text/markdown": "\nA data.frame: 2 × 12\n\n| <!--/--> | Time &lt;chr&gt; | ketamine &lt;int&gt; | date_rape &lt;int&gt; | GHB &lt;int&gt; | Rohypnol &lt;int&gt; | State &lt;chr&gt; | morning_after_pill &lt;int&gt; | roofie &lt;int&gt; | pills_to_avoid_preg &lt;int&gt; | how_much_is_morning_after_pill &lt;int&gt; | been_raped &lt;int&gt; | state_2 &lt;chr&gt; |\n|---|---|---|---|---|---|---|---|---|---|---|---|---|\n| 1 | 2022-02-23T12 | 25 | 0 | 4 | 0 | Oregon | NA | NA | NA | NA | NA | NA     |\n| 2 | 2022-02-23T13 | 12 | 0 | 0 | 0 | Oregon |  0 |  0 |  0 |  0 |  0 | Oregon |\n\n",
            "text/latex": "A data.frame: 2 × 12\n\\begin{tabular}{r|llllllllllll}\n  & Time & ketamine & date\\_rape & GHB & Rohypnol & State & morning\\_after\\_pill & roofie & pills\\_to\\_avoid\\_preg & how\\_much\\_is\\_morning\\_after\\_pill & been\\_raped & state\\_2\\\\\n  & <chr> & <int> & <int> & <int> & <int> & <chr> & <int> & <int> & <int> & <int> & <int> & <chr>\\\\\n\\hline\n\t1 & 2022-02-23T12 & 25 & 0 & 4 & 0 & Oregon & NA & NA & NA & NA & NA & NA    \\\\\n\t2 & 2022-02-23T13 & 12 & 0 & 0 & 0 & Oregon &  0 &  0 &  0 &  0 &  0 & Oregon\\\\\n\\end{tabular}\n",
            "text/plain": [
              "  Time          ketamine date_rape GHB Rohypnol State  morning_after_pill\n",
              "1 2022-02-23T12 25       0         4   0        Oregon NA                \n",
              "2 2022-02-23T13 12       0         0   0        Oregon  0                \n",
              "  roofie pills_to_avoid_preg how_much_is_morning_after_pill been_raped state_2\n",
              "1 NA     NA                  NA                             NA         NA     \n",
              "2  0      0                   0                              0         Oregon "
            ]
          },
          "metadata": {}
        }
      ]
    },
    {
      "cell_type": "markdown",
      "source": [
        "## Washington\n"
      ],
      "metadata": {
        "id": "OqfvVuG6wyOn"
      }
    },
    {
      "cell_type": "code",
      "source": [
        "Full <- read.csv(\"/content/Washington.csv\", skip=0, header=TRUE)\n",
        "Short <- read.csv(\"/content/WA_2.csv\", skip=0, header=TRUE)\n",
        "WA_combo <- merge(Full,Short, by=\"Time\", all = T)\n",
        "head(WA_combo)"
      ],
      "metadata": {
        "id": "k9jm8IGsyGlN"
      },
      "execution_count": null,
      "outputs": []
    },
    {
      "cell_type": "markdown",
      "source": [
        "## Califronia"
      ],
      "metadata": {
        "id": "JK34_2yZwyLL"
      }
    },
    {
      "cell_type": "code",
      "source": [
        "Full <- read.csv(\"/content/California_data.csv\", skip=0, header=TRUE)\n",
        "Short <- read.csv(\"/content/CA_2.csv\", skip=0, header=TRUE)\n",
        "CA_combo <- merge(Full,Short, by=\"Time\", all = T)\n",
        "head(CA_combo)"
      ],
      "metadata": {
        "id": "fq4XsZsKyHe7"
      },
      "execution_count": null,
      "outputs": []
    },
    {
      "cell_type": "code",
      "source": [
        "colnames(CA_combo) <- c(\"Time\",\"ketamine\",\"date_rape\",\"GHB\",\"Rohypnol\",\"State\",\n",
        "                        \"morning_after_pill\",\"roofie\",\"pills_to_avoid_preg\",\n",
        "                        \"how_much_is_morning_after_pill\",\"been_raped\",\"state_2\")\n",
        "head(CA_combo,2)\n",
        "\n"
      ],
      "metadata": {
        "colab": {
          "base_uri": "https://localhost:8080/",
          "height": 250
        },
        "id": "BbfMIrK25pD9",
        "outputId": "8499307d-a6c0-4c0c-b111-4bf958bb7bd5"
      },
      "execution_count": null,
      "outputs": [
        {
          "output_type": "display_data",
          "data": {
            "text/html": [
              "<table class=\"dataframe\">\n",
              "<caption>A data.frame: 2 × 12</caption>\n",
              "<thead>\n",
              "\t<tr><th></th><th scope=col>Time</th><th scope=col>ketamine</th><th scope=col>date_rape</th><th scope=col>GHB</th><th scope=col>Rohypnol</th><th scope=col>State</th><th scope=col>morning_after_pill</th><th scope=col>roofie</th><th scope=col>pills_to_avoid_preg</th><th scope=col>how_much_is_morning_after_pill</th><th scope=col>been_raped</th><th scope=col>state_2</th></tr>\n",
              "\t<tr><th></th><th scope=col>&lt;chr&gt;</th><th scope=col>&lt;int&gt;</th><th scope=col>&lt;int&gt;</th><th scope=col>&lt;int&gt;</th><th scope=col>&lt;int&gt;</th><th scope=col>&lt;chr&gt;</th><th scope=col>&lt;int&gt;</th><th scope=col>&lt;int&gt;</th><th scope=col>&lt;int&gt;</th><th scope=col>&lt;int&gt;</th><th scope=col>&lt;int&gt;</th><th scope=col>&lt;chr&gt;</th></tr>\n",
              "</thead>\n",
              "<tbody>\n",
              "\t<tr><th scope=row>1</th><td>2022-02-23T11</td><td>27</td><td>0</td><td> 5</td><td>1</td><td>California</td><td>NA</td><td>NA</td><td>NA</td><td>NA</td><td>NA</td><td>NA</td></tr>\n",
              "\t<tr><th scope=row>2</th><td>2022-02-23T12</td><td>26</td><td>2</td><td>11</td><td>0</td><td>California</td><td>NA</td><td>NA</td><td>NA</td><td>NA</td><td>NA</td><td>NA</td></tr>\n",
              "</tbody>\n",
              "</table>\n"
            ],
            "text/markdown": "\nA data.frame: 2 × 12\n\n| <!--/--> | Time &lt;chr&gt; | ketamine &lt;int&gt; | date_rape &lt;int&gt; | GHB &lt;int&gt; | Rohypnol &lt;int&gt; | State &lt;chr&gt; | morning_after_pill &lt;int&gt; | roofie &lt;int&gt; | pills_to_avoid_preg &lt;int&gt; | how_much_is_morning_after_pill &lt;int&gt; | been_raped &lt;int&gt; | state_2 &lt;chr&gt; |\n|---|---|---|---|---|---|---|---|---|---|---|---|---|\n| 1 | 2022-02-23T11 | 27 | 0 |  5 | 1 | California | NA | NA | NA | NA | NA | NA |\n| 2 | 2022-02-23T12 | 26 | 2 | 11 | 0 | California | NA | NA | NA | NA | NA | NA |\n\n",
            "text/latex": "A data.frame: 2 × 12\n\\begin{tabular}{r|llllllllllll}\n  & Time & ketamine & date\\_rape & GHB & Rohypnol & State & morning\\_after\\_pill & roofie & pills\\_to\\_avoid\\_preg & how\\_much\\_is\\_morning\\_after\\_pill & been\\_raped & state\\_2\\\\\n  & <chr> & <int> & <int> & <int> & <int> & <chr> & <int> & <int> & <int> & <int> & <int> & <chr>\\\\\n\\hline\n\t1 & 2022-02-23T11 & 27 & 0 &  5 & 1 & California & NA & NA & NA & NA & NA & NA\\\\\n\t2 & 2022-02-23T12 & 26 & 2 & 11 & 0 & California & NA & NA & NA & NA & NA & NA\\\\\n\\end{tabular}\n",
            "text/plain": [
              "  Time          ketamine date_rape GHB Rohypnol State      morning_after_pill\n",
              "1 2022-02-23T11 27       0          5  1        California NA                \n",
              "2 2022-02-23T12 26       2         11  0        California NA                \n",
              "  roofie pills_to_avoid_preg how_much_is_morning_after_pill been_raped state_2\n",
              "1 NA     NA                  NA                             NA         NA     \n",
              "2 NA     NA                  NA                             NA         NA     "
            ]
          },
          "metadata": {}
        }
      ]
    },
    {
      "cell_type": "markdown",
      "source": [
        "## Next stack all of these dataframes then export as s CSV\n",
        "\n",
        "### then add FBI data\n",
        "\n",
        "## then make skinny"
      ],
      "metadata": {
        "id": "5Tl9i4kX78y-"
      }
    },
    {
      "cell_type": "markdown",
      "source": [
        "#  '##########################'\n",
        "\n",
        "#  '########################'"
      ],
      "metadata": {
        "id": "1F6dpdxa8nqK"
      }
    },
    {
      "cell_type": "markdown",
      "source": [
        "## we need to make the col name suniform before stacking\n",
        "\n",
        "There are 50 files so any steps that can be elimnated are significant.  Do we change teh column names first and then stack the DFs or do we tell R to ignore the col names but then are only able to stack 2 at a time?"
      ],
      "metadata": {
        "id": "yuMUYVYAHYGc"
      }
    },
    {
      "cell_type": "code",
      "source": [
        "str(MI_combo)"
      ],
      "metadata": {
        "colab": {
          "base_uri": "https://localhost:8080/"
        },
        "id": "JMbtpqOQIiBz",
        "outputId": "86eed776-eb57-4e0b-b228-77e64562bbe8"
      },
      "execution_count": null,
      "outputs": [
        {
          "output_type": "stream",
          "name": "stdout",
          "text": [
            "'data.frame':\t169 obs. of  12 variables:\n",
            " $ Time                          : chr  \"2022-02-23T12\" \"2022-02-23T13\" \"2022-02-23T14\" \"2022-02-23T15\" ...\n",
            " $ ketamine                      : int  40 24 32 43 24 13 30 22 64 86 ...\n",
            " $ date_rape                     : int  4 0 8 12 8 4 4 0 9 0 ...\n",
            " $ GHB                           : int  0 12 0 0 0 4 9 4 13 19 ...\n",
            " $ Rohypnol                      : int  0 0 0 0 0 0 0 0 0 5 ...\n",
            " $ State                         : chr  \"Michigan\" \"Michigan\" \"Michigan\" \"Michigan\" ...\n",
            " $ morning_after_pill            : int  NA 0 0 6 19 7 0 14 0 0 ...\n",
            " $ roofie                        : int  NA 0 0 6 0 0 7 0 13 0 ...\n",
            " $ pills_to_avoid_preg           : int  NA 0 0 0 0 0 0 0 0 0 ...\n",
            " $ how_much_is_morning_after_pill: int  NA 0 0 0 0 0 0 0 0 0 ...\n",
            " $ been_raped                    : int  NA 0 0 0 0 0 0 0 0 0 ...\n",
            " $ state_2                       : chr  NA \"Michigan\" \"Michigan\" \"Michigan\" ...\n"
          ]
        }
      ]
    },
    {
      "cell_type": "code",
      "source": [
        ""
      ],
      "metadata": {
        "id": "xNBm1IR4Ig1r"
      },
      "execution_count": null,
      "outputs": []
    },
    {
      "cell_type": "code",
      "source": [
        "# bind_rows(DF1, DF2, DF3)\n",
        "First_10 <- bind_rows(MI_combo ,IN_combo, KY_combo,KY_combo,MS_combo,AL_combo,\n",
        "                        FL_combo,GA_combo,SC_combo,NC_combo)"
      ],
      "metadata": {
        "id": "fOuAqMbT8Kfc"
      },
      "execution_count": null,
      "outputs": []
    },
    {
      "cell_type": "code",
      "source": [
        "First_10 <- bind_rows(MI_combo ,IN_combo,KY_combo,KY_combo,MS_combo)"
      ],
      "metadata": {
        "id": "Uh0ptuGC9XwE"
      },
      "execution_count": null,
      "outputs": []
    },
    {
      "cell_type": "code",
      "source": [
        "First_11 <- bind_rows(First_10,FL_combo,GA_combo,SC_combo,NC_combo)"
      ],
      "metadata": {
        "id": "riE6tO9--B4a"
      },
      "execution_count": null,
      "outputs": []
    },
    {
      "cell_type": "code",
      "source": [
        "dim(First_10) #845*49"
      ],
      "metadata": {
        "colab": {
          "base_uri": "https://localhost:8080/",
          "height": 34
        },
        "id": "Sr9xJYQK8Kcl",
        "outputId": "0dedbf90-ad6f-4866-90d5-d2a2ecc61867"
      },
      "execution_count": null,
      "outputs": [
        {
          "output_type": "display_data",
          "data": {
            "text/html": [
              "<style>\n",
              ".list-inline {list-style: none; margin:0; padding: 0}\n",
              ".list-inline>li {display: inline-block}\n",
              ".list-inline>li:not(:last-child)::after {content: \"\\00b7\"; padding: 0 .5ex}\n",
              "</style>\n",
              "<ol class=list-inline><li>845</li><li>12</li></ol>\n"
            ],
            "text/markdown": "1. 845\n2. 12\n\n\n",
            "text/latex": "\\begin{enumerate*}\n\\item 845\n\\item 12\n\\end{enumerate*}\n",
            "text/plain": [
              "[1] 845  12"
            ]
          },
          "metadata": {}
        }
      ]
    },
    {
      "cell_type": "code",
      "source": [
        "dim(First_11)"
      ],
      "metadata": {
        "colab": {
          "base_uri": "https://localhost:8080/",
          "height": 34
        },
        "id": "pjaUVcoB-WGi",
        "outputId": "8f339b43-79c4-4573-99a7-e3c80e43208f"
      },
      "execution_count": null,
      "outputs": [
        {
          "output_type": "display_data",
          "data": {
            "text/html": [
              "<style>\n",
              ".list-inline {list-style: none; margin:0; padding: 0}\n",
              ".list-inline>li {display: inline-block}\n",
              ".list-inline>li:not(:last-child)::after {content: \"\\00b7\"; padding: 0 .5ex}\n",
              "</style>\n",
              "<ol class=list-inline><li>1521</li><li>12</li></ol>\n"
            ],
            "text/markdown": "1. 1521\n2. 12\n\n\n",
            "text/latex": "\\begin{enumerate*}\n\\item 1521\n\\item 12\n\\end{enumerate*}\n",
            "text/plain": [
              "[1] 1521   12"
            ]
          },
          "metadata": {}
        }
      ]
    },
    {
      "cell_type": "code",
      "source": [
        "First_12 <- bind_rows(First_11,WV_combo , DE_combo,NJ_combo, PA_combo, NY_combo)"
      ],
      "metadata": {
        "id": "pxcLjJml8KZd"
      },
      "execution_count": null,
      "outputs": []
    },
    {
      "cell_type": "code",
      "source": [
        "dim(First_12)"
      ],
      "metadata": {
        "colab": {
          "base_uri": "https://localhost:8080/",
          "height": 34
        },
        "id": "rAo8QVL98KWc",
        "outputId": "b4c25a8f-0802-4ba2-942d-9049f2d50ef0"
      },
      "execution_count": null,
      "outputs": [
        {
          "output_type": "display_data",
          "data": {
            "text/html": [
              "<style>\n",
              ".list-inline {list-style: none; margin:0; padding: 0}\n",
              ".list-inline>li {display: inline-block}\n",
              ".list-inline>li:not(:last-child)::after {content: \"\\00b7\"; padding: 0 .5ex}\n",
              "</style>\n",
              "<ol class=list-inline><li>2367</li><li>12</li></ol>\n"
            ],
            "text/markdown": "1. 2367\n2. 12\n\n\n",
            "text/latex": "\\begin{enumerate*}\n\\item 2367\n\\item 12\n\\end{enumerate*}\n",
            "text/plain": [
              "[1] 2367   12"
            ]
          },
          "metadata": {}
        }
      ]
    },
    {
      "cell_type": "code",
      "source": [
        "First_13 <- bind_rows(First_11,CT_combo ,MA_combo ,VT_combo ,NH_combo ,ME_combo ,WI_combo)"
      ],
      "metadata": {
        "id": "XfJ9Twtj8KTc"
      },
      "execution_count": null,
      "outputs": []
    },
    {
      "cell_type": "code",
      "source": [
        "dim(First_13)"
      ],
      "metadata": {
        "colab": {
          "base_uri": "https://localhost:8080/",
          "height": 34
        },
        "id": "f45Qbabr_phx",
        "outputId": "8100fa0f-9ccd-43db-ee67-cc6db5849be6"
      },
      "execution_count": null,
      "outputs": [
        {
          "output_type": "display_data",
          "data": {
            "text/html": [
              "<style>\n",
              ".list-inline {list-style: none; margin:0; padding: 0}\n",
              ".list-inline>li {display: inline-block}\n",
              ".list-inline>li:not(:last-child)::after {content: \"\\00b7\"; padding: 0 .5ex}\n",
              "</style>\n",
              "<ol class=list-inline><li>2536</li><li>12</li></ol>\n"
            ],
            "text/markdown": "1. 2536\n2. 12\n\n\n",
            "text/latex": "\\begin{enumerate*}\n\\item 2536\n\\item 12\n\\end{enumerate*}\n",
            "text/plain": [
              "[1] 2536   12"
            ]
          },
          "metadata": {}
        }
      ]
    },
    {
      "cell_type": "code",
      "source": [
        "First_14 <- bind_rows(First_13, IL_combo ,AR_combo, LO_combo, TX_combo, OK_combo,MO_combo)"
      ],
      "metadata": {
        "id": "r72u6_p8_pdm"
      },
      "execution_count": null,
      "outputs": []
    },
    {
      "cell_type": "code",
      "source": [
        "dim(First_14)"
      ],
      "metadata": {
        "colab": {
          "base_uri": "https://localhost:8080/",
          "height": 34
        },
        "id": "cWUY2PdF_pbc",
        "outputId": "164844e7-eb24-4c81-d73c-d1045880690d"
      },
      "execution_count": null,
      "outputs": [
        {
          "output_type": "display_data",
          "data": {
            "text/html": [
              "<style>\n",
              ".list-inline {list-style: none; margin:0; padding: 0}\n",
              ".list-inline>li {display: inline-block}\n",
              ".list-inline>li:not(:last-child)::after {content: \"\\00b7\"; padding: 0 .5ex}\n",
              "</style>\n",
              "<ol class=list-inline><li>3551</li><li>12</li></ol>\n"
            ],
            "text/markdown": "1. 3551\n2. 12\n\n\n",
            "text/latex": "\\begin{enumerate*}\n\\item 3551\n\\item 12\n\\end{enumerate*}\n",
            "text/plain": [
              "[1] 3551   12"
            ]
          },
          "metadata": {}
        }
      ]
    },
    {
      "cell_type": "code",
      "source": [
        "First_15 <- bind_rows(First_14, IW_combo, MN_combo ,ND_combo, SD_combo ,NE_combo ,KS_combo ,NM_combo)"
      ],
      "metadata": {
        "id": "F8ZrsjEF_pXV"
      },
      "execution_count": null,
      "outputs": []
    },
    {
      "cell_type": "code",
      "source": [
        "dim(First_15)"
      ],
      "metadata": {
        "colab": {
          "base_uri": "https://localhost:8080/",
          "height": 34
        },
        "id": "5sH219wPCTs1",
        "outputId": "60b8ff4a-33e5-40a6-a4fb-6729a16a8c20"
      },
      "execution_count": null,
      "outputs": [
        {
          "output_type": "display_data",
          "data": {
            "text/html": [
              "<style>\n",
              ".list-inline {list-style: none; margin:0; padding: 0}\n",
              ".list-inline>li {display: inline-block}\n",
              ".list-inline>li:not(:last-child)::after {content: \"\\00b7\"; padding: 0 .5ex}\n",
              "</style>\n",
              "<ol class=list-inline><li>4733</li><li>12</li></ol>\n"
            ],
            "text/markdown": "1. 4733\n2. 12\n\n\n",
            "text/latex": "\\begin{enumerate*}\n\\item 4733\n\\item 12\n\\end{enumerate*}\n",
            "text/plain": [
              "[1] 4733   12"
            ]
          },
          "metadata": {}
        }
      ]
    },
    {
      "cell_type": "code",
      "source": [
        "First_16 <- bind_rows(First_15,CO_combo ,WY_combo,MT_combo, ID_combo,UT_combo, AZ_combo)"
      ],
      "metadata": {
        "id": "gyUfznw4CTod"
      },
      "execution_count": null,
      "outputs": []
    },
    {
      "cell_type": "code",
      "source": [
        "dim(First_16)"
      ],
      "metadata": {
        "colab": {
          "base_uri": "https://localhost:8080/",
          "height": 34
        },
        "id": "wSQHq0K7Cfok",
        "outputId": "237156ff-6fab-4ef6-888c-4ebb164ca41e"
      },
      "execution_count": null,
      "outputs": [
        {
          "output_type": "display_data",
          "data": {
            "text/html": [
              "<style>\n",
              ".list-inline {list-style: none; margin:0; padding: 0}\n",
              ".list-inline>li {display: inline-block}\n",
              ".list-inline>li:not(:last-child)::after {content: \"\\00b7\"; padding: 0 .5ex}\n",
              "</style>\n",
              "<ol class=list-inline><li>5747</li><li>12</li></ol>\n"
            ],
            "text/markdown": "1. 5747\n2. 12\n\n\n",
            "text/latex": "\\begin{enumerate*}\n\\item 5747\n\\item 12\n\\end{enumerate*}\n",
            "text/plain": [
              "[1] 5747   12"
            ]
          },
          "metadata": {}
        }
      ]
    },
    {
      "cell_type": "code",
      "source": [
        "First_17 <- bind_rows(First_16 , NE_combo ,OR_combo,WA_combo ,CA_combo)"
      ],
      "metadata": {
        "id": "oRhTi6fhCfiV"
      },
      "execution_count": null,
      "outputs": []
    },
    {
      "cell_type": "code",
      "source": [
        "dim(First_17)"
      ],
      "metadata": {
        "colab": {
          "base_uri": "https://localhost:8080/",
          "height": 34
        },
        "id": "88MfJQSzCTjy",
        "outputId": "7a03bba5-56f1-4c1f-9e2c-ae485dda143e"
      },
      "execution_count": null,
      "outputs": [
        {
          "output_type": "display_data",
          "data": {
            "text/html": [
              "<style>\n",
              ".list-inline {list-style: none; margin:0; padding: 0}\n",
              ".list-inline>li {display: inline-block}\n",
              ".list-inline>li:not(:last-child)::after {content: \"\\00b7\"; padding: 0 .5ex}\n",
              "</style>\n",
              "<ol class=list-inline><li>6424</li><li>23</li></ol>\n"
            ],
            "text/markdown": "1. 6424\n2. 23\n\n\n",
            "text/latex": "\\begin{enumerate*}\n\\item 6424\n\\item 23\n\\end{enumerate*}\n",
            "text/plain": [
              "[1] 6424   23"
            ]
          },
          "metadata": {}
        }
      ]
    },
    {
      "cell_type": "markdown",
      "source": [
        "## Lets cache a safety copy so we dont loose ALL of this tedious work"
      ],
      "metadata": {
        "id": "I5iOUUbSD1VG"
      }
    },
    {
      "cell_type": "code",
      "source": [
        "write.csv(First_17 , \"First_17_data.csv\")"
      ],
      "metadata": {
        "id": "zD9hG4uy8KQW"
      },
      "execution_count": null,
      "outputs": []
    },
    {
      "cell_type": "markdown",
      "source": [
        "## Before we stretcht eh data from Wide to Long we need to enter the FBI crime data (2018 data)"
      ],
      "metadata": {
        "id": "v0RTJ94pEUzA"
      }
    },
    {
      "cell_type": "markdown",
      "source": [
        "To the dats set First_17 we added Church attendence as well as college grads.\n",
        "\n",
        "Now we will import the dataset, drop unneeded cols,  then make dhte data long from wide."
      ],
      "metadata": {
        "id": "4_NeWlc8u_-g"
      }
    },
    {
      "cell_type": "code",
      "source": [
        "data <- read.csv(\"/content/First_17_data.csv\", skip=0, header=TRUE)"
      ],
      "metadata": {
        "id": "RB2vqegPEfnV"
      },
      "execution_count": null,
      "outputs": []
    },
    {
      "cell_type": "code",
      "source": [
        "dim(data)"
      ],
      "metadata": {
        "colab": {
          "base_uri": "https://localhost:8080/",
          "height": 34
        },
        "id": "Idwm4Xxd1gJ8",
        "outputId": "52ee7777-120b-44a3-b864-21405d8e0525"
      },
      "execution_count": null,
      "outputs": [
        {
          "output_type": "display_data",
          "data": {
            "text/html": [
              "<style>\n",
              ".list-inline {list-style: none; margin:0; padding: 0}\n",
              ".list-inline>li {display: inline-block}\n",
              ".list-inline>li:not(:last-child)::after {content: \"\\00b7\"; padding: 0 .5ex}\n",
              "</style>\n",
              "<ol class=list-inline><li>6398</li><li>16</li></ol>\n"
            ],
            "text/markdown": "1. 6398\n2. 16\n\n\n",
            "text/latex": "\\begin{enumerate*}\n\\item 6398\n\\item 16\n\\end{enumerate*}\n",
            "text/plain": [
              "[1] 6398   16"
            ]
          },
          "metadata": {}
        }
      ]
    },
    {
      "cell_type": "code",
      "source": [
        "head(data,5)"
      ],
      "metadata": {
        "id": "zJIMqR7gEffW"
      },
      "execution_count": null,
      "outputs": []
    },
    {
      "cell_type": "markdown",
      "source": [
        "## Drop a few columns before making to_longer"
      ],
      "metadata": {
        "id": "Yab43cKtw9RI"
      }
    },
    {
      "cell_type": "code",
      "source": [
        "# Drop X, state_2\n",
        "data <- data %>% \n",
        "        select(-c('X', 'state_2'))"
      ],
      "metadata": {
        "id": "ZfooOXmOEfa1"
      },
      "execution_count": null,
      "outputs": []
    },
    {
      "cell_type": "code",
      "source": [
        "dim(data)"
      ],
      "metadata": {
        "colab": {
          "base_uri": "https://localhost:8080/",
          "height": 34
        },
        "id": "DSc-xpmM1lXl",
        "outputId": "ebc6fed8-8134-40a0-b4d0-13a7823f27e0"
      },
      "execution_count": null,
      "outputs": [
        {
          "output_type": "display_data",
          "data": {
            "text/html": [
              "<style>\n",
              ".list-inline {list-style: none; margin:0; padding: 0}\n",
              ".list-inline>li {display: inline-block}\n",
              ".list-inline>li:not(:last-child)::after {content: \"\\00b7\"; padding: 0 .5ex}\n",
              "</style>\n",
              "<ol class=list-inline><li>6398</li><li>14</li></ol>\n"
            ],
            "text/markdown": "1. 6398\n2. 14\n\n\n",
            "text/latex": "\\begin{enumerate*}\n\\item 6398\n\\item 14\n\\end{enumerate*}\n",
            "text/plain": [
              "[1] 6398   14"
            ]
          },
          "metadata": {}
        }
      ]
    },
    {
      "cell_type": "code",
      "source": [
        "head(data,1)"
      ],
      "metadata": {
        "colab": {
          "base_uri": "https://localhost:8080/",
          "height": 184
        },
        "id": "4C6CwWG5EfWp",
        "outputId": "cafe92ad-f511-4634-bd1b-13f1919a61ef"
      },
      "execution_count": null,
      "outputs": [
        {
          "output_type": "display_data",
          "data": {
            "text/html": [
              "<table class=\"dataframe\">\n",
              "<caption>A data.frame: 1 × 14</caption>\n",
              "<thead>\n",
              "\t<tr><th></th><th scope=col>Time</th><th scope=col>ketamine</th><th scope=col>date_rape</th><th scope=col>GHB</th><th scope=col>Rohypnol</th><th scope=col>State</th><th scope=col>morning_after_pill</th><th scope=col>roofie</th><th scope=col>pills_to_avoid_preg</th><th scope=col>how_much_is_morning_after_pill</th><th scope=col>been_raped</th><th scope=col>Rape_Per_100k</th><th scope=col>WeeklyChurchAttd</th><th scope=col>College.Grad</th></tr>\n",
              "\t<tr><th></th><th scope=col>&lt;chr&gt;</th><th scope=col>&lt;int&gt;</th><th scope=col>&lt;int&gt;</th><th scope=col>&lt;int&gt;</th><th scope=col>&lt;int&gt;</th><th scope=col>&lt;chr&gt;</th><th scope=col>&lt;int&gt;</th><th scope=col>&lt;int&gt;</th><th scope=col>&lt;int&gt;</th><th scope=col>&lt;int&gt;</th><th scope=col>&lt;int&gt;</th><th scope=col>&lt;dbl&gt;</th><th scope=col>&lt;int&gt;</th><th scope=col>&lt;int&gt;</th></tr>\n",
              "</thead>\n",
              "<tbody>\n",
              "\t<tr><th scope=row>1</th><td>2022-02-23T12</td><td>40</td><td>4</td><td>0</td><td>0</td><td>Michigan</td><td>NA</td><td>NA</td><td>NA</td><td>NA</td><td>NA</td><td>76.9</td><td>NA</td><td>21</td></tr>\n",
              "</tbody>\n",
              "</table>\n"
            ],
            "text/markdown": "\nA data.frame: 1 × 14\n\n| <!--/--> | Time &lt;chr&gt; | ketamine &lt;int&gt; | date_rape &lt;int&gt; | GHB &lt;int&gt; | Rohypnol &lt;int&gt; | State &lt;chr&gt; | morning_after_pill &lt;int&gt; | roofie &lt;int&gt; | pills_to_avoid_preg &lt;int&gt; | how_much_is_morning_after_pill &lt;int&gt; | been_raped &lt;int&gt; | Rape_Per_100k &lt;dbl&gt; | WeeklyChurchAttd &lt;int&gt; | College.Grad &lt;int&gt; |\n|---|---|---|---|---|---|---|---|---|---|---|---|---|---|---|\n| 1 | 2022-02-23T12 | 40 | 4 | 0 | 0 | Michigan | NA | NA | NA | NA | NA | 76.9 | NA | 21 |\n\n",
            "text/latex": "A data.frame: 1 × 14\n\\begin{tabular}{r|llllllllllllll}\n  & Time & ketamine & date\\_rape & GHB & Rohypnol & State & morning\\_after\\_pill & roofie & pills\\_to\\_avoid\\_preg & how\\_much\\_is\\_morning\\_after\\_pill & been\\_raped & Rape\\_Per\\_100k & WeeklyChurchAttd & College.Grad\\\\\n  & <chr> & <int> & <int> & <int> & <int> & <chr> & <int> & <int> & <int> & <int> & <int> & <dbl> & <int> & <int>\\\\\n\\hline\n\t1 & 2022-02-23T12 & 40 & 4 & 0 & 0 & Michigan & NA & NA & NA & NA & NA & 76.9 & NA & 21\\\\\n\\end{tabular}\n",
            "text/plain": [
              "  Time          ketamine date_rape GHB Rohypnol State    morning_after_pill\n",
              "1 2022-02-23T12 40       4         0   0        Michigan NA                \n",
              "  roofie pills_to_avoid_preg how_much_is_morning_after_pill been_raped\n",
              "1 NA     NA                  NA                             NA        \n",
              "  Rape_Per_100k WeeklyChurchAttd College.Grad\n",
              "1 76.9          NA               21          "
            ]
          },
          "metadata": {}
        }
      ]
    },
    {
      "cell_type": "markdown",
      "source": [
        "## Now we make LONGER"
      ],
      "metadata": {
        "id": "LtsXWqLex1TU"
      }
    },
    {
      "cell_type": "code",
      "source": [
        "data_longer <- data %>%\n",
        "              pivot_longer(cols = -c(Time,State))"
      ],
      "metadata": {
        "id": "YGxaB0iDv0Id"
      },
      "execution_count": null,
      "outputs": []
    },
    {
      "cell_type": "code",
      "source": [
        "dim(data_longer)"
      ],
      "metadata": {
        "colab": {
          "base_uri": "https://localhost:8080/",
          "height": 34
        },
        "id": "VJSowvs51uXJ",
        "outputId": "6863b992-b3f8-4f4c-99d6-dd9092ab5cfa"
      },
      "execution_count": null,
      "outputs": [
        {
          "output_type": "display_data",
          "data": {
            "text/html": [
              "<style>\n",
              ".list-inline {list-style: none; margin:0; padding: 0}\n",
              ".list-inline>li {display: inline-block}\n",
              ".list-inline>li:not(:last-child)::after {content: \"\\00b7\"; padding: 0 .5ex}\n",
              "</style>\n",
              "<ol class=list-inline><li>76776</li><li>4</li></ol>\n"
            ],
            "text/markdown": "1. 76776\n2. 4\n\n\n",
            "text/latex": "\\begin{enumerate*}\n\\item 76776\n\\item 4\n\\end{enumerate*}\n",
            "text/plain": [
              "[1] 76776     4"
            ]
          },
          "metadata": {}
        }
      ]
    },
    {
      "cell_type": "code",
      "source": [
        "data_longer"
      ],
      "metadata": {
        "id": "8LjCfNMx0QUZ"
      },
      "execution_count": null,
      "outputs": []
    },
    {
      "cell_type": "code",
      "source": [
        "dim(data_longer)"
      ],
      "metadata": {
        "colab": {
          "base_uri": "https://localhost:8080/",
          "height": 34
        },
        "id": "dB5ex4mL0f1B",
        "outputId": "09c31d1f-e366-44b4-b0e1-108333cde12b"
      },
      "execution_count": null,
      "outputs": [
        {
          "output_type": "display_data",
          "data": {
            "text/html": [
              "<style>\n",
              ".list-inline {list-style: none; margin:0; padding: 0}\n",
              ".list-inline>li {display: inline-block}\n",
              ".list-inline>li:not(:last-child)::after {content: \"\\00b7\"; padding: 0 .5ex}\n",
              "</style>\n",
              "<ol class=list-inline><li>76776</li><li>4</li></ol>\n"
            ],
            "text/markdown": "1. 76776\n2. 4\n\n\n",
            "text/latex": "\\begin{enumerate*}\n\\item 76776\n\\item 4\n\\end{enumerate*}\n",
            "text/plain": [
              "[1] 76776     4"
            ]
          },
          "metadata": {}
        }
      ]
    },
    {
      "cell_type": "code",
      "source": [
        "write.csv(data_longer, \"data_longer_2.csv\")"
      ],
      "metadata": {
        "id": "Gh-S43Be2LIW"
      },
      "execution_count": null,
      "outputs": []
    },
    {
      "cell_type": "code",
      "source": [
        "##########"
      ],
      "metadata": {
        "id": "tMh4eMI0v0Dn"
      },
      "execution_count": null,
      "outputs": []
    },
    {
      "cell_type": "code",
      "source": [
        ""
      ],
      "metadata": {
        "id": "NrFTYRAZzEza"
      },
      "execution_count": null,
      "outputs": []
    },
    {
      "cell_type": "code",
      "source": [
        ""
      ],
      "metadata": {
        "id": "mBcj5dAjvz-3"
      },
      "execution_count": null,
      "outputs": []
    }
  ]
}