{
  "nbformat": 4,
  "nbformat_minor": 0,
  "metadata": {
    "colab": {
      "name": "Spring5_4.ipynb",
      "provenance": [],
      "collapsed_sections": [],
      "authorship_tag": "ABX9TyNPV26m56gk924abLBw62lf",
      "include_colab_link": true
    },
    "kernelspec": {
      "name": "python3",
      "display_name": "Python 3"
    },
    "language_info": {
      "name": "python"
    }
  },
  "cells": [
    {
      "cell_type": "markdown",
      "metadata": {
        "id": "view-in-github",
        "colab_type": "text"
      },
      "source": [
        "<a href=\"https://colab.research.google.com/github/JF11579/Adelphi/blob/main/Spring5_4.ipynb\" target=\"_parent\"><img src=\"https://colab.research.google.com/assets/colab-badge.svg\" alt=\"Open In Colab\"/></a>"
      ]
    },
    {
      "cell_type": "markdown",
      "metadata": {
        "id": "YIrx0mfJIeSX"
      },
      "source": [
        "# This one uses just 5 features"
      ]
    },
    {
      "cell_type": "markdown",
      "metadata": {
        "id": "uHUbXSBoJLth"
      },
      "source": [
        "# Steps\n",
        "\n",
        "\n",
        "1.   Subest Data\n",
        "2.   Run Lasso on the Orig Data \n",
        "      Change split 3 times and change Alpha 3 x\n",
        "3.  Now try adjusted data\n",
        "      plug in Avg April sales\n",
        "4.  Lastly use augmented data.\n",
        "\n"
      ]
    },
    {
      "cell_type": "markdown",
      "metadata": {
        "id": "RZpD513TI2qa"
      },
      "source": [
        "# Libraries"
      ]
    },
    {
      "cell_type": "code",
      "metadata": {
        "id": "mwZG7WLaKEb_"
      },
      "source": [
        "import pandas as pd  \n",
        "import numpy as np  \n",
        "import matplotlib.pyplot as plt  \n",
        "from matplotlib import pyplot\n",
        "import seaborn as sns\n",
        "import pandas\n",
        "from sklearn.model_selection import train_test_split #Split data in testing and training\n",
        "\n",
        "from sklearn.linear_model import LinearRegression\n",
        "from sklearn.linear_model import Ridge\n",
        "from sklearn.linear_model import Lasso\n",
        "from sklearn.linear_model import ElasticNet\n",
        "\n",
        "from sklearn import metrics\n",
        "import urllib\n",
        "\n",
        "import datetime as dt\n",
        "from sklearn.pipeline import make_pipeline\n",
        "from sklearn.pipeline import Pipeline\n",
        "from sklearn.model_selection import GridSearchCV\n",
        "from sklearn.preprocessing import StandardScaler\n",
        "\n",
        "\n",
        "# evaluate an lasso regression model on the dataset\n",
        "from numpy import mean\n",
        "from numpy import std\n",
        "from numpy import absolute\n",
        "from pandas import read_csv\n",
        "from sklearn.model_selection import cross_val_score\n",
        "from sklearn.model_selection import RepeatedKFold\n",
        "from numpy import arange\n",
        "\n",
        "from yellowbrick.features import ParallelCoordinates\n",
        "# use automatically configured the lasso regression algorithm\n",
        "from sklearn.linear_model import LassoCV\n",
        "import plotly.express as px\n",
        "from sklearn import metrics\n",
        "import urllib\n",
        "from sklearn.linear_model import LassoCV\n",
        "from sklearn.datasets import make_regression"
      ],
      "execution_count": 224,
      "outputs": []
    },
    {
      "cell_type": "markdown",
      "metadata": {
        "id": "zN6FvrFRKNqJ"
      },
      "source": [
        "# Juans code and Metrics"
      ]
    },
    {
      "cell_type": "markdown",
      "metadata": {
        "id": "P4DQXQ8SK8IW"
      },
      "source": [
        "Create Prediction Plots"
      ]
    },
    {
      "cell_type": "code",
      "metadata": {
        "id": "dUg9rtHwKTAV"
      },
      "source": [
        "def Prediction_Plots(y_train, y_pred_Train, y_test, y_pred_Test):\n",
        "    fig, ax = plt.subplots(ncols=2, figsize=(10,4))\n",
        "\n",
        "    ax[0].scatter(y_train, y_pred_Train)\n",
        "    ax[0].set_ylim(0,3)\n",
        "    ax[0].set_xlim(0,3)\n",
        "    ax[0].grid()\n",
        "    ax[0].set_xlabel('y')\n",
        "    ax[0].set_ylabel('yhat')\n",
        "    ax[0].set_title('Training Set')\n",
        "\n",
        "\n",
        "    ax[1].scatter(y_test, y_pred_Test)\n",
        "    ax[1].set_ylim(0,3)\n",
        "    ax[1].set_xlim(0,3)\n",
        "    ax[1].grid()\n",
        "    ax[1].set_xlabel('y')\n",
        "    ax[1].set_ylabel('yhat')\n",
        "    ax[1].set_title('Testing Set')\n",
        "    plt.show()\n",
        "    return()"
      ],
      "execution_count": 225,
      "outputs": []
    },
    {
      "cell_type": "markdown",
      "metadata": {
        "id": "AGJwDoj9LAiK"
      },
      "source": [
        "Print Metrics"
      ]
    },
    {
      "cell_type": "code",
      "metadata": {
        "id": "3qXeQonwKS4o"
      },
      "source": [
        "def Metrics_Printer(y_train, y_pred_Train, y_test, y_pred_Test):\n",
        "    print('Training Metrics:')\n",
        "    print('R squared:', metrics.r2_score(y_train, y_pred_Train))\n",
        "    print('Mean Absolute Error:', metrics.mean_absolute_error(y_train, y_pred_Train))  \n",
        "    print('Mean Squared Error:', metrics.mean_squared_error(y_train, y_pred_Train))  \n",
        "    print('Root Mean Squared Error:', np.sqrt(metrics.mean_squared_error(y_train, y_pred_Train)))\n",
        "\n",
        "    print('\\nTesting Metrics:')\n",
        "    print('R squared:', metrics.r2_score(y_test, y_pred_Test))\n",
        "    print('Mean Absolute Error:', metrics.mean_absolute_error(y_test, y_pred_Test))  \n",
        "    print('Mean Squared Error:', metrics.mean_squared_error(y_test, y_pred_Test))  \n",
        "    print('Root Mean Squared Error:', np.sqrt(metrics.mean_squared_error(y_test, y_pred_Test)))\n",
        "    \n",
        "    return()"
      ],
      "execution_count": 226,
      "outputs": []
    },
    {
      "cell_type": "markdown",
      "metadata": {
        "id": "L2ZLJfBXLMJy"
      },
      "source": [
        "Plot Box Plots"
      ]
    },
    {
      "cell_type": "code",
      "metadata": {
        "id": "zwsbOn8ozgQ-"
      },
      "source": [
        "def Multiple_Runner(model, X, y):\n",
        "    \n",
        "    Train_MSE = [] #Empty list to Store MSEs for training data set\n",
        "    Test_MSE = []  #Empty list to Store MSEs for testing data set\n",
        "\n",
        "    Train_R2 = [] #Empty list to Store R2s for training data set\n",
        "    Test_R2 = []  #Empty list to Store R2s for testing data set\n",
        "\n",
        "    for i in range(1000):\n",
        "        X_train, X_test, y_train, y_test = train_test_split(X, y, test_size=0.2)\n",
        "    \n",
        "        model.fit(X_train, y_train) #Train the model\n",
        "    \n",
        "        y_pred_Train  = model.predict(X_train)  #Predictions on training model\n",
        "        y_pred_Test   = model.predict(X_test)   #Predictions on testing model\n",
        "    \n",
        "        train_R2 = metrics.r2_score(y_train, y_pred_Train) #Obtaining the metrics\n",
        "        test_R2  = metrics.r2_score(y_test, y_pred_Test)\n",
        "    \n",
        "        train_MSE = metrics.mean_squared_error(y_train, y_pred_Train)\n",
        "        test_MSE  = metrics.mean_squared_error(y_test, y_pred_Test)\n",
        "    \n",
        "        Train_MSE.append(train_MSE) #Storing the metrics in the lists\n",
        "        Test_MSE.append(test_MSE) \n",
        "    \n",
        "        Train_R2.append(train_R2) #Storing the metrics in the lists\n",
        "        Test_R2.append(test_R2)  \n",
        "    \n",
        "    print('Train MSE median:', np.median(Train_MSE))\n",
        "    print('Test MSE median:', np.median(Test_MSE))\n",
        "\n",
        "    print('\\nTrain_R2 median:', np.median(Train_R2))\n",
        "    print('Test_R2 median:', np.median(Test_R2))\n",
        "\n",
        "    fig, ax = plt.subplots(ncols=2, figsize=(10,4))\n",
        "\n",
        "    ax[0].boxplot([Train_MSE, Test_MSE])\n",
        "    ax[0].set_xticks([1,2],minor = False)                   #setting boxplot names\n",
        "    ax[0].set_xticklabels(['Train','Test'], minor = False)  #setting boxplot names\n",
        "    ax[0].grid()\n",
        "    ax[0].set_title('Mean Squared Error')\n",
        "\n",
        "    ax[1].boxplot([Train_R2, Test_R2])\n",
        "    ax[1].set_xticks([1,2],minor = False)\n",
        "    ax[1].set_xticklabels(['Train','Test'], minor = False)\n",
        "    ax[1].grid()\n",
        "    ax[1].set_title('R squared')\n",
        "\n",
        "    plt.show()\n",
        "    "
      ],
      "execution_count": 227,
      "outputs": []
    },
    {
      "cell_type": "markdown",
      "metadata": {
        "id": "DO0Y81HXI4vU"
      },
      "source": [
        "#Data"
      ]
    },
    {
      "cell_type": "markdown",
      "metadata": {
        "id": "ot8sLAPpI6u0"
      },
      "source": [
        ""
      ]
    },
    {
      "cell_type": "code",
      "metadata": {
        "colab": {
          "base_uri": "https://localhost:8080/",
          "height": 360
        },
        "id": "2m-rQX7nIbOw",
        "outputId": "25e7f148-8f14-477f-9854-e57f86f23375"
      },
      "source": [
        "data= pd.read_csv('/content/Porcelana_OP_adelphi_2021_SCALED.csv')\n",
        "data.head(5)"
      ],
      "execution_count": 512,
      "outputs": [
        {
          "output_type": "execute_result",
          "data": {
            "text/html": [
              "<div>\n",
              "<style scoped>\n",
              "    .dataframe tbody tr th:only-of-type {\n",
              "        vertical-align: middle;\n",
              "    }\n",
              "\n",
              "    .dataframe tbody tr th {\n",
              "        vertical-align: top;\n",
              "    }\n",
              "\n",
              "    .dataframe thead th {\n",
              "        text-align: right;\n",
              "    }\n",
              "</style>\n",
              "<table border=\"1\" class=\"dataframe\">\n",
              "  <thead>\n",
              "    <tr style=\"text-align: right;\">\n",
              "      <th></th>\n",
              "      <th>date</th>\n",
              "      <th>Quantity</th>\n",
              "      <th>Seasonal</th>\n",
              "      <th>Consumer_loans</th>\n",
              "      <th>Construction_lic_unt</th>\n",
              "      <th>Construction_lic_area</th>\n",
              "      <th>Construction_lic_unt_SI</th>\n",
              "      <th>Construction_lic_unt_NO_SI</th>\n",
              "      <th>Construction_lic_area_SI</th>\n",
              "      <th>Construction_lic_area_NO_SI</th>\n",
              "      <th>Gray_cement_prod</th>\n",
              "      <th>Gray_cement_dispatch</th>\n",
              "      <th>Gray_cement_dispatch_Factory</th>\n",
              "      <th>Gray_cement_dispatch_comercial</th>\n",
              "      <th>Gray_cement_dispatch_contractor</th>\n",
              "      <th>Gray_cement_dispatch_other</th>\n",
              "      <th>DTF(interest_rate)</th>\n",
              "      <th>GDP_Constr</th>\n",
              "      <th>GDP_Total</th>\n",
              "      <th>Inflation</th>\n",
              "      <th>USD_exchange</th>\n",
              "      <th>Oil-brent</th>\n",
              "      <th>Oil_WTI</th>\n",
              "      <th>ISE</th>\n",
              "      <th>ICC</th>\n",
              "      <th>IEC</th>\n",
              "      <th>ICE</th>\n",
              "      <th>Unemployment%</th>\n",
              "      <th>RADAR_Constr</th>\n",
              "      <th>RADAR_Rev</th>\n",
              "      <th>RADAR_Toilets</th>\n",
              "      <th>RADAR_HomeAppliance</th>\n",
              "      <th>RADAR_Paint</th>\n",
              "      <th>RADAR_Furniture</th>\n",
              "      <th>RADAR_Tools</th>\n",
              "      <th>RADAR_Elect</th>\n",
              "      <th>RADAR_Plumbing</th>\n",
              "      <th>RADAR_Wood</th>\n",
              "      <th>RADAR_Supply</th>\n",
              "      <th>RADAR_Remodel</th>\n",
              "      <th>...</th>\n",
              "      <th>Preferencial_creditlag_8</th>\n",
              "      <th>loan_overdraftslag_8</th>\n",
              "      <th>Credit_cardlag_8</th>\n",
              "      <th>Treasury_loanlag_8</th>\n",
              "      <th>Housing_loanlag_8</th>\n",
              "      <th>Consumer_creditlag_9</th>\n",
              "      <th>Consumer_microcreditlag_9</th>\n",
              "      <th>Ordinary_creditlag_9</th>\n",
              "      <th>Preferencial_creditlag_9</th>\n",
              "      <th>loan_overdraftslag_9</th>\n",
              "      <th>Credit_cardlag_9</th>\n",
              "      <th>Treasury_loanlag_9</th>\n",
              "      <th>Housing_loanlag_9</th>\n",
              "      <th>Consumer_creditlag_10</th>\n",
              "      <th>Consumer_microcreditlag_10</th>\n",
              "      <th>Ordinary_creditlag_10</th>\n",
              "      <th>Preferencial_creditlag_10</th>\n",
              "      <th>loan_overdraftslag_10</th>\n",
              "      <th>Credit_cardlag_10</th>\n",
              "      <th>Treasury_loanlag_10</th>\n",
              "      <th>Housing_loanlag_10</th>\n",
              "      <th>Consumer_creditlag_11</th>\n",
              "      <th>Consumer_microcreditlag_11</th>\n",
              "      <th>Ordinary_creditlag_11</th>\n",
              "      <th>Preferencial_creditlag_11</th>\n",
              "      <th>loan_overdraftslag_11</th>\n",
              "      <th>Credit_cardlag_11</th>\n",
              "      <th>Treasury_loanlag_11</th>\n",
              "      <th>Housing_loanlag_11</th>\n",
              "      <th>Consumer_creditlag_12</th>\n",
              "      <th>Consumer_microcreditlag_12</th>\n",
              "      <th>Ordinary_creditlag_12</th>\n",
              "      <th>Preferencial_creditlag_12</th>\n",
              "      <th>loan_overdraftslag_12</th>\n",
              "      <th>Credit_cardlag_12</th>\n",
              "      <th>Treasury_loanlag_12</th>\n",
              "      <th>Housing_loanlag_12</th>\n",
              "      <th>holiday</th>\n",
              "      <th>sunday</th>\n",
              "      <th>working_day</th>\n",
              "    </tr>\n",
              "  </thead>\n",
              "  <tbody>\n",
              "    <tr>\n",
              "      <th>0</th>\n",
              "      <td>2017-01-01</td>\n",
              "      <td>1.503548</td>\n",
              "      <td>0.699923</td>\n",
              "      <td>112579.4297</td>\n",
              "      <td>11303.0</td>\n",
              "      <td>1185131.0</td>\n",
              "      <td>3587.0</td>\n",
              "      <td>7716.0</td>\n",
              "      <td>229478.0</td>\n",
              "      <td>955653.0</td>\n",
              "      <td>897063.518</td>\n",
              "      <td>9.131904e+05</td>\n",
              "      <td>194276.0200</td>\n",
              "      <td>502084.8330</td>\n",
              "      <td>171559.9665</td>\n",
              "      <td>45269.5875</td>\n",
              "      <td>0.0694</td>\n",
              "      <td>14753.34784</td>\n",
              "      <td>206242.5680</td>\n",
              "      <td>5.47</td>\n",
              "      <td>2944.65</td>\n",
              "      <td>52.19</td>\n",
              "      <td>52.81</td>\n",
              "      <td>102.548972</td>\n",
              "      <td>-30.2</td>\n",
              "      <td>-28.3</td>\n",
              "      <td>-33.1</td>\n",
              "      <td>11.733267</td>\n",
              "      <td>1.044525e+11</td>\n",
              "      <td>1.323489e+11</td>\n",
              "      <td>1.727682e+11</td>\n",
              "      <td>1.050914e+11</td>\n",
              "      <td>8.847567e+10</td>\n",
              "      <td>8.354725e+10</td>\n",
              "      <td>5.008444e+10</td>\n",
              "      <td>9.372000e+10</td>\n",
              "      <td>3.037115e+10</td>\n",
              "      <td>3.136015e+10</td>\n",
              "      <td>1.585430e+11</td>\n",
              "      <td>1.050763e+12</td>\n",
              "      <td>...</td>\n",
              "      <td>4445890.861</td>\n",
              "      <td>6402426.269</td>\n",
              "      <td>3390803.016</td>\n",
              "      <td>550883.0739</td>\n",
              "      <td>1302564.560</td>\n",
              "      <td>4680431.000</td>\n",
              "      <td>460632.0000</td>\n",
              "      <td>5702443.000</td>\n",
              "      <td>4657354.000</td>\n",
              "      <td>7012296.000</td>\n",
              "      <td>3283417.000</td>\n",
              "      <td>549789.0000</td>\n",
              "      <td>1454672.000</td>\n",
              "      <td>4941981.754</td>\n",
              "      <td>531850.1926</td>\n",
              "      <td>7315235.649</td>\n",
              "      <td>6120086.089</td>\n",
              "      <td>8140200.383</td>\n",
              "      <td>3814229.013</td>\n",
              "      <td>632387.5921</td>\n",
              "      <td>1627959.289</td>\n",
              "      <td>4068020.900</td>\n",
              "      <td>438682.2679</td>\n",
              "      <td>6513619.182</td>\n",
              "      <td>6137144.374</td>\n",
              "      <td>6675101.294</td>\n",
              "      <td>2989980.729</td>\n",
              "      <td>483448.3473</td>\n",
              "      <td>1298811.962</td>\n",
              "      <td>3106784.500</td>\n",
              "      <td>386289.5525</td>\n",
              "      <td>4875376.339</td>\n",
              "      <td>4791146.877</td>\n",
              "      <td>5996088.922</td>\n",
              "      <td>3013612.505</td>\n",
              "      <td>470541.3290</td>\n",
              "      <td>1093819.181</td>\n",
              "      <td>1</td>\n",
              "      <td>5</td>\n",
              "      <td>25</td>\n",
              "    </tr>\n",
              "    <tr>\n",
              "      <th>1</th>\n",
              "      <td>2017-02-01</td>\n",
              "      <td>0.076213</td>\n",
              "      <td>0.316156</td>\n",
              "      <td>113438.0949</td>\n",
              "      <td>16187.0</td>\n",
              "      <td>1590979.0</td>\n",
              "      <td>4659.0</td>\n",
              "      <td>11528.0</td>\n",
              "      <td>272961.0</td>\n",
              "      <td>1318018.0</td>\n",
              "      <td>1025704.960</td>\n",
              "      <td>1.007968e+06</td>\n",
              "      <td>228359.8390</td>\n",
              "      <td>530826.1625</td>\n",
              "      <td>199731.6950</td>\n",
              "      <td>49050.6025</td>\n",
              "      <td>0.0678</td>\n",
              "      <td>14753.34784</td>\n",
              "      <td>206242.5680</td>\n",
              "      <td>5.18</td>\n",
              "      <td>2881.68</td>\n",
              "      <td>53.40</td>\n",
              "      <td>54.01</td>\n",
              "      <td>102.919033</td>\n",
              "      <td>-24.3</td>\n",
              "      <td>-19.9</td>\n",
              "      <td>-31.0</td>\n",
              "      <td>10.504292</td>\n",
              "      <td>1.574855e+11</td>\n",
              "      <td>8.351517e+10</td>\n",
              "      <td>1.096908e+11</td>\n",
              "      <td>8.252536e+10</td>\n",
              "      <td>8.582517e+10</td>\n",
              "      <td>1.522091e+11</td>\n",
              "      <td>5.056706e+10</td>\n",
              "      <td>6.034851e+10</td>\n",
              "      <td>2.138243e+10</td>\n",
              "      <td>2.216364e+10</td>\n",
              "      <td>2.104634e+11</td>\n",
              "      <td>1.036176e+12</td>\n",
              "      <td>...</td>\n",
              "      <td>6566090.070</td>\n",
              "      <td>7930536.312</td>\n",
              "      <td>4347164.930</td>\n",
              "      <td>677598.1836</td>\n",
              "      <td>1864166.572</td>\n",
              "      <td>4353892.017</td>\n",
              "      <td>433679.7772</td>\n",
              "      <td>5854575.608</td>\n",
              "      <td>4445890.861</td>\n",
              "      <td>6402426.269</td>\n",
              "      <td>3390803.016</td>\n",
              "      <td>550883.0739</td>\n",
              "      <td>1302564.560</td>\n",
              "      <td>4680431.000</td>\n",
              "      <td>460632.0000</td>\n",
              "      <td>5702443.000</td>\n",
              "      <td>4657354.000</td>\n",
              "      <td>7012296.000</td>\n",
              "      <td>3283417.000</td>\n",
              "      <td>549789.0000</td>\n",
              "      <td>1454672.000</td>\n",
              "      <td>4941981.754</td>\n",
              "      <td>531850.1926</td>\n",
              "      <td>7315235.649</td>\n",
              "      <td>6120086.089</td>\n",
              "      <td>8140200.383</td>\n",
              "      <td>3814229.013</td>\n",
              "      <td>632387.5921</td>\n",
              "      <td>1627959.289</td>\n",
              "      <td>4068020.900</td>\n",
              "      <td>438682.2679</td>\n",
              "      <td>6513619.182</td>\n",
              "      <td>6137144.374</td>\n",
              "      <td>6675101.294</td>\n",
              "      <td>2989980.729</td>\n",
              "      <td>483448.3473</td>\n",
              "      <td>1298811.962</td>\n",
              "      <td>0</td>\n",
              "      <td>4</td>\n",
              "      <td>24</td>\n",
              "    </tr>\n",
              "    <tr>\n",
              "      <th>2</th>\n",
              "      <td>2017-03-01</td>\n",
              "      <td>-1.346258</td>\n",
              "      <td>-0.267695</td>\n",
              "      <td>114667.2587</td>\n",
              "      <td>15231.0</td>\n",
              "      <td>1438528.0</td>\n",
              "      <td>5687.0</td>\n",
              "      <td>9544.0</td>\n",
              "      <td>354904.0</td>\n",
              "      <td>1083624.0</td>\n",
              "      <td>1099919.669</td>\n",
              "      <td>1.083268e+06</td>\n",
              "      <td>241130.4555</td>\n",
              "      <td>568447.4880</td>\n",
              "      <td>218640.3600</td>\n",
              "      <td>55049.9274</td>\n",
              "      <td>0.0665</td>\n",
              "      <td>14753.34784</td>\n",
              "      <td>206242.5680</td>\n",
              "      <td>4.69</td>\n",
              "      <td>2943.49</td>\n",
              "      <td>50.43</td>\n",
              "      <td>50.60</td>\n",
              "      <td>102.162670</td>\n",
              "      <td>-21.1</td>\n",
              "      <td>-18.3</td>\n",
              "      <td>-25.4</td>\n",
              "      <td>9.704610</td>\n",
              "      <td>1.215372e+11</td>\n",
              "      <td>9.821204e+10</td>\n",
              "      <td>1.191497e+11</td>\n",
              "      <td>9.035507e+10</td>\n",
              "      <td>9.516119e+10</td>\n",
              "      <td>1.388751e+11</td>\n",
              "      <td>5.266968e+10</td>\n",
              "      <td>1.137228e+11</td>\n",
              "      <td>2.872364e+10</td>\n",
              "      <td>2.258877e+10</td>\n",
              "      <td>1.192185e+11</td>\n",
              "      <td>1.000214e+12</td>\n",
              "      <td>...</td>\n",
              "      <td>4119152.514</td>\n",
              "      <td>6258157.459</td>\n",
              "      <td>3447128.397</td>\n",
              "      <td>478975.7922</td>\n",
              "      <td>1302860.802</td>\n",
              "      <td>5430241.566</td>\n",
              "      <td>555441.9044</td>\n",
              "      <td>7916686.911</td>\n",
              "      <td>6566090.070</td>\n",
              "      <td>7930536.312</td>\n",
              "      <td>4347164.930</td>\n",
              "      <td>677598.1836</td>\n",
              "      <td>1864166.572</td>\n",
              "      <td>4353892.017</td>\n",
              "      <td>433679.7772</td>\n",
              "      <td>5854575.608</td>\n",
              "      <td>4445890.861</td>\n",
              "      <td>6402426.269</td>\n",
              "      <td>3390803.016</td>\n",
              "      <td>550883.0739</td>\n",
              "      <td>1302564.560</td>\n",
              "      <td>4680431.000</td>\n",
              "      <td>460632.0000</td>\n",
              "      <td>5702443.000</td>\n",
              "      <td>4657354.000</td>\n",
              "      <td>7012296.000</td>\n",
              "      <td>3283417.000</td>\n",
              "      <td>549789.0000</td>\n",
              "      <td>1454672.000</td>\n",
              "      <td>4941981.754</td>\n",
              "      <td>531850.1926</td>\n",
              "      <td>7315235.649</td>\n",
              "      <td>6120086.089</td>\n",
              "      <td>8140200.383</td>\n",
              "      <td>3814229.013</td>\n",
              "      <td>632387.5921</td>\n",
              "      <td>1627959.289</td>\n",
              "      <td>1</td>\n",
              "      <td>4</td>\n",
              "      <td>26</td>\n",
              "    </tr>\n",
              "    <tr>\n",
              "      <th>3</th>\n",
              "      <td>2017-04-01</td>\n",
              "      <td>-2.122585</td>\n",
              "      <td>-2.419870</td>\n",
              "      <td>115386.4634</td>\n",
              "      <td>14093.0</td>\n",
              "      <td>1308557.0</td>\n",
              "      <td>5830.0</td>\n",
              "      <td>8263.0</td>\n",
              "      <td>394570.0</td>\n",
              "      <td>913987.0</td>\n",
              "      <td>976913.691</td>\n",
              "      <td>9.000049e+05</td>\n",
              "      <td>205596.3325</td>\n",
              "      <td>477863.7565</td>\n",
              "      <td>178911.5505</td>\n",
              "      <td>37633.3040</td>\n",
              "      <td>0.0653</td>\n",
              "      <td>14981.00793</td>\n",
              "      <td>207747.7702</td>\n",
              "      <td>4.66</td>\n",
              "      <td>2873.55</td>\n",
              "      <td>49.33</td>\n",
              "      <td>49.33</td>\n",
              "      <td>102.983586</td>\n",
              "      <td>-12.8</td>\n",
              "      <td>-10.9</td>\n",
              "      <td>-15.7</td>\n",
              "      <td>8.907718</td>\n",
              "      <td>1.050589e+11</td>\n",
              "      <td>1.250024e+11</td>\n",
              "      <td>1.243045e+11</td>\n",
              "      <td>1.099748e+11</td>\n",
              "      <td>8.874865e+10</td>\n",
              "      <td>9.272528e+10</td>\n",
              "      <td>5.317580e+10</td>\n",
              "      <td>1.235185e+11</td>\n",
              "      <td>2.542596e+10</td>\n",
              "      <td>1.223621e+10</td>\n",
              "      <td>1.243762e+11</td>\n",
              "      <td>9.845472e+11</td>\n",
              "      <td>...</td>\n",
              "      <td>6053780.975</td>\n",
              "      <td>7501101.418</td>\n",
              "      <td>4264839.340</td>\n",
              "      <td>786453.6177</td>\n",
              "      <td>1665857.097</td>\n",
              "      <td>4182512.912</td>\n",
              "      <td>427158.3795</td>\n",
              "      <td>5430545.717</td>\n",
              "      <td>4119152.514</td>\n",
              "      <td>6258157.459</td>\n",
              "      <td>3447128.397</td>\n",
              "      <td>478975.7922</td>\n",
              "      <td>1302860.802</td>\n",
              "      <td>5430241.566</td>\n",
              "      <td>555441.9044</td>\n",
              "      <td>7916686.911</td>\n",
              "      <td>6566090.070</td>\n",
              "      <td>7930536.312</td>\n",
              "      <td>4347164.930</td>\n",
              "      <td>677598.1836</td>\n",
              "      <td>1864166.572</td>\n",
              "      <td>4353892.017</td>\n",
              "      <td>433679.7772</td>\n",
              "      <td>5854575.608</td>\n",
              "      <td>4445890.861</td>\n",
              "      <td>6402426.269</td>\n",
              "      <td>3390803.016</td>\n",
              "      <td>550883.0739</td>\n",
              "      <td>1302564.560</td>\n",
              "      <td>4680431.000</td>\n",
              "      <td>460632.0000</td>\n",
              "      <td>5702443.000</td>\n",
              "      <td>4657354.000</td>\n",
              "      <td>7012296.000</td>\n",
              "      <td>3283417.000</td>\n",
              "      <td>549789.0000</td>\n",
              "      <td>1454672.000</td>\n",
              "      <td>2</td>\n",
              "      <td>5</td>\n",
              "      <td>23</td>\n",
              "    </tr>\n",
              "    <tr>\n",
              "      <th>4</th>\n",
              "      <td>2017-05-01</td>\n",
              "      <td>-0.665067</td>\n",
              "      <td>-0.644222</td>\n",
              "      <td>116440.6893</td>\n",
              "      <td>13645.0</td>\n",
              "      <td>1449398.0</td>\n",
              "      <td>3766.0</td>\n",
              "      <td>9879.0</td>\n",
              "      <td>254338.0</td>\n",
              "      <td>1195060.0</td>\n",
              "      <td>1021787.442</td>\n",
              "      <td>9.990460e+05</td>\n",
              "      <td>227246.8955</td>\n",
              "      <td>521968.2200</td>\n",
              "      <td>204522.2195</td>\n",
              "      <td>45308.6685</td>\n",
              "      <td>0.0617</td>\n",
              "      <td>14981.00793</td>\n",
              "      <td>207747.7702</td>\n",
              "      <td>4.37</td>\n",
              "      <td>2924.00</td>\n",
              "      <td>48.69</td>\n",
              "      <td>48.32</td>\n",
              "      <td>103.070062</td>\n",
              "      <td>-16.9</td>\n",
              "      <td>-12.4</td>\n",
              "      <td>-23.7</td>\n",
              "      <td>9.417001</td>\n",
              "      <td>8.694237e+10</td>\n",
              "      <td>1.153829e+11</td>\n",
              "      <td>1.176807e+11</td>\n",
              "      <td>8.701007e+10</td>\n",
              "      <td>8.469597e+10</td>\n",
              "      <td>8.291499e+10</td>\n",
              "      <td>4.744757e+10</td>\n",
              "      <td>1.155134e+11</td>\n",
              "      <td>2.556480e+10</td>\n",
              "      <td>2.217084e+10</td>\n",
              "      <td>2.235675e+11</td>\n",
              "      <td>1.008891e+12</td>\n",
              "      <td>...</td>\n",
              "      <td>4666940.137</td>\n",
              "      <td>6614402.297</td>\n",
              "      <td>3521738.265</td>\n",
              "      <td>546330.1638</td>\n",
              "      <td>1455228.844</td>\n",
              "      <td>5221504.230</td>\n",
              "      <td>542565.5737</td>\n",
              "      <td>7116995.809</td>\n",
              "      <td>6053780.975</td>\n",
              "      <td>7501101.418</td>\n",
              "      <td>4264839.340</td>\n",
              "      <td>786453.6177</td>\n",
              "      <td>1665857.097</td>\n",
              "      <td>4182512.912</td>\n",
              "      <td>427158.3795</td>\n",
              "      <td>5430545.717</td>\n",
              "      <td>4119152.514</td>\n",
              "      <td>6258157.459</td>\n",
              "      <td>3447128.397</td>\n",
              "      <td>478975.7922</td>\n",
              "      <td>1302860.802</td>\n",
              "      <td>5430241.566</td>\n",
              "      <td>555441.9044</td>\n",
              "      <td>7916686.911</td>\n",
              "      <td>6566090.070</td>\n",
              "      <td>7930536.312</td>\n",
              "      <td>4347164.930</td>\n",
              "      <td>677598.1836</td>\n",
              "      <td>1864166.572</td>\n",
              "      <td>4353892.017</td>\n",
              "      <td>433679.7772</td>\n",
              "      <td>5854575.608</td>\n",
              "      <td>4445890.861</td>\n",
              "      <td>6402426.269</td>\n",
              "      <td>3390803.016</td>\n",
              "      <td>550883.0739</td>\n",
              "      <td>1302564.560</td>\n",
              "      <td>2</td>\n",
              "      <td>4</td>\n",
              "      <td>25</td>\n",
              "    </tr>\n",
              "  </tbody>\n",
              "</table>\n",
              "<p>5 rows × 943 columns</p>\n",
              "</div>"
            ],
            "text/plain": [
              "         date  Quantity  Seasonal  ...  holiday  sunday  working_day\n",
              "0  2017-01-01  1.503548  0.699923  ...        1       5           25\n",
              "1  2017-02-01  0.076213  0.316156  ...        0       4           24\n",
              "2  2017-03-01 -1.346258 -0.267695  ...        1       4           26\n",
              "3  2017-04-01 -2.122585 -2.419870  ...        2       5           23\n",
              "4  2017-05-01 -0.665067 -0.644222  ...        2       4           25\n",
              "\n",
              "[5 rows x 943 columns]"
            ]
          },
          "metadata": {},
          "execution_count": 512
        }
      ]
    },
    {
      "cell_type": "code",
      "metadata": {
        "id": "IdxI_kWuQGGq"
      },
      "source": [
        "data['date'] = pd.to_datetime(data['date'])\n",
        "data['date']= data['date'].map(dt.datetime.toordinal)"
      ],
      "execution_count": 513,
      "outputs": []
    },
    {
      "cell_type": "code",
      "metadata": {
        "id": "RAGpipcETMEn"
      },
      "source": [
        "data = data[['date' ,'Quantity', 'Seasonal', 'Gray_cement_dispatch_comercial', 'ISE',\n",
        "       'Construction_lic_area/unt_SIlag_4', ]]"
      ],
      "execution_count": 514,
      "outputs": []
    },
    {
      "cell_type": "code",
      "metadata": {
        "colab": {
          "base_uri": "https://localhost:8080/"
        },
        "id": "9T8m7Geu41__",
        "outputId": "ec73407b-45c5-4ecb-ba63-76b039426458"
      },
      "source": [
        "data.shape"
      ],
      "execution_count": 515,
      "outputs": [
        {
          "output_type": "execute_result",
          "data": {
            "text/plain": [
              "(54, 6)"
            ]
          },
          "metadata": {},
          "execution_count": 515
        }
      ]
    },
    {
      "cell_type": "code",
      "metadata": {
        "id": "lcFuyVfGS9Zw"
      },
      "source": [
        "y = data['Quantity']\n",
        "X = data.loc[: ,data.columns != 'Quantity']"
      ],
      "execution_count": 516,
      "outputs": []
    },
    {
      "cell_type": "code",
      "metadata": {
        "id": "j2ZOwQ5xS_SQ"
      },
      "source": [
        "cols =data.columns.difference(['date'])"
      ],
      "execution_count": 517,
      "outputs": []
    },
    {
      "cell_type": "code",
      "metadata": {
        "id": "Mqr1JF52TFew"
      },
      "source": [
        "from sklearn.preprocessing import StandardScaler\n",
        "sc = StandardScaler()"
      ],
      "execution_count": 518,
      "outputs": []
    },
    {
      "cell_type": "markdown",
      "metadata": {
        "id": "TJbaVPbgTOuV"
      },
      "source": [
        "We dont scale the date col here "
      ]
    },
    {
      "cell_type": "code",
      "metadata": {
        "id": "wqtBYRs3TH2v"
      },
      "source": [
        "data[cols] = sc.fit_transform(data[cols])"
      ],
      "execution_count": 519,
      "outputs": []
    },
    {
      "cell_type": "code",
      "metadata": {
        "colab": {
          "base_uri": "https://localhost:8080/",
          "height": 143
        },
        "id": "ymEHPXHsTJ1Q",
        "outputId": "3420d3ce-9486-453c-b337-bafb808e8c49"
      },
      "source": [
        "data.head(3)"
      ],
      "execution_count": 520,
      "outputs": [
        {
          "output_type": "execute_result",
          "data": {
            "text/html": [
              "<div>\n",
              "<style scoped>\n",
              "    .dataframe tbody tr th:only-of-type {\n",
              "        vertical-align: middle;\n",
              "    }\n",
              "\n",
              "    .dataframe tbody tr th {\n",
              "        vertical-align: top;\n",
              "    }\n",
              "\n",
              "    .dataframe thead th {\n",
              "        text-align: right;\n",
              "    }\n",
              "</style>\n",
              "<table border=\"1\" class=\"dataframe\">\n",
              "  <thead>\n",
              "    <tr style=\"text-align: right;\">\n",
              "      <th></th>\n",
              "      <th>date</th>\n",
              "      <th>Quantity</th>\n",
              "      <th>Seasonal</th>\n",
              "      <th>Gray_cement_dispatch_comercial</th>\n",
              "      <th>ISE</th>\n",
              "      <th>Construction_lic_area/unt_SIlag_4</th>\n",
              "    </tr>\n",
              "  </thead>\n",
              "  <tbody>\n",
              "    <tr>\n",
              "      <th>0</th>\n",
              "      <td>736330</td>\n",
              "      <td>1.539880</td>\n",
              "      <td>0.703768</td>\n",
              "      <td>-0.536381</td>\n",
              "      <td>-0.687592</td>\n",
              "      <td>1.924774</td>\n",
              "    </tr>\n",
              "    <tr>\n",
              "      <th>1</th>\n",
              "      <td>736361</td>\n",
              "      <td>0.110421</td>\n",
              "      <td>0.325418</td>\n",
              "      <td>-0.137113</td>\n",
              "      <td>-0.608165</td>\n",
              "      <td>-0.287215</td>\n",
              "    </tr>\n",
              "    <tr>\n",
              "      <th>2</th>\n",
              "      <td>736389</td>\n",
              "      <td>-1.314169</td>\n",
              "      <td>-0.250193</td>\n",
              "      <td>0.385513</td>\n",
              "      <td>-0.770505</td>\n",
              "      <td>-1.573761</td>\n",
              "    </tr>\n",
              "  </tbody>\n",
              "</table>\n",
              "</div>"
            ],
            "text/plain": [
              "     date  Quantity  ...       ISE  Construction_lic_area/unt_SIlag_4\n",
              "0  736330  1.539880  ... -0.687592                           1.924774\n",
              "1  736361  0.110421  ... -0.608165                          -0.287215\n",
              "2  736389 -1.314169  ... -0.770505                          -1.573761\n",
              "\n",
              "[3 rows x 6 columns]"
            ]
          },
          "metadata": {},
          "execution_count": 520
        }
      ]
    },
    {
      "cell_type": "code",
      "metadata": {
        "colab": {
          "base_uri": "https://localhost:8080/"
        },
        "id": "345CVC4HUm92",
        "outputId": "382b6965-6484-4495-8b0b-f704ea462628"
      },
      "source": [
        "data.shape"
      ],
      "execution_count": 521,
      "outputs": [
        {
          "output_type": "execute_result",
          "data": {
            "text/plain": [
              "(54, 6)"
            ]
          },
          "metadata": {},
          "execution_count": 521
        }
      ]
    },
    {
      "cell_type": "markdown",
      "metadata": {
        "id": "BdFJ4amtUQ_5"
      },
      "source": [
        "# Regress on subsetted data"
      ]
    },
    {
      "cell_type": "markdown",
      "metadata": {
        "id": "AR-GLRqe1xZI"
      },
      "source": [
        "## LassoCV. 1"
      ]
    },
    {
      "cell_type": "markdown",
      "metadata": {
        "id": "A4uxZUBWUgWM"
      },
      "source": [
        "#### Training and splitting"
      ]
    },
    {
      "cell_type": "code",
      "metadata": {
        "colab": {
          "base_uri": "https://localhost:8080/"
        },
        "id": "gG7EjoKyT8Vp",
        "outputId": "e8394d23-e5be-4f6f-d1a3-6bdc97a4aff9"
      },
      "source": [
        "X_train, X_test, y_train, y_test = train_test_split(X, y, test_size=0.3, random_state=5)\n",
        "print(X_train.shape)\n",
        "print(X_test.shape)"
      ],
      "execution_count": 522,
      "outputs": [
        {
          "output_type": "stream",
          "name": "stdout",
          "text": [
            "(37, 5)\n",
            "(17, 5)\n"
          ]
        }
      ]
    },
    {
      "cell_type": "markdown",
      "metadata": {
        "id": "dMPsYIrC0d9X"
      },
      "source": [
        "### Model Creation\n",
        "\n",
        "https://stackoverflow.com/questions/57205585/how-does-parameter-selection-work-in-lassocv-when-nothing-is-supplied"
      ]
    },
    {
      "cell_type": "code",
      "metadata": {
        "id": "zacn30DpVOgp"
      },
      "source": [
        "# TOL tells LAsso when to stop searching for some min \n",
        "# value .  \n",
        "\n",
        "# The default is 1 / 10,ooo.\n",
        "# Ours ran on any # greater thna tha\n",
        "#tols = [0.0001 #, 0.001, 0.01, 0.1, 1]\n",
        "LassoReg = LassoCV(cv = 37, random_state=1, tol = 0.01, n_alphas=5).fit(X, y) # CV = X split"
      ],
      "execution_count": 523,
      "outputs": []
    },
    {
      "cell_type": "markdown",
      "metadata": {
        "id": "Drqeso6GakWQ"
      },
      "source": [
        "## Alpha score  of 5 , chose 0.001"
      ]
    },
    {
      "cell_type": "code",
      "metadata": {
        "colab": {
          "base_uri": "https://localhost:8080/"
        },
        "id": "_qR5exQJZw3S",
        "outputId": "c50f01cd-5fb1-4131-c8b0-d6fd71efcd2d"
      },
      "source": [
        "LassoReg.alphas_[4]/LassoReg.alphas_[0]"
      ],
      "execution_count": 524,
      "outputs": [
        {
          "output_type": "execute_result",
          "data": {
            "text/plain": [
              "0.001"
            ]
          },
          "metadata": {},
          "execution_count": 524
        }
      ]
    },
    {
      "cell_type": "markdown",
      "metadata": {
        "id": "wZDLp4Bf2XEM"
      },
      "source": [
        "### Parameter settings"
      ]
    },
    {
      "cell_type": "code",
      "metadata": {
        "colab": {
          "base_uri": "https://localhost:8080/"
        },
        "id": "OzB2gDJooe1r",
        "outputId": "882a3d8c-d0fb-4a4b-d911-9654d37d8558"
      },
      "source": [
        "LassoReg.score"
      ],
      "execution_count": 525,
      "outputs": [
        {
          "output_type": "execute_result",
          "data": {
            "text/plain": [
              "<bound method RegressorMixin.score of LassoCV(cv=37, n_alphas=5, random_state=1, tol=0.01)>"
            ]
          },
          "metadata": {},
          "execution_count": 525
        }
      ]
    },
    {
      "cell_type": "code",
      "metadata": {
        "colab": {
          "base_uri": "https://localhost:8080/"
        },
        "id": "bVA_eCsForJ4",
        "outputId": "145f867e-0ba8-4122-e142-e838e8be02d0"
      },
      "source": [
        "LassoReg.score(X,y)"
      ],
      "execution_count": 526,
      "outputs": [
        {
          "output_type": "execute_result",
          "data": {
            "text/plain": [
              "0.5832049683775525"
            ]
          },
          "metadata": {},
          "execution_count": 526
        }
      ]
    },
    {
      "cell_type": "code",
      "metadata": {
        "colab": {
          "base_uri": "https://localhost:8080/"
        },
        "id": "F_uDpAp8Yw0J",
        "outputId": "a4c1f0d2-e83b-4f1d-dd57-51bef58e209d"
      },
      "source": [
        "y_pred_Train = LassoReg .predict(X_train) #Predictions on training model\n",
        "y_pred_Test  = LassoReg .predict(X_test)  #Predictions on testing model\n",
        "\n",
        "print('Intercept:',LassoReg .intercept_) #Intercept: -4.4999751446869665\n",
        "print('Coefficients:', LassoReg .coef_)"
      ],
      "execution_count": 527,
      "outputs": [
        {
          "output_type": "stream",
          "name": "stdout",
          "text": [
            "Intercept: -5.703990007706598\n",
            "Coefficients: [0.00000000e+00 0.00000000e+00 1.05493421e-05 0.00000000e+00\n",
            " 0.00000000e+00]\n"
          ]
        }
      ]
    },
    {
      "cell_type": "markdown",
      "metadata": {
        "id": "YsGREX8DupIu"
      },
      "source": [
        "### Model Details"
      ]
    },
    {
      "cell_type": "code",
      "metadata": {
        "colab": {
          "base_uri": "https://localhost:8080/",
          "height": 515
        },
        "id": "jG00A_jJYwtw",
        "outputId": "763168f3-25b0-4236-c59c-abc2aa80eba5"
      },
      "source": [
        "Prediction_Plots(y_train, y_pred_Train, y_test, y_pred_Test)\n",
        "Metrics_Printer(y_train, y_pred_Train, y_test, y_pred_Test)"
      ],
      "execution_count": 529,
      "outputs": [
        {
          "output_type": "display_data",
          "data": {
            "image/png": "[encoded data removed]",
            "text/plain": [
              "<Figure size 720x288 with 2 Axes>"
            ]
          },
          "metadata": {
            "needs_background": "light"
          }
        },
        {
          "output_type": "stream",
          "name": "stdout",
          "text": [
            "Training Metrics:\n",
            "R squared: 0.582970545667854\n",
            "Mean Absolute Error: 0.5014009034461974\n",
            "Mean Squared Error: 0.40300939654576085\n",
            "Root Mean Squared Error: 0.6348302108010935\n",
            "\n",
            "Testing Metrics:\n",
            "R squared: 0.5785241642076264\n",
            "Mean Absolute Error: 0.4715011583621411\n",
            "Mean Squared Error: 0.44679906090700083\n",
            "Root Mean Squared Error: 0.6684302962216785\n"
          ]
        },
        {
          "output_type": "execute_result",
          "data": {
            "text/plain": [
              "()"
            ]
          },
          "metadata": {},
          "execution_count": 529
        }
      ]
    },
    {
      "cell_type": "markdown",
      "metadata": {
        "id": "OyRH8VaT0yD2"
      },
      "source": [
        "### Multiple Run Analysis"
      ]
    },
    {
      "cell_type": "code",
      "metadata": {
        "colab": {
          "base_uri": "https://localhost:8080/",
          "height": 372
        },
        "id": "NzpKybL2vzAO",
        "outputId": "c406abe2-6629-4ee9-b5f2-dfcc5418112c"
      },
      "source": [
        "Multiple_Runner(LassoReg, X, y)\n"
      ],
      "execution_count": 193,
      "outputs": [
        {
          "output_type": "stream",
          "name": "stdout",
          "text": [
            "Train MSE median: 0.42187047716162307\n",
            "Test MSE median: 0.4209429881094087\n",
            "\n",
            "Train_R2 median: 0.5989036661316269\n",
            "Test_R2 median: 0.40599184559297585\n"
          ]
        },
        {
          "output_type": "display_data",
          "data": {
            "image/png": "[encoded data removed]",
            "text/plain": [
              "<Figure size 720x288 with 2 Axes>"
            ]
          },
          "metadata": {
            "needs_background": "light"
          }
        }
      ]
    },
    {
      "cell_type": "markdown",
      "metadata": {
        "id": "LJvc7Z255uF-"
      },
      "source": [
        "# Orig Data split o.5. 2"
      ]
    },
    {
      "cell_type": "code",
      "metadata": {
        "colab": {
          "base_uri": "https://localhost:8080/"
        },
        "id": "hvcgrZSNvy87",
        "outputId": "2ec40b0b-8b82-48fe-97fc-174c44130fe7"
      },
      "source": [
        "X_train, X_test, y_train, y_test = train_test_split(X, y, test_size=0.5, random_state=5)\n",
        "print(X_train.shape)\n",
        "print(X_test.shape)"
      ],
      "execution_count": 530,
      "outputs": [
        {
          "output_type": "stream",
          "name": "stdout",
          "text": [
            "(27, 5)\n",
            "(27, 5)\n"
          ]
        }
      ]
    },
    {
      "cell_type": "code",
      "metadata": {
        "id": "wqelyBdBvy5T"
      },
      "source": [
        "# CV = X split\n",
        "#LassoReg = LassoCV(cv = 27, random_state=1, tol =1).fit(X, y) \n",
        "LassoReg = LassoCV(cv = 37, random_state=1, tol = 0.01, n_alphas=5).fit(X, y) # CV = X split"
      ],
      "execution_count": 531,
      "outputs": []
    },
    {
      "cell_type": "code",
      "metadata": {
        "colab": {
          "base_uri": "https://localhost:8080/"
        },
        "id": "1Ux63Y84c0Yn",
        "outputId": "9f8ed6a6-4e75-450f-d1c5-c873c32271fc"
      },
      "source": [
        "LassoReg.alphas_[4]/LassoReg.alphas_[0]"
      ],
      "execution_count": 532,
      "outputs": [
        {
          "output_type": "execute_result",
          "data": {
            "text/plain": [
              "0.001"
            ]
          },
          "metadata": {},
          "execution_count": 532
        }
      ]
    },
    {
      "cell_type": "code",
      "metadata": {
        "colab": {
          "base_uri": "https://localhost:8080/"
        },
        "id": "0KeCopuX84IN",
        "outputId": "d446f630-9ae0-4025-db3b-4af09b29ff1a"
      },
      "source": [
        "LassoReg.score(X,y)"
      ],
      "execution_count": 533,
      "outputs": [
        {
          "output_type": "execute_result",
          "data": {
            "text/plain": [
              "0.5832049683775525"
            ]
          },
          "metadata": {},
          "execution_count": 533
        }
      ]
    },
    {
      "cell_type": "code",
      "metadata": {
        "colab": {
          "base_uri": "https://localhost:8080/"
        },
        "id": "SvTSTfv284EQ",
        "outputId": "ee21db7f-afdb-407f-c9c5-362c431cb6eb"
      },
      "source": [
        "y_pred_Train = LassoReg .predict(X_train) #Predictions on training model\n",
        "y_pred_Test  = LassoReg .predict(X_test)  #Predictions on testing model\n",
        "\n",
        "print('Intercept:',LassoReg .intercept_) #Intercept: -4.4999751446869665\n",
        "print('Coefficients:', LassoReg .coef_)"
      ],
      "execution_count": 534,
      "outputs": [
        {
          "output_type": "stream",
          "name": "stdout",
          "text": [
            "Intercept: -5.703990007706598\n",
            "Coefficients: [0.00000000e+00 0.00000000e+00 1.05493421e-05 0.00000000e+00\n",
            " 0.00000000e+00]\n"
          ]
        }
      ]
    },
    {
      "cell_type": "code",
      "metadata": {
        "colab": {
          "base_uri": "https://localhost:8080/",
          "height": 515
        },
        "id": "Q6aN5UXa84AX",
        "outputId": "5851182c-82d1-4cad-8efb-1a6efa902bc3"
      },
      "source": [
        "Prediction_Plots(y_train, y_pred_Train, y_test, y_pred_Test)\n",
        "Metrics_Printer(y_train, y_pred_Train, y_test, y_pred_Test)"
      ],
      "execution_count": 535,
      "outputs": [
        {
          "output_type": "display_data",
          "data": {
            "image/png": "[encoded data removed]",
            "text/plain": [
              "<Figure size 720x288 with 2 Axes>"
            ]
          },
          "metadata": {
            "needs_background": "light"
          }
        },
        {
          "output_type": "stream",
          "name": "stdout",
          "text": [
            "Training Metrics:\n",
            "R squared: 0.6740070344377518\n",
            "Mean Absolute Error: 0.4496637513753671\n",
            "Mean Squared Error: 0.3140081033702132\n",
            "Root Mean Squared Error: 0.5603642595403575\n",
            "\n",
            "Testing Metrics:\n",
            "R squared: 0.46262295858380487\n",
            "Mean Absolute Error: 0.5343122900937327\n",
            "Mean Squared Error: 0.5195819598746819\n",
            "Root Mean Squared Error: 0.7208203381389027\n"
          ]
        },
        {
          "output_type": "execute_result",
          "data": {
            "text/plain": [
              "()"
            ]
          },
          "metadata": {},
          "execution_count": 535
        }
      ]
    },
    {
      "cell_type": "code",
      "metadata": {
        "colab": {
          "base_uri": "https://localhost:8080/",
          "height": 372
        },
        "id": "dkhiJBGJ9Ti1",
        "outputId": "cfac0688-2ba6-467a-8513-6f264ab9180d"
      },
      "source": [
        "Multiple_Runner(LassoReg, X, y)"
      ],
      "execution_count": 536,
      "outputs": [
        {
          "output_type": "stream",
          "name": "stdout",
          "text": [
            "Train MSE median: 0.4209071379888747\n",
            "Test MSE median: 0.42546172697287094\n",
            "\n",
            "Train_R2 median: 0.5975520775392502\n",
            "Test_R2 median: 0.41914730814986667\n"
          ]
        },
        {
          "output_type": "display_data",
          "data": {
            "image/png": "[encoded data removed]",
            "text/plain": [
              "<Figure size 720x288 with 2 Axes>"
            ]
          },
          "metadata": {
            "needs_background": "light"
          }
        }
      ]
    },
    {
      "cell_type": "markdown",
      "metadata": {
        "id": "gCM7V-QPApep"
      },
      "source": [
        "## Orig Data 0.3   TOL = 0.1"
      ]
    },
    {
      "cell_type": "code",
      "metadata": {
        "colab": {
          "base_uri": "https://localhost:8080/"
        },
        "id": "0QOnawDU9Tep",
        "outputId": "ff49ccba-03d2-4765-ad9f-c6e690c1b5e2"
      },
      "source": [
        "X_train, X_test, y_train, y_test = train_test_split(X, y, test_size=0.3, random_state=5)\n",
        "print(X_train.shape)\n",
        "print(X_test.shape)"
      ],
      "execution_count": 537,
      "outputs": [
        {
          "output_type": "stream",
          "name": "stdout",
          "text": [
            "(37, 5)\n",
            "(17, 5)\n"
          ]
        }
      ]
    },
    {
      "cell_type": "code",
      "metadata": {
        "colab": {
          "base_uri": "https://localhost:8080/"
        },
        "id": "EnipBF259TXZ",
        "outputId": "1595aa5a-6baa-4599-ffa9-5b7e94cc6266"
      },
      "source": [
        "# CV = X train split\n",
        "#LassoReg = LassoCV(cv = 16, random_state=1, tol =1).fit(X, y) \n",
        "# CV = X split\n",
        "#LassoReg = LassoCV(cv = 27, random_state=1, tol =1).fit(X, y) \n",
        "LassoReg = LassoCV(cv = 43, random_state=1, tol = 0.1, n_alphas=5).fit(X, y) # CV = X split\n",
        "LassoReg.alphas_[4]/LassoReg.alphas_[0]"
      ],
      "execution_count": 538,
      "outputs": [
        {
          "output_type": "execute_result",
          "data": {
            "text/plain": [
              "0.001"
            ]
          },
          "metadata": {},
          "execution_count": 538
        }
      ]
    },
    {
      "cell_type": "code",
      "metadata": {
        "colab": {
          "base_uri": "https://localhost:8080/"
        },
        "id": "T8VugHUo9TTA",
        "outputId": "00713eae-b26e-4a74-a1a3-2d677f611704"
      },
      "source": [
        "LassoReg.score(X,y)"
      ],
      "execution_count": 539,
      "outputs": [
        {
          "output_type": "execute_result",
          "data": {
            "text/plain": [
              "0.5832049683775525"
            ]
          },
          "metadata": {},
          "execution_count": 539
        }
      ]
    },
    {
      "cell_type": "code",
      "metadata": {
        "colab": {
          "base_uri": "https://localhost:8080/"
        },
        "id": "bNm85bI39TOx",
        "outputId": "7bb2e6f7-e73c-4acb-c378-1fd1898d00c7"
      },
      "source": [
        "y_pred_Train = LassoReg .predict(X_train) #Predictions on training model\n",
        "y_pred_Test  = LassoReg .predict(X_test)  #Predictions on testing model\n",
        "\n",
        "print('Intercept:',LassoReg .intercept_) #Intercept: -4.4999751446869665\n",
        "print('Coefficients:', LassoReg .coef_)"
      ],
      "execution_count": 540,
      "outputs": [
        {
          "output_type": "stream",
          "name": "stdout",
          "text": [
            "Intercept: -5.703990007706598\n",
            "Coefficients: [0.00000000e+00 0.00000000e+00 1.05493421e-05 0.00000000e+00\n",
            " 0.00000000e+00]\n"
          ]
        }
      ]
    },
    {
      "cell_type": "code",
      "metadata": {
        "colab": {
          "base_uri": "https://localhost:8080/",
          "height": 515
        },
        "id": "gP-h9xvCBc4T",
        "outputId": "7faff5db-805f-47ec-8bd1-092f4536e2b7"
      },
      "source": [
        "Prediction_Plots(y_train, y_pred_Train, y_test, y_pred_Test)\n",
        "Metrics_Printer(y_train, y_pred_Train, y_test, y_pred_Test)"
      ],
      "execution_count": 541,
      "outputs": [
        {
          "output_type": "display_data",
          "data": {
            "image/png": "[encoded data removed]",
            "text/plain": [
              "<Figure size 720x288 with 2 Axes>"
            ]
          },
          "metadata": {
            "needs_background": "light"
          }
        },
        {
          "output_type": "stream",
          "name": "stdout",
          "text": [
            "Training Metrics:\n",
            "R squared: 0.582970545667854\n",
            "Mean Absolute Error: 0.5014009034461974\n",
            "Mean Squared Error: 0.40300939654576085\n",
            "Root Mean Squared Error: 0.6348302108010935\n",
            "\n",
            "Testing Metrics:\n",
            "R squared: 0.5785241642076264\n",
            "Mean Absolute Error: 0.4715011583621411\n",
            "Mean Squared Error: 0.44679906090700083\n",
            "Root Mean Squared Error: 0.6684302962216785\n"
          ]
        },
        {
          "output_type": "execute_result",
          "data": {
            "text/plain": [
              "()"
            ]
          },
          "metadata": {},
          "execution_count": 541
        }
      ]
    },
    {
      "cell_type": "code",
      "metadata": {
        "colab": {
          "base_uri": "https://localhost:8080/",
          "height": 372
        },
        "id": "gU-4NcxaBcyw",
        "outputId": "b200bb81-a600-4b51-f036-bbbd1c60aed7"
      },
      "source": [
        "Multiple_Runner(LassoReg, X, y)"
      ],
      "execution_count": 542,
      "outputs": [
        {
          "output_type": "stream",
          "name": "stdout",
          "text": [
            "Train MSE median: 0.4211173200500924\n",
            "Test MSE median: 0.41946282158473536\n",
            "\n",
            "Train_R2 median: 0.5994814027192397\n",
            "Test_R2 median: 0.4029357969643138\n"
          ]
        },
        {
          "output_type": "display_data",
          "data": {
            "image/png": "[encoded data removed]",
            "text/plain": [
              "<Figure size 720x288 with 2 Axes>"
            ]
          },
          "metadata": {
            "needs_background": "light"
          }
        }
      ]
    },
    {
      "cell_type": "markdown",
      "metadata": {
        "id": "s1itIDlrF39j"
      },
      "source": [
        "# Split 0.5, TOL = 0.1"
      ]
    },
    {
      "cell_type": "code",
      "metadata": {
        "colab": {
          "base_uri": "https://localhost:8080/"
        },
        "id": "fWaiz4xjBcvL",
        "outputId": "bd237df0-8950-4f83-c685-f19f558e9905"
      },
      "source": [
        "X_train, X_test, y_train, y_test = train_test_split(X, y, test_size=0.5, random_state=2)\n",
        "print(X_train.shape)\n",
        "print(X_test.shape)"
      ],
      "execution_count": 543,
      "outputs": [
        {
          "output_type": "stream",
          "name": "stdout",
          "text": [
            "(27, 5)\n",
            "(27, 5)\n"
          ]
        }
      ]
    },
    {
      "cell_type": "code",
      "metadata": {
        "colab": {
          "base_uri": "https://localhost:8080/"
        },
        "id": "SMsGRZJ2Bcqy",
        "outputId": "5a76d58a-fc40-494d-c89c-6dc427555fe8"
      },
      "source": [
        "# CV = X train split\n",
        "#LassoReg = LassoCV(cv = 37, random_state=1, tol =0.1).fit(X, y) \n",
        "LassoReg = LassoCV(cv = 43, random_state=1, tol = 0.1, n_alphas=5).fit(X, y) # CV = X split\n",
        "LassoReg.alphas_[4]/LassoReg.alphas_[0]"
      ],
      "execution_count": 544,
      "outputs": [
        {
          "output_type": "execute_result",
          "data": {
            "text/plain": [
              "0.001"
            ]
          },
          "metadata": {},
          "execution_count": 544
        }
      ]
    },
    {
      "cell_type": "code",
      "metadata": {
        "colab": {
          "base_uri": "https://localhost:8080/"
        },
        "id": "6nHQnsLuiLyN",
        "outputId": "a9d225cf-d449-4e3c-a9f5-5dfe9663064d"
      },
      "source": [
        "LassoReg.alphas_[4]/LassoReg.alphas_[0]"
      ],
      "execution_count": 545,
      "outputs": [
        {
          "output_type": "execute_result",
          "data": {
            "text/plain": [
              "0.001"
            ]
          },
          "metadata": {},
          "execution_count": 545
        }
      ]
    },
    {
      "cell_type": "code",
      "metadata": {
        "colab": {
          "base_uri": "https://localhost:8080/"
        },
        "id": "5awcC91RBcpz",
        "outputId": "dceb9cb0-e88e-46b7-883e-9899a0ec30b9"
      },
      "source": [
        "LassoReg.score(X,y)"
      ],
      "execution_count": 546,
      "outputs": [
        {
          "output_type": "execute_result",
          "data": {
            "text/plain": [
              "0.5832049683775525"
            ]
          },
          "metadata": {},
          "execution_count": 546
        }
      ]
    },
    {
      "cell_type": "code",
      "metadata": {
        "colab": {
          "base_uri": "https://localhost:8080/"
        },
        "id": "cGwNrxJ1Bcj4",
        "outputId": "f8c66fba-5c3f-491b-f6e3-653fb0d8940c"
      },
      "source": [
        "y_pred_Train = LassoReg .predict(X_train) #Predictions on training model\n",
        "y_pred_Test  = LassoReg .predict(X_test)  #Predictions on testing model\n",
        "\n",
        "print('Intercept:',LassoReg .intercept_) #Intercept: -4.4999751446869665\n",
        "print('Coefficients:', LassoReg .coef_)"
      ],
      "execution_count": 549,
      "outputs": [
        {
          "output_type": "stream",
          "name": "stdout",
          "text": [
            "Intercept: -5.703990007706598\n",
            "Coefficients: [0.00000000e+00 0.00000000e+00 1.05493421e-05 0.00000000e+00\n",
            " 0.00000000e+00]\n"
          ]
        }
      ]
    },
    {
      "cell_type": "code",
      "metadata": {
        "colab": {
          "base_uri": "https://localhost:8080/",
          "height": 515
        },
        "id": "7fFvMDxTBccc",
        "outputId": "75959d34-b5fc-4735-9b87-cc35491c0825"
      },
      "source": [
        "Prediction_Plots(y_train, y_pred_Train, y_test, y_pred_Test)\n",
        "Metrics_Printer(y_train, y_pred_Train, y_test, y_pred_Test)"
      ],
      "execution_count": 550,
      "outputs": [
        {
          "output_type": "display_data",
          "data": {
            "image/png": "[encoded data removed]",
            "text/plain": [
              "<Figure size 720x288 with 2 Axes>"
            ]
          },
          "metadata": {
            "needs_background": "light"
          }
        },
        {
          "output_type": "stream",
          "name": "stdout",
          "text": [
            "Training Metrics:\n",
            "R squared: 0.4559567171095723\n",
            "Mean Absolute Error: 0.5305609757154071\n",
            "Mean Squared Error: 0.43544348251281956\n",
            "Root Mean Squared Error: 0.659881415492829\n",
            "\n",
            "Testing Metrics:\n",
            "R squared: 0.667103120875254\n",
            "Mean Absolute Error: 0.45341506575369267\n",
            "Mean Squared Error: 0.39814658073207554\n",
            "Root Mean Squared Error: 0.6309885741691964\n"
          ]
        },
        {
          "output_type": "execute_result",
          "data": {
            "text/plain": [
              "()"
            ]
          },
          "metadata": {},
          "execution_count": 550
        }
      ]
    },
    {
      "cell_type": "code",
      "metadata": {
        "colab": {
          "base_uri": "https://localhost:8080/",
          "height": 372
        },
        "id": "yGV04w0MGZD1",
        "outputId": "84c79995-5121-45e2-9cfc-8761a354be7d"
      },
      "source": [
        "Multiple_Runner(LassoReg, X, y)"
      ],
      "execution_count": 317,
      "outputs": [
        {
          "output_type": "stream",
          "name": "stdout",
          "text": [
            "Train MSE median: 0.41690758309426923\n",
            "Test MSE median: 0.4396599358253828\n",
            "\n",
            "Train_R2 median: 0.6000585999314818\n",
            "Test_R2 median: 0.41110559736247543\n"
          ]
        },
        {
          "output_type": "display_data",
          "data": {
            "image/png": "[encoded data removed]",
            "text/plain": [
              "<Figure size 720x288 with 2 Axes>"
            ]
          },
          "metadata": {
            "needs_background": "light"
          }
        }
      ]
    },
    {
      "cell_type": "markdown",
      "metadata": {
        "id": "r29iQcFWKDN0"
      },
      "source": [
        "# Split 3% , tol = 0.1\n"
      ]
    },
    {
      "cell_type": "code",
      "metadata": {
        "colab": {
          "base_uri": "https://localhost:8080/"
        },
        "id": "OcPPEGc3GY-7",
        "outputId": "f8df01aa-424b-48fa-def8-93df321a7fd2"
      },
      "source": [
        "X_train, X_test, y_train, y_test = train_test_split(X, y, test_size=0.3, random_state=5)\n",
        "print(X_train.shape)\n",
        "print(X_test.shape)"
      ],
      "execution_count": 216,
      "outputs": [
        {
          "output_type": "stream",
          "name": "stdout",
          "text": [
            "(37, 4)\n",
            "(17, 4)\n"
          ]
        }
      ]
    },
    {
      "cell_type": "code",
      "metadata": {
        "id": "2KdJ_itRGY6i"
      },
      "source": [
        "# CV = X train split\n",
        "LassoReg = LassoCV(cv = 37, random_state=1, tol =0.1).fit(X, y) "
      ],
      "execution_count": 217,
      "outputs": []
    },
    {
      "cell_type": "code",
      "metadata": {
        "colab": {
          "base_uri": "https://localhost:8080/"
        },
        "id": "HedZtMQ9GY2K",
        "outputId": "98e235e2-9e9f-4885-e6c5-3bb2d8b8fed8"
      },
      "source": [
        "LassoReg.score(X,y)"
      ],
      "execution_count": 218,
      "outputs": [
        {
          "output_type": "execute_result",
          "data": {
            "text/plain": [
              "0.5832228282977924"
            ]
          },
          "metadata": {},
          "execution_count": 218
        }
      ]
    },
    {
      "cell_type": "code",
      "metadata": {
        "colab": {
          "base_uri": "https://localhost:8080/"
        },
        "id": "ixpGi8ZM9TL0",
        "outputId": "16cd7955-4940-46cc-cc03-2a50b200bb37"
      },
      "source": [
        "y_pred_Train = LassoReg .predict(X_train) #Predictions on training model\n",
        "y_pred_Test  = LassoReg .predict(X_test)  #Predictions on testing model\n",
        "\n",
        "print('Intercept:',LassoReg .intercept_) #Intercept: -4.4999751446869665\n",
        "print('Coefficients:', LassoReg .coef_)"
      ],
      "execution_count": 219,
      "outputs": [
        {
          "output_type": "stream",
          "name": "stdout",
          "text": [
            "Intercept: -5.7305110494746865\n",
            "Coefficients: [0.00000000e+00 1.05983919e-05 0.00000000e+00 0.00000000e+00]\n"
          ]
        }
      ]
    },
    {
      "cell_type": "code",
      "metadata": {
        "colab": {
          "base_uri": "https://localhost:8080/",
          "height": 515
        },
        "id": "neQTJC8DKUy7",
        "outputId": "8d46240d-6c22-4509-dc9d-e03e27b7d47f"
      },
      "source": [
        "Prediction_Plots(y_train, y_pred_Train, y_test, y_pred_Test)\n",
        "Metrics_Printer(y_train, y_pred_Train, y_test, y_pred_Test)"
      ],
      "execution_count": 220,
      "outputs": [
        {
          "output_type": "display_data",
          "data": {
            "image/png": "[encoded data removed]",
            "text/plain": [
              "<Figure size 720x288 with 2 Axes>"
            ]
          },
          "metadata": {
            "needs_background": "light"
          }
        },
        {
          "output_type": "stream",
          "name": "stdout",
          "text": [
            "Training Metrics:\n",
            "R squared: 0.5824345272126727\n",
            "Mean Absolute Error: 0.5012252591617238\n",
            "Mean Squared Error: 0.4035273946677542\n",
            "Root Mean Squared Error: 0.6352380614130062\n",
            "\n",
            "Testing Metrics:\n",
            "R squared: 0.579641189953404\n",
            "Mean Absolute Error: 0.47029195882201713\n",
            "Mean Squared Error: 0.4456149217183709\n",
            "Root Mean Squared Error: 0.6675439474059899\n"
          ]
        },
        {
          "output_type": "execute_result",
          "data": {
            "text/plain": [
              "()"
            ]
          },
          "metadata": {},
          "execution_count": 220
        }
      ]
    },
    {
      "cell_type": "code",
      "metadata": {
        "colab": {
          "base_uri": "https://localhost:8080/",
          "height": 372
        },
        "id": "5rIgWMZTKUuT",
        "outputId": "d8c53153-0a91-4622-9315-90e6b5c17796"
      },
      "source": [
        "Multiple_Runner(LassoReg, X, y)"
      ],
      "execution_count": 221,
      "outputs": [
        {
          "output_type": "stream",
          "name": "stdout",
          "text": [
            "Train MSE median: 0.41484562618236565\n",
            "Test MSE median: 0.45502248709469295\n",
            "\n",
            "Train_R2 median: 0.6021553872206249\n",
            "Test_R2 median: 0.396346631558064\n"
          ]
        },
        {
          "output_type": "display_data",
          "data": {
            "image/png": "[encoded data removed]",
            "text/plain": [
              "<Figure size 720x288 with 2 Axes>"
            ]
          },
          "metadata": {
            "needs_background": "light"
          }
        }
      ]
    },
    {
      "cell_type": "markdown",
      "metadata": {
        "id": "GB7ZpSn1NjSc"
      },
      "source": [
        "# ADJUSTED  \n",
        "\n",
        "Substitute Qty split o.3  TOL o.01\n"
      ]
    },
    {
      "cell_type": "code",
      "metadata": {
        "colab": {
          "base_uri": "https://localhost:8080/",
          "height": 213
        },
        "id": "VY_i1x_fKUqS",
        "outputId": "a614b6b8-3937-4ed0-d274-312bba6b35a3"
      },
      "source": [
        "ADJUSTED_data = pd.read_csv('/content/Porcelana_OP_adelphi_2021_SCALED.csv')\n",
        "ADJUSTED_data.head(2)"
      ],
      "execution_count": 379,
      "outputs": [
        {
          "output_type": "execute_result",
          "data": {
            "text/html": [
              "<div>\n",
              "<style scoped>\n",
              "    .dataframe tbody tr th:only-of-type {\n",
              "        vertical-align: middle;\n",
              "    }\n",
              "\n",
              "    .dataframe tbody tr th {\n",
              "        vertical-align: top;\n",
              "    }\n",
              "\n",
              "    .dataframe thead th {\n",
              "        text-align: right;\n",
              "    }\n",
              "</style>\n",
              "<table border=\"1\" class=\"dataframe\">\n",
              "  <thead>\n",
              "    <tr style=\"text-align: right;\">\n",
              "      <th></th>\n",
              "      <th>date</th>\n",
              "      <th>Quantity</th>\n",
              "      <th>Seasonal</th>\n",
              "      <th>Consumer_loans</th>\n",
              "      <th>Construction_lic_unt</th>\n",
              "      <th>Construction_lic_area</th>\n",
              "      <th>Construction_lic_unt_SI</th>\n",
              "      <th>Construction_lic_unt_NO_SI</th>\n",
              "      <th>Construction_lic_area_SI</th>\n",
              "      <th>Construction_lic_area_NO_SI</th>\n",
              "      <th>Gray_cement_prod</th>\n",
              "      <th>Gray_cement_dispatch</th>\n",
              "      <th>Gray_cement_dispatch_Factory</th>\n",
              "      <th>Gray_cement_dispatch_comercial</th>\n",
              "      <th>Gray_cement_dispatch_contractor</th>\n",
              "      <th>Gray_cement_dispatch_other</th>\n",
              "      <th>DTF(interest_rate)</th>\n",
              "      <th>GDP_Constr</th>\n",
              "      <th>GDP_Total</th>\n",
              "      <th>Inflation</th>\n",
              "      <th>USD_exchange</th>\n",
              "      <th>Oil-brent</th>\n",
              "      <th>Oil_WTI</th>\n",
              "      <th>ISE</th>\n",
              "      <th>ICC</th>\n",
              "      <th>IEC</th>\n",
              "      <th>ICE</th>\n",
              "      <th>Unemployment%</th>\n",
              "      <th>RADAR_Constr</th>\n",
              "      <th>RADAR_Rev</th>\n",
              "      <th>RADAR_Toilets</th>\n",
              "      <th>RADAR_HomeAppliance</th>\n",
              "      <th>RADAR_Paint</th>\n",
              "      <th>RADAR_Furniture</th>\n",
              "      <th>RADAR_Tools</th>\n",
              "      <th>RADAR_Elect</th>\n",
              "      <th>RADAR_Plumbing</th>\n",
              "      <th>RADAR_Wood</th>\n",
              "      <th>RADAR_Supply</th>\n",
              "      <th>RADAR_Remodel</th>\n",
              "      <th>...</th>\n",
              "      <th>Preferencial_creditlag_8</th>\n",
              "      <th>loan_overdraftslag_8</th>\n",
              "      <th>Credit_cardlag_8</th>\n",
              "      <th>Treasury_loanlag_8</th>\n",
              "      <th>Housing_loanlag_8</th>\n",
              "      <th>Consumer_creditlag_9</th>\n",
              "      <th>Consumer_microcreditlag_9</th>\n",
              "      <th>Ordinary_creditlag_9</th>\n",
              "      <th>Preferencial_creditlag_9</th>\n",
              "      <th>loan_overdraftslag_9</th>\n",
              "      <th>Credit_cardlag_9</th>\n",
              "      <th>Treasury_loanlag_9</th>\n",
              "      <th>Housing_loanlag_9</th>\n",
              "      <th>Consumer_creditlag_10</th>\n",
              "      <th>Consumer_microcreditlag_10</th>\n",
              "      <th>Ordinary_creditlag_10</th>\n",
              "      <th>Preferencial_creditlag_10</th>\n",
              "      <th>loan_overdraftslag_10</th>\n",
              "      <th>Credit_cardlag_10</th>\n",
              "      <th>Treasury_loanlag_10</th>\n",
              "      <th>Housing_loanlag_10</th>\n",
              "      <th>Consumer_creditlag_11</th>\n",
              "      <th>Consumer_microcreditlag_11</th>\n",
              "      <th>Ordinary_creditlag_11</th>\n",
              "      <th>Preferencial_creditlag_11</th>\n",
              "      <th>loan_overdraftslag_11</th>\n",
              "      <th>Credit_cardlag_11</th>\n",
              "      <th>Treasury_loanlag_11</th>\n",
              "      <th>Housing_loanlag_11</th>\n",
              "      <th>Consumer_creditlag_12</th>\n",
              "      <th>Consumer_microcreditlag_12</th>\n",
              "      <th>Ordinary_creditlag_12</th>\n",
              "      <th>Preferencial_creditlag_12</th>\n",
              "      <th>loan_overdraftslag_12</th>\n",
              "      <th>Credit_cardlag_12</th>\n",
              "      <th>Treasury_loanlag_12</th>\n",
              "      <th>Housing_loanlag_12</th>\n",
              "      <th>holiday</th>\n",
              "      <th>sunday</th>\n",
              "      <th>working_day</th>\n",
              "    </tr>\n",
              "  </thead>\n",
              "  <tbody>\n",
              "    <tr>\n",
              "      <th>0</th>\n",
              "      <td>2017-01-01</td>\n",
              "      <td>1.503548</td>\n",
              "      <td>0.699923</td>\n",
              "      <td>112579.4297</td>\n",
              "      <td>11303.0</td>\n",
              "      <td>1185131.0</td>\n",
              "      <td>3587.0</td>\n",
              "      <td>7716.0</td>\n",
              "      <td>229478.0</td>\n",
              "      <td>955653.0</td>\n",
              "      <td>897063.518</td>\n",
              "      <td>913190.407</td>\n",
              "      <td>194276.020</td>\n",
              "      <td>502084.8330</td>\n",
              "      <td>171559.9665</td>\n",
              "      <td>45269.5875</td>\n",
              "      <td>0.0694</td>\n",
              "      <td>14753.34784</td>\n",
              "      <td>206242.568</td>\n",
              "      <td>5.47</td>\n",
              "      <td>2944.65</td>\n",
              "      <td>52.19</td>\n",
              "      <td>52.81</td>\n",
              "      <td>102.548972</td>\n",
              "      <td>-30.2</td>\n",
              "      <td>-28.3</td>\n",
              "      <td>-33.1</td>\n",
              "      <td>11.733267</td>\n",
              "      <td>1.044525e+11</td>\n",
              "      <td>1.323489e+11</td>\n",
              "      <td>1.727682e+11</td>\n",
              "      <td>1.050914e+11</td>\n",
              "      <td>8.847567e+10</td>\n",
              "      <td>8.354725e+10</td>\n",
              "      <td>5.008444e+10</td>\n",
              "      <td>9.372000e+10</td>\n",
              "      <td>3.037115e+10</td>\n",
              "      <td>3.136015e+10</td>\n",
              "      <td>1.585430e+11</td>\n",
              "      <td>1.050763e+12</td>\n",
              "      <td>...</td>\n",
              "      <td>4445890.861</td>\n",
              "      <td>6402426.269</td>\n",
              "      <td>3390803.016</td>\n",
              "      <td>550883.0739</td>\n",
              "      <td>1302564.560</td>\n",
              "      <td>4680431.000</td>\n",
              "      <td>460632.0000</td>\n",
              "      <td>5702443.000</td>\n",
              "      <td>4657354.000</td>\n",
              "      <td>7012296.000</td>\n",
              "      <td>3283417.000</td>\n",
              "      <td>549789.0000</td>\n",
              "      <td>1454672.00</td>\n",
              "      <td>4941981.754</td>\n",
              "      <td>531850.1926</td>\n",
              "      <td>7315235.649</td>\n",
              "      <td>6120086.089</td>\n",
              "      <td>8140200.383</td>\n",
              "      <td>3814229.013</td>\n",
              "      <td>632387.5921</td>\n",
              "      <td>1627959.289</td>\n",
              "      <td>4068020.900</td>\n",
              "      <td>438682.2679</td>\n",
              "      <td>6513619.182</td>\n",
              "      <td>6137144.374</td>\n",
              "      <td>6675101.294</td>\n",
              "      <td>2989980.729</td>\n",
              "      <td>483448.3473</td>\n",
              "      <td>1298811.962</td>\n",
              "      <td>3106784.5</td>\n",
              "      <td>386289.5525</td>\n",
              "      <td>4875376.339</td>\n",
              "      <td>4791146.877</td>\n",
              "      <td>5996088.922</td>\n",
              "      <td>3013612.505</td>\n",
              "      <td>470541.3290</td>\n",
              "      <td>1093819.181</td>\n",
              "      <td>1</td>\n",
              "      <td>5</td>\n",
              "      <td>25</td>\n",
              "    </tr>\n",
              "    <tr>\n",
              "      <th>1</th>\n",
              "      <td>2017-02-01</td>\n",
              "      <td>0.076213</td>\n",
              "      <td>0.316156</td>\n",
              "      <td>113438.0949</td>\n",
              "      <td>16187.0</td>\n",
              "      <td>1590979.0</td>\n",
              "      <td>4659.0</td>\n",
              "      <td>11528.0</td>\n",
              "      <td>272961.0</td>\n",
              "      <td>1318018.0</td>\n",
              "      <td>1025704.960</td>\n",
              "      <td>1007968.299</td>\n",
              "      <td>228359.839</td>\n",
              "      <td>530826.1625</td>\n",
              "      <td>199731.6950</td>\n",
              "      <td>49050.6025</td>\n",
              "      <td>0.0678</td>\n",
              "      <td>14753.34784</td>\n",
              "      <td>206242.568</td>\n",
              "      <td>5.18</td>\n",
              "      <td>2881.68</td>\n",
              "      <td>53.40</td>\n",
              "      <td>54.01</td>\n",
              "      <td>102.919033</td>\n",
              "      <td>-24.3</td>\n",
              "      <td>-19.9</td>\n",
              "      <td>-31.0</td>\n",
              "      <td>10.504292</td>\n",
              "      <td>1.574855e+11</td>\n",
              "      <td>8.351517e+10</td>\n",
              "      <td>1.096908e+11</td>\n",
              "      <td>8.252536e+10</td>\n",
              "      <td>8.582517e+10</td>\n",
              "      <td>1.522091e+11</td>\n",
              "      <td>5.056706e+10</td>\n",
              "      <td>6.034851e+10</td>\n",
              "      <td>2.138243e+10</td>\n",
              "      <td>2.216364e+10</td>\n",
              "      <td>2.104634e+11</td>\n",
              "      <td>1.036176e+12</td>\n",
              "      <td>...</td>\n",
              "      <td>6566090.070</td>\n",
              "      <td>7930536.312</td>\n",
              "      <td>4347164.930</td>\n",
              "      <td>677598.1836</td>\n",
              "      <td>1864166.572</td>\n",
              "      <td>4353892.017</td>\n",
              "      <td>433679.7772</td>\n",
              "      <td>5854575.608</td>\n",
              "      <td>4445890.861</td>\n",
              "      <td>6402426.269</td>\n",
              "      <td>3390803.016</td>\n",
              "      <td>550883.0739</td>\n",
              "      <td>1302564.56</td>\n",
              "      <td>4680431.000</td>\n",
              "      <td>460632.0000</td>\n",
              "      <td>5702443.000</td>\n",
              "      <td>4657354.000</td>\n",
              "      <td>7012296.000</td>\n",
              "      <td>3283417.000</td>\n",
              "      <td>549789.0000</td>\n",
              "      <td>1454672.000</td>\n",
              "      <td>4941981.754</td>\n",
              "      <td>531850.1926</td>\n",
              "      <td>7315235.649</td>\n",
              "      <td>6120086.089</td>\n",
              "      <td>8140200.383</td>\n",
              "      <td>3814229.013</td>\n",
              "      <td>632387.5921</td>\n",
              "      <td>1627959.289</td>\n",
              "      <td>4068020.9</td>\n",
              "      <td>438682.2679</td>\n",
              "      <td>6513619.182</td>\n",
              "      <td>6137144.374</td>\n",
              "      <td>6675101.294</td>\n",
              "      <td>2989980.729</td>\n",
              "      <td>483448.3473</td>\n",
              "      <td>1298811.962</td>\n",
              "      <td>0</td>\n",
              "      <td>4</td>\n",
              "      <td>24</td>\n",
              "    </tr>\n",
              "  </tbody>\n",
              "</table>\n",
              "<p>2 rows × 943 columns</p>\n",
              "</div>"
            ],
            "text/plain": [
              "         date  Quantity  Seasonal  ...  holiday  sunday  working_day\n",
              "0  2017-01-01  1.503548  0.699923  ...        1       5           25\n",
              "1  2017-02-01  0.076213  0.316156  ...        0       4           24\n",
              "\n",
              "[2 rows x 943 columns]"
            ]
          },
          "metadata": {},
          "execution_count": 379
        }
      ]
    },
    {
      "cell_type": "code",
      "metadata": {
        "id": "3J2_xol1KUmy"
      },
      "source": [
        "#Add new variable for ADJUSTED  Quantity\n",
        "#This is the avg of previous Aprils\n",
        "\n",
        "ADJUSTED_data[\"Quantity_adj\"] = ADJUSTED_data['Quantity']\n",
        "ADJUSTED_data.at[39,'Quantity_adj'] =  -1.303515\n",
        "# Next drop the original Qunatity column\n",
        "ADJUSTED_data.drop(columns='Quantity')"
      ],
      "execution_count": null,
      "outputs": []
    },
    {
      "cell_type": "code",
      "metadata": {
        "id": "E60Va2VWKUjA"
      },
      "source": [
        "ADJUSTED_data['date'] = pd.to_datetime(ADJUSTED_data['date'])\n",
        "ADJUSTED_data['date']= ADJUSTED_data['date'].map(dt.datetime.toordinal)"
      ],
      "execution_count": 381,
      "outputs": []
    },
    {
      "cell_type": "code",
      "metadata": {
        "id": "_7fMVszY9TJM"
      },
      "source": [
        "ADJUSTED_data = ADJUSTED_data[['date' ,'Quantity', 'Seasonal', 'Gray_cement_dispatch_comercial', 'ISE',\n",
        "       'Construction_lic_area/unt_SIlag_4', ]]"
      ],
      "execution_count": 382,
      "outputs": []
    },
    {
      "cell_type": "code",
      "metadata": {
        "id": "Kp7NJ931obsM"
      },
      "source": [
        "y = data['Quantity']\n",
        "X = data.loc[: ,data.columns != 'Quantity']"
      ],
      "execution_count": 383,
      "outputs": []
    },
    {
      "cell_type": "code",
      "metadata": {
        "id": "EUe0GUquobn3"
      },
      "source": [
        "cols =data.columns.difference(['date'])"
      ],
      "execution_count": 384,
      "outputs": []
    },
    {
      "cell_type": "code",
      "metadata": {
        "id": "WuIY2jX_rjoN"
      },
      "source": [
        "#This is the avg of previous Aprils\n",
        "\n",
        "ADJUSTED_data[\"Quantity_adj\"] = ADJUSTED_data['Quantity']\n",
        "ADJUSTED_data.at[39,'Quantity_adj'] =  -1.303515\n",
        "# Next drop the original Qunatity column\n",
        "ADJUSTED_data.drop(columns='Quantity')"
      ],
      "execution_count": null,
      "outputs": []
    },
    {
      "cell_type": "code",
      "metadata": {
        "id": "LF258KeToblz"
      },
      "source": [
        "from sklearn.preprocessing import StandardScaler\n",
        "sc = StandardScaler()"
      ],
      "execution_count": 386,
      "outputs": []
    },
    {
      "cell_type": "code",
      "metadata": {
        "id": "QPlMOJslobin"
      },
      "source": [
        "ADJUSTED_data[cols] = sc.fit_transform(ADJUSTED_data[cols])"
      ],
      "execution_count": 387,
      "outputs": []
    },
    {
      "cell_type": "code",
      "metadata": {
        "colab": {
          "base_uri": "https://localhost:8080/"
        },
        "id": "air0IqGhobfJ",
        "outputId": "1da966a9-c420-481d-9314-9198ce7f874a"
      },
      "source": [
        "ADJUSTED_data.shape"
      ],
      "execution_count": 388,
      "outputs": [
        {
          "output_type": "execute_result",
          "data": {
            "text/plain": [
              "(54, 7)"
            ]
          },
          "metadata": {},
          "execution_count": 388
        }
      ]
    },
    {
      "cell_type": "code",
      "metadata": {
        "colab": {
          "base_uri": "https://localhost:8080/",
          "height": 206
        },
        "id": "Y17251CgobcJ",
        "outputId": "9fa21c6d-f64e-4fc8-e3b5-844d879cc5e1"
      },
      "source": [
        "ADJUSTED_data.head()"
      ],
      "execution_count": 365,
      "outputs": [
        {
          "output_type": "execute_result",
          "data": {
            "text/html": [
              "<div>\n",
              "<style scoped>\n",
              "    .dataframe tbody tr th:only-of-type {\n",
              "        vertical-align: middle;\n",
              "    }\n",
              "\n",
              "    .dataframe tbody tr th {\n",
              "        vertical-align: top;\n",
              "    }\n",
              "\n",
              "    .dataframe thead th {\n",
              "        text-align: right;\n",
              "    }\n",
              "</style>\n",
              "<table border=\"1\" class=\"dataframe\">\n",
              "  <thead>\n",
              "    <tr style=\"text-align: right;\">\n",
              "      <th></th>\n",
              "      <th>date</th>\n",
              "      <th>Quantity</th>\n",
              "      <th>Seasonal</th>\n",
              "      <th>Gray_cement_dispatch_comercial</th>\n",
              "      <th>ISE</th>\n",
              "      <th>Construction_lic_area/unt_SIlag_4</th>\n",
              "      <th>Quantity_adj</th>\n",
              "    </tr>\n",
              "  </thead>\n",
              "  <tbody>\n",
              "    <tr>\n",
              "      <th>0</th>\n",
              "      <td>736330</td>\n",
              "      <td>1.539880</td>\n",
              "      <td>0.703768</td>\n",
              "      <td>-0.536381</td>\n",
              "      <td>-0.687592</td>\n",
              "      <td>1.924774</td>\n",
              "      <td>1.503548</td>\n",
              "    </tr>\n",
              "    <tr>\n",
              "      <th>1</th>\n",
              "      <td>736361</td>\n",
              "      <td>0.110421</td>\n",
              "      <td>0.325418</td>\n",
              "      <td>-0.137113</td>\n",
              "      <td>-0.608165</td>\n",
              "      <td>-0.287215</td>\n",
              "      <td>0.076213</td>\n",
              "    </tr>\n",
              "    <tr>\n",
              "      <th>2</th>\n",
              "      <td>736389</td>\n",
              "      <td>-1.314169</td>\n",
              "      <td>-0.250193</td>\n",
              "      <td>0.385513</td>\n",
              "      <td>-0.770505</td>\n",
              "      <td>-1.573761</td>\n",
              "      <td>-1.346258</td>\n",
              "    </tr>\n",
              "    <tr>\n",
              "      <th>3</th>\n",
              "      <td>736420</td>\n",
              "      <td>-2.091651</td>\n",
              "      <td>-2.371991</td>\n",
              "      <td>-0.872854</td>\n",
              "      <td>-0.594309</td>\n",
              "      <td>-0.738789</td>\n",
              "      <td>-2.122585</td>\n",
              "    </tr>\n",
              "    <tr>\n",
              "      <th>4</th>\n",
              "      <td>736450</td>\n",
              "      <td>-0.631964</td>\n",
              "      <td>-0.621405</td>\n",
              "      <td>-0.260166</td>\n",
              "      <td>-0.575749</td>\n",
              "      <td>0.417245</td>\n",
              "      <td>-0.665067</td>\n",
              "    </tr>\n",
              "  </tbody>\n",
              "</table>\n",
              "</div>"
            ],
            "text/plain": [
              "     date  Quantity  ...  Construction_lic_area/unt_SIlag_4  Quantity_adj\n",
              "0  736330  1.539880  ...                           1.924774      1.503548\n",
              "1  736361  0.110421  ...                          -0.287215      0.076213\n",
              "2  736389 -1.314169  ...                          -1.573761     -1.346258\n",
              "3  736420 -2.091651  ...                          -0.738789     -2.122585\n",
              "4  736450 -0.631964  ...                           0.417245     -0.665067\n",
              "\n",
              "[5 rows x 7 columns]"
            ]
          },
          "metadata": {},
          "execution_count": 365
        }
      ]
    },
    {
      "cell_type": "code",
      "metadata": {
        "colab": {
          "base_uri": "https://localhost:8080/"
        },
        "id": "-9GU1dIPobY2",
        "outputId": "c26aef11-541e-40f9-badf-d27417044f3c"
      },
      "source": [
        "X_train, X_test, y_train, y_test = train_test_split(X, y, test_size=0.3, random_state=5)\n",
        "print(X_train.shape)\n",
        "print(X_test.shape)"
      ],
      "execution_count": 389,
      "outputs": [
        {
          "output_type": "stream",
          "name": "stdout",
          "text": [
            "(37, 5)\n",
            "(17, 5)\n"
          ]
        }
      ]
    },
    {
      "cell_type": "code",
      "metadata": {
        "colab": {
          "base_uri": "https://localhost:8080/"
        },
        "id": "WwLSdIzqsjTc",
        "outputId": "b53d36cb-a779-4b15-ce6e-e4014228f458"
      },
      "source": [
        "# CV = X train split\n",
        "#LassoReg = LassoCV(cv = 16, random_state=1, tol =1).fit(X, y) \n",
        "# CV = X split\n",
        "#LassoReg = LassoCV(cv = 27, random_state=1, tol =1).fit(X, y) \n",
        "LassoReg = LassoCV(cv = 43, random_state=1, tol = 0.01, n_alphas=5).fit(X, y) # CV = X split\n",
        "LassoReg.alphas_[4]/LassoReg.alphas_[0]"
      ],
      "execution_count": 390,
      "outputs": [
        {
          "output_type": "execute_result",
          "data": {
            "text/plain": [
              "0.0010000000000000002"
            ]
          },
          "metadata": {},
          "execution_count": 390
        }
      ]
    },
    {
      "cell_type": "code",
      "metadata": {
        "colab": {
          "base_uri": "https://localhost:8080/"
        },
        "id": "Hv_vQApysjQJ",
        "outputId": "39c458d6-fa30-4fed-eb67-ac0b2f387af3"
      },
      "source": [
        "LassoReg.score(X,y)"
      ],
      "execution_count": 391,
      "outputs": [
        {
          "output_type": "execute_result",
          "data": {
            "text/plain": [
              "0.7582461411245608"
            ]
          },
          "metadata": {},
          "execution_count": 391
        }
      ]
    },
    {
      "cell_type": "code",
      "metadata": {
        "colab": {
          "base_uri": "https://localhost:8080/"
        },
        "id": "g9Ri6r9usjOP",
        "outputId": "54e2a943-dcad-42ae-9add-2376b1de97b6"
      },
      "source": [
        "y_pred_Train = LassoReg .predict(X_train) #Predictions on training model\n",
        "y_pred_Test  = LassoReg .predict(X_test)  #Predictions on testing model\n",
        "\n",
        "print('Intercept:',LassoReg .intercept_) #Intercept: -4.4999751446869665\n",
        "print('Coefficients:', LassoReg .coef_)"
      ],
      "execution_count": 392,
      "outputs": [
        {
          "output_type": "stream",
          "name": "stdout",
          "text": [
            "Intercept: 1.3185999339649957e-17\n",
            "Coefficients: [0.         0.282596   0.39057196 0.34889242 0.18087969]\n"
          ]
        }
      ]
    },
    {
      "cell_type": "code",
      "metadata": {
        "colab": {
          "base_uri": "https://localhost:8080/",
          "height": 515
        },
        "id": "5U8LAyQ7sjLH",
        "outputId": "927f6544-e16e-409c-8fd7-7781d7668152"
      },
      "source": [
        "Prediction_Plots(y_train, y_pred_Train, y_test, y_pred_Test)\n",
        "Metrics_Printer(y_train, y_pred_Train, y_test, y_pred_Test)"
      ],
      "execution_count": 393,
      "outputs": [
        {
          "output_type": "display_data",
          "data": {
            "image/png": "[encoded data removed]",
            "text/plain": [
              "<Figure size 720x288 with 2 Axes>"
            ]
          },
          "metadata": {
            "needs_background": "light"
          }
        },
        {
          "output_type": "stream",
          "name": "stdout",
          "text": [
            "Training Metrics:\n",
            "R squared: 0.7464502984253809\n",
            "Mean Absolute Error: 0.39673365703999036\n",
            "Mean Squared Error: 0.2450256478636175\n",
            "Root Mean Squared Error: 0.4950006544072619\n",
            "\n",
            "Testing Metrics:\n",
            "R squared: 0.7786653801002192\n",
            "Mean Absolute Error: 0.3882052249076201\n",
            "Mean Squared Error: 0.234632906371757\n",
            "Root Mean Squared Error: 0.48438920959467807\n"
          ]
        },
        {
          "output_type": "execute_result",
          "data": {
            "text/plain": [
              "()"
            ]
          },
          "metadata": {},
          "execution_count": 393
        }
      ]
    },
    {
      "cell_type": "code",
      "metadata": {
        "colab": {
          "base_uri": "https://localhost:8080/",
          "height": 372
        },
        "id": "I75ECiMDsjHS",
        "outputId": "f4e91eaf-f697-4e8f-ebe8-5f37034b4f63"
      },
      "source": [
        "Multiple_Runner(LassoReg, X, y)"
      ],
      "execution_count": 394,
      "outputs": [
        {
          "output_type": "stream",
          "name": "stdout",
          "text": [
            "Train MSE median: 0.23871798063244476\n",
            "Test MSE median: 0.28626181147259294\n",
            "\n",
            "Train_R2 median: 0.7734410864368455\n",
            "Test_R2 median: 0.5985520708354981\n"
          ]
        },
        {
          "output_type": "display_data",
          "data": {
            "image/png": "[encoded data removed]",
            "text/plain": [
              "<Figure size 720x288 with 2 Axes>"
            ]
          },
          "metadata": {
            "needs_background": "light"
          }
        }
      ]
    },
    {
      "cell_type": "markdown",
      "metadata": {
        "id": "npwHNrfPtosw"
      },
      "source": [
        "### adj data , split o.5 TOL 0.01"
      ]
    },
    {
      "cell_type": "code",
      "metadata": {
        "colab": {
          "base_uri": "https://localhost:8080/"
        },
        "id": "Lb0V7j7nsjED",
        "outputId": "a4dedf0a-bdc6-48ea-fe46-d2a4df0a5bea"
      },
      "source": [
        "X_train, X_test, y_train, y_test = train_test_split(X, y, test_size=0.5, random_state=5)\n",
        "print(X_train.shape)\n",
        "print(X_test.shape)"
      ],
      "execution_count": 395,
      "outputs": [
        {
          "output_type": "stream",
          "name": "stdout",
          "text": [
            "(27, 5)\n",
            "(27, 5)\n"
          ]
        }
      ]
    },
    {
      "cell_type": "code",
      "metadata": {
        "colab": {
          "base_uri": "https://localhost:8080/"
        },
        "id": "DpJk6ZkVsjAc",
        "outputId": "95510512-88ec-415a-c205-8919f64faa65"
      },
      "source": [
        "# CV = X train split\n",
        "#LassoReg = LassoCV(cv = 16, random_state=1, tol =1).fit(X, y) \n",
        "# CV = X split\n",
        "#LassoReg = LassoCV(cv = 27, random_state=1, tol =1).fit(X, y) \n",
        "LassoReg = LassoCV(cv = 43, random_state=1, tol = 0.01, n_alphas=5).fit(X, y) # CV = X split\n",
        "LassoReg.alphas_[4]/LassoReg.alphas_[0]"
      ],
      "execution_count": 396,
      "outputs": [
        {
          "output_type": "execute_result",
          "data": {
            "text/plain": [
              "0.0010000000000000002"
            ]
          },
          "metadata": {},
          "execution_count": 396
        }
      ]
    },
    {
      "cell_type": "code",
      "metadata": {
        "colab": {
          "base_uri": "https://localhost:8080/"
        },
        "id": "e-xmioOpv8D1",
        "outputId": "e74da5be-de2d-4bd8-f34b-60245dabe440"
      },
      "source": [
        "LassoReg.score(X,y)"
      ],
      "execution_count": 397,
      "outputs": [
        {
          "output_type": "execute_result",
          "data": {
            "text/plain": [
              "0.7582461411245608"
            ]
          },
          "metadata": {},
          "execution_count": 397
        }
      ]
    },
    {
      "cell_type": "code",
      "metadata": {
        "colab": {
          "base_uri": "https://localhost:8080/"
        },
        "id": "RFx7QC1sv77t",
        "outputId": "c5161020-e9fe-4919-a74c-02bef19f921d"
      },
      "source": [
        "y_pred_Train = LassoReg .predict(X_train) #Predictions on training model\n",
        "y_pred_Test  = LassoReg .predict(X_test)  #Predictions on testing model\n",
        "\n",
        "print('Intercept:',LassoReg .intercept_) #Intercept: -4.4999751446869665\n",
        "print('Coefficients:', LassoReg .coef_)"
      ],
      "execution_count": 375,
      "outputs": [
        {
          "output_type": "stream",
          "name": "stdout",
          "text": [
            "Intercept: 1.3185999339649957e-17\n",
            "Coefficients: [0.         0.282596   0.39057196 0.34889242 0.18087969]\n"
          ]
        }
      ]
    },
    {
      "cell_type": "code",
      "metadata": {
        "colab": {
          "base_uri": "https://localhost:8080/",
          "height": 515
        },
        "id": "slPrUPX4v7wM",
        "outputId": "94ccd018-3112-4959-a274-ff7447450f74"
      },
      "source": [
        "Prediction_Plots(y_train, y_pred_Train, y_test, y_pred_Test)\n",
        "Metrics_Printer(y_train, y_pred_Train, y_test, y_pred_Test)"
      ],
      "execution_count": 376,
      "outputs": [
        {
          "output_type": "display_data",
          "data": {
            "image/png": "[encoded data removed]",
            "text/plain": [
              "<Figure size 720x288 with 2 Axes>"
            ]
          },
          "metadata": {
            "needs_background": "light"
          }
        },
        {
          "output_type": "stream",
          "name": "stdout",
          "text": [
            "Training Metrics:\n",
            "R squared: 0.7630835485995522\n",
            "Mean Absolute Error: 0.4000051720745848\n",
            "Mean Squared Error: 0.2282064136971399\n",
            "Root Mean Squared Error: 0.47770954951428374\n",
            "\n",
            "Testing Metrics:\n",
            "R squared: 0.735954921384907\n",
            "Mean Absolute Error: 0.3880923884405702\n",
            "Mean Squared Error: 0.25530130405373846\n",
            "Root Mean Squared Error: 0.5052734943114852\n"
          ]
        },
        {
          "output_type": "execute_result",
          "data": {
            "text/plain": [
              "()"
            ]
          },
          "metadata": {},
          "execution_count": 376
        }
      ]
    },
    {
      "cell_type": "code",
      "metadata": {
        "colab": {
          "base_uri": "https://localhost:8080/",
          "height": 372
        },
        "id": "fmxMoHwHwjU2",
        "outputId": "0d6fd1a8-e42f-4bcd-b8d0-c0cd6739707a"
      },
      "source": [
        "Multiple_Runner(LassoReg, X, y)"
      ],
      "execution_count": 377,
      "outputs": [
        {
          "output_type": "stream",
          "name": "stdout",
          "text": [
            "Train MSE median: 0.24100578264010825\n",
            "Test MSE median: 0.2775406138156856\n",
            "\n",
            "Train_R2 median: 0.772969412382023\n",
            "Test_R2 median: 0.5813120813866559\n"
          ]
        },
        {
          "output_type": "display_data",
          "data": {
            "image/png": "[encoded data removed]",
            "text/plain": [
              "<Figure size 720x288 with 2 Axes>"
            ]
          },
          "metadata": {
            "needs_background": "light"
          }
        }
      ]
    },
    {
      "cell_type": "markdown",
      "metadata": {
        "id": "_lWqcgIg11eV"
      },
      "source": [
        "# Adjusted Data. Split = 0.3 | TOL 0.1"
      ]
    },
    {
      "cell_type": "code",
      "metadata": {
        "colab": {
          "base_uri": "https://localhost:8080/"
        },
        "id": "ha06qLVl11N-",
        "outputId": "be8e7fe4-36d6-4fe8-abb2-b9411180ed83"
      },
      "source": [
        "X_train, X_test, y_train, y_test = train_test_split(X, y, test_size=0.3, random_state=5)\n",
        "print(X_train.shape)\n",
        "print(X_test.shape)"
      ],
      "execution_count": 398,
      "outputs": [
        {
          "output_type": "stream",
          "name": "stdout",
          "text": [
            "(37, 5)\n",
            "(17, 5)\n"
          ]
        }
      ]
    },
    {
      "cell_type": "code",
      "metadata": {
        "colab": {
          "base_uri": "https://localhost:8080/"
        },
        "id": "InT8xcEEwjQZ",
        "outputId": "93e2481f-b659-4e0c-c76a-3e7e44433f5c"
      },
      "source": [
        "# CV = X train split\n",
        "#LassoReg = LassoCV(cv = 16, random_state=1, tol =1).fit(X, y) \n",
        "# CV = X split\n",
        "#LassoReg = LassoCV(cv = 27, random_state=1, tol =1).fit(X, y) \n",
        "LassoReg = LassoCV(cv = 43, random_state=1, tol = 0.1, n_alphas=5).fit(X, y) # CV = X split\n",
        "LassoReg.alphas_[4]/LassoReg.alphas_[0]"
      ],
      "execution_count": 399,
      "outputs": [
        {
          "output_type": "execute_result",
          "data": {
            "text/plain": [
              "0.0010000000000000002"
            ]
          },
          "metadata": {},
          "execution_count": 399
        }
      ]
    },
    {
      "cell_type": "code",
      "metadata": {
        "colab": {
          "base_uri": "https://localhost:8080/"
        },
        "id": "qgoGiNb4wjMg",
        "outputId": "54735718-ef9e-456b-a2ef-e7cea06f83fc"
      },
      "source": [
        "LassoReg.score(X,y)"
      ],
      "execution_count": 400,
      "outputs": [
        {
          "output_type": "execute_result",
          "data": {
            "text/plain": [
              "0.7581881242959654"
            ]
          },
          "metadata": {},
          "execution_count": 400
        }
      ]
    },
    {
      "cell_type": "code",
      "metadata": {
        "colab": {
          "base_uri": "https://localhost:8080/"
        },
        "id": "RBVFwZSJwjIv",
        "outputId": "12595e61-f9c6-4f69-86bc-f68080059506"
      },
      "source": [
        "y_pred_Train = LassoReg .predict(X_train) #Predictions on training model\n",
        "y_pred_Test  = LassoReg .predict(X_test)  #Predictions on testing model\n",
        "\n",
        "print('Intercept:',LassoReg .intercept_) #Intercept: -4.4999751446869665\n",
        "print('Coefficients:', LassoReg .coef_)"
      ],
      "execution_count": 401,
      "outputs": [
        {
          "output_type": "stream",
          "name": "stdout",
          "text": [
            "Intercept: 1.3053683323932892e-17\n",
            "Coefficients: [0.         0.27845701 0.40163255 0.34616667 0.18368738]\n"
          ]
        }
      ]
    },
    {
      "cell_type": "code",
      "metadata": {
        "colab": {
          "base_uri": "https://localhost:8080/",
          "height": 515
        },
        "id": "lYELq78C9TCx",
        "outputId": "92b0fa26-8d3a-4e27-d5fd-9205dfdd10c6"
      },
      "source": [
        "Prediction_Plots(y_train, y_pred_Train, y_test, y_pred_Test)\n",
        "Metrics_Printer(y_train, y_pred_Train, y_test, y_pred_Test)"
      ],
      "execution_count": 402,
      "outputs": [
        {
          "output_type": "display_data",
          "data": {
            "image/png": "[encoded data removed]",
            "text/plain": [
              "<Figure size 720x288 with 2 Axes>"
            ]
          },
          "metadata": {
            "needs_background": "light"
          }
        },
        {
          "output_type": "stream",
          "name": "stdout",
          "text": [
            "Training Metrics:\n",
            "R squared: 0.7449728843294128\n",
            "Mean Absolute Error: 0.3971518704536911\n",
            "Mean Squared Error: 0.24645339297149685\n",
            "Root Mean Squared Error: 0.49644072452962285\n",
            "\n",
            "Testing Metrics:\n",
            "R squared: 0.7814228608796672\n",
            "Mean Absolute Error: 0.38639098563093727\n",
            "Mean Squared Error: 0.23170974988661672\n",
            "Root Mean Squared Error: 0.4813623893561032\n"
          ]
        },
        {
          "output_type": "execute_result",
          "data": {
            "text/plain": [
              "()"
            ]
          },
          "metadata": {},
          "execution_count": 402
        }
      ]
    },
    {
      "cell_type": "code",
      "metadata": {
        "colab": {
          "base_uri": "https://localhost:8080/",
          "height": 372
        },
        "id": "EURgHk2j2W87",
        "outputId": "309f9996-b9c5-445b-ee21-b53db29dd12a"
      },
      "source": [
        "Multiple_Runner(LassoReg, X, y)"
      ],
      "execution_count": 403,
      "outputs": [
        {
          "output_type": "stream",
          "name": "stdout",
          "text": [
            "Train MSE median: 0.23965398013108513\n",
            "Test MSE median: 0.2850636952277938\n",
            "\n",
            "Train_R2 median: 0.7703700194454717\n",
            "Test_R2 median: 0.6055103751106454\n"
          ]
        },
        {
          "output_type": "display_data",
          "data": {
            "image/png": "[encoded data removed]",
            "text/plain": [
              "<Figure size 720x288 with 2 Axes>"
            ]
          },
          "metadata": {
            "needs_background": "light"
          }
        }
      ]
    },
    {
      "cell_type": "markdown",
      "metadata": {
        "id": "VswHpXKf2fjL"
      },
      "source": [
        "# Adjusted Data split 0.5 TOL 0.1"
      ]
    },
    {
      "cell_type": "code",
      "metadata": {
        "colab": {
          "base_uri": "https://localhost:8080/"
        },
        "id": "ZB-fYuZb2W3s",
        "outputId": "58f0cb39-8013-402b-a55f-8a5d376a0606"
      },
      "source": [
        "X_train, X_test, y_train, y_test = train_test_split(X, y, test_size=0.5, random_state=5)\n",
        "print(X_train.shape)\n",
        "print(X_test.shape)"
      ],
      "execution_count": 404,
      "outputs": [
        {
          "output_type": "stream",
          "name": "stdout",
          "text": [
            "(27, 5)\n",
            "(27, 5)\n"
          ]
        }
      ]
    },
    {
      "cell_type": "code",
      "metadata": {
        "colab": {
          "base_uri": "https://localhost:8080/"
        },
        "id": "gK1iXiGH2Wzb",
        "outputId": "99e8f39d-ca9f-405f-9321-20cad512ca3c"
      },
      "source": [
        "# CV = X train split\n",
        "#LassoReg = LassoCV(cv = 16, random_state=1, tol =1).fit(X, y) \n",
        "# CV = X split\n",
        "#LassoReg = LassoCV(cv = 27, random_state=1, tol =1).fit(X, y) \n",
        "LassoReg = LassoCV(cv = 43, random_state=1, tol = 0.1, n_alphas=5).fit(X, y) # CV = X split\n",
        "LassoReg.alphas_[4]/LassoReg.alphas_[0]"
      ],
      "execution_count": 405,
      "outputs": [
        {
          "output_type": "execute_result",
          "data": {
            "text/plain": [
              "0.0010000000000000002"
            ]
          },
          "metadata": {},
          "execution_count": 405
        }
      ]
    },
    {
      "cell_type": "code",
      "metadata": {
        "colab": {
          "base_uri": "https://localhost:8080/"
        },
        "id": "ByNhgKlr2Wsk",
        "outputId": "6632b50d-4f7c-443c-bdb3-bd3f8cbb187d"
      },
      "source": [
        "LassoReg.score(X,y)"
      ],
      "execution_count": 406,
      "outputs": [
        {
          "output_type": "execute_result",
          "data": {
            "text/plain": [
              "0.7581881242959654"
            ]
          },
          "metadata": {},
          "execution_count": 406
        }
      ]
    },
    {
      "cell_type": "code",
      "metadata": {
        "colab": {
          "base_uri": "https://localhost:8080/"
        },
        "id": "klJ0G5jP2Wob",
        "outputId": "95fde8ba-7e8a-40ea-87e4-c7f2f134713e"
      },
      "source": [
        "y_pred_Train = LassoReg .predict(X_train) #Predictions on training model\n",
        "y_pred_Test  = LassoReg .predict(X_test)  #Predictions on testing model\n",
        "\n",
        "print('Intercept:',LassoReg .intercept_) #Intercept: -4.4999751446869665\n",
        "print('Coefficients:', LassoReg .coef_)"
      ],
      "execution_count": 407,
      "outputs": [
        {
          "output_type": "stream",
          "name": "stdout",
          "text": [
            "Intercept: 1.3053683323932892e-17\n",
            "Coefficients: [0.         0.27845701 0.40163255 0.34616667 0.18368738]\n"
          ]
        }
      ]
    },
    {
      "cell_type": "code",
      "metadata": {
        "colab": {
          "base_uri": "https://localhost:8080/",
          "height": 515
        },
        "id": "oplWEdny2Wkj",
        "outputId": "09d2eb96-3326-4113-d73c-de4b75df066f"
      },
      "source": [
        "Prediction_Plots(y_train, y_pred_Train, y_test, y_pred_Test)\n",
        "Metrics_Printer(y_train, y_pred_Train, y_test, y_pred_Test)\n",
        "\n"
      ],
      "execution_count": 408,
      "outputs": [
        {
          "output_type": "display_data",
          "data": {
            "image/png": "[encoded data removed]",
            "text/plain": [
              "<Figure size 720x288 with 2 Axes>"
            ]
          },
          "metadata": {
            "needs_background": "light"
          }
        },
        {
          "output_type": "stream",
          "name": "stdout",
          "text": [
            "Training Metrics:\n",
            "R squared: 0.7613230442544936\n",
            "Mean Absolute Error: 0.4005584130646415\n",
            "Mean Squared Error: 0.22990219455367894\n",
            "Root Mean Squared Error: 0.47948117226193454\n",
            "\n",
            "Testing Metrics:\n",
            "R squared: 0.737588773099805\n",
            "Mean Absolute Error: 0.3869699559173032\n",
            "Mean Squared Error: 0.25372155685439024\n",
            "Root Mean Squared Error: 0.5037078090067596\n"
          ]
        },
        {
          "output_type": "execute_result",
          "data": {
            "text/plain": [
              "()"
            ]
          },
          "metadata": {},
          "execution_count": 408
        }
      ]
    },
    {
      "cell_type": "code",
      "metadata": {
        "colab": {
          "base_uri": "https://localhost:8080/",
          "height": 372
        },
        "id": "5eW9BBh02Wgy",
        "outputId": "4152377a-e281-4a95-8b5b-1e8cc2288242"
      },
      "source": [
        "Multiple_Runner(LassoReg, X, y)"
      ],
      "execution_count": 409,
      "outputs": [
        {
          "output_type": "stream",
          "name": "stdout",
          "text": [
            "Train MSE median: 0.24120569623885096\n",
            "Test MSE median: 0.2772288781895498\n",
            "\n",
            "Train_R2 median: 0.7700241796702878\n",
            "Test_R2 median: 0.602470180987162\n"
          ]
        },
        {
          "output_type": "display_data",
          "data": {
            "image/png": "[encoded data removed]",
            "text/plain": [
              "<Figure size 720x288 with 2 Axes>"
            ]
          },
          "metadata": {
            "needs_background": "light"
          }
        }
      ]
    },
    {
      "cell_type": "markdown",
      "metadata": {
        "id": "nE9Icg7h4CwO"
      },
      "source": [
        "# AUGMENTED DATA"
      ]
    },
    {
      "cell_type": "markdown",
      "metadata": {
        "id": "7Mj-L2Bn4rAn"
      },
      "source": [
        "We drop the date column\n",
        "\n",
        "Substitute Adjusted Qunatity. \n",
        "\n",
        "We multiply the dataframe a 1/10,ooo several times.\n",
        "\n",
        "We devide by 1 / 10,ooo sevarla times\n",
        "\n",
        " "
      ]
    },
    {
      "cell_type": "code",
      "metadata": {
        "colab": {
          "base_uri": "https://localhost:8080/",
          "height": 213
        },
        "id": "bqv579Vc2Wcf",
        "outputId": "a74af55e-bbb9-4a11-f54b-6c8d5f08c7cf"
      },
      "source": [
        "AUGMENTED_data = pd.read_csv('/content/Porcelana_OP_adelphi_2021_SCALED.csv')\n",
        "AUGMENTED_data.head(2)"
      ],
      "execution_count": 465,
      "outputs": [
        {
          "output_type": "execute_result",
          "data": {
            "text/html": [
              "<div>\n",
              "<style scoped>\n",
              "    .dataframe tbody tr th:only-of-type {\n",
              "        vertical-align: middle;\n",
              "    }\n",
              "\n",
              "    .dataframe tbody tr th {\n",
              "        vertical-align: top;\n",
              "    }\n",
              "\n",
              "    .dataframe thead th {\n",
              "        text-align: right;\n",
              "    }\n",
              "</style>\n",
              "<table border=\"1\" class=\"dataframe\">\n",
              "  <thead>\n",
              "    <tr style=\"text-align: right;\">\n",
              "      <th></th>\n",
              "      <th>date</th>\n",
              "      <th>Quantity</th>\n",
              "      <th>Seasonal</th>\n",
              "      <th>Consumer_loans</th>\n",
              "      <th>Construction_lic_unt</th>\n",
              "      <th>Construction_lic_area</th>\n",
              "      <th>Construction_lic_unt_SI</th>\n",
              "      <th>Construction_lic_unt_NO_SI</th>\n",
              "      <th>Construction_lic_area_SI</th>\n",
              "      <th>Construction_lic_area_NO_SI</th>\n",
              "      <th>Gray_cement_prod</th>\n",
              "      <th>Gray_cement_dispatch</th>\n",
              "      <th>Gray_cement_dispatch_Factory</th>\n",
              "      <th>Gray_cement_dispatch_comercial</th>\n",
              "      <th>Gray_cement_dispatch_contractor</th>\n",
              "      <th>Gray_cement_dispatch_other</th>\n",
              "      <th>DTF(interest_rate)</th>\n",
              "      <th>GDP_Constr</th>\n",
              "      <th>GDP_Total</th>\n",
              "      <th>Inflation</th>\n",
              "      <th>USD_exchange</th>\n",
              "      <th>Oil-brent</th>\n",
              "      <th>Oil_WTI</th>\n",
              "      <th>ISE</th>\n",
              "      <th>ICC</th>\n",
              "      <th>IEC</th>\n",
              "      <th>ICE</th>\n",
              "      <th>Unemployment%</th>\n",
              "      <th>RADAR_Constr</th>\n",
              "      <th>RADAR_Rev</th>\n",
              "      <th>RADAR_Toilets</th>\n",
              "      <th>RADAR_HomeAppliance</th>\n",
              "      <th>RADAR_Paint</th>\n",
              "      <th>RADAR_Furniture</th>\n",
              "      <th>RADAR_Tools</th>\n",
              "      <th>RADAR_Elect</th>\n",
              "      <th>RADAR_Plumbing</th>\n",
              "      <th>RADAR_Wood</th>\n",
              "      <th>RADAR_Supply</th>\n",
              "      <th>RADAR_Remodel</th>\n",
              "      <th>...</th>\n",
              "      <th>Preferencial_creditlag_8</th>\n",
              "      <th>loan_overdraftslag_8</th>\n",
              "      <th>Credit_cardlag_8</th>\n",
              "      <th>Treasury_loanlag_8</th>\n",
              "      <th>Housing_loanlag_8</th>\n",
              "      <th>Consumer_creditlag_9</th>\n",
              "      <th>Consumer_microcreditlag_9</th>\n",
              "      <th>Ordinary_creditlag_9</th>\n",
              "      <th>Preferencial_creditlag_9</th>\n",
              "      <th>loan_overdraftslag_9</th>\n",
              "      <th>Credit_cardlag_9</th>\n",
              "      <th>Treasury_loanlag_9</th>\n",
              "      <th>Housing_loanlag_9</th>\n",
              "      <th>Consumer_creditlag_10</th>\n",
              "      <th>Consumer_microcreditlag_10</th>\n",
              "      <th>Ordinary_creditlag_10</th>\n",
              "      <th>Preferencial_creditlag_10</th>\n",
              "      <th>loan_overdraftslag_10</th>\n",
              "      <th>Credit_cardlag_10</th>\n",
              "      <th>Treasury_loanlag_10</th>\n",
              "      <th>Housing_loanlag_10</th>\n",
              "      <th>Consumer_creditlag_11</th>\n",
              "      <th>Consumer_microcreditlag_11</th>\n",
              "      <th>Ordinary_creditlag_11</th>\n",
              "      <th>Preferencial_creditlag_11</th>\n",
              "      <th>loan_overdraftslag_11</th>\n",
              "      <th>Credit_cardlag_11</th>\n",
              "      <th>Treasury_loanlag_11</th>\n",
              "      <th>Housing_loanlag_11</th>\n",
              "      <th>Consumer_creditlag_12</th>\n",
              "      <th>Consumer_microcreditlag_12</th>\n",
              "      <th>Ordinary_creditlag_12</th>\n",
              "      <th>Preferencial_creditlag_12</th>\n",
              "      <th>loan_overdraftslag_12</th>\n",
              "      <th>Credit_cardlag_12</th>\n",
              "      <th>Treasury_loanlag_12</th>\n",
              "      <th>Housing_loanlag_12</th>\n",
              "      <th>holiday</th>\n",
              "      <th>sunday</th>\n",
              "      <th>working_day</th>\n",
              "    </tr>\n",
              "  </thead>\n",
              "  <tbody>\n",
              "    <tr>\n",
              "      <th>0</th>\n",
              "      <td>2017-01-01</td>\n",
              "      <td>1.503548</td>\n",
              "      <td>0.699923</td>\n",
              "      <td>112579.4297</td>\n",
              "      <td>11303.0</td>\n",
              "      <td>1185131.0</td>\n",
              "      <td>3587.0</td>\n",
              "      <td>7716.0</td>\n",
              "      <td>229478.0</td>\n",
              "      <td>955653.0</td>\n",
              "      <td>897063.518</td>\n",
              "      <td>913190.407</td>\n",
              "      <td>194276.020</td>\n",
              "      <td>502084.8330</td>\n",
              "      <td>171559.9665</td>\n",
              "      <td>45269.5875</td>\n",
              "      <td>0.0694</td>\n",
              "      <td>14753.34784</td>\n",
              "      <td>206242.568</td>\n",
              "      <td>5.47</td>\n",
              "      <td>2944.65</td>\n",
              "      <td>52.19</td>\n",
              "      <td>52.81</td>\n",
              "      <td>102.548972</td>\n",
              "      <td>-30.2</td>\n",
              "      <td>-28.3</td>\n",
              "      <td>-33.1</td>\n",
              "      <td>11.733267</td>\n",
              "      <td>1.044525e+11</td>\n",
              "      <td>1.323489e+11</td>\n",
              "      <td>1.727682e+11</td>\n",
              "      <td>1.050914e+11</td>\n",
              "      <td>8.847567e+10</td>\n",
              "      <td>8.354725e+10</td>\n",
              "      <td>5.008444e+10</td>\n",
              "      <td>9.372000e+10</td>\n",
              "      <td>3.037115e+10</td>\n",
              "      <td>3.136015e+10</td>\n",
              "      <td>1.585430e+11</td>\n",
              "      <td>1.050763e+12</td>\n",
              "      <td>...</td>\n",
              "      <td>4445890.861</td>\n",
              "      <td>6402426.269</td>\n",
              "      <td>3390803.016</td>\n",
              "      <td>550883.0739</td>\n",
              "      <td>1302564.560</td>\n",
              "      <td>4680431.000</td>\n",
              "      <td>460632.0000</td>\n",
              "      <td>5702443.000</td>\n",
              "      <td>4657354.000</td>\n",
              "      <td>7012296.000</td>\n",
              "      <td>3283417.000</td>\n",
              "      <td>549789.0000</td>\n",
              "      <td>1454672.00</td>\n",
              "      <td>4941981.754</td>\n",
              "      <td>531850.1926</td>\n",
              "      <td>7315235.649</td>\n",
              "      <td>6120086.089</td>\n",
              "      <td>8140200.383</td>\n",
              "      <td>3814229.013</td>\n",
              "      <td>632387.5921</td>\n",
              "      <td>1627959.289</td>\n",
              "      <td>4068020.900</td>\n",
              "      <td>438682.2679</td>\n",
              "      <td>6513619.182</td>\n",
              "      <td>6137144.374</td>\n",
              "      <td>6675101.294</td>\n",
              "      <td>2989980.729</td>\n",
              "      <td>483448.3473</td>\n",
              "      <td>1298811.962</td>\n",
              "      <td>3106784.5</td>\n",
              "      <td>386289.5525</td>\n",
              "      <td>4875376.339</td>\n",
              "      <td>4791146.877</td>\n",
              "      <td>5996088.922</td>\n",
              "      <td>3013612.505</td>\n",
              "      <td>470541.3290</td>\n",
              "      <td>1093819.181</td>\n",
              "      <td>1</td>\n",
              "      <td>5</td>\n",
              "      <td>25</td>\n",
              "    </tr>\n",
              "    <tr>\n",
              "      <th>1</th>\n",
              "      <td>2017-02-01</td>\n",
              "      <td>0.076213</td>\n",
              "      <td>0.316156</td>\n",
              "      <td>113438.0949</td>\n",
              "      <td>16187.0</td>\n",
              "      <td>1590979.0</td>\n",
              "      <td>4659.0</td>\n",
              "      <td>11528.0</td>\n",
              "      <td>272961.0</td>\n",
              "      <td>1318018.0</td>\n",
              "      <td>1025704.960</td>\n",
              "      <td>1007968.299</td>\n",
              "      <td>228359.839</td>\n",
              "      <td>530826.1625</td>\n",
              "      <td>199731.6950</td>\n",
              "      <td>49050.6025</td>\n",
              "      <td>0.0678</td>\n",
              "      <td>14753.34784</td>\n",
              "      <td>206242.568</td>\n",
              "      <td>5.18</td>\n",
              "      <td>2881.68</td>\n",
              "      <td>53.40</td>\n",
              "      <td>54.01</td>\n",
              "      <td>102.919033</td>\n",
              "      <td>-24.3</td>\n",
              "      <td>-19.9</td>\n",
              "      <td>-31.0</td>\n",
              "      <td>10.504292</td>\n",
              "      <td>1.574855e+11</td>\n",
              "      <td>8.351517e+10</td>\n",
              "      <td>1.096908e+11</td>\n",
              "      <td>8.252536e+10</td>\n",
              "      <td>8.582517e+10</td>\n",
              "      <td>1.522091e+11</td>\n",
              "      <td>5.056706e+10</td>\n",
              "      <td>6.034851e+10</td>\n",
              "      <td>2.138243e+10</td>\n",
              "      <td>2.216364e+10</td>\n",
              "      <td>2.104634e+11</td>\n",
              "      <td>1.036176e+12</td>\n",
              "      <td>...</td>\n",
              "      <td>6566090.070</td>\n",
              "      <td>7930536.312</td>\n",
              "      <td>4347164.930</td>\n",
              "      <td>677598.1836</td>\n",
              "      <td>1864166.572</td>\n",
              "      <td>4353892.017</td>\n",
              "      <td>433679.7772</td>\n",
              "      <td>5854575.608</td>\n",
              "      <td>4445890.861</td>\n",
              "      <td>6402426.269</td>\n",
              "      <td>3390803.016</td>\n",
              "      <td>550883.0739</td>\n",
              "      <td>1302564.56</td>\n",
              "      <td>4680431.000</td>\n",
              "      <td>460632.0000</td>\n",
              "      <td>5702443.000</td>\n",
              "      <td>4657354.000</td>\n",
              "      <td>7012296.000</td>\n",
              "      <td>3283417.000</td>\n",
              "      <td>549789.0000</td>\n",
              "      <td>1454672.000</td>\n",
              "      <td>4941981.754</td>\n",
              "      <td>531850.1926</td>\n",
              "      <td>7315235.649</td>\n",
              "      <td>6120086.089</td>\n",
              "      <td>8140200.383</td>\n",
              "      <td>3814229.013</td>\n",
              "      <td>632387.5921</td>\n",
              "      <td>1627959.289</td>\n",
              "      <td>4068020.9</td>\n",
              "      <td>438682.2679</td>\n",
              "      <td>6513619.182</td>\n",
              "      <td>6137144.374</td>\n",
              "      <td>6675101.294</td>\n",
              "      <td>2989980.729</td>\n",
              "      <td>483448.3473</td>\n",
              "      <td>1298811.962</td>\n",
              "      <td>0</td>\n",
              "      <td>4</td>\n",
              "      <td>24</td>\n",
              "    </tr>\n",
              "  </tbody>\n",
              "</table>\n",
              "<p>2 rows × 943 columns</p>\n",
              "</div>"
            ],
            "text/plain": [
              "         date  Quantity  Seasonal  ...  holiday  sunday  working_day\n",
              "0  2017-01-01  1.503548  0.699923  ...        1       5           25\n",
              "1  2017-02-01  0.076213  0.316156  ...        0       4           24\n",
              "\n",
              "[2 rows x 943 columns]"
            ]
          },
          "metadata": {},
          "execution_count": 465
        }
      ]
    },
    {
      "cell_type": "code",
      "metadata": {
        "id": "yjfxh8HP5Hi3"
      },
      "source": [
        " AUGMENTED_data = AUGMENTED_data[['Quantity', 'Seasonal', 'Gray_cement_dispatch_comercial', 'ISE',\n",
        "       'Construction_lic_area/unt_SIlag_4', ]]"
      ],
      "execution_count": 466,
      "outputs": []
    },
    {
      "cell_type": "code",
      "metadata": {
        "id": "SUf0WIB32WYf"
      },
      "source": [
        "#Add new variable for ADJUSTED  Quantity\n",
        "#This is the avg of previous Aprils\n",
        "\n",
        "AUGMENTED_data[\"Quantity_adj\"] = AUGMENTED_data['Quantity']\n",
        "AUGMENTED_data.at[39,'Quantity_adj'] =  -1.303515\n",
        "# Next drop the original Qunatity column\n",
        "AUGMENTED_data.drop(columns='Quantity')"
      ],
      "execution_count": null,
      "outputs": []
    },
    {
      "cell_type": "code",
      "metadata": {
        "colab": {
          "base_uri": "https://localhost:8080/"
        },
        "id": "N2rB0P5A8zRt",
        "outputId": "8200f53d-26b6-4ef6-e3a9-232a8b782230"
      },
      "source": [
        "AUGMENTED_data.shape"
      ],
      "execution_count": 468,
      "outputs": [
        {
          "output_type": "execute_result",
          "data": {
            "text/plain": [
              "(54, 6)"
            ]
          },
          "metadata": {},
          "execution_count": 468
        }
      ]
    },
    {
      "cell_type": "markdown",
      "metadata": {
        "id": "7UEqSong8phW"
      },
      "source": [
        "## Augment the code Here"
      ]
    },
    {
      "cell_type": "code",
      "metadata": {
        "id": "jLSCgAbT55GC"
      },
      "source": [
        "one = AUGMENTED_data*1.0001"
      ],
      "execution_count": 469,
      "outputs": []
    },
    {
      "cell_type": "markdown",
      "metadata": {
        "id": "Lc_YnU7r89Jn"
      },
      "source": [
        "Multiply the contents and save as a new df and stack them"
      ]
    },
    {
      "cell_type": "code",
      "metadata": {
        "colab": {
          "base_uri": "https://localhost:8080/"
        },
        "id": "SiGVaq4j8t6O",
        "outputId": "94d21431-5946-43b9-9189-9696712a26c0"
      },
      "source": [
        "frames = [one, AUGMENTED_data]\n",
        "concated_data = pd.concat(frames)\n",
        "concated_data.shape"
      ],
      "execution_count": 470,
      "outputs": [
        {
          "output_type": "execute_result",
          "data": {
            "text/plain": [
              "(108, 6)"
            ]
          },
          "metadata": {},
          "execution_count": 470
        }
      ]
    },
    {
      "cell_type": "code",
      "metadata": {
        "id": "ZCgqBXDL8uFB"
      },
      "source": [
        "two = concated_data* 1.0001"
      ],
      "execution_count": 471,
      "outputs": []
    },
    {
      "cell_type": "code",
      "metadata": {
        "colab": {
          "base_uri": "https://localhost:8080/"
        },
        "id": "NAvyT0E09Qj9",
        "outputId": "013288c4-8b33-4628-c709-8f894b9d38c5"
      },
      "source": [
        "frames = [two, concated_data]\n",
        "concated_data = pd.concat(frames)\n",
        "concated_data.shape"
      ],
      "execution_count": 472,
      "outputs": [
        {
          "output_type": "execute_result",
          "data": {
            "text/plain": [
              "(216, 6)"
            ]
          },
          "metadata": {},
          "execution_count": 472
        }
      ]
    },
    {
      "cell_type": "code",
      "metadata": {
        "id": "DKAORMBQ9Qe1"
      },
      "source": [
        "three = concated_data * 1.001"
      ],
      "execution_count": 473,
      "outputs": []
    },
    {
      "cell_type": "code",
      "metadata": {
        "colab": {
          "base_uri": "https://localhost:8080/"
        },
        "id": "vQUdf_ft9QaT",
        "outputId": "8f48f96d-e93e-4d5f-dfcb-406af42f1934"
      },
      "source": [
        "frames = [three, concated_data]\n",
        "concated_data = pd.concat(frames)\n",
        "concated_data.shape"
      ],
      "execution_count": 474,
      "outputs": [
        {
          "output_type": "execute_result",
          "data": {
            "text/plain": [
              "(432, 6)"
            ]
          },
          "metadata": {},
          "execution_count": 474
        }
      ]
    },
    {
      "cell_type": "code",
      "metadata": {
        "id": "nDXAIaHK8uCh"
      },
      "source": [
        "four = concated_data* 0.99999"
      ],
      "execution_count": 475,
      "outputs": []
    },
    {
      "cell_type": "code",
      "metadata": {
        "colab": {
          "base_uri": "https://localhost:8080/"
        },
        "id": "8o-cVZb49cl3",
        "outputId": "4c5a45e6-325d-44ce-d502-58b8e13fb2d6"
      },
      "source": [
        "frames = [four, concated_data]\n",
        "concated_data = pd.concat(frames)\n",
        "concated_data.shape"
      ],
      "execution_count": 476,
      "outputs": [
        {
          "output_type": "execute_result",
          "data": {
            "text/plain": [
              "(864, 6)"
            ]
          },
          "metadata": {},
          "execution_count": 476
        }
      ]
    },
    {
      "cell_type": "code",
      "metadata": {
        "id": "4W2ly_6e9chD"
      },
      "source": [
        "five = concated_data * 0.999999"
      ],
      "execution_count": 477,
      "outputs": []
    },
    {
      "cell_type": "code",
      "metadata": {
        "colab": {
          "base_uri": "https://localhost:8080/"
        },
        "id": "k60lHMk89cbs",
        "outputId": "f7512086-c9f7-4e92-acdc-48985a36fa13"
      },
      "source": [
        "frames = [five, concated_data]\n",
        "concated_data = pd.concat(frames)\n",
        "concated_data.shape"
      ],
      "execution_count": 478,
      "outputs": [
        {
          "output_type": "execute_result",
          "data": {
            "text/plain": [
              "(1728, 6)"
            ]
          },
          "metadata": {},
          "execution_count": 478
        }
      ]
    },
    {
      "cell_type": "code",
      "metadata": {
        "id": "ARQY5Uo68t-k"
      },
      "source": [
        "six = concated_data * 0.999999"
      ],
      "execution_count": 479,
      "outputs": []
    },
    {
      "cell_type": "code",
      "metadata": {
        "colab": {
          "base_uri": "https://localhost:8080/"
        },
        "id": "0-XlU7_q91_a",
        "outputId": "bcf6c9ef-f631-41a4-f481-774c2baecad9"
      },
      "source": [
        "frames = [six, concated_data]\n",
        "concated_data = pd.concat(frames)\n",
        "concated_data.shape"
      ],
      "execution_count": 480,
      "outputs": [
        {
          "output_type": "execute_result",
          "data": {
            "text/plain": [
              "(3456, 6)"
            ]
          },
          "metadata": {},
          "execution_count": 480
        }
      ]
    },
    {
      "cell_type": "code",
      "metadata": {
        "id": "NoGAddrE913z"
      },
      "source": [
        "AUGMENTED_data = concated_data"
      ],
      "execution_count": 481,
      "outputs": []
    },
    {
      "cell_type": "code",
      "metadata": {
        "id": "qB_Kbjb55Hei"
      },
      "source": [
        "y = AUGMENTED_data['Quantity_adj']\n",
        "X = AUGMENTED_data.loc[: ,AUGMENTED_data.columns != 'Quantity_adj']"
      ],
      "execution_count": 482,
      "outputs": []
    },
    {
      "cell_type": "code",
      "metadata": {
        "id": "DRRHPsgQ5HaN"
      },
      "source": [
        "from sklearn.preprocessing import StandardScaler\n",
        "sc = StandardScaler()\n"
      ],
      "execution_count": 483,
      "outputs": []
    },
    {
      "cell_type": "code",
      "metadata": {
        "id": "_PDZLdfE5HXT"
      },
      "source": [
        "AUGMENTED_data[cols] = sc.fit_transform(AUGMENTED_data[cols])"
      ],
      "execution_count": 484,
      "outputs": []
    },
    {
      "cell_type": "code",
      "metadata": {
        "colab": {
          "base_uri": "https://localhost:8080/"
        },
        "id": "WsgDsP1A5HSP",
        "outputId": "018347b2-5c86-43ea-b7c2-e716f7f72fab"
      },
      "source": [
        "AUGMENTED_data.shape"
      ],
      "execution_count": 485,
      "outputs": [
        {
          "output_type": "execute_result",
          "data": {
            "text/plain": [
              "(3456, 6)"
            ]
          },
          "metadata": {},
          "execution_count": 485
        }
      ]
    },
    {
      "cell_type": "code",
      "metadata": {
        "id": "BHN6CRza-x7E"
      },
      "source": [
        "y = AUGMENTED_data['Quantity_adj']\n",
        "X = AUGMENTED_data.loc[: ,AUGMENTED_data.columns != 'Quantity_adj']"
      ],
      "execution_count": 486,
      "outputs": []
    },
    {
      "cell_type": "code",
      "metadata": {
        "colab": {
          "base_uri": "https://localhost:8080/"
        },
        "id": "Uk1iIFlL5HN7",
        "outputId": "b6fbed4a-8d1a-4437-84c2-b545d42cba03"
      },
      "source": [
        "X_train, X_test, y_train, y_test = train_test_split(X, y, test_size=0.3, random_state=5)\n",
        "print(X_train.shape)\n",
        "print(X_test.shape)"
      ],
      "execution_count": 487,
      "outputs": [
        {
          "output_type": "stream",
          "name": "stdout",
          "text": [
            "(2419, 5)\n",
            "(1037, 5)\n"
          ]
        }
      ]
    },
    {
      "cell_type": "code",
      "metadata": {
        "colab": {
          "base_uri": "https://localhost:8080/"
        },
        "id": "ahmXDLbz5G0J",
        "outputId": "33a6666e-5e7a-49c7-dfa8-e771936dfd6b"
      },
      "source": [
        "# CV = X train split\n",
        "#LassoReg = LassoCV(cv = 16, random_state=1, tol =1).fit(X, y) \n",
        "# CV = X split\n",
        "#LassoReg = LassoCV(cv = 27, random_state=1, tol =1).fit(X, y) \n",
        "LassoReg = LassoCV(cv = 43, random_state=1, tol = 0.01, n_alphas=5).fit(X, y) # CV = X split\n",
        "LassoReg.alphas_[4]/LassoReg.alphas_[0]"
      ],
      "execution_count": 488,
      "outputs": [
        {
          "output_type": "execute_result",
          "data": {
            "text/plain": [
              "0.0009999999999999998"
            ]
          },
          "metadata": {},
          "execution_count": 488
        }
      ]
    },
    {
      "cell_type": "code",
      "metadata": {
        "colab": {
          "base_uri": "https://localhost:8080/"
        },
        "id": "dQ8MKi198NIr",
        "outputId": "c69e84fb-64b4-4cb0-e973-534e3a9dabc0"
      },
      "source": [
        "LassoReg.score(X,y)"
      ],
      "execution_count": 489,
      "outputs": [
        {
          "output_type": "execute_result",
          "data": {
            "text/plain": [
              "0.8849692629366414"
            ]
          },
          "metadata": {},
          "execution_count": 489
        }
      ]
    },
    {
      "cell_type": "code",
      "metadata": {
        "colab": {
          "base_uri": "https://localhost:8080/"
        },
        "id": "xqSdlAEe8NEc",
        "outputId": "050fa02c-d0aa-4da9-a056-64fde377bd66"
      },
      "source": [
        "y_pred_Train = LassoReg .predict(X_train) #Predictions on training model\n",
        "y_pred_Test  = LassoReg .predict(X_test)  #Predictions on testing model\n",
        "\n",
        "print('Intercept:',LassoReg .intercept_) #Intercept: -4.4999751446869665\n",
        "print('Coefficients:', LassoReg .coef_)"
      ],
      "execution_count": 490,
      "outputs": [
        {
          "output_type": "stream",
          "name": "stdout",
          "text": [
            "Intercept: 0.01983065524480546\n",
            "Coefficients: [ 0.99075884 -0.02111236 -0.18639906 -0.08639709 -0.01539287]\n"
          ]
        }
      ]
    },
    {
      "cell_type": "code",
      "metadata": {
        "colab": {
          "base_uri": "https://localhost:8080/",
          "height": 515
        },
        "id": "Xm2MGMQ28NAB",
        "outputId": "e39c5a8c-35c0-440f-fd94-94b78bb4726b"
      },
      "source": [
        "Prediction_Plots(y_train, y_pred_Train, y_test, y_pred_Test)\n",
        "Metrics_Printer(y_train, y_pred_Train, y_test, y_pred_Test)"
      ],
      "execution_count": 491,
      "outputs": [
        {
          "output_type": "display_data",
          "data": {
            "image/png": "[encoded data removed]",
            "text/plain": [
              "<Figure size 720x288 with 2 Axes>"
            ]
          },
          "metadata": {
            "needs_background": "light"
          }
        },
        {
          "output_type": "stream",
          "name": "stdout",
          "text": [
            "Training Metrics:\n",
            "R squared: 0.8818738395051711\n",
            "Mean Absolute Error: 0.17949292343926113\n",
            "Mean Squared Error: 0.08319797504236319\n",
            "Root Mean Squared Error: 0.2884405918770158\n",
            "\n",
            "Testing Metrics:\n",
            "R squared: 0.8922856557531198\n",
            "Mean Absolute Error: 0.17540152676643916\n",
            "Mean Squared Error: 0.07487193910330474\n",
            "Root Mean Squared Error: 0.27362737272302406\n"
          ]
        },
        {
          "output_type": "execute_result",
          "data": {
            "text/plain": [
              "()"
            ]
          },
          "metadata": {},
          "execution_count": 491
        }
      ]
    },
    {
      "cell_type": "code",
      "metadata": {
        "colab": {
          "base_uri": "https://localhost:8080/",
          "height": 372
        },
        "id": "QzokVUNB8M7x",
        "outputId": "4867dcd6-8bb4-438a-ceeb-e36b5c887f90"
      },
      "source": [
        "Multiple_Runner(LassoReg, X, y)"
      ],
      "execution_count": 494,
      "outputs": [
        {
          "output_type": "stream",
          "name": "stdout",
          "text": [
            "Train MSE median: 0.08081120794911406\n",
            "Test MSE median: 0.0804480852818748\n",
            "\n",
            "Train_R2 median: 0.8849204501364631\n",
            "Test_R2 median: 0.8848293194093434\n"
          ]
        },
        {
          "output_type": "display_data",
          "data": {
            "image/png": "[encoded data removed]",
            "text/plain": [
              "<Figure size 720x288 with 2 Axes>"
            ]
          },
          "metadata": {
            "needs_background": "light"
          }
        }
      ]
    },
    {
      "cell_type": "markdown",
      "metadata": {
        "id": "gHSlnQ_vCrxa"
      },
      "source": [
        "Augemented Split 0.5, TOL 0.01"
      ]
    },
    {
      "cell_type": "code",
      "metadata": {
        "colab": {
          "base_uri": "https://localhost:8080/"
        },
        "id": "gWotxPKX8MyG",
        "outputId": "42e8a125-8719-42ed-9bb9-b3dc897949cf"
      },
      "source": [
        "X_train, X_test, y_train, y_test = train_test_split(X, y, test_size=0.5, random_state=5)\n",
        "print(X_train.shape)\n",
        "print(X_test.shape)"
      ],
      "execution_count": 495,
      "outputs": [
        {
          "output_type": "stream",
          "name": "stdout",
          "text": [
            "(1728, 5)\n",
            "(1728, 5)\n"
          ]
        }
      ]
    },
    {
      "cell_type": "code",
      "metadata": {
        "id": "bPy6WBpz8Mpw"
      },
      "source": [
        "1# CV = X train split\n",
        "2 #LassoReg = LassoCV(cv = 16, random_state=1, tol =1).fit(X, y)\n",
        "3 # CV = X split\n",
        "4 #LassoReg = LassoCV(cv = 27, random_state=1, tol =1).fit(X, y)\n",
        "LassoReg = LassoCV(cv = 43, random_state=1, tol = 0.01, n_alphas=5).fit(X, y) # CV = X 6 LassoReg.alphas_[4]/LassoReg.alphas_[0]"
      ],
      "execution_count": 496,
      "outputs": []
    },
    {
      "cell_type": "code",
      "metadata": {
        "colab": {
          "base_uri": "https://localhost:8080/"
        },
        "id": "8qm1xJ568MfT",
        "outputId": "064832e0-4d30-4c4b-896f-a56e77a1115a"
      },
      "source": [
        "LassoReg.score(X,y)"
      ],
      "execution_count": 497,
      "outputs": [
        {
          "output_type": "execute_result",
          "data": {
            "text/plain": [
              "0.8849692629366414"
            ]
          },
          "metadata": {},
          "execution_count": 497
        }
      ]
    },
    {
      "cell_type": "code",
      "metadata": {
        "colab": {
          "base_uri": "https://localhost:8080/"
        },
        "id": "dg8VRvN68MWA",
        "outputId": "cb58aa5c-bd1d-4200-a50a-6bfc00e5a721"
      },
      "source": [
        "y_pred_Train = LassoReg .predict(X_train) #Predictions on training model\n",
        "y_pred_Test = LassoReg .predict(X_test) #Predictions on testing model\n",
        "\n",
        "print('Intercept:',LassoReg .intercept_) #Intercept: -4.4999751446869665\n",
        "print('Coefficients:', LassoReg .coef_)"
      ],
      "execution_count": 498,
      "outputs": [
        {
          "output_type": "stream",
          "name": "stdout",
          "text": [
            "Intercept: 0.01983065524480546\n",
            "Coefficients: [ 0.99075884 -0.02111236 -0.18639906 -0.08639709 -0.01539287]\n"
          ]
        }
      ]
    },
    {
      "cell_type": "code",
      "metadata": {
        "colab": {
          "base_uri": "https://localhost:8080/",
          "height": 515
        },
        "id": "1UOqjA2h8MS3",
        "outputId": "bf287822-21cb-4343-971a-aefd637f3d1e"
      },
      "source": [
        "Prediction_Plots(y_train, y_pred_Train, y_test, y_pred_Test)\n",
        "Metrics_Printer(y_train, y_pred_Train, y_test, y_pred_Test)"
      ],
      "execution_count": 499,
      "outputs": [
        {
          "output_type": "display_data",
          "data": {
            "image/png": "[encoded data removed]",
            "text/plain": [
              "<Figure size 720x288 with 2 Axes>"
            ]
          },
          "metadata": {
            "needs_background": "light"
          }
        },
        {
          "output_type": "stream",
          "name": "stdout",
          "text": [
            "Training Metrics:\n",
            "R squared: 0.8861611467037211\n",
            "Mean Absolute Error: 0.17749031498005458\n",
            "Mean Squared Error: 0.08114276679011857\n",
            "Root Mean Squared Error: 0.28485569467735516\n",
            "\n",
            "Testing Metrics:\n",
            "R squared: 0.8836539054933705\n",
            "Mean Absolute Error: 0.1790402203534929\n",
            "Mean Squared Error: 0.0802565980696057\n",
            "Root Mean Squared Error: 0.2832959549121831\n"
          ]
        },
        {
          "output_type": "execute_result",
          "data": {
            "text/plain": [
              "()"
            ]
          },
          "metadata": {},
          "execution_count": 499
        }
      ]
    },
    {
      "cell_type": "code",
      "metadata": {
        "colab": {
          "base_uri": "https://localhost:8080/",
          "height": 372
        },
        "id": "MaS1nnQF8MOi",
        "outputId": "4bb58264-5816-40e2-b492-a533bf418b65"
      },
      "source": [
        "Multiple_Runner(LassoReg, X, y)"
      ],
      "execution_count": 500,
      "outputs": [
        {
          "output_type": "stream",
          "name": "stdout",
          "text": [
            "Train MSE median: 0.08066703718838082\n",
            "Test MSE median: 0.08097257867670207\n",
            "\n",
            "Train_R2 median: 0.884913319672718\n",
            "Test_R2 median: 0.8848487950775938\n"
          ]
        },
        {
          "output_type": "display_data",
          "data": {
            "image/png": "[encoded data removed]",
            "text/plain": [
              "<Figure size 720x288 with 2 Axes>"
            ]
          },
          "metadata": {
            "needs_background": "light"
          }
        }
      ]
    },
    {
      "cell_type": "markdown",
      "metadata": {
        "id": "1GJH_PssFZq7"
      },
      "source": [
        "# AUGMENTED SPLIT 0.3 TOL = 0.1"
      ]
    },
    {
      "cell_type": "code",
      "metadata": {
        "colab": {
          "base_uri": "https://localhost:8080/"
        },
        "id": "b513hKiYEaz0",
        "outputId": "bdcbfdbe-1d0f-4b79-e2e8-0df5e65b16ee"
      },
      "source": [
        "X_train, X_test, y_train, y_test = train_test_split(X, y, test_size=0.5, random_state=5)\n",
        "print(X_train.shape)\n",
        "print(X_test.shape)"
      ],
      "execution_count": 506,
      "outputs": [
        {
          "output_type": "stream",
          "name": "stdout",
          "text": [
            "(1728, 5)\n",
            "(1728, 5)\n"
          ]
        }
      ]
    },
    {
      "cell_type": "code",
      "metadata": {
        "colab": {
          "base_uri": "https://localhost:8080/"
        },
        "id": "efs6ebyiEaw_",
        "outputId": "4a3028c9-f377-491a-c596-70b9650198e6"
      },
      "source": [
        "1# CV = X train split\n",
        "2 #LassoReg = LassoCV(cv = 16, random_state=1, tol =1).fit(X, y)\n",
        "3 # CV = X split\n",
        "4 #LassoReg = LassoCV(cv = 27, random_state=1, tol =1).fit(X, y)\n",
        "LassoReg = LassoCV(cv = 43, random_state=1, tol = 0.1, n_alphas=5).fit(X, y) # CV = X 6 LassoReg.alphas_[4]/LassoReg.alphas_[0]\n",
        "LassoReg.alphas_[4]/LassoReg.alphas_[0]"
      ],
      "execution_count": 507,
      "outputs": [
        {
          "output_type": "execute_result",
          "data": {
            "text/plain": [
              "0.0009999999999999998"
            ]
          },
          "metadata": {},
          "execution_count": 507
        }
      ]
    },
    {
      "cell_type": "code",
      "metadata": {
        "colab": {
          "base_uri": "https://localhost:8080/"
        },
        "id": "9ZlxQhQPEar5",
        "outputId": "3c9dc674-e434-4c1b-c9ed-fca403300d8d"
      },
      "source": [
        "LassoReg.score(X,y)"
      ],
      "execution_count": 508,
      "outputs": [
        {
          "output_type": "execute_result",
          "data": {
            "text/plain": [
              "0.8749085953591866"
            ]
          },
          "metadata": {},
          "execution_count": 508
        }
      ]
    },
    {
      "cell_type": "code",
      "metadata": {
        "colab": {
          "base_uri": "https://localhost:8080/"
        },
        "id": "cYbzEA4fEanG",
        "outputId": "21079dd6-7c5e-43c0-c4a0-57d4b06e2a64"
      },
      "source": [
        "y_pred_Train = LassoReg .predict(X_train) #Predictions on training model\n",
        "y_pred_Test = LassoReg .predict(X_test) #Predictions on testing model\n",
        "\n",
        "print('Intercept:',LassoReg .intercept_) #Intercept: -4.4999751446869665\n",
        "print('Coefficients:', LassoReg .coef_)"
      ],
      "execution_count": 509,
      "outputs": [
        {
          "output_type": "stream",
          "name": "stdout",
          "text": [
            "Intercept: 0.019830655244805536\n",
            "Coefficients: [ 0.8360266  -0.00150868 -0.13376399 -0.02077738  0.01678898]\n"
          ]
        }
      ]
    },
    {
      "cell_type": "code",
      "metadata": {
        "colab": {
          "base_uri": "https://localhost:8080/",
          "height": 515
        },
        "id": "4kTw4uobGzqj",
        "outputId": "181d7263-08ef-4cd6-f869-b6fadec023d6"
      },
      "source": [
        "\n",
        "Prediction_Plots(y_train, y_pred_Train, y_test, y_pred_Test)\n",
        "Metrics_Printer(y_train, y_pred_Train, y_test, y_pred_Test)"
      ],
      "execution_count": 510,
      "outputs": [
        {
          "output_type": "display_data",
          "data": {
            "image/png": "[encoded data removed]",
            "text/plain": [
              "<Figure size 720x288 with 2 Axes>"
            ]
          },
          "metadata": {
            "needs_background": "light"
          }
        },
        {
          "output_type": "stream",
          "name": "stdout",
          "text": [
            "Training Metrics:\n",
            "R squared: 0.8760339033136277\n",
            "Mean Absolute Error: 0.1990400723219168\n",
            "Mean Squared Error: 0.08836132640166362\n",
            "Root Mean Squared Error: 0.29725633113806615\n",
            "\n",
            "Testing Metrics:\n",
            "R squared: 0.8736547044998164\n",
            "Mean Absolute Error: 0.1998054970710637\n",
            "Mean Squared Error: 0.08715413819383516\n",
            "Root Mean Squared Error: 0.295218797155322\n"
          ]
        },
        {
          "output_type": "execute_result",
          "data": {
            "text/plain": [
              "()"
            ]
          },
          "metadata": {},
          "execution_count": 510
        }
      ]
    },
    {
      "cell_type": "code",
      "metadata": {
        "colab": {
          "base_uri": "https://localhost:8080/",
          "height": 372
        },
        "id": "S_MZ5S_iGzlU",
        "outputId": "3921222d-10f1-4912-c1aa-277528fca628"
      },
      "source": [
        "Multiple_Runner(LassoReg, X, y)"
      ],
      "execution_count": 511,
      "outputs": [
        {
          "output_type": "stream",
          "name": "stdout",
          "text": [
            "Train MSE median: 0.08776224139853918\n",
            "Test MSE median: 0.08818199758645774\n",
            "\n",
            "Train_R2 median: 0.8748706993012618\n",
            "Test_R2 median: 0.874467324242955\n"
          ]
        },
        {
          "output_type": "display_data",
          "data": {
            "image/png": "[encoded data removed]",
            "text/plain": [
              "<Figure size 720x288 with 2 Axes>"
            ]
          },
          "metadata": {
            "needs_background": "light"
          }
        }
      ]
    },
    {
      "cell_type": "code",
      "metadata": {
        "id": "zEM-EeLVGziX"
      },
      "source": [
        ""
      ],
      "execution_count": null,
      "outputs": []
    },
    {
      "cell_type": "markdown",
      "metadata": {
        "id": "gBxhKGebIOGo"
      },
      "source": [
        "# SLIDES"
      ]
    },
    {
      "cell_type": "code",
      "metadata": {
        "colab": {
          "base_uri": "https://localhost:8080/",
          "height": 112
        },
        "id": "_C3GGkhtGzdn",
        "outputId": "68c0b2d0-1731-4ed0-b0a0-0642b78e29c6"
      },
      "source": [
        "# Paired box plot . Each of 6 features original v augmented\n",
        "#give the orig selected data column called name\n",
        "# do same for Augmented \n",
        "#then concatenate tehm vertically\n",
        "ADJUSTED_data.head(2)\n"
      ],
      "execution_count": 572,
      "outputs": [
        {
          "output_type": "execute_result",
          "data": {
            "text/html": [
              "<div>\n",
              "<style scoped>\n",
              "    .dataframe tbody tr th:only-of-type {\n",
              "        vertical-align: middle;\n",
              "    }\n",
              "\n",
              "    .dataframe tbody tr th {\n",
              "        vertical-align: top;\n",
              "    }\n",
              "\n",
              "    .dataframe thead th {\n",
              "        text-align: right;\n",
              "    }\n",
              "</style>\n",
              "<table border=\"1\" class=\"dataframe\">\n",
              "  <thead>\n",
              "    <tr style=\"text-align: right;\">\n",
              "      <th></th>\n",
              "      <th>date</th>\n",
              "      <th>Quantity</th>\n",
              "      <th>Seasonal</th>\n",
              "      <th>Gray_cement_dispatch_comercial</th>\n",
              "      <th>ISE</th>\n",
              "      <th>Construction_lic_area/unt_SIlag_4</th>\n",
              "      <th>Quantity_adj</th>\n",
              "    </tr>\n",
              "  </thead>\n",
              "  <tbody>\n",
              "    <tr>\n",
              "      <th>0</th>\n",
              "      <td>736330</td>\n",
              "      <td>1.539880</td>\n",
              "      <td>0.703768</td>\n",
              "      <td>-0.536381</td>\n",
              "      <td>-0.687592</td>\n",
              "      <td>1.924774</td>\n",
              "      <td>1.503548</td>\n",
              "    </tr>\n",
              "    <tr>\n",
              "      <th>1</th>\n",
              "      <td>736361</td>\n",
              "      <td>0.110421</td>\n",
              "      <td>0.325418</td>\n",
              "      <td>-0.137113</td>\n",
              "      <td>-0.608165</td>\n",
              "      <td>-0.287215</td>\n",
              "      <td>0.076213</td>\n",
              "    </tr>\n",
              "  </tbody>\n",
              "</table>\n",
              "</div>"
            ],
            "text/plain": [
              "     date  Quantity  ...  Construction_lic_area/unt_SIlag_4  Quantity_adj\n",
              "0  736330  1.539880  ...                           1.924774      1.503548\n",
              "1  736361  0.110421  ...                          -0.287215      0.076213\n",
              "\n",
              "[2 rows x 7 columns]"
            ]
          },
          "metadata": {},
          "execution_count": 572
        }
      ]
    },
    {
      "cell_type": "code",
      "metadata": {
        "id": "lxXbvQJvPzkE"
      },
      "source": [
        "BoxPlotAdjustData = ADJUSTED_data"
      ],
      "execution_count": 576,
      "outputs": []
    },
    {
      "cell_type": "code",
      "metadata": {
        "colab": {
          "base_uri": "https://localhost:8080/",
          "height": 143
        },
        "id": "TNBZbtgYVidE",
        "outputId": "40ce6aeb-5c54-488a-f3a0-529c115becdd"
      },
      "source": [
        "BoxPlotAdjustData.head(3)"
      ],
      "execution_count": 577,
      "outputs": [
        {
          "output_type": "execute_result",
          "data": {
            "text/html": [
              "<div>\n",
              "<style scoped>\n",
              "    .dataframe tbody tr th:only-of-type {\n",
              "        vertical-align: middle;\n",
              "    }\n",
              "\n",
              "    .dataframe tbody tr th {\n",
              "        vertical-align: top;\n",
              "    }\n",
              "\n",
              "    .dataframe thead th {\n",
              "        text-align: right;\n",
              "    }\n",
              "</style>\n",
              "<table border=\"1\" class=\"dataframe\">\n",
              "  <thead>\n",
              "    <tr style=\"text-align: right;\">\n",
              "      <th></th>\n",
              "      <th>date</th>\n",
              "      <th>Quantity</th>\n",
              "      <th>Seasonal</th>\n",
              "      <th>Gray_cement_dispatch_comercial</th>\n",
              "      <th>ISE</th>\n",
              "      <th>Construction_lic_area/unt_SIlag_4</th>\n",
              "      <th>Quantity_adj</th>\n",
              "    </tr>\n",
              "  </thead>\n",
              "  <tbody>\n",
              "    <tr>\n",
              "      <th>0</th>\n",
              "      <td>736330</td>\n",
              "      <td>1.539880</td>\n",
              "      <td>0.703768</td>\n",
              "      <td>-0.536381</td>\n",
              "      <td>-0.687592</td>\n",
              "      <td>1.924774</td>\n",
              "      <td>1.503548</td>\n",
              "    </tr>\n",
              "    <tr>\n",
              "      <th>1</th>\n",
              "      <td>736361</td>\n",
              "      <td>0.110421</td>\n",
              "      <td>0.325418</td>\n",
              "      <td>-0.137113</td>\n",
              "      <td>-0.608165</td>\n",
              "      <td>-0.287215</td>\n",
              "      <td>0.076213</td>\n",
              "    </tr>\n",
              "    <tr>\n",
              "      <th>2</th>\n",
              "      <td>736389</td>\n",
              "      <td>-1.314169</td>\n",
              "      <td>-0.250193</td>\n",
              "      <td>0.385513</td>\n",
              "      <td>-0.770505</td>\n",
              "      <td>-1.573761</td>\n",
              "      <td>-1.346258</td>\n",
              "    </tr>\n",
              "  </tbody>\n",
              "</table>\n",
              "</div>"
            ],
            "text/plain": [
              "     date  Quantity  ...  Construction_lic_area/unt_SIlag_4  Quantity_adj\n",
              "0  736330  1.539880  ...                           1.924774      1.503548\n",
              "1  736361  0.110421  ...                          -0.287215      0.076213\n",
              "2  736389 -1.314169  ...                          -1.573761     -1.346258\n",
              "\n",
              "[3 rows x 7 columns]"
            ]
          },
          "metadata": {},
          "execution_count": 577
        }
      ]
    },
    {
      "cell_type": "code",
      "metadata": {
        "colab": {
          "base_uri": "https://localhost:8080/",
          "height": 112
        },
        "id": "Prfb1UiZP_DY",
        "outputId": "84497e74-add2-4ad4-cdaa-7aeed141eacc"
      },
      "source": [
        "BoxPlotAdjustData = BoxPlotAdjustData.drop(columns='date')\n",
        "BoxPlotAdjustData.head(2)"
      ],
      "execution_count": 578,
      "outputs": [
        {
          "output_type": "execute_result",
          "data": {
            "text/html": [
              "<div>\n",
              "<style scoped>\n",
              "    .dataframe tbody tr th:only-of-type {\n",
              "        vertical-align: middle;\n",
              "    }\n",
              "\n",
              "    .dataframe tbody tr th {\n",
              "        vertical-align: top;\n",
              "    }\n",
              "\n",
              "    .dataframe thead th {\n",
              "        text-align: right;\n",
              "    }\n",
              "</style>\n",
              "<table border=\"1\" class=\"dataframe\">\n",
              "  <thead>\n",
              "    <tr style=\"text-align: right;\">\n",
              "      <th></th>\n",
              "      <th>Quantity</th>\n",
              "      <th>Seasonal</th>\n",
              "      <th>Gray_cement_dispatch_comercial</th>\n",
              "      <th>ISE</th>\n",
              "      <th>Construction_lic_area/unt_SIlag_4</th>\n",
              "      <th>Quantity_adj</th>\n",
              "    </tr>\n",
              "  </thead>\n",
              "  <tbody>\n",
              "    <tr>\n",
              "      <th>0</th>\n",
              "      <td>1.539880</td>\n",
              "      <td>0.703768</td>\n",
              "      <td>-0.536381</td>\n",
              "      <td>-0.687592</td>\n",
              "      <td>1.924774</td>\n",
              "      <td>1.503548</td>\n",
              "    </tr>\n",
              "    <tr>\n",
              "      <th>1</th>\n",
              "      <td>0.110421</td>\n",
              "      <td>0.325418</td>\n",
              "      <td>-0.137113</td>\n",
              "      <td>-0.608165</td>\n",
              "      <td>-0.287215</td>\n",
              "      <td>0.076213</td>\n",
              "    </tr>\n",
              "  </tbody>\n",
              "</table>\n",
              "</div>"
            ],
            "text/plain": [
              "   Quantity  Seasonal  ...  Construction_lic_area/unt_SIlag_4  Quantity_adj\n",
              "0  1.539880  0.703768  ...                           1.924774      1.503548\n",
              "1  0.110421  0.325418  ...                          -0.287215      0.076213\n",
              "\n",
              "[2 rows x 6 columns]"
            ]
          },
          "metadata": {},
          "execution_count": 578
        }
      ]
    },
    {
      "cell_type": "code",
      "metadata": {
        "colab": {
          "base_uri": "https://localhost:8080/",
          "height": 112
        },
        "id": "BO6C5p4rVaBC",
        "outputId": "565b4d83-d1a5-4d41-de7a-e90c6056998b"
      },
      "source": [
        "BoxPlotAdjustData = BoxPlotAdjustData.drop(columns='Quantity')\n",
        "BoxPlotAdjustData.head(2)"
      ],
      "execution_count": 579,
      "outputs": [
        {
          "output_type": "execute_result",
          "data": {
            "text/html": [
              "<div>\n",
              "<style scoped>\n",
              "    .dataframe tbody tr th:only-of-type {\n",
              "        vertical-align: middle;\n",
              "    }\n",
              "\n",
              "    .dataframe tbody tr th {\n",
              "        vertical-align: top;\n",
              "    }\n",
              "\n",
              "    .dataframe thead th {\n",
              "        text-align: right;\n",
              "    }\n",
              "</style>\n",
              "<table border=\"1\" class=\"dataframe\">\n",
              "  <thead>\n",
              "    <tr style=\"text-align: right;\">\n",
              "      <th></th>\n",
              "      <th>Seasonal</th>\n",
              "      <th>Gray_cement_dispatch_comercial</th>\n",
              "      <th>ISE</th>\n",
              "      <th>Construction_lic_area/unt_SIlag_4</th>\n",
              "      <th>Quantity_adj</th>\n",
              "    </tr>\n",
              "  </thead>\n",
              "  <tbody>\n",
              "    <tr>\n",
              "      <th>0</th>\n",
              "      <td>0.703768</td>\n",
              "      <td>-0.536381</td>\n",
              "      <td>-0.687592</td>\n",
              "      <td>1.924774</td>\n",
              "      <td>1.503548</td>\n",
              "    </tr>\n",
              "    <tr>\n",
              "      <th>1</th>\n",
              "      <td>0.325418</td>\n",
              "      <td>-0.137113</td>\n",
              "      <td>-0.608165</td>\n",
              "      <td>-0.287215</td>\n",
              "      <td>0.076213</td>\n",
              "    </tr>\n",
              "  </tbody>\n",
              "</table>\n",
              "</div>"
            ],
            "text/plain": [
              "   Seasonal  ...  Quantity_adj\n",
              "0  0.703768  ...      1.503548\n",
              "1  0.325418  ...      0.076213\n",
              "\n",
              "[2 rows x 5 columns]"
            ]
          },
          "metadata": {},
          "execution_count": 579
        }
      ]
    },
    {
      "cell_type": "code",
      "metadata": {
        "id": "d3OyC19tRPxz"
      },
      "source": [
        "# add new column called Name and fill it with Adjusted\n",
        "BoxPlotAdjustData.loc[: , 'Name'] = 'Adjusted'\n"
      ],
      "execution_count": 580,
      "outputs": []
    },
    {
      "cell_type": "code",
      "metadata": {
        "colab": {
          "base_uri": "https://localhost:8080/",
          "height": 143
        },
        "id": "TFld6S64SBAI",
        "outputId": "2d5a1a0d-253c-4cf6-db7d-9a2fcc0243ec"
      },
      "source": [
        "BoxPlotAdjustData.head(3)"
      ],
      "execution_count": 581,
      "outputs": [
        {
          "output_type": "execute_result",
          "data": {
            "text/html": [
              "<div>\n",
              "<style scoped>\n",
              "    .dataframe tbody tr th:only-of-type {\n",
              "        vertical-align: middle;\n",
              "    }\n",
              "\n",
              "    .dataframe tbody tr th {\n",
              "        vertical-align: top;\n",
              "    }\n",
              "\n",
              "    .dataframe thead th {\n",
              "        text-align: right;\n",
              "    }\n",
              "</style>\n",
              "<table border=\"1\" class=\"dataframe\">\n",
              "  <thead>\n",
              "    <tr style=\"text-align: right;\">\n",
              "      <th></th>\n",
              "      <th>Seasonal</th>\n",
              "      <th>Gray_cement_dispatch_comercial</th>\n",
              "      <th>ISE</th>\n",
              "      <th>Construction_lic_area/unt_SIlag_4</th>\n",
              "      <th>Quantity_adj</th>\n",
              "      <th>Name</th>\n",
              "    </tr>\n",
              "  </thead>\n",
              "  <tbody>\n",
              "    <tr>\n",
              "      <th>0</th>\n",
              "      <td>0.703768</td>\n",
              "      <td>-0.536381</td>\n",
              "      <td>-0.687592</td>\n",
              "      <td>1.924774</td>\n",
              "      <td>1.503548</td>\n",
              "      <td>Adjusted</td>\n",
              "    </tr>\n",
              "    <tr>\n",
              "      <th>1</th>\n",
              "      <td>0.325418</td>\n",
              "      <td>-0.137113</td>\n",
              "      <td>-0.608165</td>\n",
              "      <td>-0.287215</td>\n",
              "      <td>0.076213</td>\n",
              "      <td>Adjusted</td>\n",
              "    </tr>\n",
              "    <tr>\n",
              "      <th>2</th>\n",
              "      <td>-0.250193</td>\n",
              "      <td>0.385513</td>\n",
              "      <td>-0.770505</td>\n",
              "      <td>-1.573761</td>\n",
              "      <td>-1.346258</td>\n",
              "      <td>Adjusted</td>\n",
              "    </tr>\n",
              "  </tbody>\n",
              "</table>\n",
              "</div>"
            ],
            "text/plain": [
              "   Seasonal  Gray_cement_dispatch_comercial  ...  Quantity_adj      Name\n",
              "0  0.703768                       -0.536381  ...      1.503548  Adjusted\n",
              "1  0.325418                       -0.137113  ...      0.076213  Adjusted\n",
              "2 -0.250193                        0.385513  ...     -1.346258  Adjusted\n",
              "\n",
              "[3 rows x 6 columns]"
            ]
          },
          "metadata": {},
          "execution_count": 581
        }
      ]
    },
    {
      "cell_type": "code",
      "metadata": {
        "colab": {
          "base_uri": "https://localhost:8080/",
          "height": 423
        },
        "id": "4wA7Du-RdNgI",
        "outputId": "768bfb96-cebd-421f-de48-0d2d0ea52c3d"
      },
      "source": [
        "BoxPlotAdjustData_skinny = BoxPlotAdjustData.reset_index()\n",
        "pd.melt(BoxPlotAdjustData_skinny,id_vars='Name', value_vars=['Seasonal', 'Gray_cement_dispatch_comercial' , 'ISE' ,\n",
        "                                                          \t'Construction_lic_area/unt_SIlag_4' ,'Quantity_adj',\n",
        "                                                          ])"
      ],
      "execution_count": 612,
      "outputs": [
        {
          "output_type": "execute_result",
          "data": {
            "text/html": [
              "<div>\n",
              "<style scoped>\n",
              "    .dataframe tbody tr th:only-of-type {\n",
              "        vertical-align: middle;\n",
              "    }\n",
              "\n",
              "    .dataframe tbody tr th {\n",
              "        vertical-align: top;\n",
              "    }\n",
              "\n",
              "    .dataframe thead th {\n",
              "        text-align: right;\n",
              "    }\n",
              "</style>\n",
              "<table border=\"1\" class=\"dataframe\">\n",
              "  <thead>\n",
              "    <tr style=\"text-align: right;\">\n",
              "      <th></th>\n",
              "      <th>Name</th>\n",
              "      <th>variable</th>\n",
              "      <th>value</th>\n",
              "    </tr>\n",
              "  </thead>\n",
              "  <tbody>\n",
              "    <tr>\n",
              "      <th>0</th>\n",
              "      <td>Adjusted</td>\n",
              "      <td>Seasonal</td>\n",
              "      <td>0.703768</td>\n",
              "    </tr>\n",
              "    <tr>\n",
              "      <th>1</th>\n",
              "      <td>Adjusted</td>\n",
              "      <td>Seasonal</td>\n",
              "      <td>0.325418</td>\n",
              "    </tr>\n",
              "    <tr>\n",
              "      <th>2</th>\n",
              "      <td>Adjusted</td>\n",
              "      <td>Seasonal</td>\n",
              "      <td>-0.250193</td>\n",
              "    </tr>\n",
              "    <tr>\n",
              "      <th>3</th>\n",
              "      <td>Adjusted</td>\n",
              "      <td>Seasonal</td>\n",
              "      <td>-2.371991</td>\n",
              "    </tr>\n",
              "    <tr>\n",
              "      <th>4</th>\n",
              "      <td>Adjusted</td>\n",
              "      <td>Seasonal</td>\n",
              "      <td>-0.621405</td>\n",
              "    </tr>\n",
              "    <tr>\n",
              "      <th>...</th>\n",
              "      <td>...</td>\n",
              "      <td>...</td>\n",
              "      <td>...</td>\n",
              "    </tr>\n",
              "    <tr>\n",
              "      <th>265</th>\n",
              "      <td>Adjusted</td>\n",
              "      <td>Quantity_adj</td>\n",
              "      <td>0.903134</td>\n",
              "    </tr>\n",
              "    <tr>\n",
              "      <th>266</th>\n",
              "      <td>Adjusted</td>\n",
              "      <td>Quantity_adj</td>\n",
              "      <td>1.407546</td>\n",
              "    </tr>\n",
              "    <tr>\n",
              "      <th>267</th>\n",
              "      <td>Adjusted</td>\n",
              "      <td>Quantity_adj</td>\n",
              "      <td>0.798410</td>\n",
              "    </tr>\n",
              "    <tr>\n",
              "      <th>268</th>\n",
              "      <td>Adjusted</td>\n",
              "      <td>Quantity_adj</td>\n",
              "      <td>-0.502894</td>\n",
              "    </tr>\n",
              "    <tr>\n",
              "      <th>269</th>\n",
              "      <td>Adjusted</td>\n",
              "      <td>Quantity_adj</td>\n",
              "      <td>1.416107</td>\n",
              "    </tr>\n",
              "  </tbody>\n",
              "</table>\n",
              "<p>270 rows × 3 columns</p>\n",
              "</div>"
            ],
            "text/plain": [
              "         Name      variable     value\n",
              "0    Adjusted      Seasonal  0.703768\n",
              "1    Adjusted      Seasonal  0.325418\n",
              "2    Adjusted      Seasonal -0.250193\n",
              "3    Adjusted      Seasonal -2.371991\n",
              "4    Adjusted      Seasonal -0.621405\n",
              "..        ...           ...       ...\n",
              "265  Adjusted  Quantity_adj  0.903134\n",
              "266  Adjusted  Quantity_adj  1.407546\n",
              "267  Adjusted  Quantity_adj  0.798410\n",
              "268  Adjusted  Quantity_adj -0.502894\n",
              "269  Adjusted  Quantity_adj  1.416107\n",
              "\n",
              "[270 rows x 3 columns]"
            ]
          },
          "metadata": {},
          "execution_count": 612
        }
      ]
    },
    {
      "cell_type": "code",
      "metadata": {
        "id": "GtNrUCoUgblf"
      },
      "source": [
        "BoxPlotAdjustData_skinny2 = BoxPlotAdjustData_skinny.drop(columns=\"Name\")"
      ],
      "execution_count": 625,
      "outputs": []
    },
    {
      "cell_type": "code",
      "metadata": {
        "colab": {
          "base_uri": "https://localhost:8080/",
          "height": 206
        },
        "id": "-ssWYaoihJbR",
        "outputId": "1c5f0c00-2fb9-453f-f648-f48b42f64eed"
      },
      "source": [
        "BoxPlotAdjustData_skinny2.head()"
      ],
      "execution_count": 626,
      "outputs": [
        {
          "output_type": "execute_result",
          "data": {
            "text/html": [
              "<div>\n",
              "<style scoped>\n",
              "    .dataframe tbody tr th:only-of-type {\n",
              "        vertical-align: middle;\n",
              "    }\n",
              "\n",
              "    .dataframe tbody tr th {\n",
              "        vertical-align: top;\n",
              "    }\n",
              "\n",
              "    .dataframe thead th {\n",
              "        text-align: right;\n",
              "    }\n",
              "</style>\n",
              "<table border=\"1\" class=\"dataframe\">\n",
              "  <thead>\n",
              "    <tr style=\"text-align: right;\">\n",
              "      <th></th>\n",
              "      <th>index</th>\n",
              "      <th>Seasonal</th>\n",
              "      <th>Gray_cement_dispatch_comercial</th>\n",
              "      <th>ISE</th>\n",
              "      <th>Construction_lic_area/unt_SIlag_4</th>\n",
              "      <th>Quantity_adj</th>\n",
              "    </tr>\n",
              "  </thead>\n",
              "  <tbody>\n",
              "    <tr>\n",
              "      <th>0</th>\n",
              "      <td>0</td>\n",
              "      <td>0.703768</td>\n",
              "      <td>-0.536381</td>\n",
              "      <td>-0.687592</td>\n",
              "      <td>1.924774</td>\n",
              "      <td>1.503548</td>\n",
              "    </tr>\n",
              "    <tr>\n",
              "      <th>1</th>\n",
              "      <td>1</td>\n",
              "      <td>0.325418</td>\n",
              "      <td>-0.137113</td>\n",
              "      <td>-0.608165</td>\n",
              "      <td>-0.287215</td>\n",
              "      <td>0.076213</td>\n",
              "    </tr>\n",
              "    <tr>\n",
              "      <th>2</th>\n",
              "      <td>2</td>\n",
              "      <td>-0.250193</td>\n",
              "      <td>0.385513</td>\n",
              "      <td>-0.770505</td>\n",
              "      <td>-1.573761</td>\n",
              "      <td>-1.346258</td>\n",
              "    </tr>\n",
              "    <tr>\n",
              "      <th>3</th>\n",
              "      <td>3</td>\n",
              "      <td>-2.371991</td>\n",
              "      <td>-0.872854</td>\n",
              "      <td>-0.594309</td>\n",
              "      <td>-0.738789</td>\n",
              "      <td>-2.122585</td>\n",
              "    </tr>\n",
              "    <tr>\n",
              "      <th>4</th>\n",
              "      <td>4</td>\n",
              "      <td>-0.621405</td>\n",
              "      <td>-0.260166</td>\n",
              "      <td>-0.575749</td>\n",
              "      <td>0.417245</td>\n",
              "      <td>-0.665067</td>\n",
              "    </tr>\n",
              "  </tbody>\n",
              "</table>\n",
              "</div>"
            ],
            "text/plain": [
              "   index  Seasonal  ...  Construction_lic_area/unt_SIlag_4  Quantity_adj\n",
              "0      0  0.703768  ...                           1.924774      1.503548\n",
              "1      1  0.325418  ...                          -0.287215      0.076213\n",
              "2      2 -0.250193  ...                          -1.573761     -1.346258\n",
              "3      3 -2.371991  ...                          -0.738789     -2.122585\n",
              "4      4 -0.621405  ...                           0.417245     -0.665067\n",
              "\n",
              "[5 rows x 6 columns]"
            ]
          },
          "metadata": {},
          "execution_count": 626
        }
      ]
    },
    {
      "cell_type": "code",
      "metadata": {
        "id": "enBT4Co9hG4W"
      },
      "source": [
        ""
      ],
      "execution_count": null,
      "outputs": []
    },
    {
      "cell_type": "code",
      "metadata": {
        "colab": {
          "base_uri": "https://localhost:8080/",
          "height": 603
        },
        "id": "J4Ssb6HMSA3R",
        "outputId": "54b2867a-e595-435b-8fe7-321f7d502046"
      },
      "source": [
        "ax = sns.boxplot(x=BoxPlotAdjustData_skinny[\"Seasonal\"], y=BoxPlotAdjustData_skinny[\"variable\"],color=\"yellow\")\n",
        "\n"
      ],
      "execution_count": 623,
      "outputs": [
        {
          "output_type": "error",
          "ename": "KeyError",
          "evalue": "ignored",
          "traceback": [
            "\u001b[0;31m---------------------------------------------------------------------------\u001b[0m",
            "\u001b[0;31mKeyError\u001b[0m                                  Traceback (most recent call last)",
            "\u001b[0;32m/usr/local/lib/python3.7/dist-packages/pandas/core/indexes/base.py\u001b[0m in \u001b[0;36mget_loc\u001b[0;34m(self, key, method, tolerance)\u001b[0m\n\u001b[1;32m   2897\u001b[0m             \u001b[0;32mtry\u001b[0m\u001b[0;34m:\u001b[0m\u001b[0;34m\u001b[0m\u001b[0;34m\u001b[0m\u001b[0m\n\u001b[0;32m-> 2898\u001b[0;31m                 \u001b[0;32mreturn\u001b[0m \u001b[0mself\u001b[0m\u001b[0;34m.\u001b[0m\u001b[0m_engine\u001b[0m\u001b[0;34m.\u001b[0m\u001b[0mget_loc\u001b[0m\u001b[0;34m(\u001b[0m\u001b[0mcasted_key\u001b[0m\u001b[0;34m)\u001b[0m\u001b[0;34m\u001b[0m\u001b[0;34m\u001b[0m\u001b[0m\n\u001b[0m\u001b[1;32m   2899\u001b[0m             \u001b[0;32mexcept\u001b[0m \u001b[0mKeyError\u001b[0m \u001b[0;32mas\u001b[0m \u001b[0merr\u001b[0m\u001b[0;34m:\u001b[0m\u001b[0;34m\u001b[0m\u001b[0;34m\u001b[0m\u001b[0m\n",
            "\u001b[0;32mpandas/_libs/index.pyx\u001b[0m in \u001b[0;36mpandas._libs.index.IndexEngine.get_loc\u001b[0;34m()\u001b[0m\n",
            "\u001b[0;32mpandas/_libs/index.pyx\u001b[0m in \u001b[0;36mpandas._libs.index.IndexEngine.get_loc\u001b[0;34m()\u001b[0m\n",
            "\u001b[0;32mpandas/_libs/hashtable_class_helper.pxi\u001b[0m in \u001b[0;36mpandas._libs.hashtable.PyObjectHashTable.get_item\u001b[0;34m()\u001b[0m\n",
            "\u001b[0;32mpandas/_libs/hashtable_class_helper.pxi\u001b[0m in \u001b[0;36mpandas._libs.hashtable.PyObjectHashTable.get_item\u001b[0;34m()\u001b[0m\n",
            "\u001b[0;31mKeyError\u001b[0m: 'variable'",
            "\nThe above exception was the direct cause of the following exception:\n",
            "\u001b[0;31mKeyError\u001b[0m                                  Traceback (most recent call last)",
            "\u001b[0;32m<ipython-input-623-3abe458e80b5>\u001b[0m in \u001b[0;36m<module>\u001b[0;34m()\u001b[0m\n\u001b[0;32m----> 1\u001b[0;31m \u001b[0max\u001b[0m \u001b[0;34m=\u001b[0m \u001b[0msns\u001b[0m\u001b[0;34m.\u001b[0m\u001b[0mboxplot\u001b[0m\u001b[0;34m(\u001b[0m\u001b[0mx\u001b[0m\u001b[0;34m=\u001b[0m\u001b[0mBoxPlotAdjustData_skinny\u001b[0m\u001b[0;34m[\u001b[0m\u001b[0;34m\"Name\"\u001b[0m\u001b[0;34m]\u001b[0m\u001b[0;34m,\u001b[0m \u001b[0my\u001b[0m\u001b[0;34m=\u001b[0m\u001b[0mBoxPlotAdjustData_skinny\u001b[0m\u001b[0;34m[\u001b[0m\u001b[0;34m\"variable\"\u001b[0m\u001b[0;34m]\u001b[0m\u001b[0;34m,\u001b[0m\u001b[0mcolor\u001b[0m\u001b[0;34m=\u001b[0m\u001b[0;34m\"yellow\"\u001b[0m\u001b[0;34m)\u001b[0m\u001b[0;34m\u001b[0m\u001b[0;34m\u001b[0m\u001b[0m\n\u001b[0m\u001b[1;32m      2\u001b[0m \u001b[0;34m\u001b[0m\u001b[0m\n",
            "\u001b[0;32m/usr/local/lib/python3.7/dist-packages/pandas/core/frame.py\u001b[0m in \u001b[0;36m__getitem__\u001b[0;34m(self, key)\u001b[0m\n\u001b[1;32m   2904\u001b[0m             \u001b[0;32mif\u001b[0m \u001b[0mself\u001b[0m\u001b[0;34m.\u001b[0m\u001b[0mcolumns\u001b[0m\u001b[0;34m.\u001b[0m\u001b[0mnlevels\u001b[0m \u001b[0;34m>\u001b[0m \u001b[0;36m1\u001b[0m\u001b[0;34m:\u001b[0m\u001b[0;34m\u001b[0m\u001b[0;34m\u001b[0m\u001b[0m\n\u001b[1;32m   2905\u001b[0m                 \u001b[0;32mreturn\u001b[0m \u001b[0mself\u001b[0m\u001b[0;34m.\u001b[0m\u001b[0m_getitem_multilevel\u001b[0m\u001b[0;34m(\u001b[0m\u001b[0mkey\u001b[0m\u001b[0;34m)\u001b[0m\u001b[0;34m\u001b[0m\u001b[0;34m\u001b[0m\u001b[0m\n\u001b[0;32m-> 2906\u001b[0;31m             \u001b[0mindexer\u001b[0m \u001b[0;34m=\u001b[0m \u001b[0mself\u001b[0m\u001b[0;34m.\u001b[0m\u001b[0mcolumns\u001b[0m\u001b[0;34m.\u001b[0m\u001b[0mget_loc\u001b[0m\u001b[0;34m(\u001b[0m\u001b[0mkey\u001b[0m\u001b[0;34m)\u001b[0m\u001b[0;34m\u001b[0m\u001b[0;34m\u001b[0m\u001b[0m\n\u001b[0m\u001b[1;32m   2907\u001b[0m             \u001b[0;32mif\u001b[0m \u001b[0mis_integer\u001b[0m\u001b[0;34m(\u001b[0m\u001b[0mindexer\u001b[0m\u001b[0;34m)\u001b[0m\u001b[0;34m:\u001b[0m\u001b[0;34m\u001b[0m\u001b[0;34m\u001b[0m\u001b[0m\n\u001b[1;32m   2908\u001b[0m                 \u001b[0mindexer\u001b[0m \u001b[0;34m=\u001b[0m \u001b[0;34m[\u001b[0m\u001b[0mindexer\u001b[0m\u001b[0;34m]\u001b[0m\u001b[0;34m\u001b[0m\u001b[0;34m\u001b[0m\u001b[0m\n",
            "\u001b[0;32m/usr/local/lib/python3.7/dist-packages/pandas/core/indexes/base.py\u001b[0m in \u001b[0;36mget_loc\u001b[0;34m(self, key, method, tolerance)\u001b[0m\n\u001b[1;32m   2898\u001b[0m                 \u001b[0;32mreturn\u001b[0m \u001b[0mself\u001b[0m\u001b[0;34m.\u001b[0m\u001b[0m_engine\u001b[0m\u001b[0;34m.\u001b[0m\u001b[0mget_loc\u001b[0m\u001b[0;34m(\u001b[0m\u001b[0mcasted_key\u001b[0m\u001b[0;34m)\u001b[0m\u001b[0;34m\u001b[0m\u001b[0;34m\u001b[0m\u001b[0m\n\u001b[1;32m   2899\u001b[0m             \u001b[0;32mexcept\u001b[0m \u001b[0mKeyError\u001b[0m \u001b[0;32mas\u001b[0m \u001b[0merr\u001b[0m\u001b[0;34m:\u001b[0m\u001b[0;34m\u001b[0m\u001b[0;34m\u001b[0m\u001b[0m\n\u001b[0;32m-> 2900\u001b[0;31m                 \u001b[0;32mraise\u001b[0m \u001b[0mKeyError\u001b[0m\u001b[0;34m(\u001b[0m\u001b[0mkey\u001b[0m\u001b[0;34m)\u001b[0m \u001b[0;32mfrom\u001b[0m \u001b[0merr\u001b[0m\u001b[0;34m\u001b[0m\u001b[0;34m\u001b[0m\u001b[0m\n\u001b[0m\u001b[1;32m   2901\u001b[0m \u001b[0;34m\u001b[0m\u001b[0m\n\u001b[1;32m   2902\u001b[0m         \u001b[0;32mif\u001b[0m \u001b[0mtolerance\u001b[0m \u001b[0;32mis\u001b[0m \u001b[0;32mnot\u001b[0m \u001b[0;32mNone\u001b[0m\u001b[0;34m:\u001b[0m\u001b[0;34m\u001b[0m\u001b[0;34m\u001b[0m\u001b[0m\n",
            "\u001b[0;31mKeyError\u001b[0m: 'variable'"
          ]
        }
      ]
    },
    {
      "cell_type": "code",
      "metadata": {
        "id": "Mj4474VBdujy"
      },
      "source": [
        ""
      ],
      "execution_count": null,
      "outputs": []
    },
    {
      "cell_type": "code",
      "metadata": {
        "id": "5MbJ2dk6dubO"
      },
      "source": [
        ""
      ],
      "execution_count": null,
      "outputs": []
    },
    {
      "cell_type": "code",
      "metadata": {
        "colab": {
          "base_uri": "https://localhost:8080/",
          "height": 112
        },
        "id": "XXMmA9qrPQou",
        "outputId": "b9985053-4210-4baf-eb1f-7ba366dc6108"
      },
      "source": [
        "AUGMENTED_data.head(2)"
      ],
      "execution_count": 585,
      "outputs": [
        {
          "output_type": "execute_result",
          "data": {
            "text/html": [
              "<div>\n",
              "<style scoped>\n",
              "    .dataframe tbody tr th:only-of-type {\n",
              "        vertical-align: middle;\n",
              "    }\n",
              "\n",
              "    .dataframe tbody tr th {\n",
              "        vertical-align: top;\n",
              "    }\n",
              "\n",
              "    .dataframe thead th {\n",
              "        text-align: right;\n",
              "    }\n",
              "</style>\n",
              "<table border=\"1\" class=\"dataframe\">\n",
              "  <thead>\n",
              "    <tr style=\"text-align: right;\">\n",
              "      <th></th>\n",
              "      <th>Quantity</th>\n",
              "      <th>Seasonal</th>\n",
              "      <th>Gray_cement_dispatch_comercial</th>\n",
              "      <th>ISE</th>\n",
              "      <th>Construction_lic_area/unt_SIlag_4</th>\n",
              "      <th>Quantity_adj</th>\n",
              "      <th>Name</th>\n",
              "    </tr>\n",
              "  </thead>\n",
              "  <tbody>\n",
              "    <tr>\n",
              "      <th>0</th>\n",
              "      <td>1.540774</td>\n",
              "      <td>0.704178</td>\n",
              "      <td>-0.532235</td>\n",
              "      <td>-0.674478</td>\n",
              "      <td>1.936743</td>\n",
              "      <td>1.505335</td>\n",
              "      <td>Augmented</td>\n",
              "    </tr>\n",
              "    <tr>\n",
              "      <th>1</th>\n",
              "      <td>0.110466</td>\n",
              "      <td>0.325603</td>\n",
              "      <td>-0.132734</td>\n",
              "      <td>-0.595009</td>\n",
              "      <td>-0.276464</td>\n",
              "      <td>0.076304</td>\n",
              "      <td>Augmented</td>\n",
              "    </tr>\n",
              "  </tbody>\n",
              "</table>\n",
              "</div>"
            ],
            "text/plain": [
              "   Quantity  Seasonal  ...  Quantity_adj       Name\n",
              "0  1.540774  0.704178  ...      1.505335  Augmented\n",
              "1  0.110466  0.325603  ...      0.076304  Augmented\n",
              "\n",
              "[2 rows x 7 columns]"
            ]
          },
          "metadata": {},
          "execution_count": 585
        }
      ]
    },
    {
      "cell_type": "code",
      "metadata": {
        "id": "NXtTHgtjPQhb"
      },
      "source": [
        "BoxPlotAUGMENTEDdata = AUGMENTED_data"
      ],
      "execution_count": 583,
      "outputs": []
    },
    {
      "cell_type": "code",
      "metadata": {
        "colab": {
          "base_uri": "https://localhost:8080/",
          "height": 112
        },
        "id": "F5KmryF1V0iJ",
        "outputId": "09736c82-54bb-4ea1-b382-8067260ce8cf"
      },
      "source": [
        "BoxPlotAUGMENTEDdata = BoxPlotAUGMENTEDdata.drop(columns='Quantity')\n",
        "BoxPlotAUGMENTEDdata.head(2)"
      ],
      "execution_count": 586,
      "outputs": [
        {
          "output_type": "execute_result",
          "data": {
            "text/html": [
              "<div>\n",
              "<style scoped>\n",
              "    .dataframe tbody tr th:only-of-type {\n",
              "        vertical-align: middle;\n",
              "    }\n",
              "\n",
              "    .dataframe tbody tr th {\n",
              "        vertical-align: top;\n",
              "    }\n",
              "\n",
              "    .dataframe thead th {\n",
              "        text-align: right;\n",
              "    }\n",
              "</style>\n",
              "<table border=\"1\" class=\"dataframe\">\n",
              "  <thead>\n",
              "    <tr style=\"text-align: right;\">\n",
              "      <th></th>\n",
              "      <th>Seasonal</th>\n",
              "      <th>Gray_cement_dispatch_comercial</th>\n",
              "      <th>ISE</th>\n",
              "      <th>Construction_lic_area/unt_SIlag_4</th>\n",
              "      <th>Quantity_adj</th>\n",
              "      <th>Name</th>\n",
              "    </tr>\n",
              "  </thead>\n",
              "  <tbody>\n",
              "    <tr>\n",
              "      <th>0</th>\n",
              "      <td>0.704178</td>\n",
              "      <td>-0.532235</td>\n",
              "      <td>-0.674478</td>\n",
              "      <td>1.936743</td>\n",
              "      <td>1.505335</td>\n",
              "      <td>Augmented</td>\n",
              "    </tr>\n",
              "    <tr>\n",
              "      <th>1</th>\n",
              "      <td>0.325603</td>\n",
              "      <td>-0.132734</td>\n",
              "      <td>-0.595009</td>\n",
              "      <td>-0.276464</td>\n",
              "      <td>0.076304</td>\n",
              "      <td>Augmented</td>\n",
              "    </tr>\n",
              "  </tbody>\n",
              "</table>\n",
              "</div>"
            ],
            "text/plain": [
              "   Seasonal  Gray_cement_dispatch_comercial  ...  Quantity_adj       Name\n",
              "0  0.704178                       -0.532235  ...      1.505335  Augmented\n",
              "1  0.325603                       -0.132734  ...      0.076304  Augmented\n",
              "\n",
              "[2 rows x 6 columns]"
            ]
          },
          "metadata": {},
          "execution_count": 586
        }
      ]
    },
    {
      "cell_type": "code",
      "metadata": {
        "id": "hJGqbfZFV0Rv"
      },
      "source": [
        ""
      ],
      "execution_count": null,
      "outputs": []
    },
    {
      "cell_type": "code",
      "metadata": {
        "id": "mpKkVWvvPQmG"
      },
      "source": [
        "# add new column called Name and fill it with Adjusted\n",
        "#BoxPlotAUGMENTEDdata.loc[: , 'Name'] = 'Augmented'"
      ],
      "execution_count": 566,
      "outputs": []
    },
    {
      "cell_type": "code",
      "metadata": {
        "id": "Gs36bw49PQZE"
      },
      "source": [
        "# Stack the two data frames\n",
        "frames = [BoxPlotAUGMENTEDdata , BoxPlotAdjustData]\n",
        "concated_boxes = pd.concat(frames) \n"
      ],
      "execution_count": 587,
      "outputs": []
    },
    {
      "cell_type": "code",
      "metadata": {
        "colab": {
          "base_uri": "https://localhost:8080/",
          "height": 143
        },
        "id": "9ot5ST5SSiV5",
        "outputId": "b2f4c69b-528f-4b4e-9d1e-4e65d34a066d"
      },
      "source": [
        "concated_boxes.head(3)"
      ],
      "execution_count": 588,
      "outputs": [
        {
          "output_type": "execute_result",
          "data": {
            "text/html": [
              "<div>\n",
              "<style scoped>\n",
              "    .dataframe tbody tr th:only-of-type {\n",
              "        vertical-align: middle;\n",
              "    }\n",
              "\n",
              "    .dataframe tbody tr th {\n",
              "        vertical-align: top;\n",
              "    }\n",
              "\n",
              "    .dataframe thead th {\n",
              "        text-align: right;\n",
              "    }\n",
              "</style>\n",
              "<table border=\"1\" class=\"dataframe\">\n",
              "  <thead>\n",
              "    <tr style=\"text-align: right;\">\n",
              "      <th></th>\n",
              "      <th>Seasonal</th>\n",
              "      <th>Gray_cement_dispatch_comercial</th>\n",
              "      <th>ISE</th>\n",
              "      <th>Construction_lic_area/unt_SIlag_4</th>\n",
              "      <th>Quantity_adj</th>\n",
              "      <th>Name</th>\n",
              "    </tr>\n",
              "  </thead>\n",
              "  <tbody>\n",
              "    <tr>\n",
              "      <th>0</th>\n",
              "      <td>0.704178</td>\n",
              "      <td>-0.532235</td>\n",
              "      <td>-0.674478</td>\n",
              "      <td>1.936743</td>\n",
              "      <td>1.505335</td>\n",
              "      <td>Augmented</td>\n",
              "    </tr>\n",
              "    <tr>\n",
              "      <th>1</th>\n",
              "      <td>0.325603</td>\n",
              "      <td>-0.132734</td>\n",
              "      <td>-0.595009</td>\n",
              "      <td>-0.276464</td>\n",
              "      <td>0.076304</td>\n",
              "      <td>Augmented</td>\n",
              "    </tr>\n",
              "    <tr>\n",
              "      <th>2</th>\n",
              "      <td>-0.250349</td>\n",
              "      <td>0.390199</td>\n",
              "      <td>-0.757434</td>\n",
              "      <td>-1.563719</td>\n",
              "      <td>-1.347858</td>\n",
              "      <td>Augmented</td>\n",
              "    </tr>\n",
              "  </tbody>\n",
              "</table>\n",
              "</div>"
            ],
            "text/plain": [
              "   Seasonal  Gray_cement_dispatch_comercial  ...  Quantity_adj       Name\n",
              "0  0.704178                       -0.532235  ...      1.505335  Augmented\n",
              "1  0.325603                       -0.132734  ...      0.076304  Augmented\n",
              "2 -0.250349                        0.390199  ...     -1.347858  Augmented\n",
              "\n",
              "[3 rows x 6 columns]"
            ]
          },
          "metadata": {},
          "execution_count": 588
        }
      ]
    },
    {
      "cell_type": "code",
      "metadata": {
        "colab": {
          "base_uri": "https://localhost:8080/",
          "height": 143
        },
        "id": "936FvnLySiTp",
        "outputId": "bc6a55b2-3bc4-4ef9-95a7-fc5776da623e"
      },
      "source": [
        "concated_boxes.tail(3)"
      ],
      "execution_count": 589,
      "outputs": [
        {
          "output_type": "execute_result",
          "data": {
            "text/html": [
              "<div>\n",
              "<style scoped>\n",
              "    .dataframe tbody tr th:only-of-type {\n",
              "        vertical-align: middle;\n",
              "    }\n",
              "\n",
              "    .dataframe tbody tr th {\n",
              "        vertical-align: top;\n",
              "    }\n",
              "\n",
              "    .dataframe thead th {\n",
              "        text-align: right;\n",
              "    }\n",
              "</style>\n",
              "<table border=\"1\" class=\"dataframe\">\n",
              "  <thead>\n",
              "    <tr style=\"text-align: right;\">\n",
              "      <th></th>\n",
              "      <th>Seasonal</th>\n",
              "      <th>Gray_cement_dispatch_comercial</th>\n",
              "      <th>ISE</th>\n",
              "      <th>Construction_lic_area/unt_SIlag_4</th>\n",
              "      <th>Quantity_adj</th>\n",
              "      <th>Name</th>\n",
              "    </tr>\n",
              "  </thead>\n",
              "  <tbody>\n",
              "    <tr>\n",
              "      <th>51</th>\n",
              "      <td>-2.371991</td>\n",
              "      <td>0.775629</td>\n",
              "      <td>0.814804</td>\n",
              "      <td>-0.181779</td>\n",
              "      <td>0.798410</td>\n",
              "      <td>Adjusted</td>\n",
              "    </tr>\n",
              "    <tr>\n",
              "      <th>52</th>\n",
              "      <td>-0.621405</td>\n",
              "      <td>-1.370725</td>\n",
              "      <td>-0.442503</td>\n",
              "      <td>0.553221</td>\n",
              "      <td>-0.502894</td>\n",
              "      <td>Adjusted</td>\n",
              "    </tr>\n",
              "    <tr>\n",
              "      <th>53</th>\n",
              "      <td>-0.911472</td>\n",
              "      <td>0.947438</td>\n",
              "      <td>1.204245</td>\n",
              "      <td>0.798963</td>\n",
              "      <td>1.416107</td>\n",
              "      <td>Adjusted</td>\n",
              "    </tr>\n",
              "  </tbody>\n",
              "</table>\n",
              "</div>"
            ],
            "text/plain": [
              "    Seasonal  Gray_cement_dispatch_comercial  ...  Quantity_adj      Name\n",
              "51 -2.371991                        0.775629  ...      0.798410  Adjusted\n",
              "52 -0.621405                       -1.370725  ...     -0.502894  Adjusted\n",
              "53 -0.911472                        0.947438  ...      1.416107  Adjusted\n",
              "\n",
              "[3 rows x 6 columns]"
            ]
          },
          "metadata": {},
          "execution_count": 589
        }
      ]
    },
    {
      "cell_type": "code",
      "metadata": {
        "colab": {
          "base_uri": "https://localhost:8080/",
          "height": 423
        },
        "id": "C_-oEXkYWk1p",
        "outputId": "739da39e-e846-453b-e9f5-00b01eba4ce8"
      },
      "source": [
        "concated_boxes_skinny = concated_boxes.reset_index()\n",
        "pd.melt(concated_boxes_skinny,id_vars='Name', value_vars=['Seasonal', 'Gray_cement_dispatch_comercial' , 'ISE' ,\n",
        "                                                          \t'Construction_lic_area/unt_SIlag_4' ,'Quantity_adj',\n",
        "                                                          ])"
      ],
      "execution_count": 602,
      "outputs": [
        {
          "output_type": "execute_result",
          "data": {
            "text/html": [
              "<div>\n",
              "<style scoped>\n",
              "    .dataframe tbody tr th:only-of-type {\n",
              "        vertical-align: middle;\n",
              "    }\n",
              "\n",
              "    .dataframe tbody tr th {\n",
              "        vertical-align: top;\n",
              "    }\n",
              "\n",
              "    .dataframe thead th {\n",
              "        text-align: right;\n",
              "    }\n",
              "</style>\n",
              "<table border=\"1\" class=\"dataframe\">\n",
              "  <thead>\n",
              "    <tr style=\"text-align: right;\">\n",
              "      <th></th>\n",
              "      <th>Name</th>\n",
              "      <th>variable</th>\n",
              "      <th>value</th>\n",
              "    </tr>\n",
              "  </thead>\n",
              "  <tbody>\n",
              "    <tr>\n",
              "      <th>0</th>\n",
              "      <td>Augmented</td>\n",
              "      <td>Seasonal</td>\n",
              "      <td>0.704178</td>\n",
              "    </tr>\n",
              "    <tr>\n",
              "      <th>1</th>\n",
              "      <td>Augmented</td>\n",
              "      <td>Seasonal</td>\n",
              "      <td>0.325603</td>\n",
              "    </tr>\n",
              "    <tr>\n",
              "      <th>2</th>\n",
              "      <td>Augmented</td>\n",
              "      <td>Seasonal</td>\n",
              "      <td>-0.250349</td>\n",
              "    </tr>\n",
              "    <tr>\n",
              "      <th>3</th>\n",
              "      <td>Augmented</td>\n",
              "      <td>Seasonal</td>\n",
              "      <td>-2.373407</td>\n",
              "    </tr>\n",
              "    <tr>\n",
              "      <th>4</th>\n",
              "      <td>Augmented</td>\n",
              "      <td>Seasonal</td>\n",
              "      <td>-0.621782</td>\n",
              "    </tr>\n",
              "    <tr>\n",
              "      <th>...</th>\n",
              "      <td>...</td>\n",
              "      <td>...</td>\n",
              "      <td>...</td>\n",
              "    </tr>\n",
              "    <tr>\n",
              "      <th>17545</th>\n",
              "      <td>Adjusted</td>\n",
              "      <td>Quantity_adj</td>\n",
              "      <td>0.903134</td>\n",
              "    </tr>\n",
              "    <tr>\n",
              "      <th>17546</th>\n",
              "      <td>Adjusted</td>\n",
              "      <td>Quantity_adj</td>\n",
              "      <td>1.407546</td>\n",
              "    </tr>\n",
              "    <tr>\n",
              "      <th>17547</th>\n",
              "      <td>Adjusted</td>\n",
              "      <td>Quantity_adj</td>\n",
              "      <td>0.798410</td>\n",
              "    </tr>\n",
              "    <tr>\n",
              "      <th>17548</th>\n",
              "      <td>Adjusted</td>\n",
              "      <td>Quantity_adj</td>\n",
              "      <td>-0.502894</td>\n",
              "    </tr>\n",
              "    <tr>\n",
              "      <th>17549</th>\n",
              "      <td>Adjusted</td>\n",
              "      <td>Quantity_adj</td>\n",
              "      <td>1.416107</td>\n",
              "    </tr>\n",
              "  </tbody>\n",
              "</table>\n",
              "<p>17550 rows × 3 columns</p>\n",
              "</div>"
            ],
            "text/plain": [
              "            Name      variable     value\n",
              "0      Augmented      Seasonal  0.704178\n",
              "1      Augmented      Seasonal  0.325603\n",
              "2      Augmented      Seasonal -0.250349\n",
              "3      Augmented      Seasonal -2.373407\n",
              "4      Augmented      Seasonal -0.621782\n",
              "...          ...           ...       ...\n",
              "17545   Adjusted  Quantity_adj  0.903134\n",
              "17546   Adjusted  Quantity_adj  1.407546\n",
              "17547   Adjusted  Quantity_adj  0.798410\n",
              "17548   Adjusted  Quantity_adj -0.502894\n",
              "17549   Adjusted  Quantity_adj  1.416107\n",
              "\n",
              "[17550 rows x 3 columns]"
            ]
          },
          "metadata": {},
          "execution_count": 602
        }
      ]
    },
    {
      "cell_type": "code",
      "metadata": {
        "id": "g-WtJJo6c_Mz"
      },
      "source": [
        "ax = sns.boxplot(x= )"
      ],
      "execution_count": null,
      "outputs": []
    },
    {
      "cell_type": "code",
      "metadata": {
        "id": "-2voUKy6e7Ni"
      },
      "source": [
        "sns.boxplot(x= )"
      ],
      "execution_count": null,
      "outputs": []
    },
    {
      "cell_type": "code",
      "metadata": {
        "id": "druSS3FPe7Ht"
      },
      "source": [
        ""
      ],
      "execution_count": null,
      "outputs": []
    },
    {
      "cell_type": "code",
      "metadata": {
        "id": "K6JqEi6sWkvP"
      },
      "source": [
        "\n",
        "import matplotlib.pyplot as plt\n",
        "import seaborn as sns\n",
        "import numpy as np\n",
        "import pandas as pd\n",
        "from random import randint, gauss"
      ],
      "execution_count": 596,
      "outputs": []
    },
    {
      "cell_type": "code",
      "metadata": {
        "id": "5xfEOfMSZDBg"
      },
      "source": [
        "# create a DataFrame\n",
        "df = pd.DataFrame({\n",
        "    'Sensations':[randint(1,3) for i in range(300)]\n",
        "})\n",
        "df['Temperature'] = df['Sensations'].map(lambda x: gauss(0.8/x,0.1)*40)\n",
        "df['Sensations'] = df['Sensations'].map({1:'hot',2:'normal',3:'cold'})\n"
      ],
      "execution_count": 597,
      "outputs": []
    },
    {
      "cell_type": "code",
      "metadata": {
        "colab": {
          "base_uri": "https://localhost:8080/",
          "height": 143
        },
        "id": "FgCXTsSBZC8G",
        "outputId": "379b49e0-338f-4281-ec03-ac61eae75dd9"
      },
      "source": [
        "df.head(3)"
      ],
      "execution_count": 599,
      "outputs": [
        {
          "output_type": "execute_result",
          "data": {
            "text/html": [
              "<div>\n",
              "<style scoped>\n",
              "    .dataframe tbody tr th:only-of-type {\n",
              "        vertical-align: middle;\n",
              "    }\n",
              "\n",
              "    .dataframe tbody tr th {\n",
              "        vertical-align: top;\n",
              "    }\n",
              "\n",
              "    .dataframe thead th {\n",
              "        text-align: right;\n",
              "    }\n",
              "</style>\n",
              "<table border=\"1\" class=\"dataframe\">\n",
              "  <thead>\n",
              "    <tr style=\"text-align: right;\">\n",
              "      <th></th>\n",
              "      <th>Sensations</th>\n",
              "      <th>Temperature</th>\n",
              "    </tr>\n",
              "  </thead>\n",
              "  <tbody>\n",
              "    <tr>\n",
              "      <th>0</th>\n",
              "      <td>cold</td>\n",
              "      <td>9.117747</td>\n",
              "    </tr>\n",
              "    <tr>\n",
              "      <th>1</th>\n",
              "      <td>cold</td>\n",
              "      <td>6.748845</td>\n",
              "    </tr>\n",
              "    <tr>\n",
              "      <th>2</th>\n",
              "      <td>normal</td>\n",
              "      <td>20.175145</td>\n",
              "    </tr>\n",
              "  </tbody>\n",
              "</table>\n",
              "</div>"
            ],
            "text/plain": [
              "  Sensations  Temperature\n",
              "0       cold     9.117747\n",
              "1       cold     6.748845\n",
              "2     normal    20.175145"
            ]
          },
          "metadata": {},
          "execution_count": 599
        }
      ]
    },
    {
      "cell_type": "code",
      "metadata": {
        "colab": {
          "base_uri": "https://localhost:8080/",
          "height": 278
        },
        "id": "VWYyub07ZC4V",
        "outputId": "cf1b1a95-e185-49a8-d287-e4643c9a1951"
      },
      "source": [
        "# create plot\n",
        "ax = sns.boxplot(x=\"Sensations\", y=\"Temperature\", data=df)\n",
        "\n",
        "# show plot\n",
        "plt.show()\n"
      ],
      "execution_count": 600,
      "outputs": [
        {
          "output_type": "display_data",
          "data": {
            "image/png": "[encoded data removed]",
            "text/plain": [
              "<Figure size 432x288 with 1 Axes>"
            ]
          },
          "metadata": {
            "needs_background": "light"
          }
        }
      ]
    },
    {
      "cell_type": "code",
      "metadata": {
        "id": "P7Vmht7WZCzJ"
      },
      "source": [
        ""
      ],
      "execution_count": null,
      "outputs": []
    },
    {
      "cell_type": "code",
      "metadata": {
        "colab": {
          "base_uri": "https://localhost:8080/",
          "height": 363
        },
        "id": "5ylqV9uVT01s",
        "outputId": "192a0a1c-08f4-49db-8aaf-fee010ec2868"
      },
      "source": [
        "ax = sns.boxplot(x= 'variable' , y = 'value' , data = concated_boxes_skinny)\n",
        "# show plot\n",
        "plt.show()\n"
      ],
      "execution_count": 594,
      "outputs": [
        {
          "output_type": "error",
          "ename": "ValueError",
          "evalue": "ignored",
          "traceback": [
            "\u001b[0;31m---------------------------------------------------------------------------\u001b[0m",
            "\u001b[0;31mValueError\u001b[0m                                Traceback (most recent call last)",
            "\u001b[0;32m<ipython-input-594-7c9b863e0fc6>\u001b[0m in \u001b[0;36m<module>\u001b[0;34m()\u001b[0m\n\u001b[0;32m----> 1\u001b[0;31m \u001b[0max\u001b[0m \u001b[0;34m=\u001b[0m \u001b[0msns\u001b[0m\u001b[0;34m.\u001b[0m\u001b[0mboxplot\u001b[0m\u001b[0;34m(\u001b[0m\u001b[0mx\u001b[0m\u001b[0;34m=\u001b[0m \u001b[0;34m'variable'\u001b[0m \u001b[0;34m,\u001b[0m \u001b[0my\u001b[0m \u001b[0;34m=\u001b[0m \u001b[0;34m'value'\u001b[0m \u001b[0;34m,\u001b[0m \u001b[0mdata\u001b[0m \u001b[0;34m=\u001b[0m \u001b[0mconcated_boxes_skinny\u001b[0m \u001b[0;34m)\u001b[0m\u001b[0;34m\u001b[0m\u001b[0;34m\u001b[0m\u001b[0m\n\u001b[0m\u001b[1;32m      2\u001b[0m \u001b[0;31m# show plot\u001b[0m\u001b[0;34m\u001b[0m\u001b[0;34m\u001b[0m\u001b[0;34m\u001b[0m\u001b[0m\n\u001b[1;32m      3\u001b[0m \u001b[0mplt\u001b[0m\u001b[0;34m.\u001b[0m\u001b[0mshow\u001b[0m\u001b[0;34m(\u001b[0m\u001b[0;34m)\u001b[0m\u001b[0;34m\u001b[0m\u001b[0;34m\u001b[0m\u001b[0m\n",
            "\u001b[0;32m/usr/local/lib/python3.7/dist-packages/seaborn/_decorators.py\u001b[0m in \u001b[0;36minner_f\u001b[0;34m(*args, **kwargs)\u001b[0m\n\u001b[1;32m     44\u001b[0m             )\n\u001b[1;32m     45\u001b[0m         \u001b[0mkwargs\u001b[0m\u001b[0;34m.\u001b[0m\u001b[0mupdate\u001b[0m\u001b[0;34m(\u001b[0m\u001b[0;34m{\u001b[0m\u001b[0mk\u001b[0m\u001b[0;34m:\u001b[0m \u001b[0marg\u001b[0m \u001b[0;32mfor\u001b[0m \u001b[0mk\u001b[0m\u001b[0;34m,\u001b[0m \u001b[0marg\u001b[0m \u001b[0;32min\u001b[0m \u001b[0mzip\u001b[0m\u001b[0;34m(\u001b[0m\u001b[0msig\u001b[0m\u001b[0;34m.\u001b[0m\u001b[0mparameters\u001b[0m\u001b[0;34m,\u001b[0m \u001b[0margs\u001b[0m\u001b[0;34m)\u001b[0m\u001b[0;34m}\u001b[0m\u001b[0;34m)\u001b[0m\u001b[0;34m\u001b[0m\u001b[0;34m\u001b[0m\u001b[0m\n\u001b[0;32m---> 46\u001b[0;31m         \u001b[0;32mreturn\u001b[0m \u001b[0mf\u001b[0m\u001b[0;34m(\u001b[0m\u001b[0;34m**\u001b[0m\u001b[0mkwargs\u001b[0m\u001b[0;34m)\u001b[0m\u001b[0;34m\u001b[0m\u001b[0;34m\u001b[0m\u001b[0m\n\u001b[0m\u001b[1;32m     47\u001b[0m     \u001b[0;32mreturn\u001b[0m \u001b[0minner_f\u001b[0m\u001b[0;34m\u001b[0m\u001b[0;34m\u001b[0m\u001b[0m\n\u001b[1;32m     48\u001b[0m \u001b[0;34m\u001b[0m\u001b[0m\n",
            "\u001b[0;32m/usr/local/lib/python3.7/dist-packages/seaborn/categorical.py\u001b[0m in \u001b[0;36mboxplot\u001b[0;34m(x, y, hue, data, order, hue_order, orient, color, palette, saturation, width, dodge, fliersize, linewidth, whis, ax, **kwargs)\u001b[0m\n\u001b[1;32m   2243\u001b[0m     plotter = _BoxPlotter(x, y, hue, data, order, hue_order,\n\u001b[1;32m   2244\u001b[0m                           \u001b[0morient\u001b[0m\u001b[0;34m,\u001b[0m \u001b[0mcolor\u001b[0m\u001b[0;34m,\u001b[0m \u001b[0mpalette\u001b[0m\u001b[0;34m,\u001b[0m \u001b[0msaturation\u001b[0m\u001b[0;34m,\u001b[0m\u001b[0;34m\u001b[0m\u001b[0;34m\u001b[0m\u001b[0m\n\u001b[0;32m-> 2245\u001b[0;31m                           width, dodge, fliersize, linewidth)\n\u001b[0m\u001b[1;32m   2246\u001b[0m \u001b[0;34m\u001b[0m\u001b[0m\n\u001b[1;32m   2247\u001b[0m     \u001b[0;32mif\u001b[0m \u001b[0max\u001b[0m \u001b[0;32mis\u001b[0m \u001b[0;32mNone\u001b[0m\u001b[0;34m:\u001b[0m\u001b[0;34m\u001b[0m\u001b[0;34m\u001b[0m\u001b[0m\n",
            "\u001b[0;32m/usr/local/lib/python3.7/dist-packages/seaborn/categorical.py\u001b[0m in \u001b[0;36m__init__\u001b[0;34m(self, x, y, hue, data, order, hue_order, orient, color, palette, saturation, width, dodge, fliersize, linewidth)\u001b[0m\n\u001b[1;32m    404\u001b[0m                  width, dodge, fliersize, linewidth):\n\u001b[1;32m    405\u001b[0m \u001b[0;34m\u001b[0m\u001b[0m\n\u001b[0;32m--> 406\u001b[0;31m         \u001b[0mself\u001b[0m\u001b[0;34m.\u001b[0m\u001b[0mestablish_variables\u001b[0m\u001b[0;34m(\u001b[0m\u001b[0mx\u001b[0m\u001b[0;34m,\u001b[0m \u001b[0my\u001b[0m\u001b[0;34m,\u001b[0m \u001b[0mhue\u001b[0m\u001b[0;34m,\u001b[0m \u001b[0mdata\u001b[0m\u001b[0;34m,\u001b[0m \u001b[0morient\u001b[0m\u001b[0;34m,\u001b[0m \u001b[0morder\u001b[0m\u001b[0;34m,\u001b[0m \u001b[0mhue_order\u001b[0m\u001b[0;34m)\u001b[0m\u001b[0;34m\u001b[0m\u001b[0;34m\u001b[0m\u001b[0m\n\u001b[0m\u001b[1;32m    407\u001b[0m         \u001b[0mself\u001b[0m\u001b[0;34m.\u001b[0m\u001b[0mestablish_colors\u001b[0m\u001b[0;34m(\u001b[0m\u001b[0mcolor\u001b[0m\u001b[0;34m,\u001b[0m \u001b[0mpalette\u001b[0m\u001b[0;34m,\u001b[0m \u001b[0msaturation\u001b[0m\u001b[0;34m)\u001b[0m\u001b[0;34m\u001b[0m\u001b[0;34m\u001b[0m\u001b[0m\n\u001b[1;32m    408\u001b[0m \u001b[0;34m\u001b[0m\u001b[0m\n",
            "\u001b[0;32m/usr/local/lib/python3.7/dist-packages/seaborn/categorical.py\u001b[0m in \u001b[0;36mestablish_variables\u001b[0;34m(self, x, y, hue, data, orient, order, hue_order, units)\u001b[0m\n\u001b[1;32m    151\u001b[0m                 \u001b[0;32mif\u001b[0m \u001b[0misinstance\u001b[0m\u001b[0;34m(\u001b[0m\u001b[0mvar\u001b[0m\u001b[0;34m,\u001b[0m \u001b[0mstr\u001b[0m\u001b[0;34m)\u001b[0m\u001b[0;34m:\u001b[0m\u001b[0;34m\u001b[0m\u001b[0;34m\u001b[0m\u001b[0m\n\u001b[1;32m    152\u001b[0m                     \u001b[0merr\u001b[0m \u001b[0;34m=\u001b[0m \u001b[0;34m\"Could not interpret input '{}'\"\u001b[0m\u001b[0;34m.\u001b[0m\u001b[0mformat\u001b[0m\u001b[0;34m(\u001b[0m\u001b[0mvar\u001b[0m\u001b[0;34m)\u001b[0m\u001b[0;34m\u001b[0m\u001b[0;34m\u001b[0m\u001b[0m\n\u001b[0;32m--> 153\u001b[0;31m                     \u001b[0;32mraise\u001b[0m \u001b[0mValueError\u001b[0m\u001b[0;34m(\u001b[0m\u001b[0merr\u001b[0m\u001b[0;34m)\u001b[0m\u001b[0;34m\u001b[0m\u001b[0;34m\u001b[0m\u001b[0m\n\u001b[0m\u001b[1;32m    154\u001b[0m \u001b[0;34m\u001b[0m\u001b[0m\n\u001b[1;32m    155\u001b[0m             \u001b[0;31m# Figure out the plotting orientation\u001b[0m\u001b[0;34m\u001b[0m\u001b[0;34m\u001b[0m\u001b[0;34m\u001b[0m\u001b[0m\n",
            "\u001b[0;31mValueError\u001b[0m: Could not interpret input 'variable'"
          ]
        }
      ]
    },
    {
      "cell_type": "code",
      "metadata": {
        "id": "akuEG-n9T0wQ"
      },
      "source": [
        ""
      ],
      "execution_count": null,
      "outputs": []
    },
    {
      "cell_type": "code",
      "metadata": {
        "id": "8s9gOoIWSiOM"
      },
      "source": [
        "ax = sns.boxplot(x=\"Location\", y=\"value\", hue=\"Letter\", data=mdf)    \n",
        "plt.show()"
      ],
      "execution_count": null,
      "outputs": []
    },
    {
      "cell_type": "code",
      "metadata": {
        "id": "0cna5_3ATTEQ"
      },
      "source": [
        "ax = sns.boxplot(x=\"Name\", y=\"value\", hue=\"Letter\", data=mdf)    \n",
        "plt.show()"
      ],
      "execution_count": null,
      "outputs": []
    },
    {
      "cell_type": "code",
      "metadata": {
        "id": "ClfQRqOgTTCI"
      },
      "source": [
        ""
      ],
      "execution_count": null,
      "outputs": []
    },
    {
      "cell_type": "code",
      "metadata": {
        "id": "J3BmGcJyTS8s"
      },
      "source": [
        ""
      ],
      "execution_count": null,
      "outputs": []
    },
    {
      "cell_type": "code",
      "metadata": {
        "id": "zc_BoI6kTS6z"
      },
      "source": [
        ""
      ],
      "execution_count": null,
      "outputs": []
    },
    {
      "cell_type": "code",
      "metadata": {
        "id": "MmldPLCoTS4v"
      },
      "source": [
        ""
      ],
      "execution_count": null,
      "outputs": []
    },
    {
      "cell_type": "code",
      "metadata": {
        "id": "koMILoqpTSz6"
      },
      "source": [
        ""
      ],
      "execution_count": null,
      "outputs": []
    },
    {
      "cell_type": "code",
      "metadata": {
        "id": "oG-dRt5VTSwd"
      },
      "source": [
        ""
      ],
      "execution_count": null,
      "outputs": []
    },
    {
      "cell_type": "code",
      "metadata": {
        "id": "HsjZtGvdTSrP"
      },
      "source": [
        ""
      ],
      "execution_count": null,
      "outputs": []
    },
    {
      "cell_type": "code",
      "metadata": {
        "id": "ab6Y1qoXYwkw"
      },
      "source": [
        "########################"
      ],
      "execution_count": 492,
      "outputs": []
    },
    {
      "cell_type": "code",
      "metadata": {
        "id": "6CiroKIofPEF"
      },
      "source": [
        "# TOL tells LAsso when to stop searching for some min \n",
        "# value .  \n",
        "\n",
        "# Teh default is 1 / 10,ooo.\n",
        "# Ours ran on any # greater thna tha\n",
        "#tols = [0.0001 #, 0.001, 0.01, 0.1, 1]\n",
        "#LassoReg = LassoCV(alphas = 0.1,cv = 54, random_state=1, tol =1).fit(X, y)"
      ],
      "execution_count": null,
      "outputs": []
    },
    {
      "cell_type": "code",
      "metadata": {
        "id": "GpTGQvjvqzlZ"
      },
      "source": [
        "# Alpha scores\n",
        "# https://scipy-lectures.org/packages/scikit-learn/auto_examples/plot_linear_model_cv.html\n",
        "'''\n",
        "import numpy as np\n",
        "from matplotlib import pyplot as plt\n",
        "\n",
        "alphas = np.logspace(-3, -1, 30)\n",
        "\n",
        "plt.figure(figsize=(5, 3))\n",
        "\n",
        "for Model in [Lasso]:\n",
        "    scores = [cross_val_score(Model(alpha), X, y, cv=3).mean()\n",
        "            for alpha in alphas]\n",
        "    plt.plot(alphas, scores, label=Model.__name__)\n",
        "\n",
        "plt.legend(loc='lower left')\n",
        "plt.xlabel('alpha')\n",
        "plt.ylabel('cross validation score')\n",
        "plt.tight_layout()\n",
        "plt.show()"
      ],
      "execution_count": null,
      "outputs": []
    }
  ]
}