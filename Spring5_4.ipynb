{
  "nbformat": 4,
  "nbformat_minor": 0,
  "metadata": {
    "colab": {
      "name": "Spring5_4.ipynb",
      "provenance": [],
      "collapsed_sections": [],
      "authorship_tag": "ABX9TyN3gqFPAlYk1KFBX4/Al2Qt",
      "include_colab_link": true
    },
    "kernelspec": {
      "name": "python3",
      "display_name": "Python 3"
    },
    "language_info": {
      "name": "python"
    }
  },
  "cells": [
    {
      "cell_type": "markdown",
      "metadata": {
        "id": "view-in-github",
        "colab_type": "text"
      },
      "source": [
        "<a href=\"https://colab.research.google.com/github/JF11579/Adelphi/blob/main/Spring5_4.ipynb\" target=\"_parent\"><img src=\"https://colab.research.google.com/assets/colab-badge.svg\" alt=\"Open In Colab\"/></a>"
      ]
    },
    {
      "cell_type": "markdown",
      "metadata": {
        "id": "YIrx0mfJIeSX"
      },
      "source": [
        "# This one uses just 5 features"
      ]
    },
    {
      "cell_type": "markdown",
      "metadata": {
        "id": "uHUbXSBoJLth"
      },
      "source": [
        "# Steps\n",
        "\n",
        "\n",
        "1.   Subest Data\n",
        "2.   Run Lasso on the Orig Data \n",
        "      Change split 3 times and change Alpha 3 x\n",
        "3.  Now try adjusted data\n",
        "      plug in Avg April sales\n",
        "4.  Lastly use augmented data.\n",
        "\n"
      ]
    },
    {
      "cell_type": "markdown",
      "metadata": {
        "id": "RZpD513TI2qa"
      },
      "source": [
        "# Libraries"
      ]
    },
    {
      "cell_type": "code",
      "metadata": {
        "id": "mwZG7WLaKEb_"
      },
      "source": [
        "import pandas as pd  \n",
        "import numpy as np  \n",
        "import matplotlib.pyplot as plt  \n",
        "from matplotlib import pyplot\n",
        "import seaborn as sns\n",
        "import pandas\n",
        "from sklearn.model_selection import train_test_split #Split data in testing and training\n",
        "\n",
        "from sklearn.linear_model import LinearRegression\n",
        "from sklearn.linear_model import Ridge\n",
        "from sklearn.linear_model import Lasso\n",
        "from sklearn.linear_model import ElasticNet\n",
        "\n",
        "from sklearn import metrics\n",
        "import urllib\n",
        "\n",
        "import datetime as dt\n",
        "from sklearn.pipeline import make_pipeline\n",
        "from sklearn.pipeline import Pipeline\n",
        "from sklearn.model_selection import GridSearchCV\n",
        "from sklearn.preprocessing import StandardScaler\n",
        "\n",
        "\n",
        "# evaluate an lasso regression model on the dataset\n",
        "from numpy import mean\n",
        "from numpy import std\n",
        "from numpy import absolute\n",
        "from pandas import read_csv\n",
        "from sklearn.model_selection import cross_val_score\n",
        "from sklearn.model_selection import RepeatedKFold\n",
        "from numpy import arange\n",
        "\n",
        "from yellowbrick.features import ParallelCoordinates\n",
        "# use automatically configured the lasso regression algorithm\n",
        "from sklearn.linear_model import LassoCV\n",
        "import plotly.express as px\n",
        "from sklearn import metrics\n",
        "import urllib\n",
        "from sklearn.linear_model import LassoCV\n",
        "from sklearn.datasets import make_regression"
      ],
      "execution_count": 224,
      "outputs": []
    },
    {
      "cell_type": "markdown",
      "metadata": {
        "id": "zN6FvrFRKNqJ"
      },
      "source": [
        "# Juans code and Metrics"
      ]
    },
    {
      "cell_type": "markdown",
      "metadata": {
        "id": "P4DQXQ8SK8IW"
      },
      "source": [
        "Create Prediction Plots"
      ]
    },
    {
      "cell_type": "code",
      "metadata": {
        "id": "dUg9rtHwKTAV"
      },
      "source": [
        "def Prediction_Plots(y_train, y_pred_Train, y_test, y_pred_Test):\n",
        "    fig, ax = plt.subplots(ncols=2, figsize=(10,4))\n",
        "\n",
        "    ax[0].scatter(y_train, y_pred_Train)\n",
        "    ax[0].set_ylim(0,3)\n",
        "    ax[0].set_xlim(0,3)\n",
        "    ax[0].grid()\n",
        "    ax[0].set_xlabel('y')\n",
        "    ax[0].set_ylabel('yhat')\n",
        "    ax[0].set_title('Training Set')\n",
        "\n",
        "\n",
        "    ax[1].scatter(y_test, y_pred_Test)\n",
        "    ax[1].set_ylim(0,3)\n",
        "    ax[1].set_xlim(0,3)\n",
        "    ax[1].grid()\n",
        "    ax[1].set_xlabel('y')\n",
        "    ax[1].set_ylabel('yhat')\n",
        "    ax[1].set_title('Testing Set')\n",
        "    plt.show()\n",
        "    return()"
      ],
      "execution_count": 225,
      "outputs": []
    },
    {
      "cell_type": "markdown",
      "metadata": {
        "id": "AGJwDoj9LAiK"
      },
      "source": [
        "Print Metrics"
      ]
    },
    {
      "cell_type": "code",
      "metadata": {
        "id": "3qXeQonwKS4o"
      },
      "source": [
        "def Metrics_Printer(y_train, y_pred_Train, y_test, y_pred_Test):\n",
        "    print('Training Metrics:')\n",
        "    print('R squared:', metrics.r2_score(y_train, y_pred_Train))\n",
        "    print('Mean Absolute Error:', metrics.mean_absolute_error(y_train, y_pred_Train))  \n",
        "    print('Mean Squared Error:', metrics.mean_squared_error(y_train, y_pred_Train))  \n",
        "    print('Root Mean Squared Error:', np.sqrt(metrics.mean_squared_error(y_train, y_pred_Train)))\n",
        "\n",
        "    print('\\nTesting Metrics:')\n",
        "    print('R squared:', metrics.r2_score(y_test, y_pred_Test))\n",
        "    print('Mean Absolute Error:', metrics.mean_absolute_error(y_test, y_pred_Test))  \n",
        "    print('Mean Squared Error:', metrics.mean_squared_error(y_test, y_pred_Test))  \n",
        "    print('Root Mean Squared Error:', np.sqrt(metrics.mean_squared_error(y_test, y_pred_Test)))\n",
        "    \n",
        "    return()"
      ],
      "execution_count": 226,
      "outputs": []
    },
    {
      "cell_type": "markdown",
      "metadata": {
        "id": "L2ZLJfBXLMJy"
      },
      "source": [
        "Plot Box Plots"
      ]
    },
    {
      "cell_type": "code",
      "metadata": {
        "id": "zwsbOn8ozgQ-"
      },
      "source": [
        "def Multiple_Runner(model, X, y):\n",
        "    \n",
        "    Train_MSE = [] #Empty list to Store MSEs for training data set\n",
        "    Test_MSE = []  #Empty list to Store MSEs for testing data set\n",
        "\n",
        "    Train_R2 = [] #Empty list to Store R2s for training data set\n",
        "    Test_R2 = []  #Empty list to Store R2s for testing data set\n",
        "\n",
        "    for i in range(1000):\n",
        "        X_train, X_test, y_train, y_test = train_test_split(X, y, test_size=0.2)\n",
        "    \n",
        "        model.fit(X_train, y_train) #Train the model\n",
        "    \n",
        "        y_pred_Train  = model.predict(X_train)  #Predictions on training model\n",
        "        y_pred_Test   = model.predict(X_test)   #Predictions on testing model\n",
        "    \n",
        "        train_R2 = metrics.r2_score(y_train, y_pred_Train) #Obtaining the metrics\n",
        "        test_R2  = metrics.r2_score(y_test, y_pred_Test)\n",
        "    \n",
        "        train_MSE = metrics.mean_squared_error(y_train, y_pred_Train)\n",
        "        test_MSE  = metrics.mean_squared_error(y_test, y_pred_Test)\n",
        "    \n",
        "        Train_MSE.append(train_MSE) #Storing the metrics in the lists\n",
        "        Test_MSE.append(test_MSE) \n",
        "    \n",
        "        Train_R2.append(train_R2) #Storing the metrics in the lists\n",
        "        Test_R2.append(test_R2)  \n",
        "    \n",
        "    print('Train MSE median:', np.median(Train_MSE))\n",
        "    print('Test MSE median:', np.median(Test_MSE))\n",
        "\n",
        "    print('\\nTrain_R2 median:', np.median(Train_R2))\n",
        "    print('Test_R2 median:', np.median(Test_R2))\n",
        "\n",
        "    fig, ax = plt.subplots(ncols=2, figsize=(10,4))\n",
        "\n",
        "    ax[0].boxplot([Train_MSE, Test_MSE])\n",
        "    ax[0].set_xticks([1,2],minor = False)                   #setting boxplot names\n",
        "    ax[0].set_xticklabels(['Train','Test'], minor = False)  #setting boxplot names\n",
        "    ax[0].grid()\n",
        "    ax[0].set_title('Mean Squared Error')\n",
        "\n",
        "    ax[1].boxplot([Train_R2, Test_R2])\n",
        "    ax[1].set_xticks([1,2],minor = False)\n",
        "    ax[1].set_xticklabels(['Train','Test'], minor = False)\n",
        "    ax[1].grid()\n",
        "    ax[1].set_title('R squared')\n",
        "\n",
        "    plt.show()\n",
        "    "
      ],
      "execution_count": 227,
      "outputs": []
    },
    {
      "cell_type": "markdown",
      "metadata": {
        "id": "DO0Y81HXI4vU"
      },
      "source": [
        "#Data"
      ]
    },
    {
      "cell_type": "markdown",
      "metadata": {
        "id": "ot8sLAPpI6u0"
      },
      "source": [
        ""
      ]
    },
    {
      "cell_type": "code",
      "metadata": {
        "colab": {
          "base_uri": "https://localhost:8080/",
          "height": 360
        },
        "id": "2m-rQX7nIbOw",
        "outputId": "d70f5220-ece2-4d7c-86d6-97ee6c288af1"
      },
      "source": [
        "data= pd.read_csv('/content/Porcelana_OP_adelphi_2021_SCALED.csv')\n",
        "data.head(5)"
      ],
      "execution_count": 270,
      "outputs": [
        {
          "output_type": "execute_result",
          "data": {
            "text/html": [
              "<div>\n",
              "<style scoped>\n",
              "    .dataframe tbody tr th:only-of-type {\n",
              "        vertical-align: middle;\n",
              "    }\n",
              "\n",
              "    .dataframe tbody tr th {\n",
              "        vertical-align: top;\n",
              "    }\n",
              "\n",
              "    .dataframe thead th {\n",
              "        text-align: right;\n",
              "    }\n",
              "</style>\n",
              "<table border=\"1\" class=\"dataframe\">\n",
              "  <thead>\n",
              "    <tr style=\"text-align: right;\">\n",
              "      <th></th>\n",
              "      <th>date</th>\n",
              "      <th>Quantity</th>\n",
              "      <th>Seasonal</th>\n",
              "      <th>Consumer_loans</th>\n",
              "      <th>Construction_lic_unt</th>\n",
              "      <th>Construction_lic_area</th>\n",
              "      <th>Construction_lic_unt_SI</th>\n",
              "      <th>Construction_lic_unt_NO_SI</th>\n",
              "      <th>Construction_lic_area_SI</th>\n",
              "      <th>Construction_lic_area_NO_SI</th>\n",
              "      <th>Gray_cement_prod</th>\n",
              "      <th>Gray_cement_dispatch</th>\n",
              "      <th>Gray_cement_dispatch_Factory</th>\n",
              "      <th>Gray_cement_dispatch_comercial</th>\n",
              "      <th>Gray_cement_dispatch_contractor</th>\n",
              "      <th>Gray_cement_dispatch_other</th>\n",
              "      <th>DTF(interest_rate)</th>\n",
              "      <th>GDP_Constr</th>\n",
              "      <th>GDP_Total</th>\n",
              "      <th>Inflation</th>\n",
              "      <th>USD_exchange</th>\n",
              "      <th>Oil-brent</th>\n",
              "      <th>Oil_WTI</th>\n",
              "      <th>ISE</th>\n",
              "      <th>ICC</th>\n",
              "      <th>IEC</th>\n",
              "      <th>ICE</th>\n",
              "      <th>Unemployment%</th>\n",
              "      <th>RADAR_Constr</th>\n",
              "      <th>RADAR_Rev</th>\n",
              "      <th>RADAR_Toilets</th>\n",
              "      <th>RADAR_HomeAppliance</th>\n",
              "      <th>RADAR_Paint</th>\n",
              "      <th>RADAR_Furniture</th>\n",
              "      <th>RADAR_Tools</th>\n",
              "      <th>RADAR_Elect</th>\n",
              "      <th>RADAR_Plumbing</th>\n",
              "      <th>RADAR_Wood</th>\n",
              "      <th>RADAR_Supply</th>\n",
              "      <th>RADAR_Remodel</th>\n",
              "      <th>...</th>\n",
              "      <th>Preferencial_creditlag_8</th>\n",
              "      <th>loan_overdraftslag_8</th>\n",
              "      <th>Credit_cardlag_8</th>\n",
              "      <th>Treasury_loanlag_8</th>\n",
              "      <th>Housing_loanlag_8</th>\n",
              "      <th>Consumer_creditlag_9</th>\n",
              "      <th>Consumer_microcreditlag_9</th>\n",
              "      <th>Ordinary_creditlag_9</th>\n",
              "      <th>Preferencial_creditlag_9</th>\n",
              "      <th>loan_overdraftslag_9</th>\n",
              "      <th>Credit_cardlag_9</th>\n",
              "      <th>Treasury_loanlag_9</th>\n",
              "      <th>Housing_loanlag_9</th>\n",
              "      <th>Consumer_creditlag_10</th>\n",
              "      <th>Consumer_microcreditlag_10</th>\n",
              "      <th>Ordinary_creditlag_10</th>\n",
              "      <th>Preferencial_creditlag_10</th>\n",
              "      <th>loan_overdraftslag_10</th>\n",
              "      <th>Credit_cardlag_10</th>\n",
              "      <th>Treasury_loanlag_10</th>\n",
              "      <th>Housing_loanlag_10</th>\n",
              "      <th>Consumer_creditlag_11</th>\n",
              "      <th>Consumer_microcreditlag_11</th>\n",
              "      <th>Ordinary_creditlag_11</th>\n",
              "      <th>Preferencial_creditlag_11</th>\n",
              "      <th>loan_overdraftslag_11</th>\n",
              "      <th>Credit_cardlag_11</th>\n",
              "      <th>Treasury_loanlag_11</th>\n",
              "      <th>Housing_loanlag_11</th>\n",
              "      <th>Consumer_creditlag_12</th>\n",
              "      <th>Consumer_microcreditlag_12</th>\n",
              "      <th>Ordinary_creditlag_12</th>\n",
              "      <th>Preferencial_creditlag_12</th>\n",
              "      <th>loan_overdraftslag_12</th>\n",
              "      <th>Credit_cardlag_12</th>\n",
              "      <th>Treasury_loanlag_12</th>\n",
              "      <th>Housing_loanlag_12</th>\n",
              "      <th>holiday</th>\n",
              "      <th>sunday</th>\n",
              "      <th>working_day</th>\n",
              "    </tr>\n",
              "  </thead>\n",
              "  <tbody>\n",
              "    <tr>\n",
              "      <th>0</th>\n",
              "      <td>2017-01-01</td>\n",
              "      <td>1.503548</td>\n",
              "      <td>0.699923</td>\n",
              "      <td>112579.4297</td>\n",
              "      <td>11303.0</td>\n",
              "      <td>1185131.0</td>\n",
              "      <td>3587.0</td>\n",
              "      <td>7716.0</td>\n",
              "      <td>229478.0</td>\n",
              "      <td>955653.0</td>\n",
              "      <td>897063.518</td>\n",
              "      <td>9.131904e+05</td>\n",
              "      <td>194276.0200</td>\n",
              "      <td>502084.8330</td>\n",
              "      <td>171559.9665</td>\n",
              "      <td>45269.5875</td>\n",
              "      <td>0.0694</td>\n",
              "      <td>14753.34784</td>\n",
              "      <td>206242.5680</td>\n",
              "      <td>5.47</td>\n",
              "      <td>2944.65</td>\n",
              "      <td>52.19</td>\n",
              "      <td>52.81</td>\n",
              "      <td>102.548972</td>\n",
              "      <td>-30.2</td>\n",
              "      <td>-28.3</td>\n",
              "      <td>-33.1</td>\n",
              "      <td>11.733267</td>\n",
              "      <td>1.044525e+11</td>\n",
              "      <td>1.323489e+11</td>\n",
              "      <td>1.727682e+11</td>\n",
              "      <td>1.050914e+11</td>\n",
              "      <td>8.847567e+10</td>\n",
              "      <td>8.354725e+10</td>\n",
              "      <td>5.008444e+10</td>\n",
              "      <td>9.372000e+10</td>\n",
              "      <td>3.037115e+10</td>\n",
              "      <td>3.136015e+10</td>\n",
              "      <td>1.585430e+11</td>\n",
              "      <td>1.050763e+12</td>\n",
              "      <td>...</td>\n",
              "      <td>4445890.861</td>\n",
              "      <td>6402426.269</td>\n",
              "      <td>3390803.016</td>\n",
              "      <td>550883.0739</td>\n",
              "      <td>1302564.560</td>\n",
              "      <td>4680431.000</td>\n",
              "      <td>460632.0000</td>\n",
              "      <td>5702443.000</td>\n",
              "      <td>4657354.000</td>\n",
              "      <td>7012296.000</td>\n",
              "      <td>3283417.000</td>\n",
              "      <td>549789.0000</td>\n",
              "      <td>1454672.000</td>\n",
              "      <td>4941981.754</td>\n",
              "      <td>531850.1926</td>\n",
              "      <td>7315235.649</td>\n",
              "      <td>6120086.089</td>\n",
              "      <td>8140200.383</td>\n",
              "      <td>3814229.013</td>\n",
              "      <td>632387.5921</td>\n",
              "      <td>1627959.289</td>\n",
              "      <td>4068020.900</td>\n",
              "      <td>438682.2679</td>\n",
              "      <td>6513619.182</td>\n",
              "      <td>6137144.374</td>\n",
              "      <td>6675101.294</td>\n",
              "      <td>2989980.729</td>\n",
              "      <td>483448.3473</td>\n",
              "      <td>1298811.962</td>\n",
              "      <td>3106784.500</td>\n",
              "      <td>386289.5525</td>\n",
              "      <td>4875376.339</td>\n",
              "      <td>4791146.877</td>\n",
              "      <td>5996088.922</td>\n",
              "      <td>3013612.505</td>\n",
              "      <td>470541.3290</td>\n",
              "      <td>1093819.181</td>\n",
              "      <td>1</td>\n",
              "      <td>5</td>\n",
              "      <td>25</td>\n",
              "    </tr>\n",
              "    <tr>\n",
              "      <th>1</th>\n",
              "      <td>2017-02-01</td>\n",
              "      <td>0.076213</td>\n",
              "      <td>0.316156</td>\n",
              "      <td>113438.0949</td>\n",
              "      <td>16187.0</td>\n",
              "      <td>1590979.0</td>\n",
              "      <td>4659.0</td>\n",
              "      <td>11528.0</td>\n",
              "      <td>272961.0</td>\n",
              "      <td>1318018.0</td>\n",
              "      <td>1025704.960</td>\n",
              "      <td>1.007968e+06</td>\n",
              "      <td>228359.8390</td>\n",
              "      <td>530826.1625</td>\n",
              "      <td>199731.6950</td>\n",
              "      <td>49050.6025</td>\n",
              "      <td>0.0678</td>\n",
              "      <td>14753.34784</td>\n",
              "      <td>206242.5680</td>\n",
              "      <td>5.18</td>\n",
              "      <td>2881.68</td>\n",
              "      <td>53.40</td>\n",
              "      <td>54.01</td>\n",
              "      <td>102.919033</td>\n",
              "      <td>-24.3</td>\n",
              "      <td>-19.9</td>\n",
              "      <td>-31.0</td>\n",
              "      <td>10.504292</td>\n",
              "      <td>1.574855e+11</td>\n",
              "      <td>8.351517e+10</td>\n",
              "      <td>1.096908e+11</td>\n",
              "      <td>8.252536e+10</td>\n",
              "      <td>8.582517e+10</td>\n",
              "      <td>1.522091e+11</td>\n",
              "      <td>5.056706e+10</td>\n",
              "      <td>6.034851e+10</td>\n",
              "      <td>2.138243e+10</td>\n",
              "      <td>2.216364e+10</td>\n",
              "      <td>2.104634e+11</td>\n",
              "      <td>1.036176e+12</td>\n",
              "      <td>...</td>\n",
              "      <td>6566090.070</td>\n",
              "      <td>7930536.312</td>\n",
              "      <td>4347164.930</td>\n",
              "      <td>677598.1836</td>\n",
              "      <td>1864166.572</td>\n",
              "      <td>4353892.017</td>\n",
              "      <td>433679.7772</td>\n",
              "      <td>5854575.608</td>\n",
              "      <td>4445890.861</td>\n",
              "      <td>6402426.269</td>\n",
              "      <td>3390803.016</td>\n",
              "      <td>550883.0739</td>\n",
              "      <td>1302564.560</td>\n",
              "      <td>4680431.000</td>\n",
              "      <td>460632.0000</td>\n",
              "      <td>5702443.000</td>\n",
              "      <td>4657354.000</td>\n",
              "      <td>7012296.000</td>\n",
              "      <td>3283417.000</td>\n",
              "      <td>549789.0000</td>\n",
              "      <td>1454672.000</td>\n",
              "      <td>4941981.754</td>\n",
              "      <td>531850.1926</td>\n",
              "      <td>7315235.649</td>\n",
              "      <td>6120086.089</td>\n",
              "      <td>8140200.383</td>\n",
              "      <td>3814229.013</td>\n",
              "      <td>632387.5921</td>\n",
              "      <td>1627959.289</td>\n",
              "      <td>4068020.900</td>\n",
              "      <td>438682.2679</td>\n",
              "      <td>6513619.182</td>\n",
              "      <td>6137144.374</td>\n",
              "      <td>6675101.294</td>\n",
              "      <td>2989980.729</td>\n",
              "      <td>483448.3473</td>\n",
              "      <td>1298811.962</td>\n",
              "      <td>0</td>\n",
              "      <td>4</td>\n",
              "      <td>24</td>\n",
              "    </tr>\n",
              "    <tr>\n",
              "      <th>2</th>\n",
              "      <td>2017-03-01</td>\n",
              "      <td>-1.346258</td>\n",
              "      <td>-0.267695</td>\n",
              "      <td>114667.2587</td>\n",
              "      <td>15231.0</td>\n",
              "      <td>1438528.0</td>\n",
              "      <td>5687.0</td>\n",
              "      <td>9544.0</td>\n",
              "      <td>354904.0</td>\n",
              "      <td>1083624.0</td>\n",
              "      <td>1099919.669</td>\n",
              "      <td>1.083268e+06</td>\n",
              "      <td>241130.4555</td>\n",
              "      <td>568447.4880</td>\n",
              "      <td>218640.3600</td>\n",
              "      <td>55049.9274</td>\n",
              "      <td>0.0665</td>\n",
              "      <td>14753.34784</td>\n",
              "      <td>206242.5680</td>\n",
              "      <td>4.69</td>\n",
              "      <td>2943.49</td>\n",
              "      <td>50.43</td>\n",
              "      <td>50.60</td>\n",
              "      <td>102.162670</td>\n",
              "      <td>-21.1</td>\n",
              "      <td>-18.3</td>\n",
              "      <td>-25.4</td>\n",
              "      <td>9.704610</td>\n",
              "      <td>1.215372e+11</td>\n",
              "      <td>9.821204e+10</td>\n",
              "      <td>1.191497e+11</td>\n",
              "      <td>9.035507e+10</td>\n",
              "      <td>9.516119e+10</td>\n",
              "      <td>1.388751e+11</td>\n",
              "      <td>5.266968e+10</td>\n",
              "      <td>1.137228e+11</td>\n",
              "      <td>2.872364e+10</td>\n",
              "      <td>2.258877e+10</td>\n",
              "      <td>1.192185e+11</td>\n",
              "      <td>1.000214e+12</td>\n",
              "      <td>...</td>\n",
              "      <td>4119152.514</td>\n",
              "      <td>6258157.459</td>\n",
              "      <td>3447128.397</td>\n",
              "      <td>478975.7922</td>\n",
              "      <td>1302860.802</td>\n",
              "      <td>5430241.566</td>\n",
              "      <td>555441.9044</td>\n",
              "      <td>7916686.911</td>\n",
              "      <td>6566090.070</td>\n",
              "      <td>7930536.312</td>\n",
              "      <td>4347164.930</td>\n",
              "      <td>677598.1836</td>\n",
              "      <td>1864166.572</td>\n",
              "      <td>4353892.017</td>\n",
              "      <td>433679.7772</td>\n",
              "      <td>5854575.608</td>\n",
              "      <td>4445890.861</td>\n",
              "      <td>6402426.269</td>\n",
              "      <td>3390803.016</td>\n",
              "      <td>550883.0739</td>\n",
              "      <td>1302564.560</td>\n",
              "      <td>4680431.000</td>\n",
              "      <td>460632.0000</td>\n",
              "      <td>5702443.000</td>\n",
              "      <td>4657354.000</td>\n",
              "      <td>7012296.000</td>\n",
              "      <td>3283417.000</td>\n",
              "      <td>549789.0000</td>\n",
              "      <td>1454672.000</td>\n",
              "      <td>4941981.754</td>\n",
              "      <td>531850.1926</td>\n",
              "      <td>7315235.649</td>\n",
              "      <td>6120086.089</td>\n",
              "      <td>8140200.383</td>\n",
              "      <td>3814229.013</td>\n",
              "      <td>632387.5921</td>\n",
              "      <td>1627959.289</td>\n",
              "      <td>1</td>\n",
              "      <td>4</td>\n",
              "      <td>26</td>\n",
              "    </tr>\n",
              "    <tr>\n",
              "      <th>3</th>\n",
              "      <td>2017-04-01</td>\n",
              "      <td>-2.122585</td>\n",
              "      <td>-2.419870</td>\n",
              "      <td>115386.4634</td>\n",
              "      <td>14093.0</td>\n",
              "      <td>1308557.0</td>\n",
              "      <td>5830.0</td>\n",
              "      <td>8263.0</td>\n",
              "      <td>394570.0</td>\n",
              "      <td>913987.0</td>\n",
              "      <td>976913.691</td>\n",
              "      <td>9.000049e+05</td>\n",
              "      <td>205596.3325</td>\n",
              "      <td>477863.7565</td>\n",
              "      <td>178911.5505</td>\n",
              "      <td>37633.3040</td>\n",
              "      <td>0.0653</td>\n",
              "      <td>14981.00793</td>\n",
              "      <td>207747.7702</td>\n",
              "      <td>4.66</td>\n",
              "      <td>2873.55</td>\n",
              "      <td>49.33</td>\n",
              "      <td>49.33</td>\n",
              "      <td>102.983586</td>\n",
              "      <td>-12.8</td>\n",
              "      <td>-10.9</td>\n",
              "      <td>-15.7</td>\n",
              "      <td>8.907718</td>\n",
              "      <td>1.050589e+11</td>\n",
              "      <td>1.250024e+11</td>\n",
              "      <td>1.243045e+11</td>\n",
              "      <td>1.099748e+11</td>\n",
              "      <td>8.874865e+10</td>\n",
              "      <td>9.272528e+10</td>\n",
              "      <td>5.317580e+10</td>\n",
              "      <td>1.235185e+11</td>\n",
              "      <td>2.542596e+10</td>\n",
              "      <td>1.223621e+10</td>\n",
              "      <td>1.243762e+11</td>\n",
              "      <td>9.845472e+11</td>\n",
              "      <td>...</td>\n",
              "      <td>6053780.975</td>\n",
              "      <td>7501101.418</td>\n",
              "      <td>4264839.340</td>\n",
              "      <td>786453.6177</td>\n",
              "      <td>1665857.097</td>\n",
              "      <td>4182512.912</td>\n",
              "      <td>427158.3795</td>\n",
              "      <td>5430545.717</td>\n",
              "      <td>4119152.514</td>\n",
              "      <td>6258157.459</td>\n",
              "      <td>3447128.397</td>\n",
              "      <td>478975.7922</td>\n",
              "      <td>1302860.802</td>\n",
              "      <td>5430241.566</td>\n",
              "      <td>555441.9044</td>\n",
              "      <td>7916686.911</td>\n",
              "      <td>6566090.070</td>\n",
              "      <td>7930536.312</td>\n",
              "      <td>4347164.930</td>\n",
              "      <td>677598.1836</td>\n",
              "      <td>1864166.572</td>\n",
              "      <td>4353892.017</td>\n",
              "      <td>433679.7772</td>\n",
              "      <td>5854575.608</td>\n",
              "      <td>4445890.861</td>\n",
              "      <td>6402426.269</td>\n",
              "      <td>3390803.016</td>\n",
              "      <td>550883.0739</td>\n",
              "      <td>1302564.560</td>\n",
              "      <td>4680431.000</td>\n",
              "      <td>460632.0000</td>\n",
              "      <td>5702443.000</td>\n",
              "      <td>4657354.000</td>\n",
              "      <td>7012296.000</td>\n",
              "      <td>3283417.000</td>\n",
              "      <td>549789.0000</td>\n",
              "      <td>1454672.000</td>\n",
              "      <td>2</td>\n",
              "      <td>5</td>\n",
              "      <td>23</td>\n",
              "    </tr>\n",
              "    <tr>\n",
              "      <th>4</th>\n",
              "      <td>2017-05-01</td>\n",
              "      <td>-0.665067</td>\n",
              "      <td>-0.644222</td>\n",
              "      <td>116440.6893</td>\n",
              "      <td>13645.0</td>\n",
              "      <td>1449398.0</td>\n",
              "      <td>3766.0</td>\n",
              "      <td>9879.0</td>\n",
              "      <td>254338.0</td>\n",
              "      <td>1195060.0</td>\n",
              "      <td>1021787.442</td>\n",
              "      <td>9.990460e+05</td>\n",
              "      <td>227246.8955</td>\n",
              "      <td>521968.2200</td>\n",
              "      <td>204522.2195</td>\n",
              "      <td>45308.6685</td>\n",
              "      <td>0.0617</td>\n",
              "      <td>14981.00793</td>\n",
              "      <td>207747.7702</td>\n",
              "      <td>4.37</td>\n",
              "      <td>2924.00</td>\n",
              "      <td>48.69</td>\n",
              "      <td>48.32</td>\n",
              "      <td>103.070062</td>\n",
              "      <td>-16.9</td>\n",
              "      <td>-12.4</td>\n",
              "      <td>-23.7</td>\n",
              "      <td>9.417001</td>\n",
              "      <td>8.694237e+10</td>\n",
              "      <td>1.153829e+11</td>\n",
              "      <td>1.176807e+11</td>\n",
              "      <td>8.701007e+10</td>\n",
              "      <td>8.469597e+10</td>\n",
              "      <td>8.291499e+10</td>\n",
              "      <td>4.744757e+10</td>\n",
              "      <td>1.155134e+11</td>\n",
              "      <td>2.556480e+10</td>\n",
              "      <td>2.217084e+10</td>\n",
              "      <td>2.235675e+11</td>\n",
              "      <td>1.008891e+12</td>\n",
              "      <td>...</td>\n",
              "      <td>4666940.137</td>\n",
              "      <td>6614402.297</td>\n",
              "      <td>3521738.265</td>\n",
              "      <td>546330.1638</td>\n",
              "      <td>1455228.844</td>\n",
              "      <td>5221504.230</td>\n",
              "      <td>542565.5737</td>\n",
              "      <td>7116995.809</td>\n",
              "      <td>6053780.975</td>\n",
              "      <td>7501101.418</td>\n",
              "      <td>4264839.340</td>\n",
              "      <td>786453.6177</td>\n",
              "      <td>1665857.097</td>\n",
              "      <td>4182512.912</td>\n",
              "      <td>427158.3795</td>\n",
              "      <td>5430545.717</td>\n",
              "      <td>4119152.514</td>\n",
              "      <td>6258157.459</td>\n",
              "      <td>3447128.397</td>\n",
              "      <td>478975.7922</td>\n",
              "      <td>1302860.802</td>\n",
              "      <td>5430241.566</td>\n",
              "      <td>555441.9044</td>\n",
              "      <td>7916686.911</td>\n",
              "      <td>6566090.070</td>\n",
              "      <td>7930536.312</td>\n",
              "      <td>4347164.930</td>\n",
              "      <td>677598.1836</td>\n",
              "      <td>1864166.572</td>\n",
              "      <td>4353892.017</td>\n",
              "      <td>433679.7772</td>\n",
              "      <td>5854575.608</td>\n",
              "      <td>4445890.861</td>\n",
              "      <td>6402426.269</td>\n",
              "      <td>3390803.016</td>\n",
              "      <td>550883.0739</td>\n",
              "      <td>1302564.560</td>\n",
              "      <td>2</td>\n",
              "      <td>4</td>\n",
              "      <td>25</td>\n",
              "    </tr>\n",
              "  </tbody>\n",
              "</table>\n",
              "<p>5 rows × 943 columns</p>\n",
              "</div>"
            ],
            "text/plain": [
              "         date  Quantity  Seasonal  ...  holiday  sunday  working_day\n",
              "0  2017-01-01  1.503548  0.699923  ...        1       5           25\n",
              "1  2017-02-01  0.076213  0.316156  ...        0       4           24\n",
              "2  2017-03-01 -1.346258 -0.267695  ...        1       4           26\n",
              "3  2017-04-01 -2.122585 -2.419870  ...        2       5           23\n",
              "4  2017-05-01 -0.665067 -0.644222  ...        2       4           25\n",
              "\n",
              "[5 rows x 943 columns]"
            ]
          },
          "metadata": {},
          "execution_count": 270
        }
      ]
    },
    {
      "cell_type": "code",
      "metadata": {
        "id": "IdxI_kWuQGGq"
      },
      "source": [
        "data['date'] = pd.to_datetime(data['date'])\n",
        "data['date']= data['date'].map(dt.datetime.toordinal)"
      ],
      "execution_count": 271,
      "outputs": []
    },
    {
      "cell_type": "code",
      "metadata": {
        "id": "RAGpipcETMEn"
      },
      "source": [
        "data = data[['date' ,'Quantity', 'Seasonal', 'Gray_cement_dispatch_comercial', 'ISE',\n",
        "       'Construction_lic_area/unt_SIlag_4', ]]"
      ],
      "execution_count": 272,
      "outputs": []
    },
    {
      "cell_type": "code",
      "metadata": {
        "colab": {
          "base_uri": "https://localhost:8080/"
        },
        "id": "9T8m7Geu41__",
        "outputId": "04c37fc4-4a3a-4402-db0c-7914f523b54b"
      },
      "source": [
        "data.shape"
      ],
      "execution_count": 273,
      "outputs": [
        {
          "output_type": "execute_result",
          "data": {
            "text/plain": [
              "(54, 6)"
            ]
          },
          "metadata": {},
          "execution_count": 273
        }
      ]
    },
    {
      "cell_type": "code",
      "metadata": {
        "id": "lcFuyVfGS9Zw"
      },
      "source": [
        "y = data['Quantity']\n",
        "X = data.loc[: ,data.columns != 'Quantity']"
      ],
      "execution_count": 274,
      "outputs": []
    },
    {
      "cell_type": "code",
      "metadata": {
        "id": "j2ZOwQ5xS_SQ"
      },
      "source": [
        "cols =data.columns.difference(['date'])"
      ],
      "execution_count": 275,
      "outputs": []
    },
    {
      "cell_type": "code",
      "metadata": {
        "id": "Mqr1JF52TFew"
      },
      "source": [
        "from sklearn.preprocessing import StandardScaler\n",
        "sc = StandardScaler()"
      ],
      "execution_count": 276,
      "outputs": []
    },
    {
      "cell_type": "markdown",
      "metadata": {
        "id": "TJbaVPbgTOuV"
      },
      "source": [
        "We dont scale the date col here "
      ]
    },
    {
      "cell_type": "code",
      "metadata": {
        "id": "wqtBYRs3TH2v"
      },
      "source": [
        "data[cols] = sc.fit_transform(data[cols])"
      ],
      "execution_count": 277,
      "outputs": []
    },
    {
      "cell_type": "code",
      "metadata": {
        "colab": {
          "base_uri": "https://localhost:8080/",
          "height": 163
        },
        "id": "ymEHPXHsTJ1Q",
        "outputId": "ff0b5ae2-a249-4eff-b898-7fe53e46d6b2"
      },
      "source": [
        "data.head(3)"
      ],
      "execution_count": 278,
      "outputs": [
        {
          "output_type": "execute_result",
          "data": {
            "text/html": [
              "<div>\n",
              "<style scoped>\n",
              "    .dataframe tbody tr th:only-of-type {\n",
              "        vertical-align: middle;\n",
              "    }\n",
              "\n",
              "    .dataframe tbody tr th {\n",
              "        vertical-align: top;\n",
              "    }\n",
              "\n",
              "    .dataframe thead th {\n",
              "        text-align: right;\n",
              "    }\n",
              "</style>\n",
              "<table border=\"1\" class=\"dataframe\">\n",
              "  <thead>\n",
              "    <tr style=\"text-align: right;\">\n",
              "      <th></th>\n",
              "      <th>date</th>\n",
              "      <th>Quantity</th>\n",
              "      <th>Seasonal</th>\n",
              "      <th>Gray_cement_dispatch_comercial</th>\n",
              "      <th>ISE</th>\n",
              "      <th>Construction_lic_area/unt_SIlag_4</th>\n",
              "    </tr>\n",
              "  </thead>\n",
              "  <tbody>\n",
              "    <tr>\n",
              "      <th>0</th>\n",
              "      <td>736330</td>\n",
              "      <td>1.539880</td>\n",
              "      <td>0.703768</td>\n",
              "      <td>-0.536381</td>\n",
              "      <td>-0.687592</td>\n",
              "      <td>1.924774</td>\n",
              "    </tr>\n",
              "    <tr>\n",
              "      <th>1</th>\n",
              "      <td>736361</td>\n",
              "      <td>0.110421</td>\n",
              "      <td>0.325418</td>\n",
              "      <td>-0.137113</td>\n",
              "      <td>-0.608165</td>\n",
              "      <td>-0.287215</td>\n",
              "    </tr>\n",
              "    <tr>\n",
              "      <th>2</th>\n",
              "      <td>736389</td>\n",
              "      <td>-1.314169</td>\n",
              "      <td>-0.250193</td>\n",
              "      <td>0.385513</td>\n",
              "      <td>-0.770505</td>\n",
              "      <td>-1.573761</td>\n",
              "    </tr>\n",
              "  </tbody>\n",
              "</table>\n",
              "</div>"
            ],
            "text/plain": [
              "     date  Quantity  ...       ISE  Construction_lic_area/unt_SIlag_4\n",
              "0  736330  1.539880  ... -0.687592                           1.924774\n",
              "1  736361  0.110421  ... -0.608165                          -0.287215\n",
              "2  736389 -1.314169  ... -0.770505                          -1.573761\n",
              "\n",
              "[3 rows x 6 columns]"
            ]
          },
          "metadata": {},
          "execution_count": 278
        }
      ]
    },
    {
      "cell_type": "code",
      "metadata": {
        "colab": {
          "base_uri": "https://localhost:8080/"
        },
        "id": "345CVC4HUm92",
        "outputId": "93feb31d-1bb8-44d1-bc91-7e26ff87f500"
      },
      "source": [
        "data.shape"
      ],
      "execution_count": 279,
      "outputs": [
        {
          "output_type": "execute_result",
          "data": {
            "text/plain": [
              "(54, 6)"
            ]
          },
          "metadata": {},
          "execution_count": 279
        }
      ]
    },
    {
      "cell_type": "markdown",
      "metadata": {
        "id": "BdFJ4amtUQ_5"
      },
      "source": [
        "# Regress on subsetted data"
      ]
    },
    {
      "cell_type": "markdown",
      "metadata": {
        "id": "AR-GLRqe1xZI"
      },
      "source": [
        "## LassoCV. 1"
      ]
    },
    {
      "cell_type": "markdown",
      "metadata": {
        "id": "A4uxZUBWUgWM"
      },
      "source": [
        "#### Training and splitting"
      ]
    },
    {
      "cell_type": "code",
      "metadata": {
        "colab": {
          "base_uri": "https://localhost:8080/"
        },
        "id": "gG7EjoKyT8Vp",
        "outputId": "de5d9e05-9c61-49c7-892a-630e430b8ea0"
      },
      "source": [
        "X_train, X_test, y_train, y_test = train_test_split(X, y, test_size=0.3, random_state=5)\n",
        "print(X_train.shape)\n",
        "print(X_test.shape)"
      ],
      "execution_count": 280,
      "outputs": [
        {
          "output_type": "stream",
          "name": "stdout",
          "text": [
            "(37, 5)\n",
            "(17, 5)\n"
          ]
        }
      ]
    },
    {
      "cell_type": "markdown",
      "metadata": {
        "id": "dMPsYIrC0d9X"
      },
      "source": [
        "### Model Creation\n",
        "\n",
        "https://stackoverflow.com/questions/57205585/how-does-parameter-selection-work-in-lassocv-when-nothing-is-supplied"
      ]
    },
    {
      "cell_type": "code",
      "metadata": {
        "id": "zacn30DpVOgp"
      },
      "source": [
        "# TOL tells LAsso when to stop searching for some min \n",
        "# value .  \n",
        "\n",
        "# The default is 1 / 10,ooo.\n",
        "# Ours ran on any # greater thna tha\n",
        "#tols = [0.0001 #, 0.001, 0.01, 0.1, 1]\n",
        "LassoReg = LassoCV(cv = 37, random_state=1, tol = 0.01, n_alphas=5).fit(X, y) # CV = X split"
      ],
      "execution_count": 281,
      "outputs": []
    },
    {
      "cell_type": "markdown",
      "metadata": {
        "id": "Drqeso6GakWQ"
      },
      "source": [
        "## Alpha score  of 5 , chose 0.001"
      ]
    },
    {
      "cell_type": "code",
      "metadata": {
        "colab": {
          "base_uri": "https://localhost:8080/"
        },
        "id": "_qR5exQJZw3S",
        "outputId": "6a012d55-970a-4d3d-d3f1-96653aac2737"
      },
      "source": [
        "LassoReg.alphas_[4]/LassoReg.alphas_[0]"
      ],
      "execution_count": 282,
      "outputs": [
        {
          "output_type": "execute_result",
          "data": {
            "text/plain": [
              "0.001"
            ]
          },
          "metadata": {},
          "execution_count": 282
        }
      ]
    },
    {
      "cell_type": "markdown",
      "metadata": {
        "id": "wZDLp4Bf2XEM"
      },
      "source": [
        "### Parameter settings"
      ]
    },
    {
      "cell_type": "code",
      "metadata": {
        "id": "OzB2gDJooe1r"
      },
      "source": [
        "LassoReg.score"
      ],
      "execution_count": null,
      "outputs": []
    },
    {
      "cell_type": "code",
      "metadata": {
        "colab": {
          "base_uri": "https://localhost:8080/"
        },
        "id": "bVA_eCsForJ4",
        "outputId": "db9c4cfa-6208-4b60-c72f-3e71a9d2ba9c"
      },
      "source": [
        "LassoReg.score(X,y)"
      ],
      "execution_count": 283,
      "outputs": [
        {
          "output_type": "execute_result",
          "data": {
            "text/plain": [
              "0.5832049683775525"
            ]
          },
          "metadata": {},
          "execution_count": 283
        }
      ]
    },
    {
      "cell_type": "code",
      "metadata": {
        "colab": {
          "base_uri": "https://localhost:8080/"
        },
        "id": "F_uDpAp8Yw0J",
        "outputId": "3e618256-c0c9-4ad5-9a49-9f47cc3bd0e3"
      },
      "source": [
        "y_pred_Train = LassoReg .predict(X_train) #Predictions on training model\n",
        "y_pred_Test  = LassoReg .predict(X_test)  #Predictions on testing model\n",
        "\n",
        "print('Intercept:',LassoReg .intercept_) #Intercept: -4.4999751446869665\n",
        "print('Coefficients:', LassoReg .coef_)"
      ],
      "execution_count": 284,
      "outputs": [
        {
          "output_type": "stream",
          "name": "stdout",
          "text": [
            "Intercept: -5.703990007706598\n",
            "Coefficients: [0.00000000e+00 0.00000000e+00 1.05493421e-05 0.00000000e+00\n",
            " 0.00000000e+00]\n"
          ]
        }
      ]
    },
    {
      "cell_type": "markdown",
      "metadata": {
        "id": "YsGREX8DupIu"
      },
      "source": [
        "### Model Details"
      ]
    },
    {
      "cell_type": "code",
      "metadata": {
        "colab": {
          "base_uri": "https://localhost:8080/",
          "height": 515
        },
        "id": "jG00A_jJYwtw",
        "outputId": "ea894c95-75ca-4359-d4e2-e91be6928bbc"
      },
      "source": [
        "Prediction_Plots(y_train, y_pred_Train, y_test, y_pred_Test)\n",
        "Metrics_Printer(y_train, y_pred_Train, y_test, y_pred_Test)"
      ],
      "execution_count": 285,
      "outputs": [
        {
          "output_type": "display_data",
          "data": {
            "image/png": "[encoded data removed]",
            "text/plain": [
              "<Figure size 720x288 with 2 Axes>"
            ]
          },
          "metadata": {
            "needs_background": "light"
          }
        },
        {
          "output_type": "stream",
          "name": "stdout",
          "text": [
            "Training Metrics:\n",
            "R squared: 0.582970545667854\n",
            "Mean Absolute Error: 0.5014009034461974\n",
            "Mean Squared Error: 0.40300939654576085\n",
            "Root Mean Squared Error: 0.6348302108010935\n",
            "\n",
            "Testing Metrics:\n",
            "R squared: 0.5785241642076264\n",
            "Mean Absolute Error: 0.4715011583621411\n",
            "Mean Squared Error: 0.44679906090700083\n",
            "Root Mean Squared Error: 0.6684302962216785\n"
          ]
        },
        {
          "output_type": "execute_result",
          "data": {
            "text/plain": [
              "()"
            ]
          },
          "metadata": {},
          "execution_count": 285
        }
      ]
    },
    {
      "cell_type": "markdown",
      "metadata": {
        "id": "OyRH8VaT0yD2"
      },
      "source": [
        "### Multiple Run Analysis"
      ]
    },
    {
      "cell_type": "code",
      "metadata": {
        "colab": {
          "base_uri": "https://localhost:8080/",
          "height": 372
        },
        "id": "NzpKybL2vzAO",
        "outputId": "c406abe2-6629-4ee9-b5f2-dfcc5418112c"
      },
      "source": [
        "Multiple_Runner(LassoReg, X, y)\n"
      ],
      "execution_count": 193,
      "outputs": [
        {
          "output_type": "stream",
          "name": "stdout",
          "text": [
            "Train MSE median: 0.42187047716162307\n",
            "Test MSE median: 0.4209429881094087\n",
            "\n",
            "Train_R2 median: 0.5989036661316269\n",
            "Test_R2 median: 0.40599184559297585\n"
          ]
        },
        {
          "output_type": "display_data",
          "data": {
            "image/png": "[encoded data removed]",
            "text/plain": [
              "<Figure size 720x288 with 2 Axes>"
            ]
          },
          "metadata": {
            "needs_background": "light"
          }
        }
      ]
    },
    {
      "cell_type": "markdown",
      "metadata": {
        "id": "LJvc7Z255uF-"
      },
      "source": [
        "# Orig Data split o.5. 2"
      ]
    },
    {
      "cell_type": "code",
      "metadata": {
        "colab": {
          "base_uri": "https://localhost:8080/"
        },
        "id": "hvcgrZSNvy87",
        "outputId": "7ad4027e-a443-47ee-84a2-94fb6e7daecf"
      },
      "source": [
        "X_train, X_test, y_train, y_test = train_test_split(X, y, test_size=0.5, random_state=5)\n",
        "print(X_train.shape)\n",
        "print(X_test.shape)"
      ],
      "execution_count": 292,
      "outputs": [
        {
          "output_type": "stream",
          "name": "stdout",
          "text": [
            "(27, 5)\n",
            "(27, 5)\n"
          ]
        }
      ]
    },
    {
      "cell_type": "code",
      "metadata": {
        "id": "wqelyBdBvy5T"
      },
      "source": [
        "# CV = X split\n",
        "#LassoReg = LassoCV(cv = 27, random_state=1, tol =1).fit(X, y) \n",
        "LassoReg = LassoCV(cv = 37, random_state=1, tol = 0.01, n_alphas=5).fit(X, y) # CV = X split"
      ],
      "execution_count": 287,
      "outputs": []
    },
    {
      "cell_type": "code",
      "metadata": {
        "colab": {
          "base_uri": "https://localhost:8080/"
        },
        "id": "1Ux63Y84c0Yn",
        "outputId": "56f93b3e-1e5d-43a4-f9d9-bdead93109ec"
      },
      "source": [
        "LassoReg.alphas_[4]/LassoReg.alphas_[0]"
      ],
      "execution_count": 289,
      "outputs": [
        {
          "output_type": "execute_result",
          "data": {
            "text/plain": [
              "0.001"
            ]
          },
          "metadata": {},
          "execution_count": 289
        }
      ]
    },
    {
      "cell_type": "code",
      "metadata": {
        "colab": {
          "base_uri": "https://localhost:8080/"
        },
        "id": "0KeCopuX84IN",
        "outputId": "0f3200ff-7164-4d2b-d835-601cc14d69b1"
      },
      "source": [
        "LassoReg.score(X,y)"
      ],
      "execution_count": 288,
      "outputs": [
        {
          "output_type": "execute_result",
          "data": {
            "text/plain": [
              "0.5832049683775525"
            ]
          },
          "metadata": {},
          "execution_count": 288
        }
      ]
    },
    {
      "cell_type": "code",
      "metadata": {
        "colab": {
          "base_uri": "https://localhost:8080/"
        },
        "id": "SvTSTfv284EQ",
        "outputId": "e3f57497-c533-461c-c969-4c8205a11f24"
      },
      "source": [
        "y_pred_Train = LassoReg .predict(X_train) #Predictions on training model\n",
        "y_pred_Test  = LassoReg .predict(X_test)  #Predictions on testing model\n",
        "\n",
        "print('Intercept:',LassoReg .intercept_) #Intercept: -4.4999751446869665\n",
        "print('Coefficients:', LassoReg .coef_)"
      ],
      "execution_count": 290,
      "outputs": [
        {
          "output_type": "stream",
          "name": "stdout",
          "text": [
            "Intercept: -5.703990007706598\n",
            "Coefficients: [0.00000000e+00 0.00000000e+00 1.05493421e-05 0.00000000e+00\n",
            " 0.00000000e+00]\n"
          ]
        }
      ]
    },
    {
      "cell_type": "code",
      "metadata": {
        "colab": {
          "base_uri": "https://localhost:8080/",
          "height": 515
        },
        "id": "Q6aN5UXa84AX",
        "outputId": "44d8f4ae-d01f-4a3a-948f-bd305590a8a6"
      },
      "source": [
        "Prediction_Plots(y_train, y_pred_Train, y_test, y_pred_Test)\n",
        "Metrics_Printer(y_train, y_pred_Train, y_test, y_pred_Test)"
      ],
      "execution_count": 291,
      "outputs": [
        {
          "output_type": "display_data",
          "data": {
            "image/png": "[encoded data removed]",
            "text/plain": [
              "<Figure size 720x288 with 2 Axes>"
            ]
          },
          "metadata": {
            "needs_background": "light"
          }
        },
        {
          "output_type": "stream",
          "name": "stdout",
          "text": [
            "Training Metrics:\n",
            "R squared: 0.6740070344377518\n",
            "Mean Absolute Error: 0.4496637513753671\n",
            "Mean Squared Error: 0.3140081033702132\n",
            "Root Mean Squared Error: 0.5603642595403575\n",
            "\n",
            "Testing Metrics:\n",
            "R squared: 0.46262295858380487\n",
            "Mean Absolute Error: 0.5343122900937327\n",
            "Mean Squared Error: 0.5195819598746819\n",
            "Root Mean Squared Error: 0.7208203381389027\n"
          ]
        },
        {
          "output_type": "execute_result",
          "data": {
            "text/plain": [
              "()"
            ]
          },
          "metadata": {},
          "execution_count": 291
        }
      ]
    },
    {
      "cell_type": "code",
      "metadata": {
        "colab": {
          "base_uri": "https://localhost:8080/",
          "height": 372
        },
        "id": "dkhiJBGJ9Ti1",
        "outputId": "2519855e-e1de-4c08-d137-cea8f092e1fd"
      },
      "source": [
        "Multiple_Runner(LassoReg, X, y)"
      ],
      "execution_count": 202,
      "outputs": [
        {
          "output_type": "stream",
          "name": "stdout",
          "text": [
            "Train MSE median: 0.42299001642010026\n",
            "Test MSE median: 0.41838777556308615\n",
            "\n",
            "Train_R2 median: 0.5995022761367287\n",
            "Test_R2 median: 0.41653638159372464\n"
          ]
        },
        {
          "output_type": "display_data",
          "data": {
            "image/png": "[encoded data removed]",
            "text/plain": [
              "<Figure size 720x288 with 2 Axes>"
            ]
          },
          "metadata": {
            "needs_background": "light"
          }
        }
      ]
    },
    {
      "cell_type": "markdown",
      "metadata": {
        "id": "gCM7V-QPApep"
      },
      "source": [
        "## Orig Data 0.2   three"
      ]
    },
    {
      "cell_type": "code",
      "metadata": {
        "colab": {
          "base_uri": "https://localhost:8080/"
        },
        "id": "0QOnawDU9Tep",
        "outputId": "94c654d1-023e-4718-f3e8-b007e98f19e3"
      },
      "source": [
        "X_train, X_test, y_train, y_test = train_test_split(X, y, test_size=0.2, random_state=5)\n",
        "print(X_train.shape)\n",
        "print(X_test.shape)"
      ],
      "execution_count": 298,
      "outputs": [
        {
          "output_type": "stream",
          "name": "stdout",
          "text": [
            "(43, 5)\n",
            "(11, 5)\n"
          ]
        }
      ]
    },
    {
      "cell_type": "code",
      "metadata": {
        "colab": {
          "base_uri": "https://localhost:8080/"
        },
        "id": "EnipBF259TXZ",
        "outputId": "8132b10c-49f8-4772-da4c-99e636e1a320"
      },
      "source": [
        "# CV = X train split\n",
        "#LassoReg = LassoCV(cv = 16, random_state=1, tol =1).fit(X, y) \n",
        "# CV = X split\n",
        "#LassoReg = LassoCV(cv = 27, random_state=1, tol =1).fit(X, y) \n",
        "LassoReg = LassoCV(cv = 43, random_state=1, tol = 0.01, n_alphas=5).fit(X, y) # CV = X split\n",
        "LassoReg.alphas_[4]/LassoReg.alphas_[0]"
      ],
      "execution_count": 307,
      "outputs": [
        {
          "output_type": "execute_result",
          "data": {
            "text/plain": [
              "0.001"
            ]
          },
          "metadata": {},
          "execution_count": 307
        }
      ]
    },
    {
      "cell_type": "code",
      "metadata": {
        "colab": {
          "base_uri": "https://localhost:8080/"
        },
        "id": "T8VugHUo9TTA",
        "outputId": "2db72ef1-7e25-4814-d7e6-5027dc811cc8"
      },
      "source": [
        "LassoReg.score(X,y)"
      ],
      "execution_count": 308,
      "outputs": [
        {
          "output_type": "execute_result",
          "data": {
            "text/plain": [
              "0.5832049683775525"
            ]
          },
          "metadata": {},
          "execution_count": 308
        }
      ]
    },
    {
      "cell_type": "code",
      "metadata": {
        "colab": {
          "base_uri": "https://localhost:8080/"
        },
        "id": "bNm85bI39TOx",
        "outputId": "61ca5651-218c-41af-9fc4-34c7ed64e0fd"
      },
      "source": [
        "y_pred_Train = LassoReg .predict(X_train) #Predictions on training model\n",
        "y_pred_Test  = LassoReg .predict(X_test)  #Predictions on testing model\n",
        "\n",
        "print('Intercept:',LassoReg .intercept_) #Intercept: -4.4999751446869665\n",
        "print('Coefficients:', LassoReg .coef_)"
      ],
      "execution_count": 301,
      "outputs": [
        {
          "output_type": "stream",
          "name": "stdout",
          "text": [
            "Intercept: -5.703990007706598\n",
            "Coefficients: [0.00000000e+00 0.00000000e+00 1.05493421e-05 0.00000000e+00\n",
            " 0.00000000e+00]\n"
          ]
        }
      ]
    },
    {
      "cell_type": "code",
      "metadata": {
        "colab": {
          "base_uri": "https://localhost:8080/",
          "height": 515
        },
        "id": "gP-h9xvCBc4T",
        "outputId": "c0a22721-2ed1-49b3-9b2e-435feb6d3ed0"
      },
      "source": [
        "Prediction_Plots(y_train, y_pred_Train, y_test, y_pred_Test)\n",
        "Metrics_Printer(y_train, y_pred_Train, y_test, y_pred_Test)"
      ],
      "execution_count": 302,
      "outputs": [
        {
          "output_type": "display_data",
          "data": {
            "image/png": "[encoded data removed]",
            "text/plain": [
              "<Figure size 720x288 with 2 Axes>"
            ]
          },
          "metadata": {
            "needs_background": "light"
          }
        },
        {
          "output_type": "stream",
          "name": "stdout",
          "text": [
            "Training Metrics:\n",
            "R squared: 0.5751583818204165\n",
            "Mean Absolute Error: 0.5247071378842045\n",
            "Mean Squared Error: 0.4412735291520134\n",
            "Root Mean Squared Error: 0.6642842231695808\n",
            "\n",
            "Testing Metrics:\n",
            "R squared: 0.6188329347323499\n",
            "Mean Absolute Error: 0.3640860173313547\n",
            "Mean Squared Error: 0.3211063594614175\n",
            "Root Mean Squared Error: 0.5666624740190739\n"
          ]
        },
        {
          "output_type": "execute_result",
          "data": {
            "text/plain": [
              "()"
            ]
          },
          "metadata": {},
          "execution_count": 302
        }
      ]
    },
    {
      "cell_type": "code",
      "metadata": {
        "colab": {
          "base_uri": "https://localhost:8080/",
          "height": 372
        },
        "id": "gU-4NcxaBcyw",
        "outputId": "0a830917-d971-46d1-b8e9-4624bf48aeca"
      },
      "source": [
        "Multiple_Runner(LassoReg, X, y)"
      ],
      "execution_count": 209,
      "outputs": [
        {
          "output_type": "stream",
          "name": "stdout",
          "text": [
            "Train MSE median: 0.42108049945381165\n",
            "Test MSE median: 0.4252885185393407\n",
            "\n",
            "Train_R2 median: 0.6015133763885868\n",
            "Test_R2 median: 0.4037117026384948\n"
          ]
        },
        {
          "output_type": "display_data",
          "data": {
            "image/png": "[encoded data removed]",
            "text/plain": [
              "<Figure size 720x288 with 2 Axes>"
            ]
          },
          "metadata": {
            "needs_background": "light"
          }
        }
      ]
    },
    {
      "cell_type": "markdown",
      "metadata": {
        "id": "s1itIDlrF39j"
      },
      "source": [
        "# Split 20% , tol = 0.1"
      ]
    },
    {
      "cell_type": "code",
      "metadata": {
        "colab": {
          "base_uri": "https://localhost:8080/"
        },
        "id": "fWaiz4xjBcvL",
        "outputId": "1d730724-b1bb-4f3a-f574-d5bae56da134"
      },
      "source": [
        "X_train, X_test, y_train, y_test = train_test_split(X, y, test_size=0.3, random_state=2)\n",
        "print(X_train.shape)\n",
        "print(X_test.shape)"
      ],
      "execution_count": 309,
      "outputs": [
        {
          "output_type": "stream",
          "name": "stdout",
          "text": [
            "(37, 5)\n",
            "(17, 5)\n"
          ]
        }
      ]
    },
    {
      "cell_type": "code",
      "metadata": {
        "colab": {
          "base_uri": "https://localhost:8080/"
        },
        "id": "SMsGRZJ2Bcqy",
        "outputId": "dcd2c9f8-148f-44ae-ada5-d5ffcf90d731"
      },
      "source": [
        "# CV = X train split\n",
        "#LassoReg = LassoCV(cv = 37, random_state=1, tol =0.1).fit(X, y) \n",
        "LassoReg = LassoCV(cv = 43, random_state=1, tol = 0.1, n_alphas=5).fit(X, y) # CV = X split\n",
        "LassoReg.alphas_[4]/LassoReg.alphas_[0]"
      ],
      "execution_count": 318,
      "outputs": [
        {
          "output_type": "execute_result",
          "data": {
            "text/plain": [
              "0.001"
            ]
          },
          "metadata": {},
          "execution_count": 318
        }
      ]
    },
    {
      "cell_type": "code",
      "metadata": {
        "colab": {
          "base_uri": "https://localhost:8080/"
        },
        "id": "6nHQnsLuiLyN",
        "outputId": "a9af0900-9939-402f-e6a3-3338375db7c6"
      },
      "source": [
        "LassoReg.alphas_[4]/LassoReg.alphas_[0]"
      ],
      "execution_count": 319,
      "outputs": [
        {
          "output_type": "execute_result",
          "data": {
            "text/plain": [
              "0.001"
            ]
          },
          "metadata": {},
          "execution_count": 319
        }
      ]
    },
    {
      "cell_type": "code",
      "metadata": {
        "colab": {
          "base_uri": "https://localhost:8080/"
        },
        "id": "5awcC91RBcpz",
        "outputId": "cde24443-3997-462e-88f9-f97420159258"
      },
      "source": [
        "LassoReg.score(X,y)"
      ],
      "execution_count": 320,
      "outputs": [
        {
          "output_type": "execute_result",
          "data": {
            "text/plain": [
              "0.5832049683775525"
            ]
          },
          "metadata": {},
          "execution_count": 320
        }
      ]
    },
    {
      "cell_type": "code",
      "metadata": {
        "colab": {
          "base_uri": "https://localhost:8080/"
        },
        "id": "cGwNrxJ1Bcj4",
        "outputId": "5a628450-c57e-478c-fe3e-4ab77b3efecd"
      },
      "source": [
        "y_pred_Train = LassoReg .predict(X_train) #Predictions on training model\n",
        "y_pred_Test  = LassoReg .predict(X_test)  #Predictions on testing model\n",
        "\n",
        "print('Intercept:',LassoReg .intercept_) #Intercept: -4.4999751446869665\n",
        "print('Coefficients:', LassoReg .coef_)"
      ],
      "execution_count": 315,
      "outputs": [
        {
          "output_type": "stream",
          "name": "stdout",
          "text": [
            "Intercept: -5.703990007706598\n",
            "Coefficients: [0.00000000e+00 0.00000000e+00 1.05493421e-05 0.00000000e+00\n",
            " 0.00000000e+00]\n"
          ]
        }
      ]
    },
    {
      "cell_type": "code",
      "metadata": {
        "colab": {
          "base_uri": "https://localhost:8080/",
          "height": 515
        },
        "id": "7fFvMDxTBccc",
        "outputId": "96c41a0d-06cf-4db1-c81f-9561ede10a4a"
      },
      "source": [
        "Prediction_Plots(y_train, y_pred_Train, y_test, y_pred_Test)\n",
        "Metrics_Printer(y_train, y_pred_Train, y_test, y_pred_Test)"
      ],
      "execution_count": 316,
      "outputs": [
        {
          "output_type": "display_data",
          "data": {
            "image/png": "[encoded data removed]",
            "text/plain": [
              "<Figure size 720x288 with 2 Axes>"
            ]
          },
          "metadata": {
            "needs_background": "light"
          }
        },
        {
          "output_type": "stream",
          "name": "stdout",
          "text": [
            "Training Metrics:\n",
            "R squared: 0.368288467379843\n",
            "Mean Absolute Error: 0.5378808027743035\n",
            "Mean Squared Error: 0.4508050174447532\n",
            "Root Mean Squared Error: 0.6714201497160724\n",
            "\n",
            "Testing Metrics:\n",
            "R squared: 0.7888278952657087\n",
            "Mean Absolute Error: 0.39210373041273333\n",
            "Mean Squared Error: 0.3427732977739\n",
            "Root Mean Squared Error: 0.585468443021398\n"
          ]
        },
        {
          "output_type": "execute_result",
          "data": {
            "text/plain": [
              "()"
            ]
          },
          "metadata": {},
          "execution_count": 316
        }
      ]
    },
    {
      "cell_type": "code",
      "metadata": {
        "colab": {
          "base_uri": "https://localhost:8080/",
          "height": 372
        },
        "id": "yGV04w0MGZD1",
        "outputId": "84c79995-5121-45e2-9cfc-8761a354be7d"
      },
      "source": [
        "Multiple_Runner(LassoReg, X, y)"
      ],
      "execution_count": 317,
      "outputs": [
        {
          "output_type": "stream",
          "name": "stdout",
          "text": [
            "Train MSE median: 0.41690758309426923\n",
            "Test MSE median: 0.4396599358253828\n",
            "\n",
            "Train_R2 median: 0.6000585999314818\n",
            "Test_R2 median: 0.41110559736247543\n"
          ]
        },
        {
          "output_type": "display_data",
          "data": {
            "image/png": "[encoded data removed]",
            "text/plain": [
              "<Figure size 720x288 with 2 Axes>"
            ]
          },
          "metadata": {
            "needs_background": "light"
          }
        }
      ]
    },
    {
      "cell_type": "markdown",
      "metadata": {
        "id": "r29iQcFWKDN0"
      },
      "source": [
        "# Split 3% , tol = 0.1\n"
      ]
    },
    {
      "cell_type": "code",
      "metadata": {
        "colab": {
          "base_uri": "https://localhost:8080/"
        },
        "id": "OcPPEGc3GY-7",
        "outputId": "f8df01aa-424b-48fa-def8-93df321a7fd2"
      },
      "source": [
        "X_train, X_test, y_train, y_test = train_test_split(X, y, test_size=0.3, random_state=5)\n",
        "print(X_train.shape)\n",
        "print(X_test.shape)"
      ],
      "execution_count": 216,
      "outputs": [
        {
          "output_type": "stream",
          "name": "stdout",
          "text": [
            "(37, 4)\n",
            "(17, 4)\n"
          ]
        }
      ]
    },
    {
      "cell_type": "code",
      "metadata": {
        "id": "2KdJ_itRGY6i"
      },
      "source": [
        "# CV = X train split\n",
        "LassoReg = LassoCV(cv = 37, random_state=1, tol =0.1).fit(X, y) "
      ],
      "execution_count": 217,
      "outputs": []
    },
    {
      "cell_type": "code",
      "metadata": {
        "colab": {
          "base_uri": "https://localhost:8080/"
        },
        "id": "HedZtMQ9GY2K",
        "outputId": "98e235e2-9e9f-4885-e6c5-3bb2d8b8fed8"
      },
      "source": [
        "LassoReg.score(X,y)"
      ],
      "execution_count": 218,
      "outputs": [
        {
          "output_type": "execute_result",
          "data": {
            "text/plain": [
              "0.5832228282977924"
            ]
          },
          "metadata": {},
          "execution_count": 218
        }
      ]
    },
    {
      "cell_type": "code",
      "metadata": {
        "colab": {
          "base_uri": "https://localhost:8080/"
        },
        "id": "ixpGi8ZM9TL0",
        "outputId": "16cd7955-4940-46cc-cc03-2a50b200bb37"
      },
      "source": [
        "y_pred_Train = LassoReg .predict(X_train) #Predictions on training model\n",
        "y_pred_Test  = LassoReg .predict(X_test)  #Predictions on testing model\n",
        "\n",
        "print('Intercept:',LassoReg .intercept_) #Intercept: -4.4999751446869665\n",
        "print('Coefficients:', LassoReg .coef_)"
      ],
      "execution_count": 219,
      "outputs": [
        {
          "output_type": "stream",
          "name": "stdout",
          "text": [
            "Intercept: -5.7305110494746865\n",
            "Coefficients: [0.00000000e+00 1.05983919e-05 0.00000000e+00 0.00000000e+00]\n"
          ]
        }
      ]
    },
    {
      "cell_type": "code",
      "metadata": {
        "colab": {
          "base_uri": "https://localhost:8080/",
          "height": 515
        },
        "id": "neQTJC8DKUy7",
        "outputId": "8d46240d-6c22-4509-dc9d-e03e27b7d47f"
      },
      "source": [
        "Prediction_Plots(y_train, y_pred_Train, y_test, y_pred_Test)\n",
        "Metrics_Printer(y_train, y_pred_Train, y_test, y_pred_Test)"
      ],
      "execution_count": 220,
      "outputs": [
        {
          "output_type": "display_data",
          "data": {
            "image/png": "[encoded data removed]",
            "text/plain": [
              "<Figure size 720x288 with 2 Axes>"
            ]
          },
          "metadata": {
            "needs_background": "light"
          }
        },
        {
          "output_type": "stream",
          "name": "stdout",
          "text": [
            "Training Metrics:\n",
            "R squared: 0.5824345272126727\n",
            "Mean Absolute Error: 0.5012252591617238\n",
            "Mean Squared Error: 0.4035273946677542\n",
            "Root Mean Squared Error: 0.6352380614130062\n",
            "\n",
            "Testing Metrics:\n",
            "R squared: 0.579641189953404\n",
            "Mean Absolute Error: 0.47029195882201713\n",
            "Mean Squared Error: 0.4456149217183709\n",
            "Root Mean Squared Error: 0.6675439474059899\n"
          ]
        },
        {
          "output_type": "execute_result",
          "data": {
            "text/plain": [
              "()"
            ]
          },
          "metadata": {},
          "execution_count": 220
        }
      ]
    },
    {
      "cell_type": "code",
      "metadata": {
        "colab": {
          "base_uri": "https://localhost:8080/",
          "height": 372
        },
        "id": "5rIgWMZTKUuT",
        "outputId": "d8c53153-0a91-4622-9315-90e6b5c17796"
      },
      "source": [
        "Multiple_Runner(LassoReg, X, y)"
      ],
      "execution_count": 221,
      "outputs": [
        {
          "output_type": "stream",
          "name": "stdout",
          "text": [
            "Train MSE median: 0.41484562618236565\n",
            "Test MSE median: 0.45502248709469295\n",
            "\n",
            "Train_R2 median: 0.6021553872206249\n",
            "Test_R2 median: 0.396346631558064\n"
          ]
        },
        {
          "output_type": "display_data",
          "data": {
            "image/png": "[encoded data removed]",
            "text/plain": [
              "<Figure size 720x288 with 2 Axes>"
            ]
          },
          "metadata": {
            "needs_background": "light"
          }
        }
      ]
    },
    {
      "cell_type": "markdown",
      "metadata": {
        "id": "GB7ZpSn1NjSc"
      },
      "source": [
        "# ADJUSTED DATA\n",
        "\n",
        "Substitute Qty split o.o3  TOL o.01\n"
      ]
    },
    {
      "cell_type": "code",
      "metadata": {
        "colab": {
          "base_uri": "https://localhost:8080/",
          "height": 213
        },
        "id": "VY_i1x_fKUqS",
        "outputId": "020b7cb3-588c-40e7-e2de-2701e837d1e7"
      },
      "source": [
        "ADJUSTED_data = pd.read_csv('/content/Porcelana_OP_adelphi_2021_SCALED.csv')\n",
        "ADJUSTED_data.head(2)"
      ],
      "execution_count": 353,
      "outputs": [
        {
          "output_type": "execute_result",
          "data": {
            "text/html": [
              "<div>\n",
              "<style scoped>\n",
              "    .dataframe tbody tr th:only-of-type {\n",
              "        vertical-align: middle;\n",
              "    }\n",
              "\n",
              "    .dataframe tbody tr th {\n",
              "        vertical-align: top;\n",
              "    }\n",
              "\n",
              "    .dataframe thead th {\n",
              "        text-align: right;\n",
              "    }\n",
              "</style>\n",
              "<table border=\"1\" class=\"dataframe\">\n",
              "  <thead>\n",
              "    <tr style=\"text-align: right;\">\n",
              "      <th></th>\n",
              "      <th>date</th>\n",
              "      <th>Quantity</th>\n",
              "      <th>Seasonal</th>\n",
              "      <th>Consumer_loans</th>\n",
              "      <th>Construction_lic_unt</th>\n",
              "      <th>Construction_lic_area</th>\n",
              "      <th>Construction_lic_unt_SI</th>\n",
              "      <th>Construction_lic_unt_NO_SI</th>\n",
              "      <th>Construction_lic_area_SI</th>\n",
              "      <th>Construction_lic_area_NO_SI</th>\n",
              "      <th>Gray_cement_prod</th>\n",
              "      <th>Gray_cement_dispatch</th>\n",
              "      <th>Gray_cement_dispatch_Factory</th>\n",
              "      <th>Gray_cement_dispatch_comercial</th>\n",
              "      <th>Gray_cement_dispatch_contractor</th>\n",
              "      <th>Gray_cement_dispatch_other</th>\n",
              "      <th>DTF(interest_rate)</th>\n",
              "      <th>GDP_Constr</th>\n",
              "      <th>GDP_Total</th>\n",
              "      <th>Inflation</th>\n",
              "      <th>USD_exchange</th>\n",
              "      <th>Oil-brent</th>\n",
              "      <th>Oil_WTI</th>\n",
              "      <th>ISE</th>\n",
              "      <th>ICC</th>\n",
              "      <th>IEC</th>\n",
              "      <th>ICE</th>\n",
              "      <th>Unemployment%</th>\n",
              "      <th>RADAR_Constr</th>\n",
              "      <th>RADAR_Rev</th>\n",
              "      <th>RADAR_Toilets</th>\n",
              "      <th>RADAR_HomeAppliance</th>\n",
              "      <th>RADAR_Paint</th>\n",
              "      <th>RADAR_Furniture</th>\n",
              "      <th>RADAR_Tools</th>\n",
              "      <th>RADAR_Elect</th>\n",
              "      <th>RADAR_Plumbing</th>\n",
              "      <th>RADAR_Wood</th>\n",
              "      <th>RADAR_Supply</th>\n",
              "      <th>RADAR_Remodel</th>\n",
              "      <th>...</th>\n",
              "      <th>Preferencial_creditlag_8</th>\n",
              "      <th>loan_overdraftslag_8</th>\n",
              "      <th>Credit_cardlag_8</th>\n",
              "      <th>Treasury_loanlag_8</th>\n",
              "      <th>Housing_loanlag_8</th>\n",
              "      <th>Consumer_creditlag_9</th>\n",
              "      <th>Consumer_microcreditlag_9</th>\n",
              "      <th>Ordinary_creditlag_9</th>\n",
              "      <th>Preferencial_creditlag_9</th>\n",
              "      <th>loan_overdraftslag_9</th>\n",
              "      <th>Credit_cardlag_9</th>\n",
              "      <th>Treasury_loanlag_9</th>\n",
              "      <th>Housing_loanlag_9</th>\n",
              "      <th>Consumer_creditlag_10</th>\n",
              "      <th>Consumer_microcreditlag_10</th>\n",
              "      <th>Ordinary_creditlag_10</th>\n",
              "      <th>Preferencial_creditlag_10</th>\n",
              "      <th>loan_overdraftslag_10</th>\n",
              "      <th>Credit_cardlag_10</th>\n",
              "      <th>Treasury_loanlag_10</th>\n",
              "      <th>Housing_loanlag_10</th>\n",
              "      <th>Consumer_creditlag_11</th>\n",
              "      <th>Consumer_microcreditlag_11</th>\n",
              "      <th>Ordinary_creditlag_11</th>\n",
              "      <th>Preferencial_creditlag_11</th>\n",
              "      <th>loan_overdraftslag_11</th>\n",
              "      <th>Credit_cardlag_11</th>\n",
              "      <th>Treasury_loanlag_11</th>\n",
              "      <th>Housing_loanlag_11</th>\n",
              "      <th>Consumer_creditlag_12</th>\n",
              "      <th>Consumer_microcreditlag_12</th>\n",
              "      <th>Ordinary_creditlag_12</th>\n",
              "      <th>Preferencial_creditlag_12</th>\n",
              "      <th>loan_overdraftslag_12</th>\n",
              "      <th>Credit_cardlag_12</th>\n",
              "      <th>Treasury_loanlag_12</th>\n",
              "      <th>Housing_loanlag_12</th>\n",
              "      <th>holiday</th>\n",
              "      <th>sunday</th>\n",
              "      <th>working_day</th>\n",
              "    </tr>\n",
              "  </thead>\n",
              "  <tbody>\n",
              "    <tr>\n",
              "      <th>0</th>\n",
              "      <td>2017-01-01</td>\n",
              "      <td>1.503548</td>\n",
              "      <td>0.699923</td>\n",
              "      <td>112579.4297</td>\n",
              "      <td>11303.0</td>\n",
              "      <td>1185131.0</td>\n",
              "      <td>3587.0</td>\n",
              "      <td>7716.0</td>\n",
              "      <td>229478.0</td>\n",
              "      <td>955653.0</td>\n",
              "      <td>897063.518</td>\n",
              "      <td>913190.407</td>\n",
              "      <td>194276.020</td>\n",
              "      <td>502084.8330</td>\n",
              "      <td>171559.9665</td>\n",
              "      <td>45269.5875</td>\n",
              "      <td>0.0694</td>\n",
              "      <td>14753.34784</td>\n",
              "      <td>206242.568</td>\n",
              "      <td>5.47</td>\n",
              "      <td>2944.65</td>\n",
              "      <td>52.19</td>\n",
              "      <td>52.81</td>\n",
              "      <td>102.548972</td>\n",
              "      <td>-30.2</td>\n",
              "      <td>-28.3</td>\n",
              "      <td>-33.1</td>\n",
              "      <td>11.733267</td>\n",
              "      <td>1.044525e+11</td>\n",
              "      <td>1.323489e+11</td>\n",
              "      <td>1.727682e+11</td>\n",
              "      <td>1.050914e+11</td>\n",
              "      <td>8.847567e+10</td>\n",
              "      <td>8.354725e+10</td>\n",
              "      <td>5.008444e+10</td>\n",
              "      <td>9.372000e+10</td>\n",
              "      <td>3.037115e+10</td>\n",
              "      <td>3.136015e+10</td>\n",
              "      <td>1.585430e+11</td>\n",
              "      <td>1.050763e+12</td>\n",
              "      <td>...</td>\n",
              "      <td>4445890.861</td>\n",
              "      <td>6402426.269</td>\n",
              "      <td>3390803.016</td>\n",
              "      <td>550883.0739</td>\n",
              "      <td>1302564.560</td>\n",
              "      <td>4680431.000</td>\n",
              "      <td>460632.0000</td>\n",
              "      <td>5702443.000</td>\n",
              "      <td>4657354.000</td>\n",
              "      <td>7012296.000</td>\n",
              "      <td>3283417.000</td>\n",
              "      <td>549789.0000</td>\n",
              "      <td>1454672.00</td>\n",
              "      <td>4941981.754</td>\n",
              "      <td>531850.1926</td>\n",
              "      <td>7315235.649</td>\n",
              "      <td>6120086.089</td>\n",
              "      <td>8140200.383</td>\n",
              "      <td>3814229.013</td>\n",
              "      <td>632387.5921</td>\n",
              "      <td>1627959.289</td>\n",
              "      <td>4068020.900</td>\n",
              "      <td>438682.2679</td>\n",
              "      <td>6513619.182</td>\n",
              "      <td>6137144.374</td>\n",
              "      <td>6675101.294</td>\n",
              "      <td>2989980.729</td>\n",
              "      <td>483448.3473</td>\n",
              "      <td>1298811.962</td>\n",
              "      <td>3106784.5</td>\n",
              "      <td>386289.5525</td>\n",
              "      <td>4875376.339</td>\n",
              "      <td>4791146.877</td>\n",
              "      <td>5996088.922</td>\n",
              "      <td>3013612.505</td>\n",
              "      <td>470541.3290</td>\n",
              "      <td>1093819.181</td>\n",
              "      <td>1</td>\n",
              "      <td>5</td>\n",
              "      <td>25</td>\n",
              "    </tr>\n",
              "    <tr>\n",
              "      <th>1</th>\n",
              "      <td>2017-02-01</td>\n",
              "      <td>0.076213</td>\n",
              "      <td>0.316156</td>\n",
              "      <td>113438.0949</td>\n",
              "      <td>16187.0</td>\n",
              "      <td>1590979.0</td>\n",
              "      <td>4659.0</td>\n",
              "      <td>11528.0</td>\n",
              "      <td>272961.0</td>\n",
              "      <td>1318018.0</td>\n",
              "      <td>1025704.960</td>\n",
              "      <td>1007968.299</td>\n",
              "      <td>228359.839</td>\n",
              "      <td>530826.1625</td>\n",
              "      <td>199731.6950</td>\n",
              "      <td>49050.6025</td>\n",
              "      <td>0.0678</td>\n",
              "      <td>14753.34784</td>\n",
              "      <td>206242.568</td>\n",
              "      <td>5.18</td>\n",
              "      <td>2881.68</td>\n",
              "      <td>53.40</td>\n",
              "      <td>54.01</td>\n",
              "      <td>102.919033</td>\n",
              "      <td>-24.3</td>\n",
              "      <td>-19.9</td>\n",
              "      <td>-31.0</td>\n",
              "      <td>10.504292</td>\n",
              "      <td>1.574855e+11</td>\n",
              "      <td>8.351517e+10</td>\n",
              "      <td>1.096908e+11</td>\n",
              "      <td>8.252536e+10</td>\n",
              "      <td>8.582517e+10</td>\n",
              "      <td>1.522091e+11</td>\n",
              "      <td>5.056706e+10</td>\n",
              "      <td>6.034851e+10</td>\n",
              "      <td>2.138243e+10</td>\n",
              "      <td>2.216364e+10</td>\n",
              "      <td>2.104634e+11</td>\n",
              "      <td>1.036176e+12</td>\n",
              "      <td>...</td>\n",
              "      <td>6566090.070</td>\n",
              "      <td>7930536.312</td>\n",
              "      <td>4347164.930</td>\n",
              "      <td>677598.1836</td>\n",
              "      <td>1864166.572</td>\n",
              "      <td>4353892.017</td>\n",
              "      <td>433679.7772</td>\n",
              "      <td>5854575.608</td>\n",
              "      <td>4445890.861</td>\n",
              "      <td>6402426.269</td>\n",
              "      <td>3390803.016</td>\n",
              "      <td>550883.0739</td>\n",
              "      <td>1302564.56</td>\n",
              "      <td>4680431.000</td>\n",
              "      <td>460632.0000</td>\n",
              "      <td>5702443.000</td>\n",
              "      <td>4657354.000</td>\n",
              "      <td>7012296.000</td>\n",
              "      <td>3283417.000</td>\n",
              "      <td>549789.0000</td>\n",
              "      <td>1454672.000</td>\n",
              "      <td>4941981.754</td>\n",
              "      <td>531850.1926</td>\n",
              "      <td>7315235.649</td>\n",
              "      <td>6120086.089</td>\n",
              "      <td>8140200.383</td>\n",
              "      <td>3814229.013</td>\n",
              "      <td>632387.5921</td>\n",
              "      <td>1627959.289</td>\n",
              "      <td>4068020.9</td>\n",
              "      <td>438682.2679</td>\n",
              "      <td>6513619.182</td>\n",
              "      <td>6137144.374</td>\n",
              "      <td>6675101.294</td>\n",
              "      <td>2989980.729</td>\n",
              "      <td>483448.3473</td>\n",
              "      <td>1298811.962</td>\n",
              "      <td>0</td>\n",
              "      <td>4</td>\n",
              "      <td>24</td>\n",
              "    </tr>\n",
              "  </tbody>\n",
              "</table>\n",
              "<p>2 rows × 943 columns</p>\n",
              "</div>"
            ],
            "text/plain": [
              "         date  Quantity  Seasonal  ...  holiday  sunday  working_day\n",
              "0  2017-01-01  1.503548  0.699923  ...        1       5           25\n",
              "1  2017-02-01  0.076213  0.316156  ...        0       4           24\n",
              "\n",
              "[2 rows x 943 columns]"
            ]
          },
          "metadata": {},
          "execution_count": 353
        }
      ]
    },
    {
      "cell_type": "code",
      "metadata": {
        "id": "3J2_xol1KUmy"
      },
      "source": [
        "#Add new variable for ADJUSTED  Quantity\n",
        "#This is the avg of previous Aprils\n",
        "\n",
        "ADJUSTED_data[\"Quantity_adj\"] = ADJUSTED_data['Quantity']\n",
        "ADJUSTED_data.at[39,'Quantity_adj'] =  -1.303515\n",
        "# Next drop the original Qunatity column\n",
        "ADJUSTED_data.drop(columns='Quantity')"
      ],
      "execution_count": null,
      "outputs": []
    },
    {
      "cell_type": "code",
      "metadata": {
        "id": "E60Va2VWKUjA"
      },
      "source": [
        "ADJUSTED_data['date'] = pd.to_datetime(ADJUSTED_data['date'])\n",
        "ADJUSTED_data['date']= ADJUSTED_data['date'].map(dt.datetime.toordinal)"
      ],
      "execution_count": 355,
      "outputs": []
    },
    {
      "cell_type": "code",
      "metadata": {
        "id": "_7fMVszY9TJM"
      },
      "source": [
        "ADJUSTED_data = ADJUSTED_data[['date' ,'Quantity', 'Seasonal', 'Gray_cement_dispatch_comercial', 'ISE',\n",
        "       'Construction_lic_area/unt_SIlag_4', ]]"
      ],
      "execution_count": 356,
      "outputs": []
    },
    {
      "cell_type": "code",
      "metadata": {
        "id": "Kp7NJ931obsM"
      },
      "source": [
        "y = data['Quantity']\n",
        "X = data.loc[: ,data.columns != 'Quantity']"
      ],
      "execution_count": 357,
      "outputs": []
    },
    {
      "cell_type": "code",
      "metadata": {
        "id": "EUe0GUquobn3"
      },
      "source": [
        "cols =data.columns.difference(['date'])"
      ],
      "execution_count": 358,
      "outputs": []
    },
    {
      "cell_type": "code",
      "metadata": {
        "id": "WuIY2jX_rjoN"
      },
      "source": [
        "#This is the avg of previous Aprils\n",
        "\n",
        "ADJUSTED_data[\"Quantity_adj\"] = ADJUSTED_data['Quantity']\n",
        "ADJUSTED_data.at[39,'Quantity_adj'] =  -1.303515\n",
        "# Next drop the original Qunatity column\n",
        "ADJUSTED_data.drop(columns='Quantity')"
      ],
      "execution_count": null,
      "outputs": []
    },
    {
      "cell_type": "code",
      "metadata": {
        "id": "LF258KeToblz"
      },
      "source": [
        "from sklearn.preprocessing import StandardScaler\n",
        "sc = StandardScaler()"
      ],
      "execution_count": 360,
      "outputs": []
    },
    {
      "cell_type": "code",
      "metadata": {
        "id": "QPlMOJslobin"
      },
      "source": [
        "ADJUSTED_data[cols] = sc.fit_transform(ADJUSTED_data[cols])"
      ],
      "execution_count": 361,
      "outputs": []
    },
    {
      "cell_type": "code",
      "metadata": {
        "colab": {
          "base_uri": "https://localhost:8080/"
        },
        "id": "air0IqGhobfJ",
        "outputId": "8ea7ecd8-f093-464b-f21c-441e4ca15e2a"
      },
      "source": [
        "ADJUSTED_data.shape"
      ],
      "execution_count": 362,
      "outputs": [
        {
          "output_type": "execute_result",
          "data": {
            "text/plain": [
              "(54, 7)"
            ]
          },
          "metadata": {},
          "execution_count": 362
        }
      ]
    },
    {
      "cell_type": "code",
      "metadata": {
        "colab": {
          "base_uri": "https://localhost:8080/",
          "height": 226
        },
        "id": "Y17251CgobcJ",
        "outputId": "9fa21c6d-f64e-4fc8-e3b5-844d879cc5e1"
      },
      "source": [
        "ADJUSTED_data.head()"
      ],
      "execution_count": 365,
      "outputs": [
        {
          "output_type": "execute_result",
          "data": {
            "text/html": [
              "<div>\n",
              "<style scoped>\n",
              "    .dataframe tbody tr th:only-of-type {\n",
              "        vertical-align: middle;\n",
              "    }\n",
              "\n",
              "    .dataframe tbody tr th {\n",
              "        vertical-align: top;\n",
              "    }\n",
              "\n",
              "    .dataframe thead th {\n",
              "        text-align: right;\n",
              "    }\n",
              "</style>\n",
              "<table border=\"1\" class=\"dataframe\">\n",
              "  <thead>\n",
              "    <tr style=\"text-align: right;\">\n",
              "      <th></th>\n",
              "      <th>date</th>\n",
              "      <th>Quantity</th>\n",
              "      <th>Seasonal</th>\n",
              "      <th>Gray_cement_dispatch_comercial</th>\n",
              "      <th>ISE</th>\n",
              "      <th>Construction_lic_area/unt_SIlag_4</th>\n",
              "      <th>Quantity_adj</th>\n",
              "    </tr>\n",
              "  </thead>\n",
              "  <tbody>\n",
              "    <tr>\n",
              "      <th>0</th>\n",
              "      <td>736330</td>\n",
              "      <td>1.539880</td>\n",
              "      <td>0.703768</td>\n",
              "      <td>-0.536381</td>\n",
              "      <td>-0.687592</td>\n",
              "      <td>1.924774</td>\n",
              "      <td>1.503548</td>\n",
              "    </tr>\n",
              "    <tr>\n",
              "      <th>1</th>\n",
              "      <td>736361</td>\n",
              "      <td>0.110421</td>\n",
              "      <td>0.325418</td>\n",
              "      <td>-0.137113</td>\n",
              "      <td>-0.608165</td>\n",
              "      <td>-0.287215</td>\n",
              "      <td>0.076213</td>\n",
              "    </tr>\n",
              "    <tr>\n",
              "      <th>2</th>\n",
              "      <td>736389</td>\n",
              "      <td>-1.314169</td>\n",
              "      <td>-0.250193</td>\n",
              "      <td>0.385513</td>\n",
              "      <td>-0.770505</td>\n",
              "      <td>-1.573761</td>\n",
              "      <td>-1.346258</td>\n",
              "    </tr>\n",
              "    <tr>\n",
              "      <th>3</th>\n",
              "      <td>736420</td>\n",
              "      <td>-2.091651</td>\n",
              "      <td>-2.371991</td>\n",
              "      <td>-0.872854</td>\n",
              "      <td>-0.594309</td>\n",
              "      <td>-0.738789</td>\n",
              "      <td>-2.122585</td>\n",
              "    </tr>\n",
              "    <tr>\n",
              "      <th>4</th>\n",
              "      <td>736450</td>\n",
              "      <td>-0.631964</td>\n",
              "      <td>-0.621405</td>\n",
              "      <td>-0.260166</td>\n",
              "      <td>-0.575749</td>\n",
              "      <td>0.417245</td>\n",
              "      <td>-0.665067</td>\n",
              "    </tr>\n",
              "  </tbody>\n",
              "</table>\n",
              "</div>"
            ],
            "text/plain": [
              "     date  Quantity  ...  Construction_lic_area/unt_SIlag_4  Quantity_adj\n",
              "0  736330  1.539880  ...                           1.924774      1.503548\n",
              "1  736361  0.110421  ...                          -0.287215      0.076213\n",
              "2  736389 -1.314169  ...                          -1.573761     -1.346258\n",
              "3  736420 -2.091651  ...                          -0.738789     -2.122585\n",
              "4  736450 -0.631964  ...                           0.417245     -0.665067\n",
              "\n",
              "[5 rows x 7 columns]"
            ]
          },
          "metadata": {},
          "execution_count": 365
        }
      ]
    },
    {
      "cell_type": "code",
      "metadata": {
        "colab": {
          "base_uri": "https://localhost:8080/"
        },
        "id": "-9GU1dIPobY2",
        "outputId": "314b3edb-384a-48ca-a97b-2f5271881323"
      },
      "source": [
        "X_train, X_test, y_train, y_test = train_test_split(X, y, test_size=0.2, random_state=5)\n",
        "print(X_train.shape)\n",
        "print(X_test.shape)"
      ],
      "execution_count": 366,
      "outputs": [
        {
          "output_type": "stream",
          "name": "stdout",
          "text": [
            "(43, 5)\n",
            "(11, 5)\n"
          ]
        }
      ]
    },
    {
      "cell_type": "code",
      "metadata": {
        "colab": {
          "base_uri": "https://localhost:8080/"
        },
        "id": "WwLSdIzqsjTc",
        "outputId": "cea633e3-1268-4e59-b8c0-03429a99cc1f"
      },
      "source": [
        "# CV = X train split\n",
        "#LassoReg = LassoCV(cv = 16, random_state=1, tol =1).fit(X, y) \n",
        "# CV = X split\n",
        "#LassoReg = LassoCV(cv = 27, random_state=1, tol =1).fit(X, y) \n",
        "LassoReg = LassoCV(cv = 43, random_state=1, tol = 0.01, n_alphas=5).fit(X, y) # CV = X split\n",
        "LassoReg.alphas_[4]/LassoReg.alphas_[0]"
      ],
      "execution_count": 367,
      "outputs": [
        {
          "output_type": "execute_result",
          "data": {
            "text/plain": [
              "0.0010000000000000002"
            ]
          },
          "metadata": {},
          "execution_count": 367
        }
      ]
    },
    {
      "cell_type": "code",
      "metadata": {
        "colab": {
          "base_uri": "https://localhost:8080/"
        },
        "id": "Hv_vQApysjQJ",
        "outputId": "ee66a7b7-8c3f-4145-f46e-c3d53386a680"
      },
      "source": [
        "LassoReg.score(X,y)"
      ],
      "execution_count": 368,
      "outputs": [
        {
          "output_type": "execute_result",
          "data": {
            "text/plain": [
              "0.7582461411245608"
            ]
          },
          "metadata": {},
          "execution_count": 368
        }
      ]
    },
    {
      "cell_type": "code",
      "metadata": {
        "colab": {
          "base_uri": "https://localhost:8080/"
        },
        "id": "g9Ri6r9usjOP",
        "outputId": "f81e5503-58fd-4295-c5dd-201bf65482ad"
      },
      "source": [
        "y_pred_Train = LassoReg .predict(X_train) #Predictions on training model\n",
        "y_pred_Test  = LassoReg .predict(X_test)  #Predictions on testing model\n",
        "\n",
        "print('Intercept:',LassoReg .intercept_) #Intercept: -4.4999751446869665\n",
        "print('Coefficients:', LassoReg .coef_)"
      ],
      "execution_count": 369,
      "outputs": [
        {
          "output_type": "stream",
          "name": "stdout",
          "text": [
            "Intercept: 1.3185999339649957e-17\n",
            "Coefficients: [0.         0.282596   0.39057196 0.34889242 0.18087969]\n"
          ]
        }
      ]
    },
    {
      "cell_type": "code",
      "metadata": {
        "colab": {
          "base_uri": "https://localhost:8080/",
          "height": 515
        },
        "id": "5U8LAyQ7sjLH",
        "outputId": "1de9d525-d0b0-4a0b-f0d4-32c1660ba0b5"
      },
      "source": [
        "Prediction_Plots(y_train, y_pred_Train, y_test, y_pred_Test)\n",
        "Metrics_Printer(y_train, y_pred_Train, y_test, y_pred_Test)"
      ],
      "execution_count": 370,
      "outputs": [
        {
          "output_type": "display_data",
          "data": {
            "image/png": "[encoded data removed]",
            "text/plain": [
              "<Figure size 720x288 with 2 Axes>"
            ]
          },
          "metadata": {
            "needs_background": "light"
          }
        },
        {
          "output_type": "stream",
          "name": "stdout",
          "text": [
            "Training Metrics:\n",
            "R squared: 0.7681719913036688\n",
            "Mean Absolute Error: 0.3964560258483259\n",
            "Mean Squared Error: 0.24079459068078163\n",
            "Root Mean Squared Error: 0.49070825413964825\n",
            "\n",
            "Testing Metrics:\n",
            "R squared: 0.708576514333932\n",
            "Mean Absolute Error: 0.38463863840283385\n",
            "Mean Squared Error: 0.24550372545455515\n",
            "Root Mean Squared Error: 0.49548332510242477\n"
          ]
        },
        {
          "output_type": "execute_result",
          "data": {
            "text/plain": [
              "()"
            ]
          },
          "metadata": {},
          "execution_count": 370
        }
      ]
    },
    {
      "cell_type": "code",
      "metadata": {
        "colab": {
          "base_uri": "https://localhost:8080/",
          "height": 372
        },
        "id": "I75ECiMDsjHS",
        "outputId": "a9bff2b0-2f6e-4cdf-b0d6-bf44f28cbb12"
      },
      "source": [
        "Multiple_Runner(LassoReg, X, y)"
      ],
      "execution_count": 371,
      "outputs": [
        {
          "output_type": "stream",
          "name": "stdout",
          "text": [
            "Train MSE median: 0.23904875522540406\n",
            "Test MSE median: 0.28388369363527743\n",
            "\n",
            "Train_R2 median: 0.7713240277087616\n",
            "Test_R2 median: 0.612380268540174\n"
          ]
        },
        {
          "output_type": "display_data",
          "data": {
            "image/png": "[encoded data removed]",
            "text/plain": [
              "<Figure size 720x288 with 2 Axes>"
            ]
          },
          "metadata": {
            "needs_background": "light"
          }
        }
      ]
    },
    {
      "cell_type": "markdown",
      "metadata": {
        "id": "npwHNrfPtosw"
      },
      "source": [
        "### adj data , split o.5 TOL 0.01"
      ]
    },
    {
      "cell_type": "code",
      "metadata": {
        "id": "Lb0V7j7nsjED"
      },
      "source": [
        ""
      ],
      "execution_count": null,
      "outputs": []
    },
    {
      "cell_type": "code",
      "metadata": {
        "id": "DpJk6ZkVsjAc"
      },
      "source": [
        ""
      ],
      "execution_count": null,
      "outputs": []
    },
    {
      "cell_type": "code",
      "metadata": {
        "id": "e-xmioOpv8D1"
      },
      "source": [
        ""
      ],
      "execution_count": null,
      "outputs": []
    },
    {
      "cell_type": "code",
      "metadata": {
        "id": "RFx7QC1sv77t"
      },
      "source": [
        ""
      ],
      "execution_count": null,
      "outputs": []
    },
    {
      "cell_type": "code",
      "metadata": {
        "id": "slPrUPX4v7wM"
      },
      "source": [
        ""
      ],
      "execution_count": null,
      "outputs": []
    },
    {
      "cell_type": "code",
      "metadata": {
        "id": "lYELq78C9TCx"
      },
      "source": [
        ""
      ],
      "execution_count": null,
      "outputs": []
    },
    {
      "cell_type": "code",
      "metadata": {
        "id": "ab6Y1qoXYwkw"
      },
      "source": [
        "#####"
      ],
      "execution_count": 45,
      "outputs": []
    },
    {
      "cell_type": "code",
      "metadata": {
        "colab": {
          "base_uri": "https://localhost:8080/",
          "height": 210
        },
        "id": "6CiroKIofPEF",
        "outputId": "b41efb0d-3cda-4c31-b788-3a546dd97041"
      },
      "source": [
        "# TOL tells LAsso when to stop searching for some min \n",
        "# value .  \n",
        "\n",
        "# Teh default is 1 / 10,ooo.\n",
        "# Ours ran on any # greater thna tha\n",
        "#tols = [0.0001 #, 0.001, 0.01, 0.1, 1]\n",
        "LassoReg = LassoCV(alphas = 0.1,cv = 54, random_state=1, tol =1).fit(X, y)"
      ],
      "execution_count": 47,
      "outputs": [
        {
          "output_type": "error",
          "ename": "TypeError",
          "evalue": "ignored",
          "traceback": [
            "\u001b[0;31m---------------------------------------------------------------------------\u001b[0m",
            "\u001b[0;31mTypeError\u001b[0m                                 Traceback (most recent call last)",
            "\u001b[0;32m<ipython-input-47-7735c43f0e64>\u001b[0m in \u001b[0;36m<module>\u001b[0;34m()\u001b[0m\n\u001b[1;32m      5\u001b[0m \u001b[0;31m# Ours ran on any # greater thna tha\u001b[0m\u001b[0;34m\u001b[0m\u001b[0;34m\u001b[0m\u001b[0;34m\u001b[0m\u001b[0m\n\u001b[1;32m      6\u001b[0m \u001b[0;31m#tols = [0.0001 #, 0.001, 0.01, 0.1, 1]\u001b[0m\u001b[0;34m\u001b[0m\u001b[0;34m\u001b[0m\u001b[0;34m\u001b[0m\u001b[0m\n\u001b[0;32m----> 7\u001b[0;31m \u001b[0mLassoReg\u001b[0m \u001b[0;34m=\u001b[0m \u001b[0mLassoCV\u001b[0m\u001b[0;34m(\u001b[0m\u001b[0malpha\u001b[0m \u001b[0;34m=\u001b[0m \u001b[0;36m0.1\u001b[0m\u001b[0;34m,\u001b[0m\u001b[0mcv\u001b[0m \u001b[0;34m=\u001b[0m \u001b[0;36m54\u001b[0m\u001b[0;34m,\u001b[0m \u001b[0mrandom_state\u001b[0m\u001b[0;34m=\u001b[0m\u001b[0;36m1\u001b[0m\u001b[0;34m,\u001b[0m \u001b[0mtol\u001b[0m \u001b[0;34m=\u001b[0m\u001b[0;36m1\u001b[0m\u001b[0;34m)\u001b[0m\u001b[0;34m.\u001b[0m\u001b[0mfit\u001b[0m\u001b[0;34m(\u001b[0m\u001b[0mX\u001b[0m\u001b[0;34m,\u001b[0m \u001b[0my\u001b[0m\u001b[0;34m)\u001b[0m\u001b[0;34m\u001b[0m\u001b[0;34m\u001b[0m\u001b[0m\n\u001b[0m",
            "\u001b[0;31mTypeError\u001b[0m: __init__() got an unexpected keyword argument 'alpha'"
          ]
        }
      ]
    },
    {
      "cell_type": "code",
      "metadata": {
        "colab": {
          "base_uri": "https://localhost:8080/",
          "height": 224
        },
        "id": "GpTGQvjvqzlZ",
        "outputId": "7dbfd47c-822a-4b5a-e324-25cfb7e29fbe"
      },
      "source": [
        "# Alpha scores\n",
        "# https://scipy-lectures.org/packages/scikit-learn/auto_examples/plot_linear_model_cv.html\n",
        "'''\n",
        "import numpy as np\n",
        "from matplotlib import pyplot as plt\n",
        "\n",
        "alphas = np.logspace(-3, -1, 30)\n",
        "\n",
        "plt.figure(figsize=(5, 3))\n",
        "\n",
        "for Model in [Lasso]:\n",
        "    scores = [cross_val_score(Model(alpha), X, y, cv=3).mean()\n",
        "            for alpha in alphas]\n",
        "    plt.plot(alphas, scores, label=Model.__name__)\n",
        "\n",
        "plt.legend(loc='lower left')\n",
        "plt.xlabel('alpha')\n",
        "plt.ylabel('cross validation score')\n",
        "plt.tight_layout()\n",
        "plt.show()"
      ],
      "execution_count": 70,
      "outputs": [
        {
          "output_type": "display_data",
          "data": {
            "image/png": "[encoded data removed]",
            "text/plain": [
              "<Figure size 360x216 with 1 Axes>"
            ]
          },
          "metadata": {
            "needs_background": "light"
          }
        }
      ]
    }
  ]
}